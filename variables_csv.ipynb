{
 "cells": [
  {
   "cell_type": "markdown",
   "metadata": {},
   "source": [
    "# Create Counterbalancing and Variables CSV for MTurk"
   ]
  },
  {
   "cell_type": "code",
   "execution_count": 12,
   "metadata": {},
   "outputs": [],
   "source": [
    "import csv\n",
    "import os\n",
    "import numpy as np\n",
    "import random\n",
    "import pandas as pd"
   ]
  },
  {
   "cell_type": "markdown",
   "metadata": {},
   "source": [
    "## Counterbalancing CSV"
   ]
  },
  {
   "cell_type": "code",
   "execution_count": 2,
   "metadata": {},
   "outputs": [],
   "source": [
    "discrim250_jsons_path = '/Users/prachimahableshwarkar/Documents/GW/Depth_MTurk/depth_discrimination/discrimination_sequences/randls_sequences/250ms/'\n",
    "discrim1000_jsons_path = '/Users/prachimahableshwarkar/Documents/GW/Depth_MTurk/depth_discrimination/discrimination_sequences/randls_sequences/1000ms/'\n",
    "\n",
    "VE250_jsons_path = '/Users/prachimahableshwarkar/Documents/GW/Depth_MTurk/depth_duration_analysis/randls_sequences/250ms/'\n",
    "VE1000_jsons_path = '/Users/prachimahableshwarkar/Documents/GW/Depth_MTurk/depth_duration_analysis/randls_sequences/1000ms/'"
   ]
  },
  {
   "cell_type": "code",
   "execution_count": 3,
   "metadata": {},
   "outputs": [],
   "source": [
    "d250_paths = []\n",
    "for d250 in os.listdir(discrim250_jsons_path):\n",
    "    if '.json' in d250:\n",
    "        d250_paths.append({'Path':'discrim_jsons/' + d250, 'Sampled': 0})\n",
    "\n",
    "d1000_paths = []\n",
    "for d1000 in os.listdir(discrim1000_jsons_path):\n",
    "    if '.json' in d1000:\n",
    "        d1000_paths.append({'Path':'discrim_jsons/' + d1000, 'Sampled': 0})"
   ]
  },
  {
   "cell_type": "code",
   "execution_count": 4,
   "metadata": {},
   "outputs": [],
   "source": [
    "VE250_paths = []\n",
    "for VE250 in os.listdir(VE250_jsons_path):\n",
    "    if '.json' in VE250:\n",
    "        VE250_paths.append({'Path':'jsons/' + VE250, 'Sampled': 0})\n",
    "\n",
    "VE1000_paths = []\n",
    "for VE1000 in os.listdir(VE1000_jsons_path):\n",
    "    if '.json' in VE1000:\n",
    "        VE1000_paths.append({'Path':'jsons/' + VE1000, 'Sampled': 0})"
   ]
  },
  {
   "cell_type": "code",
   "execution_count": 5,
   "metadata": {},
   "outputs": [],
   "source": [
    "# csv header\n",
    "fieldnames = ['Path', 'Sampled']\n",
    "\n",
    "# csv data\n",
    "rows = d250_paths + d1000_paths + VE250_paths + VE1000_paths\n",
    "\n",
    "with open('counterbalancing.csv', 'w', encoding='UTF8', newline='') as f:\n",
    "    writer = csv.DictWriter(f, fieldnames=fieldnames)\n",
    "    writer.writeheader()\n",
    "    writer.writerows(rows)"
   ]
  },
  {
   "cell_type": "markdown",
   "metadata": {},
   "source": [
    "## Variables CSV"
   ]
  },
  {
   "cell_type": "code",
   "execution_count": 6,
   "metadata": {},
   "outputs": [],
   "source": [
    "d250_indeces = np.arange(0,47)\n",
    "d1000_indeces = np.arange(47,94)\n",
    "VE250_indeces = np.arange(94, 142)\n",
    "VE1000_indeces = np.arange(142, 190)\n"
   ]
  },
  {
   "cell_type": "code",
   "execution_count": 7,
   "metadata": {},
   "outputs": [],
   "source": [
    "random.shuffle(d250_indeces)\n",
    "random.shuffle(d1000_indeces)\n",
    "random.shuffle(VE250_indeces)\n",
    "random.shuffle(VE1000_indeces)\n"
   ]
  },
  {
   "cell_type": "code",
   "execution_count": 8,
   "metadata": {},
   "outputs": [
    {
     "data": {
      "text/plain": [
       "(47, 48)"
      ]
     },
     "execution_count": 8,
     "metadata": {},
     "output_type": "execute_result"
    }
   ],
   "source": [
    "len(d250_indeces), len(VE250_indeces)"
   ]
  },
  {
   "cell_type": "code",
   "execution_count": 99,
   "metadata": {},
   "outputs": [],
   "source": [
    "d250_indeces = list(d250_indeces)\n",
    "d1000_indeces = list(d1000_indeces)\n",
    "VE250_indeces = list(VE250_indeces)\n",
    "VE1000_indeces = list(VE1000_indeces)\n",
    "\n",
    "d250_links = []\n",
    "d1000_links = []\n",
    "VE250_links = []\n",
    "VE1000_links = []\n",
    "\n",
    "for elem in d250_indeces:\n",
    "    link = 'http://54.173.230.142/FacialAge/BNav_EC2/DepthDuration/v2_depth_discrimination_MTurk/v2_DepthDiscrim_HTML.html#' + str(elem)\n",
    "    d250_links.append(link)\n",
    "    \n",
    "for elem in d1000_indeces:\n",
    "    link = 'http://54.173.230.142/FacialAge/BNav_EC2/DepthDuration/v2_depth_discrimination_MTurk/v2_DepthDiscrim_HTML.html#' + str(elem)\n",
    "    d1000_links.append(link)\n",
    "    \n",
    "for elem in VE250_indeces:\n",
    "    link = 'http://54.173.230.142/FacialAge/BNav_EC2/DepthDuration/v2_depth_duration_MTurk/v2_DepthDuration_HTML.html#' + str(elem)\n",
    "    VE250_links.append(link)\n",
    "    \n",
    "for elem in VE1000_indeces:\n",
    "    link = 'http://54.173.230.142/FacialAge/BNav_EC2/DepthDuration/v2_depth_duration_MTurk/v2_DepthDuration_HTML.html#' + str(elem)\n",
    "    VE1000_links.append(link)   \n",
    "    "
   ]
  },
  {
   "cell_type": "code",
   "execution_count": 100,
   "metadata": {},
   "outputs": [
    {
     "data": {
      "text/plain": [
       "(92,\n",
       " 'http://54.173.230.142/FacialAge/BNav_EC2/DepthDuration/v2_depth_discrimination_MTurk/v2_DepthDiscrim_HTML.html#15')"
      ]
     },
     "execution_count": 100,
     "metadata": {},
     "output_type": "execute_result"
    }
   ],
   "source": [
    "round1 = d250_links[:22] + d1000_links[:22] + VE250_links[:24] + VE1000_links[:24]\n",
    "len(round1), round1[0]\n"
   ]
  },
  {
   "cell_type": "code",
   "execution_count": 101,
   "metadata": {},
   "outputs": [],
   "source": [
    "# csv header\n",
    "fieldnames = ['experiment_url']\n",
    "var_rows = []\n",
    "\n",
    "random.shuffle(round1)\n",
    "\n",
    "for link in round1:\n",
    "    var_rows.append({'experiment_url':'' + str(link)})\n",
    "\n",
    "# csv data\n",
    "with open('matched_VE_Discrim_variables.csv', 'w', encoding='UTF8', newline='') as f:\n",
    "    writer = csv.DictWriter(f, fieldnames=fieldnames)\n",
    "    writer.writeheader()\n",
    "    writer.writerows(var_rows)"
   ]
  },
  {
   "cell_type": "code",
   "execution_count": null,
   "metadata": {},
   "outputs": [],
   "source": []
  },
  {
   "cell_type": "code",
   "execution_count": 10,
   "metadata": {},
   "outputs": [],
   "source": [
    "# round2 = d250_links[22:] + d1000_links[22:] + VE250_links[24:] + VE1000_links[24:]\n",
    "# len(round2)"
   ]
  },
  {
   "cell_type": "code",
   "execution_count": 24,
   "metadata": {},
   "outputs": [],
   "source": [
    "round1_variables_csv_path = '/Users/prachimahableshwarkar/Documents/GW/FacialAge/FacialAge_MTurk/BNav_EC2/DepthDuration/v2_depth_discrimination_MTurk/matched_VE_Discrim_variables.csv'\n",
    "counterbalancing_csv_path = '/Users/prachimahableshwarkar/Documents/GW/FacialAge/FacialAge_MTurk/BNav_EC2/DepthDuration/v2_depth_discrimination_MTurk/counterbalancing.csv'\n"
   ]
  },
  {
   "cell_type": "code",
   "execution_count": 27,
   "metadata": {},
   "outputs": [],
   "source": [
    "counterbalancing = pd.read_csv(counterbalancing_csv_path)\n",
    "paths = list(counterbalancing['Path'])"
   ]
  },
  {
   "cell_type": "code",
   "execution_count": 20,
   "metadata": {},
   "outputs": [],
   "source": [
    "variables_round1 = pd.read_csv(round1_variables_csv_path)\n",
    "urls_round1 = list(variables_round1['experiment_url'])\n"
   ]
  },
  {
   "cell_type": "code",
   "execution_count": 37,
   "metadata": {},
   "outputs": [
    {
     "data": {
      "text/plain": [
       "92"
      ]
     },
     "execution_count": 37,
     "metadata": {},
     "output_type": "execute_result"
    }
   ],
   "source": [
    "sampled = []\n",
    "for url in urls_round1:\n",
    "    num = url.split('#')[-1]\n",
    "    sampled.append(int(num))\n",
    "len(sampled)\n"
   ]
  },
  {
   "cell_type": "code",
   "execution_count": 44,
   "metadata": {},
   "outputs": [
    {
     "data": {
      "text/plain": [
       "98"
      ]
     },
     "execution_count": 44,
     "metadata": {},
     "output_type": "execute_result"
    }
   ],
   "source": [
    "all_fragments = list(np.arange(1,190))\n",
    "\n",
    "not_sampled = list(set(all_fragments) - set(sampled))\n",
    "len(not_sampled)"
   ]
  },
  {
   "cell_type": "code",
   "execution_count": 55,
   "metadata": {},
   "outputs": [
    {
     "data": {
      "text/plain": [
       "([2, 'discrim_jsons/Discrim250_randls_44.json'],\n",
       " [187, 'jsons/VE1000_randls_46.json'])"
      ]
     },
     "execution_count": 55,
     "metadata": {},
     "output_type": "execute_result"
    }
   ],
   "source": [
    "round2_paths = []\n",
    "for fragment in not_sampled:\n",
    "    round2_paths.append([fragment, paths[fragment]])\n",
    "round2_paths[0], round2_paths[-1]"
   ]
  },
  {
   "cell_type": "code",
   "execution_count": 60,
   "metadata": {},
   "outputs": [],
   "source": [
    "VE_link_base = 'http://54.173.230.142/FacialAge/BNav_EC2/DepthDuration/v2_depth_duration_MTurk/v2_DepthDuration_HTML.html#'\n",
    "\n",
    "Discrim_link_base = 'http://54.173.230.142/FacialAge/BNav_EC2/DepthDuration/v2_depth_discrimination_MTurk/v2_DepthDiscrim_HTML.html#'\n"
   ]
  },
  {
   "cell_type": "code",
   "execution_count": 61,
   "metadata": {},
   "outputs": [
    {
     "data": {
      "text/plain": [
       "('http://54.173.230.142/FacialAge/BNav_EC2/DepthDuration/v2_depth_discrimination_MTurk/v2_DepthDiscrim_HTML.html#2',\n",
       " 'http://54.173.230.142/FacialAge/BNav_EC2/DepthDuration/v2_depth_duration_MTurk/v2_DepthDuration_HTML.html#187')"
      ]
     },
     "execution_count": 61,
     "metadata": {},
     "output_type": "execute_result"
    }
   ],
   "source": [
    "round2_links = []\n",
    "\n",
    "for path in round2_paths:\n",
    "    if path[1].split('/')[0] == 'discrim_jsons':\n",
    "        link = Discrim_link_base + str(path[0])\n",
    "        round2_links.append(link)\n",
    "    else:\n",
    "        link = VE_link_base + str(path[0])\n",
    "        round2_links.append(link)\n",
    "\n",
    "round2_links[0], round2_links[-1]"
   ]
  },
  {
   "cell_type": "code",
   "execution_count": 62,
   "metadata": {},
   "outputs": [],
   "source": [
    "# csv header\n",
    "fieldnames = ['experiment_url']\n",
    "var_rows = []\n",
    "\n",
    "random.shuffle(round2_links)\n",
    "\n",
    "for link in round2_links:\n",
    "    var_rows.append({'experiment_url':'' + str(link)})\n",
    "\n",
    "# csv data\n",
    "with open('matched_VE_Discrim_variables_round2.csv', 'w', encoding='UTF8', newline='') as f:\n",
    "    writer = csv.DictWriter(f, fieldnames=fieldnames)\n",
    "    writer.writeheader()\n",
    "    writer.writerows(var_rows)"
   ]
  },
  {
   "cell_type": "code",
   "execution_count": null,
   "metadata": {},
   "outputs": [],
   "source": []
  }
 ],
 "metadata": {
  "kernelspec": {
   "display_name": "Python 3",
   "language": "python",
   "name": "python3"
  },
  "language_info": {
   "codemirror_mode": {
    "name": "ipython",
    "version": 3
   },
   "file_extension": ".py",
   "mimetype": "text/x-python",
   "name": "python",
   "nbconvert_exporter": "python",
   "pygments_lexer": "ipython3",
   "version": "3.7.5"
  }
 },
 "nbformat": 4,
 "nbformat_minor": 4
}
