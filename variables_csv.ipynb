{
 "cells": [
  {
   "cell_type": "markdown",
   "metadata": {},
   "source": [
    "# Create Counterbalancing and Variables CSV for MTurk"
   ]
  },
  {
   "cell_type": "code",
   "execution_count": 12,
   "metadata": {},
   "outputs": [],
   "source": [
    "import csv\n",
    "import os\n",
    "import numpy as np\n",
    "import random\n",
    "import pandas as pd"
   ]
  },
  {
   "cell_type": "markdown",
   "metadata": {},
   "source": [
    "## Counterbalancing CSV"
   ]
  },
  {
   "cell_type": "code",
   "execution_count": 2,
   "metadata": {},
   "outputs": [],
   "source": [
    "discrim250_jsons_path = '/Users/prachimahableshwarkar/Documents/GW/Depth_MTurk/depth_discrimination/discrimination_sequences/randls_sequences/250ms/'\n",
    "discrim1000_jsons_path = '/Users/prachimahableshwarkar/Documents/GW/Depth_MTurk/depth_discrimination/discrimination_sequences/randls_sequences/1000ms/'\n",
    "\n",
    "VE250_jsons_path = '/Users/prachimahableshwarkar/Documents/GW/Depth_MTurk/depth_duration_analysis/randls_sequences/250ms/'\n",
    "VE1000_jsons_path = '/Users/prachimahableshwarkar/Documents/GW/Depth_MTurk/depth_duration_analysis/randls_sequences/1000ms/'"
   ]
  },
  {
   "cell_type": "code",
   "execution_count": 3,
   "metadata": {},
   "outputs": [],
   "source": [
    "d250_paths = []\n",
    "for d250 in os.listdir(discrim250_jsons_path):\n",
    "    if '.json' in d250:\n",
    "        d250_paths.append({'Path':'discrim_jsons/' + d250, 'Sampled': 0})\n",
    "\n",
    "d1000_paths = []\n",
    "for d1000 in os.listdir(discrim1000_jsons_path):\n",
    "    if '.json' in d1000:\n",
    "        d1000_paths.append({'Path':'discrim_jsons/' + d1000, 'Sampled': 0})"
   ]
  },
  {
   "cell_type": "code",
   "execution_count": 4,
   "metadata": {},
   "outputs": [],
   "source": [
    "VE250_paths = []\n",
    "for VE250 in os.listdir(VE250_jsons_path):\n",
    "    if '.json' in VE250:\n",
    "        VE250_paths.append({'Path':'jsons/' + VE250, 'Sampled': 0})\n",
    "\n",
    "VE1000_paths = []\n",
    "for VE1000 in os.listdir(VE1000_jsons_path):\n",
    "    if '.json' in VE1000:\n",
    "        VE1000_paths.append({'Path':'jsons/' + VE1000, 'Sampled': 0})"
   ]
  },
  {
   "cell_type": "code",
   "execution_count": 5,
   "metadata": {},
   "outputs": [],
   "source": [
    "# csv header\n",
    "fieldnames = ['Path', 'Sampled']\n",
    "\n",
    "# csv data\n",
    "rows = d250_paths + d1000_paths + VE250_paths + VE1000_paths\n",
    "\n",
    "with open('counterbalancing.csv', 'w', encoding='UTF8', newline='') as f:\n",
    "    writer = csv.DictWriter(f, fieldnames=fieldnames)\n",
    "    writer.writeheader()\n",
    "    writer.writerows(rows)"
   ]
  },
  {
   "cell_type": "markdown",
   "metadata": {},
   "source": [
    "## Variables CSV"
   ]
  },
  {
   "cell_type": "code",
   "execution_count": 6,
   "metadata": {},
   "outputs": [],
   "source": [
    "d250_indeces = np.arange(0,47)\n",
    "d1000_indeces = np.arange(47,94)\n",
    "VE250_indeces = np.arange(94, 142)\n",
    "VE1000_indeces = np.arange(142, 190)\n"
   ]
  },
  {
   "cell_type": "code",
   "execution_count": 7,
   "metadata": {},
   "outputs": [],
   "source": [
    "random.shuffle(d250_indeces)\n",
    "random.shuffle(d1000_indeces)\n",
    "random.shuffle(VE250_indeces)\n",
    "random.shuffle(VE1000_indeces)\n"
   ]
  },
  {
   "cell_type": "code",
   "execution_count": 8,
   "metadata": {},
   "outputs": [
    {
     "data": {
      "text/plain": [
       "(47, 48)"
      ]
     },
     "execution_count": 8,
     "metadata": {},
     "output_type": "execute_result"
    }
   ],
   "source": [
    "len(d250_indeces), len(VE250_indeces)"
   ]
  },
  {
   "cell_type": "code",
   "execution_count": 99,
   "metadata": {},
   "outputs": [],
   "source": [
    "d250_indeces = list(d250_indeces)\n",
    "d1000_indeces = list(d1000_indeces)\n",
    "VE250_indeces = list(VE250_indeces)\n",
    "VE1000_indeces = list(VE1000_indeces)\n",
    "\n",
    "d250_links = []\n",
    "d1000_links = []\n",
    "VE250_links = []\n",
    "VE1000_links = []\n",
    "\n",
    "for elem in d250_indeces:\n",
    "    link = 'http://54.173.230.142/FacialAge/BNav_EC2/DepthDuration/v2_depth_discrimination_MTurk/v2_DepthDiscrim_HTML.html#' + str(elem)\n",
    "    d250_links.append(link)\n",
    "    \n",
    "for elem in d1000_indeces:\n",
    "    link = 'http://54.173.230.142/FacialAge/BNav_EC2/DepthDuration/v2_depth_discrimination_MTurk/v2_DepthDiscrim_HTML.html#' + str(elem)\n",
    "    d1000_links.append(link)\n",
    "    \n",
    "for elem in VE250_indeces:\n",
    "    link = 'http://54.173.230.142/FacialAge/BNav_EC2/DepthDuration/v2_depth_duration_MTurk/v2_DepthDuration_HTML.html#' + str(elem)\n",
    "    VE250_links.append(link)\n",
    "    \n",
    "for elem in VE1000_indeces:\n",
    "    link = 'http://54.173.230.142/FacialAge/BNav_EC2/DepthDuration/v2_depth_duration_MTurk/v2_DepthDuration_HTML.html#' + str(elem)\n",
    "    VE1000_links.append(link)   \n",
    "    "
   ]
  },
  {
   "cell_type": "code",
   "execution_count": 100,
   "metadata": {},
   "outputs": [
    {
     "data": {
      "text/plain": [
       "(92,\n",
       " 'http://54.173.230.142/FacialAge/BNav_EC2/DepthDuration/v2_depth_discrimination_MTurk/v2_DepthDiscrim_HTML.html#15')"
      ]
     },
     "execution_count": 100,
     "metadata": {},
     "output_type": "execute_result"
    }
   ],
   "source": [
    "round1 = d250_links[:22] + d1000_links[:22] + VE250_links[:24] + VE1000_links[:24]\n",
    "len(round1), round1[0]\n"
   ]
  },
  {
   "cell_type": "code",
   "execution_count": 101,
   "metadata": {},
   "outputs": [],
   "source": [
    "# csv header\n",
    "fieldnames = ['experiment_url']\n",
    "var_rows = []\n",
    "\n",
    "random.shuffle(round1)\n",
    "\n",
    "for link in round1:\n",
    "    var_rows.append({'experiment_url':'' + str(link)})\n",
    "\n",
    "# csv data\n",
    "with open('matched_VE_Discrim_variables.csv', 'w', encoding='UTF8', newline='') as f:\n",
    "    writer = csv.DictWriter(f, fieldnames=fieldnames)\n",
    "    writer.writeheader()\n",
    "    writer.writerows(var_rows)"
   ]
  },
  {
   "cell_type": "code",
   "execution_count": null,
   "metadata": {},
   "outputs": [],
   "source": []
  },
  {
   "cell_type": "code",
   "execution_count": 10,
   "metadata": {},
   "outputs": [],
   "source": [
    "# round2 = d250_links[22:] + d1000_links[22:] + VE250_links[24:] + VE1000_links[24:]\n",
    "# len(round2)"
   ]
  },
  {
   "cell_type": "code",
   "execution_count": 24,
   "metadata": {},
   "outputs": [],
   "source": [
    "round1_variables_csv_path = '/Users/prachimahableshwarkar/Documents/GW/FacialAge/FacialAge_MTurk/BNav_EC2/DepthDuration/v2_depth_discrimination_MTurk/matched_VE_Discrim_variables.csv'\n",
    "counterbalancing_csv_path = '/Users/prachimahableshwarkar/Documents/GW/FacialAge/FacialAge_MTurk/BNav_EC2/DepthDuration/v2_depth_discrimination_MTurk/counterbalancing.csv'\n"
   ]
  },
  {
   "cell_type": "code",
   "execution_count": 27,
   "metadata": {},
   "outputs": [],
   "source": [
    "counterbalancing = pd.read_csv(counterbalancing_csv_path)\n",
    "paths = list(counterbalancing['Path'])"
   ]
  },
  {
   "cell_type": "code",
   "execution_count": 20,
   "metadata": {},
   "outputs": [],
   "source": [
    "variables_round1 = pd.read_csv(round1_variables_csv_path)\n",
    "urls_round1 = list(variables_round1['experiment_url'])\n"
   ]
  },
  {
   "cell_type": "code",
   "execution_count": 37,
   "metadata": {},
   "outputs": [
    {
     "data": {
      "text/plain": [
       "92"
      ]
     },
     "execution_count": 37,
     "metadata": {},
     "output_type": "execute_result"
    }
   ],
   "source": [
    "sampled = []\n",
    "for url in urls_round1:\n",
    "    num = url.split('#')[-1]\n",
    "    sampled.append(int(num))\n",
    "len(sampled)\n"
   ]
  },
  {
   "cell_type": "code",
   "execution_count": 44,
   "metadata": {},
   "outputs": [
    {
     "data": {
      "text/plain": [
       "98"
      ]
     },
     "execution_count": 44,
     "metadata": {},
     "output_type": "execute_result"
    }
   ],
   "source": [
    "all_fragments = list(np.arange(1,190))\n",
    "\n",
    "not_sampled = list(set(all_fragments) - set(sampled))\n",
    "len(not_sampled)"
   ]
  },
  {
   "cell_type": "code",
   "execution_count": 55,
   "metadata": {},
   "outputs": [
    {
     "data": {
      "text/plain": [
       "([2, 'discrim_jsons/Discrim250_randls_44.json'],\n",
       " [187, 'jsons/VE1000_randls_46.json'])"
      ]
     },
     "execution_count": 55,
     "metadata": {},
     "output_type": "execute_result"
    }
   ],
   "source": [
    "round2_paths = []\n",
    "for fragment in not_sampled:\n",
    "    round2_paths.append([fragment, paths[fragment]])\n",
    "round2_paths[0], round2_paths[-1]"
   ]
  },
  {
   "cell_type": "code",
   "execution_count": 60,
   "metadata": {},
   "outputs": [],
   "source": [
    "VE_link_base = 'http://54.173.230.142/FacialAge/BNav_EC2/DepthDuration/v2_depth_duration_MTurk/v2_DepthDuration_HTML.html#'\n",
    "\n",
    "Discrim_link_base = 'http://54.173.230.142/FacialAge/BNav_EC2/DepthDuration/v2_depth_discrimination_MTurk/v2_DepthDiscrim_HTML.html#'\n"
   ]
  },
  {
   "cell_type": "code",
   "execution_count": 61,
   "metadata": {},
   "outputs": [
    {
     "data": {
      "text/plain": [
       "('http://54.173.230.142/FacialAge/BNav_EC2/DepthDuration/v2_depth_discrimination_MTurk/v2_DepthDiscrim_HTML.html#2',\n",
       " 'http://54.173.230.142/FacialAge/BNav_EC2/DepthDuration/v2_depth_duration_MTurk/v2_DepthDuration_HTML.html#187')"
      ]
     },
     "execution_count": 61,
     "metadata": {},
     "output_type": "execute_result"
    }
   ],
   "source": [
    "round2_links = []\n",
    "\n",
    "for path in round2_paths:\n",
    "    if path[1].split('/')[0] == 'discrim_jsons':\n",
    "        link = Discrim_link_base + str(path[0])\n",
    "        round2_links.append(link)\n",
    "    else:\n",
    "        link = VE_link_base + str(path[0])\n",
    "        round2_links.append(link)\n",
    "\n",
    "round2_links[0], round2_links[-1]"
   ]
  },
  {
   "cell_type": "code",
   "execution_count": 62,
   "metadata": {},
   "outputs": [],
   "source": [
    "# csv header\n",
    "fieldnames = ['experiment_url']\n",
    "var_rows = []\n",
    "\n",
    "random.shuffle(round2_links)\n",
    "\n",
    "for link in round2_links:\n",
    "    var_rows.append({'experiment_url':'' + str(link)})\n",
    "\n",
    "# csv data\n",
    "with open('matched_VE_Discrim_variables_round2.csv', 'w', encoding='UTF8', newline='') as f:\n",
    "    writer = csv.DictWriter(f, fieldnames=fieldnames)\n",
    "    writer.writeheader()\n",
    "    writer.writerows(var_rows)"
   ]
  },
  {
   "cell_type": "code",
   "execution_count": 65,
   "metadata": {},
   "outputs": [],
   "source": [
    "completed_discrim = ['http://54.173.230.142/FacialAge/BNav_EC2/DepthDuration/v2_depth_discrimination_MTurk/v2_DepthDiscrim_HTML.html#32',\n",
    "       'http://54.173.230.142/FacialAge/BNav_EC2/DepthDuration/v2_depth_discrimination_MTurk/v2_DepthDiscrim_HTML.html#72',\n",
    "       'http://54.173.230.142/FacialAge/BNav_EC2/DepthDuration/v2_depth_discrimination_MTurk/v2_DepthDiscrim_HTML.html#43',\n",
    "       'http://54.173.230.142/FacialAge/BNav_EC2/DepthDuration/v2_depth_discrimination_MTurk/v2_DepthDiscrim_HTML.html#74',\n",
    "       'http://54.173.230.142/FacialAge/BNav_EC2/DepthDuration/v2_depth_discrimination_MTurk/v2_DepthDiscrim_HTML.html#9',\n",
    "       'http://54.173.230.142/FacialAge/BNav_EC2/DepthDuration/v2_depth_discrimination_MTurk/v2_DepthDiscrim_HTML.html#64',\n",
    "       'http://54.173.230.142/FacialAge/BNav_EC2/DepthDuration/v2_depth_discrimination_MTurk/v2_DepthDiscrim_HTML.html#81',\n",
    "       'http://54.173.230.142/FacialAge/BNav_EC2/DepthDuration/v2_depth_discrimination_MTurk/v2_DepthDiscrim_HTML.html#62',\n",
    "       'http://54.173.230.142/FacialAge/BNav_EC2/DepthDuration/v2_depth_discrimination_MTurk/v2_DepthDiscrim_HTML.html#18',\n",
    "       'http://54.173.230.142/FacialAge/BNav_EC2/DepthDuration/v2_depth_discrimination_MTurk/v2_DepthDiscrim_HTML.html#91',\n",
    "       'http://54.173.230.142/FacialAge/BNav_EC2/DepthDuration/v2_depth_discrimination_MTurk/v2_DepthDiscrim_HTML.html#35',\n",
    "       'http://54.173.230.142/FacialAge/BNav_EC2/DepthDuration/v2_depth_discrimination_MTurk/v2_DepthDiscrim_HTML.html#12',\n",
    "       'http://54.173.230.142/FacialAge/BNav_EC2/DepthDuration/v2_depth_discrimination_MTurk/v2_DepthDiscrim_HTML.html#25',\n",
    "       'http://54.173.230.142/FacialAge/BNav_EC2/DepthDuration/v2_depth_discrimination_MTurk/v2_DepthDiscrim_HTML.html#47',\n",
    "       'http://54.173.230.142/FacialAge/BNav_EC2/DepthDuration/v2_depth_discrimination_MTurk/v2_DepthDiscrim_HTML.html#52',\n",
    "       'http://54.173.230.142/FacialAge/BNav_EC2/DepthDuration/v2_depth_discrimination_MTurk/v2_DepthDiscrim_HTML.html#90',\n",
    "       'http://54.173.230.142/FacialAge/BNav_EC2/DepthDuration/v2_depth_discrimination_MTurk/v2_DepthDiscrim_HTML.html#28',\n",
    "       'http://54.173.230.142/FacialAge/BNav_EC2/DepthDuration/v2_depth_discrimination_MTurk/v2_DepthDiscrim_HTML.html#26',\n",
    "       'http://54.173.230.142/FacialAge/BNav_EC2/DepthDuration/v2_depth_discrimination_MTurk/v2_DepthDiscrim_HTML.html#83',\n",
    "       'http://54.173.230.142/FacialAge/BNav_EC2/DepthDuration/v2_depth_discrimination_MTurk/v2_DepthDiscrim_HTML.html#5',\n",
    "       'http://54.173.230.142/FacialAge/BNav_EC2/DepthDuration/v2_depth_discrimination_MTurk/v2_DepthDiscrim_HTML.html#49',\n",
    "       'http://54.173.230.142/FacialAge/BNav_EC2/DepthDuration/v2_depth_discrimination_MTurk/v2_DepthDiscrim_HTML.html#15',\n",
    "       'http://54.173.230.142/FacialAge/BNav_EC2/DepthDuration/v2_depth_discrimination_MTurk/v2_DepthDiscrim_HTML.html#84',\n",
    "       'http://54.173.230.142/FacialAge/BNav_EC2/DepthDuration/v2_depth_discrimination_MTurk/v2_DepthDiscrim_HTML.html#55',\n",
    "       'http://54.173.230.142/FacialAge/BNav_EC2/DepthDuration/v2_depth_discrimination_MTurk/v2_DepthDiscrim_HTML.html#80',\n",
    "       'http://54.173.230.142/FacialAge/BNav_EC2/DepthDuration/v2_depth_discrimination_MTurk/v2_DepthDiscrim_HTML.html#87',\n",
    "       'http://54.173.230.142/FacialAge/BNav_EC2/DepthDuration/v2_depth_discrimination_MTurk/v2_DepthDiscrim_HTML.html#21',\n",
    "       'http://54.173.230.142/FacialAge/BNav_EC2/DepthDuration/v2_depth_discrimination_MTurk/v2_DepthDiscrim_HTML.html#60',\n",
    "       'http://54.173.230.142/FacialAge/BNav_EC2/DepthDuration/v2_depth_discrimination_MTurk/v2_DepthDiscrim_HTML.html#42',\n",
    "       'http://54.173.230.142/FacialAge/BNav_EC2/DepthDuration/v2_depth_discrimination_MTurk/v2_DepthDiscrim_HTML.html#66',\n",
    "       'http://54.173.230.142/FacialAge/BNav_EC2/DepthDuration/v2_depth_discrimination_MTurk/v2_DepthDiscrim_HTML.html#58',\n",
    "       'http://54.173.230.142/FacialAge/BNav_EC2/DepthDuration/v2_depth_discrimination_MTurk/v2_DepthDiscrim_HTML.html#37',\n",
    "       'http://54.173.230.142/FacialAge/BNav_EC2/DepthDuration/v2_depth_discrimination_MTurk/v2_DepthDiscrim_HTML.html#73',\n",
    "       'http://54.173.230.142/FacialAge/BNav_EC2/DepthDuration/v2_depth_discrimination_MTurk/v2_DepthDiscrim_HTML.html#45',\n",
    "       'http://54.173.230.142/FacialAge/BNav_EC2/DepthDuration/v2_depth_discrimination_MTurk/v2_DepthDiscrim_HTML.html#65',\n",
    "       'http://54.173.230.142/FacialAge/BNav_EC2/DepthDuration/v2_depth_discrimination_MTurk/v2_DepthDiscrim_HTML.html#7',\n",
    "       'http://54.173.230.142/FacialAge/BNav_EC2/DepthDuration/v2_depth_discrimination_MTurk/v2_DepthDiscrim_HTML.html#8',\n",
    "       'http://54.173.230.142/FacialAge/BNav_EC2/DepthDuration/v2_depth_discrimination_MTurk/v2_DepthDiscrim_HTML.html#85',\n",
    "       'http://54.173.230.142/FacialAge/BNav_EC2/DepthDuration/v2_depth_discrimination_MTurk/v2_DepthDiscrim_HTML.html#22',\n",
    "       'http://54.173.230.142/FacialAge/BNav_EC2/DepthDuration/v2_depth_discrimination_MTurk/v2_DepthDiscrim_HTML.html#61',\n",
    "       'http://54.173.230.142/FacialAge/BNav_EC2/DepthDuration/v2_depth_discrimination_MTurk/v2_DepthDiscrim_HTML.html#79',\n",
    "       'http://54.173.230.142/FacialAge/BNav_EC2/DepthDuration/v2_depth_discrimination_MTurk/v2_DepthDiscrim_HTML.html#10',\n",
    "       'http://54.173.230.142/FacialAge/BNav_EC2/DepthDuration/v2_depth_discrimination_MTurk/v2_DepthDiscrim_HTML.html#93',\n",
    "       'http://54.173.230.142/FacialAge/BNav_EC2/DepthDuration/v2_depth_discrimination_MTurk/v2_DepthDiscrim_HTML.html#34',\n",
    "       'http://54.173.230.142/FacialAge/BNav_EC2/DepthDuration/v2_depth_discrimination_MTurk/v2_DepthDiscrim_HTML.html#71',\n",
    "       'http://54.173.230.142/FacialAge/BNav_EC2/DepthDuration/v2_depth_discrimination_MTurk/v2_DepthDiscrim_HTML.html#38',\n",
    "       'http://54.173.230.142/FacialAge/BNav_EC2/DepthDuration/v2_depth_discrimination_MTurk/v2_DepthDiscrim_HTML.html#44',\n",
    "       'http://54.173.230.142/FacialAge/BNav_EC2/DepthDuration/v2_depth_discrimination_MTurk/v2_DepthDiscrim_HTML.html#69',\n",
    "       'http://54.173.230.142/FacialAge/BNav_EC2/DepthDuration/v2_depth_discrimination_MTurk/v2_DepthDiscrim_HTML.html#23',\n",
    "       'http://54.173.230.142/FacialAge/BNav_EC2/DepthDuration/v2_depth_discrimination_MTurk/v2_DepthDiscrim_HTML.html#59',\n",
    "       'http://54.173.230.142/FacialAge/BNav_EC2/DepthDuration/v2_depth_discrimination_MTurk/v2_DepthDiscrim_HTML.html#78',\n",
    "       'http://54.173.230.142/FacialAge/BNav_EC2/DepthDuration/v2_depth_discrimination_MTurk/v2_DepthDiscrim_HTML.html#2']\n",
    "\n",
    "completed_VE = ['http://54.173.230.142/FacialAge/BNav_EC2/DepthDuration/v2_depth_duration_MTurk/v2_DepthDuration_HTML.html#111',\n",
    "       'http://54.173.230.142/FacialAge/BNav_EC2/DepthDuration/v2_depth_duration_MTurk/v2_DepthDuration_HTML.html#187',\n",
    "       'http://54.173.230.142/FacialAge/BNav_EC2/DepthDuration/v2_depth_duration_MTurk/v2_DepthDuration_HTML.html#117',\n",
    "       'http://54.173.230.142/FacialAge/BNav_EC2/DepthDuration/v2_depth_duration_MTurk/v2_DepthDuration_HTML.html#180',\n",
    "       'http://54.173.230.142/FacialAge/BNav_EC2/DepthDuration/v2_depth_duration_MTurk/v2_DepthDuration_HTML.html#144',\n",
    "       'http://54.173.230.142/FacialAge/BNav_EC2/DepthDuration/v2_depth_duration_MTurk/v2_DepthDuration_HTML.html#164',\n",
    "       'http://54.173.230.142/FacialAge/BNav_EC2/DepthDuration/v2_depth_duration_MTurk/v2_DepthDuration_HTML.html#169',\n",
    "       'http://54.173.230.142/FacialAge/BNav_EC2/DepthDuration/v2_depth_duration_MTurk/v2_DepthDuration_HTML.html#115',\n",
    "       'http://54.173.230.142/FacialAge/BNav_EC2/DepthDuration/v2_depth_duration_MTurk/v2_DepthDuration_HTML.html#125',\n",
    "       'http://54.173.230.142/FacialAge/BNav_EC2/DepthDuration/v2_depth_duration_MTurk/v2_DepthDuration_HTML.html#136',\n",
    "       'http://54.173.230.142/FacialAge/BNav_EC2/DepthDuration/v2_depth_duration_MTurk/v2_DepthDuration_HTML.html#118',\n",
    "       'http://54.173.230.142/FacialAge/BNav_EC2/DepthDuration/v2_depth_duration_MTurk/v2_DepthDuration_HTML.html#96',\n",
    "       'http://54.173.230.142/FacialAge/BNav_EC2/DepthDuration/v2_depth_duration_MTurk/v2_DepthDuration_HTML.html#141',\n",
    "       'http://54.173.230.142/FacialAge/BNav_EC2/DepthDuration/v2_depth_duration_MTurk/v2_DepthDuration_HTML.html#131',\n",
    "       'http://54.173.230.142/FacialAge/BNav_EC2/DepthDuration/v2_depth_duration_MTurk/v2_DepthDuration_HTML.html#134',\n",
    "       'http://54.173.230.142/FacialAge/BNav_EC2/DepthDuration/v2_depth_duration_MTurk/v2_DepthDuration_HTML.html#167',\n",
    "       'http://54.173.230.142/FacialAge/BNav_EC2/DepthDuration/v2_depth_duration_MTurk/v2_DepthDuration_HTML.html#172',\n",
    "       'http://54.173.230.142/FacialAge/BNav_EC2/DepthDuration/v2_depth_duration_MTurk/v2_DepthDuration_HTML.html#151',\n",
    "       'http://54.173.230.142/FacialAge/BNav_EC2/DepthDuration/v2_depth_duration_MTurk/v2_DepthDuration_HTML.html#146',\n",
    "       'http://54.173.230.142/FacialAge/BNav_EC2/DepthDuration/v2_depth_duration_MTurk/v2_DepthDuration_HTML.html#165',\n",
    "       'http://54.173.230.142/FacialAge/BNav_EC2/DepthDuration/v2_depth_duration_MTurk/v2_DepthDuration_HTML.html#150',\n",
    "       'http://54.173.230.142/FacialAge/BNav_EC2/DepthDuration/v2_depth_duration_MTurk/v2_DepthDuration_HTML.html#113',\n",
    "       'http://54.173.230.142/FacialAge/BNav_EC2/DepthDuration/v2_depth_duration_MTurk/v2_DepthDuration_HTML.html#175',\n",
    "       'http://54.173.230.142/FacialAge/BNav_EC2/DepthDuration/v2_depth_duration_MTurk/v2_DepthDuration_HTML.html#183',\n",
    "       'http://54.173.230.142/FacialAge/BNav_EC2/DepthDuration/v2_depth_duration_MTurk/v2_DepthDuration_HTML.html#185',\n",
    "       'http://54.173.230.142/FacialAge/BNav_EC2/DepthDuration/v2_depth_duration_MTurk/v2_DepthDuration_HTML.html#135',\n",
    "       'http://54.173.230.142/FacialAge/BNav_EC2/DepthDuration/v2_depth_duration_MTurk/v2_DepthDuration_HTML.html#171',\n",
    "       'http://54.173.230.142/FacialAge/BNav_EC2/DepthDuration/v2_depth_duration_MTurk/v2_DepthDuration_HTML.html#128',\n",
    "       'http://54.173.230.142/FacialAge/BNav_EC2/DepthDuration/v2_depth_duration_MTurk/v2_DepthDuration_HTML.html#104',\n",
    "       'http://54.173.230.142/FacialAge/BNav_EC2/DepthDuration/v2_depth_duration_MTurk/v2_DepthDuration_HTML.html#159',\n",
    "       'http://54.173.230.142/FacialAge/BNav_EC2/DepthDuration/v2_depth_duration_MTurk/v2_DepthDuration_HTML.html#140',\n",
    "       'http://54.173.230.142/FacialAge/BNav_EC2/DepthDuration/v2_depth_duration_MTurk/v2_DepthDuration_HTML.html#142',\n",
    "       'http://54.173.230.142/FacialAge/BNav_EC2/DepthDuration/v2_depth_duration_MTurk/v2_DepthDuration_HTML.html#139',\n",
    "       'http://54.173.230.142/FacialAge/BNav_EC2/DepthDuration/v2_depth_duration_MTurk/v2_DepthDuration_HTML.html#97',\n",
    "       'http://54.173.230.142/FacialAge/BNav_EC2/DepthDuration/v2_depth_duration_MTurk/v2_DepthDuration_HTML.html#154',\n",
    "       'http://54.173.230.142/FacialAge/BNav_EC2/DepthDuration/v2_depth_duration_MTurk/v2_DepthDuration_HTML.html#179',\n",
    "       'http://54.173.230.142/FacialAge/BNav_EC2/DepthDuration/v2_depth_duration_MTurk/v2_DepthDuration_HTML.html#157',\n",
    "       'http://54.173.230.142/FacialAge/BNav_EC2/DepthDuration/v2_depth_duration_MTurk/v2_DepthDuration_HTML.html#121',\n",
    "       'http://54.173.230.142/FacialAge/BNav_EC2/DepthDuration/v2_depth_duration_MTurk/v2_DepthDuration_HTML.html#181',\n",
    "       'http://54.173.230.142/FacialAge/BNav_EC2/DepthDuration/v2_depth_duration_MTurk/v2_DepthDuration_HTML.html#158',\n",
    "       'http://54.173.230.142/FacialAge/BNav_EC2/DepthDuration/v2_depth_duration_MTurk/v2_DepthDuration_HTML.html#129',\n",
    "       'http://54.173.230.142/FacialAge/BNav_EC2/DepthDuration/v2_depth_duration_MTurk/v2_DepthDuration_HTML.html#168',\n",
    "       'http://54.173.230.142/FacialAge/BNav_EC2/DepthDuration/v2_depth_duration_MTurk/v2_DepthDuration_HTML.html#188',\n",
    "       'http://54.173.230.142/FacialAge/BNav_EC2/DepthDuration/v2_depth_duration_MTurk/v2_DepthDuration_HTML.html#186',\n",
    "       'http://54.173.230.142/FacialAge/BNav_EC2/DepthDuration/v2_depth_duration_MTurk/v2_DepthDuration_HTML.html#112',\n",
    "       'http://54.173.230.142/FacialAge/BNav_EC2/DepthDuration/v2_depth_duration_MTurk/v2_DepthDuration_HTML.html#149',\n",
    "       'http://54.173.230.142/FacialAge/BNav_EC2/DepthDuration/v2_depth_duration_MTurk/v2_DepthDuration_HTML.html#189',\n",
    "       'http://54.173.230.142/FacialAge/BNav_EC2/DepthDuration/v2_depth_duration_MTurk/v2_DepthDuration_HTML.html#123',\n",
    "       'http://54.173.230.142/FacialAge/BNav_EC2/DepthDuration/v2_depth_duration_MTurk/v2_DepthDuration_HTML.html#152',\n",
    "       'http://54.173.230.142/FacialAge/BNav_EC2/DepthDuration/v2_depth_duration_MTurk/v2_DepthDuration_HTML.html#162',\n",
    "       'http://54.173.230.142/FacialAge/BNav_EC2/DepthDuration/v2_depth_duration_MTurk/v2_DepthDuration_HTML.html#153',\n",
    "       'http://54.173.230.142/FacialAge/BNav_EC2/DepthDuration/v2_depth_duration_MTurk/v2_DepthDuration_HTML.html#184',\n",
    "       'http://54.173.230.142/FacialAge/BNav_EC2/DepthDuration/v2_depth_duration_MTurk/v2_DepthDuration_HTML.html#99',\n",
    "       'http://54.173.230.142/FacialAge/BNav_EC2/DepthDuration/v2_depth_duration_MTurk/v2_DepthDuration_HTML.html#108',\n",
    "       'http://54.173.230.142/FacialAge/BNav_EC2/DepthDuration/v2_depth_duration_MTurk/v2_DepthDuration_HTML.html#148',\n",
    "       'http://54.173.230.142/FacialAge/BNav_EC2/DepthDuration/v2_depth_duration_MTurk/v2_DepthDuration_HTML.html#130',\n",
    "       'http://54.173.230.142/FacialAge/BNav_EC2/DepthDuration/v2_depth_duration_MTurk/v2_DepthDuration_HTML.html#147',\n",
    "       'http://54.173.230.142/FacialAge/BNav_EC2/DepthDuration/v2_depth_duration_MTurk/v2_DepthDuration_HTML.html#105',\n",
    "       'http://54.173.230.142/FacialAge/BNav_EC2/DepthDuration/v2_depth_duration_MTurk/v2_DepthDuration_HTML.html#178',\n",
    "       'http://54.173.230.142/FacialAge/BNav_EC2/DepthDuration/v2_depth_duration_MTurk/v2_DepthDuration_HTML.html#95',\n",
    "       'http://54.173.230.142/FacialAge/BNav_EC2/DepthDuration/v2_depth_duration_MTurk/v2_DepthDuration_HTML.html#101',\n",
    "       'http://54.173.230.142/FacialAge/BNav_EC2/DepthDuration/v2_depth_duration_MTurk/v2_DepthDuration_HTML.html#107',\n",
    "       'http://54.173.230.142/FacialAge/BNav_EC2/DepthDuration/v2_depth_duration_MTurk/v2_DepthDuration_HTML.html#156',\n",
    "       'http://54.173.230.142/FacialAge/BNav_EC2/DepthDuration/v2_depth_duration_MTurk/v2_DepthDuration_HTML.html#119',\n",
    "       'http://54.173.230.142/FacialAge/BNav_EC2/DepthDuration/v2_depth_duration_MTurk/v2_DepthDuration_HTML.html#132',\n",
    "       'http://54.173.230.142/FacialAge/BNav_EC2/DepthDuration/v2_depth_duration_MTurk/v2_DepthDuration_HTML.html#174',\n",
    "       'http://54.173.230.142/FacialAge/BNav_EC2/DepthDuration/v2_depth_duration_MTurk/v2_DepthDuration_HTML.html#124',\n",
    "       'http://54.173.230.142/FacialAge/BNav_EC2/DepthDuration/v2_depth_duration_MTurk/v2_DepthDuration_HTML.html#145',\n",
    "       'http://54.173.230.142/FacialAge/BNav_EC2/DepthDuration/v2_depth_duration_MTurk/v2_DepthDuration_HTML.html#102',\n",
    "       'http://54.173.230.142/FacialAge/BNav_EC2/DepthDuration/v2_depth_duration_MTurk/v2_DepthDuration_HTML.html#103',\n",
    "       'http://54.173.230.142/FacialAge/BNav_EC2/DepthDuration/v2_depth_duration_MTurk/v2_DepthDuration_HTML.html#155',\n",
    "       'http://54.173.230.142/FacialAge/BNav_EC2/DepthDuration/v2_depth_duration_MTurk/v2_DepthDuration_HTML.html#163',\n",
    "       'http://54.173.230.142/FacialAge/BNav_EC2/DepthDuration/v2_depth_duration_MTurk/v2_DepthDuration_HTML.html#161',\n",
    "       'http://54.173.230.142/FacialAge/BNav_EC2/DepthDuration/v2_depth_duration_MTurk/v2_DepthDuration_HTML.html#143',\n",
    "       'http://54.173.230.142/FacialAge/BNav_EC2/DepthDuration/v2_depth_duration_MTurk/v2_DepthDuration_HTML.html#114',\n",
    "       'http://54.173.230.142/FacialAge/BNav_EC2/DepthDuration/v2_depth_duration_MTurk/v2_DepthDuration_HTML.html#116',\n",
    "       'http://54.173.230.142/FacialAge/BNav_EC2/DepthDuration/v2_depth_duration_MTurk/v2_DepthDuration_HTML.html#106',\n",
    "       'http://54.173.230.142/FacialAge/BNav_EC2/DepthDuration/v2_depth_duration_MTurk/v2_DepthDuration_HTML.html#120',\n",
    "       'http://54.173.230.142/FacialAge/BNav_EC2/DepthDuration/v2_depth_duration_MTurk/v2_DepthDuration_HTML.html#127']"
   ]
  },
  {
   "cell_type": "code",
   "execution_count": 68,
   "metadata": {},
   "outputs": [
    {
     "data": {
      "text/plain": [
       "131"
      ]
     },
     "execution_count": 68,
     "metadata": {},
     "output_type": "execute_result"
    }
   ],
   "source": [
    "sampled_round2 = []\n",
    "urls_sampled_round2 = completed_VE + completed_discrim\n",
    "for url in urls_sampled_round2:\n",
    "    num = url.split('#')[-1]\n",
    "    sampled_round2.append(int(num))\n",
    "len(sampled_round2)"
   ]
  },
  {
   "cell_type": "code",
   "execution_count": 69,
   "metadata": {},
   "outputs": [
    {
     "data": {
      "text/plain": [
       "58"
      ]
     },
     "execution_count": 69,
     "metadata": {},
     "output_type": "execute_result"
    }
   ],
   "source": [
    "not_sampled_round2 = list(set(all_fragments) - set(sampled_round2))\n",
    "len(not_sampled_round2)"
   ]
  },
  {
   "cell_type": "code",
   "execution_count": null,
   "metadata": {},
   "outputs": [],
   "source": []
  },
  {
   "cell_type": "code",
   "execution_count": 70,
   "metadata": {},
   "outputs": [
    {
     "data": {
      "text/plain": [
       "([1, 'discrim_jsons/Discrim250_randls_25.json'],\n",
       " [126, 'jsons/VE250_randls_8.json'])"
      ]
     },
     "execution_count": 70,
     "metadata": {},
     "output_type": "execute_result"
    }
   ],
   "source": [
    "round3_paths = []\n",
    "for fragment in not_sampled_round2:\n",
    "    round3_paths.append([fragment, paths[fragment]])\n",
    "round3_paths[0], round3_paths[-1]"
   ]
  },
  {
   "cell_type": "code",
   "execution_count": 71,
   "metadata": {},
   "outputs": [],
   "source": [
    "VE_link_base = 'http://54.173.230.142/FacialAge/BNav_EC2/DepthDuration/v2_depth_duration_MTurk/v2_DepthDuration_HTML.html#'\n",
    "\n",
    "Discrim_link_base = 'http://54.173.230.142/FacialAge/BNav_EC2/DepthDuration/v2_depth_discrimination_MTurk/v2_DepthDiscrim_HTML.html#'\n"
   ]
  },
  {
   "cell_type": "code",
   "execution_count": 73,
   "metadata": {},
   "outputs": [
    {
     "data": {
      "text/plain": [
       "('http://54.173.230.142/FacialAge/BNav_EC2/DepthDuration/v2_depth_discrimination_MTurk/v2_DepthDiscrim_HTML.html#1',\n",
       " 'http://54.173.230.142/FacialAge/BNav_EC2/DepthDuration/v2_depth_duration_MTurk/v2_DepthDuration_HTML.html#126',\n",
       " 58)"
      ]
     },
     "execution_count": 73,
     "metadata": {},
     "output_type": "execute_result"
    }
   ],
   "source": [
    "round3_links = []\n",
    "\n",
    "for path in round3_paths:\n",
    "    if path[1].split('/')[0] == 'discrim_jsons':\n",
    "        link = Discrim_link_base + str(path[0])\n",
    "        round3_links.append(link)\n",
    "    else:\n",
    "        link = VE_link_base + str(path[0])\n",
    "        round3_links.append(link)\n",
    "\n",
    "round3_links[0], round3_links[-1], len(round3_links)"
   ]
  },
  {
   "cell_type": "code",
   "execution_count": 74,
   "metadata": {},
   "outputs": [],
   "source": [
    "# csv header\n",
    "fieldnames = ['experiment_url']\n",
    "var_rows = []\n",
    "\n",
    "random.shuffle(round3_links)\n",
    "\n",
    "for link in round3_links:\n",
    "    var_rows.append({'experiment_url':'' + str(link)})\n",
    "\n",
    "# csv data\n",
    "with open('matched_VE_Discrim_variables_round3.csv', 'w', encoding='UTF8', newline='') as f:\n",
    "    writer = csv.DictWriter(f, fieldnames=fieldnames)\n",
    "    writer.writeheader()\n",
    "    writer.writerows(var_rows)"
   ]
  },
  {
   "cell_type": "code",
   "execution_count": 75,
   "metadata": {},
   "outputs": [],
   "source": [
    "d = []\n",
    "\n",
    "trial1 = {'sequence': 'a'}\n",
    "\n",
    "d.append(trial1)"
   ]
  },
  {
   "cell_type": "code",
   "execution_count": 76,
   "metadata": {},
   "outputs": [
    {
     "data": {
      "text/plain": [
       "[{'sequence': 'a'}]"
      ]
     },
     "execution_count": 76,
     "metadata": {},
     "output_type": "execute_result"
    }
   ],
   "source": [
    "d"
   ]
  },
  {
   "cell_type": "code",
   "execution_count": null,
   "metadata": {},
   "outputs": [],
   "source": []
  }
 ],
 "metadata": {
  "kernelspec": {
   "display_name": "Python 3",
   "language": "python",
   "name": "python3"
  },
  "language_info": {
   "codemirror_mode": {
    "name": "ipython",
    "version": 3
   },
   "file_extension": ".py",
   "mimetype": "text/x-python",
   "name": "python",
   "nbconvert_exporter": "python",
   "pygments_lexer": "ipython3",
   "version": "3.7.5"
  }
 },
 "nbformat": 4,
 "nbformat_minor": 4
}
