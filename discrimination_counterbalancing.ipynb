{
 "cells": [
  {
   "cell_type": "markdown",
   "metadata": {},
   "source": [
    "# Depth Discrimination Experiment Sequences"
   ]
  },
  {
   "cell_type": "code",
   "execution_count": 277,
   "metadata": {},
   "outputs": [],
   "source": [
    "import os, json\n",
    "import pandas as pd\n",
    "import random \n",
    "import copy \n",
    "import sqlite3\n",
    "import sys\n",
    "import numpy as np \n",
    "from itertools import permutations  \n",
    "import itertools\n",
    "from itertools import combinations"
   ]
  },
  {
   "cell_type": "code",
   "execution_count": 185,
   "metadata": {},
   "outputs": [],
   "source": [
    "def getSubdirTargetInfo(directory):\n",
    "    \"\"\"\n",
    "    Indexes into the json file of each image and recursively extracts image characteristics\n",
    "    All object (target image) instances are added to obs_bins (main list of all images)\n",
    "    Args: \n",
    "        directory = path to cleaned stimuli folder\n",
    "    Returns:\n",
    "        obs_bins = instance of Observation_bins class that has depth_ob (instance) for every target image\n",
    "    \"\"\"\n",
    "    obs = {}\n",
    "    for folder in os.listdir(directory): #recursively goes through all the folders\n",
    "        if folder != '.DS_Store':\n",
    "            for file in os.listdir(directory + '/' + folder):\n",
    "                filepath = directory + '/' + folder + '/' + file\n",
    "                if \".ipynb_checkpoints\" not in str(filepath):\n",
    "                    if filepath.endswith(\".json\"):\n",
    "                        output_json = json.load(open(filepath)) #loads each data.json file\n",
    "                        objects = output_json['objects'] \n",
    "                        for obj in objects:\n",
    "                            cp = obj[\"crossing_point\"]\n",
    "                            cp = cp[0] #indexes to the dict\n",
    "                            depth = cp['depth']\n",
    "                            obs[folder] = depth\n",
    "\n",
    "    return obs"
   ]
  },
  {
   "cell_type": "code",
   "execution_count": 186,
   "metadata": {},
   "outputs": [],
   "source": [
    "path = '/Users/prachi/Documents/depth_duration/mar3_depthDuration_stimuli/final_stimuli'\n",
    "\n",
    "# path = '/Users/prachimahableshwarkar/Documents/GW/Depth_MTurk/depth_duration_MTurk/depth_duration_stimuli'\n",
    "observations = getSubdirTargetInfo(path)"
   ]
  },
  {
   "cell_type": "code",
   "execution_count": null,
   "metadata": {},
   "outputs": [],
   "source": []
  },
  {
   "cell_type": "code",
   "execution_count": 263,
   "metadata": {},
   "outputs": [
    {
     "data": {
      "text/plain": [
       "48"
      ]
     },
     "execution_count": 263,
     "metadata": {},
     "output_type": "execute_result"
    }
   ],
   "source": [
    "import operator\n",
    "\n",
    "# sort observations by increasing depth (dict value)\n",
    "sorted_tuples = sorted(observations.items(), key=operator.itemgetter(1))\n",
    "sorted_dict = {k: v for k, v in sorted_tuples}\n",
    "\n",
    "# create groups of 4 from low to high depth --> 48 groups total \n",
    "grouped_observations = [sorted_tuples[i*4:(i*4)+4] for i in range(48)]\n",
    "len(grouped_observations)"
   ]
  },
  {
   "cell_type": "code",
   "execution_count": 264,
   "metadata": {},
   "outputs": [
    {
     "data": {
      "text/plain": [
       "[('002272_2014-06-28_18-53-56_260595134347_rgbf000067-resize_2', 1.138),\n",
       " ('002509_2014-06-24_13-19-22_094959634447_rgbf000077-resize_0', 1.3065),\n",
       " ('000483_2014-06-09_20-41-45_260595134347_rgbf000116-resize_4',\n",
       "  1.3370000000000002),\n",
       " ('000109_2014-05-14_23-41-52_260595134347_rgbf000035-resize_9', 1.3545)]"
      ]
     },
     "execution_count": 264,
     "metadata": {},
     "output_type": "execute_result"
    }
   ],
   "source": [
    "grouped_observations[0]"
   ]
  },
  {
   "cell_type": "markdown",
   "metadata": {},
   "source": [
    "### Create Sequences"
   ]
  },
  {
   "cell_type": "code",
   "execution_count": 265,
   "metadata": {},
   "outputs": [
    {
     "name": "stdout",
     "output_type": "stream",
     "text": [
      "48\n",
      "6 (48,)\n"
     ]
    }
   ],
   "source": [
    "# tuples represent the indeces of images within the 4 image group \n",
    "combinations = list(combinations([0,1,2,3],2))\n",
    "bins_combinations = [copy.deepcopy(combinations),copy.deepcopy(combinations),copy.deepcopy(combinations),\n",
    "                     copy.deepcopy(combinations),copy.deepcopy(combinations),copy.deepcopy(combinations),\n",
    "                     copy.deepcopy(combinations),copy.deepcopy(combinations),copy.deepcopy(combinations),\n",
    "                     copy.deepcopy(combinations),copy.deepcopy(combinations),copy.deepcopy(combinations),\n",
    "                     copy.deepcopy(combinations),copy.deepcopy(combinations),copy.deepcopy(combinations),\n",
    "                     copy.deepcopy(combinations),copy.deepcopy(combinations),copy.deepcopy(combinations),\n",
    "                     copy.deepcopy(combinations),copy.deepcopy(combinations),copy.deepcopy(combinations),\n",
    "                     copy.deepcopy(combinations),copy.deepcopy(combinations),copy.deepcopy(combinations),\n",
    "                     copy.deepcopy(combinations),copy.deepcopy(combinations),copy.deepcopy(combinations),\n",
    "                     copy.deepcopy(combinations),copy.deepcopy(combinations),copy.deepcopy(combinations),\n",
    "                     copy.deepcopy(combinations),copy.deepcopy(combinations),copy.deepcopy(combinations),\n",
    "                     copy.deepcopy(combinations),copy.deepcopy(combinations),copy.deepcopy(combinations),\n",
    "                     copy.deepcopy(combinations),copy.deepcopy(combinations),copy.deepcopy(combinations),\n",
    "                     copy.deepcopy(combinations),copy.deepcopy(combinations),copy.deepcopy(combinations),\n",
    "                     copy.deepcopy(combinations),copy.deepcopy(combinations),copy.deepcopy(combinations),\n",
    "                     copy.deepcopy(combinations),copy.deepcopy(combinations),copy.deepcopy(combinations)]\n",
    "print(len(bins_combinations))\n",
    "\n",
    "sequences = np.array([[None]*48]*6, dtype=object)\n",
    "print(len(sequences), sequences[0].shape)\n"
   ]
  },
  {
   "cell_type": "code",
   "execution_count": 266,
   "metadata": {},
   "outputs": [],
   "source": [
    "for seq in range(6): # 6 sequences total to completely cover the set of comparisons \n",
    "    for i in range(len(bins_combinations)): # 48 bins\n",
    "        # randomly select an image index combo \n",
    "        random_combo = random.choice(bins_combinations[i])\n",
    "        random_combo_idx = bins_combinations[i].index(random_combo)\n",
    "        # remove the selected image index combo \n",
    "        del bins_combinations[i][random_combo_idx]\n",
    "        # add selected combo to sequence[seq]\n",
    "        sequences[seq][i]= random_combo\n",
    "        "
   ]
  },
  {
   "cell_type": "code",
   "execution_count": 267,
   "metadata": {},
   "outputs": [
    {
     "data": {
      "text/plain": [
       "(48,)"
      ]
     },
     "execution_count": 267,
     "metadata": {},
     "output_type": "execute_result"
    }
   ],
   "source": [
    "sequences[0].shape"
   ]
  },
  {
   "cell_type": "markdown",
   "metadata": {},
   "source": [
    "### Assign Images based on Sequence\n",
    "\n",
    "#### Create image order rotation sequence too"
   ]
  },
  {
   "cell_type": "code",
   "execution_count": 268,
   "metadata": {},
   "outputs": [],
   "source": [
    "destination = '/Users/prachi/Documents/depth_duration/depth_discrimination/discrimination_sequences'\n",
    "\n"
   ]
  },
  {
   "cell_type": "code",
   "execution_count": 274,
   "metadata": {},
   "outputs": [],
   "source": [
    "sequence_dictionaries = []\n",
    "rotated_sequence_dictionaries = [] # order of images is flipped\n",
    "seq_names = ['c0', 'c1', 'c2', 'c3', 'c4', 'c5']\n",
    "durations = [250, 1000, 250, 1000, 250, 1000, 250, 1000, 250, 1000,\n",
    "             250, 1000, 250, 1000, 250, 1000, 250, 1000, 250, 1000,\n",
    "             250, 1000, 250, 1000, 250, 1000, 250, 1000, 250, 1000,\n",
    "             250, 1000, 250, 1000, 250, 1000, 250, 1000, 250, 1000,\n",
    "             250, 1000, 250, 1000, 250, 1000, 250, 1000]\n",
    "# shuffle durations \n",
    "random.shuffle(durations)\n",
    "\n",
    "for i in range(len(sequences)):\n",
    "    seq = [] \n",
    "    rotated_seq = []\n",
    "    sequence_name = seq_names[i]\n",
    "    rotated_seq_name = seq_names[i] + '_rotated' # order rotated\n",
    "    num = 0\n",
    "    for trial in sequences[i]:\n",
    "        img0_index = trial[0]\n",
    "        img1_index = trial[1]\n",
    "        dict_trial = {}\n",
    "        dict_trial[\"sequence\"] = sequence_name\n",
    "        dict_trial[\"duration\"] = durations[num]\n",
    "        dict_trial[\"depth_0\"] = grouped_observations[num][img0_index][1]\n",
    "        dict_trial[\"depth_1\"] = grouped_observations[num][img1_index][1]\n",
    "\n",
    "        targetimg_0 = grouped_observations[num][img0_index][0]\n",
    "        targetimg_1 = grouped_observations[num][img1_index][0]\n",
    "        # this has to be the path on the server\n",
    "        targetimg_0_path = \"depth_discrimination_stimuli/\" + targetimg_0 + '/' + targetimg_0 + '-target.png'\n",
    "        targetimg_1_path = \"depth_discrimination_stimuli/\" + targetimg_1 + '/' + targetimg_1 + '-target.png'\n",
    "\n",
    "        dict_trial[\"image_path_target_0\"] = targetimg_0_path\n",
    "        dict_trial[\"image_path_target_1\"] = targetimg_1_path\n",
    "\n",
    "        dict_trial[\"mask_path\"] = \"masks/mask_\" + str(num) + \".jpg\"\n",
    "        dict_trial[\"fixation_path\"] = \"fixation.jpg\"\n",
    "\n",
    "        seq.append(dict_trial)\n",
    "        ###################### Rotated sequence ######################\n",
    "        rotated_dict_trial = {}\n",
    "        rotated_dict_trial[\"sequence\"] = rotated_seq_name\n",
    "        rotated_dict_trial[\"duration\"] = durations[num]\n",
    "        rotated_dict_trial[\"depth_0\"] = grouped_observations[num][img1_index][1]\n",
    "        rotated_dict_trial[\"depth_1\"] = grouped_observations[num][img0_index][1]\n",
    "\n",
    "        r_targetimg_0 = grouped_observations[num][img1_index][0]\n",
    "        r_targetimg_1 = grouped_observations[num][img0_index][0]\n",
    "        # this has to be the path on the server\n",
    "        r_targetimg_0_path = \"depth_discrimination_stimuli/\" + r_targetimg_1 + '/' + r_targetimg_1 + '-target.png'\n",
    "        r_targetimg_1_path = \"depth_discrimination_stimuli/\" + r_targetimg_0 + '/' + r_targetimg_0 + '-target.png'\n",
    "\n",
    "        rotated_dict_trial[\"image_path_target_0\"] = r_targetimg_1_path\n",
    "        rotated_dict_trial[\"image_path_target_1\"] = r_targetimg_0_path\n",
    "\n",
    "        rotated_dict_trial[\"mask_path\"] = \"masks/mask_\" + str(num) + \".jpg\"\n",
    "        rotated_dict_trial[\"fixation_path\"] = \"fixation.jpg\"\n",
    "\n",
    "        rotated_seq.append(rotated_dict_trial)\n",
    "        \n",
    "        num += 1\n",
    "    \n",
    "    # shuffle the order of trials so that trials are not in order of increasing depth \n",
    "    # use the same random seed for sequence & it's rotation so trials match in images \n",
    "    random.Random(i).shuffle(seq)\n",
    "    random.Random(i).shuffle(rotated_seq)\n",
    "\n",
    "    # reshuffle durations so that each sequence has a different duration order \n",
    "    random.shuffle(durations)\n",
    "    \n",
    "    sequence_dictionaries.append(seq)\n",
    "    rotated_sequence_dictionaries.append(rotated_seq)\n",
    "\n",
    "    \n",
    "for sequence in sequence_dictionaries:\n",
    "    name = sequence[0][\"sequence\"]\n",
    "    path = destination + '/' + name + '.json'\n",
    "    # creates json file for the sequence \n",
    "    with open(path, 'w') as f:\n",
    "        json.dump(sequence , f)  \n",
    "        \n",
    "for rotated_sequence in rotated_sequence_dictionaries:\n",
    "    rotated_name = rotated_sequence[0][\"sequence\"]\n",
    "    rotated_path = destination + '/' + rotated_name + '.json'\n",
    "    # creates json file for the sequence \n",
    "    with open(rotated_path, 'w') as f:\n",
    "        json.dump(rotated_sequence , f)  "
   ]
  },
  {
   "cell_type": "markdown",
   "metadata": {},
   "source": [
    "### Rotate Sequence by Duration"
   ]
  },
  {
   "cell_type": "code",
   "execution_count": 278,
   "metadata": {},
   "outputs": [],
   "source": [
    "def load_master_sequence(jsonpath):\n",
    "    return json.load(open(jsonpath))\n",
    "\n",
    "def rotate_sequence(previous_seq):\n",
    "    \"\"\"\n",
    "    Rotates each trial's duration assignment based on previous sequence \n",
    "    250 --> 1000\n",
    "    1000 --> 250\n",
    "    \"\"\"\n",
    "    rotated = previous_seq\n",
    "    for i in range(len(previous_seq)):\n",
    "        duration = previous_seq[i]['duration']\n",
    "        if duration == 1000:\n",
    "            new_duration = 250\n",
    "        else:\n",
    "            new_duration = 1000\n",
    "        rotated[i]['duration'] = new_duration\n",
    "        \n",
    "    return rotated\n",
    "\n",
    "def create_duration_rotations(jsonpath, exit, name):\n",
    "    \"\"\"\n",
    "    Args:\n",
    "        jsonpath = path to master json created through sequence pipeline\n",
    "        exit = destination path for new jsons \n",
    "        name = i.e. V1 \n",
    "    \n",
    "    Creates sequences rotated by duration so that all images in the master sequence are seen at each duration\n",
    "    (across participants)\n",
    "        \n",
    "    \"\"\"\n",
    "    master = load_master_sequence(jsonpath)\n",
    "    \n",
    "    r = rotate_sequence(master)\n",
    "    r_path = exit + '/' + name + '_dr.json' # duration rotated sequence\n",
    "    #creates json file for the sequence \n",
    "    with open(r_path, 'w') as f:\n",
    "        json.dump(r , f)\n",
    "\n",
    "        \n",
    "def main_seq_rotations(json_folderpath, exit):\n",
    "    \"\"\"\n",
    "    Create rotated sequence for each sequence in the folder\n",
    "    \"\"\"\n",
    "    for file in os.listdir(json_folderpath):\n",
    "        name = file.split(\".\")[0]\n",
    "        jsonpath = json_folderpath + \"/\" + file\n",
    "        try:\n",
    "            create_duration_rotations(jsonpath, exit, name)\n",
    "        except:\n",
    "            print(\"Failed to create json rotations for: \", file)"
   ]
  },
  {
   "cell_type": "code",
   "execution_count": 276,
   "metadata": {},
   "outputs": [
    {
     "name": "stdout",
     "output_type": "stream",
     "text": [
      "Failed to create json rotations for:  .DS_Store\n",
      "Failed to create json rotations for:  .ipynb_checkpoints\n"
     ]
    }
   ],
   "source": [
    "main_seq_rotations(destination,destination)"
   ]
  },
  {
   "cell_type": "code",
   "execution_count": null,
   "metadata": {},
   "outputs": [],
   "source": []
  },
  {
   "cell_type": "markdown",
   "metadata": {},
   "source": [
    "### Sequences:\n",
    "Original Sequence: c0 \n",
    "- c0_dr: duration assigned is rotated\n",
    "- c0_rotated: order of images if flipped\n",
    "- c0_rotated_dr: duration assigned is rotated\n",
    "\n",
    "6 original sequences \n",
    "- covers the whole space of combinations of 4 images\n",
    "\n",
    "\n",
    "24 Total sequences"
   ]
  },
  {
   "cell_type": "code",
   "execution_count": 280,
   "metadata": {},
   "outputs": [
    {
     "data": {
      "text/plain": [
       "24"
      ]
     },
     "execution_count": 280,
     "metadata": {},
     "output_type": "execute_result"
    }
   ],
   "source": [
    "count = 0\n",
    "for js in os.listdir('/Users/prachi/Documents/depth_duration/depth_discrimination/discrimination_sequences'):\n",
    "    if '.json' in js:\n",
    "        count += 1\n",
    "\n",
    "count"
   ]
  },
  {
   "cell_type": "code",
   "execution_count": null,
   "metadata": {},
   "outputs": [],
   "source": []
  }
 ],
 "metadata": {
  "kernelspec": {
   "display_name": "Python 3",
   "language": "python",
   "name": "python3"
  },
  "language_info": {
   "codemirror_mode": {
    "name": "ipython",
    "version": 3
   },
   "file_extension": ".py",
   "mimetype": "text/x-python",
   "name": "python",
   "nbconvert_exporter": "python",
   "pygments_lexer": "ipython3",
   "version": "3.6.1"
  }
 },
 "nbformat": 4,
 "nbformat_minor": 4
}
