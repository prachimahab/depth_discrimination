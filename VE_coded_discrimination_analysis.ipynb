{
 "cells": [
  {
   "cell_type": "markdown",
   "metadata": {},
   "source": [
    "# TAC Depth Discrimination Analysis: Accuracy Coded by Verbal Judgement Data"
   ]
  },
  {
   "cell_type": "code",
   "execution_count": 63,
   "metadata": {},
   "outputs": [],
   "source": [
    "import os \n",
    "import pandas as pd\n",
    "import numpy as np\n",
    "import math\n",
    "import matplotlib.pyplot as plt\n",
    "import scipy \n",
    "import scipy.stats as stats\n",
    "from scipy.stats import sem \n",
    "from mpl_toolkits.mplot3d import Axes3D # <--- This is important for 3d plotting \n",
    "from sklearn.linear_model import LinearRegression\n"
   ]
  },
  {
   "cell_type": "code",
   "execution_count": 64,
   "metadata": {},
   "outputs": [],
   "source": [
    "def combineCSVs(datafolder, num_discrim_trials):\n",
    "    \"\"\"\n",
    "    Combine all participant data into one pandas df\n",
    "    OR \n",
    "    Create df for single participant file \n",
    "    \n",
    "    returns:\n",
    "        (1) combined dataframe of all discrimination data \n",
    "        (2) combined dataframe of all scene property rating data \n",
    "    \"\"\"\n",
    "    #checks if path is a file\n",
    "    isFile = os.path.isfile(datafolder)\n",
    "\n",
    "    #checks if path is a directory\n",
    "    \n",
    "    isDirectory = os.path.isdir(datafolder)\n",
    "    \n",
    "    if isDirectory == True:\n",
    "        discrim_data = []\n",
    "        properties_data = []\n",
    "        for filename in os.listdir(datafolder):\n",
    "            if 'csv' in filename:\n",
    "                path = datafolder + \"/\" + filename\n",
    "                df = pd.read_csv(path, index_col=None, header=0)\n",
    "                \n",
    "                df_discrim = df[0:num_discrim_trials]\n",
    "                discrim_data.append(df_discrim)\n",
    "                # row 96 should be ignored - artifact of logging \n",
    "                df_properties = df[num_discrim_trials+1:]\n",
    "                properties_data.append(df_properties)\n",
    "                \n",
    "\n",
    "        discrim_frame = pd.concat(discrim_data, axis=0, ignore_index=True)\n",
    "        properties_frame = pd.concat(properties_data, axis=0, ignore_index=True)\n",
    "        \n",
    "    if isFile == True:\n",
    "        if 'csv' in datafolder:\n",
    "            df = pd.read_csv(datafolder, index_col=None, header=0)\n",
    "            df_discrim = df[0:num_discrim_trials]\n",
    "            discrim_data.append(df_discrim)\n",
    "            # row 96 should be ignored - artifact of logging \n",
    "            df_properties = df[num_discrim_trials+1:]\n",
    "            properties_data.append(df_properties)\n",
    " \n",
    "    return discrim_frame, properties_frame"
   ]
  },
  {
   "cell_type": "code",
   "execution_count": 65,
   "metadata": {},
   "outputs": [],
   "source": [
    "data_path = '/Users/pmahableshwarkar/Documents/Depth_Project/depth_discrimination/TAC_depth_discrimination_MTurk/data'\n"
   ]
  },
  {
   "cell_type": "code",
   "execution_count": 66,
   "metadata": {},
   "outputs": [],
   "source": [
    "raw_discrim, raw_ratings = combineCSVs(data_path, 40)"
   ]
  },
  {
   "cell_type": "code",
   "execution_count": 67,
   "metadata": {},
   "outputs": [
    {
     "data": {
      "text/plain": [
       "342"
      ]
     },
     "execution_count": 67,
     "metadata": {},
     "output_type": "execute_result"
    }
   ],
   "source": [
    "all_subjIDs = raw_discrim.subjID.unique()\n",
    "len(all_subjIDs)"
   ]
  },
  {
   "cell_type": "code",
   "execution_count": 68,
   "metadata": {},
   "outputs": [
    {
     "data": {
      "text/html": [
       "<div>\n",
       "<style scoped>\n",
       "    .dataframe tbody tr th:only-of-type {\n",
       "        vertical-align: middle;\n",
       "    }\n",
       "\n",
       "    .dataframe tbody tr th {\n",
       "        vertical-align: top;\n",
       "    }\n",
       "\n",
       "    .dataframe thead th {\n",
       "        text-align: right;\n",
       "    }\n",
       "</style>\n",
       "<table border=\"1\" class=\"dataframe\">\n",
       "  <thead>\n",
       "    <tr style=\"text-align: right;\">\n",
       "      <th></th>\n",
       "      <th>subjID</th>\n",
       "      <th>experimentName</th>\n",
       "      <th>versionName</th>\n",
       "      <th>sequenceName</th>\n",
       "      <th>url</th>\n",
       "      <th>selected_row</th>\n",
       "      <th>windowWidth</th>\n",
       "      <th>windowHeight</th>\n",
       "      <th>screenWidth</th>\n",
       "      <th>screenHeight</th>\n",
       "      <th>...</th>\n",
       "      <th>trial_RT</th>\n",
       "      <th>log_fixation</th>\n",
       "      <th>log_sceneDuration1</th>\n",
       "      <th>log_mask1</th>\n",
       "      <th>log_sceneDuration2</th>\n",
       "      <th>log_mask2</th>\n",
       "      <th>experimentTime</th>\n",
       "      <th>totalTime</th>\n",
       "      <th>age</th>\n",
       "      <th>gender</th>\n",
       "    </tr>\n",
       "  </thead>\n",
       "  <tbody>\n",
       "    <tr>\n",
       "      <th>0</th>\n",
       "      <td>515920.0</td>\n",
       "      <td>DepthScenes</td>\n",
       "      <td>v2_duration_discrimination</td>\n",
       "      <td>discrim_jsons/v2_shuffled_g0.json</td>\n",
       "      <td>http://54.210.137.18/DepthDuration/v2_depth_di...</td>\n",
       "      <td>4.0</td>\n",
       "      <td>1700.0</td>\n",
       "      <td>850.0</td>\n",
       "      <td>1700.0</td>\n",
       "      <td>956.0</td>\n",
       "      <td>...</td>\n",
       "      <td>2148.0</td>\n",
       "      <td>1000.0</td>\n",
       "      <td>252.0</td>\n",
       "      <td>999.0</td>\n",
       "      <td>249.0</td>\n",
       "      <td>501.0</td>\n",
       "      <td>NaN</td>\n",
       "      <td>1922930</td>\n",
       "      <td>35</td>\n",
       "      <td>Woman</td>\n",
       "    </tr>\n",
       "    <tr>\n",
       "      <th>1</th>\n",
       "      <td>515920.0</td>\n",
       "      <td>DepthScenes</td>\n",
       "      <td>v2_duration_discrimination</td>\n",
       "      <td>discrim_jsons/v2_shuffled_g0.json</td>\n",
       "      <td>http://54.210.137.18/DepthDuration/v2_depth_di...</td>\n",
       "      <td>4.0</td>\n",
       "      <td>1700.0</td>\n",
       "      <td>850.0</td>\n",
       "      <td>1700.0</td>\n",
       "      <td>956.0</td>\n",
       "      <td>...</td>\n",
       "      <td>2212.0</td>\n",
       "      <td>1001.0</td>\n",
       "      <td>249.0</td>\n",
       "      <td>1001.0</td>\n",
       "      <td>250.0</td>\n",
       "      <td>500.0</td>\n",
       "      <td>NaN</td>\n",
       "      <td>1922930</td>\n",
       "      <td>35</td>\n",
       "      <td>Woman</td>\n",
       "    </tr>\n",
       "    <tr>\n",
       "      <th>2</th>\n",
       "      <td>515920.0</td>\n",
       "      <td>DepthScenes</td>\n",
       "      <td>v2_duration_discrimination</td>\n",
       "      <td>discrim_jsons/v2_shuffled_g0.json</td>\n",
       "      <td>http://54.210.137.18/DepthDuration/v2_depth_di...</td>\n",
       "      <td>4.0</td>\n",
       "      <td>1700.0</td>\n",
       "      <td>850.0</td>\n",
       "      <td>1700.0</td>\n",
       "      <td>956.0</td>\n",
       "      <td>...</td>\n",
       "      <td>1996.0</td>\n",
       "      <td>1001.0</td>\n",
       "      <td>249.0</td>\n",
       "      <td>1000.0</td>\n",
       "      <td>249.0</td>\n",
       "      <td>501.0</td>\n",
       "      <td>NaN</td>\n",
       "      <td>1922930</td>\n",
       "      <td>35</td>\n",
       "      <td>Woman</td>\n",
       "    </tr>\n",
       "    <tr>\n",
       "      <th>3</th>\n",
       "      <td>515920.0</td>\n",
       "      <td>DepthScenes</td>\n",
       "      <td>v2_duration_discrimination</td>\n",
       "      <td>discrim_jsons/v2_shuffled_g0.json</td>\n",
       "      <td>http://54.210.137.18/DepthDuration/v2_depth_di...</td>\n",
       "      <td>4.0</td>\n",
       "      <td>1700.0</td>\n",
       "      <td>850.0</td>\n",
       "      <td>1700.0</td>\n",
       "      <td>956.0</td>\n",
       "      <td>...</td>\n",
       "      <td>34432.0</td>\n",
       "      <td>1002.0</td>\n",
       "      <td>998.0</td>\n",
       "      <td>1000.0</td>\n",
       "      <td>1001.0</td>\n",
       "      <td>499.0</td>\n",
       "      <td>NaN</td>\n",
       "      <td>1922930</td>\n",
       "      <td>35</td>\n",
       "      <td>Woman</td>\n",
       "    </tr>\n",
       "    <tr>\n",
       "      <th>4</th>\n",
       "      <td>515920.0</td>\n",
       "      <td>DepthScenes</td>\n",
       "      <td>v2_duration_discrimination</td>\n",
       "      <td>discrim_jsons/v2_shuffled_g0.json</td>\n",
       "      <td>http://54.210.137.18/DepthDuration/v2_depth_di...</td>\n",
       "      <td>4.0</td>\n",
       "      <td>1700.0</td>\n",
       "      <td>850.0</td>\n",
       "      <td>1700.0</td>\n",
       "      <td>956.0</td>\n",
       "      <td>...</td>\n",
       "      <td>2534.0</td>\n",
       "      <td>1002.0</td>\n",
       "      <td>1000.0</td>\n",
       "      <td>999.0</td>\n",
       "      <td>1000.0</td>\n",
       "      <td>500.0</td>\n",
       "      <td>NaN</td>\n",
       "      <td>1922930</td>\n",
       "      <td>35</td>\n",
       "      <td>Woman</td>\n",
       "    </tr>\n",
       "    <tr>\n",
       "      <th>...</th>\n",
       "      <td>...</td>\n",
       "      <td>...</td>\n",
       "      <td>...</td>\n",
       "      <td>...</td>\n",
       "      <td>...</td>\n",
       "      <td>...</td>\n",
       "      <td>...</td>\n",
       "      <td>...</td>\n",
       "      <td>...</td>\n",
       "      <td>...</td>\n",
       "      <td>...</td>\n",
       "      <td>...</td>\n",
       "      <td>...</td>\n",
       "      <td>...</td>\n",
       "      <td>...</td>\n",
       "      <td>...</td>\n",
       "      <td>...</td>\n",
       "      <td>...</td>\n",
       "      <td>...</td>\n",
       "      <td>...</td>\n",
       "      <td>...</td>\n",
       "    </tr>\n",
       "    <tr>\n",
       "      <th>13675</th>\n",
       "      <td>636794.0</td>\n",
       "      <td>DepthScenes</td>\n",
       "      <td>v2_duration_discrimination</td>\n",
       "      <td>discrim_jsons/v2_shuffled_g0_dr.json</td>\n",
       "      <td>http://54.210.137.18/DepthDuration/v2_depth_di...</td>\n",
       "      <td>1.0</td>\n",
       "      <td>1536.0</td>\n",
       "      <td>754.0</td>\n",
       "      <td>1536.0</td>\n",
       "      <td>864.0</td>\n",
       "      <td>...</td>\n",
       "      <td>1929.0</td>\n",
       "      <td>1006.0</td>\n",
       "      <td>997.0</td>\n",
       "      <td>1001.0</td>\n",
       "      <td>999.0</td>\n",
       "      <td>507.0</td>\n",
       "      <td>NaN</td>\n",
       "      <td>380364</td>\n",
       "      <td>63</td>\n",
       "      <td>Man</td>\n",
       "    </tr>\n",
       "    <tr>\n",
       "      <th>13676</th>\n",
       "      <td>636794.0</td>\n",
       "      <td>DepthScenes</td>\n",
       "      <td>v2_duration_discrimination</td>\n",
       "      <td>discrim_jsons/v2_shuffled_g0_dr.json</td>\n",
       "      <td>http://54.210.137.18/DepthDuration/v2_depth_di...</td>\n",
       "      <td>1.0</td>\n",
       "      <td>1536.0</td>\n",
       "      <td>754.0</td>\n",
       "      <td>1536.0</td>\n",
       "      <td>864.0</td>\n",
       "      <td>...</td>\n",
       "      <td>2242.0</td>\n",
       "      <td>1005.0</td>\n",
       "      <td>997.0</td>\n",
       "      <td>1013.0</td>\n",
       "      <td>1000.0</td>\n",
       "      <td>491.0</td>\n",
       "      <td>NaN</td>\n",
       "      <td>380364</td>\n",
       "      <td>63</td>\n",
       "      <td>Man</td>\n",
       "    </tr>\n",
       "    <tr>\n",
       "      <th>13677</th>\n",
       "      <td>636794.0</td>\n",
       "      <td>DepthScenes</td>\n",
       "      <td>v2_duration_discrimination</td>\n",
       "      <td>discrim_jsons/v2_shuffled_g0_dr.json</td>\n",
       "      <td>http://54.210.137.18/DepthDuration/v2_depth_di...</td>\n",
       "      <td>1.0</td>\n",
       "      <td>1536.0</td>\n",
       "      <td>754.0</td>\n",
       "      <td>1536.0</td>\n",
       "      <td>864.0</td>\n",
       "      <td>...</td>\n",
       "      <td>1595.0</td>\n",
       "      <td>1015.0</td>\n",
       "      <td>989.0</td>\n",
       "      <td>997.0</td>\n",
       "      <td>1010.0</td>\n",
       "      <td>491.0</td>\n",
       "      <td>NaN</td>\n",
       "      <td>380364</td>\n",
       "      <td>63</td>\n",
       "      <td>Man</td>\n",
       "    </tr>\n",
       "    <tr>\n",
       "      <th>13678</th>\n",
       "      <td>636794.0</td>\n",
       "      <td>DepthScenes</td>\n",
       "      <td>v2_duration_discrimination</td>\n",
       "      <td>discrim_jsons/v2_shuffled_g0_dr.json</td>\n",
       "      <td>http://54.210.137.18/DepthDuration/v2_depth_di...</td>\n",
       "      <td>1.0</td>\n",
       "      <td>1536.0</td>\n",
       "      <td>754.0</td>\n",
       "      <td>1536.0</td>\n",
       "      <td>864.0</td>\n",
       "      <td>...</td>\n",
       "      <td>1882.0</td>\n",
       "      <td>1015.0</td>\n",
       "      <td>1002.0</td>\n",
       "      <td>998.0</td>\n",
       "      <td>1000.0</td>\n",
       "      <td>489.0</td>\n",
       "      <td>NaN</td>\n",
       "      <td>380364</td>\n",
       "      <td>63</td>\n",
       "      <td>Man</td>\n",
       "    </tr>\n",
       "    <tr>\n",
       "      <th>13679</th>\n",
       "      <td>636794.0</td>\n",
       "      <td>DepthScenes</td>\n",
       "      <td>v2_duration_discrimination</td>\n",
       "      <td>discrim_jsons/v2_shuffled_g0_dr.json</td>\n",
       "      <td>http://54.210.137.18/DepthDuration/v2_depth_di...</td>\n",
       "      <td>1.0</td>\n",
       "      <td>1536.0</td>\n",
       "      <td>754.0</td>\n",
       "      <td>1536.0</td>\n",
       "      <td>864.0</td>\n",
       "      <td>...</td>\n",
       "      <td>2221.0</td>\n",
       "      <td>1004.0</td>\n",
       "      <td>996.0</td>\n",
       "      <td>1001.0</td>\n",
       "      <td>1010.0</td>\n",
       "      <td>491.0</td>\n",
       "      <td>NaN</td>\n",
       "      <td>380364</td>\n",
       "      <td>63</td>\n",
       "      <td>Man</td>\n",
       "    </tr>\n",
       "  </tbody>\n",
       "</table>\n",
       "<p>13680 rows × 29 columns</p>\n",
       "</div>"
      ],
      "text/plain": [
       "         subjID experimentName                 versionName  \\\n",
       "0      515920.0    DepthScenes  v2_duration_discrimination   \n",
       "1      515920.0    DepthScenes  v2_duration_discrimination   \n",
       "2      515920.0    DepthScenes  v2_duration_discrimination   \n",
       "3      515920.0    DepthScenes  v2_duration_discrimination   \n",
       "4      515920.0    DepthScenes  v2_duration_discrimination   \n",
       "...         ...            ...                         ...   \n",
       "13675  636794.0    DepthScenes  v2_duration_discrimination   \n",
       "13676  636794.0    DepthScenes  v2_duration_discrimination   \n",
       "13677  636794.0    DepthScenes  v2_duration_discrimination   \n",
       "13678  636794.0    DepthScenes  v2_duration_discrimination   \n",
       "13679  636794.0    DepthScenes  v2_duration_discrimination   \n",
       "\n",
       "                               sequenceName  \\\n",
       "0         discrim_jsons/v2_shuffled_g0.json   \n",
       "1         discrim_jsons/v2_shuffled_g0.json   \n",
       "2         discrim_jsons/v2_shuffled_g0.json   \n",
       "3         discrim_jsons/v2_shuffled_g0.json   \n",
       "4         discrim_jsons/v2_shuffled_g0.json   \n",
       "...                                     ...   \n",
       "13675  discrim_jsons/v2_shuffled_g0_dr.json   \n",
       "13676  discrim_jsons/v2_shuffled_g0_dr.json   \n",
       "13677  discrim_jsons/v2_shuffled_g0_dr.json   \n",
       "13678  discrim_jsons/v2_shuffled_g0_dr.json   \n",
       "13679  discrim_jsons/v2_shuffled_g0_dr.json   \n",
       "\n",
       "                                                     url  selected_row  \\\n",
       "0      http://54.210.137.18/DepthDuration/v2_depth_di...           4.0   \n",
       "1      http://54.210.137.18/DepthDuration/v2_depth_di...           4.0   \n",
       "2      http://54.210.137.18/DepthDuration/v2_depth_di...           4.0   \n",
       "3      http://54.210.137.18/DepthDuration/v2_depth_di...           4.0   \n",
       "4      http://54.210.137.18/DepthDuration/v2_depth_di...           4.0   \n",
       "...                                                  ...           ...   \n",
       "13675  http://54.210.137.18/DepthDuration/v2_depth_di...           1.0   \n",
       "13676  http://54.210.137.18/DepthDuration/v2_depth_di...           1.0   \n",
       "13677  http://54.210.137.18/DepthDuration/v2_depth_di...           1.0   \n",
       "13678  http://54.210.137.18/DepthDuration/v2_depth_di...           1.0   \n",
       "13679  http://54.210.137.18/DepthDuration/v2_depth_di...           1.0   \n",
       "\n",
       "       windowWidth  windowHeight  screenWidth  screenHeight  ... trial_RT  \\\n",
       "0           1700.0         850.0       1700.0         956.0  ...   2148.0   \n",
       "1           1700.0         850.0       1700.0         956.0  ...   2212.0   \n",
       "2           1700.0         850.0       1700.0         956.0  ...   1996.0   \n",
       "3           1700.0         850.0       1700.0         956.0  ...  34432.0   \n",
       "4           1700.0         850.0       1700.0         956.0  ...   2534.0   \n",
       "...            ...           ...          ...           ...  ...      ...   \n",
       "13675       1536.0         754.0       1536.0         864.0  ...   1929.0   \n",
       "13676       1536.0         754.0       1536.0         864.0  ...   2242.0   \n",
       "13677       1536.0         754.0       1536.0         864.0  ...   1595.0   \n",
       "13678       1536.0         754.0       1536.0         864.0  ...   1882.0   \n",
       "13679       1536.0         754.0       1536.0         864.0  ...   2221.0   \n",
       "\n",
       "      log_fixation  log_sceneDuration1 log_mask1 log_sceneDuration2  \\\n",
       "0           1000.0               252.0     999.0              249.0   \n",
       "1           1001.0               249.0    1001.0              250.0   \n",
       "2           1001.0               249.0    1000.0              249.0   \n",
       "3           1002.0               998.0    1000.0             1001.0   \n",
       "4           1002.0              1000.0     999.0             1000.0   \n",
       "...            ...                 ...       ...                ...   \n",
       "13675       1006.0               997.0    1001.0              999.0   \n",
       "13676       1005.0               997.0    1013.0             1000.0   \n",
       "13677       1015.0               989.0     997.0             1010.0   \n",
       "13678       1015.0              1002.0     998.0             1000.0   \n",
       "13679       1004.0               996.0    1001.0             1010.0   \n",
       "\n",
       "       log_mask2  experimentTime  totalTime  age  gender  \n",
       "0          501.0             NaN    1922930   35   Woman  \n",
       "1          500.0             NaN    1922930   35   Woman  \n",
       "2          501.0             NaN    1922930   35   Woman  \n",
       "3          499.0             NaN    1922930   35   Woman  \n",
       "4          500.0             NaN    1922930   35   Woman  \n",
       "...          ...             ...        ...  ...     ...  \n",
       "13675      507.0             NaN     380364   63     Man  \n",
       "13676      491.0             NaN     380364   63     Man  \n",
       "13677      491.0             NaN     380364   63     Man  \n",
       "13678      489.0             NaN     380364   63     Man  \n",
       "13679      491.0             NaN     380364   63     Man  \n",
       "\n",
       "[13680 rows x 29 columns]"
      ]
     },
     "execution_count": 68,
     "metadata": {},
     "output_type": "execute_result"
    }
   ],
   "source": [
    "raw_discrim"
   ]
  },
  {
   "cell_type": "code",
   "execution_count": 69,
   "metadata": {},
   "outputs": [
    {
     "data": {
      "text/plain": [
       "array([  35,   38,   30,   28,   42,   41,   51,   26,   34,   69,   43,\n",
       "         39,   48,   45,   55,   60,   50,   27,   33,   47,   53,   70,\n",
       "         32,   31,   29,   37,   54,   44,   24,   68,   62,   57,   40,\n",
       "         22,   36,   46,   63,   49,   67,   59,   61,   52,   66,   56,\n",
       "         72,   64,   58,   25, 1987, 1974])"
      ]
     },
     "execution_count": 69,
     "metadata": {},
     "output_type": "execute_result"
    }
   ],
   "source": [
    "all_ages = raw_discrim.age.unique()\n",
    "all_ages"
   ]
  },
  {
   "cell_type": "markdown",
   "metadata": {},
   "source": [
    "## <font color='red'> Data Cleaning </font> \n",
    "\n"
   ]
  },
  {
   "cell_type": "code",
   "execution_count": 70,
   "metadata": {},
   "outputs": [],
   "source": [
    "def catchTrial_cleaning(df, correct_requirement, catch_stimuli):\n",
    "    '''\n",
    "    Participants complete 8 catch trials total to ensure that they are doing the task.\n",
    "    If less than 7/8 catch trials are correct, the participant is excluded.  \n",
    "    '''\n",
    "    all_subjIDs = df.subjID.unique()\n",
    "    remove = []\n",
    "    subj_sequence = {}\n",
    "    df2_list = []\n",
    "    sequence_count = {'discrim_jsons/v2_shuffled_g0_dr.json': 0,\n",
    "                      'discrim_jsons/v2_shuffled_g0_rotated_dr.json': 0,\n",
    "                      'discrim_jsons/v2_shuffled_g0_rotated.json': 0, \n",
    "                      'discrim_jsons/v2_shuffled_g0.json': 0}\n",
    "    for subj in all_subjIDs:\n",
    "#         print(subj)\n",
    "        count_correct = 0\n",
    "        subj_df = df.loc[df['subjID'] == subj]\n",
    "        cleaned_subj_df = subj_df.copy(deep=True) # prevent setting with copy warning\n",
    "        # \n",
    "        subj_sequence[subj] = subj_df.sequenceName.unique()[0]\n",
    "        \n",
    "        # remove trials that are outside the outlier range\n",
    "        c = 0\n",
    "        c_missed = 0\n",
    "        for idx, row in subj_df.iterrows():\n",
    "            stim1 = row['stimulus_0']\n",
    "            stim2 = row['stimulus_1']\n",
    "            # TEMP SOLUTION FOR RANDOM PHP DATA SAVING PROBLEM \n",
    "            if type(stim1) == str:\n",
    "                if stim1.split('/')[1] in catch_stimuli or stim2.split('/')[1] in catch_stimuli:\n",
    "                    ####### VERSION WHERE CATCH TRIALS ARE ATTENTION CHECK: IMAGE 1 IS THE SAME AS IMAGE 2\n",
    "                    c += 1\n",
    "                    if row[\"discrim_choice\"] == 3:\n",
    "#                         print(row[\"discrim_choice\"])\n",
    "                        count_correct += 1\n",
    "#                     else:\n",
    "#                         print(row[\"discrim_choice\"])\n",
    "                    # remove catch trial \n",
    "                    cleaned_subj_df.drop([idx], inplace=True)\n",
    "    #                 print(depth0, depth1, correct_choice, choice)\n",
    "#         print(c_missed, 'Number of catch trials where participants did not see the target')\n",
    "#         print(c)\n",
    "#         print(count_correct)\n",
    "        if count_correct < correct_requirement:\n",
    "#             print('Number correct:', count_correct)\n",
    "            remove.append(subj)\n",
    "        else:\n",
    "            sequence_count[subj_df.sequenceName.unique()[0]] += 1\n",
    "        \n",
    "        df2_list.append(cleaned_subj_df)\n",
    "    \n",
    "    df2 = pd.concat(df2_list)\n",
    "    print(\"Number of participants that did not pass the catch trial check:\", len(remove))\n",
    "    print(\"Participants that were removed:\",remove)\n",
    "    print(\"Sequences that need to be replaced:\")\n",
    "#     for subj in remove:\n",
    "#         print(subj_sequence[subj])\n",
    "    print(\"Sequence count:\")\n",
    "    print(sequence_count)\n",
    "    for index, row in df2.iterrows():\n",
    "        if row['subjID'] in remove:\n",
    "            df2.drop(index, inplace=True)\n",
    "    \n",
    "    return df2\n",
    "    \n",
    "    "
   ]
  },
  {
   "cell_type": "code",
   "execution_count": 71,
   "metadata": {},
   "outputs": [],
   "source": [
    "all_catch_stim = ['000375_2014-06-08_11-17-29_260595134347_rgbf000133-resize_2',\n",
    "              '000569_2014-06-09_22-51-47_260595134347_rgbf000141-resize_3',\n",
    "              '000787_2014-06-08_22-33-53_260595134347_rgbf000175-resize_1',\n",
    "              '002072_2014-06-24_21-48-06_260595134347_rgbf000115-resize_0',\n",
    "              '002364_2014-06-28_20-11-05_260595134347_rgbf000042-resize_0',\n",
    "              '002675_2014-06-13_16-08-49_094959634447_rgbf000151-resize_2',\n",
    "              '003125_2014-05-12_10-39-22_094959634447_rgbf000100-resize_0',\n",
    "              '003395_2014-05-20_15-39-18_094959634447_rgbf000101-resize_0',\n",
    "              '000454_2014-06-08_16-37-28_260595134347_rgbf000048-resize_2',\n",
    "              '000868_2014-06-09_20-49-52_260595134347_rgbf000064-resize_4',\n",
    "              '000953_2014-06-08_11-42-19_260595134347_rgbf000083-resize_0',\n",
    "              '001012_2014-06-08_23-19-38_260595134347_rgbf000057-resize_0',\n",
    "              '001170_2014-06-17_15-43-44_260595134347_rgbf000096-resize_6',\n",
    "              '001222_2014-06-17_16-24-06_260595134347_rgbf000073-resize_0',\n",
    "              '001498_2014-06-19_17-45-14_260595134347_rgbf000129-resize_4',\n",
    "              '001540_2014-06-20_17-01-05_260595134347_rgbf000086-resize_2']"
   ]
  },
  {
   "cell_type": "code",
   "execution_count": 72,
   "metadata": {},
   "outputs": [
    {
     "name": "stdout",
     "output_type": "stream",
     "text": [
      "Number of participants that did not pass the catch trial check: 138\n",
      "Participants that were removed: [486536.0, 525639.0, 200176.0, 879488.0, 349467.0, 767956.0, 248936.0, 187827.0, 246251.0, 666765.0, 589497.0, 504937.0, 882991.0, 312968.0, 605641.0, 807617.0, 466959.0, 286299.0, 357475.0, 983837.0, 499055.0, 679588.0, 968513.0, 146591.0, 428536.0, 316377.0, 864671.0, 746604.0, 420127.0, 971285.0, 523130.0, 794012.0, 705779.0, 516517.0, 892757.0, 479873.0, 642287.0, 700748.0, 599134.0, 539797.0, 766102.0, 236381.0, 881835.0, 191904.0, 125847.0, 275426.0, 703443.0, 791202.0, 892795.0, 934729.0, 396314.0, 176209.0, 812817.0, 838754.0, 302212.0, 950533.0, 212783.0, 885104.0, 432975.0, 953854.0, 657330.0, 197265.0, 279980.0, 680309.0, 369409.0, 213896.0, 689595.0, 699000.0, 206132.0, 427295.0, 513194.0, 395226.0, 788117.0, 492312.0, 324499.0, 759268.0, 475461.0, 420850.0, 349004.0, 952380.0, 828849.0, 650562.0, 461791.0, 136201.0, 387516.0, 687000.0, 658998.0, 814613.0, 449871.0, 274937.0, 240944.0, 366122.0, 722005.0, 432010.0, 478848.0, 902652.0, 146515.0, 785589.0, 397577.0, 920366.0, 714263.0, 138539.0, 849360.0, 695526.0, 538468.0, 496953.0, 283954.0, 582278.0, 416392.0, 977006.0, 255362.0, 430444.0, 267764.0, 305858.0, 722590.0, 256168.0, 364002.0, 999335.0, 645153.0, 428374.0, 450300.0, 404701.0, 296087.0, 338934.0, 524029.0, 213667.0, 811896.0, 271227.0, 115682.0, 378012.0, 566485.0, 594695.0, 664943.0, 924076.0, 934694.0, 643367.0, 487098.0, 636794.0]\n",
      "Sequences that need to be replaced:\n",
      "Sequence count:\n",
      "{'discrim_jsons/v2_shuffled_g0_dr.json': 51, 'discrim_jsons/v2_shuffled_g0_rotated_dr.json': 51, 'discrim_jsons/v2_shuffled_g0_rotated.json': 49, 'discrim_jsons/v2_shuffled_g0.json': 53}\n"
     ]
    }
   ],
   "source": [
    "catch_cleaned_discrim = catchTrial_cleaning(raw_discrim, 7, all_catch_stim)"
   ]
  },
  {
   "cell_type": "code",
   "execution_count": 73,
   "metadata": {},
   "outputs": [
    {
     "data": {
      "text/plain": [
       "array([35, 30, 51, 34, 69, 38, 42, 45, 28, 55, 60, 50, 33, 53, 31, 29, 37,\n",
       "       44, 24, 41, 68, 62, 43, 22, 46, 40, 63, 26, 48, 32, 49, 47, 54, 61,\n",
       "       27, 66, 56, 72, 39, 36, 70, 59, 64, 58, 25, 57, 67])"
      ]
     },
     "execution_count": 73,
     "metadata": {},
     "output_type": "execute_result"
    }
   ],
   "source": [
    "cleaned_ages = catch_cleaned_discrim.age.unique()\n",
    "cleaned_ages"
   ]
  },
  {
   "cell_type": "markdown",
   "metadata": {},
   "source": [
    "\n"
   ]
  },
  {
   "cell_type": "code",
   "execution_count": 74,
   "metadata": {},
   "outputs": [],
   "source": [
    "def RT_cleaning(df, outlier_range, num_trials):\n",
    "    all_subjIDs = df.subjID.unique()\n",
    "    remove = []\n",
    "    df2_list = []\n",
    "    for subj in all_subjIDs:\n",
    "        count = 0\n",
    "        subj_df = df.loc[df['subjID'] == subj]\n",
    "        cleaned_subj_df = subj_df.copy(deep=True) # prevent setting with copy warning\n",
    "        \n",
    "        # calculate subject's average trial RT\n",
    "        average_trial_RT = subj_df[\"trial_RT\"].mean()\n",
    "        std_trial_RT = subj_df[\"trial_RT\"].std()\n",
    "        p_outlier_range = [(average_trial_RT - (3*std_trial_RT)), (average_trial_RT + (3*std_trial_RT))]\n",
    "        \n",
    "        # remove trials that are outside the outlier range\n",
    "        for idx, row in subj_df.iterrows():\n",
    "            RT = row['trial_RT']\n",
    "            if RT < outlier_range[0]:\n",
    "                cleaned_subj_df.drop([idx], inplace=True)\n",
    "                count += 1\n",
    "            if RT > outlier_range[1]:\n",
    "                cleaned_subj_df.drop([idx], inplace=True)\n",
    "                count += 1\n",
    "            try:\n",
    "                if RT < p_outlier_range[0]:\n",
    "                    cleaned_subj_df.drop([idx], inplace=True)\n",
    "                    count += 1\n",
    "                if RT > p_outlier_range[1]:\n",
    "                    cleaned_subj_df.drop([idx], inplace=True)\n",
    "                    count += 1\n",
    "            except:\n",
    "                print(\"Trial already removed\")\n",
    "                \n",
    "        threshold = math.floor(num_trials * 0.1)\n",
    "        if count >= threshold:\n",
    "            remove.append(subj)\n",
    "        \n",
    "        df2_list.append(cleaned_subj_df)\n",
    "    \n",
    "    df2 = pd.concat(df2_list)\n",
    "    print(\"Number of Participants with 10% or more trials outside their RT range:\", len(remove))\n",
    "    \n",
    "    for index, row in df2.iterrows():\n",
    "        if row['subjID'] in remove:\n",
    "            df2.drop(index, inplace=True)\n",
    "    \n",
    "    return df2\n"
   ]
  },
  {
   "cell_type": "code",
   "execution_count": 75,
   "metadata": {
    "collapsed": true,
    "jupyter": {
     "outputs_hidden": true
    }
   },
   "outputs": [
    {
     "name": "stdout",
     "output_type": "stream",
     "text": [
      "Trial already removed\n",
      "Trial already removed\n",
      "Trial already removed\n",
      "Trial already removed\n",
      "Trial already removed\n",
      "Trial already removed\n",
      "Trial already removed\n",
      "Trial already removed\n",
      "Trial already removed\n",
      "Trial already removed\n",
      "Trial already removed\n",
      "Trial already removed\n",
      "Trial already removed\n",
      "Trial already removed\n",
      "Trial already removed\n",
      "Trial already removed\n",
      "Trial already removed\n",
      "Trial already removed\n",
      "Trial already removed\n",
      "Trial already removed\n",
      "Trial already removed\n",
      "Trial already removed\n",
      "Trial already removed\n",
      "Trial already removed\n",
      "Trial already removed\n",
      "Trial already removed\n",
      "Trial already removed\n",
      "Trial already removed\n",
      "Trial already removed\n",
      "Trial already removed\n",
      "Trial already removed\n",
      "Trial already removed\n",
      "Trial already removed\n",
      "Trial already removed\n",
      "Number of Participants with 10% or more trials outside their RT range: 12\n"
     ]
    }
   ],
   "source": [
    "cleaned_discrim = RT_cleaning(catch_cleaned_discrim, [250,5000], 32)\n",
    "\n",
    "\n",
    "# cleaned_discrim = RT_cleaning(catch_cleaned_discrim, [250,5000], 32)"
   ]
  },
  {
   "cell_type": "code",
   "execution_count": 76,
   "metadata": {},
   "outputs": [],
   "source": [
    "def finalTrialCountCheck(df, num_trials):\n",
    "    \"\"\"\n",
    "    If more then 10% of a participants data is missing, remove the participant\n",
    "    \"\"\"\n",
    "    #List unique values in the df['subjID'] column\\n\",\n",
    "    all_subjIDs = df.subjID.unique()\n",
    "    remove = []\n",
    "    for subj in all_subjIDs:\n",
    "        subj_df = df.loc[df['subjID'] == subj]\n",
    "        count_trials = len(subj_df.index)\n",
    "        threshold_trials_remaining = num_trials - math.floor(num_trials * 0.1)\n",
    "        \n",
    "        if count_trials <= threshold_trials_remaining:\n",
    "            remove.append(subj)\n",
    "    print(\"Number of Participants with >= 10% trials removed:\", len(remove))\n",
    "    \n",
    "    for index, row in df.iterrows():\n",
    "        if row['subjID'] in remove:\n",
    "            df.drop(index, inplace=True)\n",
    "    \n",
    "    print(\"Number of participants left:\",len(df.subjID.unique()))\n",
    "    \n",
    "    return df"
   ]
  },
  {
   "cell_type": "code",
   "execution_count": 77,
   "metadata": {},
   "outputs": [
    {
     "name": "stdout",
     "output_type": "stream",
     "text": [
      "Number of Participants with >= 10% trials removed: 0\n",
      "Number of participants left: 192\n"
     ]
    }
   ],
   "source": [
    "final_discrim = finalTrialCountCheck(cleaned_discrim, 32)"
   ]
  },
  {
   "cell_type": "markdown",
   "metadata": {},
   "source": [
    "## Sequences that need replacing\n",
    "\n",
    "Final N = 192 \n",
    "\n",
    "Each sequence should have 48 participants"
   ]
  },
  {
   "cell_type": "code",
   "execution_count": 78,
   "metadata": {},
   "outputs": [
    {
     "data": {
      "text/plain": [
       "{'discrim_jsons/v2_shuffled_g0_dr.json': 48,\n",
       " 'discrim_jsons/v2_shuffled_g0_rotated_dr.json': 48,\n",
       " 'discrim_jsons/v2_shuffled_g0_rotated.json': 48,\n",
       " 'discrim_jsons/v2_shuffled_g0.json': 48}"
      ]
     },
     "execution_count": 78,
     "metadata": {},
     "output_type": "execute_result"
    }
   ],
   "source": [
    "sequence_count = {}\n",
    "for subj in final_discrim.subjID.unique():\n",
    "    subj_df = final_discrim.loc[final_discrim['subjID'] == subj]\n",
    "    sequence = subj_df.sequenceName.unique()[0]\n",
    "    if sequence not in sequence_count.keys():\n",
    "        sequence_count[sequence] = 1\n",
    "    else:\n",
    "        sequence_count[sequence] += 1\n",
    "        \n",
    "sequence_count"
   ]
  },
  {
   "cell_type": "markdown",
   "metadata": {},
   "source": [
    "Need to collect:\n",
    "\n",
    "{'discrim_jsons/v2_shuffled_g0_dr.json': 0,\n",
    "\n",
    " 'discrim_jsons/v2_shuffled_g0_rotated_dr.json': 0,\n",
    " \n",
    " 'discrim_jsons/v2_shuffled_g0_rotated.json': 0,\n",
    " \n",
    " 'discrim_jsons/v2_shuffled_g0.json': 0}"
   ]
  },
  {
   "cell_type": "code",
   "execution_count": 177,
   "metadata": {},
   "outputs": [
    {
     "data": {
      "text/plain": [
       "array([228728., 807208., 412083., 509688., 850447., 282973., 549702.,\n",
       "       315165., 218453., 881035., 506102., 326488., 149233., 409675.,\n",
       "       593083., 439919., 189696., 652893., 499784., 448318., 945974.,\n",
       "       101085., 868542., 673597., 695299., 509364., 526040., 587621.,\n",
       "       154237., 873482., 170866., 537644., 550483., 968398., 116785.,\n",
       "       374289., 583569., 984970., 601731., 557596., 136209., 569496.,\n",
       "       777255., 570653., 337469., 931400., 469243., 855688., 458147.,\n",
       "       468752., 319731., 623661., 126249., 132769., 588045., 146023.,\n",
       "       947579., 900787., 740391., 562207., 415504., 897685., 305022.,\n",
       "       208718., 654905., 487859., 151211., 311185., 302050., 665528.,\n",
       "       153669., 180116., 368082., 967964., 480536., 933073., 964434.,\n",
       "       392858., 970307., 177380., 940410., 940154., 954125., 572003.,\n",
       "       672325., 494769., 694658., 454005., 852332., 670472., 802992.,\n",
       "       990279., 746934., 477361., 417317., 618864., 850004., 713572.,\n",
       "       310205., 357243., 635385., 897071., 999555., 320851., 530464.,\n",
       "       545910., 690613., 517370., 721702., 604872., 288073., 442127.,\n",
       "       437960., 736836., 632400., 767103., 887709., 114896., 771204.,\n",
       "       610356., 128683., 264923., 927395., 448015., 197206., 559676.,\n",
       "       170302., 901232., 775008., 253036., 677460., 249952., 245029.,\n",
       "       624357., 721169., 536410., 714947., 913674., 286742., 149945.,\n",
       "       364119., 925730., 728400., 171988., 940854., 715476., 837636.,\n",
       "       549730., 873562., 399813., 782175., 622539., 815017., 206999.,\n",
       "       244020., 649260., 353531., 541727., 344924., 284185., 695407.,\n",
       "       799218., 121490., 283503., 282677., 661208., 994385., 843308.,\n",
       "       567999., 600090., 269839., 253854., 127781., 576298., 640977.,\n",
       "       717628., 954632., 369394., 993029., 735628., 900912., 796203.,\n",
       "       686675., 276343., 522573., 722449., 147251., 367092., 499022.,\n",
       "       385749., 210652., 755967.])"
      ]
     },
     "execution_count": 177,
     "metadata": {},
     "output_type": "execute_result"
    }
   ],
   "source": [
    "# final list of subjects \n",
    "final_discrim.subjID.unique()"
   ]
  },
  {
   "cell_type": "markdown",
   "metadata": {},
   "source": [
    "# Correlation with Verbal Report data \n",
    "\n",
    "- For each discrimination trial, get the average difference between the verbal report for those scenes \n",
    "- Correlate that with the proportion correct for that trial \n",
    "- Is there better accuracy for scenes that have a larget percevied depth difference (using the verbal report data)?"
   ]
  },
  {
   "cell_type": "markdown",
   "metadata": {},
   "source": [
    "## Individual Discriminations"
   ]
  },
  {
   "cell_type": "code",
   "execution_count": 79,
   "metadata": {},
   "outputs": [],
   "source": [
    "def get_accuracy(df):\n",
    "    \"\"\"\n",
    "    * ACCURACY BASED ON THE KINECT\n",
    "    args:\n",
    "        df  \n",
    "    returns:\n",
    "        proportion of correct responses, count of correct responses, count of total trials  \n",
    "    \"\"\"\n",
    "    count_correct = 0\n",
    "    count_incorrect = 0\n",
    "    count_total = 0\n",
    "    count_missed = 0\n",
    "    for idx, row in df.iterrows():\n",
    "        choice = row[\"discrim_choice\"]\n",
    "        if choice == 2.0:\n",
    "            count_missed += 1\n",
    "        else:    \n",
    "            count_total += 1\n",
    "            depth0 = row[\"actual_depth_0\"]\n",
    "            depth1 = row[\"actual_depth_1\"]\n",
    "            if depth0 < depth1:\n",
    "                correct_choice = 0\n",
    "            if depth0 > depth1:\n",
    "                correct_choice = 1\n",
    "            if depth0 == depth1:\n",
    "                # case where depths are equal \n",
    "                correct_choice = None\n",
    "            if choice == correct_choice:\n",
    "                count_correct += 1\n",
    "    \n",
    "    return count_correct/count_total, count_correct, count_total, count_missed\n",
    "\n",
    "def get_RT(df):\n",
    "    \"\"\"\n",
    "    args:\n",
    "        df  \n",
    "    returns:\n",
    "        array of RTs, avg RT and std   \n",
    "    \"\"\"\n",
    "    list_RTs = []\n",
    "    for idx, row in df.iterrows():   \n",
    "        stimulus_duration = row['log_sceneDuration2']\n",
    "        RT = row[\"trial_RT\"] - stimulus_duration\n",
    "        list_RTs.append(RT)\n",
    "    \n",
    "    list_RTs = np.array(list_RTs)\n",
    "    \n",
    "    return list_RTs, np.mean(list_RTs) ,np.std(list_RTs)"
   ]
  },
  {
   "cell_type": "code",
   "execution_count": 80,
   "metadata": {},
   "outputs": [],
   "source": [
    "def depth_differences(df):\n",
    "    \"\"\"\n",
    "    args:\n",
    "        df  \n",
    "    returns:\n",
    "        array of depth differences, avg depth differences and std   \n",
    "    \"\"\"\n",
    "    depth_diffs = []\n",
    "    for idx, row in df.iterrows():\n",
    "        depth0 = row[\"actual_depth_0\"]\n",
    "        depth1 = row[\"actual_depth_1\"]\n",
    "        \n",
    "        diff = abs(depth0-depth1)\n",
    "        depth_diffs.append(diff)\n",
    "    \n",
    "    depth_diffs = np.array(depth_diffs)\n",
    "    \n",
    "    return depth_diffs, np.mean(depth_diffs) ,np.std(depth_diffs)\n",
    "    "
   ]
  },
  {
   "cell_type": "code",
   "execution_count": 81,
   "metadata": {},
   "outputs": [],
   "source": [
    "all_depth_diffs = depth_differences(final_discrim)\n",
    "\n",
    "# add depth difference column to dataframe \n",
    "final_discrim.insert(18, \"depth_difference\", all_depth_diffs[0])"
   ]
  },
  {
   "cell_type": "code",
   "execution_count": 82,
   "metadata": {},
   "outputs": [],
   "source": [
    "def individual_discrimination_stats(df):\n",
    "    '''\n",
    "    Individual discrimination performance and RT \n",
    "    '''\n",
    "    all_stim0 = df.stimulus_0.unique()\n",
    "    \n",
    "    stimuli_stats = {}\n",
    "    for stim0 in all_stim0:\n",
    "        stim0_df = df.loc[df['stimulus_0'] == stim0]\n",
    "        other_stim = stim0_df.stimulus_1.unique()[0]\n",
    "        stim1_df = df.loc[df['stimulus_1'] == stim0]\n",
    "        # df for a specific discrimination trial (collapsed on stim presentation order)\n",
    "        stim_df = pd.concat([stim0_df, stim1_df], ignore_index=True)\n",
    "        stim_250_df = stim_df[stim_df['duration'] == 250.0]\n",
    "        stim_1000_df = stim_df[stim_df['duration'] == 1000.0] \n",
    "        \n",
    "        stim_depthdiff = stim_df['depth_difference'][0]\n",
    "        \n",
    "        stim0_depth = stim_df['actual_depth_0'][0]\n",
    "        stim1_depth = stim_df['actual_depth_1'][0]\n",
    "        stim_depthbin = np.mean(np.array([stim0_depth,stim1_depth]))\n",
    "        \n",
    "        stim_acc_250 = get_accuracy(stim_250_df)\n",
    "        stim_acc_1000 = get_accuracy(stim_1000_df)\n",
    "        \n",
    "        stim_RT_250 = get_RT(stim_250_df)\n",
    "        stim_RT_1000 = get_RT(stim_1000_df)\n",
    "        \n",
    "        stimuli_stats[stim0] = {'stimulus_1': other_stim,\n",
    "                                'accuracy_250': stim_acc_250,\n",
    "                                'accuracy_1000': stim_acc_1000,\n",
    "                                'avg_depth': stim_depthbin,\n",
    "                                'depthdifference': stim_depthdiff, \n",
    "                                'RT_250': stim_RT_250,\n",
    "                                'RT_1000': stim_RT_1000}\n",
    "    \n",
    "    return stimuli_stats"
   ]
  },
  {
   "cell_type": "code",
   "execution_count": 83,
   "metadata": {},
   "outputs": [],
   "source": [
    "all_discrim_performance = individual_discrimination_stats(final_discrim)\n"
   ]
  },
  {
   "cell_type": "markdown",
   "metadata": {},
   "source": [
    "## Load Raw TAC Verbal Judgement Data"
   ]
  },
  {
   "cell_type": "code",
   "execution_count": 84,
   "metadata": {},
   "outputs": [],
   "source": [
    "TAC_raw_individual_trial_data_path  = '/Users/pmahableshwarkar/Documents/Depth_Project/depth_duration_analysis/TAC_npy_files/TAC_raw_individual_trial_data/'\n",
    "\n",
    "# TAC_raw_individual_trial_data_path = '/Users/prachimahableshwarkar/Documents/GW/Depth_MTurk/depth_duration_analysis/TAC_npy_files/TAC_raw_individual_trial_data/'\n",
    "\n",
    "# x data\n",
    "with open(TAC_raw_individual_trial_data_path + 'X_250.npy' , 'rb') as f:\n",
    "    TAC_X_250 = np.load(f, allow_pickle=True)\n",
    "\n",
    "with open(TAC_raw_individual_trial_data_path + 'X_500.npy' , 'rb') as f:\n",
    "    TAC_X_500 = np.load(f, allow_pickle=True)\n",
    "    \n",
    "with open(TAC_raw_individual_trial_data_path + 'X_750.npy' , 'rb') as f:\n",
    "    TAC_X_750 = np.load(f, allow_pickle=True)\n",
    "\n",
    "with open(TAC_raw_individual_trial_data_path + 'X_1000.npy' , 'rb') as f:\n",
    "    TAC_X_1000 = np.load(f, allow_pickle=True)\n",
    "# y data \n",
    "with open(TAC_raw_individual_trial_data_path + 'final_y_250.npy' , 'rb') as f:\n",
    "    TAC_final_y_250 = np.load(f, allow_pickle=True)\n",
    "    \n",
    "with open(TAC_raw_individual_trial_data_path + 'final_y_500.npy' , 'rb') as f:\n",
    "    TAC_final_y_500 = np.load(f, allow_pickle=True)\n",
    "    \n",
    "with open(TAC_raw_individual_trial_data_path + 'final_y_750.npy' , 'rb') as f:\n",
    "    TAC_final_y_750 = np.load(f, allow_pickle=True)\n",
    "    \n",
    "with open(TAC_raw_individual_trial_data_path + 'final_y_1000.npy' , 'rb') as f:\n",
    "    TAC_final_y_1000= np.load(f, allow_pickle=True)\n",
    "    \n",
    "with open(TAC_raw_individual_trial_data_path + 'final_stim_250.npy', 'rb') as f:\n",
    "    TAC_final_stim_250 = np.load(f, allow_pickle=True)\n",
    "    \n",
    "with open(TAC_raw_individual_trial_data_path + 'final_stim_500.npy', 'rb') as f:\n",
    "    TAC_final_stim_500 = np.load(f, allow_pickle=True)\n",
    "    \n",
    "with open(TAC_raw_individual_trial_data_path + 'final_stim_750.npy', 'rb') as f:\n",
    "    TAC_final_stim_750 = np.load(f, allow_pickle=True)\n",
    "    \n",
    "with open(TAC_raw_individual_trial_data_path + 'final_stim_1000.npy', 'rb') as f:\n",
    "    TAC_final_stim_1000 = np.load(f, allow_pickle=True)\n",
    "    \n",
    "# std data\n",
    "with open(TAC_raw_individual_trial_data_path + 'std_250.npy' , 'rb') as f:\n",
    "    TAC_std_250 = np.load(f, allow_pickle=True)\n",
    "\n",
    "with open(TAC_raw_individual_trial_data_path + 'std_500.npy' , 'rb') as f:\n",
    "    TAC_std_500 = np.load(f, allow_pickle=True)\n",
    "    \n",
    "with open(TAC_raw_individual_trial_data_path + 'std_750.npy' , 'rb') as f:\n",
    "    TAC_std_750 = np.load(f, allow_pickle=True)\n",
    "\n",
    "with open(TAC_raw_individual_trial_data_path + 'std_1000.npy' , 'rb') as f:\n",
    "    TAC_std_1000 = np.load(f, allow_pickle=True)"
   ]
  },
  {
   "cell_type": "markdown",
   "metadata": {},
   "source": [
    "## Load Normalized TAC Verbal Judgement Data\n"
   ]
  },
  {
   "cell_type": "code",
   "execution_count": 85,
   "metadata": {},
   "outputs": [],
   "source": [
    "TAC_normed_individual_trial_data_path = '/Users/pmahableshwarkar/Documents/Depth_Project/depth_duration_analysis/TAC_npy_files/TAC_normalized_individual_trial_data/'\n",
    "\n",
    "# TAC_normed_individual_trial_data_path = '/Users/prachimahableshwarkar/Documents/GW/Depth_MTurk/depth_duration_analysis/TAC_npy_files/TAC_normalized_individual_trial_data/'\n",
    "\n",
    "# x data\n",
    "with open(TAC_normed_individual_trial_data_path + 'n_X_250.npy' , 'rb') as f:\n",
    "    n_TAC_X_250 = np.load(f, allow_pickle=True)\n",
    "\n",
    "with open(TAC_normed_individual_trial_data_path + 'n_X_500.npy' , 'rb') as f:\n",
    "    n_TAC_X_500 = np.load(f, allow_pickle=True)\n",
    "    \n",
    "with open(TAC_normed_individual_trial_data_path + 'n_X_750.npy' , 'rb') as f:\n",
    "    n_TAC_X_750 = np.load(f, allow_pickle=True)\n",
    "\n",
    "with open(TAC_normed_individual_trial_data_path + 'n_X_1000.npy' , 'rb') as f:\n",
    "    n_TAC_X_1000 = np.load(f, allow_pickle=True)\n",
    "# y data \n",
    "with open(TAC_normed_individual_trial_data_path + 'n_final_y_250.npy' , 'rb') as f:\n",
    "    n_TAC_final_y_250 = np.load(f, allow_pickle=True)\n",
    "    \n",
    "with open(TAC_normed_individual_trial_data_path + 'n_final_y_500.npy' , 'rb') as f:\n",
    "    n_TAC_final_y_500 = np.load(f, allow_pickle=True)\n",
    "    \n",
    "with open(TAC_normed_individual_trial_data_path + 'n_final_y_750.npy' , 'rb') as f:\n",
    "    n_TAC_final_y_750 = np.load(f, allow_pickle=True)\n",
    "    \n",
    "with open(TAC_normed_individual_trial_data_path + 'n_final_y_1000.npy' , 'rb') as f:\n",
    "    n_TAC_final_y_1000= np.load(f, allow_pickle=True)\n",
    "\n",
    "# std data\n",
    "with open(TAC_normed_individual_trial_data_path + 'n_std_250.npy' , 'rb') as f:\n",
    "    n_TAC_std_250 = np.load(f, allow_pickle=True)\n",
    "\n",
    "\n",
    "with open(TAC_normed_individual_trial_data_path + 'n_std_1000.npy' , 'rb') as f:\n",
    "    n_TAC_std_1000 = np.load(f, allow_pickle=True)"
   ]
  },
  {
   "cell_type": "code",
   "execution_count": null,
   "metadata": {},
   "outputs": [],
   "source": []
  },
  {
   "cell_type": "markdown",
   "metadata": {},
   "source": [
    "# Code depth discrimination correctness by the verbal judgement data \n",
    "\n",
    "Create new 'ground truth' answer based on verbal judgement data\n",
    "\n",
    "Task: Respond which image's target was closer to you"
   ]
  },
  {
   "cell_type": "markdown",
   "metadata": {},
   "source": [
    "## Normalized VE Data"
   ]
  },
  {
   "cell_type": "code",
   "execution_count": 86,
   "metadata": {},
   "outputs": [],
   "source": [
    "n_VE_answerkey_250 = {} # corresponding answer key for discrimination trials  \n",
    "\n",
    "for key in all_discrim_performance.keys():\n",
    "    targetimg0 = key.split('/')[-1]\n",
    "    folder0 = targetimg0[:-11]\n",
    "    depth_dur_path0 = 'depth_duration_stimuli/' + folder0 + '/' + targetimg0\n",
    "    idx0 = np.where(TAC_final_stim_250 == depth_dur_path0)[0][0]\n",
    "    avg_estim_stim0 = n_TAC_final_y_250[idx0]\n",
    "    std0 = n_TAC_std_250[idx0]\n",
    "    \n",
    "    targetimg1 = all_discrim_performance[key]['stimulus_1'].split('/')[-1]\n",
    "    folder1 = targetimg1[:-11]\n",
    "    depth_dur_path1 = 'depth_duration_stimuli/' + folder1 + '/' + targetimg1\n",
    "    idx1= np.where(TAC_final_stim_250 == depth_dur_path1)[0][0]\n",
    "    avg_estim_stim1 = n_TAC_final_y_250[idx1]\n",
    "    std1 = n_TAC_std_250[idx1]\n",
    "\n",
    "    if avg_estim_stim0 < avg_estim_stim1:\n",
    "        # Which target is CLOSER to you?\n",
    "        answer = targetimg0\n",
    "    if avg_estim_stim0 == avg_estim_stim1:\n",
    "        print(targetimg0, targetimg1)\n",
    "    if avg_estim_stim0 > avg_estim_stim1:\n",
    "        answer = targetimg1\n",
    "\n",
    "    n_VE_answerkey_250[key] = {'stimulus_1': targetimg1,\n",
    "                             'stimulus_0_avg_estim': avg_estim_stim0,\n",
    "                             'stimulus_1_avg_estim': avg_estim_stim1,\n",
    "                             'answer': answer,\n",
    "                             'std0': std0,\n",
    "                             'std1': std1}\n",
    "    "
   ]
  },
  {
   "cell_type": "code",
   "execution_count": 87,
   "metadata": {},
   "outputs": [
    {
     "data": {
      "text/plain": [
       "(64,\n",
       " {'stimulus_1': '001164_2014-06-17_15-35-46_260595134347_rgbf000085-resize_3-target.png',\n",
       "  'stimulus_0_avg_estim': 0.833947531883851,\n",
       "  'stimulus_1_avg_estim': 0.8957807546847273,\n",
       "  'answer': '002118_2014-06-25_20-32-08_260595134347_rgbf000078-resize_1-target.png',\n",
       "  'std0': 0.24428101710881583,\n",
       "  'std1': 0.28344868879112933})"
      ]
     },
     "execution_count": 87,
     "metadata": {},
     "output_type": "execute_result"
    }
   ],
   "source": [
    "len(n_VE_answerkey_250), n_VE_answerkey_250['depth_discrimination_stimuli/002118_2014-06-25_20-32-08_260595134347_rgbf000078-resize_1/002118_2014-06-25_20-32-08_260595134347_rgbf000078-resize_1-target.png']\n"
   ]
  },
  {
   "cell_type": "code",
   "execution_count": 88,
   "metadata": {},
   "outputs": [],
   "source": [
    "n_VE_answerkey_1000 = {} # corresponding answer key for discrimination trials  \n",
    "\n",
    "for key in all_discrim_performance.keys():\n",
    "    targetimg0 = key.split('/')[-1]\n",
    "    folder0 = targetimg0[:-11]\n",
    "    depth_dur_path0 = 'depth_duration_stimuli/' + folder0 + '/' + targetimg0\n",
    "    idx0 = np.where(TAC_final_stim_1000 == depth_dur_path0)[0][0]\n",
    "    avg_estim_stim0 = n_TAC_final_y_1000[idx0]\n",
    "    std0 = n_TAC_std_1000[idx0]\n",
    "\n",
    "    targetimg1 = all_discrim_performance[key]['stimulus_1'].split('/')[-1]\n",
    "    folder1 = targetimg1[:-11]\n",
    "    depth_dur_path1 = 'depth_duration_stimuli/' + folder1 + '/' + targetimg1\n",
    "    idx1= np.where(TAC_final_stim_1000 == depth_dur_path1)[0][0]\n",
    "    avg_estim_stim1 = n_TAC_final_y_1000[idx1]\n",
    "    std1 = n_TAC_std_1000[idx1]\n",
    "    \n",
    "    if avg_estim_stim0 < avg_estim_stim1:\n",
    "        # Which target is CLOSER to you?\n",
    "        answer = targetimg0\n",
    "    if avg_estim_stim0 == avg_estim_stim1:\n",
    "        print(targetimg0, targetimg1)\n",
    "    if avg_estim_stim0 > avg_estim_stim1:\n",
    "        answer = targetimg1\n",
    "\n",
    "    n_VE_answerkey_1000[key] = {'stimulus_1': targetimg1,\n",
    "                             'stimulus_0_avg_estim': avg_estim_stim0,\n",
    "                             'stimulus_1_avg_estim': avg_estim_stim1,\n",
    "                             'answer': answer,\n",
    "                             'std0': std0,\n",
    "                             'std1': std1}\n",
    "    "
   ]
  },
  {
   "cell_type": "code",
   "execution_count": 89,
   "metadata": {},
   "outputs": [
    {
     "data": {
      "text/plain": [
       "(64,\n",
       " {'stimulus_1': '001164_2014-06-17_15-35-46_260595134347_rgbf000085-resize_3-target.png',\n",
       "  'stimulus_0_avg_estim': 0.8866695271052695,\n",
       "  'stimulus_1_avg_estim': 0.8098607254917454,\n",
       "  'answer': '001164_2014-06-17_15-35-46_260595134347_rgbf000085-resize_3-target.png',\n",
       "  'std0': 0.30669074672292423,\n",
       "  'std1': 0.4181498748134327})"
      ]
     },
     "execution_count": 89,
     "metadata": {},
     "output_type": "execute_result"
    }
   ],
   "source": [
    "len(n_VE_answerkey_1000), n_VE_answerkey_1000['depth_discrimination_stimuli/002118_2014-06-25_20-32-08_260595134347_rgbf000078-resize_1/002118_2014-06-25_20-32-08_260595134347_rgbf000078-resize_1-target.png']\n"
   ]
  },
  {
   "cell_type": "code",
   "execution_count": null,
   "metadata": {},
   "outputs": [],
   "source": []
  },
  {
   "cell_type": "code",
   "execution_count": 90,
   "metadata": {},
   "outputs": [],
   "source": [
    "def VE_accuracy(stim0, df, answerkey):\n",
    "    '''\n",
    "    Accuracy based on the verbal judgement data \n",
    "    '''\n",
    "    \n",
    "    \"\"\"\n",
    "    args:\n",
    "        df  \n",
    "    returns:\n",
    "        proportion of correct responses, count of correct responses, count of total trials  \n",
    "    \"\"\"\n",
    "    count_correct = 0\n",
    "    count_incorrect = 0\n",
    "    count_total = 0\n",
    "    count_missed = 0\n",
    "    \n",
    "    VE_correct_answer = answerkey[stim0]['answer']\n",
    "    for idx, row in df.iterrows(): \n",
    "        choice = row[\"discrim_choice\"]\n",
    "        count_total += 1\n",
    "        if choice == 0.0:\n",
    "            image_choice = row[\"stimulus_0\"]\n",
    "                \n",
    "        if choice == 1.0:\n",
    "            image_choice = row[\"stimulus_1\"]\n",
    "                \n",
    "        if choice == 2.0:\n",
    "            count_missed += 1\n",
    "            \n",
    "        if choice == 3.0:\n",
    "            count_missed += 1\n",
    "        \n",
    "        try:\n",
    "            if image_choice.split('/')[-1] == VE_correct_answer:\n",
    "                count_correct += 1\n",
    "        except:\n",
    "            pass\n",
    "        \n",
    "    \n",
    "    return count_correct/count_total, count_correct, count_total, count_missed\n",
    "\n",
    "    \n",
    "def main_VE_accuracy(df, answerkey_250, answerkey_1000):\n",
    "    all_stim0 = df.stimulus_0.unique()\n",
    "    \n",
    "    stimuli_stats = {}\n",
    "    for stim0 in all_stim0:\n",
    "        # dataframe for stimulus 0\n",
    "        stim0_df = df.loc[df['stimulus_0'] == stim0]\n",
    "        # name of stimulus 1\n",
    "        other_stim = stim0_df.stimulus_1.unique()[0]\n",
    "        # dataframe where stimulus 0 is presented SECOND (same trial)\n",
    "        stim1_df = df.loc[df['stimulus_1'] == stim0]\n",
    "        \n",
    "        # df for a specific discrimination trial (collapsed on stim presentation order)\n",
    "        stim_df = pd.concat([stim0_df, stim1_df], ignore_index=True)\n",
    "        stim_250_df = stim_df[stim_df['duration'] == 250.0]\n",
    "        stim_1000_df = stim_df[stim_df['duration'] == 1000.0] \n",
    "        \n",
    "#         stim_depthdiff = stim_df['depth_difference'][0]\n",
    "        \n",
    "        stim0_depth = stim_df['actual_depth_0'][0]\n",
    "        stim1_depth = stim_df['actual_depth_1'][0]\n",
    "        stim_depthbin = np.mean(np.array([stim0_depth,stim1_depth]))\n",
    "        \n",
    "        stim_acc_250 = VE_accuracy(stim0, stim_250_df, answerkey_250)\n",
    "        stim_acc_1000 = VE_accuracy(stim0, stim_1000_df, answerkey_1000)\n",
    "        \n",
    "        stim_RT_250 = get_RT(stim_250_df)\n",
    "        stim_RT_1000 = get_RT(stim_1000_df)\n",
    "        \n",
    "        # difference between verbal judgements divided by joint variance \n",
    "        # abs(VE1-VE2)/sqrt(stda^2 + std2^2)\n",
    "        std0_250 = answerkey_250[stim0]['std0']\n",
    "        std1_250 = answerkey_250[stim0]['std1']\n",
    "        joint_variance_250 = np.sqrt(std0_250**2 + std1_250**2)\n",
    "        JV_regressor_250 = abs(answerkey_250[stim0]['stimulus_0_avg_estim'] - answerkey_250[stim0]['stimulus_1_avg_estim'])/joint_variance_250\n",
    "        \n",
    "        std0_1000 = answerkey_1000[stim0]['std0']\n",
    "        std1_1000 = answerkey_1000[stim0]['std1']\n",
    "        joint_variance_1000 = np.sqrt(std0_1000**2 + std1_1000**2)\n",
    "        JV_regressor_1000 = abs(answerkey_1000[stim0]['stimulus_0_avg_estim'] - answerkey_1000[stim0]['stimulus_1_avg_estim'])/joint_variance_1000\n",
    "        \n",
    "        stimuli_stats[stim0] = {'stimulus_1': other_stim,\n",
    "                                'accuracy_250': stim_acc_250,\n",
    "                                'accuracy_1000': stim_acc_1000,\n",
    "                                'avg_depth': stim_depthbin,\n",
    "                                'VE_depthdifference_250': abs(answerkey_250[stim0]['stimulus_0_avg_estim'] - answerkey_250[stim0]['stimulus_1_avg_estim']), \n",
    "                                'VE_depthdifference_1000': abs(answerkey_1000[stim0]['stimulus_0_avg_estim'] - answerkey_1000[stim0]['stimulus_1_avg_estim']),\n",
    "                                'RT_250': stim_RT_250,\n",
    "                                'RT_1000': stim_RT_1000,\n",
    "                                'JV_regressor_250': JV_regressor_250,\n",
    "                                'JV_regressor_1000': JV_regressor_1000}\n",
    "        \n",
    "    \n",
    "    return stimuli_stats\n",
    "    "
   ]
  },
  {
   "cell_type": "code",
   "execution_count": 91,
   "metadata": {},
   "outputs": [],
   "source": [
    "n_all_VE_discrim_performance = main_VE_accuracy(final_discrim, n_VE_answerkey_250, n_VE_answerkey_1000) "
   ]
  },
  {
   "cell_type": "code",
   "execution_count": 92,
   "metadata": {},
   "outputs": [
    {
     "data": {
      "text/plain": [
       "{'stimulus_1': 'depth_discrimination_stimuli/000109_2014-05-14_23-41-52_260595134347_rgbf000035-resize_9/000109_2014-05-14_23-41-52_260595134347_rgbf000035-resize_9-target.png',\n",
       " 'accuracy_250': (0.5425531914893617, 51, 94, 2),\n",
       " 'accuracy_1000': (0.4148936170212766, 39, 94, 3),\n",
       " 'avg_depth': 1.6135000000000002,\n",
       " 'VE_depthdifference_250': 0.08418415223432063,\n",
       " 'VE_depthdifference_1000': 0.014958625427249683,\n",
       " 'RT_250': (array([ 930.,  962.,  901., 1191., 1017., 1460.,  764.,  837., 2994.,\n",
       "         1533.,  889.,  889., 1498., 1564., 1114., 1694., 1237., 1568.,\n",
       "          654., 1146., 1159.,  651., 1045.,  825., 2908., 1023.,  817.,\n",
       "         1156.,  994.,  968.,  961., 1003.,  841.,  689., 2638., 2444.,\n",
       "         1446., 1187.,  955., 1408., 1916., 1198.,  991., 1180.,  859.,\n",
       "         1602., 1637., 1010., 1165.,  917., 1174., 1181., 1116.,  857.,\n",
       "         2417., 1288.,  767., 1017.,  890.,  544., 1577., 1588.,  862.,\n",
       "         1768.,  945., 1441., 1039., 1045., 1622., 2516.,  961., 2214.,\n",
       "          963.,  954.,  829.,  882.,  920., 1088., 3328., 1012.,  794.,\n",
       "          671.,  807., 1033., 1365., 1413., 3035., 1108.,  790., 1443.,\n",
       "         1195., 1694., 1297., 1779.]), 1273.0212765957447, 563.0909185256231),\n",
       " 'RT_1000': (array([1094.,  882., 1128., 1065.,  655., 2350., 1047., 1057., 1152.,\n",
       "         2425., 1327., 1104.,  531., 1063., 1037., 1141.,  922.,  576.,\n",
       "          925.,  923.,  865., 2164., 1035.,  905.,  625.,  871., 1522.,\n",
       "         1504.,  799.,  656.,  978., 1221.,  887., 1089., 1071.,  916.,\n",
       "         3070.,  985., 2360.,  911., 1080.,  792.,  905.,  887., 1148.,\n",
       "         1339.,  889., 3972., 1176.,  857.,  755.,  770.,  936., 1006.,\n",
       "         1135.,  988.,  860., 1880.,  925., 1360.,  949.,  964., 1031.,\n",
       "         1228., 1083., 1070., 1033.,  911., 1207., 1386.,  837.,  876.,\n",
       "         1083.,  932., 1295.,  742.,  772., 1481.,  892., 1872.,  799.,\n",
       "         1252.,  798., 1405.,  819., 1901., 1163.,  781., 1049.,  797.,\n",
       "         1425., 2567.,  548., 1221.]), 1156.031914893617, 532.2435143389797),\n",
       " 'JV_regressor_250': 0.20626738324228341,\n",
       " 'JV_regressor_1000': 0.03688879424346675}"
      ]
     },
     "execution_count": 92,
     "metadata": {},
     "output_type": "execute_result"
    }
   ],
   "source": [
    "n_all_VE_discrim_performance['depth_discrimination_stimuli/001618_2014-06-20_11-37-31_260595134347_rgbf000027-resize_3/001618_2014-06-20_11-37-31_260595134347_rgbf000027-resize_3-target.png']\n",
    "\n"
   ]
  },
  {
   "cell_type": "code",
   "execution_count": 93,
   "metadata": {},
   "outputs": [],
   "source": [
    "n_VE_estim_diff_250 = [n_all_VE_discrim_performance[elem]['VE_depthdifference_250'] for elem in n_all_VE_discrim_performance]\n",
    "n_VE_estim_diff_1000 = [n_all_VE_discrim_performance[elem]['VE_depthdifference_1000'] for elem in n_all_VE_discrim_performance]\n",
    "\n",
    "n_VE_accuracy_250 = [n_all_VE_discrim_performance[elem]['accuracy_250'][0] for elem in n_all_VE_discrim_performance]\n",
    "n_VE_accuracy_1000 = [n_all_VE_discrim_performance[elem]['accuracy_1000'][0] for elem in n_all_VE_discrim_performance]\n",
    "\n",
    "n_avg_RT_250 = [n_all_VE_discrim_performance[elem]['RT_250'][1] for elem in n_all_VE_discrim_performance]\n",
    "n_avg_RT_1000 = [n_all_VE_discrim_performance[elem]['RT_1000'][1] for elem in n_all_VE_discrim_performance]\n",
    "\n",
    "n_JV_250 = [n_all_VE_discrim_performance[elem]['JV_regressor_250'] for elem in n_all_VE_discrim_performance]\n",
    "n_JV_1000 = [n_all_VE_discrim_performance[elem]['JV_regressor_1000'] for elem in n_all_VE_discrim_performance]"
   ]
  },
  {
   "cell_type": "markdown",
   "metadata": {},
   "source": [
    "#### Overall Accuracy: Coded by Normalized VE"
   ]
  },
  {
   "cell_type": "code",
   "execution_count": 94,
   "metadata": {},
   "outputs": [
    {
     "data": {
      "text/plain": [
       "(0.6494149185458284, 0.6603926608017532)"
      ]
     },
     "execution_count": 94,
     "metadata": {},
     "output_type": "execute_result"
    }
   ],
   "source": [
    "np.mean(n_VE_accuracy_250), np.mean(n_VE_accuracy_1000)"
   ]
  },
  {
   "cell_type": "code",
   "execution_count": 95,
   "metadata": {},
   "outputs": [
    {
     "name": "stdout",
     "output_type": "stream",
     "text": [
      "250 ms: Correlation between VE discrimination accuracy and average normalized verbal estimate difference\n"
     ]
    },
    {
     "data": {
      "text/plain": [
       "(0.6177114340931791, 5.405997090885836e-08)"
      ]
     },
     "execution_count": 95,
     "metadata": {},
     "output_type": "execute_result"
    }
   ],
   "source": [
    "print('250 ms: Correlation between VE discrimination accuracy and average normalized verbal estimate difference')\n",
    "stats.pearsonr(n_VE_accuracy_250, n_VE_estim_diff_250)"
   ]
  },
  {
   "cell_type": "code",
   "execution_count": 96,
   "metadata": {},
   "outputs": [
    {
     "name": "stdout",
     "output_type": "stream",
     "text": [
      "1000 ms: Correlation between VE discrimination accuracy and average normalized verbal estimate difference\n"
     ]
    },
    {
     "data": {
      "text/plain": [
       "(0.6877811799813452, 3.4222314054952566e-10)"
      ]
     },
     "execution_count": 96,
     "metadata": {},
     "output_type": "execute_result"
    }
   ],
   "source": [
    "print('1000 ms: Correlation between VE discrimination accuracy and average normalized verbal estimate difference')\n",
    "stats.pearsonr(n_VE_accuracy_1000, n_VE_estim_diff_1000)"
   ]
  },
  {
   "cell_type": "code",
   "execution_count": 97,
   "metadata": {},
   "outputs": [
    {
     "data": {
      "image/png": "[encoded data removed]",
      "text/plain": [
       "<Figure size 864x432 with 1 Axes>"
      ]
     },
     "metadata": {
      "needs_background": "light"
     },
     "output_type": "display_data"
    }
   ],
   "source": [
    "plt.figure(figsize=[12,6])\n",
    "plt.plot(np.array(n_VE_estim_diff_250), np.array(n_VE_accuracy_250), 'go', label='250 ms')\n",
    "plt.plot(np.array(n_VE_estim_diff_1000), np.array(n_VE_accuracy_1000), 'ro', label='1000 ms')\n",
    "plt.xlabel('Average Normalized Verbal Estimate Difference', fontsize=15)\n",
    "plt.ylabel('VE Discrimination Proportion Correct', fontsize = 15)\n",
    "plt.legend(fontsize = 12)\n",
    "plt.title('VE Discrimination Proportion Correct vs Avg Normalized Verbal Estimate Difference', fontsize = 18)\n",
    "plt.show();"
   ]
  },
  {
   "cell_type": "code",
   "execution_count": 98,
   "metadata": {},
   "outputs": [
    {
     "name": "stdout",
     "output_type": "stream",
     "text": [
      "m: [0.99011886]\n",
      "b: 0.4832946794344122\n",
      "R-squared:  0.38156741580945175\n"
     ]
    },
    {
     "data": {
      "text/plain": [
       "Text(0.5, 1.0, '250 ms: Accuracy')"
      ]
     },
     "execution_count": 98,
     "metadata": {},
     "output_type": "execute_result"
    },
    {
     "data": {
      "image/png": "[encoded data removed]",
      "text/plain": [
       "<Figure size 576x432 with 1 Axes>"
      ]
     },
     "metadata": {
      "needs_background": "light"
     },
     "output_type": "display_data"
    }
   ],
   "source": [
    "#run regression\n",
    "plt.figure(figsize=[8,6])\n",
    "VE_X_250 = np.array(n_VE_estim_diff_250).reshape(-1,1)\n",
    "VE_PC_250 = n_VE_accuracy_250\n",
    "VE_PC_reg_250 = LinearRegression().fit(VE_X_250, VE_PC_250)\n",
    "\n",
    "#Generated Predictions\n",
    "PC_predicted_250 = VE_PC_reg_250.predict(VE_X_250)\n",
    "#Plot Our Actual and Predicted Values\n",
    "plt.plot(VE_X_250, VE_PC_250, 'o', color='chocolate', alpha = 0.3);\n",
    "plt.plot(VE_X_250, PC_predicted_250,color='chocolate', label = 'm = ' + str(round(VE_PC_reg_250.coef_[0], 3))\n",
    "         + '     r-squared = ' + str(round(float(VE_PC_reg_250.score(VE_X_250, VE_PC_250)), 3)))\n",
    "plt.xlabel(\"Average Normalized Verbal Estimate Difference (m)\", fontsize = 15)\n",
    "plt.ylabel(\"VE Discrimination Proportion Correct\", fontsize = 15)\n",
    "\n",
    "#get coefficients and y intercept\n",
    "print(\"m: {0}\".format(VE_PC_reg_250.coef_))\n",
    "print(\"b: {0}\".format(VE_PC_reg_250.intercept_))\n",
    "\n",
    "#Returns the coefficient of determination R^2 of the prediction.\n",
    "print(\"R-squared: \", VE_PC_reg_250.score(VE_X_250, VE_PC_250))\n",
    "\n",
    "\n",
    "legend = plt.legend(loc = 4, fontsize = 13, borderpad = 0.6, labelspacing = 1)\n",
    "legend.get_frame().set_facecolor('lightgray')\n",
    "\n",
    "plt.title(\"250 ms: Accuracy\", fontsize = 20)\n"
   ]
  },
  {
   "cell_type": "code",
   "execution_count": null,
   "metadata": {},
   "outputs": [],
   "source": []
  },
  {
   "cell_type": "code",
   "execution_count": 99,
   "metadata": {},
   "outputs": [
    {
     "name": "stdout",
     "output_type": "stream",
     "text": [
      "m: [0.90973193]\n",
      "b: 0.4863546606047693\n",
      "R-squared:  0.4730429515365316\n"
     ]
    },
    {
     "data": {
      "image/png": "[encoded data removed]",
      "text/plain": [
       "<Figure size 576x432 with 1 Axes>"
      ]
     },
     "metadata": {
      "needs_background": "light"
     },
     "output_type": "display_data"
    }
   ],
   "source": [
    "plt.figure(figsize=[8,6])\n",
    "\n",
    "VE_X_1000 = np.array(n_VE_estim_diff_1000).reshape(-1,1)\n",
    "VE_PC_1000 = n_VE_accuracy_1000\n",
    "VE_PC_reg_1000 = LinearRegression().fit(VE_X_1000, VE_PC_1000)\n",
    "\n",
    "#Generated Predictions\n",
    "PC_predicted_1000 = VE_PC_reg_1000.predict(VE_X_1000)\n",
    "#Plot Our Actual and Predicted Values\n",
    "plt.plot(VE_X_1000, VE_PC_1000, 'o', color='darkviolet', alpha = 0.3);\n",
    "plt.plot(VE_X_1000, PC_predicted_1000,color='darkviolet', label = '1000 ms: m = ' + str(round(VE_PC_reg_1000.coef_[0], 3))\n",
    "         + '     r-squared = ' + str(round(float(VE_PC_reg_1000.score(VE_X_1000, VE_PC_1000)), 3)))\n",
    "\n",
    "legend = plt.legend(loc = 4, fontsize = 13, borderpad = 0.6, labelspacing = 1)\n",
    "legend.get_frame().set_facecolor('lightgray')\n",
    "\n",
    "#get coefficients and y intercept\n",
    "print(\"m: {0}\".format(VE_PC_reg_1000.coef_))\n",
    "print(\"b: {0}\".format(VE_PC_reg_1000.intercept_))\n",
    "\n",
    "#Returns the coefficient of determination R^2 of the prediction.\n",
    "print(\"R-squared: \", VE_PC_reg_1000.score(VE_X_1000, VE_PC_1000))\n",
    "\n",
    "plt.xlabel(\"Average Normalized Verbal Estimate Difference (m)\", fontsize = 15)\n",
    "plt.ylabel(\"VE Discrimination Proportion Correct\", fontsize = 15)\n",
    "\n",
    "\n",
    "plt.title(\"1000 ms: Accuracy\", fontsize = 20)\n",
    "\n",
    "plt.show();"
   ]
  },
  {
   "cell_type": "code",
   "execution_count": 100,
   "metadata": {},
   "outputs": [
    {
     "data": {
      "text/plain": [
       "(0.2721432752121125, 0.02959434830833441)"
      ]
     },
     "execution_count": 100,
     "metadata": {},
     "output_type": "execute_result"
    }
   ],
   "source": [
    "stats.pearsonr(n_VE_accuracy_250, n_VE_accuracy_1000)"
   ]
  },
  {
   "cell_type": "code",
   "execution_count": 101,
   "metadata": {},
   "outputs": [
    {
     "data": {
      "text/plain": [
       "[<matplotlib.lines.Line2D at 0x7f9ae3fc1d90>]"
      ]
     },
     "execution_count": 101,
     "metadata": {},
     "output_type": "execute_result"
    },
    {
     "data": {
      "image/png": "[encoded data removed]",
      "text/plain": [
       "<Figure size 504x504 with 1 Axes>"
      ]
     },
     "metadata": {
      "needs_background": "light"
     },
     "output_type": "display_data"
    }
   ],
   "source": [
    "plt.figure(figsize=[7,7])\n",
    "plt.xlabel('Proportion Correct @ 250 ms', fontsize=15)\n",
    "plt.ylabel('Proportion Correct @ 1000 ms', fontsize=15)\n",
    "plt.plot(n_VE_accuracy_250,n_VE_accuracy_1000, 'o' )"
   ]
  },
  {
   "cell_type": "markdown",
   "metadata": {},
   "source": [
    "# UPDATED REGRESSOR: Difference between verbal judgements divided by joint variance "
   ]
  },
  {
   "cell_type": "code",
   "execution_count": 102,
   "metadata": {},
   "outputs": [
    {
     "name": "stdout",
     "output_type": "stream",
     "text": [
      "250 ms: Correlation between VE discrimination accuracy and difference between normalized verbal judgements divided by joint variance \n"
     ]
    },
    {
     "data": {
      "text/plain": [
       "(0.7136016849565938, 3.64342669820867e-11)"
      ]
     },
     "execution_count": 102,
     "metadata": {},
     "output_type": "execute_result"
    }
   ],
   "source": [
    "print('250 ms: Correlation between VE discrimination accuracy and difference between normalized verbal judgements divided by joint variance ')\n",
    "stats.pearsonr(n_VE_accuracy_250, n_JV_250)"
   ]
  },
  {
   "cell_type": "code",
   "execution_count": 103,
   "metadata": {},
   "outputs": [
    {
     "name": "stdout",
     "output_type": "stream",
     "text": [
      "1000 ms: Correlation between VE discrimination accuracy and difference between verbal judgements divided by joint variance \n"
     ]
    },
    {
     "data": {
      "text/plain": [
       "(0.7565846955545911, 4.805386781386678e-13)"
      ]
     },
     "execution_count": 103,
     "metadata": {},
     "output_type": "execute_result"
    }
   ],
   "source": [
    "print('1000 ms: Correlation between VE discrimination accuracy and difference between verbal judgements divided by joint variance ')\n",
    "stats.pearsonr(n_VE_accuracy_1000, n_JV_1000)"
   ]
  },
  {
   "cell_type": "code",
   "execution_count": 104,
   "metadata": {},
   "outputs": [
    {
     "name": "stdout",
     "output_type": "stream",
     "text": [
      "m: [0.63289454]\n",
      "b: 0.46107122446123355\n",
      "R-squared:  0.5092273647728898\n"
     ]
    },
    {
     "data": {
      "text/plain": [
       "Text(0.5, 1.0, '250 ms')"
      ]
     },
     "execution_count": 104,
     "metadata": {},
     "output_type": "execute_result"
    },
    {
     "data": {
      "image/png": "[encoded data removed]",
      "text/plain": [
       "<Figure size 576x432 with 1 Axes>"
      ]
     },
     "metadata": {
      "needs_background": "light"
     },
     "output_type": "display_data"
    }
   ],
   "source": [
    "#run regression\n",
    "plt.figure(figsize=[8,6])\n",
    "JV_X_250 = np.array(n_JV_250).reshape(-1,1)\n",
    "VE_PC_250 = n_VE_accuracy_250\n",
    "JV_PC_reg_250 = LinearRegression().fit(JV_X_250, VE_PC_250)\n",
    "\n",
    "#Generated Predictions\n",
    "JV_PC_predicted_250 = JV_PC_reg_250.predict(JV_X_250)\n",
    "#Plot Our Actual and Predicted Values\n",
    "plt.plot(JV_X_250, VE_PC_250, 'o', color='chocolate', alpha = 0.3);\n",
    "plt.plot(JV_X_250, JV_PC_predicted_250,color='chocolate', label = 'm = ' + str(round(JV_PC_reg_250.coef_[0], 3))\n",
    "         + '     r-squared = ' + str(round(float(JV_PC_reg_250.score(JV_X_250, VE_PC_250)), 3)))\n",
    "plt.xlabel(\"Difference between normalized verbal judgements divided by joint variance\", fontsize = 15)\n",
    "plt.ylabel(\"VE Discrimination Proportion Correct\", fontsize = 15)\n",
    "\n",
    "#get coefficients and y intercept\n",
    "print(\"m: {0}\".format(JV_PC_reg_250.coef_))\n",
    "print(\"b: {0}\".format(JV_PC_reg_250.intercept_))\n",
    "\n",
    "#Returns the coefficient of determination R^2 of the prediction.\n",
    "print(\"R-squared: \", JV_PC_reg_250.score(JV_X_250, VE_PC_250))\n",
    "\n",
    "\n",
    "legend = plt.legend(loc = 4, fontsize = 13, borderpad = 0.6, labelspacing = 1)\n",
    "legend.get_frame().set_facecolor('lightgray')\n",
    "\n",
    "plt.title(\"250 ms\", fontsize = 20)\n"
   ]
  },
  {
   "cell_type": "code",
   "execution_count": 105,
   "metadata": {},
   "outputs": [
    {
     "name": "stdout",
     "output_type": "stream",
     "text": [
      "m: [0.53981022]\n",
      "b: 0.46760503945704485\n",
      "R-squared:  0.572420401547433\n"
     ]
    },
    {
     "data": {
      "text/plain": [
       "Text(0.5, 1.0, '1000 ms')"
      ]
     },
     "execution_count": 105,
     "metadata": {},
     "output_type": "execute_result"
    },
    {
     "data": {
      "image/png": "[encoded data removed]",
      "text/plain": [
       "<Figure size 576x432 with 1 Axes>"
      ]
     },
     "metadata": {
      "needs_background": "light"
     },
     "output_type": "display_data"
    }
   ],
   "source": [
    "#run regression\n",
    "plt.figure(figsize=[8,6])\n",
    "JV_X_1000 = np.array(n_JV_1000).reshape(-1,1)\n",
    "VE_PC_1000 = n_VE_accuracy_1000\n",
    "JV_PC_reg_1000 = LinearRegression().fit(JV_X_1000, VE_PC_1000)\n",
    "\n",
    "#Generated Predictions\n",
    "JV_PC_predicted_1000 = JV_PC_reg_1000.predict(JV_X_1000)\n",
    "#Plot Our Actual and Predicted Values\n",
    "plt.plot(JV_X_1000, VE_PC_1000, 'o', color='darkviolet', alpha = 0.3);\n",
    "plt.plot(JV_X_1000, JV_PC_predicted_1000,color='darkviolet', label = 'm = ' + str(round(JV_PC_reg_1000.coef_[0], 3))\n",
    "         + '     r-squared = ' + str(round(float(JV_PC_reg_1000.score(JV_X_1000, VE_PC_1000)), 3)))\n",
    "plt.xlabel(\"Difference between normalized verbal judgements divided by joint variance\", fontsize = 15)\n",
    "plt.ylabel(\"VE Discrimination Proportion Correct\", fontsize = 15)\n",
    "\n",
    "#get coefficients and y intercept\n",
    "print(\"m: {0}\".format(JV_PC_reg_1000.coef_))\n",
    "print(\"b: {0}\".format(JV_PC_reg_1000.intercept_))\n",
    "\n",
    "#Returns the coefficient of determination R^2 of the prediction.\n",
    "print(\"R-squared: \", JV_PC_reg_1000.score(JV_X_1000, VE_PC_1000))\n",
    "\n",
    "\n",
    "legend = plt.legend(loc = 4, fontsize = 13, borderpad = 0.6, labelspacing = 1)\n",
    "legend.get_frame().set_facecolor('lightgray')\n",
    "\n",
    "plt.title(\"1000 ms\", fontsize = 20)\n"
   ]
  },
  {
   "cell_type": "code",
   "execution_count": 106,
   "metadata": {},
   "outputs": [
    {
     "name": "stdout",
     "output_type": "stream",
     "text": [
      "(0.606883190203107, 1.060730053410517e-07)\n"
     ]
    },
    {
     "data": {
      "text/plain": [
       "[<matplotlib.lines.Line2D at 0x7f9ae395ead0>]"
      ]
     },
     "execution_count": 106,
     "metadata": {},
     "output_type": "execute_result"
    },
    {
     "data": {
      "image/png": "[encoded data removed]",
      "text/plain": [
       "<Figure size 504x504 with 1 Axes>"
      ]
     },
     "metadata": {
      "needs_background": "light"
     },
     "output_type": "display_data"
    }
   ],
   "source": [
    "print(stats.pearsonr(n_JV_250, n_JV_1000))\n",
    "plt.figure(figsize=[7,7])\n",
    "plt.xlabel('@ 250 ms', fontsize=15)\n",
    "plt.ylabel('@ 1000 ms', fontsize=15)\n",
    "plt.plot(n_JV_250,n_JV_1000, 'o' )"
   ]
  },
  {
   "cell_type": "code",
   "execution_count": null,
   "metadata": {},
   "outputs": [],
   "source": []
  },
  {
   "cell_type": "code",
   "execution_count": 107,
   "metadata": {},
   "outputs": [
    {
     "name": "stdout",
     "output_type": "stream",
     "text": [
      "250 ms: Correlation between average discrimination RT and difference between verbal judgements divided by joint variance \n"
     ]
    },
    {
     "data": {
      "text/plain": [
       "(-0.41527035007208185, 0.0006444768743489928)"
      ]
     },
     "execution_count": 107,
     "metadata": {},
     "output_type": "execute_result"
    }
   ],
   "source": [
    "print('250 ms: Correlation between average discrimination RT and difference between verbal judgements divided by joint variance ')\n",
    "stats.pearsonr(n_avg_RT_250, n_JV_250)"
   ]
  },
  {
   "cell_type": "code",
   "execution_count": 108,
   "metadata": {},
   "outputs": [
    {
     "name": "stdout",
     "output_type": "stream",
     "text": [
      "1000 ms: Correlation between average discrimination RT and difference between verbal judgements divided by joint variance \n"
     ]
    },
    {
     "data": {
      "text/plain": [
       "(-0.5235359785616431, 9.035694052132743e-06)"
      ]
     },
     "execution_count": 108,
     "metadata": {},
     "output_type": "execute_result"
    }
   ],
   "source": [
    "print('1000 ms: Correlation between average discrimination RT and difference between verbal judgements divided by joint variance ')\n",
    "stats.pearsonr(n_avg_RT_1000, n_JV_1000)"
   ]
  },
  {
   "cell_type": "code",
   "execution_count": 109,
   "metadata": {},
   "outputs": [
    {
     "name": "stdout",
     "output_type": "stream",
     "text": [
      "m: [-144.31781311]\n",
      "b: 1309.984666409662\n",
      "R-squared:  0.17244946364898894\n"
     ]
    },
    {
     "data": {
      "text/plain": [
       "Text(0.5, 1.0, '250 ms: RT')"
      ]
     },
     "execution_count": 109,
     "metadata": {},
     "output_type": "execute_result"
    },
    {
     "data": {
      "image/png": "[encoded data removed]",
      "text/plain": [
       "<Figure size 576x432 with 1 Axes>"
      ]
     },
     "metadata": {
      "needs_background": "light"
     },
     "output_type": "display_data"
    }
   ],
   "source": [
    "#run regression\n",
    "plt.figure(figsize=[8,6])\n",
    "JV_X_250 = np.array(n_JV_250).reshape(-1,1)\n",
    "VE_PC_250 = n_avg_RT_250\n",
    "JV_PC_reg_250 = LinearRegression().fit(JV_X_250, VE_PC_250)\n",
    "\n",
    "#Generated Predictions\n",
    "JV_PC_predicted_250 = JV_PC_reg_250.predict(JV_X_250)\n",
    "#Plot Our Actual and Predicted Values\n",
    "plt.plot(JV_X_250, VE_PC_250, 'o', color='chocolate', alpha = 0.3);\n",
    "plt.plot(JV_X_250, JV_PC_predicted_250,color='chocolate', label = 'm = ' + str(round(JV_PC_reg_250.coef_[0], 3))\n",
    "         + '     r-squared = ' + str(round(float(JV_PC_reg_250.score(JV_X_250, VE_PC_250)), 3)))\n",
    "plt.xlabel(\"Difference between normalized verbal judgements divided by joint variance\", fontsize = 15)\n",
    "plt.ylabel(\"RT (ms)\", fontsize = 15)\n",
    "\n",
    "#get coefficients and y intercept\n",
    "print(\"m: {0}\".format(JV_PC_reg_250.coef_))\n",
    "print(\"b: {0}\".format(JV_PC_reg_250.intercept_))\n",
    "\n",
    "#Returns the coefficient of determination R^2 of the prediction.\n",
    "print(\"R-squared: \", JV_PC_reg_250.score(JV_X_250, VE_PC_250))\n",
    "\n",
    "\n",
    "legend = plt.legend(loc = 4, fontsize = 13, borderpad = 0.6, labelspacing = 1)\n",
    "legend.get_frame().set_facecolor('lightgray')\n",
    "\n",
    "plt.title(\"250 ms: RT\", fontsize = 20)"
   ]
  },
  {
   "cell_type": "code",
   "execution_count": 110,
   "metadata": {},
   "outputs": [
    {
     "name": "stdout",
     "output_type": "stream",
     "text": [
      "m: [-96.27131166]\n",
      "b: 1131.3157618038026\n",
      "R-squared:  0.2740899208484966\n"
     ]
    },
    {
     "data": {
      "text/plain": [
       "Text(0.5, 1.0, '1000 ms: RT')"
      ]
     },
     "execution_count": 110,
     "metadata": {},
     "output_type": "execute_result"
    },
    {
     "data": {
      "image/png": "[encoded data removed]",
      "text/plain": [
       "<Figure size 576x432 with 1 Axes>"
      ]
     },
     "metadata": {
      "needs_background": "light"
     },
     "output_type": "display_data"
    }
   ],
   "source": [
    "#run regression\n",
    "plt.figure(figsize=[8,6])\n",
    "JV_X_1000 = np.array(n_JV_1000).reshape(-1,1)\n",
    "VE_PC_1000 = n_avg_RT_1000\n",
    "JV_PC_reg_1000 = LinearRegression().fit(JV_X_1000, VE_PC_1000)\n",
    "\n",
    "#Generated Predictions\n",
    "JV_PC_predicted_1000 = JV_PC_reg_1000.predict(JV_X_1000)\n",
    "#Plot Our Actual and Predicted Values\n",
    "plt.plot(JV_X_1000, VE_PC_1000, 'o', color='darkviolet', alpha = 0.3);\n",
    "plt.plot(JV_X_1000, JV_PC_predicted_1000,color='darkviolet', label = 'm = ' + str(round(JV_PC_reg_1000.coef_[0], 3))\n",
    "         + '     r-squared = ' + str(round(float(JV_PC_reg_1000.score(JV_X_1000, VE_PC_1000)), 3)))\n",
    "plt.xlabel(\"Difference between normalized verbal judgements divided by joint variance\", fontsize = 15)\n",
    "plt.ylabel(\"RT (ms)\", fontsize = 15)\n",
    "\n",
    "#get coefficients and y intercept\n",
    "print(\"m: {0}\".format(JV_PC_reg_1000.coef_))\n",
    "print(\"b: {0}\".format(JV_PC_reg_1000.intercept_))\n",
    "\n",
    "#Returns the coefficient of determination R^2 of the prediction.\n",
    "print(\"R-squared: \", JV_PC_reg_1000.score(JV_X_1000, VE_PC_1000))\n",
    "\n",
    "\n",
    "legend = plt.legend(loc = 4, fontsize = 13, borderpad = 0.6, labelspacing = 1)\n",
    "legend.get_frame().set_facecolor('lightgray')\n",
    "\n",
    "plt.title(\"1000 ms: RT\", fontsize = 20)"
   ]
  },
  {
   "cell_type": "code",
   "execution_count": null,
   "metadata": {},
   "outputs": [],
   "source": []
  },
  {
   "cell_type": "markdown",
   "metadata": {},
   "source": []
  },
  {
   "cell_type": "code",
   "execution_count": null,
   "metadata": {},
   "outputs": [],
   "source": []
  },
  {
   "cell_type": "code",
   "execution_count": null,
   "metadata": {},
   "outputs": [],
   "source": []
  },
  {
   "cell_type": "code",
   "execution_count": null,
   "metadata": {},
   "outputs": [],
   "source": []
  }
 ],
 "metadata": {
  "kernelspec": {
   "display_name": "Python 3",
   "language": "python",
   "name": "python3"
  },
  "language_info": {
   "codemirror_mode": {
    "name": "ipython",
    "version": 3
   },
   "file_extension": ".py",
   "mimetype": "text/x-python",
   "name": "python",
   "nbconvert_exporter": "python",
   "pygments_lexer": "ipython3",
   "version": "3.6.1"
  }
 },
 "nbformat": 4,
 "nbformat_minor": 4
}
