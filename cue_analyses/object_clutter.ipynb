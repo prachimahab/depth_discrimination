{
 "cells": [
  {
   "cell_type": "markdown",
   "metadata": {},
   "source": [
    "# Clutter x Discrimination Performance\n",
    "\n",
    "global clutter = # of labeled objects"
   ]
  },
  {
   "cell_type": "code",
   "execution_count": 5,
   "metadata": {},
   "outputs": [],
   "source": [
    "import os \n",
    "import pandas as pd\n",
    "import numpy as np\n",
    "import math\n",
    "import matplotlib.pyplot as plt\n",
    "import scipy \n",
    "import scipy.stats as stats\n",
    "from scipy.stats import sem \n",
    "from mpl_toolkits.mplot3d import Axes3D # <--- This is important for 3d plotting \n",
    "from sklearn.linear_model import LinearRegression\n",
    "import json"
   ]
  },
  {
   "cell_type": "markdown",
   "metadata": {},
   "source": [
    "## Load discrimination data"
   ]
  },
  {
   "cell_type": "code",
   "execution_count": 3,
   "metadata": {},
   "outputs": [],
   "source": [
    "# _dir = '/Users/prachimahableshwarkar/Documents/GW/Depth_MTurk/depth_discrimination'\n",
    "_dir = '/Users/pmahableshwarkar/Documents/Depth_Project/depth_discrimination'\n",
    "# raw_dir = _dir + '/data/finalVEMatched/raw/'\n",
    "zs_dir = _dir + '/data/finalDiscrimMatched/z_scored_RT/'\n",
    "\n",
    "# final_data = pd.read_csv (raw_dir + '/raw_discrim.csv')\n",
    "zscored_data = pd.read_csv (zs_dir + 'final_discrim.csv')"
   ]
  },
  {
   "cell_type": "code",
   "execution_count": 11,
   "metadata": {},
   "outputs": [
    {
     "data": {
      "text/plain": [
       "156"
      ]
     },
     "execution_count": 11,
     "metadata": {},
     "output_type": "execute_result"
    }
   ],
   "source": [
    "p = '/Users/pmahableshwarkar/Documents/Depth_Project/depth_discrimination/data/finalDiscrimMatched/performance.pkl'\n",
    "unpickled_df = pd.read_pickle(p) \n",
    "len(unpickled_df)"
   ]
  },
  {
   "cell_type": "markdown",
   "metadata": {},
   "source": [
    "## Load image data"
   ]
  },
  {
   "cell_type": "code",
   "execution_count": 6,
   "metadata": {},
   "outputs": [],
   "source": [
    "# stimuli_path = '/Users/prachimahableshwarkar/Documents/GW/Depth_MTurk/depth_duration_stimuli'\n",
    "# kinect192_path = '/Users/prachimahableshwarkar/Documents/GW/SUNRGBD/updated/kinect2data_192'\n",
    "\n",
    "stimuli_path = '/Users/pmahableshwarkar/Documents/Depth_Project/final_stimuli'\n",
    "kinect192_path = '/Users/pmahableshwarkar/Documents/Depth_Project/SUNRGBD/kinect2data_192'\n",
    "\n",
    "objSA_data = {}\n",
    "\n",
    "for stim in os.listdir(stimuli_path):\n",
    "    if 'resize' in stim:\n",
    "        p = stimuli_path + '/' + stim + '/data.json'\n",
    "        data = json.load(open(p))\n",
    "        target_object = data['objects'][0]['name']\n",
    "        dbID = data['objects'][0]['dbID']\n",
    "        kp = kinect192_path + '/' + stim[:-2] + '/annotation2Dfinal'\n",
    "        for file in os.listdir(kp):\n",
    "            if 'objSA' in file:\n",
    "                objSA = json.load(open(kp + '/' + file))\n",
    "                objSA_data[stim[:-2]] = objSA\n"
   ]
  },
  {
   "cell_type": "code",
   "execution_count": 7,
   "metadata": {},
   "outputs": [
    {
     "data": {
      "text/plain": [
       "{'floor_3': 3.689464597292053,\n",
       " 'bench_2': 1.6132601681688803,\n",
       " 'wall_4': 4.73195337315781,\n",
       " 'bench2_9': 5.5677571310778005,\n",
       " 'table_10': 5.180670126559448,\n",
       " 'wall2_11': 3.630879463416829}"
      ]
     },
     "execution_count": 7,
     "metadata": {},
     "output_type": "execute_result"
    }
   ],
   "source": [
    "objSA_data['000866_2014-06-09_20-45-42_260595134347_rgbf000139-resize']"
   ]
  },
  {
   "cell_type": "markdown",
   "metadata": {},
   "source": [
    "## Global Clutter "
   ]
  },
  {
   "cell_type": "code",
   "execution_count": 8,
   "metadata": {},
   "outputs": [],
   "source": [
    "# Opening JSON file\n",
    "p = '/Users/pmahableshwarkar/Documents/Depth_Project/verbal_judgement_analysis/cue_analyses/cleaned_globalClutter.json'\n",
    "f = open(p)\n",
    "  \n",
    "# returns JSON object as \n",
    "# a dictionary\n",
    "cleaned_globalClutter = json.load(f)"
   ]
  },
  {
   "cell_type": "code",
   "execution_count": null,
   "metadata": {},
   "outputs": [],
   "source": []
  },
  {
   "cell_type": "code",
   "execution_count": 9,
   "metadata": {},
   "outputs": [],
   "source": [
    "globalClutter_dict = {}\n",
    "for stim in objSA_data:\n",
    "    count = 0\n",
    "    incl_obj = []\n",
    "    for key in objSA_data[stim]:\n",
    "#         sans_num_key = ''.join([i for i in key if not i.isdigit()])\n",
    "        if 'floor' in key: \n",
    "            count += 0\n",
    "#             print(key, 'floor')\n",
    "        elif 'wall' in key: count += 0\n",
    "        else: \n",
    "            count += 1\n",
    "            incl_obj.append(key)\n",
    "#             print(key, 'wall')\n",
    "            \n",
    "            \n",
    "        globalClutter_dict[stim] = [count, incl_obj]\n",
    "    "
   ]
  },
  {
   "cell_type": "code",
   "execution_count": 10,
   "metadata": {},
   "outputs": [
    {
     "data": {
      "text/plain": [
       "[3, ['bench_2', 'bench2_9', 'table_10']]"
      ]
     },
     "execution_count": 10,
     "metadata": {},
     "output_type": "execute_result"
    }
   ],
   "source": [
    "globalClutter_dict['000866_2014-06-09_20-45-42_260595134347_rgbf000139-resize']"
   ]
  },
  {
   "cell_type": "code",
   "execution_count": 28,
   "metadata": {},
   "outputs": [],
   "source": [
    "# unpickled_df"
   ]
  },
  {
   "cell_type": "code",
   "execution_count": 30,
   "metadata": {},
   "outputs": [],
   "source": [
    "sample_img = 'depth_discrimination_stimuli/000483_2014-06-09_20-41-45_260595134347_rgbf000116-resize_4/000483_2014-06-09_20-41-45_260595134347_rgbf000116-resize_4-target.png'\n",
    "\n",
    "# list_RTs, np.mean(list_RTs) ,np.std(list_RTs), stats.sem(list_RTs)\n",
    "# unpickled_df[sample_img]"
   ]
  },
  {
   "cell_type": "code",
   "execution_count": 32,
   "metadata": {},
   "outputs": [],
   "source": [
    "discrim_pc_125 = [unpickled_df[img]['accuracy_125'][0] for img in unpickled_df]\n",
    "discrim_pc_250 = [unpickled_df[img]['accuracy_250'][0] for img in unpickled_df]\n",
    "discrim_pc_1000 = [unpickled_df[img]['accuracy_1000'][0] for img in unpickled_df]\n",
    "\n",
    "\n",
    "discrim_zsRT_125 = [unpickled_df[img]['zsRT_125'][1] for img in unpickled_df]\n",
    "discrim_zsRT_250 = [unpickled_df[img]['zsRT_250'][1] for img in unpickled_df]\n",
    "discrim_zsRT_1000 = [unpickled_df[img]['zsRT_1000'][1] for img in unpickled_df]\n",
    "\n",
    "\n",
    "discrim_VE_depthdifference_125 = [unpickled_df[img]['VE_depthdifference_125'] for img in unpickled_df]\n",
    "discrim_VE_depthdifference_250 = [unpickled_df[img]['VE_depthdifference_250'] for img in unpickled_df]\n",
    "discrim_VE_depthdifference_1000 = [unpickled_df[img]['VE_depthdifference_1000'] for img in unpickled_df]"
   ]
  },
  {
   "cell_type": "code",
   "execution_count": 45,
   "metadata": {},
   "outputs": [
    {
     "data": {
      "text/plain": [
       "(86, 86)"
      ]
     },
     "execution_count": 45,
     "metadata": {},
     "output_type": "execute_result"
    }
   ],
   "source": [
    "# difference in clutter between the two images in a discrimination trial\n",
    "discrim_clutter_diff = []\n",
    "\n",
    "trunc_discrim_pc_125 = []\n",
    "trunc_discrim_pc_250 = []\n",
    "trunc_discrim_pc_1000 = []\n",
    "\n",
    "trunc_discrim_zsRT_125 = []\n",
    "trunc_discrim_zsRT_250 = []\n",
    "trunc_discrim_zsRT_1000 = []\n",
    "\n",
    "trunc_discrim_VE_depthdifference_125 = []\n",
    "trunc_discrim_VE_depthdifference_250 = []\n",
    "trunc_discrim_VE_depthdifference_1000 = []\n",
    "\n",
    "n = 0\n",
    "for i in range(len(unpickled_df)):\n",
    "    img = list(unpickled_df.keys())[i]\n",
    "    try:\n",
    "        scene0_clutter = globalClutter_dict[img.split('/')[1][:-2]][0]\n",
    "        scene1 = unpickled_df[img]['stimulus_1']\n",
    "        scene1_clutter = globalClutter_dict[scene1.split('/')[1][:-2]][0]\n",
    "        discrim_clutter_diff.append(abs(scene0_clutter - scene1_clutter))\n",
    "\n",
    "        trunc_discrim_pc_125.append(discrim_pc_125[i])\n",
    "        trunc_discrim_pc_250.append(discrim_pc_250[i])\n",
    "        trunc_discrim_pc_1000.append(discrim_pc_1000[i])\n",
    "\n",
    "        trunc_discrim_zsRT_125.append(discrim_zsRT_125[i])\n",
    "        trunc_discrim_zsRT_250.append(discrim_zsRT_250[i])\n",
    "        trunc_discrim_zsRT_1000.append(discrim_zsRT_1000[i])\n",
    "        \n",
    "        trunc_discrim_VE_depthdifference_125.append(discrim_VE_depthdifference_125[i])\n",
    "        trunc_discrim_VE_depthdifference_250.append(discrim_VE_depthdifference_250[i])\n",
    "        trunc_discrim_VE_depthdifference_1000.append(discrim_VE_depthdifference_1000[i])\n",
    "\n",
    "        n += 1\n",
    "    except:\n",
    "        pass\n",
    "n, len(trunc_discrim_pc_125)       "
   ]
  },
  {
   "cell_type": "code",
   "execution_count": 46,
   "metadata": {},
   "outputs": [
    {
     "data": {
      "image/png": "[encoded data removed]",
      "text/plain": [
       "<Figure size 360x360 with 1 Axes>"
      ]
     },
     "metadata": {
      "needs_background": "light"
     },
     "output_type": "display_data"
    }
   ],
   "source": [
    "ig, ax = plt.subplots(figsize=[5,5])\n",
    "ax.spines['right'].set_visible(False)\n",
    "ax.spines['top'].set_visible(False)\n",
    "for axis in ['bottom','left']:\n",
    "    ax.spines[axis].set_linewidth(2.3)\n",
    "plt.tight_layout()\n",
    "plt.xticks(fontsize=15)\n",
    "plt.yticks(fontsize=15)\n",
    "\n",
    "plt.ylabel('count', fontsize=15)\n",
    "plt.xlabel('Clutter Difference', fontsize=15)\n",
    "\n",
    "plt.hist(discrim_clutter_diff)\n",
    "plt.show();"
   ]
  },
  {
   "cell_type": "code",
   "execution_count": 47,
   "metadata": {},
   "outputs": [],
   "source": [
    "trunc_avg_pc = np.mean([np.array(trunc_discrim_pc_125), np.array(trunc_discrim_pc_250), np.array(trunc_discrim_pc_1000)], axis =0)\n"
   ]
  },
  {
   "cell_type": "code",
   "execution_count": 53,
   "metadata": {},
   "outputs": [
    {
     "name": "stdout",
     "output_type": "stream",
     "text": [
      "Correlation between Discrimination PC and Global Clutter difference\n",
      "125 ms:  (0.02827389062742975, 0.7960857708840371)\n",
      "250 ms:  (-0.08968029767063543, 0.41156223364294137)\n",
      "1000 ms:  (0.05828728148278221, 0.5939796453248272)\n",
      "Avg:  (0.0008061571078380389, 0.9941223594627673)\n",
      "All:  (0.0007383785746939093, 0.9905831643165754)\n"
     ]
    }
   ],
   "source": [
    "print('Correlation between Discrimination PC and Global Clutter difference')\n",
    "print('125 ms: ',stats.pearsonr(trunc_discrim_pc_125, discrim_clutter_diff))\n",
    "print('250 ms: ',stats.pearsonr(trunc_discrim_pc_250, discrim_clutter_diff))\n",
    "print('1000 ms: ',stats.pearsonr(trunc_discrim_pc_1000, discrim_clutter_diff))\n",
    "\n",
    "print('Avg: ',stats.pearsonr(trunc_avg_pc, discrim_clutter_diff))\n",
    "\n",
    "print('All: ',stats.pearsonr(trunc_discrim_pc_125 + trunc_discrim_pc_250 + trunc_discrim_pc_1000, discrim_clutter_diff*3))"
   ]
  },
  {
   "cell_type": "code",
   "execution_count": 49,
   "metadata": {},
   "outputs": [],
   "source": [
    "trunc_avg_zsRT = np.mean([np.array(trunc_discrim_zsRT_125), np.array(trunc_discrim_zsRT_250), np.array(trunc_discrim_zsRT_1000)], axis =0)\n"
   ]
  },
  {
   "cell_type": "code",
   "execution_count": 54,
   "metadata": {},
   "outputs": [
    {
     "name": "stdout",
     "output_type": "stream",
     "text": [
      "Correlation between Discrimination z-scored RT and Global Clutter difference\n",
      "125 ms:  (0.1900413857388191, 0.07967205590607947)\n",
      "250 ms:  (-0.05163940417121923, 0.6367898540512763)\n",
      "1000 ms:  (0.04538528824812259, 0.6781851384741983)\n",
      "Avg:  (0.07066760960715107, 0.5179142669430725)\n",
      "All:  (0.06460929910079341, 0.30122017295143666)\n"
     ]
    }
   ],
   "source": [
    "print('Correlation between Discrimination z-scored RT and Global Clutter difference')\n",
    "print('125 ms: ',stats.pearsonr(trunc_discrim_zsRT_125, discrim_clutter_diff))\n",
    "print('250 ms: ',stats.pearsonr(trunc_discrim_zsRT_250, discrim_clutter_diff))\n",
    "print('1000 ms: ',stats.pearsonr(trunc_discrim_zsRT_1000, discrim_clutter_diff))\n",
    "\n",
    "print('Avg: ',stats.pearsonr(trunc_avg_zsRT, discrim_clutter_diff))\n",
    "\n",
    "print('All: ',stats.pearsonr(trunc_discrim_zsRT_125 + trunc_discrim_zsRT_250 + trunc_discrim_zsRT_1000, discrim_clutter_diff*3))"
   ]
  },
  {
   "cell_type": "code",
   "execution_count": 51,
   "metadata": {},
   "outputs": [],
   "source": [
    "trunc_avg_VE_depthdifference = np.mean([np.array(trunc_discrim_VE_depthdifference_125), np.array(trunc_discrim_VE_depthdifference_250), np.array(trunc_discrim_VE_depthdifference_1000)], axis =0)\n"
   ]
  },
  {
   "cell_type": "code",
   "execution_count": 55,
   "metadata": {},
   "outputs": [
    {
     "name": "stdout",
     "output_type": "stream",
     "text": [
      "Correlation between VE Diff and Global Clutter difference\n",
      "125 ms:  (-0.046205625860355065, 0.6726973615761737)\n",
      "250 ms:  (-0.007528376853153634, 0.9451530797614883)\n",
      "1000 ms:  (-0.01917354455974419, 0.8609049241054988)\n",
      "Avg:  (-0.024738389142198836, 0.8211299148971487)\n",
      "All:  (-0.02437795085092683, 0.6967403327336529)\n"
     ]
    }
   ],
   "source": [
    "print('Correlation between VE Diff and Global Clutter difference')\n",
    "print('125 ms: ',stats.pearsonr(trunc_discrim_VE_depthdifference_125, discrim_clutter_diff))\n",
    "print('250 ms: ',stats.pearsonr(trunc_discrim_VE_depthdifference_250, discrim_clutter_diff))\n",
    "print('1000 ms: ',stats.pearsonr(trunc_discrim_VE_depthdifference_1000, discrim_clutter_diff))\n",
    "\n",
    "print('Avg: ',stats.pearsonr(trunc_avg_VE_depthdifference, discrim_clutter_diff))\n",
    "\n",
    "print('All: ',stats.pearsonr(trunc_discrim_VE_depthdifference_125 + trunc_discrim_VE_depthdifference_250 + trunc_discrim_VE_depthdifference_1000, discrim_clutter_diff*3))"
   ]
  },
  {
   "cell_type": "code",
   "execution_count": null,
   "metadata": {},
   "outputs": [],
   "source": []
  }
 ],
 "metadata": {
  "kernelspec": {
   "display_name": "Python 3",
   "language": "python",
   "name": "python3"
  },
  "language_info": {
   "codemirror_mode": {
    "name": "ipython",
    "version": 3
   },
   "file_extension": ".py",
   "mimetype": "text/x-python",
   "name": "python",
   "nbconvert_exporter": "python",
   "pygments_lexer": "ipython3",
   "version": "3.7.6"
  }
 },
 "nbformat": 4,
 "nbformat_minor": 4
}
