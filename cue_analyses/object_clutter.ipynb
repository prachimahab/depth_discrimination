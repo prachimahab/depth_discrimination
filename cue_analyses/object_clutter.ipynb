{
 "cells": [
  {
   "cell_type": "markdown",
   "metadata": {},
   "source": [
    "# Clutter x Discrimination Performance\n",
    "\n",
    "global clutter = # of labeled objects"
   ]
  },
  {
   "cell_type": "code",
   "execution_count": 1,
   "metadata": {},
   "outputs": [],
   "source": [
    "import os \n",
    "import pandas as pd\n",
    "import numpy as np\n",
    "import math\n",
    "import matplotlib.pyplot as plt\n",
    "import scipy \n",
    "import scipy.stats as stats\n",
    "from scipy.stats import sem \n",
    "from mpl_toolkits.mplot3d import Axes3D # <--- This is important for 3d plotting \n",
    "from sklearn.linear_model import LinearRegression\n",
    "import json"
   ]
  },
  {
   "cell_type": "markdown",
   "metadata": {},
   "source": [
    "## Load discrimination data"
   ]
  },
  {
   "cell_type": "code",
   "execution_count": 2,
   "metadata": {},
   "outputs": [],
   "source": [
    "_dir = '/Users/prachimahableshwarkar/Documents/GW/Depth_MTurk/depth_discrimination'\n",
    "# _dir = '/Users/pmahableshwarkar/Documents/Depth_Project/depth_discrimination'\n",
    "# raw_dir = _dir + '/data/finalVEMatched/raw/'\n",
    "zs_dir = _dir + '/data/finalDiscrimMatched/z_scored_RT/'\n",
    "\n",
    "# final_data = pd.read_csv (raw_dir + '/raw_discrim.csv')\n",
    "zscored_data = pd.read_csv (zs_dir + 'final_discrim.csv')"
   ]
  },
  {
   "cell_type": "code",
   "execution_count": 3,
   "metadata": {},
   "outputs": [
    {
     "data": {
      "text/plain": [
       "156"
      ]
     },
     "execution_count": 3,
     "metadata": {},
     "output_type": "execute_result"
    }
   ],
   "source": [
    "p = _dir + '/data/finalDiscrimMatched/performance.pkl'\n",
    "unpickled_df = pd.read_pickle(p) \n",
    "len(unpickled_df)"
   ]
  },
  {
   "cell_type": "markdown",
   "metadata": {},
   "source": [
    "## Load image data"
   ]
  },
  {
   "cell_type": "code",
   "execution_count": 4,
   "metadata": {},
   "outputs": [],
   "source": [
    "stimuli_path = '/Users/prachimahableshwarkar/Documents/GW/Depth_MTurk/depth_duration_stimuli'\n",
    "kinect192_path = '/Users/prachimahableshwarkar/Documents/GW/SUNRGBD/updated/kinect2data_192'\n",
    "\n",
    "# stimuli_path = '/Users/pmahableshwarkar/Documents/Depth_Project/final_stimuli'\n",
    "# kinect192_path = '/Users/pmahableshwarkar/Documents/Depth_Project/SUNRGBD/kinect2data_192'\n",
    "\n",
    "objSA_data = {}\n",
    "\n",
    "for stim in os.listdir(stimuli_path):\n",
    "    if 'resize' in stim:\n",
    "        p = stimuli_path + '/' + stim + '/data.json'\n",
    "        data = json.load(open(p))\n",
    "        target_object = data['objects'][0]['name']\n",
    "        dbID = data['objects'][0]['dbID']\n",
    "        kp = kinect192_path + '/' + stim[:-2] + '/annotation2Dfinal'\n",
    "        for file in os.listdir(kp):\n",
    "            if 'objSA' in file:\n",
    "                objSA = json.load(open(kp + '/' + file))\n",
    "                objSA_data[stim[:-2]] = objSA\n"
   ]
  },
  {
   "cell_type": "code",
   "execution_count": 5,
   "metadata": {},
   "outputs": [
    {
     "data": {
      "text/plain": [
       "{'floor_3': 3.689464597292053,\n",
       " 'bench_2': 1.6132601681688803,\n",
       " 'wall_4': 4.73195337315781,\n",
       " 'bench2_9': 5.5677571310778005,\n",
       " 'table_10': 5.180670126559448,\n",
       " 'wall2_11': 3.630879463416829}"
      ]
     },
     "execution_count": 5,
     "metadata": {},
     "output_type": "execute_result"
    }
   ],
   "source": [
    "objSA_data['000866_2014-06-09_20-45-42_260595134347_rgbf000139-resize']"
   ]
  },
  {
   "cell_type": "markdown",
   "metadata": {},
   "source": [
    "## Global Clutter "
   ]
  },
  {
   "cell_type": "code",
   "execution_count": 6,
   "metadata": {},
   "outputs": [],
   "source": [
    "# Opening JSON file\n",
    "p = '/Users/prachimahableshwarkar/Documents/GW/Depth_MTurk/verbal_judgement_analysis/cue_analyses/cleaned_globalClutter.json'\n",
    "f = open(p)\n",
    "  \n",
    "# returns JSON object as \n",
    "# a dictionary\n",
    "cleaned_globalClutter = json.load(f)"
   ]
  },
  {
   "cell_type": "code",
   "execution_count": 7,
   "metadata": {},
   "outputs": [],
   "source": [
    "# cleaned_globalClutter"
   ]
  },
  {
   "cell_type": "code",
   "execution_count": null,
   "metadata": {},
   "outputs": [],
   "source": []
  },
  {
   "cell_type": "code",
   "execution_count": 8,
   "metadata": {},
   "outputs": [],
   "source": [
    "globalClutter_dict = {}\n",
    "for stim in objSA_data:\n",
    "    count = 0\n",
    "    incl_obj = []\n",
    "    for key in objSA_data[stim]:\n",
    "#         sans_num_key = ''.join([i for i in key if not i.isdigit()])\n",
    "        if 'floor' in key: \n",
    "            count += 0\n",
    "#             print(key, 'floor')\n",
    "        elif 'wall' in key: count += 0\n",
    "        else: \n",
    "            count += 1\n",
    "            incl_obj.append(key)\n",
    "#             print(key, 'wall')\n",
    "            \n",
    "            \n",
    "        globalClutter_dict[stim] = [count, incl_obj]\n",
    "    "
   ]
  },
  {
   "cell_type": "code",
   "execution_count": 9,
   "metadata": {},
   "outputs": [
    {
     "data": {
      "text/plain": [
       "[3, ['bench_2', 'bench2_9', 'table_10']]"
      ]
     },
     "execution_count": 9,
     "metadata": {},
     "output_type": "execute_result"
    }
   ],
   "source": [
    "globalClutter_dict['000866_2014-06-09_20-45-42_260595134347_rgbf000139-resize']"
   ]
  },
  {
   "cell_type": "code",
   "execution_count": 10,
   "metadata": {},
   "outputs": [],
   "source": [
    "# unpickled_df"
   ]
  },
  {
   "cell_type": "code",
   "execution_count": 11,
   "metadata": {},
   "outputs": [],
   "source": [
    "sample_img = 'depth_discrimination_stimuli/000483_2014-06-09_20-41-45_260595134347_rgbf000116-resize_4/000483_2014-06-09_20-41-45_260595134347_rgbf000116-resize_4-target.png'\n",
    "\n",
    "# list_RTs, np.mean(list_RTs) ,np.std(list_RTs), stats.sem(list_RTs)\n",
    "# unpickled_df[sample_img]"
   ]
  },
  {
   "cell_type": "code",
   "execution_count": 12,
   "metadata": {},
   "outputs": [],
   "source": [
    "discrim_pc_125 = [unpickled_df[img]['accuracy_125'][0] for img in unpickled_df]\n",
    "discrim_pc_250 = [unpickled_df[img]['accuracy_250'][0] for img in unpickled_df]\n",
    "discrim_pc_1000 = [unpickled_df[img]['accuracy_1000'][0] for img in unpickled_df]\n",
    "\n",
    "\n",
    "discrim_zsRT_125 = [unpickled_df[img]['zsRT_125'][1] for img in unpickled_df]\n",
    "discrim_zsRT_250 = [unpickled_df[img]['zsRT_250'][1] for img in unpickled_df]\n",
    "discrim_zsRT_1000 = [unpickled_df[img]['zsRT_1000'][1] for img in unpickled_df]\n",
    "\n",
    "\n",
    "discrim_VE_depthdifference_125 = [unpickled_df[img]['VE_depthdifference_125'] for img in unpickled_df]\n",
    "discrim_VE_depthdifference_250 = [unpickled_df[img]['VE_depthdifference_250'] for img in unpickled_df]\n",
    "discrim_VE_depthdifference_1000 = [unpickled_df[img]['VE_depthdifference_1000'] for img in unpickled_df]"
   ]
  },
  {
   "cell_type": "code",
   "execution_count": 27,
   "metadata": {},
   "outputs": [
    {
     "data": {
      "text/plain": [
       "(86, 86)"
      ]
     },
     "execution_count": 27,
     "metadata": {},
     "output_type": "execute_result"
    }
   ],
   "source": [
    "# difference in clutter between the two images in a discrimination trial\n",
    "discrim_clutter_diff = []\n",
    "discrim_weightedDiff = []\n",
    "\n",
    "trunc_discrim_pc_125 = []\n",
    "trunc_discrim_pc_250 = []\n",
    "trunc_discrim_pc_1000 = []\n",
    "\n",
    "trunc_discrim_zsRT_125 = []\n",
    "trunc_discrim_zsRT_250 = []\n",
    "trunc_discrim_zsRT_1000 = []\n",
    "\n",
    "trunc_discrim_VE_depthdifference_125 = []\n",
    "trunc_discrim_VE_depthdifference_250 = []\n",
    "trunc_discrim_VE_depthdifference_1000 = []\n",
    "\n",
    "trunc_imgs = []\n",
    "\n",
    "n = 0\n",
    "for i in range(len(unpickled_df)):\n",
    "    img = list(unpickled_df.keys())[i]\n",
    "    try:\n",
    "        scene0_clutter = cleaned_globalClutter[img.split('/')[1][:-2]]\n",
    "        scene1 = unpickled_df[img]['stimulus_1']\n",
    "        scene1_clutter = cleaned_globalClutter[scene1.split('/')[1][:-2]]\n",
    "        discrim_clutter_diff.append(abs(scene0_clutter - scene1_clutter))\n",
    "        discrim_weightedDiff.append(abs(scene0_clutter - scene1_clutter)/(scene0_clutter + scene1_clutter))\n",
    "\n",
    "        trunc_discrim_pc_125.append(discrim_pc_125[i])\n",
    "        trunc_discrim_pc_250.append(discrim_pc_250[i])\n",
    "        trunc_discrim_pc_1000.append(discrim_pc_1000[i])\n",
    "\n",
    "        trunc_discrim_zsRT_125.append(discrim_zsRT_125[i])\n",
    "        trunc_discrim_zsRT_250.append(discrim_zsRT_250[i])\n",
    "        trunc_discrim_zsRT_1000.append(discrim_zsRT_1000[i])\n",
    "        \n",
    "        trunc_discrim_VE_depthdifference_125.append(discrim_VE_depthdifference_125[i])\n",
    "        trunc_discrim_VE_depthdifference_250.append(discrim_VE_depthdifference_250[i])\n",
    "        trunc_discrim_VE_depthdifference_1000.append(discrim_VE_depthdifference_1000[i])\n",
    "        \n",
    "        trunc_imgs.append(img)\n",
    "\n",
    "        n += 1\n",
    "    except:\n",
    "        pass\n",
    "n, len(trunc_discrim_pc_125)       "
   ]
  },
  {
   "cell_type": "code",
   "execution_count": 29,
   "metadata": {},
   "outputs": [
    {
     "name": "stdout",
     "output_type": "stream",
     "text": [
      "(0.8714125158322557, 1.0331503137361438e-27)\n"
     ]
    }
   ],
   "source": [
    "print(stats.pearsonr(discrim_weightedDiff, discrim_clutter_diff))\n"
   ]
  },
  {
   "cell_type": "code",
   "execution_count": 30,
   "metadata": {},
   "outputs": [
    {
     "data": {
      "image/png": "[encoded data removed]",
      "text/plain": [
       "<Figure size 360x360 with 1 Axes>"
      ]
     },
     "metadata": {
      "needs_background": "light"
     },
     "output_type": "display_data"
    }
   ],
   "source": [
    "ig, ax = plt.subplots(figsize=[5,5])\n",
    "ax.spines['right'].set_visible(False)\n",
    "ax.spines['top'].set_visible(False)\n",
    "for axis in ['bottom','left']:\n",
    "    ax.spines[axis].set_linewidth(2.3)\n",
    "plt.tight_layout()\n",
    "plt.xticks(fontsize=15)\n",
    "plt.yticks(fontsize=15)\n",
    "\n",
    "plt.ylabel('count', fontsize=15)\n",
    "plt.xlabel('abs(c0 - c1)/(c0 + c1)', fontsize=15)\n",
    "\n",
    "plt.hist(discrim_weightedDiff)\n",
    "plt.show();"
   ]
  },
  {
   "cell_type": "code",
   "execution_count": 31,
   "metadata": {},
   "outputs": [],
   "source": [
    "trunc_avg_pc = np.mean([np.array(trunc_discrim_pc_125), np.array(trunc_discrim_pc_250), np.array(trunc_discrim_pc_1000)], axis =0)\n"
   ]
  },
  {
   "cell_type": "code",
   "execution_count": 32,
   "metadata": {},
   "outputs": [
    {
     "name": "stdout",
     "output_type": "stream",
     "text": [
      "Correlation between Discrimination PC and abs(c0 - c1)/(c0 + c1)\n",
      "125 ms:  (-0.04454740962309002, 0.6838076141915945)\n",
      "250 ms:  (-0.12586770303335015, 0.24818545805807)\n",
      "1000 ms:  (0.07085410078399595, 0.516807478216812)\n",
      "Avg:  (-0.032008561755965045, 0.7698534755483295)\n",
      "All:  (-0.029317407212045593, 0.6392687659193712)\n"
     ]
    }
   ],
   "source": [
    "# print('Correlation between Discrimination PC and Global Clutter difference')\n",
    "\n",
    "print('Correlation between Discrimination PC and abs(c0 - c1)/(c0 + c1)')\n",
    "\n",
    "print('125 ms: ',stats.pearsonr(trunc_discrim_pc_125, discrim_weightedDiff))\n",
    "print('250 ms: ',stats.pearsonr(trunc_discrim_pc_250, discrim_weightedDiff))\n",
    "print('1000 ms: ',stats.pearsonr(trunc_discrim_pc_1000, discrim_weightedDiff))\n",
    "\n",
    "print('Avg: ',stats.pearsonr(trunc_avg_pc, discrim_weightedDiff))\n",
    "\n",
    "print('All: ',stats.pearsonr(trunc_discrim_pc_125 + trunc_discrim_pc_250 + trunc_discrim_pc_1000, discrim_weightedDiff*3))"
   ]
  },
  {
   "cell_type": "code",
   "execution_count": 33,
   "metadata": {},
   "outputs": [
    {
     "data": {
      "image/png": "[encoded data removed]",
      "text/plain": [
       "<Figure size 432x432 with 1 Axes>"
      ]
     },
     "metadata": {
      "needs_background": "light"
     },
     "output_type": "display_data"
    }
   ],
   "source": [
    "fig, ax = plt.subplots(figsize=[6,6])\n",
    "ax.spines['right'].set_visible(False)\n",
    "ax.spines['top'].set_visible(False)\n",
    "\n",
    "plt.plot(discrim_weightedDiff*3, trunc_discrim_pc_125 + trunc_discrim_pc_250 + trunc_discrim_pc_1000, 'o', color='teal', alpha=0.5)\n",
    "\n",
    "plt.tight_layout()\n",
    "plt.xlabel('Clutter Difference', fontsize=15)\n",
    "plt.ylabel('Percent Correct', fontsize=15)\n",
    "\n",
    "# plt.yticks(np.arange(-1.6,1.8, 0.4),fontsize=12)\n",
    "plt.xticks(fontsize=12)\n",
    "plt.show();\n",
    "\n"
   ]
  },
  {
   "cell_type": "code",
   "execution_count": 34,
   "metadata": {},
   "outputs": [],
   "source": [
    "trunc_avg_zsRT = np.mean([np.array(trunc_discrim_zsRT_125), np.array(trunc_discrim_zsRT_250), np.array(trunc_discrim_zsRT_1000)], axis =0)\n"
   ]
  },
  {
   "cell_type": "code",
   "execution_count": 35,
   "metadata": {},
   "outputs": [
    {
     "name": "stdout",
     "output_type": "stream",
     "text": [
      "Correlation between Discrimination z-scored RT and Global Clutter difference\n",
      "125 ms:  (0.11839038403161692, 0.277627215841265)\n",
      "250 ms:  (0.03266662289309734, 0.7652570213347104)\n",
      "1000 ms:  (0.08248562556365369, 0.4502281039994895)\n",
      "Avg:  (0.0851855417100846, 0.4354865734850057)\n",
      "All:  (0.07788261374632692, 0.21247078401961192)\n"
     ]
    }
   ],
   "source": [
    "print('Correlation between Discrimination z-scored RT and Global Clutter difference')\n",
    "print('125 ms: ',stats.pearsonr(trunc_discrim_zsRT_125, discrim_weightedDiff))\n",
    "print('250 ms: ',stats.pearsonr(trunc_discrim_zsRT_250, discrim_weightedDiff))\n",
    "print('1000 ms: ',stats.pearsonr(trunc_discrim_zsRT_1000, discrim_weightedDiff))\n",
    "\n",
    "print('Avg: ',stats.pearsonr(trunc_avg_zsRT, discrim_weightedDiff))\n",
    "\n",
    "print('All: ',stats.pearsonr(trunc_discrim_zsRT_125 + trunc_discrim_zsRT_250 + trunc_discrim_zsRT_1000, discrim_weightedDiff*3))\n",
    "\n"
   ]
  },
  {
   "cell_type": "code",
   "execution_count": 36,
   "metadata": {},
   "outputs": [
    {
     "data": {
      "image/png": "[encoded data removed]",
      "text/plain": [
       "<Figure size 432x432 with 1 Axes>"
      ]
     },
     "metadata": {
      "needs_background": "light"
     },
     "output_type": "display_data"
    }
   ],
   "source": [
    "fig, ax = plt.subplots(figsize=[6,6])\n",
    "ax.spines['right'].set_visible(False)\n",
    "ax.spines['top'].set_visible(False)\n",
    "\n",
    "plt.plot(discrim_weightedDiff*3, trunc_discrim_zsRT_125 + trunc_discrim_zsRT_250 + trunc_discrim_zsRT_1000, 'o', color='darkmagenta', alpha=0.5)\n",
    "plt.tight_layout()\n",
    "plt.xlabel('Clutter Difference', fontsize=15)\n",
    "plt.ylabel('Z-scored RT', fontsize=15)\n",
    "\n",
    "# plt.yticks(np.arange(-1.6,1.8, 0.4),fontsize=12)\n",
    "plt.xticks(fontsize=12)\n",
    "plt.show();\n",
    "\n"
   ]
  },
  {
   "cell_type": "code",
   "execution_count": 37,
   "metadata": {},
   "outputs": [],
   "source": [
    "trunc_avg_VE_depthdifference = np.mean([np.array(trunc_discrim_VE_depthdifference_125), np.array(trunc_discrim_VE_depthdifference_250), np.array(trunc_discrim_VE_depthdifference_1000)], axis =0)\n"
   ]
  },
  {
   "cell_type": "code",
   "execution_count": 38,
   "metadata": {},
   "outputs": [
    {
     "name": "stdout",
     "output_type": "stream",
     "text": [
      "Correlation between VE Diff and Global Clutter difference\n",
      "125 ms:  (-0.020279583090518055, 0.852968491496345)\n",
      "250 ms:  (0.0160864664439675, 0.8831270562170592)\n",
      "1000 ms:  (0.033902446108906886, 0.7566470065411072)\n",
      "Avg:  (0.009878024428276214, 0.9280752377537623)\n",
      "All:  (0.009734101627741186, 0.876350459257116)\n"
     ]
    }
   ],
   "source": [
    "print('Correlation between VE Diff and Global Clutter difference')\n",
    "print('125 ms: ',stats.pearsonr(trunc_discrim_VE_depthdifference_125, discrim_weightedDiff))\n",
    "print('250 ms: ',stats.pearsonr(trunc_discrim_VE_depthdifference_250, discrim_weightedDiff))\n",
    "print('1000 ms: ',stats.pearsonr(trunc_discrim_VE_depthdifference_1000, discrim_weightedDiff))\n",
    "\n",
    "print('Avg: ',stats.pearsonr(trunc_avg_VE_depthdifference, discrim_weightedDiff))\n",
    "\n",
    "print('All: ',stats.pearsonr(trunc_discrim_VE_depthdifference_125 + trunc_discrim_VE_depthdifference_250 + trunc_discrim_VE_depthdifference_1000, discrim_weightedDiff*3))"
   ]
  },
  {
   "cell_type": "code",
   "execution_count": null,
   "metadata": {},
   "outputs": [],
   "source": []
  },
  {
   "cell_type": "markdown",
   "metadata": {},
   "source": [
    "## Global Mean Depth"
   ]
  },
  {
   "cell_type": "code",
   "execution_count": 23,
   "metadata": {},
   "outputs": [],
   "source": [
    "from PIL import Image, ImageStat\n"
   ]
  },
  {
   "cell_type": "code",
   "execution_count": 24,
   "metadata": {},
   "outputs": [],
   "source": [
    "globalMeanDepths = []\n",
    "for img in trunc_imgs:\n",
    "    folder = img.split('/')[1][:-2]\n",
    "    for file in os.listdir(kinect192_path + '/' + folder + '/depth_bfx'):\n",
    "        if 'png' in file:\n",
    "            dm = Image.open(kinect192_path + '/' + folder + '/depth_bfx/' + file)\n",
    "            dm.load()\n",
    "            depth_data = np.asarray(dm)/8000\n",
    "            globalMeanDepths.append(np.mean(depth_data))"
   ]
  },
  {
   "cell_type": "code",
   "execution_count": 25,
   "metadata": {},
   "outputs": [
    {
     "data": {
      "text/plain": [
       "(86, 86)"
      ]
     },
     "execution_count": 25,
     "metadata": {},
     "output_type": "execute_result"
    }
   ],
   "source": [
    "len(discrim_weightedDiff), len(globalMeanDepths)"
   ]
  },
  {
   "cell_type": "code",
   "execution_count": 39,
   "metadata": {},
   "outputs": [
    {
     "name": "stdout",
     "output_type": "stream",
     "text": [
      "Global Mean Depth x Clutter Diff:  (0.0690690941644105, 0.5274502829396222)\n"
     ]
    }
   ],
   "source": [
    "print('Global Mean Depth x Clutter Diff: ',stats.pearsonr(globalMeanDepths, discrim_weightedDiff))\n"
   ]
  },
  {
   "cell_type": "code",
   "execution_count": null,
   "metadata": {},
   "outputs": [],
   "source": []
  }
 ],
 "metadata": {
  "kernelspec": {
   "display_name": "Python 3",
   "language": "python",
   "name": "python3"
  },
  "language_info": {
   "codemirror_mode": {
    "name": "ipython",
    "version": 3
   },
   "file_extension": ".py",
   "mimetype": "text/x-python",
   "name": "python",
   "nbconvert_exporter": "python",
   "pygments_lexer": "ipython3",
   "version": "3.7.5"
  }
 },
 "nbformat": 4,
 "nbformat_minor": 4
}
