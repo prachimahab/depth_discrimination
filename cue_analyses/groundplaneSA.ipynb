{
 "cells": [
  {
   "cell_type": "markdown",
   "metadata": {},
   "source": [
    "# Ground Plane Surface Area Metrics x Discrimination Data"
   ]
  },
  {
   "cell_type": "code",
   "execution_count": 3,
   "metadata": {},
   "outputs": [],
   "source": [
    "import os\n",
    "import numpy as np\n",
    "import pandas as pd\n",
    "import scipy\n",
    "import path \n",
    "from matplotlib import pyplot as plt\n",
    "import json\n",
    "from PIL import Image, ImageStat\n",
    "from sklearn.linear_model import LinearRegression\n",
    "from scipy import stats\n",
    "import math"
   ]
  },
  {
   "cell_type": "markdown",
   "metadata": {},
   "source": [
    "## Load discrimination data"
   ]
  },
  {
   "cell_type": "code",
   "execution_count": 4,
   "metadata": {},
   "outputs": [],
   "source": [
    "_dir = '/Users/prachimahableshwarkar/Documents/GW/Depth_MTurk/depth_discrimination'\n",
    "# _dir = '/Users/pmahableshwarkar/Documents/Depth_Project/depth_discrimination'\n",
    "# raw_dir = _dir + '/data/finalVEMatched/raw/'\n",
    "zs_dir = _dir + '/data/finalDiscrimMatched/z_scored_RT/'\n",
    "\n",
    "# final_data = pd.read_csv (raw_dir + '/raw_discrim.csv')\n",
    "zscored_data = pd.read_csv (zs_dir + 'final_discrim.csv')"
   ]
  },
  {
   "cell_type": "code",
   "execution_count": 5,
   "metadata": {},
   "outputs": [
    {
     "data": {
      "text/plain": [
       "156"
      ]
     },
     "execution_count": 5,
     "metadata": {},
     "output_type": "execute_result"
    }
   ],
   "source": [
    "p = _dir + '/data/finalDiscrimMatched/performance.pkl'\n",
    "unpickled_df = pd.read_pickle(p) \n",
    "len(unpickled_df)\n",
    "\n",
    "path = 'depth_discrimination_stimuli/000483_2014-06-09_20-41-45_260595134347_rgbf000116-resize_4/000483_2014-06-09_20-41-45_260595134347_rgbf000116-resize_4-target.png'\n",
    "\n",
    "# unpickled_df[path]\n",
    "\n",
    "len(unpickled_df)"
   ]
  },
  {
   "cell_type": "markdown",
   "metadata": {},
   "source": [
    "## Load Ground Plane Metrics: Pixel SA"
   ]
  },
  {
   "cell_type": "code",
   "execution_count": 7,
   "metadata": {},
   "outputs": [],
   "source": [
    "# path = '/Users/pmahableshwarkar/Documents/Depth_Project/SUN_scene_cue_coding/VGP_size_dict.json'\n",
    "path = '/Users/prachimahableshwarkar/Documents/GW/Depth_MTurk/SUN_scene_cue_coding/VGP_size_dict.json'\n",
    "\n",
    "vgp_size_dict = json.load(open(path))\n"
   ]
  },
  {
   "cell_type": "code",
   "execution_count": 8,
   "metadata": {},
   "outputs": [],
   "source": [
    "# path = '/Users/pmahableshwarkar/Documents/Depth_Project/SUN_scene_cue_coding/GP_size_dict.json'\n",
    "path = '/Users/prachimahableshwarkar/Documents/GW/Depth_MTurk/SUN_scene_cue_coding/GP_size_dict.json'\n",
    "\n",
    "gp_size_dict = json.load(open(path))"
   ]
  },
  {
   "cell_type": "code",
   "execution_count": 9,
   "metadata": {},
   "outputs": [
    {
     "name": "stdout",
     "output_type": "stream",
     "text": [
      "(0.6305436407876517, 4.100796404472425e-18)\n"
     ]
    }
   ],
   "source": [
    "VGPS = []\n",
    "GPS = []\n",
    "for key in vgp_size_dict:\n",
    "    try:\n",
    "        gp = gp_size_dict[key]\n",
    "        VGPS.append(vgp_size_dict[key])\n",
    "        GPS.append(gp)\n",
    "    except:\n",
    "        pass\n",
    "\n",
    "print(stats.pearsonr(VGPS, GPS))"
   ]
  },
  {
   "cell_type": "code",
   "execution_count": 10,
   "metadata": {},
   "outputs": [
    {
     "name": "stdout",
     "output_type": "stream",
     "text": [
      "002118_2014-06-25_20-32-08_260595134347_rgbf000078-resize excluded\n",
      "002657_2014-06-13_15-29-54_094959634447_rgbf000150-resize excluded\n"
     ]
    }
   ],
   "source": [
    "# Find GP or VGP Outliers \n",
    "\n",
    "gpsize_list = [[key, gp_size_dict[key]] for key in gp_size_dict]\n",
    "gpsize_mean = np.mean(np.array([elem[1] for elem in gpsize_list]))\n",
    "gpsize_std = np.std(np.array([elem[1] for elem in gpsize_list]))\n",
    "\n",
    "gpsize_outlierRange = [gpsize_mean - (3*gpsize_std), gpsize_mean + (3*gpsize_std)]\n",
    "\n",
    "cleaned_gpsize_dict = {}\n",
    "for key in gp_size_dict:\n",
    "    if gpsize_outlierRange[0] < gp_size_dict[key] < gpsize_outlierRange[1]:\n",
    "        cleaned_gpsize_dict[key] = gp_size_dict[key]\n",
    "    else:\n",
    "        print(key, 'excluded')"
   ]
  },
  {
   "cell_type": "code",
   "execution_count": 11,
   "metadata": {},
   "outputs": [
    {
     "name": "stdout",
     "output_type": "stream",
     "text": [
      "002568_2014-06-24_13-59-21_094959634447_rgbf000062-resize excluded\n",
      "002600_2014-06-24_14-27-04_094959634447_rgbf000074-resize excluded\n",
      "002118_2014-06-25_20-32-08_260595134347_rgbf000078-resize excluded\n",
      "002570_2014-06-24_13-59-54_094959634447_rgbf000059-resize excluded\n"
     ]
    }
   ],
   "source": [
    "# Find GP or VGP Outliers \n",
    "\n",
    "vgpsize_list = [[key, vgp_size_dict[key]] for key in vgp_size_dict]\n",
    "vgpsize_mean = np.mean(np.array([elem[1] for elem in vgpsize_list]))\n",
    "vgpsize_std = np.std(np.array([elem[1] for elem in vgpsize_list]))\n",
    "\n",
    "vgpsize_outlierRange = [vgpsize_mean - (3*vgpsize_std), vgpsize_mean + (3*vgpsize_std)]\n",
    "\n",
    "cleaned_vgpsize_dict = {}\n",
    "for key in vgp_size_dict:\n",
    "    if vgpsize_outlierRange[0] < vgp_size_dict[key] < vgpsize_outlierRange[1]:\n",
    "        cleaned_vgpsize_dict[key] = vgp_size_dict[key]\n",
    "    else:\n",
    "        print(key, 'excluded')"
   ]
  },
  {
   "cell_type": "code",
   "execution_count": 12,
   "metadata": {},
   "outputs": [
    {
     "data": {
      "text/plain": [
       "('000483_2014-06-09_20-41-45_260595134347_rgbf000116-resize',\n",
       " 'depth_discrimination_stimuli/000483_2014-06-09_20-41-45_260595134347_rgbf000116-resize_4/000483_2014-06-09_20-41-45_260595134347_rgbf000116-resize_4-target.png')"
      ]
     },
     "execution_count": 12,
     "metadata": {},
     "output_type": "execute_result"
    }
   ],
   "source": [
    "folders = [f.split('/')[1][:-2] for f in list(unpickled_df.keys())]\n",
    "folders[0], list(unpickled_df.keys())[0]"
   ]
  },
  {
   "cell_type": "code",
   "execution_count": 13,
   "metadata": {},
   "outputs": [],
   "source": [
    "ordered_gp_size = []\n",
    "ordered_vgp_size = []\n",
    "\n",
    "gp_none = 0\n",
    "vgp_none = 0\n",
    "for folder in folders:\n",
    "    try:\n",
    "        ordered_gp_size.append(cleaned_gpsize_dict[folder])\n",
    "    except:\n",
    "        gp_none += 1\n",
    "        ordered_gp_size.append(None)\n",
    "    try:\n",
    "        ordered_vgp_size.append(cleaned_vgpsize_dict[folder])\n",
    "    except:\n",
    "        vgp_none += 1\n",
    "        ordered_vgp_size.append(None)"
   ]
  },
  {
   "cell_type": "code",
   "execution_count": 14,
   "metadata": {},
   "outputs": [
    {
     "data": {
      "text/plain": [
       "(156, 7)"
      ]
     },
     "execution_count": 14,
     "metadata": {},
     "output_type": "execute_result"
    }
   ],
   "source": [
    "len(ordered_gp_size), gp_none"
   ]
  },
  {
   "cell_type": "code",
   "execution_count": 15,
   "metadata": {},
   "outputs": [
    {
     "data": {
      "text/plain": [
       "(156, 9)"
      ]
     },
     "execution_count": 15,
     "metadata": {},
     "output_type": "execute_result"
    }
   ],
   "source": [
    "len(ordered_vgp_size), vgp_none"
   ]
  },
  {
   "cell_type": "code",
   "execution_count": null,
   "metadata": {},
   "outputs": [],
   "source": []
  },
  {
   "cell_type": "code",
   "execution_count": 16,
   "metadata": {},
   "outputs": [],
   "source": [
    "discrim_pc_125 = [unpickled_df[img]['accuracy_125'][0] for img in unpickled_df]\n",
    "discrim_pc_250 = [unpickled_df[img]['accuracy_250'][0] for img in unpickled_df]\n",
    "discrim_pc_1000 = [unpickled_df[img]['accuracy_1000'][0] for img in unpickled_df]\n",
    "\n",
    "\n",
    "discrim_zsRT_125 = [unpickled_df[img]['zsRT_125'][1] for img in unpickled_df]\n",
    "discrim_zsRT_250 = [unpickled_df[img]['zsRT_250'][1] for img in unpickled_df]\n",
    "discrim_zsRT_1000 = [unpickled_df[img]['zsRT_1000'][1] for img in unpickled_df]\n",
    "\n",
    "\n",
    "discrim_VE_depthdifference_125 = [unpickled_df[img]['VE_depthdifference_125'] for img in unpickled_df]\n",
    "discrim_VE_depthdifference_250 = [unpickled_df[img]['VE_depthdifference_250'] for img in unpickled_df]\n",
    "discrim_VE_depthdifference_1000 = [unpickled_df[img]['VE_depthdifference_1000'] for img in unpickled_df]"
   ]
  },
  {
   "cell_type": "code",
   "execution_count": 81,
   "metadata": {},
   "outputs": [
    {
     "data": {
      "text/plain": [
       "(138, 138, 138)"
      ]
     },
     "execution_count": 81,
     "metadata": {},
     "output_type": "execute_result"
    }
   ],
   "source": [
    "# difference in clutter between the two images in a discrimination trial\n",
    "discrim_GP_diff = []\n",
    "discrim_VGP_diff = []\n",
    "\n",
    "trunc_discrim_pc_125 = []\n",
    "trunc_discrim_pc_250 = []\n",
    "trunc_discrim_pc_1000 = []\n",
    "\n",
    "trunc_discrim_zsRT_125 = []\n",
    "trunc_discrim_zsRT_250 = []\n",
    "trunc_discrim_zsRT_1000 = []\n",
    "\n",
    "trunc_discrim_VE_depthdifference_125 = []\n",
    "trunc_discrim_VE_depthdifference_250 = []\n",
    "trunc_discrim_VE_depthdifference_1000 = []\n",
    "\n",
    "trunc_imgs = []\n",
    "\n",
    "n = 0\n",
    "for i in range(len(unpickled_df)):\n",
    "    img = list(unpickled_df.keys())[i]\n",
    "    if type(ordered_gp_size[i]) == float: \n",
    "        s1 = unpickled_df[img]['stimulus_1'].split('/')[1][:-2]\n",
    "        s1_index = folders.index(s1)\n",
    "        if type(ordered_gp_size[s1_index]) == float:\n",
    "        \n",
    "            try:\n",
    "\n",
    "                s0_vgp = ordered_vgp_size[i]\n",
    "                s1_vgp = ordered_vgp_size[s1_index]\n",
    "#                 discrim_VGP_diff.append(abs(s0_vgp - s1_vgp)/(s0_vgp + s1_vgp))\n",
    "                discrim_VGP_diff.append(abs(s0_vgp - s1_vgp))\n",
    "                \n",
    "                trunc_discrim_pc_125.append(discrim_pc_125[i])\n",
    "                trunc_discrim_pc_250.append(discrim_pc_250[i])\n",
    "                trunc_discrim_pc_1000.append(discrim_pc_1000[i])\n",
    "\n",
    "                trunc_discrim_zsRT_125.append(discrim_zsRT_125[i])\n",
    "                trunc_discrim_zsRT_250.append(discrim_zsRT_250[i])\n",
    "                trunc_discrim_zsRT_1000.append(discrim_zsRT_1000[i])\n",
    "\n",
    "                trunc_discrim_VE_depthdifference_125.append(discrim_VE_depthdifference_125[i])\n",
    "                trunc_discrim_VE_depthdifference_250.append(discrim_VE_depthdifference_250[i])\n",
    "                trunc_discrim_VE_depthdifference_1000.append(discrim_VE_depthdifference_1000[i])\n",
    "                \n",
    "                \n",
    "                \n",
    "                s0_gp = ordered_gp_size[i]\n",
    "                s1_gp = ordered_gp_size[s1_index]\n",
    "#                 discrim_GP_diff.append(abs(s0_gp - s1_gp)/(s0_gp + s1_gp))\n",
    "                discrim_GP_diff.append(abs(s0_gp - s1_gp))\n",
    "\n",
    "                trunc_imgs.append(img)\n",
    "\n",
    "\n",
    "                n += 1\n",
    "            except:\n",
    "                pass\n",
    "n, len(trunc_discrim_pc_1000), len(discrim_VGP_diff)       "
   ]
  },
  {
   "cell_type": "code",
   "execution_count": 82,
   "metadata": {},
   "outputs": [
    {
     "data": {
      "image/png": "[encoded data removed]",
      "text/plain": [
       "<Figure size 360x360 with 1 Axes>"
      ]
     },
     "metadata": {
      "needs_background": "light"
     },
     "output_type": "display_data"
    }
   ],
   "source": [
    "ig, ax = plt.subplots(figsize=[5,5])\n",
    "ax.spines['right'].set_visible(False)\n",
    "ax.spines['top'].set_visible(False)\n",
    "for axis in ['bottom','left']:\n",
    "    ax.spines[axis].set_linewidth(2.3)\n",
    "plt.tight_layout()\n",
    "plt.xticks(fontsize=15)\n",
    "plt.yticks(fontsize=15)\n",
    "\n",
    "plt.ylabel('count', fontsize=15)\n",
    "plt.xlabel('GP Metric Difference', fontsize=15)\n",
    "\n",
    "plt.hist(discrim_GP_diff, label='GP')\n",
    "plt.hist(discrim_VGP_diff, label='VGP')\n",
    "\n",
    "plt.legend(fontsize=15)\n",
    "\n",
    "plt.show();"
   ]
  },
  {
   "cell_type": "markdown",
   "metadata": {},
   "source": [
    "### Complete Ground Plane"
   ]
  },
  {
   "cell_type": "code",
   "execution_count": 83,
   "metadata": {},
   "outputs": [
    {
     "data": {
      "text/plain": [
       "(138, 138)"
      ]
     },
     "execution_count": 83,
     "metadata": {},
     "output_type": "execute_result"
    }
   ],
   "source": [
    "trunc_avg_pc = np.mean([np.array(trunc_discrim_pc_125), np.array(trunc_discrim_pc_250), np.array(trunc_discrim_pc_1000)], axis =0)\n",
    "len(trunc_avg_pc), len(discrim_GP_diff)\n"
   ]
  },
  {
   "cell_type": "code",
   "execution_count": 84,
   "metadata": {},
   "outputs": [
    {
     "name": "stdout",
     "output_type": "stream",
     "text": [
      "Correlation between Discrimination PC and abs(gp0-gp1)/(gp0+gp1)\n",
      "125 ms:  (0.1190062593478195, 0.16445705294519408)\n",
      "250 ms:  (0.12305166968912937, 0.15047611931458052)\n",
      "1000 ms:  (0.07418691946420117, 0.38716815698106744)\n",
      "Avg:  (0.11195230534274994, 0.19111319874136593)\n",
      "All:  (0.10104974337961377, 0.039868909099877545)\n"
     ]
    }
   ],
   "source": [
    "# print('Correlation between Discrimination PC and Complete GP difference')\n",
    "print('Correlation between Discrimination PC and abs(gp0-gp1)/(gp0+gp1)')\n",
    "\n",
    "print('125 ms: ',stats.pearsonr(trunc_discrim_pc_125, discrim_GP_diff))\n",
    "print('250 ms: ',stats.pearsonr(trunc_discrim_pc_250, discrim_GP_diff))\n",
    "print('1000 ms: ',stats.pearsonr(trunc_discrim_pc_1000, discrim_GP_diff))\n",
    "\n",
    "print('Avg: ',stats.pearsonr(trunc_avg_pc, discrim_GP_diff))\n",
    "\n",
    "print('All: ',stats.pearsonr(trunc_discrim_pc_125 + trunc_discrim_pc_250 + trunc_discrim_pc_1000, discrim_GP_diff*3))"
   ]
  },
  {
   "cell_type": "code",
   "execution_count": 85,
   "metadata": {},
   "outputs": [
    {
     "data": {
      "image/png": "[encoded data removed]",
      "text/plain": [
       "<Figure size 432x432 with 1 Axes>"
      ]
     },
     "metadata": {
      "needs_background": "light"
     },
     "output_type": "display_data"
    }
   ],
   "source": [
    "import matplotlib.pyplot as plt\n",
    "\n",
    "fig, ax = plt.subplots(figsize=[6,6])\n",
    "ax.spines['right'].set_visible(False)\n",
    "ax.spines['top'].set_visible(False)\n",
    "\n",
    "plt.plot(discrim_GP_diff*3, trunc_discrim_pc_125 + trunc_discrim_pc_250 + trunc_discrim_pc_1000, 'o', color='plum', alpha=0.6)\n",
    "plt.tight_layout()\n",
    "plt.xlabel('abs(gp0-gp1)/(gp0+gp1)', fontsize=15)\n",
    "plt.ylabel('Percent Correct', fontsize=15)\n",
    "\n",
    "plt.xticks(np.arange(0,1, 0.1),fontsize=12)\n",
    "plt.xticks(fontsize=12)\n",
    "plt.yticks(np.arange(0.3,1, 0.1),fontsize=12)\n",
    "plt.yticks(fontsize=12)\n",
    "plt.show();"
   ]
  },
  {
   "cell_type": "code",
   "execution_count": 86,
   "metadata": {},
   "outputs": [],
   "source": [
    "trunc_avg_zsRT = np.mean([np.array(trunc_discrim_zsRT_125), np.array(trunc_discrim_zsRT_250), np.array(trunc_discrim_zsRT_1000)], axis =0)\n"
   ]
  },
  {
   "cell_type": "code",
   "execution_count": 87,
   "metadata": {},
   "outputs": [
    {
     "name": "stdout",
     "output_type": "stream",
     "text": [
      "Correlation between Discrimination z-scored RT and abs(gp0-gp1)/(gp0+gp1)\n",
      "125 ms:  (-0.02829339786307626, 0.7418421123484402)\n",
      "250 ms:  (-0.10647303365925115, 0.2138920006473651)\n",
      "1000 ms:  (-0.19076369538632768, 0.025012773587951002)\n",
      "Avg:  (-0.11044711005867122, 0.19718699545620205)\n",
      "All:  (-0.09942106461634638, 0.043195495871758756)\n"
     ]
    }
   ],
   "source": [
    "# print('Correlation between Discrimination z-scored RT and Complete GP difference')\n",
    "print('Correlation between Discrimination z-scored RT and abs(gp0-gp1)/(gp0+gp1)')\n",
    "\n",
    "print('125 ms: ',stats.pearsonr(trunc_discrim_zsRT_125, discrim_GP_diff))\n",
    "print('250 ms: ',stats.pearsonr(trunc_discrim_zsRT_250, discrim_GP_diff))\n",
    "print('1000 ms: ',stats.pearsonr(trunc_discrim_zsRT_1000, discrim_GP_diff))\n",
    "\n",
    "print('Avg: ',stats.pearsonr(trunc_avg_zsRT, discrim_GP_diff))\n",
    "\n",
    "print('All: ',stats.pearsonr(trunc_discrim_zsRT_125 + trunc_discrim_zsRT_250 + trunc_discrim_zsRT_1000, discrim_GP_diff*3))"
   ]
  },
  {
   "cell_type": "code",
   "execution_count": 88,
   "metadata": {},
   "outputs": [
    {
     "data": {
      "image/png": "[encoded data removed]",
      "text/plain": [
       "<Figure size 432x432 with 1 Axes>"
      ]
     },
     "metadata": {
      "needs_background": "light"
     },
     "output_type": "display_data"
    }
   ],
   "source": [
    "import matplotlib.pyplot as plt\n",
    "\n",
    "fig, ax = plt.subplots(figsize=[6,6])\n",
    "ax.spines['right'].set_visible(False)\n",
    "ax.spines['top'].set_visible(False)\n",
    "\n",
    "plt.plot(discrim_GP_diff*3, trunc_discrim_zsRT_125 + trunc_discrim_zsRT_250 + trunc_discrim_zsRT_1000, 'o', color='lightgreen', alpha=0.6)\n",
    "plt.tight_layout()\n",
    "plt.xlabel('abs(gp0-gp1)/(gp0+gp1)', fontsize=15)\n",
    "plt.ylabel('z-scored RT', fontsize=15)\n",
    "\n",
    "# plt.yticks(np.arange(-1.6,1.8, 0.4),fontsize=12)\n",
    "plt.xticks(fontsize=12)\n",
    "plt.show();"
   ]
  },
  {
   "cell_type": "code",
   "execution_count": 89,
   "metadata": {},
   "outputs": [],
   "source": [
    "trunc_avg_VE_depthdifference = np.mean([np.array(trunc_discrim_VE_depthdifference_125), np.array(trunc_discrim_VE_depthdifference_250), np.array(trunc_discrim_VE_depthdifference_1000)], axis =0)\n"
   ]
  },
  {
   "cell_type": "code",
   "execution_count": 90,
   "metadata": {},
   "outputs": [
    {
     "name": "stdout",
     "output_type": "stream",
     "text": [
      "Correlation between VE Diff and abs(gp0-gp1)/(gp0+gp1)\n",
      "125 ms:  (0.12009512310110419, 0.16060216831776905)\n",
      "250 ms:  (0.19327699936973788, 0.023128886452557455)\n",
      "1000 ms:  (0.2060840752495163, 0.01530799839917918)\n",
      "Avg:  (0.17528107857945907, 0.039753136338565496)\n",
      "All:  (0.17281128751451907, 0.00041216741695645353)\n"
     ]
    }
   ],
   "source": [
    "print('Correlation between VE Diff and abs(gp0-gp1)/(gp0+gp1)')\n",
    "print('125 ms: ',stats.pearsonr(trunc_discrim_VE_depthdifference_125, discrim_GP_diff))\n",
    "print('250 ms: ',stats.pearsonr(trunc_discrim_VE_depthdifference_250, discrim_GP_diff))\n",
    "print('1000 ms: ',stats.pearsonr(trunc_discrim_VE_depthdifference_1000, discrim_GP_diff))\n",
    "\n",
    "print('Avg: ',stats.pearsonr(trunc_avg_VE_depthdifference, discrim_GP_diff))\n",
    "\n",
    "print('All: ',stats.pearsonr(trunc_discrim_VE_depthdifference_125 + trunc_discrim_VE_depthdifference_250 + trunc_discrim_VE_depthdifference_1000, discrim_GP_diff*3))"
   ]
  },
  {
   "cell_type": "code",
   "execution_count": 91,
   "metadata": {},
   "outputs": [
    {
     "data": {
      "image/png": "[encoded data removed]",
      "text/plain": [
       "<Figure size 432x432 with 1 Axes>"
      ]
     },
     "metadata": {
      "needs_background": "light"
     },
     "output_type": "display_data"
    }
   ],
   "source": [
    "import matplotlib.pyplot as plt\n",
    "\n",
    "fig, ax = plt.subplots(figsize=[6,6])\n",
    "ax.spines['right'].set_visible(False)\n",
    "ax.spines['top'].set_visible(False)\n",
    "\n",
    "plt.plot(discrim_GP_diff*3, trunc_discrim_VE_depthdifference_125 + trunc_discrim_VE_depthdifference_250 + trunc_discrim_VE_depthdifference_1000, 'o', color='lightblue', alpha=0.6)\n",
    "plt.tight_layout()\n",
    "plt.xlabel('abs(gp0-gp1)/(gp0+gp1)', fontsize=15)\n",
    "plt.ylabel('VE Difference', fontsize=15)\n",
    "\n",
    "plt.yticks(np.arange(-1.6,1.8, 0.4),fontsize=12)\n",
    "plt.xticks(fontsize=12)\n",
    "plt.show();"
   ]
  },
  {
   "cell_type": "markdown",
   "metadata": {},
   "source": [
    "### Visible Ground Plane"
   ]
  },
  {
   "cell_type": "code",
   "execution_count": 92,
   "metadata": {},
   "outputs": [
    {
     "data": {
      "text/plain": [
       "(138, 138)"
      ]
     },
     "execution_count": 92,
     "metadata": {},
     "output_type": "execute_result"
    }
   ],
   "source": [
    "trunc_avg_pc = np.mean([np.array(trunc_discrim_pc_125), np.array(trunc_discrim_pc_250), np.array(trunc_discrim_pc_1000)], axis =0)\n",
    "len(trunc_avg_pc), len(discrim_GP_diff)\n"
   ]
  },
  {
   "cell_type": "code",
   "execution_count": 93,
   "metadata": {},
   "outputs": [
    {
     "name": "stdout",
     "output_type": "stream",
     "text": [
      "Correlation between Discrimination PC and abs(vgp0-vgp1)/(vgp0+vgp1)\n",
      "125 ms:  (0.016905931696839932, 0.8439783074480242)\n",
      "250 ms:  (0.017139090176074123, 0.841854429658049)\n",
      "1000 ms:  (0.03053682223714984, 0.722180273527159)\n",
      "Avg:  (0.023331289891253312, 0.7859107170895935)\n",
      "All:  (0.021059154155052853, 0.6692029052653453)\n"
     ]
    }
   ],
   "source": [
    "print('Correlation between Discrimination PC and abs(vgp0-vgp1)/(vgp0+vgp1)')\n",
    "print('125 ms: ',stats.pearsonr(trunc_discrim_pc_125, discrim_VGP_diff))\n",
    "print('250 ms: ',stats.pearsonr(trunc_discrim_pc_250, discrim_VGP_diff))\n",
    "print('1000 ms: ',stats.pearsonr(trunc_discrim_pc_1000, discrim_VGP_diff))\n",
    "\n",
    "print('Avg: ',stats.pearsonr(trunc_avg_pc, discrim_VGP_diff))\n",
    "\n",
    "print('All: ',stats.pearsonr(trunc_discrim_pc_125 + trunc_discrim_pc_250 + trunc_discrim_pc_1000, discrim_VGP_diff*3))"
   ]
  },
  {
   "cell_type": "code",
   "execution_count": 94,
   "metadata": {},
   "outputs": [],
   "source": [
    "trunc_avg_zsRT = np.mean([np.array(trunc_discrim_zsRT_125), np.array(trunc_discrim_zsRT_250), np.array(trunc_discrim_zsRT_1000)], axis =0)\n"
   ]
  },
  {
   "cell_type": "code",
   "execution_count": 95,
   "metadata": {},
   "outputs": [
    {
     "name": "stdout",
     "output_type": "stream",
     "text": [
      "Correlation between Discrimination z-scored RT and abs(vgp0-vgp1)/(vgp0+vgp1)\n",
      "125 ms:  (-0.016164384725422115, 0.8507405668551205)\n",
      "250 ms:  (0.10417677225422867, 0.22399252890121224)\n",
      "1000 ms:  (-0.06167205246877625, 0.4724015077484258)\n",
      "Avg:  (0.013970406351229585, 0.8708095561908643)\n",
      "All:  (0.012575726715025683, 0.7986345730746836)\n"
     ]
    }
   ],
   "source": [
    "print('Correlation between Discrimination z-scored RT and abs(vgp0-vgp1)/(vgp0+vgp1)')\n",
    "print('125 ms: ',stats.pearsonr(trunc_discrim_zsRT_125, discrim_VGP_diff))\n",
    "print('250 ms: ',stats.pearsonr(trunc_discrim_zsRT_250, discrim_VGP_diff))\n",
    "print('1000 ms: ',stats.pearsonr(trunc_discrim_zsRT_1000, discrim_VGP_diff))\n",
    "\n",
    "print('Avg: ',stats.pearsonr(trunc_avg_zsRT, discrim_VGP_diff))\n",
    "\n",
    "print('All: ',stats.pearsonr(trunc_discrim_zsRT_125 + trunc_discrim_zsRT_250 + trunc_discrim_zsRT_1000, discrim_VGP_diff*3))"
   ]
  },
  {
   "cell_type": "code",
   "execution_count": 96,
   "metadata": {},
   "outputs": [
    {
     "data": {
      "image/png": "[encoded data removed]",
      "text/plain": [
       "<Figure size 432x432 with 1 Axes>"
      ]
     },
     "metadata": {
      "needs_background": "light"
     },
     "output_type": "display_data"
    }
   ],
   "source": [
    "import matplotlib.pyplot as plt\n",
    "\n",
    "fig, ax = plt.subplots(figsize=[6,6])\n",
    "ax.spines['right'].set_visible(False)\n",
    "ax.spines['top'].set_visible(False)\n",
    "\n",
    "plt.plot(discrim_VGP_diff*3, trunc_discrim_zsRT_125 + trunc_discrim_zsRT_250 + trunc_discrim_zsRT_1000, 'o', color='lightgreen', alpha=0.6)\n",
    "plt.tight_layout()\n",
    "plt.xlabel('abs(vgp0-vgp1)/(vgp0+vgp1)', fontsize=15)\n",
    "plt.ylabel('Z-scored RT', fontsize=15)\n",
    "\n",
    "plt.xticks(fontsize=12)\n",
    "plt.show();"
   ]
  },
  {
   "cell_type": "code",
   "execution_count": 97,
   "metadata": {},
   "outputs": [],
   "source": [
    "trunc_avg_VE_depthdifference = np.mean([np.array(trunc_discrim_VE_depthdifference_125), np.array(trunc_discrim_VE_depthdifference_250), np.array(trunc_discrim_VE_depthdifference_1000)], axis =0)\n"
   ]
  },
  {
   "cell_type": "code",
   "execution_count": 98,
   "metadata": {},
   "outputs": [
    {
     "name": "stdout",
     "output_type": "stream",
     "text": [
      "Correlation between VE Diff and abs(vgp0-vgp1)/(vgp0+vgp1)\n",
      "125 ms:  (-0.05142419693444504, 0.5491734062739299)\n",
      "250 ms:  (-0.06262297011704132, 0.46558674279552986)\n",
      "1000 ms:  (-0.03911820198342141, 0.6487284589244795)\n",
      "Avg:  (-0.0517511969986929, 0.5466329125906562)\n",
      "All:  (-0.051021998816075734, 0.30035149288223034)\n"
     ]
    }
   ],
   "source": [
    "print('Correlation between VE Diff and abs(vgp0-vgp1)/(vgp0+vgp1)')\n",
    "print('125 ms: ',stats.pearsonr(trunc_discrim_VE_depthdifference_125, discrim_VGP_diff))\n",
    "print('250 ms: ',stats.pearsonr(trunc_discrim_VE_depthdifference_250, discrim_VGP_diff))\n",
    "print('1000 ms: ',stats.pearsonr(trunc_discrim_VE_depthdifference_1000, discrim_VGP_diff))\n",
    "\n",
    "print('Avg: ',stats.pearsonr(trunc_avg_VE_depthdifference, discrim_VGP_diff))\n",
    "\n",
    "print('All: ',stats.pearsonr(trunc_discrim_VE_depthdifference_125 + trunc_discrim_VE_depthdifference_250 + trunc_discrim_VE_depthdifference_1000, discrim_VGP_diff*3))"
   ]
  },
  {
   "cell_type": "code",
   "execution_count": null,
   "metadata": {},
   "outputs": [],
   "source": []
  },
  {
   "cell_type": "markdown",
   "metadata": {},
   "source": [
    "## Global Mean Depth - THIS IS WRONG - NEED TO CALCULATE AVG MEAN DEPTH FOR A DISCRIM TRIAL"
   ]
  },
  {
   "cell_type": "code",
   "execution_count": 99,
   "metadata": {},
   "outputs": [],
   "source": [
    "from PIL import Image, ImageStat\n",
    "\n",
    "stimuli_path = '/Users/prachimahableshwarkar/Documents/GW/Depth_MTurk/depth_duration_stimuli'\n",
    "kinect192_path = '/Users/prachimahableshwarkar/Documents/GW/SUNRGBD/updated/kinect2data_192'\n",
    "\n",
    "# stimuli_path = '/Users/pmahableshwarkar/Documents/Depth_Project/final_stimuli'\n",
    "# kinect192_path = '/Users/pmahableshwarkar/Documents/Depth_Project/SUNRGBD/kinect2data_192'"
   ]
  },
  {
   "cell_type": "code",
   "execution_count": 100,
   "metadata": {},
   "outputs": [],
   "source": [
    "globalMeanDepths = []\n",
    "for img in trunc_imgs:\n",
    "    folder = img.split('/')[1][:-2]\n",
    "    for file in os.listdir(kinect192_path + '/' + folder + '/depth_bfx'):\n",
    "        if 'png' in file:\n",
    "            dm = Image.open(kinect192_path + '/' + folder + '/depth_bfx/' + file)\n",
    "            dm.load()\n",
    "            depth_data = np.asarray(dm)/8000\n",
    "            globalMeanDepths.append(np.mean(depth_data))"
   ]
  },
  {
   "cell_type": "code",
   "execution_count": 101,
   "metadata": {},
   "outputs": [
    {
     "data": {
      "text/plain": [
       "(138, 138)"
      ]
     },
     "execution_count": 101,
     "metadata": {},
     "output_type": "execute_result"
    }
   ],
   "source": [
    "len(discrim_VGP_diff), len(globalMeanDepths)"
   ]
  },
  {
   "cell_type": "code",
   "execution_count": 103,
   "metadata": {},
   "outputs": [
    {
     "name": "stdout",
     "output_type": "stream",
     "text": [
      "Global Mean Depth x VGP Diff:  (0.24805393335361786, 0.0033520819910944177)\n",
      "Global Mean Depth x GP Diff:  (0.13381235511249623, 0.11765646495750183)\n"
     ]
    }
   ],
   "source": [
    "print('Global Mean Depth x VGP Diff: ',stats.pearsonr(globalMeanDepths, discrim_VGP_diff))\n",
    "\n",
    "print('Global Mean Depth x GP Diff: ',stats.pearsonr(globalMeanDepths, discrim_GP_diff))\n"
   ]
  },
  {
   "cell_type": "code",
   "execution_count": null,
   "metadata": {},
   "outputs": [],
   "source": []
  }
 ],
 "metadata": {
  "kernelspec": {
   "display_name": "Python 3",
   "language": "python",
   "name": "python3"
  },
  "language_info": {
   "codemirror_mode": {
    "name": "ipython",
    "version": 3
   },
   "file_extension": ".py",
   "mimetype": "text/x-python",
   "name": "python",
   "nbconvert_exporter": "python",
   "pygments_lexer": "ipython3",
   "version": "3.7.5"
  }
 },
 "nbformat": 4,
 "nbformat_minor": 4
}
