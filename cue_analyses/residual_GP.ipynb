{
 "cells": [
  {
   "cell_type": "markdown",
   "metadata": {},
   "source": [
    "# GP Analysis: Based on Residuals \n",
    "\n"
   ]
  },
  {
   "cell_type": "code",
   "execution_count": 1,
   "metadata": {},
   "outputs": [],
   "source": [
    "import os \n",
    "import pandas as pd\n",
    "import numpy as np\n",
    "import math\n",
    "import matplotlib.pyplot as plt\n",
    "import scipy \n",
    "import scipy.stats as stats\n",
    "from scipy.stats import sem \n",
    "from mpl_toolkits.mplot3d import Axes3D # <--- This is important for 3d plotting \n",
    "from sklearn.linear_model import LinearRegression\n",
    "import json\n",
    "import copy"
   ]
  },
  {
   "cell_type": "markdown",
   "metadata": {},
   "source": [
    "## Load discrimination data"
   ]
  },
  {
   "cell_type": "code",
   "execution_count": 2,
   "metadata": {},
   "outputs": [],
   "source": [
    "_dir = '/Users/prachimahableshwarkar/Documents/GW/Depth_MTurk/depth_discrimination'\n",
    "# _dir = '/Users/pmahableshwarkar/Documents/Depth_Project/depth_discrimination'\n",
    "# raw_dir = _dir + '/data/finalVEMatched/raw/'\n",
    "zs_dir = _dir + '/data/finalDiscrimMatched/z_scored_RT/'\n",
    "\n",
    "# final_data = pd.read_csv (raw_dir + '/raw_discrim.csv')\n",
    "zscored_data = pd.read_csv (zs_dir + 'final_discrim.csv')"
   ]
  },
  {
   "cell_type": "code",
   "execution_count": 3,
   "metadata": {},
   "outputs": [
    {
     "data": {
      "text/plain": [
       "156"
      ]
     },
     "execution_count": 3,
     "metadata": {},
     "output_type": "execute_result"
    }
   ],
   "source": [
    "p = _dir + '/data/finalDiscrimMatched/performance.pkl'\n",
    "unpickled_df = pd.read_pickle(p) \n",
    "len(unpickled_df)"
   ]
  },
  {
   "cell_type": "code",
   "execution_count": 10,
   "metadata": {},
   "outputs": [],
   "source": [
    "stimuli_path = '/Users/prachimahableshwarkar/Documents/GW/Depth_MTurk/depth_duration_stimuli'\n",
    "kinect192_path = '/Users/prachimahableshwarkar/Documents/GW/SUNRGBD/updated/kinect2data_192'\n",
    "\n",
    "# stimuli_path = '/Users/pmahableshwarkar/Documents/Depth_Project/final_stimuli'\n",
    "# kinect192_path = '/Users/pmahableshwarkar/Documents/Depth_Project/SUNRGBD/kinect2data_192'\n",
    "\n",
    "targetDepths = {}\n",
    "\n",
    "for stim in os.listdir(stimuli_path):\n",
    "    if 'resize' in stim:\n",
    "        p = stimuli_path + '/' + stim + '/data.json'\n",
    "        data = json.load(open(p))\n",
    "        target_depth = data['objects'][0]['crossing_point'][0]['depth']\n",
    "        target_object = data['objects'][0]['name']\n",
    "        targetDepths[stim[:-2]] = target_depth"
   ]
  },
  {
   "cell_type": "markdown",
   "metadata": {},
   "source": [
    "## Load Ground Plane Metrics: Pixel SA"
   ]
  },
  {
   "cell_type": "code",
   "execution_count": 12,
   "metadata": {},
   "outputs": [],
   "source": [
    "# path = '/Users/pmahableshwarkar/Documents/Depth_Project/SUN_scene_cue_coding/VGP_size_dict.json'\n",
    "path = '/Users/prachimahableshwarkar/Documents/GW/Depth_MTurk/SUN_scene_cue_coding/VGP_size_dict.json'\n",
    "\n",
    "vgp_size_dict = json.load(open(path))\n",
    "\n"
   ]
  },
  {
   "cell_type": "code",
   "execution_count": 5,
   "metadata": {},
   "outputs": [],
   "source": [
    "# path = '/Users/pmahableshwarkar/Documents/Depth_Project/SUN_scene_cue_coding/GP_size_dict.json'\n",
    "path = '/Users/prachimahableshwarkar/Documents/GW/Depth_MTurk/SUN_scene_cue_coding/GP_size_dict.json'\n",
    "\n",
    "gp_size_dict = json.load(open(path))"
   ]
  },
  {
   "cell_type": "code",
   "execution_count": 14,
   "metadata": {},
   "outputs": [
    {
     "name": "stdout",
     "output_type": "stream",
     "text": [
      "(0.6305436407876517, 4.100796404472425e-18)\n",
      "(0.1465931961258253, 0.07247634775275881)\n",
      "(0.2664505181464459, 0.0009430642237052936)\n"
     ]
    }
   ],
   "source": [
    "VGPS = []\n",
    "GPS = []\n",
    "TDS = []\n",
    "for key in vgp_size_dict:\n",
    "    try:\n",
    "        gp = gp_size_dict[key]\n",
    "        VGPS.append(vgp_size_dict[key])\n",
    "        GPS.append(gp)\n",
    "        TDS.append(targetDepths[key])\n",
    "    except:\n",
    "        pass\n",
    "\n",
    "print(stats.pearsonr(VGPS, GPS))\n",
    "print(stats.pearsonr(VGPS, TDS))\n",
    "print(stats.pearsonr(GPS, TDS))"
   ]
  },
  {
   "cell_type": "code",
   "execution_count": 7,
   "metadata": {},
   "outputs": [
    {
     "name": "stdout",
     "output_type": "stream",
     "text": [
      "002118_2014-06-25_20-32-08_260595134347_rgbf000078-resize excluded\n",
      "002657_2014-06-13_15-29-54_094959634447_rgbf000150-resize excluded\n"
     ]
    }
   ],
   "source": [
    "# Find GP Outliers \n",
    "\n",
    "gpsize_list = [[key, gp_size_dict[key]] for key in gp_size_dict]\n",
    "gpsize_mean = np.mean(np.array([elem[1] for elem in gpsize_list]))\n",
    "gpsize_std = np.std(np.array([elem[1] for elem in gpsize_list]))\n",
    "\n",
    "gpsize_outlierRange = [gpsize_mean - (3*gpsize_std), gpsize_mean + (3*gpsize_std)]\n",
    "\n",
    "cleaned_gpsize_dict = {}\n",
    "for key in gp_size_dict:\n",
    "    if gpsize_outlierRange[0] < gp_size_dict[key] < gpsize_outlierRange[1]:\n",
    "        cleaned_gpsize_dict[key] = gp_size_dict[key]\n",
    "    else:\n",
    "        print(key, 'excluded')"
   ]
  },
  {
   "cell_type": "code",
   "execution_count": 8,
   "metadata": {},
   "outputs": [
    {
     "name": "stdout",
     "output_type": "stream",
     "text": [
      "002568_2014-06-24_13-59-21_094959634447_rgbf000062-resize excluded\n",
      "002600_2014-06-24_14-27-04_094959634447_rgbf000074-resize excluded\n",
      "002118_2014-06-25_20-32-08_260595134347_rgbf000078-resize excluded\n",
      "002570_2014-06-24_13-59-54_094959634447_rgbf000059-resize excluded\n"
     ]
    }
   ],
   "source": [
    "# Find VGP Outliers \n",
    "\n",
    "vgpsize_list = [[key, vgp_size_dict[key]] for key in vgp_size_dict]\n",
    "vgpsize_mean = np.mean(np.array([elem[1] for elem in vgpsize_list]))\n",
    "vgpsize_std = np.std(np.array([elem[1] for elem in vgpsize_list]))\n",
    "\n",
    "vgpsize_outlierRange = [vgpsize_mean - (3*vgpsize_std), vgpsize_mean + (3*vgpsize_std)]\n",
    "\n",
    "cleaned_vgpsize_dict = {}\n",
    "for key in vgp_size_dict:\n",
    "    if vgpsize_outlierRange[0] < vgp_size_dict[key] < vgpsize_outlierRange[1]:\n",
    "        cleaned_vgpsize_dict[key] = vgp_size_dict[key]\n",
    "    else:\n",
    "        print(key, 'excluded')"
   ]
  },
  {
   "cell_type": "code",
   "execution_count": 15,
   "metadata": {},
   "outputs": [
    {
     "data": {
      "text/plain": [
       "('000483_2014-06-09_20-41-45_260595134347_rgbf000116-resize',\n",
       " 'depth_discrimination_stimuli/000483_2014-06-09_20-41-45_260595134347_rgbf000116-resize_4/000483_2014-06-09_20-41-45_260595134347_rgbf000116-resize_4-target.png')"
      ]
     },
     "execution_count": 15,
     "metadata": {},
     "output_type": "execute_result"
    }
   ],
   "source": [
    "folders = [f.split('/')[1][:-2] for f in list(unpickled_df.keys())]\n",
    "folders[0], list(unpickled_df.keys())[0]"
   ]
  },
  {
   "cell_type": "code",
   "execution_count": 18,
   "metadata": {},
   "outputs": [],
   "source": [
    "ordered_gp_size = []\n",
    "ordered_vgp_size = []\n",
    "ordered_tds_gp = []\n",
    "ordered_tds_vgp = []\n",
    "\n",
    "gp_none = 0\n",
    "vgp_none = 0\n",
    "for folder in folders:\n",
    "    try:\n",
    "        ordered_gp_size.append(cleaned_gpsize_dict[folder])\n",
    "        ordered_tds_gp.append(targetDepths[folder])\n",
    "    except:\n",
    "        gp_none += 1\n",
    "        ordered_gp_size.append(None)\n",
    "        ordered_tds_gp.append(None)\n",
    "\n",
    "    try:\n",
    "        ordered_vgp_size.append(cleaned_vgpsize_dict[folder])\n",
    "        ordered_tds_vgp.append(targetDepths[folder])\n",
    "    except:\n",
    "        vgp_none += 1\n",
    "        ordered_vgp_size.append(None)\n",
    "        ordered_tds_vgp.append(None)\n"
   ]
  },
  {
   "cell_type": "code",
   "execution_count": 20,
   "metadata": {},
   "outputs": [
    {
     "data": {
      "text/plain": [
       "(156, 156, 156, 156)"
      ]
     },
     "execution_count": 20,
     "metadata": {},
     "output_type": "execute_result"
    }
   ],
   "source": [
    "len(ordered_gp_size), len(ordered_tds_gp), len(ordered_vgp_size), len(ordered_tds_vgp)"
   ]
  },
  {
   "cell_type": "markdown",
   "metadata": {},
   "source": [
    "## Linear Model: GP x Target Depth"
   ]
  },
  {
   "cell_type": "code",
   "execution_count": 29,
   "metadata": {},
   "outputs": [],
   "source": [
    "gpvals = [elem for elem in ordered_gp_size if elem != None]\n",
    "gp_tdvals = [elem for elem in ordered_tds_gp if elem != None]"
   ]
  },
  {
   "cell_type": "code",
   "execution_count": 30,
   "metadata": {},
   "outputs": [
    {
     "name": "stdout",
     "output_type": "stream",
     "text": [
      "m: [2.53282356]\n",
      "b: 10.458699577467081\n",
      "R-squared:  0.0659683158968628\n",
      "Corr, p-val (0.2568429790686581, 0.0015669902616939355)\n"
     ]
    },
    {
     "data": {
      "image/png": "[encoded data removed]",
      "text/plain": [
       "<Figure size 576x576 with 1 Axes>"
      ]
     },
     "metadata": {
      "needs_background": "light"
     },
     "output_type": "display_data"
    }
   ],
   "source": [
    "from sklearn.linear_model import LinearRegression\n",
    "\n",
    "fig, ax = plt.subplots(figsize=[8,8])\n",
    "plt.tight_layout()\n",
    "ax.spines['right'].set_visible(False)\n",
    "ax.spines['top'].set_visible(False)\n",
    "\n",
    "for axis in ['bottom','left']:\n",
    "    ax.spines[axis].set_linewidth(2.3)\n",
    "    \n",
    "#run regression\n",
    "X = np.array(gp_tdvals).reshape(-1,1)\n",
    "y = gpvals\n",
    "reg = LinearRegression().fit(X, y)\n",
    "\n",
    "#Generated Predictions\n",
    "y_predicted = reg.predict(X)\n",
    "#Plot Our Actual and Predicted Values\n",
    "plt.plot(X, y, 'o', color='black', alpha = 0.5);\n",
    "plt.plot(X,y_predicted,color='violet', label = 'm = ' + str(round(reg.coef_[0], 3))\n",
    "         + '     r-squared = ' + str(round(float(reg.score(X, y)), 3)))\n",
    "plt.title(\"Complete Ground Plane x Target Depth\", fontsize = 28)\n",
    "plt.xlabel(\"Actual Depth (m)\", fontsize = 22)\n",
    "plt.ylabel(\"Complete Ground Plane SA (meters-squared)\", fontsize = 22)\n",
    "\n",
    "# plt.xticks(np.arange(1, 6, 1), fontsize=15)\n",
    "# plt.yticks(np.arange(-1,1.5, 0.5), fontsize=15)\n",
    "# plt.ylim(-1.5,1.5)\n",
    "\n",
    "legend = plt.legend(loc = 0, fontsize = 15, borderpad = 0.6, labelspacing = 1, frameon=False)\n",
    "\n",
    "#get coefficients and y intercept\n",
    "print(\"m: {0}\".format(reg.coef_))\n",
    "print(\"b: {0}\".format(reg.intercept_))\n",
    "\n",
    "#Returns the coefficient of determination R^2 of the prediction.\n",
    "print(\"R-squared: \", reg.score(X, y))\n",
    "print(\"Corr, p-val\", stats.pearsonr(gpvals, gp_tdvals))\n",
    "\n",
    "gpTD_residuals = copy.deepcopy(y - y_predicted)"
   ]
  },
  {
   "cell_type": "markdown",
   "metadata": {},
   "source": [
    "## Linear Model: GP x Target Depth"
   ]
  },
  {
   "cell_type": "code",
   "execution_count": 31,
   "metadata": {},
   "outputs": [],
   "source": [
    "vgpvals = [elem for elem in ordered_vgp_size if elem != None]\n",
    "vgp_tdvals = [elem for elem in ordered_tds_vgp if elem != None]"
   ]
  },
  {
   "cell_type": "code",
   "execution_count": 32,
   "metadata": {},
   "outputs": [
    {
     "name": "stdout",
     "output_type": "stream",
     "text": [
      "m: [0.82143443]\n",
      "b: 5.1356107862326335\n",
      "R-squared:  0.03337779577523614\n",
      "Corr, p-val (0.18269591066916657, 0.026771329251583455)\n"
     ]
    },
    {
     "data": {
      "image/png": "[encoded data removed]",
      "text/plain": [
       "<Figure size 576x576 with 1 Axes>"
      ]
     },
     "metadata": {
      "needs_background": "light"
     },
     "output_type": "display_data"
    }
   ],
   "source": [
    "from sklearn.linear_model import LinearRegression\n",
    "\n",
    "fig, ax = plt.subplots(figsize=[8,8])\n",
    "plt.tight_layout()\n",
    "ax.spines['right'].set_visible(False)\n",
    "ax.spines['top'].set_visible(False)\n",
    "\n",
    "for axis in ['bottom','left']:\n",
    "    ax.spines[axis].set_linewidth(2.3)\n",
    "    \n",
    "#run regression\n",
    "X = np.array(vgp_tdvals).reshape(-1,1)\n",
    "y = vgpvals\n",
    "reg = LinearRegression().fit(X, y)\n",
    "\n",
    "#Generated Predictions\n",
    "y_predicted = reg.predict(X)\n",
    "#Plot Our Actual and Predicted Values\n",
    "plt.plot(X, y, 'o', color='black', alpha = 0.5);\n",
    "plt.plot(X,y_predicted,color='orange', label = 'm = ' + str(round(reg.coef_[0], 3))\n",
    "         + '     r-squared = ' + str(round(float(reg.score(X, y)), 3)))\n",
    "plt.title(\"Visible Ground Plane x Target Depth\", fontsize = 28)\n",
    "plt.xlabel(\"Actual Depth (m)\", fontsize = 22)\n",
    "plt.ylabel(\"Visible Ground Plane SA (meters-squared)\", fontsize = 22)\n",
    "\n",
    "# plt.xticks(np.arange(1, 6, 1), fontsize=15)\n",
    "# plt.yticks(np.arange(-1,1.5, 0.5), fontsize=15)\n",
    "# plt.ylim(-1.5,1.5)\n",
    "\n",
    "legend = plt.legend(loc = 0, fontsize = 15, borderpad = 0.6, labelspacing = 1, frameon=False)\n",
    "\n",
    "#get coefficients and y intercept\n",
    "print(\"m: {0}\".format(reg.coef_))\n",
    "print(\"b: {0}\".format(reg.intercept_))\n",
    "\n",
    "#Returns the coefficient of determination R^2 of the prediction.\n",
    "print(\"R-squared: \", reg.score(X, y))\n",
    "print(\"Corr, p-val\", stats.pearsonr(vgpvals, vgp_tdvals))\n",
    "\n",
    "vgpTD_residuals = copy.deepcopy(y - y_predicted)"
   ]
  },
  {
   "cell_type": "markdown",
   "metadata": {},
   "source": [
    "## Discrimination Residuals: PC x Kinect Coded Depth Difference"
   ]
  },
  {
   "cell_type": "code",
   "execution_count": 33,
   "metadata": {},
   "outputs": [],
   "source": [
    "p = '/Users/prachimahableshwarkar/Documents/GW/Depth_MTurk/depth_discrimination/data/finalDiscrimMatched/kinectCoded_discrimination/'\n",
    "\n",
    "dresiduals_125 = np.load(p + 'residuals_125.npy')\n",
    "dresiduals_250 = np.load(p + 'residuals_250.npy')\n",
    "dresiduals_1000 = np.load(p + 'residuals_1000.npy')\n",
    "\n",
    "dstim = np.load(p + 'final_stim.npy')\n",
    "\n",
    "dstim_folders = [f.split('/')[1][:-2] for f in dstim]\n"
   ]
  },
  {
   "cell_type": "code",
   "execution_count": null,
   "metadata": {},
   "outputs": [],
   "source": []
  },
  {
   "cell_type": "code",
   "execution_count": 38,
   "metadata": {},
   "outputs": [
    {
     "data": {
      "text/plain": [
       "(147, 147, 149, 149)"
      ]
     },
     "execution_count": 38,
     "metadata": {},
     "output_type": "execute_result"
    }
   ],
   "source": [
    "trunc_vgpTDResid = []\n",
    "trunc_gpTDResid = []\n",
    "\n",
    "vgp_trunc_dresiduals_125 = []\n",
    "vgp_trunc_dresiduals_250 = []\n",
    "vgp_trunc_dresiduals_1000 = []\n",
    "\n",
    "gp_trunc_dresiduals_125 = []\n",
    "gp_trunc_dresiduals_250 = []\n",
    "gp_trunc_dresiduals_1000 = []\n",
    "\n",
    "i = 0\n",
    "for elem in cleaned_gpsize_dict:\n",
    "    try:\n",
    "        dstim_i = dstim_folders.index(elem)\n",
    "        gp_trunc_dresiduals_125.append(dresiduals_125[dstim_i])\n",
    "        gp_trunc_dresiduals_250.append(dresiduals_250[dstim_i])\n",
    "        gp_trunc_dresiduals_1000.append(dresiduals_1000[dstim_i])\n",
    "        \n",
    "        trunc_gpTDResid.append(gpTD_residuals[i])\n",
    "\n",
    "\n",
    "    except:\n",
    "        pass\n",
    "    i += 1\n",
    "\n",
    "j = 0\n",
    "for elem in cleaned_vgpsize_dict:\n",
    "    try:\n",
    "        dstim_i = dstim_folders.index(elem)\n",
    "        vgp_trunc_dresiduals_125.append(dresiduals_125[dstim_i])\n",
    "        vgp_trunc_dresiduals_250.append(dresiduals_250[dstim_i])\n",
    "        vgp_trunc_dresiduals_1000.append(dresiduals_1000[dstim_i])\n",
    "        \n",
    "        trunc_vgpTDResid.append(vgpTD_residuals[j])\n",
    "\n",
    "\n",
    "    except:\n",
    "        pass\n",
    "    j += 1\n",
    "    \n",
    "len(trunc_vgpTDResid), len(vgp_trunc_dresiduals_125), len(trunc_gpTDResid), len(gp_trunc_dresiduals_125)\n"
   ]
  },
  {
   "cell_type": "markdown",
   "metadata": {},
   "source": [
    "## Correlation "
   ]
  },
  {
   "cell_type": "code",
   "execution_count": 39,
   "metadata": {},
   "outputs": [],
   "source": [
    "gp_trunc_dresiduals_avg = np.mean([np.array(gp_trunc_dresiduals_125), np.array(gp_trunc_dresiduals_250), np.array(gp_trunc_dresiduals_1000)], axis =0)\n"
   ]
  },
  {
   "cell_type": "code",
   "execution_count": 43,
   "metadata": {},
   "outputs": [
    {
     "name": "stdout",
     "output_type": "stream",
     "text": [
      "Correlation between residuals (discrim PC x kinect diff) and residuals (GP x target depth)\n",
      "125 ms:  (-0.06255496612886807, 0.4485152784458977)\n",
      "250 ms:  (-0.04960343897331962, 0.5480012989002233)\n",
      "1000 ms:  (-0.01203503807566032, 0.8841784200626227)\n",
      "Avg:  (-0.040877970468727626, 0.6206114960773624)\n",
      "All:  (-0.03978955853434721, 0.4013443960763409)\n"
     ]
    }
   ],
   "source": [
    "print('Correlation between residuals (discrim PC x kinect diff) and residuals (GP x target depth)')\n",
    "print('125 ms: ',stats.pearsonr(gp_trunc_dresiduals_125, trunc_gpTDResid))\n",
    "print('250 ms: ',stats.pearsonr(gp_trunc_dresiduals_250, trunc_gpTDResid))\n",
    "print('1000 ms: ',stats.pearsonr(gp_trunc_dresiduals_1000, trunc_gpTDResid))\n",
    "\n",
    "print('Avg: ',stats.pearsonr(gp_trunc_dresiduals_avg, trunc_gpTDResid))\n",
    "\n",
    "print('All: ',stats.pearsonr(gp_trunc_dresiduals_125 + gp_trunc_dresiduals_250 + gp_trunc_dresiduals_1000, trunc_gpTDResid*3))\n"
   ]
  },
  {
   "cell_type": "code",
   "execution_count": 44,
   "metadata": {},
   "outputs": [],
   "source": [
    "vgp_trunc_dresiduals_avg = np.mean([np.array(vgp_trunc_dresiduals_125), np.array(vgp_trunc_dresiduals_250), np.array(vgp_trunc_dresiduals_1000)], axis =0)\n"
   ]
  },
  {
   "cell_type": "code",
   "execution_count": 45,
   "metadata": {},
   "outputs": [
    {
     "name": "stdout",
     "output_type": "stream",
     "text": [
      "Correlation between residuals (discrim PC x kinect diff) and residuals (VGP x target depth)\n",
      "125 ms:  (-0.08366044481029332, 0.3137247344046776)\n",
      "250 ms:  (-0.07764769306216955, 0.3498894776593516)\n",
      "1000 ms:  (-0.1062654247168783, 0.20018263702476546)\n",
      "Avg:  (-0.0920746443274239, 0.2673552888568339)\n",
      "All:  (-0.08964551560995812, 0.05997171355795576)\n"
     ]
    }
   ],
   "source": [
    "print('Correlation between residuals (discrim PC x kinect diff) and residuals (VGP x target depth)')\n",
    "print('125 ms: ',stats.pearsonr(vgp_trunc_dresiduals_125, trunc_vgpTDResid))\n",
    "print('250 ms: ',stats.pearsonr(vgp_trunc_dresiduals_250, trunc_vgpTDResid))\n",
    "print('1000 ms: ',stats.pearsonr(vgp_trunc_dresiduals_1000, trunc_vgpTDResid))\n",
    "\n",
    "print('Avg: ',stats.pearsonr(vgp_trunc_dresiduals_avg, trunc_vgpTDResid))\n",
    "\n",
    "print('All: ',stats.pearsonr(vgp_trunc_dresiduals_125 + vgp_trunc_dresiduals_250 + vgp_trunc_dresiduals_1000, trunc_vgpTDResid*3))\n"
   ]
  },
  {
   "cell_type": "code",
   "execution_count": null,
   "metadata": {},
   "outputs": [],
   "source": []
  }
 ],
 "metadata": {
  "kernelspec": {
   "display_name": "Python 3",
   "language": "python",
   "name": "python3"
  },
  "language_info": {
   "codemirror_mode": {
    "name": "ipython",
    "version": 3
   },
   "file_extension": ".py",
   "mimetype": "text/x-python",
   "name": "python",
   "nbconvert_exporter": "python",
   "pygments_lexer": "ipython3",
   "version": "3.7.4"
  }
 },
 "nbformat": 4,
 "nbformat_minor": 4
}
