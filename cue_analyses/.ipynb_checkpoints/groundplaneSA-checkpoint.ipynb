{
 "cells": [
  {
   "cell_type": "markdown",
   "metadata": {},
   "source": [
    "# Ground Plane Surface Area Metrics x Discrimination Data"
   ]
  },
  {
   "cell_type": "code",
   "execution_count": 1,
   "metadata": {},
   "outputs": [],
   "source": [
    "import os\n",
    "import numpy as np\n",
    "import pandas as pd\n",
    "import scipy\n",
    "import path \n",
    "from matplotlib import pyplot as plt\n",
    "import json\n",
    "from PIL import Image, ImageStat\n",
    "from sklearn.linear_model import LinearRegression\n",
    "from scipy import stats\n",
    "import math"
   ]
  },
  {
   "cell_type": "markdown",
   "metadata": {},
   "source": [
    "## Load discrimination data"
   ]
  },
  {
   "cell_type": "code",
   "execution_count": 10,
   "metadata": {},
   "outputs": [],
   "source": [
    "# _dir = '/Users/prachimahableshwarkar/Documents/GW/Depth_MTurk/depth_discrimination'\n",
    "_dir = '/Users/pmahableshwarkar/Documents/Depth_Project/depth_discrimination'\n",
    "# raw_dir = _dir + '/data/finalVEMatched/raw/'\n",
    "zs_dir = _dir + '/data/finalDiscrimMatched/z_scored_RT/'\n",
    "\n",
    "# final_data = pd.read_csv (raw_dir + '/raw_discrim.csv')\n",
    "zscored_data = pd.read_csv (zs_dir + 'final_discrim.csv')"
   ]
  },
  {
   "cell_type": "code",
   "execution_count": 16,
   "metadata": {},
   "outputs": [
    {
     "data": {
      "text/plain": [
       "156"
      ]
     },
     "execution_count": 16,
     "metadata": {},
     "output_type": "execute_result"
    }
   ],
   "source": [
    "p = '/Users/pmahableshwarkar/Documents/Depth_Project/depth_discrimination/data/finalDiscrimMatched/performance.pkl'\n",
    "unpickled_df = pd.read_pickle(p) \n",
    "len(unpickled_df)\n",
    "\n",
    "path = 'depth_discrimination_stimuli/000483_2014-06-09_20-41-45_260595134347_rgbf000116-resize_4/000483_2014-06-09_20-41-45_260595134347_rgbf000116-resize_4-target.png'\n",
    "\n",
    "# unpickled_df[path]\n",
    "\n",
    "len(unpickled_df)"
   ]
  },
  {
   "cell_type": "markdown",
   "metadata": {},
   "source": [
    "## Load Ground Plane Metrics: Pixel SA"
   ]
  },
  {
   "cell_type": "code",
   "execution_count": 4,
   "metadata": {
    "jupyter": {
     "source_hidden": true
    }
   },
   "outputs": [],
   "source": [
    "path = '/Users/pmahableshwarkar/Documents/Depth_Project/SUN_scene_cue_coding/VGP_size_dict.json'\n",
    "# path = '/Users/prachimahableshwarkar/Documents/GW/Depth_MTurk/SUN_scene_cue_coding/VGP_size_dict.json'\n",
    "\n",
    "vgp_size_dict = json.load(open(path))\n"
   ]
  },
  {
   "cell_type": "code",
   "execution_count": 5,
   "metadata": {
    "jupyter": {
     "source_hidden": true
    }
   },
   "outputs": [],
   "source": [
    "path = '/Users/pmahableshwarkar/Documents/Depth_Project/SUN_scene_cue_coding/GP_size_dict.json'\n",
    "# path = '/Users/prachimahableshwarkar/Documents/GW/Depth_MTurk/SUN_scene_cue_coding/GP_size_dict.json'\n",
    "\n",
    "gp_size_dict = json.load(open(path))"
   ]
  },
  {
   "cell_type": "code",
   "execution_count": 6,
   "metadata": {
    "jupyter": {
     "source_hidden": true
    }
   },
   "outputs": [
    {
     "name": "stdout",
     "output_type": "stream",
     "text": [
      "(0.6305436407876516, 4.100796404472517e-18)\n"
     ]
    }
   ],
   "source": [
    "VGPS = []\n",
    "GPS = []\n",
    "for key in vgp_size_dict:\n",
    "    try:\n",
    "        gp = gp_size_dict[key]\n",
    "        VGPS.append(vgp_size_dict[key])\n",
    "        GPS.append(gp)\n",
    "    except:\n",
    "        pass\n",
    "\n",
    "print(stats.pearsonr(VGPS, GPS))"
   ]
  },
  {
   "cell_type": "code",
   "execution_count": 7,
   "metadata": {
    "jupyter": {
     "source_hidden": true
    }
   },
   "outputs": [
    {
     "name": "stdout",
     "output_type": "stream",
     "text": [
      "002118_2014-06-25_20-32-08_260595134347_rgbf000078-resize excluded\n",
      "002657_2014-06-13_15-29-54_094959634447_rgbf000150-resize excluded\n"
     ]
    }
   ],
   "source": [
    "# Find GP or VGP Outliers \n",
    "\n",
    "gpsize_list = [[key, gp_size_dict[key]] for key in gp_size_dict]\n",
    "gpsize_mean = np.mean(np.array([elem[1] for elem in gpsize_list]))\n",
    "gpsize_std = np.std(np.array([elem[1] for elem in gpsize_list]))\n",
    "\n",
    "gpsize_outlierRange = [gpsize_mean - (3*gpsize_std), gpsize_mean + (3*gpsize_std)]\n",
    "\n",
    "cleaned_gpsize_dict = {}\n",
    "for key in gp_size_dict:\n",
    "    if gpsize_outlierRange[0] < gp_size_dict[key] < gpsize_outlierRange[1]:\n",
    "        cleaned_gpsize_dict[key] = gp_size_dict[key]\n",
    "    else:\n",
    "        print(key, 'excluded')"
   ]
  },
  {
   "cell_type": "code",
   "execution_count": 8,
   "metadata": {},
   "outputs": [
    {
     "name": "stdout",
     "output_type": "stream",
     "text": [
      "002568_2014-06-24_13-59-21_094959634447_rgbf000062-resize excluded\n",
      "002600_2014-06-24_14-27-04_094959634447_rgbf000074-resize excluded\n",
      "002118_2014-06-25_20-32-08_260595134347_rgbf000078-resize excluded\n",
      "002570_2014-06-24_13-59-54_094959634447_rgbf000059-resize excluded\n"
     ]
    }
   ],
   "source": [
    "# Find GP or VGP Outliers \n",
    "\n",
    "vgpsize_list = [[key, vgp_size_dict[key]] for key in vgp_size_dict]\n",
    "vgpsize_mean = np.mean(np.array([elem[1] for elem in vgpsize_list]))\n",
    "vgpsize_std = np.std(np.array([elem[1] for elem in vgpsize_list]))\n",
    "\n",
    "vgpsize_outlierRange = [vgpsize_mean - (3*vgpsize_std), vgpsize_mean + (3*vgpsize_std)]\n",
    "\n",
    "cleaned_vgpsize_dict = {}\n",
    "for key in vgp_size_dict:\n",
    "    if vgpsize_outlierRange[0] < vgp_size_dict[key] < vgpsize_outlierRange[1]:\n",
    "        cleaned_vgpsize_dict[key] = vgp_size_dict[key]\n",
    "    else:\n",
    "        print(key, 'excluded')"
   ]
  },
  {
   "cell_type": "code",
   "execution_count": 1,
   "metadata": {},
   "outputs": [
    {
     "ename": "NameError",
     "evalue": "name 'unpickled_df' is not defined",
     "output_type": "error",
     "traceback": [
      "\u001b[0;31m---------------------------------------------------------------------------\u001b[0m",
      "\u001b[0;31mNameError\u001b[0m                                 Traceback (most recent call last)",
      "\u001b[0;32m<ipython-input-1-96064d9dd517>\u001b[0m in \u001b[0;36m<module>\u001b[0;34m\u001b[0m\n\u001b[0;32m----> 1\u001b[0;31m \u001b[0mfolders\u001b[0m \u001b[0;34m=\u001b[0m \u001b[0;34m[\u001b[0m\u001b[0mf\u001b[0m\u001b[0;34m.\u001b[0m\u001b[0msplit\u001b[0m\u001b[0;34m(\u001b[0m\u001b[0;34m'/'\u001b[0m\u001b[0;34m)\u001b[0m\u001b[0;34m[\u001b[0m\u001b[0;36m1\u001b[0m\u001b[0;34m]\u001b[0m\u001b[0;34m[\u001b[0m\u001b[0;34m:\u001b[0m\u001b[0;34m-\u001b[0m\u001b[0;36m2\u001b[0m\u001b[0;34m]\u001b[0m \u001b[0;32mfor\u001b[0m \u001b[0mf\u001b[0m \u001b[0;32min\u001b[0m \u001b[0mlist\u001b[0m\u001b[0;34m(\u001b[0m\u001b[0munpickled_df\u001b[0m\u001b[0;34m.\u001b[0m\u001b[0mkeys\u001b[0m\u001b[0;34m(\u001b[0m\u001b[0;34m)\u001b[0m\u001b[0;34m)\u001b[0m\u001b[0;34m]\u001b[0m\u001b[0;34m\u001b[0m\u001b[0;34m\u001b[0m\u001b[0m\n\u001b[0m\u001b[1;32m      2\u001b[0m \u001b[0mfolders\u001b[0m\u001b[0;34m[\u001b[0m\u001b[0;36m0\u001b[0m\u001b[0;34m]\u001b[0m\u001b[0;34m,\u001b[0m \u001b[0mlist\u001b[0m\u001b[0;34m(\u001b[0m\u001b[0munpickled_df\u001b[0m\u001b[0;34m.\u001b[0m\u001b[0mkeys\u001b[0m\u001b[0;34m(\u001b[0m\u001b[0;34m)\u001b[0m\u001b[0;34m)\u001b[0m\u001b[0;34m[\u001b[0m\u001b[0;36m0\u001b[0m\u001b[0;34m]\u001b[0m\u001b[0;34m\u001b[0m\u001b[0;34m\u001b[0m\u001b[0m\n",
      "\u001b[0;31mNameError\u001b[0m: name 'unpickled_df' is not defined"
     ]
    }
   ],
   "source": [
    "folders = [f.split('/')[1][:-2] for f in list(unpickled_df.keys())]\n",
    "folders[0], list(unpickled_df.keys())[0]"
   ]
  },
  {
   "cell_type": "code",
   "execution_count": 25,
   "metadata": {},
   "outputs": [],
   "source": [
    "ordered_gp_size = []\n",
    "ordered_vgp_size = []\n",
    "\n",
    "gp_none = 0\n",
    "vgp_none = 0\n",
    "for folder in folders:\n",
    "    try:\n",
    "        ordered_gp_size.append(cleaned_gpsize_dict[folder])\n",
    "    except:\n",
    "        gp_none += 1\n",
    "        ordered_gp_size.append(None)\n",
    "    try:\n",
    "        ordered_vgp_size.append(cleaned_vgpsize_dict[folder])\n",
    "    except:\n",
    "        vgp_none += 1\n",
    "        ordered_vgp_size.append(None)"
   ]
  },
  {
   "cell_type": "code",
   "execution_count": 26,
   "metadata": {},
   "outputs": [
    {
     "data": {
      "text/plain": [
       "(156, 7)"
      ]
     },
     "execution_count": 26,
     "metadata": {},
     "output_type": "execute_result"
    }
   ],
   "source": [
    "len(ordered_gp_size), gp_none"
   ]
  },
  {
   "cell_type": "code",
   "execution_count": 28,
   "metadata": {},
   "outputs": [
    {
     "data": {
      "text/plain": [
       "(156, 9)"
      ]
     },
     "execution_count": 28,
     "metadata": {},
     "output_type": "execute_result"
    }
   ],
   "source": [
    "len(ordered_vgp_size), vgp_none"
   ]
  },
  {
   "cell_type": "code",
   "execution_count": null,
   "metadata": {},
   "outputs": [],
   "source": []
  },
  {
   "cell_type": "code",
   "execution_count": 29,
   "metadata": {},
   "outputs": [],
   "source": [
    "discrim_pc_125 = [unpickled_df[img]['accuracy_125'][0] for img in unpickled_df]\n",
    "discrim_pc_250 = [unpickled_df[img]['accuracy_250'][0] for img in unpickled_df]\n",
    "discrim_pc_1000 = [unpickled_df[img]['accuracy_1000'][0] for img in unpickled_df]\n",
    "\n",
    "\n",
    "discrim_zsRT_125 = [unpickled_df[img]['zsRT_125'][1] for img in unpickled_df]\n",
    "discrim_zsRT_250 = [unpickled_df[img]['zsRT_250'][1] for img in unpickled_df]\n",
    "discrim_zsRT_1000 = [unpickled_df[img]['zsRT_1000'][1] for img in unpickled_df]\n",
    "\n",
    "\n",
    "discrim_VE_depthdifference_125 = [unpickled_df[img]['VE_depthdifference_125'] for img in unpickled_df]\n",
    "discrim_VE_depthdifference_250 = [unpickled_df[img]['VE_depthdifference_250'] for img in unpickled_df]\n",
    "discrim_VE_depthdifference_1000 = [unpickled_df[img]['VE_depthdifference_1000'] for img in unpickled_df]"
   ]
  },
  {
   "cell_type": "code",
   "execution_count": 70,
   "metadata": {},
   "outputs": [
    {
     "data": {
      "text/plain": [
       "(138, 138, 138)"
      ]
     },
     "execution_count": 70,
     "metadata": {},
     "output_type": "execute_result"
    }
   ],
   "source": [
    "# difference in clutter between the two images in a discrimination trial\n",
    "discrim_GP_diff = []\n",
    "discrim_VGP_diff = []\n",
    "\n",
    "trunc_discrim_pc_125 = []\n",
    "trunc_discrim_pc_250 = []\n",
    "trunc_discrim_pc_1000 = []\n",
    "\n",
    "trunc_discrim_zsRT_125 = []\n",
    "trunc_discrim_zsRT_250 = []\n",
    "trunc_discrim_zsRT_1000 = []\n",
    "\n",
    "trunc_discrim_VE_depthdifference_125 = []\n",
    "trunc_discrim_VE_depthdifference_250 = []\n",
    "trunc_discrim_VE_depthdifference_1000 = []\n",
    "\n",
    "n = 0\n",
    "for i in range(len(unpickled_df)):\n",
    "    img = list(unpickled_df.keys())[i]\n",
    "    if type(ordered_gp_size[i]) == float: \n",
    "        s1 = unpickled_df[img]['stimulus_1'].split('/')[1][:-2]\n",
    "        s1_index = folders.index(s1)\n",
    "        if type(ordered_gp_size[s1_index]) == float:\n",
    "        \n",
    "            try:\n",
    "\n",
    "                s0_vgp = ordered_vgp_size[i]\n",
    "                s1_vgp = ordered_vgp_size[s1_index]\n",
    "                discrim_VGP_diff.append(abs(s0_vgp - s1_vgp))\n",
    "                \n",
    "                trunc_discrim_pc_125.append(discrim_pc_125[i])\n",
    "                trunc_discrim_pc_250.append(discrim_pc_250[i])\n",
    "                trunc_discrim_pc_1000.append(discrim_pc_1000[i])\n",
    "\n",
    "                trunc_discrim_zsRT_125.append(discrim_zsRT_125[i])\n",
    "                trunc_discrim_zsRT_250.append(discrim_zsRT_250[i])\n",
    "                trunc_discrim_zsRT_1000.append(discrim_zsRT_1000[i])\n",
    "\n",
    "                trunc_discrim_VE_depthdifference_125.append(discrim_VE_depthdifference_125[i])\n",
    "                trunc_discrim_VE_depthdifference_250.append(discrim_VE_depthdifference_250[i])\n",
    "                trunc_discrim_VE_depthdifference_1000.append(discrim_VE_depthdifference_1000[i])\n",
    "                \n",
    "                \n",
    "                \n",
    "                s0_gp = ordered_gp_size[i]\n",
    "                s1_gp = ordered_gp_size[s1_index]\n",
    "                discrim_GP_diff.append(abs(s0_gp - s1_gp))\n",
    "\n",
    "\n",
    "\n",
    "                n += 1\n",
    "            except:\n",
    "                pass\n",
    "n, len(trunc_discrim_pc_1000), len(discrim_VGP_diff)       "
   ]
  },
  {
   "cell_type": "code",
   "execution_count": 38,
   "metadata": {},
   "outputs": [
    {
     "data": {
      "image/png": "[encoded data removed]",
      "text/plain": [
       "<Figure size 360x360 with 1 Axes>"
      ]
     },
     "metadata": {
      "needs_background": "light"
     },
     "output_type": "display_data"
    }
   ],
   "source": [
    "ig, ax = plt.subplots(figsize=[5,5])\n",
    "ax.spines['right'].set_visible(False)\n",
    "ax.spines['top'].set_visible(False)\n",
    "for axis in ['bottom','left']:\n",
    "    ax.spines[axis].set_linewidth(2.3)\n",
    "plt.tight_layout()\n",
    "plt.xticks(fontsize=15)\n",
    "plt.yticks(fontsize=15)\n",
    "\n",
    "plt.ylabel('count', fontsize=15)\n",
    "plt.xlabel('GP Metric Difference', fontsize=15)\n",
    "\n",
    "plt.hist(discrim_GP_diff, label='GP')\n",
    "plt.hist(discrim_VGP_diff, label='VGP')\n",
    "\n",
    "plt.legend(fontsize=15)\n",
    "\n",
    "plt.show();"
   ]
  },
  {
   "cell_type": "markdown",
   "metadata": {},
   "source": [
    "### Complete Ground Plane"
   ]
  },
  {
   "cell_type": "code",
   "execution_count": 54,
   "metadata": {},
   "outputs": [
    {
     "data": {
      "text/plain": [
       "(142, 142)"
      ]
     },
     "execution_count": 54,
     "metadata": {},
     "output_type": "execute_result"
    }
   ],
   "source": [
    "trunc_avg_pc = np.mean([np.array(trunc_discrim_pc_125), np.array(trunc_discrim_pc_250), np.array(trunc_discrim_pc_1000)], axis =0)\n",
    "len(trunc_avg_pc), len(discrim_GP_diff)\n"
   ]
  },
  {
   "cell_type": "code",
   "execution_count": 56,
   "metadata": {},
   "outputs": [
    {
     "name": "stdout",
     "output_type": "stream",
     "text": [
      "Correlation between Discrimination PC and Complete GP difference\n",
      "125 ms:  (0.14188434251181356, 0.09211687880774116)\n",
      "250 ms:  (0.1442175708908188, 0.0868369015192697)\n",
      "1000 ms:  (0.09616369521215114, 0.25493896798660776)\n",
      "Avg:  (0.1353781638598532, 0.10819430100594254)\n",
      "All:  (0.1223508544217652, 0.011491862928310448)\n"
     ]
    }
   ],
   "source": [
    "print('Correlation between Discrimination PC and Complete GP difference')\n",
    "print('125 ms: ',stats.pearsonr(trunc_discrim_pc_125, discrim_GP_diff))\n",
    "print('250 ms: ',stats.pearsonr(trunc_discrim_pc_250, discrim_GP_diff))\n",
    "print('1000 ms: ',stats.pearsonr(trunc_discrim_pc_1000, discrim_GP_diff))\n",
    "\n",
    "print('Avg: ',stats.pearsonr(trunc_avg_pc, discrim_GP_diff))\n",
    "\n",
    "print('All: ',stats.pearsonr(trunc_discrim_pc_125 + trunc_discrim_pc_250 + trunc_discrim_pc_1000, discrim_GP_diff*3))"
   ]
  },
  {
   "cell_type": "code",
   "execution_count": 94,
   "metadata": {},
   "outputs": [
    {
     "data": {
      "image/png": "[encoded data removed]",
      "text/plain": [
       "<Figure size 432x432 with 1 Axes>"
      ]
     },
     "metadata": {
      "needs_background": "light"
     },
     "output_type": "display_data"
    }
   ],
   "source": [
    "import matplotlib.pyplot as plt\n",
    "\n",
    "fig, ax = plt.subplots(figsize=[6,6])\n",
    "ax.spines['right'].set_visible(False)\n",
    "ax.spines['top'].set_visible(False)\n",
    "\n",
    "plt.plot(discrim_GP_diff*3, trunc_discrim_pc_125 + trunc_discrim_pc_250 + trunc_discrim_pc_1000, 'o', color='plum', alpha=0.6)\n",
    "plt.tight_layout()\n",
    "plt.xlabel('GP Difference', fontsize=15)\n",
    "plt.ylabel('Percent Correct', fontsize=15)\n",
    "\n",
    "# plt.yticks(np.arange(-1.6,1.8, 0.4),fontsize=12)\n",
    "plt.xticks(fontsize=12)\n",
    "plt.show();"
   ]
  },
  {
   "cell_type": "code",
   "execution_count": 57,
   "metadata": {},
   "outputs": [],
   "source": [
    "trunc_avg_zsRT = np.mean([np.array(trunc_discrim_zsRT_125), np.array(trunc_discrim_zsRT_250), np.array(trunc_discrim_zsRT_1000)], axis =0)\n"
   ]
  },
  {
   "cell_type": "code",
   "execution_count": 58,
   "metadata": {},
   "outputs": [
    {
     "name": "stdout",
     "output_type": "stream",
     "text": [
      "Correlation between Discrimination z-scored RT and Complete GP difference\n",
      "125 ms:  (-0.05620519002393306, 0.5064549484590563)\n",
      "250 ms:  (-0.1350607171580224, 0.10903166768875622)\n",
      "1000 ms:  (-0.19533151386742004, 0.019829587415567347)\n",
      "Avg:  (-0.1335093843200742, 0.11319694922658165)\n",
      "All:  (-0.12059698642837358, 0.012742811720314077)\n"
     ]
    }
   ],
   "source": [
    "print('Correlation between Discrimination z-scored RT and Complete GP difference')\n",
    "print('125 ms: ',stats.pearsonr(trunc_discrim_zsRT_125, discrim_GP_diff))\n",
    "print('250 ms: ',stats.pearsonr(trunc_discrim_zsRT_250, discrim_GP_diff))\n",
    "print('1000 ms: ',stats.pearsonr(trunc_discrim_zsRT_1000, discrim_GP_diff))\n",
    "\n",
    "print('Avg: ',stats.pearsonr(trunc_avg_zsRT, discrim_GP_diff))\n",
    "\n",
    "print('All: ',stats.pearsonr(trunc_discrim_zsRT_125 + trunc_discrim_zsRT_250 + trunc_discrim_zsRT_1000, discrim_GP_diff*3))"
   ]
  },
  {
   "cell_type": "code",
   "execution_count": 90,
   "metadata": {},
   "outputs": [
    {
     "data": {
      "image/png": "[encoded data removed]",
      "text/plain": [
       "<Figure size 432x432 with 1 Axes>"
      ]
     },
     "metadata": {
      "needs_background": "light"
     },
     "output_type": "display_data"
    }
   ],
   "source": [
    "import matplotlib.pyplot as plt\n",
    "\n",
    "fig, ax = plt.subplots(figsize=[6,6])\n",
    "ax.spines['right'].set_visible(False)\n",
    "ax.spines['top'].set_visible(False)\n",
    "\n",
    "plt.plot(discrim_GP_diff*3, trunc_discrim_zsRT_125 + trunc_discrim_zsRT_250 + trunc_discrim_zsRT_1000, 'o', color='lightgreen', alpha=0.6)\n",
    "plt.tight_layout()\n",
    "plt.xlabel('GP Difference', fontsize=15)\n",
    "plt.ylabel('z-scored RT', fontsize=15)\n",
    "\n",
    "# plt.yticks(np.arange(-1.6,1.8, 0.4),fontsize=12)\n",
    "plt.xticks(fontsize=12)\n",
    "plt.show();"
   ]
  },
  {
   "cell_type": "code",
   "execution_count": 59,
   "metadata": {},
   "outputs": [],
   "source": [
    "trunc_avg_VE_depthdifference = np.mean([np.array(trunc_discrim_VE_depthdifference_125), np.array(trunc_discrim_VE_depthdifference_250), np.array(trunc_discrim_VE_depthdifference_1000)], axis =0)\n"
   ]
  },
  {
   "cell_type": "code",
   "execution_count": 61,
   "metadata": {},
   "outputs": [
    {
     "name": "stdout",
     "output_type": "stream",
     "text": [
      "Correlation between VE Diff and Complete GP difference\n",
      "125 ms:  (0.1364437056243896, 0.1054203676497196)\n",
      "250 ms:  (0.21003957166213122, 0.012112846029543007)\n",
      "1000 ms:  (0.2169120580636876, 0.009516861409473614)\n",
      "Avg:  (0.19021853332521405, 0.02336431947796217)\n",
      "All:  (0.1874766102061213, 9.914583927956745e-05)\n"
     ]
    }
   ],
   "source": [
    "print('Correlation between VE Diff and Complete GP difference')\n",
    "print('125 ms: ',stats.pearsonr(trunc_discrim_VE_depthdifference_125, discrim_GP_diff))\n",
    "print('250 ms: ',stats.pearsonr(trunc_discrim_VE_depthdifference_250, discrim_GP_diff))\n",
    "print('1000 ms: ',stats.pearsonr(trunc_discrim_VE_depthdifference_1000, discrim_GP_diff))\n",
    "\n",
    "print('Avg: ',stats.pearsonr(trunc_avg_VE_depthdifference, discrim_GP_diff))\n",
    "\n",
    "print('All: ',stats.pearsonr(trunc_discrim_VE_depthdifference_125 + trunc_discrim_VE_depthdifference_250 + trunc_discrim_VE_depthdifference_1000, discrim_GP_diff*3))"
   ]
  },
  {
   "cell_type": "code",
   "execution_count": 88,
   "metadata": {},
   "outputs": [
    {
     "data": {
      "image/png": "[encoded data removed]",
      "text/plain": [
       "<Figure size 432x432 with 1 Axes>"
      ]
     },
     "metadata": {
      "needs_background": "light"
     },
     "output_type": "display_data"
    }
   ],
   "source": [
    "import matplotlib.pyplot as plt\n",
    "\n",
    "fig, ax = plt.subplots(figsize=[6,6])\n",
    "ax.spines['right'].set_visible(False)\n",
    "ax.spines['top'].set_visible(False)\n",
    "\n",
    "plt.plot(discrim_GP_diff*3, trunc_discrim_VE_depthdifference_125 + trunc_discrim_VE_depthdifference_250 + trunc_discrim_VE_depthdifference_1000, 'o', color='lightblue', alpha=0.6)\n",
    "plt.tight_layout()\n",
    "plt.xlabel('GP Difference', fontsize=15)\n",
    "plt.ylabel('VE Difference', fontsize=15)\n",
    "\n",
    "plt.yticks(np.arange(-1.6,1.8, 0.4),fontsize=12)\n",
    "plt.xticks(fontsize=12)\n",
    "plt.show();"
   ]
  },
  {
   "cell_type": "markdown",
   "metadata": {},
   "source": [
    "### Visible Ground Plane"
   ]
  },
  {
   "cell_type": "code",
   "execution_count": 75,
   "metadata": {},
   "outputs": [
    {
     "data": {
      "text/plain": [
       "(138, 138)"
      ]
     },
     "execution_count": 75,
     "metadata": {},
     "output_type": "execute_result"
    }
   ],
   "source": [
    "trunc_avg_pc = np.mean([np.array(trunc_discrim_pc_125), np.array(trunc_discrim_pc_250), np.array(trunc_discrim_pc_1000)], axis =0)\n",
    "len(trunc_avg_pc), len(discrim_GP_diff)\n"
   ]
  },
  {
   "cell_type": "code",
   "execution_count": 76,
   "metadata": {},
   "outputs": [
    {
     "name": "stdout",
     "output_type": "stream",
     "text": [
      "Correlation between Discrimination PC and VGP difference\n",
      "125 ms:  (0.016905931696839946, 0.8439783074480242)\n",
      "250 ms:  (0.017139090176074137, 0.841854429658049)\n",
      "1000 ms:  (0.03053682223714986, 0.722180273527159)\n",
      "Avg:  (0.02333128989125329, 0.7859107170895935)\n",
      "All:  (0.021059154155052856, 0.6692029052653453)\n"
     ]
    }
   ],
   "source": [
    "print('Correlation between Discrimination PC and VGP difference')\n",
    "print('125 ms: ',stats.pearsonr(trunc_discrim_pc_125, discrim_VGP_diff))\n",
    "print('250 ms: ',stats.pearsonr(trunc_discrim_pc_250, discrim_VGP_diff))\n",
    "print('1000 ms: ',stats.pearsonr(trunc_discrim_pc_1000, discrim_VGP_diff))\n",
    "\n",
    "print('Avg: ',stats.pearsonr(trunc_avg_pc, discrim_VGP_diff))\n",
    "\n",
    "print('All: ',stats.pearsonr(trunc_discrim_pc_125 + trunc_discrim_pc_250 + trunc_discrim_pc_1000, discrim_VGP_diff*3))"
   ]
  },
  {
   "cell_type": "code",
   "execution_count": 77,
   "metadata": {},
   "outputs": [],
   "source": [
    "trunc_avg_zsRT = np.mean([np.array(trunc_discrim_zsRT_125), np.array(trunc_discrim_zsRT_250), np.array(trunc_discrim_zsRT_1000)], axis =0)\n"
   ]
  },
  {
   "cell_type": "code",
   "execution_count": 78,
   "metadata": {},
   "outputs": [
    {
     "name": "stdout",
     "output_type": "stream",
     "text": [
      "Correlation between Discrimination z-scored RT and VGP difference\n",
      "125 ms:  (-0.016164384725422126, 0.8507405668551205)\n",
      "250 ms:  (0.10417677225422863, 0.22399252890121224)\n",
      "1000 ms:  (-0.06167205246877623, 0.4724015077484258)\n",
      "Avg:  (0.013970406351229592, 0.8708095561908643)\n",
      "All:  (0.012575726715025678, 0.7986345730746836)\n"
     ]
    }
   ],
   "source": [
    "print('Correlation between Discrimination z-scored RT and VGP difference')\n",
    "print('125 ms: ',stats.pearsonr(trunc_discrim_zsRT_125, discrim_VGP_diff))\n",
    "print('250 ms: ',stats.pearsonr(trunc_discrim_zsRT_250, discrim_VGP_diff))\n",
    "print('1000 ms: ',stats.pearsonr(trunc_discrim_zsRT_1000, discrim_VGP_diff))\n",
    "\n",
    "print('Avg: ',stats.pearsonr(trunc_avg_zsRT, discrim_VGP_diff))\n",
    "\n",
    "print('All: ',stats.pearsonr(trunc_discrim_zsRT_125 + trunc_discrim_zsRT_250 + trunc_discrim_zsRT_1000, discrim_VGP_diff*3))"
   ]
  },
  {
   "cell_type": "code",
   "execution_count": 79,
   "metadata": {},
   "outputs": [],
   "source": [
    "trunc_avg_VE_depthdifference = np.mean([np.array(trunc_discrim_VE_depthdifference_125), np.array(trunc_discrim_VE_depthdifference_250), np.array(trunc_discrim_VE_depthdifference_1000)], axis =0)\n"
   ]
  },
  {
   "cell_type": "code",
   "execution_count": 80,
   "metadata": {},
   "outputs": [
    {
     "name": "stdout",
     "output_type": "stream",
     "text": [
      "Correlation between VE Diff and VGP difference\n",
      "125 ms:  (-0.05142419693444503, 0.5491734062739299)\n",
      "250 ms:  (-0.06262297011704133, 0.46558674279552986)\n",
      "1000 ms:  (-0.039118201983421426, 0.6487284589244795)\n",
      "Avg:  (-0.05175119699869291, 0.5466329125906562)\n",
      "All:  (-0.051021998816075734, 0.30035149288223034)\n"
     ]
    }
   ],
   "source": [
    "print('Correlation between VE Diff and VGP difference')\n",
    "print('125 ms: ',stats.pearsonr(trunc_discrim_VE_depthdifference_125, discrim_VGP_diff))\n",
    "print('250 ms: ',stats.pearsonr(trunc_discrim_VE_depthdifference_250, discrim_VGP_diff))\n",
    "print('1000 ms: ',stats.pearsonr(trunc_discrim_VE_depthdifference_1000, discrim_VGP_diff))\n",
    "\n",
    "print('Avg: ',stats.pearsonr(trunc_avg_VE_depthdifference, discrim_VGP_diff))\n",
    "\n",
    "print('All: ',stats.pearsonr(trunc_discrim_VE_depthdifference_125 + trunc_discrim_VE_depthdifference_250 + trunc_discrim_VE_depthdifference_1000, discrim_VGP_diff*3))"
   ]
  },
  {
   "cell_type": "code",
   "execution_count": null,
   "metadata": {},
   "outputs": [],
   "source": []
  }
 ],
 "metadata": {
  "kernelspec": {
   "display_name": "Python 3",
   "language": "python",
   "name": "python3"
  },
  "language_info": {
   "codemirror_mode": {
    "name": "ipython",
    "version": 3
   },
   "file_extension": ".py",
   "mimetype": "text/x-python",
   "name": "python",
   "nbconvert_exporter": "python",
   "pygments_lexer": "ipython3",
   "version": "3.7.4"
  }
 },
 "nbformat": 4,
 "nbformat_minor": 4
}
