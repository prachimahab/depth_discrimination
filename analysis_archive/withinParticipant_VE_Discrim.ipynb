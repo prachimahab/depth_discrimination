{
 "cells": [
  {
   "cell_type": "markdown",
   "metadata": {},
   "source": [
    "# TAC Discrimination Analysis: \n",
    "\n",
    "# Within Participants who have seen both discrimination images @ the same duration in the Verbal Judgement experiment"
   ]
  },
  {
   "cell_type": "code",
   "execution_count": 1,
   "metadata": {},
   "outputs": [],
   "source": [
    "import os \n",
    "import pandas as pd\n",
    "import numpy as np\n",
    "import math\n",
    "import matplotlib.pyplot as plt\n",
    "import scipy \n",
    "import scipy.stats as stats\n",
    "import json\n",
    "from sklearn.linear_model import LinearRegression\n"
   ]
  },
  {
   "cell_type": "markdown",
   "metadata": {},
   "source": [
    "## Get discrimination data"
   ]
  },
  {
   "cell_type": "code",
   "execution_count": 2,
   "metadata": {},
   "outputs": [],
   "source": [
    "def combineCSVs(datafolder, num_discrim_trials):\n",
    "    \"\"\"\n",
    "    Combine all participant data into one pandas df\n",
    "    OR \n",
    "    Create df for single participant file \n",
    "    \n",
    "    returns:\n",
    "        (1) combined dataframe of all discrimination data \n",
    "        (2) combined dataframe of all scene property rating data \n",
    "    \"\"\"\n",
    "    #checks if path is a file\n",
    "    isFile = os.path.isfile(datafolder)\n",
    "\n",
    "    #checks if path is a directory\n",
    "    \n",
    "    isDirectory = os.path.isdir(datafolder)\n",
    "    \n",
    "    if isDirectory == True:\n",
    "        discrim_data = []\n",
    "        properties_data = []\n",
    "        for filename in os.listdir(datafolder):\n",
    "            if 'csv' in filename:\n",
    "                path = datafolder + \"/\" + filename\n",
    "                df = pd.read_csv(path, index_col=None, header=0)\n",
    "                \n",
    "                df_discrim = df[0:num_discrim_trials]\n",
    "                discrim_data.append(df_discrim)\n",
    "                # row 96 should be ignored - artifact of logging \n",
    "                df_properties = df[num_discrim_trials+1:]\n",
    "                properties_data.append(df_properties)\n",
    "                \n",
    "\n",
    "        discrim_frame = pd.concat(discrim_data, axis=0, ignore_index=True)\n",
    "        properties_frame = pd.concat(properties_data, axis=0, ignore_index=True)\n",
    "        \n",
    "    if isFile == True:\n",
    "        if 'csv' in datafolder:\n",
    "            df = pd.read_csv(datafolder, index_col=None, header=0)\n",
    "            df_discrim = df[0:num_discrim_trials]\n",
    "            discrim_data.append(df_discrim)\n",
    "            # row 96 should be ignored - artifact of logging \n",
    "            df_properties = df[num_discrim_trials+1:]\n",
    "            properties_data.append(df_properties)\n",
    " \n",
    "    return discrim_frame, properties_frame"
   ]
  },
  {
   "cell_type": "code",
   "execution_count": 3,
   "metadata": {},
   "outputs": [],
   "source": [
    "# data_path = '/Users/pmahableshwarkar/Documents/Depth_Project/depth_discrimination/TAC_depth_discrimination_MTurk/data'\n",
    "\n",
    "# data_path = '/Users/prachi/Documents/depth_duration/depth_discrimination/TAC_depth_discrimination_MTurk/data'\n",
    "\n",
    "data_path = '/Users/prachi/Documents/depth_duration/depth_discrimination/pilot_V3_TAC_discrim_data'"
   ]
  },
  {
   "cell_type": "code",
   "execution_count": 4,
   "metadata": {},
   "outputs": [],
   "source": [
    "raw_discrim, raw_ratings = combineCSVs(data_path, 100)"
   ]
  },
  {
   "cell_type": "code",
   "execution_count": 5,
   "metadata": {},
   "outputs": [
    {
     "data": {
      "text/plain": [
       "10"
      ]
     },
     "execution_count": 5,
     "metadata": {},
     "output_type": "execute_result"
    }
   ],
   "source": [
    "all_subjIDs = raw_discrim.subjID.unique()\n",
    "len(all_subjIDs)"
   ]
  },
  {
   "cell_type": "code",
   "execution_count": 6,
   "metadata": {},
   "outputs": [
    {
     "data": {
      "text/html": [
       "<div>\n",
       "<style scoped>\n",
       "    .dataframe tbody tr th:only-of-type {\n",
       "        vertical-align: middle;\n",
       "    }\n",
       "\n",
       "    .dataframe tbody tr th {\n",
       "        vertical-align: top;\n",
       "    }\n",
       "\n",
       "    .dataframe thead th {\n",
       "        text-align: right;\n",
       "    }\n",
       "</style>\n",
       "<table border=\"1\" class=\"dataframe\">\n",
       "  <thead>\n",
       "    <tr style=\"text-align: right;\">\n",
       "      <th></th>\n",
       "      <th>subjID</th>\n",
       "      <th>experimentName</th>\n",
       "      <th>versionName</th>\n",
       "      <th>sequenceName</th>\n",
       "      <th>url</th>\n",
       "      <th>selected_row</th>\n",
       "      <th>windowWidth</th>\n",
       "      <th>windowHeight</th>\n",
       "      <th>screenWidth</th>\n",
       "      <th>screenHeight</th>\n",
       "      <th>...</th>\n",
       "      <th>trial_RT</th>\n",
       "      <th>log_fixation</th>\n",
       "      <th>log_sceneDuration1</th>\n",
       "      <th>log_mask1</th>\n",
       "      <th>log_sceneDuration2</th>\n",
       "      <th>log_mask2</th>\n",
       "      <th>experimentTime</th>\n",
       "      <th>totalTime</th>\n",
       "      <th>age</th>\n",
       "      <th>gender</th>\n",
       "    </tr>\n",
       "  </thead>\n",
       "  <tbody>\n",
       "    <tr>\n",
       "      <th>0</th>\n",
       "      <td>977976</td>\n",
       "      <td>DepthScenes</td>\n",
       "      <td>v2_duration_discrimination</td>\n",
       "      <td>discrim_jsons/j13_dr.json</td>\n",
       "      <td>http://54.235.3.71/FacialAge/BNav_EC2/DepthDur...</td>\n",
       "      <td>1</td>\n",
       "      <td>813</td>\n",
       "      <td>773</td>\n",
       "      <td>1440</td>\n",
       "      <td>900</td>\n",
       "      <td>...</td>\n",
       "      <td>1504</td>\n",
       "      <td>1001</td>\n",
       "      <td>250</td>\n",
       "      <td>1001</td>\n",
       "      <td>249</td>\n",
       "      <td>500</td>\n",
       "      <td>NaN</td>\n",
       "      <td>1110353</td>\n",
       "      <td>44</td>\n",
       "      <td>Woman</td>\n",
       "    </tr>\n",
       "    <tr>\n",
       "      <th>1</th>\n",
       "      <td>977976</td>\n",
       "      <td>DepthScenes</td>\n",
       "      <td>v2_duration_discrimination</td>\n",
       "      <td>discrim_jsons/j13_dr.json</td>\n",
       "      <td>http://54.235.3.71/FacialAge/BNav_EC2/DepthDur...</td>\n",
       "      <td>1</td>\n",
       "      <td>813</td>\n",
       "      <td>773</td>\n",
       "      <td>1440</td>\n",
       "      <td>900</td>\n",
       "      <td>...</td>\n",
       "      <td>2096</td>\n",
       "      <td>1001</td>\n",
       "      <td>1000</td>\n",
       "      <td>1000</td>\n",
       "      <td>999</td>\n",
       "      <td>500</td>\n",
       "      <td>NaN</td>\n",
       "      <td>1110353</td>\n",
       "      <td>44</td>\n",
       "      <td>Woman</td>\n",
       "    </tr>\n",
       "    <tr>\n",
       "      <th>2</th>\n",
       "      <td>977976</td>\n",
       "      <td>DepthScenes</td>\n",
       "      <td>v2_duration_discrimination</td>\n",
       "      <td>discrim_jsons/j13_dr.json</td>\n",
       "      <td>http://54.235.3.71/FacialAge/BNav_EC2/DepthDur...</td>\n",
       "      <td>1</td>\n",
       "      <td>813</td>\n",
       "      <td>773</td>\n",
       "      <td>1440</td>\n",
       "      <td>900</td>\n",
       "      <td>...</td>\n",
       "      <td>1601</td>\n",
       "      <td>1001</td>\n",
       "      <td>249</td>\n",
       "      <td>1000</td>\n",
       "      <td>249</td>\n",
       "      <td>500</td>\n",
       "      <td>NaN</td>\n",
       "      <td>1110353</td>\n",
       "      <td>44</td>\n",
       "      <td>Woman</td>\n",
       "    </tr>\n",
       "    <tr>\n",
       "      <th>3</th>\n",
       "      <td>977976</td>\n",
       "      <td>DepthScenes</td>\n",
       "      <td>v2_duration_discrimination</td>\n",
       "      <td>discrim_jsons/j13_dr.json</td>\n",
       "      <td>http://54.235.3.71/FacialAge/BNav_EC2/DepthDur...</td>\n",
       "      <td>1</td>\n",
       "      <td>813</td>\n",
       "      <td>773</td>\n",
       "      <td>1440</td>\n",
       "      <td>900</td>\n",
       "      <td>...</td>\n",
       "      <td>2963</td>\n",
       "      <td>1001</td>\n",
       "      <td>1000</td>\n",
       "      <td>1001</td>\n",
       "      <td>999</td>\n",
       "      <td>501</td>\n",
       "      <td>NaN</td>\n",
       "      <td>1110353</td>\n",
       "      <td>44</td>\n",
       "      <td>Woman</td>\n",
       "    </tr>\n",
       "    <tr>\n",
       "      <th>4</th>\n",
       "      <td>977976</td>\n",
       "      <td>DepthScenes</td>\n",
       "      <td>v2_duration_discrimination</td>\n",
       "      <td>discrim_jsons/j13_dr.json</td>\n",
       "      <td>http://54.235.3.71/FacialAge/BNav_EC2/DepthDur...</td>\n",
       "      <td>1</td>\n",
       "      <td>813</td>\n",
       "      <td>773</td>\n",
       "      <td>1440</td>\n",
       "      <td>900</td>\n",
       "      <td>...</td>\n",
       "      <td>2591</td>\n",
       "      <td>1002</td>\n",
       "      <td>999</td>\n",
       "      <td>1001</td>\n",
       "      <td>999</td>\n",
       "      <td>501</td>\n",
       "      <td>NaN</td>\n",
       "      <td>1110353</td>\n",
       "      <td>44</td>\n",
       "      <td>Woman</td>\n",
       "    </tr>\n",
       "    <tr>\n",
       "      <th>...</th>\n",
       "      <td>...</td>\n",
       "      <td>...</td>\n",
       "      <td>...</td>\n",
       "      <td>...</td>\n",
       "      <td>...</td>\n",
       "      <td>...</td>\n",
       "      <td>...</td>\n",
       "      <td>...</td>\n",
       "      <td>...</td>\n",
       "      <td>...</td>\n",
       "      <td>...</td>\n",
       "      <td>...</td>\n",
       "      <td>...</td>\n",
       "      <td>...</td>\n",
       "      <td>...</td>\n",
       "      <td>...</td>\n",
       "      <td>...</td>\n",
       "      <td>...</td>\n",
       "      <td>...</td>\n",
       "      <td>...</td>\n",
       "      <td>...</td>\n",
       "    </tr>\n",
       "    <tr>\n",
       "      <th>995</th>\n",
       "      <td>125863</td>\n",
       "      <td>DepthScenes</td>\n",
       "      <td>v2_duration_discrimination</td>\n",
       "      <td>discrim_jsons/j13.json</td>\n",
       "      <td>http://54.235.3.71/FacialAge/BNav_EC2/DepthDur...</td>\n",
       "      <td>4</td>\n",
       "      <td>1366</td>\n",
       "      <td>625</td>\n",
       "      <td>1366</td>\n",
       "      <td>768</td>\n",
       "      <td>...</td>\n",
       "      <td>1710</td>\n",
       "      <td>1014</td>\n",
       "      <td>248</td>\n",
       "      <td>996</td>\n",
       "      <td>246</td>\n",
       "      <td>508</td>\n",
       "      <td>NaN</td>\n",
       "      <td>880185</td>\n",
       "      <td>50</td>\n",
       "      <td>Woman</td>\n",
       "    </tr>\n",
       "    <tr>\n",
       "      <th>996</th>\n",
       "      <td>125863</td>\n",
       "      <td>DepthScenes</td>\n",
       "      <td>v2_duration_discrimination</td>\n",
       "      <td>discrim_jsons/j13.json</td>\n",
       "      <td>http://54.235.3.71/FacialAge/BNav_EC2/DepthDur...</td>\n",
       "      <td>4</td>\n",
       "      <td>1366</td>\n",
       "      <td>625</td>\n",
       "      <td>1366</td>\n",
       "      <td>768</td>\n",
       "      <td>...</td>\n",
       "      <td>2458</td>\n",
       "      <td>1003</td>\n",
       "      <td>1039</td>\n",
       "      <td>966</td>\n",
       "      <td>991</td>\n",
       "      <td>509</td>\n",
       "      <td>NaN</td>\n",
       "      <td>880185</td>\n",
       "      <td>50</td>\n",
       "      <td>Woman</td>\n",
       "    </tr>\n",
       "    <tr>\n",
       "      <th>997</th>\n",
       "      <td>125863</td>\n",
       "      <td>DepthScenes</td>\n",
       "      <td>v2_duration_discrimination</td>\n",
       "      <td>discrim_jsons/j13.json</td>\n",
       "      <td>http://54.235.3.71/FacialAge/BNav_EC2/DepthDur...</td>\n",
       "      <td>4</td>\n",
       "      <td>1366</td>\n",
       "      <td>625</td>\n",
       "      <td>1366</td>\n",
       "      <td>768</td>\n",
       "      <td>...</td>\n",
       "      <td>1776</td>\n",
       "      <td>1013</td>\n",
       "      <td>992</td>\n",
       "      <td>1013</td>\n",
       "      <td>992</td>\n",
       "      <td>505</td>\n",
       "      <td>NaN</td>\n",
       "      <td>880185</td>\n",
       "      <td>50</td>\n",
       "      <td>Woman</td>\n",
       "    </tr>\n",
       "    <tr>\n",
       "      <th>998</th>\n",
       "      <td>125863</td>\n",
       "      <td>DepthScenes</td>\n",
       "      <td>v2_duration_discrimination</td>\n",
       "      <td>discrim_jsons/j13.json</td>\n",
       "      <td>http://54.235.3.71/FacialAge/BNav_EC2/DepthDur...</td>\n",
       "      <td>4</td>\n",
       "      <td>1366</td>\n",
       "      <td>625</td>\n",
       "      <td>1366</td>\n",
       "      <td>768</td>\n",
       "      <td>...</td>\n",
       "      <td>1736</td>\n",
       "      <td>1008</td>\n",
       "      <td>995</td>\n",
       "      <td>1000</td>\n",
       "      <td>998</td>\n",
       "      <td>507</td>\n",
       "      <td>NaN</td>\n",
       "      <td>880185</td>\n",
       "      <td>50</td>\n",
       "      <td>Woman</td>\n",
       "    </tr>\n",
       "    <tr>\n",
       "      <th>999</th>\n",
       "      <td>125863</td>\n",
       "      <td>DepthScenes</td>\n",
       "      <td>v2_duration_discrimination</td>\n",
       "      <td>discrim_jsons/j13.json</td>\n",
       "      <td>http://54.235.3.71/FacialAge/BNav_EC2/DepthDur...</td>\n",
       "      <td>4</td>\n",
       "      <td>1366</td>\n",
       "      <td>625</td>\n",
       "      <td>1366</td>\n",
       "      <td>768</td>\n",
       "      <td>...</td>\n",
       "      <td>1038</td>\n",
       "      <td>1004</td>\n",
       "      <td>259</td>\n",
       "      <td>998</td>\n",
       "      <td>238</td>\n",
       "      <td>513</td>\n",
       "      <td>NaN</td>\n",
       "      <td>880185</td>\n",
       "      <td>50</td>\n",
       "      <td>Woman</td>\n",
       "    </tr>\n",
       "  </tbody>\n",
       "</table>\n",
       "<p>1000 rows × 29 columns</p>\n",
       "</div>"
      ],
      "text/plain": [
       "     subjID experimentName                 versionName  \\\n",
       "0    977976    DepthScenes  v2_duration_discrimination   \n",
       "1    977976    DepthScenes  v2_duration_discrimination   \n",
       "2    977976    DepthScenes  v2_duration_discrimination   \n",
       "3    977976    DepthScenes  v2_duration_discrimination   \n",
       "4    977976    DepthScenes  v2_duration_discrimination   \n",
       "..      ...            ...                         ...   \n",
       "995  125863    DepthScenes  v2_duration_discrimination   \n",
       "996  125863    DepthScenes  v2_duration_discrimination   \n",
       "997  125863    DepthScenes  v2_duration_discrimination   \n",
       "998  125863    DepthScenes  v2_duration_discrimination   \n",
       "999  125863    DepthScenes  v2_duration_discrimination   \n",
       "\n",
       "                  sequenceName  \\\n",
       "0    discrim_jsons/j13_dr.json   \n",
       "1    discrim_jsons/j13_dr.json   \n",
       "2    discrim_jsons/j13_dr.json   \n",
       "3    discrim_jsons/j13_dr.json   \n",
       "4    discrim_jsons/j13_dr.json   \n",
       "..                         ...   \n",
       "995     discrim_jsons/j13.json   \n",
       "996     discrim_jsons/j13.json   \n",
       "997     discrim_jsons/j13.json   \n",
       "998     discrim_jsons/j13.json   \n",
       "999     discrim_jsons/j13.json   \n",
       "\n",
       "                                                   url  selected_row  \\\n",
       "0    http://54.235.3.71/FacialAge/BNav_EC2/DepthDur...             1   \n",
       "1    http://54.235.3.71/FacialAge/BNav_EC2/DepthDur...             1   \n",
       "2    http://54.235.3.71/FacialAge/BNav_EC2/DepthDur...             1   \n",
       "3    http://54.235.3.71/FacialAge/BNav_EC2/DepthDur...             1   \n",
       "4    http://54.235.3.71/FacialAge/BNav_EC2/DepthDur...             1   \n",
       "..                                                 ...           ...   \n",
       "995  http://54.235.3.71/FacialAge/BNav_EC2/DepthDur...             4   \n",
       "996  http://54.235.3.71/FacialAge/BNav_EC2/DepthDur...             4   \n",
       "997  http://54.235.3.71/FacialAge/BNav_EC2/DepthDur...             4   \n",
       "998  http://54.235.3.71/FacialAge/BNav_EC2/DepthDur...             4   \n",
       "999  http://54.235.3.71/FacialAge/BNav_EC2/DepthDur...             4   \n",
       "\n",
       "     windowWidth  windowHeight  screenWidth  screenHeight  ... trial_RT  \\\n",
       "0            813           773         1440           900  ...     1504   \n",
       "1            813           773         1440           900  ...     2096   \n",
       "2            813           773         1440           900  ...     1601   \n",
       "3            813           773         1440           900  ...     2963   \n",
       "4            813           773         1440           900  ...     2591   \n",
       "..           ...           ...          ...           ...  ...      ...   \n",
       "995         1366           625         1366           768  ...     1710   \n",
       "996         1366           625         1366           768  ...     2458   \n",
       "997         1366           625         1366           768  ...     1776   \n",
       "998         1366           625         1366           768  ...     1736   \n",
       "999         1366           625         1366           768  ...     1038   \n",
       "\n",
       "    log_fixation  log_sceneDuration1 log_mask1 log_sceneDuration2  log_mask2  \\\n",
       "0           1001                 250      1001                249        500   \n",
       "1           1001                1000      1000                999        500   \n",
       "2           1001                 249      1000                249        500   \n",
       "3           1001                1000      1001                999        501   \n",
       "4           1002                 999      1001                999        501   \n",
       "..           ...                 ...       ...                ...        ...   \n",
       "995         1014                 248       996                246        508   \n",
       "996         1003                1039       966                991        509   \n",
       "997         1013                 992      1013                992        505   \n",
       "998         1008                 995      1000                998        507   \n",
       "999         1004                 259       998                238        513   \n",
       "\n",
       "     experimentTime  totalTime  age  gender  \n",
       "0               NaN    1110353   44   Woman  \n",
       "1               NaN    1110353   44   Woman  \n",
       "2               NaN    1110353   44   Woman  \n",
       "3               NaN    1110353   44   Woman  \n",
       "4               NaN    1110353   44   Woman  \n",
       "..              ...        ...  ...     ...  \n",
       "995             NaN     880185   50   Woman  \n",
       "996             NaN     880185   50   Woman  \n",
       "997             NaN     880185   50   Woman  \n",
       "998             NaN     880185   50   Woman  \n",
       "999             NaN     880185   50   Woman  \n",
       "\n",
       "[1000 rows x 29 columns]"
      ]
     },
     "execution_count": 6,
     "metadata": {},
     "output_type": "execute_result"
    }
   ],
   "source": [
    "raw_discrim"
   ]
  },
  {
   "cell_type": "code",
   "execution_count": 7,
   "metadata": {},
   "outputs": [
    {
     "data": {
      "text/plain": [
       "array([44, 58, 30, 46, 54, 40, 28, 29, 50])"
      ]
     },
     "execution_count": 7,
     "metadata": {},
     "output_type": "execute_result"
    }
   ],
   "source": [
    "all_ages = raw_discrim.age.unique()\n",
    "all_ages"
   ]
  },
  {
   "cell_type": "markdown",
   "metadata": {},
   "source": [
    "## <font color='red'> Data Cleaning </font> \n",
    "\n"
   ]
  },
  {
   "cell_type": "code",
   "execution_count": 11,
   "metadata": {},
   "outputs": [],
   "source": [
    "def catchTrial_cleaning(df, correct_requirement, catch_stimuli):\n",
    "    '''\n",
    "    Participants complete 8 catch trials total to ensure that they are doing the task.\n",
    "    If less than 7/8 catch trials are correct, the participant is excluded.  \n",
    "    '''\n",
    "    all_subjIDs = df.subjID.unique()\n",
    "    remove = []\n",
    "    subj_sequence = {}\n",
    "    df2_list = []\n",
    "    sequence_count = {'discrim_jsons/j13_dr.json': 0,\n",
    "                      'discrim_jsons/j13_rotated_dr.json': 0,\n",
    "                      'discrim_jsons/j13_rotated.json': 0, \n",
    "                      'discrim_jsons/j13.json': 0}\n",
    "    for subj in all_subjIDs:\n",
    "#         print(subj)\n",
    "        count_correct = 0\n",
    "        subj_df = df.loc[df['subjID'] == subj]\n",
    "        cleaned_subj_df = subj_df.copy(deep=True) # prevent setting with copy warning\n",
    "        # \n",
    "        subj_sequence[subj] = subj_df.sequenceName.unique()[0]\n",
    "        \n",
    "        # remove trials that are outside the outlier range\n",
    "        c = 0\n",
    "        c_missed = 0\n",
    "        for idx, row in subj_df.iterrows():\n",
    "            stim1 = row['stimulus_0']\n",
    "            stim2 = row['stimulus_1']\n",
    "            # TEMP SOLUTION FOR RANDOM PHP DATA SAVING PROBLEM \n",
    "            if type(stim1) == str:\n",
    "                if stim1.split('/')[1] in catch_stimuli or stim2.split('/')[1] in catch_stimuli:\n",
    "                    ####### VERSION WHERE CATCH TRIALS ARE ATTENTION CHECK: IMAGE 1 IS THE SAME AS IMAGE 2\n",
    "                    c += 1\n",
    "                    if row[\"discrim_choice\"] == 3:\n",
    "#                         print(row[\"discrim_choice\"])\n",
    "                        count_correct += 1\n",
    "#                     else:\n",
    "#                         print(row[\"discrim_choice\"])\n",
    "                    # remove catch trial \n",
    "                    cleaned_subj_df.drop([idx], inplace=True)\n",
    "    #                 print(depth0, depth1, correct_choice, choice)\n",
    "#         print(c_missed, 'Number of catch trials where participants did not see the target')\n",
    "#         print(c)\n",
    "#         print(count_correct)\n",
    "        if count_correct < correct_requirement:\n",
    "#             print('Number correct:', count_correct)\n",
    "            remove.append(subj)\n",
    "        else:\n",
    "            sequence_count[subj_df.sequenceName.unique()[0]] += 1\n",
    "        \n",
    "        df2_list.append(cleaned_subj_df)\n",
    "    \n",
    "    df2 = pd.concat(df2_list)\n",
    "    print(\"Number of participants that did not pass the catch trial check:\", len(remove))\n",
    "    print(\"Participants that were removed:\",remove)\n",
    "    print(\"Sequences that need to be replaced:\")\n",
    "#     for subj in remove:\n",
    "#         print(subj_sequence[subj])\n",
    "    print(\"Sequence count:\")\n",
    "    print(sequence_count)\n",
    "    for index, row in df2.iterrows():\n",
    "        if row['subjID'] in remove:\n",
    "            df2.drop(index, inplace=True)\n",
    "    \n",
    "    return df2\n",
    "    \n",
    "    "
   ]
  },
  {
   "cell_type": "code",
   "execution_count": 12,
   "metadata": {},
   "outputs": [],
   "source": [
    "# all_catch_stim = ['000375_2014-06-08_11-17-29_260595134347_rgbf000133-resize_2',\n",
    "#               '000569_2014-06-09_22-51-47_260595134347_rgbf000141-resize_3',\n",
    "#               '000787_2014-06-08_22-33-53_260595134347_rgbf000175-resize_1',\n",
    "#               '002072_2014-06-24_21-48-06_260595134347_rgbf000115-resize_0',\n",
    "#               '002364_2014-06-28_20-11-05_260595134347_rgbf000042-resize_0',\n",
    "#               '002675_2014-06-13_16-08-49_094959634447_rgbf000151-resize_2',\n",
    "#               '003125_2014-05-12_10-39-22_094959634447_rgbf000100-resize_0',\n",
    "#               '003395_2014-05-20_15-39-18_094959634447_rgbf000101-resize_0',\n",
    "#               '000454_2014-06-08_16-37-28_260595134347_rgbf000048-resize_2',\n",
    "#               '000868_2014-06-09_20-49-52_260595134347_rgbf000064-resize_4',\n",
    "#               '000953_2014-06-08_11-42-19_260595134347_rgbf000083-resize_0',\n",
    "#               '001012_2014-06-08_23-19-38_260595134347_rgbf000057-resize_0',\n",
    "#               '001170_2014-06-17_15-43-44_260595134347_rgbf000096-resize_6',\n",
    "#               '001222_2014-06-17_16-24-06_260595134347_rgbf000073-resize_0',\n",
    "#               '001498_2014-06-19_17-45-14_260595134347_rgbf000129-resize_4',\n",
    "#               '001540_2014-06-20_17-01-05_260595134347_rgbf000086-resize_2']\n",
    "\n",
    "all_catch_stim = ['000375_2014-06-08_11-17-29_260595134347_rgbf000133-resize_2',\n",
    "                  '000569_2014-06-09_22-51-47_260595134347_rgbf000141-resize_3',\n",
    "                  '000787_2014-06-08_22-33-53_260595134347_rgbf000175-resize_1',\n",
    "                  '002072_2014-06-24_21-48-06_260595134347_rgbf000115-resize_0',\n",
    "                  '001170_2014-06-17_15-43-44_260595134347_rgbf000096-resize_6',\n",
    "                  '001222_2014-06-17_16-24-06_260595134347_rgbf000073-resize_0',\n",
    "                  '001498_2014-06-19_17-45-14_260595134347_rgbf000129-resize_4',\n",
    "                  '001540_2014-06-20_17-01-05_260595134347_rgbf000086-resize_2']"
   ]
  },
  {
   "cell_type": "code",
   "execution_count": 13,
   "metadata": {},
   "outputs": [
    {
     "name": "stdout",
     "output_type": "stream",
     "text": [
      "Number of participants that did not pass the catch trial check: 2\n",
      "Participants that were removed: [977976, 125863]\n",
      "Sequences that need to be replaced:\n",
      "Sequence count:\n",
      "{'discrim_jsons/j13_dr.json': 3, 'discrim_jsons/j13_rotated_dr.json': 2, 'discrim_jsons/j13_rotated.json': 2, 'discrim_jsons/j13.json': 1}\n"
     ]
    }
   ],
   "source": [
    "catch_cleaned_discrim = catchTrial_cleaning(raw_discrim, 7, all_catch_stim)"
   ]
  },
  {
   "cell_type": "code",
   "execution_count": 14,
   "metadata": {},
   "outputs": [
    {
     "data": {
      "text/plain": [
       "array([58, 30, 46, 54, 40, 28, 29])"
      ]
     },
     "execution_count": 14,
     "metadata": {},
     "output_type": "execute_result"
    }
   ],
   "source": [
    "cleaned_ages = catch_cleaned_discrim.age.unique()\n",
    "cleaned_ages"
   ]
  },
  {
   "cell_type": "markdown",
   "metadata": {},
   "source": [
    "\n"
   ]
  },
  {
   "cell_type": "code",
   "execution_count": 15,
   "metadata": {},
   "outputs": [],
   "source": [
    "def RT_cleaning(df, outlier_range, num_trials):\n",
    "    all_subjIDs = df.subjID.unique()\n",
    "    remove = []\n",
    "    df2_list = []\n",
    "    for subj in all_subjIDs:\n",
    "        count = 0\n",
    "        subj_df = df.loc[df['subjID'] == subj]\n",
    "        cleaned_subj_df = subj_df.copy(deep=True) # prevent setting with copy warning\n",
    "        \n",
    "        # calculate subject's average trial RT\n",
    "        average_trial_RT = subj_df[\"trial_RT\"].mean()\n",
    "        std_trial_RT = subj_df[\"trial_RT\"].std()\n",
    "        p_outlier_range = [(average_trial_RT - (3*std_trial_RT)), (average_trial_RT + (3*std_trial_RT))]\n",
    "        \n",
    "        # remove trials that are outside the outlier range\n",
    "        for idx, row in subj_df.iterrows():\n",
    "            RT = row['trial_RT']\n",
    "            if RT < outlier_range[0]:\n",
    "                cleaned_subj_df.drop([idx], inplace=True)\n",
    "                count += 1\n",
    "            if RT > outlier_range[1]:\n",
    "                cleaned_subj_df.drop([idx], inplace=True)\n",
    "                count += 1\n",
    "            try:\n",
    "                if RT < p_outlier_range[0]:\n",
    "                    cleaned_subj_df.drop([idx], inplace=True)\n",
    "                    count += 1\n",
    "                if RT > p_outlier_range[1]:\n",
    "                    cleaned_subj_df.drop([idx], inplace=True)\n",
    "                    count += 1\n",
    "            except:\n",
    "                print(\"Trial already removed\")\n",
    "                \n",
    "        threshold = math.floor(num_trials * 0.1)\n",
    "        if count >= threshold:\n",
    "            remove.append(subj)\n",
    "        \n",
    "        df2_list.append(cleaned_subj_df)\n",
    "    \n",
    "    df2 = pd.concat(df2_list)\n",
    "    print(\"Number of Participants with 10% or more trials outside their RT range:\", len(remove))\n",
    "    \n",
    "    for index, row in df2.iterrows():\n",
    "        if row['subjID'] in remove:\n",
    "            df2.drop(index, inplace=True)\n",
    "    \n",
    "    return df2\n"
   ]
  },
  {
   "cell_type": "code",
   "execution_count": 16,
   "metadata": {},
   "outputs": [
    {
     "name": "stdout",
     "output_type": "stream",
     "text": [
      "Trial already removed\n",
      "Trial already removed\n",
      "Trial already removed\n",
      "Number of Participants with 10% or more trials outside their RT range: 0\n"
     ]
    }
   ],
   "source": [
    "cleaned_discrim = RT_cleaning(catch_cleaned_discrim, [250,5000], 94)\n",
    "\n",
    "\n",
    "# cleaned_discrim = RT_cleaning(catch_cleaned_discrim, [250,5000], 32)"
   ]
  },
  {
   "cell_type": "code",
   "execution_count": 17,
   "metadata": {},
   "outputs": [],
   "source": [
    "def finalTrialCountCheck(df, num_trials):\n",
    "    \"\"\"\n",
    "    If more then 10% of a participants data is missing, remove the participant\n",
    "    \"\"\"\n",
    "    #List unique values in the df['subjID'] column\\n\",\n",
    "    all_subjIDs = df.subjID.unique()\n",
    "    remove = []\n",
    "    for subj in all_subjIDs:\n",
    "        subj_df = df.loc[df['subjID'] == subj]\n",
    "        count_trials = len(subj_df.index)\n",
    "        threshold_trials_remaining = num_trials - math.floor(num_trials * 0.1)\n",
    "        \n",
    "        if count_trials <= threshold_trials_remaining:\n",
    "            remove.append(subj)\n",
    "    print(\"Number of Participants with >= 10% trials removed:\", len(remove))\n",
    "    \n",
    "    for index, row in df.iterrows():\n",
    "        if row['subjID'] in remove:\n",
    "            df.drop(index, inplace=True)\n",
    "    \n",
    "    print(\"Number of participants left:\",len(df.subjID.unique()))\n",
    "    \n",
    "    return df"
   ]
  },
  {
   "cell_type": "code",
   "execution_count": 18,
   "metadata": {},
   "outputs": [
    {
     "name": "stdout",
     "output_type": "stream",
     "text": [
      "Number of Participants with >= 10% trials removed: 0\n",
      "Number of participants left: 8\n"
     ]
    }
   ],
   "source": [
    "final_discrim = finalTrialCountCheck(cleaned_discrim, 94)"
   ]
  },
  {
   "cell_type": "code",
   "execution_count": null,
   "metadata": {},
   "outputs": [],
   "source": []
  },
  {
   "cell_type": "markdown",
   "metadata": {},
   "source": [
    "## Individual Discriminations"
   ]
  },
  {
   "cell_type": "code",
   "execution_count": 19,
   "metadata": {},
   "outputs": [],
   "source": [
    "def get_accuracy(df):\n",
    "    \"\"\"\n",
    "    * ACCURACY BASED ON THE KINECT\n",
    "    args:\n",
    "        df  \n",
    "    returns:\n",
    "        proportion of correct responses, count of correct responses, count of total trials  \n",
    "    \"\"\"\n",
    "    count_correct = 0\n",
    "    count_incorrect = 0\n",
    "    count_total = 0\n",
    "    count_missed = 0\n",
    "    for idx, row in df.iterrows():\n",
    "        choice = row[\"discrim_choice\"]\n",
    "        if choice == 2.0:\n",
    "            count_missed += 1\n",
    "        else:    \n",
    "            count_total += 1\n",
    "            depth0 = row[\"actual_depth_0\"]\n",
    "            depth1 = row[\"actual_depth_1\"]\n",
    "            if depth0 < depth1:\n",
    "                correct_choice = 0\n",
    "            if depth0 > depth1:\n",
    "                correct_choice = 1\n",
    "            if depth0 == depth1:\n",
    "                # case where depths are equal \n",
    "                correct_choice = None\n",
    "            if choice == correct_choice:\n",
    "                count_correct += 1\n",
    "    \n",
    "    return count_correct/count_total, count_correct, count_total, count_missed\n",
    "\n",
    "def get_RT(df):\n",
    "    \"\"\"\n",
    "    args:\n",
    "        df  \n",
    "    returns:\n",
    "        array of RTs, avg RT and std   \n",
    "    \"\"\"\n",
    "    list_RTs = []\n",
    "    for idx, row in df.iterrows():   \n",
    "        stimulus_duration = row['log_sceneDuration2']\n",
    "        RT = row[\"trial_RT\"] - stimulus_duration\n",
    "        list_RTs.append(RT)\n",
    "    \n",
    "    list_RTs = np.array(list_RTs)\n",
    "    \n",
    "    return list_RTs, np.mean(list_RTs) ,np.std(list_RTs)"
   ]
  },
  {
   "cell_type": "code",
   "execution_count": 20,
   "metadata": {},
   "outputs": [],
   "source": [
    "def depth_differences(df):\n",
    "    \"\"\"\n",
    "    args:\n",
    "        df  \n",
    "    returns:\n",
    "        array of depth differences, avg depth differences and std   \n",
    "    \"\"\"\n",
    "    depth_diffs = []\n",
    "    for idx, row in df.iterrows():\n",
    "        depth0 = row[\"actual_depth_0\"]\n",
    "        depth1 = row[\"actual_depth_1\"]\n",
    "        \n",
    "        diff = abs(depth0-depth1)\n",
    "        depth_diffs.append(diff)\n",
    "    \n",
    "    depth_diffs = np.array(depth_diffs)\n",
    "    \n",
    "    return depth_diffs, np.mean(depth_diffs) ,np.std(depth_diffs)\n",
    "    "
   ]
  },
  {
   "cell_type": "code",
   "execution_count": 21,
   "metadata": {},
   "outputs": [],
   "source": [
    "all_depth_diffs = depth_differences(final_discrim)\n",
    "\n",
    "# add depth difference column to dataframe \n",
    "final_discrim.insert(18, \"depth_difference\", all_depth_diffs[0])"
   ]
  },
  {
   "cell_type": "code",
   "execution_count": 22,
   "metadata": {},
   "outputs": [],
   "source": [
    "def individual_discrimination_stats(df):\n",
    "    '''\n",
    "    Individual discrimination performance and RT \n",
    "    '''\n",
    "    all_stim0 = df.stimulus_0.unique()\n",
    "    \n",
    "    stimuli_stats = {}\n",
    "    for stim0 in all_stim0:\n",
    "        stim0_df = df.loc[df['stimulus_0'] == stim0]\n",
    "        other_stim = stim0_df.stimulus_1.unique()[0]\n",
    "        stim1_df = df.loc[df['stimulus_1'] == stim0]\n",
    "        # df for a specific discrimination trial (collapsed on stim presentation order)\n",
    "        stim_df = pd.concat([stim0_df, stim1_df], ignore_index=True)\n",
    "        stim_250_df = stim_df[stim_df['duration'] == 250.0]\n",
    "        stim_1000_df = stim_df[stim_df['duration'] == 1000.0] \n",
    "        \n",
    "        stim_depthdiff = stim_df['depth_difference'][0]\n",
    "        \n",
    "        stim0_depth = stim_df['actual_depth_0'][0]\n",
    "        stim1_depth = stim_df['actual_depth_1'][0]\n",
    "        stim_depthbin = np.mean(np.array([stim0_depth,stim1_depth]))\n",
    "        \n",
    "        stim_acc_250 = get_accuracy(stim_250_df)\n",
    "        stim_acc_1000 = get_accuracy(stim_1000_df)\n",
    "        \n",
    "        stim_RT_250 = get_RT(stim_250_df)\n",
    "        stim_RT_1000 = get_RT(stim_1000_df)\n",
    "        \n",
    "        stimuli_stats[stim0] = {'stimulus_1': other_stim,\n",
    "                                'accuracy_250': stim_acc_250,\n",
    "                                'accuracy_1000': stim_acc_1000,\n",
    "                                'avg_depth': stim_depthbin,\n",
    "                                'depthdifference': stim_depthdiff, \n",
    "                                'RT_250': stim_RT_250,\n",
    "                                'RT_1000': stim_RT_1000}\n",
    "    \n",
    "    return stimuli_stats"
   ]
  },
  {
   "cell_type": "code",
   "execution_count": 23,
   "metadata": {},
   "outputs": [],
   "source": [
    "all_discrim_performance = individual_discrimination_stats(final_discrim)\n"
   ]
  },
  {
   "cell_type": "code",
   "execution_count": 24,
   "metadata": {},
   "outputs": [],
   "source": [
    "# Load Target at Center Verbal Judgement Data \n",
    "\n",
    "# TAC_data_path = '/Users/pmahableshwarkar/Documents/Depth_Project/depth_duration_analysis/TAC_data'\n",
    "\n",
    "TAC_data_path = '/Users/prachi/Documents/depth_duration/depth_duration_analysis/TAC_data'\n",
    "\n",
    "raw_TAC_250 = pd.read_csv(TAC_data_path + '/raw_250_data.csv')\n",
    "raw_TAC_500 = pd.read_csv(TAC_data_path + '/raw_500_data.csv')\n",
    "raw_TAC_750 = pd.read_csv(TAC_data_path + '/raw_750_data.csv')\n",
    "raw_TAC_1000 = pd.read_csv(TAC_data_path + '/raw_1000_data.csv')\n",
    "\n",
    "n_TAC_250 = pd.read_csv(TAC_data_path + '/normalized_250_data.csv')\n",
    "n_TAC_500 = pd.read_csv(TAC_data_path + '/normalized_500_data.csv')\n",
    "n_TAC_750 = pd.read_csv(TAC_data_path + '/normalized_750_data.csv')\n",
    "n_TAC_1000 = pd.read_csv(TAC_data_path + '/normalized_1000_data.csv')"
   ]
  },
  {
   "cell_type": "code",
   "execution_count": 25,
   "metadata": {},
   "outputs": [],
   "source": [
    "# Load one TAC Discrimination json sequence \n",
    "# all sequences have the same image combinations for the trials, duration and order is counterbalanced \n",
    "\n",
    "# discrim_json0_path = '/Users/pmahableshwarkar/Documents/Depth_Project/depth_discrimination/TAC_depth_discrimination_MTurk/discrim_jsons/v2_shuffled_g0_dr.json'\n",
    "\n",
    "discrim_json0_path = '/Users/prachi/Documents/depth_duration/depth_discrimination/discrimination_sequences/january2022/j13/j13_dr.json'\n",
    "\n",
    "with open(discrim_json0_path) as f:\n",
    "    discrim_json0 = json.load(f)\n",
    "    \n",
    "discrim_image_combos = []\n",
    "for trial in discrim_json0:\n",
    "    combo = (trial['image_path_target_0'][29:], trial['image_path_target_1'][29:])\n",
    "    discrim_image_combos.append(combo)"
   ]
  },
  {
   "cell_type": "code",
   "execution_count": null,
   "metadata": {},
   "outputs": [],
   "source": [
    "\n"
   ]
  },
  {
   "cell_type": "code",
   "execution_count": 27,
   "metadata": {},
   "outputs": [],
   "source": [
    "# dictionary where key is one of the images in a discimrination trial, \n",
    "# and the value will be a list of all the subjects that saw both images at the same duration\n",
    "\n",
    "discrim_trial_subjects_250 = {}\n",
    "for combo in discrim_image_combos:\n",
    "    discrim_trial_subjects_250[combo[0]] = []\n",
    "    \n",
    "# find subjects that saw BOTH discrimination trials at 250 ms\n",
    "\n",
    "subjs_250 = raw_TAC_250.subjID.unique()\n",
    "\n",
    "seqs = []\n",
    "for subj in subjs_250:\n",
    "    subj_df = raw_TAC_250.loc[raw_TAC_250['subjID'] == subj]\n",
    "    for combo in discrim_image_combos:\n",
    "        img0_path = 'depth_duration_stimuli/' + combo[0]\n",
    "        dimg0_row = subj_df.loc[subj_df['stimulus'] == img0_path]\n",
    "        \n",
    "        img1_path = 'depth_duration_stimuli/' + combo[1]\n",
    "        dimg1_row = subj_df.loc[subj_df['stimulus'] == img1_path]\n",
    "        \n",
    "        \n",
    "        if len(dimg0_row) == 1:\n",
    "             if len(dimg1_row) == 1:\n",
    "                if subj not in discrim_trial_subjects_250[combo[0]]:\n",
    "                    discrim_trial_subjects_250[combo[0]].append(subj)\n",
    "                    seqs.append(subj_df.sequenceName.unique()[0])\n",
    "        \n",
    "# print(set(seqs))"
   ]
  },
  {
   "cell_type": "code",
   "execution_count": 28,
   "metadata": {},
   "outputs": [
    {
     "data": {
      "text/plain": [
       "192"
      ]
     },
     "execution_count": 28,
     "metadata": {},
     "output_type": "execute_result"
    }
   ],
   "source": [
    "len(set(seqs))"
   ]
  },
  {
   "cell_type": "code",
   "execution_count": 164,
   "metadata": {
    "collapsed": true,
    "jupyter": {
     "outputs_hidden": true
    }
   },
   "outputs": [
    {
     "name": "stdout",
     "output_type": "stream",
     "text": [
      "10\n",
      "17\n",
      "14\n",
      "11\n",
      "0\n",
      "11\n",
      "15\n",
      "11\n",
      "0\n",
      "13\n",
      "13\n",
      "12\n",
      "0\n",
      "10\n",
      "13\n",
      "7\n",
      "12\n",
      "5\n",
      "15\n",
      "0\n",
      "9\n",
      "12\n",
      "15\n",
      "11\n",
      "16\n",
      "0\n",
      "11\n",
      "14\n",
      "7\n",
      "0\n",
      "10\n",
      "16\n",
      "13\n",
      "8\n",
      "0\n",
      "11\n",
      "14\n",
      "0\n",
      "10\n",
      "10\n"
     ]
    }
   ],
   "source": [
    "for key in discrim_trial_subjects_250:\n",
    "    print(len(discrim_trial_subjects_250[key]))"
   ]
  },
  {
   "cell_type": "code",
   "execution_count": 29,
   "metadata": {},
   "outputs": [],
   "source": [
    "# dictionary where key is one of the images in a discimrination trial, \n",
    "# and the value will be a list of all the subjects that saw both images at the same duration\n",
    "\n",
    "discrim_trial_subjects_1000 = {}\n",
    "for combo in discrim_image_combos:\n",
    "    discrim_trial_subjects_1000[combo[0]] = []\n",
    "    \n",
    "# find subjects that saw BOTH discrimination trials at 250 ms\n",
    "\n",
    "subjs_1000 = raw_TAC_1000.subjID.unique()\n",
    "\n",
    "for subj in subjs_1000:\n",
    "    subj_df = raw_TAC_1000.loc[raw_TAC_1000['subjID'] == subj]\n",
    "    for combo in discrim_image_combos:\n",
    "        img0_path = 'depth_duration_stimuli/' + combo[0]\n",
    "        dimg0_row = subj_df.loc[subj_df['stimulus'] == img0_path]\n",
    "        \n",
    "        img1_path = 'depth_duration_stimuli/' + combo[1]\n",
    "        dimg1_row = subj_df.loc[subj_df['stimulus'] == img1_path]\n",
    "        \n",
    "        \n",
    "        if len(dimg0_row) == 1:\n",
    "             if len(dimg1_row) == 1:\n",
    "                if subj not in discrim_trial_subjects_1000[combo[0]]:\n",
    "                    discrim_trial_subjects_1000[combo[0]].append(subj)\n"
   ]
  },
  {
   "cell_type": "code",
   "execution_count": 166,
   "metadata": {},
   "outputs": [
    {
     "data": {
      "text/plain": [
       "9.4"
      ]
     },
     "execution_count": 166,
     "metadata": {},
     "output_type": "execute_result"
    }
   ],
   "source": [
    "a = 0\n",
    "for key in discrim_trial_subjects_1000:\n",
    "#     print(len(discrim_trial_subjects_1000[key]))\n",
    "    a += len(discrim_trial_subjects_1000[key])\n",
    "a/len(discrim_trial_subjects_1000)"
   ]
  },
  {
   "cell_type": "code",
   "execution_count": 167,
   "metadata": {},
   "outputs": [],
   "source": [
    "# because of outlier cleaning, the numbers are not even across all discrimination trials"
   ]
  },
  {
   "cell_type": "code",
   "execution_count": null,
   "metadata": {},
   "outputs": [],
   "source": []
  },
  {
   "cell_type": "code",
   "execution_count": 30,
   "metadata": {},
   "outputs": [],
   "source": [
    "def trial_pivotTable(data):\n",
    "    \"\"\"\n",
    "    Generate pivot tables from data after cleaning and outlier removal \n",
    "    Organizes data such that for each individual target (stimulus) the following is calulated:\n",
    "    - average depth estimation\n",
    "    - standard deviation\n",
    "    - standard error \n",
    "    \"\"\"\n",
    "    \n",
    "    avg_tables = []\n",
    "    std_tables = []\n",
    "    result_tables = []\n",
    "    cond = 0\n",
    "    ###### CREATE DF WITH DATA STATISTICS AFTER OUTLIER REMOVAL ######\n",
    "    for duration in data: #generate pivot tables for data statistics (avg, std, sem)\n",
    "        actual = pd.pivot_table(duration,  values = [\"actual_depth\"], columns=['stimulus'], aggfunc=np.mean)\n",
    "        actual.reset_index()\n",
    "        actual_renamed = actual.rename(index={'actual_depth': 'Actual Depth'})\n",
    "        \n",
    "        avg = pd.pivot_table(duration,  values = [\"depth_estimate\"], columns=['stimulus'], aggfunc=np.mean)\n",
    "        avg.reset_index()\n",
    "        avg_renamed = avg.rename(index={'depth_estimate': 'Average Estimated Depth'})\n",
    "        \n",
    "        std = pd.pivot_table(duration, values = [\"depth_estimate\"], columns = [\"stimulus\"], aggfunc = np.std)\n",
    "        #note - std is normalized byN-1 by default (ddof parameter = 1 by default)\n",
    "        std.reset_index()\n",
    "        std_renamed = std.rename(index={'depth_estimate': 'Standard Deviation'})\n",
    "        \n",
    "        sem = pd.pivot_table(duration, values = [\"depth_estimate\"], columns = [\"stimulus\"], aggfunc = 'sem')\n",
    "        sem.reset_index()\n",
    "        sem_renamed = sem.rename(index={'depth_estimate': 'Standard Error'})\n",
    "        \n",
    "        frames = [avg_renamed, std_renamed, sem_renamed, actual_renamed] #list of pivot tables for a given duration\n",
    "        result = pd.concat(frames) #merge the pivot tables for a given duration \n",
    "        result = result.T #transpose \n",
    "        result = result.sort_values(by=['Actual Depth'])\n",
    "\n",
    "        #Label the data by duration based on condition counter (cond)\n",
    "        if cond == 0:\n",
    "            result[\"Duration\"] = 250\n",
    "        if cond == 1:\n",
    "            result[\"Duration\"] = 500\n",
    "        if cond == 2:\n",
    "            result[\"Duration\"] = 750\n",
    "        if cond == 3:\n",
    "            result[\"Duration\"] = 1000\n",
    "        \n",
    "        avg_tables.append(avg_renamed) #created for reference (not used in code)\n",
    "        std_tables.append(std_renamed) #created for reference (not used in code)\n",
    "        result_tables.append(result) #list of results for all durations \n",
    "        cond += 1 \n",
    "        \n",
    "    \n",
    "    return result_tables"
   ]
  },
  {
   "cell_type": "code",
   "execution_count": null,
   "metadata": {},
   "outputs": [],
   "source": [
    "\n"
   ]
  },
  {
   "cell_type": "code",
   "execution_count": 31,
   "metadata": {},
   "outputs": [],
   "source": [
    "def trial_getxy(data):\n",
    "    \"\"\"\n",
    "    Extracts the data from the dataframes to a list format for plotting. \n",
    "    Args:\n",
    "        df = [250, 500, 750, 1000]\n",
    "        These data frames are POST all outlier cleaning. \n",
    "        \n",
    "    Returns:\n",
    "        actualdepths = [x_250, x_500, x_750, x_1000]\n",
    "        xs = [list of individual targets]\n",
    "        ys = [y_250, y_500, y_750, y_100]\n",
    "        stes = [ste_250, ste_500, ste_750, ste_1000]\n",
    "        \n",
    "    \"\"\"\n",
    "    xs = []\n",
    "    ys = []\n",
    "    stes = []\n",
    "    stds = []\n",
    "    actualdepths = []\n",
    "    for table in data:\n",
    "        x = []\n",
    "        y = []\n",
    "        ste = []\n",
    "        std = []\n",
    "        depths = []\n",
    "        for idx, row in table.iterrows():\n",
    "            \n",
    "            x.append(idx) #idx is the target (stimulus path)\n",
    "            \n",
    "            estim_avg = row[\"Average Estimated Depth\"]\n",
    "            y.append(estim_avg)\n",
    "            \n",
    "            standard_error = row[\"Standard Error\"]\n",
    "            ste.append(standard_error)\n",
    "            \n",
    "            depth = row[\"Actual Depth\"]\n",
    "            depths.append(depth)\n",
    "            \n",
    "            standard_deviation = row[\"Standard Deviation\"]\n",
    "            std.append(standard_deviation)       \n",
    "            \n",
    "        xs.append(x)\n",
    "        ys.append(y)\n",
    "        stes.append(ste)\n",
    "        actualdepths.append(depths)\n",
    "        stds.append(std)\n",
    "\n",
    "    return xs, ys, stes, actualdepths, stds"
   ]
  },
  {
   "cell_type": "code",
   "execution_count": 32,
   "metadata": {},
   "outputs": [],
   "source": [
    "def within_VE(subjects_dict, VE_df, discrim_data):\n",
    "    '''\n",
    "    Average depth response for each stimulus in the set of participants that saw both discrimination trials  \n",
    "    '''\n",
    "    \n",
    "    VE_stim = []\n",
    "    VE_actualdepth = [] \n",
    "    VE_depthestim = []\n",
    "    VE_std = []\n",
    "    VE_ste = []\n",
    "    \n",
    "    for key in subjects_dict:\n",
    "        subjects = subjects_dict[key]\n",
    "\n",
    "\n",
    "        if len(subjects) > 0:\n",
    "            df_list = []\n",
    "            for subj in subjects:\n",
    "                subj_df = subj_df = VE_df.loc[VE_df['subjID'] == subj]\n",
    "                _subj_df = subj_df.copy(deep=True) # prevent setting with copy warning \n",
    "                df_list.append(_subj_df)\n",
    "\n",
    "            df = pd.concat(df_list)\n",
    "            df_pivot = trial_pivotTable([df])\n",
    "            final = trial_getxy(df_pivot)\n",
    "\n",
    "            final_stim = final[0][0] # stimuli list\n",
    "            final_y = final[1][0] # avg verbal estimates \n",
    "            ste = final[2][0]\n",
    "            actual_depths = final[3][0] \n",
    "            std = final[4][0]\n",
    "\n",
    "            targetimg0 = key.split('/')[-1]\n",
    "            folder0 = targetimg0[:-11]\n",
    "            depth_dur_path0 = 'depth_duration_stimuli/' + folder0 + '/' + targetimg0\n",
    "            idx0 = np.where(np.array(final_stim) == depth_dur_path0)[0][0]\n",
    "            avg_estim_stim0 = final_y[idx0]\n",
    "            std0 = std[idx0]\n",
    "            ste0 = ste[idx0]\n",
    "\n",
    "            targetimg1 = discrim_data['depth_discrimination_stimuli/' + key]['stimulus_1'].split('/')[-1]\n",
    "            folder1 = targetimg1[:-11]\n",
    "            depth_dur_path1 = 'depth_duration_stimuli/' + folder1 + '/' + targetimg1\n",
    "            idx1= np.where(np.array(final_stim) == depth_dur_path1)[0][0]\n",
    "            avg_estim_stim1 = final_y[idx1]\n",
    "            std1 = std[idx1]\n",
    "            ste1 = ste[idx1]\n",
    "\n",
    "            VE_stim.append(targetimg0)\n",
    "            VE_actualdepth.append(actual_depths[idx0])\n",
    "            VE_depthestim.append(avg_estim_stim0)\n",
    "            VE_std.append(std0)\n",
    "            VE_ste.append(ste0)\n",
    "\n",
    "            VE_stim.append(targetimg1)\n",
    "            VE_actualdepth.append(actual_depths[idx1])\n",
    "            VE_depthestim.append(avg_estim_stim1)\n",
    "            VE_std.append(std1)\n",
    "            VE_ste.append(ste1)\n",
    "\n",
    "    return VE_stim, VE_depthestim, VE_ste, VE_actualdepth, VE_std\n"
   ]
  },
  {
   "cell_type": "code",
   "execution_count": 33,
   "metadata": {},
   "outputs": [],
   "source": [
    "within_VE_data_250 = within_VE(discrim_trial_subjects_250, raw_TAC_250, all_discrim_performance)\n",
    "within_VE_data_1000 = within_VE(discrim_trial_subjects_1000, raw_TAC_1000, all_discrim_performance)\n"
   ]
  },
  {
   "cell_type": "code",
   "execution_count": 34,
   "metadata": {},
   "outputs": [],
   "source": [
    "## Execute this cell to prep for plotting\n",
    "final_x_250 = within_VE_data_250[0]\n",
    "final_y_250 = within_VE_data_250[1]\n",
    "ste_250 = within_VE_data_250[2]\n",
    "stim_250 = within_VE_data_250[3]\n",
    "std_250 = within_VE_data_250[4]\n",
    "\n",
    "final_x_1000 = within_VE_data_1000[0]\n",
    "final_y_1000 = within_VE_data_1000[1]\n",
    "ste_1000 = within_VE_data_1000[2]\n",
    "stim_1000 = within_VE_data_1000[3]\n",
    "std_1000 = within_VE_data_1000[4]\n"
   ]
  },
  {
   "cell_type": "code",
   "execution_count": null,
   "metadata": {},
   "outputs": [],
   "source": []
  },
  {
   "cell_type": "code",
   "execution_count": 35,
   "metadata": {},
   "outputs": [
    {
     "name": "stdout",
     "output_type": "stream",
     "text": [
      "m: [0.45175937]\n",
      "b: 0.9985626848348432\n",
      "R-squared:  0.34980156164424736\n"
     ]
    },
    {
     "data": {
      "text/plain": [
       "0.35"
      ]
     },
     "execution_count": 35,
     "metadata": {},
     "output_type": "execute_result"
    },
    {
     "data": {
      "image/png": "[encoded data removed]",
      "text/plain": [
       "<Figure size 576x576 with 1 Axes>"
      ]
     },
     "metadata": {
      "needs_background": "light"
     },
     "output_type": "display_data"
    }
   ],
   "source": [
    "from sklearn.linear_model import LinearRegression\n",
    "\n",
    "plt.figure(figsize = [8,8])\n",
    "#run regression\n",
    "X_250 = np.array(stim_250).reshape(-1,1)\n",
    "y_250 = final_y_250\n",
    "reg_250 = LinearRegression().fit(X_250, y_250)\n",
    "\n",
    "#Generated Predictions\n",
    "y_predicted_250 = reg_250.predict(X_250)\n",
    "#Plot Our Actual and Predicted Values\n",
    "plt.plot(X_250, y_250, 'o', color='black', alpha = 0.5);\n",
    "plt.plot(X_250,y_predicted_250,color='chocolate', label = 'm = ' + str(round(reg_250.coef_[0], 3))\n",
    "         + '     r-squared = ' + str(round(float(reg_250.score(X_250, y_250)), 3)))\n",
    "plt.title(\"250 ms\", fontsize = 20)\n",
    "plt.xlabel(\"Actual Depth (m)\", fontsize = 15)\n",
    "plt.ylabel(\"Estimated Depth (m)\", fontsize = 15)\n",
    "plt.plot(X_250, X_250, label = \"Perfect Accuracy\", color = 'black',linestyle='--')  # solid\n",
    "plt.errorbar(X_250, y_250, yerr=ste_250, elinewidth = 1, ecolor = \"gray\", fmt = 'or', mfc = \"chocolate\", mec = \"chocolate\", capsize = 3)\n",
    "\n",
    "legend = plt.legend(loc = 0, fontsize = 13, borderpad = 0.6, labelspacing = 1)\n",
    "legend.get_frame().set_facecolor('lightgray')\n",
    "\n",
    "\n",
    "#get coefficients and y intercept\n",
    "print(\"m: {0}\".format(reg_250.coef_))\n",
    "print(\"b: {0}\".format(reg_250.intercept_))\n",
    "\n",
    "#Returns the coefficient of determination R^2 of the prediction.\n",
    "print(\"R-squared: \", reg_250.score(X_250, y_250))\n",
    "\n",
    "round(float(reg_250.score(X_250, y_250)), 3)"
   ]
  },
  {
   "cell_type": "code",
   "execution_count": 36,
   "metadata": {},
   "outputs": [
    {
     "name": "stdout",
     "output_type": "stream",
     "text": [
      "m: [0.58167206]\n",
      "b: 0.6572790509109907\n",
      "R-squared:  0.48709161158382686\n"
     ]
    },
    {
     "data": {
      "image/png": "[encoded data removed]",
      "text/plain": [
       "<Figure size 576x576 with 1 Axes>"
      ]
     },
     "metadata": {
      "needs_background": "light"
     },
     "output_type": "display_data"
    }
   ],
   "source": [
    "from sklearn.linear_model import LinearRegression\n",
    "\n",
    "plt.figure(figsize = [8,8])\n",
    "#run regression\n",
    "X_1000 = np.array(stim_1000).reshape(-1,1)\n",
    "y_1000 = final_y_1000\n",
    "reg_1000 = LinearRegression().fit(X_1000, y_1000)\n",
    "\n",
    "#Generated Predictions\n",
    "y_predicted_1000 = reg_1000.predict(X_1000)\n",
    "#Plot Our Actual and Predicted Values\n",
    "plt.plot(X_1000, y_1000, 'o', color='black', alpha = 0.7);\n",
    "plt.plot(X_1000,y_predicted_1000,color='darkviolet', label = 'm = ' + str(round(reg_1000.coef_[0], 3))\n",
    "         + '     r-squared = ' + str(round(float(reg_1000.score(X_1000, y_1000)), 3)))\n",
    "\n",
    "plt.title(\"1000 ms\", fontsize = 20)\n",
    "plt.xlabel(\"Actual Depth (m)\", fontsize = 15)\n",
    "plt.ylabel(\"Estimated Depth (m)\", fontsize = 15)\n",
    "plt.plot(X_1000, X_1000, label = \"Perfect Accuracy\", color = 'black',linestyle='--')  # solid\n",
    "plt.errorbar(X_1000, y_1000, yerr=ste_1000, elinewidth = 1, ecolor = \"gray\", fmt = 'or', mfc = \"darkviolet\", mec = \"darkviolet\", capsize = 3)\n",
    "\n",
    "\n",
    "legend = plt.legend(loc = 0, fontsize = 13, borderpad = 0.6, labelspacing = 1)\n",
    "legend.get_frame().set_facecolor('lightgray')\n",
    "\n",
    "\n",
    "\n",
    "#get coefficients and y intercept\n",
    "print(\"m: {0}\".format(reg_1000.coef_))\n",
    "print(\"b: {0}\".format(reg_1000.intercept_))\n",
    "\n",
    "#Returns the coefficient of determination R^2 of the prediction.\n",
    "print(\"R-squared: \", reg_1000.score(X_1000, y_1000))"
   ]
  },
  {
   "cell_type": "code",
   "execution_count": null,
   "metadata": {},
   "outputs": [],
   "source": []
  },
  {
   "cell_type": "code",
   "execution_count": 37,
   "metadata": {},
   "outputs": [],
   "source": [
    "def discrim_PC(subjects_dict, VE_df, discrim_data, key):\n",
    "    '''\n",
    "    subjects = dictionary of VE subjects for each discrimination trial\n",
    "    VE_df = df of VE data for a specific duration \n",
    "    * these lists correspond in index \n",
    "    key = discrim stimulus \n",
    "    '''\n",
    "    subjects = subjects_dict[key]\n",
    "\n",
    "    \n",
    "    if len(subjects) > 0:\n",
    "        df_list = []\n",
    "        VE_subj_differences = []\n",
    "        for subj in subjects:\n",
    "            subj_df = subj_df = VE_df.loc[VE_df['subjID'] == subj]\n",
    "            _subj_df = subj_df.copy(deep=True) # prevent setting with copy warning \n",
    "            df_list.append(_subj_df)\n",
    "            \n",
    "        df = pd.concat(df_list)       \n",
    "        df_pivot = trial_pivotTable([df])\n",
    "        final = trial_getxy(df_pivot)\n",
    "\n",
    "        final_stim = final[0][0] # stimuli list\n",
    "        final_y = final[1][0] # avg verbal estimates \n",
    "        ste = final[2][0]\n",
    "        actual_depths = final[3][0] \n",
    "        std = final[4][0]\n",
    "\n",
    "        targetimg0 = key.split('/')[-1]\n",
    "        folder0 = targetimg0[:-11]\n",
    "        depth_dur_path0 = 'depth_duration_stimuli/' + folder0 + '/' + targetimg0\n",
    "        idx0 = np.where(np.array(final_stim) == depth_dur_path0)[0][0]\n",
    "        avg_estim_stim0 = final_y[idx0]\n",
    "        std0 = std[idx0]\n",
    "        ste0 = ste[idx0]\n",
    "\n",
    "        targetimg1 = discrim_data['depth_discrimination_stimuli/' + key]['stimulus_1'].split('/')[-1]\n",
    "        folder1 = targetimg1[:-11]\n",
    "        depth_dur_path1 = 'depth_duration_stimuli/' + folder1 + '/' + targetimg1\n",
    "        idx1= np.where(np.array(final_stim) == depth_dur_path1)[0][0]\n",
    "        avg_estim_stim1 = final_y[idx1]\n",
    "        std1 = std[idx1]\n",
    "        ste1 = ste[idx1]\n",
    "\n",
    "        if avg_estim_stim0 < avg_estim_stim1:\n",
    "            # Which target is CLOSER to you?\n",
    "            answer = targetimg0\n",
    "        if avg_estim_stim0 == avg_estim_stim1:\n",
    "            print(targetimg0, targetimg1)\n",
    "        if avg_estim_stim0 > avg_estim_stim1:\n",
    "            answer = targetimg1\n",
    "\n",
    "        result = {'stimulus_1': targetimg1,\n",
    "                                 'stimulus_0_avg_estim': avg_estim_stim0,\n",
    "                                 'stimulus_1_avg_estim': avg_estim_stim1,\n",
    "                                 'answer': answer,\n",
    "                                 'std0': std0,\n",
    "                                 'std1': std1}\n",
    "        return result\n",
    "\n",
    "    else:\n",
    "#         print('No subjects: ', key)\n",
    "        return None\n",
    "    \n"
   ]
  },
  {
   "cell_type": "code",
   "execution_count": 38,
   "metadata": {},
   "outputs": [],
   "source": [
    "within_VE_answerkey_250 = {} # corresponding answer key for discrimination trials  \n",
    "n_within_VE_answerkey_250 = {}\n",
    "\n",
    "for key in discrim_trial_subjects_250:\n",
    "    within_VE_answerkey_250['depth_discrimination_stimuli/' + key] = discrim_PC(discrim_trial_subjects_250, raw_TAC_250, all_discrim_performance, key)\n",
    "    n_within_VE_answerkey_250['depth_discrimination_stimuli/' + key] = discrim_PC(discrim_trial_subjects_250, n_TAC_250, all_discrim_performance, key)\n",
    "\n",
    "within_VE_answerkey_1000 = {} # corresponding answer key for discrimination trials  \n",
    "n_within_VE_answerkey_1000 = {}\n",
    "for key in discrim_trial_subjects_1000:\n",
    "    within_VE_answerkey_1000['depth_discrimination_stimuli/' + key] = discrim_PC(discrim_trial_subjects_1000, raw_TAC_1000, all_discrim_performance, key)\n",
    "    n_within_VE_answerkey_1000['depth_discrimination_stimuli/' + key] = discrim_PC(discrim_trial_subjects_1000, n_TAC_1000, all_discrim_performance, key)\n"
   ]
  },
  {
   "cell_type": "code",
   "execution_count": 39,
   "metadata": {},
   "outputs": [],
   "source": [
    "def subj_discrim_PC(subjects_dict, VE_df, discrim_data, key):\n",
    "    '''\n",
    "    For each participant, calculate the difference between two scenes for each discrimination \n",
    "    Calculate the mean and standard error for each discrimination difference in the VE data\n",
    "    '''\n",
    "    subjects = subjects_dict[key]\n",
    "\n",
    "    if len(subjects) > 0:\n",
    "        VE_subj_differences = []\n",
    "        estims_stim0 = []\n",
    "        estims_stim1 = []\n",
    "        df_list = []\n",
    "        for subj in subjects:\n",
    "            subj_df = subj_df = VE_df.loc[VE_df['subjID'] == subj]\n",
    "            _subj_df = subj_df.copy(deep=True) # prevent setting with copy warning \n",
    "            df_list.append(_subj_df)\n",
    "                \n",
    "            targetimg0 = key.split('/')[-1]\n",
    "            img0_path = 'depth_duration_stimuli/' + key\n",
    "            dimg0_row = subj_df.loc[subj_df['stimulus'] == img0_path]\n",
    "            dimg0_estim = dimg0_row['depth_estimate'].unique()[0]\n",
    "            estims_stim0.append(dimg0_estim)\n",
    "\n",
    "            targetimg1 = discrim_data['depth_discrimination_stimuli/' + key]['stimulus_1'].split('/')[-1]\n",
    "            folder1 = targetimg1[:-11]\n",
    "\n",
    "            img1_path = 'depth_duration_stimuli/' + folder1 + '/' + targetimg1\n",
    "            dimg1_row = subj_df.loc[subj_df['stimulus'] == img1_path] \n",
    "            dimg1_estim = dimg1_row['depth_estimate'].unique()[0]\n",
    "            estims_stim1.append(dimg1_estim)\n",
    "\n",
    "            subj_estim_diff = dimg0_estim - dimg1_estim\n",
    "            VE_subj_differences.append(subj_estim_diff)\n",
    "                \n",
    "        \n",
    "        if np.mean(np.array(estims_stim0)) < np.mean(np.array(estims_stim1)):\n",
    "            # Which target is CLOSER to you?\n",
    "            answer = targetimg0\n",
    "        if np.mean(np.array(estims_stim0)) == np.mean(np.array(estims_stim1)):\n",
    "            print(targetimg0, targetimg1)\n",
    "        if np.mean(np.array(estims_stim0)) > np.mean(np.array(estims_stim1)):\n",
    "            answer = targetimg1\n",
    "\n",
    "        result = {'stimulus_1': targetimg1,\n",
    "                      'stimulus_0_avg_estim': np.mean(np.array(estims_stim0)),\n",
    "                      'stimulus_1_avg_estim': np.mean(np.array(estims_stim1)),\n",
    "                      'answer': answer,\n",
    "                      'std0': np.std(np.array(estims_stim0)),\n",
    "                      'std1': np.std(np.array(estims_stim1)),\n",
    "                      'ste_diff': stats.sem(np.array(VE_subj_differences))}\n",
    "        \n",
    "        return VE_subj_differences, np.mean(np.array(VE_subj_differences)), stats.sem(np.array(VE_subj_differences))\n",
    "    else:\n",
    "        return None\n",
    "\n",
    "        \n",
    "def subj_discrim_answerkey(subjects_dict, VE_df, discrim_data, key):\n",
    "    '''\n",
    "    For each participant, calculate the difference between two scenes for each discrimination \n",
    "    Calculate the mean and standard error for each discrimination difference in the VE data\n",
    "    '''\n",
    "    subjects = subjects_dict[key]\n",
    "\n",
    "    if len(subjects) > 0:\n",
    "        VE_subj_differences = []\n",
    "        estims_stim0 = []\n",
    "        estims_stim1 = []\n",
    "        df_list = []\n",
    "        for subj in subjects:\n",
    "            subj_df = subj_df = VE_df.loc[VE_df['subjID'] == subj]\n",
    "            _subj_df = subj_df.copy(deep=True) # prevent setting with copy warning \n",
    "            df_list.append(_subj_df)\n",
    "                \n",
    "            targetimg0 = key.split('/')[-1]\n",
    "            img0_path = 'depth_duration_stimuli/' + key\n",
    "            dimg0_row = subj_df.loc[subj_df['stimulus'] == img0_path]\n",
    "            dimg0_estim = dimg0_row['depth_estimate'].unique()[0]\n",
    "            estims_stim0.append(dimg0_estim)\n",
    "\n",
    "            targetimg1 = discrim_data['depth_discrimination_stimuli/' + key]['stimulus_1'].split('/')[-1]\n",
    "            folder1 = targetimg1[:-11]\n",
    "\n",
    "            img1_path = 'depth_duration_stimuli/' + folder1 + '/' + targetimg1\n",
    "            dimg1_row = subj_df.loc[subj_df['stimulus'] == img1_path] \n",
    "            dimg1_estim = dimg1_row['depth_estimate'].unique()[0]\n",
    "            estims_stim1.append(dimg1_estim)\n",
    "\n",
    "            subj_estim_diff = dimg0_estim - dimg1_estim\n",
    "            VE_subj_differences.append(subj_estim_diff)\n",
    "                \n",
    "        \n",
    "        if np.mean(np.array(estims_stim0)) < np.mean(np.array(estims_stim1)):\n",
    "            # Which target is CLOSER to you?\n",
    "            answer = targetimg0\n",
    "        if np.mean(np.array(estims_stim0)) == np.mean(np.array(estims_stim1)):\n",
    "            print(targetimg0, targetimg1)\n",
    "        if np.mean(np.array(estims_stim0)) > np.mean(np.array(estims_stim1)):\n",
    "            answer = targetimg1\n",
    "\n",
    "        result = {'stimulus_1': targetimg1,\n",
    "                      'stimulus_0_avg_estim': np.mean(np.array(estims_stim0)),\n",
    "                      'stimulus_1_avg_estim': np.mean(np.array(estims_stim1)),\n",
    "                      'answer': answer,\n",
    "                      'std0': np.std(np.array(estims_stim0)),\n",
    "                      'std1': np.std(np.array(estims_stim1)),\n",
    "                      'ste_diff': stats.sem(np.array(VE_subj_differences))}\n",
    "        \n",
    "        return result\n",
    "    else:\n",
    "        return None    "
   ]
  },
  {
   "cell_type": "code",
   "execution_count": 45,
   "metadata": {},
   "outputs": [],
   "source": [
    "# raw VE data \n",
    "p_VE_answerkey_250 = {}\n",
    "p_VE_answerkey_1000 = {}\n",
    "\n",
    "# normalized VE data \n",
    "np_VE_answerkey_250 = {}\n",
    "np_VE_answerkey_1000 = {}\n",
    "\n",
    "for key in discrim_trial_subjects_250:\n",
    "    p_VE_answerkey_250['depth_discrimination_stimuli/' + key] = subj_discrim_PC(discrim_trial_subjects_250, raw_TAC_250, all_discrim_performance, key)\n",
    "    np_VE_answerkey_250['depth_discrimination_stimuli/' + key] = subj_discrim_PC(discrim_trial_subjects_250, n_TAC_250, all_discrim_performance, key)\n",
    "    \n",
    "    \n",
    "\n",
    "for key in discrim_trial_subjects_1000:\n",
    "    p_VE_answerkey_1000['depth_discrimination_stimuli/' + key] = subj_discrim_PC(discrim_trial_subjects_1000, raw_TAC_1000, all_discrim_performance, key)\n",
    "    np_VE_answerkey_1000['depth_discrimination_stimuli/' + key] = subj_discrim_PC(discrim_trial_subjects_1000, n_TAC_1000, all_discrim_performance, key)\n",
    "    "
   ]
  },
  {
   "cell_type": "code",
   "execution_count": 46,
   "metadata": {},
   "outputs": [],
   "source": [
    "mean_diffs_250 = [p_VE_answerkey_250[key][1] for key in p_VE_answerkey_250 if p_VE_answerkey_250[key] != None]\n",
    "mean_diffs_1000 = [p_VE_answerkey_1000[key][1] for key in p_VE_answerkey_1000 if p_VE_answerkey_1000[key] != None]\n",
    "\n",
    "ste_diffs_250 = [p_VE_answerkey_250[key][2] for key in p_VE_answerkey_250 if p_VE_answerkey_250[key] != None]\n",
    "ste_diffs_1000 = [p_VE_answerkey_1000[key][2] for key in p_VE_answerkey_1000 if p_VE_answerkey_1000[key] != None]"
   ]
  },
  {
   "cell_type": "code",
   "execution_count": 49,
   "metadata": {},
   "outputs": [],
   "source": [
    "# raw VE data \n",
    "final_VE_answerkey_250 = {}\n",
    "final_VE_answerkey_1000 = {}\n",
    "\n",
    "# normalized VE data \n",
    "n_final_VE_answerkey_250 = {}\n",
    "n_final_VE_answerkey_1000 = {}\n",
    "\n",
    "for key in discrim_trial_subjects_250:\n",
    "    final_VE_answerkey_250['depth_discrimination_stimuli/' + key] = subj_discrim_answerkey(discrim_trial_subjects_250, raw_TAC_250, all_discrim_performance, key)\n",
    "    n_final_VE_answerkey_250['depth_discrimination_stimuli/' + key] = subj_discrim_answerkey(discrim_trial_subjects_250, n_TAC_250, all_discrim_performance, key)\n",
    "    \n",
    "    \n",
    "\n",
    "for key in discrim_trial_subjects_1000:\n",
    "    final_VE_answerkey_1000['depth_discrimination_stimuli/' + key] = subj_discrim_answerkey(discrim_trial_subjects_1000, raw_TAC_1000, all_discrim_performance, key)\n",
    "    n_final_VE_answerkey_1000['depth_discrimination_stimuli/' + key] = subj_discrim_answerkey(discrim_trial_subjects_1000, n_TAC_1000, all_discrim_performance, key)"
   ]
  },
  {
   "cell_type": "code",
   "execution_count": 50,
   "metadata": {},
   "outputs": [
    {
     "data": {
      "image/png": "[encoded data removed]",
      "text/plain": [
       "<Figure size 720x576 with 1 Axes>"
      ]
     },
     "metadata": {
      "needs_background": "light"
     },
     "output_type": "display_data"
    },
    {
     "name": "stdout",
     "output_type": "stream",
     "text": [
      "(0.7038661897713235, 2.519236264978356e-15)\n"
     ]
    }
   ],
   "source": [
    "plt.figure(figsize=[10,8])\n",
    "plt.xlabel('250 ms', fontsize=15)\n",
    "plt.ylabel('1000 ms', fontsize=15)\n",
    "plt.title('Avg VE Diff between Discrimination Scenes', fontsize=18)\n",
    "plt.plot(mean_diffs_250, mean_diffs_1000, 'o', color='black')\n",
    "plt.errorbar(mean_diffs_250, mean_diffs_1000, xerr=ste_diffs_250, fmt=\"o\", mec='black', color='gray')\n",
    "plt.errorbar(mean_diffs_250, mean_diffs_1000, yerr=ste_diffs_1000, fmt=\"o\", mec='black', ms = 0.5, color='gray')\n",
    "\n",
    "plt.show();\n",
    "print(scipy.stats.pearsonr(mean_diffs_250, mean_diffs_1000))"
   ]
  },
  {
   "cell_type": "code",
   "execution_count": 51,
   "metadata": {},
   "outputs": [
    {
     "data": {
      "text/html": [
       "<div>\n",
       "<style scoped>\n",
       "    .dataframe tbody tr th:only-of-type {\n",
       "        vertical-align: middle;\n",
       "    }\n",
       "\n",
       "    .dataframe tbody tr th {\n",
       "        vertical-align: top;\n",
       "    }\n",
       "\n",
       "    .dataframe thead th {\n",
       "        text-align: right;\n",
       "    }\n",
       "</style>\n",
       "<table border=\"1\" class=\"dataframe\">\n",
       "  <thead>\n",
       "    <tr style=\"text-align: right;\">\n",
       "      <th></th>\n",
       "      <th>subjID</th>\n",
       "      <th>experimentName</th>\n",
       "      <th>versionName</th>\n",
       "      <th>sequenceName</th>\n",
       "      <th>url</th>\n",
       "      <th>selected_row</th>\n",
       "      <th>windowWidth</th>\n",
       "      <th>windowHeight</th>\n",
       "      <th>screenWidth</th>\n",
       "      <th>screenHeight</th>\n",
       "      <th>...</th>\n",
       "      <th>trial_RT</th>\n",
       "      <th>log_fixation</th>\n",
       "      <th>log_sceneDuration1</th>\n",
       "      <th>log_mask1</th>\n",
       "      <th>log_sceneDuration2</th>\n",
       "      <th>log_mask2</th>\n",
       "      <th>experimentTime</th>\n",
       "      <th>totalTime</th>\n",
       "      <th>age</th>\n",
       "      <th>gender</th>\n",
       "    </tr>\n",
       "  </thead>\n",
       "  <tbody>\n",
       "    <tr>\n",
       "      <th>100</th>\n",
       "      <td>119760</td>\n",
       "      <td>DepthScenes</td>\n",
       "      <td>v2_duration_discrimination</td>\n",
       "      <td>discrim_jsons/j13_dr.json</td>\n",
       "      <td>http://54.235.3.71/FacialAge/BNav_EC2/DepthDur...</td>\n",
       "      <td>1</td>\n",
       "      <td>1707</td>\n",
       "      <td>793</td>\n",
       "      <td>1536</td>\n",
       "      <td>864</td>\n",
       "      <td>...</td>\n",
       "      <td>1566</td>\n",
       "      <td>1012</td>\n",
       "      <td>254</td>\n",
       "      <td>988</td>\n",
       "      <td>250</td>\n",
       "      <td>506</td>\n",
       "      <td>NaN</td>\n",
       "      <td>756611</td>\n",
       "      <td>58</td>\n",
       "      <td>Woman</td>\n",
       "    </tr>\n",
       "    <tr>\n",
       "      <th>101</th>\n",
       "      <td>119760</td>\n",
       "      <td>DepthScenes</td>\n",
       "      <td>v2_duration_discrimination</td>\n",
       "      <td>discrim_jsons/j13_dr.json</td>\n",
       "      <td>http://54.235.3.71/FacialAge/BNav_EC2/DepthDur...</td>\n",
       "      <td>1</td>\n",
       "      <td>1707</td>\n",
       "      <td>793</td>\n",
       "      <td>1536</td>\n",
       "      <td>864</td>\n",
       "      <td>...</td>\n",
       "      <td>2087</td>\n",
       "      <td>1015</td>\n",
       "      <td>998</td>\n",
       "      <td>1002</td>\n",
       "      <td>997</td>\n",
       "      <td>506</td>\n",
       "      <td>NaN</td>\n",
       "      <td>756611</td>\n",
       "      <td>58</td>\n",
       "      <td>Woman</td>\n",
       "    </tr>\n",
       "    <tr>\n",
       "      <th>102</th>\n",
       "      <td>119760</td>\n",
       "      <td>DepthScenes</td>\n",
       "      <td>v2_duration_discrimination</td>\n",
       "      <td>discrim_jsons/j13_dr.json</td>\n",
       "      <td>http://54.235.3.71/FacialAge/BNav_EC2/DepthDur...</td>\n",
       "      <td>1</td>\n",
       "      <td>1707</td>\n",
       "      <td>793</td>\n",
       "      <td>1536</td>\n",
       "      <td>864</td>\n",
       "      <td>...</td>\n",
       "      <td>1634</td>\n",
       "      <td>1013</td>\n",
       "      <td>250</td>\n",
       "      <td>992</td>\n",
       "      <td>255</td>\n",
       "      <td>500</td>\n",
       "      <td>NaN</td>\n",
       "      <td>756611</td>\n",
       "      <td>58</td>\n",
       "      <td>Woman</td>\n",
       "    </tr>\n",
       "    <tr>\n",
       "      <th>103</th>\n",
       "      <td>119760</td>\n",
       "      <td>DepthScenes</td>\n",
       "      <td>v2_duration_discrimination</td>\n",
       "      <td>discrim_jsons/j13_dr.json</td>\n",
       "      <td>http://54.235.3.71/FacialAge/BNav_EC2/DepthDur...</td>\n",
       "      <td>1</td>\n",
       "      <td>1707</td>\n",
       "      <td>793</td>\n",
       "      <td>1536</td>\n",
       "      <td>864</td>\n",
       "      <td>...</td>\n",
       "      <td>2059</td>\n",
       "      <td>1009</td>\n",
       "      <td>1000</td>\n",
       "      <td>1004</td>\n",
       "      <td>1000</td>\n",
       "      <td>498</td>\n",
       "      <td>NaN</td>\n",
       "      <td>756611</td>\n",
       "      <td>58</td>\n",
       "      <td>Woman</td>\n",
       "    </tr>\n",
       "    <tr>\n",
       "      <th>104</th>\n",
       "      <td>119760</td>\n",
       "      <td>DepthScenes</td>\n",
       "      <td>v2_duration_discrimination</td>\n",
       "      <td>discrim_jsons/j13_dr.json</td>\n",
       "      <td>http://54.235.3.71/FacialAge/BNav_EC2/DepthDur...</td>\n",
       "      <td>1</td>\n",
       "      <td>1707</td>\n",
       "      <td>793</td>\n",
       "      <td>1536</td>\n",
       "      <td>864</td>\n",
       "      <td>...</td>\n",
       "      <td>1655</td>\n",
       "      <td>1016</td>\n",
       "      <td>1000</td>\n",
       "      <td>994</td>\n",
       "      <td>1000</td>\n",
       "      <td>492</td>\n",
       "      <td>NaN</td>\n",
       "      <td>756611</td>\n",
       "      <td>58</td>\n",
       "      <td>Woman</td>\n",
       "    </tr>\n",
       "    <tr>\n",
       "      <th>...</th>\n",
       "      <td>...</td>\n",
       "      <td>...</td>\n",
       "      <td>...</td>\n",
       "      <td>...</td>\n",
       "      <td>...</td>\n",
       "      <td>...</td>\n",
       "      <td>...</td>\n",
       "      <td>...</td>\n",
       "      <td>...</td>\n",
       "      <td>...</td>\n",
       "      <td>...</td>\n",
       "      <td>...</td>\n",
       "      <td>...</td>\n",
       "      <td>...</td>\n",
       "      <td>...</td>\n",
       "      <td>...</td>\n",
       "      <td>...</td>\n",
       "      <td>...</td>\n",
       "      <td>...</td>\n",
       "      <td>...</td>\n",
       "      <td>...</td>\n",
       "    </tr>\n",
       "    <tr>\n",
       "      <th>895</th>\n",
       "      <td>524202</td>\n",
       "      <td>DepthScenes</td>\n",
       "      <td>v2_duration_discrimination</td>\n",
       "      <td>discrim_jsons/j13_dr.json</td>\n",
       "      <td>http://54.235.3.71/FacialAge/BNav_EC2/DepthDur...</td>\n",
       "      <td>1</td>\n",
       "      <td>1280</td>\n",
       "      <td>698</td>\n",
       "      <td>1280</td>\n",
       "      <td>800</td>\n",
       "      <td>...</td>\n",
       "      <td>1127</td>\n",
       "      <td>1004</td>\n",
       "      <td>251</td>\n",
       "      <td>995</td>\n",
       "      <td>254</td>\n",
       "      <td>500</td>\n",
       "      <td>NaN</td>\n",
       "      <td>613083</td>\n",
       "      <td>29</td>\n",
       "      <td>Man</td>\n",
       "    </tr>\n",
       "    <tr>\n",
       "      <th>896</th>\n",
       "      <td>524202</td>\n",
       "      <td>DepthScenes</td>\n",
       "      <td>v2_duration_discrimination</td>\n",
       "      <td>discrim_jsons/j13_dr.json</td>\n",
       "      <td>http://54.235.3.71/FacialAge/BNav_EC2/DepthDur...</td>\n",
       "      <td>1</td>\n",
       "      <td>1280</td>\n",
       "      <td>698</td>\n",
       "      <td>1280</td>\n",
       "      <td>800</td>\n",
       "      <td>...</td>\n",
       "      <td>1090</td>\n",
       "      <td>1006</td>\n",
       "      <td>249</td>\n",
       "      <td>997</td>\n",
       "      <td>249</td>\n",
       "      <td>500</td>\n",
       "      <td>NaN</td>\n",
       "      <td>613083</td>\n",
       "      <td>29</td>\n",
       "      <td>Man</td>\n",
       "    </tr>\n",
       "    <tr>\n",
       "      <th>897</th>\n",
       "      <td>524202</td>\n",
       "      <td>DepthScenes</td>\n",
       "      <td>v2_duration_discrimination</td>\n",
       "      <td>discrim_jsons/j13_dr.json</td>\n",
       "      <td>http://54.235.3.71/FacialAge/BNav_EC2/DepthDur...</td>\n",
       "      <td>1</td>\n",
       "      <td>1280</td>\n",
       "      <td>698</td>\n",
       "      <td>1280</td>\n",
       "      <td>800</td>\n",
       "      <td>...</td>\n",
       "      <td>1365</td>\n",
       "      <td>1006</td>\n",
       "      <td>249</td>\n",
       "      <td>996</td>\n",
       "      <td>251</td>\n",
       "      <td>502</td>\n",
       "      <td>NaN</td>\n",
       "      <td>613083</td>\n",
       "      <td>29</td>\n",
       "      <td>Man</td>\n",
       "    </tr>\n",
       "    <tr>\n",
       "      <th>898</th>\n",
       "      <td>524202</td>\n",
       "      <td>DepthScenes</td>\n",
       "      <td>v2_duration_discrimination</td>\n",
       "      <td>discrim_jsons/j13_dr.json</td>\n",
       "      <td>http://54.235.3.71/FacialAge/BNav_EC2/DepthDur...</td>\n",
       "      <td>1</td>\n",
       "      <td>1280</td>\n",
       "      <td>698</td>\n",
       "      <td>1280</td>\n",
       "      <td>800</td>\n",
       "      <td>...</td>\n",
       "      <td>1078</td>\n",
       "      <td>1007</td>\n",
       "      <td>244</td>\n",
       "      <td>1003</td>\n",
       "      <td>251</td>\n",
       "      <td>495</td>\n",
       "      <td>NaN</td>\n",
       "      <td>613083</td>\n",
       "      <td>29</td>\n",
       "      <td>Man</td>\n",
       "    </tr>\n",
       "    <tr>\n",
       "      <th>899</th>\n",
       "      <td>524202</td>\n",
       "      <td>DepthScenes</td>\n",
       "      <td>v2_duration_discrimination</td>\n",
       "      <td>discrim_jsons/j13_dr.json</td>\n",
       "      <td>http://54.235.3.71/FacialAge/BNav_EC2/DepthDur...</td>\n",
       "      <td>1</td>\n",
       "      <td>1280</td>\n",
       "      <td>698</td>\n",
       "      <td>1280</td>\n",
       "      <td>800</td>\n",
       "      <td>...</td>\n",
       "      <td>1858</td>\n",
       "      <td>1005</td>\n",
       "      <td>1000</td>\n",
       "      <td>999</td>\n",
       "      <td>1000</td>\n",
       "      <td>496</td>\n",
       "      <td>NaN</td>\n",
       "      <td>613083</td>\n",
       "      <td>29</td>\n",
       "      <td>Man</td>\n",
       "    </tr>\n",
       "  </tbody>\n",
       "</table>\n",
       "<p>729 rows × 30 columns</p>\n",
       "</div>"
      ],
      "text/plain": [
       "     subjID experimentName                 versionName  \\\n",
       "100  119760    DepthScenes  v2_duration_discrimination   \n",
       "101  119760    DepthScenes  v2_duration_discrimination   \n",
       "102  119760    DepthScenes  v2_duration_discrimination   \n",
       "103  119760    DepthScenes  v2_duration_discrimination   \n",
       "104  119760    DepthScenes  v2_duration_discrimination   \n",
       "..      ...            ...                         ...   \n",
       "895  524202    DepthScenes  v2_duration_discrimination   \n",
       "896  524202    DepthScenes  v2_duration_discrimination   \n",
       "897  524202    DepthScenes  v2_duration_discrimination   \n",
       "898  524202    DepthScenes  v2_duration_discrimination   \n",
       "899  524202    DepthScenes  v2_duration_discrimination   \n",
       "\n",
       "                  sequenceName  \\\n",
       "100  discrim_jsons/j13_dr.json   \n",
       "101  discrim_jsons/j13_dr.json   \n",
       "102  discrim_jsons/j13_dr.json   \n",
       "103  discrim_jsons/j13_dr.json   \n",
       "104  discrim_jsons/j13_dr.json   \n",
       "..                         ...   \n",
       "895  discrim_jsons/j13_dr.json   \n",
       "896  discrim_jsons/j13_dr.json   \n",
       "897  discrim_jsons/j13_dr.json   \n",
       "898  discrim_jsons/j13_dr.json   \n",
       "899  discrim_jsons/j13_dr.json   \n",
       "\n",
       "                                                   url  selected_row  \\\n",
       "100  http://54.235.3.71/FacialAge/BNav_EC2/DepthDur...             1   \n",
       "101  http://54.235.3.71/FacialAge/BNav_EC2/DepthDur...             1   \n",
       "102  http://54.235.3.71/FacialAge/BNav_EC2/DepthDur...             1   \n",
       "103  http://54.235.3.71/FacialAge/BNav_EC2/DepthDur...             1   \n",
       "104  http://54.235.3.71/FacialAge/BNav_EC2/DepthDur...             1   \n",
       "..                                                 ...           ...   \n",
       "895  http://54.235.3.71/FacialAge/BNav_EC2/DepthDur...             1   \n",
       "896  http://54.235.3.71/FacialAge/BNav_EC2/DepthDur...             1   \n",
       "897  http://54.235.3.71/FacialAge/BNav_EC2/DepthDur...             1   \n",
       "898  http://54.235.3.71/FacialAge/BNav_EC2/DepthDur...             1   \n",
       "899  http://54.235.3.71/FacialAge/BNav_EC2/DepthDur...             1   \n",
       "\n",
       "     windowWidth  windowHeight  screenWidth  screenHeight  ... trial_RT  \\\n",
       "100         1707           793         1536           864  ...     1566   \n",
       "101         1707           793         1536           864  ...     2087   \n",
       "102         1707           793         1536           864  ...     1634   \n",
       "103         1707           793         1536           864  ...     2059   \n",
       "104         1707           793         1536           864  ...     1655   \n",
       "..           ...           ...          ...           ...  ...      ...   \n",
       "895         1280           698         1280           800  ...     1127   \n",
       "896         1280           698         1280           800  ...     1090   \n",
       "897         1280           698         1280           800  ...     1365   \n",
       "898         1280           698         1280           800  ...     1078   \n",
       "899         1280           698         1280           800  ...     1858   \n",
       "\n",
       "    log_fixation  log_sceneDuration1 log_mask1 log_sceneDuration2  log_mask2  \\\n",
       "100         1012                 254       988                250        506   \n",
       "101         1015                 998      1002                997        506   \n",
       "102         1013                 250       992                255        500   \n",
       "103         1009                1000      1004               1000        498   \n",
       "104         1016                1000       994               1000        492   \n",
       "..           ...                 ...       ...                ...        ...   \n",
       "895         1004                 251       995                254        500   \n",
       "896         1006                 249       997                249        500   \n",
       "897         1006                 249       996                251        502   \n",
       "898         1007                 244      1003                251        495   \n",
       "899         1005                1000       999               1000        496   \n",
       "\n",
       "     experimentTime  totalTime  age  gender  \n",
       "100             NaN     756611   58   Woman  \n",
       "101             NaN     756611   58   Woman  \n",
       "102             NaN     756611   58   Woman  \n",
       "103             NaN     756611   58   Woman  \n",
       "104             NaN     756611   58   Woman  \n",
       "..              ...        ...  ...     ...  \n",
       "895             NaN     613083   29     Man  \n",
       "896             NaN     613083   29     Man  \n",
       "897             NaN     613083   29     Man  \n",
       "898             NaN     613083   29     Man  \n",
       "899             NaN     613083   29     Man  \n",
       "\n",
       "[729 rows x 30 columns]"
      ]
     },
     "execution_count": 51,
     "metadata": {},
     "output_type": "execute_result"
    }
   ],
   "source": [
    "final_discrim"
   ]
  },
  {
   "cell_type": "code",
   "execution_count": 52,
   "metadata": {},
   "outputs": [],
   "source": [
    "def VE_accuracy(stim0, df, answerkey):\n",
    "    '''\n",
    "    Accuracy based on the verbal judgement data \n",
    "    '''\n",
    "    \n",
    "    \"\"\"\n",
    "    args:\n",
    "        df  \n",
    "    returns:\n",
    "        proportion of correct responses, count of correct responses, count of total trials  \n",
    "    \"\"\"\n",
    "    count_correct = 0\n",
    "    count_incorrect = 0\n",
    "    count_total = 0\n",
    "    count_missed = 0\n",
    "    try:\n",
    "        VE_correct_answer = answerkey[stim0]['answer']\n",
    "        for idx, row in df.iterrows(): \n",
    "            choice = row[\"discrim_choice\"]\n",
    "            count_total += 1\n",
    "            if choice == 0.0:\n",
    "                image_choice = row[\"stimulus_0\"]\n",
    "\n",
    "            if choice == 1.0:\n",
    "                image_choice = row[\"stimulus_1\"]\n",
    "\n",
    "            if choice == 2.0:\n",
    "                count_missed += 1\n",
    "\n",
    "            if choice == 3.0:\n",
    "                count_missed += 1\n",
    "\n",
    "            try:\n",
    "                if image_choice.split('/')[-1] == VE_correct_answer:\n",
    "                    count_correct += 1\n",
    "            except:\n",
    "                pass\n",
    "            \n",
    "        p = count_correct/count_total\n",
    "        n = count_total\n",
    "        stderr = np.sqrt(p*(1-p)/n)\n",
    "        return count_correct/count_total, count_correct, count_total, count_missed, stderr\n",
    "    except:\n",
    "        return None\n",
    "\n",
    "    \n",
    "def main_VE_accuracy(df, answerkey_250, answerkey_1000):\n",
    "    all_stim0 = df.stimulus_0.unique()\n",
    "    stimuli_stats = {}\n",
    "    for stim0 in all_stim0:\n",
    "        \n",
    "        # dataframe for stimulus 0\n",
    "        stim0_df = df.loc[df['stimulus_0'] == stim0]\n",
    "        # name of stimulus 1\n",
    "        other_stim = stim0_df.stimulus_1.unique()[0]\n",
    "        # dataframe where stimulus 0 is presented SECOND (same trial)\n",
    "        stim1_df = df.loc[df['stimulus_1'] == stim0]\n",
    "        \n",
    "        # df for a specific discrimination trial (collapsed on stim presentation order)\n",
    "        stim_df = pd.concat([stim0_df, stim1_df], ignore_index=True)\n",
    "        stim_250_df = stim_df[stim_df['duration'] == 250.0]\n",
    "        stim_1000_df = stim_df[stim_df['duration'] == 1000.0] \n",
    "        \n",
    "#         stim_depthdiff = stim_df['depth_difference'][0]\n",
    "        \n",
    "        stim0_depth = stim_df['actual_depth_0'][0]\n",
    "        stim1_depth = stim_df['actual_depth_1'][0]\n",
    "        stim_depthbin = np.mean(np.array([stim0_depth,stim1_depth]))\n",
    "        \n",
    "        stim_acc_250 = VE_accuracy(stim0, stim_250_df, answerkey_250)\n",
    "        stim_acc_1000 = VE_accuracy(stim0, stim_1000_df, answerkey_1000)\n",
    "        \n",
    "        stim_RT_250 = get_RT(stim_250_df)\n",
    "        stim_RT_1000 = get_RT(stim_1000_df)\n",
    "        \n",
    "        # difference between verbal judgements divided by joint variance \n",
    "        # abs(VE1-VE2)/sqrt(stda^2 + std2^2)\n",
    "        std0_250 = answerkey_250[stim0]['std0']\n",
    "        std1_250 = answerkey_250[stim0]['std1']\n",
    "        joint_variance_250 = np.sqrt(std0_250**2 + std1_250**2)\n",
    "        JV_regressor_250 = abs(answerkey_250[stim0]['stimulus_0_avg_estim'] - answerkey_250[stim0]['stimulus_1_avg_estim'])/joint_variance_250\n",
    "\n",
    "        std0_1000 = answerkey_1000[stim0]['std0']\n",
    "        std1_1000 = answerkey_1000[stim0]['std1']\n",
    "        joint_variance_1000 = np.sqrt(std0_1000**2 + std1_1000**2)\n",
    "        JV_regressor_1000 = abs(answerkey_1000[stim0]['stimulus_0_avg_estim'] - answerkey_1000[stim0]['stimulus_1_avg_estim'])/joint_variance_1000\n",
    "            \n",
    "        stimuli_stats[stim0] = {'stimulus_1': other_stim,\n",
    "                                'accuracy_250': stim_acc_250,\n",
    "                                'accuracy_1000': stim_acc_1000,\n",
    "                                'avg_depth': stim_depthbin,\n",
    "                                'VE_depthdifference_250': abs(answerkey_250[stim0]['stimulus_0_avg_estim'] - answerkey_250[stim0]['stimulus_1_avg_estim']), \n",
    "                                'VE_depthdifference_1000': abs(answerkey_1000[stim0]['stimulus_0_avg_estim'] - answerkey_1000[stim0]['stimulus_1_avg_estim']),\n",
    "                                'RT_250': stim_RT_250,\n",
    "                                'RT_1000': stim_RT_1000,\n",
    "                                'JV_regressor_250': JV_regressor_250,\n",
    "                                'JV_regressor_1000': JV_regressor_1000}\n",
    "            \n",
    "\n",
    "        \n",
    "    \n",
    "    return stimuli_stats\n",
    "    \n",
    "    \n",
    "\n",
    "def V2_main_VE_accuracy(df, answerkey_250, subjects_dict_250, answerkey_1000, subjects_dict_1000):\n",
    "    all_stim0 = df.stimulus_0.unique()\n",
    "    stimuli_stats = {}\n",
    "    for stim0 in all_stim0:\n",
    "        \n",
    "        # dataframe for stimulus 0\n",
    "        stim0_df = df.loc[df['stimulus_0'] == stim0]\n",
    "        # name of stimulus 1\n",
    "        other_stim = stim0_df.stimulus_1.unique()[0]\n",
    "        # dataframe where stimulus 0 is presented SECOND (same trial)\n",
    "        stim1_df = df.loc[df['stimulus_1'] == stim0]\n",
    "        \n",
    "        # df for a specific discrimination trial (collapsed on stim presentation order)\n",
    "        stim_df = pd.concat([stim0_df, stim1_df], ignore_index=True)\n",
    "        stim_250_df = stim_df[stim_df['duration'] == 250.0]\n",
    "        stim_1000_df = stim_df[stim_df['duration'] == 1000.0]\n",
    "                \n",
    "        stim0_depth = stim_df['actual_depth_0'][0]\n",
    "        stim1_depth = stim_df['actual_depth_1'][0]\n",
    "        stim_depthbin = np.mean(np.array([stim0_depth,stim1_depth]))\n",
    "        \n",
    "        stim_acc_250 = VE_accuracy(stim0, stim_250_df, answerkey_250)\n",
    "        stim_acc_1000 = VE_accuracy(stim0, stim_1000_df, answerkey_1000)\n",
    "        \n",
    "        stim_RT_250 = get_RT(stim_250_df)\n",
    "        stim_RT_1000 = get_RT(stim_1000_df)\n",
    "        \n",
    "        # difference between verbal judgements divided by joint variance \n",
    "        # abs(VE1-VE2)/sqrt(stda^2 + std2^2)\n",
    "        try:\n",
    "            std0_250 = answerkey_250[stim0]['std0']\n",
    "            std1_250 = answerkey_250[stim0]['std1']\n",
    "            joint_variance_250 = np.sqrt(std0_250**2 + std1_250**2)\n",
    "            JV_regressor_250 = abs(answerkey_250[stim0]['stimulus_0_avg_estim'] - answerkey_250[stim0]['stimulus_1_avg_estim'])/joint_variance_250\n",
    "            \n",
    "            std0_1000 = answerkey_1000[stim0]['std0']\n",
    "            std1_1000 = answerkey_1000[stim0]['std1']\n",
    "            joint_variance_1000 = np.sqrt(std0_1000**2 + std1_1000**2)\n",
    "            JV_regressor_1000 = abs(answerkey_1000[stim0]['stimulus_0_avg_estim'] - answerkey_1000[stim0]['stimulus_1_avg_estim'])/joint_variance_1000\n",
    "            \n",
    "            if stim_acc_250 and stim_acc_1000 != None:\n",
    "                stimuli_stats[stim0] = {'stimulus_1': other_stim,\n",
    "                                    'accuracy_250': stim_acc_250,\n",
    "                                    'accuracy_1000': stim_acc_1000,\n",
    "                                    'avg_depth': stim_depthbin,\n",
    "                                    'VE_depthdifference_250': abs(answerkey_250[stim0]['stimulus_0_avg_estim'] - answerkey_250[stim0]['stimulus_1_avg_estim']), \n",
    "                                    'VE_depthdifference_1000': abs(answerkey_1000[stim0]['stimulus_0_avg_estim'] - answerkey_1000[stim0]['stimulus_1_avg_estim']),\n",
    "                                    'RT_250': stim_RT_250,\n",
    "                                    'RT_1000': stim_RT_1000,\n",
    "                                    'JV_regressor_250': JV_regressor_250,\n",
    "                                    'JV_regressor_1000': JV_regressor_1000,\n",
    "                                    'ste_diff_250': answerkey_250[stim0]['ste_diff'],\n",
    "                                    'ste_diff_1000': answerkey_1000[stim0]['ste_diff'],\n",
    "                                    'discrim_ste_250': stim_acc_250[-1],\n",
    "                                    'discrim_ste_1000': stim_acc_1000[-1]}        \n",
    "            \n",
    "        except: \n",
    "            std0_250 = answerkey_250[other_stim]['std0']\n",
    "            std1_250 = answerkey_250[other_stim]['std1']\n",
    "            joint_variance_250 = np.sqrt(std0_250**2 + std1_250**2)\n",
    "            JV_regressor_250 = abs(answerkey_250[other_stim]['stimulus_0_avg_estim'] - answerkey_250[other_stim]['stimulus_1_avg_estim'])/joint_variance_250\n",
    "            \n",
    "            std0_1000 = answerkey_1000[other_stim]['std0']\n",
    "            std1_1000 = answerkey_1000[other_stim]['std1']\n",
    "            joint_variance_1000 = np.sqrt(std0_1000**2 + std1_1000**2)\n",
    "            JV_regressor_1000 = abs(answerkey_1000[other_stim]['stimulus_0_avg_estim'] - answerkey_1000[other_stim]['stimulus_1_avg_estim'])/joint_variance_1000\n",
    "            if stim_acc_250 and stim_acc_1000 != None:\n",
    "                stimuli_stats[stim0] = {'stimulus_1': stim0,\n",
    "                                'accuracy_250': stim_acc_250,\n",
    "                                'accuracy_1000': stim_acc_1000,\n",
    "                                'avg_depth': stim_depthbin,\n",
    "                                'VE_depthdifference_250': abs(answerkey_250[other_stim]['stimulus_0_avg_estim'] - answerkey_250[other_stim]['stimulus_1_avg_estim']), \n",
    "                                'VE_depthdifference_1000': abs(answerkey_1000[other_stim]['stimulus_0_avg_estim'] - answerkey_1000[other_stim]['stimulus_1_avg_estim']),\n",
    "                                'RT_250': stim_RT_250,\n",
    "                                'RT_1000': stim_RT_1000,\n",
    "                                'JV_regressor_250': JV_regressor_250,\n",
    "                                'JV_regressor_1000': JV_regressor_1000,\n",
    "                                'ste_diff_250': answerkey_250[other_stim]['ste_diff'],\n",
    "                                'ste_diff_1000': answerkey_1000[other_stim]['ste_diff'],\n",
    "                                'discrim_ste_250': stim_acc_250[-1],\n",
    "                                'discrim_ste_1000': stim_acc_1000[-1]}\n",
    "        \n",
    "    return stimuli_stats\n",
    "            \n",
    "        \n",
    "    \n"
   ]
  },
  {
   "cell_type": "code",
   "execution_count": 53,
   "metadata": {},
   "outputs": [],
   "source": [
    "w_all_VE_discrim_performance = V2_main_VE_accuracy(final_discrim, final_VE_answerkey_250, discrim_trial_subjects_250, final_VE_answerkey_1000, discrim_trial_subjects_1000) "
   ]
  },
  {
   "cell_type": "code",
   "execution_count": 54,
   "metadata": {},
   "outputs": [],
   "source": [
    "# within_VE_answerkey_1000['depth_discrimination_stimuli/001618_2014-06-20_11-37-31_260595134347_rgbf000027-resize_3/001618_2014-06-20_11-37-31_260595134347_rgbf000027-resize_3-target.png']"
   ]
  },
  {
   "cell_type": "code",
   "execution_count": null,
   "metadata": {},
   "outputs": [],
   "source": []
  },
  {
   "cell_type": "code",
   "execution_count": null,
   "metadata": {},
   "outputs": [],
   "source": []
  },
  {
   "cell_type": "code",
   "execution_count": 56,
   "metadata": {},
   "outputs": [],
   "source": [
    "w_VE_estim_diff_250 = [w_all_VE_discrim_performance[elem]['VE_depthdifference_250'] for elem in w_all_VE_discrim_performance]\n",
    "w_VE_estim_diff_1000 = [w_all_VE_discrim_performance[elem]['VE_depthdifference_1000'] for elem in w_all_VE_discrim_performance]\n",
    "\n",
    "w_VE_accuracy_250 = [w_all_VE_discrim_performance[elem]['accuracy_250'][0] for elem in w_all_VE_discrim_performance]\n",
    "w_VE_accuracy_1000 = [w_all_VE_discrim_performance[elem]['accuracy_1000'][0] for elem in w_all_VE_discrim_performance]\n",
    "\n",
    "w_avg_RT_250 = [w_all_VE_discrim_performance[elem]['RT_250'][1] for elem in w_all_VE_discrim_performance]\n",
    "w_avg_RT_1000 = [w_all_VE_discrim_performance[elem]['RT_1000'][1] for elem in w_all_VE_discrim_performance]\n",
    "\n",
    "w_JV_250 = [w_all_VE_discrim_performance[elem]['JV_regressor_250'] for elem in w_all_VE_discrim_performance]\n",
    "w_JV_1000 = [w_all_VE_discrim_performance[elem]['JV_regressor_1000'] for elem in w_all_VE_discrim_performance]\n",
    "\n",
    "w_stediff_250 = [w_all_VE_discrim_performance[elem]['ste_diff_250'] for elem in w_all_VE_discrim_performance]\n",
    "w_stediff_1000 = [w_all_VE_discrim_performance[elem]['ste_diff_1000'] for elem in w_all_VE_discrim_performance]\n",
    "\n",
    "w_discrim_ste_250 = [w_all_VE_discrim_performance[elem]['discrim_ste_250'] for elem in w_all_VE_discrim_performance]\n",
    "w_discrim_ste_1000 = [w_all_VE_discrim_performance[elem]['discrim_ste_1000'] for elem in w_all_VE_discrim_performance]"
   ]
  },
  {
   "cell_type": "code",
   "execution_count": 57,
   "metadata": {},
   "outputs": [
    {
     "data": {
      "text/plain": [
       "94"
      ]
     },
     "execution_count": 57,
     "metadata": {},
     "output_type": "execute_result"
    }
   ],
   "source": [
    "len(w_discrim_ste_1000)\n"
   ]
  },
  {
   "cell_type": "code",
   "execution_count": 59,
   "metadata": {},
   "outputs": [],
   "source": [
    "normVE_w_all_VE_discrim_performance = V2_main_VE_accuracy(final_discrim, n_final_VE_answerkey_250, discrim_trial_subjects_250, n_final_VE_answerkey_1000, discrim_trial_subjects_1000) "
   ]
  },
  {
   "cell_type": "code",
   "execution_count": 60,
   "metadata": {},
   "outputs": [],
   "source": [
    "normVE_w_VE_estim_diff_250 = [normVE_w_all_VE_discrim_performance[elem]['VE_depthdifference_250'] for elem in normVE_w_all_VE_discrim_performance]\n",
    "normVE_w_VE_estim_diff_1000 = [normVE_w_all_VE_discrim_performance[elem]['VE_depthdifference_1000'] for elem in normVE_w_all_VE_discrim_performance]\n",
    "\n",
    "normVE_w_VE_accuracy_250 = [normVE_w_all_VE_discrim_performance[elem]['accuracy_250'][0] for elem in normVE_w_all_VE_discrim_performance]\n",
    "normVE_w_VE_accuracy_1000 = [normVE_w_all_VE_discrim_performance[elem]['accuracy_1000'][0] for elem in normVE_w_all_VE_discrim_performance]\n",
    "\n",
    "normVE_w_avg_RT_250 = [normVE_w_all_VE_discrim_performance[elem]['RT_250'][1] for elem in normVE_w_all_VE_discrim_performance]\n",
    "normVE_w_all_VE_discrim_performancew_avg_RT_1000 = [normVE_w_all_VE_discrim_performance[elem]['RT_1000'][1] for elem in normVE_w_all_VE_discrim_performance]\n",
    "\n",
    "normVE_w_JV_250 = [normVE_w_all_VE_discrim_performance[elem]['JV_regressor_250'] for elem in normVE_w_all_VE_discrim_performance]\n",
    "normVE_w_JV_1000 = [normVE_w_all_VE_discrim_performance[elem]['JV_regressor_1000'] for elem in normVE_w_all_VE_discrim_performance]\n",
    "\n",
    "normVE_w_stediff_250 = [normVE_w_all_VE_discrim_performance[elem]['ste_diff_250'] for elem in normVE_w_all_VE_discrim_performance]\n",
    "normVE_w_stediff_1000 = [normVE_w_all_VE_discrim_performance[elem]['ste_diff_1000'] for elem in normVE_w_all_VE_discrim_performance]\n",
    "\n",
    "normVE_w_discrim_ste_250 = [normVE_w_all_VE_discrim_performance[elem]['discrim_ste_250'] for elem in normVE_w_all_VE_discrim_performance]\n",
    "normVE_w_discrim_ste_1000 = [normVE_w_all_VE_discrim_performance[elem]['discrim_ste_1000'] for elem in normVE_w_all_VE_discrim_performance]"
   ]
  },
  {
   "cell_type": "code",
   "execution_count": 61,
   "metadata": {},
   "outputs": [
    {
     "data": {
      "text/plain": [
       "94"
      ]
     },
     "execution_count": 61,
     "metadata": {},
     "output_type": "execute_result"
    }
   ],
   "source": [
    "len(w_VE_accuracy_250)"
   ]
  },
  {
   "cell_type": "markdown",
   "metadata": {},
   "source": [
    "#### Overall Accuracy"
   ]
  },
  {
   "cell_type": "code",
   "execution_count": 62,
   "metadata": {},
   "outputs": [
    {
     "data": {
      "text/plain": [
       "(0.7127659574468085, 0.7398936170212768)"
      ]
     },
     "execution_count": 62,
     "metadata": {},
     "output_type": "execute_result"
    }
   ],
   "source": [
    "np.mean(w_VE_accuracy_250), np.mean(w_VE_accuracy_1000)"
   ]
  },
  {
   "cell_type": "code",
   "execution_count": 63,
   "metadata": {},
   "outputs": [
    {
     "data": {
      "text/plain": [
       "(0.7078014184397163, 0.7345744680851064)"
      ]
     },
     "execution_count": 63,
     "metadata": {},
     "output_type": "execute_result"
    }
   ],
   "source": [
    "np.mean(normVE_w_VE_accuracy_250), np.mean(normVE_w_VE_accuracy_1000)"
   ]
  },
  {
   "cell_type": "code",
   "execution_count": 64,
   "metadata": {},
   "outputs": [
    {
     "name": "stdout",
     "output_type": "stream",
     "text": [
      "250 ms: Correlation between VE discrimination accuracy and average w/in participant verbal estimate difference\n"
     ]
    },
    {
     "data": {
      "text/plain": [
       "(0.37673018607633213, 0.00018217128380279462)"
      ]
     },
     "execution_count": 64,
     "metadata": {},
     "output_type": "execute_result"
    }
   ],
   "source": [
    "print('250 ms: Correlation between VE discrimination accuracy and average w/in participant verbal estimate difference')\n",
    "stats.pearsonr(w_VE_accuracy_250, w_VE_estim_diff_250)"
   ]
  },
  {
   "cell_type": "code",
   "execution_count": 65,
   "metadata": {},
   "outputs": [
    {
     "name": "stdout",
     "output_type": "stream",
     "text": [
      "250 ms: Correlation between VE discrimination accuracy and average w/in participant normalized verbal estimate difference\n"
     ]
    },
    {
     "data": {
      "text/plain": [
       "(0.39217447441730163, 9.259778766342729e-05)"
      ]
     },
     "execution_count": 65,
     "metadata": {},
     "output_type": "execute_result"
    }
   ],
   "source": [
    "print('250 ms: Correlation between VE discrimination accuracy and average w/in participant normalized verbal estimate difference')\n",
    "stats.pearsonr(normVE_w_VE_accuracy_250, normVE_w_VE_estim_diff_250)"
   ]
  },
  {
   "cell_type": "code",
   "execution_count": 66,
   "metadata": {},
   "outputs": [
    {
     "name": "stdout",
     "output_type": "stream",
     "text": [
      "1000 ms: Correlation between VE discrimination accuracy and average w/in participant verbal estimate difference\n"
     ]
    },
    {
     "data": {
      "text/plain": [
       "(0.21804230039579786, 0.03475633258184831)"
      ]
     },
     "execution_count": 66,
     "metadata": {},
     "output_type": "execute_result"
    }
   ],
   "source": [
    "print('1000 ms: Correlation between VE discrimination accuracy and average w/in participant verbal estimate difference')\n",
    "stats.pearsonr(w_VE_accuracy_1000, w_VE_estim_diff_1000)"
   ]
  },
  {
   "cell_type": "code",
   "execution_count": 67,
   "metadata": {},
   "outputs": [
    {
     "name": "stdout",
     "output_type": "stream",
     "text": [
      "1000 ms: Correlation between VE discrimination accuracy and average w/in participant normalized verbal estimate difference\n"
     ]
    },
    {
     "data": {
      "text/plain": [
       "(0.2702507083510041, 0.00843033117111102)"
      ]
     },
     "execution_count": 67,
     "metadata": {},
     "output_type": "execute_result"
    }
   ],
   "source": [
    "print('1000 ms: Correlation between VE discrimination accuracy and average w/in participant normalized verbal estimate difference')\n",
    "stats.pearsonr(normVE_w_VE_accuracy_1000, normVE_w_VE_estim_diff_1000)"
   ]
  },
  {
   "cell_type": "code",
   "execution_count": 68,
   "metadata": {},
   "outputs": [
    {
     "data": {
      "image/png": "[encoded data removed]",
      "text/plain": [
       "<Figure size 864x432 with 1 Axes>"
      ]
     },
     "metadata": {
      "needs_background": "light"
     },
     "output_type": "display_data"
    }
   ],
   "source": [
    "plt.figure(figsize=[12,6])\n",
    "\n",
    "plt.errorbar(np.array(w_VE_estim_diff_250), np.array(w_VE_accuracy_250), xerr=np.array(w_stediff_250), fmt=\"o\", mec='black', color='green', label='250 ms')\n",
    "plt.errorbar(np.array(w_VE_estim_diff_250), np.array(w_VE_accuracy_250), yerr=np.array(w_discrim_ste_250), fmt=\"o\", mec='black', color='green')\n",
    "\n",
    "\n",
    "plt.errorbar(np.array(w_VE_estim_diff_1000), np.array(w_VE_accuracy_1000), xerr=np.array(w_stediff_1000), fmt=\"o\", mec='black', color='red', label='1000 ms')\n",
    "plt.errorbar(np.array(w_VE_estim_diff_1000), np.array(w_VE_accuracy_1000), yerr=np.array(w_discrim_ste_1000), fmt=\"o\", mec='black', color='red')\n",
    "\n",
    "# plt.plot(np.array(w_VE_estim_diff_1000), np.array(w_VE_accuracy_1000), 'ro', label='1000 ms')\n",
    "plt.xlabel('Average Normalized Verbal Estimate Difference', fontsize=15)\n",
    "plt.ylabel('VE Discrimination Proportion Correct', fontsize = 15)\n",
    "plt.legend(fontsize = 12)\n",
    "plt.title('VE Discrimination Proportion Correct vs Avg W/in Participant Verbal Estimate Difference', fontsize = 18)\n",
    "plt.show();"
   ]
  },
  {
   "cell_type": "code",
   "execution_count": 69,
   "metadata": {},
   "outputs": [
    {
     "name": "stdout",
     "output_type": "stream",
     "text": [
      "m: [0.28300967]\n",
      "b: 0.5564137815004941\n",
      "R-squared:  0.14192563310110795\n"
     ]
    },
    {
     "data": {
      "text/plain": [
       "Text(0.5, 1.0, '250 ms: Accuracy')"
      ]
     },
     "execution_count": 69,
     "metadata": {},
     "output_type": "execute_result"
    },
    {
     "data": {
      "image/png": "[encoded data removed]",
      "text/plain": [
       "<Figure size 576x432 with 1 Axes>"
      ]
     },
     "metadata": {
      "needs_background": "light"
     },
     "output_type": "display_data"
    }
   ],
   "source": [
    "#run regression\n",
    "plt.figure(figsize=[8,6])\n",
    "VE_X_250 = np.array(w_VE_estim_diff_250).reshape(-1,1)\n",
    "VE_PC_250 = w_VE_accuracy_250\n",
    "VE_PC_reg_250 = LinearRegression().fit(VE_X_250, VE_PC_250)\n",
    "\n",
    "#Generated Predictions\n",
    "PC_predicted_250 = VE_PC_reg_250.predict(VE_X_250)\n",
    "#Plot Our Actual and Predicted Values\n",
    "plt.errorbar(VE_X_250, VE_PC_250,fmt='o', color='chocolate', alpha = 0.3, xerr = np.array(w_stediff_250));\n",
    "plt.errorbar(VE_X_250, VE_PC_250,fmt='o', color='chocolate', alpha = 0.3, yerr = np.array(w_discrim_ste_250));\n",
    "# plt.plot(VE_X_250, VE_PC_250, 'o', color='chocolate', alpha = 0.3);\n",
    "plt.plot(VE_X_250, PC_predicted_250,color='chocolate', label = 'm = ' + str(round(VE_PC_reg_250.coef_[0], 3))\n",
    "         + '     r-squared = ' + str(round(float(VE_PC_reg_250.score(VE_X_250, VE_PC_250)), 3)))\n",
    "plt.xlabel(\"Average Normalized Verbal Estimate Difference (m)\", fontsize = 15)\n",
    "plt.ylabel(\"VE Discrimination Proportion Correct\", fontsize = 15)\n",
    "\n",
    "#get coefficients and y intercept\n",
    "print(\"m: {0}\".format(VE_PC_reg_250.coef_))\n",
    "print(\"b: {0}\".format(VE_PC_reg_250.intercept_))\n",
    "\n",
    "#Returns the coefficient of determination R^2 of the prediction.\n",
    "print(\"R-squared: \", VE_PC_reg_250.score(VE_X_250, VE_PC_250))\n",
    "\n",
    "\n",
    "legend = plt.legend(loc = 4, fontsize = 13, borderpad = 0.6, labelspacing = 1)\n",
    "legend.get_frame().set_facecolor('lightgray')\n",
    "\n",
    "plt.title(\"250 ms: Accuracy\", fontsize = 20)\n"
   ]
  },
  {
   "cell_type": "code",
   "execution_count": null,
   "metadata": {},
   "outputs": [],
   "source": []
  },
  {
   "cell_type": "code",
   "execution_count": 70,
   "metadata": {},
   "outputs": [
    {
     "name": "stdout",
     "output_type": "stream",
     "text": [
      "m: [0.10949703]\n",
      "b: 0.6665291580806867\n",
      "R-squared:  0.04754244476189129\n"
     ]
    },
    {
     "data": {
      "image/png": "[encoded data removed]",
      "text/plain": [
       "<Figure size 576x432 with 1 Axes>"
      ]
     },
     "metadata": {
      "needs_background": "light"
     },
     "output_type": "display_data"
    }
   ],
   "source": [
    "plt.figure(figsize=[8,6])\n",
    "\n",
    "VE_X_1000 = np.array(w_VE_estim_diff_1000).reshape(-1,1)\n",
    "VE_PC_1000 = w_VE_accuracy_1000\n",
    "VE_PC_reg_1000 = LinearRegression().fit(VE_X_1000, VE_PC_1000)\n",
    "\n",
    "#Generated Predictions\n",
    "PC_predicted_1000 = VE_PC_reg_1000.predict(VE_X_1000)\n",
    "#Plot Our Actual and Predicted Values\n",
    "\n",
    "plt.errorbar(VE_X_1000, VE_PC_1000,fmt='o', color='darkviolet', alpha = 0.3, xerr = np.array(w_stediff_1000));\n",
    "plt.errorbar(VE_X_1000, VE_PC_1000,fmt='o', color='darkviolet', alpha = 0.3, yerr = np.array(w_discrim_ste_1000));\n",
    "\n",
    "# plt.plot(VE_X_1000, VE_PC_1000, 'o', color='darkviolet', alpha = 0.3);\n",
    "plt.plot(VE_X_1000, PC_predicted_1000,color='darkviolet', label = '1000 ms: m = ' + str(round(VE_PC_reg_1000.coef_[0], 3))\n",
    "         + '     r-squared = ' + str(round(float(VE_PC_reg_1000.score(VE_X_1000, VE_PC_1000)), 3)))\n",
    "\n",
    "legend = plt.legend(loc = 4, fontsize = 13, borderpad = 0.6, labelspacing = 1)\n",
    "legend.get_frame().set_facecolor('lightgray')\n",
    "\n",
    "#get coefficients and y intercept\n",
    "print(\"m: {0}\".format(VE_PC_reg_1000.coef_))\n",
    "print(\"b: {0}\".format(VE_PC_reg_1000.intercept_))\n",
    "\n",
    "#Returns the coefficient of determination R^2 of the prediction.\n",
    "print(\"R-squared: \", VE_PC_reg_1000.score(VE_X_1000, VE_PC_1000))\n",
    "\n",
    "plt.xlabel(\"Average Normalized Verbal Estimate Difference (m)\", fontsize = 15)\n",
    "plt.ylabel(\"VE Discrimination Proportion Correct\", fontsize = 15)\n",
    "\n",
    "\n",
    "plt.title(\"1000 ms: Accuracy\", fontsize = 20)\n",
    "\n",
    "plt.show();"
   ]
  },
  {
   "cell_type": "code",
   "execution_count": 71,
   "metadata": {},
   "outputs": [
    {
     "data": {
      "text/plain": [
       "(0.29678303484055285, 0.003676475804120126)"
      ]
     },
     "execution_count": 71,
     "metadata": {},
     "output_type": "execute_result"
    }
   ],
   "source": [
    "stats.pearsonr(w_VE_accuracy_250, w_VE_accuracy_1000)"
   ]
  },
  {
   "cell_type": "code",
   "execution_count": null,
   "metadata": {},
   "outputs": [],
   "source": []
  },
  {
   "cell_type": "code",
   "execution_count": 72,
   "metadata": {},
   "outputs": [
    {
     "data": {
      "image/png": "[encoded data removed]",
      "text/plain": [
       "<Figure size 504x504 with 1 Axes>"
      ]
     },
     "metadata": {
      "needs_background": "light"
     },
     "output_type": "display_data"
    }
   ],
   "source": [
    "plt.figure(figsize=[7,7])\n",
    "plt.xlabel('PC @ 250 ms', fontsize=15)\n",
    "plt.ylabel('PC @ 1000 ms', fontsize=15)\n",
    "\n",
    "plt.errorbar(w_VE_accuracy_250, w_VE_accuracy_1000, fmt='o', color='black', alpha = 0.3, xerr = np.array(w_discrim_ste_250));\n",
    "plt.errorbar(w_VE_accuracy_250, w_VE_accuracy_1000, fmt='o', color='black', alpha = 0.3, yerr = np.array(w_discrim_ste_1000));\n",
    "\n",
    "\n",
    "plt.plot(w_VE_accuracy_250,w_VE_accuracy_1000, 'o' )\n",
    "plt.title('Discrimination Proportion Correct', fontsize = 18)\n",
    "plt.show();"
   ]
  },
  {
   "cell_type": "code",
   "execution_count": 73,
   "metadata": {},
   "outputs": [
    {
     "data": {
      "image/png": "[encoded data removed]",
      "text/plain": [
       "<Figure size 864x864 with 1 Axes>"
      ]
     },
     "metadata": {
      "needs_background": "light"
     },
     "output_type": "display_data"
    }
   ],
   "source": [
    "plt.figure(figsize=[12,12])\n",
    "plt.xlabel('VE Diff @ 250 ms', fontsize=15)\n",
    "plt.ylabel('VE Diff @ 1000 ms', fontsize=15)\n",
    "\n",
    "plt.errorbar(w_VE_estim_diff_250, w_VE_estim_diff_1000, fmt='o', color='black', alpha = 0.3, xerr = np.array(w_stediff_250));\n",
    "plt.errorbar(w_VE_estim_diff_250, w_VE_estim_diff_1000, fmt='o', color='black', alpha = 0.3, yerr = np.array(w_stediff_1000));\n",
    "\n",
    "plt.title('Average Verbal Estimate Difference', fontsize = 18)\n",
    "plt.show();"
   ]
  },
  {
   "cell_type": "markdown",
   "metadata": {},
   "source": [
    "# UPDATED REGRESSOR: Difference between verbal judgements divided by joint variance "
   ]
  },
  {
   "cell_type": "code",
   "execution_count": 74,
   "metadata": {},
   "outputs": [
    {
     "name": "stdout",
     "output_type": "stream",
     "text": [
      "250 ms: Correlation between VE discrimination accuracy and difference between w/in participant verbal judgements divided by joint variance \n"
     ]
    },
    {
     "data": {
      "text/plain": [
       "(0.3625913039631241, 0.00032884697514883325)"
      ]
     },
     "execution_count": 74,
     "metadata": {},
     "output_type": "execute_result"
    }
   ],
   "source": [
    "print('250 ms: Correlation between VE discrimination accuracy and difference between w/in participant verbal judgements divided by joint variance ')\n",
    "stats.pearsonr(w_VE_accuracy_250, w_JV_250)"
   ]
  },
  {
   "cell_type": "code",
   "execution_count": 75,
   "metadata": {},
   "outputs": [
    {
     "name": "stdout",
     "output_type": "stream",
     "text": [
      "1000 ms: Correlation between VE discrimination accuracy and difference between w/in participant divided by joint variance \n"
     ]
    },
    {
     "data": {
      "text/plain": [
       "(0.37602747890677424, 0.00018771866980466653)"
      ]
     },
     "execution_count": 75,
     "metadata": {},
     "output_type": "execute_result"
    }
   ],
   "source": [
    "print('1000 ms: Correlation between VE discrimination accuracy and difference between w/in participant divided by joint variance ')\n",
    "stats.pearsonr(w_VE_accuracy_1000, w_JV_1000)"
   ]
  },
  {
   "cell_type": "code",
   "execution_count": 91,
   "metadata": {},
   "outputs": [
    {
     "name": "stdout",
     "output_type": "stream",
     "text": [
      "m: [0.376139]\n",
      "b: 0.5893055579619568\n",
      "R-squared:  0.13147245370967908\n"
     ]
    },
    {
     "data": {
      "text/plain": [
       "Text(0.5, 1.0, '250 ms')"
      ]
     },
     "execution_count": 91,
     "metadata": {},
     "output_type": "execute_result"
    },
    {
     "data": {
      "image/png": "[encoded data removed]",
      "text/plain": [
       "<Figure size 576x432 with 1 Axes>"
      ]
     },
     "metadata": {
      "needs_background": "light"
     },
     "output_type": "display_data"
    }
   ],
   "source": [
    "#run regression\n",
    "plt.figure(figsize=[8,6])\n",
    "JV_X_250 = np.array(w_JV_250).reshape(-1,1)\n",
    "VE_PC_250 = w_VE_accuracy_250\n",
    "JV_PC_reg_250 = LinearRegression().fit(JV_X_250, VE_PC_250)\n",
    "\n",
    "#Generated Predictions\n",
    "JV_PC_predicted_250 = JV_PC_reg_250.predict(JV_X_250)\n",
    "#Plot Our Actual and Predicted Values\n",
    "plt.errorbar(JV_X_250, VE_PC_250,fmt='o', color='chocolate', alpha = 0.3, yerr = np.array(w_discrim_ste_250));\n",
    "# plt.plot(JV_X_250, VE_PC_250, 'o', color='chocolate', alpha = 0.3);\n",
    "plt.plot(JV_X_250, JV_PC_predicted_250,color='chocolate', label = 'm = ' + str(round(JV_PC_reg_250.coef_[0], 3))\n",
    "         + '     r-squared = ' + str(round(float(JV_PC_reg_250.score(JV_X_250, VE_PC_250)), 3)))\n",
    "plt.xlabel(\"Difference between normalized verbal judgements divided by joint variance\", fontsize = 15)\n",
    "plt.ylabel(\"VE Discrimination Proportion Correct\", fontsize = 15)\n",
    "\n",
    "#get coefficients and y intercept\n",
    "print(\"m: {0}\".format(JV_PC_reg_250.coef_))\n",
    "print(\"b: {0}\".format(JV_PC_reg_250.intercept_))\n",
    "\n",
    "#Returns the coefficient of determination R^2 of the prediction.\n",
    "print(\"R-squared: \", JV_PC_reg_250.score(JV_X_250, VE_PC_250))\n",
    "\n",
    "\n",
    "legend = plt.legend(loc = 4, fontsize = 13, borderpad = 0.6, labelspacing = 1)\n",
    "legend.get_frame().set_facecolor('lightgray')\n",
    "\n",
    "plt.title(\"250 ms\", fontsize = 20)\n"
   ]
  },
  {
   "cell_type": "code",
   "execution_count": 77,
   "metadata": {},
   "outputs": [
    {
     "name": "stdout",
     "output_type": "stream",
     "text": [
      "m: [0.38195715]\n",
      "b: 0.6066641470237613\n",
      "R-squared:  0.1413966648929844\n"
     ]
    },
    {
     "data": {
      "text/plain": [
       "Text(0.5, 1.0, '1000 ms')"
      ]
     },
     "execution_count": 77,
     "metadata": {},
     "output_type": "execute_result"
    },
    {
     "data": {
      "image/png": "[encoded data removed]",
      "text/plain": [
       "<Figure size 576x432 with 1 Axes>"
      ]
     },
     "metadata": {
      "needs_background": "light"
     },
     "output_type": "display_data"
    }
   ],
   "source": [
    "#run regression\n",
    "plt.figure(figsize=[8,6])\n",
    "JV_X_1000 = np.array(w_JV_1000).reshape(-1,1)\n",
    "VE_PC_1000 = w_VE_accuracy_1000\n",
    "JV_PC_reg_1000 = LinearRegression().fit(JV_X_1000, VE_PC_1000)\n",
    "\n",
    "#Generated Predictions\n",
    "JV_PC_predicted_1000 = JV_PC_reg_1000.predict(JV_X_1000)\n",
    "#Plot Our Actual and Predicted Values\n",
    "plt.errorbar(JV_X_1000, VE_PC_1000,fmt='o', color='darkviolet', alpha = 0.3, yerr = np.array(w_discrim_ste_1000));\n",
    "# plt.plot(JV_X_1000, VE_PC_1000, 'o', color='darkviolet', alpha = 0.3);\n",
    "plt.plot(JV_X_1000, JV_PC_predicted_1000,color='darkviolet', label = 'm = ' + str(round(JV_PC_reg_1000.coef_[0], 3))\n",
    "         + '     r-squared = ' + str(round(float(JV_PC_reg_1000.score(JV_X_1000, VE_PC_1000)), 3)))\n",
    "plt.xlabel(\"Difference between normalized verbal judgements divided by joint variance\", fontsize = 15)\n",
    "plt.ylabel(\"VE Discrimination Proportion Correct\", fontsize = 15)\n",
    "\n",
    "#get coefficients and y intercept\n",
    "print(\"m: {0}\".format(JV_PC_reg_1000.coef_))\n",
    "print(\"b: {0}\".format(JV_PC_reg_1000.intercept_))\n",
    "\n",
    "#Returns the coefficient of determination R^2 of the prediction.\n",
    "print(\"R-squared: \", JV_PC_reg_1000.score(JV_X_1000, VE_PC_1000))\n",
    "\n",
    "\n",
    "legend = plt.legend(loc = 4, fontsize = 13, borderpad = 0.6, labelspacing = 1)\n",
    "legend.get_frame().set_facecolor('lightgray')\n",
    "\n",
    "plt.title(\"1000 ms\", fontsize = 20)\n"
   ]
  },
  {
   "cell_type": "code",
   "execution_count": 78,
   "metadata": {},
   "outputs": [
    {
     "name": "stdout",
     "output_type": "stream",
     "text": [
      "(0.5293088079363867, 4.136458499502668e-08)\n"
     ]
    },
    {
     "data": {
      "image/png": "[encoded data removed]",
      "text/plain": [
       "<Figure size 504x504 with 1 Axes>"
      ]
     },
     "metadata": {
      "needs_background": "light"
     },
     "output_type": "display_data"
    }
   ],
   "source": [
    "print(stats.pearsonr(w_JV_250, w_JV_1000))\n",
    "plt.figure(figsize=[7,7])\n",
    "plt.xlabel('250 ms', fontsize=15)\n",
    "plt.ylabel('1000 ms', fontsize=15)\n",
    "plt.plot(w_JV_250,w_JV_1000, 'o' )\n",
    "plt.show();\n",
    "\n"
   ]
  },
  {
   "cell_type": "code",
   "execution_count": null,
   "metadata": {},
   "outputs": [],
   "source": []
  },
  {
   "cell_type": "code",
   "execution_count": 79,
   "metadata": {},
   "outputs": [
    {
     "name": "stdout",
     "output_type": "stream",
     "text": [
      "250 ms: Correlation between average discrimination RT and difference between verbal judgements divided by joint variance \n"
     ]
    },
    {
     "data": {
      "text/plain": [
       "(-0.2743628743868176, 0.007450363208669877)"
      ]
     },
     "execution_count": 79,
     "metadata": {},
     "output_type": "execute_result"
    }
   ],
   "source": [
    "print('250 ms: Correlation between average discrimination RT and difference between verbal judgements divided by joint variance ')\n",
    "stats.pearsonr(w_avg_RT_250, w_JV_250)"
   ]
  },
  {
   "cell_type": "code",
   "execution_count": 80,
   "metadata": {},
   "outputs": [
    {
     "name": "stdout",
     "output_type": "stream",
     "text": [
      "1000 ms: Correlation between average discrimination RT and difference between verbal judgements divided by joint variance \n"
     ]
    },
    {
     "data": {
      "text/plain": [
       "(-0.12653357994842385, 0.22426477593989874)"
      ]
     },
     "execution_count": 80,
     "metadata": {},
     "output_type": "execute_result"
    }
   ],
   "source": [
    "print('1000 ms: Correlation between average discrimination RT and difference between verbal judgements divided by joint variance ')\n",
    "stats.pearsonr(w_avg_RT_1000, w_JV_1000)"
   ]
  },
  {
   "cell_type": "code",
   "execution_count": 81,
   "metadata": {},
   "outputs": [
    {
     "name": "stdout",
     "output_type": "stream",
     "text": [
      "m: [-169.17049775]\n",
      "b: 1098.292035935973\n",
      "R-squared:  0.07527498684179668\n"
     ]
    },
    {
     "data": {
      "text/plain": [
       "Text(0.5, 1.0, '250 ms: RT')"
      ]
     },
     "execution_count": 81,
     "metadata": {},
     "output_type": "execute_result"
    },
    {
     "data": {
      "image/png": "[encoded data removed]",
      "text/plain": [
       "<Figure size 576x432 with 1 Axes>"
      ]
     },
     "metadata": {
      "needs_background": "light"
     },
     "output_type": "display_data"
    }
   ],
   "source": [
    "#run regression\n",
    "plt.figure(figsize=[8,6])\n",
    "JV_X_250 = np.array(w_JV_250).reshape(-1,1)\n",
    "VE_PC_250 = w_avg_RT_250\n",
    "JV_PC_reg_250 = LinearRegression().fit(JV_X_250, VE_PC_250)\n",
    "\n",
    "#Generated Predictions\n",
    "JV_PC_predicted_250 = JV_PC_reg_250.predict(JV_X_250)\n",
    "#Plot Our Actual and Predicted Values\n",
    "plt.plot(JV_X_250, VE_PC_250, 'o', color='chocolate', alpha = 0.3);\n",
    "plt.plot(JV_X_250, JV_PC_predicted_250,color='chocolate', label = 'm = ' + str(round(JV_PC_reg_250.coef_[0], 3))\n",
    "         + '     r-squared = ' + str(round(float(JV_PC_reg_250.score(JV_X_250, VE_PC_250)), 3)))\n",
    "plt.xlabel(\"Difference between normalized verbal judgements divided by joint variance\", fontsize = 15)\n",
    "plt.ylabel(\"RT (ms)\", fontsize = 15)\n",
    "\n",
    "#get coefficients and y intercept\n",
    "print(\"m: {0}\".format(JV_PC_reg_250.coef_))\n",
    "print(\"b: {0}\".format(JV_PC_reg_250.intercept_))\n",
    "\n",
    "#Returns the coefficient of determination R^2 of the prediction.\n",
    "print(\"R-squared: \", JV_PC_reg_250.score(JV_X_250, VE_PC_250))\n",
    "\n",
    "\n",
    "legend = plt.legend(loc = 4, fontsize = 13, borderpad = 0.6, labelspacing = 1)\n",
    "legend.get_frame().set_facecolor('lightgray')\n",
    "\n",
    "plt.title(\"250 ms: RT\", fontsize = 20)"
   ]
  },
  {
   "cell_type": "code",
   "execution_count": 82,
   "metadata": {},
   "outputs": [
    {
     "name": "stdout",
     "output_type": "stream",
     "text": [
      "m: [-67.26832224]\n",
      "b: 1000.4303536264364\n",
      "R-squared:  0.016010746854564273\n"
     ]
    },
    {
     "data": {
      "text/plain": [
       "Text(0.5, 1.0, '1000 ms: RT')"
      ]
     },
     "execution_count": 82,
     "metadata": {},
     "output_type": "execute_result"
    },
    {
     "data": {
      "image/png": "[encoded data removed]",
      "text/plain": [
       "<Figure size 576x432 with 1 Axes>"
      ]
     },
     "metadata": {
      "needs_background": "light"
     },
     "output_type": "display_data"
    }
   ],
   "source": [
    "#run regression\n",
    "plt.figure(figsize=[8,6])\n",
    "JV_X_1000 = np.array(w_JV_1000).reshape(-1,1)\n",
    "VE_PC_1000 = w_avg_RT_1000\n",
    "JV_PC_reg_1000 = LinearRegression().fit(JV_X_1000, VE_PC_1000)\n",
    "\n",
    "#Generated Predictions\n",
    "JV_PC_predicted_1000 = JV_PC_reg_1000.predict(JV_X_1000)\n",
    "#Plot Our Actual and Predicted Values\n",
    "plt.plot(JV_X_1000, VE_PC_1000, 'o', color='darkviolet', alpha = 0.3);\n",
    "plt.plot(JV_X_1000, JV_PC_predicted_1000,color='darkviolet', label = 'm = ' + str(round(JV_PC_reg_1000.coef_[0], 3))\n",
    "         + '     r-squared = ' + str(round(float(JV_PC_reg_1000.score(JV_X_1000, VE_PC_1000)), 3)))\n",
    "plt.xlabel(\"Difference between normalized verbal judgements divided by joint variance\", fontsize = 15)\n",
    "plt.ylabel(\"RT (ms)\", fontsize = 15)\n",
    "\n",
    "#get coefficients and y intercept\n",
    "print(\"m: {0}\".format(JV_PC_reg_1000.coef_))\n",
    "print(\"b: {0}\".format(JV_PC_reg_1000.intercept_))\n",
    "\n",
    "#Returns the coefficient of determination R^2 of the prediction.\n",
    "print(\"R-squared: \", JV_PC_reg_1000.score(JV_X_1000, VE_PC_1000))\n",
    "\n",
    "\n",
    "legend = plt.legend(loc = 4, fontsize = 13, borderpad = 0.6, labelspacing = 1)\n",
    "legend.get_frame().set_facecolor('lightgray')\n",
    "\n",
    "plt.title(\"1000 ms: RT\", fontsize = 20)"
   ]
  },
  {
   "cell_type": "code",
   "execution_count": null,
   "metadata": {},
   "outputs": [],
   "source": []
  },
  {
   "cell_type": "markdown",
   "metadata": {},
   "source": [
    "## Inverse Efficiency Score"
   ]
  },
  {
   "cell_type": "markdown",
   "metadata": {},
   "source": [
    "It is calculated by dividing RT by 1 – the proportion of Errors (PE), or the proportion of correct responses (PC).\n",
    "\n",
    "https://www.readcube.com/articles/10.5334/pb-51-1-5"
   ]
  },
  {
   "cell_type": "code",
   "execution_count": 83,
   "metadata": {},
   "outputs": [],
   "source": [
    "def inverse_efficiency_score(PC, RT):\n",
    "    \"\"\"\n",
    "    Input:\n",
    "        PC - proportion correct\n",
    "        RT - reaction time \n",
    "    Output:\n",
    "        ies - inverse efficiency score\n",
    "    \"\"\"\n",
    "    \n",
    "    ies = RT / PC\n",
    "    \n",
    "    return ies"
   ]
  },
  {
   "cell_type": "code",
   "execution_count": 84,
   "metadata": {},
   "outputs": [
    {
     "ename": "KeyError",
     "evalue": "'depth_discrimination_stimuli/001618_2014-06-20_11-37-31_260595134347_rgbf000027-resize_3/001618_2014-06-20_11-37-31_260595134347_rgbf000027-resize_3-target.png'",
     "output_type": "error",
     "traceback": [
      "\u001b[0;31m---------------------------------------------------------------------------\u001b[0m",
      "\u001b[0;31mKeyError\u001b[0m                                  Traceback (most recent call last)",
      "\u001b[0;32m<ipython-input-84-e1c9ed2f462c>\u001b[0m in \u001b[0;36m<module>\u001b[0;34m\u001b[0m\n\u001b[0;32m----> 1\u001b[0;31m \u001b[0mw_all_VE_discrim_performance\u001b[0m\u001b[0;34m[\u001b[0m\u001b[0;34m'depth_discrimination_stimuli/001618_2014-06-20_11-37-31_260595134347_rgbf000027-resize_3/001618_2014-06-20_11-37-31_260595134347_rgbf000027-resize_3-target.png'\u001b[0m\u001b[0;34m]\u001b[0m\u001b[0;34m\u001b[0m\u001b[0m\n\u001b[0m",
      "\u001b[0;31mKeyError\u001b[0m: 'depth_discrimination_stimuli/001618_2014-06-20_11-37-31_260595134347_rgbf000027-resize_3/001618_2014-06-20_11-37-31_260595134347_rgbf000027-resize_3-target.png'"
     ]
    }
   ],
   "source": [
    "w_all_VE_discrim_performance['depth_discrimination_stimuli/001618_2014-06-20_11-37-31_260595134347_rgbf000027-resize_3/001618_2014-06-20_11-37-31_260595134347_rgbf000027-resize_3-target.png']"
   ]
  },
  {
   "cell_type": "code",
   "execution_count": 85,
   "metadata": {},
   "outputs": [
    {
     "name": "stderr",
     "output_type": "stream",
     "text": [
      "/Users/prachi/Documents/depth_duration/experiment/lib/python3.6/site-packages/ipykernel_launcher.py:10: RuntimeWarning: divide by zero encountered in double_scalars\n",
      "  # Remove the CWD from sys.path while we load stuff.\n"
     ]
    }
   ],
   "source": [
    "ies_250 = [inverse_efficiency_score(w_all_VE_discrim_performance[key]['accuracy_250'][0], w_all_VE_discrim_performance[key]['RT_250'][1]) for key in w_all_VE_discrim_performance]\n",
    "\n",
    "ies_1000 = [inverse_efficiency_score(w_all_VE_discrim_performance[key]['accuracy_1000'][0], w_all_VE_discrim_performance[key]['RT_1000'][1]) for key in w_all_VE_discrim_performance]\n"
   ]
  },
  {
   "cell_type": "code",
   "execution_count": 86,
   "metadata": {},
   "outputs": [],
   "source": [
    "depthdiff_250 = np.array([w_all_VE_discrim_performance[key]['VE_depthdifference_250'] for key in w_all_VE_discrim_performance])\n",
    "depthdiff_1000 = np.array([w_all_VE_discrim_performance[key]['VE_depthdifference_1000'] for key in w_all_VE_discrim_performance])\n"
   ]
  },
  {
   "cell_type": "code",
   "execution_count": 87,
   "metadata": {},
   "outputs": [
    {
     "data": {
      "image/png": "[encoded data removed]",
      "text/plain": [
       "<Figure size 504x360 with 1 Axes>"
      ]
     },
     "metadata": {
      "needs_background": "light"
     },
     "output_type": "display_data"
    }
   ],
   "source": [
    "plt.figure(figsize=[7,5])\n",
    "plt.plot(depthdiff_250, np.array(ies_250), 'o', color='orange', alpha = 0.9, label='250 ms')\n",
    "plt.plot(depthdiff_1000, np.array(ies_1000), 'o', color='green', alpha = 0.9, label='1000 ms')\n",
    "plt.xlabel('VE Coded Depth Difference of Trial Targets (m)', fontsize = 12)\n",
    "plt.ylabel('IES (ms)', fontsize = 12)\n",
    "plt.legend(loc='upper right')\n",
    "plt.title('IES vs VE Coded Depth Difference', fontsize=16)\n",
    "plt.show();\n",
    "\n"
   ]
  },
  {
   "cell_type": "code",
   "execution_count": 88,
   "metadata": {},
   "outputs": [
    {
     "ename": "ValueError",
     "evalue": "supplied range of [777.0, inf] is not finite",
     "output_type": "error",
     "traceback": [
      "\u001b[0;31m---------------------------------------------------------------------------\u001b[0m",
      "\u001b[0;31mValueError\u001b[0m                                Traceback (most recent call last)",
      "\u001b[0;32m<ipython-input-88-d70331dfc842>\u001b[0m in \u001b[0;36m<module>\u001b[0;34m\u001b[0m\n\u001b[1;32m      2\u001b[0m \u001b[0mplt\u001b[0m\u001b[0;34m.\u001b[0m\u001b[0mxlabel\u001b[0m\u001b[0;34m(\u001b[0m\u001b[0;34m'IES (ms)'\u001b[0m\u001b[0;34m)\u001b[0m\u001b[0;34m\u001b[0m\u001b[0m\n\u001b[1;32m      3\u001b[0m \u001b[0mplt\u001b[0m\u001b[0;34m.\u001b[0m\u001b[0mylabel\u001b[0m\u001b[0;34m(\u001b[0m\u001b[0;34m'count'\u001b[0m\u001b[0;34m)\u001b[0m\u001b[0;34m\u001b[0m\u001b[0m\n\u001b[0;32m----> 4\u001b[0;31m \u001b[0mplt\u001b[0m\u001b[0;34m.\u001b[0m\u001b[0mhist\u001b[0m\u001b[0;34m(\u001b[0m\u001b[0mnp\u001b[0m\u001b[0;34m.\u001b[0m\u001b[0marray\u001b[0m\u001b[0;34m(\u001b[0m\u001b[0mies_250\u001b[0m\u001b[0;34m)\u001b[0m\u001b[0;34m,\u001b[0m \u001b[0mcolor\u001b[0m\u001b[0;34m=\u001b[0m\u001b[0;34m'orange'\u001b[0m\u001b[0;34m)\u001b[0m\u001b[0;34m\u001b[0m\u001b[0m\n\u001b[0m\u001b[1;32m      5\u001b[0m \u001b[0mplt\u001b[0m\u001b[0;34m.\u001b[0m\u001b[0mshow\u001b[0m\u001b[0;34m(\u001b[0m\u001b[0;34m)\u001b[0m\u001b[0;34m;\u001b[0m\u001b[0;34m\u001b[0m\u001b[0m\n",
      "\u001b[0;32m~/Documents/depth_duration/experiment/lib/python3.6/site-packages/matplotlib/pyplot.py\u001b[0m in \u001b[0;36mhist\u001b[0;34m(x, bins, range, density, weights, cumulative, bottom, histtype, align, orientation, rwidth, log, color, label, stacked, data, **kwargs)\u001b[0m\n\u001b[1;32m   2688\u001b[0m         \u001b[0malign\u001b[0m\u001b[0;34m=\u001b[0m\u001b[0malign\u001b[0m\u001b[0;34m,\u001b[0m \u001b[0morientation\u001b[0m\u001b[0;34m=\u001b[0m\u001b[0morientation\u001b[0m\u001b[0;34m,\u001b[0m \u001b[0mrwidth\u001b[0m\u001b[0;34m=\u001b[0m\u001b[0mrwidth\u001b[0m\u001b[0;34m,\u001b[0m \u001b[0mlog\u001b[0m\u001b[0;34m=\u001b[0m\u001b[0mlog\u001b[0m\u001b[0;34m,\u001b[0m\u001b[0;34m\u001b[0m\u001b[0m\n\u001b[1;32m   2689\u001b[0m         \u001b[0mcolor\u001b[0m\u001b[0;34m=\u001b[0m\u001b[0mcolor\u001b[0m\u001b[0;34m,\u001b[0m \u001b[0mlabel\u001b[0m\u001b[0;34m=\u001b[0m\u001b[0mlabel\u001b[0m\u001b[0;34m,\u001b[0m \u001b[0mstacked\u001b[0m\u001b[0;34m=\u001b[0m\u001b[0mstacked\u001b[0m\u001b[0;34m,\u001b[0m\u001b[0;34m\u001b[0m\u001b[0m\n\u001b[0;32m-> 2690\u001b[0;31m         **({\"data\": data} if data is not None else {}), **kwargs)\n\u001b[0m\u001b[1;32m   2691\u001b[0m \u001b[0;34m\u001b[0m\u001b[0m\n\u001b[1;32m   2692\u001b[0m \u001b[0;34m\u001b[0m\u001b[0m\n",
      "\u001b[0;32m~/Documents/depth_duration/experiment/lib/python3.6/site-packages/matplotlib/__init__.py\u001b[0m in \u001b[0;36minner\u001b[0;34m(ax, data, *args, **kwargs)\u001b[0m\n\u001b[1;32m   1436\u001b[0m     \u001b[0;32mdef\u001b[0m \u001b[0minner\u001b[0m\u001b[0;34m(\u001b[0m\u001b[0max\u001b[0m\u001b[0;34m,\u001b[0m \u001b[0;34m*\u001b[0m\u001b[0margs\u001b[0m\u001b[0;34m,\u001b[0m \u001b[0mdata\u001b[0m\u001b[0;34m=\u001b[0m\u001b[0;32mNone\u001b[0m\u001b[0;34m,\u001b[0m \u001b[0;34m**\u001b[0m\u001b[0mkwargs\u001b[0m\u001b[0;34m)\u001b[0m\u001b[0;34m:\u001b[0m\u001b[0;34m\u001b[0m\u001b[0m\n\u001b[1;32m   1437\u001b[0m         \u001b[0;32mif\u001b[0m \u001b[0mdata\u001b[0m \u001b[0;32mis\u001b[0m \u001b[0;32mNone\u001b[0m\u001b[0;34m:\u001b[0m\u001b[0;34m\u001b[0m\u001b[0m\n\u001b[0;32m-> 1438\u001b[0;31m             \u001b[0;32mreturn\u001b[0m \u001b[0mfunc\u001b[0m\u001b[0;34m(\u001b[0m\u001b[0max\u001b[0m\u001b[0;34m,\u001b[0m \u001b[0;34m*\u001b[0m\u001b[0mmap\u001b[0m\u001b[0;34m(\u001b[0m\u001b[0msanitize_sequence\u001b[0m\u001b[0;34m,\u001b[0m \u001b[0margs\u001b[0m\u001b[0;34m)\u001b[0m\u001b[0;34m,\u001b[0m \u001b[0;34m**\u001b[0m\u001b[0mkwargs\u001b[0m\u001b[0;34m)\u001b[0m\u001b[0;34m\u001b[0m\u001b[0m\n\u001b[0m\u001b[1;32m   1439\u001b[0m \u001b[0;34m\u001b[0m\u001b[0m\n\u001b[1;32m   1440\u001b[0m         \u001b[0mbound\u001b[0m \u001b[0;34m=\u001b[0m \u001b[0mnew_sig\u001b[0m\u001b[0;34m.\u001b[0m\u001b[0mbind\u001b[0m\u001b[0;34m(\u001b[0m\u001b[0max\u001b[0m\u001b[0;34m,\u001b[0m \u001b[0;34m*\u001b[0m\u001b[0margs\u001b[0m\u001b[0;34m,\u001b[0m \u001b[0;34m**\u001b[0m\u001b[0mkwargs\u001b[0m\u001b[0;34m)\u001b[0m\u001b[0;34m\u001b[0m\u001b[0m\n",
      "\u001b[0;32m~/Documents/depth_duration/experiment/lib/python3.6/site-packages/matplotlib/axes/_axes.py\u001b[0m in \u001b[0;36mhist\u001b[0;34m(self, x, bins, range, density, weights, cumulative, bottom, histtype, align, orientation, rwidth, log, color, label, stacked, **kwargs)\u001b[0m\n\u001b[1;32m   6654\u001b[0m             \u001b[0;31m# this will automatically overwrite bins,\u001b[0m\u001b[0;34m\u001b[0m\u001b[0;34m\u001b[0m\u001b[0m\n\u001b[1;32m   6655\u001b[0m             \u001b[0;31m# so that each histogram uses the same bins\u001b[0m\u001b[0;34m\u001b[0m\u001b[0;34m\u001b[0m\u001b[0m\n\u001b[0;32m-> 6656\u001b[0;31m             \u001b[0mm\u001b[0m\u001b[0;34m,\u001b[0m \u001b[0mbins\u001b[0m \u001b[0;34m=\u001b[0m \u001b[0mnp\u001b[0m\u001b[0;34m.\u001b[0m\u001b[0mhistogram\u001b[0m\u001b[0;34m(\u001b[0m\u001b[0mx\u001b[0m\u001b[0;34m[\u001b[0m\u001b[0mi\u001b[0m\u001b[0;34m]\u001b[0m\u001b[0;34m,\u001b[0m \u001b[0mbins\u001b[0m\u001b[0;34m,\u001b[0m \u001b[0mweights\u001b[0m\u001b[0;34m=\u001b[0m\u001b[0mw\u001b[0m\u001b[0;34m[\u001b[0m\u001b[0mi\u001b[0m\u001b[0;34m]\u001b[0m\u001b[0;34m,\u001b[0m \u001b[0;34m**\u001b[0m\u001b[0mhist_kwargs\u001b[0m\u001b[0;34m)\u001b[0m\u001b[0;34m\u001b[0m\u001b[0m\n\u001b[0m\u001b[1;32m   6657\u001b[0m             \u001b[0mtops\u001b[0m\u001b[0;34m.\u001b[0m\u001b[0mappend\u001b[0m\u001b[0;34m(\u001b[0m\u001b[0mm\u001b[0m\u001b[0;34m)\u001b[0m\u001b[0;34m\u001b[0m\u001b[0m\n\u001b[1;32m   6658\u001b[0m         \u001b[0mtops\u001b[0m \u001b[0;34m=\u001b[0m \u001b[0mnp\u001b[0m\u001b[0;34m.\u001b[0m\u001b[0marray\u001b[0m\u001b[0;34m(\u001b[0m\u001b[0mtops\u001b[0m\u001b[0;34m,\u001b[0m \u001b[0mfloat\u001b[0m\u001b[0;34m)\u001b[0m  \u001b[0;31m# causes problems later if it's an int\u001b[0m\u001b[0;34m\u001b[0m\u001b[0m\n",
      "\u001b[0;32m<__array_function__ internals>\u001b[0m in \u001b[0;36mhistogram\u001b[0;34m(*args, **kwargs)\u001b[0m\n",
      "\u001b[0;32m~/Documents/depth_duration/experiment/lib/python3.6/site-packages/numpy/lib/histograms.py\u001b[0m in \u001b[0;36mhistogram\u001b[0;34m(a, bins, range, normed, weights, density)\u001b[0m\n\u001b[1;32m    790\u001b[0m     \u001b[0ma\u001b[0m\u001b[0;34m,\u001b[0m \u001b[0mweights\u001b[0m \u001b[0;34m=\u001b[0m \u001b[0m_ravel_and_check_weights\u001b[0m\u001b[0;34m(\u001b[0m\u001b[0ma\u001b[0m\u001b[0;34m,\u001b[0m \u001b[0mweights\u001b[0m\u001b[0;34m)\u001b[0m\u001b[0;34m\u001b[0m\u001b[0m\n\u001b[1;32m    791\u001b[0m \u001b[0;34m\u001b[0m\u001b[0m\n\u001b[0;32m--> 792\u001b[0;31m     \u001b[0mbin_edges\u001b[0m\u001b[0;34m,\u001b[0m \u001b[0muniform_bins\u001b[0m \u001b[0;34m=\u001b[0m \u001b[0m_get_bin_edges\u001b[0m\u001b[0;34m(\u001b[0m\u001b[0ma\u001b[0m\u001b[0;34m,\u001b[0m \u001b[0mbins\u001b[0m\u001b[0;34m,\u001b[0m \u001b[0mrange\u001b[0m\u001b[0;34m,\u001b[0m \u001b[0mweights\u001b[0m\u001b[0;34m)\u001b[0m\u001b[0;34m\u001b[0m\u001b[0m\n\u001b[0m\u001b[1;32m    793\u001b[0m \u001b[0;34m\u001b[0m\u001b[0m\n\u001b[1;32m    794\u001b[0m     \u001b[0;31m# Histogram is an integer or a float array depending on the weights.\u001b[0m\u001b[0;34m\u001b[0m\u001b[0;34m\u001b[0m\u001b[0m\n",
      "\u001b[0;32m~/Documents/depth_duration/experiment/lib/python3.6/site-packages/numpy/lib/histograms.py\u001b[0m in \u001b[0;36m_get_bin_edges\u001b[0;34m(a, bins, range, weights)\u001b[0m\n\u001b[1;32m    424\u001b[0m             \u001b[0;32mraise\u001b[0m \u001b[0mValueError\u001b[0m\u001b[0;34m(\u001b[0m\u001b[0;34m'`bins` must be positive, when an integer'\u001b[0m\u001b[0;34m)\u001b[0m\u001b[0;34m\u001b[0m\u001b[0m\n\u001b[1;32m    425\u001b[0m \u001b[0;34m\u001b[0m\u001b[0m\n\u001b[0;32m--> 426\u001b[0;31m         \u001b[0mfirst_edge\u001b[0m\u001b[0;34m,\u001b[0m \u001b[0mlast_edge\u001b[0m \u001b[0;34m=\u001b[0m \u001b[0m_get_outer_edges\u001b[0m\u001b[0;34m(\u001b[0m\u001b[0ma\u001b[0m\u001b[0;34m,\u001b[0m \u001b[0mrange\u001b[0m\u001b[0;34m)\u001b[0m\u001b[0;34m\u001b[0m\u001b[0m\n\u001b[0m\u001b[1;32m    427\u001b[0m \u001b[0;34m\u001b[0m\u001b[0m\n\u001b[1;32m    428\u001b[0m     \u001b[0;32melif\u001b[0m \u001b[0mnp\u001b[0m\u001b[0;34m.\u001b[0m\u001b[0mndim\u001b[0m\u001b[0;34m(\u001b[0m\u001b[0mbins\u001b[0m\u001b[0;34m)\u001b[0m \u001b[0;34m==\u001b[0m \u001b[0;36m1\u001b[0m\u001b[0;34m:\u001b[0m\u001b[0;34m\u001b[0m\u001b[0m\n",
      "\u001b[0;32m~/Documents/depth_duration/experiment/lib/python3.6/site-packages/numpy/lib/histograms.py\u001b[0m in \u001b[0;36m_get_outer_edges\u001b[0;34m(a, range)\u001b[0m\n\u001b[1;32m    314\u001b[0m         \u001b[0;32mif\u001b[0m \u001b[0;32mnot\u001b[0m \u001b[0;34m(\u001b[0m\u001b[0mnp\u001b[0m\u001b[0;34m.\u001b[0m\u001b[0misfinite\u001b[0m\u001b[0;34m(\u001b[0m\u001b[0mfirst_edge\u001b[0m\u001b[0;34m)\u001b[0m \u001b[0;32mand\u001b[0m \u001b[0mnp\u001b[0m\u001b[0;34m.\u001b[0m\u001b[0misfinite\u001b[0m\u001b[0;34m(\u001b[0m\u001b[0mlast_edge\u001b[0m\u001b[0;34m)\u001b[0m\u001b[0;34m)\u001b[0m\u001b[0;34m:\u001b[0m\u001b[0;34m\u001b[0m\u001b[0m\n\u001b[1;32m    315\u001b[0m             raise ValueError(\n\u001b[0;32m--> 316\u001b[0;31m                 \"supplied range of [{}, {}] is not finite\".format(first_edge, last_edge))\n\u001b[0m\u001b[1;32m    317\u001b[0m     \u001b[0;32melif\u001b[0m \u001b[0ma\u001b[0m\u001b[0;34m.\u001b[0m\u001b[0msize\u001b[0m \u001b[0;34m==\u001b[0m \u001b[0;36m0\u001b[0m\u001b[0;34m:\u001b[0m\u001b[0;34m\u001b[0m\u001b[0m\n\u001b[1;32m    318\u001b[0m         \u001b[0;31m# handle empty arrays. Can't determine range, so use 0-1.\u001b[0m\u001b[0;34m\u001b[0m\u001b[0;34m\u001b[0m\u001b[0m\n",
      "\u001b[0;31mValueError\u001b[0m: supplied range of [777.0, inf] is not finite"
     ]
    },
    {
     "data": {
      "image/png": "[encoded data removed]",
      "text/plain": [
       "<Figure size 432x288 with 1 Axes>"
      ]
     },
     "metadata": {
      "needs_background": "light"
     },
     "output_type": "display_data"
    }
   ],
   "source": [
    "plt.title('Distribution of IES @ 250 ms')\n",
    "plt.xlabel('IES (ms)')\n",
    "plt.ylabel('count')\n",
    "plt.hist(np.array(ies_250), color='orange')\n",
    "plt.show();\n"
   ]
  },
  {
   "cell_type": "code",
   "execution_count": 89,
   "metadata": {},
   "outputs": [
    {
     "ename": "ValueError",
     "evalue": "supplied range of [779.6, inf] is not finite",
     "output_type": "error",
     "traceback": [
      "\u001b[0;31m---------------------------------------------------------------------------\u001b[0m",
      "\u001b[0;31mValueError\u001b[0m                                Traceback (most recent call last)",
      "\u001b[0;32m<ipython-input-89-eb1226c892fe>\u001b[0m in \u001b[0;36m<module>\u001b[0;34m\u001b[0m\n\u001b[1;32m      2\u001b[0m \u001b[0mplt\u001b[0m\u001b[0;34m.\u001b[0m\u001b[0mxlabel\u001b[0m\u001b[0;34m(\u001b[0m\u001b[0;34m'IES (ms)'\u001b[0m\u001b[0;34m)\u001b[0m\u001b[0;34m\u001b[0m\u001b[0m\n\u001b[1;32m      3\u001b[0m \u001b[0mplt\u001b[0m\u001b[0;34m.\u001b[0m\u001b[0mylabel\u001b[0m\u001b[0;34m(\u001b[0m\u001b[0;34m'count'\u001b[0m\u001b[0;34m)\u001b[0m\u001b[0;34m\u001b[0m\u001b[0m\n\u001b[0;32m----> 4\u001b[0;31m \u001b[0mplt\u001b[0m\u001b[0;34m.\u001b[0m\u001b[0mhist\u001b[0m\u001b[0;34m(\u001b[0m\u001b[0mnp\u001b[0m\u001b[0;34m.\u001b[0m\u001b[0marray\u001b[0m\u001b[0;34m(\u001b[0m\u001b[0mies_1000\u001b[0m\u001b[0;34m)\u001b[0m\u001b[0;34m,\u001b[0m \u001b[0mcolor\u001b[0m\u001b[0;34m=\u001b[0m\u001b[0;34m'green'\u001b[0m\u001b[0;34m)\u001b[0m\u001b[0;34m\u001b[0m\u001b[0m\n\u001b[0m\u001b[1;32m      5\u001b[0m \u001b[0mplt\u001b[0m\u001b[0;34m.\u001b[0m\u001b[0mshow\u001b[0m\u001b[0;34m(\u001b[0m\u001b[0;34m)\u001b[0m\u001b[0;34m;\u001b[0m\u001b[0;34m\u001b[0m\u001b[0m\n",
      "\u001b[0;32m~/Documents/depth_duration/experiment/lib/python3.6/site-packages/matplotlib/pyplot.py\u001b[0m in \u001b[0;36mhist\u001b[0;34m(x, bins, range, density, weights, cumulative, bottom, histtype, align, orientation, rwidth, log, color, label, stacked, data, **kwargs)\u001b[0m\n\u001b[1;32m   2688\u001b[0m         \u001b[0malign\u001b[0m\u001b[0;34m=\u001b[0m\u001b[0malign\u001b[0m\u001b[0;34m,\u001b[0m \u001b[0morientation\u001b[0m\u001b[0;34m=\u001b[0m\u001b[0morientation\u001b[0m\u001b[0;34m,\u001b[0m \u001b[0mrwidth\u001b[0m\u001b[0;34m=\u001b[0m\u001b[0mrwidth\u001b[0m\u001b[0;34m,\u001b[0m \u001b[0mlog\u001b[0m\u001b[0;34m=\u001b[0m\u001b[0mlog\u001b[0m\u001b[0;34m,\u001b[0m\u001b[0;34m\u001b[0m\u001b[0m\n\u001b[1;32m   2689\u001b[0m         \u001b[0mcolor\u001b[0m\u001b[0;34m=\u001b[0m\u001b[0mcolor\u001b[0m\u001b[0;34m,\u001b[0m \u001b[0mlabel\u001b[0m\u001b[0;34m=\u001b[0m\u001b[0mlabel\u001b[0m\u001b[0;34m,\u001b[0m \u001b[0mstacked\u001b[0m\u001b[0;34m=\u001b[0m\u001b[0mstacked\u001b[0m\u001b[0;34m,\u001b[0m\u001b[0;34m\u001b[0m\u001b[0m\n\u001b[0;32m-> 2690\u001b[0;31m         **({\"data\": data} if data is not None else {}), **kwargs)\n\u001b[0m\u001b[1;32m   2691\u001b[0m \u001b[0;34m\u001b[0m\u001b[0m\n\u001b[1;32m   2692\u001b[0m \u001b[0;34m\u001b[0m\u001b[0m\n",
      "\u001b[0;32m~/Documents/depth_duration/experiment/lib/python3.6/site-packages/matplotlib/__init__.py\u001b[0m in \u001b[0;36minner\u001b[0;34m(ax, data, *args, **kwargs)\u001b[0m\n\u001b[1;32m   1436\u001b[0m     \u001b[0;32mdef\u001b[0m \u001b[0minner\u001b[0m\u001b[0;34m(\u001b[0m\u001b[0max\u001b[0m\u001b[0;34m,\u001b[0m \u001b[0;34m*\u001b[0m\u001b[0margs\u001b[0m\u001b[0;34m,\u001b[0m \u001b[0mdata\u001b[0m\u001b[0;34m=\u001b[0m\u001b[0;32mNone\u001b[0m\u001b[0;34m,\u001b[0m \u001b[0;34m**\u001b[0m\u001b[0mkwargs\u001b[0m\u001b[0;34m)\u001b[0m\u001b[0;34m:\u001b[0m\u001b[0;34m\u001b[0m\u001b[0m\n\u001b[1;32m   1437\u001b[0m         \u001b[0;32mif\u001b[0m \u001b[0mdata\u001b[0m \u001b[0;32mis\u001b[0m \u001b[0;32mNone\u001b[0m\u001b[0;34m:\u001b[0m\u001b[0;34m\u001b[0m\u001b[0m\n\u001b[0;32m-> 1438\u001b[0;31m             \u001b[0;32mreturn\u001b[0m \u001b[0mfunc\u001b[0m\u001b[0;34m(\u001b[0m\u001b[0max\u001b[0m\u001b[0;34m,\u001b[0m \u001b[0;34m*\u001b[0m\u001b[0mmap\u001b[0m\u001b[0;34m(\u001b[0m\u001b[0msanitize_sequence\u001b[0m\u001b[0;34m,\u001b[0m \u001b[0margs\u001b[0m\u001b[0;34m)\u001b[0m\u001b[0;34m,\u001b[0m \u001b[0;34m**\u001b[0m\u001b[0mkwargs\u001b[0m\u001b[0;34m)\u001b[0m\u001b[0;34m\u001b[0m\u001b[0m\n\u001b[0m\u001b[1;32m   1439\u001b[0m \u001b[0;34m\u001b[0m\u001b[0m\n\u001b[1;32m   1440\u001b[0m         \u001b[0mbound\u001b[0m \u001b[0;34m=\u001b[0m \u001b[0mnew_sig\u001b[0m\u001b[0;34m.\u001b[0m\u001b[0mbind\u001b[0m\u001b[0;34m(\u001b[0m\u001b[0max\u001b[0m\u001b[0;34m,\u001b[0m \u001b[0;34m*\u001b[0m\u001b[0margs\u001b[0m\u001b[0;34m,\u001b[0m \u001b[0;34m**\u001b[0m\u001b[0mkwargs\u001b[0m\u001b[0;34m)\u001b[0m\u001b[0;34m\u001b[0m\u001b[0m\n",
      "\u001b[0;32m~/Documents/depth_duration/experiment/lib/python3.6/site-packages/matplotlib/axes/_axes.py\u001b[0m in \u001b[0;36mhist\u001b[0;34m(self, x, bins, range, density, weights, cumulative, bottom, histtype, align, orientation, rwidth, log, color, label, stacked, **kwargs)\u001b[0m\n\u001b[1;32m   6654\u001b[0m             \u001b[0;31m# this will automatically overwrite bins,\u001b[0m\u001b[0;34m\u001b[0m\u001b[0;34m\u001b[0m\u001b[0m\n\u001b[1;32m   6655\u001b[0m             \u001b[0;31m# so that each histogram uses the same bins\u001b[0m\u001b[0;34m\u001b[0m\u001b[0;34m\u001b[0m\u001b[0m\n\u001b[0;32m-> 6656\u001b[0;31m             \u001b[0mm\u001b[0m\u001b[0;34m,\u001b[0m \u001b[0mbins\u001b[0m \u001b[0;34m=\u001b[0m \u001b[0mnp\u001b[0m\u001b[0;34m.\u001b[0m\u001b[0mhistogram\u001b[0m\u001b[0;34m(\u001b[0m\u001b[0mx\u001b[0m\u001b[0;34m[\u001b[0m\u001b[0mi\u001b[0m\u001b[0;34m]\u001b[0m\u001b[0;34m,\u001b[0m \u001b[0mbins\u001b[0m\u001b[0;34m,\u001b[0m \u001b[0mweights\u001b[0m\u001b[0;34m=\u001b[0m\u001b[0mw\u001b[0m\u001b[0;34m[\u001b[0m\u001b[0mi\u001b[0m\u001b[0;34m]\u001b[0m\u001b[0;34m,\u001b[0m \u001b[0;34m**\u001b[0m\u001b[0mhist_kwargs\u001b[0m\u001b[0;34m)\u001b[0m\u001b[0;34m\u001b[0m\u001b[0m\n\u001b[0m\u001b[1;32m   6657\u001b[0m             \u001b[0mtops\u001b[0m\u001b[0;34m.\u001b[0m\u001b[0mappend\u001b[0m\u001b[0;34m(\u001b[0m\u001b[0mm\u001b[0m\u001b[0;34m)\u001b[0m\u001b[0;34m\u001b[0m\u001b[0m\n\u001b[1;32m   6658\u001b[0m         \u001b[0mtops\u001b[0m \u001b[0;34m=\u001b[0m \u001b[0mnp\u001b[0m\u001b[0;34m.\u001b[0m\u001b[0marray\u001b[0m\u001b[0;34m(\u001b[0m\u001b[0mtops\u001b[0m\u001b[0;34m,\u001b[0m \u001b[0mfloat\u001b[0m\u001b[0;34m)\u001b[0m  \u001b[0;31m# causes problems later if it's an int\u001b[0m\u001b[0;34m\u001b[0m\u001b[0m\n",
      "\u001b[0;32m<__array_function__ internals>\u001b[0m in \u001b[0;36mhistogram\u001b[0;34m(*args, **kwargs)\u001b[0m\n",
      "\u001b[0;32m~/Documents/depth_duration/experiment/lib/python3.6/site-packages/numpy/lib/histograms.py\u001b[0m in \u001b[0;36mhistogram\u001b[0;34m(a, bins, range, normed, weights, density)\u001b[0m\n\u001b[1;32m    790\u001b[0m     \u001b[0ma\u001b[0m\u001b[0;34m,\u001b[0m \u001b[0mweights\u001b[0m \u001b[0;34m=\u001b[0m \u001b[0m_ravel_and_check_weights\u001b[0m\u001b[0;34m(\u001b[0m\u001b[0ma\u001b[0m\u001b[0;34m,\u001b[0m \u001b[0mweights\u001b[0m\u001b[0;34m)\u001b[0m\u001b[0;34m\u001b[0m\u001b[0m\n\u001b[1;32m    791\u001b[0m \u001b[0;34m\u001b[0m\u001b[0m\n\u001b[0;32m--> 792\u001b[0;31m     \u001b[0mbin_edges\u001b[0m\u001b[0;34m,\u001b[0m \u001b[0muniform_bins\u001b[0m \u001b[0;34m=\u001b[0m \u001b[0m_get_bin_edges\u001b[0m\u001b[0;34m(\u001b[0m\u001b[0ma\u001b[0m\u001b[0;34m,\u001b[0m \u001b[0mbins\u001b[0m\u001b[0;34m,\u001b[0m \u001b[0mrange\u001b[0m\u001b[0;34m,\u001b[0m \u001b[0mweights\u001b[0m\u001b[0;34m)\u001b[0m\u001b[0;34m\u001b[0m\u001b[0m\n\u001b[0m\u001b[1;32m    793\u001b[0m \u001b[0;34m\u001b[0m\u001b[0m\n\u001b[1;32m    794\u001b[0m     \u001b[0;31m# Histogram is an integer or a float array depending on the weights.\u001b[0m\u001b[0;34m\u001b[0m\u001b[0;34m\u001b[0m\u001b[0m\n",
      "\u001b[0;32m~/Documents/depth_duration/experiment/lib/python3.6/site-packages/numpy/lib/histograms.py\u001b[0m in \u001b[0;36m_get_bin_edges\u001b[0;34m(a, bins, range, weights)\u001b[0m\n\u001b[1;32m    424\u001b[0m             \u001b[0;32mraise\u001b[0m \u001b[0mValueError\u001b[0m\u001b[0;34m(\u001b[0m\u001b[0;34m'`bins` must be positive, when an integer'\u001b[0m\u001b[0;34m)\u001b[0m\u001b[0;34m\u001b[0m\u001b[0m\n\u001b[1;32m    425\u001b[0m \u001b[0;34m\u001b[0m\u001b[0m\n\u001b[0;32m--> 426\u001b[0;31m         \u001b[0mfirst_edge\u001b[0m\u001b[0;34m,\u001b[0m \u001b[0mlast_edge\u001b[0m \u001b[0;34m=\u001b[0m \u001b[0m_get_outer_edges\u001b[0m\u001b[0;34m(\u001b[0m\u001b[0ma\u001b[0m\u001b[0;34m,\u001b[0m \u001b[0mrange\u001b[0m\u001b[0;34m)\u001b[0m\u001b[0;34m\u001b[0m\u001b[0m\n\u001b[0m\u001b[1;32m    427\u001b[0m \u001b[0;34m\u001b[0m\u001b[0m\n\u001b[1;32m    428\u001b[0m     \u001b[0;32melif\u001b[0m \u001b[0mnp\u001b[0m\u001b[0;34m.\u001b[0m\u001b[0mndim\u001b[0m\u001b[0;34m(\u001b[0m\u001b[0mbins\u001b[0m\u001b[0;34m)\u001b[0m \u001b[0;34m==\u001b[0m \u001b[0;36m1\u001b[0m\u001b[0;34m:\u001b[0m\u001b[0;34m\u001b[0m\u001b[0m\n",
      "\u001b[0;32m~/Documents/depth_duration/experiment/lib/python3.6/site-packages/numpy/lib/histograms.py\u001b[0m in \u001b[0;36m_get_outer_edges\u001b[0;34m(a, range)\u001b[0m\n\u001b[1;32m    314\u001b[0m         \u001b[0;32mif\u001b[0m \u001b[0;32mnot\u001b[0m \u001b[0;34m(\u001b[0m\u001b[0mnp\u001b[0m\u001b[0;34m.\u001b[0m\u001b[0misfinite\u001b[0m\u001b[0;34m(\u001b[0m\u001b[0mfirst_edge\u001b[0m\u001b[0;34m)\u001b[0m \u001b[0;32mand\u001b[0m \u001b[0mnp\u001b[0m\u001b[0;34m.\u001b[0m\u001b[0misfinite\u001b[0m\u001b[0;34m(\u001b[0m\u001b[0mlast_edge\u001b[0m\u001b[0;34m)\u001b[0m\u001b[0;34m)\u001b[0m\u001b[0;34m:\u001b[0m\u001b[0;34m\u001b[0m\u001b[0m\n\u001b[1;32m    315\u001b[0m             raise ValueError(\n\u001b[0;32m--> 316\u001b[0;31m                 \"supplied range of [{}, {}] is not finite\".format(first_edge, last_edge))\n\u001b[0m\u001b[1;32m    317\u001b[0m     \u001b[0;32melif\u001b[0m \u001b[0ma\u001b[0m\u001b[0;34m.\u001b[0m\u001b[0msize\u001b[0m \u001b[0;34m==\u001b[0m \u001b[0;36m0\u001b[0m\u001b[0;34m:\u001b[0m\u001b[0;34m\u001b[0m\u001b[0m\n\u001b[1;32m    318\u001b[0m         \u001b[0;31m# handle empty arrays. Can't determine range, so use 0-1.\u001b[0m\u001b[0;34m\u001b[0m\u001b[0;34m\u001b[0m\u001b[0m\n",
      "\u001b[0;31mValueError\u001b[0m: supplied range of [779.6, inf] is not finite"
     ]
    },
    {
     "data": {
      "image/png": "[encoded data removed]",
      "text/plain": [
       "<Figure size 432x288 with 1 Axes>"
      ]
     },
     "metadata": {
      "needs_background": "light"
     },
     "output_type": "display_data"
    }
   ],
   "source": [
    "plt.title('Distribution of IES @ 1000 ms')\n",
    "plt.xlabel('IES (ms)')\n",
    "plt.ylabel('count')\n",
    "plt.hist(np.array(ies_1000), color='green')\n",
    "plt.show();"
   ]
  },
  {
   "cell_type": "code",
   "execution_count": null,
   "metadata": {},
   "outputs": [],
   "source": []
  },
  {
   "cell_type": "code",
   "execution_count": null,
   "metadata": {},
   "outputs": [],
   "source": []
  }
 ],
 "metadata": {
  "kernelspec": {
   "display_name": "Python 3",
   "language": "python",
   "name": "python3"
  },
  "language_info": {
   "codemirror_mode": {
    "name": "ipython",
    "version": 3
   },
   "file_extension": ".py",
   "mimetype": "text/x-python",
   "name": "python",
   "nbconvert_exporter": "python",
   "pygments_lexer": "ipython3",
   "version": "3.6.1"
  }
 },
 "nbformat": 4,
 "nbformat_minor": 4
}
