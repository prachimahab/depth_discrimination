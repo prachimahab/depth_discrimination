{
 "cells": [
  {
   "cell_type": "markdown",
   "metadata": {},
   "source": [
    "# Scene Property Ratings"
   ]
  },
  {
   "cell_type": "code",
   "execution_count": 227,
   "metadata": {},
   "outputs": [],
   "source": [
    "import os \n",
    "import pandas as pd\n",
    "import numpy as np\n",
    "import math\n",
    "import matplotlib.pyplot as plt\n",
    "import scipy \n",
    "import scipy.stats as stats\n",
    "import random\n"
   ]
  },
  {
   "cell_type": "code",
   "execution_count": 228,
   "metadata": {},
   "outputs": [],
   "source": [
    "def combineCSVs(datafolder, num_discrim_trials):\n",
    "    \"\"\"\n",
    "    Combine all participant data into one pandas df\n",
    "    OR \n",
    "    Create df for single participant file \n",
    "    \n",
    "    returns:\n",
    "        (1) combined dataframe of all discrimination data \n",
    "        (2) combined dataframe of all scene property rating data \n",
    "    \"\"\"\n",
    "    #checks if path is a file\n",
    "    isFile = os.path.isfile(datafolder)\n",
    "\n",
    "    #checks if path is a directory\n",
    "    \n",
    "    isDirectory = os.path.isdir(datafolder)\n",
    "    \n",
    "    if isDirectory == True:\n",
    "        discrim_data = []\n",
    "        properties_data = []\n",
    "        for filename in os.listdir(datafolder):\n",
    "            if 'csv' in filename:\n",
    "                path = datafolder + \"/\" + filename\n",
    "                df = pd.read_csv(path, index_col=None, header=0)\n",
    "                \n",
    "                df_discrim = df[0:num_discrim_trials]\n",
    "                discrim_data.append(df_discrim)\n",
    "                # row 96 should be ignored - artifact of logging \n",
    "                df_properties = df[num_discrim_trials+1:]\n",
    "                properties_data.append(df_properties)\n",
    "                \n",
    "\n",
    "        discrim_frame = pd.concat(discrim_data, axis=0, ignore_index=True)\n",
    "        properties_frame = pd.concat(properties_data, axis=0, ignore_index=True)\n",
    "        \n",
    "    if isFile == True:\n",
    "        if 'csv' in datafolder:\n",
    "            df = pd.read_csv(datafolder, index_col=None, header=0)\n",
    "            df_discrim = df[0:num_discrim_trials]\n",
    "            discrim_data.append(df_discrim)\n",
    "            # row 96 should be ignored - artifact of logging \n",
    "            df_properties = df[num_discrim_trials+1:]\n",
    "            properties_data.append(df_properties)\n",
    " \n",
    "    return discrim_frame, properties_frame"
   ]
  },
  {
   "cell_type": "code",
   "execution_count": 229,
   "metadata": {},
   "outputs": [],
   "source": [
    "data_path = '/Users/prachi/Documents/depth_duration/depth_discrimination/v4_discrim_pilot_data'"
   ]
  },
  {
   "cell_type": "code",
   "execution_count": 230,
   "metadata": {},
   "outputs": [],
   "source": [
    "raw_discrim, raw_ratings = combineCSVs(data_path, 96)"
   ]
  },
  {
   "cell_type": "code",
   "execution_count": 231,
   "metadata": {},
   "outputs": [
    {
     "data": {
      "text/html": [
       "<div>\n",
       "<style scoped>\n",
       "    .dataframe tbody tr th:only-of-type {\n",
       "        vertical-align: middle;\n",
       "    }\n",
       "\n",
       "    .dataframe tbody tr th {\n",
       "        vertical-align: top;\n",
       "    }\n",
       "\n",
       "    .dataframe thead th {\n",
       "        text-align: right;\n",
       "    }\n",
       "</style>\n",
       "<table border=\"1\" class=\"dataframe\">\n",
       "  <thead>\n",
       "    <tr style=\"text-align: right;\">\n",
       "      <th></th>\n",
       "      <th>subjID</th>\n",
       "      <th>experimentName</th>\n",
       "      <th>versionName</th>\n",
       "      <th>sequenceName</th>\n",
       "      <th>url</th>\n",
       "      <th>selected_row</th>\n",
       "      <th>windowWidth</th>\n",
       "      <th>windowHeight</th>\n",
       "      <th>screenWidth</th>\n",
       "      <th>screenHeight</th>\n",
       "      <th>...</th>\n",
       "      <th>log_sceneDuration2</th>\n",
       "      <th>log_mask2</th>\n",
       "      <th>unitSelection</th>\n",
       "      <th>meanDepth_rating</th>\n",
       "      <th>navigability_rating</th>\n",
       "      <th>rated_stimulus</th>\n",
       "      <th>rating_RT</th>\n",
       "      <th>experimentTime</th>\n",
       "      <th>totalTime</th>\n",
       "      <th>age</th>\n",
       "    </tr>\n",
       "  </thead>\n",
       "  <tbody>\n",
       "    <tr>\n",
       "      <th>0</th>\n",
       "      <td>570118</td>\n",
       "      <td>DepthScenes</td>\n",
       "      <td>duration_discrimination</td>\n",
       "      <td>discrim_jsons/d0_rotated.json</td>\n",
       "      <td>http://54.197.185.130/DepthDuration/depth_disc...</td>\n",
       "      <td>3</td>\n",
       "      <td>1499</td>\n",
       "      <td>853</td>\n",
       "      <td>1366</td>\n",
       "      <td>768</td>\n",
       "      <td>...</td>\n",
       "      <td>204</td>\n",
       "      <td>507</td>\n",
       "      <td>feet</td>\n",
       "      <td>4.0</td>\n",
       "      <td>3.0</td>\n",
       "      <td>depth_discrimination_stimuli/002660_2014-06-13...</td>\n",
       "      <td>9479.0</td>\n",
       "      <td>1566550</td>\n",
       "      <td>1996574</td>\n",
       "      <td>56</td>\n",
       "    </tr>\n",
       "    <tr>\n",
       "      <th>1</th>\n",
       "      <td>570118</td>\n",
       "      <td>DepthScenes</td>\n",
       "      <td>duration_discrimination</td>\n",
       "      <td>discrim_jsons/d0_rotated.json</td>\n",
       "      <td>http://54.197.185.130/DepthDuration/depth_disc...</td>\n",
       "      <td>3</td>\n",
       "      <td>1499</td>\n",
       "      <td>853</td>\n",
       "      <td>1366</td>\n",
       "      <td>768</td>\n",
       "      <td>...</td>\n",
       "      <td>204</td>\n",
       "      <td>507</td>\n",
       "      <td>feet</td>\n",
       "      <td>5.0</td>\n",
       "      <td>4.0</td>\n",
       "      <td>depth_discrimination_stimuli/003490_2014-05-21...</td>\n",
       "      <td>12857.0</td>\n",
       "      <td>1566550</td>\n",
       "      <td>1996574</td>\n",
       "      <td>56</td>\n",
       "    </tr>\n",
       "    <tr>\n",
       "      <th>2</th>\n",
       "      <td>570118</td>\n",
       "      <td>DepthScenes</td>\n",
       "      <td>duration_discrimination</td>\n",
       "      <td>discrim_jsons/d0_rotated.json</td>\n",
       "      <td>http://54.197.185.130/DepthDuration/depth_disc...</td>\n",
       "      <td>3</td>\n",
       "      <td>1499</td>\n",
       "      <td>853</td>\n",
       "      <td>1366</td>\n",
       "      <td>768</td>\n",
       "      <td>...</td>\n",
       "      <td>204</td>\n",
       "      <td>507</td>\n",
       "      <td>feet</td>\n",
       "      <td>4.0</td>\n",
       "      <td>2.0</td>\n",
       "      <td>depth_discrimination_stimuli/003288_2014-05-14...</td>\n",
       "      <td>7557.0</td>\n",
       "      <td>1566550</td>\n",
       "      <td>1996574</td>\n",
       "      <td>56</td>\n",
       "    </tr>\n",
       "    <tr>\n",
       "      <th>3</th>\n",
       "      <td>570118</td>\n",
       "      <td>DepthScenes</td>\n",
       "      <td>duration_discrimination</td>\n",
       "      <td>discrim_jsons/d0_rotated.json</td>\n",
       "      <td>http://54.197.185.130/DepthDuration/depth_disc...</td>\n",
       "      <td>3</td>\n",
       "      <td>1499</td>\n",
       "      <td>853</td>\n",
       "      <td>1366</td>\n",
       "      <td>768</td>\n",
       "      <td>...</td>\n",
       "      <td>204</td>\n",
       "      <td>507</td>\n",
       "      <td>feet</td>\n",
       "      <td>5.0</td>\n",
       "      <td>2.0</td>\n",
       "      <td>depth_discrimination_stimuli/002964_2014-06-08...</td>\n",
       "      <td>6607.0</td>\n",
       "      <td>1566550</td>\n",
       "      <td>1996574</td>\n",
       "      <td>56</td>\n",
       "    </tr>\n",
       "    <tr>\n",
       "      <th>4</th>\n",
       "      <td>570118</td>\n",
       "      <td>DepthScenes</td>\n",
       "      <td>duration_discrimination</td>\n",
       "      <td>discrim_jsons/d0_rotated.json</td>\n",
       "      <td>http://54.197.185.130/DepthDuration/depth_disc...</td>\n",
       "      <td>3</td>\n",
       "      <td>1499</td>\n",
       "      <td>853</td>\n",
       "      <td>1366</td>\n",
       "      <td>768</td>\n",
       "      <td>...</td>\n",
       "      <td>204</td>\n",
       "      <td>507</td>\n",
       "      <td>feet</td>\n",
       "      <td>4.0</td>\n",
       "      <td>3.0</td>\n",
       "      <td>depth_discrimination_stimuli/001584_2014-06-20...</td>\n",
       "      <td>5892.0</td>\n",
       "      <td>1566550</td>\n",
       "      <td>1996574</td>\n",
       "      <td>56</td>\n",
       "    </tr>\n",
       "    <tr>\n",
       "      <th>...</th>\n",
       "      <td>...</td>\n",
       "      <td>...</td>\n",
       "      <td>...</td>\n",
       "      <td>...</td>\n",
       "      <td>...</td>\n",
       "      <td>...</td>\n",
       "      <td>...</td>\n",
       "      <td>...</td>\n",
       "      <td>...</td>\n",
       "      <td>...</td>\n",
       "      <td>...</td>\n",
       "      <td>...</td>\n",
       "      <td>...</td>\n",
       "      <td>...</td>\n",
       "      <td>...</td>\n",
       "      <td>...</td>\n",
       "      <td>...</td>\n",
       "      <td>...</td>\n",
       "      <td>...</td>\n",
       "      <td>...</td>\n",
       "      <td>...</td>\n",
       "    </tr>\n",
       "    <tr>\n",
       "      <th>4307</th>\n",
       "      <td>361608</td>\n",
       "      <td>DepthScenes</td>\n",
       "      <td>duration_discrimination</td>\n",
       "      <td>discrim_jsons/d0_rotated_dr.json</td>\n",
       "      <td>http://54.197.185.130/DepthDuration/depth_disc...</td>\n",
       "      <td>2</td>\n",
       "      <td>1349</td>\n",
       "      <td>768</td>\n",
       "      <td>1366</td>\n",
       "      <td>768</td>\n",
       "      <td>...</td>\n",
       "      <td>235</td>\n",
       "      <td>515</td>\n",
       "      <td>feet</td>\n",
       "      <td>2.0</td>\n",
       "      <td>1.0</td>\n",
       "      <td>depth_discrimination_stimuli/002305_2014-06-28...</td>\n",
       "      <td>2981.0</td>\n",
       "      <td>1353107</td>\n",
       "      <td>1698388</td>\n",
       "      <td>49</td>\n",
       "    </tr>\n",
       "    <tr>\n",
       "      <th>4308</th>\n",
       "      <td>361608</td>\n",
       "      <td>DepthScenes</td>\n",
       "      <td>duration_discrimination</td>\n",
       "      <td>discrim_jsons/d0_rotated_dr.json</td>\n",
       "      <td>http://54.197.185.130/DepthDuration/depth_disc...</td>\n",
       "      <td>2</td>\n",
       "      <td>1349</td>\n",
       "      <td>768</td>\n",
       "      <td>1366</td>\n",
       "      <td>768</td>\n",
       "      <td>...</td>\n",
       "      <td>235</td>\n",
       "      <td>515</td>\n",
       "      <td>feet</td>\n",
       "      <td>3.0</td>\n",
       "      <td>4.0</td>\n",
       "      <td>depth_discrimination_stimuli/000691_2014-06-08...</td>\n",
       "      <td>6900.0</td>\n",
       "      <td>1353107</td>\n",
       "      <td>1698388</td>\n",
       "      <td>49</td>\n",
       "    </tr>\n",
       "    <tr>\n",
       "      <th>4309</th>\n",
       "      <td>361608</td>\n",
       "      <td>DepthScenes</td>\n",
       "      <td>duration_discrimination</td>\n",
       "      <td>discrim_jsons/d0_rotated_dr.json</td>\n",
       "      <td>http://54.197.185.130/DepthDuration/depth_disc...</td>\n",
       "      <td>2</td>\n",
       "      <td>1349</td>\n",
       "      <td>768</td>\n",
       "      <td>1366</td>\n",
       "      <td>768</td>\n",
       "      <td>...</td>\n",
       "      <td>235</td>\n",
       "      <td>515</td>\n",
       "      <td>feet</td>\n",
       "      <td>2.0</td>\n",
       "      <td>3.0</td>\n",
       "      <td>depth_discrimination_stimuli/001571_2014-06-20...</td>\n",
       "      <td>5198.0</td>\n",
       "      <td>1353107</td>\n",
       "      <td>1698388</td>\n",
       "      <td>49</td>\n",
       "    </tr>\n",
       "    <tr>\n",
       "      <th>4310</th>\n",
       "      <td>361608</td>\n",
       "      <td>DepthScenes</td>\n",
       "      <td>duration_discrimination</td>\n",
       "      <td>discrim_jsons/d0_rotated_dr.json</td>\n",
       "      <td>http://54.197.185.130/DepthDuration/depth_disc...</td>\n",
       "      <td>2</td>\n",
       "      <td>1349</td>\n",
       "      <td>768</td>\n",
       "      <td>1366</td>\n",
       "      <td>768</td>\n",
       "      <td>...</td>\n",
       "      <td>235</td>\n",
       "      <td>515</td>\n",
       "      <td>feet</td>\n",
       "      <td>3.0</td>\n",
       "      <td>2.0</td>\n",
       "      <td>depth_discrimination_stimuli/002043_2014-06-24...</td>\n",
       "      <td>4844.0</td>\n",
       "      <td>1353107</td>\n",
       "      <td>1698388</td>\n",
       "      <td>49</td>\n",
       "    </tr>\n",
       "    <tr>\n",
       "      <th>4311</th>\n",
       "      <td>361608</td>\n",
       "      <td>DepthScenes</td>\n",
       "      <td>duration_discrimination</td>\n",
       "      <td>discrim_jsons/d0_rotated_dr.json</td>\n",
       "      <td>http://54.197.185.130/DepthDuration/depth_disc...</td>\n",
       "      <td>2</td>\n",
       "      <td>1349</td>\n",
       "      <td>768</td>\n",
       "      <td>1366</td>\n",
       "      <td>768</td>\n",
       "      <td>...</td>\n",
       "      <td>235</td>\n",
       "      <td>515</td>\n",
       "      <td>feet</td>\n",
       "      <td>1.0</td>\n",
       "      <td>3.0</td>\n",
       "      <td>depth_discrimination_stimuli/002784_2014-06-22...</td>\n",
       "      <td>7025.0</td>\n",
       "      <td>1353107</td>\n",
       "      <td>1698388</td>\n",
       "      <td>49</td>\n",
       "    </tr>\n",
       "  </tbody>\n",
       "</table>\n",
       "<p>4312 rows × 33 columns</p>\n",
       "</div>"
      ],
      "text/plain": [
       "      subjID experimentName              versionName  \\\n",
       "0     570118    DepthScenes  duration_discrimination   \n",
       "1     570118    DepthScenes  duration_discrimination   \n",
       "2     570118    DepthScenes  duration_discrimination   \n",
       "3     570118    DepthScenes  duration_discrimination   \n",
       "4     570118    DepthScenes  duration_discrimination   \n",
       "...      ...            ...                      ...   \n",
       "4307  361608    DepthScenes  duration_discrimination   \n",
       "4308  361608    DepthScenes  duration_discrimination   \n",
       "4309  361608    DepthScenes  duration_discrimination   \n",
       "4310  361608    DepthScenes  duration_discrimination   \n",
       "4311  361608    DepthScenes  duration_discrimination   \n",
       "\n",
       "                          sequenceName  \\\n",
       "0        discrim_jsons/d0_rotated.json   \n",
       "1        discrim_jsons/d0_rotated.json   \n",
       "2        discrim_jsons/d0_rotated.json   \n",
       "3        discrim_jsons/d0_rotated.json   \n",
       "4        discrim_jsons/d0_rotated.json   \n",
       "...                                ...   \n",
       "4307  discrim_jsons/d0_rotated_dr.json   \n",
       "4308  discrim_jsons/d0_rotated_dr.json   \n",
       "4309  discrim_jsons/d0_rotated_dr.json   \n",
       "4310  discrim_jsons/d0_rotated_dr.json   \n",
       "4311  discrim_jsons/d0_rotated_dr.json   \n",
       "\n",
       "                                                    url  selected_row  \\\n",
       "0     http://54.197.185.130/DepthDuration/depth_disc...             3   \n",
       "1     http://54.197.185.130/DepthDuration/depth_disc...             3   \n",
       "2     http://54.197.185.130/DepthDuration/depth_disc...             3   \n",
       "3     http://54.197.185.130/DepthDuration/depth_disc...             3   \n",
       "4     http://54.197.185.130/DepthDuration/depth_disc...             3   \n",
       "...                                                 ...           ...   \n",
       "4307  http://54.197.185.130/DepthDuration/depth_disc...             2   \n",
       "4308  http://54.197.185.130/DepthDuration/depth_disc...             2   \n",
       "4309  http://54.197.185.130/DepthDuration/depth_disc...             2   \n",
       "4310  http://54.197.185.130/DepthDuration/depth_disc...             2   \n",
       "4311  http://54.197.185.130/DepthDuration/depth_disc...             2   \n",
       "\n",
       "      windowWidth  windowHeight  screenWidth  screenHeight  ...  \\\n",
       "0            1499           853         1366           768  ...   \n",
       "1            1499           853         1366           768  ...   \n",
       "2            1499           853         1366           768  ...   \n",
       "3            1499           853         1366           768  ...   \n",
       "4            1499           853         1366           768  ...   \n",
       "...           ...           ...          ...           ...  ...   \n",
       "4307         1349           768         1366           768  ...   \n",
       "4308         1349           768         1366           768  ...   \n",
       "4309         1349           768         1366           768  ...   \n",
       "4310         1349           768         1366           768  ...   \n",
       "4311         1349           768         1366           768  ...   \n",
       "\n",
       "     log_sceneDuration2 log_mask2  unitSelection meanDepth_rating  \\\n",
       "0                   204       507           feet              4.0   \n",
       "1                   204       507           feet              5.0   \n",
       "2                   204       507           feet              4.0   \n",
       "3                   204       507           feet              5.0   \n",
       "4                   204       507           feet              4.0   \n",
       "...                 ...       ...            ...              ...   \n",
       "4307                235       515           feet              2.0   \n",
       "4308                235       515           feet              3.0   \n",
       "4309                235       515           feet              2.0   \n",
       "4310                235       515           feet              3.0   \n",
       "4311                235       515           feet              1.0   \n",
       "\n",
       "     navigability_rating                                     rated_stimulus  \\\n",
       "0                    3.0  depth_discrimination_stimuli/002660_2014-06-13...   \n",
       "1                    4.0  depth_discrimination_stimuli/003490_2014-05-21...   \n",
       "2                    2.0  depth_discrimination_stimuli/003288_2014-05-14...   \n",
       "3                    2.0  depth_discrimination_stimuli/002964_2014-06-08...   \n",
       "4                    3.0  depth_discrimination_stimuli/001584_2014-06-20...   \n",
       "...                  ...                                                ...   \n",
       "4307                 1.0  depth_discrimination_stimuli/002305_2014-06-28...   \n",
       "4308                 4.0  depth_discrimination_stimuli/000691_2014-06-08...   \n",
       "4309                 3.0  depth_discrimination_stimuli/001571_2014-06-20...   \n",
       "4310                 2.0  depth_discrimination_stimuli/002043_2014-06-24...   \n",
       "4311                 3.0  depth_discrimination_stimuli/002784_2014-06-22...   \n",
       "\n",
       "      rating_RT  experimentTime  totalTime  age  \n",
       "0        9479.0         1566550    1996574   56  \n",
       "1       12857.0         1566550    1996574   56  \n",
       "2        7557.0         1566550    1996574   56  \n",
       "3        6607.0         1566550    1996574   56  \n",
       "4        5892.0         1566550    1996574   56  \n",
       "...         ...             ...        ...  ...  \n",
       "4307     2981.0         1353107    1698388   49  \n",
       "4308     6900.0         1353107    1698388   49  \n",
       "4309     5198.0         1353107    1698388   49  \n",
       "4310     4844.0         1353107    1698388   49  \n",
       "4311     7025.0         1353107    1698388   49  \n",
       "\n",
       "[4312 rows x 33 columns]"
      ]
     },
     "execution_count": 231,
     "metadata": {},
     "output_type": "execute_result"
    }
   ],
   "source": [
    "raw_ratings"
   ]
  },
  {
   "cell_type": "code",
   "execution_count": 232,
   "metadata": {},
   "outputs": [],
   "source": [
    "def catchTrial_cleaning(df, allowed_incorrect, catch_stimuli):\n",
    "    '''\n",
    "    Participants complete 4 catch trials total to ensure that they are doing the task.\n",
    "    If 3 or more trials are incorrect, the participant is excluded.  \n",
    "    '''\n",
    "    all_subjIDs = df.subjID.unique()\n",
    "    remove = []\n",
    "    df2_list = []\n",
    "    for subj in all_subjIDs:\n",
    "        count_incorrect = 0\n",
    "        subj_df = df.loc[df['subjID'] == subj]\n",
    "        cleaned_subj_df = subj_df.copy(deep=True) # prevent setting with copy warning\n",
    "        \n",
    "        # remove trials that are outside the outlier range\n",
    "        for idx, row in subj_df.iterrows():\n",
    "            stim = row['rated_stimulus']\n",
    "            if stim.split('/')[1] in list(catch_stimuli.keys()):\n",
    "                md_response = row['meanDepth_rating']\n",
    "                nav_response = row['navigability_rating']\n",
    "                \n",
    "                ans = catch_stimuli[stim.split('/')[1]]\n",
    "                if ans[0] == 'm':\n",
    "                    if ans[1] == 1:\n",
    "                        valid_ratings = 2 # highest acceptable response is 2\n",
    "                        if md_response > valid_ratings:\n",
    "                            count_incorrect += 1\n",
    "                            print(md_response, nav_response, ans)\n",
    "\n",
    "                            \n",
    "                    if ans[1] == 5:\n",
    "                        valid_ratings = 4 # lowest acceptable response is 4\n",
    "                        if md_response < valid_ratings:\n",
    "                            count_incorrect += 1\n",
    "                            print(md_response, nav_response, ans)\n",
    "                        \n",
    "                if ans[0] == 'n':\n",
    "                    if ans[1] == 1:\n",
    "                        valid_ratings = 2 # highest acceptable response is 2\n",
    "                        if nav_response > valid_ratings:\n",
    "                            count_incorrect += 1\n",
    "                            print(md_response, nav_response, ans)\n",
    "                            \n",
    "                    if ans[1] == 5:\n",
    "                        valid_ratings = 4 # lowest acceptable response is 4\n",
    "                        if nav_response < valid_ratings:\n",
    "                            count_incorrect += 1\n",
    "                            print(md_response, nav_response, ans)\n",
    "                        \n",
    "        if count_incorrect > allowed_incorrect:\n",
    "            remove.append(subj)\n",
    "        \n",
    "        df2_list.append(cleaned_subj_df)\n",
    "    \n",
    "    df2 = pd.concat(df2_list)\n",
    "    print(\"Number of participants that did not pass the catch trial check:\", len(remove))\n",
    "    \n",
    "    for index, row in df2.iterrows():\n",
    "        if row['subjID'] in remove:\n",
    "            df2.drop(index, inplace=True)\n",
    "    \n",
    "    return df2"
   ]
  },
  {
   "cell_type": "code",
   "execution_count": 233,
   "metadata": {},
   "outputs": [],
   "source": [
    "# Mean depth: 1 low, 1 high\n",
    "\n",
    "# High: /Users/prachi/Documents/MeanDepthAdaptation_Stimuli/high_pole/sun_aatxlublfjchvvzu.jpg\n",
    "# Low: /Users/prachi/Documents/MeanDepthAdaptation_Stimuli/low_pole/000675_2014-06-08_22-59-18_260595134347_rgbf000096-resize.jpg\n",
    "\n",
    "# Navigability: 1 low, 1 high\n",
    "\n",
    "# High: /Users/prachi/Documents/MeanDepthAdaptation_Stimuli/high_pole/sun_aoquhiddlfqapdlz.jpg\n",
    "# Low: /Users/prachi/Documents/MeanDepthAdaptation_Stimuli/low_pole/sun_bpzzatthlcapxzol.jpg\n",
    "\n",
    "all_catch_stim = {'000675_2014-06-08_22-59-18_260595134347_rgbf000096-resize.jpg': ('m',1),\n",
    "                  'sun_aatxlublfjchvvzu.jpg': ('m',5),\n",
    "                  'sun_aoquhiddlfqapdlz.jpg': ('n',5),\n",
    "                  'sun_bpzzatthlcapxzol.jpg': ('n',1)}\n"
   ]
  },
  {
   "cell_type": "code",
   "execution_count": 234,
   "metadata": {},
   "outputs": [
    {
     "name": "stdout",
     "output_type": "stream",
     "text": [
      "4.0 1.0 ('m', 1)\n",
      "3.0 5.0 ('m', 5)\n",
      "2.0 3.0 ('n', 1)\n",
      "3.0 4.0 ('m', 1)\n",
      "4.0 3.0 ('n', 1)\n",
      "2.0 5.0 ('m', 5)\n",
      "5.0 1.0 ('m', 1)\n",
      "3.0 3.0 ('n', 1)\n",
      "3.0 2.0 ('m', 5)\n",
      "3.0 2.0 ('m', 1)\n",
      "3.0 5.0 ('n', 1)\n",
      "3.0 2.0 ('m', 1)\n",
      "1.0 3.0 ('m', 5)\n",
      "4.0 3.0 ('n', 1)\n",
      "3.0 2.0 ('m', 1)\n",
      "3.0 3.0 ('n', 1)\n",
      "3.0 2.0 ('m', 1)\n",
      "5.0 3.0 ('n', 1)\n",
      "3.0 2.0 ('m', 1)\n",
      "2.0 3.0 ('n', 5)\n",
      "1.0 2.0 ('m', 5)\n",
      "5.0 4.0 ('n', 1)\n",
      "4.0 3.0 ('n', 5)\n",
      "3.0 4.0 ('m', 1)\n",
      "2.0 3.0 ('n', 1)\n",
      "3.0 3.0 ('m', 1)\n",
      "2.0 3.0 ('n', 1)\n",
      "3.0 5.0 ('m', 1)\n",
      "2.0 5.0 ('m', 5)\n",
      "2.0 2.0 ('n', 5)\n",
      "2.0 3.0 ('n', 1)\n",
      "5.0 1.0 ('n', 5)\n",
      "2.0 3.0 ('n', 1)\n",
      "Number of participants that did not pass the catch trial check: 10\n"
     ]
    }
   ],
   "source": [
    "cleaned_ratings = catchTrial_cleaning(raw_ratings, 1 , all_catch_stim)"
   ]
  },
  {
   "cell_type": "code",
   "execution_count": 235,
   "metadata": {},
   "outputs": [],
   "source": [
    "def get_mean_depth_ratings(df):\n",
    "    all_stimuli = df.rated_stimulus.unique()\n",
    "    \n",
    "    stim_meanDepth_rating = {}\n",
    "    for stim in all_stimuli:\n",
    "        stim_df = df.loc[df['rated_stimulus'] == stim]\n",
    "        stim_meanDepth_rating[stim] = list(stim_df['meanDepth_rating'])\n",
    "\n",
    "    return stim_meanDepth_rating\n",
    "        \n",
    "def get_navigability_ratings(df):\n",
    "    all_stimuli = df.rated_stimulus.unique()\n",
    "    \n",
    "    stim_meanDepth_rating = {}\n",
    "    for stim in all_stimuli:\n",
    "        stim_df = df.loc[df['rated_stimulus'] == stim]\n",
    "        stim_meanDepth_rating[stim] = list(stim_df['navigability_rating'])\n",
    "\n",
    "    return stim_meanDepth_rating\n",
    "     "
   ]
  },
  {
   "cell_type": "code",
   "execution_count": 236,
   "metadata": {},
   "outputs": [],
   "source": [
    "mean_depth_ratings = get_mean_depth_ratings(cleaned_ratings)\n"
   ]
  },
  {
   "cell_type": "code",
   "execution_count": 237,
   "metadata": {},
   "outputs": [],
   "source": [
    "navigability_ratings = get_navigability_ratings(cleaned_ratings)"
   ]
  },
  {
   "cell_type": "code",
   "execution_count": 238,
   "metadata": {},
   "outputs": [
    {
     "name": "stdout",
     "output_type": "stream",
     "text": [
      "depth_discrimination_stimuli/002365_2014-06-28_20-11-21_260595134347_rgbf000102-resize_1/002365_2014-06-28_20-11-21_260595134347_rgbf000102-resize-original.jpg 2.9166666666666665\n",
      "depth_discrimination_stimuli/001150_2014-06-17_15-27-34_260595134347_rgbf000108-resize_2/001150_2014-06-17_15-27-34_260595134347_rgbf000108-resize-original.jpg 2.5833333333333335\n",
      "depth_discrimination_stimuli/000780_2014-06-08_22-28-29_260595134347_rgbf000126-resize_1/000780_2014-06-08_22-28-29_260595134347_rgbf000126-resize-original.jpg 2.6666666666666665\n",
      "depth_discrimination_stimuli/000929_2014-06-09_16-33-19_260595134347_rgbf000139-resize_0/000929_2014-06-09_16-33-19_260595134347_rgbf000139-resize-original.jpg 2.5833333333333335\n",
      "depth_discrimination_stimuli/000800_2014-06-08_22-42-09_260595134347_rgbf000095-resize_3/000800_2014-06-08_22-42-09_260595134347_rgbf000095-resize-original.jpg 2.5833333333333335\n",
      "depth_discrimination_stimuli/000830_2014-06-04_19-49-31_260595134347_rgbf000096-resize_2/000830_2014-06-04_19-49-31_260595134347_rgbf000096-resize-original.jpg 2.9166666666666665\n",
      "depth_discrimination_stimuli/000635_2014-06-08_16-38-42_260595134347_rgbf000106-resize_1/000635_2014-06-08_16-38-42_260595134347_rgbf000106-resize-original.jpg 2.4166666666666665\n",
      "depth_discrimination_stimuli/001100_2014-06-15_17-46-26_260595134347_rgbf000225-resize_2/001100_2014-06-15_17-46-26_260595134347_rgbf000225-resize-original.jpg 2.4166666666666665\n",
      "scene_property_catch_stimuli/sun_aatxlublfjchvvzu.jpg 4.75\n"
     ]
    }
   ],
   "source": [
    "# get avg and std for each stimulus\n",
    "\n",
    "stimulus_mean_depth_stats = {}\n",
    "meandepth_avgs = [] \n",
    "meandepth_std = []\n",
    "for stim in mean_depth_ratings:\n",
    "    stimulus_mean_depth_stats[stim] = [np.mean(np.array(mean_depth_ratings[stim])), np.std(np.array(mean_depth_ratings[stim]))]\n",
    "    meandepth_avgs.append(np.mean(np.array(mean_depth_ratings[stim])))\n",
    "    if np.std(np.array(mean_depth_ratings[stim])) < 0.5:\n",
    "        print(stim, np.mean(np.array(mean_depth_ratings[stim])))\n",
    "    meandepth_std.append(np.std(np.array(mean_depth_ratings[stim])))\n",
    "    "
   ]
  },
  {
   "cell_type": "code",
   "execution_count": 239,
   "metadata": {},
   "outputs": [
    {
     "data": {
      "image/png": "[encoded data removed]",
      "text/plain": [
       "<Figure size 288x288 with 1 Axes>"
      ]
     },
     "metadata": {
      "needs_background": "light"
     },
     "output_type": "display_data"
    }
   ],
   "source": [
    "plt.figure(figsize=[4,4])\n",
    "plt.hist(meandepth_avgs)\n",
    "plt.xlim([1,5])\n",
    "plt.title('Distribution of Mean Depth Rating Averages')\n",
    "plt.show()"
   ]
  },
  {
   "cell_type": "code",
   "execution_count": 240,
   "metadata": {},
   "outputs": [
    {
     "data": {
      "image/png": "[encoded data removed]",
      "text/plain": [
       "<Figure size 288x288 with 1 Axes>"
      ]
     },
     "metadata": {
      "needs_background": "light"
     },
     "output_type": "display_data"
    }
   ],
   "source": [
    "plt.figure(figsize=[4,4])\n",
    "plt.hist(meandepth_std)\n",
    "plt.title('Distribution of Mean Depth Rating Stds')\n",
    "plt.show()"
   ]
  },
  {
   "cell_type": "code",
   "execution_count": 241,
   "metadata": {},
   "outputs": [],
   "source": [
    "stimulus_navigability_stats = {}\n",
    "navigability_avgs = [] \n",
    "navigability_std = []\n",
    "for stim in navigability_ratings:\n",
    "    stimulus_navigability_stats[stim] = [np.mean(np.array(navigability_ratings[stim])), np.std(np.array(navigability_ratings[stim]))]\n",
    "    navigability_avgs.append(np.mean(np.array(navigability_ratings[stim])))\n",
    "    navigability_std.append(np.std(np.array(navigability_ratings[stim])))"
   ]
  },
  {
   "cell_type": "code",
   "execution_count": 242,
   "metadata": {},
   "outputs": [
    {
     "data": {
      "image/png": "[encoded data removed]",
      "text/plain": [
       "<Figure size 288x288 with 1 Axes>"
      ]
     },
     "metadata": {
      "needs_background": "light"
     },
     "output_type": "display_data"
    }
   ],
   "source": [
    "plt.figure(figsize=[4,4])\n",
    "plt.hist(navigability_avgs, color='purple')\n",
    "plt.xlim([1,5])\n",
    "plt.title('Distribution of Navigability Rating Averages')\n",
    "plt.show()"
   ]
  },
  {
   "cell_type": "code",
   "execution_count": 243,
   "metadata": {},
   "outputs": [
    {
     "data": {
      "image/png": "[encoded data removed]",
      "text/plain": [
       "<Figure size 288x288 with 1 Axes>"
      ]
     },
     "metadata": {
      "needs_background": "light"
     },
     "output_type": "display_data"
    }
   ],
   "source": [
    "plt.figure(figsize=[4,4])\n",
    "plt.hist(navigability_std, color='purple')\n",
    "plt.title('Distribution of Navigability Rating Stds')\n",
    "plt.show()"
   ]
  },
  {
   "cell_type": "markdown",
   "metadata": {},
   "source": [
    "split participants w all stim \n",
    "\n",
    "mean and std within a scene \n",
    "\n",
    "outlier/exclusion: \n",
    "catch trials\n",
    "- for mean depth and navigability \n",
    "\n",
    "log RT \n",
    "\n",
    "num of unique responses \n"
   ]
  },
  {
   "cell_type": "code",
   "execution_count": null,
   "metadata": {},
   "outputs": [],
   "source": []
  },
  {
   "cell_type": "code",
   "execution_count": 244,
   "metadata": {},
   "outputs": [],
   "source": [
    "def get_participant_ratings(df):\n",
    "    '''\n",
    "    Returns list of participant rating lists \n",
    "    '''\n",
    "    md_ratings = []\n",
    "    nav_ratings = []\n",
    "    all_subjects = df.subjID.unique()\n",
    "    for subj in all_subjects:\n",
    "        subj_df = df.loc[df['subjID'] == subj]\n",
    "        subj_meandepth_ratings = list(subj_df['meanDepth_rating'])\n",
    "        subj_navigability_ratings = list(subj_df['navigability_rating'])\n",
    "        \n",
    "        md_ratings.append(subj_meandepth_ratings)\n",
    "        nav_ratings.append(subj_navigability_ratings)\n",
    "    \n",
    "    \n",
    "    return md_ratings, nav_ratings"
   ]
  },
  {
   "cell_type": "code",
   "execution_count": 245,
   "metadata": {},
   "outputs": [],
   "source": [
    "subjects_meanDepth_ratings, subjects_navigability_ratings = get_participant_ratings(raw_ratings)"
   ]
  },
  {
   "cell_type": "code",
   "execution_count": 246,
   "metadata": {},
   "outputs": [
    {
     "data": {
      "text/plain": [
       "196"
      ]
     },
     "execution_count": 246,
     "metadata": {},
     "output_type": "execute_result"
    }
   ],
   "source": [
    "len(subjects_navigability_ratings[8])"
   ]
  },
  {
   "cell_type": "code",
   "execution_count": null,
   "metadata": {},
   "outputs": [],
   "source": []
  },
  {
   "cell_type": "markdown",
   "metadata": {},
   "source": [
    "## Calculate Split Half Correlations \n",
    "\n",
    "https://docs.scipy.org/doc/scipy/reference/generated/scipy.stats.spearmanr.html\n",
    "\n"
   ]
  },
  {
   "cell_type": "code",
   "execution_count": 247,
   "metadata": {},
   "outputs": [],
   "source": [
    "def split_correlations(ratings, num_splits):\n",
    "    num_subj = len(ratings)\n",
    "    split_corrs = []\n",
    "    split_spearmanr = []\n",
    "    for i in range(num_splits):\n",
    "        split1 = []\n",
    "        split2 = []\n",
    "        random.shuffle(ratings)\n",
    "        if i % 2 == 0:\n",
    "            split1 = ratings[0:num_subj//2]\n",
    "            split2 = ratings[num_subj//2:(num_subj//2)*2]\n",
    "        else:\n",
    "            split2 = ratings[0:num_subj//2]\n",
    "            split1 = ratings[num_subj//2:(num_subj//2)*2]\n",
    "        \n",
    "        print(type(split1[0][0]), split2)\n",
    "        corr = scipy.stats.pearsonr(split1, split2)\n",
    "        spearmanr = stats.spearmanr(split1, split2)\n",
    "        split_corrs.append(corr)\n",
    "        split_spearmanr.append(spearmanr)\n",
    "        \n",
    "    return np.mean(np.array(split_corrs)), np.mean(np.array(split_spearmanr))\n",
    "        "
   ]
  },
  {
   "cell_type": "code",
   "execution_count": 248,
   "metadata": {},
   "outputs": [
    {
     "name": "stdout",
     "output_type": "stream",
     "text": [
      "<class 'float'> [[3.0, 4.0, 4.0, 3.0, 4.0, 3.0, 3.0, 3.0, 3.0, 4.0, 3.0, 3.0, 4.0, 3.0, 4.0, 4.0, 4.0, 3.0, 3.0, 3.0, 4.0, 4.0, 2.0, 3.0, 1.0, 4.0, 3.0, 2.0, 3.0, 3.0, 3.0, 4.0, 5.0, 4.0, 4.0, 3.0, 4.0, 3.0, 3.0, 2.0, 4.0, 3.0, 2.0, 4.0, 4.0, 4.0, 4.0, 4.0, 3.0, 4.0, 3.0, 4.0, 4.0, 4.0, 4.0, 3.0, 3.0, 3.0, 4.0, 3.0, 4.0, 4.0, 2.0, 3.0, 3.0, 4.0, 3.0, 4.0, 3.0, 3.0, 4.0, 3.0, 3.0, 4.0, 2.0, 3.0, 5.0, 2.0, 3.0, 3.0, 5.0, 3.0, 3.0, 4.0, 3.0, 3.0, 3.0, 5.0, 3.0, 4.0, 4.0, 3.0, 2.0, 3.0, 4.0, 3.0, 4.0, 3.0, 2.0, 3.0, 4.0, 3.0, 4.0, 4.0, 3.0, 5.0, 4.0, 4.0, 5.0, 3.0, 3.0, 4.0, 5.0, 4.0, 3.0, 3.0, 4.0, 5.0, 3.0, 4.0, 3.0, 3.0, 4.0, 3.0, 5.0, 3.0, 5.0, 4.0, 4.0, 4.0, 4.0, 3.0, 2.0, 3.0, 2.0, 4.0, 4.0, 2.0, 3.0, 4.0, 2.0, 5.0, 4.0, 3.0, 4.0, 3.0, 2.0, 3.0, 4.0, 3.0, 4.0, 4.0, 3.0, 5.0, 3.0, 4.0, 4.0, 4.0, 2.0, 3.0, 4.0, 3.0, 4.0, 3.0, 3.0, 3.0, 3.0, 3.0, 3.0, 4.0, 3.0, 3.0, 4.0, 3.0, 3.0, 4.0, 4.0, 3.0, 4.0, 3.0, 3.0, 4.0, 4.0, 3.0, 4.0, 4.0, 3.0, 3.0, 5.0, 3.0, 3.0, 3.0, 4.0, 4.0, 4.0, 4.0], [3.0, 3.0, 4.0, 3.0, 3.0, 3.0, 4.0, 3.0, 4.0, 4.0, 3.0, 3.0, 4.0, 3.0, 4.0, 2.0, 3.0, 4.0, 3.0, 3.0, 3.0, 3.0, 3.0, 2.0, 2.0, 3.0, 2.0, 3.0, 3.0, 2.0, 4.0, 3.0, 3.0, 4.0, 4.0, 3.0, 3.0, 3.0, 3.0, 3.0, 3.0, 3.0, 4.0, 4.0, 4.0, 3.0, 2.0, 3.0, 4.0, 3.0, 3.0, 3.0, 4.0, 3.0, 4.0, 4.0, 3.0, 3.0, 3.0, 3.0, 5.0, 4.0, 3.0, 3.0, 3.0, 5.0, 4.0, 4.0, 4.0, 4.0, 4.0, 3.0, 4.0, 5.0, 3.0, 3.0, 5.0, 3.0, 3.0, 1.0, 3.0, 4.0, 4.0, 4.0, 4.0, 3.0, 3.0, 5.0, 4.0, 3.0, 4.0, 4.0, 4.0, 4.0, 3.0, 3.0, 3.0, 3.0, 4.0, 4.0, 3.0, 3.0, 3.0, 4.0, 3.0, 3.0, 3.0, 3.0, 3.0, 4.0, 4.0, 3.0, 2.0, 5.0, 1.0, 3.0, 4.0, 3.0, 4.0, 2.0, 3.0, 2.0, 3.0, 3.0, 3.0, 4.0, 2.0, 4.0, 5.0, 3.0, 4.0, 4.0, 3.0, 2.0, 3.0, 3.0, 3.0, 3.0, 3.0, 3.0, 3.0, 4.0, 4.0, 4.0, 4.0, 3.0, 3.0, 3.0, 3.0, 2.0, 3.0, 2.0, 4.0, 2.0, 3.0, 3.0, 3.0, 2.0, 2.0, 4.0, 3.0, 3.0, 2.0, 3.0, 3.0, 3.0, 4.0, 3.0, 3.0, 3.0, 3.0, 4.0, 3.0, 3.0, 4.0, 4.0, 3.0, 3.0, 4.0, 3.0, 4.0, 3.0, 4.0, 3.0, 3.0, 5.0, 3.0, 3.0, 3.0, 3.0, 3.0, 4.0, 3.0, 2.0, 3.0, 3.0], [4.0, 5.0, 3.0, 4.0, 4.0, 3.0, 3.0, 3.0, 3.0, 3.0, 3.0, 4.0, 4.0, 3.0, 4.0, 4.0, 4.0, 4.0, 4.0, 3.0, 3.0, 4.0, 4.0, 4.0, 3.0, 3.0, 3.0, 5.0, 4.0, 3.0, 3.0, 4.0, 5.0, 5.0, 5.0, 5.0, 5.0, 2.0, 4.0, 3.0, 2.0, 3.0, 4.0, 3.0, 2.0, 4.0, 3.0, 5.0, 4.0, 2.0, 5.0, 3.0, 5.0, 4.0, 2.0, 5.0, 2.0, 2.0, 3.0, 2.0, 2.0, 5.0, 2.0, 2.0, 3.0, 4.0, 4.0, 3.0, 4.0, 3.0, 2.0, 2.0, 2.0, 2.0, 3.0, 3.0, 5.0, 5.0, 3.0, 2.0, 3.0, 2.0, 4.0, 4.0, 3.0, 4.0, 3.0, 3.0, 4.0, 5.0, 4.0, 5.0, 3.0, 3.0, 5.0, 5.0, 2.0, 3.0, 2.0, 5.0, 4.0, 3.0, 4.0, 4.0, 2.0, 2.0, 5.0, 5.0, 4.0, 3.0, 3.0, 3.0, 3.0, 3.0, 3.0, 3.0, 3.0, 4.0, 4.0, 4.0, 4.0, 5.0, 3.0, 3.0, 5.0, 3.0, 3.0, 3.0, 4.0, 3.0, 5.0, 4.0, 5.0, 3.0, 5.0, 4.0, 4.0, 3.0, 5.0, 1.0, 1.0, 3.0, 5.0, 4.0, 3.0, 2.0, 4.0, 2.0, 5.0, 2.0, 3.0, 5.0, 3.0, 4.0, 3.0, 2.0, 5.0, 4.0, 2.0, 4.0, 3.0, 4.0, 3.0, 3.0, 5.0, 4.0, 2.0, 5.0, 2.0, 5.0, 4.0, 4.0, 5.0, 3.0, 2.0, 3.0, 5.0, 4.0, 5.0, 3.0, 3.0, 2.0, 5.0, 3.0, 3.0, 4.0, 4.0, 5.0, 5.0, 5.0, 5.0, 5.0, 4.0, 5.0, 3.0, 2.0], [3.0, 3.0, 2.0, 3.0, 3.0, 3.0, 4.0, 2.0, 3.0, 3.0, 2.0, 1.0, 3.0, 2.0, 5.0, 3.0, 3.0, 3.0, 4.0, 3.0, 3.0, 4.0, 4.0, 5.0, 3.0, 2.0, 4.0, 3.0, 2.0, 3.0, 3.0, 3.0, 3.0, 4.0, 3.0, 1.0, 3.0, 3.0, 3.0, 4.0, 3.0, 5.0, 4.0, 4.0, 3.0, 3.0, 2.0, 2.0, 3.0, 3.0, 2.0, 2.0, 2.0, 3.0, 3.0, 2.0, 3.0, 4.0, 3.0, 2.0, 4.0, 3.0, 2.0, 4.0, 3.0, 4.0, 4.0, 3.0, 5.0, 4.0, 3.0, 4.0, 4.0, 3.0, 4.0, 3.0, 3.0, 4.0, 5.0, 3.0, 3.0, 3.0, 3.0, 1.0, 3.0, 2.0, 5.0, 3.0, 3.0, 3.0, 5.0, 3.0, 4.0, 3.0, 3.0, 3.0, 1.0, 2.0, 3.0, 2.0, 3.0, 2.0, 3.0, 2.0, 3.0, 2.0, 3.0, 4.0, 3.0, 3.0, 3.0, 4.0, 3.0, 2.0, 3.0, 5.0, 2.0, 4.0, 3.0, 2.0, 3.0, 3.0, 3.0, 4.0, 4.0, 3.0, 3.0, 3.0, 3.0, 1.0, 4.0, 3.0, 3.0, 3.0, 3.0, 3.0, 2.0, 3.0, 4.0, 3.0, 4.0, 5.0, 2.0, 3.0, 5.0, 1.0, 2.0, 3.0, 2.0, 3.0, 3.0, 5.0, 3.0, 2.0, 3.0, 2.0, 3.0, 3.0, 3.0, 3.0, 4.0, 2.0, 3.0, 2.0, 5.0, 3.0, 2.0, 3.0, 3.0, 3.0, 2.0, 2.0, 2.0, 3.0, 5.0, 3.0, 3.0, 2.0, 3.0, 3.0, 3.0, 2.0, 3.0, 3.0, 2.0, 3.0, 3.0, 3.0, 3.0, 3.0, 4.0, 3.0, 3.0, 4.0, 4.0, 2.0], [3.0, 2.0, 2.0, 3.0, 3.0, 2.0, 2.0, 2.0, 4.0, 1.0, 2.0, 3.0, 1.0, 3.0, 3.0, 3.0, 2.0, 2.0, 3.0, 3.0, 3.0, 1.0, 4.0, 2.0, 3.0, 1.0, 2.0, 3.0, 3.0, 2.0, 4.0, 3.0, 4.0, 3.0, 4.0, 2.0, 2.0, 3.0, 3.0, 2.0, 4.0, 2.0, 3.0, 3.0, 3.0, 2.0, 3.0, 2.0, 3.0, 2.0, 2.0, 2.0, 2.0, 1.0, 4.0, 3.0, 4.0, 3.0, 3.0, 2.0, 4.0, 3.0, 2.0, 3.0, 4.0, 2.0, 2.0, 2.0, 1.0, 2.0, 2.0, 3.0, 1.0, 4.0, 2.0, 3.0, 4.0, 5.0, 4.0, 2.0, 3.0, 2.0, 2.0, 3.0, 3.0, 4.0, 2.0, 3.0, 2.0, 4.0, 3.0, 3.0, 3.0, 2.0, 2.0, 3.0, 3.0, 2.0, 5.0, 3.0, 2.0, 2.0, 3.0, 2.0, 3.0, 5.0, 3.0, 1.0, 1.0, 4.0, 4.0, 3.0, 3.0, 3.0, 3.0, 2.0, 3.0, 3.0, 4.0, 2.0, 5.0, 2.0, 3.0, 5.0, 4.0, 3.0, 3.0, 4.0, 4.0, 2.0, 3.0, 3.0, 2.0, 3.0, 4.0, 2.0, 4.0, 3.0, 2.0, 2.0, 5.0, 2.0, 2.0, 3.0, 3.0, 4.0, 1.0, 2.0, 3.0, 4.0, 2.0, 4.0, 4.0, 3.0, 2.0, 3.0, 3.0, 3.0, 1.0, 1.0, 2.0, 3.0, 4.0, 4.0, 3.0, 2.0, 4.0, 3.0, 4.0, 4.0, 3.0, 4.0, 3.0, 3.0, 5.0, 3.0, 3.0, 2.0, 4.0, 2.0, 3.0, 3.0, 4.0, 4.0, 3.0, 2.0, 4.0, 3.0, 3.0, 2.0, 3.0, 5.0, 1.0, 4.0, 3.0, 3.0], [3.0, 3.0, 2.0, 2.0, 1.0, 2.0, 2.0, 3.0, 5.0, 3.0, 2.0, 2.0, 3.0, 2.0, 2.0, 2.0, 2.0, 1.0, 2.0, 2.0, 2.0, 1.0, 2.0, 3.0, 2.0, 2.0, 1.0, 2.0, 2.0, 1.0, 2.0, 2.0, 2.0, 1.0, 2.0, 1.0, 2.0, 2.0, 3.0, 2.0, 2.0, 2.0, 2.0, 1.0, 2.0, 2.0, 2.0, 1.0, 2.0, 1.0, 1.0, 2.0, 1.0, 2.0, 1.0, 2.0, 2.0, 3.0, 2.0, 4.0, 2.0, 3.0, 1.0, 2.0, 2.0, 3.0, 2.0, 2.0, 2.0, 3.0, 2.0, 2.0, 1.0, 4.0, 2.0, 2.0, 3.0, 2.0, 3.0, 1.0, 2.0, 1.0, 2.0, 1.0, 1.0, 2.0, 2.0, 1.0, 2.0, 1.0, 2.0, 1.0, 2.0, 1.0, 2.0, 2.0, 2.0, 1.0, 2.0, 1.0, 1.0, 2.0, 1.0, 2.0, 2.0, 2.0, 3.0, 2.0, 1.0, 3.0, 1.0, 2.0, 2.0, 2.0, 2.0, 2.0, 2.0, 1.0, 2.0, 1.0, 1.0, 1.0, 1.0, 1.0, 3.0, 2.0, 3.0, 2.0, 2.0, 1.0, 4.0, 2.0, 2.0, 2.0, 4.0, 2.0, 2.0, 2.0, 2.0, 2.0, 2.0, 1.0, 2.0, 2.0, 1.0, 2.0, 2.0, 2.0, 2.0, 2.0, 1.0, 1.0, 2.0, 2.0, 1.0, 3.0, 3.0, 1.0, 1.0, 4.0, 1.0, 2.0, 2.0, 1.0, 2.0, 1.0, 4.0, 1.0, 2.0, 3.0, 1.0, 1.0, 3.0, 2.0, 3.0, 3.0, 1.0, 2.0, 2.0, 1.0, 2.0, 2.0, 4.0, 2.0, 1.0, 1.0, 2.0, 2.0, 2.0, 3.0, 2.0, 2.0, 3.0, 2.0, 3.0, 1.0], [5.0, 5.0, 5.0, 5.0, 5.0, 5.0, 5.0, 5.0, 3.0, 2.0, 2.0, 1.0, 2.0, 1.0, 1.0, 2.0, 2.0, 3.0, 3.0, 4.0, 5.0, 3.0, 4.0, 5.0, 1.0, 3.0, 5.0, 3.0, 1.0, 2.0, 3.0, 4.0, 5.0, 3.0, 3.0, 4.0, 2.0, 3.0, 3.0, 4.0, 3.0, 4.0, 5.0, 2.0, 1.0, 1.0, 3.0, 3.0, 2.0, 1.0, 4.0, 5.0, 3.0, 2.0, 2.0, 3.0, 2.0, 2.0, 3.0, 5.0, 4.0, 3.0, 2.0, 1.0, 3.0, 3.0, 2.0, 2.0, 2.0, 3.0, 2.0, 3.0, 5.0, 1.0, 3.0, 1.0, 1.0, 1.0, 3.0, 3.0, 4.0, 4.0, 3.0, 5.0, 2.0, 2.0, 3.0, 3.0, 3.0, 2.0, 1.0, 2.0, 2.0, 4.0, 5.0, 4.0, 4.0, 4.0, 1.0, 2.0, 2.0, 3.0, 1.0, 1.0, 1.0, 1.0, 3.0, 2.0, 2.0, 3.0, 1.0, 1.0, 2.0, 3.0, 3.0, 2.0, 1.0, 1.0, 3.0, 2.0, 1.0, 1.0, 1.0, 3.0, 3.0, 1.0, 1.0, 3.0, 4.0, 3.0, 1.0, 2.0, 3.0, 3.0, 1.0, 2.0, 2.0, 3.0, 5.0, 2.0, 3.0, 3.0, 1.0, 3.0, 1.0, 4.0, 1.0, 1.0, 4.0, 3.0, 2.0, 2.0, 3.0, 4.0, 2.0, 4.0, 1.0, 3.0, 3.0, 3.0, 3.0, 3.0, 5.0, 4.0, 2.0, 3.0, 3.0, 4.0, 5.0, 3.0, 3.0, 3.0, 4.0, 3.0, 3.0, 1.0, 1.0, 1.0, 3.0, 5.0, 2.0, 1.0, 1.0, 2.0, 3.0, 2.0, 4.0, 4.0, 2.0, 3.0, 3.0, 3.0, 3.0, 4.0, 1.0, 1.0], [5.0, 5.0, 5.0, 4.0, 5.0, 5.0, 4.0, 2.0, 5.0, 4.0, 2.0, 5.0, 5.0, 4.0, 5.0, 5.0, 3.0, 5.0, 5.0, 4.0, 5.0, 5.0, 4.0, 5.0, 4.0, 2.0, 4.0, 5.0, 5.0, 5.0, 2.0, 5.0, 4.0, 2.0, 1.0, 2.0, 5.0, 2.0, 5.0, 5.0, 5.0, 2.0, 5.0, 1.0, 5.0, 4.0, 5.0, 5.0, 5.0, 5.0, 4.0, 5.0, 5.0, 5.0, 1.0, 1.0, 5.0, 4.0, 2.0, 4.0, 5.0, 5.0, 4.0, 3.0, 4.0, 2.0, 5.0, 5.0, 2.0, 4.0, 2.0, 5.0, 5.0, 2.0, 5.0, 5.0, 5.0, 5.0, 2.0, 5.0, 2.0, 5.0, 2.0, 1.0, 5.0, 5.0, 2.0, 4.0, 5.0, 5.0, 2.0, 5.0, 4.0, 1.0, 2.0, 4.0, 2.0, 1.0, 5.0, 5.0, 4.0, 4.0, 2.0, 3.0, 2.0, 5.0, 5.0, 4.0, 4.0, 5.0, 5.0, 5.0, 4.0, 5.0, 2.0, 5.0, 1.0, 2.0, 4.0, 5.0, 5.0, 4.0, 5.0, 5.0, 4.0, 2.0, 5.0, 5.0, 4.0, 2.0, 5.0, 2.0, 4.0, 5.0, 5.0, 2.0, 5.0, 1.0, 5.0, 5.0, 2.0, 5.0, 4.0, 5.0, 1.0, 5.0, 5.0, 5.0, 5.0, 5.0, 5.0, 2.0, 2.0, 5.0, 2.0, 5.0, 4.0, 1.0, 5.0, 5.0, 1.0, 5.0, 4.0, 5.0, 5.0, 5.0, 2.0, 5.0, 5.0, 1.0, 5.0, 1.0, 2.0, 1.0, 4.0, 4.0, 5.0, 5.0, 3.0, 5.0, 5.0, 2.0, 4.0, 2.0, 1.0, 5.0, 1.0, 2.0, 4.0, 2.0, 2.0, 2.0, 4.0, 5.0, 5.0, 5.0], [5.0, 5.0, 4.0, 5.0, 4.0, 4.0, 5.0, 4.0, 2.0, 2.0, 2.0, 2.0, 3.0, 2.0, 2.0, 2.0, 4.0, 4.0, 2.0, 2.0, 2.0, 3.0, 2.0, 3.0, 2.0, 2.0, 2.0, 2.0, 2.0, 3.0, 2.0, 2.0, 4.0, 2.0, 2.0, 2.0, 4.0, 2.0, 2.0, 2.0, 3.0, 2.0, 3.0, 2.0, 4.0, 3.0, 4.0, 5.0, 2.0, 3.0, 3.0, 1.0, 2.0, 2.0, 3.0, 2.0, 3.0, 5.0, 3.0, 4.0, 4.0, 4.0, 4.0, 3.0, 1.0, 3.0, 3.0, 3.0, 3.0, 2.0, 2.0, 5.0, 3.0, 2.0, 2.0, 3.0, 3.0, 3.0, 2.0, 3.0, 2.0, 4.0, 2.0, 3.0, 4.0, 4.0, 2.0, 2.0, 2.0, 3.0, 4.0, 3.0, 2.0, 4.0, 3.0, 2.0, 2.0, 2.0, 4.0, 4.0, 2.0, 3.0, 3.0, 2.0, 2.0, 3.0, 3.0, 2.0, 4.0, 3.0, 2.0, 2.0, 4.0, 3.0, 2.0, 3.0, 2.0, 2.0, 3.0, 3.0, 4.0, 3.0, 2.0, 2.0, 3.0, 2.0, 4.0, 3.0, 2.0, 2.0, 1.0, 2.0, 4.0, 2.0, 3.0, 3.0, 3.0, 2.0, 2.0, 1.0, 4.0, 3.0, 3.0, 2.0, 2.0, 2.0, 3.0, 2.0, 4.0, 3.0, 3.0, 2.0, 4.0, 1.0, 2.0, 2.0, 5.0, 2.0, 2.0, 2.0, 2.0, 3.0, 2.0, 3.0, 5.0, 3.0, 3.0, 2.0, 2.0, 3.0, 2.0, 2.0, 1.0, 2.0, 2.0, 2.0, 1.0, 3.0, 2.0, 1.0, 1.0, 2.0, 1.0, 1.0, 3.0, 2.0, 2.0, 1.0, 2.0, 4.0, 4.0, 4.0, 2.0, 1.0, 2.0, 2.0], [2.0, 2.0, 3.0, 4.0, 2.0, 3.0, 2.0, 4.0, 4.0, 4.0, 2.0, 4.0, 4.0, 2.0, 4.0, 4.0, 3.0, 2.0, 4.0, 4.0, 4.0, 3.0, 3.0, 2.0, 2.0, 4.0, 4.0, 3.0, 3.0, 3.0, 4.0, 4.0, 4.0, 3.0, 4.0, 4.0, 5.0, 4.0, 4.0, 4.0, 3.0, 3.0, 3.0, 2.0, 3.0, 4.0, 4.0, 4.0, 5.0, 4.0, 4.0, 4.0, 3.0, 3.0, 3.0, 2.0, 4.0, 4.0, 4.0, 4.0, 4.0, 4.0, 4.0, 4.0, 4.0, 3.0, 4.0, 3.0, 5.0, 4.0, 4.0, 4.0, 4.0, 3.0, 3.0, 5.0, 4.0, 2.0, 2.0, 4.0, 2.0, 3.0, 4.0, 2.0, 4.0, 3.0, 3.0, 3.0, 3.0, 2.0, 4.0, 4.0, 4.0, 4.0, 4.0, 4.0, 4.0, 3.0, 3.0, 3.0, 3.0, 3.0, 4.0, 3.0, 3.0, 2.0, 4.0, 4.0, 4.0, 4.0, 3.0, 3.0, 4.0, 2.0, 3.0, 3.0, 3.0, 4.0, 4.0, 4.0, 4.0, 5.0, 5.0, 4.0, 4.0, 3.0, 3.0, 2.0, 3.0, 3.0, 3.0, 2.0, 3.0, 3.0, 2.0, 4.0, 5.0, 4.0, 4.0, 4.0, 4.0, 4.0, 1.0, 4.0, 3.0, 3.0, 3.0, 4.0, 4.0, 3.0, 3.0, 5.0, 5.0, 4.0, 3.0, 4.0, 4.0, 4.0, 2.0, 2.0, 4.0, 4.0, 4.0, 3.0, 4.0, 3.0, 2.0, 3.0, 4.0, 4.0, 4.0, 4.0, 3.0, 3.0, 3.0, 5.0, 4.0, 4.0, 2.0, 3.0, 4.0, 5.0, 2.0, 4.0, 4.0, 5.0, 3.0, 5.0, 4.0, 3.0, 4.0, 4.0, 5.0, 4.0, 4.0, 4.0], [1.0, 2.0, 2.0, 3.0, 2.0, 3.0, 2.0, 4.0, 1.0, 1.0, 4.0, 3.0, 2.0, 4.0, 3.0, 4.0, 1.0, 4.0, 2.0, 2.0, 2.0, 4.0, 2.0, 1.0, 4.0, 4.0, 4.0, 3.0, 5.0, 2.0, 4.0, 4.0, 2.0, 4.0, 4.0, 5.0, 4.0, 4.0, 4.0, 4.0, 5.0, 5.0, 3.0, 5.0, 1.0, 5.0, 2.0, 3.0, 2.0, 1.0, 4.0, 3.0, 4.0, 2.0, 4.0, 4.0, 4.0, 5.0, 5.0, 4.0, 4.0, 5.0, 2.0, 2.0, 2.0, 4.0, 4.0, 4.0, 5.0, 3.0, 4.0, 4.0, 3.0, 2.0, 2.0, 2.0, 3.0, 3.0, 5.0, 3.0, 4.0, 3.0, 3.0, 2.0, 2.0, 4.0, 3.0, 4.0, 3.0, 4.0, 3.0, 3.0, 2.0, 2.0, 3.0, 3.0, 3.0, 5.0, 4.0, 1.0, 4.0, 4.0, 4.0, 3.0, 5.0, 4.0, 2.0, 3.0, 3.0, 3.0, 2.0, 2.0, 3.0, 2.0, 2.0, 2.0, 4.0, 2.0, 4.0, 2.0, 3.0, 3.0, 4.0, 4.0, 3.0, 1.0, 4.0, 2.0, 3.0, 4.0, 5.0, 4.0, 3.0, 4.0, 5.0, 4.0, 2.0, 2.0, 5.0, 4.0, 3.0, 5.0, 2.0, 4.0, 3.0, 4.0, 5.0, 2.0, 3.0, 4.0, 1.0, 2.0, 5.0, 2.0, 2.0, 2.0, 4.0, 3.0, 3.0, 5.0, 3.0, 4.0, 5.0, 3.0, 5.0, 5.0, 1.0, 2.0, 3.0, 3.0, 2.0, 3.0, 2.0, 2.0, 2.0, 5.0, 4.0, 3.0, 3.0, 4.0, 2.0, 5.0, 1.0, 4.0, 4.0, 5.0, 2.0, 2.0, 4.0, 2.0, 5.0, 2.0, 1.0, 2.0, 3.0, 4.0]]\n"
     ]
    },
    {
     "ename": "TypeError",
     "evalue": "No loop matching the specified signature and casting was found for ufunc add",
     "output_type": "error",
     "traceback": [
      "\u001b[0;31m---------------------------------------------------------------------------\u001b[0m",
      "\u001b[0;31mTypeError\u001b[0m                                 Traceback (most recent call last)",
      "\u001b[0;32m<ipython-input-248-57a10da08598>\u001b[0m in \u001b[0;36m<module>\u001b[0;34m\u001b[0m\n\u001b[0;32m----> 1\u001b[0;31m \u001b[0mmd_split_corr_100\u001b[0m \u001b[0;34m=\u001b[0m \u001b[0msplit_correlations\u001b[0m\u001b[0;34m(\u001b[0m\u001b[0msubjects_meanDepth_ratings\u001b[0m\u001b[0;34m,\u001b[0m \u001b[0;36m2\u001b[0m\u001b[0;34m)\u001b[0m\u001b[0;34m\u001b[0m\u001b[0m\n\u001b[0m",
      "\u001b[0;32m<ipython-input-247-ac74a2f9ed40>\u001b[0m in \u001b[0;36msplit_correlations\u001b[0;34m(ratings, num_splits)\u001b[0m\n\u001b[1;32m     15\u001b[0m \u001b[0;34m\u001b[0m\u001b[0m\n\u001b[1;32m     16\u001b[0m         \u001b[0mprint\u001b[0m\u001b[0;34m(\u001b[0m\u001b[0mtype\u001b[0m\u001b[0;34m(\u001b[0m\u001b[0msplit1\u001b[0m\u001b[0;34m[\u001b[0m\u001b[0;36m0\u001b[0m\u001b[0;34m]\u001b[0m\u001b[0;34m[\u001b[0m\u001b[0;36m0\u001b[0m\u001b[0;34m]\u001b[0m\u001b[0;34m)\u001b[0m\u001b[0;34m,\u001b[0m \u001b[0msplit2\u001b[0m\u001b[0;34m)\u001b[0m\u001b[0;34m\u001b[0m\u001b[0m\n\u001b[0;32m---> 17\u001b[0;31m         \u001b[0mcorr\u001b[0m \u001b[0;34m=\u001b[0m \u001b[0mscipy\u001b[0m\u001b[0;34m.\u001b[0m\u001b[0mstats\u001b[0m\u001b[0;34m.\u001b[0m\u001b[0mpearsonr\u001b[0m\u001b[0;34m(\u001b[0m\u001b[0msplit1\u001b[0m\u001b[0;34m,\u001b[0m \u001b[0msplit2\u001b[0m\u001b[0;34m)\u001b[0m\u001b[0;34m\u001b[0m\u001b[0m\n\u001b[0m\u001b[1;32m     18\u001b[0m         \u001b[0mspearmanr\u001b[0m \u001b[0;34m=\u001b[0m \u001b[0mstats\u001b[0m\u001b[0;34m.\u001b[0m\u001b[0mspearmanr\u001b[0m\u001b[0;34m(\u001b[0m\u001b[0msplit1\u001b[0m\u001b[0;34m,\u001b[0m \u001b[0msplit2\u001b[0m\u001b[0;34m)\u001b[0m\u001b[0;34m\u001b[0m\u001b[0m\n\u001b[1;32m     19\u001b[0m         \u001b[0msplit_corrs\u001b[0m\u001b[0;34m.\u001b[0m\u001b[0mappend\u001b[0m\u001b[0;34m(\u001b[0m\u001b[0mcorr\u001b[0m\u001b[0;34m)\u001b[0m\u001b[0;34m\u001b[0m\u001b[0m\n",
      "\u001b[0;32m~/Documents/depth_duration/experiment/lib/python3.6/site-packages/scipy/stats/stats.py\u001b[0m in \u001b[0;36mpearsonr\u001b[0;34m(x, y)\u001b[0m\n\u001b[1;32m   3854\u001b[0m         \u001b[0;32mreturn\u001b[0m \u001b[0mdtype\u001b[0m\u001b[0;34m(\u001b[0m\u001b[0mnp\u001b[0m\u001b[0;34m.\u001b[0m\u001b[0msign\u001b[0m\u001b[0;34m(\u001b[0m\u001b[0mx\u001b[0m\u001b[0;34m[\u001b[0m\u001b[0;36m1\u001b[0m\u001b[0;34m]\u001b[0m \u001b[0;34m-\u001b[0m \u001b[0mx\u001b[0m\u001b[0;34m[\u001b[0m\u001b[0;36m0\u001b[0m\u001b[0;34m]\u001b[0m\u001b[0;34m)\u001b[0m\u001b[0;34m*\u001b[0m\u001b[0mnp\u001b[0m\u001b[0;34m.\u001b[0m\u001b[0msign\u001b[0m\u001b[0;34m(\u001b[0m\u001b[0my\u001b[0m\u001b[0;34m[\u001b[0m\u001b[0;36m1\u001b[0m\u001b[0;34m]\u001b[0m \u001b[0;34m-\u001b[0m \u001b[0my\u001b[0m\u001b[0;34m[\u001b[0m\u001b[0;36m0\u001b[0m\u001b[0;34m]\u001b[0m\u001b[0;34m)\u001b[0m\u001b[0;34m)\u001b[0m\u001b[0;34m,\u001b[0m \u001b[0;36m1.0\u001b[0m\u001b[0;34m\u001b[0m\u001b[0m\n\u001b[1;32m   3855\u001b[0m \u001b[0;34m\u001b[0m\u001b[0m\n\u001b[0;32m-> 3856\u001b[0;31m     \u001b[0mxmean\u001b[0m \u001b[0;34m=\u001b[0m \u001b[0mx\u001b[0m\u001b[0;34m.\u001b[0m\u001b[0mmean\u001b[0m\u001b[0;34m(\u001b[0m\u001b[0mdtype\u001b[0m\u001b[0;34m=\u001b[0m\u001b[0mdtype\u001b[0m\u001b[0;34m)\u001b[0m\u001b[0;34m\u001b[0m\u001b[0m\n\u001b[0m\u001b[1;32m   3857\u001b[0m     \u001b[0mymean\u001b[0m \u001b[0;34m=\u001b[0m \u001b[0my\u001b[0m\u001b[0;34m.\u001b[0m\u001b[0mmean\u001b[0m\u001b[0;34m(\u001b[0m\u001b[0mdtype\u001b[0m\u001b[0;34m=\u001b[0m\u001b[0mdtype\u001b[0m\u001b[0;34m)\u001b[0m\u001b[0;34m\u001b[0m\u001b[0m\n\u001b[1;32m   3858\u001b[0m \u001b[0;34m\u001b[0m\u001b[0m\n",
      "\u001b[0;32m~/Documents/depth_duration/experiment/lib/python3.6/site-packages/numpy/core/_methods.py\u001b[0m in \u001b[0;36m_mean\u001b[0;34m(a, axis, dtype, out, keepdims)\u001b[0m\n\u001b[1;32m    158\u001b[0m             \u001b[0mis_float16_result\u001b[0m \u001b[0;34m=\u001b[0m \u001b[0;32mTrue\u001b[0m\u001b[0;34m\u001b[0m\u001b[0m\n\u001b[1;32m    159\u001b[0m \u001b[0;34m\u001b[0m\u001b[0m\n\u001b[0;32m--> 160\u001b[0;31m     \u001b[0mret\u001b[0m \u001b[0;34m=\u001b[0m \u001b[0mumr_sum\u001b[0m\u001b[0;34m(\u001b[0m\u001b[0marr\u001b[0m\u001b[0;34m,\u001b[0m \u001b[0maxis\u001b[0m\u001b[0;34m,\u001b[0m \u001b[0mdtype\u001b[0m\u001b[0;34m,\u001b[0m \u001b[0mout\u001b[0m\u001b[0;34m,\u001b[0m \u001b[0mkeepdims\u001b[0m\u001b[0;34m)\u001b[0m\u001b[0;34m\u001b[0m\u001b[0m\n\u001b[0m\u001b[1;32m    161\u001b[0m     \u001b[0;32mif\u001b[0m \u001b[0misinstance\u001b[0m\u001b[0;34m(\u001b[0m\u001b[0mret\u001b[0m\u001b[0;34m,\u001b[0m \u001b[0mmu\u001b[0m\u001b[0;34m.\u001b[0m\u001b[0mndarray\u001b[0m\u001b[0;34m)\u001b[0m\u001b[0;34m:\u001b[0m\u001b[0;34m\u001b[0m\u001b[0m\n\u001b[1;32m    162\u001b[0m         ret = um.true_divide(\n",
      "\u001b[0;31mTypeError\u001b[0m: No loop matching the specified signature and casting was found for ufunc add"
     ]
    }
   ],
   "source": [
    "md_split_corr_100 = split_correlations(subjects_meanDepth_ratings, 2)"
   ]
  },
  {
   "cell_type": "code",
   "execution_count": 117,
   "metadata": {},
   "outputs": [
    {
     "data": {
      "text/plain": [
       "(array([[[1.]]]), 1.0)"
      ]
     },
     "execution_count": 117,
     "metadata": {},
     "output_type": "execute_result"
    }
   ],
   "source": [
    "x = [[1,2,3], [2, 3, 4], [4, 5, 6], [5, 6, 7], [6, 7, 8]]\n",
    "s1 = np.array(x[0:len(x)//2])\n",
    "s2 = np.array(x[len(x)//2:(len(x)//2)*2])\n",
    "scipy.stats.pearsonr(s1, s2)"
   ]
  },
  {
   "cell_type": "code",
   "execution_count": 15,
   "metadata": {},
   "outputs": [
    {
     "data": {
      "image/png": "[encoded data removed]",
      "text/plain": [
       "<Figure size 432x288 with 1 Axes>"
      ]
     },
     "metadata": {
      "needs_background": "light"
     },
     "output_type": "display_data"
    }
   ],
   "source": [
    "plt.figure()\n",
    "plt.hist(mean_depth_corr_distributions, color='purple')\n",
    "plt.title('Distribution of Mean Depth Rating Correlations')\n",
    "plt.show();"
   ]
  },
  {
   "cell_type": "code",
   "execution_count": 91,
   "metadata": {},
   "outputs": [
    {
     "data": {
      "image/png": "[encoded data removed]",
      "text/plain": [
       "<Figure size 432x288 with 1 Axes>"
      ]
     },
     "metadata": {
      "needs_background": "light"
     },
     "output_type": "display_data"
    }
   ],
   "source": [
    "plt.figure()\n",
    "plt.hist(navigability_corr_distributions, color='darkgreen')\n",
    "plt.title('Distribution of Navigability Rating Correlations')\n",
    "plt.show();"
   ]
  },
  {
   "cell_type": "code",
   "execution_count": null,
   "metadata": {},
   "outputs": [],
   "source": []
  }
 ],
 "metadata": {
  "kernelspec": {
   "display_name": "Python 3",
   "language": "python",
   "name": "python3"
  },
  "language_info": {
   "codemirror_mode": {
    "name": "ipython",
    "version": 3
   },
   "file_extension": ".py",
   "mimetype": "text/x-python",
   "name": "python",
   "nbconvert_exporter": "python",
   "pygments_lexer": "ipython3",
   "version": "3.6.1"
  }
 },
 "nbformat": 4,
 "nbformat_minor": 4
}
