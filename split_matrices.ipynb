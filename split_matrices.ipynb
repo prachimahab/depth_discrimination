{
 "cells": [
  {
   "cell_type": "code",
   "execution_count": 36,
   "metadata": {},
   "outputs": [],
   "source": [
    "import os \n",
    "import pandas as pd\n",
    "import numpy as np\n",
    "import math\n",
    "import matplotlib.pyplot as plt\n",
    "import scipy \n",
    "import scipy.stats as stats\n",
    "from scipy.stats import sem \n",
    "from sklearn.linear_model import LinearRegression\n",
    "import pickle\n",
    "import seaborn as sns\n",
    "from matplotlib.colors import LinearSegmentedColormap\n",
    "import random"
   ]
  },
  {
   "cell_type": "code",
   "execution_count": 37,
   "metadata": {},
   "outputs": [],
   "source": [
    "final_discrim_path = '/Users/prachimahableshwarkar/Documents/GW/Depth_MTurk/depth_discrimination/TAC_discrim_datafiles/matched_discrim_data/final_discrim.csv'\n"
   ]
  },
  {
   "cell_type": "code",
   "execution_count": 323,
   "metadata": {},
   "outputs": [],
   "source": [
    "final_discrim = pd.read_csv(final_discrim_path)\n"
   ]
  },
  {
   "cell_type": "code",
   "execution_count": 39,
   "metadata": {},
   "outputs": [],
   "source": [
    "n_VE_data_250_path = '/Users/prachimahableshwarkar/Documents/GW/Depth_MTurk/verbal_judgement_analysis/TAC_data/matched_VE_data/normalized_250_data.csv'\n",
    "\n",
    "n_VE_data_1000_path = '/Users/prachimahableshwarkar/Documents/GW/Depth_MTurk/verbal_judgement_analysis/TAC_data/matched_VE_data/normalized_1000_data.csv'\n"
   ]
  },
  {
   "cell_type": "code",
   "execution_count": 40,
   "metadata": {},
   "outputs": [],
   "source": [
    "n_VE_data_250 = pd.read_csv(n_VE_data_250_path)\n",
    "n_VE_data_1000 = pd.read_csv(n_VE_data_1000_path)\n"
   ]
  },
  {
   "cell_type": "code",
   "execution_count": 290,
   "metadata": {
    "jupyter": {
     "source_hidden": true
    }
   },
   "outputs": [],
   "source": [
    "def get_stimuli(duration_df):\n",
    "    \"\"\"\n",
    "    Args:\n",
    "        duration df \n",
    "    Returns:\n",
    "        all_stimuli\n",
    "    \"\"\"\n",
    "    \n",
    "    stimuli = set()\n",
    "    for idx, row in duration_df.iterrows():\n",
    "        stimulus = row[\"stimulus\"]\n",
    "        stimuli.add(stimulus)\n",
    "        \n",
    "    return list(stimuli)\n",
    "\n",
    "def rand_data(duration_df, proportion):\n",
    "    \"\"\"\n",
    "    Args\n",
    "        Data post outlier removal: i.e. cleaned_data \n",
    "        proportion - amount of data in each split (0.5 for 50/50 split)\n",
    "    \"\"\"\n",
    "    \n",
    "    stimuli = get_stimuli(duration_df)\n",
    "    \n",
    "    rand_y = []\n",
    "    rand_std = []\n",
    "    rand_ste = []\n",
    "    rand_stim = []\n",
    "    \n",
    "    rand_all_ys = []\n",
    "    \n",
    "    rand_subjIDs = []\n",
    "    \n",
    "    rand_RTs = []\n",
    "\n",
    "    grouped = duration_df.groupby(duration_df.stimulus) \n",
    "    for stim in stimuli:   \n",
    "        stim_df = grouped.get_group(stim)\n",
    "        stim_df_estimates = stim_df['depth_estimate'].tolist()\n",
    "        stim_df_RTs = stim_df['trial_RT'].tolist()\n",
    "        stim_df_subjIDs = stim_df['subjID'].tolist()\n",
    "        \n",
    "        # Shuffle two lists with same order\n",
    "        # Using zip() + * operator + shuffle()\n",
    "        temp = list(zip(stim_df_subjIDs, stim_df_estimates, stim_df_RTs))\n",
    "        random.shuffle(temp)\n",
    "        shuffled_subjIDs, shuffled_estimates, shuffled_RTs = zip(*temp)\n",
    "        # res1 and res2 come out as tuples, and so must be converted to lists.\n",
    "        shuffled_subjIDs, shuffled_estimates, shuffled_RTs = list(shuffled_subjIDs), list(shuffled_estimates), list(shuffled_RTs)\n",
    "        \n",
    "        rand_all_ys.append(np.array(shuffled_estimates[0:int(len(shuffled_estimates)*proportion)]))\n",
    "        rand_subjIDs.append(np.array(shuffled_subjIDs[0:int(len(shuffled_subjIDs)*proportion)]))\n",
    "        rand_RTs.append(np.array(shuffled_RTs[0:int(len(shuffled_RTs)*proportion)]))\n",
    "        \n",
    "        estim_avg_df0 = np.mean(np.array(shuffled_estimates[0:int(len(shuffled_estimates)*proportion)]))\n",
    "        estim_std = np.std(np.array(shuffled_estimates[0:int(len(shuffled_estimates)*proportion)]))\n",
    "        estim_ste = stats.sem(np.array(shuffled_estimates[0:int(len(shuffled_estimates)*proportion)]))\n",
    "        \n",
    "        rand_y.append(estim_avg_df0) \n",
    "        rand_std.append(estim_std)\n",
    "        rand_ste.append(estim_ste)\n",
    "        rand_stim.append(stim)\n",
    "    \n",
    "    rand_y = np.array(rand_y).reshape(1,-1)[0]\n",
    "    rand_std = np.array(rand_std).reshape(1,-1)[0]\n",
    "    rand_ste = np.array(rand_ste).reshape(1,-1)[0]\n",
    "    rand_stim = np.array(rand_stim).reshape(1,-1)[0]\n",
    "    \n",
    "    rand_df = pd.DataFrame(columns=('subjID', 'stimulus', 'depth_estimate', 'trial_RT'))\n",
    "    \n",
    "    c = 0\n",
    "    # loop through all stimuli\n",
    "    for i, stim in enumerate(rand_stim):\n",
    "        # loop through all the subjects that have data for that stimulus\n",
    "        for j in range(len(rand_subjIDs[i])):\n",
    "            # add to the df the subject id, the subjects estimate, and the stimulus name\n",
    "            # df has a seperate row for each subjects response \n",
    "            rand_df.loc[c] = [rand_subjIDs[i][j], stim, rand_all_ys[i][j], rand_RTs[i][j]]\n",
    "            c += 1\n",
    "            \n",
    "    return [rand_y, rand_std, rand_ste, rand_stim], rand_df\n",
    "\n"
   ]
  },
  {
   "cell_type": "code",
   "execution_count": 291,
   "metadata": {},
   "outputs": [],
   "source": [
    "r0_250, r0_250_df = rand_data(n_VE_data_250, 0.5)\n",
    "r0_1000, r0_1000_df = rand_data(n_VE_data_1000, 0.5)"
   ]
  },
  {
   "cell_type": "code",
   "execution_count": null,
   "metadata": {},
   "outputs": [],
   "source": []
  },
  {
   "cell_type": "code",
   "execution_count": 48,
   "metadata": {
    "jupyter": {
     "source_hidden": true
    }
   },
   "outputs": [],
   "source": [
    "def get_accuracy(df):\n",
    "    \"\"\"\n",
    "    * ACCURACY BASED ON THE KINECT\n",
    "    args:\n",
    "        df  \n",
    "    returns:\n",
    "        proportion of correct responses, count of correct responses, count of total trials  \n",
    "    \"\"\"\n",
    "    count_correct = 0\n",
    "    count_incorrect = 0\n",
    "    count_total = 0\n",
    "    count_missed = 0\n",
    "    for idx, row in df.iterrows():\n",
    "        choice = row[\"discrim_choice\"]\n",
    "        if choice == 2.0:\n",
    "            count_missed += 1\n",
    "        else:    \n",
    "            count_total += 1\n",
    "            depth0 = row[\"actual_depth_0\"]\n",
    "            depth1 = row[\"actual_depth_1\"]\n",
    "            if depth0 < depth1:\n",
    "                correct_choice = 0\n",
    "            if depth0 > depth1:\n",
    "                correct_choice = 1\n",
    "            if depth0 == depth1:\n",
    "                # case where depths are equal \n",
    "                correct_choice = None\n",
    "            if choice == correct_choice:\n",
    "                count_correct += 1\n",
    "    \n",
    "    return count_correct/count_total, count_correct, count_total, count_missed\n",
    "\n",
    "def get_RT(df):\n",
    "    \"\"\"\n",
    "    Converts raw RT --> ln(RT)\n",
    "    \n",
    "    args:\n",
    "        df  \n",
    "    returns:\n",
    "        array of RTs, avg RT and std   \n",
    "    \"\"\"\n",
    "    list_RTs = []\n",
    "    for idx, row in df.iterrows():   \n",
    "        stimulus_duration = row['log_sceneDuration2']\n",
    "        RT = row[\"trial_RT\"] - stimulus_duration\n",
    "        list_RTs.append(np.log(RT))\n",
    "    \n",
    "    list_RTs = np.array(list_RTs)\n",
    "    \n",
    "    return list_RTs, np.mean(list_RTs) ,np.std(list_RTs), stats.sem(list_RTs)"
   ]
  },
  {
   "cell_type": "code",
   "execution_count": 49,
   "metadata": {
    "jupyter": {
     "source_hidden": true
    }
   },
   "outputs": [],
   "source": [
    "def individual_discrimination_stats(df):\n",
    "    '''\n",
    "    Individual discrimination performance and RT \n",
    "    '''\n",
    "    all_stim0 = df.stimulus_0.unique()\n",
    "    \n",
    "    stimuli_stats = {}\n",
    "    for stim0 in all_stim0:\n",
    "        stim0_df = df.loc[df['stimulus_0'] == stim0]\n",
    "        other_stim = stim0_df.stimulus_1.unique()[0]\n",
    "        stim1_df = df.loc[df['stimulus_1'] == stim0]\n",
    "        # df for a specific discrimination trial (collapsed on stim presentation order)\n",
    "        stim_df = pd.concat([stim0_df, stim1_df], ignore_index=True)\n",
    "        stim_250_df = stim_df[stim_df['duration'] == 250.0]\n",
    "        stim_1000_df = stim_df[stim_df['duration'] == 1000.0] \n",
    "                \n",
    "        stim_depthdiff = stim_df['depth_difference'][0]\n",
    "        \n",
    "        stim0_depth = stim_df['actual_depth_0'][0]\n",
    "        stim1_depth = stim_df['actual_depth_1'][0]\n",
    "        stim_depthbin = np.mean(np.array([stim0_depth,stim1_depth]))\n",
    "        \n",
    "        kinect_answer = stim0_df.kinect_answer.unique()[0]\n",
    "        \n",
    "        try:\n",
    "            stim_acc_250 = get_accuracy(stim_250_df)\n",
    "            stim_acc_1000 = get_accuracy(stim_1000_df)\n",
    "\n",
    "            stim_RT_250 = get_RT(stim_250_df)\n",
    "            stim_RT_1000 = get_RT(stim_1000_df)\n",
    "\n",
    "            stimuli_stats[stim0] = {'stimulus_1': other_stim,\n",
    "                                    'accuracy_250': stim_acc_250,\n",
    "                                    'accuracy_1000': stim_acc_1000,\n",
    "                                    'avg_depth': stim_depthbin,\n",
    "                                    'depthdifference': stim_depthdiff, \n",
    "                                    'RT_250': stim_RT_250,\n",
    "                                    'RT_1000': stim_RT_1000,\n",
    "                                    'kinect_answer': kinect_answer}\n",
    "        except:\n",
    "            pass\n",
    "    \n",
    "    return stimuli_stats"
   ]
  },
  {
   "cell_type": "code",
   "execution_count": 76,
   "metadata": {},
   "outputs": [],
   "source": [
    "all_discrim_performance = individual_discrimination_stats(final_discrim)\n"
   ]
  },
  {
   "cell_type": "code",
   "execution_count": 53,
   "metadata": {},
   "outputs": [],
   "source": [
    "# all_discrim_performance['depth_discrimination_stimuli/001417_2014-06-19_16-25-36_260595134347_rgbf000115-resize_5/001417_2014-06-19_16-25-36_260595134347_rgbf000115-resize_5-target.png']\n"
   ]
  },
  {
   "cell_type": "code",
   "execution_count": 65,
   "metadata": {
    "jupyter": {
     "source_hidden": true
    }
   },
   "outputs": [],
   "source": [
    "def get_answerkey(discrim_performance, VE_data):\n",
    "    '''\n",
    "    Generates discrimination trial answer key based off of verbal judgement data\n",
    "    '''\n",
    "    answerkey = {}\n",
    "    \n",
    "    final_y = VE_data[0]\n",
    "    final_std = VE_data[1]\n",
    "    final_ste = VE_data[2]\n",
    "    final_stim = VE_data[3]\n",
    "\n",
    "    for key in discrim_performance.keys():\n",
    "        targetimg0 = key.split('/')[-1]\n",
    "        folder0 = targetimg0[:-11]\n",
    "        depth_dur_path0 = 'depth_duration_stimuli/' + folder0 + '/' + targetimg0\n",
    "        idx0 = np.where(final_stim == depth_dur_path0)[0][0]\n",
    "        avg_estim_stim0 = final_y[idx0]\n",
    "        std0 = final_std[idx0]\n",
    "        ste0 = final_ste[idx0]\n",
    "    \n",
    "        targetimg1 = discrim_performance[key]['stimulus_1'].split('/')[-1]\n",
    "        folder1 = targetimg1[:-11]\n",
    "        depth_dur_path1 = 'depth_duration_stimuli/' + folder1 + '/' + targetimg1\n",
    "        idx1= np.where(final_stim == depth_dur_path1)[0][0]\n",
    "        avg_estim_stim1 = final_y[idx1]\n",
    "        std1 = final_std[idx1]\n",
    "        ste1 = final_ste[idx1]\n",
    "    \n",
    "        kinect_answer = discrim_performance[key]['kinect_answer'].split('/')[-1]\n",
    "\n",
    "        if avg_estim_stim0 < avg_estim_stim1:\n",
    "            # Which target is CLOSER to you?\n",
    "            answer = targetimg0\n",
    "        if avg_estim_stim0 == avg_estim_stim1:\n",
    "            print(targetimg0, targetimg1)\n",
    "        if avg_estim_stim0 > avg_estim_stim1:\n",
    "            answer = targetimg1\n",
    "\n",
    "        answerkey[key] = {'stimulus_1': targetimg1,\n",
    "                                   'stimulus_0_avg_estim': avg_estim_stim0,\n",
    "                                   'stimulus_1_avg_estim': avg_estim_stim1,\n",
    "                                   'answer': answer,\n",
    "                                   'std0': std0,\n",
    "                                   'std1': std1,\n",
    "                                   'kinect_answer': kinect_answer}\n",
    "        \n",
    "    return answerkey\n",
    "    "
   ]
  },
  {
   "cell_type": "code",
   "execution_count": 77,
   "metadata": {},
   "outputs": [],
   "source": [
    "ak_250 = get_answerkey(all_discrim_performance, r0_250)\n",
    "ak_1000 = get_answerkey(all_discrim_performance, r0_1000)"
   ]
  },
  {
   "cell_type": "code",
   "execution_count": null,
   "metadata": {},
   "outputs": [],
   "source": []
  },
  {
   "cell_type": "markdown",
   "metadata": {},
   "source": [
    "### VE Coded Accuracy"
   ]
  },
  {
   "cell_type": "code",
   "execution_count": 85,
   "metadata": {
    "jupyter": {
     "source_hidden": true
    }
   },
   "outputs": [],
   "source": [
    "def VE_accuracy(stim0, df, answerkey):\n",
    "    '''\n",
    "    Accuracy based on the verbal judgement data \n",
    "    '''\n",
    "    \n",
    "    \"\"\"\n",
    "    args:\n",
    "        df  \n",
    "    returns:\n",
    "        proportion of correct responses, count of correct responses, count of total trials  \n",
    "    \"\"\"\n",
    "    count_correct = 0\n",
    "    count_incorrect = 0\n",
    "    count_total = 0\n",
    "    count_missed = 0\n",
    "    \n",
    "    VE_correct_answer = answerkey[stim0]['answer']\n",
    "    kinect_correct_answer = answerkey[stim0]['kinect_answer']\n",
    "    \n",
    "    for idx, row in df.iterrows(): \n",
    "        choice = row[\"discrim_choice\"]\n",
    "        count_total += 1\n",
    "        if choice == 0.0: image_choice = row[\"stimulus_0\"]\n",
    "                \n",
    "        if choice == 1.0: image_choice = row[\"stimulus_1\"]\n",
    "                \n",
    "        if choice == 2.0: count_missed += 1\n",
    "            \n",
    "        if choice == 3.0: count_missed += 1\n",
    "        \n",
    "        try:\n",
    "            if image_choice.split('/')[-1] == VE_correct_answer: count_correct += 1\n",
    "        except: pass\n",
    "        \n",
    "#     standardError = (0.5*(1-0.5))/count_total\n",
    "    p = count_correct/count_total\n",
    "    standardError = np.sqrt((p*(1-p))/count_total)\n",
    "    \n",
    "    if VE_correct_answer == kinect_correct_answer:\n",
    "        return count_correct/count_total, count_correct, count_total, count_missed, standardError, 'pos'\n",
    "    else:\n",
    "        return count_correct/count_total, count_correct, count_total, count_missed, standardError, 'neg'\n",
    "\n",
    "    \n",
    "def main_VE_coded_discrim_accuracy(df, answerkey_250, answerkey_1000):\n",
    "    '''\n",
    "    Args:\n",
    "        df: final discrimination dataframe\n",
    "        answerkey_250 & answerkey_1000: VE coded answer key\n",
    "    '''\n",
    "    all_stim0 = df.stimulus_0.unique()\n",
    "    \n",
    "    stimuli_stats = {}\n",
    "    for stim0 in all_stim0:\n",
    "        try:\n",
    "            # dataframe for stimulus 0\n",
    "            stim0_df = df.loc[df['stimulus_0'] == stim0]\n",
    "            # name of stimulus 1\n",
    "            other_stim = stim0_df.stimulus_1.unique()[0]\n",
    "            # dataframe where stimulus 0 is presented SECOND (same trial)\n",
    "            stim1_df = df.loc[df['stimulus_1'] == stim0]\n",
    "\n",
    "            # df for a specific discrimination trial (collapsed on stim presentation order)\n",
    "            stim_df = pd.concat([stim0_df, stim1_df], ignore_index=True)\n",
    "            stim_250_df = stim_df[stim_df['duration'] == 250.0]\n",
    "            stim_1000_df = stim_df[stim_df['duration'] == 1000.0] \n",
    "\n",
    "            stim0_depth = stim_df['actual_depth_0'][0]\n",
    "            stim1_depth = stim_df['actual_depth_1'][0]\n",
    "            stim_depthbin = np.mean(np.array([stim0_depth,stim1_depth]))\n",
    "\n",
    "            stim_acc_250 = VE_accuracy(stim0, stim_250_df, answerkey_250)\n",
    "            stim_acc_1000 = VE_accuracy(stim0, stim_1000_df, answerkey_1000)\n",
    "\n",
    "            stim_RT_250 = get_RT(stim_250_df)\n",
    "            stim_RT_1000 = get_RT(stim_1000_df)\n",
    "\n",
    "            # difference between verbal judgements divided by joint variance \n",
    "            # abs(VE1-VE2)/sqrt(stda^2 + std2^2)\n",
    "            std0_250 = answerkey_250[stim0]['std0']\n",
    "            std1_250 = answerkey_250[stim0]['std1']\n",
    "            joint_variance_250 = np.sqrt(std0_250**2 + std1_250**2)\n",
    "            JV_regressor_250 = abs(answerkey_250[stim0]['stimulus_0_avg_estim'] - answerkey_250[stim0]['stimulus_1_avg_estim'])/joint_variance_250\n",
    "\n",
    "            std0_1000 = answerkey_1000[stim0]['std0']\n",
    "            std1_1000 = answerkey_1000[stim0]['std1']\n",
    "            joint_variance_1000 = np.sqrt(std0_1000**2 + std1_1000**2)\n",
    "            JV_regressor_1000 = abs(answerkey_1000[stim0]['stimulus_0_avg_estim'] - answerkey_1000[stim0]['stimulus_1_avg_estim'])/joint_variance_1000\n",
    "            \n",
    "            if stim_acc_250[-1] == 'pos':\n",
    "                VE_depthdifference_250 = abs(answerkey_250[stim0]['stimulus_0_avg_estim'] - answerkey_250[stim0]['stimulus_1_avg_estim'])\n",
    "            else:\n",
    "                VE_depthdifference_250 = -(abs(answerkey_250[stim0]['stimulus_0_avg_estim'] - answerkey_250[stim0]['stimulus_1_avg_estim']))\n",
    "            \n",
    "            if stim_acc_1000[-1] == 'pos':\n",
    "                VE_depthdifference_1000 = abs(answerkey_1000[stim0]['stimulus_0_avg_estim'] - answerkey_1000[stim0]['stimulus_1_avg_estim'])\n",
    "            else:\n",
    "                VE_depthdifference_1000 = -(abs(answerkey_1000[stim0]['stimulus_0_avg_estim'] - answerkey_1000[stim0]['stimulus_1_avg_estim']))\n",
    "            \n",
    "            stimuli_stats[stim0] = {'stimulus_1': other_stim,\n",
    "                                    'accuracy_250': stim_acc_250,\n",
    "                                    'accuracy_1000': stim_acc_1000,\n",
    "                                    'avg_depth': stim_depthbin,\n",
    "                                    'VE_depthdifference_250': VE_depthdifference_250, \n",
    "                                    'VE_depthdifference_1000': VE_depthdifference_1000,\n",
    "                                    'RT_250': stim_RT_250,\n",
    "                                    'RT_1000': stim_RT_1000,\n",
    "                                    'JV_regressor_250': JV_regressor_250,\n",
    "                                    'JV_regressor_1000': JV_regressor_1000}\n",
    "    \n",
    "        except:\n",
    "            print(stim0)\n",
    "\n",
    "    return stimuli_stats\n",
    "    "
   ]
  },
  {
   "cell_type": "code",
   "execution_count": 88,
   "metadata": {},
   "outputs": [],
   "source": [
    "VE_coded_discrim_performance = main_VE_coded_discrim_accuracy(final_discrim, ak_250, ak_1000)"
   ]
  },
  {
   "cell_type": "code",
   "execution_count": null,
   "metadata": {},
   "outputs": [],
   "source": []
  },
  {
   "cell_type": "code",
   "execution_count": 90,
   "metadata": {
    "jupyter": {
     "source_hidden": true
    }
   },
   "outputs": [],
   "source": [
    "def get_discrimination_results(discrim_performance, duration):\n",
    "    '''\n",
    "    Returns lists of discrimination data results\n",
    "    '''\n",
    "    if duration == 250:\n",
    "        n_VE_estim_diff = [discrim_performance[elem]['VE_depthdifference_250'] for elem in discrim_performance]\n",
    "        n_VE_accuracy = [discrim_performance[elem]['accuracy_250'][0] for elem in discrim_performance]\n",
    "        n_VE_ste = [discrim_performance[elem]['accuracy_250'][-2] for elem in discrim_performance]\n",
    "        n_avg_RT = [discrim_performance[elem]['RT_250'][1] for elem in discrim_performance]\n",
    "        n_avg_RT_ste = [discrim_performance[elem]['RT_250'][-1] for elem in discrim_performance]\n",
    "        n_JV = [discrim_performance[elem]['JV_regressor_250'] for elem in discrim_performance]\n",
    "        \n",
    "    if duration == 1000:\n",
    "        n_VE_estim_diff = [discrim_performance[elem]['VE_depthdifference_1000'] for elem in discrim_performance]\n",
    "        n_VE_accuracy = [discrim_performance[elem]['accuracy_1000'][0] for elem in discrim_performance]\n",
    "        n_VE_ste = [discrim_performance[elem]['accuracy_1000'][-2] for elem in discrim_performance]\n",
    "        n_avg_RT = [discrim_performance[elem]['RT_1000'][1] for elem in discrim_performance]\n",
    "        n_avg_RT_ste = [discrim_performance[elem]['RT_1000'][-1] for elem in discrim_performance]\n",
    "        n_JV = [discrim_performance[elem]['JV_regressor_1000'] for elem in discrim_performance]\n",
    "\n",
    "    n_stim = [elem for elem in discrim_performance]      \n",
    "    \n",
    "    return n_VE_estim_diff, n_VE_accuracy, n_VE_ste, n_avg_RT, n_avg_RT_ste, n_JV, n_stim"
   ]
  },
  {
   "cell_type": "code",
   "execution_count": 91,
   "metadata": {},
   "outputs": [],
   "source": [
    "discrimination_results_250 = get_discrimination_results(VE_coded_discrim_performance, 250)\n",
    "discrimination_results_1000 = get_discrimination_results(VE_coded_discrim_performance, 1000)"
   ]
  },
  {
   "cell_type": "code",
   "execution_count": 94,
   "metadata": {},
   "outputs": [
    {
     "data": {
      "text/plain": [
       "7"
      ]
     },
     "execution_count": 94,
     "metadata": {},
     "output_type": "execute_result"
    }
   ],
   "source": [
    "len(discrimination_results_250)"
   ]
  },
  {
   "cell_type": "markdown",
   "metadata": {},
   "source": [
    "### Derive Performance for VE "
   ]
  },
  {
   "cell_type": "code",
   "execution_count": 274,
   "metadata": {
    "jupyter": {
     "source_hidden": true
    }
   },
   "outputs": [],
   "source": [
    "def VE_performance(stimuli, duration_df, discrimination_performance, duration_answerkey):\n",
    "    '''\n",
    "    Args:\n",
    "        stimuli:  depth discrimination stimuli list \n",
    "        duration_df: filtered VE duration dataframe \n",
    "        discrimination performance: dictionary of discrim performance \n",
    "    '''\n",
    "    \n",
    "    VE_Performance = {}\n",
    "            \n",
    "    for im0 in stimuli:\n",
    "        performance = []\n",
    "        # loop through all participants\n",
    "        for subjID in duration_df.subjID.unique():\n",
    "            # filter to just the subjects data df\n",
    "            subjdf = duration_df.loc[duration_df['subjID'] == subjID]\n",
    "            \n",
    "            try:\n",
    "                im0_VE = 'depth_duration_stimuli/' + im0.split('/')[1] + '/' + im0.split('/')[2]\n",
    "                im0_row = subjdf.loc[subjdf['stimulus'] == im0_VE]\n",
    "                im0_estimate = im0_row['depth_estimate'].tolist()[0]\n",
    "\n",
    "                im1 = discrimination_performance[im0]['stimulus_1'][29:]\n",
    "                im1_VE = 'depth_duration_stimuli/' + im1\n",
    "                im1_row = subjdf.loc[subjdf['stimulus'] == im1_VE]\n",
    "                im1_estimate = im1_row['depth_estimate'].tolist()[0]\n",
    "                \n",
    "\n",
    "                if im0_estimate < im1_estimate:\n",
    "                    p_ans = im0.split('/')[-1]\n",
    "                else:\n",
    "                    p_ans = im1.split('/')[-1]\n",
    "                try:\n",
    "                    answerkey_answer = duration_answerkey[im0]['answer']\n",
    "                except:\n",
    "                    answerkey_answer = duration_answerkey['depth_discrimination_stimuli/' + im1]['answer']\n",
    "                if p_ans == answerkey_answer:\n",
    "                    trial_acc = 0 # CORRECT\n",
    "                    performance.append(trial_acc)\n",
    "                else:\n",
    "                    trial_acc = 1 # INCORRECT\n",
    "                    performance.append(trial_acc)\n",
    "            \n",
    "            except:\n",
    "                pass\n",
    "        VE_Performance[im0] = performance\n",
    "\n",
    "    VE_PC = {}\n",
    "\n",
    "    for key in VE_Performance:\n",
    "        performance = VE_Performance[key]\n",
    "        correct_count = performance.count(0)\n",
    "        incorrect_count = performance.count(1)\n",
    "        total = len(performance)\n",
    "        pc = correct_count/total\n",
    "        VE_PC[key] = pc\n",
    "    \n",
    "    return VE_PC\n",
    "    \n",
    "    "
   ]
  },
  {
   "cell_type": "code",
   "execution_count": null,
   "metadata": {},
   "outputs": [],
   "source": []
  },
  {
   "cell_type": "code",
   "execution_count": 275,
   "metadata": {},
   "outputs": [],
   "source": [
    "VE_performance_250 = VE_performance(discrimination_results_250[-1], r0_250_df, VE_coded_discrim_performance, ak_250)\n",
    "VE_performance_1000 = VE_performance(discrimination_results_1000[-1], r0_1000_df, VE_coded_discrim_performance, ak_1000)"
   ]
  },
  {
   "cell_type": "code",
   "execution_count": null,
   "metadata": {},
   "outputs": [],
   "source": []
  },
  {
   "cell_type": "markdown",
   "metadata": {},
   "source": [
    "### Matched Discrimination Performance (Accuracy and RT)"
   ]
  },
  {
   "cell_type": "code",
   "execution_count": 281,
   "metadata": {
    "jupyter": {
     "source_hidden": true
    }
   },
   "outputs": [],
   "source": [
    "def matched_performance(VE_Performance, discrimination_performance, duration):\n",
    "    '''\n",
    "    Args:\n",
    "        VE_performance: dict of VE performance for a specific duration\n",
    "        discrimination_performance: complete discrim performance\n",
    "        duration: int, duration value\n",
    "    Returns:\n",
    "        Trial matched VE and Discrimination performance\n",
    "        List of stimuli \n",
    "        \n",
    "    '''\n",
    "    Discrim_VEmatched_PC = {}\n",
    "    all_stim = []\n",
    "    all_VE_PC = []\n",
    "    all_Discrim_VEmatched_PC = []\n",
    "\n",
    "    for key in VE_Performance:\n",
    "        \n",
    "        im_VE_PC = VE_Performance[key]\n",
    "        if duration == 250:\n",
    "            im_Discrim_PC = discrimination_performance[key]['accuracy_250'][0]\n",
    "        if duration == 1000:\n",
    "            im_Discrim_PC = discrimination_performance[key]['accuracy_1000'][0]\n",
    "        Discrim_VEmatched_PC[key] = [im_VE_PC, im_Discrim_PC]\n",
    "\n",
    "        all_stim.append(key)\n",
    "        all_VE_PC.append(im_VE_PC)\n",
    "        all_Discrim_VEmatched_PC.append(im_Discrim_PC)\n",
    "        \n",
    "    return all_Discrim_VEmatched_PC, all_VE_PC, all_stim"
   ]
  },
  {
   "cell_type": "code",
   "execution_count": 286,
   "metadata": {},
   "outputs": [],
   "source": [
    "m_discrim_performance_250, m_VE_performance_250, m_stim_250 = matched_performance(VE_performance_250, VE_coded_discrim_performance, 250)\n",
    "m_discrim_performance_1000, m_VE_performance_1000, m_stim_1000 = matched_performance(VE_performance_1000, VE_coded_discrim_performance, 1000)"
   ]
  },
  {
   "cell_type": "code",
   "execution_count": 299,
   "metadata": {
    "jupyter": {
     "source_hidden": true
    }
   },
   "outputs": [],
   "source": [
    "def get_RT_performance(duration_df, discrimination_performance, duration):\n",
    "    '''\n",
    "    Args:\n",
    "        duration_df: filtered VE duration dataframe\n",
    "        discrimination_performance: dict of discrimination performance\n",
    "        duration: int value for duration \n",
    "    \n",
    "    '''\n",
    "    \n",
    "    arr_discrim_RT = []\n",
    "    arr_VE_RT = []\n",
    "    stim_RT = []\n",
    "\n",
    "\n",
    "    for key in discrimination_performance:\n",
    "        stim_RT.append(key)\n",
    "        im0 = key.split('/')[1]\n",
    "        im1 = discrimination_performance[key]['stimulus_1'].split('/')[1]\n",
    "        if duration == 250:\n",
    "            dtrial_RT = discrimination_performance[key]['RT_250'][1]\n",
    "        if duration == 1000:\n",
    "            dtrial_RT = discrimination_performance[key]['RT_1000'][1]\n",
    "            \n",
    "        arr_discrim_RT.append(dtrial_RT)\n",
    "        \n",
    "        RTs = []\n",
    "        # loop through all participants\n",
    "        for subjID in duration_df.subjID.unique():\n",
    "            # filter to just the subjects data df\n",
    "            subjdf = duration_df.loc[duration_df['subjID'] == subjID]\n",
    "            \n",
    "            try:\n",
    "                im0_VE = 'depth_duration_stimuli/' + key.split('/')[1] + '/' + key.split('/')[2]\n",
    "                im0_row = subjdf.loc[subjdf['stimulus'] == im0_VE]\n",
    "                im0_RT = im0_row['trial_RT'].tolist()[0]\n",
    "\n",
    "                im1 = discrimination_performance[key]['stimulus_1'][29:]\n",
    "                im1_VE = 'depth_duration_stimuli/' + im1\n",
    "                im1_row = subjdf.loc[subjdf['stimulus'] == im1_VE]\n",
    "                im1_RT = im1_row['trial_RT'].tolist()[0]\n",
    "                \n",
    "                RTs.append(np.log(im0_RT) + np.log(im1_RT))\n",
    "            \n",
    "            except:\n",
    "                pass\n",
    "        \n",
    "        arr_VE_RT.append(np.mean(np.array(RTs)))\n",
    "        \n",
    "    return arr_discrim_RT, arr_VE_RT, stim_RT\n"
   ]
  },
  {
   "cell_type": "code",
   "execution_count": 300,
   "metadata": {},
   "outputs": [],
   "source": [
    "m_discrim_RT_250, m_VE_RT_250, m_RT_stim_250 = get_RT_performance(r0_250_df, VE_coded_discrim_performance, 250) \n",
    "m_discrim_RT_1000, m_VE_RT_1000, m_RT_stim_1000 = get_RT_performance(r0_1000_df, VE_coded_discrim_performance, 1000)\n"
   ]
  },
  {
   "cell_type": "code",
   "execution_count": null,
   "metadata": {},
   "outputs": [],
   "source": []
  },
  {
   "cell_type": "markdown",
   "metadata": {},
   "source": [
    "## Main: Split and run analyses X num of times"
   ]
  },
  {
   "cell_type": "code",
   "execution_count": 321,
   "metadata": {},
   "outputs": [],
   "source": [
    "reps = 2\n",
    "\n",
    "dfs = []\n",
    "for i in range(reps):\n",
    "    \n",
    "    r0_250, r0_250_df = rand_data(n_VE_data_250, 0.4)\n",
    "    r0_1000, r0_1000_df = rand_data(n_VE_data_1000, 0.4)\n",
    "    \n",
    "    all_discrim_performance = individual_discrimination_stats(final_discrim)\n",
    "\n",
    "    ak_250 = get_answerkey(all_discrim_performance, r0_250)\n",
    "    ak_1000 = get_answerkey(all_discrim_performance, r0_1000)\n",
    "    \n",
    "    VE_coded_discrim_performance = main_VE_coded_discrim_accuracy(final_discrim, ak_250, ak_1000)\n",
    "    \n",
    "    discrimination_results_250 = get_discrimination_results(VE_coded_discrim_performance, 250)\n",
    "    discrimination_results_1000 = get_discrimination_results(VE_coded_discrim_performance, 1000)\n",
    "    \n",
    "    VE_performance_250 = VE_performance(discrimination_results_250[-1], r0_250_df, VE_coded_discrim_performance, ak_250)\n",
    "    VE_performance_1000 = VE_performance(discrimination_results_1000[-1], r0_1000_df, VE_coded_discrim_performance, ak_1000)\n",
    "    \n",
    "    m_discrim_performance_250, m_VE_performance_250, m_stim_250 = matched_performance(VE_performance_250, VE_coded_discrim_performance, 250)\n",
    "    m_discrim_performance_1000, m_VE_performance_1000, m_stim_1000 = matched_performance(VE_performance_1000, VE_coded_discrim_performance, 1000)\n",
    "    \n",
    "    m_discrim_RT_250, m_VE_RT_250, m_RT_stim_250 = get_RT_performance(r0_250_df, VE_coded_discrim_performance, 250) \n",
    "    m_discrim_RT_1000, m_VE_RT_1000, m_RT_stim_1000 = get_RT_performance(r0_1000_df, VE_coded_discrim_performance, 1000) \n",
    "    \n",
    "    data = {'Discrim_PC_250': m_discrim_performance_250,\n",
    "        'Discrim_PC_1000': m_discrim_performance_1000,\n",
    "        'VE_PC_250': m_VE_performance_250,\n",
    "        'VE_PC_1000': m_VE_performance_1000,\n",
    "        'Discrim 250 RT': m_discrim_RT_250,\n",
    "        'Discrim 1000 RT': m_discrim_RT_1000,\n",
    "        'VE 250 RT': m_VE_RT_250,\n",
    "        'VE 1000 RT': m_VE_RT_1000\n",
    "        }\n",
    "\n",
    "    df = pd.DataFrame(data,columns=['Discrim_PC_250','Discrim_PC_1000','VE_PC_250', 'VE_PC_1000',\n",
    "                                    'Discrim 250 RT','Discrim 1000 RT','VE 250 RT', 'VE 1000 RT'])\n",
    "\n",
    "    df_corr = df.corr()\n",
    "    \n",
    "    dfs.append(df_corr)\n",
    "    \n",
    "df_sum = 0\n",
    "for df in dfs:\n",
    "    df_sum += df\n",
    "\n",
    "mean_df_corr = df_sum / len(dfs)\n",
    "\n"
   ]
  },
  {
   "cell_type": "code",
   "execution_count": 322,
   "metadata": {},
   "outputs": [
    {
     "data": {
      "image/png": "[encoded data removed]",
      "text/plain": [
       "<Figure size 576x576 with 2 Axes>"
      ]
     },
     "metadata": {
      "needs_background": "light"
     },
     "output_type": "display_data"
    }
   ],
   "source": [
    "plt.figure(figsize=[8,8])\n",
    "\n",
    "ax = sns.heatmap(mean_df_corr, annot=True, cmap= \"seismic\", square=True, center=0, vmin=-1, vmax=1, edgecolors='w', linewidths=2) #notation: \"annot\" not \"annote\"\n",
    "bottom, top = ax.get_ylim()\n",
    "ax.set_ylim(bottom + 0.5, top - 0.5)\n",
    "\n",
    "plt.show();\n"
   ]
  },
  {
   "cell_type": "code",
   "execution_count": 306,
   "metadata": {},
   "outputs": [
    {
     "name": "stdout",
     "output_type": "stream",
     "text": [
      "                 Discrim_PC_250  Discrim_PC_1000  VE_PC_250  VE_PC_1000  \\\n",
      "Discrim_PC_250         1.000000         0.607918   0.500229    0.338499   \n",
      "Discrim_PC_1000        0.607918         1.000000   0.491840    0.660799   \n",
      "VE_PC_250              0.500229         0.491840   1.000000    0.569957   \n",
      "VE_PC_1000             0.338499         0.660799   0.569957    1.000000   \n",
      "Discrim 250 RT        -0.543819        -0.658065  -0.480167   -0.544824   \n",
      "Discrim 1000 RT       -0.477585        -0.515410  -0.316265   -0.321375   \n",
      "VE 250 RT              0.034970         0.065914  -0.001618   -0.090237   \n",
      "VE 1000 RT             0.023789        -0.101648   0.113403   -0.085018   \n",
      "\n",
      "                 Discrim 250 RT  Discrim 1000 RT  VE 250 RT  VE 1000 RT  \n",
      "Discrim_PC_250        -0.543819        -0.477585   0.034970    0.023789  \n",
      "Discrim_PC_1000       -0.658065        -0.515410   0.065914   -0.101648  \n",
      "VE_PC_250             -0.480167        -0.316265  -0.001618    0.113403  \n",
      "VE_PC_1000            -0.544824        -0.321375  -0.090237   -0.085018  \n",
      "Discrim 250 RT         1.000000         0.550691   0.016850    0.122965  \n",
      "Discrim 1000 RT        0.550691         1.000000   0.082842    0.172169  \n",
      "VE 250 RT              0.016850         0.082842   1.000000    0.146725  \n",
      "VE 1000 RT             0.122965         0.172169   0.146725    1.000000  \n"
     ]
    },
    {
     "data": {
      "image/png": "[encoded data removed]",
      "text/plain": [
       "<Figure size 576x576 with 2 Axes>"
      ]
     },
     "metadata": {
      "needs_background": "light"
     },
     "output_type": "display_data"
    }
   ],
   "source": [
    "import pandas as pd\n",
    "\n",
    "plt.figure(figsize=[8,8])\n",
    "\n",
    "data = {'Discrim_PC_250': m_discrim_performance_250,\n",
    "        'Discrim_PC_1000': m_discrim_performance_1000,\n",
    "        'VE_PC_250': m_VE_performance_250,\n",
    "        'VE_PC_1000': m_VE_performance_1000,\n",
    "        'Discrim 250 RT': m_discrim_RT_250,\n",
    "        'Discrim 1000 RT': m_discrim_RT_1000,\n",
    "        'VE 250 RT': m_VE_RT_250,\n",
    "        'VE 1000 RT': m_VE_RT_1000\n",
    "        }\n",
    "\n",
    "df = pd.DataFrame(data,columns=['Discrim_PC_250','Discrim_PC_1000','VE_PC_250', 'VE_PC_1000',\n",
    "                                'Discrim 250 RT','Discrim 1000 RT','VE 250 RT', 'VE 1000 RT'])\n",
    "\n",
    "df_corr = df.corr()\n",
    "ax = sns.heatmap(df_corr, annot=True, cmap= \"seismic\", square=True, center=0, vmin=-1, vmax=1, edgecolors='w', linewidths=2) #notation: \"annot\" not \"annote\"\n",
    "bottom, top = ax.get_ylim()\n",
    "ax.set_ylim(bottom + 0.5, top - 0.5)\n",
    "\n",
    "print(df.corr())\n",
    "\n",
    "plt.show();\n"
   ]
  },
  {
   "cell_type": "code",
   "execution_count": null,
   "metadata": {},
   "outputs": [],
   "source": []
  }
 ],
 "metadata": {
  "kernelspec": {
   "display_name": "Python 3",
   "language": "python",
   "name": "python3"
  },
  "language_info": {
   "codemirror_mode": {
    "name": "ipython",
    "version": 3
   },
   "file_extension": ".py",
   "mimetype": "text/x-python",
   "name": "python",
   "nbconvert_exporter": "python",
   "pygments_lexer": "ipython3",
   "version": "3.7.5"
  }
 },
 "nbformat": 4,
 "nbformat_minor": 4
}
