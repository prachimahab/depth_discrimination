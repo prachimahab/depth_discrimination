{
 "cells": [
  {
   "cell_type": "code",
   "execution_count": 1,
   "metadata": {},
   "outputs": [],
   "source": [
    "import scipy.io\n",
    "import os \n",
    "import pandas as pd\n",
    "import numpy as np\n",
    "import math\n",
    "import matplotlib.pyplot as plt\n",
    "import scipy \n",
    "import scipy.stats as stats\n",
    "from scipy.stats import sem \n",
    "import json\n",
    "import random\n",
    "import copy"
   ]
  },
  {
   "cell_type": "code",
   "execution_count": 4,
   "metadata": {},
   "outputs": [],
   "source": [
    "homedir = '/Users/prachi/Documents/depth_duration/depth_discrimination/'"
   ]
  },
  {
   "cell_type": "code",
   "execution_count": 40,
   "metadata": {},
   "outputs": [
    {
     "data": {
      "text/plain": [
       "((94, 94),\n",
       " array([86,  5, 48, 41, 81, 90, 17, 66, 62, 67, 89, 51, 35, 38, 46, 15, 64,\n",
       "        78, 13, 69,  8, 49, 76,  4, 14, 75, 57, 55, 73, 18, 28, 68, 72, 83,\n",
       "         6, 31, 54, 11, 60, 12, 36, 21,  9, 80, 24, 50, 47, 94, 32, 52, 58,\n",
       "        29, 85, 87, 44, 74, 91, 10, 39, 65,  7, 19, 45, 82, 42, 77, 59, 33,\n",
       "        56, 40, 79,  2, 22, 92, 25,  1, 37, 84, 23, 63, 30, 71, 88,  3, 34,\n",
       "        70, 16, 20, 53, 27, 43, 61, 26, 93], dtype=uint8))"
      ]
     },
     "execution_count": 40,
     "metadata": {},
     "output_type": "execute_result"
    }
   ],
   "source": [
    "# load 48x48 latin square from MATLAB randls function\n",
    "randls24 = scipy.io.loadmat(homedir + 'randls24.mat')['ans']\n",
    "randls94 = scipy.io.loadmat(homedir + 'randls94.mat')['ans']\n",
    "\n",
    "randls94.shape, randls94[0]"
   ]
  },
  {
   "cell_type": "code",
   "execution_count": 41,
   "metadata": {},
   "outputs": [],
   "source": [
    "# load an existing balanced VE sequence and seperate into 4 blocks\n",
    "discrim_seq_path = '/Users/prachi/Documents/depth_duration/depth_discrimination/discrimination_sequences/january2022/j13/j13.json'\n",
    "\n",
    "with open(discrim_seq_path, 'r') as f:\n",
    "    discrim_seq = json.load(f)\n"
   ]
  },
  {
   "cell_type": "code",
   "execution_count": 42,
   "metadata": {},
   "outputs": [
    {
     "data": {
      "text/plain": [
       "(94, 8)"
      ]
     },
     "execution_count": 42,
     "metadata": {},
     "output_type": "execute_result"
    }
   ],
   "source": [
    "discrim_seq_without_catch = []\n",
    "catch = []\n",
    "for trial in discrim_seq:\n",
    "    if trial['sequence'] != 'catch_trial':\n",
    "        discrim_seq_without_catch.append(trial)\n",
    "    else:\n",
    "        catch.append(trial)\n",
    "\n",
    "len(discrim_seq_without_catch), len(catch)"
   ]
  },
  {
   "cell_type": "code",
   "execution_count": null,
   "metadata": {},
   "outputs": [],
   "source": []
  },
  {
   "cell_type": "code",
   "execution_count": 15,
   "metadata": {},
   "outputs": [],
   "source": [
    "def randls_to_sequence(randls_row, block):\n",
    "    '''\n",
    "    Uses indeces from the randls matrix row to build sequence\n",
    "    \n",
    "    Args:\n",
    "        randls_row - one row of the randls matrix\n",
    "        block - one block out of the four in the VE sequence\n",
    "    Returns:\n",
    "        VE trials in sequence\n",
    "    '''\n",
    "    sequence = []\n",
    "    for elem in randls_row:\n",
    "        if elem == len(randls_row):\n",
    "            idx = 0\n",
    "        else:\n",
    "            idx = elem\n",
    "        sequence.append(block[idx])\n",
    "    return sequence \n",
    "\n",
    "def main_randls_blocks(randls, block):\n",
    "    '''\n",
    "    Converts each randls row into a sequence \n",
    "    \n",
    "    Args:\n",
    "        randls - randls matrix from MATLAB\n",
    "        block - one block out of the four in the VE sequence\n",
    "    Returns:\n",
    "        All sequences from the randls matrix in trial sequence format\n",
    "    '''\n",
    "    block_sequences = []\n",
    "    for i in range(randls.shape[0]):\n",
    "        row = randls[i]\n",
    "        seq = randls_to_sequence(row, block)\n",
    "        block_sequences.append(seq)\n",
    "    return block_sequences"
   ]
  },
  {
   "cell_type": "code",
   "execution_count": 43,
   "metadata": {},
   "outputs": [],
   "source": [
    "full_randls_seqs = main_randls_blocks(randls94, discrim_seq_without_catch)\n"
   ]
  },
  {
   "cell_type": "code",
   "execution_count": 44,
   "metadata": {},
   "outputs": [
    {
     "data": {
      "text/plain": [
       "(94, 94)"
      ]
     },
     "execution_count": 44,
     "metadata": {},
     "output_type": "execute_result"
    }
   ],
   "source": [
    "len(full_randls_seqs), len(full_randls_seqs[0])"
   ]
  },
  {
   "cell_type": "code",
   "execution_count": 71,
   "metadata": {},
   "outputs": [],
   "source": [
    "# shuffle the order of the sequences\n",
    "random.shuffle(full_randls_seqs)\n"
   ]
  },
  {
   "cell_type": "code",
   "execution_count": null,
   "metadata": {},
   "outputs": [],
   "source": []
  },
  {
   "cell_type": "code",
   "execution_count": 73,
   "metadata": {},
   "outputs": [
    {
     "data": {
      "text/plain": [
       "(47,\n",
       " 118,\n",
       " {'sequence': 'j13',\n",
       "  'duration': 1000,\n",
       "  'depth_0': 1.5043333333333333,\n",
       "  'depth_1': 2.074,\n",
       "  'image_path_target_0': 'depth_discrimination_stimuli/002279_2014-06-28_18-55-32_260595134347_rgbf000040-resize_5/002279_2014-06-28_18-55-32_260595134347_rgbf000040-resize_5-target.png',\n",
       "  'image_path_target_1': 'depth_discrimination_stimuli/000635_2014-06-08_16-38-42_260595134347_rgbf000106-resize_1/000635_2014-06-08_16-38-42_260595134347_rgbf000106-resize_1-target.png',\n",
       "  'mask_path': 'masks/mask_55.jpg',\n",
       "  'fixation_path': 'fixation.jpg'})"
      ]
     },
     "execution_count": 73,
     "metadata": {},
     "output_type": "execute_result"
    }
   ],
   "source": [
    "# build the blocks together\n",
    "sequences47 = []\n",
    "# pick 47/94 sequences\n",
    "for i in range(47):\n",
    "    random.shuffle(catch)\n",
    "    fseq = full_randls_seqs[i]\n",
    "    catch_locs = [random.randint(0, 11), random.randint(12, 23), random.randint(24, 35), random.randint(36, 47),\n",
    "                  random.randint(48, 59), random.randint(60, 71), random.randint(72, 83), random.randint(84, 93)]\n",
    "    for i in range(len(catch)):\n",
    "        fseq.insert(catch_locs[i], catch[i])\n",
    "    \n",
    "    sequences47.append(fseq)\n",
    "    \n",
    "len(sequences47), len(sequences47[0]), sequences47[0][0]"
   ]
  },
  {
   "cell_type": "code",
   "execution_count": null,
   "metadata": {},
   "outputs": [],
   "source": []
  },
  {
   "cell_type": "code",
   "execution_count": 74,
   "metadata": {},
   "outputs": [
    {
     "data": {
      "text/plain": [
       "{'sequence': 'j13',\n",
       " 'duration': 250,\n",
       " 'depth_0': 1.5043333333333333,\n",
       " 'depth_1': 2.074,\n",
       " 'image_path_target_0': 'depth_discrimination_stimuli/002279_2014-06-28_18-55-32_260595134347_rgbf000040-resize_5/002279_2014-06-28_18-55-32_260595134347_rgbf000040-resize_5-target.png',\n",
       " 'image_path_target_1': 'depth_discrimination_stimuli/000635_2014-06-08_16-38-42_260595134347_rgbf000106-resize_1/000635_2014-06-08_16-38-42_260595134347_rgbf000106-resize_1-target.png',\n",
       " 'mask_path': 'masks/mask_55.jpg',\n",
       " 'fixation_path': 'fixation.jpg'}"
      ]
     },
     "execution_count": 74,
     "metadata": {},
     "output_type": "execute_result"
    }
   ],
   "source": [
    "# set all trial durations to 250 ms\n",
    "for seq in sequences47:\n",
    "    for trial in seq:\n",
    "        trial['duration'] = 250\n",
    "\n",
    "sequences47[0][0]"
   ]
  },
  {
   "cell_type": "code",
   "execution_count": null,
   "metadata": {},
   "outputs": [],
   "source": []
  },
  {
   "cell_type": "code",
   "execution_count": 75,
   "metadata": {},
   "outputs": [],
   "source": [
    "# deepcopy of sequences - prevents alterations \n",
    "sequences47_250ms = copy.deepcopy(sequences47)"
   ]
  },
  {
   "cell_type": "code",
   "execution_count": 90,
   "metadata": {},
   "outputs": [
    {
     "data": {
      "text/plain": [
       "[47, 47, 24]"
      ]
     },
     "execution_count": 90,
     "metadata": {},
     "output_type": "execute_result"
    }
   ],
   "source": [
    "Discrimination_AccurateResponse_Distribution(sequences47_250ms[0])"
   ]
  },
  {
   "cell_type": "code",
   "execution_count": 76,
   "metadata": {},
   "outputs": [
    {
     "data": {
      "text/plain": [
       "{'sequence': 'j13',\n",
       " 'duration': 1000,\n",
       " 'depth_0': 1.5043333333333333,\n",
       " 'depth_1': 2.074,\n",
       " 'image_path_target_0': 'depth_discrimination_stimuli/002279_2014-06-28_18-55-32_260595134347_rgbf000040-resize_5/002279_2014-06-28_18-55-32_260595134347_rgbf000040-resize_5-target.png',\n",
       " 'image_path_target_1': 'depth_discrimination_stimuli/000635_2014-06-08_16-38-42_260595134347_rgbf000106-resize_1/000635_2014-06-08_16-38-42_260595134347_rgbf000106-resize_1-target.png',\n",
       " 'mask_path': 'masks/mask_55.jpg',\n",
       " 'fixation_path': 'fixation.jpg'}"
      ]
     },
     "execution_count": 76,
     "metadata": {},
     "output_type": "execute_result"
    }
   ],
   "source": [
    "# set all trial durations to 1000 ms\n",
    "for seq in sequences47:\n",
    "    for trial in seq:\n",
    "        trial['duration'] = 1000\n",
    "\n",
    "sequences47[0][0]"
   ]
  },
  {
   "cell_type": "code",
   "execution_count": 77,
   "metadata": {},
   "outputs": [],
   "source": [
    "# deepcopy of sequences - prevents alterations \n",
    "sequences47_1000ms = copy.deepcopy(sequences47)"
   ]
  },
  {
   "cell_type": "code",
   "execution_count": 78,
   "metadata": {},
   "outputs": [
    {
     "data": {
      "text/plain": [
       "(250, 1000)"
      ]
     },
     "execution_count": 78,
     "metadata": {},
     "output_type": "execute_result"
    }
   ],
   "source": [
    "sequences47_250ms[0][0]['duration'], sequences47_1000ms[0][0]['duration']"
   ]
  },
  {
   "cell_type": "code",
   "execution_count": 79,
   "metadata": {},
   "outputs": [],
   "source": [
    "dest_250ms = '/Users/prachi/Documents/depth_duration/depth_discrimination/discrimination_sequences/randls_sequences/250ms/'\n",
    "dest_1000ms = '/Users/prachi/Documents/depth_duration/depth_discrimination/discrimination_sequences/randls_sequences/1000ms/'"
   ]
  },
  {
   "cell_type": "code",
   "execution_count": 80,
   "metadata": {},
   "outputs": [],
   "source": [
    "# save sequences as jsons \n",
    "num = 0\n",
    "for seq in sequences47_250ms:\n",
    "    with open(dest_250ms + 'randls_' + str(num)+ '.json', 'w') as outfile:\n",
    "        json.dump(seq, outfile)\n",
    "        num += 1"
   ]
  },
  {
   "cell_type": "code",
   "execution_count": 81,
   "metadata": {},
   "outputs": [],
   "source": [
    "# save sequences as jsons \n",
    "num = 0\n",
    "for seq in sequences47_1000ms:\n",
    "    with open(dest_1000ms + 'randls_' + str(num)+ '.json', 'w') as outfile:\n",
    "        json.dump(seq, outfile)\n",
    "        num += 1"
   ]
  },
  {
   "cell_type": "markdown",
   "metadata": {},
   "source": [
    "# edit code so that it flips the order of the images and the depth tagging appropriately"
   ]
  },
  {
   "cell_type": "code",
   "execution_count": 84,
   "metadata": {},
   "outputs": [],
   "source": [
    "import os \n",
    "\n",
    "def load_sequence(jsonpath):\n",
    "    return json.load(open(jsonpath))\n",
    "\n",
    "def flip_image_order(previous_seq):\n",
    "    flipped = previous_seq\n",
    "    for i in range(len(previous_seq)):\n",
    "        og_depth0 = previous_seq[i]['depth_0']\n",
    "        og_depth1 = previous_seq[i]['depth_1']\n",
    "        og_path0 = previous_seq[i]['image_path_target_0']\n",
    "        og_path1 = previous_seq[i]['image_path_target_1']\n",
    "        \n",
    "        flipped[i]['depth_0'] = og_depth1\n",
    "        flipped[i]['depth_1'] = og_depth0\n",
    "        flipped[i]['image_path_target_0'] = og_path1\n",
    "        flipped[i]['image_path_target_1'] = og_path0\n",
    "        \n",
    "    return flipped\n",
    "\n",
    "def create_flipped_seqs(jsonpath, exit, name):\n",
    "    master = load_sequence(jsonpath)\n",
    "    \n",
    "    r = flip_image_order(master)\n",
    "    r_path = exit + '/' + name + '_rotated.json' # duration rotated sequence\n",
    "    #creates json file for the sequence \n",
    "    with open(r_path, 'w') as f:\n",
    "        json.dump(r , f)\n",
    "\n",
    "        \n",
    "def main_seq_flips(json_folderpath, exit):\n",
    "    \"\"\"\n",
    "    Create rotated sequence for each sequence in the folder\n",
    "    \"\"\"\n",
    "    for file in os.listdir(json_folderpath):\n",
    "        name = file.split(\".\")[0]\n",
    "        jsonpath = json_folderpath + \"/\" + file\n",
    "        try:\n",
    "            create_flipped_seqs(jsonpath, exit, name)\n",
    "        except:\n",
    "            print(\"Failed to create json flips for: \", file)"
   ]
  },
  {
   "cell_type": "code",
   "execution_count": 85,
   "metadata": {},
   "outputs": [
    {
     "name": "stdout",
     "output_type": "stream",
     "text": [
      "Failed to create json flips for:  .DS_Store\n",
      "Failed to create json flips for:  .ipynb_checkpoints\n"
     ]
    }
   ],
   "source": [
    "destination = '/Users/prachi/Documents/depth_duration/depth_discrimination/discrimination_sequences/randls_sequences/250ms'\n",
    "\n",
    "main_seq_flips(destination,destination)"
   ]
  },
  {
   "cell_type": "code",
   "execution_count": 86,
   "metadata": {},
   "outputs": [
    {
     "name": "stdout",
     "output_type": "stream",
     "text": [
      "Failed to create json flips for:  .DS_Store\n"
     ]
    }
   ],
   "source": [
    "destination2 = '/Users/prachi/Documents/depth_duration/depth_discrimination/discrimination_sequences/randls_sequences/1000ms'\n",
    "\n",
    "main_seq_flips(destination2,destination2)"
   ]
  },
  {
   "cell_type": "code",
   "execution_count": 91,
   "metadata": {},
   "outputs": [],
   "source": [
    "def Discrimination_AccurateResponse_Distribution(jsondata):\n",
    "    \"\"\"\n",
    "    args: json data in a dictionary format\n",
    "    returns: [count0,count1] \n",
    "             where count0 is the number of trials where image 0 is the correct answer \n",
    "             where count1 is the number of trials where image 1 is the correct answer\n",
    "             \n",
    "    Question: Which target is CLOSER to you? \n",
    "    \"\"\"\n",
    "    count0 = 0\n",
    "    count1 = 0\n",
    "    equal = 0\n",
    "    \n",
    "    for trial in jsondata:\n",
    "        if trial['sequence'] != 'catch_trial':\n",
    "            depth0 = trial['depth_0']\n",
    "            depth1 = trial['depth_1']\n",
    "            if depth0 < depth1:\n",
    "                count0 += 1\n",
    "            if depth0 > depth1:\n",
    "                count1 += 1\n",
    "            if depth0 == depth1:\n",
    "                equal += 1\n",
    "    return [count0, count1, equal]"
   ]
  },
  {
   "cell_type": "code",
   "execution_count": 92,
   "metadata": {},
   "outputs": [
    {
     "data": {
      "text/plain": [
       "{'randls_0.json': [47, 47, 0],\n",
       " 'randls_0_rotated.json': [47, 47, 0],\n",
       " 'randls_1.json': [47, 47, 0],\n",
       " 'randls_10.json': [47, 47, 0],\n",
       " 'randls_10_rotated.json': [47, 47, 0],\n",
       " 'randls_11.json': [47, 47, 0],\n",
       " 'randls_11_rotated.json': [47, 47, 0],\n",
       " 'randls_12.json': [47, 47, 0],\n",
       " 'randls_12_rotated.json': [47, 47, 0],\n",
       " 'randls_13.json': [47, 47, 0],\n",
       " 'randls_13_rotated.json': [47, 47, 0],\n",
       " 'randls_14.json': [47, 47, 0],\n",
       " 'randls_14_rotated.json': [47, 47, 0],\n",
       " 'randls_15.json': [47, 47, 0],\n",
       " 'randls_15_rotated.json': [47, 47, 0],\n",
       " 'randls_16.json': [47, 47, 0],\n",
       " 'randls_16_rotated.json': [47, 47, 0],\n",
       " 'randls_17.json': [47, 47, 0],\n",
       " 'randls_17_rotated.json': [47, 47, 0],\n",
       " 'randls_18.json': [47, 47, 0],\n",
       " 'randls_18_rotated.json': [47, 47, 0],\n",
       " 'randls_19.json': [47, 47, 0],\n",
       " 'randls_19_rotated.json': [47, 47, 0],\n",
       " 'randls_1_rotated.json': [47, 47, 0],\n",
       " 'randls_2.json': [47, 47, 0],\n",
       " 'randls_20.json': [47, 47, 0],\n",
       " 'randls_20_rotated.json': [47, 47, 0],\n",
       " 'randls_21.json': [47, 47, 0],\n",
       " 'randls_21_rotated.json': [47, 47, 0],\n",
       " 'randls_22.json': [47, 47, 0],\n",
       " 'randls_22_rotated.json': [47, 47, 0],\n",
       " 'randls_23.json': [47, 47, 0],\n",
       " 'randls_23_rotated.json': [47, 47, 0],\n",
       " 'randls_24.json': [47, 47, 0],\n",
       " 'randls_24_rotated.json': [47, 47, 0],\n",
       " 'randls_25.json': [47, 47, 0],\n",
       " 'randls_25_rotated.json': [47, 47, 0],\n",
       " 'randls_26.json': [47, 47, 0],\n",
       " 'randls_26_rotated.json': [47, 47, 0],\n",
       " 'randls_27.json': [47, 47, 0],\n",
       " 'randls_27_rotated.json': [47, 47, 0],\n",
       " 'randls_28.json': [47, 47, 0],\n",
       " 'randls_28_rotated.json': [47, 47, 0],\n",
       " 'randls_29.json': [47, 47, 0],\n",
       " 'randls_29_rotated.json': [47, 47, 0],\n",
       " 'randls_2_rotated.json': [47, 47, 0],\n",
       " 'randls_3.json': [47, 47, 0],\n",
       " 'randls_30.json': [47, 47, 0],\n",
       " 'randls_30_rotated.json': [47, 47, 0],\n",
       " 'randls_31.json': [47, 47, 0],\n",
       " 'randls_31_rotated.json': [47, 47, 0],\n",
       " 'randls_32.json': [47, 47, 0],\n",
       " 'randls_32_rotated.json': [47, 47, 0],\n",
       " 'randls_33.json': [47, 47, 0],\n",
       " 'randls_33_rotated.json': [47, 47, 0],\n",
       " 'randls_34.json': [47, 47, 0],\n",
       " 'randls_34_rotated.json': [47, 47, 0],\n",
       " 'randls_35.json': [47, 47, 0],\n",
       " 'randls_35_rotated.json': [47, 47, 0],\n",
       " 'randls_36.json': [47, 47, 0],\n",
       " 'randls_36_rotated.json': [47, 47, 0],\n",
       " 'randls_37.json': [47, 47, 0],\n",
       " 'randls_37_rotated.json': [47, 47, 0],\n",
       " 'randls_38.json': [47, 47, 0],\n",
       " 'randls_38_rotated.json': [47, 47, 0],\n",
       " 'randls_39.json': [47, 47, 0],\n",
       " 'randls_39_rotated.json': [47, 47, 0],\n",
       " 'randls_3_rotated.json': [47, 47, 0],\n",
       " 'randls_4.json': [47, 47, 0],\n",
       " 'randls_40.json': [47, 47, 0],\n",
       " 'randls_40_rotated.json': [47, 47, 0],\n",
       " 'randls_41.json': [47, 47, 0],\n",
       " 'randls_41_rotated.json': [47, 47, 0],\n",
       " 'randls_42.json': [47, 47, 0],\n",
       " 'randls_42_rotated.json': [47, 47, 0],\n",
       " 'randls_43.json': [47, 47, 0],\n",
       " 'randls_43_rotated.json': [47, 47, 0],\n",
       " 'randls_44.json': [47, 47, 0],\n",
       " 'randls_44_rotated.json': [47, 47, 0],\n",
       " 'randls_45.json': [47, 47, 0],\n",
       " 'randls_45_rotated.json': [47, 47, 0],\n",
       " 'randls_46.json': [47, 47, 0],\n",
       " 'randls_46_rotated.json': [47, 47, 0],\n",
       " 'randls_4_rotated.json': [47, 47, 0],\n",
       " 'randls_5.json': [47, 47, 0],\n",
       " 'randls_5_rotated.json': [47, 47, 0],\n",
       " 'randls_6.json': [47, 47, 0],\n",
       " 'randls_6_rotated.json': [47, 47, 0],\n",
       " 'randls_7.json': [47, 47, 0],\n",
       " 'randls_7_rotated.json': [47, 47, 0],\n",
       " 'randls_8.json': [47, 47, 0],\n",
       " 'randls_8_rotated.json': [47, 47, 0],\n",
       " 'randls_9.json': [47, 47, 0],\n",
       " 'randls_9_rotated.json': [47, 47, 0]}"
      ]
     },
     "execution_count": 92,
     "metadata": {},
     "output_type": "execute_result"
    }
   ],
   "source": [
    "main_distribution = {}\n",
    "\n",
    "for js in os.listdir(destination):\n",
    "    if '.json' in js:\n",
    "        j_path = destination + '/' + js\n",
    "        with open(j_path) as f:\n",
    "            data = json.load(f)\n",
    "            main_distribution[js] = Discrimination_AccurateResponse_Distribution(data)\n",
    "\n",
    "main_distribution  "
   ]
  },
  {
   "cell_type": "code",
   "execution_count": 89,
   "metadata": {},
   "outputs": [
    {
     "data": {
      "text/plain": [
       "{'randls_0.json': [47, 47, 24],\n",
       " 'randls_0_rotated.json': [47, 47, 24],\n",
       " 'randls_1.json': [47, 47, 24],\n",
       " 'randls_10.json': [47, 47, 24],\n",
       " 'randls_10_rotated.json': [47, 47, 24],\n",
       " 'randls_11.json': [47, 47, 24],\n",
       " 'randls_11_rotated.json': [47, 47, 24],\n",
       " 'randls_12.json': [47, 47, 24],\n",
       " 'randls_12_rotated.json': [47, 47, 24],\n",
       " 'randls_13.json': [47, 47, 24],\n",
       " 'randls_13_rotated.json': [47, 47, 24],\n",
       " 'randls_14.json': [47, 47, 24],\n",
       " 'randls_14_rotated.json': [47, 47, 24],\n",
       " 'randls_15.json': [47, 47, 24],\n",
       " 'randls_15_rotated.json': [47, 47, 24],\n",
       " 'randls_16.json': [47, 47, 24],\n",
       " 'randls_16_rotated.json': [47, 47, 24],\n",
       " 'randls_17.json': [47, 47, 24],\n",
       " 'randls_17_rotated.json': [47, 47, 24],\n",
       " 'randls_18.json': [47, 47, 24],\n",
       " 'randls_18_rotated.json': [47, 47, 24],\n",
       " 'randls_19.json': [47, 47, 24],\n",
       " 'randls_19_rotated.json': [47, 47, 24],\n",
       " 'randls_1_rotated.json': [47, 47, 24],\n",
       " 'randls_2.json': [47, 47, 24],\n",
       " 'randls_20.json': [47, 47, 24],\n",
       " 'randls_20_rotated.json': [47, 47, 24],\n",
       " 'randls_21.json': [47, 47, 24],\n",
       " 'randls_21_rotated.json': [47, 47, 24],\n",
       " 'randls_22.json': [47, 47, 24],\n",
       " 'randls_22_rotated.json': [47, 47, 24],\n",
       " 'randls_23.json': [47, 47, 24],\n",
       " 'randls_23_rotated.json': [47, 47, 24],\n",
       " 'randls_24.json': [47, 47, 24],\n",
       " 'randls_24_rotated.json': [47, 47, 24],\n",
       " 'randls_25.json': [47, 47, 24],\n",
       " 'randls_25_rotated.json': [47, 47, 24],\n",
       " 'randls_26.json': [47, 47, 24],\n",
       " 'randls_26_rotated.json': [47, 47, 24],\n",
       " 'randls_27.json': [47, 47, 24],\n",
       " 'randls_27_rotated.json': [47, 47, 24],\n",
       " 'randls_28.json': [47, 47, 24],\n",
       " 'randls_28_rotated.json': [47, 47, 24],\n",
       " 'randls_29.json': [47, 47, 24],\n",
       " 'randls_29_rotated.json': [47, 47, 24],\n",
       " 'randls_2_rotated.json': [47, 47, 24],\n",
       " 'randls_3.json': [47, 47, 24],\n",
       " 'randls_30.json': [47, 47, 24],\n",
       " 'randls_30_rotated.json': [47, 47, 24],\n",
       " 'randls_31.json': [47, 47, 24],\n",
       " 'randls_31_rotated.json': [47, 47, 24],\n",
       " 'randls_32.json': [47, 47, 24],\n",
       " 'randls_32_rotated.json': [47, 47, 24],\n",
       " 'randls_33.json': [47, 47, 24],\n",
       " 'randls_33_rotated.json': [47, 47, 24],\n",
       " 'randls_34.json': [47, 47, 24],\n",
       " 'randls_34_rotated.json': [47, 47, 24],\n",
       " 'randls_35.json': [47, 47, 24],\n",
       " 'randls_35_rotated.json': [47, 47, 24],\n",
       " 'randls_36.json': [47, 47, 24],\n",
       " 'randls_36_rotated.json': [47, 47, 24],\n",
       " 'randls_37.json': [47, 47, 24],\n",
       " 'randls_37_rotated.json': [47, 47, 24],\n",
       " 'randls_38.json': [47, 47, 24],\n",
       " 'randls_38_rotated.json': [47, 47, 24],\n",
       " 'randls_39.json': [47, 47, 24],\n",
       " 'randls_39_rotated.json': [47, 47, 24],\n",
       " 'randls_3_rotated.json': [47, 47, 24],\n",
       " 'randls_4.json': [47, 47, 24],\n",
       " 'randls_40.json': [47, 47, 24],\n",
       " 'randls_40_rotated.json': [47, 47, 24],\n",
       " 'randls_41.json': [47, 47, 24],\n",
       " 'randls_41_rotated.json': [47, 47, 24],\n",
       " 'randls_42.json': [47, 47, 24],\n",
       " 'randls_42_rotated.json': [47, 47, 24],\n",
       " 'randls_43.json': [47, 47, 24],\n",
       " 'randls_43_rotated.json': [47, 47, 24],\n",
       " 'randls_44.json': [47, 47, 24],\n",
       " 'randls_44_rotated.json': [47, 47, 24],\n",
       " 'randls_45.json': [47, 47, 24],\n",
       " 'randls_45_rotated.json': [47, 47, 24],\n",
       " 'randls_46.json': [47, 47, 24],\n",
       " 'randls_46_rotated.json': [47, 47, 24],\n",
       " 'randls_4_rotated.json': [47, 47, 24],\n",
       " 'randls_5.json': [47, 47, 24],\n",
       " 'randls_5_rotated.json': [47, 47, 24],\n",
       " 'randls_6.json': [47, 47, 24],\n",
       " 'randls_6_rotated.json': [47, 47, 24],\n",
       " 'randls_7.json': [47, 47, 24],\n",
       " 'randls_7_rotated.json': [47, 47, 24],\n",
       " 'randls_8.json': [47, 47, 24],\n",
       " 'randls_8_rotated.json': [47, 47, 24],\n",
       " 'randls_9.json': [47, 47, 24],\n",
       " 'randls_9_rotated.json': [47, 47, 24]}"
      ]
     },
     "execution_count": 89,
     "metadata": {},
     "output_type": "execute_result"
    }
   ],
   "source": [
    "main_distribution = {}\n",
    "\n",
    "for js in os.listdir(destination2):\n",
    "    if '.json' in js:\n",
    "        j_path = destination2 + '/' + js\n",
    "        with open(j_path) as f:\n",
    "            data = json.load(f)\n",
    "            main_distribution[js] = Discrimination_AccurateResponse_Distribution(data)\n",
    "\n",
    "main_distribution "
   ]
  },
  {
   "cell_type": "code",
   "execution_count": null,
   "metadata": {},
   "outputs": [],
   "source": []
  }
 ],
 "metadata": {
  "kernelspec": {
   "display_name": "Python 3",
   "language": "python",
   "name": "python3"
  },
  "language_info": {
   "codemirror_mode": {
    "name": "ipython",
    "version": 3
   },
   "file_extension": ".py",
   "mimetype": "text/x-python",
   "name": "python",
   "nbconvert_exporter": "python",
   "pygments_lexer": "ipython3",
   "version": "3.6.1"
  }
 },
 "nbformat": 4,
 "nbformat_minor": 4
}
