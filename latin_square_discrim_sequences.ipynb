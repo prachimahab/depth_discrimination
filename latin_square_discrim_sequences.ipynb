{
 "cells": [
  {
   "cell_type": "code",
   "execution_count": 1,
   "metadata": {},
   "outputs": [],
   "source": [
    "import scipy.io\n",
    "import os \n",
    "import pandas as pd\n",
    "import numpy as np\n",
    "import math\n",
    "import matplotlib.pyplot as plt\n",
    "import scipy \n",
    "import scipy.stats as stats\n",
    "from scipy.stats import sem \n",
    "import json\n",
    "import random\n",
    "import copy"
   ]
  },
  {
   "cell_type": "code",
   "execution_count": 4,
   "metadata": {},
   "outputs": [],
   "source": [
    "homedir = '/Users/prachi/Documents/depth_duration/depth_discrimination/'"
   ]
  },
  {
   "cell_type": "code",
   "execution_count": 40,
   "metadata": {},
   "outputs": [
    {
     "data": {
      "text/plain": [
       "((94, 94),\n",
       " array([86,  5, 48, 41, 81, 90, 17, 66, 62, 67, 89, 51, 35, 38, 46, 15, 64,\n",
       "        78, 13, 69,  8, 49, 76,  4, 14, 75, 57, 55, 73, 18, 28, 68, 72, 83,\n",
       "         6, 31, 54, 11, 60, 12, 36, 21,  9, 80, 24, 50, 47, 94, 32, 52, 58,\n",
       "        29, 85, 87, 44, 74, 91, 10, 39, 65,  7, 19, 45, 82, 42, 77, 59, 33,\n",
       "        56, 40, 79,  2, 22, 92, 25,  1, 37, 84, 23, 63, 30, 71, 88,  3, 34,\n",
       "        70, 16, 20, 53, 27, 43, 61, 26, 93], dtype=uint8))"
      ]
     },
     "execution_count": 40,
     "metadata": {},
     "output_type": "execute_result"
    }
   ],
   "source": [
    "# load 48x48 latin square from MATLAB randls function\n",
    "randls24 = scipy.io.loadmat(homedir + 'randls24.mat')['ans']\n",
    "randls94 = scipy.io.loadmat(homedir + 'randls94.mat')['ans']\n",
    "\n",
    "randls94.shape, randls94[0]"
   ]
  },
  {
   "cell_type": "code",
   "execution_count": 41,
   "metadata": {},
   "outputs": [],
   "source": [
    "# load an existing balanced VE sequence and seperate into 4 blocks\n",
    "discrim_seq_path = '/Users/prachi/Documents/depth_duration/depth_discrimination/discrimination_sequences/january2022/j13/j13.json'\n",
    "\n",
    "with open(discrim_seq_path, 'r') as f:\n",
    "    discrim_seq = json.load(f)\n"
   ]
  },
  {
   "cell_type": "code",
   "execution_count": 42,
   "metadata": {},
   "outputs": [
    {
     "data": {
      "text/plain": [
       "(94, 8)"
      ]
     },
     "execution_count": 42,
     "metadata": {},
     "output_type": "execute_result"
    }
   ],
   "source": [
    "discrim_seq_without_catch = []\n",
    "catch = []\n",
    "for trial in discrim_seq:\n",
    "    if trial['sequence'] != 'catch_trial':\n",
    "        discrim_seq_without_catch.append(trial)\n",
    "    else:\n",
    "        catch.append(trial)\n",
    "\n",
    "len(discrim_seq_without_catch), len(catch)"
   ]
  },
  {
   "cell_type": "code",
   "execution_count": null,
   "metadata": {},
   "outputs": [],
   "source": []
  },
  {
   "cell_type": "code",
   "execution_count": 15,
   "metadata": {},
   "outputs": [],
   "source": [
    "def randls_to_sequence(randls_row, block):\n",
    "    '''\n",
    "    Uses indeces from the randls matrix row to build sequence\n",
    "    \n",
    "    Args:\n",
    "        randls_row - one row of the randls matrix\n",
    "        block - one block out of the four in the VE sequence\n",
    "    Returns:\n",
    "        VE trials in sequence\n",
    "    '''\n",
    "    sequence = []\n",
    "    for elem in randls_row:\n",
    "        if elem == len(randls_row):\n",
    "            idx = 0\n",
    "        else:\n",
    "            idx = elem\n",
    "        sequence.append(block[idx])\n",
    "    return sequence \n",
    "\n",
    "def main_randls_blocks(randls, block):\n",
    "    '''\n",
    "    Converts each randls row into a sequence \n",
    "    \n",
    "    Args:\n",
    "        randls - randls matrix from MATLAB\n",
    "        block - one block out of the four in the VE sequence\n",
    "    Returns:\n",
    "        All sequences from the randls matrix in trial sequence format\n",
    "    '''\n",
    "    block_sequences = []\n",
    "    for i in range(randls.shape[0]):\n",
    "        row = randls[i]\n",
    "        seq = randls_to_sequence(row, block)\n",
    "        block_sequences.append(seq)\n",
    "    return block_sequences"
   ]
  },
  {
   "cell_type": "code",
   "execution_count": 43,
   "metadata": {},
   "outputs": [],
   "source": [
    "full_randls_seqs = main_randls_blocks(randls94, discrim_seq_without_catch)\n"
   ]
  },
  {
   "cell_type": "code",
   "execution_count": 44,
   "metadata": {},
   "outputs": [
    {
     "data": {
      "text/plain": [
       "(94, 94)"
      ]
     },
     "execution_count": 44,
     "metadata": {},
     "output_type": "execute_result"
    }
   ],
   "source": [
    "len(full_randls_seqs), len(full_randls_seqs[0])"
   ]
  },
  {
   "cell_type": "code",
   "execution_count": 71,
   "metadata": {},
   "outputs": [],
   "source": [
    "# shuffle the order of the sequences\n",
    "random.shuffle(full_randls_seqs)\n"
   ]
  },
  {
   "cell_type": "code",
   "execution_count": null,
   "metadata": {},
   "outputs": [],
   "source": []
  },
  {
   "cell_type": "code",
   "execution_count": 73,
   "metadata": {},
   "outputs": [
    {
     "data": {
      "text/plain": [
       "(47,\n",
       " 118,\n",
       " {'sequence': 'j13',\n",
       "  'duration': 1000,\n",
       "  'depth_0': 1.5043333333333333,\n",
       "  'depth_1': 2.074,\n",
       "  'image_path_target_0': 'depth_discrimination_stimuli/002279_2014-06-28_18-55-32_260595134347_rgbf000040-resize_5/002279_2014-06-28_18-55-32_260595134347_rgbf000040-resize_5-target.png',\n",
       "  'image_path_target_1': 'depth_discrimination_stimuli/000635_2014-06-08_16-38-42_260595134347_rgbf000106-resize_1/000635_2014-06-08_16-38-42_260595134347_rgbf000106-resize_1-target.png',\n",
       "  'mask_path': 'masks/mask_55.jpg',\n",
       "  'fixation_path': 'fixation.jpg'})"
      ]
     },
     "execution_count": 73,
     "metadata": {},
     "output_type": "execute_result"
    }
   ],
   "source": [
    "# build the blocks together\n",
    "sequences47 = []\n",
    "# pick 47/94 sequences\n",
    "for i in range(47):\n",
    "    random.shuffle(catch)\n",
    "    fseq = full_randls_seqs[i]\n",
    "    catch_locs = [random.randint(0, 11), random.randint(12, 23), random.randint(24, 35), random.randint(36, 47),\n",
    "                  random.randint(48, 59), random.randint(60, 71), random.randint(72, 83), random.randint(84, 93)]\n",
    "    for i in range(len(catch)):\n",
    "        fseq.insert(catch_locs[i], catch[i])\n",
    "    \n",
    "    sequences47.append(fseq)\n",
    "    \n",
    "len(sequences47), len(sequences47[0]), sequences47[0][0]"
   ]
  },
  {
   "cell_type": "code",
   "execution_count": null,
   "metadata": {},
   "outputs": [],
   "source": []
  },
  {
   "cell_type": "code",
   "execution_count": 74,
   "metadata": {},
   "outputs": [
    {
     "data": {
      "text/plain": [
       "{'sequence': 'j13',\n",
       " 'duration': 250,\n",
       " 'depth_0': 1.5043333333333333,\n",
       " 'depth_1': 2.074,\n",
       " 'image_path_target_0': 'depth_discrimination_stimuli/002279_2014-06-28_18-55-32_260595134347_rgbf000040-resize_5/002279_2014-06-28_18-55-32_260595134347_rgbf000040-resize_5-target.png',\n",
       " 'image_path_target_1': 'depth_discrimination_stimuli/000635_2014-06-08_16-38-42_260595134347_rgbf000106-resize_1/000635_2014-06-08_16-38-42_260595134347_rgbf000106-resize_1-target.png',\n",
       " 'mask_path': 'masks/mask_55.jpg',\n",
       " 'fixation_path': 'fixation.jpg'}"
      ]
     },
     "execution_count": 74,
     "metadata": {},
     "output_type": "execute_result"
    }
   ],
   "source": [
    "# set all trial durations to 250 ms\n",
    "for seq in sequences47:\n",
    "    for trial in seq:\n",
    "        trial['duration'] = 250\n",
    "\n",
    "sequences47[0][0]"
   ]
  },
  {
   "cell_type": "code",
   "execution_count": 75,
   "metadata": {},
   "outputs": [],
   "source": [
    "# deepcopy of sequences - prevents alterations \n",
    "sequences47_250ms = copy.deepcopy(sequences47)"
   ]
  },
  {
   "cell_type": "code",
   "execution_count": 76,
   "metadata": {},
   "outputs": [
    {
     "data": {
      "text/plain": [
       "{'sequence': 'j13',\n",
       " 'duration': 1000,\n",
       " 'depth_0': 1.5043333333333333,\n",
       " 'depth_1': 2.074,\n",
       " 'image_path_target_0': 'depth_discrimination_stimuli/002279_2014-06-28_18-55-32_260595134347_rgbf000040-resize_5/002279_2014-06-28_18-55-32_260595134347_rgbf000040-resize_5-target.png',\n",
       " 'image_path_target_1': 'depth_discrimination_stimuli/000635_2014-06-08_16-38-42_260595134347_rgbf000106-resize_1/000635_2014-06-08_16-38-42_260595134347_rgbf000106-resize_1-target.png',\n",
       " 'mask_path': 'masks/mask_55.jpg',\n",
       " 'fixation_path': 'fixation.jpg'}"
      ]
     },
     "execution_count": 76,
     "metadata": {},
     "output_type": "execute_result"
    }
   ],
   "source": [
    "# set all trial durations to 1000 ms\n",
    "for seq in sequences47:\n",
    "    for trial in seq:\n",
    "        trial['duration'] = 1000\n",
    "\n",
    "sequences47[0][0]"
   ]
  },
  {
   "cell_type": "code",
   "execution_count": 77,
   "metadata": {},
   "outputs": [],
   "source": [
    "# deepcopy of sequences - prevents alterations \n",
    "sequences47_1000ms = copy.deepcopy(sequences47)"
   ]
  },
  {
   "cell_type": "code",
   "execution_count": 78,
   "metadata": {},
   "outputs": [
    {
     "data": {
      "text/plain": [
       "(250, 1000)"
      ]
     },
     "execution_count": 78,
     "metadata": {},
     "output_type": "execute_result"
    }
   ],
   "source": [
    "sequences47_250ms[0][0]['duration'], sequences47_1000ms[0][0]['duration']"
   ]
  },
  {
   "cell_type": "code",
   "execution_count": 79,
   "metadata": {},
   "outputs": [],
   "source": [
    "dest_250ms = '/Users/prachi/Documents/depth_duration/depth_discrimination/discrimination_sequences/randls_sequences/250ms/'\n",
    "dest_1000ms = '/Users/prachi/Documents/depth_duration/depth_discrimination/discrimination_sequences/randls_sequences/1000ms/'"
   ]
  },
  {
   "cell_type": "code",
   "execution_count": 80,
   "metadata": {},
   "outputs": [],
   "source": [
    "# save sequences as jsons \n",
    "num = 0\n",
    "for seq in sequences47_250ms:\n",
    "    with open(dest_250ms + 'randls_' + str(num)+ '.json', 'w') as outfile:\n",
    "        json.dump(seq, outfile)\n",
    "        num += 1"
   ]
  },
  {
   "cell_type": "code",
   "execution_count": 81,
   "metadata": {},
   "outputs": [],
   "source": [
    "# save sequences as jsons \n",
    "num = 0\n",
    "for seq in sequences47_1000ms:\n",
    "    with open(dest_1000ms + 'randls_' + str(num)+ '.json', 'w') as outfile:\n",
    "        json.dump(seq, outfile)\n",
    "        num += 1"
   ]
  },
  {
   "cell_type": "markdown",
   "metadata": {},
   "source": [
    "# edit code so that it flips the order of the images and the depth tagging appropriately"
   ]
  },
  {
   "cell_type": "code",
   "execution_count": 84,
   "metadata": {},
   "outputs": [],
   "source": [
    "import os \n",
    "\n",
    "def load_sequence(jsonpath):\n",
    "    return json.load(open(jsonpath))\n",
    "\n",
    "def flip_image_order(previous_seq):\n",
    "    flipped = previous_seq\n",
    "    for i in range(len(previous_seq)):\n",
    "        og_depth0 = previous_seq[i]['depth_0']\n",
    "        og_depth1 = previous_seq[i]['depth_1']\n",
    "        og_path0 = previous_seq[i]['image_path_target_0']\n",
    "        og_path1 = previous_seq[i]['image_path_target_1']\n",
    "        \n",
    "        flipped[i]['depth_0'] = og_depth1\n",
    "        flipped[i]['depth_1'] = og_depth0\n",
    "        flipped[i]['image_path_target_0'] = og_path1\n",
    "        flipped[i]['image_path_target_1'] = og_path0\n",
    "        \n",
    "    return flipped\n",
    "\n",
    "def create_flipped_seqs(jsonpath, exit, name):\n",
    "    master = load_sequence(jsonpath)\n",
    "    \n",
    "    r = flip_image_order(master)\n",
    "    r_path = exit + '/' + name + '_rotated.json' # duration rotated sequence\n",
    "    #creates json file for the sequence \n",
    "    with open(r_path, 'w') as f:\n",
    "        json.dump(r , f)\n",
    "\n",
    "        \n",
    "def main_seq_flips(json_folderpath, exit):\n",
    "    \"\"\"\n",
    "    Create rotated sequence for each sequence in the folder\n",
    "    \"\"\"\n",
    "    for file in os.listdir(json_folderpath):\n",
    "        name = file.split(\".\")[0]\n",
    "        jsonpath = json_folderpath + \"/\" + file\n",
    "        try:\n",
    "            create_flipped_seqs(jsonpath, exit, name)\n",
    "        except:\n",
    "            print(\"Failed to create json flips for: \", file)"
   ]
  },
  {
   "cell_type": "code",
   "execution_count": 85,
   "metadata": {},
   "outputs": [
    {
     "name": "stdout",
     "output_type": "stream",
     "text": [
      "Failed to create json flips for:  .DS_Store\n",
      "Failed to create json flips for:  .ipynb_checkpoints\n"
     ]
    }
   ],
   "source": [
    "destination = '/Users/prachi/Documents/depth_duration/depth_discrimination/discrimination_sequences/randls_sequences/250ms'\n",
    "\n",
    "main_seq_flips(destination,destination)"
   ]
  },
  {
   "cell_type": "code",
   "execution_count": 86,
   "metadata": {},
   "outputs": [
    {
     "name": "stdout",
     "output_type": "stream",
     "text": [
      "Failed to create json flips for:  .DS_Store\n"
     ]
    }
   ],
   "source": [
    "destination2 = '/Users/prachi/Documents/depth_duration/depth_discrimination/discrimination_sequences/randls_sequences/1000ms'\n",
    "\n",
    "main_seq_flips(destination2,destination2)"
   ]
  },
  {
   "cell_type": "code",
   "execution_count": null,
   "metadata": {},
   "outputs": [],
   "source": []
  }
 ],
 "metadata": {
  "kernelspec": {
   "display_name": "Python 3",
   "language": "python",
   "name": "python3"
  },
  "language_info": {
   "codemirror_mode": {
    "name": "ipython",
    "version": 3
   },
   "file_extension": ".py",
   "mimetype": "text/x-python",
   "name": "python",
   "nbconvert_exporter": "python",
   "pygments_lexer": "ipython3",
   "version": "3.6.1"
  }
 },
 "nbformat": 4,
 "nbformat_minor": 4
}
