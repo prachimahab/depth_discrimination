{
 "cells": [
  {
   "cell_type": "markdown",
   "metadata": {},
   "source": [
    "# Matched Discrimination Analysis"
   ]
  },
  {
   "cell_type": "code",
   "execution_count": 47,
   "metadata": {},
   "outputs": [],
   "source": [
    "import os \n",
    "import pandas as pd\n",
    "import numpy as np\n",
    "import math\n",
    "import matplotlib.pyplot as plt\n",
    "import scipy \n",
    "import scipy.stats as stats\n",
    "from scipy.stats import sem \n",
    "from mpl_toolkits.mplot3d import Axes3D # <--- This is important for 3d plotting \n",
    "from sklearn.linear_model import LinearRegression\n"
   ]
  },
  {
   "cell_type": "code",
   "execution_count": 48,
   "metadata": {
    "jupyter": {
     "source_hidden": true
    }
   },
   "outputs": [],
   "source": [
    "def combineCSVs(datafolder, num_discrim_trials):\n",
    "    \"\"\"\n",
    "    Combine all participant data into one pandas df\n",
    "    OR \n",
    "    Create df for single participant file \n",
    "    \n",
    "    returns:\n",
    "        (1) combined dataframe of all discrimination data \n",
    "        (2) combined dataframe of all scene property rating data \n",
    "    \"\"\"\n",
    "    #checks if path is a file\n",
    "    isFile = os.path.isfile(datafolder)\n",
    "\n",
    "    #checks if path is a directory\n",
    "    \n",
    "    isDirectory = os.path.isdir(datafolder)\n",
    "    \n",
    "    if isDirectory == True:\n",
    "        discrim_data = []\n",
    "        properties_data = []\n",
    "        for filename in os.listdir(datafolder):\n",
    "            if 'csv' in filename:\n",
    "                path = datafolder + \"/\" + filename\n",
    "                df = pd.read_csv(path, index_col=None, header=0)\n",
    "                \n",
    "                df_discrim = df[0:num_discrim_trials]\n",
    "                discrim_data.append(df_discrim)\n",
    "                # row 96 should be ignored - artifact of logging \n",
    "                df_properties = df[num_discrim_trials+1:]\n",
    "                properties_data.append(df_properties)\n",
    "                \n",
    "\n",
    "        discrim_frame = pd.concat(discrim_data, axis=0, ignore_index=True)\n",
    "        properties_frame = pd.concat(properties_data, axis=0, ignore_index=True)\n",
    "        \n",
    "    if isFile == True:\n",
    "        if 'csv' in datafolder:\n",
    "            df = pd.read_csv(datafolder, index_col=None, header=0)\n",
    "            df_discrim = df[0:num_discrim_trials]\n",
    "            discrim_data.append(df_discrim)\n",
    "            # row 96 should be ignored - artifact of logging \n",
    "            df_properties = df[num_discrim_trials+1:]\n",
    "            properties_data.append(df_properties)\n",
    " \n",
    "    return discrim_frame, properties_frame"
   ]
  },
  {
   "cell_type": "code",
   "execution_count": 49,
   "metadata": {},
   "outputs": [],
   "source": [
    "# data_path = '/Users/prachimahableshwarkar/Documents/GW/FacialAge/FacialAge_MTurk/BNav_EC2/DepthDuration/v2_depth_discrimination_MTurk/data'\n",
    "\n",
    "# data_path = '/Users/prachi/Documents/depth_duration/target_at_center/january2022_data/discrim_data'\n",
    "\n",
    "data_path = '/Users/pmahableshwarkar/Documents/Depth_Project/DATA/0_2022_discrim'"
   ]
  },
  {
   "cell_type": "code",
   "execution_count": 50,
   "metadata": {},
   "outputs": [],
   "source": [
    "raw_discrim, raw_ratings = combineCSVs(data_path, 100)"
   ]
  },
  {
   "cell_type": "code",
   "execution_count": 51,
   "metadata": {},
   "outputs": [
    {
     "data": {
      "text/plain": [
       "203"
      ]
     },
     "execution_count": 51,
     "metadata": {},
     "output_type": "execute_result"
    }
   ],
   "source": [
    "all_subjIDs = raw_discrim.subjID.unique()\n",
    "len(all_subjIDs)"
   ]
  },
  {
   "cell_type": "code",
   "execution_count": null,
   "metadata": {},
   "outputs": [],
   "source": []
  },
  {
   "cell_type": "code",
   "execution_count": 52,
   "metadata": {},
   "outputs": [
    {
     "data": {
      "text/plain": [
       "array([24, 29, 50, 38, 45, 31, 32, 43, 34, 25, 27, 46, 40, 36, 52, 35, 33,\n",
       "       44, 49, 42, 58, 47, 26, 53, 30, 41, 48, 71, 63, 62, 67, 57, 60, 37,\n",
       "       55, 28, 39, 59, 51, 54, 23, 56])"
      ]
     },
     "execution_count": 52,
     "metadata": {},
     "output_type": "execute_result"
    }
   ],
   "source": [
    "all_ages = raw_discrim.age.unique()\n",
    "all_ages"
   ]
  },
  {
   "cell_type": "markdown",
   "metadata": {},
   "source": [
    "## <font color='red'> Data Cleaning </font> \n",
    "\n"
   ]
  },
  {
   "cell_type": "code",
   "execution_count": 53,
   "metadata": {
    "jupyter": {
     "source_hidden": true
    }
   },
   "outputs": [],
   "source": [
    "def catchTrial_cleaning(df, correct_requirement, catch_stimuli):\n",
    "    '''\n",
    "    Participants complete 8 catch trials total to ensure that they are doing the task.\n",
    "    If less than 7/8 catch trials are correct, the participant is excluded.  \n",
    "    '''\n",
    "    all_subjIDs = df.subjID.unique()\n",
    "    remove = []\n",
    "    subj_sequence = {}\n",
    "    df2_list = []\n",
    "    sequence_count = {'discrim_jsons/Discrim250_randls_33.json': 0,\n",
    " 'discrim_jsons/Discrim250_randls_25.json': 0,\n",
    " 'discrim_jsons/Discrim250_randls_44.json': 0,\n",
    " 'discrim_jsons/Discrim250_randls_13.json': 0,\n",
    " 'discrim_jsons/Discrim250_randls_7.json': 0,\n",
    " 'discrim_jsons/Discrim250_randls_29.json': 0,\n",
    " 'discrim_jsons/Discrim250_randls_28.json': 0,\n",
    " 'discrim_jsons/Discrim250_randls_6.json': 0,\n",
    " 'discrim_jsons/Discrim250_randls_12.json': 0,\n",
    " 'discrim_jsons/Discrim250_randls_45.json': 0,\n",
    " 'discrim_jsons/Discrim250_randls_24.json': 0,\n",
    " 'discrim_jsons/Discrim250_randls_32.json': 0,\n",
    " 'discrim_jsons/Discrim250_randls_42.json': 0,\n",
    " 'discrim_jsons/Discrim250_randls_15.json': 0,\n",
    " 'discrim_jsons/Discrim250_randls_39.json': 0,\n",
    " 'discrim_jsons/Discrim250_randls_1.json': 0,\n",
    " 'discrim_jsons/Discrim250_randls_19.json': 0,\n",
    " 'discrim_jsons/Discrim250_randls_35.json': 0,\n",
    " 'discrim_jsons/Discrim250_randls_23.json': 0,\n",
    " 'discrim_jsons/Discrim250_randls_22.json': 0,\n",
    " 'discrim_jsons/Discrim250_randls_34.json': 0,\n",
    " 'discrim_jsons/Discrim250_randls_18.json': 0,\n",
    " 'discrim_jsons/Discrim250_randls_38.json': 0,\n",
    " 'discrim_jsons/Discrim250_randls_0.json': 0,\n",
    " 'discrim_jsons/Discrim250_randls_14.json': 0,\n",
    " 'discrim_jsons/Discrim250_randls_43.json': 0,\n",
    " 'discrim_jsons/Discrim250_randls_3.json': 0,\n",
    " 'discrim_jsons/Discrim250_randls_17.json': 0,\n",
    " 'discrim_jsons/Discrim250_randls_40.json': 0,\n",
    " 'discrim_jsons/Discrim250_randls_21.json': 0,\n",
    " 'discrim_jsons/Discrim250_randls_37.json': 0,\n",
    " 'discrim_jsons/Discrim250_randls_36.json': 0,\n",
    " 'discrim_jsons/Discrim250_randls_20.json': 0,\n",
    " 'discrim_jsons/Discrim250_randls_41.json': 0,\n",
    " 'discrim_jsons/Discrim250_randls_16.json': 0,\n",
    " 'discrim_jsons/Discrim250_randls_2.json': 0,\n",
    " 'discrim_jsons/Discrim250_randls_27.json': 0,\n",
    " 'discrim_jsons/Discrim250_randls_9.json': 0,\n",
    " 'discrim_jsons/Discrim250_randls_31.json': 0,\n",
    " 'discrim_jsons/Discrim250_randls_5.json': 0,\n",
    " 'discrim_jsons/Discrim250_randls_11.json': 0,\n",
    " 'discrim_jsons/Discrim250_randls_46.json': 0,\n",
    " 'discrim_jsons/Discrim250_randls_10.json': 0,\n",
    " 'discrim_jsons/Discrim250_randls_4.json': 0,\n",
    " 'discrim_jsons/Discrim250_randls_8.json': 0,\n",
    " 'discrim_jsons/Discrim250_randls_30.json': 0,\n",
    " 'discrim_jsons/Discrim250_randls_26.json': 0,\n",
    " 'discrim_jsons/Discrim1000_randls_20.json': 0,\n",
    " 'discrim_jsons/Discrim1000_randls_7.json': 0,\n",
    " 'discrim_jsons/Discrim1000_randls_36.json': 0,\n",
    " 'discrim_jsons/Discrim1000_randls_41.json': 0,\n",
    " 'discrim_jsons/Discrim1000_randls_16.json': 0,\n",
    " 'discrim_jsons/Discrim1000_randls_17.json': 0,\n",
    " 'discrim_jsons/Discrim1000_randls_40.json': 0,\n",
    " 'discrim_jsons/Discrim1000_randls_37.json': 0,\n",
    " 'discrim_jsons/Discrim1000_randls_6.json': 0,\n",
    " 'discrim_jsons/Discrim1000_randls_21.json': 0,\n",
    " 'discrim_jsons/Discrim1000_randls_10.json': 0,\n",
    " 'discrim_jsons/Discrim1000_randls_26.json': 0,\n",
    " 'discrim_jsons/Discrim1000_randls_1.json': 0,\n",
    " 'discrim_jsons/Discrim1000_randls_30.json': 0,\n",
    " 'discrim_jsons/Discrim1000_randls_31.json': 0,\n",
    " 'discrim_jsons/Discrim1000_randls_0.json': 0,\n",
    " 'discrim_jsons/Discrim1000_randls_27.json': 0,\n",
    " 'discrim_jsons/Discrim1000_randls_11.json': 0,\n",
    " 'discrim_jsons/Discrim1000_randls_46.json': 0,\n",
    " 'discrim_jsons/Discrim1000_randls_12.json': 0,\n",
    " 'discrim_jsons/Discrim1000_randls_45.json': 0,\n",
    " 'discrim_jsons/Discrim1000_randls_28.json': 0,\n",
    " 'discrim_jsons/Discrim1000_randls_32.json': 0,\n",
    " 'discrim_jsons/Discrim1000_randls_3.json': 0,\n",
    " 'discrim_jsons/Discrim1000_randls_24.json': 0,\n",
    " 'discrim_jsons/Discrim1000_randls_25.json': 0,\n",
    " 'discrim_jsons/Discrim1000_randls_2.json': 0,\n",
    " 'discrim_jsons/Discrim1000_randls_33.json': 0,\n",
    " 'discrim_jsons/Discrim1000_randls_29.json': 0,\n",
    " 'discrim_jsons/Discrim1000_randls_44.json': 0,\n",
    " 'discrim_jsons/Discrim1000_randls_13.json': 0,\n",
    " 'discrim_jsons/Discrim1000_randls_18.json': 0,\n",
    " 'discrim_jsons/Discrim1000_randls_34.json': 0,\n",
    " 'discrim_jsons/Discrim1000_randls_5.json': 0,\n",
    " 'discrim_jsons/Discrim1000_randls_22.json': 0,\n",
    " 'discrim_jsons/Discrim1000_randls_14.json': 0,\n",
    " 'discrim_jsons/Discrim1000_randls_43.json': 0,\n",
    " 'discrim_jsons/Discrim1000_randls_38.json': 0,\n",
    " 'discrim_jsons/Discrim1000_randls_9.json': 0,\n",
    " 'discrim_jsons/Discrim1000_randls_8.json': 0,\n",
    " 'discrim_jsons/Discrim1000_randls_39.json': 0,\n",
    " 'discrim_jsons/Discrim1000_randls_42.json': 0,\n",
    " 'discrim_jsons/Discrim1000_randls_15.json': 0,\n",
    " 'discrim_jsons/Discrim1000_randls_23.json': 0,\n",
    " 'discrim_jsons/Discrim1000_randls_4.json': 0,\n",
    " 'discrim_jsons/Discrim1000_randls_35.json': 0,\n",
    " 'discrim_jsons/Discrim1000_randls_19.json': 0}\n",
    "    \n",
    "    for subj in all_subjIDs:\n",
    "#         print(subj)\n",
    "        count_correct = 0\n",
    "        subj_df = df.loc[df['subjID'] == subj]\n",
    "        cleaned_subj_df = subj_df.copy(deep=True) # prevent setting with copy warning\n",
    "        # \n",
    "        subj_sequence[subj] = subj_df.sequenceName.unique()[0]\n",
    "        \n",
    "        # remove trials that are outside the outlier range\n",
    "        c = 0\n",
    "        c_missed = 0\n",
    "        for idx, row in subj_df.iterrows():\n",
    "            stim1 = row['stimulus_0']\n",
    "            stim2 = row['stimulus_1']\n",
    "            # TEMP SOLUTION FOR RANDOM PHP DATA SAVING PROBLEM \n",
    "            if type(stim1) == str:\n",
    "                if stim1.split('/')[1] in catch_stimuli or stim2.split('/')[1] in catch_stimuli:\n",
    "                    ####### VERSION WHERE CATCH TRIALS ARE ATTENTION CHECK: IMAGE 1 IS THE SAME AS IMAGE 2\n",
    "                    c += 1\n",
    "                    if row[\"discrim_choice\"] == 3:\n",
    "#                         print(row[\"discrim_choice\"])\n",
    "                        count_correct += 1\n",
    "#                     else:\n",
    "#                         print(row[\"discrim_choice\"])\n",
    "                    # remove catch trial \n",
    "                    cleaned_subj_df.drop([idx], inplace=True)\n",
    "    #                 print(depth0, depth1, correct_choice, choice)\n",
    "#         print(c_missed, 'Number of catch trials where participants did not see the target')\n",
    "#         print(c)\n",
    "#         print(count_correct)\n",
    "        if count_correct < correct_requirement:\n",
    "#             print('Number correct:', count_correct)\n",
    "            remove.append(subj)\n",
    "        else:\n",
    "            sequence_count[subj_df.sequenceName.unique()[0]] += 1\n",
    "        \n",
    "        df2_list.append(cleaned_subj_df)\n",
    "    \n",
    "    df2 = pd.concat(df2_list)\n",
    "    print(\"Number of participants that did not pass the catch trial check:\", len(remove))\n",
    "    print(\"Participants that were removed:\",remove)\n",
    "#     print(\"Sequences that need to be replaced:\")\n",
    "#     for subj in remove:\n",
    "#         print(subj_sequence[subj])\n",
    "#     print(\"Sequence count:\")\n",
    "#     print(sequence_count)\n",
    "    for index, row in df2.iterrows():\n",
    "        if row['subjID'] in remove:\n",
    "            df2.drop(index, inplace=True)\n",
    "    \n",
    "    return df2\n",
    "    \n",
    "    "
   ]
  },
  {
   "cell_type": "code",
   "execution_count": 54,
   "metadata": {},
   "outputs": [],
   "source": [
    "# raw_discrim.stimulus_0"
   ]
  },
  {
   "cell_type": "code",
   "execution_count": 55,
   "metadata": {
    "jupyter": {
     "source_hidden": true
    }
   },
   "outputs": [],
   "source": [
    "# all_catch_stim = ['000375_2014-06-08_11-17-29_260595134347_rgbf000133-resize_2',\n",
    "#               '000569_2014-06-09_22-51-47_260595134347_rgbf000141-resize_3',\n",
    "#               '000787_2014-06-08_22-33-53_260595134347_rgbf000175-resize_1',\n",
    "#               '002072_2014-06-24_21-48-06_260595134347_rgbf000115-resize_0',\n",
    "#               '002364_2014-06-28_20-11-05_260595134347_rgbf000042-resize_0',\n",
    "#               '002675_2014-06-13_16-08-49_094959634447_rgbf000151-resize_2',\n",
    "#               '003125_2014-05-12_10-39-22_094959634447_rgbf000100-resize_0',\n",
    "#               '003395_2014-05-20_15-39-18_094959634447_rgbf000101-resize_0',\n",
    "#               '000454_2014-06-08_16-37-28_260595134347_rgbf000048-resize_2',\n",
    "#               '000868_2014-06-09_20-49-52_260595134347_rgbf000064-resize_4',\n",
    "#               '000953_2014-06-08_11-42-19_260595134347_rgbf000083-resize_0',\n",
    "#               '001012_2014-06-08_23-19-38_260595134347_rgbf000057-resize_0',\n",
    "#               '001170_2014-06-17_15-43-44_260595134347_rgbf000096-resize_6',\n",
    "#               '001222_2014-06-17_16-24-06_260595134347_rgbf000073-resize_0',\n",
    "#               '001498_2014-06-19_17-45-14_260595134347_rgbf000129-resize_4',\n",
    "#               '001540_2014-06-20_17-01-05_260595134347_rgbf000086-resize_2']\n",
    "\n",
    "all_catch_stim = ['000375_2014-06-08_11-17-29_260595134347_rgbf000133-resize_2',\n",
    "                  '000569_2014-06-09_22-51-47_260595134347_rgbf000141-resize_3',\n",
    "                  '000787_2014-06-08_22-33-53_260595134347_rgbf000175-resize_1',\n",
    "                  '002072_2014-06-24_21-48-06_260595134347_rgbf000115-resize_0',\n",
    "                  '001170_2014-06-17_15-43-44_260595134347_rgbf000096-resize_6',\n",
    "                  '001222_2014-06-17_16-24-06_260595134347_rgbf000073-resize_0',\n",
    "                  '001498_2014-06-19_17-45-14_260595134347_rgbf000129-resize_4',\n",
    "                  '001540_2014-06-20_17-01-05_260595134347_rgbf000086-resize_2']\n"
   ]
  },
  {
   "cell_type": "code",
   "execution_count": 56,
   "metadata": {},
   "outputs": [
    {
     "name": "stdout",
     "output_type": "stream",
     "text": [
      "Number of participants that did not pass the catch trial check: 112\n",
      "Participants that were removed: [628938.0, 257946.0, 151527.0, 270605.0, 169133.0, 280126.0, 111793.0, 942064.0, 916698.0, 769034.0, 596798.0, 968335.0, 764353.0, 915553.0, 974672.0, 138566.0, 615459.0, 446835.0, 100067.0, 920203.0, 537762.0, 476553.0, 684817.0, 265550.0, 773532.0, 238865.0, 611371.0, 126003.0, 838816.0, 952703.0, 129631.0, 401746.0, 216777.0, 617406.0, 772183.0, 857609.0, 533644.0, 612756.0, 250927.0, 836490.0, 580281.0, 661574.0, 363571.0, 670189.0, 685597.0, 551830.0, 587123.0, 309644.0, 110296.0, 255624.0, 437060.0, 222385.0, 317425.0, 782613.0, 723399.0, 493741.0, 488643.0, 612427.0, 494974.0, 368727.0, 188346.0, 109287.0, 787351.0, 939462.0, 630281.0, 264175.0, 479907.0, 449862.0, 738295.0, 379176.0, 723057.0, 668142.0, 705649.0, 280442.0, 711217.0, 200784.0, 589703.0, 391926.0, 520915.0, 916710.0, 268229.0, 336596.0, 284058.0, 928209.0, 134718.0, 902310.0, 973883.0, 653628.0, 835724.0, 231985.0, 988872.0, 124831.0, 382321.0, 858027.0, 853661.0, 443764.0, 172931.0, 871257.0, 106558.0, 852717.0, 578519.0, 303323.0, 402710.0, 836975.0, 315730.0, 509453.0, 580863.0, 168006.0, 595691.0, 822232.0, 634361.0, 425814.0]\n"
     ]
    }
   ],
   "source": [
    "catch_cleaned_discrim = catchTrial_cleaning(raw_discrim, 7, all_catch_stim)"
   ]
  },
  {
   "cell_type": "code",
   "execution_count": 57,
   "metadata": {},
   "outputs": [
    {
     "data": {
      "text/plain": [
       "array([29, 50, 38, 45, 32, 43, 34, 40, 35, 33, 44, 49, 42, 47, 25, 53, 31,\n",
       "       41, 48, 63, 46, 67, 57, 30, 27, 37, 24, 55, 28, 60, 58, 59, 51, 26,\n",
       "       56])"
      ]
     },
     "execution_count": 57,
     "metadata": {},
     "output_type": "execute_result"
    }
   ],
   "source": [
    "cleaned_ages = catch_cleaned_discrim.age.unique()\n",
    "cleaned_ages"
   ]
  },
  {
   "cell_type": "markdown",
   "metadata": {},
   "source": [
    "\n"
   ]
  },
  {
   "cell_type": "code",
   "execution_count": 58,
   "metadata": {
    "jupyter": {
     "source_hidden": true
    }
   },
   "outputs": [],
   "source": [
    "def RT_cleaning(df, outlier_range, num_trials):\n",
    "    all_subjIDs = df.subjID.unique()\n",
    "    remove = []\n",
    "    df2_list = []\n",
    "    for subj in all_subjIDs:\n",
    "        count = 0\n",
    "        subj_df = df.loc[df['subjID'] == subj]\n",
    "        cleaned_subj_df = subj_df.copy(deep=True) # prevent setting with copy warning\n",
    "        \n",
    "        # calculate subject's average trial RT\n",
    "        average_trial_RT = subj_df[\"trial_RT\"].mean()\n",
    "        std_trial_RT = subj_df[\"trial_RT\"].std()\n",
    "        p_outlier_range = [(average_trial_RT - (3*std_trial_RT)), (average_trial_RT + (3*std_trial_RT))]\n",
    "        \n",
    "        # remove trials that are outside the outlier range\n",
    "        for idx, row in subj_df.iterrows():\n",
    "            RT = row['trial_RT']\n",
    "            if RT < outlier_range[0]:\n",
    "                cleaned_subj_df.drop([idx], inplace=True)\n",
    "                count += 1\n",
    "            if RT > outlier_range[1]:\n",
    "                cleaned_subj_df.drop([idx], inplace=True)\n",
    "                count += 1\n",
    "            try:\n",
    "                if RT < p_outlier_range[0]:\n",
    "                    cleaned_subj_df.drop([idx], inplace=True)\n",
    "                    count += 1\n",
    "                if RT > p_outlier_range[1]:\n",
    "                    cleaned_subj_df.drop([idx], inplace=True)\n",
    "                    count += 1\n",
    "            except:\n",
    "                pass\n",
    "#                 print(\"Trial already removed\")\n",
    "                \n",
    "        threshold = math.floor(num_trials * 0.1)\n",
    "        if count >= threshold:\n",
    "            remove.append(subj)\n",
    "        \n",
    "        df2_list.append(cleaned_subj_df)\n",
    "    \n",
    "    df2 = pd.concat(df2_list)\n",
    "    print(\"Number of Participants with 10% or more trials outside their RT range:\", len(remove))\n",
    "    \n",
    "    for index, row in df2.iterrows():\n",
    "        if row['subjID'] in remove:\n",
    "            df2.drop(index, inplace=True)\n",
    "    \n",
    "    return df2\n"
   ]
  },
  {
   "cell_type": "code",
   "execution_count": 59,
   "metadata": {},
   "outputs": [
    {
     "name": "stdout",
     "output_type": "stream",
     "text": [
      "Number of Participants with 10% or more trials outside their RT range: 3\n"
     ]
    }
   ],
   "source": [
    "cleaned_discrim = RT_cleaning(catch_cleaned_discrim, [250,5000], 94)\n",
    "\n"
   ]
  },
  {
   "cell_type": "code",
   "execution_count": 60,
   "metadata": {
    "jupyter": {
     "source_hidden": true
    }
   },
   "outputs": [],
   "source": [
    "def finalTrialCountCheck(df, num_trials):\n",
    "    \"\"\"\n",
    "    If more then 10% of a participants data is missing, remove the participant\n",
    "    \"\"\"\n",
    "    #List unique values in the df['subjID'] column\\n\",\n",
    "    all_subjIDs = df.subjID.unique()\n",
    "    remove = []\n",
    "    for subj in all_subjIDs:\n",
    "        subj_df = df.loc[df['subjID'] == subj]\n",
    "        count_trials = len(subj_df.index)\n",
    "        threshold_trials_remaining = num_trials - math.floor(num_trials * 0.1)\n",
    "        \n",
    "        if count_trials <= threshold_trials_remaining:\n",
    "            remove.append(subj)\n",
    "    print(\"Number of Participants with >= 10% trials removed:\", len(remove))\n",
    "    \n",
    "    for index, row in df.iterrows():\n",
    "        if row['subjID'] in remove:\n",
    "            df.drop(index, inplace=True)\n",
    "    \n",
    "    print(\"Number of participants left:\",len(df.subjID.unique()))\n",
    "    \n",
    "    return df"
   ]
  },
  {
   "cell_type": "code",
   "execution_count": 61,
   "metadata": {},
   "outputs": [
    {
     "name": "stdout",
     "output_type": "stream",
     "text": [
      "Number of Participants with >= 10% trials removed: 1\n",
      "Number of participants left: 87\n"
     ]
    }
   ],
   "source": [
    "final_discrim = finalTrialCountCheck(cleaned_discrim, 94)"
   ]
  },
  {
   "cell_type": "code",
   "execution_count": 62,
   "metadata": {},
   "outputs": [],
   "source": [
    "# sequences that are completed\n",
    "\n",
    "sampled_urls = final_discrim.url.unique()\n"
   ]
  },
  {
   "cell_type": "markdown",
   "metadata": {},
   "source": [
    "<!-- ## Sequences that need replacing\n",
    "\n",
    "Final N = 192 \n",
    "\n",
    "Each sequence should have 48 participants -->"
   ]
  },
  {
   "cell_type": "code",
   "execution_count": 63,
   "metadata": {},
   "outputs": [],
   "source": [
    "# sampled_urls"
   ]
  },
  {
   "cell_type": "code",
   "execution_count": 64,
   "metadata": {},
   "outputs": [
    {
     "data": {
      "text/plain": [
       "array([732287., 701929., 169096., 380692., 415153., 978955., 287695.,\n",
       "       842654., 954281., 806621., 460884., 464873., 183853., 959931.,\n",
       "       901154., 752831., 867529., 803688., 254093., 388602., 333688.,\n",
       "       599222., 837628., 701538., 647515., 945405., 179520., 384426.,\n",
       "       655801., 528433., 791328., 294749., 395721., 148804., 522038.,\n",
       "       436946., 371659., 549214., 363534., 680113., 227280., 799561.,\n",
       "       994502., 321161., 105875., 168478., 848116., 749559., 203219.,\n",
       "       894754., 430903., 271488., 620795., 239362., 369194., 105706.,\n",
       "       287602., 129930., 779965., 694029., 297038., 862822., 979339.,\n",
       "       976796., 315782., 920738., 675852., 762618., 673024., 535106.,\n",
       "       745111., 608549., 284809., 653690., 325921., 295021., 974039.,\n",
       "       701816., 557338., 807609., 445907., 320717., 142868., 824014.,\n",
       "       148212., 672282., 210627.])"
      ]
     },
     "execution_count": 64,
     "metadata": {},
     "output_type": "execute_result"
    }
   ],
   "source": [
    "# final list of subjects \n",
    "final_discrim.subjID.unique()"
   ]
  },
  {
   "cell_type": "markdown",
   "metadata": {},
   "source": [
    "# Correlation with Verbal Report data \n",
    "\n",
    "- For each discrimination trial, get the average difference between the verbal report for those scenes \n",
    "- Correlate that with the proportion correct for that trial \n",
    "- Is there better accuracy for scenes that have a larget percevied depth difference (using the verbal report data)?"
   ]
  },
  {
   "cell_type": "markdown",
   "metadata": {},
   "source": [
    "## Individual Discriminations"
   ]
  },
  {
   "cell_type": "code",
   "execution_count": 65,
   "metadata": {
    "jupyter": {
     "source_hidden": true
    }
   },
   "outputs": [],
   "source": [
    "def get_accuracy(df):\n",
    "    \"\"\"\n",
    "    * ACCURACY BASED ON THE KINECT\n",
    "    args:\n",
    "        df  \n",
    "    returns:\n",
    "        proportion of correct responses, count of correct responses, count of total trials  \n",
    "    \"\"\"\n",
    "    count_correct = 0\n",
    "    count_incorrect = 0\n",
    "    count_total = 0\n",
    "    count_missed = 0\n",
    "    for idx, row in df.iterrows():\n",
    "        choice = row[\"discrim_choice\"]\n",
    "        if choice == 2.0:\n",
    "            count_missed += 1\n",
    "        else:    \n",
    "            count_total += 1\n",
    "            depth0 = row[\"actual_depth_0\"]\n",
    "            depth1 = row[\"actual_depth_1\"]\n",
    "            if depth0 < depth1:\n",
    "                correct_choice = 0\n",
    "            if depth0 > depth1:\n",
    "                correct_choice = 1\n",
    "            if depth0 == depth1:\n",
    "                # case where depths are equal \n",
    "                correct_choice = None\n",
    "            if choice == correct_choice:\n",
    "                count_correct += 1\n",
    "    \n",
    "    return count_correct/count_total, count_correct, count_total, count_missed\n",
    "\n",
    "def get_RT(df):\n",
    "    \"\"\"\n",
    "    Converts raw RT --> ln(RT)\n",
    "    \n",
    "    args:\n",
    "        df  \n",
    "    returns:\n",
    "        array of RTs, avg RT and std   \n",
    "    \"\"\"\n",
    "    list_RTs = []\n",
    "    for idx, row in df.iterrows():   \n",
    "        stimulus_duration = row['log_sceneDuration2']\n",
    "        RT = row[\"trial_RT\"] - stimulus_duration\n",
    "        list_RTs.append(np.log(RT))\n",
    "    \n",
    "    list_RTs = np.array(list_RTs)\n",
    "    \n",
    "    return list_RTs, np.mean(list_RTs) ,np.std(list_RTs), stats.sem(list_RTs)"
   ]
  },
  {
   "cell_type": "code",
   "execution_count": 66,
   "metadata": {
    "jupyter": {
     "source_hidden": true
    }
   },
   "outputs": [],
   "source": [
    "def depth_differences(df):\n",
    "    \"\"\"\n",
    "    args:\n",
    "        df  \n",
    "    returns:\n",
    "        array of depth differences, avg depth differences and std   \n",
    "    \"\"\"\n",
    "    depth_diffs = []\n",
    "    answers = []\n",
    "    for idx, row in df.iterrows():\n",
    "        depth0 = row[\"actual_depth_0\"]\n",
    "        depth1 = row[\"actual_depth_1\"]\n",
    "        \n",
    "        diff = depth0-depth1\n",
    "        if diff < 0:\n",
    "            answer = row['stimulus_0']\n",
    "        else:\n",
    "            answer = row['stimulus_1']\n",
    "        answers.append(answer)\n",
    "        depth_diffs.append(abs(depth0-depth1))\n",
    "    \n",
    "    depth_diffs = np.array(depth_diffs)\n",
    "    \n",
    "    return depth_diffs, np.mean(depth_diffs) ,np.std(depth_diffs),answers\n",
    "    "
   ]
  },
  {
   "cell_type": "code",
   "execution_count": 67,
   "metadata": {},
   "outputs": [],
   "source": [
    "all_depth_diffs = depth_differences(final_discrim)\n",
    "\n",
    "# add depth difference column to dataframe \n",
    "final_discrim.insert(18, \"depth_difference\", all_depth_diffs[0])"
   ]
  },
  {
   "cell_type": "code",
   "execution_count": 68,
   "metadata": {},
   "outputs": [],
   "source": [
    "final_discrim.insert(19, \"kinect_answer\", all_depth_diffs[-1])"
   ]
  },
  {
   "cell_type": "code",
   "execution_count": 69,
   "metadata": {},
   "outputs": [],
   "source": [
    "final_discrim_250 = final_discrim.loc[final_discrim['duration'] == 250]\n",
    "final_discrim_1000 = final_discrim.loc[final_discrim['duration'] == 1000]"
   ]
  },
  {
   "cell_type": "code",
   "execution_count": 29,
   "metadata": {
    "collapsed": true,
    "jupyter": {
     "outputs_hidden": true
    }
   },
   "outputs": [
    {
     "ename": "FileNotFoundError",
     "evalue": "[Errno 2] No such file or directory: '/Users/prachimahableshwarkar/Documents/GW/Depth_MTurk/depth_discrimination/TAC_discrim_datafiles/matched_discrim_data/final_discrim_250.csv'",
     "output_type": "error",
     "traceback": [
      "\u001b[0;31m---------------------------------------------------------------------------\u001b[0m",
      "\u001b[0;31mFileNotFoundError\u001b[0m                         Traceback (most recent call last)",
      "\u001b[0;32m<ipython-input-29-e48c33e51062>\u001b[0m in \u001b[0;36m<module>\u001b[0;34m\u001b[0m\n\u001b[1;32m      1\u001b[0m \u001b[0mdest\u001b[0m \u001b[0;34m=\u001b[0m \u001b[0;34m'/Users/prachimahableshwarkar/Documents/GW/Depth_MTurk/depth_discrimination/TAC_discrim_datafiles/matched_discrim_data'\u001b[0m\u001b[0;34m\u001b[0m\u001b[0m\n\u001b[1;32m      2\u001b[0m \u001b[0;34m\u001b[0m\u001b[0m\n\u001b[0;32m----> 3\u001b[0;31m \u001b[0mfinal_discrim_250\u001b[0m\u001b[0;34m.\u001b[0m\u001b[0mto_csv\u001b[0m\u001b[0;34m(\u001b[0m\u001b[0mdest\u001b[0m \u001b[0;34m+\u001b[0m \u001b[0;34m'/'\u001b[0m \u001b[0;34m+\u001b[0m \u001b[0;34m'final_discrim_250.csv'\u001b[0m\u001b[0;34m)\u001b[0m\u001b[0;34m\u001b[0m\u001b[0m\n\u001b[0m\u001b[1;32m      4\u001b[0m \u001b[0mfinal_discrim_1000\u001b[0m\u001b[0;34m.\u001b[0m\u001b[0mto_csv\u001b[0m\u001b[0;34m(\u001b[0m\u001b[0mdest\u001b[0m \u001b[0;34m+\u001b[0m \u001b[0;34m'/'\u001b[0m \u001b[0;34m+\u001b[0m \u001b[0;34m'final_discrim_1000.csv'\u001b[0m\u001b[0;34m)\u001b[0m\u001b[0;34m\u001b[0m\u001b[0m\n\u001b[1;32m      5\u001b[0m \u001b[0mfinal_discrim\u001b[0m\u001b[0;34m.\u001b[0m\u001b[0mto_csv\u001b[0m\u001b[0;34m(\u001b[0m\u001b[0mdest\u001b[0m \u001b[0;34m+\u001b[0m \u001b[0;34m'/'\u001b[0m \u001b[0;34m+\u001b[0m \u001b[0;34m'final_discrim.csv'\u001b[0m\u001b[0;34m)\u001b[0m\u001b[0;34m\u001b[0m\u001b[0m\n",
      "\u001b[0;32m~/Documents/depth_duration/experiment/lib/python3.6/site-packages/pandas/core/generic.py\u001b[0m in \u001b[0;36mto_csv\u001b[0;34m(self, path_or_buf, sep, na_rep, float_format, columns, header, index, index_label, mode, encoding, compression, quoting, quotechar, line_terminator, chunksize, date_format, doublequote, escapechar, decimal, errors)\u001b[0m\n\u001b[1;32m   3165\u001b[0m             \u001b[0mdecimal\u001b[0m\u001b[0;34m=\u001b[0m\u001b[0mdecimal\u001b[0m\u001b[0;34m,\u001b[0m\u001b[0;34m\u001b[0m\u001b[0m\n\u001b[1;32m   3166\u001b[0m         )\n\u001b[0;32m-> 3167\u001b[0;31m         \u001b[0mformatter\u001b[0m\u001b[0;34m.\u001b[0m\u001b[0msave\u001b[0m\u001b[0;34m(\u001b[0m\u001b[0;34m)\u001b[0m\u001b[0;34m\u001b[0m\u001b[0m\n\u001b[0m\u001b[1;32m   3168\u001b[0m \u001b[0;34m\u001b[0m\u001b[0m\n\u001b[1;32m   3169\u001b[0m         \u001b[0;32mif\u001b[0m \u001b[0mpath_or_buf\u001b[0m \u001b[0;32mis\u001b[0m \u001b[0;32mNone\u001b[0m\u001b[0;34m:\u001b[0m\u001b[0;34m\u001b[0m\u001b[0m\n",
      "\u001b[0;32m~/Documents/depth_duration/experiment/lib/python3.6/site-packages/pandas/io/formats/csvs.py\u001b[0m in \u001b[0;36msave\u001b[0;34m(self)\u001b[0m\n\u001b[1;32m    188\u001b[0m                 \u001b[0mencoding\u001b[0m\u001b[0;34m=\u001b[0m\u001b[0mself\u001b[0m\u001b[0;34m.\u001b[0m\u001b[0mencoding\u001b[0m\u001b[0;34m,\u001b[0m\u001b[0;34m\u001b[0m\u001b[0m\n\u001b[1;32m    189\u001b[0m                 \u001b[0merrors\u001b[0m\u001b[0;34m=\u001b[0m\u001b[0mself\u001b[0m\u001b[0;34m.\u001b[0m\u001b[0merrors\u001b[0m\u001b[0;34m,\u001b[0m\u001b[0;34m\u001b[0m\u001b[0m\n\u001b[0;32m--> 190\u001b[0;31m                 \u001b[0mcompression\u001b[0m\u001b[0;34m=\u001b[0m\u001b[0mdict\u001b[0m\u001b[0;34m(\u001b[0m\u001b[0mself\u001b[0m\u001b[0;34m.\u001b[0m\u001b[0mcompression_args\u001b[0m\u001b[0;34m,\u001b[0m \u001b[0mmethod\u001b[0m\u001b[0;34m=\u001b[0m\u001b[0mself\u001b[0m\u001b[0;34m.\u001b[0m\u001b[0mcompression\u001b[0m\u001b[0;34m)\u001b[0m\u001b[0;34m,\u001b[0m\u001b[0;34m\u001b[0m\u001b[0m\n\u001b[0m\u001b[1;32m    191\u001b[0m             )\n\u001b[1;32m    192\u001b[0m             \u001b[0mclose\u001b[0m \u001b[0;34m=\u001b[0m \u001b[0;32mTrue\u001b[0m\u001b[0;34m\u001b[0m\u001b[0m\n",
      "\u001b[0;32m~/Documents/depth_duration/experiment/lib/python3.6/site-packages/pandas/io/common.py\u001b[0m in \u001b[0;36mget_handle\u001b[0;34m(path_or_buf, mode, encoding, compression, memory_map, is_text, errors)\u001b[0m\n\u001b[1;32m    491\u001b[0m         \u001b[0;32mif\u001b[0m \u001b[0mencoding\u001b[0m\u001b[0;34m:\u001b[0m\u001b[0;34m\u001b[0m\u001b[0m\n\u001b[1;32m    492\u001b[0m             \u001b[0;31m# Encoding\u001b[0m\u001b[0;34m\u001b[0m\u001b[0;34m\u001b[0m\u001b[0m\n\u001b[0;32m--> 493\u001b[0;31m             \u001b[0mf\u001b[0m \u001b[0;34m=\u001b[0m \u001b[0mopen\u001b[0m\u001b[0;34m(\u001b[0m\u001b[0mpath_or_buf\u001b[0m\u001b[0;34m,\u001b[0m \u001b[0mmode\u001b[0m\u001b[0;34m,\u001b[0m \u001b[0mencoding\u001b[0m\u001b[0;34m=\u001b[0m\u001b[0mencoding\u001b[0m\u001b[0;34m,\u001b[0m \u001b[0merrors\u001b[0m\u001b[0;34m=\u001b[0m\u001b[0merrors\u001b[0m\u001b[0;34m,\u001b[0m \u001b[0mnewline\u001b[0m\u001b[0;34m=\u001b[0m\u001b[0;34m\"\"\u001b[0m\u001b[0;34m)\u001b[0m\u001b[0;34m\u001b[0m\u001b[0m\n\u001b[0m\u001b[1;32m    494\u001b[0m         \u001b[0;32melif\u001b[0m \u001b[0mis_text\u001b[0m\u001b[0;34m:\u001b[0m\u001b[0;34m\u001b[0m\u001b[0m\n\u001b[1;32m    495\u001b[0m             \u001b[0;31m# No explicit encoding\u001b[0m\u001b[0;34m\u001b[0m\u001b[0;34m\u001b[0m\u001b[0m\n",
      "\u001b[0;31mFileNotFoundError\u001b[0m: [Errno 2] No such file or directory: '/Users/prachimahableshwarkar/Documents/GW/Depth_MTurk/depth_discrimination/TAC_discrim_datafiles/matched_discrim_data/final_discrim_250.csv'"
     ]
    }
   ],
   "source": [
    "dest = '/Users/prachimahableshwarkar/Documents/GW/Depth_MTurk/depth_discrimination/TAC_discrim_datafiles/matched_discrim_data'\n",
    "\n",
    "final_discrim_250.to_csv(dest + '/' + 'final_discrim_250.csv')\n",
    "final_discrim_1000.to_csv(dest + '/' + 'final_discrim_1000.csv')\n",
    "final_discrim.to_csv(dest + '/' + 'final_discrim.csv')"
   ]
  },
  {
   "cell_type": "code",
   "execution_count": null,
   "metadata": {},
   "outputs": [],
   "source": []
  },
  {
   "cell_type": "code",
   "execution_count": 70,
   "metadata": {},
   "outputs": [],
   "source": [
    "def individual_discrimination_stats(df):\n",
    "    '''\n",
    "    Individual discrimination performance and RT \n",
    "    '''\n",
    "    all_stim0 = df.stimulus_0.unique()\n",
    "    \n",
    "    stimuli_stats = {}\n",
    "    for stim0 in all_stim0:\n",
    "        stim0_df = df.loc[df['stimulus_0'] == stim0]\n",
    "        other_stim = stim0_df.stimulus_1.unique()[0]\n",
    "        stim1_df = df.loc[df['stimulus_1'] == stim0]\n",
    "        # df for a specific discrimination trial (collapsed on stim presentation order)\n",
    "        stim_df = pd.concat([stim0_df, stim1_df], ignore_index=True)\n",
    "        stim_250_df = stim_df[stim_df['duration'] == 250.0]\n",
    "        stim_1000_df = stim_df[stim_df['duration'] == 1000.0] \n",
    "                \n",
    "        stim_depthdiff = stim_df['depth_difference'][0]\n",
    "        \n",
    "        stim0_depth = stim_df['actual_depth_0'][0]\n",
    "        stim1_depth = stim_df['actual_depth_1'][0]\n",
    "        stim_depthbin = np.mean(np.array([stim0_depth,stim1_depth]))\n",
    "        \n",
    "        kinect_answer = stim0_df.kinect_answer.unique()[0]\n",
    "        \n",
    "        try:\n",
    "            stim_acc_250 = get_accuracy(stim_250_df)\n",
    "            stim_acc_1000 = get_accuracy(stim_1000_df)\n",
    "\n",
    "            stim_RT_250 = get_RT(stim_250_df)\n",
    "            stim_RT_1000 = get_RT(stim_1000_df)\n",
    "\n",
    "            stimuli_stats[stim0] = {'stimulus_1': other_stim,\n",
    "                                    'accuracy_250': stim_acc_250,\n",
    "                                    'accuracy_1000': stim_acc_1000,\n",
    "                                    'avg_depth': stim_depthbin,\n",
    "                                    'depthdifference': stim_depthdiff, \n",
    "                                    'RT_250': stim_RT_250,\n",
    "                                    'RT_1000': stim_RT_1000,\n",
    "                                    'kinect_answer': kinect_answer}\n",
    "        except:\n",
    "            pass\n",
    "    \n",
    "    return stimuli_stats"
   ]
  },
  {
   "cell_type": "code",
   "execution_count": 71,
   "metadata": {},
   "outputs": [],
   "source": [
    "all_discrim_performance = individual_discrimination_stats(final_discrim)\n"
   ]
  },
  {
   "cell_type": "code",
   "execution_count": 29,
   "metadata": {},
   "outputs": [],
   "source": [
    "# all_discrim_performance['depth_discrimination_stimuli/001417_2014-06-19_16-25-36_260595134347_rgbf000115-resize_5/001417_2014-06-19_16-25-36_260595134347_rgbf000115-resize_5-target.png']\n",
    "\n"
   ]
  },
  {
   "cell_type": "markdown",
   "metadata": {},
   "source": [
    "## Load Normalized TAC Verbal Judgement Data\n"
   ]
  },
  {
   "cell_type": "code",
   "execution_count": 72,
   "metadata": {},
   "outputs": [],
   "source": [
    "\n",
    "# TAC_normed_individual_trial_data_path = '/Users/prachi/Documents/depth_duration/verbal_judgement_analysis/TAC_npy_files/matchedVE/normalized/'\n",
    "\n",
    "TAC_normed_individual_trial_data_path = '/Users/pmahableshwarkar/Documents/Depth_Project/verbal_judgement_analysis/TAC_npy_files/matchedVE/normalized/'\n",
    "# x data\n",
    "with open(TAC_normed_individual_trial_data_path + 'n_X_250.npy' , 'rb') as f:\n",
    "    n_TAC_X_250 = np.load(f, allow_pickle=True)\n",
    "\n",
    "with open(TAC_normed_individual_trial_data_path + 'n_X_1000.npy' , 'rb') as f:\n",
    "    n_TAC_X_1000 = np.load(f, allow_pickle=True)\n",
    "# y data \n",
    "with open(TAC_normed_individual_trial_data_path + 'n_final_y_250.npy' , 'rb') as f:\n",
    "    n_TAC_final_y_250 = np.load(f, allow_pickle=True)\n",
    "    \n",
    "with open(TAC_normed_individual_trial_data_path + 'n_final_y_1000.npy' , 'rb') as f:\n",
    "    n_TAC_final_y_1000= np.load(f, allow_pickle=True)\n",
    "\n",
    "# std data\n",
    "with open(TAC_normed_individual_trial_data_path + 'n_std_250.npy' , 'rb') as f:\n",
    "    n_TAC_std_250 = np.load(f, allow_pickle=True)\n",
    "\n",
    "with open(TAC_normed_individual_trial_data_path + 'n_std_1000.npy' , 'rb') as f:\n",
    "    n_TAC_std_1000 = np.load(f, allow_pickle=True)\n",
    "    \n",
    "# ste data\n",
    "with open(TAC_normed_individual_trial_data_path + 'n_ste_250.npy' , 'rb') as f:\n",
    "    n_TAC_ste_250 = np.load(f, allow_pickle=True)\n",
    "\n",
    "with open(TAC_normed_individual_trial_data_path + 'n_ste_1000.npy' , 'rb') as f:\n",
    "    n_TAC_ste_1000 = np.load(f, allow_pickle=True)\n",
    "\n",
    "# stim data\n",
    "with open(TAC_normed_individual_trial_data_path + 'n_final_stim_250.npy' , 'rb') as f:\n",
    "    TAC_final_stim_250 = np.load(f, allow_pickle=True)\n",
    "\n",
    "with open(TAC_normed_individual_trial_data_path + 'n_final_stim_1000.npy' , 'rb') as f:\n",
    "    TAC_final_stim_1000 = np.load(f, allow_pickle=True)"
   ]
  },
  {
   "cell_type": "code",
   "execution_count": null,
   "metadata": {},
   "outputs": [],
   "source": [
    "\n"
   ]
  },
  {
   "cell_type": "markdown",
   "metadata": {},
   "source": [
    "# Code depth discrimination correctness by the verbal judgement data \n",
    "\n",
    "Create new 'ground truth' answer based on verbal judgement data\n",
    "\n",
    "Task: Respond which image's target was closer to you"
   ]
  },
  {
   "cell_type": "code",
   "execution_count": null,
   "metadata": {},
   "outputs": [],
   "source": []
  },
  {
   "cell_type": "markdown",
   "metadata": {},
   "source": [
    "## Normalized VE Data"
   ]
  },
  {
   "cell_type": "code",
   "execution_count": 73,
   "metadata": {},
   "outputs": [],
   "source": [
    "n_VE_answerkey_250 = {} # corresponding answer key for discrimination trials  \n",
    "\n",
    "for key in all_discrim_performance.keys():\n",
    "    targetimg0 = key.split('/')[-1]\n",
    "    folder0 = targetimg0[:-11]\n",
    "    depth_dur_path0 = 'depth_duration_stimuli/' + folder0 + '/' + targetimg0\n",
    "    idx0 = np.where(TAC_final_stim_250 == depth_dur_path0)[0][0]\n",
    "    avg_estim_stim0 = n_TAC_final_y_250[idx0]\n",
    "    std0 = n_TAC_std_250[idx0]\n",
    "    ste0 = n_TAC_ste_250[idx0]\n",
    "    \n",
    "    targetimg1 = all_discrim_performance[key]['stimulus_1'].split('/')[-1]\n",
    "    folder1 = targetimg1[:-11]\n",
    "    depth_dur_path1 = 'depth_duration_stimuli/' + folder1 + '/' + targetimg1\n",
    "    idx1= np.where(TAC_final_stim_250 == depth_dur_path1)[0][0]\n",
    "    avg_estim_stim1 = n_TAC_final_y_250[idx1]\n",
    "    std1 = n_TAC_std_250[idx1]\n",
    "    ste1 = n_TAC_ste_250[idx1]\n",
    "    \n",
    "    kinect_answer = all_discrim_performance[key]['kinect_answer'].split('/')[-1]\n",
    "\n",
    "    if avg_estim_stim0 < avg_estim_stim1:\n",
    "        # Which target is CLOSER to you?\n",
    "        answer = targetimg0\n",
    "    if avg_estim_stim0 == avg_estim_stim1:\n",
    "        print(targetimg0, targetimg1)\n",
    "    if avg_estim_stim0 > avg_estim_stim1:\n",
    "        answer = targetimg1\n",
    "\n",
    "    n_VE_answerkey_250[key] = {'stimulus_1': targetimg1,\n",
    "                             'stimulus_0_avg_estim': avg_estim_stim0,\n",
    "                             'stimulus_1_avg_estim': avg_estim_stim1,\n",
    "                             'answer': answer,\n",
    "                             'std0': std0,\n",
    "                             'std1': std1,\n",
    "                             'kinect_answer': kinect_answer}\n",
    "    "
   ]
  },
  {
   "cell_type": "code",
   "execution_count": 74,
   "metadata": {},
   "outputs": [
    {
     "data": {
      "text/plain": [
       "(94,\n",
       " {'stimulus_1': '001516_2014-06-20_16-25-09_260595134347_rgbf000076-resize_2-target.png',\n",
       "  'stimulus_0_avg_estim': 0.9226206714135269,\n",
       "  'stimulus_1_avg_estim': 0.7409469798308169,\n",
       "  'answer': '001516_2014-06-20_16-25-09_260595134347_rgbf000076-resize_2-target.png',\n",
       "  'std0': 0.2683895243741899,\n",
       "  'std1': 0.2709475561047894,\n",
       "  'kinect_answer': '001516_2014-06-20_16-25-09_260595134347_rgbf000076-resize_2-target.png'})"
      ]
     },
     "execution_count": 74,
     "metadata": {},
     "output_type": "execute_result"
    }
   ],
   "source": [
    "len(n_VE_answerkey_250), n_VE_answerkey_250['depth_discrimination_stimuli/002118_2014-06-25_20-32-08_260595134347_rgbf000078-resize_1/002118_2014-06-25_20-32-08_260595134347_rgbf000078-resize_1-target.png']\n"
   ]
  },
  {
   "cell_type": "code",
   "execution_count": 75,
   "metadata": {},
   "outputs": [],
   "source": [
    "n_VE_answerkey_1000 = {} # corresponding answer key for discrimination trials  \n",
    "\n",
    "for key in all_discrim_performance.keys():\n",
    "    targetimg0 = key.split('/')[-1]\n",
    "    folder0 = targetimg0[:-11]\n",
    "    depth_dur_path0 = 'depth_duration_stimuli/' + folder0 + '/' + targetimg0\n",
    "    idx0 = np.where(TAC_final_stim_1000 == depth_dur_path0)[0][0]\n",
    "    avg_estim_stim0 = n_TAC_final_y_1000[idx0]\n",
    "    std0 = n_TAC_std_1000[idx0]\n",
    "\n",
    "    targetimg1 = all_discrim_performance[key]['stimulus_1'].split('/')[-1]\n",
    "    folder1 = targetimg1[:-11]\n",
    "    depth_dur_path1 = 'depth_duration_stimuli/' + folder1 + '/' + targetimg1\n",
    "    idx1= np.where(TAC_final_stim_1000 == depth_dur_path1)[0][0]\n",
    "    avg_estim_stim1 = n_TAC_final_y_1000[idx1]\n",
    "    std1 = n_TAC_std_1000[idx1]\n",
    "    \n",
    "    if avg_estim_stim0 < avg_estim_stim1:\n",
    "        # Which target is CLOSER to you?\n",
    "        answer = targetimg0\n",
    "    if avg_estim_stim0 == avg_estim_stim1:\n",
    "        print(targetimg0, targetimg1)\n",
    "    if avg_estim_stim0 > avg_estim_stim1:\n",
    "        answer = targetimg1\n",
    "    \n",
    "    kinect_answer = all_discrim_performance[key]['kinect_answer'].split('/')[-1]\n",
    "\n",
    "\n",
    "\n",
    "    n_VE_answerkey_1000[key] = {'stimulus_1': targetimg1,\n",
    "                             'stimulus_0_avg_estim': avg_estim_stim0,\n",
    "                             'stimulus_1_avg_estim': avg_estim_stim1,\n",
    "                             'answer': answer,\n",
    "                             'std0': std0,\n",
    "                             'std1': std1,\n",
    "                             'kinect_answer': kinect_answer}\n",
    "    "
   ]
  },
  {
   "cell_type": "code",
   "execution_count": 76,
   "metadata": {},
   "outputs": [
    {
     "data": {
      "text/plain": [
       "(94,\n",
       " {'stimulus_1': '001516_2014-06-20_16-25-09_260595134347_rgbf000076-resize_2-target.png',\n",
       "  'stimulus_0_avg_estim': 0.9019008811251704,\n",
       "  'stimulus_1_avg_estim': 0.7497280960581257,\n",
       "  'answer': '001516_2014-06-20_16-25-09_260595134347_rgbf000076-resize_2-target.png',\n",
       "  'std0': 0.2656412570284583,\n",
       "  'std1': 0.19561620727680093,\n",
       "  'kinect_answer': '001516_2014-06-20_16-25-09_260595134347_rgbf000076-resize_2-target.png'})"
      ]
     },
     "execution_count": 76,
     "metadata": {},
     "output_type": "execute_result"
    }
   ],
   "source": [
    "len(n_VE_answerkey_1000), n_VE_answerkey_1000['depth_discrimination_stimuli/002118_2014-06-25_20-32-08_260595134347_rgbf000078-resize_1/002118_2014-06-25_20-32-08_260595134347_rgbf000078-resize_1-target.png']\n"
   ]
  },
  {
   "cell_type": "code",
   "execution_count": 77,
   "metadata": {},
   "outputs": [
    {
     "ename": "FileNotFoundError",
     "evalue": "[Errno 2] No such file or directory: '/Users/prachimahableshwarkar/Documents/GW/Depth_MTurk/depth_discrimination/TAC_discrim_datafiles/matched_discrim_data/n_VE_answerkey_1000.pickle'",
     "output_type": "error",
     "traceback": [
      "\u001b[0;31m---------------------------------------------------------------------------\u001b[0m",
      "\u001b[0;31mFileNotFoundError\u001b[0m                         Traceback (most recent call last)",
      "\u001b[0;32m<ipython-input-77-777a9bc84554>\u001b[0m in \u001b[0;36m<module>\u001b[0;34m\u001b[0m\n\u001b[1;32m      3\u001b[0m \u001b[0;34m\u001b[0m\u001b[0m\n\u001b[1;32m      4\u001b[0m \u001b[0mdest\u001b[0m \u001b[0;34m=\u001b[0m \u001b[0;34m'/Users/prachimahableshwarkar/Documents/GW/Depth_MTurk/depth_discrimination/TAC_discrim_datafiles/matched_discrim_data/n_VE_answerkey_1000.pickle'\u001b[0m\u001b[0;34m\u001b[0m\u001b[0;34m\u001b[0m\u001b[0m\n\u001b[0;32m----> 5\u001b[0;31m \u001b[0;32mwith\u001b[0m \u001b[0mopen\u001b[0m\u001b[0;34m(\u001b[0m\u001b[0mdest\u001b[0m\u001b[0;34m,\u001b[0m \u001b[0;34m'wb'\u001b[0m\u001b[0;34m)\u001b[0m \u001b[0;32mas\u001b[0m \u001b[0mhandle\u001b[0m\u001b[0;34m:\u001b[0m\u001b[0;34m\u001b[0m\u001b[0;34m\u001b[0m\u001b[0m\n\u001b[0m\u001b[1;32m      6\u001b[0m     \u001b[0mpickle\u001b[0m\u001b[0;34m.\u001b[0m\u001b[0mdump\u001b[0m\u001b[0;34m(\u001b[0m\u001b[0mn_VE_answerkey_1000\u001b[0m\u001b[0;34m,\u001b[0m \u001b[0mhandle\u001b[0m\u001b[0;34m)\u001b[0m\u001b[0;34m\u001b[0m\u001b[0;34m\u001b[0m\u001b[0m\n",
      "\u001b[0;31mFileNotFoundError\u001b[0m: [Errno 2] No such file or directory: '/Users/prachimahableshwarkar/Documents/GW/Depth_MTurk/depth_discrimination/TAC_discrim_datafiles/matched_discrim_data/n_VE_answerkey_1000.pickle'"
     ]
    }
   ],
   "source": [
    "import pickle\n",
    "# save answer keys as pickle file \n",
    "\n",
    "dest = '/Users/prachimahableshwarkar/Documents/GW/Depth_MTurk/depth_discrimination/TAC_discrim_datafiles/matched_discrim_data/n_VE_answerkey_1000.pickle'\n",
    "with open(dest, 'wb') as handle:\n",
    "    pickle.dump(n_VE_answerkey_1000, handle)"
   ]
  },
  {
   "cell_type": "code",
   "execution_count": 86,
   "metadata": {},
   "outputs": [],
   "source": [
    "dest = '/Users/prachimahableshwarkar/Documents/GW/Depth_MTurk/depth_discrimination/TAC_discrim_datafiles/matched_discrim_data/n_VE_answerkey_250.pickle'\n",
    "with open(dest, 'wb') as handle:\n",
    "    pickle.dump(n_VE_answerkey_250, handle)"
   ]
  },
  {
   "cell_type": "markdown",
   "metadata": {},
   "source": [
    "### VE Coded Accuracy"
   ]
  },
  {
   "cell_type": "code",
   "execution_count": 78,
   "metadata": {},
   "outputs": [],
   "source": [
    "def VE_accuracy(stim0, df, answerkey):\n",
    "    '''\n",
    "    Accuracy based on the verbal judgement data \n",
    "    '''\n",
    "    \n",
    "    \"\"\"\n",
    "    args:\n",
    "        df  \n",
    "    returns:\n",
    "        proportion of correct responses, count of correct responses, count of total trials  \n",
    "    \"\"\"\n",
    "    count_correct = 0\n",
    "    count_incorrect = 0\n",
    "    count_total = 0\n",
    "    count_missed = 0\n",
    "    \n",
    "    VE_correct_answer = answerkey[stim0]['answer']\n",
    "    kinect_correct_answer = answerkey[stim0]['kinect_answer']\n",
    "    \n",
    "    for idx, row in df.iterrows(): \n",
    "        choice = row[\"discrim_choice\"]\n",
    "        count_total += 1\n",
    "        if choice == 0.0:\n",
    "            image_choice = row[\"stimulus_0\"]\n",
    "                \n",
    "        if choice == 1.0:\n",
    "            image_choice = row[\"stimulus_1\"]\n",
    "                \n",
    "        if choice == 2.0:\n",
    "            count_missed += 1\n",
    "            \n",
    "        if choice == 3.0:\n",
    "            count_missed += 1\n",
    "        \n",
    "        try:\n",
    "            if image_choice.split('/')[-1] == VE_correct_answer:\n",
    "                count_correct += 1\n",
    "        except:\n",
    "            pass\n",
    "        \n",
    "#     standardError = (0.5*(1-0.5))/count_total\n",
    "    p = count_correct/count_total\n",
    "    standardError = np.sqrt((p*(1-p))/count_total)\n",
    "    \n",
    "    if VE_correct_answer == kinect_correct_answer:\n",
    "        return count_correct/count_total, count_correct, count_total, count_missed, standardError, 'pos'\n",
    "    else:\n",
    "        return count_correct/count_total, count_correct, count_total, count_missed, standardError, 'neg'\n",
    "\n",
    "    \n",
    "def main_VE_accuracy(df, answerkey_250, answerkey_1000):\n",
    "    all_stim0 = df.stimulus_0.unique()\n",
    "    \n",
    "    stimuli_stats = {}\n",
    "    for stim0 in all_stim0:\n",
    "        try:\n",
    "            # dataframe for stimulus 0\n",
    "            stim0_df = df.loc[df['stimulus_0'] == stim0]\n",
    "            # name of stimulus 1\n",
    "            other_stim = stim0_df.stimulus_1.unique()[0]\n",
    "            # dataframe where stimulus 0 is presented SECOND (same trial)\n",
    "            stim1_df = df.loc[df['stimulus_1'] == stim0]\n",
    "\n",
    "            # df for a specific discrimination trial (collapsed on stim presentation order)\n",
    "            stim_df = pd.concat([stim0_df, stim1_df], ignore_index=True)\n",
    "            stim_250_df = stim_df[stim_df['duration'] == 250.0]\n",
    "            stim_1000_df = stim_df[stim_df['duration'] == 1000.0] \n",
    "\n",
    "            stim0_depth = stim_df['actual_depth_0'][0]\n",
    "            stim1_depth = stim_df['actual_depth_1'][0]\n",
    "            stim_depthbin = np.mean(np.array([stim0_depth,stim1_depth]))\n",
    "\n",
    "            stim_acc_250 = VE_accuracy(stim0, stim_250_df, answerkey_250)\n",
    "            stim_acc_1000 = VE_accuracy(stim0, stim_1000_df, answerkey_1000)\n",
    "\n",
    "            stim_RT_250 = get_RT(stim_250_df)\n",
    "            stim_RT_1000 = get_RT(stim_1000_df)\n",
    "\n",
    "            # difference between verbal judgements divided by joint variance \n",
    "            # abs(VE1-VE2)/sqrt(stda^2 + std2^2)\n",
    "            std0_250 = answerkey_250[stim0]['std0']\n",
    "            std1_250 = answerkey_250[stim0]['std1']\n",
    "            joint_variance_250 = np.sqrt(std0_250**2 + std1_250**2)\n",
    "            JV_regressor_250 = abs(answerkey_250[stim0]['stimulus_0_avg_estim'] - answerkey_250[stim0]['stimulus_1_avg_estim'])/joint_variance_250\n",
    "\n",
    "            std0_1000 = answerkey_1000[stim0]['std0']\n",
    "            std1_1000 = answerkey_1000[stim0]['std1']\n",
    "            joint_variance_1000 = np.sqrt(std0_1000**2 + std1_1000**2)\n",
    "            JV_regressor_1000 = abs(answerkey_1000[stim0]['stimulus_0_avg_estim'] - answerkey_1000[stim0]['stimulus_1_avg_estim'])/joint_variance_1000\n",
    "            \n",
    "            if stim_acc_250[-1] == 'pos':\n",
    "                VE_depthdifference_250 = abs(answerkey_250[stim0]['stimulus_0_avg_estim'] - answerkey_250[stim0]['stimulus_1_avg_estim'])\n",
    "            else:\n",
    "                VE_depthdifference_250 = -(abs(answerkey_250[stim0]['stimulus_0_avg_estim'] - answerkey_250[stim0]['stimulus_1_avg_estim']))\n",
    "            \n",
    "            if stim_acc_1000[-1] == 'pos':\n",
    "                VE_depthdifference_1000 = abs(answerkey_1000[stim0]['stimulus_0_avg_estim'] - answerkey_1000[stim0]['stimulus_1_avg_estim'])\n",
    "            else:\n",
    "                VE_depthdifference_1000 = -(abs(answerkey_1000[stim0]['stimulus_0_avg_estim'] - answerkey_1000[stim0]['stimulus_1_avg_estim']))\n",
    "            \n",
    "            stimuli_stats[stim0] = {'stimulus_1': other_stim,\n",
    "                                    'accuracy_250': stim_acc_250,\n",
    "                                    'accuracy_1000': stim_acc_1000,\n",
    "                                    'avg_depth': stim_depthbin,\n",
    "                                    'VE_depthdifference_250': VE_depthdifference_250, \n",
    "                                    'VE_depthdifference_1000': VE_depthdifference_1000,\n",
    "                                    'RT_250': stim_RT_250,\n",
    "                                    'RT_1000': stim_RT_1000,\n",
    "                                    'JV_regressor_250': JV_regressor_250,\n",
    "                                    'JV_regressor_1000': JV_regressor_1000,\n",
    "                                    'kinect_answer_250': answerkey_250[stim0]['kinect_answer'],\n",
    "                                    'kinect_answer_1000': answerkey_1000[stim0]['kinect_answer']}\n",
    "            \n",
    "#             stimuli_stats[stim0] = {'stimulus_1': other_stim,\n",
    "#                                     'accuracy_250': stim_acc_250,\n",
    "#                                     'accuracy_1000': stim_acc_1000,\n",
    "#                                     'avg_depth': stim_depthbin,\n",
    "#                                     'VE_depthdifference_250': abs(answerkey_250[stim0]['stimulus_0_avg_estim'] - answerkey_250[stim0]['stimulus_1_avg_estim']), \n",
    "#                                     'VE_depthdifference_1000': abs(answerkey_1000[stim0]['stimulus_0_avg_estim'] - answerkey_1000[stim0]['stimulus_1_avg_estim']),\n",
    "#                                     'RT_250': stim_RT_250,\n",
    "#                                     'RT_1000': stim_RT_1000,\n",
    "#                                     'JV_regressor_250': JV_regressor_250,\n",
    "#                                     'JV_regressor_1000': JV_regressor_1000}\n",
    "        except:\n",
    "            print(stim0)\n",
    "\n",
    "    return stimuli_stats\n",
    "    "
   ]
  },
  {
   "cell_type": "code",
   "execution_count": 79,
   "metadata": {},
   "outputs": [],
   "source": [
    "n_all_VE_discrim_performance = main_VE_accuracy(final_discrim, n_VE_answerkey_250, n_VE_answerkey_1000) "
   ]
  },
  {
   "cell_type": "code",
   "execution_count": 80,
   "metadata": {},
   "outputs": [
    {
     "data": {
      "text/plain": [
       "94"
      ]
     },
     "execution_count": 80,
     "metadata": {},
     "output_type": "execute_result"
    }
   ],
   "source": [
    "len(n_all_VE_discrim_performance)\n"
   ]
  },
  {
   "cell_type": "code",
   "execution_count": null,
   "metadata": {},
   "outputs": [],
   "source": []
  },
  {
   "cell_type": "code",
   "execution_count": 92,
   "metadata": {},
   "outputs": [
    {
     "ename": "FileNotFoundError",
     "evalue": "[Errno 2] No such file or directory: '/Users/prachi/Documents/depth_duration/depth_discrimination/TAC_discrim_datafiles/matched_discrim_data/performance.pickle'",
     "output_type": "error",
     "traceback": [
      "\u001b[0;31m---------------------------------------------------------------------------\u001b[0m",
      "\u001b[0;31mFileNotFoundError\u001b[0m                         Traceback (most recent call last)",
      "\u001b[0;32m<ipython-input-92-0dcdcc316494>\u001b[0m in \u001b[0;36m<module>\u001b[0;34m\u001b[0m\n\u001b[1;32m      3\u001b[0m \u001b[0;34m\u001b[0m\u001b[0m\n\u001b[1;32m      4\u001b[0m \u001b[0mdest\u001b[0m \u001b[0;34m=\u001b[0m \u001b[0;34m'/Users/prachi/Documents/depth_duration/depth_discrimination/TAC_discrim_datafiles/matched_discrim_data/performance.pickle'\u001b[0m\u001b[0;34m\u001b[0m\u001b[0;34m\u001b[0m\u001b[0m\n\u001b[0;32m----> 5\u001b[0;31m \u001b[0;32mwith\u001b[0m \u001b[0mopen\u001b[0m\u001b[0;34m(\u001b[0m\u001b[0mdest\u001b[0m\u001b[0;34m,\u001b[0m \u001b[0;34m'wb'\u001b[0m\u001b[0;34m)\u001b[0m \u001b[0;32mas\u001b[0m \u001b[0mhandle\u001b[0m\u001b[0;34m:\u001b[0m\u001b[0;34m\u001b[0m\u001b[0;34m\u001b[0m\u001b[0m\n\u001b[0m\u001b[1;32m      6\u001b[0m     \u001b[0mpickle\u001b[0m\u001b[0;34m.\u001b[0m\u001b[0mdump\u001b[0m\u001b[0;34m(\u001b[0m\u001b[0mn_all_VE_discrim_performance\u001b[0m\u001b[0;34m,\u001b[0m \u001b[0mhandle\u001b[0m\u001b[0;34m)\u001b[0m\u001b[0;34m\u001b[0m\u001b[0;34m\u001b[0m\u001b[0m\n\u001b[1;32m      7\u001b[0m \u001b[0;34m\u001b[0m\u001b[0m\n",
      "\u001b[0;31mFileNotFoundError\u001b[0m: [Errno 2] No such file or directory: '/Users/prachi/Documents/depth_duration/depth_discrimination/TAC_discrim_datafiles/matched_discrim_data/performance.pickle'"
     ]
    }
   ],
   "source": [
    "import pickle\n",
    "# save performance as pickle file \n",
    "\n",
    "dest = '/Users/prachi/Documents/depth_duration/depth_discrimination/TAC_discrim_datafiles/matched_discrim_data/performance.pickle'\n",
    "with open(dest, 'wb') as handle:\n",
    "    pickle.dump(n_all_VE_discrim_performance, handle)\n",
    "    "
   ]
  },
  {
   "cell_type": "code",
   "execution_count": 81,
   "metadata": {},
   "outputs": [],
   "source": [
    "n_VE_estim_diff_250 = [n_all_VE_discrim_performance[elem]['VE_depthdifference_250'] for elem in n_all_VE_discrim_performance]\n",
    "n_VE_estim_diff_1000 = [n_all_VE_discrim_performance[elem]['VE_depthdifference_1000'] for elem in n_all_VE_discrim_performance]\n",
    "\n",
    "n_VE_accuracy_250 = [n_all_VE_discrim_performance[elem]['accuracy_250'][0] for elem in n_all_VE_discrim_performance]\n",
    "n_VE_accuracy_1000 = [n_all_VE_discrim_performance[elem]['accuracy_1000'][0] for elem in n_all_VE_discrim_performance]\n",
    "\n",
    "n_VE_ste_250 = [n_all_VE_discrim_performance[elem]['accuracy_250'][-2] for elem in n_all_VE_discrim_performance]\n",
    "n_VE_ste_1000 = [n_all_VE_discrim_performance[elem]['accuracy_1000'][-2] for elem in n_all_VE_discrim_performance]\n",
    "\n",
    "n_avg_RT_250 = [n_all_VE_discrim_performance[elem]['RT_250'][1] for elem in n_all_VE_discrim_performance]\n",
    "n_avg_RT_1000 = [n_all_VE_discrim_performance[elem]['RT_1000'][1] for elem in n_all_VE_discrim_performance]\n",
    "\n",
    "n_avg_RT_ste_250 = [n_all_VE_discrim_performance[elem]['RT_250'][-1] for elem in n_all_VE_discrim_performance]\n",
    "n_avg_RT_ste_1000 = [n_all_VE_discrim_performance[elem]['RT_1000'][-1] for elem in n_all_VE_discrim_performance]\n",
    "\n",
    "\n",
    "n_JV_250 = [n_all_VE_discrim_performance[elem]['JV_regressor_250'] for elem in n_all_VE_discrim_performance]\n",
    "n_JV_1000 = [n_all_VE_discrim_performance[elem]['JV_regressor_1000'] for elem in n_all_VE_discrim_performance]\n",
    "\n",
    "n_kinectanswer_250 = [n_all_VE_discrim_performance[elem]['kinect_answer_250'] for elem in n_all_VE_discrim_performance]\n",
    "n_kinectanswer_1000 = [n_all_VE_discrim_performance[elem]['kinect_answer_1000'] for elem in n_all_VE_discrim_performance]\n",
    "\n",
    "n_stim = [elem for elem in n_all_VE_discrim_performance]"
   ]
  },
  {
   "cell_type": "code",
   "execution_count": null,
   "metadata": {},
   "outputs": [],
   "source": []
  },
  {
   "cell_type": "markdown",
   "metadata": {},
   "source": [
    "#### Overall Accuracy: Coded by Normalized VE"
   ]
  },
  {
   "cell_type": "code",
   "execution_count": 82,
   "metadata": {},
   "outputs": [
    {
     "data": {
      "text/plain": [
       "(0.7442814397743831, 0.7549812414688534)"
      ]
     },
     "execution_count": 82,
     "metadata": {},
     "output_type": "execute_result"
    }
   ],
   "source": [
    "np.mean(n_VE_accuracy_250), np.mean(n_VE_accuracy_1000)"
   ]
  },
  {
   "cell_type": "code",
   "execution_count": 83,
   "metadata": {},
   "outputs": [
    {
     "name": "stdout",
     "output_type": "stream",
     "text": [
      "250 ms: Correlation between VE discrimination accuracy and average normalized verbal estimate difference\n"
     ]
    },
    {
     "data": {
      "text/plain": [
       "(0.6013025715182622, 1.4700544398056115e-10)"
      ]
     },
     "execution_count": 83,
     "metadata": {},
     "output_type": "execute_result"
    }
   ],
   "source": [
    "print('250 ms: Correlation between VE discrimination accuracy and average normalized verbal estimate difference')\n",
    "stats.pearsonr(n_VE_accuracy_250, n_VE_estim_diff_250)"
   ]
  },
  {
   "cell_type": "code",
   "execution_count": 84,
   "metadata": {},
   "outputs": [
    {
     "name": "stdout",
     "output_type": "stream",
     "text": [
      "1000 ms: Correlation between VE discrimination accuracy and average normalized verbal estimate difference\n"
     ]
    },
    {
     "data": {
      "text/plain": [
       "(0.6717072120737223, 1.2578394699856475e-13)"
      ]
     },
     "execution_count": 84,
     "metadata": {},
     "output_type": "execute_result"
    }
   ],
   "source": [
    "print('1000 ms: Correlation between VE discrimination accuracy and average normalized verbal estimate difference')\n",
    "stats.pearsonr(n_VE_accuracy_1000, n_VE_estim_diff_1000)"
   ]
  },
  {
   "cell_type": "code",
   "execution_count": 85,
   "metadata": {},
   "outputs": [
    {
     "data": {
      "image/png": "[encoded data removed]",
      "text/plain": [
       "<Figure size 864x432 with 1 Axes>"
      ]
     },
     "metadata": {
      "needs_background": "light"
     },
     "output_type": "display_data"
    }
   ],
   "source": [
    "plt.figure(figsize=[12,6])\n",
    "plt.plot(np.array(n_VE_estim_diff_250), np.array(n_VE_accuracy_250), 'go', label='250 ms')\n",
    "plt.plot(np.array(n_VE_estim_diff_1000), np.array(n_VE_accuracy_1000), 'ro', label='1000 ms')\n",
    "plt.xlabel('Average Normalized Verbal Estimate Difference', fontsize=15)\n",
    "plt.ylabel('VE Discrimination Proportion Correct', fontsize = 15)\n",
    "plt.legend(fontsize = 12)\n",
    "plt.title('VE Discrimination Proportion Correct vs Avg Normalized Verbal Estimate Difference', fontsize = 18)\n",
    "plt.show();"
   ]
  },
  {
   "cell_type": "code",
   "execution_count": 43,
   "metadata": {},
   "outputs": [
    {
     "data": {
      "text/plain": [
       "94"
      ]
     },
     "execution_count": 43,
     "metadata": {},
     "output_type": "execute_result"
    }
   ],
   "source": [
    "len(n_VE_accuracy_250)"
   ]
  },
  {
   "cell_type": "code",
   "execution_count": 44,
   "metadata": {},
   "outputs": [],
   "source": [
    "at_chance = np.array([0.5] * 94)"
   ]
  },
  {
   "cell_type": "code",
   "execution_count": 100,
   "metadata": {},
   "outputs": [
    {
     "name": "stdout",
     "output_type": "stream",
     "text": [
      "Independent Samples T-Test: VE PC @ 250 ms:  Ttest_indResult(statistic=12.94461876009246, pvalue=9.626955550668993e-28)\n"
     ]
    }
   ],
   "source": [
    "ttest_VEPC_250 = stats.ttest_ind(n_VE_accuracy_250, at_chance)\n",
    "print('Independent Samples T-Test: VE PC @ 250 ms: ', ttest_VEPC_250)"
   ]
  },
  {
   "cell_type": "code",
   "execution_count": 101,
   "metadata": {},
   "outputs": [
    {
     "name": "stdout",
     "output_type": "stream",
     "text": [
      "Independent Samples T-Test: VE PC @ 1000 ms:  Ttest_indResult(statistic=12.516901847642137, pvalue=1.7977778555320172e-26)\n"
     ]
    }
   ],
   "source": [
    "ttest_VEPC_1000 = stats.ttest_ind(n_VE_accuracy_1000, at_chance)\n",
    "print('Independent Samples T-Test: VE PC @ 1000 ms: ', ttest_VEPC_1000)"
   ]
  },
  {
   "cell_type": "code",
   "execution_count": 45,
   "metadata": {},
   "outputs": [],
   "source": [
    "def get_super(x):\n",
    "    normal = \"ABCDEFGHIJKLMNOPQRSTUVWXYZabcdefghijklmnopqrstuvwxyz0123456789+-=()\"\n",
    "    super_s = \"ᴬᴮᶜᴰᴱᶠᴳᴴᴵᴶᴷᴸᴹᴺᴼᴾQᴿˢᵀᵁⱽᵂˣʸᶻᵃᵇᶜᵈᵉᶠᵍʰᶦʲᵏˡᵐⁿᵒᵖ۹ʳˢᵗᵘᵛʷˣʸᶻ⁰¹²³⁴⁵⁶⁷⁸⁹⁺⁻⁼⁽⁾\"\n",
    "    res = x.maketrans(''.join(normal), ''.join(super_s))\n",
    "    return x.translate(res)"
   ]
  },
  {
   "cell_type": "code",
   "execution_count": 87,
   "metadata": {},
   "outputs": [
    {
     "name": "stdout",
     "output_type": "stream",
     "text": [
      "m: [0.42494552]\n",
      "b: 0.6594059284278047\n",
      "R-squared:  0.361564782514475\n"
     ]
    },
    {
     "data": {
      "image/png": "[encoded data removed]",
      "text/plain": [
       "<Figure size 576x576 with 1 Axes>"
      ]
     },
     "metadata": {
      "needs_background": "light"
     },
     "output_type": "display_data"
    }
   ],
   "source": [
    "fig, ax = plt.subplots(figsize=[8,8])\n",
    "right_side = ax.spines['right']\n",
    "right_side.set_visible(False)\n",
    "top = ax.spines['top']\n",
    "top.set_visible(False)\n",
    "\n",
    "\n",
    "#run regression\n",
    "VE_X_250 = np.array(n_VE_estim_diff_250).reshape(-1,1)\n",
    "VE_PC_250 = n_VE_accuracy_250\n",
    "VE_PC_reg_250 = LinearRegression().fit(VE_X_250, VE_PC_250)\n",
    "\n",
    "#Generated Predictions\n",
    "PC_predicted_250 = VE_PC_reg_250.predict(VE_X_250)\n",
    "#Plot Our Actual and Predicted Values\n",
    "plt.errorbar(VE_X_250, VE_PC_250,elinewidth=1, ecolor='gray', fmt='or', mfc='white', mec='chocolate', capsize=3, alpha = 0.3, yerr = np.array(n_VE_ste_250));\n",
    "\n",
    "\n",
    "plt.plot(VE_X_250, VE_PC_250, 'o', color='chocolate', alpha = 0.3);\n",
    "plt.plot(VE_X_250, PC_predicted_250,color='chocolate', label = 'm = ' + str(round(VE_PC_reg_250.coef_[0], 3))\n",
    "         + '     r' + get_super('2') + ' = '+ str(round(float(VE_PC_reg_250.score(VE_X_250, VE_PC_250)), 3)))\n",
    "plt.xlabel(\"Average Normalized Verbal Estimate Difference (m)\", fontsize = 15)\n",
    "plt.ylabel(\"Proportion Correct\", fontsize = 15)\n",
    "\n",
    "plt.plot([-0.6, 0.9], [0.5,0.5], '--', color='black')\n",
    "\n",
    "\n",
    "\n",
    "#get coefficients and y intercept\n",
    "print(\"m: {0}\".format(VE_PC_reg_250.coef_))\n",
    "print(\"b: {0}\".format(VE_PC_reg_250.intercept_))\n",
    "\n",
    "#Returns the coefficient of determination R^2 of the prediction.\n",
    "print(\"R-squared: \", VE_PC_reg_250.score(VE_X_250, VE_PC_250))\n",
    "\n",
    "legend = plt.legend(loc = 4, fontsize=13, labelspacing=1, frameon=False)\n",
    "\n",
    "# plt.title(\"250 ms: Accuracy\", fontsize = 20)\n",
    "# plt.xticks(np.arange(-1,1.25, 0.25))\n",
    "# plt.yticks(np.arange(0,1.2, 0.2))\n",
    "\n",
    "# plt.plot(VE_X_250[2], VE_PC_250[2], 'o', color='black', alpha=1)\n",
    "\n",
    "\n",
    "fig.tight_layout()\n",
    "\n",
    "plt.show();"
   ]
  },
  {
   "cell_type": "code",
   "execution_count": 49,
   "metadata": {},
   "outputs": [
    {
     "data": {
      "text/plain": [
       "('depth_discrimination_stimuli/000470_2014-06-09_19-42-40_260595134347_rgbf000094-resize_1/000470_2014-06-09_19-42-40_260595134347_rgbf000094-resize_1-target.png',\n",
       " 0.1585099775353619,\n",
       " 0.813953488372093)"
      ]
     },
     "execution_count": 49,
     "metadata": {},
     "output_type": "execute_result"
    }
   ],
   "source": [
    "i = 2\n",
    "\n",
    "n_stim[i], n_VE_estim_diff_250[i], n_VE_accuracy_250[i]"
   ]
  },
  {
   "cell_type": "code",
   "execution_count": 50,
   "metadata": {},
   "outputs": [
    {
     "data": {
      "text/plain": [
       "{'stimulus_1': '000109_2014-05-14_23-41-52_260595134347_rgbf000035-resize_9-target.png',\n",
       " 'stimulus_0_avg_estim': 0.6960501754681364,\n",
       " 'stimulus_1_avg_estim': 0.5375401979327745,\n",
       " 'answer': '000109_2014-05-14_23-41-52_260595134347_rgbf000035-resize_9-target.png',\n",
       " 'std0': 0.42454459798427846,\n",
       " 'std1': 0.2790831195863696,\n",
       " 'kinect_answer': '000109_2014-05-14_23-41-52_260595134347_rgbf000035-resize_9-target.png'}"
      ]
     },
     "execution_count": 50,
     "metadata": {},
     "output_type": "execute_result"
    }
   ],
   "source": [
    "n_VE_answerkey_250[n_stim[i]]"
   ]
  },
  {
   "cell_type": "code",
   "execution_count": 51,
   "metadata": {},
   "outputs": [
    {
     "name": "stdout",
     "output_type": "stream",
     "text": [
      "m: [0.52899193]\n",
      "b: 0.651272696500567\n",
      "R-squared:  0.45223390866590973\n"
     ]
    },
    {
     "data": {
      "image/png": "[encoded data removed]",
      "text/plain": [
       "<Figure size 576x576 with 1 Axes>"
      ]
     },
     "metadata": {
      "needs_background": "light"
     },
     "output_type": "display_data"
    }
   ],
   "source": [
    "fig, ax = plt.subplots(figsize=[8,8])\n",
    "right_side = ax.spines['right']\n",
    "right_side.set_visible(False)\n",
    "top = ax.spines['top']\n",
    "top.set_visible(False)\n",
    "\n",
    "\n",
    "VE_X_1000 = np.array(n_VE_estim_diff_1000).reshape(-1,1)\n",
    "VE_PC_1000 = n_VE_accuracy_1000\n",
    "VE_PC_reg_1000 = LinearRegression().fit(VE_X_1000, VE_PC_1000)\n",
    "\n",
    "#Generated Predictions\n",
    "PC_predicted_1000 = VE_PC_reg_1000.predict(VE_X_1000)\n",
    "#Plot Our Actual and Predicted Values\n",
    "\n",
    "r = np.sqrt(float(VE_PC_reg_1000.score(VE_X_1000, VE_PC_1000)))\n",
    "\n",
    "plt.errorbar(VE_X_1000, VE_PC_1000, elinewidth=1, ecolor='gray', fmt='or', mfc='white', mec='darkviolet', capsize=3, alpha = 0.3, yerr = np.array(n_VE_ste_1000));\n",
    "plt.plot(VE_X_1000, VE_PC_1000, 'o', color='darkviolet', alpha = 0.3);\n",
    "plt.plot(VE_X_1000, PC_predicted_1000,color='darkviolet', label = 'm = ' + str(round(VE_PC_reg_1000.coef_[0], 3))\n",
    "         + '     r' + get_super('2') + ' = '+ str(round(float(VE_PC_reg_1000.score(VE_X_1000, VE_PC_1000)), 3)))\n",
    "\n",
    "legend = plt.legend(loc = 4, fontsize=13, labelspacing=1, frameon=False)\n",
    "\n",
    "plt.plot([-0.4, 0.9], [0.5,0.5], '--', color='black')\n",
    "\n",
    "plt.plot(VE_X_1000[2], VE_PC_1000[2], 'o', color='black', alpha=1)\n",
    "#get coefficients and y intercept\n",
    "print(\"m: {0}\".format(VE_PC_reg_1000.coef_))\n",
    "print(\"b: {0}\".format(VE_PC_reg_1000.intercept_))\n",
    "\n",
    "#Returns the coefficient of determination R^2 of the prediction.\n",
    "print(\"R-squared: \", VE_PC_reg_1000.score(VE_X_1000, VE_PC_1000))\n",
    "\n",
    "plt.xlabel(\"Average Normalized Verbal Estimate Difference (m)\", fontsize = 15)\n",
    "plt.ylabel(\"Proportion Correct\", fontsize = 15)\n",
    "\n",
    "\n",
    "# plt.title(\"1000 ms: Accuracy\", fontsize = 20)\n",
    "\n",
    "# plt.xticks(np.arange(-1,1.2, 0.2))\n",
    "# plt.yticks(np.arange(-1,1.2, 0.2))\n",
    "\n",
    "fig.tight_layout()\n",
    "\n",
    "plt.show();"
   ]
  },
  {
   "cell_type": "code",
   "execution_count": 117,
   "metadata": {},
   "outputs": [
    {
     "data": {
      "text/plain": [
       "(0.7181029752805298, 3.7572176752976993e-16)"
      ]
     },
     "execution_count": 117,
     "metadata": {},
     "output_type": "execute_result"
    }
   ],
   "source": [
    "stats.pearsonr(n_VE_accuracy_250, n_VE_accuracy_1000)"
   ]
  },
  {
   "cell_type": "code",
   "execution_count": 118,
   "metadata": {},
   "outputs": [
    {
     "data": {
      "text/plain": [
       "[<matplotlib.lines.Line2D at 0x11f1dc400>]"
      ]
     },
     "execution_count": 118,
     "metadata": {},
     "output_type": "execute_result"
    },
    {
     "data": {
      "image/png": "[encoded data removed]",
      "text/plain": [
       "<Figure size 504x504 with 1 Axes>"
      ]
     },
     "metadata": {
      "needs_background": "light"
     },
     "output_type": "display_data"
    }
   ],
   "source": [
    "plt.figure(figsize=[7,7])\n",
    "plt.xlabel('Proportion Correct @ 250 ms', fontsize=15)\n",
    "plt.ylabel('Proportion Correct @ 1000 ms', fontsize=15)\n",
    "plt.plot(n_VE_accuracy_250,n_VE_accuracy_1000, 'o' )"
   ]
  },
  {
   "cell_type": "code",
   "execution_count": 119,
   "metadata": {},
   "outputs": [
    {
     "name": "stdout",
     "output_type": "stream",
     "text": [
      "m: [-0.25857273]\n",
      "b: 7.073490450998141\n",
      "R-squared:  0.4238444367847497\n"
     ]
    },
    {
     "data": {
      "image/png": "[encoded data removed]",
      "text/plain": [
       "<Figure size 576x576 with 1 Axes>"
      ]
     },
     "metadata": {
      "needs_background": "light"
     },
     "output_type": "display_data"
    }
   ],
   "source": [
    "fig, ax = plt.subplots(figsize=[8,8])\n",
    "right_side = ax.spines['right']\n",
    "right_side.set_visible(False)\n",
    "top = ax.spines['top']\n",
    "top.set_visible(False)\n",
    "\n",
    "#run regression\n",
    "X_250 = np.array(np.abs(n_VE_estim_diff_250).reshape(-1,1))\n",
    "y_250 = n_avg_RT_250\n",
    "reg_250 = LinearRegression().fit(X_250, y_250)\n",
    "\n",
    "#Generated Predictions\n",
    "y_predicted_250 = reg_250.predict(X_250)\n",
    "#Plot Our Actual and Predicted Values\n",
    "plt.errorbar(X_250, y_250,elinewidth=1, ecolor='gray',fmt='or', mfc='white', mec='chocolate', capsize=3, alpha = 0.3, yerr = np.array(n_avg_RT_ste_250));\n",
    "\n",
    "plt.plot(X_250, y_250, 's', color='chocolate', alpha = 0.3);\n",
    "plt.plot(X_250, y_predicted_250,color='chocolate', label = 'y = ' + str(round(reg_250.coef_[0], 3))\n",
    "        +'x +'+str(round(reg_250.intercept_, 3))  + '     r' + get_super('2') + ' = '+ str(round(float(reg_250.score(X_250, y_250)), 3)))\n",
    "\n",
    "plt.xlabel(\"Average Normalized Verbal Estimate Difference (m)\", fontsize = 15)\n",
    "plt.ylabel(\"RT (ms)\", fontsize = 15)\n",
    "\n",
    "\n",
    "legend = plt.legend(loc = 4, fontsize=13, labelspacing=1, frameon=False)\n",
    "\n",
    "fig.tight_layout()\n",
    "\n",
    "# plt.xticks(np.arange(0.15,1.2, 0.2))\n",
    "plt.yticks(np.arange(6.7,7.3, .1))\n",
    "\n",
    "plt.title('250 ms', fontsize=18)\n",
    "\n",
    "#get coefficients and y intercept\n",
    "print(\"m: {0}\".format(reg_250.coef_))\n",
    "print(\"b: {0}\".format(reg_250.intercept_))\n",
    "\n",
    "#Returns the coefficient of determination R^2 of the prediction.\n",
    "print(\"R-squared: \", reg_250.score(X_250, y_250))"
   ]
  },
  {
   "cell_type": "code",
   "execution_count": 120,
   "metadata": {},
   "outputs": [
    {
     "data": {
      "text/plain": [
       "(-0.5077746646850902, 1.7530233245615763e-07)"
      ]
     },
     "execution_count": 120,
     "metadata": {},
     "output_type": "execute_result"
    }
   ],
   "source": [
    "stats.pearsonr(n_VE_estim_diff_1000, n_avg_RT_1000)"
   ]
  },
  {
   "cell_type": "code",
   "execution_count": null,
   "metadata": {},
   "outputs": [],
   "source": []
  },
  {
   "cell_type": "code",
   "execution_count": 121,
   "metadata": {},
   "outputs": [
    {
     "name": "stdout",
     "output_type": "stream",
     "text": [
      "m: [-0.12336552]\n",
      "b: 6.9534849881256395\n",
      "R-squared:  0.16669101682298992\n"
     ]
    },
    {
     "data": {
      "image/png": "[encoded data removed]",
      "text/plain": [
       "<Figure size 576x576 with 1 Axes>"
      ]
     },
     "metadata": {
      "needs_background": "light"
     },
     "output_type": "display_data"
    }
   ],
   "source": [
    "\n",
    "fig, ax = plt.subplots(figsize=[8,8])\n",
    "right_side = ax.spines['right']\n",
    "right_side.set_visible(False)\n",
    "top = ax.spines['top']\n",
    "top.set_visible(False)\n",
    "\n",
    "#run regression\n",
    "X_1000 = np.array(np.abs(n_VE_estim_diff_1000).reshape(-1,1))\n",
    "y_1000 = n_avg_RT_1000\n",
    "reg_1000 = LinearRegression().fit(X_1000, y_1000)\n",
    "\n",
    "#Generated Predictions\n",
    "y_predicted_1000 = reg_1000.predict(X_1000)\n",
    "#Plot Our Actual and Predicted Values\n",
    "\n",
    "plt.errorbar(X_1000, y_1000, elinewidth=1, ecolor='gray', fmt='or', mfc='white', mec='chocolate', capsize=3, alpha = 0.3, yerr = np.array(n_avg_RT_ste_1000));\n",
    "\n",
    "r = np.sqrt(float(reg_1000.score(X_1000, y_1000)))\n",
    "\n",
    "plt.plot(X_1000, y_1000, 's', color='darkviolet', alpha = 0.3);\n",
    "plt.plot(X_1000, y_predicted_1000,color='darkviolet', label = 'y = ' + str(round(reg_1000.coef_[0], 3))\n",
    "        +'x +'+str(round(reg_1000.intercept_, 3))  + '     r = '+ str(round(float(r), 3)))\n",
    "\n",
    "plt.xlabel(\"Average Normalized Verbal Estimate Difference (m)\", fontsize = 15)\n",
    "plt.ylabel(\"RT (ms)\", fontsize = 15)\n",
    "\n",
    "\n",
    "legend = plt.legend(loc = 4, fontsize=13, labelspacing=1, frameon=False)\n",
    "\n",
    "fig.tight_layout()\n",
    "\n",
    "plt.yticks(np.arange(6.7,7.3, .1))\n",
    "\n",
    "plt.title('1000 ms', fontsize=18)\n",
    "\n",
    "#get coefficients and y intercept\n",
    "print(\"m: {0}\".format(reg_1000.coef_))\n",
    "print(\"b: {0}\".format(reg_1000.intercept_))\n",
    "\n",
    "#Returns the coefficient of determination R^2 of the prediction.\n",
    "print(\"R-squared: \", reg_1000.score(X_1000, y_1000))"
   ]
  },
  {
   "cell_type": "code",
   "execution_count": null,
   "metadata": {},
   "outputs": [],
   "source": []
  },
  {
   "cell_type": "markdown",
   "metadata": {},
   "source": [
    "# UPDATED REGRESSOR: Difference between verbal judgements divided by joint variance "
   ]
  },
  {
   "cell_type": "code",
   "execution_count": 88,
   "metadata": {},
   "outputs": [
    {
     "name": "stdout",
     "output_type": "stream",
     "text": [
      "250 ms: Correlation between VE discrimination accuracy and difference between normalized verbal judgements divided by joint variance \n"
     ]
    },
    {
     "data": {
      "text/plain": [
       "(0.6625432063972758, 3.511740137463858e-13)"
      ]
     },
     "execution_count": 88,
     "metadata": {},
     "output_type": "execute_result"
    }
   ],
   "source": [
    "print('250 ms: Correlation between VE discrimination accuracy and difference between normalized verbal judgements divided by joint variance ')\n",
    "stats.pearsonr(n_VE_accuracy_250, n_JV_250)"
   ]
  },
  {
   "cell_type": "code",
   "execution_count": 89,
   "metadata": {},
   "outputs": [
    {
     "name": "stdout",
     "output_type": "stream",
     "text": [
      "1000 ms: Correlation between VE discrimination accuracy and difference between verbal judgements divided by joint variance \n"
     ]
    },
    {
     "data": {
      "text/plain": [
       "(0.7363119290517687, 2.7607254219222985e-17)"
      ]
     },
     "execution_count": 89,
     "metadata": {},
     "output_type": "execute_result"
    }
   ],
   "source": [
    "print('1000 ms: Correlation between VE discrimination accuracy and difference between verbal judgements divided by joint variance ')\n",
    "stats.pearsonr(n_VE_accuracy_1000, n_JV_1000)"
   ]
  },
  {
   "cell_type": "code",
   "execution_count": 96,
   "metadata": {},
   "outputs": [
    {
     "name": "stdout",
     "output_type": "stream",
     "text": [
      "m: [0.28334913]\n",
      "b: 0.5842025574562848\n",
      "R-squared:  0.43896350034318343\n"
     ]
    },
    {
     "data": {
      "image/png": "[encoded data removed]",
      "text/plain": [
       "<Figure size 504x504 with 1 Axes>"
      ]
     },
     "metadata": {
      "needs_background": "light"
     },
     "output_type": "display_data"
    }
   ],
   "source": [
    "fig, ax = plt.subplots(figsize=[7,7])\n",
    "right_side = ax.spines['right']\n",
    "right_side.set_visible(False)\n",
    "top = ax.spines['top']\n",
    "top.set_visible(False)\n",
    "\n",
    "#run regression\n",
    "JV_X_250 = np.array(n_JV_250).reshape(-1,1)\n",
    "VE_PC_250 = n_VE_accuracy_250\n",
    "JV_PC_reg_250 = LinearRegression().fit(JV_X_250, VE_PC_250)\n",
    "\n",
    "#Generated Predictions\n",
    "JV_PC_predicted_250 = JV_PC_reg_250.predict(JV_X_250)\n",
    "#Plot Our Actual and Predicted Values\n",
    "\n",
    "plt.errorbar(JV_X_250, VE_PC_250, elinewidth=1, ecolor='gray', fmt='or', mfc='white', mec='chocolate', capsize=3, alpha = 0.3, yerr = np.array(n_VE_ste_250));\n",
    "plt.plot(JV_X_250, VE_PC_250, 'o', color='chocolate', alpha = 0.3);\n",
    "plt.plot(JV_X_250, JV_PC_predicted_250,color='chocolate', label = 'm = ' + str(round(JV_PC_reg_250.coef_[0], 3))\n",
    "         + '     r-squared = ' + str(round(float(JV_PC_reg_250.score(JV_X_250, VE_PC_250)), 3)))\n",
    "# plt.xlabel(\"Diff b/w normalized verbal judgements divided by joint variance\", fontsize = 15)\n",
    "plt.xlabel(\"Normalized Verbal Estimate Difference divided by Joint Variance\", fontsize = 15)\n",
    "\n",
    "plt.ylabel(\"Proportion Correct\", fontsize = 15)\n",
    "\n",
    "plt.ylim((0,1.05))\n",
    "plt.xticks(np.arange(0,1.8, 0.2))\n",
    "plt.yticks(np.arange(0,1.2, 0.2))\n",
    "plt.margins(x=0.02)\n",
    "\n",
    "\n",
    "#get coefficients and y intercept\n",
    "print(\"m: {0}\".format(JV_PC_reg_250.coef_))\n",
    "print(\"b: {0}\".format(JV_PC_reg_250.intercept_))\n",
    "\n",
    "#Returns the coefficient of determination R^2 of the prediction.\n",
    "print(\"R-squared: \", JV_PC_reg_250.score(JV_X_250, VE_PC_250))\n",
    "\n",
    "# plt.plot([-0.6, 0.9], [0.5,0.5], '--', color='black')\n",
    "\n",
    "\n",
    "legend = plt.legend(loc = 4, fontsize=13, labelspacing=1, frameon=False)\n",
    "\n",
    "\n",
    "# plt.plot(JV_X_250[10], VE_PC_250[10], 'o', color='black', alpha=1)\n",
    "\n",
    "\n",
    "fig.tight_layout()\n",
    "\n",
    "plt.show();\n"
   ]
  },
  {
   "cell_type": "code",
   "execution_count": 157,
   "metadata": {},
   "outputs": [
    {
     "data": {
      "text/plain": [
       "('depth_discrimination_stimuli/001810_2014-06-26_20-51-35_260595134347_rgbf000040-resize_3/001810_2014-06-26_20-51-35_260595134347_rgbf000040-resize_3-target.png',\n",
       " 1.294128919929623,\n",
       " 0.925)"
      ]
     },
     "execution_count": 157,
     "metadata": {},
     "output_type": "execute_result"
    }
   ],
   "source": [
    "i = 10\n",
    "\n",
    "n_stim[i], JV_X_250[i][0], n_VE_accuracy_250[i]"
   ]
  },
  {
   "cell_type": "code",
   "execution_count": 158,
   "metadata": {},
   "outputs": [
    {
     "data": {
      "text/plain": [
       "{'stimulus_1': '003010_2014-06-15_12-54-35_094959634447_rgbf000112-resize_0-target.png',\n",
       " 'stimulus_0_avg_estim': 0.7166174426540032,\n",
       " 'stimulus_1_avg_estim': 1.2788925668132614,\n",
       " 'answer': '001810_2014-06-26_20-51-35_260595134347_rgbf000040-resize_3-target.png',\n",
       " 'std0': 0.23790782603367358,\n",
       " 'std1': 0.3635575244945042,\n",
       " 'kinect_answer': '001810_2014-06-26_20-51-35_260595134347_rgbf000040-resize_3-target.png'}"
      ]
     },
     "execution_count": 158,
     "metadata": {},
     "output_type": "execute_result"
    }
   ],
   "source": [
    "n_VE_answerkey_250[n_stim[i]]"
   ]
  },
  {
   "cell_type": "code",
   "execution_count": null,
   "metadata": {},
   "outputs": [],
   "source": []
  },
  {
   "cell_type": "code",
   "execution_count": 53,
   "metadata": {},
   "outputs": [
    {
     "name": "stdout",
     "output_type": "stream",
     "text": [
      "m: [0.34811065]\n",
      "b: 0.5563561543752331\n",
      "R-squared:  0.5339361624079721\n"
     ]
    },
    {
     "data": {
      "image/png": "[encoded data removed]",
      "text/plain": [
       "<Figure size 504x504 with 1 Axes>"
      ]
     },
     "metadata": {
      "needs_background": "light"
     },
     "output_type": "display_data"
    }
   ],
   "source": [
    "fig, ax = plt.subplots(figsize=[7,7])\n",
    "right_side = ax.spines['right']\n",
    "right_side.set_visible(False)\n",
    "top = ax.spines['top']\n",
    "top.set_visible(False)\n",
    "\n",
    "#run regression\n",
    "JV_X_1000 = np.array(n_JV_1000).reshape(-1,1)\n",
    "VE_PC_1000 = n_VE_accuracy_1000\n",
    "JV_PC_reg_1000 = LinearRegression().fit(JV_X_1000, VE_PC_1000)\n",
    "\n",
    "#Generated Predictions\n",
    "JV_PC_predicted_1000 = JV_PC_reg_1000.predict(JV_X_1000)\n",
    "#Plot Our Actual and Predicted Values\n",
    "\n",
    "plt.errorbar(JV_X_1000, VE_PC_1000, elinewidth=1, ecolor='gray', fmt='or', mfc='white', mec='darkviolet', capsize=3, alpha = 0.3, yerr = np.array(n_VE_ste_250));\n",
    "plt.plot(JV_X_1000, VE_PC_1000, 'o', color='darkviolet', alpha = 0.3); \n",
    "plt.plot(JV_X_1000, JV_PC_predicted_1000,color='darkviolet', label = 'm = ' + str(round(JV_PC_reg_1000.coef_[0], 3))\n",
    "         + '     r-squared = ' + str(round(float(JV_PC_reg_1000.score(JV_X_1000, VE_PC_1000)), 3)))\n",
    "# plt.xlabel(\"Diff b/w normalized verbal judgements divided by joint variance\", fontsize = 15)\n",
    "# plt.xlabel(\"Average Normalized Verbal Estimate Difference Divided by Joint Variance\", fontsize = 15)\n",
    "\n",
    "plt.ylabel(\"Proportion Correct\", fontsize = 15)\n",
    "\n",
    "plt.xticks(np.arange(0,1.8, 0.2))\n",
    "plt.yticks(np.arange(0,1.2, 0.2))\n",
    "plt.margins(x=0.02)\n",
    "\n",
    "\n",
    "#get coefficients and y intercept\n",
    "print(\"m: {0}\".format(JV_PC_reg_1000.coef_))\n",
    "print(\"b: {0}\".format(JV_PC_reg_1000.intercept_))\n",
    "\n",
    "#Returns the coefficient of determination R^2 of the prediction.\n",
    "print(\"R-squared: \", JV_PC_reg_1000.score(JV_X_1000, VE_PC_1000))\n",
    "\n",
    "# plt.plot([-0.6, 0.9], [0.5,0.5], '--', color='black')\n",
    "\n",
    "\n",
    "legend = plt.legend(loc = 4, fontsize=13, labelspacing=1, frameon=False)\n",
    "\n",
    "\n",
    "plt.plot(JV_X_1000[10], VE_PC_1000[10], 'o', color='black', alpha=3)\n",
    "\n",
    "\n",
    "fig.tight_layout()\n",
    "\n",
    "plt.show();\n",
    "\n"
   ]
  },
  {
   "cell_type": "code",
   "execution_count": 126,
   "metadata": {},
   "outputs": [
    {
     "name": "stdout",
     "output_type": "stream",
     "text": [
      "(0.8014989978811974, 2.94223134304529e-22)\n"
     ]
    },
    {
     "data": {
      "text/plain": [
       "[<matplotlib.lines.Line2D at 0x120d60550>]"
      ]
     },
     "execution_count": 126,
     "metadata": {},
     "output_type": "execute_result"
    },
    {
     "data": {
      "image/png": "[encoded data removed]",
      "text/plain": [
       "<Figure size 504x504 with 1 Axes>"
      ]
     },
     "metadata": {
      "needs_background": "light"
     },
     "output_type": "display_data"
    }
   ],
   "source": [
    "print(stats.pearsonr(n_JV_250, n_JV_1000))\n",
    "plt.figure(figsize=[7,7])\n",
    "plt.xlabel('@ 250 ms', fontsize=15)\n",
    "plt.ylabel('@ 1000 ms', fontsize=15)\n",
    "plt.plot(n_JV_250,n_JV_1000, 'o' )"
   ]
  },
  {
   "cell_type": "code",
   "execution_count": null,
   "metadata": {},
   "outputs": [],
   "source": []
  },
  {
   "cell_type": "code",
   "execution_count": 127,
   "metadata": {},
   "outputs": [
    {
     "name": "stdout",
     "output_type": "stream",
     "text": [
      "250 ms: Correlation between average discrimination RT and difference between verbal judgements divided by joint variance \n"
     ]
    },
    {
     "data": {
      "text/plain": [
       "(-0.6878319099515104, 1.8853567323949254e-14)"
      ]
     },
     "execution_count": 127,
     "metadata": {},
     "output_type": "execute_result"
    }
   ],
   "source": [
    "print('250 ms: Correlation between average discrimination RT and difference between verbal judgements divided by joint variance ')\n",
    "stats.pearsonr(n_avg_RT_250, n_JV_250)"
   ]
  },
  {
   "cell_type": "code",
   "execution_count": 128,
   "metadata": {},
   "outputs": [
    {
     "name": "stdout",
     "output_type": "stream",
     "text": [
      "1000 ms: Correlation between average discrimination RT and difference between verbal judgements divided by joint variance \n"
     ]
    },
    {
     "data": {
      "text/plain": [
       "(-0.4629579336375839, 2.62305755780353e-06)"
      ]
     },
     "execution_count": 128,
     "metadata": {},
     "output_type": "execute_result"
    }
   ],
   "source": [
    "print('1000 ms: Correlation between average discrimination RT and difference between verbal judgements divided by joint variance ')\n",
    "stats.pearsonr(n_avg_RT_1000, n_JV_1000)"
   ]
  },
  {
   "cell_type": "code",
   "execution_count": 129,
   "metadata": {},
   "outputs": [
    {
     "name": "stdout",
     "output_type": "stream",
     "text": [
      "m: [-0.12032233]\n",
      "b: 7.072529104294945\n",
      "R-squared:  0.4731127363475428\n"
     ]
    },
    {
     "data": {
      "text/plain": [
       "Text(0.5, 1.0, '250 ms: RT')"
      ]
     },
     "execution_count": 129,
     "metadata": {},
     "output_type": "execute_result"
    },
    {
     "data": {
      "image/png": "[encoded data removed]",
      "text/plain": [
       "<Figure size 576x432 with 1 Axes>"
      ]
     },
     "metadata": {
      "needs_background": "light"
     },
     "output_type": "display_data"
    }
   ],
   "source": [
    "#run regression\n",
    "plt.figure(figsize=[8,6])\n",
    "JV_X_250 = np.array(n_JV_250).reshape(-1,1)\n",
    "VE_PC_250 = n_avg_RT_250\n",
    "JV_PC_reg_250 = LinearRegression().fit(JV_X_250, VE_PC_250)\n",
    "\n",
    "#Generated Predictions\n",
    "JV_PC_predicted_250 = JV_PC_reg_250.predict(JV_X_250)\n",
    "#Plot Our Actual and Predicted Values\n",
    "\n",
    "plt.errorbar(JV_X_250, VE_PC_250, elinewidth=1, ecolor='gray', fmt='or', mfc='white', mec='chocolate', capsize=3, alpha = 0.3, yerr = np.array(n_avg_RT_ste_1000));\n",
    "\n",
    "\n",
    "plt.plot(JV_X_250, VE_PC_250, 'o', color='chocolate', alpha = 0.3);\n",
    "plt.plot(JV_X_250, JV_PC_predicted_250,color='chocolate', label = 'm = ' + str(round(JV_PC_reg_250.coef_[0], 3))\n",
    "         + '     r-squared = ' + str(round(float(JV_PC_reg_250.score(JV_X_250, VE_PC_250)), 3)))\n",
    "plt.xlabel(\"Difference between normalized verbal judgements divided by joint variance\", fontsize = 15)\n",
    "plt.ylabel(\"RT (ms)\", fontsize = 15)\n",
    "\n",
    "#get coefficients and y intercept\n",
    "print(\"m: {0}\".format(JV_PC_reg_250.coef_))\n",
    "print(\"b: {0}\".format(JV_PC_reg_250.intercept_))\n",
    "\n",
    "#Returns the coefficient of determination R^2 of the prediction.\n",
    "print(\"R-squared: \", JV_PC_reg_250.score(JV_X_250, VE_PC_250))\n",
    "\n",
    "\n",
    "legend = plt.legend(loc = 4, fontsize = 13, borderpad = 0.6, labelspacing = 1)\n",
    "legend.get_frame().set_facecolor('lightgray')\n",
    "\n",
    "plt.title(\"250 ms: RT\", fontsize = 20)"
   ]
  },
  {
   "cell_type": "code",
   "execution_count": 130,
   "metadata": {},
   "outputs": [
    {
     "name": "stdout",
     "output_type": "stream",
     "text": [
      "m: [-0.06216584]\n",
      "b: 6.957081091619419\n",
      "R-squared:  0.2143300483179824\n"
     ]
    },
    {
     "data": {
      "text/plain": [
       "Text(0.5, 1.0, '1000 ms: RT')"
      ]
     },
     "execution_count": 130,
     "metadata": {},
     "output_type": "execute_result"
    },
    {
     "data": {
      "image/png": "[encoded data removed]",
      "text/plain": [
       "<Figure size 576x432 with 1 Axes>"
      ]
     },
     "metadata": {
      "needs_background": "light"
     },
     "output_type": "display_data"
    }
   ],
   "source": [
    "#run regression\n",
    "plt.figure(figsize=[8,6])\n",
    "JV_X_1000 = np.array(n_JV_1000).reshape(-1,1)\n",
    "VE_PC_1000 = n_avg_RT_1000\n",
    "JV_PC_reg_1000 = LinearRegression().fit(JV_X_1000, VE_PC_1000)\n",
    "\n",
    "#Generated Predictions\n",
    "JV_PC_predicted_1000 = JV_PC_reg_1000.predict(JV_X_1000)\n",
    "#Plot Our Actual and Predicted Values\n",
    "\n",
    "plt.errorbar(JV_X_1000, VE_PC_1000, elinewidth=1, ecolor='gray', fmt='or', mfc='white', mec='chocolate', capsize=3, alpha = 0.3, yerr = np.array(n_avg_RT_ste_1000));\n",
    "\n",
    "plt.plot(JV_X_1000, VE_PC_1000, 'o', color='darkviolet', alpha = 0.3);\n",
    "plt.plot(JV_X_1000, JV_PC_predicted_1000,color='darkviolet', label = 'm = ' + str(round(JV_PC_reg_1000.coef_[0], 3))\n",
    "         + '     r-squared = ' + str(round(float(JV_PC_reg_1000.score(JV_X_1000, VE_PC_1000)), 3)))\n",
    "plt.xlabel(\"Difference between normalized verbal judgements divided by joint variance\", fontsize = 15)\n",
    "plt.ylabel(\"RT (ms)\", fontsize = 15)\n",
    "\n",
    "#get coefficients and y intercept\n",
    "print(\"m: {0}\".format(JV_PC_reg_1000.coef_))\n",
    "print(\"b: {0}\".format(JV_PC_reg_1000.intercept_))\n",
    "\n",
    "#Returns the coefficient of determination R^2 of the prediction.\n",
    "print(\"R-squared: \", JV_PC_reg_1000.score(JV_X_1000, VE_PC_1000))\n",
    "\n",
    "\n",
    "legend = plt.legend(loc = 4, fontsize = 13, borderpad = 0.6, labelspacing = 1)\n",
    "legend.get_frame().set_facecolor('lightgray')\n",
    "\n",
    "plt.title(\"1000 ms: RT\", fontsize = 20)"
   ]
  },
  {
   "cell_type": "markdown",
   "metadata": {},
   "source": [
    "# Discrim x VE \n"
   ]
  },
  {
   "cell_type": "code",
   "execution_count": 53,
   "metadata": {},
   "outputs": [],
   "source": [
    "rawVE_250_data = pd.read_csv('/Users/prachi/Documents/depth_duration/depth_duration_analysis/TAC_data/matched/raw_250_data.csv')\n",
    "rawVE_1000_data = pd.read_csv('/Users/prachi/Documents/depth_duration/depth_duration_analysis/TAC_data/matched/raw_1000_data.csv')\n",
    "\n"
   ]
  },
  {
   "cell_type": "code",
   "execution_count": 54,
   "metadata": {},
   "outputs": [
    {
     "data": {
      "text/plain": [
       "('002509_2014-06-24_13-19-22_094959634447_rgbf000077-resize_0/002509_2014-06-24_13-19-22_094959634447_rgbf000077-resize_0-target.png',\n",
       " 94)"
      ]
     },
     "execution_count": 54,
     "metadata": {},
     "output_type": "execute_result"
    }
   ],
   "source": [
    "targetimgs_discrim = []\n",
    "\n",
    "for stim in n_stim:\n",
    "    targetimgs_discrim.append(stim.split('/')[1] + '/' + stim.split('/')[-1])\n",
    "    \n",
    "targetimgs_discrim[0], len(targetimgs_discrim)"
   ]
  },
  {
   "cell_type": "code",
   "execution_count": null,
   "metadata": {},
   "outputs": [],
   "source": [
    "\n"
   ]
  },
  {
   "cell_type": "code",
   "execution_count": 50,
   "metadata": {},
   "outputs": [
    {
     "ename": "NameError",
     "evalue": "name 'targetimgs_discrim' is not defined",
     "output_type": "error",
     "traceback": [
      "\u001b[0;31m---------------------------------------------------------------------------\u001b[0m",
      "\u001b[0;31mNameError\u001b[0m                                 Traceback (most recent call last)",
      "\u001b[0;32m<ipython-input-50-e893b7e45e96>\u001b[0m in \u001b[0;36m<module>\u001b[0;34m\u001b[0m\n\u001b[1;32m      1\u001b[0m \u001b[0mVE_250_Performance\u001b[0m \u001b[0;34m=\u001b[0m \u001b[0;34m{\u001b[0m\u001b[0;34m}\u001b[0m\u001b[0;34m\u001b[0m\u001b[0;34m\u001b[0m\u001b[0m\n\u001b[1;32m      2\u001b[0m \u001b[0;31m# loop through discrimination target images\u001b[0m\u001b[0;34m\u001b[0m\u001b[0;34m\u001b[0m\u001b[0;34m\u001b[0m\u001b[0m\n\u001b[0;32m----> 3\u001b[0;31m \u001b[0;32mfor\u001b[0m \u001b[0mim0\u001b[0m \u001b[0;32min\u001b[0m \u001b[0mtargetimgs_discrim\u001b[0m\u001b[0;34m:\u001b[0m\u001b[0;34m\u001b[0m\u001b[0;34m\u001b[0m\u001b[0m\n\u001b[0m\u001b[1;32m      4\u001b[0m     \u001b[0mperformance\u001b[0m \u001b[0;34m=\u001b[0m \u001b[0;34m[\u001b[0m\u001b[0;34m]\u001b[0m\u001b[0;34m\u001b[0m\u001b[0;34m\u001b[0m\u001b[0m\n\u001b[1;32m      5\u001b[0m     \u001b[0;31m# loop through all participants\u001b[0m\u001b[0;34m\u001b[0m\u001b[0;34m\u001b[0m\u001b[0;34m\u001b[0m\u001b[0m\n",
      "\u001b[0;31mNameError\u001b[0m: name 'targetimgs_discrim' is not defined"
     ]
    }
   ],
   "source": [
    "VE_250_Performance = {}\n",
    "# loop through discrimination target images\n",
    "for im0 in targetimgs_discrim:\n",
    "    performance = []\n",
    "    # loop through all participants\n",
    "    for subjID in rawVE_250_data.subjID.unique():\n",
    "        # filter to just the subjects data df\n",
    "        subjdf_250 = rawVE_250_data.loc[rawVE_250_data['subjID'] == subjID]\n",
    "        # extract stimuli and depth estimate list for the participant\n",
    "        particip_VE_stim_250 = list(subjdf_250['stimulus'])\n",
    "        particip_VE_y_250 = list(subjdf_250['depth_estimate'])\n",
    "        # convert stim to just the targetimg part of the path\n",
    "        particip_VE_targetimgs_250 = []\n",
    "        for stim in particip_VE_stim_250:\n",
    "            particip_VE_targetimgs_250.append(stim.split('/')[1] + '/' + stim.split('/')[-1])\n",
    "        \n",
    "        try:\n",
    "            # index for that image in the verbal judgement data \n",
    "            im0_VE_index_250 = particip_VE_targetimgs_250.index(im0)\n",
    "            # depth estimate for this image at 250 ms\n",
    "            im0_particip_VE_y_250 = particip_VE_y_250[im0_VE_index_250]\n",
    "\n",
    "            key = 'depth_discrimination_stimuli/' + im0\n",
    "\n",
    "            im1 = n_all_VE_discrim_performance[key]['stimulus_1'][29:]\n",
    "            # index for that image in the verbal judgement data \n",
    "            im1_VE_index_250 = particip_VE_targetimgs_250.index(im1)\n",
    "            # depth estimate for this image at 250 ms\n",
    "            im1_particip_VE_y_250 = particip_VE_y_250[im1_VE_index_250]\n",
    "            \n",
    "            if im0_particip_VE_y_250 < im1_particip_VE_y_250:\n",
    "                p_ans = im0.split('/')[-1]\n",
    "            else:\n",
    "                p_ans = im1.split('/')[-1]\n",
    "            try:\n",
    "                answerkey_answer = n_VE_answerkey_250[key]['answer']\n",
    "            except:\n",
    "                answerkey_answer = n_VE_answerkey_250['depth_discrimination_stimuli/' + im1]['answer']\n",
    "            if p_ans == answerkey_answer:\n",
    "                trial_acc = 0 # CORRECT\n",
    "                performance.append(trial_acc)\n",
    "            else:\n",
    "                trial_acc = 1 # INCORRECT\n",
    "                performance.append(trial_acc)\n",
    "            \n",
    "        except:\n",
    "            pass\n",
    "    VE_250_Performance[im0] = performance\n",
    "        \n"
   ]
  },
  {
   "cell_type": "code",
   "execution_count": null,
   "metadata": {},
   "outputs": [],
   "source": [
    "print(VE_250_Performance['001417_2014-06-19_16-25-36_260595134347_rgbf000115-resize_5/001417_2014-06-19_16-25-36_260595134347_rgbf000115-resize_5-target.png'])\n"
   ]
  },
  {
   "cell_type": "code",
   "execution_count": 57,
   "metadata": {},
   "outputs": [],
   "source": [
    "p = '/Users/prachi/Documents/depth_duration/depth_discrimination/TAC_discrim_datafiles/matched_discrim_data/'\n",
    "\n",
    "with open(p + 'VE_250_Performance.pickle', 'wb') as handle:\n",
    "    pickle.dump(VE_250_Performance, handle, protocol=pickle.HIGHEST_PROTOCOL)\n"
   ]
  },
  {
   "cell_type": "code",
   "execution_count": 163,
   "metadata": {},
   "outputs": [
    {
     "data": {
      "text/plain": [
       "0.625"
      ]
     },
     "execution_count": 163,
     "metadata": {},
     "output_type": "execute_result"
    }
   ],
   "source": [
    "# Python code to count the number of occurrences\n",
    "def countX(lst, x):\n",
    "    return lst.count(x)\n",
    "\n",
    "VE_250_PC = {}\n",
    "\n",
    "for key in VE_250_Performance:\n",
    "    performance = VE_250_Performance[key]\n",
    "    correct_count = countX(performance, 0)\n",
    "    incorrect_count = countX(performance, 1)\n",
    "    total = len(performance)\n",
    "    pc = correct_count/total\n",
    "    VE_250_PC['depth_discrimination_stimuli/' + key] = pc\n",
    "    \n",
    "VE_250_PC['depth_discrimination_stimuli/001417_2014-06-19_16-25-36_260595134347_rgbf000115-resize_5/001417_2014-06-19_16-25-36_260595134347_rgbf000115-resize_5-target.png'] \n"
   ]
  },
  {
   "cell_type": "code",
   "execution_count": 157,
   "metadata": {},
   "outputs": [
    {
     "data": {
      "text/plain": [
       "[0.625, 0.5116279069767442]"
      ]
     },
     "execution_count": 157,
     "metadata": {},
     "output_type": "execute_result"
    }
   ],
   "source": [
    "Discrim_VE_PC_250 = {}\n",
    "all_stim_250 = []\n",
    "all_VE_PC_250 = []\n",
    "all_Discrim_VE_PC_250 = []\n",
    "\n",
    "for key in VE_250_PC:\n",
    "    im_VE_PC = VE_250_PC[key]\n",
    "    im_Discrim_PC = n_all_VE_discrim_performance[key]['accuracy_250'][0]\n",
    "    Discrim_VE_PC_250[key] = [im_VE_PC, im_Discrim_PC]\n",
    "    \n",
    "    all_stim_250.append(key)\n",
    "    all_VE_PC_250.append(im_VE_PC)\n",
    "    all_Discrim_VE_PC_250.append(im_Discrim_PC)\n",
    "    \n",
    "Discrim_VE_PC_250['depth_discrimination_stimuli/001417_2014-06-19_16-25-36_260595134347_rgbf000115-resize_5/001417_2014-06-19_16-25-36_260595134347_rgbf000115-resize_5-target.png']"
   ]
  },
  {
   "cell_type": "code",
   "execution_count": 158,
   "metadata": {},
   "outputs": [
    {
     "data": {
      "text/plain": [
       "('depth_discrimination_stimuli/002509_2014-06-24_13-19-22_094959634447_rgbf000077-resize_0/002509_2014-06-24_13-19-22_094959634447_rgbf000077-resize_0-target.png',\n",
       " 0.38461538461538464,\n",
       " 0.4146341463414634)"
      ]
     },
     "execution_count": 158,
     "metadata": {},
     "output_type": "execute_result"
    }
   ],
   "source": [
    "all_stim_250[0], all_VE_PC_250[0], all_Discrim_VE_PC_250[0]"
   ]
  },
  {
   "cell_type": "code",
   "execution_count": 150,
   "metadata": {
    "collapsed": true,
    "jupyter": {
     "outputs_hidden": true
    }
   },
   "outputs": [
    {
     "data": {
      "text/plain": [
       "['depth_discrimination_stimuli/002509_2014-06-24_13-19-22_094959634447_rgbf000077-resize_0/002509_2014-06-24_13-19-22_094959634447_rgbf000077-resize_0-target.png',\n",
       " 'depth_discrimination_stimuli/002043_2014-06-24_20-29-38_260595134347_rgbf000039-resize_4/002043_2014-06-24_20-29-38_260595134347_rgbf000039-resize_4-target.png',\n",
       " 'depth_discrimination_stimuli/000470_2014-06-09_19-42-40_260595134347_rgbf000094-resize_1/000470_2014-06-09_19-42-40_260595134347_rgbf000094-resize_1-target.png',\n",
       " 'depth_discrimination_stimuli/000642_2014-06-08_16-59-25_260595134347_rgbf000098-resize_2/000642_2014-06-08_16-59-25_260595134347_rgbf000098-resize_2-target.png',\n",
       " 'depth_discrimination_stimuli/002153_2014-06-25_21-27-18_260595134347_rgbf000038-resize_5/002153_2014-06-25_21-27-18_260595134347_rgbf000038-resize_5-target.png',\n",
       " 'depth_discrimination_stimuli/003070_2014-06-15_14-58-27_094959634447_rgbf000150-resize_3/003070_2014-06-15_14-58-27_094959634447_rgbf000150-resize_3-target.png',\n",
       " 'depth_discrimination_stimuli/000917_2014-06-09_22-45-29_260595134347_rgbf000149-resize_3/000917_2014-06-09_22-45-29_260595134347_rgbf000149-resize_3-target.png',\n",
       " 'depth_discrimination_stimuli/000493_2014-06-09_21-01-18_260595134347_rgbf000196-resize_3/000493_2014-06-09_21-01-18_260595134347_rgbf000196-resize_3-target.png',\n",
       " 'depth_discrimination_stimuli/000736_2014-06-08_18-24-15_260595134347_rgbf000206-resize_3/000736_2014-06-08_18-24-15_260595134347_rgbf000206-resize_3-target.png',\n",
       " 'depth_discrimination_stimuli/002964_2014-06-08_17-46-11_094959634447_rgbf000091-resize_4/002964_2014-06-08_17-46-11_094959634447_rgbf000091-resize_4-target.png',\n",
       " 'depth_discrimination_stimuli/001449_2014-06-19_17-01-27_260595134347_rgbf000116-resize_2/001449_2014-06-19_17-01-27_260595134347_rgbf000116-resize_2-target.png',\n",
       " 'depth_discrimination_stimuli/000368_2014-06-09_15-53-01_260595134347_rgbf000155-resize_2/000368_2014-06-09_15-53-01_260595134347_rgbf000155-resize_2-target.png',\n",
       " 'depth_discrimination_stimuli/001110_2014-06-15_17-25-28_260595134347_rgbf000150-resize_1/001110_2014-06-15_17-25-28_260595134347_rgbf000150-resize_1-target.png',\n",
       " 'depth_discrimination_stimuli/001199_2014-06-17_16-03-48_260595134347_rgbf000077-resize_0/001199_2014-06-17_16-03-48_260595134347_rgbf000077-resize_0-target.png',\n",
       " 'depth_discrimination_stimuli/002279_2014-06-28_18-55-32_260595134347_rgbf000040-resize_5/002279_2014-06-28_18-55-32_260595134347_rgbf000040-resize_5-target.png',\n",
       " 'depth_discrimination_stimuli/003288_2014-05-14_21-50-30_094959634447_rgbf000028-resize_3/003288_2014-05-14_21-50-30_094959634447_rgbf000028-resize_3-target.png',\n",
       " 'depth_discrimination_stimuli/001175_2014-06-17_15-45-55_260595134347_rgbf000129-resize_4/001175_2014-06-17_15-45-55_260595134347_rgbf000129-resize_4-target.png',\n",
       " 'depth_discrimination_stimuli/000682_2014-06-08_23-14-58_260595134347_rgbf000041-resize_5/000682_2014-06-08_23-14-58_260595134347_rgbf000041-resize_5-target.png',\n",
       " 'depth_discrimination_stimuli/000486_2014-06-09_20-47-20_260595134347_rgbf000143-resize_2/000486_2014-06-09_20-47-20_260595134347_rgbf000143-resize_2-target.png',\n",
       " 'depth_discrimination_stimuli/000436_2014-06-09_22-25-11_260595134347_rgbf000137-resize_1/000436_2014-06-09_22-25-11_260595134347_rgbf000137-resize_1-target.png',\n",
       " 'depth_discrimination_stimuli/003092_2014-06-24_21-01-49_094959634447_rgbf000049-resize_2/003092_2014-06-24_21-01-49_094959634447_rgbf000049-resize_2-target.png',\n",
       " 'depth_discrimination_stimuli/003534_2014-05-22_15-06-10_094959634447_rgbf000102-resize_4/003534_2014-05-22_15-06-10_094959634447_rgbf000102-resize_4-target.png',\n",
       " 'depth_discrimination_stimuli/002875_2014-06-01_15-19-00_094959634447_rgbf000151-resize_1/002875_2014-06-01_15-19-00_094959634447_rgbf000151-resize_1-target.png',\n",
       " 'depth_discrimination_stimuli/001724_2014-06-26_19-28-50_260595134347_rgbf000037-resize_7/001724_2014-06-26_19-28-50_260595134347_rgbf000037-resize_7-target.png',\n",
       " 'depth_discrimination_stimuli/001167_2014-06-17_15-38-07_260595134347_rgbf000108-resize_0/001167_2014-06-17_15-38-07_260595134347_rgbf000108-resize_0-target.png',\n",
       " 'depth_discrimination_stimuli/002788_2014-06-22_19-36-03_094959634447_rgbf000088-resize_2/002788_2014-06-22_19-36-03_094959634447_rgbf000088-resize_2-target.png',\n",
       " 'depth_discrimination_stimuli/000753_2014-06-08_21-57-44_260595134347_rgbf000123-resize_3/000753_2014-06-08_21-57-44_260595134347_rgbf000123-resize_3-target.png',\n",
       " 'depth_discrimination_stimuli/000906_2014-06-08_13-35-43_260595134347_rgbf000155-resize_1/000906_2014-06-08_13-35-43_260595134347_rgbf000155-resize_1-target.png',\n",
       " 'depth_discrimination_stimuli/000758_2014-06-08_22-05-08_260595134347_rgbf000085-resize_0/000758_2014-06-08_22-05-08_260595134347_rgbf000085-resize_0-target.png',\n",
       " 'depth_discrimination_stimuli/000009_2014-05-26_14-32-05_260595134347_rgbf000034-resize_3/000009_2014-05-26_14-32-05_260595134347_rgbf000034-resize_3-target.png',\n",
       " 'depth_discrimination_stimuli/002988_2014-06-15_12-24-20_094959634447_rgbf000150-resize_1/002988_2014-06-15_12-24-20_094959634447_rgbf000150-resize_1-target.png',\n",
       " 'depth_discrimination_stimuli/000720_2014-06-08_18-37-27_260595134347_rgbf000203-resize_4/000720_2014-06-08_18-37-27_260595134347_rgbf000203-resize_4-target.png',\n",
       " 'depth_discrimination_stimuli/000929_2014-06-09_16-33-19_260595134347_rgbf000139-resize_0/000929_2014-06-09_16-33-19_260595134347_rgbf000139-resize_0-target.png',\n",
       " 'depth_discrimination_stimuli/001810_2014-06-26_20-51-35_260595134347_rgbf000040-resize_3/001810_2014-06-26_20-51-35_260595134347_rgbf000040-resize_3-target.png',\n",
       " 'depth_discrimination_stimuli/000800_2014-06-08_22-42-09_260595134347_rgbf000095-resize_3/000800_2014-06-08_22-42-09_260595134347_rgbf000095-resize_3-target.png',\n",
       " 'depth_discrimination_stimuli/002639_2014-06-24_14-51-37_094959634447_rgbf000074-resize_4/002639_2014-06-24_14-51-37_094959634447_rgbf000074-resize_4-target.png',\n",
       " 'depth_discrimination_stimuli/002549_2014-06-24_13-41-39_094959634447_rgbf000022-resize_3/002549_2014-06-24_13-41-39_094959634447_rgbf000022-resize_3-target.png',\n",
       " 'depth_discrimination_stimuli/001092_2014-06-15_17-34-58_260595134347_rgbf000171-resize_3/001092_2014-06-15_17-34-58_260595134347_rgbf000171-resize_3-target.png',\n",
       " 'depth_discrimination_stimuli/001158_2014-06-17_15-32-16_260595134347_rgbf000138-resize_2/001158_2014-06-17_15-32-16_260595134347_rgbf000138-resize_2-target.png',\n",
       " 'depth_discrimination_stimuli/001164_2014-06-17_15-35-46_260595134347_rgbf000085-resize_3/001164_2014-06-17_15-35-46_260595134347_rgbf000085-resize_3-target.png',\n",
       " 'depth_discrimination_stimuli/001571_2014-06-20_17-21-32_260595134347_rgbf000089-resize_1/001571_2014-06-20_17-21-32_260595134347_rgbf000089-resize_1-target.png',\n",
       " 'depth_discrimination_stimuli/002725_2014-06-22_11-47-51_094959634447_rgbf000070-resize_1/002725_2014-06-22_11-47-51_094959634447_rgbf000070-resize_1-target.png',\n",
       " 'depth_discrimination_stimuli/003495_2014-05-21_16-01-51_094959634447_rgbf000100-resize_3/003495_2014-05-21_16-01-51_094959634447_rgbf000100-resize_3-target.png',\n",
       " 'depth_discrimination_stimuli/001570_2014-06-20_17-21-09_260595134347_rgbf000135-resize_4/001570_2014-06-20_17-21-09_260595134347_rgbf000135-resize_4-target.png',\n",
       " 'depth_discrimination_stimuli/000414_2014-06-04_19-49-13_260595134347_rgbf000044-resize_0/000414_2014-06-04_19-49-13_260595134347_rgbf000044-resize_0-target.png',\n",
       " 'depth_discrimination_stimuli/002570_2014-06-24_13-59-54_094959634447_rgbf000059-resize_0/002570_2014-06-24_13-59-54_094959634447_rgbf000059-resize_0-target.png',\n",
       " 'depth_discrimination_stimuli/002460_2014-06-28_20-35-43_260595134347_rgbf000028-resize_4/002460_2014-06-28_20-35-43_260595134347_rgbf000028-resize_4-target.png',\n",
       " 'depth_discrimination_stimuli/001808_2014-06-26_20-50-58_260595134347_rgbf000029-resize_1/001808_2014-06-26_20-50-58_260595134347_rgbf000029-resize_1-target.png',\n",
       " 'depth_discrimination_stimuli/000810_2014-06-08_17-20-01_260595134347_rgbf000105-resize_0/000810_2014-06-08_17-20-01_260595134347_rgbf000105-resize_0-target.png',\n",
       " 'depth_discrimination_stimuli/000447_2014-06-08_16-15-46_260595134347_rgbf000130-resize_1/000447_2014-06-08_16-15-46_260595134347_rgbf000130-resize_1-target.png',\n",
       " 'depth_discrimination_stimuli/002445_2014-06-28_20-32-16_260595134347_rgbf000029-resize_4/002445_2014-06-28_20-32-16_260595134347_rgbf000029-resize_4-target.png',\n",
       " 'depth_discrimination_stimuli/003492_2014-05-21_15-50-55_094959634447_rgbf000828-resize_1/003492_2014-05-21_15-50-55_094959634447_rgbf000828-resize_1-target.png',\n",
       " 'depth_discrimination_stimuli/002663_2014-06-13_15-50-26_094959634447_rgbf000075-resize_1/002663_2014-06-13_15-50-26_094959634447_rgbf000075-resize_1-target.png',\n",
       " 'depth_discrimination_stimuli/000739_2014-06-08_18-45-58_260595134347_rgbf000068-resize_1/000739_2014-06-08_18-45-58_260595134347_rgbf000068-resize_1-target.png',\n",
       " 'depth_discrimination_stimuli/000636_2014-06-08_16-39-02_260595134347_rgbf000108-resize_4/000636_2014-06-08_16-39-02_260595134347_rgbf000108-resize_4-target.png',\n",
       " 'depth_discrimination_stimuli/001188_2014-06-17_15-54-10_260595134347_rgbf000090-resize_2/001188_2014-06-17_15-54-10_260595134347_rgbf000090-resize_2-target.png',\n",
       " 'depth_discrimination_stimuli/000522_2014-06-08_13-35-06_260595134347_rgbf000244-resize_1/000522_2014-06-08_13-35-06_260595134347_rgbf000244-resize_1-target.png',\n",
       " 'depth_discrimination_stimuli/001055_2014-06-08_18-45-35_260595134347_rgbf000111-resize_4/001055_2014-06-08_18-45-35_260595134347_rgbf000111-resize_4-target.png',\n",
       " 'depth_discrimination_stimuli/001181_2014-06-17_15-50-57_260595134347_rgbf000106-resize_4/001181_2014-06-17_15-50-57_260595134347_rgbf000106-resize_4-target.png',\n",
       " 'depth_discrimination_stimuli/002375_2014-06-28_20-13-44_260595134347_rgbf000032-resize_1/002375_2014-06-28_20-13-44_260595134347_rgbf000032-resize_1-target.png',\n",
       " 'depth_discrimination_stimuli/002579_2014-06-24_14-08-03_094959634447_rgbf000061-resize_2/002579_2014-06-24_14-08-03_094959634447_rgbf000061-resize_2-target.png',\n",
       " 'depth_discrimination_stimuli/001016_2014-06-09_16-16-10_260595134347_rgbf000112-resize_5/001016_2014-06-09_16-16-10_260595134347_rgbf000112-resize_5-target.png',\n",
       " 'depth_discrimination_stimuli/000506_2014-06-08_23-21-00_260595134347_rgbf000070-resize_7/000506_2014-06-08_23-21-00_260595134347_rgbf000070-resize_7-target.png',\n",
       " 'depth_discrimination_stimuli/002057_2014-06-24_21-00-13_260595134347_rgbf000120-resize_1/002057_2014-06-24_21-00-13_260595134347_rgbf000120-resize_1-target.png',\n",
       " 'depth_discrimination_stimuli/001133_2014-06-17_14-49-16_260595134347_rgbf000100-resize_0/001133_2014-06-17_14-49-16_260595134347_rgbf000100-resize_0-target.png',\n",
       " 'depth_discrimination_stimuli/002213_2014-06-28_18-37-58_260595134347_rgbf000055-resize_1/002213_2014-06-28_18-37-58_260595134347_rgbf000055-resize_1-target.png',\n",
       " 'depth_discrimination_stimuli/000878_2014-06-08_22-52-45_260595134347_rgbf000045-resize_2/000878_2014-06-08_22-52-45_260595134347_rgbf000045-resize_2-target.png',\n",
       " 'depth_discrimination_stimuli/003621_2014-05-23_18-06-08_094959634447_rgbf000101-resize_1/003621_2014-05-23_18-06-08_094959634447_rgbf000101-resize_1-target.png',\n",
       " 'depth_discrimination_stimuli/002763_2014-06-22_19-13-10_094959634447_rgbf000075-resize_4/002763_2014-06-22_19-13-10_094959634447_rgbf000075-resize_4-target.png',\n",
       " 'depth_discrimination_stimuli/001148_2014-06-17_15-26-42_260595134347_rgbf000129-resize_0/001148_2014-06-17_15-26-42_260595134347_rgbf000129-resize_0-target.png',\n",
       " 'depth_discrimination_stimuli/001056_2014-06-08_18-46-44_260595134347_rgbf000068-resize_0/001056_2014-06-08_18-46-44_260595134347_rgbf000068-resize_0-target.png',\n",
       " 'depth_discrimination_stimuli/001066_2014-06-08_22-03-20_260595134347_rgbf000066-resize_4/001066_2014-06-08_22-03-20_260595134347_rgbf000066-resize_4-target.png',\n",
       " 'depth_discrimination_stimuli/001417_2014-06-19_16-25-36_260595134347_rgbf000115-resize_5/001417_2014-06-19_16-25-36_260595134347_rgbf000115-resize_5-target.png',\n",
       " 'depth_discrimination_stimuli/001555_2014-06-20_17-12-10_260595134347_rgbf000065-resize_4/001555_2014-06-20_17-12-10_260595134347_rgbf000065-resize_4-target.png',\n",
       " 'depth_discrimination_stimuli/001059_2014-06-08_21-53-27_260595134347_rgbf000061-resize_4/001059_2014-06-08_21-53-27_260595134347_rgbf000061-resize_4-target.png',\n",
       " 'depth_discrimination_stimuli/002039_2014-06-24_20-22-38_260595134347_rgbf000084-resize_1/002039_2014-06-24_20-22-38_260595134347_rgbf000084-resize_1-target.png',\n",
       " 'depth_discrimination_stimuli/002989_2014-06-15_12-25-03_094959634447_rgbf000150-resize_3/002989_2014-06-15_12-25-03_094959634447_rgbf000150-resize_3-target.png',\n",
       " 'depth_discrimination_stimuli/001806_2014-06-26_20-50-20_260595134347_rgbf000091-resize_1/001806_2014-06-26_20-50-20_260595134347_rgbf000091-resize_1-target.png',\n",
       " 'depth_discrimination_stimuli/000773_2014-06-08_22-24-54_260595134347_rgbf000093-resize_1/000773_2014-06-08_22-24-54_260595134347_rgbf000093-resize_1-target.png',\n",
       " 'depth_discrimination_stimuli/003228_2014-05-14_13-42-35_094959634447_rgbf000101-resize_1/003228_2014-05-14_13-42-35_094959634447_rgbf000101-resize_1-target.png',\n",
       " 'depth_discrimination_stimuli/001150_2014-06-17_15-27-34_260595134347_rgbf000108-resize_2/001150_2014-06-17_15-27-34_260595134347_rgbf000108-resize_2-target.png',\n",
       " 'depth_discrimination_stimuli/001029_2014-06-08_13-17-57_260595134347_rgbf000065-resize_1/001029_2014-06-08_13-17-57_260595134347_rgbf000065-resize_1-target.png',\n",
       " 'depth_discrimination_stimuli/003546_2014-05-22_15-48-53_094959634447_rgbf004816-resize_3/003546_2014-05-22_15-48-53_094959634447_rgbf004816-resize_3-target.png',\n",
       " 'depth_discrimination_stimuli/002905_2014-06-03_18-04-43_094959634447_rgbf000151-resize_2/002905_2014-06-03_18-04-43_094959634447_rgbf000151-resize_2-target.png',\n",
       " 'depth_discrimination_stimuli/000469_2014-06-09_19-42-10_260595134347_rgbf000081-resize_1/000469_2014-06-09_19-42-10_260595134347_rgbf000081-resize_1-target.png',\n",
       " 'depth_discrimination_stimuli/002118_2014-06-25_20-32-08_260595134347_rgbf000078-resize_1/002118_2014-06-25_20-32-08_260595134347_rgbf000078-resize_1-target.png',\n",
       " 'depth_discrimination_stimuli/002748_2014-06-22_19-07-22_094959634447_rgbf000078-resize_1/002748_2014-06-22_19-07-22_094959634447_rgbf000078-resize_1-target.png',\n",
       " 'depth_discrimination_stimuli/002784_2014-06-22_19-26-30_094959634447_rgbf000083-resize_3/002784_2014-06-22_19-26-30_094959634447_rgbf000083-resize_3-target.png',\n",
       " 'depth_discrimination_stimuli/003069_2014-06-15_14-57-50_094959634447_rgbf000150-resize_4/003069_2014-06-15_14-57-50_094959634447_rgbf000150-resize_4-target.png',\n",
       " 'depth_discrimination_stimuli/001264_2014-06-16_16-10-23_260595134347_rgbf000109-resize_1/001264_2014-06-16_16-10-23_260595134347_rgbf000109-resize_1-target.png',\n",
       " 'depth_discrimination_stimuli/000692_2014-06-08_13-09-42_260595134347_rgbf000199-resize_2/000692_2014-06-08_13-09-42_260595134347_rgbf000199-resize_2-target.png',\n",
       " 'depth_discrimination_stimuli/000788_2014-06-08_22-34-36_260595134347_rgbf000131-resize_1/000788_2014-06-08_22-34-36_260595134347_rgbf000131-resize_1-target.png',\n",
       " 'depth_discrimination_stimuli/002630_2014-06-24_14-47-50_094959634447_rgbf000055-resize_1/002630_2014-06-24_14-47-50_094959634447_rgbf000055-resize_1-target.png',\n",
       " 'depth_discrimination_stimuli/002305_2014-06-28_19-56-50_260595134347_rgbf000102-resize_7/002305_2014-06-28_19-56-50_260595134347_rgbf000102-resize_7-target.png']"
      ]
     },
     "execution_count": 150,
     "metadata": {},
     "output_type": "execute_result"
    }
   ],
   "source": [
    "all_stim_250"
   ]
  },
  {
   "cell_type": "code",
   "execution_count": 138,
   "metadata": {},
   "outputs": [
    {
     "name": "stdout",
     "output_type": "stream",
     "text": [
      "m: [0.67461472]\n",
      "b: 0.2450328819488461\n",
      "R-squared:  0.31804462645855014\n"
     ]
    },
    {
     "data": {
      "image/png": "[encoded data removed]",
      "text/plain": [
       "<Figure size 576x576 with 1 Axes>"
      ]
     },
     "metadata": {
      "needs_background": "light"
     },
     "output_type": "display_data"
    }
   ],
   "source": [
    "from sklearn.linear_model import LinearRegression\n",
    "\n",
    "fig, ax = plt.subplots(figsize=[8,8])\n",
    "\n",
    "right_side = ax.spines[\"right\"]\n",
    "right_side.set_visible(False)\n",
    "top = ax.spines['top']\n",
    "top.set_visible(False)\n",
    "\n",
    "#run regression\n",
    "X_250 = np.array(all_VE_PC_250).reshape(-1,1)\n",
    "y_250 = np.array(all_Discrim_VE_PC_250)\n",
    "reg_250 = LinearRegression().fit(X_250, y_250)\n",
    "\n",
    "#Generated Predictions\n",
    "y_predicted_250 = reg_250.predict(X_250)\n",
    "#Plot Our Actual and Predicted Values\n",
    "plt.plot(X_250, y_250, 'o', color='chocolate', alpha = 0.7);\n",
    "\n",
    "r = np.sqrt(reg_250.score(X_250, y_250))\n",
    "\n",
    "plt.plot(X_250,y_predicted_250,color='chocolate', label = 'y = ' + str(round(reg_250.coef_[0], 3)) + 'x + ' +  str(round(reg_250.intercept_, 3))\n",
    "         + '     r' + '=' +  str(round(float(r), 3)))\n",
    "\n",
    "x_perfacc = np.arange(0.1 ,1.1, 0.1)\n",
    "plt.plot(x_perfacc, x_perfacc, color = 'black',linestyle='--')  # solid\n",
    "\n",
    "legend = plt.legend(loc = 0, fontsize = 13, labelspacing = 1, frameon=False)\n",
    "\n",
    "plt.xlabel('Verbal Estimate Percent Correct', fontsize=15)\n",
    "plt.ylabel('Discrimination Percent Correct', fontsize=15)\n",
    "\n",
    "plt.xticks(np.arange(0.1, 1.1, 0.1))\n",
    "plt.yticks(np.arange(0.1, 1.1, 0.1))\n",
    "\n",
    "\n",
    "\n",
    "#get coefficients and y intercept\n",
    "print(\"m: {0}\".format(reg_250.coef_))\n",
    "print(\"b: {0}\".format(reg_250.intercept_))\n",
    "\n",
    "#Returns the coefficient of determination R^2 of the prediction.\n",
    "print(\"R-squared: \", reg_250.score(X_250, y_250))"
   ]
  },
  {
   "cell_type": "code",
   "execution_count": null,
   "metadata": {},
   "outputs": [],
   "source": []
  },
  {
   "cell_type": "code",
   "execution_count": 58,
   "metadata": {},
   "outputs": [],
   "source": [
    "VE_1000_Performance = {}\n",
    "# loop through discrimination target images\n",
    "for im0 in targetimgs_discrim:\n",
    "    performance = []\n",
    "    # loop through all participants\n",
    "    for subjID in rawVE_1000_data.subjID.unique():\n",
    "        # filter to just the subjects data df\n",
    "        subjdf_1000 = rawVE_1000_data.loc[rawVE_1000_data['subjID'] == subjID]\n",
    "        # extract stimuli and depth estimate list for the participant\n",
    "        particip_VE_stim_1000 = list(subjdf_1000['stimulus'])\n",
    "        particip_VE_y_1000 = list(subjdf_1000['depth_estimate'])\n",
    "        # convert stim to just the targetimg part of the path\n",
    "        particip_VE_targetimgs_1000 = []\n",
    "        for stim in particip_VE_stim_1000:\n",
    "            particip_VE_targetimgs_1000.append(stim.split('/')[1] + '/' + stim.split('/')[-1])\n",
    "        \n",
    "        try:\n",
    "            # index for that image in the verbal judgement data \n",
    "            im0_VE_index_1000 = particip_VE_targetimgs_1000.index(im0)\n",
    "            # depth estimate for this image at 250 ms\n",
    "            im0_particip_VE_y_1000 = particip_VE_y_1000[im0_VE_index_1000]\n",
    "\n",
    "            key = 'depth_discrimination_stimuli/' + im0\n",
    "\n",
    "            im1 = n_all_VE_discrim_performance[key]['stimulus_1'][29:]\n",
    "            # index for that image in the verbal judgement data \n",
    "            im1_VE_index_1000 = particip_VE_targetimgs_1000.index(im1)\n",
    "            # depth estimate for this image at 1000 ms\n",
    "            im1_particip_VE_y_1000 = particip_VE_y_1000[im1_VE_index_1000]\n",
    "            \n",
    "            if im0_particip_VE_y_1000 < im1_particip_VE_y_1000:\n",
    "                p_ans = im0.split('/')[-1]\n",
    "            else:\n",
    "                p_ans = im1.split('/')[-1]\n",
    "            try:\n",
    "                answerkey_answer = n_VE_answerkey_1000[key]['answer']\n",
    "            except:\n",
    "                answerkey_answer = n_VE_answerkey_1000['depth_discrimination_stimuli/' + im1]['answer']\n",
    "            if p_ans == answerkey_answer:\n",
    "                trial_acc = 0 # CORRECT\n",
    "                performance.append(trial_acc)\n",
    "            else:\n",
    "                trial_acc = 1 # INCORRECT\n",
    "                performance.append(trial_acc)\n",
    "            \n",
    "        except:\n",
    "            pass\n",
    "    VE_1000_Performance[im0] = performance\n",
    "        \n"
   ]
  },
  {
   "cell_type": "code",
   "execution_count": 59,
   "metadata": {},
   "outputs": [],
   "source": [
    "p = '/Users/prachi/Documents/depth_duration/depth_discrimination/TAC_discrim_datafiles/matched_discrim_data/'\n",
    "with open(p + 'VE_1000_Performance.pickle', 'wb') as handle:\n",
    "    pickle.dump(VE_1000_Performance, handle, protocol=pickle.HIGHEST_PROTOCOL)"
   ]
  },
  {
   "cell_type": "code",
   "execution_count": 140,
   "metadata": {},
   "outputs": [],
   "source": [
    "# print(VE_250_Performance['001417_2014-06-19_16-25-36_260595134347_rgbf000115-resize_5/001417_2014-06-19_16-25-36_260595134347_rgbf000115-resize_5-target.png'])\n",
    "# VE_1000_Performance['001417_2014-06-19_16-25-36_260595134347_rgbf000115-resize_5/001417_2014-06-19_16-25-36_260595134347_rgbf000115-resize_5-target.png']\n"
   ]
  },
  {
   "cell_type": "code",
   "execution_count": 141,
   "metadata": {},
   "outputs": [
    {
     "data": {
      "text/plain": [
       "0.5490196078431373"
      ]
     },
     "execution_count": 141,
     "metadata": {},
     "output_type": "execute_result"
    }
   ],
   "source": [
    "# Python code to count the number of occurrences\n",
    "def countX(lst, x):\n",
    "    return lst.count(x)\n",
    "\n",
    "VE_1000_PC = {}\n",
    "\n",
    "for key in VE_1000_Performance:\n",
    "    performance = VE_1000_Performance[key]\n",
    "    correct_count = countX(performance, 0)\n",
    "    incorrect_count = countX(performance, 1)\n",
    "    total = len(performance)\n",
    "    pc = correct_count/total\n",
    "    VE_1000_PC['depth_discrimination_stimuli/' + key] = pc\n",
    "    \n",
    "VE_1000_PC['depth_discrimination_stimuli/001417_2014-06-19_16-25-36_260595134347_rgbf000115-resize_5/001417_2014-06-19_16-25-36_260595134347_rgbf000115-resize_5-target.png'] \n"
   ]
  },
  {
   "cell_type": "code",
   "execution_count": 142,
   "metadata": {},
   "outputs": [
    {
     "data": {
      "text/plain": [
       "[0.5490196078431373, 0.46511627906976744]"
      ]
     },
     "execution_count": 142,
     "metadata": {},
     "output_type": "execute_result"
    }
   ],
   "source": [
    "Discrim_VE_PC_1000 = {}\n",
    "all_stim_1000 = []\n",
    "all_VE_PC_1000 = []\n",
    "all_Discrim_VE_PC_1000 = []\n",
    "\n",
    "for key in VE_1000_PC:\n",
    "    im_VE_PC = VE_1000_PC[key]\n",
    "    im_Discrim_PC = n_all_VE_discrim_performance[key]['accuracy_1000'][0]\n",
    "    Discrim_VE_PC_1000[key] = [im_VE_PC, im_Discrim_PC]\n",
    "    \n",
    "    all_stim_1000.append(key)\n",
    "    all_VE_PC_1000.append(im_VE_PC)\n",
    "    all_Discrim_VE_PC_1000.append(im_Discrim_PC)\n",
    "    \n",
    "Discrim_VE_PC_1000['depth_discrimination_stimuli/001417_2014-06-19_16-25-36_260595134347_rgbf000115-resize_5/001417_2014-06-19_16-25-36_260595134347_rgbf000115-resize_5-target.png']"
   ]
  },
  {
   "cell_type": "code",
   "execution_count": 143,
   "metadata": {},
   "outputs": [
    {
     "data": {
      "text/plain": [
       "('depth_discrimination_stimuli/002509_2014-06-24_13-19-22_094959634447_rgbf000077-resize_0/002509_2014-06-24_13-19-22_094959634447_rgbf000077-resize_0-target.png',\n",
       " 0.3137254901960784,\n",
       " 0.4878048780487805)"
      ]
     },
     "execution_count": 143,
     "metadata": {},
     "output_type": "execute_result"
    }
   ],
   "source": [
    "all_stim_1000[0], all_VE_PC_1000[0], all_Discrim_VE_PC_1000[0]"
   ]
  },
  {
   "cell_type": "code",
   "execution_count": 144,
   "metadata": {},
   "outputs": [
    {
     "name": "stdout",
     "output_type": "stream",
     "text": [
      "m: [0.80110911]\n",
      "b: 0.16963246320907588\n",
      "R-squared:  0.48257235764415707\n"
     ]
    },
    {
     "data": {
      "image/png": "[encoded data removed]",
      "text/plain": [
       "<Figure size 576x576 with 1 Axes>"
      ]
     },
     "metadata": {
      "needs_background": "light"
     },
     "output_type": "display_data"
    }
   ],
   "source": [
    "from sklearn.linear_model import LinearRegression\n",
    "\n",
    "fig, ax = plt.subplots(figsize=[8,8])\n",
    "\n",
    "right_side = ax.spines[\"right\"]\n",
    "right_side.set_visible(False)\n",
    "top = ax.spines['top']\n",
    "top.set_visible(False)\n",
    "\n",
    "#run regression\n",
    "X_1000 = np.array(all_VE_PC_1000).reshape(-1,1)\n",
    "y_1000 = np.array(all_Discrim_VE_PC_1000)\n",
    "reg_1000 = LinearRegression().fit(X_1000, y_1000)\n",
    "\n",
    "#Generated Predictions\n",
    "y_predicted_1000 = reg_1000.predict(X_1000)\n",
    "#Plot Our Actual and Predicted Values\n",
    "plt.plot(X_1000, y_1000, 'o', color='darkviolet', alpha = 0.7);\n",
    "\n",
    "r = np.sqrt(reg_1000.score(X_1000, y_1000))\n",
    "\n",
    "plt.plot(X_1000,y_predicted_1000,color='darkviolet', label = 'y = ' + str(round(reg_1000.coef_[0], 3)) + 'x + ' +  str(round(reg_1000.intercept_, 3))\n",
    "         + '     r' + '=' +  str(round(float(r), 3)))\n",
    "\n",
    "x_perfacc = np.arange(0.1 ,1.1, 0.1)\n",
    "plt.plot(x_perfacc, x_perfacc, color = 'black',linestyle='--')  # solid\n",
    "\n",
    "legend = plt.legend(loc = 0, fontsize = 13, labelspacing = 1, frameon=False)\n",
    "\n",
    "plt.xlabel('Verbal Estimate Percent Correct', fontsize=15)\n",
    "plt.ylabel('Discrimination Percent Correct', fontsize=15)\n",
    "\n",
    "plt.xticks(np.arange(0.1, 1.1, 0.1))\n",
    "plt.yticks(np.arange(0.1, 1.1, 0.1))\n",
    "\n",
    "#get coefficients and y intercept\n",
    "print(\"m: {0}\".format(reg_1000.coef_))\n",
    "print(\"b: {0}\".format(reg_1000.intercept_))\n",
    "\n",
    "#Returns the coefficient of determination R^2 of the prediction.\n",
    "print(\"R-squared: \", reg_1000.score(X_1000, y_1000))"
   ]
  },
  {
   "cell_type": "code",
   "execution_count": null,
   "metadata": {},
   "outputs": [],
   "source": []
  },
  {
   "cell_type": "code",
   "execution_count": null,
   "metadata": {},
   "outputs": [],
   "source": []
  },
  {
   "cell_type": "code",
   "execution_count": null,
   "metadata": {},
   "outputs": [],
   "source": []
  }
 ],
 "metadata": {
  "kernelspec": {
   "display_name": "Python 3",
   "language": "python",
   "name": "python3"
  },
  "language_info": {
   "codemirror_mode": {
    "name": "ipython",
    "version": 3
   },
   "file_extension": ".py",
   "mimetype": "text/x-python",
   "name": "python",
   "nbconvert_exporter": "python",
   "pygments_lexer": "ipython3",
   "version": "3.7.6"
  }
 },
 "nbformat": 4,
 "nbformat_minor": 4
}
