{
 "cells": [
  {
   "cell_type": "markdown",
   "metadata": {},
   "source": [
    "# Matched Discrimination Analysis"
   ]
  },
  {
   "cell_type": "code",
   "execution_count": 235,
   "metadata": {},
   "outputs": [],
   "source": [
    "import os \n",
    "import pandas as pd\n",
    "import numpy as np\n",
    "import math\n",
    "import matplotlib.pyplot as plt\n",
    "import scipy \n",
    "import scipy.stats as stats\n",
    "from scipy.stats import sem \n",
    "from mpl_toolkits.mplot3d import Axes3D # <--- This is important for 3d plotting \n",
    "from sklearn.linear_model import LinearRegression\n"
   ]
  },
  {
   "cell_type": "code",
   "execution_count": 236,
   "metadata": {
    "jupyter": {
     "source_hidden": true
    }
   },
   "outputs": [],
   "source": [
    "def combineCSVs(datafolder, num_discrim_trials):\n",
    "    \"\"\"\n",
    "    Combine all participant data into one pandas df\n",
    "    OR \n",
    "    Create df for single participant file \n",
    "    \n",
    "    returns:\n",
    "        (1) combined dataframe of all discrimination data \n",
    "        (2) combined dataframe of all scene property rating data \n",
    "    \"\"\"\n",
    "    #checks if path is a file\n",
    "    isFile = os.path.isfile(datafolder)\n",
    "\n",
    "    #checks if path is a directory\n",
    "    \n",
    "    isDirectory = os.path.isdir(datafolder)\n",
    "    \n",
    "    if isDirectory == True:\n",
    "        discrim_data = []\n",
    "        properties_data = []\n",
    "        for filename in os.listdir(datafolder):\n",
    "            if 'csv' in filename:\n",
    "                path = datafolder + \"/\" + filename\n",
    "                df = pd.read_csv(path, index_col=None, header=0)\n",
    "                \n",
    "                df_discrim = df[0:num_discrim_trials]\n",
    "                discrim_data.append(df_discrim)\n",
    "                # row 96 should be ignored - artifact of logging \n",
    "                df_properties = df[num_discrim_trials+1:]\n",
    "                properties_data.append(df_properties)\n",
    "                \n",
    "\n",
    "        discrim_frame = pd.concat(discrim_data, axis=0, ignore_index=True)\n",
    "        properties_frame = pd.concat(properties_data, axis=0, ignore_index=True)\n",
    "        \n",
    "    if isFile == True:\n",
    "        if 'csv' in datafolder:\n",
    "            df = pd.read_csv(datafolder, index_col=None, header=0)\n",
    "            df_discrim = df[0:num_discrim_trials]\n",
    "            discrim_data.append(df_discrim)\n",
    "            # row 96 should be ignored - artifact of logging \n",
    "            df_properties = df[num_discrim_trials+1:]\n",
    "            properties_data.append(df_properties)\n",
    " \n",
    "    return discrim_frame, properties_frame"
   ]
  },
  {
   "cell_type": "code",
   "execution_count": 237,
   "metadata": {},
   "outputs": [],
   "source": [
    "data_path = '/Users/prachimahableshwarkar/Documents/GW/FacialAge/FacialAge_MTurk/BNav_EC2/DepthDuration/v2_depth_discrimination_MTurk/data'\n",
    "\n",
    "# data_path = '/Users/pmahableshwarkar/Documents/Depth_Project/depth_discrimination/TAC_depth_discrimination_MTurk/data'\n",
    "\n",
    "# data_path = '/Users/prachi/Documents/depth_duration/depth_discrimination/TAC_depth_discrimination_MTurk/data'\n",
    "\n",
    "# data_path = '/Users/prachimahableshwarkar/Documents/GW/Depth_MTurk/depth_discrimination/TAC_depth_discrimination_MTurk/data'\n"
   ]
  },
  {
   "cell_type": "code",
   "execution_count": 239,
   "metadata": {},
   "outputs": [],
   "source": [
    "raw_discrim, raw_ratings = combineCSVs(data_path, 100)"
   ]
  },
  {
   "cell_type": "code",
   "execution_count": 240,
   "metadata": {},
   "outputs": [
    {
     "data": {
      "text/plain": [
       "156"
      ]
     },
     "execution_count": 240,
     "metadata": {},
     "output_type": "execute_result"
    }
   ],
   "source": [
    "all_subjIDs = raw_discrim.subjID.unique()\n",
    "len(all_subjIDs)"
   ]
  },
  {
   "cell_type": "code",
   "execution_count": null,
   "metadata": {},
   "outputs": [],
   "source": []
  },
  {
   "cell_type": "code",
   "execution_count": 241,
   "metadata": {},
   "outputs": [
    {
     "data": {
      "text/plain": [
       "array([24, 29, 50, 38, 45, 31, 32, 43, 34, 25, 52, 36, 35, 33, 44, 42, 58,\n",
       "       47, 53, 30, 41, 27, 46, 26, 62, 40, 49, 57, 60, 37, 55, 28, 67, 63,\n",
       "       59, 39, 54, 56])"
      ]
     },
     "execution_count": 241,
     "metadata": {},
     "output_type": "execute_result"
    }
   ],
   "source": [
    "all_ages = raw_discrim.age.unique()\n",
    "all_ages"
   ]
  },
  {
   "cell_type": "markdown",
   "metadata": {},
   "source": [
    "## <font color='red'> Data Cleaning </font> \n",
    "\n"
   ]
  },
  {
   "cell_type": "code",
   "execution_count": 7,
   "metadata": {
    "jupyter": {
     "source_hidden": true
    }
   },
   "outputs": [],
   "source": [
    "def catchTrial_cleaning(df, correct_requirement, catch_stimuli):\n",
    "    '''\n",
    "    Participants complete 8 catch trials total to ensure that they are doing the task.\n",
    "    If less than 7/8 catch trials are correct, the participant is excluded.  \n",
    "    '''\n",
    "    all_subjIDs = df.subjID.unique()\n",
    "    remove = []\n",
    "    subj_sequence = {}\n",
    "    df2_list = []\n",
    "    sequence_count = {'discrim_jsons/Discrim250_randls_33.json': 0,\n",
    " 'discrim_jsons/Discrim250_randls_25.json': 0,\n",
    " 'discrim_jsons/Discrim250_randls_44.json': 0,\n",
    " 'discrim_jsons/Discrim250_randls_13.json': 0,\n",
    " 'discrim_jsons/Discrim250_randls_7.json': 0,\n",
    " 'discrim_jsons/Discrim250_randls_29.json': 0,\n",
    " 'discrim_jsons/Discrim250_randls_28.json': 0,\n",
    " 'discrim_jsons/Discrim250_randls_6.json': 0,\n",
    " 'discrim_jsons/Discrim250_randls_12.json': 0,\n",
    " 'discrim_jsons/Discrim250_randls_45.json': 0,\n",
    " 'discrim_jsons/Discrim250_randls_24.json': 0,\n",
    " 'discrim_jsons/Discrim250_randls_32.json': 0,\n",
    " 'discrim_jsons/Discrim250_randls_42.json': 0,\n",
    " 'discrim_jsons/Discrim250_randls_15.json': 0,\n",
    " 'discrim_jsons/Discrim250_randls_39.json': 0,\n",
    " 'discrim_jsons/Discrim250_randls_1.json': 0,\n",
    " 'discrim_jsons/Discrim250_randls_19.json': 0,\n",
    " 'discrim_jsons/Discrim250_randls_35.json': 0,\n",
    " 'discrim_jsons/Discrim250_randls_23.json': 0,\n",
    " 'discrim_jsons/Discrim250_randls_22.json': 0,\n",
    " 'discrim_jsons/Discrim250_randls_34.json': 0,\n",
    " 'discrim_jsons/Discrim250_randls_18.json': 0,\n",
    " 'discrim_jsons/Discrim250_randls_38.json': 0,\n",
    " 'discrim_jsons/Discrim250_randls_0.json': 0,\n",
    " 'discrim_jsons/Discrim250_randls_14.json': 0,\n",
    " 'discrim_jsons/Discrim250_randls_43.json': 0,\n",
    " 'discrim_jsons/Discrim250_randls_3.json': 0,\n",
    " 'discrim_jsons/Discrim250_randls_17.json': 0,\n",
    " 'discrim_jsons/Discrim250_randls_40.json': 0,\n",
    " 'discrim_jsons/Discrim250_randls_21.json': 0,\n",
    " 'discrim_jsons/Discrim250_randls_37.json': 0,\n",
    " 'discrim_jsons/Discrim250_randls_36.json': 0,\n",
    " 'discrim_jsons/Discrim250_randls_20.json': 0,\n",
    " 'discrim_jsons/Discrim250_randls_41.json': 0,\n",
    " 'discrim_jsons/Discrim250_randls_16.json': 0,\n",
    " 'discrim_jsons/Discrim250_randls_2.json': 0,\n",
    " 'discrim_jsons/Discrim250_randls_27.json': 0,\n",
    " 'discrim_jsons/Discrim250_randls_9.json': 0,\n",
    " 'discrim_jsons/Discrim250_randls_31.json': 0,\n",
    " 'discrim_jsons/Discrim250_randls_5.json': 0,\n",
    " 'discrim_jsons/Discrim250_randls_11.json': 0,\n",
    " 'discrim_jsons/Discrim250_randls_46.json': 0,\n",
    " 'discrim_jsons/Discrim250_randls_10.json': 0,\n",
    " 'discrim_jsons/Discrim250_randls_4.json': 0,\n",
    " 'discrim_jsons/Discrim250_randls_8.json': 0,\n",
    " 'discrim_jsons/Discrim250_randls_30.json': 0,\n",
    " 'discrim_jsons/Discrim250_randls_26.json': 0,\n",
    " 'discrim_jsons/Discrim1000_randls_20.json': 0,\n",
    " 'discrim_jsons/Discrim1000_randls_7.json': 0,\n",
    " 'discrim_jsons/Discrim1000_randls_36.json': 0,\n",
    " 'discrim_jsons/Discrim1000_randls_41.json': 0,\n",
    " 'discrim_jsons/Discrim1000_randls_16.json': 0,\n",
    " 'discrim_jsons/Discrim1000_randls_17.json': 0,\n",
    " 'discrim_jsons/Discrim1000_randls_40.json': 0,\n",
    " 'discrim_jsons/Discrim1000_randls_37.json': 0,\n",
    " 'discrim_jsons/Discrim1000_randls_6.json': 0,\n",
    " 'discrim_jsons/Discrim1000_randls_21.json': 0,\n",
    " 'discrim_jsons/Discrim1000_randls_10.json': 0,\n",
    " 'discrim_jsons/Discrim1000_randls_26.json': 0,\n",
    " 'discrim_jsons/Discrim1000_randls_1.json': 0,\n",
    " 'discrim_jsons/Discrim1000_randls_30.json': 0,\n",
    " 'discrim_jsons/Discrim1000_randls_31.json': 0,\n",
    " 'discrim_jsons/Discrim1000_randls_0.json': 0,\n",
    " 'discrim_jsons/Discrim1000_randls_27.json': 0,\n",
    " 'discrim_jsons/Discrim1000_randls_11.json': 0,\n",
    " 'discrim_jsons/Discrim1000_randls_46.json': 0,\n",
    " 'discrim_jsons/Discrim1000_randls_12.json': 0,\n",
    " 'discrim_jsons/Discrim1000_randls_45.json': 0,\n",
    " 'discrim_jsons/Discrim1000_randls_28.json': 0,\n",
    " 'discrim_jsons/Discrim1000_randls_32.json': 0,\n",
    " 'discrim_jsons/Discrim1000_randls_3.json': 0,\n",
    " 'discrim_jsons/Discrim1000_randls_24.json': 0,\n",
    " 'discrim_jsons/Discrim1000_randls_25.json': 0,\n",
    " 'discrim_jsons/Discrim1000_randls_2.json': 0,\n",
    " 'discrim_jsons/Discrim1000_randls_33.json': 0,\n",
    " 'discrim_jsons/Discrim1000_randls_29.json': 0,\n",
    " 'discrim_jsons/Discrim1000_randls_44.json': 0,\n",
    " 'discrim_jsons/Discrim1000_randls_13.json': 0,\n",
    " 'discrim_jsons/Discrim1000_randls_18.json': 0,\n",
    " 'discrim_jsons/Discrim1000_randls_34.json': 0,\n",
    " 'discrim_jsons/Discrim1000_randls_5.json': 0,\n",
    " 'discrim_jsons/Discrim1000_randls_22.json': 0,\n",
    " 'discrim_jsons/Discrim1000_randls_14.json': 0,\n",
    " 'discrim_jsons/Discrim1000_randls_43.json': 0,\n",
    " 'discrim_jsons/Discrim1000_randls_38.json': 0,\n",
    " 'discrim_jsons/Discrim1000_randls_9.json': 0,\n",
    " 'discrim_jsons/Discrim1000_randls_8.json': 0,\n",
    " 'discrim_jsons/Discrim1000_randls_39.json': 0,\n",
    " 'discrim_jsons/Discrim1000_randls_42.json': 0,\n",
    " 'discrim_jsons/Discrim1000_randls_15.json': 0,\n",
    " 'discrim_jsons/Discrim1000_randls_23.json': 0,\n",
    " 'discrim_jsons/Discrim1000_randls_4.json': 0,\n",
    " 'discrim_jsons/Discrim1000_randls_35.json': 0,\n",
    " 'discrim_jsons/Discrim1000_randls_19.json': 0}\n",
    "    \n",
    "    for subj in all_subjIDs:\n",
    "#         print(subj)\n",
    "        count_correct = 0\n",
    "        subj_df = df.loc[df['subjID'] == subj]\n",
    "        cleaned_subj_df = subj_df.copy(deep=True) # prevent setting with copy warning\n",
    "        # \n",
    "        subj_sequence[subj] = subj_df.sequenceName.unique()[0]\n",
    "        \n",
    "        # remove trials that are outside the outlier range\n",
    "        c = 0\n",
    "        c_missed = 0\n",
    "        for idx, row in subj_df.iterrows():\n",
    "            stim1 = row['stimulus_0']\n",
    "            stim2 = row['stimulus_1']\n",
    "            # TEMP SOLUTION FOR RANDOM PHP DATA SAVING PROBLEM \n",
    "            if type(stim1) == str:\n",
    "                if stim1.split('/')[1] in catch_stimuli or stim2.split('/')[1] in catch_stimuli:\n",
    "                    ####### VERSION WHERE CATCH TRIALS ARE ATTENTION CHECK: IMAGE 1 IS THE SAME AS IMAGE 2\n",
    "                    c += 1\n",
    "                    if row[\"discrim_choice\"] == 3:\n",
    "#                         print(row[\"discrim_choice\"])\n",
    "                        count_correct += 1\n",
    "#                     else:\n",
    "#                         print(row[\"discrim_choice\"])\n",
    "                    # remove catch trial \n",
    "                    cleaned_subj_df.drop([idx], inplace=True)\n",
    "    #                 print(depth0, depth1, correct_choice, choice)\n",
    "#         print(c_missed, 'Number of catch trials where participants did not see the target')\n",
    "#         print(c)\n",
    "#         print(count_correct)\n",
    "        if count_correct < correct_requirement:\n",
    "#             print('Number correct:', count_correct)\n",
    "            remove.append(subj)\n",
    "        else:\n",
    "            sequence_count[subj_df.sequenceName.unique()[0]] += 1\n",
    "        \n",
    "        df2_list.append(cleaned_subj_df)\n",
    "    \n",
    "    df2 = pd.concat(df2_list)\n",
    "    print(\"Number of participants that did not pass the catch trial check:\", len(remove))\n",
    "    print(\"Participants that were removed:\",remove)\n",
    "#     print(\"Sequences that need to be replaced:\")\n",
    "#     for subj in remove:\n",
    "#         print(subj_sequence[subj])\n",
    "#     print(\"Sequence count:\")\n",
    "#     print(sequence_count)\n",
    "    for index, row in df2.iterrows():\n",
    "        if row['subjID'] in remove:\n",
    "            df2.drop(index, inplace=True)\n",
    "    \n",
    "    return df2\n",
    "    \n",
    "    "
   ]
  },
  {
   "cell_type": "code",
   "execution_count": 77,
   "metadata": {},
   "outputs": [],
   "source": [
    "# raw_discrim.stimulus_0"
   ]
  },
  {
   "cell_type": "code",
   "execution_count": 8,
   "metadata": {
    "jupyter": {
     "source_hidden": true
    }
   },
   "outputs": [],
   "source": [
    "# all_catch_stim = ['000375_2014-06-08_11-17-29_260595134347_rgbf000133-resize_2',\n",
    "#               '000569_2014-06-09_22-51-47_260595134347_rgbf000141-resize_3',\n",
    "#               '000787_2014-06-08_22-33-53_260595134347_rgbf000175-resize_1',\n",
    "#               '002072_2014-06-24_21-48-06_260595134347_rgbf000115-resize_0',\n",
    "#               '002364_2014-06-28_20-11-05_260595134347_rgbf000042-resize_0',\n",
    "#               '002675_2014-06-13_16-08-49_094959634447_rgbf000151-resize_2',\n",
    "#               '003125_2014-05-12_10-39-22_094959634447_rgbf000100-resize_0',\n",
    "#               '003395_2014-05-20_15-39-18_094959634447_rgbf000101-resize_0',\n",
    "#               '000454_2014-06-08_16-37-28_260595134347_rgbf000048-resize_2',\n",
    "#               '000868_2014-06-09_20-49-52_260595134347_rgbf000064-resize_4',\n",
    "#               '000953_2014-06-08_11-42-19_260595134347_rgbf000083-resize_0',\n",
    "#               '001012_2014-06-08_23-19-38_260595134347_rgbf000057-resize_0',\n",
    "#               '001170_2014-06-17_15-43-44_260595134347_rgbf000096-resize_6',\n",
    "#               '001222_2014-06-17_16-24-06_260595134347_rgbf000073-resize_0',\n",
    "#               '001498_2014-06-19_17-45-14_260595134347_rgbf000129-resize_4',\n",
    "#               '001540_2014-06-20_17-01-05_260595134347_rgbf000086-resize_2']\n",
    "\n",
    "all_catch_stim = ['000375_2014-06-08_11-17-29_260595134347_rgbf000133-resize_2',\n",
    "                  '000569_2014-06-09_22-51-47_260595134347_rgbf000141-resize_3',\n",
    "                  '000787_2014-06-08_22-33-53_260595134347_rgbf000175-resize_1',\n",
    "                  '002072_2014-06-24_21-48-06_260595134347_rgbf000115-resize_0',\n",
    "                  '001170_2014-06-17_15-43-44_260595134347_rgbf000096-resize_6',\n",
    "                  '001222_2014-06-17_16-24-06_260595134347_rgbf000073-resize_0',\n",
    "                  '001498_2014-06-19_17-45-14_260595134347_rgbf000129-resize_4',\n",
    "                  '001540_2014-06-20_17-01-05_260595134347_rgbf000086-resize_2']\n"
   ]
  },
  {
   "cell_type": "code",
   "execution_count": 242,
   "metadata": {},
   "outputs": [
    {
     "name": "stdout",
     "output_type": "stream",
     "text": [
      "Number of participants that did not pass the catch trial check: 86\n",
      "Participants that were removed: [628938.0, 257946.0, 151527.0, 270605.0, 169133.0, 280126.0, 769034.0, 596798.0, 968335.0, 764353.0, 138566.0, 615459.0, 446835.0, 100067.0, 920203.0, 537762.0, 476553.0, 265550.0, 773532.0, 238865.0, 126003.0, 838816.0, 952703.0, 129631.0, 401746.0, 216777.0, 617406.0, 772183.0, 857609.0, 533644.0, 612756.0, 250927.0, 580281.0, 661574.0, 363571.0, 670189.0, 685597.0, 551830.0, 587123.0, 309644.0, 110296.0, 782613.0, 723399.0, 493741.0, 488643.0, 494974.0, 368727.0, 188346.0, 109287.0, 939462.0, 630281.0, 479907.0, 449862.0, 738295.0, 723057.0, 705649.0, 711217.0, 200784.0, 589703.0, 520915.0, 916710.0, 268229.0, 928209.0, 134718.0, 902310.0, 973883.0, 653628.0, 835724.0, 231985.0, 988872.0, 124831.0, 382321.0, 858027.0, 853661.0, 172931.0, 871257.0, 106558.0, 852717.0, 578519.0, 402710.0, 509453.0, 580863.0, 168006.0, 595691.0, 822232.0, 425814.0]\n"
     ]
    }
   ],
   "source": [
    "catch_cleaned_discrim = catchTrial_cleaning(raw_discrim, 7, all_catch_stim)"
   ]
  },
  {
   "cell_type": "code",
   "execution_count": 243,
   "metadata": {},
   "outputs": [
    {
     "data": {
      "text/plain": [
       "array([29, 50, 38, 45, 32, 43, 34, 35, 33, 44, 42, 47, 25, 53, 41, 46, 49,\n",
       "       57, 37, 24, 55, 28, 27, 67, 40, 60, 58, 30, 31, 59, 56, 26])"
      ]
     },
     "execution_count": 243,
     "metadata": {},
     "output_type": "execute_result"
    }
   ],
   "source": [
    "cleaned_ages = catch_cleaned_discrim.age.unique()\n",
    "cleaned_ages"
   ]
  },
  {
   "cell_type": "markdown",
   "metadata": {},
   "source": [
    "\n"
   ]
  },
  {
   "cell_type": "code",
   "execution_count": 13,
   "metadata": {
    "jupyter": {
     "source_hidden": true
    }
   },
   "outputs": [],
   "source": [
    "def RT_cleaning(df, outlier_range, num_trials):\n",
    "    all_subjIDs = df.subjID.unique()\n",
    "    remove = []\n",
    "    df2_list = []\n",
    "    for subj in all_subjIDs:\n",
    "        count = 0\n",
    "        subj_df = df.loc[df['subjID'] == subj]\n",
    "        cleaned_subj_df = subj_df.copy(deep=True) # prevent setting with copy warning\n",
    "        \n",
    "        # calculate subject's average trial RT\n",
    "        average_trial_RT = subj_df[\"trial_RT\"].mean()\n",
    "        std_trial_RT = subj_df[\"trial_RT\"].std()\n",
    "        p_outlier_range = [(average_trial_RT - (3*std_trial_RT)), (average_trial_RT + (3*std_trial_RT))]\n",
    "        \n",
    "        # remove trials that are outside the outlier range\n",
    "        for idx, row in subj_df.iterrows():\n",
    "            RT = row['trial_RT']\n",
    "            if RT < outlier_range[0]:\n",
    "                cleaned_subj_df.drop([idx], inplace=True)\n",
    "                count += 1\n",
    "            if RT > outlier_range[1]:\n",
    "                cleaned_subj_df.drop([idx], inplace=True)\n",
    "                count += 1\n",
    "            try:\n",
    "                if RT < p_outlier_range[0]:\n",
    "                    cleaned_subj_df.drop([idx], inplace=True)\n",
    "                    count += 1\n",
    "                if RT > p_outlier_range[1]:\n",
    "                    cleaned_subj_df.drop([idx], inplace=True)\n",
    "                    count += 1\n",
    "            except:\n",
    "                pass\n",
    "#                 print(\"Trial already removed\")\n",
    "                \n",
    "        threshold = math.floor(num_trials * 0.1)\n",
    "        if count >= threshold:\n",
    "            remove.append(subj)\n",
    "        \n",
    "        df2_list.append(cleaned_subj_df)\n",
    "    \n",
    "    df2 = pd.concat(df2_list)\n",
    "    print(\"Number of Participants with 10% or more trials outside their RT range:\", len(remove))\n",
    "    \n",
    "    for index, row in df2.iterrows():\n",
    "        if row['subjID'] in remove:\n",
    "            df2.drop(index, inplace=True)\n",
    "    \n",
    "    return df2\n"
   ]
  },
  {
   "cell_type": "code",
   "execution_count": 244,
   "metadata": {},
   "outputs": [
    {
     "name": "stdout",
     "output_type": "stream",
     "text": [
      "Number of Participants with 10% or more trials outside their RT range: 3\n"
     ]
    }
   ],
   "source": [
    "cleaned_discrim = RT_cleaning(catch_cleaned_discrim, [250,5000], 94)\n",
    "\n"
   ]
  },
  {
   "cell_type": "code",
   "execution_count": 15,
   "metadata": {
    "jupyter": {
     "source_hidden": true
    }
   },
   "outputs": [],
   "source": [
    "def finalTrialCountCheck(df, num_trials):\n",
    "    \"\"\"\n",
    "    If more then 10% of a participants data is missing, remove the participant\n",
    "    \"\"\"\n",
    "    #List unique values in the df['subjID'] column\\n\",\n",
    "    all_subjIDs = df.subjID.unique()\n",
    "    remove = []\n",
    "    for subj in all_subjIDs:\n",
    "        subj_df = df.loc[df['subjID'] == subj]\n",
    "        count_trials = len(subj_df.index)\n",
    "        threshold_trials_remaining = num_trials - math.floor(num_trials * 0.1)\n",
    "        \n",
    "        if count_trials <= threshold_trials_remaining:\n",
    "            remove.append(subj)\n",
    "    print(\"Number of Participants with >= 10% trials removed:\", len(remove))\n",
    "    \n",
    "    for index, row in df.iterrows():\n",
    "        if row['subjID'] in remove:\n",
    "            df.drop(index, inplace=True)\n",
    "    \n",
    "    print(\"Number of participants left:\",len(df.subjID.unique()))\n",
    "    \n",
    "    return df"
   ]
  },
  {
   "cell_type": "code",
   "execution_count": 245,
   "metadata": {},
   "outputs": [
    {
     "name": "stdout",
     "output_type": "stream",
     "text": [
      "Number of Participants with >= 10% trials removed: 0\n",
      "Number of participants left: 67\n"
     ]
    }
   ],
   "source": [
    "final_discrim = finalTrialCountCheck(cleaned_discrim, 94)"
   ]
  },
  {
   "cell_type": "code",
   "execution_count": 246,
   "metadata": {},
   "outputs": [],
   "source": [
    "# sequences that are completed\n",
    "\n",
    "sampled_urls = final_discrim.url.unique()\n"
   ]
  },
  {
   "cell_type": "markdown",
   "metadata": {},
   "source": [
    "<!-- ## Sequences that need replacing\n",
    "\n",
    "Final N = 192 \n",
    "\n",
    "Each sequence should have 48 participants -->"
   ]
  },
  {
   "cell_type": "code",
   "execution_count": 247,
   "metadata": {},
   "outputs": [
    {
     "data": {
      "text/plain": [
       "array(['http://54.173.230.142/FacialAge/BNav_EC2/DepthDuration/v2_depth_discrimination_MTurk/v2_DepthDiscrim_HTML.html#32',\n",
       "       'http://54.173.230.142/FacialAge/BNav_EC2/DepthDuration/v2_depth_discrimination_MTurk/v2_DepthDiscrim_HTML.html#72',\n",
       "       'http://54.173.230.142/FacialAge/BNav_EC2/DepthDuration/v2_depth_discrimination_MTurk/v2_DepthDiscrim_HTML.html#43',\n",
       "       'http://54.173.230.142/FacialAge/BNav_EC2/DepthDuration/v2_depth_discrimination_MTurk/v2_DepthDiscrim_HTML.html#74',\n",
       "       'http://54.173.230.142/FacialAge/BNav_EC2/DepthDuration/v2_depth_discrimination_MTurk/v2_DepthDiscrim_HTML.html#9',\n",
       "       'http://54.173.230.142/FacialAge/BNav_EC2/DepthDuration/v2_depth_discrimination_MTurk/v2_DepthDiscrim_HTML.html#64',\n",
       "       'http://54.173.230.142/FacialAge/BNav_EC2/DepthDuration/v2_depth_discrimination_MTurk/v2_DepthDiscrim_HTML.html#81',\n",
       "       'http://54.173.230.142/FacialAge/BNav_EC2/DepthDuration/v2_depth_discrimination_MTurk/v2_DepthDiscrim_HTML.html#62',\n",
       "       'http://54.173.230.142/FacialAge/BNav_EC2/DepthDuration/v2_depth_discrimination_MTurk/v2_DepthDiscrim_HTML.html#18',\n",
       "       'http://54.173.230.142/FacialAge/BNav_EC2/DepthDuration/v2_depth_discrimination_MTurk/v2_DepthDiscrim_HTML.html#14',\n",
       "       'http://54.173.230.142/FacialAge/BNav_EC2/DepthDuration/v2_depth_discrimination_MTurk/v2_DepthDiscrim_HTML.html#91',\n",
       "       'http://54.173.230.142/FacialAge/BNav_EC2/DepthDuration/v2_depth_discrimination_MTurk/v2_DepthDiscrim_HTML.html#35',\n",
       "       'http://54.173.230.142/FacialAge/BNav_EC2/DepthDuration/v2_depth_discrimination_MTurk/v2_DepthDiscrim_HTML.html#12',\n",
       "       'http://54.173.230.142/FacialAge/BNav_EC2/DepthDuration/v2_depth_discrimination_MTurk/v2_DepthDiscrim_HTML.html#25',\n",
       "       'http://54.173.230.142/FacialAge/BNav_EC2/DepthDuration/v2_depth_discrimination_MTurk/v2_DepthDiscrim_HTML.html#47',\n",
       "       'http://54.173.230.142/FacialAge/BNav_EC2/DepthDuration/v2_depth_discrimination_MTurk/v2_DepthDiscrim_HTML.html#52',\n",
       "       'http://54.173.230.142/FacialAge/BNav_EC2/DepthDuration/v2_depth_discrimination_MTurk/v2_DepthDiscrim_HTML.html#90',\n",
       "       'http://54.173.230.142/FacialAge/BNav_EC2/DepthDuration/v2_depth_discrimination_MTurk/v2_DepthDiscrim_HTML.html#28',\n",
       "       'http://54.173.230.142/FacialAge/BNav_EC2/DepthDuration/v2_depth_discrimination_MTurk/v2_DepthDiscrim_HTML.html#26',\n",
       "       'http://54.173.230.142/FacialAge/BNav_EC2/DepthDuration/v2_depth_discrimination_MTurk/v2_DepthDiscrim_HTML.html#53',\n",
       "       'http://54.173.230.142/FacialAge/BNav_EC2/DepthDuration/v2_depth_discrimination_MTurk/v2_DepthDiscrim_HTML.html#83',\n",
       "       'http://54.173.230.142/FacialAge/BNav_EC2/DepthDuration/v2_depth_discrimination_MTurk/v2_DepthDiscrim_HTML.html#5',\n",
       "       'http://54.173.230.142/FacialAge/BNav_EC2/DepthDuration/v2_depth_discrimination_MTurk/v2_DepthDiscrim_HTML.html#49',\n",
       "       'http://54.173.230.142/FacialAge/BNav_EC2/DepthDuration/v2_depth_discrimination_MTurk/v2_DepthDiscrim_HTML.html#15',\n",
       "       'http://54.173.230.142/FacialAge/BNav_EC2/DepthDuration/v2_depth_discrimination_MTurk/v2_DepthDiscrim_HTML.html#84',\n",
       "       'http://54.173.230.142/FacialAge/BNav_EC2/DepthDuration/v2_depth_discrimination_MTurk/v2_DepthDiscrim_HTML.html#55',\n",
       "       'http://54.173.230.142/FacialAge/BNav_EC2/DepthDuration/v2_depth_discrimination_MTurk/v2_DepthDiscrim_HTML.html#36',\n",
       "       'http://54.173.230.142/FacialAge/BNav_EC2/DepthDuration/v2_depth_discrimination_MTurk/v2_DepthDiscrim_HTML.html#80',\n",
       "       'http://54.173.230.142/FacialAge/BNav_EC2/DepthDuration/v2_depth_discrimination_MTurk/v2_DepthDiscrim_HTML.html#30',\n",
       "       'http://54.173.230.142/FacialAge/BNav_EC2/DepthDuration/v2_depth_discrimination_MTurk/v2_DepthDiscrim_HTML.html#87',\n",
       "       'http://54.173.230.142/FacialAge/BNav_EC2/DepthDuration/v2_depth_discrimination_MTurk/v2_DepthDiscrim_HTML.html#21',\n",
       "       'http://54.173.230.142/FacialAge/BNav_EC2/DepthDuration/v2_depth_discrimination_MTurk/v2_DepthDiscrim_HTML.html#60',\n",
       "       'http://54.173.230.142/FacialAge/BNav_EC2/DepthDuration/v2_depth_discrimination_MTurk/v2_DepthDiscrim_HTML.html#42',\n",
       "       'http://54.173.230.142/FacialAge/BNav_EC2/DepthDuration/v2_depth_discrimination_MTurk/v2_DepthDiscrim_HTML.html#66',\n",
       "       'http://54.173.230.142/FacialAge/BNav_EC2/DepthDuration/v2_depth_discrimination_MTurk/v2_DepthDiscrim_HTML.html#58',\n",
       "       'http://54.173.230.142/FacialAge/BNav_EC2/DepthDuration/v2_depth_discrimination_MTurk/v2_DepthDiscrim_HTML.html#37',\n",
       "       'http://54.173.230.142/FacialAge/BNav_EC2/DepthDuration/v2_depth_discrimination_MTurk/v2_DepthDiscrim_HTML.html#73',\n",
       "       'http://54.173.230.142/FacialAge/BNav_EC2/DepthDuration/v2_depth_discrimination_MTurk/v2_DepthDiscrim_HTML.html#45',\n",
       "       'http://54.173.230.142/FacialAge/BNav_EC2/DepthDuration/v2_depth_discrimination_MTurk/v2_DepthDiscrim_HTML.html#65',\n",
       "       'http://54.173.230.142/FacialAge/BNav_EC2/DepthDuration/v2_depth_discrimination_MTurk/v2_DepthDiscrim_HTML.html#7',\n",
       "       'http://54.173.230.142/FacialAge/BNav_EC2/DepthDuration/v2_depth_discrimination_MTurk/v2_DepthDiscrim_HTML.html#8',\n",
       "       'http://54.173.230.142/FacialAge/BNav_EC2/DepthDuration/v2_depth_discrimination_MTurk/v2_DepthDiscrim_HTML.html#17',\n",
       "       'http://54.173.230.142/FacialAge/BNav_EC2/DepthDuration/v2_depth_discrimination_MTurk/v2_DepthDiscrim_HTML.html#85',\n",
       "       'http://54.173.230.142/FacialAge/BNav_EC2/DepthDuration/v2_depth_discrimination_MTurk/v2_DepthDiscrim_HTML.html#22',\n",
       "       'http://54.173.230.142/FacialAge/BNav_EC2/DepthDuration/v2_depth_discrimination_MTurk/v2_DepthDiscrim_HTML.html#61',\n",
       "       'http://54.173.230.142/FacialAge/BNav_EC2/DepthDuration/v2_depth_discrimination_MTurk/v2_DepthDiscrim_HTML.html#79',\n",
       "       'http://54.173.230.142/FacialAge/BNav_EC2/DepthDuration/v2_depth_discrimination_MTurk/v2_DepthDiscrim_HTML.html#10',\n",
       "       'http://54.173.230.142/FacialAge/BNav_EC2/DepthDuration/v2_depth_discrimination_MTurk/v2_DepthDiscrim_HTML.html#93',\n",
       "       'http://54.173.230.142/FacialAge/BNav_EC2/DepthDuration/v2_depth_discrimination_MTurk/v2_DepthDiscrim_HTML.html#34',\n",
       "       'http://54.173.230.142/FacialAge/BNav_EC2/DepthDuration/v2_depth_discrimination_MTurk/v2_DepthDiscrim_HTML.html#68',\n",
       "       'http://54.173.230.142/FacialAge/BNav_EC2/DepthDuration/v2_depth_discrimination_MTurk/v2_DepthDiscrim_HTML.html#71',\n",
       "       'http://54.173.230.142/FacialAge/BNav_EC2/DepthDuration/v2_depth_discrimination_MTurk/v2_DepthDiscrim_HTML.html#38',\n",
       "       'http://54.173.230.142/FacialAge/BNav_EC2/DepthDuration/v2_depth_discrimination_MTurk/v2_DepthDiscrim_HTML.html#44',\n",
       "       'http://54.173.230.142/FacialAge/BNav_EC2/DepthDuration/v2_depth_discrimination_MTurk/v2_DepthDiscrim_HTML.html#67',\n",
       "       'http://54.173.230.142/FacialAge/BNav_EC2/DepthDuration/v2_depth_discrimination_MTurk/v2_DepthDiscrim_HTML.html#50',\n",
       "       'http://54.173.230.142/FacialAge/BNav_EC2/DepthDuration/v2_depth_discrimination_MTurk/v2_DepthDiscrim_HTML.html#27',\n",
       "       'http://54.173.230.142/FacialAge/BNav_EC2/DepthDuration/v2_depth_discrimination_MTurk/v2_DepthDiscrim_HTML.html#69',\n",
       "       'http://54.173.230.142/FacialAge/BNav_EC2/DepthDuration/v2_depth_discrimination_MTurk/v2_DepthDiscrim_HTML.html#23',\n",
       "       'http://54.173.230.142/FacialAge/BNav_EC2/DepthDuration/v2_depth_discrimination_MTurk/v2_DepthDiscrim_HTML.html#59',\n",
       "       'http://54.173.230.142/FacialAge/BNav_EC2/DepthDuration/v2_depth_discrimination_MTurk/v2_DepthDiscrim_HTML.html#82',\n",
       "       'http://54.173.230.142/FacialAge/BNav_EC2/DepthDuration/v2_depth_discrimination_MTurk/v2_DepthDiscrim_HTML.html#77',\n",
       "       'http://54.173.230.142/FacialAge/BNav_EC2/DepthDuration/v2_depth_discrimination_MTurk/v2_DepthDiscrim_HTML.html#78',\n",
       "       'http://54.173.230.142/FacialAge/BNav_EC2/DepthDuration/v2_depth_discrimination_MTurk/v2_DepthDiscrim_HTML.html#2',\n",
       "       'http://54.173.230.142/FacialAge/BNav_EC2/DepthDuration/v2_depth_discrimination_MTurk/v2_DepthDiscrim_HTML.html#63'],\n",
       "      dtype=object)"
      ]
     },
     "execution_count": 247,
     "metadata": {},
     "output_type": "execute_result"
    }
   ],
   "source": [
    "sampled_urls"
   ]
  },
  {
   "cell_type": "code",
   "execution_count": 248,
   "metadata": {},
   "outputs": [
    {
     "data": {
      "text/plain": [
       "array([732287., 701929., 169096., 415153., 978955., 287695., 954281.,\n",
       "       806621., 460884., 183853., 959931., 901154., 752831., 867529.,\n",
       "       254093., 388602., 599222., 647515., 945405., 179520., 384426.,\n",
       "       655801., 528433., 294749., 148804., 522038., 371659., 549214.,\n",
       "       363534., 680113., 227280., 799561., 994502., 105875., 848116.,\n",
       "       749559., 203219., 894754., 430903., 271488., 620795., 369194.,\n",
       "       105706., 129930., 694029., 297038., 862822., 979339., 976796.,\n",
       "       315782., 920738., 675852., 762618., 673024., 535106., 745111.,\n",
       "       608549., 284809., 653690., 295021., 557338., 445907., 142868.,\n",
       "       824014., 148212., 672282., 210627.])"
      ]
     },
     "execution_count": 248,
     "metadata": {},
     "output_type": "execute_result"
    }
   ],
   "source": [
    "# final list of subjects \n",
    "final_discrim.subjID.unique()"
   ]
  },
  {
   "cell_type": "markdown",
   "metadata": {},
   "source": [
    "# Correlation with Verbal Report data \n",
    "\n",
    "- For each discrimination trial, get the average difference between the verbal report for those scenes \n",
    "- Correlate that with the proportion correct for that trial \n",
    "- Is there better accuracy for scenes that have a larget percevied depth difference (using the verbal report data)?"
   ]
  },
  {
   "cell_type": "markdown",
   "metadata": {},
   "source": [
    "## Individual Discriminations"
   ]
  },
  {
   "cell_type": "code",
   "execution_count": 20,
   "metadata": {
    "jupyter": {
     "source_hidden": true
    }
   },
   "outputs": [],
   "source": [
    "def get_accuracy(df):\n",
    "    \"\"\"\n",
    "    * ACCURACY BASED ON THE KINECT\n",
    "    args:\n",
    "        df  \n",
    "    returns:\n",
    "        proportion of correct responses, count of correct responses, count of total trials  \n",
    "    \"\"\"\n",
    "    count_correct = 0\n",
    "    count_incorrect = 0\n",
    "    count_total = 0\n",
    "    count_missed = 0\n",
    "    for idx, row in df.iterrows():\n",
    "        choice = row[\"discrim_choice\"]\n",
    "        if choice == 2.0:\n",
    "            count_missed += 1\n",
    "        else:    \n",
    "            count_total += 1\n",
    "            depth0 = row[\"actual_depth_0\"]\n",
    "            depth1 = row[\"actual_depth_1\"]\n",
    "            if depth0 < depth1:\n",
    "                correct_choice = 0\n",
    "            if depth0 > depth1:\n",
    "                correct_choice = 1\n",
    "            if depth0 == depth1:\n",
    "                # case where depths are equal \n",
    "                correct_choice = None\n",
    "            if choice == correct_choice:\n",
    "                count_correct += 1\n",
    "    \n",
    "    return count_correct/count_total, count_correct, count_total, count_missed\n",
    "\n",
    "def get_RT(df):\n",
    "    \"\"\"\n",
    "    args:\n",
    "        df  \n",
    "    returns:\n",
    "        array of RTs, avg RT and std   \n",
    "    \"\"\"\n",
    "    list_RTs = []\n",
    "    for idx, row in df.iterrows():   \n",
    "        stimulus_duration = row['log_sceneDuration2']\n",
    "        RT = row[\"trial_RT\"] - stimulus_duration\n",
    "        list_RTs.append(RT)\n",
    "    \n",
    "    list_RTs = np.array(list_RTs)\n",
    "    \n",
    "    return list_RTs, np.mean(list_RTs) ,np.std(list_RTs)"
   ]
  },
  {
   "cell_type": "code",
   "execution_count": 21,
   "metadata": {
    "jupyter": {
     "source_hidden": true
    }
   },
   "outputs": [],
   "source": [
    "def depth_differences(df):\n",
    "    \"\"\"\n",
    "    args:\n",
    "        df  \n",
    "    returns:\n",
    "        array of depth differences, avg depth differences and std   \n",
    "    \"\"\"\n",
    "    depth_diffs = []\n",
    "    for idx, row in df.iterrows():\n",
    "        depth0 = row[\"actual_depth_0\"]\n",
    "        depth1 = row[\"actual_depth_1\"]\n",
    "        \n",
    "        diff = abs(depth0-depth1)\n",
    "        depth_diffs.append(diff)\n",
    "    \n",
    "    depth_diffs = np.array(depth_diffs)\n",
    "    \n",
    "    return depth_diffs, np.mean(depth_diffs) ,np.std(depth_diffs)\n",
    "    "
   ]
  },
  {
   "cell_type": "code",
   "execution_count": 249,
   "metadata": {},
   "outputs": [],
   "source": [
    "all_depth_diffs = depth_differences(final_discrim)\n",
    "\n",
    "# add depth difference column to dataframe \n",
    "final_discrim.insert(18, \"depth_difference\", all_depth_diffs[0])"
   ]
  },
  {
   "cell_type": "code",
   "execution_count": 23,
   "metadata": {
    "jupyter": {
     "source_hidden": true
    }
   },
   "outputs": [],
   "source": [
    "def individual_discrimination_stats(df):\n",
    "    '''\n",
    "    Individual discrimination performance and RT \n",
    "    '''\n",
    "    all_stim0 = df.stimulus_0.unique()\n",
    "    \n",
    "    stimuli_stats = {}\n",
    "    for stim0 in all_stim0:\n",
    "        stim0_df = df.loc[df['stimulus_0'] == stim0]\n",
    "        other_stim = stim0_df.stimulus_1.unique()[0]\n",
    "        stim1_df = df.loc[df['stimulus_1'] == stim0]\n",
    "        # df for a specific discrimination trial (collapsed on stim presentation order)\n",
    "        stim_df = pd.concat([stim0_df, stim1_df], ignore_index=True)\n",
    "        stim_250_df = stim_df[stim_df['duration'] == 250.0]\n",
    "        stim_1000_df = stim_df[stim_df['duration'] == 1000.0] \n",
    "        \n",
    "        stim_depthdiff = stim_df['depth_difference'][0]\n",
    "        \n",
    "        stim0_depth = stim_df['actual_depth_0'][0]\n",
    "        stim1_depth = stim_df['actual_depth_1'][0]\n",
    "        stim_depthbin = np.mean(np.array([stim0_depth,stim1_depth]))\n",
    "        \n",
    "        try:\n",
    "            stim_acc_250 = get_accuracy(stim_250_df)\n",
    "            stim_acc_1000 = get_accuracy(stim_1000_df)\n",
    "\n",
    "            stim_RT_250 = get_RT(stim_250_df)\n",
    "            stim_RT_1000 = get_RT(stim_1000_df)\n",
    "\n",
    "            stimuli_stats[stim0] = {'stimulus_1': other_stim,\n",
    "                                    'accuracy_250': stim_acc_250,\n",
    "                                    'accuracy_1000': stim_acc_1000,\n",
    "                                    'avg_depth': stim_depthbin,\n",
    "                                    'depthdifference': stim_depthdiff, \n",
    "                                    'RT_250': stim_RT_250,\n",
    "                                    'RT_1000': stim_RT_1000}\n",
    "        except:\n",
    "            pass\n",
    "    \n",
    "    return stimuli_stats"
   ]
  },
  {
   "cell_type": "code",
   "execution_count": 250,
   "metadata": {},
   "outputs": [],
   "source": [
    "all_discrim_performance = individual_discrimination_stats(final_discrim)\n"
   ]
  },
  {
   "cell_type": "markdown",
   "metadata": {},
   "source": [
    "## Load Normalized TAC Verbal Judgement Data\n"
   ]
  },
  {
   "cell_type": "code",
   "execution_count": 251,
   "metadata": {},
   "outputs": [],
   "source": [
    "\n",
    "TAC_normed_individual_trial_data_path = '/Users/prachimahableshwarkar/Documents/GW/Depth_MTurk/depth_duration_analysis/TAC_npy_files/matchedVE/normalized/'\n",
    "\n",
    "# x data\n",
    "with open(TAC_normed_individual_trial_data_path + 'n_X_250.npy' , 'rb') as f:\n",
    "    n_TAC_X_250 = np.load(f, allow_pickle=True)\n",
    "\n",
    "with open(TAC_normed_individual_trial_data_path + 'n_X_1000.npy' , 'rb') as f:\n",
    "    n_TAC_X_1000 = np.load(f, allow_pickle=True)\n",
    "# y data \n",
    "with open(TAC_normed_individual_trial_data_path + 'n_final_y_250.npy' , 'rb') as f:\n",
    "    n_TAC_final_y_250 = np.load(f, allow_pickle=True)\n",
    "    \n",
    "with open(TAC_normed_individual_trial_data_path + 'n_final_y_1000.npy' , 'rb') as f:\n",
    "    n_TAC_final_y_1000= np.load(f, allow_pickle=True)\n",
    "\n",
    "# std data\n",
    "with open(TAC_normed_individual_trial_data_path + 'n_std_250.npy' , 'rb') as f:\n",
    "    n_TAC_std_250 = np.load(f, allow_pickle=True)\n",
    "\n",
    "with open(TAC_normed_individual_trial_data_path + 'n_std_1000.npy' , 'rb') as f:\n",
    "    n_TAC_std_1000 = np.load(f, allow_pickle=True)\n",
    "    \n",
    "# ste data\n",
    "with open(TAC_normed_individual_trial_data_path + 'n_ste_250.npy' , 'rb') as f:\n",
    "    n_TAC_ste_250 = np.load(f, allow_pickle=True)\n",
    "\n",
    "with open(TAC_normed_individual_trial_data_path + 'n_ste_1000.npy' , 'rb') as f:\n",
    "    n_TAC_ste_1000 = np.load(f, allow_pickle=True)\n",
    "\n",
    "# stim data\n",
    "with open(TAC_normed_individual_trial_data_path + 'n_final_stim_250.npy' , 'rb') as f:\n",
    "    TAC_final_stim_250 = np.load(f, allow_pickle=True)\n",
    "\n",
    "with open(TAC_normed_individual_trial_data_path + 'n_final_stim_1000.npy' , 'rb') as f:\n",
    "    TAC_final_stim_1000 = np.load(f, allow_pickle=True)"
   ]
  },
  {
   "cell_type": "code",
   "execution_count": null,
   "metadata": {},
   "outputs": [],
   "source": [
    "\n"
   ]
  },
  {
   "cell_type": "markdown",
   "metadata": {},
   "source": [
    "# Code depth discrimination correctness by the verbal judgement data \n",
    "\n",
    "Create new 'ground truth' answer based on verbal judgement data\n",
    "\n",
    "Task: Respond which image's target was closer to you"
   ]
  },
  {
   "cell_type": "code",
   "execution_count": null,
   "metadata": {},
   "outputs": [],
   "source": []
  },
  {
   "cell_type": "markdown",
   "metadata": {},
   "source": [
    "## Normalized VE Data"
   ]
  },
  {
   "cell_type": "code",
   "execution_count": 254,
   "metadata": {},
   "outputs": [],
   "source": [
    "n_VE_answerkey_250 = {} # corresponding answer key for discrimination trials  \n",
    "\n",
    "for key in all_discrim_performance.keys():\n",
    "    targetimg0 = key.split('/')[-1]\n",
    "    folder0 = targetimg0[:-11]\n",
    "    depth_dur_path0 = 'depth_duration_stimuli/' + folder0 + '/' + targetimg0\n",
    "    idx0 = np.where(TAC_final_stim_250 == depth_dur_path0)[0][0]\n",
    "    avg_estim_stim0 = n_TAC_final_y_250[idx0]\n",
    "    std0 = n_TAC_std_250[idx0]\n",
    "    ste0 = n_TAC_ste_250[idx0]\n",
    "    \n",
    "    targetimg1 = all_discrim_performance[key]['stimulus_1'].split('/')[-1]\n",
    "    folder1 = targetimg1[:-11]\n",
    "    depth_dur_path1 = 'depth_duration_stimuli/' + folder1 + '/' + targetimg1\n",
    "    idx1= np.where(TAC_final_stim_250 == depth_dur_path1)[0][0]\n",
    "    avg_estim_stim1 = n_TAC_final_y_250[idx1]\n",
    "    std1 = n_TAC_std_250[idx1]\n",
    "    ste1 = n_TAC_ste_250[idx1]\n",
    "\n",
    "    if avg_estim_stim0 < avg_estim_stim1:\n",
    "        # Which target is CLOSER to you?\n",
    "        answer = targetimg0\n",
    "    if avg_estim_stim0 == avg_estim_stim1:\n",
    "        print(targetimg0, targetimg1)\n",
    "    if avg_estim_stim0 > avg_estim_stim1:\n",
    "        answer = targetimg1\n",
    "\n",
    "    n_VE_answerkey_250[key] = {'stimulus_1': targetimg1,\n",
    "                             'stimulus_0_avg_estim': avg_estim_stim0,\n",
    "                             'stimulus_1_avg_estim': avg_estim_stim1,\n",
    "                             'answer': answer,\n",
    "                             'std0': std0,\n",
    "                             'std1': std1}\n",
    "    "
   ]
  },
  {
   "cell_type": "code",
   "execution_count": 255,
   "metadata": {},
   "outputs": [
    {
     "data": {
      "text/plain": [
       "(94,\n",
       " {'stimulus_1': '001516_2014-06-20_16-25-09_260595134347_rgbf000076-resize_2-target.png',\n",
       "  'stimulus_0_avg_estim': 0.9242508183521803,\n",
       "  'stimulus_1_avg_estim': 0.7370865227235875,\n",
       "  'answer': '001516_2014-06-20_16-25-09_260595134347_rgbf000076-resize_2-target.png',\n",
       "  'std0': 0.27428881172705005,\n",
       "  'std1': 0.27445663147335386})"
      ]
     },
     "execution_count": 255,
     "metadata": {},
     "output_type": "execute_result"
    }
   ],
   "source": [
    "len(n_VE_answerkey_250), n_VE_answerkey_250['depth_discrimination_stimuli/002118_2014-06-25_20-32-08_260595134347_rgbf000078-resize_1/002118_2014-06-25_20-32-08_260595134347_rgbf000078-resize_1-target.png']\n"
   ]
  },
  {
   "cell_type": "code",
   "execution_count": 256,
   "metadata": {},
   "outputs": [],
   "source": [
    "n_VE_answerkey_1000 = {} # corresponding answer key for discrimination trials  \n",
    "\n",
    "for key in all_discrim_performance.keys():\n",
    "    targetimg0 = key.split('/')[-1]\n",
    "    folder0 = targetimg0[:-11]\n",
    "    depth_dur_path0 = 'depth_duration_stimuli/' + folder0 + '/' + targetimg0\n",
    "    idx0 = np.where(TAC_final_stim_1000 == depth_dur_path0)[0][0]\n",
    "    avg_estim_stim0 = n_TAC_final_y_1000[idx0]\n",
    "    std0 = n_TAC_std_1000[idx0]\n",
    "\n",
    "    targetimg1 = all_discrim_performance[key]['stimulus_1'].split('/')[-1]\n",
    "    folder1 = targetimg1[:-11]\n",
    "    depth_dur_path1 = 'depth_duration_stimuli/' + folder1 + '/' + targetimg1\n",
    "    idx1= np.where(TAC_final_stim_1000 == depth_dur_path1)[0][0]\n",
    "    avg_estim_stim1 = n_TAC_final_y_1000[idx1]\n",
    "    std1 = n_TAC_std_1000[idx1]\n",
    "    \n",
    "    if avg_estim_stim0 < avg_estim_stim1:\n",
    "        # Which target is CLOSER to you?\n",
    "        answer = targetimg0\n",
    "    if avg_estim_stim0 == avg_estim_stim1:\n",
    "        print(targetimg0, targetimg1)\n",
    "    if avg_estim_stim0 > avg_estim_stim1:\n",
    "        answer = targetimg1\n",
    "\n",
    "    n_VE_answerkey_1000[key] = {'stimulus_1': targetimg1,\n",
    "                             'stimulus_0_avg_estim': avg_estim_stim0,\n",
    "                             'stimulus_1_avg_estim': avg_estim_stim1,\n",
    "                             'answer': answer,\n",
    "                             'std0': std0,\n",
    "                             'std1': std1}\n",
    "    "
   ]
  },
  {
   "cell_type": "code",
   "execution_count": 257,
   "metadata": {},
   "outputs": [
    {
     "data": {
      "text/plain": [
       "(94,\n",
       " {'stimulus_1': '001516_2014-06-20_16-25-09_260595134347_rgbf000076-resize_2-target.png',\n",
       "  'stimulus_0_avg_estim': 0.898978198617639,\n",
       "  'stimulus_1_avg_estim': 0.7407587332590784,\n",
       "  'answer': '001516_2014-06-20_16-25-09_260595134347_rgbf000076-resize_2-target.png',\n",
       "  'std0': 0.2727739538229376,\n",
       "  'std1': 0.18364927558121846})"
      ]
     },
     "execution_count": 257,
     "metadata": {},
     "output_type": "execute_result"
    }
   ],
   "source": [
    "len(n_VE_answerkey_1000), n_VE_answerkey_1000['depth_discrimination_stimuli/002118_2014-06-25_20-32-08_260595134347_rgbf000078-resize_1/002118_2014-06-25_20-32-08_260595134347_rgbf000078-resize_1-target.png']\n"
   ]
  },
  {
   "cell_type": "markdown",
   "metadata": {},
   "source": [
    "### VE Coded Accuracy"
   ]
  },
  {
   "cell_type": "code",
   "execution_count": 258,
   "metadata": {},
   "outputs": [],
   "source": [
    "def VE_accuracy(stim0, df, answerkey):\n",
    "    '''\n",
    "    Accuracy based on the verbal judgement data \n",
    "    '''\n",
    "    \n",
    "    \"\"\"\n",
    "    args:\n",
    "        df  \n",
    "    returns:\n",
    "        proportion of correct responses, count of correct responses, count of total trials  \n",
    "    \"\"\"\n",
    "    count_correct = 0\n",
    "    count_incorrect = 0\n",
    "    count_total = 0\n",
    "    count_missed = 0\n",
    "    \n",
    "    VE_correct_answer = answerkey[stim0]['answer']\n",
    "    for idx, row in df.iterrows(): \n",
    "        choice = row[\"discrim_choice\"]\n",
    "        count_total += 1\n",
    "        if choice == 0.0:\n",
    "            image_choice = row[\"stimulus_0\"]\n",
    "                \n",
    "        if choice == 1.0:\n",
    "            image_choice = row[\"stimulus_1\"]\n",
    "                \n",
    "        if choice == 2.0:\n",
    "            count_missed += 1\n",
    "            \n",
    "        if choice == 3.0:\n",
    "            count_missed += 1\n",
    "        \n",
    "        try:\n",
    "            if image_choice.split('/')[-1] == VE_correct_answer:\n",
    "                count_correct += 1\n",
    "        except:\n",
    "            pass\n",
    "        \n",
    "#     standardError = (0.5*(1-0.5))/count_total\n",
    "    p = count_correct/count_total\n",
    "    standardError = np.sqrt((p*(1-p))/count_total)\n",
    "    \n",
    "    return count_correct/count_total, count_correct, count_total, count_missed, standardError\n",
    "\n",
    "    \n",
    "def main_VE_accuracy(df, answerkey_250, answerkey_1000):\n",
    "    all_stim0 = df.stimulus_0.unique()\n",
    "    \n",
    "    stimuli_stats = {}\n",
    "    for stim0 in all_stim0:\n",
    "        try:\n",
    "            # dataframe for stimulus 0\n",
    "            stim0_df = df.loc[df['stimulus_0'] == stim0]\n",
    "            # name of stimulus 1\n",
    "            other_stim = stim0_df.stimulus_1.unique()[0]\n",
    "            # dataframe where stimulus 0 is presented SECOND (same trial)\n",
    "            stim1_df = df.loc[df['stimulus_1'] == stim0]\n",
    "\n",
    "            # df for a specific discrimination trial (collapsed on stim presentation order)\n",
    "            stim_df = pd.concat([stim0_df, stim1_df], ignore_index=True)\n",
    "            stim_250_df = stim_df[stim_df['duration'] == 250.0]\n",
    "            stim_1000_df = stim_df[stim_df['duration'] == 1000.0] \n",
    "\n",
    "            stim0_depth = stim_df['actual_depth_0'][0]\n",
    "            stim1_depth = stim_df['actual_depth_1'][0]\n",
    "            stim_depthbin = np.mean(np.array([stim0_depth,stim1_depth]))\n",
    "\n",
    "            stim_acc_250 = VE_accuracy(stim0, stim_250_df, answerkey_250)\n",
    "            stim_acc_1000 = VE_accuracy(stim0, stim_1000_df, answerkey_1000)\n",
    "\n",
    "            stim_RT_250 = get_RT(stim_250_df)\n",
    "            stim_RT_1000 = get_RT(stim_1000_df)\n",
    "\n",
    "            # difference between verbal judgements divided by joint variance \n",
    "            # abs(VE1-VE2)/sqrt(stda^2 + std2^2)\n",
    "            std0_250 = answerkey_250[stim0]['std0']\n",
    "            std1_250 = answerkey_250[stim0]['std1']\n",
    "            joint_variance_250 = np.sqrt(std0_250**2 + std1_250**2)\n",
    "            JV_regressor_250 = abs(answerkey_250[stim0]['stimulus_0_avg_estim'] - answerkey_250[stim0]['stimulus_1_avg_estim'])/joint_variance_250\n",
    "\n",
    "            std0_1000 = answerkey_1000[stim0]['std0']\n",
    "            std1_1000 = answerkey_1000[stim0]['std1']\n",
    "            joint_variance_1000 = np.sqrt(std0_1000**2 + std1_1000**2)\n",
    "            JV_regressor_1000 = abs(answerkey_1000[stim0]['stimulus_0_avg_estim'] - answerkey_1000[stim0]['stimulus_1_avg_estim'])/joint_variance_1000\n",
    "\n",
    "            stimuli_stats[stim0] = {'stimulus_1': other_stim,\n",
    "                                    'accuracy_250': stim_acc_250,\n",
    "                                    'accuracy_1000': stim_acc_1000,\n",
    "                                    'avg_depth': stim_depthbin,\n",
    "                                    'VE_depthdifference_250': abs(answerkey_250[stim0]['stimulus_0_avg_estim'] - answerkey_250[stim0]['stimulus_1_avg_estim']), \n",
    "                                    'VE_depthdifference_1000': abs(answerkey_1000[stim0]['stimulus_0_avg_estim'] - answerkey_1000[stim0]['stimulus_1_avg_estim']),\n",
    "                                    'RT_250': stim_RT_250,\n",
    "                                    'RT_1000': stim_RT_1000,\n",
    "                                    'JV_regressor_250': JV_regressor_250,\n",
    "                                    'JV_regressor_1000': JV_regressor_1000}\n",
    "        except:\n",
    "            print(stim0)\n",
    "\n",
    "    return stimuli_stats\n",
    "    "
   ]
  },
  {
   "cell_type": "code",
   "execution_count": 259,
   "metadata": {},
   "outputs": [],
   "source": [
    "n_all_VE_discrim_performance = main_VE_accuracy(final_discrim, n_VE_answerkey_250, n_VE_answerkey_1000) "
   ]
  },
  {
   "cell_type": "code",
   "execution_count": 260,
   "metadata": {},
   "outputs": [
    {
     "data": {
      "text/plain": [
       "94"
      ]
     },
     "execution_count": 260,
     "metadata": {},
     "output_type": "execute_result"
    }
   ],
   "source": [
    "len(n_all_VE_discrim_performance)\n"
   ]
  },
  {
   "cell_type": "code",
   "execution_count": 261,
   "metadata": {},
   "outputs": [],
   "source": [
    "n_VE_estim_diff_250 = [n_all_VE_discrim_performance[elem]['VE_depthdifference_250'] for elem in n_all_VE_discrim_performance]\n",
    "n_VE_estim_diff_1000 = [n_all_VE_discrim_performance[elem]['VE_depthdifference_1000'] for elem in n_all_VE_discrim_performance]\n",
    "\n",
    "n_VE_accuracy_250 = [n_all_VE_discrim_performance[elem]['accuracy_250'][0] for elem in n_all_VE_discrim_performance]\n",
    "n_VE_accuracy_1000 = [n_all_VE_discrim_performance[elem]['accuracy_1000'][0] for elem in n_all_VE_discrim_performance]\n",
    "\n",
    "n_VE_ste_250 = [n_all_VE_discrim_performance[elem]['accuracy_250'][-1] for elem in n_all_VE_discrim_performance]\n",
    "n_VE_ste_1000 = [n_all_VE_discrim_performance[elem]['accuracy_1000'][-1] for elem in n_all_VE_discrim_performance]\n",
    "\n",
    "n_avg_RT_250 = [n_all_VE_discrim_performance[elem]['RT_250'][1] for elem in n_all_VE_discrim_performance]\n",
    "n_avg_RT_1000 = [n_all_VE_discrim_performance[elem]['RT_1000'][1] for elem in n_all_VE_discrim_performance]\n",
    "\n",
    "n_JV_250 = [n_all_VE_discrim_performance[elem]['JV_regressor_250'] for elem in n_all_VE_discrim_performance]\n",
    "n_JV_1000 = [n_all_VE_discrim_performance[elem]['JV_regressor_1000'] for elem in n_all_VE_discrim_performance]\n",
    "\n",
    "n_stim = [elem for elem in n_all_VE_discrim_performance]"
   ]
  },
  {
   "cell_type": "markdown",
   "metadata": {},
   "source": [
    "#### Overall Accuracy: Coded by Normalized VE"
   ]
  },
  {
   "cell_type": "code",
   "execution_count": 262,
   "metadata": {},
   "outputs": [
    {
     "data": {
      "text/plain": [
       "(0.7288230942745119, 0.7677934837596359)"
      ]
     },
     "execution_count": 262,
     "metadata": {},
     "output_type": "execute_result"
    }
   ],
   "source": [
    "np.mean(n_VE_accuracy_250), np.mean(n_VE_accuracy_1000)"
   ]
  },
  {
   "cell_type": "code",
   "execution_count": 263,
   "metadata": {},
   "outputs": [
    {
     "name": "stdout",
     "output_type": "stream",
     "text": [
      "250 ms: Correlation between VE discrimination accuracy and average normalized verbal estimate difference\n"
     ]
    },
    {
     "data": {
      "text/plain": [
       "(0.6813164698931831, 4.1186343859928136e-14)"
      ]
     },
     "execution_count": 263,
     "metadata": {},
     "output_type": "execute_result"
    }
   ],
   "source": [
    "print('250 ms: Correlation between VE discrimination accuracy and average normalized verbal estimate difference')\n",
    "stats.pearsonr(n_VE_accuracy_250, n_VE_estim_diff_250)"
   ]
  },
  {
   "cell_type": "code",
   "execution_count": 264,
   "metadata": {},
   "outputs": [
    {
     "name": "stdout",
     "output_type": "stream",
     "text": [
      "1000 ms: Correlation between VE discrimination accuracy and average normalized verbal estimate difference\n"
     ]
    },
    {
     "data": {
      "text/plain": [
       "(0.6424498062532304, 2.9567844289966717e-12)"
      ]
     },
     "execution_count": 264,
     "metadata": {},
     "output_type": "execute_result"
    }
   ],
   "source": [
    "print('1000 ms: Correlation between VE discrimination accuracy and average normalized verbal estimate difference')\n",
    "stats.pearsonr(n_VE_accuracy_1000, n_VE_estim_diff_1000)"
   ]
  },
  {
   "cell_type": "code",
   "execution_count": 265,
   "metadata": {
    "collapsed": true,
    "jupyter": {
     "outputs_hidden": true
    }
   },
   "outputs": [
    {
     "data": {
      "image/png": "[encoded data removed]",
      "text/plain": [
       "<Figure size 864x432 with 1 Axes>"
      ]
     },
     "metadata": {
      "needs_background": "light"
     },
     "output_type": "display_data"
    }
   ],
   "source": [
    "plt.figure(figsize=[12,6])\n",
    "plt.plot(np.array(n_VE_estim_diff_250), np.array(n_VE_accuracy_250), 'go', label='250 ms')\n",
    "plt.plot(np.array(n_VE_estim_diff_1000), np.array(n_VE_accuracy_1000), 'ro', label='1000 ms')\n",
    "plt.xlabel('Average Normalized Verbal Estimate Difference', fontsize=15)\n",
    "plt.ylabel('VE Discrimination Proportion Correct', fontsize = 15)\n",
    "plt.legend(fontsize = 12)\n",
    "plt.title('VE Discrimination Proportion Correct vs Avg Normalized Verbal Estimate Difference', fontsize = 18)\n",
    "plt.show();"
   ]
  },
  {
   "cell_type": "code",
   "execution_count": 266,
   "metadata": {},
   "outputs": [],
   "source": [
    "def get_super(x):\n",
    "    normal = \"ABCDEFGHIJKLMNOPQRSTUVWXYZabcdefghijklmnopqrstuvwxyz0123456789+-=()\"\n",
    "    super_s = \"ᴬᴮᶜᴰᴱᶠᴳᴴᴵᴶᴷᴸᴹᴺᴼᴾQᴿˢᵀᵁⱽᵂˣʸᶻᵃᵇᶜᵈᵉᶠᵍʰᶦʲᵏˡᵐⁿᵒᵖ۹ʳˢᵗᵘᵛʷˣʸᶻ⁰¹²³⁴⁵⁶⁷⁸⁹⁺⁻⁼⁽⁾\"\n",
    "    res = x.maketrans(''.join(normal), ''.join(super_s))\n",
    "    return x.translate(res)"
   ]
  },
  {
   "cell_type": "code",
   "execution_count": 267,
   "metadata": {},
   "outputs": [
    {
     "name": "stdout",
     "output_type": "stream",
     "text": [
      "m: [0.70913526]\n",
      "b: 0.5387185980136969\n",
      "R-squared:  0.4641921321477085\n"
     ]
    },
    {
     "data": {
      "image/png": "[encoded data removed]",
      "text/plain": [
       "<Figure size 576x576 with 1 Axes>"
      ]
     },
     "metadata": {
      "needs_background": "light"
     },
     "output_type": "display_data"
    }
   ],
   "source": [
    "fig, ax = plt.subplots(figsize=[8,8])\n",
    "right_side = ax.spines['right']\n",
    "right_side.set_visible(False)\n",
    "top = ax.spines['top']\n",
    "top.set_visible(False)\n",
    "\n",
    "\n",
    "#run regression\n",
    "VE_X_250 = np.array(n_VE_estim_diff_250).reshape(-1,1)\n",
    "VE_PC_250 = n_VE_accuracy_250\n",
    "VE_PC_reg_250 = LinearRegression().fit(VE_X_250, VE_PC_250)\n",
    "\n",
    "#Generated Predictions\n",
    "PC_predicted_250 = VE_PC_reg_250.predict(VE_X_250)\n",
    "#Plot Our Actual and Predicted Values\n",
    "plt.errorbar(VE_X_250, VE_PC_250,elinewidth=1, ecolor='gray', fmt='or', mfc='white', mec='chocolate', capsize=3, alpha = 0.3, yerr = np.array(n_VE_ste_250));\n",
    "\n",
    "\n",
    "plt.plot(VE_X_250, VE_PC_250, 'o', color='chocolate', alpha = 0.3);\n",
    "plt.plot(VE_X_250, PC_predicted_250,color='chocolate', label = 'm = ' + str(round(VE_PC_reg_250.coef_[0], 3))\n",
    "         + '     r' + get_super('2') + ' = '+ str(round(float(VE_PC_reg_250.score(VE_X_250, VE_PC_250)), 3)))\n",
    "plt.xlabel(\"Average Normalized Verbal Estimate Difference (m)\", fontsize = 15)\n",
    "plt.ylabel(\"VE Discrimination Proportion Correct\", fontsize = 15)\n",
    "\n",
    "#get coefficients and y intercept\n",
    "print(\"m: {0}\".format(VE_PC_reg_250.coef_))\n",
    "print(\"b: {0}\".format(VE_PC_reg_250.intercept_))\n",
    "\n",
    "#Returns the coefficient of determination R^2 of the prediction.\n",
    "print(\"R-squared: \", VE_PC_reg_250.score(VE_X_250, VE_PC_250))\n",
    "\n",
    "legend = plt.legend(loc = 4, fontsize=13, labelspacing=1, frameon=False)\n",
    "\n",
    "plt.title(\"250 ms: Accuracy\", fontsize = 20)\n",
    "plt.xticks(np.arange(0,1.2, 0.2))\n",
    "plt.yticks(np.arange(0,1.2, 0.2))\n",
    "\n",
    "fig.tight_layout()\n",
    "\n",
    "plt.show();"
   ]
  },
  {
   "cell_type": "code",
   "execution_count": null,
   "metadata": {},
   "outputs": [],
   "source": []
  },
  {
   "cell_type": "code",
   "execution_count": 268,
   "metadata": {},
   "outputs": [
    {
     "name": "stdout",
     "output_type": "stream",
     "text": [
      "m: [0.61989339]\n",
      "b: 0.6056980457458095\n",
      "R-squared:  0.4127417535548136\n"
     ]
    },
    {
     "data": {
      "image/png": "[encoded data removed]",
      "text/plain": [
       "<Figure size 576x576 with 1 Axes>"
      ]
     },
     "metadata": {
      "needs_background": "light"
     },
     "output_type": "display_data"
    }
   ],
   "source": [
    "fig, ax = plt.subplots(figsize=[8,8])\n",
    "right_side = ax.spines['right']\n",
    "right_side.set_visible(False)\n",
    "top = ax.spines['top']\n",
    "top.set_visible(False)\n",
    "\n",
    "\n",
    "VE_X_1000 = np.array(n_VE_estim_diff_1000).reshape(-1,1)\n",
    "VE_PC_1000 = n_VE_accuracy_1000\n",
    "VE_PC_reg_1000 = LinearRegression().fit(VE_X_1000, VE_PC_1000)\n",
    "\n",
    "#Generated Predictions\n",
    "PC_predicted_1000 = VE_PC_reg_1000.predict(VE_X_1000)\n",
    "#Plot Our Actual and Predicted Values\n",
    "plt.errorbar(VE_X_1000, VE_PC_1000, elinewidth=1, ecolor='gray', fmt='or', mfc='white', mec='darkviolet', capsize=3, alpha = 0.3, yerr = np.array(n_VE_ste_1000));\n",
    "plt.plot(VE_X_1000, VE_PC_1000, 'o', color='darkviolet', alpha = 0.3);\n",
    "plt.plot(VE_X_1000, PC_predicted_1000,color='darkviolet', label = 'm = ' + str(round(VE_PC_reg_1000.coef_[0], 3))\n",
    "         + '     r' + get_super('2') + ' = '+ str(round(float(VE_PC_reg_1000.score(VE_X_1000, VE_PC_1000)), 3)))\n",
    "\n",
    "legend = plt.legend(loc = 4, fontsize=13, labelspacing=1, frameon=False)\n",
    "\n",
    "#get coefficients and y intercept\n",
    "print(\"m: {0}\".format(VE_PC_reg_1000.coef_))\n",
    "print(\"b: {0}\".format(VE_PC_reg_1000.intercept_))\n",
    "\n",
    "#Returns the coefficient of determination R^2 of the prediction.\n",
    "print(\"R-squared: \", VE_PC_reg_1000.score(VE_X_1000, VE_PC_1000))\n",
    "\n",
    "plt.xlabel(\"Average Normalized Verbal Estimate Difference (m)\", fontsize = 15)\n",
    "plt.ylabel(\"VE Proportion Correct\", fontsize = 15)\n",
    "\n",
    "\n",
    "plt.title(\"1000 ms: Accuracy\", fontsize = 20)\n",
    "\n",
    "plt.xticks(np.arange(0,1.2, 0.2))\n",
    "plt.yticks(np.arange(0,1.2, 0.2))\n",
    "\n",
    "fig.tight_layout()\n",
    "\n",
    "plt.show();"
   ]
  },
  {
   "cell_type": "code",
   "execution_count": 269,
   "metadata": {},
   "outputs": [
    {
     "data": {
      "text/plain": [
       "(0.5884670491718972, 4.4506497936597704e-10)"
      ]
     },
     "execution_count": 269,
     "metadata": {},
     "output_type": "execute_result"
    }
   ],
   "source": [
    "stats.pearsonr(n_VE_accuracy_250, n_VE_accuracy_1000)"
   ]
  },
  {
   "cell_type": "code",
   "execution_count": 270,
   "metadata": {},
   "outputs": [
    {
     "data": {
      "text/plain": [
       "[<matplotlib.lines.Line2D at 0x7fae4030d210>]"
      ]
     },
     "execution_count": 270,
     "metadata": {},
     "output_type": "execute_result"
    },
    {
     "data": {
      "image/png": "[encoded data removed]",
      "text/plain": [
       "<Figure size 504x504 with 1 Axes>"
      ]
     },
     "metadata": {
      "needs_background": "light"
     },
     "output_type": "display_data"
    }
   ],
   "source": [
    "plt.figure(figsize=[7,7])\n",
    "plt.xlabel('Proportion Correct @ 250 ms', fontsize=15)\n",
    "plt.ylabel('Proportion Correct @ 1000 ms', fontsize=15)\n",
    "plt.plot(n_VE_accuracy_250,n_VE_accuracy_1000, 'o' )"
   ]
  },
  {
   "cell_type": "code",
   "execution_count": null,
   "metadata": {},
   "outputs": [],
   "source": []
  },
  {
   "cell_type": "markdown",
   "metadata": {},
   "source": [
    "# UPDATED REGRESSOR: Difference between verbal judgements divided by joint variance "
   ]
  },
  {
   "cell_type": "code",
   "execution_count": 271,
   "metadata": {},
   "outputs": [
    {
     "name": "stdout",
     "output_type": "stream",
     "text": [
      "250 ms: Correlation between VE discrimination accuracy and difference between normalized verbal judgements divided by joint variance \n"
     ]
    },
    {
     "data": {
      "text/plain": [
       "(0.6693733303062175, 1.639381575256012e-13)"
      ]
     },
     "execution_count": 271,
     "metadata": {},
     "output_type": "execute_result"
    }
   ],
   "source": [
    "print('250 ms: Correlation between VE discrimination accuracy and difference between normalized verbal judgements divided by joint variance ')\n",
    "stats.pearsonr(n_VE_accuracy_250, n_JV_250)"
   ]
  },
  {
   "cell_type": "code",
   "execution_count": 272,
   "metadata": {},
   "outputs": [
    {
     "name": "stdout",
     "output_type": "stream",
     "text": [
      "1000 ms: Correlation between VE discrimination accuracy and difference between verbal judgements divided by joint variance \n"
     ]
    },
    {
     "data": {
      "text/plain": [
       "(0.6947230358293165, 8.06677359594971e-15)"
      ]
     },
     "execution_count": 272,
     "metadata": {},
     "output_type": "execute_result"
    }
   ],
   "source": [
    "print('1000 ms: Correlation between VE discrimination accuracy and difference between verbal judgements divided by joint variance ')\n",
    "stats.pearsonr(n_VE_accuracy_1000, n_JV_1000)"
   ]
  },
  {
   "cell_type": "code",
   "execution_count": 273,
   "metadata": {},
   "outputs": [
    {
     "name": "stdout",
     "output_type": "stream",
     "text": [
      "m: [0.30760865]\n",
      "b: 0.556692487410006\n",
      "R-squared:  0.44806065532523653\n"
     ]
    },
    {
     "data": {
      "text/plain": [
       "Text(0.5, 1.0, '250 ms')"
      ]
     },
     "execution_count": 273,
     "metadata": {},
     "output_type": "execute_result"
    },
    {
     "data": {
      "image/png": "[encoded data removed]",
      "text/plain": [
       "<Figure size 576x432 with 1 Axes>"
      ]
     },
     "metadata": {
      "needs_background": "light"
     },
     "output_type": "display_data"
    }
   ],
   "source": [
    "#run regression\n",
    "plt.figure(figsize=[8,6])\n",
    "JV_X_250 = np.array(n_JV_250).reshape(-1,1)\n",
    "VE_PC_250 = n_VE_accuracy_250\n",
    "JV_PC_reg_250 = LinearRegression().fit(JV_X_250, VE_PC_250)\n",
    "\n",
    "#Generated Predictions\n",
    "JV_PC_predicted_250 = JV_PC_reg_250.predict(JV_X_250)\n",
    "#Plot Our Actual and Predicted Values\n",
    "plt.plot(JV_X_250, VE_PC_250, 'o', color='chocolate', alpha = 0.3);\n",
    "plt.plot(JV_X_250, JV_PC_predicted_250,color='chocolate', label = 'm = ' + str(round(JV_PC_reg_250.coef_[0], 3))\n",
    "         + '     r-squared = ' + str(round(float(JV_PC_reg_250.score(JV_X_250, VE_PC_250)), 3)))\n",
    "plt.xlabel(\"Difference between normalized verbal judgements divided by joint variance\", fontsize = 15)\n",
    "plt.ylabel(\"VE Discrimination Proportion Correct\", fontsize = 15)\n",
    "\n",
    "#get coefficients and y intercept\n",
    "print(\"m: {0}\".format(JV_PC_reg_250.coef_))\n",
    "print(\"b: {0}\".format(JV_PC_reg_250.intercept_))\n",
    "\n",
    "#Returns the coefficient of determination R^2 of the prediction.\n",
    "print(\"R-squared: \", JV_PC_reg_250.score(JV_X_250, VE_PC_250))\n",
    "\n",
    "# plt.xticks(np.arange(0,3, 0.2))\n",
    "plt.yticks(np.arange(0,1.2, 0.2))\n",
    "\n",
    "legend = plt.legend(loc = 4, fontsize = 13, borderpad = 0.6, labelspacing = 1)\n",
    "legend.get_frame().set_facecolor('lightgray')\n",
    "\n",
    "plt.title(\"250 ms\", fontsize = 20)\n"
   ]
  },
  {
   "cell_type": "code",
   "execution_count": 274,
   "metadata": {},
   "outputs": [
    {
     "name": "stdout",
     "output_type": "stream",
     "text": [
      "m: [0.29540121]\n",
      "b: 0.5934541462947109\n",
      "R-squared:  0.48264009651190204\n"
     ]
    },
    {
     "data": {
      "text/plain": [
       "Text(0.5, 1.0, '1000 ms')"
      ]
     },
     "execution_count": 274,
     "metadata": {},
     "output_type": "execute_result"
    },
    {
     "data": {
      "image/png": "[encoded data removed]",
      "text/plain": [
       "<Figure size 576x432 with 1 Axes>"
      ]
     },
     "metadata": {
      "needs_background": "light"
     },
     "output_type": "display_data"
    }
   ],
   "source": [
    "#run regression\n",
    "plt.figure(figsize=[8,6])\n",
    "JV_X_1000 = np.array(n_JV_1000).reshape(-1,1)\n",
    "VE_PC_1000 = n_VE_accuracy_1000\n",
    "JV_PC_reg_1000 = LinearRegression().fit(JV_X_1000, VE_PC_1000)\n",
    "\n",
    "#Generated Predictions\n",
    "JV_PC_predicted_1000 = JV_PC_reg_1000.predict(JV_X_1000)\n",
    "#Plot Our Actual and Predicted Values\n",
    "plt.plot(JV_X_1000, VE_PC_1000, 'o', color='darkviolet', alpha = 0.3);\n",
    "plt.plot(JV_X_1000, JV_PC_predicted_1000,color='darkviolet', label = 'm = ' + str(round(JV_PC_reg_1000.coef_[0], 3))\n",
    "         + '     r-squared = ' + str(round(float(JV_PC_reg_1000.score(JV_X_1000, VE_PC_1000)), 3)))\n",
    "plt.xlabel(\"Difference between normalized verbal judgements divided by joint variance\", fontsize = 15)\n",
    "plt.ylabel(\"VE Discrimination Proportion Correct\", fontsize = 15)\n",
    "\n",
    "#get coefficients and y intercept\n",
    "print(\"m: {0}\".format(JV_PC_reg_1000.coef_))\n",
    "print(\"b: {0}\".format(JV_PC_reg_1000.intercept_))\n",
    "\n",
    "#Returns the coefficient of determination R^2 of the prediction.\n",
    "print(\"R-squared: \", JV_PC_reg_1000.score(JV_X_1000, VE_PC_1000))\n",
    "\n",
    "plt.yticks(np.arange(0,1.2, 0.2))\n",
    "\n",
    "legend = plt.legend(loc = 4, fontsize = 13, borderpad = 0.6, labelspacing = 1)\n",
    "legend.get_frame().set_facecolor('lightgray')\n",
    "\n",
    "plt.title(\"1000 ms\", fontsize = 20)\n"
   ]
  },
  {
   "cell_type": "code",
   "execution_count": 275,
   "metadata": {},
   "outputs": [
    {
     "name": "stdout",
     "output_type": "stream",
     "text": [
      "(0.7893907897902777, 3.33595328267099e-21)\n"
     ]
    },
    {
     "data": {
      "text/plain": [
       "[<matplotlib.lines.Line2D at 0x7fae24494350>]"
      ]
     },
     "execution_count": 275,
     "metadata": {},
     "output_type": "execute_result"
    },
    {
     "data": {
      "image/png": "[encoded data removed]",
      "text/plain": [
       "<Figure size 504x504 with 1 Axes>"
      ]
     },
     "metadata": {
      "needs_background": "light"
     },
     "output_type": "display_data"
    }
   ],
   "source": [
    "print(stats.pearsonr(n_JV_250, n_JV_1000))\n",
    "plt.figure(figsize=[7,7])\n",
    "plt.xlabel('@ 250 ms', fontsize=15)\n",
    "plt.ylabel('@ 1000 ms', fontsize=15)\n",
    "plt.plot(n_JV_250,n_JV_1000, 'o' )"
   ]
  },
  {
   "cell_type": "code",
   "execution_count": null,
   "metadata": {},
   "outputs": [],
   "source": []
  },
  {
   "cell_type": "code",
   "execution_count": 276,
   "metadata": {},
   "outputs": [
    {
     "name": "stdout",
     "output_type": "stream",
     "text": [
      "250 ms: Correlation between average discrimination RT and difference between verbal judgements divided by joint variance \n"
     ]
    },
    {
     "data": {
      "text/plain": [
       "(-0.6128653981346333, 5.191491005417529e-11)"
      ]
     },
     "execution_count": 276,
     "metadata": {},
     "output_type": "execute_result"
    }
   ],
   "source": [
    "print('250 ms: Correlation between average discrimination RT and difference between verbal judgements divided by joint variance ')\n",
    "stats.pearsonr(n_avg_RT_250, n_JV_250)"
   ]
  },
  {
   "cell_type": "code",
   "execution_count": 277,
   "metadata": {},
   "outputs": [
    {
     "name": "stdout",
     "output_type": "stream",
     "text": [
      "1000 ms: Correlation between average discrimination RT and difference between verbal judgements divided by joint variance \n"
     ]
    },
    {
     "data": {
      "text/plain": [
       "(-0.36491722268781257, 0.000298950514450792)"
      ]
     },
     "execution_count": 277,
     "metadata": {},
     "output_type": "execute_result"
    }
   ],
   "source": [
    "print('1000 ms: Correlation between average discrimination RT and difference between verbal judgements divided by joint variance ')\n",
    "stats.pearsonr(n_avg_RT_1000, n_JV_1000)"
   ]
  },
  {
   "cell_type": "code",
   "execution_count": 278,
   "metadata": {},
   "outputs": [
    {
     "name": "stdout",
     "output_type": "stream",
     "text": [
      "m: [-137.269976]\n",
      "b: 1212.9067067730655\n",
      "R-squared:  0.3756039962307227\n"
     ]
    },
    {
     "data": {
      "text/plain": [
       "Text(0.5, 1.0, '250 ms: RT')"
      ]
     },
     "execution_count": 278,
     "metadata": {},
     "output_type": "execute_result"
    },
    {
     "data": {
      "image/png": "[encoded data removed]",
      "text/plain": [
       "<Figure size 576x432 with 1 Axes>"
      ]
     },
     "metadata": {
      "needs_background": "light"
     },
     "output_type": "display_data"
    }
   ],
   "source": [
    "#run regression\n",
    "plt.figure(figsize=[8,6])\n",
    "JV_X_250 = np.array(n_JV_250).reshape(-1,1)\n",
    "VE_PC_250 = n_avg_RT_250\n",
    "JV_PC_reg_250 = LinearRegression().fit(JV_X_250, VE_PC_250)\n",
    "\n",
    "#Generated Predictions\n",
    "JV_PC_predicted_250 = JV_PC_reg_250.predict(JV_X_250)\n",
    "#Plot Our Actual and Predicted Values\n",
    "plt.plot(JV_X_250, VE_PC_250, 'o', color='chocolate', alpha = 0.3);\n",
    "plt.plot(JV_X_250, JV_PC_predicted_250,color='chocolate', label = 'm = ' + str(round(JV_PC_reg_250.coef_[0], 3))\n",
    "         + '     r-squared = ' + str(round(float(JV_PC_reg_250.score(JV_X_250, VE_PC_250)), 3)))\n",
    "plt.xlabel(\"Difference between normalized verbal judgements divided by joint variance\", fontsize = 15)\n",
    "plt.ylabel(\"RT (ms)\", fontsize = 15)\n",
    "\n",
    "#get coefficients and y intercept\n",
    "print(\"m: {0}\".format(JV_PC_reg_250.coef_))\n",
    "print(\"b: {0}\".format(JV_PC_reg_250.intercept_))\n",
    "\n",
    "#Returns the coefficient of determination R^2 of the prediction.\n",
    "print(\"R-squared: \", JV_PC_reg_250.score(JV_X_250, VE_PC_250))\n",
    "\n",
    "\n",
    "legend = plt.legend(loc = 4, fontsize = 13, borderpad = 0.6, labelspacing = 1)\n",
    "legend.get_frame().set_facecolor('lightgray')\n",
    "\n",
    "plt.title(\"250 ms: RT\", fontsize = 20)"
   ]
  },
  {
   "cell_type": "code",
   "execution_count": 279,
   "metadata": {},
   "outputs": [
    {
     "name": "stdout",
     "output_type": "stream",
     "text": [
      "m: [-69.82603295]\n",
      "b: 1118.734802965919\n",
      "R-squared:  0.13316457941418636\n"
     ]
    },
    {
     "data": {
      "text/plain": [
       "Text(0.5, 1.0, '1000 ms: RT')"
      ]
     },
     "execution_count": 279,
     "metadata": {},
     "output_type": "execute_result"
    },
    {
     "data": {
      "image/png": "[encoded data removed]",
      "text/plain": [
       "<Figure size 576x432 with 1 Axes>"
      ]
     },
     "metadata": {
      "needs_background": "light"
     },
     "output_type": "display_data"
    }
   ],
   "source": [
    "#run regression\n",
    "plt.figure(figsize=[8,6])\n",
    "JV_X_1000 = np.array(n_JV_1000).reshape(-1,1)\n",
    "VE_PC_1000 = n_avg_RT_1000\n",
    "JV_PC_reg_1000 = LinearRegression().fit(JV_X_1000, VE_PC_1000)\n",
    "\n",
    "#Generated Predictions\n",
    "JV_PC_predicted_1000 = JV_PC_reg_1000.predict(JV_X_1000)\n",
    "#Plot Our Actual and Predicted Values\n",
    "plt.plot(JV_X_1000, VE_PC_1000, 'o', color='darkviolet', alpha = 0.3);\n",
    "plt.plot(JV_X_1000, JV_PC_predicted_1000,color='darkviolet', label = 'm = ' + str(round(JV_PC_reg_1000.coef_[0], 3))\n",
    "         + '     r-squared = ' + str(round(float(JV_PC_reg_1000.score(JV_X_1000, VE_PC_1000)), 3)))\n",
    "plt.xlabel(\"Difference between normalized verbal judgements divided by joint variance\", fontsize = 15)\n",
    "plt.ylabel(\"RT (ms)\", fontsize = 15)\n",
    "\n",
    "#get coefficients and y intercept\n",
    "print(\"m: {0}\".format(JV_PC_reg_1000.coef_))\n",
    "print(\"b: {0}\".format(JV_PC_reg_1000.intercept_))\n",
    "\n",
    "#Returns the coefficient of determination R^2 of the prediction.\n",
    "print(\"R-squared: \", JV_PC_reg_1000.score(JV_X_1000, VE_PC_1000))\n",
    "\n",
    "\n",
    "legend = plt.legend(loc = 4, fontsize = 13, borderpad = 0.6, labelspacing = 1)\n",
    "legend.get_frame().set_facecolor('lightgray')\n",
    "\n",
    "plt.title(\"1000 ms: RT\", fontsize = 20)"
   ]
  },
  {
   "cell_type": "markdown",
   "metadata": {},
   "source": [
    "# Discrim x VE \n"
   ]
  },
  {
   "cell_type": "code",
   "execution_count": 280,
   "metadata": {},
   "outputs": [],
   "source": [
    "rawVE_250_data = pd.read_csv('/Users/prachimahableshwarkar/Documents/GW/Depth_MTurk/depth_duration_analysis/TAC_data/matched/raw_250_data.csv')\n",
    "rawVE_1000_data = pd.read_csv('/Users/prachimahableshwarkar/Documents/GW/Depth_MTurk/depth_duration_analysis/TAC_data/matched/raw_1000_data.csv')\n",
    "\n"
   ]
  },
  {
   "cell_type": "code",
   "execution_count": null,
   "metadata": {},
   "outputs": [],
   "source": []
  },
  {
   "cell_type": "code",
   "execution_count": null,
   "metadata": {},
   "outputs": [],
   "source": []
  },
  {
   "cell_type": "code",
   "execution_count": null,
   "metadata": {},
   "outputs": [],
   "source": []
  },
  {
   "cell_type": "code",
   "execution_count": 281,
   "metadata": {},
   "outputs": [
    {
     "data": {
      "text/plain": [
       "('001417_2014-06-19_16-25-36_260595134347_rgbf000115-resize_5/001417_2014-06-19_16-25-36_260595134347_rgbf000115-resize_5-target.png',\n",
       " 94)"
      ]
     },
     "execution_count": 281,
     "metadata": {},
     "output_type": "execute_result"
    }
   ],
   "source": [
    "targetimgs_discrim = []\n",
    "\n",
    "for stim in n_stim:\n",
    "    targetimgs_discrim.append(stim.split('/')[1] + '/' + stim.split('/')[-1])\n",
    "    \n",
    "targetimgs_discrim[0], len(targetimgs_discrim)"
   ]
  },
  {
   "cell_type": "code",
   "execution_count": null,
   "metadata": {},
   "outputs": [],
   "source": []
  },
  {
   "cell_type": "code",
   "execution_count": 282,
   "metadata": {},
   "outputs": [],
   "source": [
    "VE_250_Performance = {}\n",
    "# loop through discrimination target images\n",
    "for im0 in targetimgs_discrim:\n",
    "    performance = []\n",
    "    # loop through all participants\n",
    "    for subjID in rawVE_250_data.subjID.unique():\n",
    "        # filter to just the subjects data df\n",
    "        subjdf_250 = rawVE_250_data.loc[rawVE_250_data['subjID'] == subjID]\n",
    "        # extract stimuli and depth estimate list for the participant\n",
    "        particip_VE_stim_250 = list(subjdf_250['stimulus'])\n",
    "        particip_VE_y_250 = list(subjdf_250['depth_estimate'])\n",
    "        # convert stim to just the targetimg part of the path\n",
    "        particip_VE_targetimgs_250 = []\n",
    "        for stim in particip_VE_stim_250:\n",
    "            particip_VE_targetimgs_250.append(stim.split('/')[1] + '/' + stim.split('/')[-1])\n",
    "        \n",
    "        try:\n",
    "            # index for that image in the verbal judgement data \n",
    "            im0_VE_index_250 = particip_VE_targetimgs_250.index(im0)\n",
    "            # depth estimate for this image at 250 ms\n",
    "            im0_particip_VE_y_250 = particip_VE_y_250[im0_VE_index_250]\n",
    "\n",
    "            key = 'depth_discrimination_stimuli/' + im0\n",
    "\n",
    "            im1 = n_all_VE_discrim_performance[key]['stimulus_1'][29:]\n",
    "            # index for that image in the verbal judgement data \n",
    "            im1_VE_index_250 = particip_VE_targetimgs_250.index(im1)\n",
    "            # depth estimate for this image at 250 ms\n",
    "            im1_particip_VE_y_250 = particip_VE_y_250[im1_VE_index_250]\n",
    "            \n",
    "            if im0_particip_VE_y_250 < im1_particip_VE_y_250:\n",
    "                p_ans = im0.split('/')[-1]\n",
    "            else:\n",
    "                p_ans = im1.split('/')[-1]\n",
    "            try:\n",
    "                answerkey_answer = n_VE_answerkey_250[key]['answer']\n",
    "            except:\n",
    "                answerkey_answer = n_VE_answerkey_250['depth_discrimination_stimuli/' + im1]['answer']\n",
    "            if p_ans == answerkey_answer:\n",
    "                trial_acc = 0 # CORRECT\n",
    "                performance.append(trial_acc)\n",
    "            else:\n",
    "                trial_acc = 1 # INCORRECT\n",
    "                performance.append(trial_acc)\n",
    "            \n",
    "        except:\n",
    "            pass\n",
    "    VE_250_Performance[im0] = performance\n",
    "        \n"
   ]
  },
  {
   "cell_type": "code",
   "execution_count": 283,
   "metadata": {},
   "outputs": [
    {
     "data": {
      "text/plain": [
       "[1,\n",
       " 1,\n",
       " 0,\n",
       " 1,\n",
       " 1,\n",
       " 0,\n",
       " 1,\n",
       " 0,\n",
       " 1,\n",
       " 0,\n",
       " 1,\n",
       " 1,\n",
       " 1,\n",
       " 0,\n",
       " 1,\n",
       " 0,\n",
       " 0,\n",
       " 1,\n",
       " 1,\n",
       " 0,\n",
       " 0,\n",
       " 0,\n",
       " 0,\n",
       " 0,\n",
       " 1,\n",
       " 1,\n",
       " 1,\n",
       " 0,\n",
       " 1,\n",
       " 0,\n",
       " 1,\n",
       " 1,\n",
       " 0,\n",
       " 0,\n",
       " 1,\n",
       " 1,\n",
       " 1,\n",
       " 0,\n",
       " 1,\n",
       " 1,\n",
       " 1,\n",
       " 1,\n",
       " 0,\n",
       " 1,\n",
       " 1]"
      ]
     },
     "execution_count": 283,
     "metadata": {},
     "output_type": "execute_result"
    }
   ],
   "source": [
    "VE_250_Performance['001417_2014-06-19_16-25-36_260595134347_rgbf000115-resize_5/001417_2014-06-19_16-25-36_260595134347_rgbf000115-resize_5-target.png']\n"
   ]
  },
  {
   "cell_type": "code",
   "execution_count": 284,
   "metadata": {},
   "outputs": [
    {
     "data": {
      "text/plain": [
       "0.4"
      ]
     },
     "execution_count": 284,
     "metadata": {},
     "output_type": "execute_result"
    }
   ],
   "source": [
    "# Python code to count the number of occurrences\n",
    "def countX(lst, x):\n",
    "    return lst.count(x)\n",
    "\n",
    "VE_250_PC = {}\n",
    "\n",
    "for key in VE_250_Performance:\n",
    "    performance = VE_250_Performance[key]\n",
    "    correct_count = countX(performance, 0)\n",
    "    incorrect_count = countX(performance, 1)\n",
    "    total = len(performance)\n",
    "    pc = correct_count/total\n",
    "    VE_250_PC['depth_discrimination_stimuli/' + key] = pc\n",
    "    \n",
    "VE_250_PC['depth_discrimination_stimuli/001417_2014-06-19_16-25-36_260595134347_rgbf000115-resize_5/001417_2014-06-19_16-25-36_260595134347_rgbf000115-resize_5-target.png'] \n"
   ]
  },
  {
   "cell_type": "code",
   "execution_count": 285,
   "metadata": {},
   "outputs": [
    {
     "data": {
      "text/plain": [
       "[0.4, 0.46875]"
      ]
     },
     "execution_count": 285,
     "metadata": {},
     "output_type": "execute_result"
    }
   ],
   "source": [
    "Discrim_VE_PC_250 = {}\n",
    "all_stim_250 = []\n",
    "all_VE_PC_250 = []\n",
    "all_Discrim_VE_PC_250 = []\n",
    "\n",
    "for key in VE_250_PC:\n",
    "    im_VE_PC = VE_250_PC[key]\n",
    "    im_Discrim_PC = n_all_VE_discrim_performance[key]['accuracy_250'][0]\n",
    "    Discrim_VE_PC_250[key] = [im_VE_PC, im_Discrim_PC]\n",
    "    \n",
    "    all_stim_250.append(key)\n",
    "    all_VE_PC_250.append(im_VE_PC)\n",
    "    all_Discrim_VE_PC_250.append(im_Discrim_PC)\n",
    "    \n",
    "Discrim_VE_PC_250['depth_discrimination_stimuli/001417_2014-06-19_16-25-36_260595134347_rgbf000115-resize_5/001417_2014-06-19_16-25-36_260595134347_rgbf000115-resize_5-target.png']"
   ]
  },
  {
   "cell_type": "code",
   "execution_count": 286,
   "metadata": {},
   "outputs": [
    {
     "data": {
      "text/plain": [
       "('depth_discrimination_stimuli/001417_2014-06-19_16-25-36_260595134347_rgbf000115-resize_5/001417_2014-06-19_16-25-36_260595134347_rgbf000115-resize_5-target.png',\n",
       " 0.4,\n",
       " 0.46875)"
      ]
     },
     "execution_count": 286,
     "metadata": {},
     "output_type": "execute_result"
    }
   ],
   "source": [
    "all_stim_250[0], all_VE_PC_250[0], all_Discrim_VE_PC_250[0]"
   ]
  },
  {
   "cell_type": "code",
   "execution_count": 287,
   "metadata": {},
   "outputs": [
    {
     "name": "stdout",
     "output_type": "stream",
     "text": [
      "m: [0.77440345]\n",
      "b: 0.15739129374083427\n",
      "R-squared:  0.36274023430918134\n"
     ]
    },
    {
     "data": {
      "image/png": "[encoded data removed]",
      "text/plain": [
       "<Figure size 576x576 with 1 Axes>"
      ]
     },
     "metadata": {
      "needs_background": "light"
     },
     "output_type": "display_data"
    }
   ],
   "source": [
    "from sklearn.linear_model import LinearRegression\n",
    "\n",
    "fig, ax = plt.subplots(figsize=[8,8])\n",
    "\n",
    "right_side = ax.spines[\"right\"]\n",
    "right_side.set_visible(False)\n",
    "top = ax.spines['top']\n",
    "top.set_visible(False)\n",
    "\n",
    "#run regression\n",
    "X_250 = np.array(all_VE_PC_250).reshape(-1,1)\n",
    "y_250 = np.array(all_Discrim_VE_PC_250)\n",
    "reg_250 = LinearRegression().fit(X_250, y_250)\n",
    "\n",
    "#Generated Predictions\n",
    "y_predicted_250 = reg_250.predict(X_250)\n",
    "#Plot Our Actual and Predicted Values\n",
    "plt.plot(X_250, y_250, 'o', color='chocolate', alpha = 0.7);\n",
    "\n",
    "r = np.sqrt(reg_250.score(X_250, y_250))\n",
    "\n",
    "plt.plot(X_250,y_predicted_250,color='chocolate', label = 'y = ' + str(round(reg_250.coef_[0], 3)) + 'x + ' +  str(round(reg_250.intercept_, 3))\n",
    "         + '     r' + '=' +  str(round(float(r), 3)))\n",
    "\n",
    "x_perfacc = np.arange(0 ,1.1, 0.1)\n",
    "plt.plot(x_perfacc, x_perfacc, color = 'black',linestyle='--')  # solid\n",
    "\n",
    "legend = plt.legend(loc = 0, fontsize = 13, labelspacing = 1, frameon=False)\n",
    "\n",
    "plt.xlabel('Verbal Estimate Percent Correct', fontsize=15)\n",
    "plt.ylabel('Discrimination Percent Correct', fontsize=15)\n",
    "\n",
    "\n",
    "#get coefficients and y intercept\n",
    "print(\"m: {0}\".format(reg_250.coef_))\n",
    "print(\"b: {0}\".format(reg_250.intercept_))\n",
    "\n",
    "#Returns the coefficient of determination R^2 of the prediction.\n",
    "print(\"R-squared: \", reg_250.score(X_250, y_250))"
   ]
  },
  {
   "cell_type": "code",
   "execution_count": null,
   "metadata": {},
   "outputs": [],
   "source": []
  },
  {
   "cell_type": "code",
   "execution_count": 288,
   "metadata": {},
   "outputs": [],
   "source": [
    "VE_1000_Performance = {}\n",
    "# loop through discrimination target images\n",
    "for im0 in targetimgs_discrim:\n",
    "    performance = []\n",
    "    # loop through all participants\n",
    "    for subjID in rawVE_1000_data.subjID.unique():\n",
    "        # filter to just the subjects data df\n",
    "        subjdf_1000 = rawVE_1000_data.loc[rawVE_1000_data['subjID'] == subjID]\n",
    "        # extract stimuli and depth estimate list for the participant\n",
    "        particip_VE_stim_1000 = list(subjdf_1000['stimulus'])\n",
    "        particip_VE_y_1000 = list(subjdf_1000['depth_estimate'])\n",
    "        # convert stim to just the targetimg part of the path\n",
    "        particip_VE_targetimgs_1000 = []\n",
    "        for stim in particip_VE_stim_1000:\n",
    "            particip_VE_targetimgs_1000.append(stim.split('/')[1] + '/' + stim.split('/')[-1])\n",
    "        \n",
    "        try:\n",
    "            # index for that image in the verbal judgement data \n",
    "            im0_VE_index_1000 = particip_VE_targetimgs_1000.index(im0)\n",
    "            # depth estimate for this image at 250 ms\n",
    "            im0_particip_VE_y_1000 = particip_VE_y_1000[im0_VE_index_1000]\n",
    "\n",
    "            key = 'depth_discrimination_stimuli/' + im0\n",
    "\n",
    "            im1 = n_all_VE_discrim_performance[key]['stimulus_1'][29:]\n",
    "            # index for that image in the verbal judgement data \n",
    "            im1_VE_index_1000 = particip_VE_targetimgs_1000.index(im1)\n",
    "            # depth estimate for this image at 1000 ms\n",
    "            im1_particip_VE_y_1000 = particip_VE_y_1000[im1_VE_index_1000]\n",
    "            \n",
    "            if im0_particip_VE_y_1000 < im1_particip_VE_y_1000:\n",
    "                p_ans = im0.split('/')[-1]\n",
    "            else:\n",
    "                p_ans = im1.split('/')[-1]\n",
    "            try:\n",
    "                answerkey_answer = n_VE_answerkey_1000[key]['answer']\n",
    "            except:\n",
    "                answerkey_answer = n_VE_answerkey_1000['depth_discrimination_stimuli/' + im1]['answer']\n",
    "            if p_ans == answerkey_answer:\n",
    "                trial_acc = 0 # CORRECT\n",
    "                performance.append(trial_acc)\n",
    "            else:\n",
    "                trial_acc = 1 # INCORRECT\n",
    "                performance.append(trial_acc)\n",
    "            \n",
    "        except:\n",
    "            pass\n",
    "    VE_1000_Performance[im0] = performance\n",
    "        \n"
   ]
  },
  {
   "cell_type": "code",
   "execution_count": 289,
   "metadata": {},
   "outputs": [
    {
     "name": "stdout",
     "output_type": "stream",
     "text": [
      "[1, 1, 0, 1, 1, 0, 1, 0, 1, 0, 1, 1, 1, 0, 1, 0, 0, 1, 1, 0, 0, 0, 0, 0, 1, 1, 1, 0, 1, 0, 1, 1, 0, 0, 1, 1, 1, 0, 1, 1, 1, 1, 0, 1, 1]\n"
     ]
    },
    {
     "data": {
      "text/plain": [
       "[0,\n",
       " 1,\n",
       " 0,\n",
       " 0,\n",
       " 1,\n",
       " 1,\n",
       " 1,\n",
       " 1,\n",
       " 1,\n",
       " 0,\n",
       " 0,\n",
       " 0,\n",
       " 0,\n",
       " 0,\n",
       " 0,\n",
       " 1,\n",
       " 0,\n",
       " 1,\n",
       " 1,\n",
       " 0,\n",
       " 1,\n",
       " 1,\n",
       " 1,\n",
       " 0,\n",
       " 0,\n",
       " 0,\n",
       " 1,\n",
       " 1,\n",
       " 0,\n",
       " 1,\n",
       " 1,\n",
       " 0,\n",
       " 0,\n",
       " 0,\n",
       " 0,\n",
       " 1,\n",
       " 1,\n",
       " 0,\n",
       " 1,\n",
       " 1,\n",
       " 0,\n",
       " 0,\n",
       " 1,\n",
       " 1,\n",
       " 1,\n",
       " 1,\n",
       " 0,\n",
       " 1]"
      ]
     },
     "execution_count": 289,
     "metadata": {},
     "output_type": "execute_result"
    }
   ],
   "source": [
    "print(VE_250_Performance['001417_2014-06-19_16-25-36_260595134347_rgbf000115-resize_5/001417_2014-06-19_16-25-36_260595134347_rgbf000115-resize_5-target.png'])\n",
    "VE_1000_Performance['001417_2014-06-19_16-25-36_260595134347_rgbf000115-resize_5/001417_2014-06-19_16-25-36_260595134347_rgbf000115-resize_5-target.png']\n"
   ]
  },
  {
   "cell_type": "code",
   "execution_count": 290,
   "metadata": {},
   "outputs": [
    {
     "data": {
      "text/plain": [
       "0.4791666666666667"
      ]
     },
     "execution_count": 290,
     "metadata": {},
     "output_type": "execute_result"
    }
   ],
   "source": [
    "# Python code to count the number of occurrences\n",
    "def countX(lst, x):\n",
    "    return lst.count(x)\n",
    "\n",
    "VE_1000_PC = {}\n",
    "\n",
    "for key in VE_1000_Performance:\n",
    "    performance = VE_1000_Performance[key]\n",
    "    correct_count = countX(performance, 0)\n",
    "    incorrect_count = countX(performance, 1)\n",
    "    total = len(performance)\n",
    "    pc = correct_count/total\n",
    "    VE_1000_PC['depth_discrimination_stimuli/' + key] = pc\n",
    "    \n",
    "VE_1000_PC['depth_discrimination_stimuli/001417_2014-06-19_16-25-36_260595134347_rgbf000115-resize_5/001417_2014-06-19_16-25-36_260595134347_rgbf000115-resize_5-target.png'] \n"
   ]
  },
  {
   "cell_type": "code",
   "execution_count": 291,
   "metadata": {},
   "outputs": [
    {
     "data": {
      "text/plain": [
       "[0.4791666666666667, 0.5882352941176471]"
      ]
     },
     "execution_count": 291,
     "metadata": {},
     "output_type": "execute_result"
    }
   ],
   "source": [
    "Discrim_VE_PC_1000 = {}\n",
    "all_stim_1000 = []\n",
    "all_VE_PC_1000 = []\n",
    "all_Discrim_VE_PC_1000 = []\n",
    "\n",
    "for key in VE_1000_PC:\n",
    "    im_VE_PC = VE_1000_PC[key]\n",
    "    im_Discrim_PC = n_all_VE_discrim_performance[key]['accuracy_1000'][0]\n",
    "    Discrim_VE_PC_1000[key] = [im_VE_PC, im_Discrim_PC]\n",
    "    \n",
    "    all_stim_1000.append(key)\n",
    "    all_VE_PC_1000.append(im_VE_PC)\n",
    "    all_Discrim_VE_PC_1000.append(im_Discrim_PC)\n",
    "    \n",
    "Discrim_VE_PC_1000['depth_discrimination_stimuli/001417_2014-06-19_16-25-36_260595134347_rgbf000115-resize_5/001417_2014-06-19_16-25-36_260595134347_rgbf000115-resize_5-target.png']"
   ]
  },
  {
   "cell_type": "code",
   "execution_count": 292,
   "metadata": {},
   "outputs": [
    {
     "data": {
      "text/plain": [
       "('depth_discrimination_stimuli/001417_2014-06-19_16-25-36_260595134347_rgbf000115-resize_5/001417_2014-06-19_16-25-36_260595134347_rgbf000115-resize_5-target.png',\n",
       " 0.4791666666666667,\n",
       " 0.5882352941176471)"
      ]
     },
     "execution_count": 292,
     "metadata": {},
     "output_type": "execute_result"
    }
   ],
   "source": [
    "all_stim_1000[0], all_VE_PC_1000[0], all_Discrim_VE_PC_1000[0]"
   ]
  },
  {
   "cell_type": "code",
   "execution_count": 293,
   "metadata": {},
   "outputs": [
    {
     "name": "stdout",
     "output_type": "stream",
     "text": [
      "m: [0.7111876]\n",
      "b: 0.24319608792917957\n",
      "R-squared:  0.44887833704473284\n"
     ]
    },
    {
     "data": {
      "image/png": "[encoded data removed]",
      "text/plain": [
       "<Figure size 576x576 with 1 Axes>"
      ]
     },
     "metadata": {
      "needs_background": "light"
     },
     "output_type": "display_data"
    }
   ],
   "source": [
    "from sklearn.linear_model import LinearRegression\n",
    "\n",
    "fig, ax = plt.subplots(figsize=[8,8])\n",
    "\n",
    "right_side = ax.spines[\"right\"]\n",
    "right_side.set_visible(False)\n",
    "top = ax.spines['top']\n",
    "top.set_visible(False)\n",
    "\n",
    "#run regression\n",
    "X_1000 = np.array(all_VE_PC_1000).reshape(-1,1)\n",
    "y_1000 = np.array(all_Discrim_VE_PC_1000)\n",
    "reg_1000 = LinearRegression().fit(X_1000, y_1000)\n",
    "\n",
    "#Generated Predictions\n",
    "y_predicted_1000 = reg_1000.predict(X_1000)\n",
    "#Plot Our Actual and Predicted Values\n",
    "plt.plot(X_1000, y_1000, 'o', color='darkviolet', alpha = 0.7);\n",
    "\n",
    "r = np.sqrt(reg_1000.score(X_1000, y_1000))\n",
    "\n",
    "plt.plot(X_1000,y_predicted_1000,color='darkviolet', label = 'y = ' + str(round(reg_1000.coef_[0], 3)) + 'x + ' +  str(round(reg_1000.intercept_, 3))\n",
    "         + '     r' + '=' +  str(round(float(r), 3)))\n",
    "\n",
    "# plt.title(\"1000 ms: Verbal Judgement\", fontsize = 20)\n",
    "plt.xlabel(\"Verbal Estimate Percent Correct\", fontsize = 15)\n",
    "plt.ylabel(\"Discrimination Percent Correct\", fontsize = 15)\n",
    "x_perfacc = np.arange(0,1.1, 0.1)\n",
    "plt.plot(x_perfacc, x_perfacc, color = 'black',linestyle='--')  # solid\n",
    "\n",
    "legend = plt.legend(loc = 0, fontsize = 13, labelspacing = 1, frameon=False)\n",
    "\n",
    "\n",
    "#get coefficients and y intercept\n",
    "print(\"m: {0}\".format(reg_1000.coef_))\n",
    "print(\"b: {0}\".format(reg_1000.intercept_))\n",
    "\n",
    "#Returns the coefficient of determination R^2 of the prediction.\n",
    "print(\"R-squared: \", reg_1000.score(X_1000, y_1000))"
   ]
  },
  {
   "cell_type": "code",
   "execution_count": null,
   "metadata": {},
   "outputs": [],
   "source": []
  },
  {
   "cell_type": "code",
   "execution_count": null,
   "metadata": {},
   "outputs": [],
   "source": []
  }
 ],
 "metadata": {
  "kernelspec": {
   "display_name": "Python 3",
   "language": "python",
   "name": "python3"
  },
  "language_info": {
   "codemirror_mode": {
    "name": "ipython",
    "version": 3
   },
   "file_extension": ".py",
   "mimetype": "text/x-python",
   "name": "python",
   "nbconvert_exporter": "python",
   "pygments_lexer": "ipython3",
   "version": "3.7.5"
  }
 },
 "nbformat": 4,
 "nbformat_minor": 4
}
