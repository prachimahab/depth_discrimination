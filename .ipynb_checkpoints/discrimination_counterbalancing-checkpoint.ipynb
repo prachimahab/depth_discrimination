{
 "cells": [
  {
   "cell_type": "code",
   "execution_count": 579,
   "metadata": {},
   "outputs": [],
   "source": [
    "import os, json\n",
    "import pandas as pd\n",
    "import random \n",
    "import copy \n",
    "import sqlite3\n",
    "import sys\n",
    "import numpy as np \n",
    "from itertools import permutations  \n",
    "import itertools\n",
    "from itertools import combinations\n",
    "import operator\n",
    "import math\n",
    "# allows multiple lines to be printed out without explicitly writing print\n",
    "from IPython.core.interactiveshell import InteractiveShell\n",
    "InteractiveShell.ast_node_interactivity = \"all\"\n",
    "import matplotlib.pyplot as plt"
   ]
  },
  {
   "cell_type": "code",
   "execution_count": 580,
   "metadata": {},
   "outputs": [],
   "source": [
    "def getSubdirTargetInfo(directory):\n",
    "    \"\"\"\n",
    "    Indexes into the json file of each image and recursively extracts image characteristics\n",
    "    All object (target image) instances are added to obs_bins (main list of all images)\n",
    "    Args: \n",
    "        directory = path to cleaned stimuli folder\n",
    "    Returns:\n",
    "        obs_bins = instance of Observation_bins class that has depth_ob (instance) for every target image\n",
    "    \"\"\"\n",
    "    obs = {}\n",
    "    for folder in os.listdir(directory): #recursively goes through all the folders\n",
    "        if folder != '.DS_Store':\n",
    "            for file in os.listdir(directory + '/' + folder):\n",
    "                filepath = directory + '/' + folder + '/' + file\n",
    "                if \".ipynb_checkpoints\" not in str(filepath):\n",
    "                    if filepath.endswith(\".json\"):\n",
    "                        output_json = json.load(open(filepath)) #loads each data.json file\n",
    "                        objects = output_json['objects'] \n",
    "                        for obj in objects:\n",
    "                            cp = obj[\"crossing_point\"]\n",
    "                            cp = cp[0] #indexes to the dict\n",
    "                            depth = cp['depth']\n",
    "                            obs[folder] = depth\n",
    "\n",
    "    return obs"
   ]
  },
  {
   "cell_type": "code",
   "execution_count": 581,
   "metadata": {},
   "outputs": [],
   "source": [
    "# path = '/Users/prachi/Documents/depth_duration/mar3_depthDuration_stimuli/final_stimuli'\n",
    "\n",
    "path = '/Users/prachimahableshwarkar/Documents/GW/Depth_MTurk/depth_duration_MTurk/depth_duration_stimuli'\n",
    "observations = getSubdirTargetInfo(path)"
   ]
  },
  {
   "cell_type": "code",
   "execution_count": null,
   "metadata": {},
   "outputs": [],
   "source": []
  },
  {
   "cell_type": "code",
   "execution_count": 582,
   "metadata": {},
   "outputs": [
    {
     "data": {
      "text/plain": [
       "48"
      ]
     },
     "execution_count": 582,
     "metadata": {},
     "output_type": "execute_result"
    }
   ],
   "source": [
    "# sort observations by increasing depth (dict value)\n",
    "sorted_tuples = sorted(observations.items(), key=operator.itemgetter(1))\n",
    "sorted_dict = {k: v for k, v in sorted_tuples}\n",
    "\n",
    "# create groups of 4 from low to high depth --> 48 groups total \n",
    "grouped_observations = [sorted_tuples[i*4:(i*4)+4] for i in range(48)]\n",
    "len(grouped_observations)"
   ]
  },
  {
   "cell_type": "code",
   "execution_count": 583,
   "metadata": {},
   "outputs": [
    {
     "data": {
      "text/plain": [
       "{'002272_2014-06-28_18-53-56_260595134347_rgbf000067-resize_2': 1.138,\n",
       " '002509_2014-06-24_13-19-22_094959634447_rgbf000077-resize_0': 1.3065,\n",
       " '000483_2014-06-09_20-41-45_260595134347_rgbf000116-resize_4': 1.3370000000000002,\n",
       " '000109_2014-05-14_23-41-52_260595134347_rgbf000035-resize_9': 1.3545,\n",
       " '003587_2014-05-23_16-48-02_094959634447_rgbf002384-resize_2': 1.357,\n",
       " '003534_2014-05-22_15-06-10_094959634447_rgbf000102-resize_4': 1.4260000000000002,\n",
       " '002549_2014-06-24_13-41-39_094959634447_rgbf000022-resize_3': 1.476,\n",
       " '000810_2014-06-08_17-20-01_260595134347_rgbf000105-resize_0': 1.4865,\n",
       " '002279_2014-06-28_18-55-32_260595134347_rgbf000040-resize_5': 1.5043333333333333,\n",
       " '002953_2014-06-08_17-32-18_094959634447_rgbf000059-resize_5': 1.551,\n",
       " '000720_2014-06-08_18-37-27_260595134347_rgbf000203-resize_4': 1.5579999999999998,\n",
       " '001532_2014-06-20_16-50-41_260595134347_rgbf000081-resize_4': 1.5758333333333334,\n",
       " '002344_2014-06-28_20-06-29_260595134347_rgbf000030-resize_1': 1.5795,\n",
       " '003495_2014-05-21_16-01-51_094959634447_rgbf000100-resize_3': 1.6255000000000002,\n",
       " '001555_2014-06-20_17-12-10_260595134347_rgbf000065-resize_4': 1.633,\n",
       " '002788_2014-06-22_19-36-03_094959634447_rgbf000088-resize_2': 1.6464999999999999,\n",
       " '000469_2014-06-09_19-42-10_260595134347_rgbf000081-resize_1': 1.6520000000000001,\n",
       " '001016_2014-06-09_16-16-10_260595134347_rgbf000112-resize_5': 1.6564999999999999,\n",
       " '003092_2014-06-24_21-01-49_094959634447_rgbf000049-resize_2': 1.666,\n",
       " '002763_2014-06-22_19-13-10_094959634447_rgbf000075-resize_4': 1.68375,\n",
       " '000740_2014-06-08_18-46-23_260595134347_rgbf000049-resize_6': 1.687,\n",
       " '002964_2014-06-08_17-46-11_094959634447_rgbf000091-resize_4': 1.6909999999999998,\n",
       " '003338_2014-05-20_11-01-23_094959634447_rgbf000051-resize_6': 1.693,\n",
       " '001110_2014-06-15_17-25-28_260595134347_rgbf000150-resize_1': 1.7115,\n",
       " '001516_2014-06-20_16-25-09_260595134347_rgbf000076-resize_2': 1.7445,\n",
       " '002131_2014-06-25_21-12-01_260595134347_rgbf000083-resize_0': 1.7685,\n",
       " '000709_2014-06-08_13-51-55_260595134347_rgbf000068-resize_3': 1.803,\n",
       " '002784_2014-06-22_19-26-30_094959634447_rgbf000083-resize_3': 1.8046666666666666,\n",
       " '000470_2014-06-09_19-42-40_260595134347_rgbf000094-resize_1': 1.831,\n",
       " '000549_2014-06-08_22-10-24_260595134347_rgbf000247-resize_3': 1.841,\n",
       " '001167_2014-06-17_15-38-07_260595134347_rgbf000108-resize_0': 1.8504999999999998,\n",
       " '001571_2014-06-20_17-21-32_260595134347_rgbf000089-resize_1': 1.8599999999999999,\n",
       " '001136_2014-06-17_15-19-41_260595134347_rgbf000076-resize_3': 1.8655,\n",
       " '001618_2014-06-20_11-37-31_260595134347_rgbf000027-resize_3': 1.8725,\n",
       " '001289_2014-06-16_16-25-52_260595134347_rgbf000067-resize_1': 1.8835,\n",
       " '002949_2014-06-26_15-57-42_094959634447_rgbf000079-resize_1': 1.8915000000000002,\n",
       " '000753_2014-06-08_21-57-44_260595134347_rgbf000123-resize_3': 1.916,\n",
       " '002545_2014-06-24_13-38-53_094959634447_rgbf000080-resize_4': 1.9205,\n",
       " '001650_2014-06-20_12-09-00_260595134347_rgbf000087-resize_3': 1.9505,\n",
       " '002468_2014-06-28_20-38-39_260595134347_rgbf000045-resize_1': 1.956,\n",
       " '002136_2014-06-25_21-18-03_260595134347_rgbf000109-resize_3': 1.9569999999999999,\n",
       " '002875_2014-06-01_15-19-00_094959634447_rgbf000151-resize_1': 1.9675,\n",
       " '003228_2014-05-14_13-42-35_094959634447_rgbf000101-resize_1': 1.968,\n",
       " '000943_2014-06-09_19-31-07_260595134347_rgbf000128-resize_1': 1.9765,\n",
       " '000555_2014-06-09_22-42-23_260595134347_rgbf000037-resize_4': 1.9765,\n",
       " '000103_2014-05-14_22-01-17_260595134347_rgbf000152-resize_5': 1.9929999999999999,\n",
       " '002637_2014-06-24_14-51-13_094959634447_rgbf000066-resize_4': 1.9954999999999998,\n",
       " '002199_2014-06-28_18-33-56_260595134347_rgbf000074-resize_0': 1.996,\n",
       " '002905_2014-06-03_18-04-43_094959634447_rgbf000151-resize_2': 2.0295,\n",
       " '001244_2014-06-17_16-47-45_260595134347_rgbf000030-resize_4': 2.0425,\n",
       " '002209_2014-06-28_18-36-10_260595134347_rgbf000051-resize_1': 2.057,\n",
       " '000635_2014-06-08_16-38-42_260595134347_rgbf000106-resize_1': 2.074,\n",
       " '000878_2014-06-08_22-52-45_260595134347_rgbf000045-resize_2': 2.092,\n",
       " '002139_2014-06-25_21-19-37_260595134347_rgbf000124-resize_2': 2.107,\n",
       " '002678_2014-06-13_16-15-32_094959634447_rgbf000151-resize_6': 2.183,\n",
       " '002725_2014-06-22_11-47-51_094959634447_rgbf000070-resize_1': 2.1950000000000003,\n",
       " '002579_2014-06-24_14-08-03_094959634447_rgbf000061-resize_2': 2.223125,\n",
       " '001100_2014-06-15_17-46-26_260595134347_rgbf000225-resize_2': 2.2399999999999998,\n",
       " '001810_2014-06-26_20-51-35_260595134347_rgbf000040-resize_3': 2.2525,\n",
       " '000869_2014-06-09_20-50-18_260595134347_rgbf000060-resize_3': 2.266,\n",
       " '002460_2014-06-28_20-35-43_260595134347_rgbf000028-resize_4': 2.269,\n",
       " '000749_2014-06-08_21-55-06_260595134347_rgbf000070-resize_2': 2.331,\n",
       " '001164_2014-06-17_15-35-46_260595134347_rgbf000085-resize_3': 2.354,\n",
       " '002750_2014-06-22_19-08-03_094959634447_rgbf000094-resize_4': 2.354,\n",
       " '000522_2014-06-08_13-35-06_260595134347_rgbf000244-resize_1': 2.3715,\n",
       " '001059_2014-06-08_21-53-27_260595134347_rgbf000061-resize_4': 2.4185,\n",
       " '001055_2014-06-08_18-45-35_260595134347_rgbf000111-resize_4': 2.429,\n",
       " '000502_2014-06-08_23-02-32_260595134347_rgbf000063-resize_4': 2.431,\n",
       " '001011_2014-06-08_23-18-54_260595134347_rgbf000044-resize_4': 2.473,\n",
       " '002340_2014-06-28_20-05-46_260595134347_rgbf000113-resize_0': 2.4735,\n",
       " '000368_2014-06-09_15-53-01_260595134347_rgbf000155-resize_2': 2.4859999999999998,\n",
       " '002153_2014-06-25_21-27-18_260595134347_rgbf000038-resize_5': 2.505,\n",
       " '002445_2014-06-28_20-32-16_260595134347_rgbf000029-resize_4': 2.5315,\n",
       " '002758_2014-06-22_19-11-20_094959634447_rgbf000128-resize_1': 2.555,\n",
       " '003546_2014-05-22_15-48-53_094959634447_rgbf004816-resize_3': 2.6262499999999998,\n",
       " '000830_2014-06-04_19-49-31_260595134347_rgbf000096-resize_2': 2.635333333333333,\n",
       " '002118_2014-06-25_20-32-08_260595134347_rgbf000078-resize_1': 2.646,\n",
       " '001214_2014-06-17_16-13-55_260595134347_rgbf000111-resize_0': 2.6505,\n",
       " '001056_2014-06-08_18-46-44_260595134347_rgbf000068-resize_0': 2.6625,\n",
       " '002987_2014-06-08_18-48-20_094959634447_rgbf000022-resize_0': 2.6775,\n",
       " '000927_2014-06-09_16-32-30_260595134347_rgbf000123-resize_3': 2.6785,\n",
       " '000636_2014-06-08_16-39-02_260595134347_rgbf000108-resize_4': 2.682,\n",
       " '001092_2014-06-15_17-34-58_260595134347_rgbf000171-resize_3': 2.6935000000000002,\n",
       " '000682_2014-06-08_23-14-58_260595134347_rgbf000041-resize_5': 2.724,\n",
       " '001806_2014-06-26_20-50-20_260595134347_rgbf000091-resize_1': 2.7305,\n",
       " '001188_2014-06-17_15-54-10_260595134347_rgbf000090-resize_2': 2.7439999999999998,\n",
       " '002600_2014-06-24_14-27-04_094959634447_rgbf000074-resize_2': 2.7575000000000003,\n",
       " '000800_2014-06-08_22-42-09_260595134347_rgbf000095-resize_3': 2.8,\n",
       " '002043_2014-06-24_20-29-38_260595134347_rgbf000039-resize_4': 2.8435,\n",
       " '000906_2014-06-08_13-35-43_260595134347_rgbf000155-resize_1': 2.849,\n",
       " '000929_2014-06-09_16-33-19_260595134347_rgbf000139-resize_0': 2.8680000000000003,\n",
       " '003079_2014-06-15_15-18-20_094959634447_rgbf000152-resize_8': 2.8775,\n",
       " '000642_2014-06-08_16-59-25_260595134347_rgbf000098-resize_2': 2.8815,\n",
       " '003070_2014-06-15_14-58-27_094959634447_rgbf000150-resize_3': 2.9415,\n",
       " '001264_2014-06-16_16-10-23_260595134347_rgbf000109-resize_1': 2.9665,\n",
       " '002057_2014-06-24_21-00-13_260595134347_rgbf000120-resize_1': 2.967,\n",
       " '000542_2014-06-08_18-27-08_260595134347_rgbf000118-resize_1': 3.0,\n",
       " '002630_2014-06-24_14-47-50_094959634447_rgbf000055-resize_1': 3.0095,\n",
       " '002568_2014-06-24_13-59-21_094959634447_rgbf000062-resize_4': 3.0149999999999997,\n",
       " '000521_2014-06-08_13-34-35_260595134347_rgbf000191-resize_2': 3.0385,\n",
       " '000665_2014-06-09_20-42-35_260595134347_rgbf000110-resize_1': 3.057,\n",
       " '000854_2014-06-09_19-43-13_260595134347_rgbf000066-resize_0': 3.068,\n",
       " '001029_2014-06-08_13-17-57_260595134347_rgbf000065-resize_1': 3.0835,\n",
       " '003010_2014-06-15_12-54-35_094959634447_rgbf000112-resize_0': 3.1185,\n",
       " '002805_2014-06-22_19-54-03_094959634447_rgbf000079-resize_1': 3.144,\n",
       " '000866_2014-06-09_20-45-42_260595134347_rgbf000139-resize_1': 3.2155,\n",
       " '003423_2014-05-21_10-23-26_094959634447_rgbf002665-resize_2': 3.2575,\n",
       " '001032_2014-06-08_13-23-17_260595134347_rgbf000021-resize_3': 3.2725,\n",
       " '002700_2014-06-22_11-27-02_094959634447_rgbf000124-resize_3': 3.301,\n",
       " '000505_2014-06-08_23-03-23_260595134347_rgbf000091-resize_0': 3.3105,\n",
       " '000788_2014-06-08_22-34-36_260595134347_rgbf000131-resize_1': 3.359,\n",
       " '000758_2014-06-08_22-05-08_260595134347_rgbf000085-resize_0': 3.3810000000000002,\n",
       " '000780_2014-06-08_22-28-29_260595134347_rgbf000126-resize_1': 3.3825,\n",
       " '001815_2014-06-26_20-52-55_260595134347_rgbf000020-resize_0': 3.3865,\n",
       " '001197_2014-06-17_16-01-50_260595134347_rgbf000103-resize_4': 3.4025,\n",
       " '001199_2014-06-17_16-03-48_260595134347_rgbf000077-resize_0': 3.4375,\n",
       " '000493_2014-06-09_21-01-18_260595134347_rgbf000196-resize_3': 3.4400000000000004,\n",
       " '001449_2014-06-19_17-01-27_260595134347_rgbf000116-resize_2': 3.452,\n",
       " '003292_2014-05-14_21-53-49_094959634447_rgbf000100-resize_2': 3.4815,\n",
       " '002790_2014-06-22_19-36-35_094959634447_rgbf000074-resize_4': 3.5119999999999996,\n",
       " '000736_2014-06-08_18-24-15_260595134347_rgbf000206-resize_3': 3.515,\n",
       " '001584_2014-06-20_11-07-43_260595134347_rgbf000002-resize_1': 3.5300000000000002,\n",
       " '000739_2014-06-08_18-45-58_260595134347_rgbf000068-resize_1': 3.534,\n",
       " '000677_2014-06-08_23-10-32_260595134347_rgbf000158-resize_6': 3.556,\n",
       " '002660_2014-06-13_15-44-18_094959634447_rgbf001878-resize_2': 3.576,\n",
       " '002213_2014-06-28_18-37-58_260595134347_rgbf000055-resize_1': 3.62,\n",
       " '003490_2014-05-21_15-50-11_094959634447_rgbf000101-resize_3': 3.6445,\n",
       " '000457_2014-06-08_16-52-43_260595134347_rgbf000199-resize_1': 3.649,\n",
       " '001235_2014-06-17_16-37-36_260595134347_rgbf000084-resize_4': 3.6605,\n",
       " '000692_2014-06-08_13-09-42_260595134347_rgbf000199-resize_2': 3.661,\n",
       " '002323_2014-06-28_20-01-54_260595134347_rgbf000051-resize_4': 3.731,\n",
       " '000409_2014-06-04_19-23-33_260595134347_rgbf000067-resize_0': 3.7335000000000003,\n",
       " '001132_2014-06-17_14-48-54_260595134347_rgbf000100-resize_2': 3.753,\n",
       " '000137_2014-05-20_17-04-49_260595134347_rgbf000120-resize_1': 3.7859999999999996,\n",
       " '001617_2014-06-20_11-35-32_260595134347_rgbf000066-resize_1': 3.791,\n",
       " '000191_2014-05-12_17-07-38_260595134347_rgbf000199-resize_0': 3.7995,\n",
       " '001724_2014-06-26_19-28-50_260595134347_rgbf000037-resize_7': 3.827,\n",
       " '002995_2014-06-15_12-31-26_094959634447_rgbf000150-resize_1': 3.836,\n",
       " '000009_2014-05-26_14-32-05_260595134347_rgbf000034-resize_3': 3.8715,\n",
       " '003288_2014-05-14_21-50-30_094959634447_rgbf000028-resize_3': 3.877,\n",
       " '002425_2014-06-28_20-27-29_260595134347_rgbf000031-resize_8': 3.896,\n",
       " '003081_2014-06-15_15-19-16_094959634447_rgbf000150-resize_1': 3.9124999999999996,\n",
       " '002464_2014-06-28_20-36-57_260595134347_rgbf000029-resize_0': 3.9524999999999997,\n",
       " '003621_2014-05-23_18-06-08_094959634447_rgbf000101-resize_1': 3.9835000000000003,\n",
       " '003048_2014-06-15_13-49-43_094959634447_rgbf000150-resize_1': 4.0035,\n",
       " '001450_2014-06-19_17-02-03_260595134347_rgbf000203-resize_4': 4.010666666666666,\n",
       " '002365_2014-06-28_20-11-21_260595134347_rgbf000102-resize_1': 4.013,\n",
       " '002375_2014-06-28_20-13-44_260595134347_rgbf000032-resize_1': 4.0175,\n",
       " '001150_2014-06-17_15-27-34_260595134347_rgbf000108-resize_2': 4.032500000000001,\n",
       " '002570_2014-06-24_13-59-54_094959634447_rgbf000059-resize_0': 4.037,\n",
       " '002639_2014-06-24_14-51-37_094959634447_rgbf000074-resize_4': 4.0375,\n",
       " '000506_2014-06-08_23-21-00_260595134347_rgbf000070-resize_7': 4.0584999999999996,\n",
       " '003492_2014-05-21_15-50-55_094959634447_rgbf000828-resize_1': 4.0687500000000005,\n",
       " '000436_2014-06-09_22-25-11_260595134347_rgbf000137-resize_1': 4.0705,\n",
       " '000734_2014-06-08_17-39-11_260595134347_rgbf000128-resize_2': 4.098,\n",
       " '001052_2014-06-08_18-24-54_260595134347_rgbf000130-resize_1': 4.1045,\n",
       " '002103_2014-06-25_20-00-40_260595134347_rgbf000049-resize_0': 4.105,\n",
       " '001392_2014-06-19_16-07-59_260595134347_rgbf000046-resize_1': 4.135,\n",
       " '001447_2014-06-19_17-00-32_260595134347_rgbf000082-resize_5': 4.1377500000000005,\n",
       " '003083_2014-06-15_15-21-03_094959634447_rgbf000063-resize_1': 4.140499999999999,\n",
       " '001181_2014-06-17_15-50-57_260595134347_rgbf000106-resize_4': 4.149,\n",
       " '000691_2014-06-08_13-08-50_260595134347_rgbf000132-resize_3': 4.1530000000000005,\n",
       " '000735_2014-06-08_18-23-50_260595134347_rgbf000163-resize_2': 4.1695,\n",
       " '000917_2014-06-09_22-45-29_260595134347_rgbf000149-resize_3': 4.1865,\n",
       " '002989_2014-06-15_12-25-03_094959634447_rgbf000150-resize_3': 4.1975,\n",
       " '003069_2014-06-15_14-57-50_094959634447_rgbf000150-resize_4': 4.208,\n",
       " '001133_2014-06-17_14-49-16_260595134347_rgbf000100-resize_0': 4.2115,\n",
       " '001094_2014-06-15_17-36-00_260595134347_rgbf000205-resize_0': 4.217499999999999,\n",
       " '001066_2014-06-08_22-03-20_260595134347_rgbf000066-resize_4': 4.2330000000000005,\n",
       " '001808_2014-06-26_20-50-58_260595134347_rgbf000029-resize_1': 4.249,\n",
       " '001175_2014-06-17_15-45-55_260595134347_rgbf000129-resize_4': 4.255,\n",
       " '000414_2014-06-04_19-49-13_260595134347_rgbf000044-resize_0': 4.329,\n",
       " '002414_2014-06-28_20-24-58_260595134347_rgbf000067-resize_4': 4.3629999999999995,\n",
       " '001148_2014-06-17_15-26-42_260595134347_rgbf000129-resize_0': 4.368,\n",
       " '002444_2014-06-28_20-32-08_260595134347_rgbf000027-resize_0': 4.388999999999999,\n",
       " '002039_2014-06-24_20-22-38_260595134347_rgbf000084-resize_1': 4.4079999999999995,\n",
       " '001570_2014-06-20_17-21-09_260595134347_rgbf000135-resize_4': 4.467,\n",
       " '000447_2014-06-08_16-15-46_260595134347_rgbf000130-resize_1': 4.479,\n",
       " '001158_2014-06-17_15-32-16_260595134347_rgbf000138-resize_2': 4.5315,\n",
       " '001417_2014-06-19_16-25-36_260595134347_rgbf000115-resize_5': 4.6255,\n",
       " '000742_2014-06-08_18-48-09_260595134347_rgbf000164-resize_4': 4.632,\n",
       " '002748_2014-06-22_19-07-22_094959634447_rgbf000078-resize_1': 4.6705000000000005,\n",
       " '002467_2014-06-28_20-38-07_260595134347_rgbf000026-resize_2': 4.742,\n",
       " '002663_2014-06-13_15-50-26_094959634447_rgbf000075-resize_1': 4.749499999999999,\n",
       " '002988_2014-06-15_12-24-20_094959634447_rgbf000150-resize_1': 4.7669999999999995,\n",
       " '001828_2014-06-26_21-40-03_260595134347_rgbf000024-resize_0': 4.8260000000000005,\n",
       " '000486_2014-06-09_20-47-20_260595134347_rgbf000143-resize_2': 4.8325,\n",
       " '000556_2014-06-09_22-42-56_260595134347_rgbf000214-resize_1': 4.8415,\n",
       " '002305_2014-06-28_19-56-50_260595134347_rgbf000102-resize_7': 4.8725,\n",
       " '002657_2014-06-13_15-29-54_094959634447_rgbf000150-resize_1': 4.9190000000000005,\n",
       " '003129_2014-05-12_10-48-10_094959634447_rgbf000100-resize_0': 4.9305,\n",
       " '000773_2014-06-08_22-24-54_260595134347_rgbf000093-resize_1': 4.973}"
      ]
     },
     "execution_count": 583,
     "metadata": {},
     "output_type": "execute_result"
    }
   ],
   "source": [
    "sorted_dict"
   ]
  },
  {
   "cell_type": "code",
   "execution_count": 584,
   "metadata": {},
   "outputs": [],
   "source": [
    "stimuli = []\n",
    "\n",
    "for key in sorted_dict:\n",
    "    stimuli.append(key)\n",
    "    "
   ]
  },
  {
   "cell_type": "code",
   "execution_count": null,
   "metadata": {},
   "outputs": [],
   "source": []
  },
  {
   "cell_type": "markdown",
   "metadata": {},
   "source": [
    "## Look at Depth Difference Distribution"
   ]
  },
  {
   "cell_type": "code",
   "execution_count": 586,
   "metadata": {
    "collapsed": true,
    "jupyter": {
     "outputs_hidden": true
    }
   },
   "outputs": [
    {
     "name": "stdout",
     "output_type": "stream",
     "text": [
      "Total number of comparisons  3140\n"
     ]
    },
    {
     "ename": "TypeError",
     "evalue": "'<=' not supported between instances of 'dict' and 'dict'",
     "output_type": "error",
     "traceback": [
      "\u001b[0;31m---------------------------------------------------------------------------\u001b[0m",
      "\u001b[0;31mTypeError\u001b[0m                                 Traceback (most recent call last)",
      "\u001b[0;32m<ipython-input-586-15ffd0363d52>\u001b[0m in \u001b[0;36m<module>\u001b[0;34m\u001b[0m\n\u001b[1;32m      1\u001b[0m \u001b[0mflat_list\u001b[0m \u001b[0;34m=\u001b[0m \u001b[0mlist\u001b[0m\u001b[0;34m(\u001b[0m\u001b[0mnp\u001b[0m\u001b[0;34m.\u001b[0m\u001b[0mconcatenate\u001b[0m\u001b[0;34m(\u001b[0m\u001b[0mdifferences\u001b[0m\u001b[0;34m)\u001b[0m\u001b[0;34m.\u001b[0m\u001b[0mflat\u001b[0m\u001b[0;34m)\u001b[0m\u001b[0;34m\u001b[0m\u001b[0;34m\u001b[0m\u001b[0m\n\u001b[1;32m      2\u001b[0m \u001b[0mprint\u001b[0m\u001b[0;34m(\u001b[0m\u001b[0;34m\"Total number of comparisons \"\u001b[0m\u001b[0;34m,\u001b[0m\u001b[0mlen\u001b[0m\u001b[0;34m(\u001b[0m\u001b[0mflat_list\u001b[0m\u001b[0;34m)\u001b[0m\u001b[0;34m)\u001b[0m\u001b[0;34m\u001b[0m\u001b[0;34m\u001b[0m\u001b[0m\n\u001b[0;32m----> 3\u001b[0;31m \u001b[0mprint\u001b[0m\u001b[0;34m(\u001b[0m\u001b[0;34m\"Minimum depth difference\"\u001b[0m\u001b[0;34m,\u001b[0m \u001b[0mnp\u001b[0m\u001b[0;34m.\u001b[0m\u001b[0mamin\u001b[0m\u001b[0;34m(\u001b[0m\u001b[0mflat_list\u001b[0m\u001b[0;34m)\u001b[0m\u001b[0;34m)\u001b[0m\u001b[0;34m\u001b[0m\u001b[0;34m\u001b[0m\u001b[0m\n\u001b[0m\u001b[1;32m      4\u001b[0m \u001b[0mprint\u001b[0m\u001b[0;34m(\u001b[0m\u001b[0;34m\"Maximum depth difference\"\u001b[0m\u001b[0;34m,\u001b[0m \u001b[0mnp\u001b[0m\u001b[0;34m.\u001b[0m\u001b[0mamax\u001b[0m\u001b[0;34m(\u001b[0m\u001b[0mflat_list\u001b[0m\u001b[0;34m)\u001b[0m\u001b[0;34m)\u001b[0m\u001b[0;34m\u001b[0m\u001b[0;34m\u001b[0m\u001b[0m\n\u001b[1;32m      5\u001b[0m \u001b[0mprint\u001b[0m\u001b[0;34m(\u001b[0m\u001b[0;34m\"Average depth difference\"\u001b[0m\u001b[0;34m,\u001b[0m \u001b[0mnp\u001b[0m\u001b[0;34m.\u001b[0m\u001b[0mmean\u001b[0m\u001b[0;34m(\u001b[0m\u001b[0mflat_list\u001b[0m\u001b[0;34m)\u001b[0m\u001b[0;34m)\u001b[0m\u001b[0;34m\u001b[0m\u001b[0;34m\u001b[0m\u001b[0m\n",
      "\u001b[0;32m<__array_function__ internals>\u001b[0m in \u001b[0;36mamin\u001b[0;34m(*args, **kwargs)\u001b[0m\n",
      "\u001b[0;32m~/opt/anaconda3/envs/defaultenv/lib/python3.7/site-packages/numpy/core/fromnumeric.py\u001b[0m in \u001b[0;36mamin\u001b[0;34m(a, axis, out, keepdims, initial, where)\u001b[0m\n\u001b[1;32m   2744\u001b[0m     \"\"\"\n\u001b[1;32m   2745\u001b[0m     return _wrapreduction(a, np.minimum, 'min', axis, None, out,\n\u001b[0;32m-> 2746\u001b[0;31m                           keepdims=keepdims, initial=initial, where=where)\n\u001b[0m\u001b[1;32m   2747\u001b[0m \u001b[0;34m\u001b[0m\u001b[0m\n\u001b[1;32m   2748\u001b[0m \u001b[0;34m\u001b[0m\u001b[0m\n",
      "\u001b[0;32m~/opt/anaconda3/envs/defaultenv/lib/python3.7/site-packages/numpy/core/fromnumeric.py\u001b[0m in \u001b[0;36m_wrapreduction\u001b[0;34m(obj, ufunc, method, axis, dtype, out, **kwargs)\u001b[0m\n\u001b[1;32m     88\u001b[0m                 \u001b[0;32mreturn\u001b[0m \u001b[0mreduction\u001b[0m\u001b[0;34m(\u001b[0m\u001b[0maxis\u001b[0m\u001b[0;34m=\u001b[0m\u001b[0maxis\u001b[0m\u001b[0;34m,\u001b[0m \u001b[0mout\u001b[0m\u001b[0;34m=\u001b[0m\u001b[0mout\u001b[0m\u001b[0;34m,\u001b[0m \u001b[0;34m**\u001b[0m\u001b[0mpasskwargs\u001b[0m\u001b[0;34m)\u001b[0m\u001b[0;34m\u001b[0m\u001b[0;34m\u001b[0m\u001b[0m\n\u001b[1;32m     89\u001b[0m \u001b[0;34m\u001b[0m\u001b[0m\n\u001b[0;32m---> 90\u001b[0;31m     \u001b[0;32mreturn\u001b[0m \u001b[0mufunc\u001b[0m\u001b[0;34m.\u001b[0m\u001b[0mreduce\u001b[0m\u001b[0;34m(\u001b[0m\u001b[0mobj\u001b[0m\u001b[0;34m,\u001b[0m \u001b[0maxis\u001b[0m\u001b[0;34m,\u001b[0m \u001b[0mdtype\u001b[0m\u001b[0;34m,\u001b[0m \u001b[0mout\u001b[0m\u001b[0;34m,\u001b[0m \u001b[0;34m**\u001b[0m\u001b[0mpasskwargs\u001b[0m\u001b[0;34m)\u001b[0m\u001b[0;34m\u001b[0m\u001b[0;34m\u001b[0m\u001b[0m\n\u001b[0m\u001b[1;32m     91\u001b[0m \u001b[0;34m\u001b[0m\u001b[0m\n\u001b[1;32m     92\u001b[0m \u001b[0;34m\u001b[0m\u001b[0m\n",
      "\u001b[0;31mTypeError\u001b[0m: '<=' not supported between instances of 'dict' and 'dict'"
     ]
    }
   ],
   "source": [
    "flat_list = list(np.concatenate(differences).flat)\n",
    "print(\"Total number of comparisons \",len(flat_list))\n",
    "print(\"Minimum depth difference\", np.amin(flat_list))\n",
    "print(\"Maximum depth difference\", np.amax(flat_list))\n",
    "print(\"Average depth difference\", np.mean(flat_list))\n",
    "print(\"Median depth difference\", np.median(flat_list))\n",
    "plt.figure(figsize=[8,8])\n",
    "plt.hist(flat_list, bins=1000)\n",
    "plt.title(\"Distribution of All Possible Depth Discriminations\")\n",
    "plt.xlabel(\"Depth Difference (m)\")\n",
    "plt.ylabel(\"count\")\n",
    "plt.show();\n"
   ]
  },
  {
   "cell_type": "code",
   "execution_count": 475,
   "metadata": {
    "jupyter": {
     "source_hidden": true
    }
   },
   "outputs": [],
   "source": [
    "depths = list(sorted_dict.values())\n",
    "n = len(depths)//4\n",
    "bin_size1m = [depths[i:i + n] for i in range(0, len(depths), n)]\n"
   ]
  },
  {
   "cell_type": "code",
   "execution_count": 476,
   "metadata": {
    "jupyter": {
     "source_hidden": true
    }
   },
   "outputs": [],
   "source": [
    "differences_1m_2m = []\n",
    "for val in bin_size1m[0]:\n",
    "    compare = bin_size1m[0]\n",
    "    compare.remove(val)\n",
    "    diff = [abs(elem-val) for elem in compare]\n",
    "    differences_1m_2m.append(diff)"
   ]
  },
  {
   "cell_type": "code",
   "execution_count": 479,
   "metadata": {
    "collapsed": true,
    "jupyter": {
     "outputs_hidden": true,
     "source_hidden": true
    }
   },
   "outputs": [
    {
     "name": "stdout",
     "output_type": "stream",
     "text": [
      "Total number of comparisons  852\n",
      "Minimum depth difference 0.0\n",
      "Maximum depth difference 0.8580000000000001\n",
      "Average depth difference 0.24793231611893582\n",
      "Median depth difference 0.21125000000000005\n"
     ]
    },
    {
     "data": {
      "image/png": "[encoded data removed]",
      "text/plain": [
       "<Figure size 576x576 with 1 Axes>"
      ]
     },
     "metadata": {
      "needs_background": "light"
     },
     "output_type": "display_data"
    }
   ],
   "source": [
    "flat_list_1m_2m = list(np.concatenate(differences_1m_2m).flat)\n",
    "print(\"Total number of comparisons \",len(flat_list_1m_2m))\n",
    "print(\"Minimum depth difference\", np.amin(flat_list_1m_2m))\n",
    "print(\"Maximum depth difference\", np.amax(flat_list_1m_2m))\n",
    "print(\"Average depth difference\", np.mean(flat_list_1m_2m))\n",
    "print(\"Median depth difference\", np.median(flat_list_1m_2m))\n",
    "plt.figure(figsize=[8,8])\n",
    "plt.hist(flat_list_1m_2m, bins=800)\n",
    "plt.title(\"Distribution of Depth Discriminations between 1m - 2m\")\n",
    "plt.xlabel(\"Depth Difference (m)\")\n",
    "plt.ylabel(\"count\")\n",
    "plt.show()\n"
   ]
  },
  {
   "cell_type": "code",
   "execution_count": 481,
   "metadata": {
    "jupyter": {
     "source_hidden": true
    }
   },
   "outputs": [],
   "source": [
    "differences_4m_5m = []\n",
    "for val in bin_size1m[-1]:\n",
    "    compare = bin_size1m[-1]\n",
    "    compare.remove(val)\n",
    "    diff = [abs(elem-val) for elem in compare]\n",
    "    differences_4m_5m.append(diff)"
   ]
  },
  {
   "cell_type": "code",
   "execution_count": 484,
   "metadata": {
    "collapsed": true,
    "jupyter": {
     "outputs_hidden": true,
     "source_hidden": true
    }
   },
   "outputs": [
    {
     "name": "stdout",
     "output_type": "stream",
     "text": [
      "Total number of comparisons  852\n",
      "Minimum depth difference 0.0004999999999997229\n",
      "Maximum depth difference 0.9695\n",
      "Average depth difference 0.3380596635367761\n",
      "Median depth difference 0.2644999999999995\n"
     ]
    },
    {
     "data": {
      "image/png": "[encoded data removed]",
      "text/plain": [
       "<Figure size 576x576 with 1 Axes>"
      ]
     },
     "metadata": {
      "needs_background": "light"
     },
     "output_type": "display_data"
    }
   ],
   "source": [
    "flat_list4m_5m = list(np.concatenate(differences_4m_5m).flat)\n",
    "print(\"Total number of comparisons \",len(flat_list4m_5m))\n",
    "print(\"Minimum depth difference\", np.amin(flat_list4m_5m))\n",
    "print(\"Maximum depth difference\", np.amax(flat_list4m_5m))\n",
    "print(\"Average depth difference\", np.mean(flat_list4m_5m))\n",
    "print(\"Median depth difference\", np.median(flat_list4m_5m))\n",
    "plt.figure(figsize=[8,8])\n",
    "plt.hist(flat_list4m_5m, bins=800)\n",
    "plt.title(\"Distribution of Depth Discriminations between 4m - 5m\")\n",
    "plt.xlabel(\"Depth Difference (m)\")\n",
    "plt.ylabel(\"count\")\n",
    "plt.show()"
   ]
  },
  {
   "cell_type": "code",
   "execution_count": 490,
   "metadata": {
    "collapsed": true,
    "jupyter": {
     "outputs_hidden": true,
     "source_hidden": true
    }
   },
   "outputs": [
    {
     "data": {
      "text/plain": [
       "(100, 149)"
      ]
     },
     "execution_count": 490,
     "metadata": {},
     "output_type": "execute_result"
    }
   ],
   "source": [
    "t1 = [elem for elem in flat_list4m_5m if 0.2 < elem < 0.3]\n",
    "t2 = [elem for elem in flat_list_1m_2m if 0.2 < elem < 0.3]\n",
    "\n",
    "len(t1), len(t2)"
   ]
  },
  {
   "cell_type": "markdown",
   "metadata": {},
   "source": [
    "### Create Sequence: V3 - Bin by depth difference"
   ]
  },
  {
   "cell_type": "code",
   "execution_count": 587,
   "metadata": {},
   "outputs": [
    {
     "name": "stderr",
     "output_type": "stream",
     "text": [
      "/Users/prachimahableshwarkar/opt/anaconda3/envs/defaultenv/lib/python3.7/site-packages/ipykernel_launcher.py:11: FutureWarning: elementwise comparison failed; returning scalar instead, but in the future will perform elementwise comparison\n",
      "  # This is added back by InteractiveShellApp.init_path()\n"
     ]
    }
   ],
   "source": [
    "# differences is organized where each element is the list of possible trial comparisons with stim1 \n",
    "# i.e. len(differences) is the number of total stimuli (192)\n",
    "\n",
    "differences = []\n",
    "\n",
    "for stim in stimuli:\n",
    "    depth0 = sorted_dict[stim]\n",
    "    stim_idx = stimuli.index(stim)\n",
    "    compare = stimuli[stim_idx+1:]\n",
    "    compare_trials = [[c_stim, sorted_dict[c_stim]] for c_stim in compare]\n",
    "    if stim in np.array(compare_trials).flatten():\n",
    "        print(\"Beware of repeat comparisons\")\n",
    "\n",
    "    diff = [{\"stim1\": [stim, depth0], \"stim2\": [elem[0], elem[1]], \"diff\": abs(elem[1]-depth0)} for elem in compare_trials\n",
    "                if 0.2 < abs(elem[1]-depth0) < 0.52]\n",
    "    \n",
    "    differences.append(diff)\n",
    "    \n"
   ]
  },
  {
   "cell_type": "markdown",
   "metadata": {},
   "source": []
  },
  {
   "cell_type": "code",
   "execution_count": 588,
   "metadata": {},
   "outputs": [],
   "source": [
    "# main_differences flattens the list \n",
    "\n",
    "main_trials = []\n",
    "for stim in differences:\n",
    "    for comp in stim:\n",
    "        main_trials.append(comp)"
   ]
  },
  {
   "cell_type": "code",
   "execution_count": 589,
   "metadata": {},
   "outputs": [
    {
     "data": {
      "text/plain": [
       "2964"
      ]
     },
     "execution_count": 589,
     "metadata": {},
     "output_type": "execute_result"
    }
   ],
   "source": [
    "len(main_trials) # total number of possible comparisons "
   ]
  },
  {
   "cell_type": "code",
   "execution_count": 590,
   "metadata": {},
   "outputs": [
    {
     "data": {
      "image/png": "[encoded data removed]",
      "text/plain": [
       "<Figure size 432x288 with 1 Axes>"
      ]
     },
     "metadata": {
      "needs_background": "light"
     },
     "output_type": "display_data"
    }
   ],
   "source": [
    "# distribution of depth differences between 0.2 and 0.4 meters \n",
    "\n",
    "main_diffs = []\n",
    "for comp in main_trials:\n",
    "    d = comp['diff']\n",
    "    main_diffs.append(d)\n",
    "\n",
    "plt.figure()\n",
    "plt.hist(main_diffs, bins=100)\n",
    "plt.title(\"Distribution of depth differences between 0.2m - 0.52m\")\n",
    "plt.xlabel(\"Depth difference (m)\")\n",
    "plt.ylabel(\"count\")\n",
    "plt.show();\n"
   ]
  },
  {
   "cell_type": "code",
   "execution_count": 591,
   "metadata": {},
   "outputs": [
    {
     "data": {
      "text/plain": [
       "8"
      ]
     },
     "execution_count": 591,
     "metadata": {},
     "output_type": "execute_result"
    }
   ],
   "source": [
    "# find the ideal bin size \n",
    "\n",
    "bins = np.arange(0.2, 0.52, 0.04)\n",
    "stim_bins = {} # make dict where each key is a depth diff bin \n",
    "for b in bins:\n",
    "    stim_bins[str(round(b,2))] = []\n",
    "\n",
    "len(stim_bins)"
   ]
  },
  {
   "cell_type": "code",
   "execution_count": 592,
   "metadata": {},
   "outputs": [
    {
     "data": {
      "text/plain": [
       "{'0.2': [],\n",
       " '0.24': [],\n",
       " '0.28': [],\n",
       " '0.32': [],\n",
       " '0.36': [],\n",
       " '0.4': [],\n",
       " '0.44': [],\n",
       " '0.48': []}"
      ]
     },
     "execution_count": 592,
     "metadata": {},
     "output_type": "execute_result"
    }
   ],
   "source": [
    "stim_bins"
   ]
  },
  {
   "cell_type": "code",
   "execution_count": 593,
   "metadata": {},
   "outputs": [
    {
     "data": {
      "text/plain": [
       "{'0.2': 408,\n",
       " '0.24': 375,\n",
       " '0.28': 384,\n",
       " '0.32': 373,\n",
       " '0.36': 390,\n",
       " '0.4': 353,\n",
       " '0.44': 328,\n",
       " '0.48': 353}"
      ]
     },
     "execution_count": 593,
     "metadata": {},
     "output_type": "execute_result"
    }
   ],
   "source": [
    "# organize the depth differences into the depth bins \n",
    "for i in range(len(stim_bins)):\n",
    "    for d in main_diffs:\n",
    "        if i == 7:\n",
    "            if bins[i] <= d < (bins[i]+0.04):\n",
    "                stim_bins[str(round(bins[i], 2))].append(d)\n",
    "        else:\n",
    "            if bins[i] <= d < bins[i+1]: \n",
    "                stim_bins[str(round(bins[i], 2))].append(d)\n",
    "\n",
    "    \n",
    "                    \n",
    "\n",
    "# count how many stimuli are in each bin \n",
    "bin_count = {}\n",
    "for key in stim_bins:\n",
    "    bin_count[key] = len(stim_bins[key])\n",
    "    \n",
    "bin_count"
   ]
  },
  {
   "cell_type": "code",
   "execution_count": null,
   "metadata": {},
   "outputs": [],
   "source": []
  },
  {
   "cell_type": "code",
   "execution_count": null,
   "metadata": {},
   "outputs": [],
   "source": []
  },
  {
   "cell_type": "code",
   "execution_count": 594,
   "metadata": {},
   "outputs": [
    {
     "data": {
      "text/plain": [
       "8"
      ]
     },
     "execution_count": 594,
     "metadata": {},
     "output_type": "execute_result"
    },
    {
     "data": {
      "text/plain": [
       "{'0.2': [],\n",
       " '0.24': [],\n",
       " '0.28': [],\n",
       " '0.32': [],\n",
       " '0.36': [],\n",
       " '0.4': [],\n",
       " '0.44': [],\n",
       " '0.48': []}"
      ]
     },
     "execution_count": 594,
     "metadata": {},
     "output_type": "execute_result"
    }
   ],
   "source": [
    "\n",
    "bins = np.arange(0.2, 0.52, 0.04)\n",
    "\n",
    "\n",
    "trial_bins = {} # make dict where each key is a depth diff bin \n",
    "for b in bins:\n",
    "    trial_bins[str(round(b,2))] = []\n",
    "\n",
    "len(trial_bins)\n",
    "trial_bins"
   ]
  },
  {
   "cell_type": "code",
   "execution_count": 595,
   "metadata": {},
   "outputs": [
    {
     "data": {
      "text/plain": [
       "{'stim1': ['002272_2014-06-28_18-53-56_260595134347_rgbf000067-resize_2',\n",
       "  1.138],\n",
       " 'stim2': ['000109_2014-05-14_23-41-52_260595134347_rgbf000035-resize_9',\n",
       "  1.3545],\n",
       " 'diff': 0.21650000000000014}"
      ]
     },
     "execution_count": 595,
     "metadata": {},
     "output_type": "execute_result"
    }
   ],
   "source": [
    "main_trials[0]"
   ]
  },
  {
   "cell_type": "code",
   "execution_count": 596,
   "metadata": {},
   "outputs": [
    {
     "data": {
      "text/plain": [
       "{'0.2': 408,\n",
       " '0.24': 375,\n",
       " '0.28': 384,\n",
       " '0.32': 373,\n",
       " '0.36': 390,\n",
       " '0.4': 353,\n",
       " '0.44': 328,\n",
       " '0.48': 353}"
      ]
     },
     "execution_count": 596,
     "metadata": {},
     "output_type": "execute_result"
    }
   ],
   "source": [
    "# organize the depth differences into the depth bins \n",
    "for i in range(len(trial_bins)):\n",
    "    for comp in main_trials:\n",
    "        d = comp['diff']\n",
    "        if i == 7:\n",
    "            if bins[i] <= d < (bins[i]+0.04):\n",
    "                trial_bins[str(round(bins[i], 2))].append(comp)\n",
    "        else:\n",
    "            if bins[i] <= d < bins[i+1]: \n",
    "                trial_bins[str(round(bins[i], 2))].append(comp)\n",
    "    \n",
    "\n",
    "# count how many stimuli are in each bin \n",
    "bin_count = {}\n",
    "for key in stim_bins:\n",
    "    bin_count[key] = len(stim_bins[key])\n",
    "    \n",
    "bin_count"
   ]
  },
  {
   "cell_type": "code",
   "execution_count": null,
   "metadata": {},
   "outputs": [],
   "source": [
    "     "
   ]
  },
  {
   "cell_type": "code",
   "execution_count": null,
   "metadata": {},
   "outputs": [],
   "source": []
  },
  {
   "cell_type": "code",
   "execution_count": 597,
   "metadata": {},
   "outputs": [
    {
     "data": {
      "text/plain": [
       "8"
      ]
     },
     "execution_count": 597,
     "metadata": {},
     "output_type": "execute_result"
    }
   ],
   "source": [
    "bins = np.arange(0.2, 0.52, 0.04)\n",
    "\n",
    "\n",
    "sampled_trial_bins = {} # make dict where each key is a depth diff bin \n",
    "for b in bins:\n",
    "    sampled_trial_bins[str(round(b,2))] = []\n",
    "\n",
    "len(sampled_trial_bins)\n"
   ]
  },
  {
   "cell_type": "code",
   "execution_count": 598,
   "metadata": {},
   "outputs": [
    {
     "name": "stdout",
     "output_type": "stream",
     "text": [
      "0.2 408\n",
      "0.24 375\n",
      "0.28 384\n",
      "0.32 373\n",
      "0.36 390\n",
      "0.4 353\n",
      "0.44 328\n",
      "0.48 353\n"
     ]
    }
   ],
   "source": [
    "for t in trial_bins:\n",
    "    print(t, len(trial_bins[t]))"
   ]
  },
  {
   "cell_type": "code",
   "execution_count": null,
   "metadata": {},
   "outputs": [],
   "source": []
  },
  {
   "cell_type": "code",
   "execution_count": null,
   "metadata": {},
   "outputs": [],
   "source": []
  },
  {
   "cell_type": "markdown",
   "metadata": {},
   "source": [
    "## V4 "
   ]
  },
  {
   "cell_type": "code",
   "execution_count": 27,
   "metadata": {
    "jupyter": {
     "source_hidden": true
    }
   },
   "outputs": [
    {
     "data": {
      "text/plain": [
       "(120, 120, 60)"
      ]
     },
     "execution_count": 27,
     "metadata": {},
     "output_type": "execute_result"
    }
   ],
   "source": [
    "\n",
    "sampled_stimuli = [] # list of stimuli already sampled\n",
    "d2 = copy.deepcopy(trial_bins)\n",
    "\n",
    "for rawbin in d2:\n",
    "    random.shuffle(d2[rawbin])\n",
    "    \n",
    "bins = np.arange(0.2, 0.52, 0.04)\n",
    "sampled_trial_bins = {} # make dict where each key is a depth diff bin \n",
    "for b in bins:\n",
    "    sampled_trial_bins[str(round(b,2))] = []\n",
    "    \n",
    "C_SEQ = sampled_trial_bins\n",
    "test = []\n",
    "while len(set(sampled_stimuli)) < 120:\n",
    "    for _bin in d2:\n",
    "        if len(d2[_bin]) > 0:\n",
    "            c = 0\n",
    "            try:\n",
    "                x = True\n",
    "                if x == True:\n",
    "                    rand = random.choice(d2[_bin])\n",
    "                    stim1 = rand['stim1'][0]\n",
    "                    stim2 = rand['stim2'][0]\n",
    "                    if stim1 not in sampled_stimuli:\n",
    "                        if stim2 not in sampled_stimuli:\n",
    "                            C_SEQ[_bin].append(rand)\n",
    "                            test.append(rand)\n",
    "                            c += 1\n",
    "                            sampled_stimuli.append(stim1)\n",
    "                            sampled_stimuli.append(stim2)\n",
    "                            idx = d2[_bin].index(rand)\n",
    "                            del d2[_bin][idx]\n",
    "\n",
    "                            for diffbin in d2:\n",
    "                                count = 0\n",
    "        #                         print(\"Before\", len(d2[diffbin]), count)\n",
    "                                for trial in d2[diffbin]:\n",
    "                                    imgs = [trial['stim1'][0], trial['stim2'][0]]\n",
    "                                    if stim1 in imgs:\n",
    "                                        _idx = d2[diffbin].index(trial)\n",
    "                                        del d2[diffbin][_idx]\n",
    "                                        count += 1\n",
    "                                    if stim2 in imgs:\n",
    "                                        _jdx = d2[diffbin].index(trial)\n",
    "                                        del d2[diffbin][_jdx]\n",
    "                                        count += 1  \n",
    "\n",
    "        #                         print(\"After\", len(d2[diffbin]), count)\n",
    "\n",
    "            except:\n",
    "                print(\"Empty bin: \", _bin)\n",
    "        \n",
    "\n",
    "#         print(_bin, len(_bin), len(set(sampled_stimuli)), len(sampled_stimuli))\n",
    "# should be equal - indicates no image repeats\n",
    "len(set(sampled_stimuli)), len(sampled_stimuli), len(test) \n",
    "\n"
   ]
  },
  {
   "cell_type": "markdown",
   "metadata": {},
   "source": [
    "## V5"
   ]
  },
  {
   "cell_type": "code",
   "execution_count": 599,
   "metadata": {},
   "outputs": [
    {
     "data": {
      "text/plain": [
       "8"
      ]
     },
     "execution_count": 599,
     "metadata": {},
     "output_type": "execute_result"
    }
   ],
   "source": [
    "bins = np.arange(0.2, 0.52, 0.04)\n",
    "\n",
    "\n",
    "\n",
    "final_trial_bins = {} # make dict where each key is a depth diff bin \n",
    "for b in bins:\n",
    "    # for each depth diff key, there are 4 lists for each depth bin \n",
    "    final_trial_bins[str(round(b,2))] = [[],[],[],[]]\n",
    "\n",
    "len(final_trial_bins)"
   ]
  },
  {
   "cell_type": "code",
   "execution_count": null,
   "metadata": {},
   "outputs": [],
   "source": []
  },
  {
   "cell_type": "code",
   "execution_count": 600,
   "metadata": {},
   "outputs": [],
   "source": [
    "# trials w/in depth diff bins are organized by avg depth of the targets in the trial\n",
    "for key in trial_bins:\n",
    "    for trial in trial_bins[key]:\n",
    "        s1d = trial['stim1'][1]\n",
    "        s2d = trial['stim2'][1]\n",
    "        if 1 <= s1d < 2:\n",
    "            if 1 <= s2d <2:\n",
    "                final_trial_bins[key][3].append(trial)\n",
    "        if 2 <= s1d < 3:\n",
    "            if 2 <= s2d < 3:\n",
    "                final_trial_bins[key][2].append(trial)\n",
    "        if 3 <= s1d < 4:\n",
    "            if 3 <= s2d < 4:\n",
    "                final_trial_bins[key][1].append(trial)\n",
    "        if 4 <= s1d < 5:\n",
    "            if 4 <= s2d < 5:\n",
    "                final_trial_bins[key][0].append(trial)\n",
    "        "
   ]
  },
  {
   "cell_type": "code",
   "execution_count": 601,
   "metadata": {},
   "outputs": [
    {
     "data": {
      "text/plain": [
       "array([0.2 , 0.24, 0.28, 0.32, 0.36, 0.4 , 0.44, 0.48])"
      ]
     },
     "execution_count": 601,
     "metadata": {},
     "output_type": "execute_result"
    }
   ],
   "source": [
    "np.arange(0.2, 0.52, 0.04)\n"
   ]
  },
  {
   "cell_type": "code",
   "execution_count": null,
   "metadata": {},
   "outputs": [],
   "source": []
  },
  {
   "cell_type": "code",
   "execution_count": 611,
   "metadata": {},
   "outputs": [
    {
     "data": {
      "text/plain": [
       "(28, 64, 32)"
      ]
     },
     "execution_count": 611,
     "metadata": {},
     "output_type": "execute_result"
    }
   ],
   "source": [
    "sampled = [] # list of stimuli already sampled\n",
    "d2 = copy.deepcopy(final_trial_bins)\n",
    "\n",
    "depthdiff_keys = ['0.48', '0.44', '0.4', '0.36', '0.32', '0.28', '0.24', '0.2']\n",
    "\n",
    "bins = np.arange(0.2, 0.52, 0.04)\n",
    "sampled_trial_bins = {} # make dict where each key is a depth diff bin \n",
    "for b in bins:\n",
    "    sampled_trial_bins[str(round(b,2))] = []\n",
    "    \n",
    "FINAL_SEQ = sampled_trial_bins\n",
    "test = []\n",
    "for key in depthdiff_keys:\n",
    "    # loop through the depth bins\n",
    "    for i in range(len(d2[key])):\n",
    "        # select a trial from the depthdiff x depth bin\n",
    "        pick1 = random.choice(d2[key][i])\n",
    "        pick1_stim1 = pick1['stim1'][0]\n",
    "        pick1_stim2 = pick1['stim2'][0]\n",
    "        \n",
    "        # add selected trial to the final seq dictionary \n",
    "        FINAL_SEQ[key].append(pick1)\n",
    "        test.append(pick1)\n",
    "        sampled.append(pick1_stim1)\n",
    "        sampled.append(pick1_stim2)\n",
    "        \n",
    "        # delete trial from list of trials \n",
    "        idx = d2[key][i].index(pick1)\n",
    "        del d2[key][i][idx]\n",
    "        # delete all other trials that have these stimuli \n",
    "        for _diffkey in d2:\n",
    "            for j in range(len(d2[_diffkey])):\n",
    "                for _trial in d2[_diffkey][j]:\n",
    "                    imgs = [_trial['stim1'][0], _trial['stim2'][0]]\n",
    "                    if pick1_stim1 in imgs:\n",
    "                        _idx1 = d2[_diffkey][j].index(_trial)\n",
    "                        del d2[_diffkey][j][_idx1]\n",
    "                    if pick1_stim2 in imgs:\n",
    "                        _idx2 = d2[_diffkey][j].index(_trial)\n",
    "                        del d2[_diffkey][j][_idx2]     \n",
    "                        \n",
    "        # select a trial from the depthdiff x depth bin        \n",
    "        pick2 = random.choice(d2[key][i])\n",
    "        pick2_stim1 = pick2['stim1'][0]\n",
    "        pick2_stim2 = pick2['stim2'][0]\n",
    "        \n",
    "        # add selected trial to the final seq dictionary \n",
    "        FINAL_SEQ[key].append(pick2)\n",
    "        test.append(pick2)\n",
    "        sampled.append(pick2_stim1)\n",
    "        sampled.append(pick2_stim2)\n",
    "        \n",
    "        # delete trial from list of trials \n",
    "        idx = d2[key][i].index(pick1)\n",
    "        del d2[key][i][idx]\n",
    "        # delete all other trials that have these stimuli \n",
    "        for _diffkey in d2:\n",
    "            for j in range(len(d2[_diffkey])):\n",
    "                for _trial in d2[_diffkey][j]:\n",
    "                    imgs = [_trial['stim1'][0], _trial['stim2'][0]]\n",
    "                    if pick1_stim1 in imgs:\n",
    "                        _idx1 = d2[_diffkey][j].index(_trial)\n",
    "                        del d2[_diffkey][j][_idx1]\n",
    "                    if pick1_stim2 in imgs:\n",
    "                        _idx2 = d2[_diffkey][j].index(_trial)\n",
    "                        del d2[_diffkey][j][_idx2]    \n",
    "        \n",
    "        \n",
    "# should be equal - indicates no image repeats\n",
    "len(set(sampled)), len(sampled), len(test) \n",
    "\n"
   ]
  },
  {
   "cell_type": "code",
   "execution_count": 605,
   "metadata": {},
   "outputs": [
    {
     "name": "stdout",
     "output_type": "stream",
     "text": [
      "[8, 8, 8, 8]\n",
      "[8, 8, 8, 8]\n",
      "[16, 16, 16, 16]\n"
     ]
    }
   ],
   "source": [
    "# Sort diffbin by actual depth \n",
    "bins = np.arange(0.2, 0.52, 0.04)\n",
    "sorted_trials = {} # make dict where each key is a depth diff bin \n",
    "for b in bins:\n",
    "    sorted_trials[str(round(b,2))] = []\n",
    "    \n",
    "for diffbin in FINAL_SEQ:\n",
    "    sorted_diffbin = sorted(FINAL_SEQ[diffbin], key = lambda i: i['stim1'][1])\n",
    "    sorted_trials[diffbin] = sorted_diffbin\n",
    "    \n",
    "# number of stim1 in each DEPTH bin \n",
    "depthbin_count_stim1 = [0,0,0,0]\n",
    "for diffbin in sorted_trials:\n",
    "    for trial in sorted_trials[diffbin]:\n",
    "        if trial['stim1'][1] < 2:\n",
    "            depthbin_count_stim1[0] += 1\n",
    "        if 2 <= trial['stim1'][1] < 3:\n",
    "            depthbin_count_stim1[1] += 1\n",
    "        if 3 <= trial['stim1'][1] < 4:\n",
    "            depthbin_count_stim1[2] += 1\n",
    "        if 4 <= trial['stim1'][1] < 5:\n",
    "            depthbin_count_stim1[3] += 1\n",
    "print(depthbin_count_stim1)\n",
    "\n",
    "# number of stim1 in each DEPTH bin \n",
    "depthbin_count_stim2 = [0,0,0,0]\n",
    "for diffbin in sorted_trials:\n",
    "    for trial in sorted_trials[diffbin]:\n",
    "        if trial['stim2'][1] < 2:\n",
    "            depthbin_count_stim2[0] += 1\n",
    "        if 2 <= trial['stim2'][1] < 3:\n",
    "            depthbin_count_stim2[1] += 1\n",
    "        if 3 <= trial['stim2'][1] < 4:\n",
    "            depthbin_count_stim2[2] += 1\n",
    "        if 4 <= trial['stim2'][1] < 5:\n",
    "            depthbin_count_stim2[3] += 1\n",
    "print(depthbin_count_stim2)\n",
    "\n",
    "depthbin_count = [depthbin_count_stim1[i] + depthbin_count_stim2[i] for i in range(len(depthbin_count_stim1))]\n",
    "print(depthbin_count)"
   ]
  },
  {
   "cell_type": "code",
   "execution_count": 373,
   "metadata": {
    "collapsed": true,
    "jupyter": {
     "outputs_hidden": true,
     "source_hidden": true
    }
   },
   "outputs": [
    {
     "name": "stdout",
     "output_type": "stream",
     "text": [
      "Empty bin:  0.24 0\n",
      "Empty bin:  0.24 0\n",
      "Empty bin:  0.24 0\n",
      "Empty bin:  0.24 0\n",
      "Empty bin:  0.24 0\n",
      "Empty bin:  0.24 0\n",
      "Empty bin:  0.24 0\n",
      "Empty bin:  0.24 0\n",
      "Empty bin:  0.24 0\n",
      "Empty bin:  0.24 0\n",
      "Empty bin:  0.24 1\n",
      "Empty bin:  0.24 1\n",
      "Empty bin:  0.24 1\n",
      "Empty bin:  0.24 1\n",
      "Empty bin:  0.24 1\n",
      "Empty bin:  0.24 1\n",
      "Empty bin:  0.24 1\n",
      "Empty bin:  0.24 2\n",
      "Empty bin:  0.24 2\n",
      "Empty bin:  0.24 2\n",
      "Empty bin:  0.24 2\n",
      "Empty bin:  0.24 2\n",
      "Empty bin:  0.24 2\n",
      "Empty bin:  0.24 2\n",
      "Empty bin:  0.24 2\n",
      "Empty bin:  0.24 2\n",
      "Empty bin:  0.24 2\n",
      "Empty bin:  0.24 3\n",
      "Empty bin:  0.24 3\n",
      "Empty bin:  0.24 3\n",
      "Empty bin:  0.24 3\n",
      "Empty bin:  0.24 3\n",
      "Empty bin:  0.24 3\n",
      "Empty bin:  0.24 3\n",
      "Empty bin:  0.24 3\n",
      "Empty bin:  0.28 0\n",
      "Empty bin:  0.28 0\n",
      "Empty bin:  0.28 0\n",
      "Empty bin:  0.28 1\n",
      "Empty bin:  0.28 1\n",
      "Empty bin:  0.28 1\n",
      "Empty bin:  0.28 2\n",
      "Empty bin:  0.28 2\n",
      "Empty bin:  0.28 2\n",
      "Empty bin:  0.28 2\n",
      "Empty bin:  0.28 2\n",
      "Empty bin:  0.28 2\n",
      "Empty bin:  0.28 3\n",
      "Empty bin:  0.32 0\n",
      "Empty bin:  0.32 0\n",
      "Empty bin:  0.32 1\n",
      "Empty bin:  0.32 1\n",
      "Empty bin:  0.32 2\n",
      "Empty bin:  0.32 2\n",
      "Empty bin:  0.32 3\n",
      "Empty bin:  0.32 3\n",
      "Empty bin:  0.32 3\n",
      "Empty bin:  0.36 0\n",
      "Empty bin:  0.36 1\n",
      "Empty bin:  0.36 1\n",
      "Empty bin:  0.36 2\n",
      "Empty bin:  0.36 3\n",
      "Empty bin:  0.4 1\n",
      "Empty bin:  0.4 1\n",
      "Empty bin:  0.4 1\n",
      "Empty bin:  0.4 2\n",
      "Empty bin:  0.44 0\n",
      "Empty bin:  0.48 0\n",
      "Empty bin:  0.48 3\n",
      "Empty bin:  0.52 1\n",
      "Empty bin:  0.52 3\n"
     ]
    },
    {
     "data": {
      "text/plain": [
       "(142, 142, 71)"
      ]
     },
     "execution_count": 373,
     "metadata": {},
     "output_type": "execute_result"
    }
   ],
   "source": [
    "sampled_stimuli = [] # list of stimuli already sampled\n",
    "d2 = copy.deepcopy(final_trial_bins)\n",
    "\n",
    "for rawbin in d2:\n",
    "    random.shuffle(d2[rawbin])\n",
    "    \n",
    "bins = np.arange(0.24, 0.54, 0.04)\n",
    "sampled_trial_bins = {} # make dict where each key is a depth diff bin \n",
    "for b in bins:\n",
    "    sampled_trial_bins[str(round(b,2))] = []\n",
    "    \n",
    "C_SEQ = sampled_trial_bins\n",
    "test = []\n",
    "for _bin in d2:\n",
    "    for j in range(len(d2[_bin])):\n",
    "        # 8 depth diff bins, so if we want 160 unique images\n",
    "            # we need to have 20 images from each depth diff bin \n",
    "                # there are 4 depth bins, so there we need 5 images from each depth bin\n",
    "        dbin_count = 0\n",
    "#         while dbin_count < 2:\n",
    "        for i in range(10):      \n",
    "            c = 0\n",
    "            try:\n",
    "                rand = random.choice(d2[_bin][j])\n",
    "                stim1 = rand['stim1'][0]\n",
    "                stim2 = rand['stim2'][0]\n",
    "                if stim1 not in sampled_stimuli:\n",
    "                    if stim2 not in sampled_stimuli:\n",
    "                        dbin_count += 1\n",
    "                        C_SEQ[_bin].append(rand)\n",
    "                        test.append(rand)\n",
    "                        c += 1\n",
    "                        sampled_stimuli.append(stim1)\n",
    "                        sampled_stimuli.append(stim2)\n",
    "                        idx = d2[_bin][j].index(rand)\n",
    "                        del d2[_bin][j][idx]\n",
    "\n",
    "                        for diffbin in d2:\n",
    "                            count = 0\n",
    "                            for depthbin in d2[diffbin]:\n",
    "                                for trial in depthbin:\n",
    "                                    imgs = [trial['stim1'][0], trial['stim2'][0]]\n",
    "                                    if stim1 in imgs:\n",
    "                                        _idx = d2[diffbin][j].index(trial)\n",
    "                                        del d2[diffbin][j][_idx]\n",
    "                                        count += 1\n",
    "                                    if stim2 in imgs:\n",
    "                                        _jdx = d2[diffbin][j].index(trial)\n",
    "                                        del d2[diffbin][j][_jdx]\n",
    "                                        count += 1  \n",
    "\n",
    "\n",
    "            except:\n",
    "                print(\"Empty bin: \", _bin, j)\n",
    "\n",
    "\n",
    "#         print(_bin, len(_bin), len(set(sampled_stimuli)), len(sampled_stimuli))\n",
    "# should be equal - indicates no image repeats\n",
    "len(set(sampled_stimuli)), len(sampled_stimuli), len(test) \n",
    "\n"
   ]
  },
  {
   "cell_type": "code",
   "execution_count": 300,
   "metadata": {
    "jupyter": {
     "source_hidden": true
    }
   },
   "outputs": [
    {
     "data": {
      "text/plain": [
       "(148, 148, 74)"
      ]
     },
     "execution_count": 300,
     "metadata": {},
     "output_type": "execute_result"
    }
   ],
   "source": [
    "len(set(sampled_stimuli)), len(sampled_stimuli), len(test) \n",
    "# PILOT IT AT 86 TRIALS \n",
    "# feature discovery counterbalancing \n",
    "#  fixation stim 1 mask fixation stim 2\n",
    "\n",
    "# pilot version od depth experiment where we hold target position constant \n",
    "    # let scene move \n",
    "    # shift y position of image \n",
    "    # add column to stim file \n",
    "    # that is the y position \n",
    "    # as i display it do minus y with some coefficient\n",
    "    # need to log the y position \n",
    "    # mask transformation needs to match the stimuli \n",
    "    \n",
    "    # this way duraiton effect has nthing to do with the target, it is hinged on the scene \n",
    "    # deals w concern that duration effect is due to uncertainty of where the target is \n",
    "    # this has a different problem that maybe duration effect is because of the cues and we are shifting the reference frame\n",
    "    # \n",
    "    \n",
    "# TRY TO HAVE THESE READY BY FRIDAY \n",
    "# Pilot position one where i shift position in the image \n",
    "# if its not disasterous for verbal judgements, then do discrimination like this too \n",
    "# this localaziation arguemtnd doesnt really make sense since we have systematic underestimation "
   ]
  },
  {
   "cell_type": "markdown",
   "metadata": {
    "jupyter": {
     "source_hidden": true
    }
   },
   "source": [
    "make this my 2nd year paper \n",
    "- these 4 experiments \n",
    "- by end of summer \n",
    "- regressions for cue values \n",
    "- object frequency as a measure \n",
    "    - how often is this object seen in this set \n",
    "    - familiarity measure for the target only \n",
    "        - freq measure \n",
    "        - count freq of that label from simons corpus of english language \n",
    "            - give him the list of common nouns \n",
    "- surface size of ground plane \n",
    "- navigability rating \n",
    "- clutter\n",
    "    - diff from ideal and actual depth distirbution \n",
    "- height from Ground\n",
    "Look at each target \n",
    "- is this like a stick or will you hit air as you go from target to ground like table OR is it not connected to ground plane \n",
    "like hanging from the ceiling \n",
    "- parameterize ALL by height \n",
    "- remove the images with hanging frmo ceiling if there are only a few bc they will dominate the regression \n",
    "\n",
    "- mean depth of the room \n",
    "    - volume of the space from the clutter algorithm \n",
    "    - avg of ideal \n",
    "    \n",
    "linear mixed model - deals with collinearity \n",
    "- on everything at once \n",
    "- duration, cues (6), subject, depth\n",
    "\n",
    "First run just depth by duration \n",
    "- still linear mixed model \n",
    "- do without the cues \n",
    "- explain \n",
    "    "
   ]
  },
  {
   "cell_type": "code",
   "execution_count": 297,
   "metadata": {
    "jupyter": {
     "source_hidden": true
    }
   },
   "outputs": [
    {
     "data": {
      "text/plain": [
       "8"
      ]
     },
     "execution_count": 297,
     "metadata": {},
     "output_type": "execute_result"
    }
   ],
   "source": [
    "import numpy as np\n",
    "len(np.arange(0.2, 0.52, 0.04)) # expand bins to WIDER --> 0.02 or 0.03 --> want 16 bins total \n",
    "# could have a tolerance for freq in the bins \n",
    "# NEED the 96 images to work "
   ]
  },
  {
   "cell_type": "code",
   "execution_count": 359,
   "metadata": {
    "collapsed": true,
    "jupyter": {
     "outputs_hidden": true,
     "source_hidden": true
    }
   },
   "outputs": [
    {
     "name": "stdout",
     "output_type": "stream",
     "text": [
      "140\n"
     ]
    },
    {
     "data": {
      "image/png": "[encoded data removed]",
      "text/plain": [
       "<Figure size 432x288 with 1 Axes>"
      ]
     },
     "metadata": {
      "needs_background": "light"
     },
     "output_type": "display_data"
    }
   ],
   "source": [
    "depths = []\n",
    "\n",
    "for diffbin in C_SEQ:\n",
    "    for trial in C_SEQ[diffbin]:\n",
    "        d1 = trial['stim1'][1]\n",
    "        d2 = trial['stim2'][1]\n",
    "        avg = (d1 + d2)/2\n",
    "        depths.append(d1)\n",
    "        depths.append(d2)\n",
    "print(len(depths))\n",
    "       \n",
    "plt.hist(depths, bins=4)\n",
    "plt.show();"
   ]
  },
  {
   "cell_type": "code",
   "execution_count": 321,
   "metadata": {},
   "outputs": [],
   "source": [
    "depths.sort()"
   ]
  },
  {
   "cell_type": "code",
   "execution_count": null,
   "metadata": {},
   "outputs": [],
   "source": []
  },
  {
   "cell_type": "code",
   "execution_count": 360,
   "metadata": {},
   "outputs": [],
   "source": [
    "final_seq = copy.deepcopy(test)\n",
    "final_seq_dict = copy.deepcopy(C_SEQ)"
   ]
  },
  {
   "cell_type": "code",
   "execution_count": 361,
   "metadata": {},
   "outputs": [
    {
     "data": {
      "text/plain": [
       "32"
      ]
     },
     "execution_count": 361,
     "metadata": {},
     "output_type": "execute_result"
    }
   ],
   "source": [
    "len(final_seq)"
   ]
  },
  {
   "cell_type": "code",
   "execution_count": 362,
   "metadata": {
    "collapsed": true,
    "jupyter": {
     "outputs_hidden": true,
     "source_hidden": true
    }
   },
   "outputs": [
    {
     "name": "stdout",
     "output_type": "stream",
     "text": [
      "0.24 37\n",
      "0.28 11\n",
      "0.32 5\n",
      "0.36 8\n",
      "0.4 5\n",
      "0.44 1\n",
      "0.48 2\n",
      "0.52 1\n"
     ]
    }
   ],
   "source": [
    "for diffbin in C_SEQ:\n",
    "    print(diffbin, len(C_SEQ[diffbin]))"
   ]
  },
  {
   "cell_type": "code",
   "execution_count": 363,
   "metadata": {
    "jupyter": {
     "source_hidden": true
    }
   },
   "outputs": [],
   "source": [
    "# Sort diffbin by actual depth \n",
    "bins = np.arange(0.24, 0.54, 0.04)\n",
    "sorted_trials = {} # make dict where each key is a depth diff bin \n",
    "for b in bins:\n",
    "    sorted_trials[str(round(b,2))] = []\n",
    "    \n",
    "for diffbin in C_SEQ:\n",
    "    sorted_diffbin = sorted(C_SEQ[diffbin], key = lambda i: i['stim1'][1])\n",
    "    sorted_trials[diffbin] = sorted_diffbin"
   ]
  },
  {
   "cell_type": "code",
   "execution_count": 364,
   "metadata": {
    "jupyter": {
     "source_hidden": true
    }
   },
   "outputs": [
    {
     "data": {
      "text/plain": [
       "[23, 16, 18, 12]"
      ]
     },
     "execution_count": 364,
     "metadata": {},
     "output_type": "execute_result"
    }
   ],
   "source": [
    "# number of stim1 in each DEPTH bin \n",
    "depthbin_count_stim1 = [0,0,0,0]\n",
    "for diffbin in sorted_trials:\n",
    "    for trial in sorted_trials[diffbin]:\n",
    "        if trial['stim1'][1] < 2:\n",
    "            depthbin_count_stim1[0] += 1\n",
    "        if 2 < trial['stim1'][1] < 3:\n",
    "            depthbin_count_stim1[1] += 1\n",
    "        if 3 < trial['stim1'][1] < 4:\n",
    "            depthbin_count_stim1[2] += 1\n",
    "        if 4 < trial['stim1'][1] < 5:\n",
    "            depthbin_count_stim1[3] += 1\n",
    "depthbin_count_stim1"
   ]
  },
  {
   "cell_type": "code",
   "execution_count": 365,
   "metadata": {
    "jupyter": {
     "source_hidden": true
    }
   },
   "outputs": [
    {
     "data": {
      "text/plain": [
       "[12, 20, 14, 24]"
      ]
     },
     "execution_count": 365,
     "metadata": {},
     "output_type": "execute_result"
    }
   ],
   "source": [
    "# number of stim1 in each DEPTH bin \n",
    "depthbin_count_stim2 = [0,0,0,0]\n",
    "for diffbin in sorted_trials:\n",
    "    for trial in sorted_trials[diffbin]:\n",
    "        if trial['stim2'][1] < 2:\n",
    "            depthbin_count_stim2[0] += 1\n",
    "        if 2 < trial['stim2'][1] < 3:\n",
    "            depthbin_count_stim2[1] += 1\n",
    "        if 3 < trial['stim2'][1] < 4:\n",
    "            depthbin_count_stim2[2] += 1\n",
    "        if 4 < trial['stim2'][1] < 5:\n",
    "            depthbin_count_stim2[3] += 1\n",
    "depthbin_count_stim2"
   ]
  },
  {
   "cell_type": "code",
   "execution_count": 366,
   "metadata": {
    "jupyter": {
     "source_hidden": true
    }
   },
   "outputs": [
    {
     "data": {
      "text/plain": [
       "[35, 36, 32, 36]"
      ]
     },
     "execution_count": 366,
     "metadata": {},
     "output_type": "execute_result"
    }
   ],
   "source": [
    "depthbin_count = [depthbin_count_stim1[i] + depthbin_count_stim2[i] for i in range(len(depthbin_count_stim1))]\n",
    "depthbin_count"
   ]
  },
  {
   "cell_type": "markdown",
   "metadata": {},
   "source": [
    "Need even distribution of depth difference and depth bin in each block"
   ]
  },
  {
   "cell_type": "code",
   "execution_count": 527,
   "metadata": {},
   "outputs": [],
   "source": [
    "# divide all trials in each diffbin into 4 - i.e. the 4 depth bins\n",
    "# add those into the sorted depth bin list \n",
    "# result: depth bins that have an even distribution of each diffbin "
   ]
  },
  {
   "cell_type": "code",
   "execution_count": 116,
   "metadata": {},
   "outputs": [
    {
     "name": "stdout",
     "output_type": "stream",
     "text": [
      "2 3 2 3\n",
      "2 3 2 4\n",
      "2 3 2 4\n",
      "3 4 3 3\n",
      "2 3 2 4\n",
      "2 3 2 3\n",
      "2 3 2 4\n",
      "3 4 3 2\n"
     ]
    }
   ],
   "source": [
    "depthbin1_sorted = []\n",
    "depthbin2_sorted = []\n",
    "depthbin3_sorted = []\n",
    "depthbin4_sorted = []\n",
    "\n",
    "for diffbin in sorted_trials:\n",
    "    length = len(sorted_trials[diffbin])\n",
    "\n",
    "    t1 = sorted_trials[diffbin][:length//4]\n",
    "    depthbin1_sorted += t1\n",
    "    t2 = sorted_trials[diffbin][length//4:((length//4) * 2) + 1]\n",
    "    depthbin2_sorted += t2\n",
    "    t3 = sorted_trials[diffbin][((length//4) * 2)+1:((length//4) * 3) + 1]\n",
    "    depthbin3_sorted += t3\n",
    "    t4 = sorted_trials[diffbin][((length//4) * 3) + 1:]\n",
    "    depthbin4_sorted += t4\n",
    "    \n",
    "    print(len(t1), len(t2), len(t3), len(t4))\n",
    "    "
   ]
  },
  {
   "cell_type": "code",
   "execution_count": 117,
   "metadata": {},
   "outputs": [
    {
     "data": {
      "text/plain": [
       "(18, 26, 18, 27)"
      ]
     },
     "execution_count": 117,
     "metadata": {},
     "output_type": "execute_result"
    }
   ],
   "source": [
    "len(depthbin1_sorted), len(depthbin2_sorted), len(depthbin3_sorted), len(depthbin4_sorted)"
   ]
  },
  {
   "cell_type": "code",
   "execution_count": 119,
   "metadata": {},
   "outputs": [],
   "source": [
    "depthbin4_sorted = depthbin4_sorted[1:]"
   ]
  },
  {
   "cell_type": "code",
   "execution_count": 120,
   "metadata": {},
   "outputs": [
    {
     "data": {
      "text/plain": [
       "(18, 26, 18, 26)"
      ]
     },
     "execution_count": 120,
     "metadata": {},
     "output_type": "execute_result"
    }
   ],
   "source": [
    "len(depthbin1_sorted), len(depthbin2_sorted), len(depthbin3_sorted), len(depthbin4_sorted)"
   ]
  },
  {
   "cell_type": "code",
   "execution_count": 121,
   "metadata": {},
   "outputs": [],
   "source": [
    "# shuffle\n",
    "random.shuffle(depthbin1_sorted) # 4 4 5 5 \n",
    "random.shuffle(depthbin2_sorted) # 6 6 7 7 \n",
    "random.shuffle(depthbin3_sorted) # 5 5 4 4 \n",
    "random.shuffle(depthbin4_sorted) # 7 7 6 6 \n",
    "# since the lengths are not evenly divisible by 4, \n",
    "    # the above # numbers represent the number of trials from each bin that will be added to each bloc\n",
    "    # i.e. psudo equally distribute each depth bin into each block\n",
    "    # this method ensures each block is equal"
   ]
  },
  {
   "cell_type": "code",
   "execution_count": 122,
   "metadata": {},
   "outputs": [],
   "source": [
    "block1 = depthbin1_sorted[:4] + depthbin2_sorted[:6] + depthbin3_sorted[:5] + depthbin4_sorted[:7]\n",
    "block2 = depthbin1_sorted[4:4+4] + depthbin2_sorted[6:6+6] + depthbin3_sorted[5:5+5] + depthbin4_sorted[7:7+7]\n",
    "block3 = depthbin1_sorted[4+4:4+4+5] + depthbin2_sorted[6+6:6+6+7] + depthbin3_sorted[5+5:5+5+4] + depthbin4_sorted[7+7:7+7+6]\n",
    "# block4 = depthbin1_sorted[4+4+5:4+4+5+5] + depthbin2_sorted[6+6+7:6+6+7+7] + depthbin3_sorted[5+5+4:5+5+4+4] + depthbin4_sorted[7+7+6:7+7+6+6]\n",
    "block4 = depthbin1_sorted[4+4+5:] + depthbin2_sorted[6+6+7:] + depthbin3_sorted[5+5+4:] + depthbin4_sorted[7+7+6:]"
   ]
  },
  {
   "cell_type": "code",
   "execution_count": 123,
   "metadata": {},
   "outputs": [
    {
     "data": {
      "text/plain": [
       "(22, 22, 22, 22)"
      ]
     },
     "execution_count": 123,
     "metadata": {},
     "output_type": "execute_result"
    }
   ],
   "source": [
    "len(block1), len(block2), len(block3), len(block4)"
   ]
  },
  {
   "cell_type": "code",
   "execution_count": 124,
   "metadata": {},
   "outputs": [],
   "source": [
    "random.shuffle(block1)\n",
    "random.shuffle(block2)\n",
    "random.shuffle(block3)\n",
    "random.shuffle(block4)\n",
    "blocks = block1 + block2 + block3 + block4"
   ]
  },
  {
   "cell_type": "code",
   "execution_count": 125,
   "metadata": {},
   "outputs": [
    {
     "data": {
      "text/plain": [
       "{'stim1': ['003228_2014-05-14_13-42-35_094959634447_rgbf000101-resize_1',\n",
       "  1.968],\n",
       " 'stim2': ['001164_2014-06-17_15-35-46_260595134347_rgbf000085-resize_3',\n",
       "  2.354],\n",
       " 'diff': 0.3860000000000001}"
      ]
     },
     "execution_count": 125,
     "metadata": {},
     "output_type": "execute_result"
    }
   ],
   "source": [
    "blocks[0]"
   ]
  },
  {
   "cell_type": "code",
   "execution_count": 126,
   "metadata": {},
   "outputs": [],
   "source": [
    "destination = '/Users/prachi/Documents/depth_duration/depth_discrimination/discrimination_sequences/v3_sequences'\n"
   ]
  },
  {
   "cell_type": "code",
   "execution_count": 128,
   "metadata": {},
   "outputs": [],
   "source": [
    "sequence_dictionaries = []\n",
    "rotated_sequence_dictionaries = [] # order of images is flipped\n",
    "seq_names = ['d0']\n",
    "durations = [250, 1000, 250, 1000, 250, 1000, 250, 1000, 250, 1000,\n",
    "             250, 1000, 250, 1000, 250, 1000, 250, 1000, 250, 1000,\n",
    "             250, 1000, 250, 1000, 250, 1000, 250, 1000, 250, 1000,\n",
    "             250, 1000, 250, 1000, 250, 1000, 250, 1000, 250, 1000,\n",
    "             250, 1000, 250, 1000, 250, 1000, 250, 1000, 250, 1000,\n",
    "             250, 1000, 250, 1000, 250, 1000, 250, 1000,\n",
    "             250, 1000, 250, 1000, 250, 1000, 250, 1000, 250, 1000,\n",
    "             250, 1000, 250, 1000, 250, 1000, 250, 1000, 250, 1000,\n",
    "             250, 1000, 250, 1000, 250, 1000, 250, 1000, 250, 1000]\n",
    "\n",
    "# shuffle durations \n",
    "random.shuffle(durations)\n",
    "\n",
    "for i in range(len(seq_names)):\n",
    "    seq = [] \n",
    "    rotated_seq = []\n",
    "    sequence_name = seq_names[i]\n",
    "    rotated_seq_name = seq_names[i] + '_rotated' # order rotated\n",
    "    num = 0 # iterator for bins (48 total)\n",
    "    dur_num = 0 # iterator that ensures each mask is unique and is the index for durations (list)\n",
    "    count0 = 0\n",
    "    for trial in blocks:\n",
    "        img0 = trial['stim1'][0]\n",
    "        img1 = trial['stim2'][0]\n",
    "        dict_trial = {}\n",
    "        dict_trial[\"sequence\"] = sequence_name\n",
    "        dict_trial[\"duration\"] = durations[dur_num]\n",
    "        depth0 = trial['stim1'][1]\n",
    "        depth1 = trial['stim2'][1]\n",
    "        \n",
    "        if depth0 < depth1:\n",
    "            count0 += 1\n",
    "            # if even, then keep image order as is \n",
    "            # else flip image order so that there is a 50/50 split in the correct response distribution\n",
    "            if (count0 % 2) == 0:\n",
    "                dict_trial[\"depth_0\"] = depth0\n",
    "                dict_trial[\"depth_1\"] = depth1\n",
    "\n",
    "                # this has to be the path on the server\n",
    "                targetimg_0_path = \"depth_discrimination_stimuli/\" + img0 + '/' + img0 + '-target.png'\n",
    "                targetimg_1_path = \"depth_discrimination_stimuli/\" + img1 + '/' + img1 + '-target.png'\n",
    "\n",
    "                dict_trial[\"image_path_target_0\"] = targetimg_0_path\n",
    "                dict_trial[\"image_path_target_1\"] = targetimg_1_path\n",
    "\n",
    "                dict_trial[\"mask_path\"] = \"masks/mask_\" + str(num) + \".jpg\"\n",
    "                dict_trial[\"fixation_path\"] = \"fixation.jpg\"\n",
    "\n",
    "                seq.append(dict_trial)\n",
    "    \n",
    "    \n",
    "\n",
    "                ###################### Rotated sequence ######################\n",
    "                rotated_dict_trial = {}\n",
    "                rotated_dict_trial[\"sequence\"] = rotated_seq_name\n",
    "                rotated_dict_trial[\"duration\"] = durations[dur_num]\n",
    "                dur_num += 1\n",
    "                rotated_dict_trial[\"depth_0\"] = depth1\n",
    "                rotated_dict_trial[\"depth_1\"] = depth0\n",
    "\n",
    "                # this has to be the path on the server\n",
    "                r_targetimg_0_path = \"depth_discrimination_stimuli/\" + img1 + '/' + img1 + '-target.png'\n",
    "                r_targetimg_1_path = \"depth_discrimination_stimuli/\" + img0 + '/' + img0 + '-target.png'\n",
    "\n",
    "                rotated_dict_trial[\"image_path_target_0\"] = r_targetimg_0_path\n",
    "                rotated_dict_trial[\"image_path_target_1\"] = r_targetimg_1_path\n",
    "\n",
    "                rotated_dict_trial[\"mask_path\"] = \"masks/mask_\" + str(dur_num) + \".jpg\"\n",
    "                rotated_dict_trial[\"fixation_path\"] = \"fixation.jpg\"\n",
    "\n",
    "                rotated_seq.append(rotated_dict_trial)\n",
    "                \n",
    "            else: # FLIP IMAGE ORDER --> so that there is an even 50/50 balance of image0 and image1 correct answers\n",
    "                \n",
    "                dict_trial[\"depth_0\"] = depth1\n",
    "                dict_trial[\"depth_1\"] = depth0\n",
    "\n",
    "\n",
    "                # this has to be the path on the server\n",
    "                targetimg_0_path = \"depth_discrimination_stimuli/\" + img1 + '/' + img1 + '-target.png'\n",
    "                targetimg_1_path = \"depth_discrimination_stimuli/\" + img0 + '/' + img0 + '-target.png'\n",
    "\n",
    "                dict_trial[\"image_path_target_0\"] = targetimg_0_path\n",
    "                dict_trial[\"image_path_target_1\"] = targetimg_1_path\n",
    "\n",
    "                dict_trial[\"mask_path\"] = \"masks/mask_\" + str(num) + \".jpg\"\n",
    "                dict_trial[\"fixation_path\"] = \"fixation.jpg\"\n",
    "\n",
    "                seq.append(dict_trial)\n",
    "                ###################### Rotated sequence ######################\n",
    "                rotated_dict_trial = {}\n",
    "                rotated_dict_trial[\"sequence\"] = rotated_seq_name\n",
    "                rotated_dict_trial[\"duration\"] = durations[dur_num]\n",
    "                rotated_dict_trial[\"depth_0\"] = depth0\n",
    "                rotated_dict_trial[\"depth_1\"] = depth1\n",
    "                dur_num += 1\n",
    "\n",
    "                # this has to be the path on the server\n",
    "                r_targetimg_0_path = \"depth_discrimination_stimuli/\" + img0 + '/' + img0 + '-target.png'\n",
    "                r_targetimg_1_path = \"depth_discrimination_stimuli/\" + img1 + '/' + img1 + '-target.png'\n",
    "\n",
    "                rotated_dict_trial[\"image_path_target_0\"] = r_targetimg_0_path\n",
    "                rotated_dict_trial[\"image_path_target_1\"] = r_targetimg_1_path\n",
    "\n",
    "                rotated_dict_trial[\"mask_path\"] = \"masks/mask_\" + str(dur_num) + \".jpg\"\n",
    "                rotated_dict_trial[\"fixation_path\"] = \"fixation.jpg\"\n",
    "\n",
    "                rotated_seq.append(rotated_dict_trial)\n",
    "\n",
    "        num += 1\n",
    "\n",
    "    # shuffle the order of trials so that trials are not in order of increasing depth \n",
    "    # use the same random seed for sequence & it's rotation so trials match in images \n",
    "    random.Random(i).shuffle(seq)\n",
    "    random.Random(i).shuffle(rotated_seq)\n",
    "    random.Random(i).shuffle(seq)\n",
    "    random.Random(i).shuffle(rotated_seq)\n",
    "\n",
    "    \n",
    "    sequence_dictionaries.append(seq)\n",
    "    rotated_sequence_dictionaries.append(rotated_seq)\n",
    "\n",
    "    \n",
    "for sequence in sequence_dictionaries:\n",
    "    name = sequence[0][\"sequence\"]\n",
    "    path = destination + '/' + name + '.json'\n",
    "    # creates json file for the sequence \n",
    "    with open(path, 'w') as f:\n",
    "        json.dump(sequence , f)  \n",
    "        \n",
    "for rotated_sequence in rotated_sequence_dictionaries:\n",
    "    rotated_name = rotated_sequence[0][\"sequence\"]\n",
    "    rotated_path = destination + '/' + rotated_name + '.json'\n",
    "    # creates json file for the sequence \n",
    "    with open(rotated_path, 'w') as f:\n",
    "        json.dump(rotated_sequence , f)  "
   ]
  },
  {
   "cell_type": "code",
   "execution_count": 5,
   "metadata": {},
   "outputs": [],
   "source": [
    "# NEXT: Run 'Rotate Sequence by Duration' cell below \n",
    "# LAST: Check Accuracy Distribution"
   ]
  },
  {
   "cell_type": "code",
   "execution_count": null,
   "metadata": {},
   "outputs": [],
   "source": [
    "\n"
   ]
  },
  {
   "cell_type": "markdown",
   "metadata": {},
   "source": [
    "### Create Sequences: V2 - Binned by depth"
   ]
  },
  {
   "cell_type": "code",
   "execution_count": 603,
   "metadata": {
    "jupyter": {
     "source_hidden": true
    }
   },
   "outputs": [],
   "source": [
    "# bin stimuli into 4 groups (1-2m, 2-3m, 3-4m, 4-5m)\n",
    "stim_binned = [sorted_tuples[i:i + n] for i in range(0, len(sorted_tuples), n)]\n",
    "\n",
    "# all possible comparisons within each depth bin \n",
    "# each list within the depth bin list includes dictionaries for each possible trial for a specific stimulus \n",
    "differences = [[], [], [], []]\n",
    "# loop through the depth bins\n",
    "for i in range(len(stim_binned)):\n",
    "    for val in stim_binned[i]:\n",
    "        compare = stim_binned[i]\n",
    "        compare.remove(val)\n",
    "        \n",
    "        diff = [{\"stim1\": [val[0], val[1]], \"stim2\": [elem[0], elem[1]], \"diff\": abs(elem[1]-val[1])} for elem in compare\n",
    "                if 0.2 < abs(elem[1]-val[1]) < 0.4]\n",
    "        \n",
    "#         diff = [{\"stim1\": [val[0], val[1]], \"stim2\": [elem[0], elem[1]], \"diff\": abs(elem[1]-val[1])} for elem in compare]\n",
    "\n",
    "        differences[i].append(diff)\n",
    "        \n",
    "        stim_binned = [sorted_tuples[i:i + n] for i in range(0, len(sorted_tuples), n)]\n",
    "    \n"
   ]
  },
  {
   "cell_type": "code",
   "execution_count": 605,
   "metadata": {
    "collapsed": true,
    "jupyter": {
     "outputs_hidden": true,
     "source_hidden": true
    }
   },
   "outputs": [
    {
     "data": {
      "text/plain": [
       "array([365, 332, 337, 235])"
      ]
     },
     "execution_count": 605,
     "metadata": {},
     "output_type": "execute_result"
    }
   ],
   "source": [
    "count = [0, 0, 0, 0]\n",
    "for i in range(len(differences)):\n",
    "    for stim_comp in differences[i]:\n",
    "        count[i] += len(stim_comp)\n",
    "    \n",
    "# need to divide by two since comparisons are repeated \n",
    "np.array(count)//2"
   ]
  },
  {
   "cell_type": "code",
   "execution_count": null,
   "metadata": {
    "jupyter": {
     "source_hidden": true
    }
   },
   "outputs": [],
   "source": [
    "# keep a list of used stimuli --> if selected trial has a stim that is in this list, delete this trial from the list of possible trials \n"
   ]
  },
  {
   "cell_type": "markdown",
   "metadata": {},
   "source": [
    "### Create Sequences: V1 \n",
    "\n",
    "Post-Piloting Notes:\n",
    "- The distribution of depth differences in the sequence trials is too skewed (imbalanced) \n",
    "- The discriminations are too difficult, people cannot discriminate between really small depth differences \n",
    "- Kinectv2 fidelity is pretty good\n",
    "    - L. Yang, L. Zhang, H. Dong, A. Alelaiwi and A. E. Saddik, \"Evaluating and Improving the Depth Accuracy of Kinect for Windows v2,\" in IEEE Sensors Journal, vol. 15, no. 8, pp. 4275-4285, Aug. 2015, doi: 10.1109/JSEN.2015.2416651)"
   ]
  },
  {
   "cell_type": "code",
   "execution_count": 411,
   "metadata": {
    "collapsed": true,
    "jupyter": {
     "outputs_hidden": true,
     "source_hidden": true
    }
   },
   "outputs": [
    {
     "name": "stdout",
     "output_type": "stream",
     "text": [
      "48\n",
      "3 (48,)\n"
     ]
    }
   ],
   "source": [
    "# tuples represent the indeces of images within the 4 image group \n",
    "# each sublist has 2 combinations with no image repetition \n",
    "combs = [[(0,1),(2,3)], [(0,2), (1,3)], [(0,3), (1,2)]]\n",
    "bins_combinations = [copy.deepcopy(combs),copy.deepcopy(combs),copy.deepcopy(combs),\n",
    "                     copy.deepcopy(combs),copy.deepcopy(combs),copy.deepcopy(combs),\n",
    "                     copy.deepcopy(combs),copy.deepcopy(combs),copy.deepcopy(combs),\n",
    "                     copy.deepcopy(combs),copy.deepcopy(combs),copy.deepcopy(combs),\n",
    "                     copy.deepcopy(combs),copy.deepcopy(combs),copy.deepcopy(combs),\n",
    "                     copy.deepcopy(combs),copy.deepcopy(combs),copy.deepcopy(combs),\n",
    "                     copy.deepcopy(combs),copy.deepcopy(combs),copy.deepcopy(combs),\n",
    "                     copy.deepcopy(combs),copy.deepcopy(combs),copy.deepcopy(combs),\n",
    "                     copy.deepcopy(combs),copy.deepcopy(combs),copy.deepcopy(combs),\n",
    "                     copy.deepcopy(combs),copy.deepcopy(combs),copy.deepcopy(combs),\n",
    "                     copy.deepcopy(combs),copy.deepcopy(combs),copy.deepcopy(combs),\n",
    "                     copy.deepcopy(combs),copy.deepcopy(combs),copy.deepcopy(combs),\n",
    "                     copy.deepcopy(combs),copy.deepcopy(combs),copy.deepcopy(combs),\n",
    "                     copy.deepcopy(combs),copy.deepcopy(combs),copy.deepcopy(combs),\n",
    "                     copy.deepcopy(combs),copy.deepcopy(combs),copy.deepcopy(combs),\n",
    "                     copy.deepcopy(combs),copy.deepcopy(combs),copy.deepcopy(combs)]\n",
    "print(len(bins_combinations))\n",
    "\n",
    "sequences = np.array([[None]*48]*3, dtype=object)\n",
    "print(len(sequences), sequences[0].shape)\n"
   ]
  },
  {
   "cell_type": "code",
   "execution_count": 412,
   "metadata": {
    "jupyter": {
     "source_hidden": true
    }
   },
   "outputs": [],
   "source": [
    "for seq in range(3): # 3 sequences total to completely cover the set of comparisons \n",
    "    for i in range(len(bins_combinations)): # 48 bins\n",
    "        # randomly select a list of combos \n",
    "        # the random pick is a list of two sets of image combos within that bin \n",
    "        random_picks = random.choice(bins_combinations[i])\n",
    "        random_idx = bins_combinations[i].index(random_picks)\n",
    "\n",
    "        # remove the selected image index combo \n",
    "        del bins_combinations[i][random_idx]\n",
    "\n",
    "        # add selected combo to sequence[seq]\n",
    "        sequences[seq][i]= random_picks\n",
    "        "
   ]
  },
  {
   "cell_type": "code",
   "execution_count": 413,
   "metadata": {
    "collapsed": true,
    "jupyter": {
     "outputs_hidden": true,
     "source_hidden": true
    }
   },
   "outputs": [
    {
     "data": {
      "text/plain": [
       "(48,)"
      ]
     },
     "execution_count": 413,
     "metadata": {},
     "output_type": "execute_result"
    }
   ],
   "source": [
    "sequences[0].shape"
   ]
  },
  {
   "cell_type": "code",
   "execution_count": 414,
   "metadata": {
    "collapsed": true,
    "jupyter": {
     "outputs_hidden": true,
     "source_hidden": true
    }
   },
   "outputs": [
    {
     "data": {
      "text/plain": [
       "[(0, 1), (2, 3)]"
      ]
     },
     "execution_count": 414,
     "metadata": {},
     "output_type": "execute_result"
    }
   ],
   "source": [
    "sequences[0][0]"
   ]
  },
  {
   "cell_type": "markdown",
   "metadata": {
    "jupyter": {
     "source_hidden": true
    }
   },
   "source": [
    "### Assign Images based on Sequence\n",
    "\n",
    "#### Create image order rotation sequence too"
   ]
  },
  {
   "cell_type": "code",
   "execution_count": 415,
   "metadata": {
    "jupyter": {
     "source_hidden": true
    }
   },
   "outputs": [],
   "source": [
    "destination = '/Users/prachi/Documents/depth_duration/depth_discrimination/discrimination_sequences'\n"
   ]
  },
  {
   "cell_type": "code",
   "execution_count": 420,
   "metadata": {
    "jupyter": {
     "source_hidden": true
    }
   },
   "outputs": [],
   "source": [
    "sequence_dictionaries = []\n",
    "rotated_sequence_dictionaries = [] # order of images is flipped\n",
    "seq_names = ['c0', 'c1', 'c2']\n",
    "durations = [250, 1000, 250, 1000, 250, 1000, 250, 1000, 250, 1000,\n",
    "             250, 1000, 250, 1000, 250, 1000, 250, 1000, 250, 1000,\n",
    "             250, 1000, 250, 1000, 250, 1000, 250, 1000, 250, 1000,\n",
    "             250, 1000, 250, 1000, 250, 1000, 250, 1000, 250, 1000,\n",
    "             250, 1000, 250, 1000, 250, 1000, 250, 1000, 250, 1000,\n",
    "             250, 1000, 250, 1000, 250, 1000, 250, 1000,\n",
    "             250, 1000, 250, 1000, 250, 1000, 250, 1000, 250, 1000,\n",
    "             250, 1000, 250, 1000, 250, 1000, 250, 1000, 250, 1000,\n",
    "             250, 1000, 250, 1000, 250, 1000, 250, 1000, 250, 1000,\n",
    "             250, 1000, 250, 1000, 250, 1000, 250, 1000]\n",
    "# shuffle durations \n",
    "random.shuffle(durations)\n",
    "\n",
    "for i in range(len(sequences)):\n",
    "    seq = [] \n",
    "    rotated_seq = []\n",
    "    sequence_name = seq_names[i]\n",
    "    rotated_seq_name = seq_names[i] + '_rotated' # order rotated\n",
    "    num = 0 # iterator for bins (48 total)\n",
    "    dur_num = 0 # iterator that ensures each mask is unique and is the index for durations (list)\n",
    "    count0 = 0\n",
    "    for bin_trials in sequences[i]: # loop through the 48 bins\n",
    "        for trial in bin_trials: # loop through the 2 sets of image combos ex. [(0,1), (2, 3)]\n",
    "            img0_index = trial[0]\n",
    "            img1_index = trial[1]\n",
    "            dict_trial = {}\n",
    "            dict_trial[\"sequence\"] = sequence_name\n",
    "            dict_trial[\"duration\"] = durations[num]\n",
    "            \n",
    "            depth0 = grouped_observations[num][img0_index][1]\n",
    "            depth1 = grouped_observations[num][img1_index][1]\n",
    "            if depth0 < depth1:\n",
    "                count0 += 1\n",
    "            # if even, then keep image order as is \n",
    "            # else flip image order so that there is a 50/50 split in the correct response distribution\n",
    "            if (count0 % 2) == 0:\n",
    "                \n",
    "                dict_trial[\"depth_0\"] = depth0\n",
    "                dict_trial[\"depth_1\"] = depth1\n",
    "\n",
    "                targetimg_0 = grouped_observations[num][img0_index][0]\n",
    "                targetimg_1 = grouped_observations[num][img1_index][0]\n",
    "                # this has to be the path on the server\n",
    "                targetimg_0_path = \"depth_discrimination_stimuli/\" + targetimg_0 + '/' + targetimg_0 + '-target.png'\n",
    "                targetimg_1_path = \"depth_discrimination_stimuli/\" + targetimg_1 + '/' + targetimg_1 + '-target.png'\n",
    "\n",
    "                dict_trial[\"image_path_target_0\"] = targetimg_0_path\n",
    "                dict_trial[\"image_path_target_1\"] = targetimg_1_path\n",
    "\n",
    "                dict_trial[\"mask_path\"] = \"masks/mask_\" + str(num) + \".jpg\"\n",
    "                dict_trial[\"fixation_path\"] = \"fixation.jpg\"\n",
    "\n",
    "                seq.append(dict_trial)\n",
    "                ###################### Rotated sequence ######################\n",
    "                rotated_dict_trial = {}\n",
    "                rotated_dict_trial[\"sequence\"] = rotated_seq_name\n",
    "                rotated_dict_trial[\"duration\"] = durations[dur_num]\n",
    "                dur_num += 1\n",
    "                rotated_dict_trial[\"depth_0\"] = grouped_observations[num][img1_index][1]\n",
    "                rotated_dict_trial[\"depth_1\"] = grouped_observations[num][img0_index][1]\n",
    "\n",
    "                r_targetimg_0 = grouped_observations[num][img1_index][0]\n",
    "                r_targetimg_1 = grouped_observations[num][img0_index][0]\n",
    "                # this has to be the path on the server\n",
    "                r_targetimg_0_path = \"depth_discrimination_stimuli/\" + r_targetimg_1 + '/' + r_targetimg_1 + '-target.png'\n",
    "                r_targetimg_1_path = \"depth_discrimination_stimuli/\" + r_targetimg_0 + '/' + r_targetimg_0 + '-target.png'\n",
    "\n",
    "                rotated_dict_trial[\"image_path_target_0\"] = r_targetimg_1_path\n",
    "                rotated_dict_trial[\"image_path_target_1\"] = r_targetimg_0_path\n",
    "\n",
    "                rotated_dict_trial[\"mask_path\"] = \"masks/mask_\" + str(dur_num) + \".jpg\"\n",
    "                rotated_dict_trial[\"fixation_path\"] = \"fixation.jpg\"\n",
    "\n",
    "                rotated_seq.append(rotated_dict_trial)\n",
    "                \n",
    "            else: # FLIP IMAGE ORDER --> so that there is an even 50/50 balance of image0 and image1 correct answers\n",
    "                \n",
    "                dict_trial[\"depth_0\"] = depth1\n",
    "                dict_trial[\"depth_1\"] = depth0\n",
    "\n",
    "                targetimg_0 = grouped_observations[num][img1_index][0]\n",
    "                targetimg_1 = grouped_observations[num][img0_index][0]\n",
    "                # this has to be the path on the server\n",
    "                targetimg_0_path = \"depth_discrimination_stimuli/\" + targetimg_0 + '/' + targetimg_0 + '-target.png'\n",
    "                targetimg_1_path = \"depth_discrimination_stimuli/\" + targetimg_1 + '/' + targetimg_1 + '-target.png'\n",
    "\n",
    "                dict_trial[\"image_path_target_0\"] = targetimg_0_path\n",
    "                dict_trial[\"image_path_target_1\"] = targetimg_1_path\n",
    "\n",
    "                dict_trial[\"mask_path\"] = \"masks/mask_\" + str(num) + \".jpg\"\n",
    "                dict_trial[\"fixation_path\"] = \"fixation.jpg\"\n",
    "\n",
    "                seq.append(dict_trial)\n",
    "                ###################### Rotated sequence ######################\n",
    "                rotated_dict_trial = {}\n",
    "                rotated_dict_trial[\"sequence\"] = rotated_seq_name\n",
    "                rotated_dict_trial[\"duration\"] = durations[dur_num]\n",
    "                dur_num += 1\n",
    "                rotated_dict_trial[\"depth_0\"] = grouped_observations[num][img0_index][1]\n",
    "                rotated_dict_trial[\"depth_1\"] = grouped_observations[num][img1_index][1]\n",
    "\n",
    "                r_targetimg_0 = grouped_observations[num][img0_index][0]\n",
    "                r_targetimg_1 = grouped_observations[num][img1_index][0]\n",
    "                # this has to be the path on the server\n",
    "                r_targetimg_0_path = \"depth_discrimination_stimuli/\" + r_targetimg_1 + '/' + r_targetimg_1 + '-target.png'\n",
    "                r_targetimg_1_path = \"depth_discrimination_stimuli/\" + r_targetimg_0 + '/' + r_targetimg_0 + '-target.png'\n",
    "\n",
    "                rotated_dict_trial[\"image_path_target_0\"] = r_targetimg_1_path\n",
    "                rotated_dict_trial[\"image_path_target_1\"] = r_targetimg_0_path\n",
    "\n",
    "                rotated_dict_trial[\"mask_path\"] = \"masks/mask_\" + str(dur_num) + \".jpg\"\n",
    "                rotated_dict_trial[\"fixation_path\"] = \"fixation.jpg\"\n",
    "\n",
    "                rotated_seq.append(rotated_dict_trial)\n",
    "\n",
    "        num += 1\n",
    "\n",
    "    # shuffle the order of trials so that trials are not in order of increasing depth \n",
    "    # use the same random seed for sequence & it's rotation so trials match in images \n",
    "    random.Random(i).shuffle(seq)\n",
    "    random.Random(i).shuffle(rotated_seq)\n",
    "    random.Random(i).shuffle(seq)\n",
    "    random.Random(i).shuffle(rotated_seq)\n",
    "\n",
    "    \n",
    "    sequence_dictionaries.append(seq)\n",
    "    rotated_sequence_dictionaries.append(rotated_seq)\n",
    "\n",
    "    \n",
    "for sequence in sequence_dictionaries:\n",
    "    name = sequence[0][\"sequence\"]\n",
    "    path = destination + '/' + name + '.json'\n",
    "    # creates json file for the sequence \n",
    "    with open(path, 'w') as f:\n",
    "        json.dump(sequence , f)  \n",
    "        \n",
    "for rotated_sequence in rotated_sequence_dictionaries:\n",
    "    rotated_name = rotated_sequence[0][\"sequence\"]\n",
    "    rotated_path = destination + '/' + rotated_name + '.json'\n",
    "    # creates json file for the sequence \n",
    "    with open(rotated_path, 'w') as f:\n",
    "        json.dump(rotated_sequence , f)  "
   ]
  },
  {
   "cell_type": "markdown",
   "metadata": {},
   "source": [
    "### Rotate Sequence by Duration"
   ]
  },
  {
   "cell_type": "code",
   "execution_count": 129,
   "metadata": {},
   "outputs": [],
   "source": [
    "def load_master_sequence(jsonpath):\n",
    "    return json.load(open(jsonpath))\n",
    "\n",
    "def rotate_sequence(previous_seq):\n",
    "    \"\"\"\n",
    "    Rotates each trial's duration assignment based on previous sequence \n",
    "    250 --> 1000\n",
    "    1000 --> 250\n",
    "    \"\"\"\n",
    "    rotated = previous_seq\n",
    "    for i in range(len(previous_seq)):\n",
    "        duration = previous_seq[i]['duration']\n",
    "        if duration == 1000:\n",
    "            new_duration = 250\n",
    "        else:\n",
    "            new_duration = 1000\n",
    "        rotated[i]['duration'] = new_duration\n",
    "        \n",
    "    return rotated\n",
    "\n",
    "def create_duration_rotations(jsonpath, exit, name):\n",
    "    \"\"\"\n",
    "    Args:\n",
    "        jsonpath = path to master json created through sequence pipeline\n",
    "        exit = destination path for new jsons \n",
    "        name = i.e. V1 \n",
    "    \n",
    "    Creates sequences rotated by duration so that all images in the master sequence are seen at each duration\n",
    "    (across participants)\n",
    "        \n",
    "    \"\"\"\n",
    "    master = load_master_sequence(jsonpath)\n",
    "    \n",
    "    r = rotate_sequence(master)\n",
    "    r_path = exit + '/' + name + '_dr.json' # duration rotated sequence\n",
    "    #creates json file for the sequence \n",
    "    with open(r_path, 'w') as f:\n",
    "        json.dump(r , f)\n",
    "\n",
    "        \n",
    "def main_seq_rotations(json_folderpath, exit):\n",
    "    \"\"\"\n",
    "    Create rotated sequence for each sequence in the folder\n",
    "    \"\"\"\n",
    "    for file in os.listdir(json_folderpath):\n",
    "        name = file.split(\".\")[0]\n",
    "        jsonpath = json_folderpath + \"/\" + file\n",
    "        try:\n",
    "            create_duration_rotations(jsonpath, exit, name)\n",
    "        except:\n",
    "            print(\"Failed to create json rotations for: \", file)"
   ]
  },
  {
   "cell_type": "code",
   "execution_count": 130,
   "metadata": {},
   "outputs": [
    {
     "name": "stdout",
     "output_type": "stream",
     "text": [
      "Failed to create json rotations for:  .ipynb_checkpoints\n"
     ]
    }
   ],
   "source": [
    "main_seq_rotations(destination,destination)"
   ]
  },
  {
   "cell_type": "code",
   "execution_count": null,
   "metadata": {},
   "outputs": [],
   "source": []
  },
  {
   "cell_type": "markdown",
   "metadata": {},
   "source": [
    "### Sequences:\n",
    "Original Sequence: c0 \n",
    "- c0_dr: duration assigned is rotated\n",
    "- c0_rotated: order of images if flipped\n",
    "- c0_rotated_dr: duration assigned is rotated\n",
    "\n",
    "3 original sequences \n",
    "- covers the whole space of 2 trial combinations within the 48 bins \n",
    "- 96 trials total, with 2 trials from each bin \n",
    "\n",
    "\n",
    "12 Total sequences"
   ]
  },
  {
   "cell_type": "code",
   "execution_count": 132,
   "metadata": {},
   "outputs": [
    {
     "data": {
      "text/plain": [
       "4"
      ]
     },
     "execution_count": 132,
     "metadata": {},
     "output_type": "execute_result"
    }
   ],
   "source": [
    "count = 0\n",
    "for js in os.listdir('/Users/prachi/Documents/depth_duration/depth_discrimination/discrimination_sequences/v3_sequences'):\n",
    "    if '.json' in js:\n",
    "        count += 1\n",
    "\n",
    "count"
   ]
  },
  {
   "cell_type": "markdown",
   "metadata": {},
   "source": []
  },
  {
   "cell_type": "markdown",
   "metadata": {},
   "source": [
    "## Check Accuracy Distribution for each sequence (Image 1 vs. 2) \n",
    "\n",
    "Ideally it should be 50/50"
   ]
  },
  {
   "cell_type": "code",
   "execution_count": 102,
   "metadata": {},
   "outputs": [],
   "source": [
    "def Discrimination_AccurateResponse_Distribution(jsondata):\n",
    "    \"\"\"\n",
    "    args: json data in a dictionary format\n",
    "    returns: [count0,count1] \n",
    "             where count0 is the number of trials where image 0 is the correct answer \n",
    "             where count1 is the number of trials where image 1 is the correct answer\n",
    "             \n",
    "    Question: Which target is CLOSER to you? \n",
    "    \"\"\"\n",
    "    count0 = 0\n",
    "    count1 = 0\n",
    "    equal = 0\n",
    "    \n",
    "    for trial in jsondata:\n",
    "        depth0 = trial['depth_0']\n",
    "        depth1 = trial['depth_1']\n",
    "        if depth0 < depth1:\n",
    "            count0 += 1\n",
    "        if depth0 > depth1:\n",
    "            count1 += 1\n",
    "        if depth0 == depth1:\n",
    "            equal += 1\n",
    "    return [count0, count1, equal]"
   ]
  },
  {
   "cell_type": "code",
   "execution_count": 106,
   "metadata": {},
   "outputs": [
    {
     "data": {
      "text/plain": [
       "{'d0.json': [48, 48, 0],\n",
       " 'd0_dr.json': [48, 48, 0],\n",
       " 'd0_rotated.json': [48, 48, 0],\n",
       " 'd0_rotated_dr.json': [48, 48, 0]}"
      ]
     },
     "execution_count": 106,
     "metadata": {},
     "output_type": "execute_result"
    }
   ],
   "source": [
    "main_distribution = {}\n",
    "jsons_path = '/Users/prachi/Documents/depth_duration/depth_discrimination/discrimination_sequences/v4_sequences'\n",
    "for js in os.listdir(jsons_path):\n",
    "    if '.json' in js:\n",
    "        j_path = jsons_path + '/' + js\n",
    "        with open(j_path) as f:\n",
    "            data = json.load(f)\n",
    "            main_distribution[js] = Discrimination_AccurateResponse_Distribution(data)\n",
    "\n",
    "main_distribution            \n",
    "# 88 real trials and 8 catch trials per sequence\n",
    "# distribution should be 50/50  "
   ]
  },
  {
   "cell_type": "markdown",
   "metadata": {},
   "source": [
    "# Catch Trials\n",
    "\n",
    "These trials are added to ensure that the participant is paying attention. There will be 8 catch trials, with 2 in each block. Catch trials will have large depth differences. \n",
    "\n",
    "16 stimuli: 8 short (1m - 1.5m) and 8 long (4.5m - 5m)\n",
    "\n",
    "There should be a 50/50 split of image 1 vs image 2 as the correct answer"
   ]
  },
  {
   "cell_type": "code",
   "execution_count": 25,
   "metadata": {},
   "outputs": [],
   "source": [
    "kinect2 = '/Users/prachi/Documents/depth_duration/SUNRGBD/kv2/kinect2data'\n",
    "\n",
    "sampled_stimuli = '/Users/prachi/Documents/depth_duration/mar3_depthDuration_stimuli/final_stimuli'\n",
    "\n",
    "target_stimuli = '/Users/prachi/Documents/depth_duration/mar3_depthDuration_stimuli/targetImages_kinect2data_subset'\n",
    "\n",
    "# catch trials should NOT have stimuli from the final set of stimuli for the discrimination and verbal judgement\n"
   ]
  },
  {
   "cell_type": "code",
   "execution_count": 32,
   "metadata": {},
   "outputs": [
    {
     "data": {
      "text/plain": [
       "(193, '000009_2014-05-26_14-32-05_260595134347_rgbf000034-resize')"
      ]
     },
     "execution_count": 32,
     "metadata": {},
     "output_type": "execute_result"
    }
   ],
   "source": [
    "import os\n",
    "import json \n",
    "\n",
    "sampled = []\n",
    "for file in os.listdir(sampled_stimuli):\n",
    "    sampled.append(file[:-2])\n",
    "\n",
    "len(sampled), sampled[1]       "
   ]
  },
  {
   "cell_type": "code",
   "execution_count": 33,
   "metadata": {},
   "outputs": [
    {
     "data": {
      "text/plain": [
       "(740, 0)"
      ]
     },
     "execution_count": 33,
     "metadata": {},
     "output_type": "execute_result"
    }
   ],
   "source": [
    "possible = []\n",
    "count = 0\n",
    "for file in os.listdir(target_stimuli):\n",
    "    if file in sampled:\n",
    "        count += 1\n",
    "    if file[:-2] not in sampled:\n",
    "        possible.append(target_stimuli + '/' + file)\n",
    "\n",
    "len(possible), count "
   ]
  },
  {
   "cell_type": "code",
   "execution_count": 39,
   "metadata": {},
   "outputs": [
    {
     "data": {
      "text/plain": [
       "(32, 15)"
      ]
     },
     "execution_count": 39,
     "metadata": {},
     "output_type": "execute_result"
    }
   ],
   "source": [
    "short = []\n",
    "long = []\n",
    "for file in possible:\n",
    "    with open(file + '/' + 'data.json') as f:\n",
    "        data = json.load(f)\n",
    "        depth = data['objects'][0]['crossing_point'][0]['depth']\n",
    "        if 1 < depth < 1.5:\n",
    "            short.append(file)\n",
    "        if 4.5 < depth < 5:\n",
    "            long.append(file)\n",
    "            \n",
    "len(short), len(long)"
   ]
  },
  {
   "cell_type": "code",
   "execution_count": 43,
   "metadata": {},
   "outputs": [
    {
     "data": {
      "text/plain": [
       "8"
      ]
     },
     "execution_count": 43,
     "metadata": {},
     "output_type": "execute_result"
    }
   ],
   "source": [
    "final_long = ['/Users/prachi/Documents/depth_duration/mar3_depthDuration_stimuli/targetImages_kinect2data_subset/000375_2014-06-08_11-17-29_260595134347_rgbf000133-resize_2',\n",
    "              '/Users/prachi/Documents/depth_duration/mar3_depthDuration_stimuli/targetImages_kinect2data_subset/000569_2014-06-09_22-51-47_260595134347_rgbf000141-resize_3',\n",
    "              '/Users/prachi/Documents/depth_duration/mar3_depthDuration_stimuli/targetImages_kinect2data_subset/000787_2014-06-08_22-33-53_260595134347_rgbf000175-resize_1',\n",
    "              '/Users/prachi/Documents/depth_duration/mar3_depthDuration_stimuli/targetImages_kinect2data_subset/002072_2014-06-24_21-48-06_260595134347_rgbf000115-resize_0',\n",
    "              '/Users/prachi/Documents/depth_duration/mar3_depthDuration_stimuli/targetImages_kinect2data_subset/002364_2014-06-28_20-11-05_260595134347_rgbf000042-resize_0',\n",
    "              '/Users/prachi/Documents/depth_duration/mar3_depthDuration_stimuli/targetImages_kinect2data_subset/002675_2014-06-13_16-08-49_094959634447_rgbf000151-resize_2',\n",
    "              '/Users/prachi/Documents/depth_duration/mar3_depthDuration_stimuli/targetImages_kinect2data_subset/003125_2014-05-12_10-39-22_094959634447_rgbf000100-resize_0',\n",
    "              '/Users/prachi/Documents/depth_duration/mar3_depthDuration_stimuli/targetImages_kinect2data_subset/003395_2014-05-20_15-39-18_094959634447_rgbf000101-resize_0']\n",
    "len(final_long)"
   ]
  },
  {
   "cell_type": "code",
   "execution_count": 45,
   "metadata": {},
   "outputs": [
    {
     "data": {
      "text/plain": [
       "['000375_2014-06-08_11-17-29_260595134347_rgbf000133-resize',\n",
       " '000569_2014-06-09_22-51-47_260595134347_rgbf000141-resize',\n",
       " '000787_2014-06-08_22-33-53_260595134347_rgbf000175-resize',\n",
       " '002072_2014-06-24_21-48-06_260595134347_rgbf000115-resize',\n",
       " '002364_2014-06-28_20-11-05_260595134347_rgbf000042-resize',\n",
       " '002675_2014-06-13_16-08-49_094959634447_rgbf000151-resize',\n",
       " '003125_2014-05-12_10-39-22_094959634447_rgbf000100-resize',\n",
       " '003395_2014-05-20_15-39-18_094959634447_rgbf000101-resize']"
      ]
     },
     "execution_count": 45,
     "metadata": {},
     "output_type": "execute_result"
    }
   ],
   "source": [
    "final_long_images = [elem.split('/')[-1][:-2] for elem in final_long]\n",
    "final_long_images"
   ]
  },
  {
   "cell_type": "code",
   "execution_count": 46,
   "metadata": {},
   "outputs": [
    {
     "data": {
      "text/plain": [
       "32"
      ]
     },
     "execution_count": 46,
     "metadata": {},
     "output_type": "execute_result"
    }
   ],
   "source": [
    "for elem in short:\n",
    "    if elem.split('/')[-1][:-2] in final_long_images:\n",
    "        short.remove(elem)\n",
    "len(short)"
   ]
  },
  {
   "cell_type": "code",
   "execution_count": 48,
   "metadata": {},
   "outputs": [],
   "source": [
    "final_short = ['/Users/prachi/Documents/depth_duration/mar3_depthDuration_stimuli/targetImages_kinect2data_subset/000454_2014-06-08_16-37-28_260595134347_rgbf000048-resize_2',\n",
    "               '/Users/prachi/Documents/depth_duration/mar3_depthDuration_stimuli/targetImages_kinect2data_subset/000868_2014-06-09_20-49-52_260595134347_rgbf000064-resize_4',\n",
    "               '/Users/prachi/Documents/depth_duration/mar3_depthDuration_stimuli/targetImages_kinect2data_subset/000953_2014-06-08_11-42-19_260595134347_rgbf000083-resize_0',\n",
    "               '/Users/prachi/Documents/depth_duration/mar3_depthDuration_stimuli/targetImages_kinect2data_subset/001012_2014-06-08_23-19-38_260595134347_rgbf000057-resize_0',\n",
    "               '/Users/prachi/Documents/depth_duration/mar3_depthDuration_stimuli/targetImages_kinect2data_subset/001170_2014-06-17_15-43-44_260595134347_rgbf000096-resize_6',\n",
    "               '/Users/prachi/Documents/depth_duration/mar3_depthDuration_stimuli/targetImages_kinect2data_subset/001222_2014-06-17_16-24-06_260595134347_rgbf000073-resize_0',\n",
    "               '/Users/prachi/Documents/depth_duration/mar3_depthDuration_stimuli/targetImages_kinect2data_subset/001498_2014-06-19_17-45-14_260595134347_rgbf000129-resize_4',\n",
    "               '/Users/prachi/Documents/depth_duration/mar3_depthDuration_stimuli/targetImages_kinect2data_subset/001540_2014-06-20_17-01-05_260595134347_rgbf000086-resize_2']"
   ]
  },
  {
   "cell_type": "code",
   "execution_count": 49,
   "metadata": {},
   "outputs": [
    {
     "data": {
      "text/plain": [
       "8"
      ]
     },
     "execution_count": 49,
     "metadata": {},
     "output_type": "execute_result"
    }
   ],
   "source": [
    "len(final_short)"
   ]
  },
  {
   "cell_type": "code",
   "execution_count": 51,
   "metadata": {},
   "outputs": [],
   "source": [
    "final_catch = [[final_short[i], final_long[i]] for i in range(len(final_short))]\n"
   ]
  },
  {
   "cell_type": "code",
   "execution_count": null,
   "metadata": {},
   "outputs": [],
   "source": [
    "for file in possible:\n",
    "    with open(file + '/' + 'data.json') as f:\n",
    "        data = json.load(f)\n",
    "        depth = data['objects'][0]['crossing_point'][0]['depth']"
   ]
  },
  {
   "cell_type": "code",
   "execution_count": 90,
   "metadata": {},
   "outputs": [],
   "source": [
    "import random\n",
    "catch_trials = []\n",
    "count = 0\n",
    "durations = [250, 250, 250, 250, 1000, 1000, 1000, 1000]\n",
    "random.shuffle(durations)\n",
    "for ctrial in final_catch:\n",
    "    if count % 2 == 0:\n",
    "        dict_ctrial = {}\n",
    "        cimg0 = ctrial[0]\n",
    "        cimg1 = ctrial[1]\n",
    "        dict_ctrial[\"sequence\"] = 'catch_trial'\n",
    "        dict_ctrial[\"duration\"] = durations[count]\n",
    "        \n",
    "        with open(cimg0 + '/' + 'data.json') as f:\n",
    "            data = json.load(f)\n",
    "            depth0 = data['objects'][0]['crossing_point'][0]['depth']\n",
    "        with open(cimg1 + '/' + 'data.json') as f:\n",
    "            data = json.load(f)\n",
    "            depth1 = data['objects'][0]['crossing_point'][0]['depth']\n",
    "        \n",
    "        dict_ctrial[\"depth_0\"] = depth0\n",
    "        dict_ctrial[\"depth_1\"] = depth1\n",
    "        \n",
    "        c0 = cimg0.split('/')[-1]\n",
    "        c1 = cimg1.split('/')[-1]\n",
    "        # this has to be the path on the server\n",
    "        ctargetimg_0_path = \"depth_discrimination_stimuli/\" + c0 + '/' + c0 + '-target.png'\n",
    "        ctargetimg_1_path = \"depth_discrimination_stimuli/\" + c1 + '/' + c1 + '-target.png'\n",
    "\n",
    "        dict_ctrial[\"image_path_target_0\"] = ctargetimg_0_path\n",
    "        dict_ctrial[\"image_path_target_1\"] = ctargetimg_1_path\n",
    "\n",
    "        dict_ctrial[\"mask_path\"] = \"masks/mask_\" + str(count) + \".jpg\"\n",
    "        dict_ctrial[\"fixation_path\"] = \"fixation.jpg\"\n",
    "        \n",
    "    else:\n",
    "        dict_ctrial = {}\n",
    "        cimg0 = ctrial[1]\n",
    "        cimg1 = ctrial[0]\n",
    "        dict_ctrial[\"sequence\"] = 'catch_trial'\n",
    "        dict_ctrial[\"duration\"] = durations[count]\n",
    "        \n",
    "        with open(cimg0 + '/' + 'data.json') as f:\n",
    "            data = json.load(f)\n",
    "            depth0 = data['objects'][0]['crossing_point'][0]['depth']\n",
    "        with open(cimg1 + '/' + 'data.json') as f:\n",
    "            data = json.load(f)\n",
    "            depth1 = data['objects'][0]['crossing_point'][0]['depth']\n",
    "            \n",
    "        dict_ctrial[\"depth_0\"] = depth0\n",
    "        dict_ctrial[\"depth_1\"] = depth1\n",
    "        \n",
    "        c0 = cimg0.split('/')[-1]\n",
    "        c1 = cimg1.split('/')[-1]\n",
    "        # this has to be the path on the server\n",
    "        ctargetimg_0_path = \"depth_discrimination_stimuli/\" + c0 + '/' + c0 + '-target.png'\n",
    "        ctargetimg_1_path = \"depth_discrimination_stimuli/\" + c1 + '/' + c1 + '-target.png'\n",
    "\n",
    "        dict_ctrial[\"image_path_target_0\"] = ctargetimg_0_path\n",
    "        dict_ctrial[\"image_path_target_1\"] = ctargetimg_1_path\n",
    "\n",
    "        dict_ctrial[\"mask_path\"] = \"masks/mask_\" + str(count) + \".jpg\"\n",
    "        dict_ctrial[\"fixation_path\"] = \"fixation.jpg\"\n",
    "        \n",
    "    count += 1\n",
    "\n",
    "    catch_trials.append(dict_ctrial)\n",
    "\n",
    "random.shuffle(catch_trials)"
   ]
  },
  {
   "cell_type": "code",
   "execution_count": 91,
   "metadata": {},
   "outputs": [
    {
     "data": {
      "text/plain": [
       "8"
      ]
     },
     "execution_count": 91,
     "metadata": {},
     "output_type": "execute_result"
    }
   ],
   "source": [
    "len(catch_trials)"
   ]
  },
  {
   "cell_type": "markdown",
   "metadata": {},
   "source": [
    "## Add catch trials"
   ]
  },
  {
   "cell_type": "code",
   "execution_count": 99,
   "metadata": {},
   "outputs": [],
   "source": [
    "v3_seq = '/Users/prachi/Documents/depth_duration/depth_discrimination/discrimination_sequences/v3_sequences'\n",
    "v4_seq = '/Users/prachi/Documents/depth_duration/depth_discrimination/discrimination_sequences/v4_sequences'"
   ]
  },
  {
   "cell_type": "code",
   "execution_count": 93,
   "metadata": {},
   "outputs": [],
   "source": [
    "v4_sequences = {}\n",
    "for seq in os.listdir(v3_seq):\n",
    "    if '.json' in seq:\n",
    "        with open(v3_seq + '/' + seq) as f:\n",
    "            data = json.load(f)\n",
    "            block1 = data[0:len(data)//4]\n",
    "            block2 = data[(len(data)//4):(len(data)//4)*2]\n",
    "            block3 = data[(len(data)//4)*2:(len(data)//4)*3]\n",
    "            block4 = data[(len(data)//4)*3:(len(data)//4)*4]\n",
    "            block1 += catch_trials[0:2]\n",
    "            block2 += catch_trials[2:4]\n",
    "            block3 += catch_trials[4:6]\n",
    "            block4 += catch_trials[6:8]\n",
    "            random.shuffle(block1)\n",
    "            random.shuffle(block2)\n",
    "            random.shuffle(block3)\n",
    "            random.shuffle(block4)\n",
    "            \n",
    "            new_seq = block1 + block2 + block3 + block4\n",
    "            v4_sequences[seq] = new_seq"
   ]
  },
  {
   "cell_type": "code",
   "execution_count": 97,
   "metadata": {},
   "outputs": [
    {
     "name": "stdout",
     "output_type": "stream",
     "text": [
      "96\n",
      "96\n",
      "96\n",
      "96\n"
     ]
    }
   ],
   "source": [
    "for seq in v4_sequences:\n",
    "    print(len(v4_sequences[seq]))"
   ]
  },
  {
   "cell_type": "code",
   "execution_count": 100,
   "metadata": {},
   "outputs": [],
   "source": [
    "# creates json file for the sequence \n",
    "for seq in v4_sequences:\n",
    "    dest = v4_seq + '/' + seq\n",
    "    with open(dest, 'w') as f:\n",
    "        json.dump(v4_sequences[seq] , f)  "
   ]
  },
  {
   "cell_type": "code",
   "execution_count": 107,
   "metadata": {},
   "outputs": [],
   "source": [
    "all_catch_stim = ['000375_2014-06-08_11-17-29_260595134347_rgbf000133-resize_2',\n",
    "              '000569_2014-06-09_22-51-47_260595134347_rgbf000141-resize_3',\n",
    "              '000787_2014-06-08_22-33-53_260595134347_rgbf000175-resize_1',\n",
    "              '002072_2014-06-24_21-48-06_260595134347_rgbf000115-resize_0',\n",
    "              '002364_2014-06-28_20-11-05_260595134347_rgbf000042-resize_0',\n",
    "              '002675_2014-06-13_16-08-49_094959634447_rgbf000151-resize_2',\n",
    "              '003125_2014-05-12_10-39-22_094959634447_rgbf000100-resize_0',\n",
    "              '003395_2014-05-20_15-39-18_094959634447_rgbf000101-resize_0',\n",
    "              '000454_2014-06-08_16-37-28_260595134347_rgbf000048-resize_2',\n",
    "              '000868_2014-06-09_20-49-52_260595134347_rgbf000064-resize_4',\n",
    "              '000953_2014-06-08_11-42-19_260595134347_rgbf000083-resize_0',\n",
    "              '001012_2014-06-08_23-19-38_260595134347_rgbf000057-resize_0',\n",
    "              '001170_2014-06-17_15-43-44_260595134347_rgbf000096-resize_6',\n",
    "              '001222_2014-06-17_16-24-06_260595134347_rgbf000073-resize_0',\n",
    "              '001498_2014-06-19_17-45-14_260595134347_rgbf000129-resize_4',\n",
    "              '001540_2014-06-20_17-01-05_260595134347_rgbf000086-resize_2']"
   ]
  },
  {
   "cell_type": "code",
   "execution_count": 109,
   "metadata": {},
   "outputs": [
    {
     "name": "stdout",
     "output_type": "stream",
     "text": [
      "8\n",
      "8\n",
      "8\n",
      "8\n"
     ]
    }
   ],
   "source": [
    "for seq in os.listdir(v4_seq):\n",
    "    if '.json' in seq:\n",
    "        with open(v4_seq + '/' + seq) as f:\n",
    "            data = json.load(f)\n",
    "            catchcount = 0\n",
    "            for trial in data:\n",
    "                stim0 = trial['image_path_target_0']\n",
    "                if stim0.split('/')[-2] in all_catch_stim:\n",
    "                    catchcount += 1\n",
    "            print(catchcount)\n",
    "                    "
   ]
  },
  {
   "cell_type": "code",
   "execution_count": null,
   "metadata": {},
   "outputs": [],
   "source": []
  }
 ],
 "metadata": {
  "kernelspec": {
   "display_name": "Python 3",
   "language": "python",
   "name": "python3"
  },
  "language_info": {
   "codemirror_mode": {
    "name": "ipython",
    "version": 3
   },
   "file_extension": ".py",
   "mimetype": "text/x-python",
   "name": "python",
   "nbconvert_exporter": "python",
   "pygments_lexer": "ipython3",
   "version": "3.7.5"
  }
 },
 "nbformat": 4,
 "nbformat_minor": 4
}
