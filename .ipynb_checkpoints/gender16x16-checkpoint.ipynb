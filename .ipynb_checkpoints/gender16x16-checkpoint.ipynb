{
 "cells": [
  {
   "cell_type": "code",
   "execution_count": 2,
   "metadata": {},
   "outputs": [],
   "source": [
    "import numpy as np\n",
    "import pandas as pd\n",
    "from scipy.stats import stats\n",
    "from sklearn.linear_model import LinearRegression\n",
    "import random\n",
    "import matplotlib.pyplot as plt\n",
    "import seaborn as sns"
   ]
  },
  {
   "cell_type": "code",
   "execution_count": 3,
   "metadata": {},
   "outputs": [],
   "source": [
    "final_discrim_path = '/Users/prachimahableshwarkar/Documents/GW/Depth_MTurk/depth_discrimination/TAC_discrim_datafiles/matched_discrim_data/final_discrim.csv'\n"
   ]
  },
  {
   "cell_type": "code",
   "execution_count": 9,
   "metadata": {},
   "outputs": [],
   "source": [
    "final_discrim = pd.read_csv(final_discrim_path)\n"
   ]
  },
  {
   "cell_type": "code",
   "execution_count": null,
   "metadata": {},
   "outputs": [],
   "source": []
  },
  {
   "cell_type": "code",
   "execution_count": 10,
   "metadata": {},
   "outputs": [],
   "source": [
    "n_VE_data_250_path = '/Users/prachimahableshwarkar/Documents/GW/Depth_MTurk/verbal_judgement_analysis/TAC_data/matched_VE_data/normalized_250_data.csv'\n",
    "\n",
    "n_VE_data_1000_path = '/Users/prachimahableshwarkar/Documents/GW/Depth_MTurk/verbal_judgement_analysis/TAC_data/matched_VE_data/normalized_1000_data.csv'\n"
   ]
  },
  {
   "cell_type": "code",
   "execution_count": 11,
   "metadata": {},
   "outputs": [],
   "source": [
    "n_VE_data_250 = pd.read_csv(n_VE_data_250_path)\n",
    "n_VE_data_1000 = pd.read_csv(n_VE_data_1000_path)\n"
   ]
  },
  {
   "cell_type": "code",
   "execution_count": null,
   "metadata": {},
   "outputs": [],
   "source": []
  },
  {
   "cell_type": "code",
   "execution_count": 12,
   "metadata": {
    "jupyter": {
     "source_hidden": true
    }
   },
   "outputs": [],
   "source": [
    "# get averagr RT and std of RT per participant\n",
    "\n",
    "# all_subjs_250 = n_VE_data_250.subjID.unique()\n",
    "# VE_RT_250 = {}\n",
    "\n",
    "# for subj in all_subjs_250:\n",
    "#     subj_df = n_VE_data_250.loc[n_VE_data_250['subjID'] == subj]\n",
    "#     subj_RTs = np.log(np.array(subj_df['trial_RT']))\n",
    "#     avg_RT = np.mean(subj_RTs)\n",
    "#     std_RT = np.std(subj_RTs)\n",
    "#     VE_RT_250[subj] = [avg_RT, std_RT]\n",
    "    \n",
    "# all_subjs_1000 = n_VE_data_1000.subjID.unique()\n",
    "# VE_RT_1000 = {}\n",
    "\n",
    "# for subj in all_subjs_1000:\n",
    "#     subj_df = n_VE_data_1000.loc[n_VE_data_1000['subjID'] == subj]\n",
    "#     subj_RTs = np.log(np.array(subj_df['trial_RT']))\n",
    "#     avg_RT = np.mean(subj_RTs)\n",
    "#     std_RT = np.std(subj_RTs)\n",
    "#     VE_RT_1000[subj] = [avg_RT, std_RT]\n",
    "    "
   ]
  },
  {
   "cell_type": "code",
   "execution_count": null,
   "metadata": {},
   "outputs": [],
   "source": []
  },
  {
   "cell_type": "code",
   "execution_count": 13,
   "metadata": {},
   "outputs": [],
   "source": [
    "lst_VE250_dfs = []\n",
    "all_subjs_250 = n_VE_data_250.subjID.unique()\n",
    "for subj in all_subjs_250:\n",
    "    subj_df = n_VE_data_250.loc[n_VE_data_250['subjID'] == subj]\n",
    "    subj_RTs = np.array(subj_df['trial_RT'])\n",
    "    centered_RTs = np.log(subj_RTs) - np.mean(np.log(subj_RTs))\n",
    "    zscore_RTs = centered_RTs/np.std(np.log(subj_RTs))\n",
    "    \n",
    "    subj_df.insert(10, \"centered_RT\", centered_RTs, True)\n",
    "    subj_df.insert(10, \"zscore_RT\", zscore_RTs, True)\n",
    "\n",
    "    lst_VE250_dfs.append(subj_df)\n",
    "\n",
    "updated_n_VE_data_250 = pd.concat(lst_VE250_dfs)\n",
    "\n",
    "lst_VE1000_dfs = []\n",
    "all_subjs_1000 = n_VE_data_1000.subjID.unique()\n",
    "for subj in all_subjs_1000:\n",
    "    subj_df = n_VE_data_1000.loc[n_VE_data_1000['subjID'] == subj]\n",
    "    subj_RTs = np.array(subj_df['trial_RT'])\n",
    "    centered_RTs = np.log(subj_RTs) - np.mean(np.log(subj_RTs))\n",
    "    zscore_RTs = centered_RTs/np.std(np.log(subj_RTs))\n",
    "    \n",
    "    subj_df.insert(10, \"centered_RT\", centered_RTs, True)\n",
    "    subj_df.insert(10, \"zscore_RT\", zscore_RTs, True)\n",
    "    lst_VE1000_dfs.append(subj_df)\n",
    "\n",
    "updated_n_VE_data_1000 = pd.concat(lst_VE1000_dfs)\n",
    "\n",
    "# updated_n_VE_data_1000[\"zscore_RT\"]"
   ]
  },
  {
   "cell_type": "code",
   "execution_count": 14,
   "metadata": {},
   "outputs": [],
   "source": [
    "final_discrim_250 = final_discrim.loc[final_discrim['duration'] == 250]\n",
    "final_discrim_1000 = final_discrim.loc[final_discrim['duration'] == 1000]"
   ]
  },
  {
   "cell_type": "code",
   "execution_count": null,
   "metadata": {},
   "outputs": [],
   "source": []
  },
  {
   "cell_type": "code",
   "execution_count": 15,
   "metadata": {},
   "outputs": [],
   "source": [
    "d_all_subjs_250 = final_discrim_250.subjID.unique()\n",
    "# discrim_RT_250 = {}\n",
    "\n",
    "# for subj in d_all_subjs_250:\n",
    "#     subj_df = final_discrim_250.loc[final_discrim_250['subjID'] == subj]\n",
    "#     subj_RTs = np.log(np.array(subj_df['trial_RT'] - subj_df['log_sceneDuration2']))\n",
    "#     avg_RT = np.mean(subj_RTs)\n",
    "#     std_RT = np.std(subj_RTs)\n",
    "#     discrim_RT_250[subj] = [avg_RT, std_RT]\n",
    "    \n",
    "d_all_subjs_1000 = final_discrim_1000.subjID.unique()\n",
    "# discrim_RT_1000 = {}\n",
    "\n",
    "# for subj in d_all_subjs_1000:\n",
    "#     subj_df = final_discrim_1000.loc[final_discrim_1000['subjID'] == subj]\n",
    "#     subj_RTs = np.log(np.array(subj_df['trial_RT'] - subj_df['log_sceneDuration2']))\n",
    "#     avg_RT = np.mean(subj_RTs)\n",
    "#     std_RT = np.std(subj_RTs)\n",
    "#     discrim_RT_1000[subj] = [avg_RT, std_RT]\n",
    "    "
   ]
  },
  {
   "cell_type": "code",
   "execution_count": 16,
   "metadata": {},
   "outputs": [],
   "source": [
    "lst_discrim250_dfs = []\n",
    "\n",
    "for subj in d_all_subjs_250:\n",
    "    subj_df = final_discrim_250.loc[final_discrim_250['subjID'] == subj]\n",
    "    subj_RTs = np.array(subj_df['trial_RT']) - np.array(subj_df['log_sceneDuration2'])\n",
    "\n",
    "    centered_RTs = np.log(subj_RTs) - np.mean(np.log(subj_RTs))\n",
    "    zscore_RTs = centered_RTs/np.std(np.log(subj_RTs))\n",
    "    \n",
    "    subj_df.insert(10, \"centered_RT\", centered_RTs, True)\n",
    "    subj_df.insert(10, \"zscore_RT\", zscore_RTs, True)\n",
    "    \n",
    "    lst_discrim250_dfs.append(subj_df)\n",
    "\n",
    "updated_n_discrim_data_250 = pd.concat(lst_discrim250_dfs)\n",
    "\n",
    "lst_discrim1000_dfs = []\n",
    "\n",
    "for subj in d_all_subjs_1000:\n",
    "    subj_df = final_discrim_1000.loc[final_discrim_1000['subjID'] == subj]\n",
    "    subj_RTs = np.log(np.array(subj_df['trial_RT']) - np.mean(subj_RTs))\n",
    "    \n",
    "    centered_RTs = np.log(subj_RTs) - np.mean(np.log(subj_RTs))\n",
    "    zscore_RTs = centered_RTs/np.std(np.log(subj_RTs))\n",
    "    \n",
    "    subj_df.insert(10, \"centered_RT\", centered_RTs, True)\n",
    "    subj_df.insert(10, \"zscore_RT\", zscore_RTs, True)\n",
    "    \n",
    "    lst_discrim1000_dfs.append(subj_df)\n",
    "\n",
    "updated_n_discrim_data_1000 = pd.concat(lst_discrim1000_dfs)\n",
    "\n",
    "# updated_n_discrim_data_1000[\"zscore_RT\"]"
   ]
  },
  {
   "cell_type": "code",
   "execution_count": 17,
   "metadata": {},
   "outputs": [],
   "source": [
    "updated_final_discrim = pd.concat(lst_discrim1000_dfs + lst_discrim250_dfs)\n",
    "# updated_final_discrim"
   ]
  },
  {
   "cell_type": "code",
   "execution_count": 18,
   "metadata": {},
   "outputs": [
    {
     "data": {
      "text/plain": [
       "(array(['Woman', 'Man'], dtype=object),\n",
       " array(['Woman', 'Man'], dtype=object),\n",
       " array(['Man', 'Woman', 'Prefer not to answer'], dtype=object))"
      ]
     },
     "execution_count": 18,
     "metadata": {},
     "output_type": "execute_result"
    }
   ],
   "source": [
    "updated_n_VE_data_250['gender'].unique(), updated_n_VE_data_1000['gender'].unique(), updated_final_discrim['gender'].unique()"
   ]
  },
  {
   "cell_type": "code",
   "execution_count": null,
   "metadata": {},
   "outputs": [],
   "source": []
  },
  {
   "cell_type": "code",
   "execution_count": 19,
   "metadata": {},
   "outputs": [],
   "source": [
    "updated_final_discrim = updated_final_discrim[updated_final_discrim.gender != 'Prefer not to answer']\n"
   ]
  },
  {
   "cell_type": "code",
   "execution_count": 20,
   "metadata": {},
   "outputs": [
    {
     "data": {
      "text/plain": [
       "array(['Man', 'Woman'], dtype=object)"
      ]
     },
     "execution_count": 20,
     "metadata": {},
     "output_type": "execute_result"
    }
   ],
   "source": [
    "updated_final_discrim['gender'].unique()"
   ]
  },
  {
   "cell_type": "code",
   "execution_count": 21,
   "metadata": {},
   "outputs": [],
   "source": [
    "women_discrim = updated_final_discrim[updated_final_discrim.gender == 'Woman']\n",
    "men_discrim = updated_final_discrim[updated_final_discrim.gender == 'Man']"
   ]
  },
  {
   "cell_type": "code",
   "execution_count": 22,
   "metadata": {},
   "outputs": [],
   "source": [
    "women_VE_250 = updated_n_VE_data_250[updated_n_VE_data_250.gender == 'Woman']\n",
    "men_VE_250 = updated_n_VE_data_250[updated_n_VE_data_250.gender == 'Man']\n",
    "\n",
    "women_VE_1000 = updated_n_VE_data_1000[updated_n_VE_data_1000.gender == 'Woman']\n",
    "men_VE_1000 = updated_n_VE_data_1000[updated_n_VE_data_1000.gender == 'Man']"
   ]
  },
  {
   "cell_type": "code",
   "execution_count": null,
   "metadata": {},
   "outputs": [],
   "source": []
  },
  {
   "cell_type": "code",
   "execution_count": 23,
   "metadata": {
    "jupyter": {
     "source_hidden": true
    }
   },
   "outputs": [],
   "source": [
    "def get_stimuli(duration_df):\n",
    "    \"\"\"\n",
    "    Args:\n",
    "        duration df \n",
    "    Returns:\n",
    "        all_stimuli\n",
    "    \"\"\"\n",
    "    \n",
    "    stimuli = set()\n",
    "    for idx, row in duration_df.iterrows():\n",
    "        stimulus = row[\"stimulus\"]\n",
    "        stimuli.add(stimulus)\n",
    "        \n",
    "    return list(stimuli)\n",
    "\n",
    "def rand_data(duration_df, proportion):\n",
    "    \"\"\"\n",
    "    Args\n",
    "        Data post outlier removal: i.e. cleaned_data \n",
    "        proportion - amount of data in each split (0.5 for 50/50 split)\n",
    "    \"\"\"\n",
    "    \n",
    "    stimuli = get_stimuli(duration_df)\n",
    "    \n",
    "    rand0_y = []\n",
    "    rand0_std = []\n",
    "    rand0_ste = []\n",
    "    rand0_stim = []\n",
    "    \n",
    "    rand0_all_ys = []\n",
    "    \n",
    "    rand0_subjIDs = []\n",
    "    \n",
    "    rand0_RTs = []\n",
    "    \n",
    "    rand1_y = []\n",
    "    rand1_std = []\n",
    "    rand1_ste = []\n",
    "    rand1_stim = []\n",
    "    \n",
    "    rand1_all_ys = []\n",
    "    \n",
    "    rand1_subjIDs = []\n",
    "    \n",
    "    rand1_RTs = []\n",
    "\n",
    "    grouped = duration_df.groupby(duration_df.stimulus) \n",
    "    for stim in stimuli:   \n",
    "        stim_df = grouped.get_group(stim)\n",
    "        stim_df_estimates = stim_df['depth_estimate'].tolist()\n",
    "        stim_df_RTs = stim_df['zscore_RT'].tolist()\n",
    "        stim_df_subjIDs = stim_df['subjID'].tolist()\n",
    "        \n",
    "        # Shuffle two lists with same order\n",
    "        # Using zip() + * operator + shuffle()\n",
    "        temp = list(zip(stim_df_subjIDs, stim_df_estimates, stim_df_RTs))\n",
    "        random.shuffle(temp)\n",
    "        random.shuffle(temp)\n",
    "        shuffled_subjIDs, shuffled_estimates, shuffled_RTs = zip(*temp)\n",
    "        # res1 and res2 come out as tuples, and so must be converted to lists.\n",
    "        shuffled_subjIDs, shuffled_estimates, shuffled_RTs = list(shuffled_subjIDs), list(shuffled_estimates), list(shuffled_RTs)\n",
    "        \n",
    "        rand0_all_ys.append(np.array(shuffled_estimates[0:int(len(shuffled_estimates)*proportion)]))\n",
    "        rand0_subjIDs.append(np.array(shuffled_subjIDs[0:int(len(shuffled_subjIDs)*proportion)]))\n",
    "        rand0_RTs.append(np.array(shuffled_RTs[0:int(len(shuffled_RTs)*proportion)]))\n",
    "        \n",
    "        estim_avg_df0 = np.mean(np.array(shuffled_estimates[0:int(len(shuffled_estimates)*proportion)]))\n",
    "        estim_std0 = np.std(np.array(shuffled_estimates[0:int(len(shuffled_estimates)*proportion)]))\n",
    "        estim_ste0 = stats.sem(np.array(shuffled_estimates[0:int(len(shuffled_estimates)*proportion)]))\n",
    "        \n",
    "        rand0_y.append(estim_avg_df0) \n",
    "        rand0_std.append(estim_std0)\n",
    "        rand0_ste.append(estim_ste0)\n",
    "        rand0_stim.append(stim)\n",
    "        \n",
    "\n",
    "   \n",
    "    \n",
    "    rand0_y = np.array(rand0_y).reshape(1,-1)[0]\n",
    "    rand0_std = np.array(rand0_std).reshape(1,-1)[0]\n",
    "    rand0_ste = np.array(rand0_ste).reshape(1,-1)[0]\n",
    "    rand0_stim = np.array(rand0_stim).reshape(1,-1)[0]\n",
    "    \n",
    "    rand0_df = pd.DataFrame(columns=('subjID', 'stimulus', 'depth_estimate', 'zscore_RT'))\n",
    "    \n",
    "\n",
    "    \n",
    "    c = 0\n",
    "    # loop through all stimuli\n",
    "    for i, stim in enumerate(rand0_stim):\n",
    "        # loop through all the subjects that have data for that stimulus\n",
    "        for j in range(len(rand0_subjIDs[i])):\n",
    "            # add to the df the subject id, the subjects estimate, and the stimulus name\n",
    "            # df has a seperate row for each subjects response \n",
    "            rand0_df.loc[c] = [rand0_subjIDs[i][j], stim, rand0_all_ys[i][j], rand0_RTs[i][j]]\n",
    "            c += 1\n",
    "            \n",
    "\n",
    "            \n",
    "    return [rand0_y, rand0_std, rand0_ste, rand0_stim], rand0_df\n",
    "\n"
   ]
  },
  {
   "cell_type": "code",
   "execution_count": 24,
   "metadata": {},
   "outputs": [],
   "source": [
    "w_r0_250, w_r0_250_df = rand_data(women_VE_250, 1)\n",
    "w_r0_1000, w_r0_1000_df = rand_data(women_VE_1000, 1)"
   ]
  },
  {
   "cell_type": "code",
   "execution_count": 25,
   "metadata": {},
   "outputs": [],
   "source": [
    "m_r0_250, m_r0_250_df = rand_data(men_VE_250, 1)\n",
    "m_r0_1000, m_r0_1000_df = rand_data(men_VE_1000, 1)"
   ]
  },
  {
   "cell_type": "code",
   "execution_count": null,
   "metadata": {},
   "outputs": [],
   "source": []
  },
  {
   "cell_type": "code",
   "execution_count": 26,
   "metadata": {
    "jupyter": {
     "source_hidden": true
    }
   },
   "outputs": [],
   "source": [
    "def get_accuracy(df):\n",
    "    \"\"\"\n",
    "    * ACCURACY BASED ON THE KINECT\n",
    "    args:\n",
    "        df  \n",
    "    returns:\n",
    "        proportion of correct responses, count of correct responses, count of total trials  \n",
    "    \"\"\"\n",
    "    count_correct = 0\n",
    "    count_incorrect = 0\n",
    "    count_total = 0\n",
    "    count_missed = 0\n",
    "    for idx, row in df.iterrows():\n",
    "        choice = row[\"discrim_choice\"]\n",
    "        if choice == 2.0:\n",
    "            count_missed += 1\n",
    "        else:    \n",
    "            count_total += 1\n",
    "            depth0 = row[\"actual_depth_0\"]\n",
    "            depth1 = row[\"actual_depth_1\"]\n",
    "            if depth0 < depth1:\n",
    "                correct_choice = 0\n",
    "            if depth0 > depth1:\n",
    "                correct_choice = 1\n",
    "            if depth0 == depth1:\n",
    "                # case where depths are equal \n",
    "                correct_choice = None\n",
    "            if choice == correct_choice:\n",
    "                count_correct += 1\n",
    "    \n",
    "    return count_correct/count_total, count_correct, count_total, count_missed\n",
    "\n",
    "def get_RT(df):\n",
    "    \"\"\"    \n",
    "    args:\n",
    "        df  \n",
    "    returns:\n",
    "        array of RTs, avg RT and std   \n",
    "    \"\"\"\n",
    "    list_RTs = []\n",
    "    for idx, row in df.iterrows():   \n",
    "#         stimulus_duration = row['log_sceneDuration2']\n",
    "#         RT = row[\"trial_RT\"] - stimulus_duration\n",
    "        RT = row[\"zscore_RT\"] \n",
    "        list_RTs.append(RT)\n",
    "    \n",
    "    list_RTs = np.array(list_RTs)\n",
    "    \n",
    "    return list_RTs, np.mean(list_RTs) ,np.std(list_RTs), stats.sem(list_RTs)"
   ]
  },
  {
   "cell_type": "code",
   "execution_count": 27,
   "metadata": {
    "jupyter": {
     "source_hidden": true
    }
   },
   "outputs": [],
   "source": [
    "def individual_discrimination_stats(df):\n",
    "    '''\n",
    "    Individual discrimination performance and RT \n",
    "    '''\n",
    "    all_stim0 = df.stimulus_0.unique()\n",
    "    \n",
    "    stimuli_stats_split0 = {}\n",
    "    stimuli_stats_split1 = {}\n",
    "    \n",
    "    split0 = []\n",
    "    split1 = []\n",
    "    for stim0 in all_stim0:\n",
    "        stim0_df = df.loc[df['stimulus_0'] == stim0]\n",
    "        other_stim = stim0_df.stimulus_1.unique()[0]\n",
    "        stim1_df = df.loc[df['stimulus_1'] == stim0]\n",
    "        # df for a specific discrimination trial (collapsed on stim presentation order)\n",
    "        stim_df = pd.concat([stim0_df, stim1_df], ignore_index=True)\n",
    "        stim_250_df = stim_df[stim_df['duration'] == 250.0]\n",
    "        stim_1000_df = stim_df[stim_df['duration'] == 1000.0] \n",
    "                \n",
    "        stim_depthdiff = stim_df['depth_difference'][0]\n",
    "        \n",
    "        stim0_depth = stim_df['actual_depth_0'][0]\n",
    "        stim1_depth = stim_df['actual_depth_1'][0]\n",
    "        stim_depthbin = np.mean(np.array([stim0_depth,stim1_depth]))\n",
    "        \n",
    "        kinect_answer = stim0_df.kinect_answer.unique()[0]\n",
    "        \n",
    "        #### SPLIT DATA INTO HALF AND CREATE STIMULI STATS PER HALF PER DURATION ####\n",
    "        \n",
    "        # Creating a dataframe with 50%\n",
    "        # values of original dataframe\n",
    "        stim_250_df_split0 = stim_250_df.sample(frac = 1)\n",
    "        split0.append(stim_250_df_split0)\n",
    "\n",
    "        # Creating a dataframe with 50%\n",
    "        # values of original dataframe\n",
    "        stim_1000_df_split0 = stim_1000_df.sample(frac = 1)\n",
    "        split0.append(stim_1000_df_split0)\n",
    "\n",
    "        \n",
    "        try:\n",
    "            # SPLIT 1\n",
    "            stim_acc_250_s0 = get_accuracy(stim_250_df_split0)\n",
    "            stim_acc_1000_s0 = get_accuracy(stim_1000_df_split0)\n",
    "\n",
    "            stim_RT_250_s0 = get_RT(stim_250_df_split0)\n",
    "            stim_RT_1000_s0 = get_RT(stim_1000_df_split0)\n",
    "\n",
    "            stimuli_stats_split0[stim0] = {'stimulus_1': other_stim,\n",
    "                                    'accuracy_250': stim_acc_250_s0,\n",
    "                                    'accuracy_1000': stim_acc_1000_s0,\n",
    "                                    'avg_depth': stim_depthbin,\n",
    "                                    'depthdifference': stim_depthdiff, \n",
    "                                    'RT_250': stim_RT_250_s0,\n",
    "                                    'RT_1000': stim_RT_1000_s0,\n",
    "                                    'kinect_answer': kinect_answer}\n",
    "            \n",
    "\n",
    "        except:\n",
    "            pass\n",
    "    \n",
    "    return stimuli_stats_split0, pd.concat(split0)\n"
   ]
  },
  {
   "cell_type": "code",
   "execution_count": null,
   "metadata": {},
   "outputs": [],
   "source": []
  },
  {
   "cell_type": "code",
   "execution_count": 28,
   "metadata": {},
   "outputs": [],
   "source": [
    "w_all_discrim_performance_s0, w_final_discrim_s0 = individual_discrimination_stats(women_discrim)\n"
   ]
  },
  {
   "cell_type": "code",
   "execution_count": 29,
   "metadata": {},
   "outputs": [],
   "source": [
    "m_all_discrim_performance_s0, m_final_discrim_s0 = individual_discrimination_stats(men_discrim)\n"
   ]
  },
  {
   "cell_type": "code",
   "execution_count": 30,
   "metadata": {
    "jupyter": {
     "source_hidden": true
    }
   },
   "outputs": [],
   "source": [
    "def get_answerkey(discrim_performance, VE_data):\n",
    "    '''\n",
    "    Generates discrimination trial answer key based off of verbal judgement data\n",
    "    '''\n",
    "    answerkey = {}\n",
    "    \n",
    "    final_y = VE_data[0]\n",
    "    final_std = VE_data[1]\n",
    "    final_ste = VE_data[2]\n",
    "    final_stim = VE_data[3]\n",
    "\n",
    "    for key in discrim_performance.keys():\n",
    "        targetimg0 = key.split('/')[-1]\n",
    "        folder0 = targetimg0[:-11]\n",
    "        depth_dur_path0 = 'depth_duration_stimuli/' + folder0 + '/' + targetimg0\n",
    "        idx0 = np.where(final_stim == depth_dur_path0)[0][0]\n",
    "        avg_estim_stim0 = final_y[idx0]\n",
    "        std0 = final_std[idx0]\n",
    "        ste0 = final_ste[idx0]\n",
    "    \n",
    "        targetimg1 = discrim_performance[key]['stimulus_1'].split('/')[-1]\n",
    "        folder1 = targetimg1[:-11]\n",
    "        depth_dur_path1 = 'depth_duration_stimuli/' + folder1 + '/' + targetimg1\n",
    "        idx1= np.where(final_stim == depth_dur_path1)[0][0]\n",
    "        avg_estim_stim1 = final_y[idx1]\n",
    "        std1 = final_std[idx1]\n",
    "        ste1 = final_ste[idx1]\n",
    "    \n",
    "        kinect_answer = discrim_performance[key]['kinect_answer'].split('/')[-1]\n",
    "\n",
    "        if avg_estim_stim0 < avg_estim_stim1:\n",
    "            # Which target is CLOSER to you?\n",
    "            answer = targetimg0\n",
    "        if avg_estim_stim0 == avg_estim_stim1:\n",
    "            print(targetimg0, targetimg1)\n",
    "        if avg_estim_stim0 > avg_estim_stim1:\n",
    "            answer = targetimg1\n",
    "\n",
    "        answerkey[key] = {'stimulus_1': targetimg1,\n",
    "                                   'stimulus_0_avg_estim': avg_estim_stim0,\n",
    "                                   'stimulus_1_avg_estim': avg_estim_stim1,\n",
    "                                   'answer': answer,\n",
    "                                   'std0': std0,\n",
    "                                   'std1': std1,\n",
    "                                   'kinect_answer': kinect_answer}\n",
    "        \n",
    "    return answerkey\n",
    "    "
   ]
  },
  {
   "cell_type": "code",
   "execution_count": 31,
   "metadata": {},
   "outputs": [],
   "source": [
    "w_ak0_250 = get_answerkey(w_all_discrim_performance_s0, w_r0_250)\n",
    "w_ak0_1000 = get_answerkey(w_all_discrim_performance_s0, w_r0_1000)"
   ]
  },
  {
   "cell_type": "code",
   "execution_count": 32,
   "metadata": {},
   "outputs": [],
   "source": [
    "m_ak0_250 = get_answerkey(m_all_discrim_performance_s0, m_r0_250)\n",
    "m_ak0_1000 = get_answerkey(m_all_discrim_performance_s0, m_r0_1000)"
   ]
  },
  {
   "cell_type": "code",
   "execution_count": null,
   "metadata": {},
   "outputs": [],
   "source": []
  },
  {
   "cell_type": "markdown",
   "metadata": {},
   "source": [
    "### VE Coded Accuracy"
   ]
  },
  {
   "cell_type": "code",
   "execution_count": 33,
   "metadata": {
    "jupyter": {
     "source_hidden": true
    }
   },
   "outputs": [],
   "source": [
    "def VE_accuracy(stim0, df, answerkey):\n",
    "    '''\n",
    "    Accuracy based on the verbal judgement data \n",
    "    '''\n",
    "    \n",
    "    \"\"\"\n",
    "    args:\n",
    "        df  \n",
    "    returns:\n",
    "        proportion of correct responses, count of correct responses, count of total trials  \n",
    "    \"\"\"\n",
    "    count_correct = 0\n",
    "    count_incorrect = 0\n",
    "    count_total = 0\n",
    "    count_missed = 0\n",
    "    \n",
    "    VE_correct_answer = answerkey[stim0]['answer']\n",
    "    kinect_correct_answer = answerkey[stim0]['kinect_answer']\n",
    "    \n",
    "    for idx, row in df.iterrows(): \n",
    "        choice = row[\"discrim_choice\"]\n",
    "        count_total += 1\n",
    "        if choice == 0.0: image_choice = row[\"stimulus_0\"]\n",
    "                \n",
    "        if choice == 1.0: image_choice = row[\"stimulus_1\"]\n",
    "                \n",
    "        if choice == 2.0: count_missed += 1\n",
    "            \n",
    "        if choice == 3.0: count_missed += 1\n",
    "        \n",
    "        try:\n",
    "            if image_choice.split('/')[-1] == VE_correct_answer: count_correct += 1\n",
    "        except: pass\n",
    "        \n",
    "#     standardError = (0.5*(1-0.5))/count_total\n",
    "    p = count_correct/count_total\n",
    "    standardError = np.sqrt((p*(1-p))/count_total)\n",
    "    \n",
    "    if VE_correct_answer == kinect_correct_answer:\n",
    "        return count_correct/count_total, count_correct, count_total, count_missed, standardError, 'pos'\n",
    "    else:\n",
    "        return count_correct/count_total, count_correct, count_total, count_missed, standardError, 'neg'\n",
    "\n",
    "    \n",
    "def main_VE_coded_discrim_accuracy(df, answerkey_250, answerkey_1000):\n",
    "    '''\n",
    "    Args:\n",
    "        df: final discrimination dataframe\n",
    "        answerkey_250 & answerkey_1000: VE coded answer key\n",
    "    '''\n",
    "    all_stim0 = df.stimulus_0.unique()\n",
    "    \n",
    "    stimuli_stats = {}\n",
    "    for stim0 in all_stim0:\n",
    "        try:\n",
    "            # dataframe for stimulus 0\n",
    "            stim0_df = df.loc[df['stimulus_0'] == stim0]\n",
    "            # name of stimulus 1\n",
    "            other_stim = stim0_df.stimulus_1.unique()[0]\n",
    "            # dataframe where stimulus 0 is presented SECOND (same trial)\n",
    "            stim1_df = df.loc[df['stimulus_1'] == stim0]\n",
    "\n",
    "            # df for a specific discrimination trial (collapsed on stim presentation order)\n",
    "            stim_df = pd.concat([stim0_df, stim1_df], ignore_index=True)\n",
    "            stim_250_df = stim_df[stim_df['duration'] == 250.0]\n",
    "            stim_1000_df = stim_df[stim_df['duration'] == 1000.0] \n",
    "\n",
    "            stim0_depth = stim_df['actual_depth_0'][0]\n",
    "            stim1_depth = stim_df['actual_depth_1'][0]\n",
    "            stim_depthbin = np.mean(np.array([stim0_depth,stim1_depth]))\n",
    "\n",
    "            stim_acc_250 = VE_accuracy(stim0, stim_250_df, answerkey_250)\n",
    "            stim_acc_1000 = VE_accuracy(stim0, stim_1000_df, answerkey_1000)\n",
    "\n",
    "            stim_RT_250 = get_RT(stim_250_df)\n",
    "            stim_RT_1000 = get_RT(stim_1000_df)\n",
    "\n",
    "            # difference between verbal judgements divided by joint variance \n",
    "            # abs(VE1-VE2)/sqrt(stda^2 + std2^2)\n",
    "            std0_250 = answerkey_250[stim0]['std0']\n",
    "            std1_250 = answerkey_250[stim0]['std1']\n",
    "            joint_variance_250 = np.sqrt(std0_250**2 + std1_250**2)\n",
    "            JV_regressor_250 = abs(answerkey_250[stim0]['stimulus_0_avg_estim'] - answerkey_250[stim0]['stimulus_1_avg_estim'])/joint_variance_250\n",
    "\n",
    "            std0_1000 = answerkey_1000[stim0]['std0']\n",
    "            std1_1000 = answerkey_1000[stim0]['std1']\n",
    "            joint_variance_1000 = np.sqrt(std0_1000**2 + std1_1000**2)\n",
    "            JV_regressor_1000 = abs(answerkey_1000[stim0]['stimulus_0_avg_estim'] - answerkey_1000[stim0]['stimulus_1_avg_estim'])/joint_variance_1000\n",
    "            \n",
    "            if stim_acc_250[-1] == 'pos':\n",
    "                VE_depthdifference_250 = abs(answerkey_250[stim0]['stimulus_0_avg_estim'] - answerkey_250[stim0]['stimulus_1_avg_estim'])\n",
    "            else:\n",
    "                VE_depthdifference_250 = -(abs(answerkey_250[stim0]['stimulus_0_avg_estim'] - answerkey_250[stim0]['stimulus_1_avg_estim']))\n",
    "            \n",
    "            if stim_acc_1000[-1] == 'pos':\n",
    "                VE_depthdifference_1000 = abs(answerkey_1000[stim0]['stimulus_0_avg_estim'] - answerkey_1000[stim0]['stimulus_1_avg_estim'])\n",
    "            else:\n",
    "                VE_depthdifference_1000 = -(abs(answerkey_1000[stim0]['stimulus_0_avg_estim'] - answerkey_1000[stim0]['stimulus_1_avg_estim']))\n",
    "            \n",
    "            stimuli_stats[stim0] = {'stimulus_1': other_stim,\n",
    "                                    'accuracy_250': stim_acc_250,\n",
    "                                    'accuracy_1000': stim_acc_1000,\n",
    "                                    'avg_depth': stim_depthbin,\n",
    "                                    'VE_depthdifference_250': VE_depthdifference_250, \n",
    "                                    'VE_depthdifference_1000': VE_depthdifference_1000,\n",
    "                                    'RT_250': stim_RT_250,\n",
    "                                    'RT_1000': stim_RT_1000,\n",
    "                                    'JV_regressor_250': JV_regressor_250,\n",
    "                                    'JV_regressor_1000': JV_regressor_1000}\n",
    "    \n",
    "        except:\n",
    "            print(stim0)\n",
    "\n",
    "    return stimuli_stats\n",
    "    "
   ]
  },
  {
   "cell_type": "code",
   "execution_count": 34,
   "metadata": {},
   "outputs": [],
   "source": [
    "w_VE_coded_discrim_performance0 = main_VE_coded_discrim_accuracy(w_final_discrim_s0, w_ak0_250, w_ak0_1000)"
   ]
  },
  {
   "cell_type": "code",
   "execution_count": 35,
   "metadata": {},
   "outputs": [],
   "source": [
    "m_VE_coded_discrim_performance0 = main_VE_coded_discrim_accuracy(m_final_discrim_s0, m_ak0_250, m_ak0_1000)"
   ]
  },
  {
   "cell_type": "code",
   "execution_count": null,
   "metadata": {},
   "outputs": [],
   "source": []
  },
  {
   "cell_type": "code",
   "execution_count": 36,
   "metadata": {
    "jupyter": {
     "source_hidden": true
    }
   },
   "outputs": [],
   "source": [
    "def get_discrimination_results(discrim_performance, duration):\n",
    "    '''\n",
    "    Returns lists of discrimination data results\n",
    "    '''\n",
    "    if duration == 250:\n",
    "        n_VE_estim_diff = [discrim_performance[elem]['VE_depthdifference_250'] for elem in discrim_performance]\n",
    "        n_VE_accuracy = [discrim_performance[elem]['accuracy_250'][0] for elem in discrim_performance]\n",
    "        n_VE_ste = [discrim_performance[elem]['accuracy_250'][-2] for elem in discrim_performance]\n",
    "        n_avg_RT = [discrim_performance[elem]['RT_250'][1] for elem in discrim_performance]\n",
    "        n_avg_RT_ste = [discrim_performance[elem]['RT_250'][-1] for elem in discrim_performance]\n",
    "        n_JV = [discrim_performance[elem]['JV_regressor_250'] for elem in discrim_performance]\n",
    "        \n",
    "    if duration == 1000:\n",
    "        n_VE_estim_diff = [discrim_performance[elem]['VE_depthdifference_1000'] for elem in discrim_performance]\n",
    "        n_VE_accuracy = [discrim_performance[elem]['accuracy_1000'][0] for elem in discrim_performance]\n",
    "        n_VE_ste = [discrim_performance[elem]['accuracy_1000'][-2] for elem in discrim_performance]\n",
    "        n_avg_RT = [discrim_performance[elem]['RT_1000'][1] for elem in discrim_performance]\n",
    "        n_avg_RT_ste = [discrim_performance[elem]['RT_1000'][-1] for elem in discrim_performance]\n",
    "        n_JV = [discrim_performance[elem]['JV_regressor_1000'] for elem in discrim_performance]\n",
    "\n",
    "    n_stim = [elem for elem in discrim_performance]      \n",
    "    \n",
    "    return n_VE_estim_diff, n_VE_accuracy, n_VE_ste, n_avg_RT, n_avg_RT_ste, n_JV, n_stim"
   ]
  },
  {
   "cell_type": "code",
   "execution_count": 37,
   "metadata": {},
   "outputs": [],
   "source": [
    "w_discrimination_results0_250 = get_discrimination_results(w_VE_coded_discrim_performance0, 250)\n",
    "w_discrimination_results0_1000 = get_discrimination_results(w_VE_coded_discrim_performance0, 1000)"
   ]
  },
  {
   "cell_type": "code",
   "execution_count": 38,
   "metadata": {},
   "outputs": [],
   "source": [
    "m_discrimination_results0_250 = get_discrimination_results(m_VE_coded_discrim_performance0, 250)\n",
    "m_discrimination_results0_1000 = get_discrimination_results(m_VE_coded_discrim_performance0, 1000)"
   ]
  },
  {
   "cell_type": "markdown",
   "metadata": {},
   "source": [
    "### Derive Performance for VE "
   ]
  },
  {
   "cell_type": "code",
   "execution_count": 39,
   "metadata": {
    "jupyter": {
     "source_hidden": true
    }
   },
   "outputs": [],
   "source": [
    "def VE_performance(stimuli, duration_df, discrimination_performance, duration_answerkey):\n",
    "    '''\n",
    "    Args:\n",
    "        stimuli:  depth discrimination stimuli list \n",
    "        duration_df: filtered VE duration dataframe \n",
    "        discrimination performance: dictionary of discrim performance \n",
    "    '''\n",
    "    \n",
    "    VE_Performance = {}\n",
    "            \n",
    "    for im0 in stimuli:\n",
    "        performance = []\n",
    "        # loop through all participants\n",
    "        for subjID in duration_df.subjID.unique():\n",
    "            # filter to just the subjects data df\n",
    "            subjdf = duration_df.loc[duration_df['subjID'] == subjID]\n",
    "            \n",
    "            try:\n",
    "                im0_VE = 'depth_duration_stimuli/' + im0.split('/')[1] + '/' + im0.split('/')[2]\n",
    "                im0_row = subjdf.loc[subjdf['stimulus'] == im0_VE]\n",
    "                im0_estimate = im0_row['depth_estimate'].tolist()[0]\n",
    "\n",
    "                im1 = discrimination_performance[im0]['stimulus_1'][29:]\n",
    "                im1_VE = 'depth_duration_stimuli/' + im1\n",
    "                im1_row = subjdf.loc[subjdf['stimulus'] == im1_VE]\n",
    "                im1_estimate = im1_row['depth_estimate'].tolist()[0]\n",
    "                \n",
    "\n",
    "                if im0_estimate < im1_estimate:\n",
    "                    p_ans = im0.split('/')[-1]\n",
    "                else:\n",
    "                    p_ans = im1.split('/')[-1]\n",
    "                try:\n",
    "                    answerkey_answer = duration_answerkey[im0]['answer']\n",
    "                except:\n",
    "                    answerkey_answer = duration_answerkey['depth_discrimination_stimuli/' + im1]['answer']\n",
    "                if p_ans == answerkey_answer:\n",
    "                    trial_acc = 0 # CORRECT\n",
    "                    performance.append(trial_acc)\n",
    "                else:\n",
    "                    trial_acc = 1 # INCORRECT\n",
    "                    performance.append(trial_acc)\n",
    "            \n",
    "            except:\n",
    "                pass\n",
    "        VE_Performance[im0] = performance\n",
    "\n",
    "    VE_PC = {}\n",
    "\n",
    "    for key in VE_Performance:\n",
    "        performance = VE_Performance[key]\n",
    "        correct_count = performance.count(0)\n",
    "        incorrect_count = performance.count(1)\n",
    "        total = len(performance)\n",
    "        pc = correct_count/total\n",
    "        VE_PC[key] = pc\n",
    "    \n",
    "    return VE_PC\n",
    "    \n",
    "    "
   ]
  },
  {
   "cell_type": "code",
   "execution_count": null,
   "metadata": {},
   "outputs": [],
   "source": []
  },
  {
   "cell_type": "code",
   "execution_count": 40,
   "metadata": {},
   "outputs": [],
   "source": [
    "w_VE_performance0_250 = VE_performance(w_discrimination_results0_250[-1], w_r0_250_df, w_VE_coded_discrim_performance0, w_ak0_250)\n",
    "w_VE_performance0_1000 = VE_performance(w_discrimination_results0_1000[-1], w_r0_1000_df, w_VE_coded_discrim_performance0, w_ak0_1000)\n"
   ]
  },
  {
   "cell_type": "code",
   "execution_count": 41,
   "metadata": {},
   "outputs": [],
   "source": [
    "m_VE_performance0_250 = VE_performance(m_discrimination_results0_250[-1], m_r0_250_df, m_VE_coded_discrim_performance0, m_ak0_250)\n",
    "m_VE_performance0_1000 = VE_performance(m_discrimination_results0_1000[-1], m_r0_1000_df, m_VE_coded_discrim_performance0, m_ak0_1000)\n"
   ]
  },
  {
   "cell_type": "markdown",
   "metadata": {},
   "source": [
    "### Matched Discrimination Performance (Accuracy and RT)"
   ]
  },
  {
   "cell_type": "code",
   "execution_count": 42,
   "metadata": {},
   "outputs": [],
   "source": [
    "def matched_performance(VE_Performance, discrimination_performance, duration):\n",
    "    '''\n",
    "    Args:\n",
    "        VE_performance: dict of VE performance for a specific duration\n",
    "        discrimination_performance: complete discrim performance\n",
    "        duration: int, duration value\n",
    "    Returns:\n",
    "        Trial matched VE and Discrimination performance\n",
    "        List of stimuli \n",
    "        \n",
    "    '''\n",
    "    Discrim_VEmatched_PC = {}\n",
    "    all_stim = []\n",
    "    all_VE_PC = []\n",
    "    all_Discrim_VEmatched_PC = []\n",
    "\n",
    "    for key in VE_Performance:\n",
    "        \n",
    "        im_VE_PC = VE_Performance[key]\n",
    "        if duration == 250:\n",
    "            im_Discrim_PC = discrimination_performance[key]['accuracy_250'][0]\n",
    "        if duration == 1000:\n",
    "            im_Discrim_PC = discrimination_performance[key]['accuracy_1000'][0]\n",
    "        Discrim_VEmatched_PC[key] = [im_VE_PC, im_Discrim_PC]\n",
    "\n",
    "        all_stim.append(key)\n",
    "        all_VE_PC.append(im_VE_PC)\n",
    "        all_Discrim_VEmatched_PC.append(im_Discrim_PC)\n",
    "        \n",
    "    return all_Discrim_VEmatched_PC, all_VE_PC, all_stim"
   ]
  },
  {
   "cell_type": "code",
   "execution_count": 43,
   "metadata": {},
   "outputs": [],
   "source": [
    "w_m_discrim_performance0_250, w_m_VE_performance0_250, w_m_stim0_250 = matched_performance(w_VE_performance0_250, w_VE_coded_discrim_performance0, 250)\n",
    "w_m_discrim_performance0_1000, w_m_VE_performance0_1000, w_m_stim0_1000 = matched_performance(w_VE_performance0_1000, w_VE_coded_discrim_performance0, 1000)\n"
   ]
  },
  {
   "cell_type": "code",
   "execution_count": 44,
   "metadata": {},
   "outputs": [],
   "source": [
    "m_m_discrim_performance0_250, m_m_VE_performance0_250, m_m_stim0_250 = matched_performance(m_VE_performance0_250, m_VE_coded_discrim_performance0, 250)\n",
    "m_m_discrim_performance0_1000, m_m_VE_performance0_1000, m_m_stim0_1000 = matched_performance(m_VE_performance0_1000, m_VE_coded_discrim_performance0, 1000)\n"
   ]
  },
  {
   "cell_type": "code",
   "execution_count": 45,
   "metadata": {
    "jupyter": {
     "source_hidden": true
    }
   },
   "outputs": [],
   "source": [
    "def get_RT_performance(duration_df, discrimination_performance, duration):\n",
    "    '''\n",
    "    Args:\n",
    "        duration_df: filtered VE duration dataframe\n",
    "        discrimination_performance: dict of discrimination performance\n",
    "        duration: int value for duration \n",
    "    \n",
    "    '''\n",
    "    \n",
    "    arr_discrim_RT = []\n",
    "    arr_VE_RT = []\n",
    "    stim_RT = []\n",
    "\n",
    "\n",
    "    for key in discrimination_performance:\n",
    "        stim_RT.append(key)\n",
    "        im0 = key.split('/')[1]\n",
    "        im1 = discrimination_performance[key]['stimulus_1'].split('/')[1]\n",
    "        if duration == 250:\n",
    "            dtrial_RT = discrimination_performance[key]['RT_250'][1]\n",
    "        if duration == 1000:\n",
    "            dtrial_RT = discrimination_performance[key]['RT_1000'][1]\n",
    "            \n",
    "        arr_discrim_RT.append(dtrial_RT)\n",
    "        \n",
    "        RTs = []\n",
    "        # loop through all participants\n",
    "        for subjID in duration_df.subjID.unique():\n",
    "            # filter to just the subjects data df\n",
    "            subjdf = duration_df.loc[duration_df['subjID'] == subjID]\n",
    "            \n",
    "            try:\n",
    "                im0_VE = 'depth_duration_stimuli/' + key.split('/')[1] + '/' + key.split('/')[2]\n",
    "                im0_row = subjdf.loc[subjdf['stimulus'] == im0_VE]\n",
    "                im0_RT = im0_row['zscore_RT'].tolist()[0]\n",
    "\n",
    "                im1 = discrimination_performance[key]['stimulus_1'][29:]\n",
    "                im1_VE = 'depth_duration_stimuli/' + im1\n",
    "                im1_row = subjdf.loc[subjdf['stimulus'] == im1_VE]\n",
    "                im1_RT = im1_row['zscore_RT'].tolist()[0]\n",
    "                \n",
    "                RTs.append(im0_RT + im1_RT)\n",
    "            \n",
    "            except:\n",
    "                pass\n",
    "        \n",
    "        arr_VE_RT.append(np.mean(np.array(RTs)))\n",
    "        \n",
    "    return arr_discrim_RT, arr_VE_RT, stim_RT\n"
   ]
  },
  {
   "cell_type": "code",
   "execution_count": 46,
   "metadata": {},
   "outputs": [],
   "source": [
    "w_m_discrim_RT0_250, w_m_VE_RT0_250, w_m_RT0_stim_250 = get_RT_performance(w_r0_250_df, w_VE_coded_discrim_performance0, 250) \n",
    "w_m_discrim_RT0_1000, w_m_VE_RT0_1000, w_m_RT0_stim_1000 = get_RT_performance(w_r0_1000_df, w_VE_coded_discrim_performance0, 1000)\n"
   ]
  },
  {
   "cell_type": "code",
   "execution_count": 47,
   "metadata": {},
   "outputs": [],
   "source": [
    "m_m_discrim_RT0_250, m_m_VE_RT0_250, m_m_RT0_stim_250 = get_RT_performance(m_r0_250_df, m_VE_coded_discrim_performance0, 250) \n",
    "m_m_discrim_RT0_1000, m_m_VE_RT0_1000, m_m_RT0_stim_1000 = get_RT_performance(m_r0_1000_df, m_VE_coded_discrim_performance0, 1000)\n"
   ]
  },
  {
   "cell_type": "code",
   "execution_count": 48,
   "metadata": {},
   "outputs": [],
   "source": [
    "data = {'Women Discrim PC @ 250 ms': w_m_discrim_performance0_250,\n",
    "        'Women Discrim PC @ 1000 ms': w_m_discrim_performance0_1000,\n",
    "        'Women VE PC @ 250 ms': w_m_VE_performance0_250,\n",
    "        'Women VE PC @ 1000 ms': w_m_VE_performance0_1000,\n",
    "        'Women Discrim RT @ 250 ms': w_m_discrim_RT0_250,\n",
    "        'Women Discrim RT @ 1000 ms': w_m_discrim_RT0_1000,\n",
    "        'Women VE RT @ 250 ms': w_m_VE_RT0_250,\n",
    "        'Women VE RT @ 1000 ms': w_m_VE_RT0_1000,\n",
    "        \n",
    "        'Men Discrim PC @ 250 ms': m_m_discrim_performance0_250,\n",
    "        'Men Discrim PC @ 1000 ms': m_m_discrim_performance0_1000,\n",
    "        'Men VE PC @ 250 ms': m_m_VE_performance0_250,\n",
    "        'Men VE PC @ 1000 ms': m_m_VE_performance0_1000,\n",
    "        'Men Discrim RT @ 250 ms': m_m_discrim_RT0_250,\n",
    "        'Men Discrim RT @ 1000 ms': m_m_discrim_RT0_1000,\n",
    "        'Men VE RT @ 250 ms': m_m_VE_RT0_250,\n",
    "        'Men VE RT @ 1000 ms': m_m_VE_RT0_1000}\n",
    "\n",
    "df = pd.DataFrame(data,columns=['Women Discrim PC @ 250 ms','Women Discrim PC @ 1000 ms','Women VE PC @ 250 ms', 'Women VE PC @ 1000 ms',\n",
    "                                'Women Discrim RT @ 250 ms','Women Discrim RT @ 1000 ms','Women VE RT @ 250 ms', 'Women VE RT @ 1000 ms',\n",
    "                                'Men Discrim PC @ 250 ms','Men Discrim PC @ 1000 ms','Men VE PC @ 250 ms', 'Men VE PC @ 1000 ms',\n",
    "                                'Men Discrim RT @ 250 ms','Men Discrim RT @ 1000 ms','Men VE RT @ 250 ms', 'Men VE RT @ 1000 ms'])\n",
    "\n",
    "df_corr = df.corr()"
   ]
  },
  {
   "cell_type": "code",
   "execution_count": 49,
   "metadata": {},
   "outputs": [
    {
     "data": {
      "image/png": "[encoded data removed]",
      "text/plain": [
       "<Figure size 1080x1080 with 2 Axes>"
      ]
     },
     "metadata": {
      "needs_background": "light"
     },
     "output_type": "display_data"
    }
   ],
   "source": [
    "plt.figure(figsize=[15,15])\n",
    "\n",
    "ax = sns.heatmap(df_corr, annot=True, fmt=\".2f\", annot_kws={\"fontsize\":11}, cmap= \"seismic\", square=True, center=0, vmin=-1, vmax=1, edgecolors='w', linewidths=2, cbar_kws={\"shrink\": .82}) #notation: \"annot\" not \"annote\"\n",
    "bottom, top = ax.get_ylim()\n",
    "ax.set_ylim(bottom + 0.5, top - 0.5)\n",
    "\n",
    "# plt.title('Log Centered RT', fontsize=15)\n",
    "\n",
    "plt.show();"
   ]
  },
  {
   "cell_type": "code",
   "execution_count": 1,
   "metadata": {},
   "outputs": [
    {
     "ename": "NameError",
     "evalue": "name 'plt' is not defined",
     "output_type": "error",
     "traceback": [
      "\u001b[0;31m---------------------------------------------------------------------------\u001b[0m",
      "\u001b[0;31mNameError\u001b[0m                                 Traceback (most recent call last)",
      "\u001b[0;32m<ipython-input-1-79b9d095e1ba>\u001b[0m in \u001b[0;36m<module>\u001b[0;34m\u001b[0m\n\u001b[0;32m----> 1\u001b[0;31m \u001b[0mfig\u001b[0m\u001b[0;34m,\u001b[0m \u001b[0max\u001b[0m \u001b[0;34m=\u001b[0m \u001b[0mplt\u001b[0m\u001b[0;34m.\u001b[0m\u001b[0msubplots\u001b[0m\u001b[0;34m(\u001b[0m\u001b[0mfigsize\u001b[0m\u001b[0;34m=\u001b[0m\u001b[0;34m[\u001b[0m\u001b[0;36m7\u001b[0m\u001b[0;34m,\u001b[0m\u001b[0;36m7\u001b[0m\u001b[0;34m]\u001b[0m\u001b[0;34m)\u001b[0m\u001b[0;34m\u001b[0m\u001b[0;34m\u001b[0m\u001b[0m\n\u001b[0m\u001b[1;32m      2\u001b[0m \u001b[0mright_side\u001b[0m \u001b[0;34m=\u001b[0m \u001b[0max\u001b[0m\u001b[0;34m.\u001b[0m\u001b[0mspines\u001b[0m\u001b[0;34m[\u001b[0m\u001b[0;34m'right'\u001b[0m\u001b[0;34m]\u001b[0m\u001b[0;34m\u001b[0m\u001b[0;34m\u001b[0m\u001b[0m\n\u001b[1;32m      3\u001b[0m \u001b[0mright_side\u001b[0m\u001b[0;34m.\u001b[0m\u001b[0mset_visible\u001b[0m\u001b[0;34m(\u001b[0m\u001b[0;32mFalse\u001b[0m\u001b[0;34m)\u001b[0m\u001b[0;34m\u001b[0m\u001b[0;34m\u001b[0m\u001b[0m\n\u001b[1;32m      4\u001b[0m \u001b[0mtop\u001b[0m \u001b[0;34m=\u001b[0m \u001b[0max\u001b[0m\u001b[0;34m.\u001b[0m\u001b[0mspines\u001b[0m\u001b[0;34m[\u001b[0m\u001b[0;34m'top'\u001b[0m\u001b[0;34m]\u001b[0m\u001b[0;34m\u001b[0m\u001b[0;34m\u001b[0m\u001b[0m\n\u001b[1;32m      5\u001b[0m \u001b[0mtop\u001b[0m\u001b[0;34m.\u001b[0m\u001b[0mset_visible\u001b[0m\u001b[0;34m(\u001b[0m\u001b[0;32mFalse\u001b[0m\u001b[0;34m)\u001b[0m\u001b[0;34m\u001b[0m\u001b[0;34m\u001b[0m\u001b[0m\n",
      "\u001b[0;31mNameError\u001b[0m: name 'plt' is not defined"
     ]
    }
   ],
   "source": [
    "fig, ax = plt.subplots(figsize=[7,7])\n",
    "right_side = ax.spines['right']\n",
    "right_side.set_visible(False)\n",
    "top = ax.spines['top']\n",
    "top.set_visible(False)\n",
    "\n",
    "#run regression\n",
    "X = np.array(m_m_discrim_RT0_1000).reshape(-1,1)\n",
    "Y = w_m_discrim_RT0_1000\n",
    "reg = LinearRegression().fit(X, Y)\n",
    "\n",
    "#Generated Predictions\n",
    "predicted_Y = reg.predict(X)\n",
    "#Plot Our Actual and Predicted Values\n",
    "\n",
    "plt.errorbar(X, Y, elinewidth=1, ecolor='gray', fmt='or', mfc='white', mec='chocolate', capsize=3, alpha = 0.3);\n",
    "plt.plot(X, Y, 'o', color='chocolate', alpha = 0.3);\n",
    "plt.plot(X, predicted_Y,color='chocolate', label = 'm = ' + str(round(reg.coef_[0], 3))\n",
    "         + '     r-squared = ' + str(round(float(reg.score(X, Y)), 3)))\n",
    "\n",
    "plt.xlabel(\"Men Discrim RT @ 1000 ms\", fontsize = 15)\n",
    "plt.ylabel(\"Women Discrim RT @ 1000 ms\", fontsize = 15)\n",
    "\n",
    "# plt.xlim(0.3, 1.02)\n",
    "# plt.ylim(0.3, 1.02)\n",
    "# plt.xticks(np.arange(6.7,7.35, 0.1))\n",
    "# plt.yticks(np.arange(6.7,7.35, 0.1))\n",
    "\n",
    "\n",
    "plt.margins(x=0.02)\n",
    "\n",
    "#get coefficients and y intercept\n",
    "print(\"m: {0}\".format(reg.coef_))\n",
    "print(\"b: {0}\".format(reg.intercept_))\n",
    "#Returns the coefficient of determination R^2 of the prediction.\n",
    "print(\"R-squared: \", reg.score(X, Y))\n",
    "\n",
    "legend = plt.legend(loc = 4, fontsize=13, labelspacing=1, frameon=False)\n",
    "fig.tight_layout()\n",
    "plt.show();\n"
   ]
  },
  {
   "cell_type": "code",
   "execution_count": null,
   "metadata": {},
   "outputs": [],
   "source": []
  },
  {
   "cell_type": "code",
   "execution_count": null,
   "metadata": {},
   "outputs": [],
   "source": []
  },
  {
   "cell_type": "code",
   "execution_count": null,
   "metadata": {},
   "outputs": [],
   "source": []
  },
  {
   "cell_type": "code",
   "execution_count": null,
   "metadata": {},
   "outputs": [],
   "source": []
  },
  {
   "cell_type": "code",
   "execution_count": null,
   "metadata": {},
   "outputs": [],
   "source": []
  }
 ],
 "metadata": {
  "kernelspec": {
   "display_name": "Python 3",
   "language": "python",
   "name": "python3"
  },
  "language_info": {
   "codemirror_mode": {
    "name": "ipython",
    "version": 3
   },
   "file_extension": ".py",
   "mimetype": "text/x-python",
   "name": "python",
   "nbconvert_exporter": "python",
   "pygments_lexer": "ipython3",
   "version": "3.7.5"
  }
 },
 "nbformat": 4,
 "nbformat_minor": 4
}
