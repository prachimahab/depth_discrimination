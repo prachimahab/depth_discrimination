{
 "cells": [
  {
   "cell_type": "markdown",
   "metadata": {},
   "source": [
    "# TAC Discrimination Analysis: \n",
    "\n",
    "# Within Participants who have seen both discrimination images @ the same duration in the Verbal Judgement experiment"
   ]
  },
  {
   "cell_type": "code",
   "execution_count": 137,
   "metadata": {},
   "outputs": [],
   "source": [
    "import os \n",
    "import pandas as pd\n",
    "import numpy as np\n",
    "import math\n",
    "import matplotlib.pyplot as plt\n",
    "import scipy \n",
    "import scipy.stats as stats\n",
    "import json\n",
    "from sklearn.linear_model import LinearRegression\n"
   ]
  },
  {
   "cell_type": "markdown",
   "metadata": {},
   "source": [
    "## Get discrimination data"
   ]
  },
  {
   "cell_type": "code",
   "execution_count": 138,
   "metadata": {},
   "outputs": [],
   "source": [
    "def combineCSVs(datafolder, num_discrim_trials):\n",
    "    \"\"\"\n",
    "    Combine all participant data into one pandas df\n",
    "    OR \n",
    "    Create df for single participant file \n",
    "    \n",
    "    returns:\n",
    "        (1) combined dataframe of all discrimination data \n",
    "        (2) combined dataframe of all scene property rating data \n",
    "    \"\"\"\n",
    "    #checks if path is a file\n",
    "    isFile = os.path.isfile(datafolder)\n",
    "\n",
    "    #checks if path is a directory\n",
    "    \n",
    "    isDirectory = os.path.isdir(datafolder)\n",
    "    \n",
    "    if isDirectory == True:\n",
    "        discrim_data = []\n",
    "        properties_data = []\n",
    "        for filename in os.listdir(datafolder):\n",
    "            if 'csv' in filename:\n",
    "                path = datafolder + \"/\" + filename\n",
    "                df = pd.read_csv(path, index_col=None, header=0)\n",
    "                \n",
    "                df_discrim = df[0:num_discrim_trials]\n",
    "                discrim_data.append(df_discrim)\n",
    "                # row 96 should be ignored - artifact of logging \n",
    "                df_properties = df[num_discrim_trials+1:]\n",
    "                properties_data.append(df_properties)\n",
    "                \n",
    "\n",
    "        discrim_frame = pd.concat(discrim_data, axis=0, ignore_index=True)\n",
    "        properties_frame = pd.concat(properties_data, axis=0, ignore_index=True)\n",
    "        \n",
    "    if isFile == True:\n",
    "        if 'csv' in datafolder:\n",
    "            df = pd.read_csv(datafolder, index_col=None, header=0)\n",
    "            df_discrim = df[0:num_discrim_trials]\n",
    "            discrim_data.append(df_discrim)\n",
    "            # row 96 should be ignored - artifact of logging \n",
    "            df_properties = df[num_discrim_trials+1:]\n",
    "            properties_data.append(df_properties)\n",
    " \n",
    "    return discrim_frame, properties_frame"
   ]
  },
  {
   "cell_type": "code",
   "execution_count": 141,
   "metadata": {},
   "outputs": [],
   "source": [
    "data_path = '/Users/pmahableshwarkar/Documents/Depth_Project/depth_discrimination/TAC_depth_discrimination_MTurk/data'\n"
   ]
  },
  {
   "cell_type": "code",
   "execution_count": 142,
   "metadata": {},
   "outputs": [],
   "source": [
    "raw_discrim, raw_ratings = combineCSVs(data_path, 40)"
   ]
  },
  {
   "cell_type": "code",
   "execution_count": 143,
   "metadata": {},
   "outputs": [
    {
     "data": {
      "text/plain": [
       "342"
      ]
     },
     "execution_count": 143,
     "metadata": {},
     "output_type": "execute_result"
    }
   ],
   "source": [
    "all_subjIDs = raw_discrim.subjID.unique()\n",
    "len(all_subjIDs)"
   ]
  },
  {
   "cell_type": "code",
   "execution_count": 144,
   "metadata": {},
   "outputs": [
    {
     "data": {
      "text/html": [
       "<div>\n",
       "<style scoped>\n",
       "    .dataframe tbody tr th:only-of-type {\n",
       "        vertical-align: middle;\n",
       "    }\n",
       "\n",
       "    .dataframe tbody tr th {\n",
       "        vertical-align: top;\n",
       "    }\n",
       "\n",
       "    .dataframe thead th {\n",
       "        text-align: right;\n",
       "    }\n",
       "</style>\n",
       "<table border=\"1\" class=\"dataframe\">\n",
       "  <thead>\n",
       "    <tr style=\"text-align: right;\">\n",
       "      <th></th>\n",
       "      <th>subjID</th>\n",
       "      <th>experimentName</th>\n",
       "      <th>versionName</th>\n",
       "      <th>sequenceName</th>\n",
       "      <th>url</th>\n",
       "      <th>selected_row</th>\n",
       "      <th>windowWidth</th>\n",
       "      <th>windowHeight</th>\n",
       "      <th>screenWidth</th>\n",
       "      <th>screenHeight</th>\n",
       "      <th>...</th>\n",
       "      <th>trial_RT</th>\n",
       "      <th>log_fixation</th>\n",
       "      <th>log_sceneDuration1</th>\n",
       "      <th>log_mask1</th>\n",
       "      <th>log_sceneDuration2</th>\n",
       "      <th>log_mask2</th>\n",
       "      <th>experimentTime</th>\n",
       "      <th>totalTime</th>\n",
       "      <th>age</th>\n",
       "      <th>gender</th>\n",
       "    </tr>\n",
       "  </thead>\n",
       "  <tbody>\n",
       "    <tr>\n",
       "      <th>0</th>\n",
       "      <td>515920.0</td>\n",
       "      <td>DepthScenes</td>\n",
       "      <td>v2_duration_discrimination</td>\n",
       "      <td>discrim_jsons/v2_shuffled_g0.json</td>\n",
       "      <td>http://54.210.137.18/DepthDuration/v2_depth_di...</td>\n",
       "      <td>4.0</td>\n",
       "      <td>1700.0</td>\n",
       "      <td>850.0</td>\n",
       "      <td>1700.0</td>\n",
       "      <td>956.0</td>\n",
       "      <td>...</td>\n",
       "      <td>2148.0</td>\n",
       "      <td>1000.0</td>\n",
       "      <td>252.0</td>\n",
       "      <td>999.0</td>\n",
       "      <td>249.0</td>\n",
       "      <td>501.0</td>\n",
       "      <td>NaN</td>\n",
       "      <td>1922930</td>\n",
       "      <td>35</td>\n",
       "      <td>Woman</td>\n",
       "    </tr>\n",
       "    <tr>\n",
       "      <th>1</th>\n",
       "      <td>515920.0</td>\n",
       "      <td>DepthScenes</td>\n",
       "      <td>v2_duration_discrimination</td>\n",
       "      <td>discrim_jsons/v2_shuffled_g0.json</td>\n",
       "      <td>http://54.210.137.18/DepthDuration/v2_depth_di...</td>\n",
       "      <td>4.0</td>\n",
       "      <td>1700.0</td>\n",
       "      <td>850.0</td>\n",
       "      <td>1700.0</td>\n",
       "      <td>956.0</td>\n",
       "      <td>...</td>\n",
       "      <td>2212.0</td>\n",
       "      <td>1001.0</td>\n",
       "      <td>249.0</td>\n",
       "      <td>1001.0</td>\n",
       "      <td>250.0</td>\n",
       "      <td>500.0</td>\n",
       "      <td>NaN</td>\n",
       "      <td>1922930</td>\n",
       "      <td>35</td>\n",
       "      <td>Woman</td>\n",
       "    </tr>\n",
       "    <tr>\n",
       "      <th>2</th>\n",
       "      <td>515920.0</td>\n",
       "      <td>DepthScenes</td>\n",
       "      <td>v2_duration_discrimination</td>\n",
       "      <td>discrim_jsons/v2_shuffled_g0.json</td>\n",
       "      <td>http://54.210.137.18/DepthDuration/v2_depth_di...</td>\n",
       "      <td>4.0</td>\n",
       "      <td>1700.0</td>\n",
       "      <td>850.0</td>\n",
       "      <td>1700.0</td>\n",
       "      <td>956.0</td>\n",
       "      <td>...</td>\n",
       "      <td>1996.0</td>\n",
       "      <td>1001.0</td>\n",
       "      <td>249.0</td>\n",
       "      <td>1000.0</td>\n",
       "      <td>249.0</td>\n",
       "      <td>501.0</td>\n",
       "      <td>NaN</td>\n",
       "      <td>1922930</td>\n",
       "      <td>35</td>\n",
       "      <td>Woman</td>\n",
       "    </tr>\n",
       "    <tr>\n",
       "      <th>3</th>\n",
       "      <td>515920.0</td>\n",
       "      <td>DepthScenes</td>\n",
       "      <td>v2_duration_discrimination</td>\n",
       "      <td>discrim_jsons/v2_shuffled_g0.json</td>\n",
       "      <td>http://54.210.137.18/DepthDuration/v2_depth_di...</td>\n",
       "      <td>4.0</td>\n",
       "      <td>1700.0</td>\n",
       "      <td>850.0</td>\n",
       "      <td>1700.0</td>\n",
       "      <td>956.0</td>\n",
       "      <td>...</td>\n",
       "      <td>34432.0</td>\n",
       "      <td>1002.0</td>\n",
       "      <td>998.0</td>\n",
       "      <td>1000.0</td>\n",
       "      <td>1001.0</td>\n",
       "      <td>499.0</td>\n",
       "      <td>NaN</td>\n",
       "      <td>1922930</td>\n",
       "      <td>35</td>\n",
       "      <td>Woman</td>\n",
       "    </tr>\n",
       "    <tr>\n",
       "      <th>4</th>\n",
       "      <td>515920.0</td>\n",
       "      <td>DepthScenes</td>\n",
       "      <td>v2_duration_discrimination</td>\n",
       "      <td>discrim_jsons/v2_shuffled_g0.json</td>\n",
       "      <td>http://54.210.137.18/DepthDuration/v2_depth_di...</td>\n",
       "      <td>4.0</td>\n",
       "      <td>1700.0</td>\n",
       "      <td>850.0</td>\n",
       "      <td>1700.0</td>\n",
       "      <td>956.0</td>\n",
       "      <td>...</td>\n",
       "      <td>2534.0</td>\n",
       "      <td>1002.0</td>\n",
       "      <td>1000.0</td>\n",
       "      <td>999.0</td>\n",
       "      <td>1000.0</td>\n",
       "      <td>500.0</td>\n",
       "      <td>NaN</td>\n",
       "      <td>1922930</td>\n",
       "      <td>35</td>\n",
       "      <td>Woman</td>\n",
       "    </tr>\n",
       "    <tr>\n",
       "      <th>...</th>\n",
       "      <td>...</td>\n",
       "      <td>...</td>\n",
       "      <td>...</td>\n",
       "      <td>...</td>\n",
       "      <td>...</td>\n",
       "      <td>...</td>\n",
       "      <td>...</td>\n",
       "      <td>...</td>\n",
       "      <td>...</td>\n",
       "      <td>...</td>\n",
       "      <td>...</td>\n",
       "      <td>...</td>\n",
       "      <td>...</td>\n",
       "      <td>...</td>\n",
       "      <td>...</td>\n",
       "      <td>...</td>\n",
       "      <td>...</td>\n",
       "      <td>...</td>\n",
       "      <td>...</td>\n",
       "      <td>...</td>\n",
       "      <td>...</td>\n",
       "    </tr>\n",
       "    <tr>\n",
       "      <th>13675</th>\n",
       "      <td>636794.0</td>\n",
       "      <td>DepthScenes</td>\n",
       "      <td>v2_duration_discrimination</td>\n",
       "      <td>discrim_jsons/v2_shuffled_g0_dr.json</td>\n",
       "      <td>http://54.210.137.18/DepthDuration/v2_depth_di...</td>\n",
       "      <td>1.0</td>\n",
       "      <td>1536.0</td>\n",
       "      <td>754.0</td>\n",
       "      <td>1536.0</td>\n",
       "      <td>864.0</td>\n",
       "      <td>...</td>\n",
       "      <td>1929.0</td>\n",
       "      <td>1006.0</td>\n",
       "      <td>997.0</td>\n",
       "      <td>1001.0</td>\n",
       "      <td>999.0</td>\n",
       "      <td>507.0</td>\n",
       "      <td>NaN</td>\n",
       "      <td>380364</td>\n",
       "      <td>63</td>\n",
       "      <td>Man</td>\n",
       "    </tr>\n",
       "    <tr>\n",
       "      <th>13676</th>\n",
       "      <td>636794.0</td>\n",
       "      <td>DepthScenes</td>\n",
       "      <td>v2_duration_discrimination</td>\n",
       "      <td>discrim_jsons/v2_shuffled_g0_dr.json</td>\n",
       "      <td>http://54.210.137.18/DepthDuration/v2_depth_di...</td>\n",
       "      <td>1.0</td>\n",
       "      <td>1536.0</td>\n",
       "      <td>754.0</td>\n",
       "      <td>1536.0</td>\n",
       "      <td>864.0</td>\n",
       "      <td>...</td>\n",
       "      <td>2242.0</td>\n",
       "      <td>1005.0</td>\n",
       "      <td>997.0</td>\n",
       "      <td>1013.0</td>\n",
       "      <td>1000.0</td>\n",
       "      <td>491.0</td>\n",
       "      <td>NaN</td>\n",
       "      <td>380364</td>\n",
       "      <td>63</td>\n",
       "      <td>Man</td>\n",
       "    </tr>\n",
       "    <tr>\n",
       "      <th>13677</th>\n",
       "      <td>636794.0</td>\n",
       "      <td>DepthScenes</td>\n",
       "      <td>v2_duration_discrimination</td>\n",
       "      <td>discrim_jsons/v2_shuffled_g0_dr.json</td>\n",
       "      <td>http://54.210.137.18/DepthDuration/v2_depth_di...</td>\n",
       "      <td>1.0</td>\n",
       "      <td>1536.0</td>\n",
       "      <td>754.0</td>\n",
       "      <td>1536.0</td>\n",
       "      <td>864.0</td>\n",
       "      <td>...</td>\n",
       "      <td>1595.0</td>\n",
       "      <td>1015.0</td>\n",
       "      <td>989.0</td>\n",
       "      <td>997.0</td>\n",
       "      <td>1010.0</td>\n",
       "      <td>491.0</td>\n",
       "      <td>NaN</td>\n",
       "      <td>380364</td>\n",
       "      <td>63</td>\n",
       "      <td>Man</td>\n",
       "    </tr>\n",
       "    <tr>\n",
       "      <th>13678</th>\n",
       "      <td>636794.0</td>\n",
       "      <td>DepthScenes</td>\n",
       "      <td>v2_duration_discrimination</td>\n",
       "      <td>discrim_jsons/v2_shuffled_g0_dr.json</td>\n",
       "      <td>http://54.210.137.18/DepthDuration/v2_depth_di...</td>\n",
       "      <td>1.0</td>\n",
       "      <td>1536.0</td>\n",
       "      <td>754.0</td>\n",
       "      <td>1536.0</td>\n",
       "      <td>864.0</td>\n",
       "      <td>...</td>\n",
       "      <td>1882.0</td>\n",
       "      <td>1015.0</td>\n",
       "      <td>1002.0</td>\n",
       "      <td>998.0</td>\n",
       "      <td>1000.0</td>\n",
       "      <td>489.0</td>\n",
       "      <td>NaN</td>\n",
       "      <td>380364</td>\n",
       "      <td>63</td>\n",
       "      <td>Man</td>\n",
       "    </tr>\n",
       "    <tr>\n",
       "      <th>13679</th>\n",
       "      <td>636794.0</td>\n",
       "      <td>DepthScenes</td>\n",
       "      <td>v2_duration_discrimination</td>\n",
       "      <td>discrim_jsons/v2_shuffled_g0_dr.json</td>\n",
       "      <td>http://54.210.137.18/DepthDuration/v2_depth_di...</td>\n",
       "      <td>1.0</td>\n",
       "      <td>1536.0</td>\n",
       "      <td>754.0</td>\n",
       "      <td>1536.0</td>\n",
       "      <td>864.0</td>\n",
       "      <td>...</td>\n",
       "      <td>2221.0</td>\n",
       "      <td>1004.0</td>\n",
       "      <td>996.0</td>\n",
       "      <td>1001.0</td>\n",
       "      <td>1010.0</td>\n",
       "      <td>491.0</td>\n",
       "      <td>NaN</td>\n",
       "      <td>380364</td>\n",
       "      <td>63</td>\n",
       "      <td>Man</td>\n",
       "    </tr>\n",
       "  </tbody>\n",
       "</table>\n",
       "<p>13680 rows × 29 columns</p>\n",
       "</div>"
      ],
      "text/plain": [
       "         subjID experimentName                 versionName  \\\n",
       "0      515920.0    DepthScenes  v2_duration_discrimination   \n",
       "1      515920.0    DepthScenes  v2_duration_discrimination   \n",
       "2      515920.0    DepthScenes  v2_duration_discrimination   \n",
       "3      515920.0    DepthScenes  v2_duration_discrimination   \n",
       "4      515920.0    DepthScenes  v2_duration_discrimination   \n",
       "...         ...            ...                         ...   \n",
       "13675  636794.0    DepthScenes  v2_duration_discrimination   \n",
       "13676  636794.0    DepthScenes  v2_duration_discrimination   \n",
       "13677  636794.0    DepthScenes  v2_duration_discrimination   \n",
       "13678  636794.0    DepthScenes  v2_duration_discrimination   \n",
       "13679  636794.0    DepthScenes  v2_duration_discrimination   \n",
       "\n",
       "                               sequenceName  \\\n",
       "0         discrim_jsons/v2_shuffled_g0.json   \n",
       "1         discrim_jsons/v2_shuffled_g0.json   \n",
       "2         discrim_jsons/v2_shuffled_g0.json   \n",
       "3         discrim_jsons/v2_shuffled_g0.json   \n",
       "4         discrim_jsons/v2_shuffled_g0.json   \n",
       "...                                     ...   \n",
       "13675  discrim_jsons/v2_shuffled_g0_dr.json   \n",
       "13676  discrim_jsons/v2_shuffled_g0_dr.json   \n",
       "13677  discrim_jsons/v2_shuffled_g0_dr.json   \n",
       "13678  discrim_jsons/v2_shuffled_g0_dr.json   \n",
       "13679  discrim_jsons/v2_shuffled_g0_dr.json   \n",
       "\n",
       "                                                     url  selected_row  \\\n",
       "0      http://54.210.137.18/DepthDuration/v2_depth_di...           4.0   \n",
       "1      http://54.210.137.18/DepthDuration/v2_depth_di...           4.0   \n",
       "2      http://54.210.137.18/DepthDuration/v2_depth_di...           4.0   \n",
       "3      http://54.210.137.18/DepthDuration/v2_depth_di...           4.0   \n",
       "4      http://54.210.137.18/DepthDuration/v2_depth_di...           4.0   \n",
       "...                                                  ...           ...   \n",
       "13675  http://54.210.137.18/DepthDuration/v2_depth_di...           1.0   \n",
       "13676  http://54.210.137.18/DepthDuration/v2_depth_di...           1.0   \n",
       "13677  http://54.210.137.18/DepthDuration/v2_depth_di...           1.0   \n",
       "13678  http://54.210.137.18/DepthDuration/v2_depth_di...           1.0   \n",
       "13679  http://54.210.137.18/DepthDuration/v2_depth_di...           1.0   \n",
       "\n",
       "       windowWidth  windowHeight  screenWidth  screenHeight  ... trial_RT  \\\n",
       "0           1700.0         850.0       1700.0         956.0  ...   2148.0   \n",
       "1           1700.0         850.0       1700.0         956.0  ...   2212.0   \n",
       "2           1700.0         850.0       1700.0         956.0  ...   1996.0   \n",
       "3           1700.0         850.0       1700.0         956.0  ...  34432.0   \n",
       "4           1700.0         850.0       1700.0         956.0  ...   2534.0   \n",
       "...            ...           ...          ...           ...  ...      ...   \n",
       "13675       1536.0         754.0       1536.0         864.0  ...   1929.0   \n",
       "13676       1536.0         754.0       1536.0         864.0  ...   2242.0   \n",
       "13677       1536.0         754.0       1536.0         864.0  ...   1595.0   \n",
       "13678       1536.0         754.0       1536.0         864.0  ...   1882.0   \n",
       "13679       1536.0         754.0       1536.0         864.0  ...   2221.0   \n",
       "\n",
       "      log_fixation  log_sceneDuration1 log_mask1 log_sceneDuration2  \\\n",
       "0           1000.0               252.0     999.0              249.0   \n",
       "1           1001.0               249.0    1001.0              250.0   \n",
       "2           1001.0               249.0    1000.0              249.0   \n",
       "3           1002.0               998.0    1000.0             1001.0   \n",
       "4           1002.0              1000.0     999.0             1000.0   \n",
       "...            ...                 ...       ...                ...   \n",
       "13675       1006.0               997.0    1001.0              999.0   \n",
       "13676       1005.0               997.0    1013.0             1000.0   \n",
       "13677       1015.0               989.0     997.0             1010.0   \n",
       "13678       1015.0              1002.0     998.0             1000.0   \n",
       "13679       1004.0               996.0    1001.0             1010.0   \n",
       "\n",
       "       log_mask2  experimentTime  totalTime  age  gender  \n",
       "0          501.0             NaN    1922930   35   Woman  \n",
       "1          500.0             NaN    1922930   35   Woman  \n",
       "2          501.0             NaN    1922930   35   Woman  \n",
       "3          499.0             NaN    1922930   35   Woman  \n",
       "4          500.0             NaN    1922930   35   Woman  \n",
       "...          ...             ...        ...  ...     ...  \n",
       "13675      507.0             NaN     380364   63     Man  \n",
       "13676      491.0             NaN     380364   63     Man  \n",
       "13677      491.0             NaN     380364   63     Man  \n",
       "13678      489.0             NaN     380364   63     Man  \n",
       "13679      491.0             NaN     380364   63     Man  \n",
       "\n",
       "[13680 rows x 29 columns]"
      ]
     },
     "execution_count": 144,
     "metadata": {},
     "output_type": "execute_result"
    }
   ],
   "source": [
    "raw_discrim"
   ]
  },
  {
   "cell_type": "code",
   "execution_count": 145,
   "metadata": {},
   "outputs": [
    {
     "data": {
      "text/plain": [
       "array([  35,   38,   30,   28,   42,   41,   51,   26,   34,   69,   43,\n",
       "         39,   48,   45,   55,   60,   50,   27,   33,   47,   53,   70,\n",
       "         32,   31,   29,   37,   54,   44,   24,   68,   62,   57,   40,\n",
       "         22,   36,   46,   63,   49,   67,   59,   61,   52,   66,   56,\n",
       "         72,   64,   58,   25, 1987, 1974])"
      ]
     },
     "execution_count": 145,
     "metadata": {},
     "output_type": "execute_result"
    }
   ],
   "source": [
    "all_ages = raw_discrim.age.unique()\n",
    "all_ages"
   ]
  },
  {
   "cell_type": "markdown",
   "metadata": {},
   "source": [
    "## <font color='red'> Data Cleaning </font> \n",
    "\n"
   ]
  },
  {
   "cell_type": "code",
   "execution_count": 146,
   "metadata": {},
   "outputs": [],
   "source": [
    "def catchTrial_cleaning(df, correct_requirement, catch_stimuli):\n",
    "    '''\n",
    "    Participants complete 8 catch trials total to ensure that they are doing the task.\n",
    "    If less than 7/8 catch trials are correct, the participant is excluded.  \n",
    "    '''\n",
    "    all_subjIDs = df.subjID.unique()\n",
    "    remove = []\n",
    "    subj_sequence = {}\n",
    "    df2_list = []\n",
    "    sequence_count = {'discrim_jsons/v2_shuffled_g0_dr.json': 0,\n",
    "                      'discrim_jsons/v2_shuffled_g0_rotated_dr.json': 0,\n",
    "                      'discrim_jsons/v2_shuffled_g0_rotated.json': 0, \n",
    "                      'discrim_jsons/v2_shuffled_g0.json': 0}\n",
    "    for subj in all_subjIDs:\n",
    "#         print(subj)\n",
    "        count_correct = 0\n",
    "        subj_df = df.loc[df['subjID'] == subj]\n",
    "        cleaned_subj_df = subj_df.copy(deep=True) # prevent setting with copy warning\n",
    "        # \n",
    "        subj_sequence[subj] = subj_df.sequenceName.unique()[0]\n",
    "        \n",
    "        # remove trials that are outside the outlier range\n",
    "        c = 0\n",
    "        c_missed = 0\n",
    "        for idx, row in subj_df.iterrows():\n",
    "            stim1 = row['stimulus_0']\n",
    "            stim2 = row['stimulus_1']\n",
    "            # TEMP SOLUTION FOR RANDOM PHP DATA SAVING PROBLEM \n",
    "            if type(stim1) == str:\n",
    "                if stim1.split('/')[1] in catch_stimuli or stim2.split('/')[1] in catch_stimuli:\n",
    "                    ####### VERSION WHERE CATCH TRIALS ARE ATTENTION CHECK: IMAGE 1 IS THE SAME AS IMAGE 2\n",
    "                    c += 1\n",
    "                    if row[\"discrim_choice\"] == 3:\n",
    "#                         print(row[\"discrim_choice\"])\n",
    "                        count_correct += 1\n",
    "#                     else:\n",
    "#                         print(row[\"discrim_choice\"])\n",
    "                    # remove catch trial \n",
    "                    cleaned_subj_df.drop([idx], inplace=True)\n",
    "    #                 print(depth0, depth1, correct_choice, choice)\n",
    "#         print(c_missed, 'Number of catch trials where participants did not see the target')\n",
    "#         print(c)\n",
    "#         print(count_correct)\n",
    "        if count_correct < correct_requirement:\n",
    "#             print('Number correct:', count_correct)\n",
    "            remove.append(subj)\n",
    "        else:\n",
    "            sequence_count[subj_df.sequenceName.unique()[0]] += 1\n",
    "        \n",
    "        df2_list.append(cleaned_subj_df)\n",
    "    \n",
    "    df2 = pd.concat(df2_list)\n",
    "    print(\"Number of participants that did not pass the catch trial check:\", len(remove))\n",
    "    print(\"Participants that were removed:\",remove)\n",
    "    print(\"Sequences that need to be replaced:\")\n",
    "#     for subj in remove:\n",
    "#         print(subj_sequence[subj])\n",
    "    print(\"Sequence count:\")\n",
    "    print(sequence_count)\n",
    "    for index, row in df2.iterrows():\n",
    "        if row['subjID'] in remove:\n",
    "            df2.drop(index, inplace=True)\n",
    "    \n",
    "    return df2\n",
    "    \n",
    "    "
   ]
  },
  {
   "cell_type": "code",
   "execution_count": 147,
   "metadata": {},
   "outputs": [],
   "source": [
    "all_catch_stim = ['000375_2014-06-08_11-17-29_260595134347_rgbf000133-resize_2',\n",
    "              '000569_2014-06-09_22-51-47_260595134347_rgbf000141-resize_3',\n",
    "              '000787_2014-06-08_22-33-53_260595134347_rgbf000175-resize_1',\n",
    "              '002072_2014-06-24_21-48-06_260595134347_rgbf000115-resize_0',\n",
    "              '002364_2014-06-28_20-11-05_260595134347_rgbf000042-resize_0',\n",
    "              '002675_2014-06-13_16-08-49_094959634447_rgbf000151-resize_2',\n",
    "              '003125_2014-05-12_10-39-22_094959634447_rgbf000100-resize_0',\n",
    "              '003395_2014-05-20_15-39-18_094959634447_rgbf000101-resize_0',\n",
    "              '000454_2014-06-08_16-37-28_260595134347_rgbf000048-resize_2',\n",
    "              '000868_2014-06-09_20-49-52_260595134347_rgbf000064-resize_4',\n",
    "              '000953_2014-06-08_11-42-19_260595134347_rgbf000083-resize_0',\n",
    "              '001012_2014-06-08_23-19-38_260595134347_rgbf000057-resize_0',\n",
    "              '001170_2014-06-17_15-43-44_260595134347_rgbf000096-resize_6',\n",
    "              '001222_2014-06-17_16-24-06_260595134347_rgbf000073-resize_0',\n",
    "              '001498_2014-06-19_17-45-14_260595134347_rgbf000129-resize_4',\n",
    "              '001540_2014-06-20_17-01-05_260595134347_rgbf000086-resize_2']"
   ]
  },
  {
   "cell_type": "code",
   "execution_count": 148,
   "metadata": {},
   "outputs": [
    {
     "name": "stdout",
     "output_type": "stream",
     "text": [
      "Number of participants that did not pass the catch trial check: 138\n",
      "Participants that were removed: [486536.0, 525639.0, 200176.0, 879488.0, 349467.0, 767956.0, 248936.0, 187827.0, 246251.0, 666765.0, 589497.0, 504937.0, 882991.0, 312968.0, 605641.0, 807617.0, 466959.0, 286299.0, 357475.0, 983837.0, 499055.0, 679588.0, 968513.0, 146591.0, 428536.0, 316377.0, 864671.0, 746604.0, 420127.0, 971285.0, 523130.0, 794012.0, 705779.0, 516517.0, 892757.0, 479873.0, 642287.0, 700748.0, 599134.0, 539797.0, 766102.0, 236381.0, 881835.0, 191904.0, 125847.0, 275426.0, 703443.0, 791202.0, 892795.0, 934729.0, 396314.0, 176209.0, 812817.0, 838754.0, 302212.0, 950533.0, 212783.0, 885104.0, 432975.0, 953854.0, 657330.0, 197265.0, 279980.0, 680309.0, 369409.0, 213896.0, 689595.0, 699000.0, 206132.0, 427295.0, 513194.0, 395226.0, 788117.0, 492312.0, 324499.0, 759268.0, 475461.0, 420850.0, 349004.0, 952380.0, 828849.0, 650562.0, 461791.0, 136201.0, 387516.0, 687000.0, 658998.0, 814613.0, 449871.0, 274937.0, 240944.0, 366122.0, 722005.0, 432010.0, 478848.0, 902652.0, 146515.0, 785589.0, 397577.0, 920366.0, 714263.0, 138539.0, 849360.0, 695526.0, 538468.0, 496953.0, 283954.0, 582278.0, 416392.0, 977006.0, 255362.0, 430444.0, 267764.0, 305858.0, 722590.0, 256168.0, 364002.0, 999335.0, 645153.0, 428374.0, 450300.0, 404701.0, 296087.0, 338934.0, 524029.0, 213667.0, 811896.0, 271227.0, 115682.0, 378012.0, 566485.0, 594695.0, 664943.0, 924076.0, 934694.0, 643367.0, 487098.0, 636794.0]\n",
      "Sequences that need to be replaced:\n",
      "Sequence count:\n",
      "{'discrim_jsons/v2_shuffled_g0_dr.json': 51, 'discrim_jsons/v2_shuffled_g0_rotated_dr.json': 51, 'discrim_jsons/v2_shuffled_g0_rotated.json': 49, 'discrim_jsons/v2_shuffled_g0.json': 53}\n"
     ]
    }
   ],
   "source": [
    "catch_cleaned_discrim = catchTrial_cleaning(raw_discrim, 7, all_catch_stim)"
   ]
  },
  {
   "cell_type": "code",
   "execution_count": 149,
   "metadata": {},
   "outputs": [
    {
     "data": {
      "text/plain": [
       "array([35, 30, 51, 34, 69, 38, 42, 45, 28, 55, 60, 50, 33, 53, 31, 29, 37,\n",
       "       44, 24, 41, 68, 62, 43, 22, 46, 40, 63, 26, 48, 32, 49, 47, 54, 61,\n",
       "       27, 66, 56, 72, 39, 36, 70, 59, 64, 58, 25, 57, 67])"
      ]
     },
     "execution_count": 149,
     "metadata": {},
     "output_type": "execute_result"
    }
   ],
   "source": [
    "cleaned_ages = catch_cleaned_discrim.age.unique()\n",
    "cleaned_ages"
   ]
  },
  {
   "cell_type": "markdown",
   "metadata": {},
   "source": [
    "\n"
   ]
  },
  {
   "cell_type": "code",
   "execution_count": 150,
   "metadata": {},
   "outputs": [],
   "source": [
    "def RT_cleaning(df, outlier_range, num_trials):\n",
    "    all_subjIDs = df.subjID.unique()\n",
    "    remove = []\n",
    "    df2_list = []\n",
    "    for subj in all_subjIDs:\n",
    "        count = 0\n",
    "        subj_df = df.loc[df['subjID'] == subj]\n",
    "        cleaned_subj_df = subj_df.copy(deep=True) # prevent setting with copy warning\n",
    "        \n",
    "        # calculate subject's average trial RT\n",
    "        average_trial_RT = subj_df[\"trial_RT\"].mean()\n",
    "        std_trial_RT = subj_df[\"trial_RT\"].std()\n",
    "        p_outlier_range = [(average_trial_RT - (3*std_trial_RT)), (average_trial_RT + (3*std_trial_RT))]\n",
    "        \n",
    "        # remove trials that are outside the outlier range\n",
    "        for idx, row in subj_df.iterrows():\n",
    "            RT = row['trial_RT']\n",
    "            if RT < outlier_range[0]:\n",
    "                cleaned_subj_df.drop([idx], inplace=True)\n",
    "                count += 1\n",
    "            if RT > outlier_range[1]:\n",
    "                cleaned_subj_df.drop([idx], inplace=True)\n",
    "                count += 1\n",
    "            try:\n",
    "                if RT < p_outlier_range[0]:\n",
    "                    cleaned_subj_df.drop([idx], inplace=True)\n",
    "                    count += 1\n",
    "                if RT > p_outlier_range[1]:\n",
    "                    cleaned_subj_df.drop([idx], inplace=True)\n",
    "                    count += 1\n",
    "            except:\n",
    "                print(\"Trial already removed\")\n",
    "                \n",
    "        threshold = math.floor(num_trials * 0.1)\n",
    "        if count >= threshold:\n",
    "            remove.append(subj)\n",
    "        \n",
    "        df2_list.append(cleaned_subj_df)\n",
    "    \n",
    "    df2 = pd.concat(df2_list)\n",
    "    print(\"Number of Participants with 10% or more trials outside their RT range:\", len(remove))\n",
    "    \n",
    "    for index, row in df2.iterrows():\n",
    "        if row['subjID'] in remove:\n",
    "            df2.drop(index, inplace=True)\n",
    "    \n",
    "    return df2\n"
   ]
  },
  {
   "cell_type": "code",
   "execution_count": 151,
   "metadata": {},
   "outputs": [
    {
     "name": "stdout",
     "output_type": "stream",
     "text": [
      "Trial already removed\n",
      "Trial already removed\n",
      "Trial already removed\n",
      "Trial already removed\n",
      "Trial already removed\n",
      "Trial already removed\n",
      "Trial already removed\n",
      "Trial already removed\n",
      "Trial already removed\n",
      "Trial already removed\n",
      "Trial already removed\n",
      "Trial already removed\n",
      "Trial already removed\n",
      "Trial already removed\n",
      "Trial already removed\n",
      "Trial already removed\n",
      "Trial already removed\n",
      "Trial already removed\n",
      "Trial already removed\n",
      "Trial already removed\n",
      "Trial already removed\n",
      "Trial already removed\n",
      "Trial already removed\n",
      "Trial already removed\n",
      "Trial already removed\n",
      "Trial already removed\n",
      "Trial already removed\n",
      "Trial already removed\n",
      "Trial already removed\n",
      "Trial already removed\n",
      "Trial already removed\n",
      "Trial already removed\n",
      "Trial already removed\n",
      "Trial already removed\n",
      "Number of Participants with 10% or more trials outside their RT range: 12\n"
     ]
    }
   ],
   "source": [
    "cleaned_discrim = RT_cleaning(catch_cleaned_discrim, [250,5000], 32)\n",
    "\n",
    "\n",
    "# cleaned_discrim = RT_cleaning(catch_cleaned_discrim, [250,5000], 32)"
   ]
  },
  {
   "cell_type": "code",
   "execution_count": 152,
   "metadata": {},
   "outputs": [],
   "source": [
    "def finalTrialCountCheck(df, num_trials):\n",
    "    \"\"\"\n",
    "    If more then 10% of a participants data is missing, remove the participant\n",
    "    \"\"\"\n",
    "    #List unique values in the df['subjID'] column\\n\",\n",
    "    all_subjIDs = df.subjID.unique()\n",
    "    remove = []\n",
    "    for subj in all_subjIDs:\n",
    "        subj_df = df.loc[df['subjID'] == subj]\n",
    "        count_trials = len(subj_df.index)\n",
    "        threshold_trials_remaining = num_trials - math.floor(num_trials * 0.1)\n",
    "        \n",
    "        if count_trials <= threshold_trials_remaining:\n",
    "            remove.append(subj)\n",
    "    print(\"Number of Participants with >= 10% trials removed:\", len(remove))\n",
    "    \n",
    "    for index, row in df.iterrows():\n",
    "        if row['subjID'] in remove:\n",
    "            df.drop(index, inplace=True)\n",
    "    \n",
    "    print(\"Number of participants left:\",len(df.subjID.unique()))\n",
    "    \n",
    "    return df"
   ]
  },
  {
   "cell_type": "code",
   "execution_count": 153,
   "metadata": {},
   "outputs": [
    {
     "name": "stdout",
     "output_type": "stream",
     "text": [
      "Number of Participants with >= 10% trials removed: 0\n",
      "Number of participants left: 192\n"
     ]
    }
   ],
   "source": [
    "final_discrim = finalTrialCountCheck(cleaned_discrim, 32)"
   ]
  },
  {
   "cell_type": "code",
   "execution_count": null,
   "metadata": {},
   "outputs": [],
   "source": []
  },
  {
   "cell_type": "markdown",
   "metadata": {},
   "source": [
    "## Individual Discriminations"
   ]
  },
  {
   "cell_type": "code",
   "execution_count": 154,
   "metadata": {},
   "outputs": [],
   "source": [
    "def get_accuracy(df):\n",
    "    \"\"\"\n",
    "    * ACCURACY BASED ON THE KINECT\n",
    "    args:\n",
    "        df  \n",
    "    returns:\n",
    "        proportion of correct responses, count of correct responses, count of total trials  \n",
    "    \"\"\"\n",
    "    count_correct = 0\n",
    "    count_incorrect = 0\n",
    "    count_total = 0\n",
    "    count_missed = 0\n",
    "    for idx, row in df.iterrows():\n",
    "        choice = row[\"discrim_choice\"]\n",
    "        if choice == 2.0:\n",
    "            count_missed += 1\n",
    "        else:    \n",
    "            count_total += 1\n",
    "            depth0 = row[\"actual_depth_0\"]\n",
    "            depth1 = row[\"actual_depth_1\"]\n",
    "            if depth0 < depth1:\n",
    "                correct_choice = 0\n",
    "            if depth0 > depth1:\n",
    "                correct_choice = 1\n",
    "            if depth0 == depth1:\n",
    "                # case where depths are equal \n",
    "                correct_choice = None\n",
    "            if choice == correct_choice:\n",
    "                count_correct += 1\n",
    "    \n",
    "    return count_correct/count_total, count_correct, count_total, count_missed\n",
    "\n",
    "def get_RT(df):\n",
    "    \"\"\"\n",
    "    args:\n",
    "        df  \n",
    "    returns:\n",
    "        array of RTs, avg RT and std   \n",
    "    \"\"\"\n",
    "    list_RTs = []\n",
    "    for idx, row in df.iterrows():   \n",
    "        stimulus_duration = row['log_sceneDuration2']\n",
    "        RT = row[\"trial_RT\"] - stimulus_duration\n",
    "        list_RTs.append(RT)\n",
    "    \n",
    "    list_RTs = np.array(list_RTs)\n",
    "    \n",
    "    return list_RTs, np.mean(list_RTs) ,np.std(list_RTs)"
   ]
  },
  {
   "cell_type": "code",
   "execution_count": 155,
   "metadata": {},
   "outputs": [],
   "source": [
    "def depth_differences(df):\n",
    "    \"\"\"\n",
    "    args:\n",
    "        df  \n",
    "    returns:\n",
    "        array of depth differences, avg depth differences and std   \n",
    "    \"\"\"\n",
    "    depth_diffs = []\n",
    "    for idx, row in df.iterrows():\n",
    "        depth0 = row[\"actual_depth_0\"]\n",
    "        depth1 = row[\"actual_depth_1\"]\n",
    "        \n",
    "        diff = abs(depth0-depth1)\n",
    "        depth_diffs.append(diff)\n",
    "    \n",
    "    depth_diffs = np.array(depth_diffs)\n",
    "    \n",
    "    return depth_diffs, np.mean(depth_diffs) ,np.std(depth_diffs)\n",
    "    "
   ]
  },
  {
   "cell_type": "code",
   "execution_count": 156,
   "metadata": {},
   "outputs": [],
   "source": [
    "all_depth_diffs = depth_differences(final_discrim)\n",
    "\n",
    "# add depth difference column to dataframe \n",
    "final_discrim.insert(18, \"depth_difference\", all_depth_diffs[0])"
   ]
  },
  {
   "cell_type": "code",
   "execution_count": 157,
   "metadata": {},
   "outputs": [],
   "source": [
    "def individual_discrimination_stats(df):\n",
    "    '''\n",
    "    Individual discrimination performance and RT \n",
    "    '''\n",
    "    all_stim0 = df.stimulus_0.unique()\n",
    "    \n",
    "    stimuli_stats = {}\n",
    "    for stim0 in all_stim0:\n",
    "        stim0_df = df.loc[df['stimulus_0'] == stim0]\n",
    "        other_stim = stim0_df.stimulus_1.unique()[0]\n",
    "        stim1_df = df.loc[df['stimulus_1'] == stim0]\n",
    "        # df for a specific discrimination trial (collapsed on stim presentation order)\n",
    "        stim_df = pd.concat([stim0_df, stim1_df], ignore_index=True)\n",
    "        stim_250_df = stim_df[stim_df['duration'] == 250.0]\n",
    "        stim_1000_df = stim_df[stim_df['duration'] == 1000.0] \n",
    "        \n",
    "        stim_depthdiff = stim_df['depth_difference'][0]\n",
    "        \n",
    "        stim0_depth = stim_df['actual_depth_0'][0]\n",
    "        stim1_depth = stim_df['actual_depth_1'][0]\n",
    "        stim_depthbin = np.mean(np.array([stim0_depth,stim1_depth]))\n",
    "        \n",
    "        stim_acc_250 = get_accuracy(stim_250_df)\n",
    "        stim_acc_1000 = get_accuracy(stim_1000_df)\n",
    "        \n",
    "        stim_RT_250 = get_RT(stim_250_df)\n",
    "        stim_RT_1000 = get_RT(stim_1000_df)\n",
    "        \n",
    "        stimuli_stats[stim0] = {'stimulus_1': other_stim,\n",
    "                                'accuracy_250': stim_acc_250,\n",
    "                                'accuracy_1000': stim_acc_1000,\n",
    "                                'avg_depth': stim_depthbin,\n",
    "                                'depthdifference': stim_depthdiff, \n",
    "                                'RT_250': stim_RT_250,\n",
    "                                'RT_1000': stim_RT_1000}\n",
    "    \n",
    "    return stimuli_stats"
   ]
  },
  {
   "cell_type": "code",
   "execution_count": 158,
   "metadata": {},
   "outputs": [],
   "source": [
    "all_discrim_performance = individual_discrimination_stats(final_discrim)\n"
   ]
  },
  {
   "cell_type": "code",
   "execution_count": 160,
   "metadata": {},
   "outputs": [],
   "source": [
    "# Load Target at Center Verbal Judgement Data \n",
    "\n",
    "TAC_data_path = '/Users/pmahableshwarkar/Documents/Depth_Project/depth_duration_analysis/TAC_data'\n",
    "\n",
    "# TAC_data_path = '/Users/prachi/Documents/depth_duration/depth_duration_analysis/TAC_data'\n",
    "\n",
    "raw_TAC_250 = pd.read_csv(TAC_data_path + '/raw_250_data.csv')\n",
    "raw_TAC_500 = pd.read_csv(TAC_data_path + '/raw_500_data.csv')\n",
    "raw_TAC_750 = pd.read_csv(TAC_data_path + '/raw_750_data.csv')\n",
    "raw_TAC_1000 = pd.read_csv(TAC_data_path + '/raw_1000_data.csv')\n",
    "\n",
    "n_TAC_250 = pd.read_csv(TAC_data_path + '/normalized_250_data.csv')\n",
    "n_TAC_500 = pd.read_csv(TAC_data_path + '/normalized_500_data.csv')\n",
    "n_TAC_750 = pd.read_csv(TAC_data_path + '/normalized_750_data.csv')\n",
    "n_TAC_1000 = pd.read_csv(TAC_data_path + '/normalized_1000_data.csv')"
   ]
  },
  {
   "cell_type": "code",
   "execution_count": 162,
   "metadata": {},
   "outputs": [],
   "source": [
    "# Load one TAC Discrimination json sequence \n",
    "# all sequences have the same image combinations for the trials, duration and order is counterbalanced \n",
    "\n",
    "discrim_json0_path = '/Users/pmahableshwarkar/Documents/Depth_Project/depth_discrimination/TAC_depth_discrimination_MTurk/discrim_jsons/v2_shuffled_g0_dr.json'\n",
    "\n",
    "# discrim_json0_path = '/Users/prachi/Documents/depth_duration/depth_discrimination/TAC_depth_discrimination_MTurk/discrim_jsons/v2_shuffled_g0_dr.json'\n",
    "\n",
    "with open(discrim_json0_path) as f:\n",
    "    discrim_json0 = json.load(f)\n",
    "    \n",
    "discrim_image_combos = []\n",
    "for trial in discrim_json0:\n",
    "    combo = (trial['image_path_target_0'][29:], trial['image_path_target_1'][29:])\n",
    "    discrim_image_combos.append(combo)"
   ]
  },
  {
   "cell_type": "code",
   "execution_count": null,
   "metadata": {},
   "outputs": [],
   "source": [
    "\n"
   ]
  },
  {
   "cell_type": "code",
   "execution_count": 163,
   "metadata": {},
   "outputs": [],
   "source": [
    "# dictionary where key is one of the images in a discimrination trial, \n",
    "# and the value will be a list of all the subjects that saw both images at the same duration\n",
    "\n",
    "discrim_trial_subjects_250 = {}\n",
    "for combo in discrim_image_combos:\n",
    "    discrim_trial_subjects_250[combo[0]] = []\n",
    "    \n",
    "# find subjects that saw BOTH discrimination trials at 250 ms\n",
    "\n",
    "subjs_250 = raw_TAC_250.subjID.unique()\n",
    "\n",
    "for subj in subjs_250:\n",
    "    subj_df = raw_TAC_250.loc[raw_TAC_250['subjID'] == subj]\n",
    "    for combo in discrim_image_combos:\n",
    "        img0_path = 'depth_duration_stimuli/' + combo[0]\n",
    "        dimg0_row = subj_df.loc[subj_df['stimulus'] == img0_path]\n",
    "        \n",
    "        img1_path = 'depth_duration_stimuli/' + combo[1]\n",
    "        dimg1_row = subj_df.loc[subj_df['stimulus'] == img1_path]\n",
    "        \n",
    "        \n",
    "        if len(dimg0_row) == 1:\n",
    "             if len(dimg1_row) == 1:\n",
    "                if subj not in discrim_trial_subjects_250[combo[0]]:\n",
    "                    discrim_trial_subjects_250[combo[0]].append(subj)\n",
    "\n",
    "        \n",
    "        \n",
    "        \n",
    "        "
   ]
  },
  {
   "cell_type": "code",
   "execution_count": 164,
   "metadata": {
    "collapsed": true,
    "jupyter": {
     "outputs_hidden": true
    }
   },
   "outputs": [
    {
     "name": "stdout",
     "output_type": "stream",
     "text": [
      "10\n",
      "17\n",
      "14\n",
      "11\n",
      "0\n",
      "11\n",
      "15\n",
      "11\n",
      "0\n",
      "13\n",
      "13\n",
      "12\n",
      "0\n",
      "10\n",
      "13\n",
      "7\n",
      "12\n",
      "5\n",
      "15\n",
      "0\n",
      "9\n",
      "12\n",
      "15\n",
      "11\n",
      "16\n",
      "0\n",
      "11\n",
      "14\n",
      "7\n",
      "0\n",
      "10\n",
      "16\n",
      "13\n",
      "8\n",
      "0\n",
      "11\n",
      "14\n",
      "0\n",
      "10\n",
      "10\n"
     ]
    }
   ],
   "source": [
    "for key in discrim_trial_subjects_250:\n",
    "    print(len(discrim_trial_subjects_250[key]))"
   ]
  },
  {
   "cell_type": "code",
   "execution_count": 165,
   "metadata": {},
   "outputs": [],
   "source": [
    "# dictionary where key is one of the images in a discimrination trial, \n",
    "# and the value will be a list of all the subjects that saw both images at the same duration\n",
    "\n",
    "discrim_trial_subjects_1000 = {}\n",
    "for combo in discrim_image_combos:\n",
    "    discrim_trial_subjects_1000[combo[0]] = []\n",
    "    \n",
    "# find subjects that saw BOTH discrimination trials at 250 ms\n",
    "\n",
    "subjs_1000 = raw_TAC_1000.subjID.unique()\n",
    "\n",
    "for subj in subjs_1000:\n",
    "    subj_df = raw_TAC_1000.loc[raw_TAC_1000['subjID'] == subj]\n",
    "    for combo in discrim_image_combos:\n",
    "        img0_path = 'depth_duration_stimuli/' + combo[0]\n",
    "        dimg0_row = subj_df.loc[subj_df['stimulus'] == img0_path]\n",
    "        \n",
    "        img1_path = 'depth_duration_stimuli/' + combo[1]\n",
    "        dimg1_row = subj_df.loc[subj_df['stimulus'] == img1_path]\n",
    "        \n",
    "        \n",
    "        if len(dimg0_row) == 1:\n",
    "             if len(dimg1_row) == 1:\n",
    "                if subj not in discrim_trial_subjects_1000[combo[0]]:\n",
    "                    discrim_trial_subjects_1000[combo[0]].append(subj)\n"
   ]
  },
  {
   "cell_type": "code",
   "execution_count": 166,
   "metadata": {},
   "outputs": [
    {
     "data": {
      "text/plain": [
       "9.4"
      ]
     },
     "execution_count": 166,
     "metadata": {},
     "output_type": "execute_result"
    }
   ],
   "source": [
    "a = 0\n",
    "for key in discrim_trial_subjects_1000:\n",
    "#     print(len(discrim_trial_subjects_1000[key]))\n",
    "    a += len(discrim_trial_subjects_1000[key])\n",
    "a/len(discrim_trial_subjects_1000)"
   ]
  },
  {
   "cell_type": "code",
   "execution_count": 167,
   "metadata": {},
   "outputs": [],
   "source": [
    "# because of outlier cleaning, the numbers are not even across all discrimination trials"
   ]
  },
  {
   "cell_type": "code",
   "execution_count": null,
   "metadata": {},
   "outputs": [],
   "source": []
  },
  {
   "cell_type": "code",
   "execution_count": 168,
   "metadata": {},
   "outputs": [],
   "source": [
    "def trial_pivotTable(data):\n",
    "    \"\"\"\n",
    "    Generate pivot tables from data after cleaning and outlier removal \n",
    "    Organizes data such that for each individual target (stimulus) the following is calulated:\n",
    "    - average depth estimation\n",
    "    - standard deviation\n",
    "    - standard error \n",
    "    \"\"\"\n",
    "    \n",
    "    avg_tables = []\n",
    "    std_tables = []\n",
    "    result_tables = []\n",
    "    cond = 0\n",
    "    ###### CREATE DF WITH DATA STATISTICS AFTER OUTLIER REMOVAL ######\n",
    "    for duration in data: #generate pivot tables for data statistics (avg, std, sem)\n",
    "        actual = pd.pivot_table(duration,  values = [\"actual_depth\"], columns=['stimulus'], aggfunc=np.mean)\n",
    "        actual.reset_index()\n",
    "        actual_renamed = actual.rename(index={'actual_depth': 'Actual Depth'})\n",
    "        \n",
    "        avg = pd.pivot_table(duration,  values = [\"depth_estimate\"], columns=['stimulus'], aggfunc=np.mean)\n",
    "        avg.reset_index()\n",
    "        avg_renamed = avg.rename(index={'depth_estimate': 'Average Estimated Depth'})\n",
    "        \n",
    "        std = pd.pivot_table(duration, values = [\"depth_estimate\"], columns = [\"stimulus\"], aggfunc = np.std)\n",
    "        #note - std is normalized byN-1 by default (ddof parameter = 1 by default)\n",
    "        std.reset_index()\n",
    "        std_renamed = std.rename(index={'depth_estimate': 'Standard Deviation'})\n",
    "        \n",
    "        sem = pd.pivot_table(duration, values = [\"depth_estimate\"], columns = [\"stimulus\"], aggfunc = 'sem')\n",
    "        sem.reset_index()\n",
    "        sem_renamed = sem.rename(index={'depth_estimate': 'Standard Error'})\n",
    "        \n",
    "        frames = [avg_renamed, std_renamed, sem_renamed, actual_renamed] #list of pivot tables for a given duration\n",
    "        result = pd.concat(frames) #merge the pivot tables for a given duration \n",
    "        result = result.T #transpose \n",
    "        result = result.sort_values(by=['Actual Depth'])\n",
    "\n",
    "        #Label the data by duration based on condition counter (cond)\n",
    "        if cond == 0:\n",
    "            result[\"Duration\"] = 250\n",
    "        if cond == 1:\n",
    "            result[\"Duration\"] = 500\n",
    "        if cond == 2:\n",
    "            result[\"Duration\"] = 750\n",
    "        if cond == 3:\n",
    "            result[\"Duration\"] = 1000\n",
    "        \n",
    "        avg_tables.append(avg_renamed) #created for reference (not used in code)\n",
    "        std_tables.append(std_renamed) #created for reference (not used in code)\n",
    "        result_tables.append(result) #list of results for all durations \n",
    "        cond += 1 \n",
    "        \n",
    "    \n",
    "    return result_tables"
   ]
  },
  {
   "cell_type": "code",
   "execution_count": null,
   "metadata": {},
   "outputs": [],
   "source": [
    "\n"
   ]
  },
  {
   "cell_type": "code",
   "execution_count": 169,
   "metadata": {},
   "outputs": [],
   "source": [
    "def trial_getxy(data):\n",
    "    \"\"\"\n",
    "    Extracts the data from the dataframes to a list format for plotting. \n",
    "    Args:\n",
    "        df = [250, 500, 750, 1000]\n",
    "        These data frames are POST all outlier cleaning. \n",
    "        \n",
    "    Returns:\n",
    "        actualdepths = [x_250, x_500, x_750, x_1000]\n",
    "        xs = [list of individual targets]\n",
    "        ys = [y_250, y_500, y_750, y_100]\n",
    "        stes = [ste_250, ste_500, ste_750, ste_1000]\n",
    "        \n",
    "    \"\"\"\n",
    "    xs = []\n",
    "    ys = []\n",
    "    stes = []\n",
    "    stds = []\n",
    "    actualdepths = []\n",
    "    for table in data:\n",
    "        x = []\n",
    "        y = []\n",
    "        ste = []\n",
    "        std = []\n",
    "        depths = []\n",
    "        for idx, row in table.iterrows():\n",
    "            \n",
    "            x.append(idx) #idx is the target (stimulus path)\n",
    "            \n",
    "            estim_avg = row[\"Average Estimated Depth\"]\n",
    "            y.append(estim_avg)\n",
    "            \n",
    "            standard_error = row[\"Standard Error\"]\n",
    "            ste.append(standard_error)\n",
    "            \n",
    "            depth = row[\"Actual Depth\"]\n",
    "            depths.append(depth)\n",
    "            \n",
    "            standard_deviation = row[\"Standard Deviation\"]\n",
    "            std.append(standard_deviation)       \n",
    "            \n",
    "        xs.append(x)\n",
    "        ys.append(y)\n",
    "        stes.append(ste)\n",
    "        actualdepths.append(depths)\n",
    "        stds.append(std)\n",
    "\n",
    "    return xs, ys, stes, actualdepths, stds"
   ]
  },
  {
   "cell_type": "code",
   "execution_count": 170,
   "metadata": {},
   "outputs": [],
   "source": [
    "def within_VE(subjects_dict, VE_df, discrim_data):\n",
    "    '''\n",
    "    Average depth response for each stimulus in the set of participants that saw both discrimination trials  \n",
    "    '''\n",
    "    \n",
    "    VE_stim = []\n",
    "    VE_actualdepth = [] \n",
    "    VE_depthestim = []\n",
    "    VE_std = []\n",
    "    VE_ste = []\n",
    "    \n",
    "    for key in subjects_dict:\n",
    "        subjects = subjects_dict[key]\n",
    "\n",
    "\n",
    "        if len(subjects) > 0:\n",
    "            df_list = []\n",
    "            for subj in subjects:\n",
    "                subj_df = subj_df = VE_df.loc[VE_df['subjID'] == subj]\n",
    "                _subj_df = subj_df.copy(deep=True) # prevent setting with copy warning \n",
    "                df_list.append(_subj_df)\n",
    "\n",
    "            df = pd.concat(df_list)\n",
    "            df_pivot = trial_pivotTable([df])\n",
    "            final = trial_getxy(df_pivot)\n",
    "\n",
    "            final_stim = final[0][0] # stimuli list\n",
    "            final_y = final[1][0] # avg verbal estimates \n",
    "            ste = final[2][0]\n",
    "            actual_depths = final[3][0] \n",
    "            std = final[4][0]\n",
    "\n",
    "            targetimg0 = key.split('/')[-1]\n",
    "            folder0 = targetimg0[:-11]\n",
    "            depth_dur_path0 = 'depth_duration_stimuli/' + folder0 + '/' + targetimg0\n",
    "            idx0 = np.where(np.array(final_stim) == depth_dur_path0)[0][0]\n",
    "            avg_estim_stim0 = final_y[idx0]\n",
    "            std0 = std[idx0]\n",
    "            ste0 = ste[idx0]\n",
    "\n",
    "            targetimg1 = discrim_data['depth_discrimination_stimuli/' + key]['stimulus_1'].split('/')[-1]\n",
    "            folder1 = targetimg1[:-11]\n",
    "            depth_dur_path1 = 'depth_duration_stimuli/' + folder1 + '/' + targetimg1\n",
    "            idx1= np.where(np.array(final_stim) == depth_dur_path1)[0][0]\n",
    "            avg_estim_stim1 = final_y[idx1]\n",
    "            std1 = std[idx1]\n",
    "            ste1 = ste[idx1]\n",
    "\n",
    "            VE_stim.append(targetimg0)\n",
    "            VE_actualdepth.append(actual_depths[idx0])\n",
    "            VE_depthestim.append(avg_estim_stim0)\n",
    "            VE_std.append(std0)\n",
    "            VE_ste.append(ste0)\n",
    "\n",
    "            VE_stim.append(targetimg1)\n",
    "            VE_actualdepth.append(actual_depths[idx1])\n",
    "            VE_depthestim.append(avg_estim_stim1)\n",
    "            VE_std.append(std1)\n",
    "            VE_ste.append(ste1)\n",
    "\n",
    "    return VE_stim, VE_depthestim, VE_ste, VE_actualdepth, VE_std\n"
   ]
  },
  {
   "cell_type": "code",
   "execution_count": 171,
   "metadata": {},
   "outputs": [],
   "source": [
    "within_VE_data_250 = within_VE(discrim_trial_subjects_250, raw_TAC_250, all_discrim_performance)\n",
    "within_VE_data_1000 = within_VE(discrim_trial_subjects_1000, raw_TAC_1000, all_discrim_performance)\n"
   ]
  },
  {
   "cell_type": "code",
   "execution_count": 172,
   "metadata": {},
   "outputs": [],
   "source": [
    "## Execute this cell to prep for plotting\n",
    "final_x_250 = within_VE_data_250[0]\n",
    "final_y_250 = within_VE_data_250[1]\n",
    "ste_250 = within_VE_data_250[2]\n",
    "stim_250 = within_VE_data_250[3]\n",
    "std_250 = within_VE_data_250[4]\n",
    "\n",
    "final_x_1000 = within_VE_data_1000[0]\n",
    "final_y_1000 = within_VE_data_1000[1]\n",
    "ste_1000 = within_VE_data_1000[2]\n",
    "stim_1000 = within_VE_data_1000[3]\n",
    "std_1000 = within_VE_data_1000[4]\n"
   ]
  },
  {
   "cell_type": "code",
   "execution_count": null,
   "metadata": {},
   "outputs": [],
   "source": []
  },
  {
   "cell_type": "code",
   "execution_count": 173,
   "metadata": {},
   "outputs": [
    {
     "name": "stdout",
     "output_type": "stream",
     "text": [
      "m: [0.60710147]\n",
      "b: 0.690945114618498\n",
      "R-squared:  0.5092114268392538\n"
     ]
    },
    {
     "data": {
      "text/plain": [
       "0.509"
      ]
     },
     "execution_count": 173,
     "metadata": {},
     "output_type": "execute_result"
    },
    {
     "data": {
      "image/png": "[encoded data removed]",
      "text/plain": [
       "<Figure size 576x576 with 1 Axes>"
      ]
     },
     "metadata": {
      "needs_background": "light"
     },
     "output_type": "display_data"
    }
   ],
   "source": [
    "from sklearn.linear_model import LinearRegression\n",
    "\n",
    "plt.figure(figsize = [8,8])\n",
    "#run regression\n",
    "X_250 = np.array(stim_250).reshape(-1,1)\n",
    "y_250 = final_y_250\n",
    "reg_250 = LinearRegression().fit(X_250, y_250)\n",
    "\n",
    "#Generated Predictions\n",
    "y_predicted_250 = reg_250.predict(X_250)\n",
    "#Plot Our Actual and Predicted Values\n",
    "plt.plot(X_250, y_250, 'o', color='black', alpha = 0.5);\n",
    "plt.plot(X_250,y_predicted_250,color='chocolate', label = 'm = ' + str(round(reg_250.coef_[0], 3))\n",
    "         + '     r-squared = ' + str(round(float(reg_250.score(X_250, y_250)), 3)))\n",
    "plt.title(\"250 ms\", fontsize = 20)\n",
    "plt.xlabel(\"Actual Depth (m)\", fontsize = 15)\n",
    "plt.ylabel(\"Estimated Depth (m)\", fontsize = 15)\n",
    "plt.plot(X_250, X_250, label = \"Perfect Accuracy\", color = 'black',linestyle='--')  # solid\n",
    "plt.errorbar(X_250, y_250, yerr=ste_250, elinewidth = 1, ecolor = \"gray\", fmt = 'or', mfc = \"chocolate\", mec = \"chocolate\", capsize = 3)\n",
    "\n",
    "legend = plt.legend(loc = 0, fontsize = 13, borderpad = 0.6, labelspacing = 1)\n",
    "legend.get_frame().set_facecolor('lightgray')\n",
    "\n",
    "\n",
    "#get coefficients and y intercept\n",
    "print(\"m: {0}\".format(reg_250.coef_))\n",
    "print(\"b: {0}\".format(reg_250.intercept_))\n",
    "\n",
    "#Returns the coefficient of determination R^2 of the prediction.\n",
    "print(\"R-squared: \", reg_250.score(X_250, y_250))\n",
    "\n",
    "round(float(reg_250.score(X_250, y_250)), 3)"
   ]
  },
  {
   "cell_type": "code",
   "execution_count": 174,
   "metadata": {},
   "outputs": [
    {
     "name": "stdout",
     "output_type": "stream",
     "text": [
      "m: [0.63566318]\n",
      "b: 0.503959427365833\n",
      "R-squared:  0.6446539614634261\n"
     ]
    },
    {
     "data": {
      "image/png": "[encoded data removed]",
      "text/plain": [
       "<Figure size 576x576 with 1 Axes>"
      ]
     },
     "metadata": {
      "needs_background": "light"
     },
     "output_type": "display_data"
    }
   ],
   "source": [
    "from sklearn.linear_model import LinearRegression\n",
    "\n",
    "plt.figure(figsize = [8,8])\n",
    "#run regression\n",
    "X_1000 = np.array(stim_1000).reshape(-1,1)\n",
    "y_1000 = final_y_1000\n",
    "reg_1000 = LinearRegression().fit(X_1000, y_1000)\n",
    "\n",
    "#Generated Predictions\n",
    "y_predicted_1000 = reg_1000.predict(X_1000)\n",
    "#Plot Our Actual and Predicted Values\n",
    "plt.plot(X_1000, y_1000, 'o', color='black', alpha = 0.7);\n",
    "plt.plot(X_1000,y_predicted_1000,color='darkviolet', label = 'm = ' + str(round(reg_1000.coef_[0], 3))\n",
    "         + '     r-squared = ' + str(round(float(reg_1000.score(X_1000, y_1000)), 3)))\n",
    "\n",
    "plt.title(\"1000 ms\", fontsize = 20)\n",
    "plt.xlabel(\"Actual Depth (m)\", fontsize = 15)\n",
    "plt.ylabel(\"Estimated Depth (m)\", fontsize = 15)\n",
    "plt.plot(X_1000, X_1000, label = \"Perfect Accuracy\", color = 'black',linestyle='--')  # solid\n",
    "plt.errorbar(X_1000, y_1000, yerr=ste_1000, elinewidth = 1, ecolor = \"gray\", fmt = 'or', mfc = \"darkviolet\", mec = \"darkviolet\", capsize = 3)\n",
    "\n",
    "\n",
    "legend = plt.legend(loc = 0, fontsize = 13, borderpad = 0.6, labelspacing = 1)\n",
    "legend.get_frame().set_facecolor('lightgray')\n",
    "\n",
    "\n",
    "\n",
    "#get coefficients and y intercept\n",
    "print(\"m: {0}\".format(reg_1000.coef_))\n",
    "print(\"b: {0}\".format(reg_1000.intercept_))\n",
    "\n",
    "#Returns the coefficient of determination R^2 of the prediction.\n",
    "print(\"R-squared: \", reg_1000.score(X_1000, y_1000))"
   ]
  },
  {
   "cell_type": "code",
   "execution_count": null,
   "metadata": {},
   "outputs": [],
   "source": []
  },
  {
   "cell_type": "code",
   "execution_count": 175,
   "metadata": {},
   "outputs": [],
   "source": [
    "def discrim_PC(subjects_dict, VE_df, discrim_data, key):\n",
    "    '''\n",
    "    subjects = dictionary of VE subjects for each discrimination trial\n",
    "    VE_df = df of VE data for a specific duration \n",
    "    * these lists correspond in index \n",
    "    key = discrim stimulus \n",
    "    '''\n",
    "    subjects = subjects_dict[key]\n",
    "\n",
    "    \n",
    "    if len(subjects) > 0:\n",
    "        df_list = []\n",
    "        VE_subj_differences = []\n",
    "        for subj in subjects:\n",
    "            subj_df = subj_df = VE_df.loc[VE_df['subjID'] == subj]\n",
    "            _subj_df = subj_df.copy(deep=True) # prevent setting with copy warning \n",
    "            df_list.append(_subj_df)\n",
    "            \n",
    "        df = pd.concat(df_list)       \n",
    "        df_pivot = trial_pivotTable([df])\n",
    "        final = trial_getxy(df_pivot)\n",
    "\n",
    "        final_stim = final[0][0] # stimuli list\n",
    "        final_y = final[1][0] # avg verbal estimates \n",
    "        ste = final[2][0]\n",
    "        actual_depths = final[3][0] \n",
    "        std = final[4][0]\n",
    "\n",
    "        targetimg0 = key.split('/')[-1]\n",
    "        folder0 = targetimg0[:-11]\n",
    "        depth_dur_path0 = 'depth_duration_stimuli/' + folder0 + '/' + targetimg0\n",
    "        idx0 = np.where(np.array(final_stim) == depth_dur_path0)[0][0]\n",
    "        avg_estim_stim0 = final_y[idx0]\n",
    "        std0 = std[idx0]\n",
    "        ste0 = ste[idx0]\n",
    "\n",
    "        targetimg1 = discrim_data['depth_discrimination_stimuli/' + key]['stimulus_1'].split('/')[-1]\n",
    "        folder1 = targetimg1[:-11]\n",
    "        depth_dur_path1 = 'depth_duration_stimuli/' + folder1 + '/' + targetimg1\n",
    "        idx1= np.where(np.array(final_stim) == depth_dur_path1)[0][0]\n",
    "        avg_estim_stim1 = final_y[idx1]\n",
    "        std1 = std[idx1]\n",
    "        ste1 = ste[idx1]\n",
    "\n",
    "        if avg_estim_stim0 < avg_estim_stim1:\n",
    "            # Which target is CLOSER to you?\n",
    "            answer = targetimg0\n",
    "        if avg_estim_stim0 == avg_estim_stim1:\n",
    "            print(targetimg0, targetimg1)\n",
    "        if avg_estim_stim0 > avg_estim_stim1:\n",
    "            answer = targetimg1\n",
    "\n",
    "        result = {'stimulus_1': targetimg1,\n",
    "                                 'stimulus_0_avg_estim': avg_estim_stim0,\n",
    "                                 'stimulus_1_avg_estim': avg_estim_stim1,\n",
    "                                 'answer': answer,\n",
    "                                 'std0': std0,\n",
    "                                 'std1': std1}\n",
    "        return result\n",
    "\n",
    "    else:\n",
    "#         print('No subjects: ', key)\n",
    "        return None\n",
    "    \n"
   ]
  },
  {
   "cell_type": "code",
   "execution_count": 176,
   "metadata": {},
   "outputs": [],
   "source": [
    "within_VE_answerkey_250 = {} # corresponding answer key for discrimination trials  \n",
    "n_within_VE_answerkey_250 = {}\n",
    "\n",
    "for key in discrim_trial_subjects_250:\n",
    "    within_VE_answerkey_250['depth_discrimination_stimuli/' + key] = discrim_PC(discrim_trial_subjects_250, raw_TAC_250, all_discrim_performance, key)\n",
    "    n_within_VE_answerkey_250['depth_discrimination_stimuli/' + key] = discrim_PC(discrim_trial_subjects_250, n_TAC_250, all_discrim_performance, key)\n",
    "\n",
    "within_VE_answerkey_1000 = {} # corresponding answer key for discrimination trials  \n",
    "n_within_VE_answerkey_1000 = {}\n",
    "for key in discrim_trial_subjects_1000:\n",
    "    within_VE_answerkey_1000['depth_discrimination_stimuli/' + key] = discrim_PC(discrim_trial_subjects_1000, raw_TAC_1000, all_discrim_performance, key)\n",
    "    n_within_VE_answerkey_1000['depth_discrimination_stimuli/' + key] = discrim_PC(discrim_trial_subjects_1000, n_TAC_1000, all_discrim_performance, key)\n"
   ]
  },
  {
   "cell_type": "code",
   "execution_count": 285,
   "metadata": {},
   "outputs": [],
   "source": [
    "def subj_discrim_PC(subjects_dict, VE_df, discrim_data, key):\n",
    "    '''\n",
    "    For each participant, calculate the difference between two scenes for each discrimination \n",
    "    Calculate the mean and standard error for each discrimination difference in the VE data\n",
    "    '''\n",
    "    subjects = subjects_dict[key]\n",
    "\n",
    "    if len(subjects) > 0:\n",
    "        VE_subj_differences = []\n",
    "        estims_stim0 = []\n",
    "        estims_stim1 = []\n",
    "        df_list = []\n",
    "        for subj in subjects:\n",
    "            subj_df = subj_df = VE_df.loc[VE_df['subjID'] == subj]\n",
    "            _subj_df = subj_df.copy(deep=True) # prevent setting with copy warning \n",
    "            df_list.append(_subj_df)\n",
    "                \n",
    "            targetimg0 = key.split('/')[-1]\n",
    "            img0_path = 'depth_duration_stimuli/' + key\n",
    "            dimg0_row = subj_df.loc[subj_df['stimulus'] == img0_path]\n",
    "            dimg0_estim = dimg0_row['depth_estimate'].unique()[0]\n",
    "            estims_stim0.append(dimg0_estim)\n",
    "\n",
    "            targetimg1 = discrim_data['depth_discrimination_stimuli/' + key]['stimulus_1'].split('/')[-1]\n",
    "            folder1 = targetimg1[:-11]\n",
    "\n",
    "            img1_path = 'depth_duration_stimuli/' + folder1 + '/' + targetimg1\n",
    "            dimg1_row = subj_df.loc[subj_df['stimulus'] == img1_path] \n",
    "            dimg1_estim = dimg1_row['depth_estimate'].unique()[0]\n",
    "            estims_stim1.append(dimg1_estim)\n",
    "\n",
    "            subj_estim_diff = dimg0_estim - dimg1_estim\n",
    "            VE_subj_differences.append(subj_estim_diff)\n",
    "                \n",
    "        \n",
    "        if np.mean(np.array(estims_stim0)) < np.mean(np.array(estims_stim1)):\n",
    "            # Which target is CLOSER to you?\n",
    "            answer = targetimg0\n",
    "        if np.mean(np.array(estims_stim0)) == np.mean(np.array(estims_stim1)):\n",
    "            print(targetimg0, targetimg1)\n",
    "        if np.mean(np.array(estims_stim0)) > np.mean(np.array(estims_stim1)):\n",
    "            answer = targetimg1\n",
    "\n",
    "        result = {'stimulus_1': targetimg1,\n",
    "                      'stimulus_0_avg_estim': np.mean(np.array(estims_stim0)),\n",
    "                      'stimulus_1_avg_estim': np.mean(np.array(estims_stim1)),\n",
    "                      'answer': answer,\n",
    "                      'std0': np.std(np.array(estims_stim0)),\n",
    "                      'std1': np.std(np.array(estims_stim1)),\n",
    "                      'ste_diff': stats.sem(np.array(VE_subj_differences))}\n",
    "        \n",
    "        return VE_subj_differences, np.mean(np.array(VE_subj_differences)), stats.sem(np.array(VE_subj_differences))\n",
    "    else:\n",
    "        return None\n",
    "\n",
    "        \n",
    "def subj_discrim_answerkey(subjects_dict, VE_df, discrim_data, key):\n",
    "    '''\n",
    "    For each participant, calculate the difference between two scenes for each discrimination \n",
    "    Calculate the mean and standard error for each discrimination difference in the VE data\n",
    "    '''\n",
    "    subjects = subjects_dict[key]\n",
    "\n",
    "    if len(subjects) > 0:\n",
    "        VE_subj_differences = []\n",
    "        estims_stim0 = []\n",
    "        estims_stim1 = []\n",
    "        df_list = []\n",
    "        for subj in subjects:\n",
    "            subj_df = subj_df = VE_df.loc[VE_df['subjID'] == subj]\n",
    "            _subj_df = subj_df.copy(deep=True) # prevent setting with copy warning \n",
    "            df_list.append(_subj_df)\n",
    "                \n",
    "            targetimg0 = key.split('/')[-1]\n",
    "            img0_path = 'depth_duration_stimuli/' + key\n",
    "            dimg0_row = subj_df.loc[subj_df['stimulus'] == img0_path]\n",
    "            dimg0_estim = dimg0_row['depth_estimate'].unique()[0]\n",
    "            estims_stim0.append(dimg0_estim)\n",
    "\n",
    "            targetimg1 = discrim_data['depth_discrimination_stimuli/' + key]['stimulus_1'].split('/')[-1]\n",
    "            folder1 = targetimg1[:-11]\n",
    "\n",
    "            img1_path = 'depth_duration_stimuli/' + folder1 + '/' + targetimg1\n",
    "            dimg1_row = subj_df.loc[subj_df['stimulus'] == img1_path] \n",
    "            dimg1_estim = dimg1_row['depth_estimate'].unique()[0]\n",
    "            estims_stim1.append(dimg1_estim)\n",
    "\n",
    "            subj_estim_diff = dimg0_estim - dimg1_estim\n",
    "            VE_subj_differences.append(subj_estim_diff)\n",
    "                \n",
    "        \n",
    "        if np.mean(np.array(estims_stim0)) < np.mean(np.array(estims_stim1)):\n",
    "            # Which target is CLOSER to you?\n",
    "            answer = targetimg0\n",
    "        if np.mean(np.array(estims_stim0)) == np.mean(np.array(estims_stim1)):\n",
    "            print(targetimg0, targetimg1)\n",
    "        if np.mean(np.array(estims_stim0)) > np.mean(np.array(estims_stim1)):\n",
    "            answer = targetimg1\n",
    "\n",
    "        result = {'stimulus_1': targetimg1,\n",
    "                      'stimulus_0_avg_estim': np.mean(np.array(estims_stim0)),\n",
    "                      'stimulus_1_avg_estim': np.mean(np.array(estims_stim1)),\n",
    "                      'answer': answer,\n",
    "                      'std0': np.std(np.array(estims_stim0)),\n",
    "                      'std1': np.std(np.array(estims_stim1)),\n",
    "                      'ste_diff': stats.sem(np.array(VE_subj_differences))}\n",
    "        \n",
    "        return result\n",
    "    else:\n",
    "        return None    "
   ]
  },
  {
   "cell_type": "code",
   "execution_count": 279,
   "metadata": {},
   "outputs": [],
   "source": [
    "# raw VE data \n",
    "p_VE_answerkey_250 = {}\n",
    "p_VE_answerkey_1000 = {}\n",
    "\n",
    "# normalized VE data \n",
    "np_VE_answerkey_250 = {}\n",
    "np_VE_answerkey_1000 = {}\n",
    "\n",
    "for key in discrim_trial_subjects_250:\n",
    "    p_VE_answerkey_250['depth_discrimination_stimuli/' + key] = subj_discrim_PC(discrim_trial_subjects_250, raw_TAC_250, all_discrim_performance, key)\n",
    "    np_VE_answerkey_250['depth_discrimination_stimuli/' + key] = subj_discrim_PC(discrim_trial_subjects_250, n_TAC_250, all_discrim_performance, key)\n",
    "    \n",
    "    \n",
    "\n",
    "for key in discrim_trial_subjects_1000:\n",
    "    p_VE_answerkey_1000['depth_discrimination_stimuli/' + key] = subj_discrim_PC(discrim_trial_subjects_1000, raw_TAC_1000, all_discrim_performance, key)\n",
    "    np_VE_answerkey_1000['depth_discrimination_stimuli/' + key] = subj_discrim_PC(discrim_trial_subjects_1000, n_TAC_1000, all_discrim_performance, key)\n",
    "    "
   ]
  },
  {
   "cell_type": "code",
   "execution_count": 280,
   "metadata": {},
   "outputs": [],
   "source": [
    "mean_diffs_250 = [p_VE_answerkey_250[key][1] for key in p_VE_answerkey_250 if p_VE_answerkey_250[key] != None]\n",
    "mean_diffs_1000 = [p_VE_answerkey_1000[key][1] for key in p_VE_answerkey_1000 if p_VE_answerkey_1000[key] != None]\n",
    "\n",
    "ste_diffs_250 = [p_VE_answerkey_250[key][2] for key in p_VE_answerkey_250 if p_VE_answerkey_250[key] != None]\n",
    "ste_diffs_1000 = [p_VE_answerkey_1000[key][2] for key in p_VE_answerkey_1000 if p_VE_answerkey_1000[key] != None]"
   ]
  },
  {
   "cell_type": "code",
   "execution_count": 286,
   "metadata": {},
   "outputs": [],
   "source": [
    "# raw VE data \n",
    "final_VE_answerkey_250 = {}\n",
    "final_VE_answerkey_1000 = {}\n",
    "\n",
    "# normalized VE data \n",
    "n_final_VE_answerkey_250 = {}\n",
    "n_final_VE_answerkey_1000 = {}\n",
    "\n",
    "for key in discrim_trial_subjects_250:\n",
    "    final_VE_answerkey_250['depth_discrimination_stimuli/' + key] = subj_discrim_answerkey(discrim_trial_subjects_250, raw_TAC_250, all_discrim_performance, key)\n",
    "    n_final_VE_answerkey_250['depth_discrimination_stimuli/' + key] = subj_discrim_answerkey(discrim_trial_subjects_250, n_TAC_250, all_discrim_performance, key)\n",
    "    \n",
    "    \n",
    "\n",
    "for key in discrim_trial_subjects_1000:\n",
    "    final_VE_answerkey_1000['depth_discrimination_stimuli/' + key] = subj_discrim_answerkey(discrim_trial_subjects_1000, raw_TAC_1000, all_discrim_performance, key)\n",
    "    n_final_VE_answerkey_1000['depth_discrimination_stimuli/' + key] = subj_discrim_answerkey(discrim_trial_subjects_1000, n_TAC_1000, all_discrim_performance, key)"
   ]
  },
  {
   "cell_type": "code",
   "execution_count": 283,
   "metadata": {},
   "outputs": [
    {
     "data": {
      "image/png": "[encoded data removed]",
      "text/plain": [
       "<Figure size 720x576 with 1 Axes>"
      ]
     },
     "metadata": {
      "needs_background": "light"
     },
     "output_type": "display_data"
    },
    {
     "name": "stdout",
     "output_type": "stream",
     "text": [
      "(0.3668026958480388, 0.03892354096039539)\n"
     ]
    }
   ],
   "source": [
    "plt.figure(figsize=[10,8])\n",
    "plt.xlabel('250 ms', fontsize=15)\n",
    "plt.ylabel('1000 ms', fontsize=15)\n",
    "plt.title('Avg VE Diff between Discrimination Scenes', fontsize=18)\n",
    "plt.plot(mean_diffs_250, mean_diffs_1000, 'o', color='black')\n",
    "plt.errorbar(mean_diffs_250, mean_diffs_1000, xerr=ste_diffs_250, fmt=\"o\", mec='black', color='gray')\n",
    "plt.errorbar(mean_diffs_250, mean_diffs_1000, yerr=ste_diffs_1000, fmt=\"o\", mec='black', ms = 0.5, color='gray')\n",
    "\n",
    "plt.show();\n",
    "print(scipy.stats.pearsonr(mean_diffs_250, mean_diffs_1000))"
   ]
  },
  {
   "cell_type": "code",
   "execution_count": 327,
   "metadata": {},
   "outputs": [
    {
     "data": {
      "text/html": [
       "<div>\n",
       "<style scoped>\n",
       "    .dataframe tbody tr th:only-of-type {\n",
       "        vertical-align: middle;\n",
       "    }\n",
       "\n",
       "    .dataframe tbody tr th {\n",
       "        vertical-align: top;\n",
       "    }\n",
       "\n",
       "    .dataframe thead th {\n",
       "        text-align: right;\n",
       "    }\n",
       "</style>\n",
       "<table border=\"1\" class=\"dataframe\">\n",
       "  <thead>\n",
       "    <tr style=\"text-align: right;\">\n",
       "      <th></th>\n",
       "      <th>subjID</th>\n",
       "      <th>experimentName</th>\n",
       "      <th>versionName</th>\n",
       "      <th>sequenceName</th>\n",
       "      <th>url</th>\n",
       "      <th>selected_row</th>\n",
       "      <th>windowWidth</th>\n",
       "      <th>windowHeight</th>\n",
       "      <th>screenWidth</th>\n",
       "      <th>screenHeight</th>\n",
       "      <th>...</th>\n",
       "      <th>trial_RT</th>\n",
       "      <th>log_fixation</th>\n",
       "      <th>log_sceneDuration1</th>\n",
       "      <th>log_mask1</th>\n",
       "      <th>log_sceneDuration2</th>\n",
       "      <th>log_mask2</th>\n",
       "      <th>experimentTime</th>\n",
       "      <th>totalTime</th>\n",
       "      <th>age</th>\n",
       "      <th>gender</th>\n",
       "    </tr>\n",
       "  </thead>\n",
       "  <tbody>\n",
       "    <tr>\n",
       "      <th>80</th>\n",
       "      <td>228728.0</td>\n",
       "      <td>DepthScenes</td>\n",
       "      <td>v2_duration_discrimination</td>\n",
       "      <td>discrim_jsons/v2_shuffled_g0_dr.json</td>\n",
       "      <td>http://54.210.137.18/DepthDuration/v2_depth_di...</td>\n",
       "      <td>1.0</td>\n",
       "      <td>1716.0</td>\n",
       "      <td>838.0</td>\n",
       "      <td>1920.0</td>\n",
       "      <td>1080.0</td>\n",
       "      <td>...</td>\n",
       "      <td>2085.0</td>\n",
       "      <td>1002.0</td>\n",
       "      <td>1008.0</td>\n",
       "      <td>1005.0</td>\n",
       "      <td>991.0</td>\n",
       "      <td>493.0</td>\n",
       "      <td>NaN</td>\n",
       "      <td>500632</td>\n",
       "      <td>30</td>\n",
       "      <td>Man</td>\n",
       "    </tr>\n",
       "    <tr>\n",
       "      <th>81</th>\n",
       "      <td>228728.0</td>\n",
       "      <td>DepthScenes</td>\n",
       "      <td>v2_duration_discrimination</td>\n",
       "      <td>discrim_jsons/v2_shuffled_g0_dr.json</td>\n",
       "      <td>http://54.210.137.18/DepthDuration/v2_depth_di...</td>\n",
       "      <td>1.0</td>\n",
       "      <td>1716.0</td>\n",
       "      <td>838.0</td>\n",
       "      <td>1920.0</td>\n",
       "      <td>1080.0</td>\n",
       "      <td>...</td>\n",
       "      <td>2594.0</td>\n",
       "      <td>1004.0</td>\n",
       "      <td>1012.0</td>\n",
       "      <td>992.0</td>\n",
       "      <td>999.0</td>\n",
       "      <td>507.0</td>\n",
       "      <td>NaN</td>\n",
       "      <td>500632</td>\n",
       "      <td>30</td>\n",
       "      <td>Man</td>\n",
       "    </tr>\n",
       "    <tr>\n",
       "      <th>82</th>\n",
       "      <td>228728.0</td>\n",
       "      <td>DepthScenes</td>\n",
       "      <td>v2_duration_discrimination</td>\n",
       "      <td>discrim_jsons/v2_shuffled_g0_dr.json</td>\n",
       "      <td>http://54.210.137.18/DepthDuration/v2_depth_di...</td>\n",
       "      <td>1.0</td>\n",
       "      <td>1716.0</td>\n",
       "      <td>838.0</td>\n",
       "      <td>1920.0</td>\n",
       "      <td>1080.0</td>\n",
       "      <td>...</td>\n",
       "      <td>1350.0</td>\n",
       "      <td>1009.0</td>\n",
       "      <td>255.0</td>\n",
       "      <td>1000.0</td>\n",
       "      <td>244.0</td>\n",
       "      <td>498.0</td>\n",
       "      <td>NaN</td>\n",
       "      <td>500632</td>\n",
       "      <td>30</td>\n",
       "      <td>Man</td>\n",
       "    </tr>\n",
       "    <tr>\n",
       "      <th>83</th>\n",
       "      <td>228728.0</td>\n",
       "      <td>DepthScenes</td>\n",
       "      <td>v2_duration_discrimination</td>\n",
       "      <td>discrim_jsons/v2_shuffled_g0_dr.json</td>\n",
       "      <td>http://54.210.137.18/DepthDuration/v2_depth_di...</td>\n",
       "      <td>1.0</td>\n",
       "      <td>1716.0</td>\n",
       "      <td>838.0</td>\n",
       "      <td>1920.0</td>\n",
       "      <td>1080.0</td>\n",
       "      <td>...</td>\n",
       "      <td>1341.0</td>\n",
       "      <td>1001.0</td>\n",
       "      <td>258.0</td>\n",
       "      <td>997.0</td>\n",
       "      <td>252.0</td>\n",
       "      <td>498.0</td>\n",
       "      <td>NaN</td>\n",
       "      <td>500632</td>\n",
       "      <td>30</td>\n",
       "      <td>Man</td>\n",
       "    </tr>\n",
       "    <tr>\n",
       "      <th>85</th>\n",
       "      <td>228728.0</td>\n",
       "      <td>DepthScenes</td>\n",
       "      <td>v2_duration_discrimination</td>\n",
       "      <td>discrim_jsons/v2_shuffled_g0_dr.json</td>\n",
       "      <td>http://54.210.137.18/DepthDuration/v2_depth_di...</td>\n",
       "      <td>1.0</td>\n",
       "      <td>1716.0</td>\n",
       "      <td>838.0</td>\n",
       "      <td>1920.0</td>\n",
       "      <td>1080.0</td>\n",
       "      <td>...</td>\n",
       "      <td>2412.0</td>\n",
       "      <td>1015.0</td>\n",
       "      <td>988.0</td>\n",
       "      <td>1001.0</td>\n",
       "      <td>1002.0</td>\n",
       "      <td>503.0</td>\n",
       "      <td>NaN</td>\n",
       "      <td>500632</td>\n",
       "      <td>30</td>\n",
       "      <td>Man</td>\n",
       "    </tr>\n",
       "    <tr>\n",
       "      <th>...</th>\n",
       "      <td>...</td>\n",
       "      <td>...</td>\n",
       "      <td>...</td>\n",
       "      <td>...</td>\n",
       "      <td>...</td>\n",
       "      <td>...</td>\n",
       "      <td>...</td>\n",
       "      <td>...</td>\n",
       "      <td>...</td>\n",
       "      <td>...</td>\n",
       "      <td>...</td>\n",
       "      <td>...</td>\n",
       "      <td>...</td>\n",
       "      <td>...</td>\n",
       "      <td>...</td>\n",
       "      <td>...</td>\n",
       "      <td>...</td>\n",
       "      <td>...</td>\n",
       "      <td>...</td>\n",
       "      <td>...</td>\n",
       "      <td>...</td>\n",
       "    </tr>\n",
       "    <tr>\n",
       "      <th>13593</th>\n",
       "      <td>755967.0</td>\n",
       "      <td>DepthScenes</td>\n",
       "      <td>v2_duration_discrimination</td>\n",
       "      <td>discrim_jsons/v2_shuffled_g0_rotated_dr.json</td>\n",
       "      <td>http://54.210.137.18/DepthDuration/v2_depth_di...</td>\n",
       "      <td>2.0</td>\n",
       "      <td>1920.0</td>\n",
       "      <td>969.0</td>\n",
       "      <td>1920.0</td>\n",
       "      <td>1080.0</td>\n",
       "      <td>...</td>\n",
       "      <td>1838.0</td>\n",
       "      <td>1015.0</td>\n",
       "      <td>1001.0</td>\n",
       "      <td>998.0</td>\n",
       "      <td>999.0</td>\n",
       "      <td>499.0</td>\n",
       "      <td>NaN</td>\n",
       "      <td>312211</td>\n",
       "      <td>26</td>\n",
       "      <td>Woman</td>\n",
       "    </tr>\n",
       "    <tr>\n",
       "      <th>13596</th>\n",
       "      <td>755967.0</td>\n",
       "      <td>DepthScenes</td>\n",
       "      <td>v2_duration_discrimination</td>\n",
       "      <td>discrim_jsons/v2_shuffled_g0_rotated_dr.json</td>\n",
       "      <td>http://54.210.137.18/DepthDuration/v2_depth_di...</td>\n",
       "      <td>2.0</td>\n",
       "      <td>1920.0</td>\n",
       "      <td>969.0</td>\n",
       "      <td>1920.0</td>\n",
       "      <td>1080.0</td>\n",
       "      <td>...</td>\n",
       "      <td>1856.0</td>\n",
       "      <td>1006.0</td>\n",
       "      <td>1003.0</td>\n",
       "      <td>997.0</td>\n",
       "      <td>999.0</td>\n",
       "      <td>495.0</td>\n",
       "      <td>NaN</td>\n",
       "      <td>312211</td>\n",
       "      <td>26</td>\n",
       "      <td>Woman</td>\n",
       "    </tr>\n",
       "    <tr>\n",
       "      <th>13597</th>\n",
       "      <td>755967.0</td>\n",
       "      <td>DepthScenes</td>\n",
       "      <td>v2_duration_discrimination</td>\n",
       "      <td>discrim_jsons/v2_shuffled_g0_rotated_dr.json</td>\n",
       "      <td>http://54.210.137.18/DepthDuration/v2_depth_di...</td>\n",
       "      <td>2.0</td>\n",
       "      <td>1920.0</td>\n",
       "      <td>969.0</td>\n",
       "      <td>1920.0</td>\n",
       "      <td>1080.0</td>\n",
       "      <td>...</td>\n",
       "      <td>1151.0</td>\n",
       "      <td>1001.0</td>\n",
       "      <td>252.0</td>\n",
       "      <td>998.0</td>\n",
       "      <td>251.0</td>\n",
       "      <td>498.0</td>\n",
       "      <td>NaN</td>\n",
       "      <td>312211</td>\n",
       "      <td>26</td>\n",
       "      <td>Woman</td>\n",
       "    </tr>\n",
       "    <tr>\n",
       "      <th>13598</th>\n",
       "      <td>755967.0</td>\n",
       "      <td>DepthScenes</td>\n",
       "      <td>v2_duration_discrimination</td>\n",
       "      <td>discrim_jsons/v2_shuffled_g0_rotated_dr.json</td>\n",
       "      <td>http://54.210.137.18/DepthDuration/v2_depth_di...</td>\n",
       "      <td>2.0</td>\n",
       "      <td>1920.0</td>\n",
       "      <td>969.0</td>\n",
       "      <td>1920.0</td>\n",
       "      <td>1080.0</td>\n",
       "      <td>...</td>\n",
       "      <td>1836.0</td>\n",
       "      <td>1015.0</td>\n",
       "      <td>999.0</td>\n",
       "      <td>997.0</td>\n",
       "      <td>1001.0</td>\n",
       "      <td>497.0</td>\n",
       "      <td>NaN</td>\n",
       "      <td>312211</td>\n",
       "      <td>26</td>\n",
       "      <td>Woman</td>\n",
       "    </tr>\n",
       "    <tr>\n",
       "      <th>13599</th>\n",
       "      <td>755967.0</td>\n",
       "      <td>DepthScenes</td>\n",
       "      <td>v2_duration_discrimination</td>\n",
       "      <td>discrim_jsons/v2_shuffled_g0_rotated_dr.json</td>\n",
       "      <td>http://54.210.137.18/DepthDuration/v2_depth_di...</td>\n",
       "      <td>2.0</td>\n",
       "      <td>1920.0</td>\n",
       "      <td>969.0</td>\n",
       "      <td>1920.0</td>\n",
       "      <td>1080.0</td>\n",
       "      <td>...</td>\n",
       "      <td>1838.0</td>\n",
       "      <td>1007.0</td>\n",
       "      <td>1004.0</td>\n",
       "      <td>994.0</td>\n",
       "      <td>1003.0</td>\n",
       "      <td>497.0</td>\n",
       "      <td>NaN</td>\n",
       "      <td>312211</td>\n",
       "      <td>26</td>\n",
       "      <td>Woman</td>\n",
       "    </tr>\n",
       "  </tbody>\n",
       "</table>\n",
       "<p>6078 rows × 30 columns</p>\n",
       "</div>"
      ],
      "text/plain": [
       "         subjID experimentName                 versionName  \\\n",
       "80     228728.0    DepthScenes  v2_duration_discrimination   \n",
       "81     228728.0    DepthScenes  v2_duration_discrimination   \n",
       "82     228728.0    DepthScenes  v2_duration_discrimination   \n",
       "83     228728.0    DepthScenes  v2_duration_discrimination   \n",
       "85     228728.0    DepthScenes  v2_duration_discrimination   \n",
       "...         ...            ...                         ...   \n",
       "13593  755967.0    DepthScenes  v2_duration_discrimination   \n",
       "13596  755967.0    DepthScenes  v2_duration_discrimination   \n",
       "13597  755967.0    DepthScenes  v2_duration_discrimination   \n",
       "13598  755967.0    DepthScenes  v2_duration_discrimination   \n",
       "13599  755967.0    DepthScenes  v2_duration_discrimination   \n",
       "\n",
       "                                       sequenceName  \\\n",
       "80             discrim_jsons/v2_shuffled_g0_dr.json   \n",
       "81             discrim_jsons/v2_shuffled_g0_dr.json   \n",
       "82             discrim_jsons/v2_shuffled_g0_dr.json   \n",
       "83             discrim_jsons/v2_shuffled_g0_dr.json   \n",
       "85             discrim_jsons/v2_shuffled_g0_dr.json   \n",
       "...                                             ...   \n",
       "13593  discrim_jsons/v2_shuffled_g0_rotated_dr.json   \n",
       "13596  discrim_jsons/v2_shuffled_g0_rotated_dr.json   \n",
       "13597  discrim_jsons/v2_shuffled_g0_rotated_dr.json   \n",
       "13598  discrim_jsons/v2_shuffled_g0_rotated_dr.json   \n",
       "13599  discrim_jsons/v2_shuffled_g0_rotated_dr.json   \n",
       "\n",
       "                                                     url  selected_row  \\\n",
       "80     http://54.210.137.18/DepthDuration/v2_depth_di...           1.0   \n",
       "81     http://54.210.137.18/DepthDuration/v2_depth_di...           1.0   \n",
       "82     http://54.210.137.18/DepthDuration/v2_depth_di...           1.0   \n",
       "83     http://54.210.137.18/DepthDuration/v2_depth_di...           1.0   \n",
       "85     http://54.210.137.18/DepthDuration/v2_depth_di...           1.0   \n",
       "...                                                  ...           ...   \n",
       "13593  http://54.210.137.18/DepthDuration/v2_depth_di...           2.0   \n",
       "13596  http://54.210.137.18/DepthDuration/v2_depth_di...           2.0   \n",
       "13597  http://54.210.137.18/DepthDuration/v2_depth_di...           2.0   \n",
       "13598  http://54.210.137.18/DepthDuration/v2_depth_di...           2.0   \n",
       "13599  http://54.210.137.18/DepthDuration/v2_depth_di...           2.0   \n",
       "\n",
       "       windowWidth  windowHeight  screenWidth  screenHeight  ... trial_RT  \\\n",
       "80          1716.0         838.0       1920.0        1080.0  ...   2085.0   \n",
       "81          1716.0         838.0       1920.0        1080.0  ...   2594.0   \n",
       "82          1716.0         838.0       1920.0        1080.0  ...   1350.0   \n",
       "83          1716.0         838.0       1920.0        1080.0  ...   1341.0   \n",
       "85          1716.0         838.0       1920.0        1080.0  ...   2412.0   \n",
       "...            ...           ...          ...           ...  ...      ...   \n",
       "13593       1920.0         969.0       1920.0        1080.0  ...   1838.0   \n",
       "13596       1920.0         969.0       1920.0        1080.0  ...   1856.0   \n",
       "13597       1920.0         969.0       1920.0        1080.0  ...   1151.0   \n",
       "13598       1920.0         969.0       1920.0        1080.0  ...   1836.0   \n",
       "13599       1920.0         969.0       1920.0        1080.0  ...   1838.0   \n",
       "\n",
       "      log_fixation  log_sceneDuration1 log_mask1 log_sceneDuration2  \\\n",
       "80          1002.0              1008.0    1005.0              991.0   \n",
       "81          1004.0              1012.0     992.0              999.0   \n",
       "82          1009.0               255.0    1000.0              244.0   \n",
       "83          1001.0               258.0     997.0              252.0   \n",
       "85          1015.0               988.0    1001.0             1002.0   \n",
       "...            ...                 ...       ...                ...   \n",
       "13593       1015.0              1001.0     998.0              999.0   \n",
       "13596       1006.0              1003.0     997.0              999.0   \n",
       "13597       1001.0               252.0     998.0              251.0   \n",
       "13598       1015.0               999.0     997.0             1001.0   \n",
       "13599       1007.0              1004.0     994.0             1003.0   \n",
       "\n",
       "       log_mask2  experimentTime  totalTime  age  gender  \n",
       "80         493.0             NaN     500632   30     Man  \n",
       "81         507.0             NaN     500632   30     Man  \n",
       "82         498.0             NaN     500632   30     Man  \n",
       "83         498.0             NaN     500632   30     Man  \n",
       "85         503.0             NaN     500632   30     Man  \n",
       "...          ...             ...        ...  ...     ...  \n",
       "13593      499.0             NaN     312211   26   Woman  \n",
       "13596      495.0             NaN     312211   26   Woman  \n",
       "13597      498.0             NaN     312211   26   Woman  \n",
       "13598      497.0             NaN     312211   26   Woman  \n",
       "13599      497.0             NaN     312211   26   Woman  \n",
       "\n",
       "[6078 rows x 30 columns]"
      ]
     },
     "execution_count": 327,
     "metadata": {},
     "output_type": "execute_result"
    }
   ],
   "source": [
    "final_discrim"
   ]
  },
  {
   "cell_type": "code",
   "execution_count": 419,
   "metadata": {},
   "outputs": [],
   "source": [
    "def VE_accuracy(stim0, df, answerkey):\n",
    "    '''\n",
    "    Accuracy based on the verbal judgement data \n",
    "    '''\n",
    "    \n",
    "    \"\"\"\n",
    "    args:\n",
    "        df  \n",
    "    returns:\n",
    "        proportion of correct responses, count of correct responses, count of total trials  \n",
    "    \"\"\"\n",
    "    count_correct = 0\n",
    "    count_incorrect = 0\n",
    "    count_total = 0\n",
    "    count_missed = 0\n",
    "    try:\n",
    "        VE_correct_answer = answerkey[stim0]['answer']\n",
    "        for idx, row in df.iterrows(): \n",
    "            choice = row[\"discrim_choice\"]\n",
    "            count_total += 1\n",
    "            if choice == 0.0:\n",
    "                image_choice = row[\"stimulus_0\"]\n",
    "\n",
    "            if choice == 1.0:\n",
    "                image_choice = row[\"stimulus_1\"]\n",
    "\n",
    "            if choice == 2.0:\n",
    "                count_missed += 1\n",
    "\n",
    "            if choice == 3.0:\n",
    "                count_missed += 1\n",
    "\n",
    "            try:\n",
    "                if image_choice.split('/')[-1] == VE_correct_answer:\n",
    "                    count_correct += 1\n",
    "            except:\n",
    "                pass\n",
    "            \n",
    "        p = count_correct/count_total\n",
    "        n = count_total\n",
    "        stderr = np.sqrt(p*(1-p)/n)\n",
    "        return count_correct/count_total, count_correct, count_total, count_missed, stderr\n",
    "    except:\n",
    "        return None\n",
    "\n",
    "    \n",
    "def main_VE_accuracy(df, answerkey_250, answerkey_1000):\n",
    "    all_stim0 = df.stimulus_0.unique()\n",
    "    stimuli_stats = {}\n",
    "    for stim0 in all_stim0:\n",
    "        \n",
    "        # dataframe for stimulus 0\n",
    "        stim0_df = df.loc[df['stimulus_0'] == stim0]\n",
    "        # name of stimulus 1\n",
    "        other_stim = stim0_df.stimulus_1.unique()[0]\n",
    "        # dataframe where stimulus 0 is presented SECOND (same trial)\n",
    "        stim1_df = df.loc[df['stimulus_1'] == stim0]\n",
    "        \n",
    "        # df for a specific discrimination trial (collapsed on stim presentation order)\n",
    "        stim_df = pd.concat([stim0_df, stim1_df], ignore_index=True)\n",
    "        stim_250_df = stim_df[stim_df['duration'] == 250.0]\n",
    "        stim_1000_df = stim_df[stim_df['duration'] == 1000.0] \n",
    "        \n",
    "#         stim_depthdiff = stim_df['depth_difference'][0]\n",
    "        \n",
    "        stim0_depth = stim_df['actual_depth_0'][0]\n",
    "        stim1_depth = stim_df['actual_depth_1'][0]\n",
    "        stim_depthbin = np.mean(np.array([stim0_depth,stim1_depth]))\n",
    "        \n",
    "        stim_acc_250 = VE_accuracy(stim0, stim_250_df, answerkey_250)\n",
    "        stim_acc_1000 = VE_accuracy(stim0, stim_1000_df, answerkey_1000)\n",
    "        \n",
    "        stim_RT_250 = get_RT(stim_250_df)\n",
    "        stim_RT_1000 = get_RT(stim_1000_df)\n",
    "        \n",
    "        # difference between verbal judgements divided by joint variance \n",
    "        # abs(VE1-VE2)/sqrt(stda^2 + std2^2)\n",
    "        std0_250 = answerkey_250[stim0]['std0']\n",
    "        std1_250 = answerkey_250[stim0]['std1']\n",
    "        joint_variance_250 = np.sqrt(std0_250**2 + std1_250**2)\n",
    "        JV_regressor_250 = abs(answerkey_250[stim0]['stimulus_0_avg_estim'] - answerkey_250[stim0]['stimulus_1_avg_estim'])/joint_variance_250\n",
    "\n",
    "        std0_1000 = answerkey_1000[stim0]['std0']\n",
    "        std1_1000 = answerkey_1000[stim0]['std1']\n",
    "        joint_variance_1000 = np.sqrt(std0_1000**2 + std1_1000**2)\n",
    "        JV_regressor_1000 = abs(answerkey_1000[stim0]['stimulus_0_avg_estim'] - answerkey_1000[stim0]['stimulus_1_avg_estim'])/joint_variance_1000\n",
    "            \n",
    "        stimuli_stats[stim0] = {'stimulus_1': other_stim,\n",
    "                                'accuracy_250': stim_acc_250,\n",
    "                                'accuracy_1000': stim_acc_1000,\n",
    "                                'avg_depth': stim_depthbin,\n",
    "                                'VE_depthdifference_250': abs(answerkey_250[stim0]['stimulus_0_avg_estim'] - answerkey_250[stim0]['stimulus_1_avg_estim']), \n",
    "                                'VE_depthdifference_1000': abs(answerkey_1000[stim0]['stimulus_0_avg_estim'] - answerkey_1000[stim0]['stimulus_1_avg_estim']),\n",
    "                                'RT_250': stim_RT_250,\n",
    "                                'RT_1000': stim_RT_1000,\n",
    "                                'JV_regressor_250': JV_regressor_250,\n",
    "                                'JV_regressor_1000': JV_regressor_1000}\n",
    "            \n",
    "\n",
    "        \n",
    "    \n",
    "    return stimuli_stats\n",
    "    \n",
    "    \n",
    "\n",
    "def V2_main_VE_accuracy(df, answerkey_250, subjects_dict_250, answerkey_1000, subjects_dict_1000):\n",
    "    all_stim0 = df.stimulus_0.unique()\n",
    "    stimuli_stats = {}\n",
    "    for stim0 in all_stim0:\n",
    "        \n",
    "        # dataframe for stimulus 0\n",
    "        stim0_df = df.loc[df['stimulus_0'] == stim0]\n",
    "        # name of stimulus 1\n",
    "        other_stim = stim0_df.stimulus_1.unique()[0]\n",
    "        # dataframe where stimulus 0 is presented SECOND (same trial)\n",
    "        stim1_df = df.loc[df['stimulus_1'] == stim0]\n",
    "        \n",
    "        # df for a specific discrimination trial (collapsed on stim presentation order)\n",
    "        stim_df = pd.concat([stim0_df, stim1_df], ignore_index=True)\n",
    "        stim_250_df = stim_df[stim_df['duration'] == 250.0]\n",
    "        stim_1000_df = stim_df[stim_df['duration'] == 1000.0]\n",
    "                \n",
    "        stim0_depth = stim_df['actual_depth_0'][0]\n",
    "        stim1_depth = stim_df['actual_depth_1'][0]\n",
    "        stim_depthbin = np.mean(np.array([stim0_depth,stim1_depth]))\n",
    "        \n",
    "        stim_acc_250 = VE_accuracy(stim0, stim_250_df, answerkey_250)\n",
    "        stim_acc_1000 = VE_accuracy(stim0, stim_1000_df, answerkey_1000)\n",
    "        \n",
    "        stim_RT_250 = get_RT(stim_250_df)\n",
    "        stim_RT_1000 = get_RT(stim_1000_df)\n",
    "        \n",
    "        # difference between verbal judgements divided by joint variance \n",
    "        # abs(VE1-VE2)/sqrt(stda^2 + std2^2)\n",
    "        try:\n",
    "            std0_250 = answerkey_250[stim0]['std0']\n",
    "            std1_250 = answerkey_250[stim0]['std1']\n",
    "            joint_variance_250 = np.sqrt(std0_250**2 + std1_250**2)\n",
    "            JV_regressor_250 = abs(answerkey_250[stim0]['stimulus_0_avg_estim'] - answerkey_250[stim0]['stimulus_1_avg_estim'])/joint_variance_250\n",
    "            \n",
    "            std0_1000 = answerkey_1000[stim0]['std0']\n",
    "            std1_1000 = answerkey_1000[stim0]['std1']\n",
    "            joint_variance_1000 = np.sqrt(std0_1000**2 + std1_1000**2)\n",
    "            JV_regressor_1000 = abs(answerkey_1000[stim0]['stimulus_0_avg_estim'] - answerkey_1000[stim0]['stimulus_1_avg_estim'])/joint_variance_1000\n",
    "            \n",
    "            if stim_acc_250 and stim_acc_1000 != None:\n",
    "                stimuli_stats[stim0] = {'stimulus_1': other_stim,\n",
    "                                    'accuracy_250': stim_acc_250,\n",
    "                                    'accuracy_1000': stim_acc_1000,\n",
    "                                    'avg_depth': stim_depthbin,\n",
    "                                    'VE_depthdifference_250': abs(answerkey_250[stim0]['stimulus_0_avg_estim'] - answerkey_250[stim0]['stimulus_1_avg_estim']), \n",
    "                                    'VE_depthdifference_1000': abs(answerkey_1000[stim0]['stimulus_0_avg_estim'] - answerkey_1000[stim0]['stimulus_1_avg_estim']),\n",
    "                                    'RT_250': stim_RT_250,\n",
    "                                    'RT_1000': stim_RT_1000,\n",
    "                                    'JV_regressor_250': JV_regressor_250,\n",
    "                                    'JV_regressor_1000': JV_regressor_1000,\n",
    "                                    'ste_diff_250': answerkey_250[stim0]['ste_diff'],\n",
    "                                    'ste_diff_1000': answerkey_1000[stim0]['ste_diff'],\n",
    "                                    'discrim_ste_250': stim_acc_250[-1],\n",
    "                                    'discrim_ste_1000': stim_acc_1000[-1]}        \n",
    "            \n",
    "        except: \n",
    "            std0_250 = answerkey_250[other_stim]['std0']\n",
    "            std1_250 = answerkey_250[other_stim]['std1']\n",
    "            joint_variance_250 = np.sqrt(std0_250**2 + std1_250**2)\n",
    "            JV_regressor_250 = abs(answerkey_250[other_stim]['stimulus_0_avg_estim'] - answerkey_250[other_stim]['stimulus_1_avg_estim'])/joint_variance_250\n",
    "            \n",
    "            std0_1000 = answerkey_1000[other_stim]['std0']\n",
    "            std1_1000 = answerkey_1000[other_stim]['std1']\n",
    "            joint_variance_1000 = np.sqrt(std0_1000**2 + std1_1000**2)\n",
    "            JV_regressor_1000 = abs(answerkey_1000[other_stim]['stimulus_0_avg_estim'] - answerkey_1000[other_stim]['stimulus_1_avg_estim'])/joint_variance_1000\n",
    "            if stim_acc_250 and stim_acc_1000 != None:\n",
    "                stimuli_stats[stim0] = {'stimulus_1': stim0,\n",
    "                                'accuracy_250': stim_acc_250,\n",
    "                                'accuracy_1000': stim_acc_1000,\n",
    "                                'avg_depth': stim_depthbin,\n",
    "                                'VE_depthdifference_250': abs(answerkey_250[other_stim]['stimulus_0_avg_estim'] - answerkey_250[other_stim]['stimulus_1_avg_estim']), \n",
    "                                'VE_depthdifference_1000': abs(answerkey_1000[other_stim]['stimulus_0_avg_estim'] - answerkey_1000[other_stim]['stimulus_1_avg_estim']),\n",
    "                                'RT_250': stim_RT_250,\n",
    "                                'RT_1000': stim_RT_1000,\n",
    "                                'JV_regressor_250': JV_regressor_250,\n",
    "                                'JV_regressor_1000': JV_regressor_1000,\n",
    "                                'ste_diff_250': answerkey_250[other_stim]['ste_diff'],\n",
    "                                'ste_diff_1000': answerkey_1000[other_stim]['ste_diff'],\n",
    "                                'discrim_ste_250': stim_acc_250[-1],\n",
    "                                'discrim_ste_1000': stim_acc_1000[-1]}\n",
    "        \n",
    "    return stimuli_stats\n",
    "            \n",
    "        \n",
    "    \n"
   ]
  },
  {
   "cell_type": "code",
   "execution_count": 420,
   "metadata": {},
   "outputs": [],
   "source": [
    "w_all_VE_discrim_performance = V2_main_VE_accuracy(final_discrim, final_VE_answerkey_250, discrim_trial_subjects_250, final_VE_answerkey_1000, discrim_trial_subjects_1000) "
   ]
  },
  {
   "cell_type": "code",
   "execution_count": 421,
   "metadata": {},
   "outputs": [],
   "source": [
    "# within_VE_answerkey_1000['depth_discrimination_stimuli/001618_2014-06-20_11-37-31_260595134347_rgbf000027-resize_3/001618_2014-06-20_11-37-31_260595134347_rgbf000027-resize_3-target.png']"
   ]
  },
  {
   "cell_type": "code",
   "execution_count": 422,
   "metadata": {},
   "outputs": [
    {
     "data": {
      "text/plain": [
       "{'stimulus_1': '000109_2014-05-14_23-41-52_260595134347_rgbf000035-resize_9-target.png',\n",
       " 'stimulus_0_avg_estim': 1.310184,\n",
       " 'stimulus_1_avg_estim': 1.30104,\n",
       " 'answer': '000109_2014-05-14_23-41-52_260595134347_rgbf000035-resize_9-target.png',\n",
       " 'std0': 1.2625502917127698,\n",
       " 'std1': 0.9927170344060788,\n",
       " 'ste_diff': 0.16195186864689837}"
      ]
     },
     "execution_count": 422,
     "metadata": {},
     "output_type": "execute_result"
    }
   ],
   "source": [
    "final_VE_answerkey_1000['depth_discrimination_stimuli/001618_2014-06-20_11-37-31_260595134347_rgbf000027-resize_3/001618_2014-06-20_11-37-31_260595134347_rgbf000027-resize_3-target.png']"
   ]
  },
  {
   "cell_type": "code",
   "execution_count": 423,
   "metadata": {},
   "outputs": [
    {
     "data": {
      "text/plain": [
       "{'stimulus_1': 'depth_discrimination_stimuli/000109_2014-05-14_23-41-52_260595134347_rgbf000035-resize_9/000109_2014-05-14_23-41-52_260595134347_rgbf000035-resize_9-target.png',\n",
       " 'accuracy_250': (0.4574468085106383, 43, 94, 2, 0.05138395580107374),\n",
       " 'accuracy_1000': (0.5851063829787234, 55, 94, 3, 0.05081850303591672),\n",
       " 'avg_depth': 1.6135000000000002,\n",
       " 'VE_depthdifference_250': 0.03736000000000028,\n",
       " 'VE_depthdifference_1000': 0.009144000000000041,\n",
       " 'RT_250': (array([ 930.,  962.,  901., 1191., 1017., 1460.,  764.,  837., 2994.,\n",
       "         1533.,  889.,  889., 1498., 1564., 1114., 1694., 1237., 1568.,\n",
       "          654., 1146., 1159.,  651., 1045.,  825., 2908., 1023.,  817.,\n",
       "         1156.,  994.,  968.,  961., 1003.,  841.,  689., 2638., 2444.,\n",
       "         1446., 1187.,  955., 1408., 1916., 1198.,  991., 1180.,  859.,\n",
       "         1602., 1637., 1010., 1165.,  917., 1174., 1181., 1116.,  857.,\n",
       "         2417., 1288.,  767., 1017.,  890.,  544., 1577., 1588.,  862.,\n",
       "         1768.,  945., 1441., 1039., 1045., 1622., 2516.,  961., 2214.,\n",
       "          963.,  954.,  829.,  882.,  920., 1088., 3328., 1012.,  794.,\n",
       "          671.,  807., 1033., 1365., 1413., 3035., 1108.,  790., 1443.,\n",
       "         1195., 1694., 1297., 1779.]), 1273.0212765957447, 563.0909185256231),\n",
       " 'RT_1000': (array([1094.,  882., 1128., 1065.,  655., 2350., 1047., 1057., 1152.,\n",
       "         2425., 1327., 1104.,  531., 1063., 1037., 1141.,  922.,  576.,\n",
       "          925.,  923.,  865., 2164., 1035.,  905.,  625.,  871., 1522.,\n",
       "         1504.,  799.,  656.,  978., 1221.,  887., 1089., 1071.,  916.,\n",
       "         3070.,  985., 2360.,  911., 1080.,  792.,  905.,  887., 1148.,\n",
       "         1339.,  889., 3972., 1176.,  857.,  755.,  770.,  936., 1006.,\n",
       "         1135.,  988.,  860., 1880.,  925., 1360.,  949.,  964., 1031.,\n",
       "         1228., 1083., 1070., 1033.,  911., 1207., 1386.,  837.,  876.,\n",
       "         1083.,  932., 1295.,  742.,  772., 1481.,  892., 1872.,  799.,\n",
       "         1252.,  798., 1405.,  819., 1901., 1163.,  781., 1049.,  797.,\n",
       "         1425., 2567.,  548., 1221.]), 1156.031914893617, 532.2435143389797),\n",
       " 'JV_regressor_250': 0.02191725954412222,\n",
       " 'JV_regressor_1000': 0.005693334992927249,\n",
       " 'ste_diff_250': 0.25130819467560367,\n",
       " 'ste_diff_1000': 0.16195186864689837,\n",
       " 'discrim_ste_250': 0.05138395580107374,\n",
       " 'discrim_ste_1000': 0.05081850303591672}"
      ]
     },
     "execution_count": 423,
     "metadata": {},
     "output_type": "execute_result"
    }
   ],
   "source": [
    "w_all_VE_discrim_performance['depth_discrimination_stimuli/001618_2014-06-20_11-37-31_260595134347_rgbf000027-resize_3/001618_2014-06-20_11-37-31_260595134347_rgbf000027-resize_3-target.png']"
   ]
  },
  {
   "cell_type": "code",
   "execution_count": 439,
   "metadata": {},
   "outputs": [],
   "source": [
    "w_VE_estim_diff_250 = [w_all_VE_discrim_performance[elem]['VE_depthdifference_250'] for elem in w_all_VE_discrim_performance]\n",
    "w_VE_estim_diff_1000 = [w_all_VE_discrim_performance[elem]['VE_depthdifference_1000'] for elem in w_all_VE_discrim_performance]\n",
    "\n",
    "w_VE_accuracy_250 = [w_all_VE_discrim_performance[elem]['accuracy_250'][0] for elem in w_all_VE_discrim_performance]\n",
    "w_VE_accuracy_1000 = [w_all_VE_discrim_performance[elem]['accuracy_1000'][0] for elem in w_all_VE_discrim_performance]\n",
    "\n",
    "w_avg_RT_250 = [w_all_VE_discrim_performance[elem]['RT_250'][1] for elem in w_all_VE_discrim_performance]\n",
    "w_avg_RT_1000 = [w_all_VE_discrim_performance[elem]['RT_1000'][1] for elem in w_all_VE_discrim_performance]\n",
    "\n",
    "w_JV_250 = [w_all_VE_discrim_performance[elem]['JV_regressor_250'] for elem in w_all_VE_discrim_performance]\n",
    "w_JV_1000 = [w_all_VE_discrim_performance[elem]['JV_regressor_1000'] for elem in w_all_VE_discrim_performance]\n",
    "\n",
    "w_stediff_250 = [w_all_VE_discrim_performance[elem]['ste_diff_250'] for elem in w_all_VE_discrim_performance]\n",
    "w_stediff_1000 = [w_all_VE_discrim_performance[elem]['ste_diff_1000'] for elem in w_all_VE_discrim_performance]\n",
    "\n",
    "w_discrim_ste_250 = [w_all_VE_discrim_performance[elem]['discrim_ste_250'] for elem in w_all_VE_discrim_performance]\n",
    "w_discrim_ste_1000 = [w_all_VE_discrim_performance[elem]['discrim_ste_1000'] for elem in w_all_VE_discrim_performance]"
   ]
  },
  {
   "cell_type": "code",
   "execution_count": 440,
   "metadata": {},
   "outputs": [
    {
     "data": {
      "text/plain": [
       "32"
      ]
     },
     "execution_count": 440,
     "metadata": {},
     "output_type": "execute_result"
    }
   ],
   "source": [
    "len(w_discrim_ste_1000)\n"
   ]
  },
  {
   "cell_type": "code",
   "execution_count": 425,
   "metadata": {},
   "outputs": [],
   "source": [
    "normVE_w_all_VE_discrim_performance = V2_main_VE_accuracy(final_discrim, n_final_VE_answerkey_250, discrim_trial_subjects_250, n_final_VE_answerkey_1000, discrim_trial_subjects_1000) "
   ]
  },
  {
   "cell_type": "code",
   "execution_count": 426,
   "metadata": {},
   "outputs": [],
   "source": [
    "normVE_w_VE_estim_diff_250 = [normVE_w_all_VE_discrim_performance[elem]['VE_depthdifference_250'] for elem in normVE_w_all_VE_discrim_performance]\n",
    "normVE_w_VE_estim_diff_1000 = [normVE_w_all_VE_discrim_performance[elem]['VE_depthdifference_1000'] for elem in normVE_w_all_VE_discrim_performance]\n",
    "\n",
    "normVE_w_VE_accuracy_250 = [normVE_w_all_VE_discrim_performance[elem]['accuracy_250'][0] for elem in normVE_w_all_VE_discrim_performance]\n",
    "normVE_w_VE_accuracy_1000 = [normVE_w_all_VE_discrim_performance[elem]['accuracy_1000'][0] for elem in normVE_w_all_VE_discrim_performance]\n",
    "\n",
    "normVE_w_avg_RT_250 = [normVE_w_all_VE_discrim_performance[elem]['RT_250'][1] for elem in normVE_w_all_VE_discrim_performance]\n",
    "normVE_w_all_VE_discrim_performancew_avg_RT_1000 = [normVE_w_all_VE_discrim_performance[elem]['RT_1000'][1] for elem in normVE_w_all_VE_discrim_performance]\n",
    "\n",
    "normVE_w_JV_250 = [normVE_w_all_VE_discrim_performance[elem]['JV_regressor_250'] for elem in normVE_w_all_VE_discrim_performance]\n",
    "normVE_w_JV_1000 = [normVE_w_all_VE_discrim_performance[elem]['JV_regressor_1000'] for elem in normVE_w_all_VE_discrim_performance]\n",
    "\n",
    "normVE_w_stediff_250 = [normVE_w_all_VE_discrim_performance[elem]['ste_diff_250'] for elem in normVE_w_all_VE_discrim_performance]\n",
    "normVE_w_stediff_1000 = [normVE_w_all_VE_discrim_performance[elem]['ste_diff_1000'] for elem in normVE_w_all_VE_discrim_performance]\n",
    "\n",
    "normVE_w_discrim_ste_250 = [normVE_w_all_VE_discrim_performance[elem]['discrim_ste_250'] for elem in normVE_w_all_VE_discrim_performance]\n",
    "normVE_w_discrim_ste_1000 = [normVE_w_all_VE_discrim_performance[elem]['discrim_ste_1000'] for elem in normVE_w_all_VE_discrim_performance]"
   ]
  },
  {
   "cell_type": "code",
   "execution_count": 427,
   "metadata": {},
   "outputs": [
    {
     "data": {
      "text/plain": [
       "32"
      ]
     },
     "execution_count": 427,
     "metadata": {},
     "output_type": "execute_result"
    }
   ],
   "source": [
    "len(w_VE_accuracy_250)"
   ]
  },
  {
   "cell_type": "markdown",
   "metadata": {},
   "source": [
    "#### Overall Accuracy"
   ]
  },
  {
   "cell_type": "code",
   "execution_count": 428,
   "metadata": {},
   "outputs": [
    {
     "data": {
      "text/plain": [
       "(0.6325456136023613, 0.6484072772198466)"
      ]
     },
     "execution_count": 428,
     "metadata": {},
     "output_type": "execute_result"
    }
   ],
   "source": [
    "np.mean(w_VE_accuracy_250), np.mean(w_VE_accuracy_1000)"
   ]
  },
  {
   "cell_type": "code",
   "execution_count": 429,
   "metadata": {},
   "outputs": [
    {
     "data": {
      "text/plain": [
       "(0.6629428790721441, 0.6504121647711718)"
      ]
     },
     "execution_count": 429,
     "metadata": {},
     "output_type": "execute_result"
    }
   ],
   "source": [
    "np.mean(normVE_w_VE_accuracy_250), np.mean(normVE_w_VE_accuracy_1000)"
   ]
  },
  {
   "cell_type": "code",
   "execution_count": 401,
   "metadata": {},
   "outputs": [
    {
     "name": "stdout",
     "output_type": "stream",
     "text": [
      "250 ms: Correlation between VE discrimination accuracy and average w/in participant verbal estimate difference\n"
     ]
    },
    {
     "data": {
      "text/plain": [
       "(0.06544276947787868, 0.721950436688057)"
      ]
     },
     "execution_count": 401,
     "metadata": {},
     "output_type": "execute_result"
    }
   ],
   "source": [
    "print('250 ms: Correlation between VE discrimination accuracy and average w/in participant verbal estimate difference')\n",
    "stats.pearsonr(w_VE_accuracy_250, w_VE_estim_diff_250)"
   ]
  },
  {
   "cell_type": "code",
   "execution_count": 402,
   "metadata": {},
   "outputs": [
    {
     "name": "stdout",
     "output_type": "stream",
     "text": [
      "250 ms: Correlation between VE discrimination accuracy and average w/in participant normalized verbal estimate difference\n"
     ]
    },
    {
     "data": {
      "text/plain": [
       "(0.16468723066892577, 0.36773801231785413)"
      ]
     },
     "execution_count": 402,
     "metadata": {},
     "output_type": "execute_result"
    }
   ],
   "source": [
    "print('250 ms: Correlation between VE discrimination accuracy and average w/in participant normalized verbal estimate difference')\n",
    "stats.pearsonr(normVE_w_VE_accuracy_250, normVE_w_VE_estim_diff_250)"
   ]
  },
  {
   "cell_type": "code",
   "execution_count": 403,
   "metadata": {},
   "outputs": [
    {
     "name": "stdout",
     "output_type": "stream",
     "text": [
      "1000 ms: Correlation between VE discrimination accuracy and average w/in participant verbal estimate difference\n"
     ]
    },
    {
     "data": {
      "text/plain": [
       "(0.5586619505012291, 0.0008898253917968103)"
      ]
     },
     "execution_count": 403,
     "metadata": {},
     "output_type": "execute_result"
    }
   ],
   "source": [
    "print('1000 ms: Correlation between VE discrimination accuracy and average w/in participant verbal estimate difference')\n",
    "stats.pearsonr(w_VE_accuracy_1000, w_VE_estim_diff_1000)"
   ]
  },
  {
   "cell_type": "code",
   "execution_count": 404,
   "metadata": {},
   "outputs": [
    {
     "name": "stdout",
     "output_type": "stream",
     "text": [
      "1000 ms: Correlation between VE discrimination accuracy and average w/in participant normalized verbal estimate difference\n"
     ]
    },
    {
     "data": {
      "text/plain": [
       "(0.4645366746619356, 0.007394852575128827)"
      ]
     },
     "execution_count": 404,
     "metadata": {},
     "output_type": "execute_result"
    }
   ],
   "source": [
    "print('1000 ms: Correlation between VE discrimination accuracy and average w/in participant normalized verbal estimate difference')\n",
    "stats.pearsonr(normVE_w_VE_accuracy_1000, normVE_w_VE_estim_diff_1000)"
   ]
  },
  {
   "cell_type": "code",
   "execution_count": 445,
   "metadata": {},
   "outputs": [
    {
     "data": {
      "image/png": "[encoded data removed]",
      "text/plain": [
       "<Figure size 864x432 with 1 Axes>"
      ]
     },
     "metadata": {
      "needs_background": "light"
     },
     "output_type": "display_data"
    }
   ],
   "source": [
    "plt.figure(figsize=[12,6])\n",
    "\n",
    "plt.errorbar(np.array(w_VE_estim_diff_250), np.array(w_VE_accuracy_250), xerr=np.array(w_stediff_250), fmt=\"o\", mec='black', color='green', label='250 ms')\n",
    "plt.errorbar(np.array(w_VE_estim_diff_250), np.array(w_VE_accuracy_250), yerr=np.array(w_discrim_ste_250), fmt=\"o\", mec='black', color='green')\n",
    "\n",
    "\n",
    "plt.errorbar(np.array(w_VE_estim_diff_1000), np.array(w_VE_accuracy_1000), xerr=np.array(w_stediff_1000), fmt=\"o\", mec='black', color='red', label='1000 ms')\n",
    "plt.errorbar(np.array(w_VE_estim_diff_1000), np.array(w_VE_accuracy_1000), yerr=np.array(w_discrim_ste_1000), fmt=\"o\", mec='black', color='red')\n",
    "\n",
    "# plt.plot(np.array(w_VE_estim_diff_1000), np.array(w_VE_accuracy_1000), 'ro', label='1000 ms')\n",
    "plt.xlabel('Average Normalized Verbal Estimate Difference', fontsize=15)\n",
    "plt.ylabel('VE Discrimination Proportion Correct', fontsize = 15)\n",
    "plt.legend(fontsize = 12)\n",
    "plt.title('VE Discrimination Proportion Correct vs Avg W/in Participant Verbal Estimate Difference', fontsize = 18)\n",
    "plt.show();"
   ]
  },
  {
   "cell_type": "code",
   "execution_count": 471,
   "metadata": {},
   "outputs": [
    {
     "name": "stdout",
     "output_type": "stream",
     "text": [
      "m: [0.03619694]\n",
      "b: 0.6129654677334746\n",
      "R-squared:  0.004282756076934846\n"
     ]
    },
    {
     "data": {
      "text/plain": [
       "Text(0.5, 1.0, '250 ms: Accuracy')"
      ]
     },
     "execution_count": 471,
     "metadata": {},
     "output_type": "execute_result"
    },
    {
     "data": {
      "image/png": "[encoded data removed]",
      "text/plain": [
       "<Figure size 576x432 with 1 Axes>"
      ]
     },
     "metadata": {
      "needs_background": "light"
     },
     "output_type": "display_data"
    }
   ],
   "source": [
    "#run regression\n",
    "plt.figure(figsize=[8,6])\n",
    "VE_X_250 = np.array(w_VE_estim_diff_250).reshape(-1,1)\n",
    "VE_PC_250 = w_VE_accuracy_250\n",
    "VE_PC_reg_250 = LinearRegression().fit(VE_X_250, VE_PC_250)\n",
    "\n",
    "#Generated Predictions\n",
    "PC_predicted_250 = VE_PC_reg_250.predict(VE_X_250)\n",
    "#Plot Our Actual and Predicted Values\n",
    "plt.errorbar(VE_X_250, VE_PC_250,fmt='o', color='chocolate', alpha = 0.3, xerr = np.array(w_stediff_250));\n",
    "plt.errorbar(VE_X_250, VE_PC_250,fmt='o', color='chocolate', alpha = 0.3, yerr = np.array(w_discrim_ste_250));\n",
    "# plt.plot(VE_X_250, VE_PC_250, 'o', color='chocolate', alpha = 0.3);\n",
    "plt.plot(VE_X_250, PC_predicted_250,color='chocolate', label = 'm = ' + str(round(VE_PC_reg_250.coef_[0], 3))\n",
    "         + '     r-squared = ' + str(round(float(VE_PC_reg_250.score(VE_X_250, VE_PC_250)), 3)))\n",
    "plt.xlabel(\"Average Normalized Verbal Estimate Difference (m)\", fontsize = 15)\n",
    "plt.ylabel(\"VE Discrimination Proportion Correct\", fontsize = 15)\n",
    "\n",
    "#get coefficients and y intercept\n",
    "print(\"m: {0}\".format(VE_PC_reg_250.coef_))\n",
    "print(\"b: {0}\".format(VE_PC_reg_250.intercept_))\n",
    "\n",
    "#Returns the coefficient of determination R^2 of the prediction.\n",
    "print(\"R-squared: \", VE_PC_reg_250.score(VE_X_250, VE_PC_250))\n",
    "\n",
    "\n",
    "legend = plt.legend(loc = 4, fontsize = 13, borderpad = 0.6, labelspacing = 1)\n",
    "legend.get_frame().set_facecolor('lightgray')\n",
    "\n",
    "plt.title(\"250 ms: Accuracy\", fontsize = 20)\n"
   ]
  },
  {
   "cell_type": "code",
   "execution_count": null,
   "metadata": {},
   "outputs": [],
   "source": []
  },
  {
   "cell_type": "code",
   "execution_count": 472,
   "metadata": {},
   "outputs": [
    {
     "name": "stdout",
     "output_type": "stream",
     "text": [
      "m: [0.38162376]\n",
      "b: 0.5011881658332378\n",
      "R-squared:  0.3121031749378379\n"
     ]
    },
    {
     "data": {
      "image/png": "[encoded data removed]",
      "text/plain": [
       "<Figure size 576x432 with 1 Axes>"
      ]
     },
     "metadata": {
      "needs_background": "light"
     },
     "output_type": "display_data"
    }
   ],
   "source": [
    "plt.figure(figsize=[8,6])\n",
    "\n",
    "VE_X_1000 = np.array(w_VE_estim_diff_1000).reshape(-1,1)\n",
    "VE_PC_1000 = w_VE_accuracy_1000\n",
    "VE_PC_reg_1000 = LinearRegression().fit(VE_X_1000, VE_PC_1000)\n",
    "\n",
    "#Generated Predictions\n",
    "PC_predicted_1000 = VE_PC_reg_1000.predict(VE_X_1000)\n",
    "#Plot Our Actual and Predicted Values\n",
    "\n",
    "plt.errorbar(VE_X_1000, VE_PC_1000,fmt='o', color='darkviolet', alpha = 0.3, xerr = np.array(w_stediff_1000));\n",
    "plt.errorbar(VE_X_1000, VE_PC_1000,fmt='o', color='darkviolet', alpha = 0.3, yerr = np.array(w_discrim_ste_1000));\n",
    "\n",
    "# plt.plot(VE_X_1000, VE_PC_1000, 'o', color='darkviolet', alpha = 0.3);\n",
    "plt.plot(VE_X_1000, PC_predicted_1000,color='darkviolet', label = '1000 ms: m = ' + str(round(VE_PC_reg_1000.coef_[0], 3))\n",
    "         + '     r-squared = ' + str(round(float(VE_PC_reg_1000.score(VE_X_1000, VE_PC_1000)), 3)))\n",
    "\n",
    "legend = plt.legend(loc = 4, fontsize = 13, borderpad = 0.6, labelspacing = 1)\n",
    "legend.get_frame().set_facecolor('lightgray')\n",
    "\n",
    "#get coefficients and y intercept\n",
    "print(\"m: {0}\".format(VE_PC_reg_1000.coef_))\n",
    "print(\"b: {0}\".format(VE_PC_reg_1000.intercept_))\n",
    "\n",
    "#Returns the coefficient of determination R^2 of the prediction.\n",
    "print(\"R-squared: \", VE_PC_reg_1000.score(VE_X_1000, VE_PC_1000))\n",
    "\n",
    "plt.xlabel(\"Average Normalized Verbal Estimate Difference (m)\", fontsize = 15)\n",
    "plt.ylabel(\"VE Discrimination Proportion Correct\", fontsize = 15)\n",
    "\n",
    "\n",
    "plt.title(\"1000 ms: Accuracy\", fontsize = 20)\n",
    "\n",
    "plt.show();"
   ]
  },
  {
   "cell_type": "code",
   "execution_count": 457,
   "metadata": {},
   "outputs": [
    {
     "data": {
      "text/plain": [
       "(0.33442522622304904, 0.06137271902851267)"
      ]
     },
     "execution_count": 457,
     "metadata": {},
     "output_type": "execute_result"
    }
   ],
   "source": [
    "stats.pearsonr(w_VE_accuracy_250, w_VE_accuracy_1000)"
   ]
  },
  {
   "cell_type": "code",
   "execution_count": null,
   "metadata": {},
   "outputs": [],
   "source": []
  },
  {
   "cell_type": "code",
   "execution_count": 510,
   "metadata": {},
   "outputs": [
    {
     "data": {
      "image/png": "[encoded data removed]",
      "text/plain": [
       "<Figure size 504x504 with 1 Axes>"
      ]
     },
     "metadata": {
      "needs_background": "light"
     },
     "output_type": "display_data"
    }
   ],
   "source": [
    "plt.figure(figsize=[7,7])\n",
    "plt.xlabel('PC @ 250 ms', fontsize=15)\n",
    "plt.ylabel('PC @ 1000 ms', fontsize=15)\n",
    "\n",
    "plt.errorbar(w_VE_accuracy_250, w_VE_accuracy_1000, fmt='o', color='black', alpha = 0.3, xerr = np.array(w_discrim_ste_250));\n",
    "plt.errorbar(w_VE_accuracy_250, w_VE_accuracy_1000, fmt='o', color='black', alpha = 0.3, yerr = np.array(w_discrim_ste_1000));\n",
    "\n",
    "\n",
    "plt.plot(w_VE_accuracy_250,w_VE_accuracy_1000, 'o' )\n",
    "plt.title('Discrimination Proportion Correct', fontsize = 18)\n",
    "plt.show();"
   ]
  },
  {
   "cell_type": "code",
   "execution_count": 517,
   "metadata": {},
   "outputs": [
    {
     "data": {
      "image/png": "[encoded data removed]",
      "text/plain": [
       "<Figure size 864x864 with 1 Axes>"
      ]
     },
     "metadata": {
      "needs_background": "light"
     },
     "output_type": "display_data"
    }
   ],
   "source": [
    "plt.figure(figsize=[12,12])\n",
    "plt.xlabel('VE Diff @ 250 ms', fontsize=15)\n",
    "plt.ylabel('VE Diff @ 1000 ms', fontsize=15)\n",
    "\n",
    "plt.errorbar(w_VE_estim_diff_250, w_VE_estim_diff_1000, fmt='o', color='black', alpha = 0.3, xerr = np.array(w_stediff_250));\n",
    "plt.errorbar(w_VE_estim_diff_250, w_VE_estim_diff_1000, fmt='o', color='black', alpha = 0.3, yerr = np.array(w_stediff_1000));\n",
    "\n",
    "plt.title('Average Verbal Estimate Difference', fontsize = 18)\n",
    "plt.show();"
   ]
  },
  {
   "cell_type": "markdown",
   "metadata": {},
   "source": [
    "# UPDATED REGRESSOR: Difference between verbal judgements divided by joint variance "
   ]
  },
  {
   "cell_type": "code",
   "execution_count": 459,
   "metadata": {},
   "outputs": [
    {
     "name": "stdout",
     "output_type": "stream",
     "text": [
      "250 ms: Correlation between VE discrimination accuracy and difference between w/in participant verbal judgements divided by joint variance \n"
     ]
    },
    {
     "data": {
      "text/plain": [
       "(0.3505671786035847, 0.04916698505243856)"
      ]
     },
     "execution_count": 459,
     "metadata": {},
     "output_type": "execute_result"
    }
   ],
   "source": [
    "print('250 ms: Correlation between VE discrimination accuracy and difference between w/in participant verbal judgements divided by joint variance ')\n",
    "stats.pearsonr(w_VE_accuracy_250, w_JV_250)"
   ]
  },
  {
   "cell_type": "code",
   "execution_count": 460,
   "metadata": {},
   "outputs": [
    {
     "name": "stdout",
     "output_type": "stream",
     "text": [
      "1000 ms: Correlation between VE discrimination accuracy and difference between w/in participant divided by joint variance \n"
     ]
    },
    {
     "data": {
      "text/plain": [
       "(0.6342541225691264, 9.697220052628781e-05)"
      ]
     },
     "execution_count": 460,
     "metadata": {},
     "output_type": "execute_result"
    }
   ],
   "source": [
    "print('1000 ms: Correlation between VE discrimination accuracy and difference between w/in participant divided by joint variance ')\n",
    "stats.pearsonr(w_VE_accuracy_1000, w_JV_1000)"
   ]
  },
  {
   "cell_type": "code",
   "execution_count": 464,
   "metadata": {},
   "outputs": [
    {
     "name": "stdout",
     "output_type": "stream",
     "text": [
      "m: [0.24293622]\n",
      "b: 0.5568371586863693\n",
      "R-squared:  0.12289734671407782\n"
     ]
    },
    {
     "data": {
      "text/plain": [
       "Text(0.5, 1.0, '250 ms')"
      ]
     },
     "execution_count": 464,
     "metadata": {},
     "output_type": "execute_result"
    },
    {
     "data": {
      "image/png": "[encoded data removed]",
      "text/plain": [
       "<Figure size 576x432 with 1 Axes>"
      ]
     },
     "metadata": {
      "needs_background": "light"
     },
     "output_type": "display_data"
    }
   ],
   "source": [
    "#run regression\n",
    "plt.figure(figsize=[8,6])\n",
    "JV_X_250 = np.array(w_JV_250).reshape(-1,1)\n",
    "VE_PC_250 = w_VE_accuracy_250\n",
    "JV_PC_reg_250 = LinearRegression().fit(JV_X_250, VE_PC_250)\n",
    "\n",
    "#Generated Predictions\n",
    "JV_PC_predicted_250 = JV_PC_reg_250.predict(JV_X_250)\n",
    "#Plot Our Actual and Predicted Values\n",
    "plt.errorbar(JV_X_250, VE_PC_250,fmt='o', color='chocolate', alpha = 0.3, yerr = np.array(w_discrim_ste_250));\n",
    "# plt.plot(JV_X_250, VE_PC_250, 'o', color='chocolate', alpha = 0.3);\n",
    "plt.plot(JV_X_250, JV_PC_predicted_250,color='chocolate', label = 'm = ' + str(round(JV_PC_reg_250.coef_[0], 3))\n",
    "         + '     r-squared = ' + str(round(float(JV_PC_reg_250.score(JV_X_250, VE_PC_250)), 3)))\n",
    "plt.xlabel(\"Difference between normalized verbal judgements divided by joint variance\", fontsize = 15)\n",
    "plt.ylabel(\"VE Discrimination Proportion Correct\", fontsize = 15)\n",
    "\n",
    "#get coefficients and y intercept\n",
    "print(\"m: {0}\".format(JV_PC_reg_250.coef_))\n",
    "print(\"b: {0}\".format(JV_PC_reg_250.intercept_))\n",
    "\n",
    "#Returns the coefficient of determination R^2 of the prediction.\n",
    "print(\"R-squared: \", JV_PC_reg_250.score(JV_X_250, VE_PC_250))\n",
    "\n",
    "\n",
    "legend = plt.legend(loc = 4, fontsize = 13, borderpad = 0.6, labelspacing = 1)\n",
    "legend.get_frame().set_facecolor('lightgray')\n",
    "\n",
    "plt.title(\"250 ms\", fontsize = 20)\n"
   ]
  },
  {
   "cell_type": "code",
   "execution_count": 465,
   "metadata": {},
   "outputs": [
    {
     "name": "stdout",
     "output_type": "stream",
     "text": [
      "m: [0.56651194]\n",
      "b: 0.5158037058274779\n",
      "R-squared:  0.4022782919959324\n"
     ]
    },
    {
     "data": {
      "text/plain": [
       "Text(0.5, 1.0, '1000 ms')"
      ]
     },
     "execution_count": 465,
     "metadata": {},
     "output_type": "execute_result"
    },
    {
     "data": {
      "image/png": "[encoded data removed]",
      "text/plain": [
       "<Figure size 576x432 with 1 Axes>"
      ]
     },
     "metadata": {
      "needs_background": "light"
     },
     "output_type": "display_data"
    }
   ],
   "source": [
    "#run regression\n",
    "plt.figure(figsize=[8,6])\n",
    "JV_X_1000 = np.array(w_JV_1000).reshape(-1,1)\n",
    "VE_PC_1000 = w_VE_accuracy_1000\n",
    "JV_PC_reg_1000 = LinearRegression().fit(JV_X_1000, VE_PC_1000)\n",
    "\n",
    "#Generated Predictions\n",
    "JV_PC_predicted_1000 = JV_PC_reg_1000.predict(JV_X_1000)\n",
    "#Plot Our Actual and Predicted Values\n",
    "plt.errorbar(JV_X_1000, VE_PC_1000,fmt='o', color='darkviolet', alpha = 0.3, yerr = np.array(w_discrim_ste_1000));\n",
    "# plt.plot(JV_X_1000, VE_PC_1000, 'o', color='darkviolet', alpha = 0.3);\n",
    "plt.plot(JV_X_1000, JV_PC_predicted_1000,color='darkviolet', label = 'm = ' + str(round(JV_PC_reg_1000.coef_[0], 3))\n",
    "         + '     r-squared = ' + str(round(float(JV_PC_reg_1000.score(JV_X_1000, VE_PC_1000)), 3)))\n",
    "plt.xlabel(\"Difference between normalized verbal judgements divided by joint variance\", fontsize = 15)\n",
    "plt.ylabel(\"VE Discrimination Proportion Correct\", fontsize = 15)\n",
    "\n",
    "#get coefficients and y intercept\n",
    "print(\"m: {0}\".format(JV_PC_reg_1000.coef_))\n",
    "print(\"b: {0}\".format(JV_PC_reg_1000.intercept_))\n",
    "\n",
    "#Returns the coefficient of determination R^2 of the prediction.\n",
    "print(\"R-squared: \", JV_PC_reg_1000.score(JV_X_1000, VE_PC_1000))\n",
    "\n",
    "\n",
    "legend = plt.legend(loc = 4, fontsize = 13, borderpad = 0.6, labelspacing = 1)\n",
    "legend.get_frame().set_facecolor('lightgray')\n",
    "\n",
    "plt.title(\"1000 ms\", fontsize = 20)\n"
   ]
  },
  {
   "cell_type": "code",
   "execution_count": 504,
   "metadata": {},
   "outputs": [
    {
     "name": "stdout",
     "output_type": "stream",
     "text": [
      "(0.14935703518733723, 0.41457595653575635)\n"
     ]
    },
    {
     "data": {
      "image/png": "[encoded data removed]",
      "text/plain": [
       "<Figure size 504x504 with 1 Axes>"
      ]
     },
     "metadata": {
      "needs_background": "light"
     },
     "output_type": "display_data"
    }
   ],
   "source": [
    "print(stats.pearsonr(w_JV_250, w_JV_1000))\n",
    "plt.figure(figsize=[7,7])\n",
    "plt.xlabel('250 ms', fontsize=15)\n",
    "plt.ylabel('1000 ms', fontsize=15)\n",
    "plt.plot(w_JV_250,w_JV_1000, 'o' )\n",
    "plt.show();\n",
    "\n"
   ]
  },
  {
   "cell_type": "code",
   "execution_count": null,
   "metadata": {},
   "outputs": [],
   "source": []
  },
  {
   "cell_type": "code",
   "execution_count": 467,
   "metadata": {},
   "outputs": [
    {
     "name": "stdout",
     "output_type": "stream",
     "text": [
      "250 ms: Correlation between average discrimination RT and difference between verbal judgements divided by joint variance \n"
     ]
    },
    {
     "data": {
      "text/plain": [
       "(-0.3831383489920105, 0.03042695067306428)"
      ]
     },
     "execution_count": 467,
     "metadata": {},
     "output_type": "execute_result"
    }
   ],
   "source": [
    "print('250 ms: Correlation between average discrimination RT and difference between verbal judgements divided by joint variance ')\n",
    "stats.pearsonr(w_avg_RT_250, w_JV_250)"
   ]
  },
  {
   "cell_type": "code",
   "execution_count": 468,
   "metadata": {},
   "outputs": [
    {
     "name": "stdout",
     "output_type": "stream",
     "text": [
      "1000 ms: Correlation between average discrimination RT and difference between verbal judgements divided by joint variance \n"
     ]
    },
    {
     "data": {
      "text/plain": [
       "(-0.6113620169987981, 0.0002014101393452005)"
      ]
     },
     "execution_count": 468,
     "metadata": {},
     "output_type": "execute_result"
    }
   ],
   "source": [
    "print('1000 ms: Correlation between average discrimination RT and difference between verbal judgements divided by joint variance ')\n",
    "stats.pearsonr(w_avg_RT_1000, w_JV_1000)"
   ]
  },
  {
   "cell_type": "code",
   "execution_count": 469,
   "metadata": {},
   "outputs": [
    {
     "name": "stdout",
     "output_type": "stream",
     "text": [
      "m: [-98.02170448]\n",
      "b: 1297.5843982714775\n",
      "R-squared:  0.14679499446832356\n"
     ]
    },
    {
     "data": {
      "text/plain": [
       "Text(0.5, 1.0, '250 ms: RT')"
      ]
     },
     "execution_count": 469,
     "metadata": {},
     "output_type": "execute_result"
    },
    {
     "data": {
      "image/png": "[encoded data removed]",
      "text/plain": [
       "<Figure size 576x432 with 1 Axes>"
      ]
     },
     "metadata": {
      "needs_background": "light"
     },
     "output_type": "display_data"
    }
   ],
   "source": [
    "#run regression\n",
    "plt.figure(figsize=[8,6])\n",
    "JV_X_250 = np.array(w_JV_250).reshape(-1,1)\n",
    "VE_PC_250 = w_avg_RT_250\n",
    "JV_PC_reg_250 = LinearRegression().fit(JV_X_250, VE_PC_250)\n",
    "\n",
    "#Generated Predictions\n",
    "JV_PC_predicted_250 = JV_PC_reg_250.predict(JV_X_250)\n",
    "#Plot Our Actual and Predicted Values\n",
    "plt.plot(JV_X_250, VE_PC_250, 'o', color='chocolate', alpha = 0.3);\n",
    "plt.plot(JV_X_250, JV_PC_predicted_250,color='chocolate', label = 'm = ' + str(round(JV_PC_reg_250.coef_[0], 3))\n",
    "         + '     r-squared = ' + str(round(float(JV_PC_reg_250.score(JV_X_250, VE_PC_250)), 3)))\n",
    "plt.xlabel(\"Difference between normalized verbal judgements divided by joint variance\", fontsize = 15)\n",
    "plt.ylabel(\"RT (ms)\", fontsize = 15)\n",
    "\n",
    "#get coefficients and y intercept\n",
    "print(\"m: {0}\".format(JV_PC_reg_250.coef_))\n",
    "print(\"b: {0}\".format(JV_PC_reg_250.intercept_))\n",
    "\n",
    "#Returns the coefficient of determination R^2 of the prediction.\n",
    "print(\"R-squared: \", JV_PC_reg_250.score(JV_X_250, VE_PC_250))\n",
    "\n",
    "\n",
    "legend = plt.legend(loc = 4, fontsize = 13, borderpad = 0.6, labelspacing = 1)\n",
    "legend.get_frame().set_facecolor('lightgray')\n",
    "\n",
    "plt.title(\"250 ms: RT\", fontsize = 20)"
   ]
  },
  {
   "cell_type": "code",
   "execution_count": 470,
   "metadata": {},
   "outputs": [
    {
     "name": "stdout",
     "output_type": "stream",
     "text": [
      "m: [-135.43586232]\n",
      "b: 1128.634962355763\n",
      "R-squared:  0.3737635158288384\n"
     ]
    },
    {
     "data": {
      "text/plain": [
       "Text(0.5, 1.0, '1000 ms: RT')"
      ]
     },
     "execution_count": 470,
     "metadata": {},
     "output_type": "execute_result"
    },
    {
     "data": {
      "image/png": "[encoded data removed]",
      "text/plain": [
       "<Figure size 576x432 with 1 Axes>"
      ]
     },
     "metadata": {
      "needs_background": "light"
     },
     "output_type": "display_data"
    }
   ],
   "source": [
    "#run regression\n",
    "plt.figure(figsize=[8,6])\n",
    "JV_X_1000 = np.array(w_JV_1000).reshape(-1,1)\n",
    "VE_PC_1000 = w_avg_RT_1000\n",
    "JV_PC_reg_1000 = LinearRegression().fit(JV_X_1000, VE_PC_1000)\n",
    "\n",
    "#Generated Predictions\n",
    "JV_PC_predicted_1000 = JV_PC_reg_1000.predict(JV_X_1000)\n",
    "#Plot Our Actual and Predicted Values\n",
    "plt.plot(JV_X_1000, VE_PC_1000, 'o', color='darkviolet', alpha = 0.3);\n",
    "plt.plot(JV_X_1000, JV_PC_predicted_1000,color='darkviolet', label = 'm = ' + str(round(JV_PC_reg_1000.coef_[0], 3))\n",
    "         + '     r-squared = ' + str(round(float(JV_PC_reg_1000.score(JV_X_1000, VE_PC_1000)), 3)))\n",
    "plt.xlabel(\"Difference between normalized verbal judgements divided by joint variance\", fontsize = 15)\n",
    "plt.ylabel(\"RT (ms)\", fontsize = 15)\n",
    "\n",
    "#get coefficients and y intercept\n",
    "print(\"m: {0}\".format(JV_PC_reg_1000.coef_))\n",
    "print(\"b: {0}\".format(JV_PC_reg_1000.intercept_))\n",
    "\n",
    "#Returns the coefficient of determination R^2 of the prediction.\n",
    "print(\"R-squared: \", JV_PC_reg_1000.score(JV_X_1000, VE_PC_1000))\n",
    "\n",
    "\n",
    "legend = plt.legend(loc = 4, fontsize = 13, borderpad = 0.6, labelspacing = 1)\n",
    "legend.get_frame().set_facecolor('lightgray')\n",
    "\n",
    "plt.title(\"1000 ms: RT\", fontsize = 20)"
   ]
  },
  {
   "cell_type": "code",
   "execution_count": null,
   "metadata": {},
   "outputs": [],
   "source": []
  },
  {
   "cell_type": "markdown",
   "metadata": {},
   "source": [
    "## Inverse Efficiency Score"
   ]
  },
  {
   "cell_type": "markdown",
   "metadata": {},
   "source": [
    "It is calculated by dividing RT by 1 – the proportion of Errors (PE), or the proportion of correct responses (PC).\n",
    "\n",
    "https://www.readcube.com/articles/10.5334/pb-51-1-5"
   ]
  },
  {
   "cell_type": "code",
   "execution_count": 473,
   "metadata": {},
   "outputs": [],
   "source": [
    "def inverse_efficiency_score(PC, RT):\n",
    "    \"\"\"\n",
    "    Input:\n",
    "        PC - proportion correct\n",
    "        RT - reaction time \n",
    "    Output:\n",
    "        ies - inverse efficiency score\n",
    "    \"\"\"\n",
    "    \n",
    "    ies = RT / PC\n",
    "    \n",
    "    return ies"
   ]
  },
  {
   "cell_type": "code",
   "execution_count": 476,
   "metadata": {},
   "outputs": [
    {
     "data": {
      "text/plain": [
       "{'stimulus_1': 'depth_discrimination_stimuli/000109_2014-05-14_23-41-52_260595134347_rgbf000035-resize_9/000109_2014-05-14_23-41-52_260595134347_rgbf000035-resize_9-target.png',\n",
       " 'accuracy_250': (0.4574468085106383, 43, 94, 2, 0.05138395580107374),\n",
       " 'accuracy_1000': (0.5851063829787234, 55, 94, 3, 0.05081850303591672),\n",
       " 'avg_depth': 1.6135000000000002,\n",
       " 'VE_depthdifference_250': 0.03736000000000028,\n",
       " 'VE_depthdifference_1000': 0.009144000000000041,\n",
       " 'RT_250': (array([ 930.,  962.,  901., 1191., 1017., 1460.,  764.,  837., 2994.,\n",
       "         1533.,  889.,  889., 1498., 1564., 1114., 1694., 1237., 1568.,\n",
       "          654., 1146., 1159.,  651., 1045.,  825., 2908., 1023.,  817.,\n",
       "         1156.,  994.,  968.,  961., 1003.,  841.,  689., 2638., 2444.,\n",
       "         1446., 1187.,  955., 1408., 1916., 1198.,  991., 1180.,  859.,\n",
       "         1602., 1637., 1010., 1165.,  917., 1174., 1181., 1116.,  857.,\n",
       "         2417., 1288.,  767., 1017.,  890.,  544., 1577., 1588.,  862.,\n",
       "         1768.,  945., 1441., 1039., 1045., 1622., 2516.,  961., 2214.,\n",
       "          963.,  954.,  829.,  882.,  920., 1088., 3328., 1012.,  794.,\n",
       "          671.,  807., 1033., 1365., 1413., 3035., 1108.,  790., 1443.,\n",
       "         1195., 1694., 1297., 1779.]), 1273.0212765957447, 563.0909185256231),\n",
       " 'RT_1000': (array([1094.,  882., 1128., 1065.,  655., 2350., 1047., 1057., 1152.,\n",
       "         2425., 1327., 1104.,  531., 1063., 1037., 1141.,  922.,  576.,\n",
       "          925.,  923.,  865., 2164., 1035.,  905.,  625.,  871., 1522.,\n",
       "         1504.,  799.,  656.,  978., 1221.,  887., 1089., 1071.,  916.,\n",
       "         3070.,  985., 2360.,  911., 1080.,  792.,  905.,  887., 1148.,\n",
       "         1339.,  889., 3972., 1176.,  857.,  755.,  770.,  936., 1006.,\n",
       "         1135.,  988.,  860., 1880.,  925., 1360.,  949.,  964., 1031.,\n",
       "         1228., 1083., 1070., 1033.,  911., 1207., 1386.,  837.,  876.,\n",
       "         1083.,  932., 1295.,  742.,  772., 1481.,  892., 1872.,  799.,\n",
       "         1252.,  798., 1405.,  819., 1901., 1163.,  781., 1049.,  797.,\n",
       "         1425., 2567.,  548., 1221.]), 1156.031914893617, 532.2435143389797),\n",
       " 'JV_regressor_250': 0.02191725954412222,\n",
       " 'JV_regressor_1000': 0.005693334992927249,\n",
       " 'ste_diff_250': 0.25130819467560367,\n",
       " 'ste_diff_1000': 0.16195186864689837,\n",
       " 'discrim_ste_250': 0.05138395580107374,\n",
       " 'discrim_ste_1000': 0.05081850303591672}"
      ]
     },
     "execution_count": 476,
     "metadata": {},
     "output_type": "execute_result"
    }
   ],
   "source": [
    "w_all_VE_discrim_performance['depth_discrimination_stimuli/001618_2014-06-20_11-37-31_260595134347_rgbf000027-resize_3/001618_2014-06-20_11-37-31_260595134347_rgbf000027-resize_3-target.png']"
   ]
  },
  {
   "cell_type": "code",
   "execution_count": 474,
   "metadata": {},
   "outputs": [],
   "source": [
    "ies_250 = [inverse_efficiency_score(w_all_VE_discrim_performance[key]['accuracy_250'][0], w_all_VE_discrim_performance[key]['RT_250'][1]) for key in w_all_VE_discrim_performance]\n",
    "\n",
    "ies_1000 = [inverse_efficiency_score(w_all_VE_discrim_performance[key]['accuracy_1000'][0], w_all_VE_discrim_performance[key]['RT_1000'][1]) for key in w_all_VE_discrim_performance]\n"
   ]
  },
  {
   "cell_type": "code",
   "execution_count": 479,
   "metadata": {},
   "outputs": [],
   "source": [
    "depthdiff_250 = np.array([w_all_VE_discrim_performance[key]['VE_depthdifference_250'] for key in w_all_VE_discrim_performance])\n",
    "depthdiff_1000 = np.array([w_all_VE_discrim_performance[key]['VE_depthdifference_1000'] for key in w_all_VE_discrim_performance])\n"
   ]
  },
  {
   "cell_type": "code",
   "execution_count": 486,
   "metadata": {},
   "outputs": [
    {
     "data": {
      "image/png": "[encoded data removed]",
      "text/plain": [
       "<Figure size 504x360 with 1 Axes>"
      ]
     },
     "metadata": {
      "needs_background": "light"
     },
     "output_type": "display_data"
    }
   ],
   "source": [
    "plt.figure(figsize=[7,5])\n",
    "plt.plot(depthdiff_250, np.array(ies_250), 'o', color='orange', alpha = 0.9, label='250 ms')\n",
    "plt.plot(depthdiff_1000, np.array(ies_1000), 'o', color='green', alpha = 0.9, label='1000 ms')\n",
    "plt.xlabel('VE Coded Depth Difference of Trial Targets (m)', fontsize = 12)\n",
    "plt.ylabel('IES (ms)', fontsize = 12)\n",
    "plt.legend(loc='upper right')\n",
    "plt.title('IES vs VE Coded Depth Difference', fontsize=16)\n",
    "plt.show();\n",
    "\n"
   ]
  },
  {
   "cell_type": "code",
   "execution_count": 491,
   "metadata": {},
   "outputs": [
    {
     "data": {
      "image/png": "[encoded data removed]",
      "text/plain": [
       "<Figure size 432x288 with 1 Axes>"
      ]
     },
     "metadata": {
      "needs_background": "light"
     },
     "output_type": "display_data"
    }
   ],
   "source": [
    "plt.title('Distribution of IES @ 250 ms')\n",
    "plt.xlabel('IES (ms)')\n",
    "plt.ylabel('count')\n",
    "plt.hist(np.array(ies_250), color='orange')\n",
    "plt.show();\n"
   ]
  },
  {
   "cell_type": "code",
   "execution_count": 492,
   "metadata": {},
   "outputs": [
    {
     "data": {
      "image/png": "[encoded data removed]",
      "text/plain": [
       "<Figure size 432x288 with 1 Axes>"
      ]
     },
     "metadata": {
      "needs_background": "light"
     },
     "output_type": "display_data"
    }
   ],
   "source": [
    "plt.title('Distribution of IES @ 1000 ms')\n",
    "plt.xlabel('IES (ms)')\n",
    "plt.ylabel('count')\n",
    "plt.hist(np.array(ies_1000), color='green')\n",
    "plt.show();"
   ]
  },
  {
   "cell_type": "code",
   "execution_count": null,
   "metadata": {},
   "outputs": [],
   "source": []
  }
 ],
 "metadata": {
  "kernelspec": {
   "display_name": "Python 3",
   "language": "python",
   "name": "python3"
  },
  "language_info": {
   "codemirror_mode": {
    "name": "ipython",
    "version": 3
   },
   "file_extension": ".py",
   "mimetype": "text/x-python",
   "name": "python",
   "nbconvert_exporter": "python",
   "pygments_lexer": "ipython3",
   "version": "3.7.6"
  }
 },
 "nbformat": 4,
 "nbformat_minor": 4
}
