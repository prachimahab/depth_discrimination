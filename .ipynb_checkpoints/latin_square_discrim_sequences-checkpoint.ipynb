{
 "cells": [
  {
   "cell_type": "code",
   "execution_count": 1,
   "metadata": {},
   "outputs": [],
   "source": [
    "import scipy.io\n",
    "import os \n",
    "import pandas as pd\n",
    "import numpy as np\n",
    "import math\n",
    "import matplotlib.pyplot as plt\n",
    "import scipy \n",
    "import scipy.stats as stats\n",
    "from scipy.stats import sem \n",
    "import json\n",
    "import random\n",
    "import copy"
   ]
  },
  {
   "cell_type": "code",
   "execution_count": 4,
   "metadata": {},
   "outputs": [],
   "source": [
    "homedir = '/Users/prachi/Documents/depth_duration/depth_discrimination/'"
   ]
  },
  {
   "cell_type": "code",
   "execution_count": 40,
   "metadata": {},
   "outputs": [
    {
     "data": {
      "text/plain": [
       "((94, 94),\n",
       " array([86,  5, 48, 41, 81, 90, 17, 66, 62, 67, 89, 51, 35, 38, 46, 15, 64,\n",
       "        78, 13, 69,  8, 49, 76,  4, 14, 75, 57, 55, 73, 18, 28, 68, 72, 83,\n",
       "         6, 31, 54, 11, 60, 12, 36, 21,  9, 80, 24, 50, 47, 94, 32, 52, 58,\n",
       "        29, 85, 87, 44, 74, 91, 10, 39, 65,  7, 19, 45, 82, 42, 77, 59, 33,\n",
       "        56, 40, 79,  2, 22, 92, 25,  1, 37, 84, 23, 63, 30, 71, 88,  3, 34,\n",
       "        70, 16, 20, 53, 27, 43, 61, 26, 93], dtype=uint8))"
      ]
     },
     "execution_count": 40,
     "metadata": {},
     "output_type": "execute_result"
    }
   ],
   "source": [
    "# load 48x48 latin square from MATLAB randls function\n",
    "randls24 = scipy.io.loadmat(homedir + 'randls24.mat')['ans']\n",
    "randls94 = scipy.io.loadmat(homedir + 'randls94.mat')['ans']\n",
    "\n",
    "randls94.shape, randls94[0]"
   ]
  },
  {
   "cell_type": "code",
   "execution_count": 41,
   "metadata": {},
   "outputs": [],
   "source": [
    "# load an existing balanced VE sequence and seperate into 4 blocks\n",
    "discrim_seq_path = '/Users/prachi/Documents/depth_duration/depth_discrimination/discrimination_sequences/january2022/j13/j13.json'\n",
    "\n",
    "with open(discrim_seq_path, 'r') as f:\n",
    "    discrim_seq = json.load(f)\n"
   ]
  },
  {
   "cell_type": "code",
   "execution_count": 42,
   "metadata": {},
   "outputs": [
    {
     "data": {
      "text/plain": [
       "(94, 8)"
      ]
     },
     "execution_count": 42,
     "metadata": {},
     "output_type": "execute_result"
    }
   ],
   "source": [
    "discrim_seq_without_catch = []\n",
    "catch = []\n",
    "for trial in discrim_seq:\n",
    "    if trial['sequence'] != 'catch_trial':\n",
    "        discrim_seq_without_catch.append(trial)\n",
    "    else:\n",
    "        catch.append(trial)\n",
    "\n",
    "len(discrim_seq_without_catch), len(catch)"
   ]
  },
  {
   "cell_type": "code",
   "execution_count": null,
   "metadata": {},
   "outputs": [],
   "source": []
  },
  {
   "cell_type": "code",
   "execution_count": 15,
   "metadata": {},
   "outputs": [],
   "source": [
    "def randls_to_sequence(randls_row, block):\n",
    "    '''\n",
    "    Uses indeces from the randls matrix row to build sequence\n",
    "    \n",
    "    Args:\n",
    "        randls_row - one row of the randls matrix\n",
    "        block - one block out of the four in the VE sequence\n",
    "    Returns:\n",
    "        VE trials in sequence\n",
    "    '''\n",
    "    sequence = []\n",
    "    for elem in randls_row:\n",
    "        if elem == len(randls_row):\n",
    "            idx = 0\n",
    "        else:\n",
    "            idx = elem\n",
    "        sequence.append(block[idx])\n",
    "    return sequence \n",
    "\n",
    "def main_randls_blocks(randls, block):\n",
    "    '''\n",
    "    Converts each randls row into a sequence \n",
    "    \n",
    "    Args:\n",
    "        randls - randls matrix from MATLAB\n",
    "        block - one block out of the four in the VE sequence\n",
    "    Returns:\n",
    "        All sequences from the randls matrix in trial sequence format\n",
    "    '''\n",
    "    block_sequences = []\n",
    "    for i in range(randls.shape[0]):\n",
    "        row = randls[i]\n",
    "        seq = randls_to_sequence(row, block)\n",
    "        block_sequences.append(seq)\n",
    "    return block_sequences"
   ]
  },
  {
   "cell_type": "code",
   "execution_count": 43,
   "metadata": {},
   "outputs": [],
   "source": [
    "full_randls_seqs = main_randls_blocks(randls94, discrim_seq_without_catch)\n"
   ]
  },
  {
   "cell_type": "code",
   "execution_count": 44,
   "metadata": {},
   "outputs": [
    {
     "data": {
      "text/plain": [
       "(94, 94)"
      ]
     },
     "execution_count": 44,
     "metadata": {},
     "output_type": "execute_result"
    }
   ],
   "source": [
    "len(full_randls_seqs), len(full_randls_seqs[0])"
   ]
  },
  {
   "cell_type": "code",
   "execution_count": 45,
   "metadata": {},
   "outputs": [],
   "source": [
    "# shuffle the order of the sequences\n",
    "random.shuffle(full_randls_seqs)\n"
   ]
  },
  {
   "cell_type": "code",
   "execution_count": null,
   "metadata": {},
   "outputs": [],
   "source": []
  },
  {
   "cell_type": "code",
   "execution_count": 59,
   "metadata": {},
   "outputs": [
    {
     "data": {
      "text/plain": [
       "(94,\n",
       " 102,\n",
       " {'sequence': 'j13',\n",
       "  'duration': 1000,\n",
       "  'depth_0': 4.2115,\n",
       "  'depth_1': 3.753,\n",
       "  'image_path_target_0': 'depth_discrimination_stimuli/001133_2014-06-17_14-49-16_260595134347_rgbf000100-resize_0/001133_2014-06-17_14-49-16_260595134347_rgbf000100-resize_0-target.png',\n",
       "  'image_path_target_1': 'depth_discrimination_stimuli/001132_2014-06-17_14-48-54_260595134347_rgbf000100-resize_2/001132_2014-06-17_14-48-54_260595134347_rgbf000100-resize_2-target.png',\n",
       "  'mask_path': 'masks/mask_39.jpg',\n",
       "  'fixation_path': 'fixation.jpg'})"
      ]
     },
     "execution_count": 59,
     "metadata": {},
     "output_type": "execute_result"
    }
   ],
   "source": [
    "# build the blocks together\n",
    "sequences94 = []\n",
    "\n",
    "for i in range(94):\n",
    "    random.shuffle(catch)\n",
    "    fseq = full_randls_seqs[i]\n",
    "    catch_locs = [random.randint(0, 11), random.randint(12, 23), random.randint(24, 35), random.randint(36, 47),\n",
    "                  random.randint(48, 59), random.randint(60, 71), random.randint(72, 83), random.randint(84, 93)]\n",
    "    for i in range(len(catch)):\n",
    "        fseq.insert(catch_locs[i], catch[i])\n",
    "    \n",
    "    sequences94.append(fseq)\n",
    "    \n",
    "len(sequences94), len(sequences94[0]), sequences94[0][0]"
   ]
  },
  {
   "cell_type": "code",
   "execution_count": null,
   "metadata": {},
   "outputs": [],
   "source": []
  },
  {
   "cell_type": "code",
   "execution_count": 61,
   "metadata": {},
   "outputs": [
    {
     "data": {
      "text/plain": [
       "{'sequence': 'j13',\n",
       " 'duration': 250,\n",
       " 'depth_0': 4.2115,\n",
       " 'depth_1': 3.753,\n",
       " 'image_path_target_0': 'depth_discrimination_stimuli/001133_2014-06-17_14-49-16_260595134347_rgbf000100-resize_0/001133_2014-06-17_14-49-16_260595134347_rgbf000100-resize_0-target.png',\n",
       " 'image_path_target_1': 'depth_discrimination_stimuli/001132_2014-06-17_14-48-54_260595134347_rgbf000100-resize_2/001132_2014-06-17_14-48-54_260595134347_rgbf000100-resize_2-target.png',\n",
       " 'mask_path': 'masks/mask_39.jpg',\n",
       " 'fixation_path': 'fixation.jpg'}"
      ]
     },
     "execution_count": 61,
     "metadata": {},
     "output_type": "execute_result"
    }
   ],
   "source": [
    "# set all trial durations to 250 ms\n",
    "for seq in sequences94:\n",
    "    for trial in seq:\n",
    "        trial['duration'] = 250\n",
    "\n",
    "sequences94[0][0]"
   ]
  },
  {
   "cell_type": "code",
   "execution_count": 62,
   "metadata": {},
   "outputs": [],
   "source": [
    "# deepcopy of sequences - prevents alterations \n",
    "sequences94_250ms = copy.deepcopy(sequences94)"
   ]
  },
  {
   "cell_type": "code",
   "execution_count": 63,
   "metadata": {},
   "outputs": [
    {
     "data": {
      "text/plain": [
       "{'sequence': 'j13',\n",
       " 'duration': 1000,\n",
       " 'depth_0': 4.2115,\n",
       " 'depth_1': 3.753,\n",
       " 'image_path_target_0': 'depth_discrimination_stimuli/001133_2014-06-17_14-49-16_260595134347_rgbf000100-resize_0/001133_2014-06-17_14-49-16_260595134347_rgbf000100-resize_0-target.png',\n",
       " 'image_path_target_1': 'depth_discrimination_stimuli/001132_2014-06-17_14-48-54_260595134347_rgbf000100-resize_2/001132_2014-06-17_14-48-54_260595134347_rgbf000100-resize_2-target.png',\n",
       " 'mask_path': 'masks/mask_39.jpg',\n",
       " 'fixation_path': 'fixation.jpg'}"
      ]
     },
     "execution_count": 63,
     "metadata": {},
     "output_type": "execute_result"
    }
   ],
   "source": [
    "# set all trial durations to 1000 ms\n",
    "for seq in sequences94:\n",
    "    for trial in seq:\n",
    "        trial['duration'] = 1000\n",
    "\n",
    "sequences94[0][0]"
   ]
  },
  {
   "cell_type": "code",
   "execution_count": 64,
   "metadata": {},
   "outputs": [],
   "source": [
    "# deepcopy of sequences - prevents alterations \n",
    "sequences94_1000ms = copy.deepcopy(sequences94)"
   ]
  },
  {
   "cell_type": "code",
   "execution_count": 65,
   "metadata": {},
   "outputs": [
    {
     "data": {
      "text/plain": [
       "(250, 1000)"
      ]
     },
     "execution_count": 65,
     "metadata": {},
     "output_type": "execute_result"
    }
   ],
   "source": [
    "sequences94_250ms[0][0]['duration'], sequences94_1000ms[0][0]['duration']"
   ]
  },
  {
   "cell_type": "code",
   "execution_count": 66,
   "metadata": {},
   "outputs": [],
   "source": [
    "dest_250ms = '/Users/prachi/Documents/depth_duration/depth_discrimination/discrimination_sequences/randls_sequences/250ms/'\n",
    "dest_1000ms = '/Users/prachi/Documents/depth_duration/depth_discrimination/discrimination_sequences/randls_sequences/1000ms/'"
   ]
  },
  {
   "cell_type": "code",
   "execution_count": 69,
   "metadata": {},
   "outputs": [],
   "source": [
    "# save sequences as jsons \n",
    "num = 0\n",
    "for seq in sequences94_250ms:\n",
    "    with open(dest_250ms + 'randls_' + str(num)+ '.json', 'w') as outfile:\n",
    "        json.dump(seq, outfile)\n",
    "        num += 1"
   ]
  },
  {
   "cell_type": "code",
   "execution_count": 70,
   "metadata": {},
   "outputs": [],
   "source": [
    "# save sequences as jsons \n",
    "num = 0\n",
    "for seq in sequences94_1000ms:\n",
    "    with open(dest_1000ms + 'randls_' + str(num)+ '.json', 'w') as outfile:\n",
    "        json.dump(seq, outfile)\n",
    "        num += 1"
   ]
  },
  {
   "cell_type": "code",
   "execution_count": null,
   "metadata": {},
   "outputs": [],
   "source": []
  }
 ],
 "metadata": {
  "kernelspec": {
   "display_name": "Python 3",
   "language": "python",
   "name": "python3"
  },
  "language_info": {
   "codemirror_mode": {
    "name": "ipython",
    "version": 3
   },
   "file_extension": ".py",
   "mimetype": "text/x-python",
   "name": "python",
   "nbconvert_exporter": "python",
   "pygments_lexer": "ipython3",
   "version": "3.6.1"
  }
 },
 "nbformat": 4,
 "nbformat_minor": 4
}
