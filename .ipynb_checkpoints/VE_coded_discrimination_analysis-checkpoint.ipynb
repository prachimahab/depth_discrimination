{
 "cells": [
  {
   "cell_type": "markdown",
   "metadata": {},
   "source": [
    "# TAC Depth Discrimination Analysis: Accuracy Coded by Verbal Judgement Data"
   ]
  },
  {
   "cell_type": "code",
   "execution_count": 81,
   "metadata": {},
   "outputs": [],
   "source": [
    "import os \n",
    "import pandas as pd\n",
    "import numpy as np\n",
    "import math\n",
    "import matplotlib.pyplot as plt\n",
    "import scipy \n",
    "import scipy.stats as stats\n",
    "from scipy.stats import sem \n",
    "from mpl_toolkits.mplot3d import Axes3D # <--- This is important for 3d plotting \n",
    "from sklearn.linear_model import LinearRegression\n"
   ]
  },
  {
   "cell_type": "code",
   "execution_count": 82,
   "metadata": {},
   "outputs": [],
   "source": [
    "def combineCSVs(datafolder, num_discrim_trials):\n",
    "    \"\"\"\n",
    "    Combine all participant data into one pandas df\n",
    "    OR \n",
    "    Create df for single participant file \n",
    "    \n",
    "    returns:\n",
    "        (1) combined dataframe of all discrimination data \n",
    "        (2) combined dataframe of all scene property rating data \n",
    "    \"\"\"\n",
    "    #checks if path is a file\n",
    "    isFile = os.path.isfile(datafolder)\n",
    "\n",
    "    #checks if path is a directory\n",
    "    \n",
    "    isDirectory = os.path.isdir(datafolder)\n",
    "    \n",
    "    if isDirectory == True:\n",
    "        discrim_data = []\n",
    "        properties_data = []\n",
    "        for filename in os.listdir(datafolder):\n",
    "            if 'csv' in filename:\n",
    "                path = datafolder + \"/\" + filename\n",
    "                df = pd.read_csv(path, index_col=None, header=0)\n",
    "                \n",
    "                df_discrim = df[0:num_discrim_trials]\n",
    "                discrim_data.append(df_discrim)\n",
    "                # row 96 should be ignored - artifact of logging \n",
    "                df_properties = df[num_discrim_trials+1:]\n",
    "                properties_data.append(df_properties)\n",
    "                \n",
    "\n",
    "        discrim_frame = pd.concat(discrim_data, axis=0, ignore_index=True)\n",
    "        properties_frame = pd.concat(properties_data, axis=0, ignore_index=True)\n",
    "        \n",
    "    if isFile == True:\n",
    "        if 'csv' in datafolder:\n",
    "            df = pd.read_csv(datafolder, index_col=None, header=0)\n",
    "            df_discrim = df[0:num_discrim_trials]\n",
    "            discrim_data.append(df_discrim)\n",
    "            # row 96 should be ignored - artifact of logging \n",
    "            df_properties = df[num_discrim_trials+1:]\n",
    "            properties_data.append(df_properties)\n",
    " \n",
    "    return discrim_frame, properties_frame"
   ]
  },
  {
   "cell_type": "code",
   "execution_count": 83,
   "metadata": {},
   "outputs": [],
   "source": [
    "data_path = '/Users/prachimahableshwarkar/Documents/GW/Depth_MTurk/depth_discrimination/TAC_depth_discrimination_MTurk/data'\n"
   ]
  },
  {
   "cell_type": "code",
   "execution_count": 84,
   "metadata": {},
   "outputs": [],
   "source": [
    "raw_discrim, raw_ratings = combineCSVs(data_path, 40)"
   ]
  },
  {
   "cell_type": "code",
   "execution_count": 85,
   "metadata": {},
   "outputs": [
    {
     "data": {
      "text/plain": [
       "342"
      ]
     },
     "execution_count": 85,
     "metadata": {},
     "output_type": "execute_result"
    }
   ],
   "source": [
    "all_subjIDs = raw_discrim.subjID.unique()\n",
    "len(all_subjIDs)"
   ]
  },
  {
   "cell_type": "code",
   "execution_count": 86,
   "metadata": {},
   "outputs": [
    {
     "data": {
      "text/html": [
       "<div>\n",
       "<style scoped>\n",
       "    .dataframe tbody tr th:only-of-type {\n",
       "        vertical-align: middle;\n",
       "    }\n",
       "\n",
       "    .dataframe tbody tr th {\n",
       "        vertical-align: top;\n",
       "    }\n",
       "\n",
       "    .dataframe thead th {\n",
       "        text-align: right;\n",
       "    }\n",
       "</style>\n",
       "<table border=\"1\" class=\"dataframe\">\n",
       "  <thead>\n",
       "    <tr style=\"text-align: right;\">\n",
       "      <th></th>\n",
       "      <th>subjID</th>\n",
       "      <th>experimentName</th>\n",
       "      <th>versionName</th>\n",
       "      <th>sequenceName</th>\n",
       "      <th>url</th>\n",
       "      <th>selected_row</th>\n",
       "      <th>windowWidth</th>\n",
       "      <th>windowHeight</th>\n",
       "      <th>screenWidth</th>\n",
       "      <th>screenHeight</th>\n",
       "      <th>...</th>\n",
       "      <th>trial_RT</th>\n",
       "      <th>log_fixation</th>\n",
       "      <th>log_sceneDuration1</th>\n",
       "      <th>log_mask1</th>\n",
       "      <th>log_sceneDuration2</th>\n",
       "      <th>log_mask2</th>\n",
       "      <th>experimentTime</th>\n",
       "      <th>totalTime</th>\n",
       "      <th>age</th>\n",
       "      <th>gender</th>\n",
       "    </tr>\n",
       "  </thead>\n",
       "  <tbody>\n",
       "    <tr>\n",
       "      <th>0</th>\n",
       "      <td>515920.0</td>\n",
       "      <td>DepthScenes</td>\n",
       "      <td>v2_duration_discrimination</td>\n",
       "      <td>discrim_jsons/v2_shuffled_g0.json</td>\n",
       "      <td>http://54.210.137.18/DepthDuration/v2_depth_di...</td>\n",
       "      <td>4.0</td>\n",
       "      <td>1700.0</td>\n",
       "      <td>850.0</td>\n",
       "      <td>1700.0</td>\n",
       "      <td>956.0</td>\n",
       "      <td>...</td>\n",
       "      <td>2148.0</td>\n",
       "      <td>1000.0</td>\n",
       "      <td>252.0</td>\n",
       "      <td>999.0</td>\n",
       "      <td>249.0</td>\n",
       "      <td>501.0</td>\n",
       "      <td>NaN</td>\n",
       "      <td>1922930</td>\n",
       "      <td>35</td>\n",
       "      <td>Woman</td>\n",
       "    </tr>\n",
       "    <tr>\n",
       "      <th>1</th>\n",
       "      <td>515920.0</td>\n",
       "      <td>DepthScenes</td>\n",
       "      <td>v2_duration_discrimination</td>\n",
       "      <td>discrim_jsons/v2_shuffled_g0.json</td>\n",
       "      <td>http://54.210.137.18/DepthDuration/v2_depth_di...</td>\n",
       "      <td>4.0</td>\n",
       "      <td>1700.0</td>\n",
       "      <td>850.0</td>\n",
       "      <td>1700.0</td>\n",
       "      <td>956.0</td>\n",
       "      <td>...</td>\n",
       "      <td>2212.0</td>\n",
       "      <td>1001.0</td>\n",
       "      <td>249.0</td>\n",
       "      <td>1001.0</td>\n",
       "      <td>250.0</td>\n",
       "      <td>500.0</td>\n",
       "      <td>NaN</td>\n",
       "      <td>1922930</td>\n",
       "      <td>35</td>\n",
       "      <td>Woman</td>\n",
       "    </tr>\n",
       "    <tr>\n",
       "      <th>2</th>\n",
       "      <td>515920.0</td>\n",
       "      <td>DepthScenes</td>\n",
       "      <td>v2_duration_discrimination</td>\n",
       "      <td>discrim_jsons/v2_shuffled_g0.json</td>\n",
       "      <td>http://54.210.137.18/DepthDuration/v2_depth_di...</td>\n",
       "      <td>4.0</td>\n",
       "      <td>1700.0</td>\n",
       "      <td>850.0</td>\n",
       "      <td>1700.0</td>\n",
       "      <td>956.0</td>\n",
       "      <td>...</td>\n",
       "      <td>1996.0</td>\n",
       "      <td>1001.0</td>\n",
       "      <td>249.0</td>\n",
       "      <td>1000.0</td>\n",
       "      <td>249.0</td>\n",
       "      <td>501.0</td>\n",
       "      <td>NaN</td>\n",
       "      <td>1922930</td>\n",
       "      <td>35</td>\n",
       "      <td>Woman</td>\n",
       "    </tr>\n",
       "    <tr>\n",
       "      <th>3</th>\n",
       "      <td>515920.0</td>\n",
       "      <td>DepthScenes</td>\n",
       "      <td>v2_duration_discrimination</td>\n",
       "      <td>discrim_jsons/v2_shuffled_g0.json</td>\n",
       "      <td>http://54.210.137.18/DepthDuration/v2_depth_di...</td>\n",
       "      <td>4.0</td>\n",
       "      <td>1700.0</td>\n",
       "      <td>850.0</td>\n",
       "      <td>1700.0</td>\n",
       "      <td>956.0</td>\n",
       "      <td>...</td>\n",
       "      <td>34432.0</td>\n",
       "      <td>1002.0</td>\n",
       "      <td>998.0</td>\n",
       "      <td>1000.0</td>\n",
       "      <td>1001.0</td>\n",
       "      <td>499.0</td>\n",
       "      <td>NaN</td>\n",
       "      <td>1922930</td>\n",
       "      <td>35</td>\n",
       "      <td>Woman</td>\n",
       "    </tr>\n",
       "    <tr>\n",
       "      <th>4</th>\n",
       "      <td>515920.0</td>\n",
       "      <td>DepthScenes</td>\n",
       "      <td>v2_duration_discrimination</td>\n",
       "      <td>discrim_jsons/v2_shuffled_g0.json</td>\n",
       "      <td>http://54.210.137.18/DepthDuration/v2_depth_di...</td>\n",
       "      <td>4.0</td>\n",
       "      <td>1700.0</td>\n",
       "      <td>850.0</td>\n",
       "      <td>1700.0</td>\n",
       "      <td>956.0</td>\n",
       "      <td>...</td>\n",
       "      <td>2534.0</td>\n",
       "      <td>1002.0</td>\n",
       "      <td>1000.0</td>\n",
       "      <td>999.0</td>\n",
       "      <td>1000.0</td>\n",
       "      <td>500.0</td>\n",
       "      <td>NaN</td>\n",
       "      <td>1922930</td>\n",
       "      <td>35</td>\n",
       "      <td>Woman</td>\n",
       "    </tr>\n",
       "    <tr>\n",
       "      <th>...</th>\n",
       "      <td>...</td>\n",
       "      <td>...</td>\n",
       "      <td>...</td>\n",
       "      <td>...</td>\n",
       "      <td>...</td>\n",
       "      <td>...</td>\n",
       "      <td>...</td>\n",
       "      <td>...</td>\n",
       "      <td>...</td>\n",
       "      <td>...</td>\n",
       "      <td>...</td>\n",
       "      <td>...</td>\n",
       "      <td>...</td>\n",
       "      <td>...</td>\n",
       "      <td>...</td>\n",
       "      <td>...</td>\n",
       "      <td>...</td>\n",
       "      <td>...</td>\n",
       "      <td>...</td>\n",
       "      <td>...</td>\n",
       "      <td>...</td>\n",
       "    </tr>\n",
       "    <tr>\n",
       "      <th>13675</th>\n",
       "      <td>636794.0</td>\n",
       "      <td>DepthScenes</td>\n",
       "      <td>v2_duration_discrimination</td>\n",
       "      <td>discrim_jsons/v2_shuffled_g0_dr.json</td>\n",
       "      <td>http://54.210.137.18/DepthDuration/v2_depth_di...</td>\n",
       "      <td>1.0</td>\n",
       "      <td>1536.0</td>\n",
       "      <td>754.0</td>\n",
       "      <td>1536.0</td>\n",
       "      <td>864.0</td>\n",
       "      <td>...</td>\n",
       "      <td>1929.0</td>\n",
       "      <td>1006.0</td>\n",
       "      <td>997.0</td>\n",
       "      <td>1001.0</td>\n",
       "      <td>999.0</td>\n",
       "      <td>507.0</td>\n",
       "      <td>NaN</td>\n",
       "      <td>380364</td>\n",
       "      <td>63</td>\n",
       "      <td>Man</td>\n",
       "    </tr>\n",
       "    <tr>\n",
       "      <th>13676</th>\n",
       "      <td>636794.0</td>\n",
       "      <td>DepthScenes</td>\n",
       "      <td>v2_duration_discrimination</td>\n",
       "      <td>discrim_jsons/v2_shuffled_g0_dr.json</td>\n",
       "      <td>http://54.210.137.18/DepthDuration/v2_depth_di...</td>\n",
       "      <td>1.0</td>\n",
       "      <td>1536.0</td>\n",
       "      <td>754.0</td>\n",
       "      <td>1536.0</td>\n",
       "      <td>864.0</td>\n",
       "      <td>...</td>\n",
       "      <td>2242.0</td>\n",
       "      <td>1005.0</td>\n",
       "      <td>997.0</td>\n",
       "      <td>1013.0</td>\n",
       "      <td>1000.0</td>\n",
       "      <td>491.0</td>\n",
       "      <td>NaN</td>\n",
       "      <td>380364</td>\n",
       "      <td>63</td>\n",
       "      <td>Man</td>\n",
       "    </tr>\n",
       "    <tr>\n",
       "      <th>13677</th>\n",
       "      <td>636794.0</td>\n",
       "      <td>DepthScenes</td>\n",
       "      <td>v2_duration_discrimination</td>\n",
       "      <td>discrim_jsons/v2_shuffled_g0_dr.json</td>\n",
       "      <td>http://54.210.137.18/DepthDuration/v2_depth_di...</td>\n",
       "      <td>1.0</td>\n",
       "      <td>1536.0</td>\n",
       "      <td>754.0</td>\n",
       "      <td>1536.0</td>\n",
       "      <td>864.0</td>\n",
       "      <td>...</td>\n",
       "      <td>1595.0</td>\n",
       "      <td>1015.0</td>\n",
       "      <td>989.0</td>\n",
       "      <td>997.0</td>\n",
       "      <td>1010.0</td>\n",
       "      <td>491.0</td>\n",
       "      <td>NaN</td>\n",
       "      <td>380364</td>\n",
       "      <td>63</td>\n",
       "      <td>Man</td>\n",
       "    </tr>\n",
       "    <tr>\n",
       "      <th>13678</th>\n",
       "      <td>636794.0</td>\n",
       "      <td>DepthScenes</td>\n",
       "      <td>v2_duration_discrimination</td>\n",
       "      <td>discrim_jsons/v2_shuffled_g0_dr.json</td>\n",
       "      <td>http://54.210.137.18/DepthDuration/v2_depth_di...</td>\n",
       "      <td>1.0</td>\n",
       "      <td>1536.0</td>\n",
       "      <td>754.0</td>\n",
       "      <td>1536.0</td>\n",
       "      <td>864.0</td>\n",
       "      <td>...</td>\n",
       "      <td>1882.0</td>\n",
       "      <td>1015.0</td>\n",
       "      <td>1002.0</td>\n",
       "      <td>998.0</td>\n",
       "      <td>1000.0</td>\n",
       "      <td>489.0</td>\n",
       "      <td>NaN</td>\n",
       "      <td>380364</td>\n",
       "      <td>63</td>\n",
       "      <td>Man</td>\n",
       "    </tr>\n",
       "    <tr>\n",
       "      <th>13679</th>\n",
       "      <td>636794.0</td>\n",
       "      <td>DepthScenes</td>\n",
       "      <td>v2_duration_discrimination</td>\n",
       "      <td>discrim_jsons/v2_shuffled_g0_dr.json</td>\n",
       "      <td>http://54.210.137.18/DepthDuration/v2_depth_di...</td>\n",
       "      <td>1.0</td>\n",
       "      <td>1536.0</td>\n",
       "      <td>754.0</td>\n",
       "      <td>1536.0</td>\n",
       "      <td>864.0</td>\n",
       "      <td>...</td>\n",
       "      <td>2221.0</td>\n",
       "      <td>1004.0</td>\n",
       "      <td>996.0</td>\n",
       "      <td>1001.0</td>\n",
       "      <td>1010.0</td>\n",
       "      <td>491.0</td>\n",
       "      <td>NaN</td>\n",
       "      <td>380364</td>\n",
       "      <td>63</td>\n",
       "      <td>Man</td>\n",
       "    </tr>\n",
       "  </tbody>\n",
       "</table>\n",
       "<p>13680 rows × 29 columns</p>\n",
       "</div>"
      ],
      "text/plain": [
       "         subjID experimentName                 versionName  \\\n",
       "0      515920.0    DepthScenes  v2_duration_discrimination   \n",
       "1      515920.0    DepthScenes  v2_duration_discrimination   \n",
       "2      515920.0    DepthScenes  v2_duration_discrimination   \n",
       "3      515920.0    DepthScenes  v2_duration_discrimination   \n",
       "4      515920.0    DepthScenes  v2_duration_discrimination   \n",
       "...         ...            ...                         ...   \n",
       "13675  636794.0    DepthScenes  v2_duration_discrimination   \n",
       "13676  636794.0    DepthScenes  v2_duration_discrimination   \n",
       "13677  636794.0    DepthScenes  v2_duration_discrimination   \n",
       "13678  636794.0    DepthScenes  v2_duration_discrimination   \n",
       "13679  636794.0    DepthScenes  v2_duration_discrimination   \n",
       "\n",
       "                               sequenceName  \\\n",
       "0         discrim_jsons/v2_shuffled_g0.json   \n",
       "1         discrim_jsons/v2_shuffled_g0.json   \n",
       "2         discrim_jsons/v2_shuffled_g0.json   \n",
       "3         discrim_jsons/v2_shuffled_g0.json   \n",
       "4         discrim_jsons/v2_shuffled_g0.json   \n",
       "...                                     ...   \n",
       "13675  discrim_jsons/v2_shuffled_g0_dr.json   \n",
       "13676  discrim_jsons/v2_shuffled_g0_dr.json   \n",
       "13677  discrim_jsons/v2_shuffled_g0_dr.json   \n",
       "13678  discrim_jsons/v2_shuffled_g0_dr.json   \n",
       "13679  discrim_jsons/v2_shuffled_g0_dr.json   \n",
       "\n",
       "                                                     url  selected_row  \\\n",
       "0      http://54.210.137.18/DepthDuration/v2_depth_di...           4.0   \n",
       "1      http://54.210.137.18/DepthDuration/v2_depth_di...           4.0   \n",
       "2      http://54.210.137.18/DepthDuration/v2_depth_di...           4.0   \n",
       "3      http://54.210.137.18/DepthDuration/v2_depth_di...           4.0   \n",
       "4      http://54.210.137.18/DepthDuration/v2_depth_di...           4.0   \n",
       "...                                                  ...           ...   \n",
       "13675  http://54.210.137.18/DepthDuration/v2_depth_di...           1.0   \n",
       "13676  http://54.210.137.18/DepthDuration/v2_depth_di...           1.0   \n",
       "13677  http://54.210.137.18/DepthDuration/v2_depth_di...           1.0   \n",
       "13678  http://54.210.137.18/DepthDuration/v2_depth_di...           1.0   \n",
       "13679  http://54.210.137.18/DepthDuration/v2_depth_di...           1.0   \n",
       "\n",
       "       windowWidth  windowHeight  screenWidth  screenHeight  ... trial_RT  \\\n",
       "0           1700.0         850.0       1700.0         956.0  ...   2148.0   \n",
       "1           1700.0         850.0       1700.0         956.0  ...   2212.0   \n",
       "2           1700.0         850.0       1700.0         956.0  ...   1996.0   \n",
       "3           1700.0         850.0       1700.0         956.0  ...  34432.0   \n",
       "4           1700.0         850.0       1700.0         956.0  ...   2534.0   \n",
       "...            ...           ...          ...           ...  ...      ...   \n",
       "13675       1536.0         754.0       1536.0         864.0  ...   1929.0   \n",
       "13676       1536.0         754.0       1536.0         864.0  ...   2242.0   \n",
       "13677       1536.0         754.0       1536.0         864.0  ...   1595.0   \n",
       "13678       1536.0         754.0       1536.0         864.0  ...   1882.0   \n",
       "13679       1536.0         754.0       1536.0         864.0  ...   2221.0   \n",
       "\n",
       "      log_fixation  log_sceneDuration1 log_mask1 log_sceneDuration2  \\\n",
       "0           1000.0               252.0     999.0              249.0   \n",
       "1           1001.0               249.0    1001.0              250.0   \n",
       "2           1001.0               249.0    1000.0              249.0   \n",
       "3           1002.0               998.0    1000.0             1001.0   \n",
       "4           1002.0              1000.0     999.0             1000.0   \n",
       "...            ...                 ...       ...                ...   \n",
       "13675       1006.0               997.0    1001.0              999.0   \n",
       "13676       1005.0               997.0    1013.0             1000.0   \n",
       "13677       1015.0               989.0     997.0             1010.0   \n",
       "13678       1015.0              1002.0     998.0             1000.0   \n",
       "13679       1004.0               996.0    1001.0             1010.0   \n",
       "\n",
       "       log_mask2  experimentTime  totalTime  age  gender  \n",
       "0          501.0             NaN    1922930   35   Woman  \n",
       "1          500.0             NaN    1922930   35   Woman  \n",
       "2          501.0             NaN    1922930   35   Woman  \n",
       "3          499.0             NaN    1922930   35   Woman  \n",
       "4          500.0             NaN    1922930   35   Woman  \n",
       "...          ...             ...        ...  ...     ...  \n",
       "13675      507.0             NaN     380364   63     Man  \n",
       "13676      491.0             NaN     380364   63     Man  \n",
       "13677      491.0             NaN     380364   63     Man  \n",
       "13678      489.0             NaN     380364   63     Man  \n",
       "13679      491.0             NaN     380364   63     Man  \n",
       "\n",
       "[13680 rows x 29 columns]"
      ]
     },
     "execution_count": 86,
     "metadata": {},
     "output_type": "execute_result"
    }
   ],
   "source": [
    "raw_discrim"
   ]
  },
  {
   "cell_type": "code",
   "execution_count": 87,
   "metadata": {},
   "outputs": [
    {
     "data": {
      "text/plain": [
       "array([  35,   38,   30,   28,   42,   41,   51,   26,   34,   69,   43,\n",
       "         39,   48,   45,   55,   60,   50,   27,   33,   47,   53,   70,\n",
       "         32,   31,   29,   37,   54,   44,   24,   68,   62,   57,   40,\n",
       "         22,   36,   46,   63,   49,   67,   59,   61,   52,   66,   56,\n",
       "         72,   64,   58,   25, 1987, 1974])"
      ]
     },
     "execution_count": 87,
     "metadata": {},
     "output_type": "execute_result"
    }
   ],
   "source": [
    "all_ages = raw_discrim.age.unique()\n",
    "all_ages"
   ]
  },
  {
   "cell_type": "markdown",
   "metadata": {},
   "source": [
    "## <font color='red'> Data Cleaning </font> \n",
    "\n"
   ]
  },
  {
   "cell_type": "code",
   "execution_count": 88,
   "metadata": {},
   "outputs": [],
   "source": [
    "def catchTrial_cleaning(df, correct_requirement, catch_stimuli):\n",
    "    '''\n",
    "    Participants complete 8 catch trials total to ensure that they are doing the task.\n",
    "    If less than 7/8 catch trials are correct, the participant is excluded.  \n",
    "    '''\n",
    "    all_subjIDs = df.subjID.unique()\n",
    "    remove = []\n",
    "    subj_sequence = {}\n",
    "    df2_list = []\n",
    "    sequence_count = {'discrim_jsons/v2_shuffled_g0_dr.json': 0,\n",
    "                      'discrim_jsons/v2_shuffled_g0_rotated_dr.json': 0,\n",
    "                      'discrim_jsons/v2_shuffled_g0_rotated.json': 0, \n",
    "                      'discrim_jsons/v2_shuffled_g0.json': 0}\n",
    "    for subj in all_subjIDs:\n",
    "#         print(subj)\n",
    "        count_correct = 0\n",
    "        subj_df = df.loc[df['subjID'] == subj]\n",
    "        cleaned_subj_df = subj_df.copy(deep=True) # prevent setting with copy warning\n",
    "        # \n",
    "        subj_sequence[subj] = subj_df.sequenceName.unique()[0]\n",
    "        \n",
    "        # remove trials that are outside the outlier range\n",
    "        c = 0\n",
    "        c_missed = 0\n",
    "        for idx, row in subj_df.iterrows():\n",
    "            stim1 = row['stimulus_0']\n",
    "            stim2 = row['stimulus_1']\n",
    "            # TEMP SOLUTION FOR RANDOM PHP DATA SAVING PROBLEM \n",
    "            if type(stim1) == str:\n",
    "                if stim1.split('/')[1] in catch_stimuli or stim2.split('/')[1] in catch_stimuli:\n",
    "                    ####### VERSION WHERE CATCH TRIALS ARE ATTENTION CHECK: IMAGE 1 IS THE SAME AS IMAGE 2\n",
    "                    c += 1\n",
    "                    if row[\"discrim_choice\"] == 3:\n",
    "#                         print(row[\"discrim_choice\"])\n",
    "                        count_correct += 1\n",
    "#                     else:\n",
    "#                         print(row[\"discrim_choice\"])\n",
    "                    # remove catch trial \n",
    "                    cleaned_subj_df.drop([idx], inplace=True)\n",
    "    #                 print(depth0, depth1, correct_choice, choice)\n",
    "#         print(c_missed, 'Number of catch trials where participants did not see the target')\n",
    "#         print(c)\n",
    "#         print(count_correct)\n",
    "        if count_correct < correct_requirement:\n",
    "#             print('Number correct:', count_correct)\n",
    "            remove.append(subj)\n",
    "        else:\n",
    "            sequence_count[subj_df.sequenceName.unique()[0]] += 1\n",
    "        \n",
    "        df2_list.append(cleaned_subj_df)\n",
    "    \n",
    "    df2 = pd.concat(df2_list)\n",
    "    print(\"Number of participants that did not pass the catch trial check:\", len(remove))\n",
    "    print(\"Participants that were removed:\",remove)\n",
    "    print(\"Sequences that need to be replaced:\")\n",
    "#     for subj in remove:\n",
    "#         print(subj_sequence[subj])\n",
    "    print(\"Sequence count:\")\n",
    "    print(sequence_count)\n",
    "    for index, row in df2.iterrows():\n",
    "        if row['subjID'] in remove:\n",
    "            df2.drop(index, inplace=True)\n",
    "    \n",
    "    return df2\n",
    "    \n",
    "    "
   ]
  },
  {
   "cell_type": "code",
   "execution_count": 89,
   "metadata": {},
   "outputs": [],
   "source": [
    "all_catch_stim = ['000375_2014-06-08_11-17-29_260595134347_rgbf000133-resize_2',\n",
    "              '000569_2014-06-09_22-51-47_260595134347_rgbf000141-resize_3',\n",
    "              '000787_2014-06-08_22-33-53_260595134347_rgbf000175-resize_1',\n",
    "              '002072_2014-06-24_21-48-06_260595134347_rgbf000115-resize_0',\n",
    "              '002364_2014-06-28_20-11-05_260595134347_rgbf000042-resize_0',\n",
    "              '002675_2014-06-13_16-08-49_094959634447_rgbf000151-resize_2',\n",
    "              '003125_2014-05-12_10-39-22_094959634447_rgbf000100-resize_0',\n",
    "              '003395_2014-05-20_15-39-18_094959634447_rgbf000101-resize_0',\n",
    "              '000454_2014-06-08_16-37-28_260595134347_rgbf000048-resize_2',\n",
    "              '000868_2014-06-09_20-49-52_260595134347_rgbf000064-resize_4',\n",
    "              '000953_2014-06-08_11-42-19_260595134347_rgbf000083-resize_0',\n",
    "              '001012_2014-06-08_23-19-38_260595134347_rgbf000057-resize_0',\n",
    "              '001170_2014-06-17_15-43-44_260595134347_rgbf000096-resize_6',\n",
    "              '001222_2014-06-17_16-24-06_260595134347_rgbf000073-resize_0',\n",
    "              '001498_2014-06-19_17-45-14_260595134347_rgbf000129-resize_4',\n",
    "              '001540_2014-06-20_17-01-05_260595134347_rgbf000086-resize_2']"
   ]
  },
  {
   "cell_type": "code",
   "execution_count": 90,
   "metadata": {},
   "outputs": [
    {
     "name": "stdout",
     "output_type": "stream",
     "text": [
      "Number of participants that did not pass the catch trial check: 138\n",
      "Participants that were removed: [486536.0, 525639.0, 200176.0, 879488.0, 349467.0, 767956.0, 248936.0, 187827.0, 246251.0, 666765.0, 589497.0, 504937.0, 882991.0, 312968.0, 605641.0, 807617.0, 466959.0, 286299.0, 357475.0, 983837.0, 499055.0, 679588.0, 968513.0, 146591.0, 428536.0, 316377.0, 864671.0, 746604.0, 420127.0, 971285.0, 523130.0, 794012.0, 705779.0, 516517.0, 892757.0, 479873.0, 642287.0, 700748.0, 599134.0, 539797.0, 766102.0, 236381.0, 881835.0, 191904.0, 125847.0, 275426.0, 703443.0, 791202.0, 892795.0, 934729.0, 396314.0, 176209.0, 812817.0, 838754.0, 302212.0, 950533.0, 212783.0, 885104.0, 432975.0, 953854.0, 657330.0, 197265.0, 279980.0, 680309.0, 369409.0, 213896.0, 689595.0, 699000.0, 206132.0, 427295.0, 513194.0, 395226.0, 788117.0, 492312.0, 324499.0, 759268.0, 475461.0, 420850.0, 349004.0, 952380.0, 828849.0, 650562.0, 461791.0, 136201.0, 387516.0, 687000.0, 658998.0, 814613.0, 449871.0, 274937.0, 240944.0, 366122.0, 722005.0, 432010.0, 478848.0, 902652.0, 146515.0, 785589.0, 397577.0, 920366.0, 714263.0, 138539.0, 849360.0, 695526.0, 538468.0, 496953.0, 283954.0, 582278.0, 416392.0, 977006.0, 255362.0, 430444.0, 267764.0, 305858.0, 722590.0, 256168.0, 364002.0, 999335.0, 645153.0, 428374.0, 450300.0, 404701.0, 296087.0, 338934.0, 524029.0, 213667.0, 811896.0, 271227.0, 115682.0, 378012.0, 566485.0, 594695.0, 664943.0, 924076.0, 934694.0, 643367.0, 487098.0, 636794.0]\n",
      "Sequences that need to be replaced:\n",
      "Sequence count:\n",
      "{'discrim_jsons/v2_shuffled_g0_dr.json': 51, 'discrim_jsons/v2_shuffled_g0_rotated_dr.json': 51, 'discrim_jsons/v2_shuffled_g0_rotated.json': 49, 'discrim_jsons/v2_shuffled_g0.json': 53}\n"
     ]
    }
   ],
   "source": [
    "catch_cleaned_discrim = catchTrial_cleaning(raw_discrim, 7, all_catch_stim)"
   ]
  },
  {
   "cell_type": "code",
   "execution_count": 91,
   "metadata": {},
   "outputs": [
    {
     "data": {
      "text/plain": [
       "array([35, 30, 51, 34, 69, 38, 42, 45, 28, 55, 60, 50, 33, 53, 31, 29, 37,\n",
       "       44, 24, 41, 68, 62, 43, 22, 46, 40, 63, 26, 48, 32, 49, 47, 54, 61,\n",
       "       27, 66, 56, 72, 39, 36, 70, 59, 64, 58, 25, 57, 67])"
      ]
     },
     "execution_count": 91,
     "metadata": {},
     "output_type": "execute_result"
    }
   ],
   "source": [
    "cleaned_ages = catch_cleaned_discrim.age.unique()\n",
    "cleaned_ages"
   ]
  },
  {
   "cell_type": "markdown",
   "metadata": {},
   "source": [
    "\n"
   ]
  },
  {
   "cell_type": "code",
   "execution_count": 92,
   "metadata": {},
   "outputs": [],
   "source": [
    "def RT_cleaning(df, outlier_range, num_trials):\n",
    "    all_subjIDs = df.subjID.unique()\n",
    "    remove = []\n",
    "    df2_list = []\n",
    "    for subj in all_subjIDs:\n",
    "        count = 0\n",
    "        subj_df = df.loc[df['subjID'] == subj]\n",
    "        cleaned_subj_df = subj_df.copy(deep=True) # prevent setting with copy warning\n",
    "        \n",
    "        # calculate subject's average trial RT\n",
    "        average_trial_RT = subj_df[\"trial_RT\"].mean()\n",
    "        std_trial_RT = subj_df[\"trial_RT\"].std()\n",
    "        p_outlier_range = [(average_trial_RT - (3*std_trial_RT)), (average_trial_RT + (3*std_trial_RT))]\n",
    "        \n",
    "        # remove trials that are outside the outlier range\n",
    "        for idx, row in subj_df.iterrows():\n",
    "            RT = row['trial_RT']\n",
    "            if RT < outlier_range[0]:\n",
    "                cleaned_subj_df.drop([idx], inplace=True)\n",
    "                count += 1\n",
    "            if RT > outlier_range[1]:\n",
    "                cleaned_subj_df.drop([idx], inplace=True)\n",
    "                count += 1\n",
    "            try:\n",
    "                if RT < p_outlier_range[0]:\n",
    "                    cleaned_subj_df.drop([idx], inplace=True)\n",
    "                    count += 1\n",
    "                if RT > p_outlier_range[1]:\n",
    "                    cleaned_subj_df.drop([idx], inplace=True)\n",
    "                    count += 1\n",
    "            except:\n",
    "                print(\"Trial already removed\")\n",
    "                \n",
    "        threshold = math.floor(num_trials * 0.1)\n",
    "        if count >= threshold:\n",
    "            remove.append(subj)\n",
    "        \n",
    "        df2_list.append(cleaned_subj_df)\n",
    "    \n",
    "    df2 = pd.concat(df2_list)\n",
    "    print(\"Number of Participants with 10% or more trials outside their RT range:\", len(remove))\n",
    "    \n",
    "    for index, row in df2.iterrows():\n",
    "        if row['subjID'] in remove:\n",
    "            df2.drop(index, inplace=True)\n",
    "    \n",
    "    return df2\n"
   ]
  },
  {
   "cell_type": "code",
   "execution_count": 93,
   "metadata": {
    "collapsed": true,
    "jupyter": {
     "outputs_hidden": true
    }
   },
   "outputs": [
    {
     "name": "stdout",
     "output_type": "stream",
     "text": [
      "Trial already removed\n",
      "Trial already removed\n",
      "Trial already removed\n",
      "Trial already removed\n",
      "Trial already removed\n",
      "Trial already removed\n",
      "Trial already removed\n",
      "Trial already removed\n",
      "Trial already removed\n",
      "Trial already removed\n",
      "Trial already removed\n",
      "Trial already removed\n",
      "Trial already removed\n",
      "Trial already removed\n",
      "Trial already removed\n",
      "Trial already removed\n",
      "Trial already removed\n",
      "Trial already removed\n",
      "Trial already removed\n",
      "Trial already removed\n",
      "Trial already removed\n",
      "Trial already removed\n",
      "Trial already removed\n",
      "Trial already removed\n",
      "Trial already removed\n",
      "Trial already removed\n",
      "Trial already removed\n",
      "Trial already removed\n",
      "Trial already removed\n",
      "Trial already removed\n",
      "Trial already removed\n",
      "Trial already removed\n",
      "Trial already removed\n",
      "Trial already removed\n",
      "Number of Participants with 10% or more trials outside their RT range: 12\n"
     ]
    }
   ],
   "source": [
    "cleaned_discrim = RT_cleaning(catch_cleaned_discrim, [250,5000], 32)\n",
    "\n",
    "\n",
    "# cleaned_discrim = RT_cleaning(catch_cleaned_discrim, [250,5000], 32)"
   ]
  },
  {
   "cell_type": "code",
   "execution_count": 94,
   "metadata": {},
   "outputs": [],
   "source": [
    "def finalTrialCountCheck(df, num_trials):\n",
    "    \"\"\"\n",
    "    If more then 10% of a participants data is missing, remove the participant\n",
    "    \"\"\"\n",
    "    #List unique values in the df['subjID'] column\\n\",\n",
    "    all_subjIDs = df.subjID.unique()\n",
    "    remove = []\n",
    "    for subj in all_subjIDs:\n",
    "        subj_df = df.loc[df['subjID'] == subj]\n",
    "        count_trials = len(subj_df.index)\n",
    "        threshold_trials_remaining = num_trials - math.floor(num_trials * 0.1)\n",
    "        \n",
    "        if count_trials <= threshold_trials_remaining:\n",
    "            remove.append(subj)\n",
    "    print(\"Number of Participants with >= 10% trials removed:\", len(remove))\n",
    "    \n",
    "    for index, row in df.iterrows():\n",
    "        if row['subjID'] in remove:\n",
    "            df.drop(index, inplace=True)\n",
    "    \n",
    "    print(\"Number of participants left:\",len(df.subjID.unique()))\n",
    "    \n",
    "    return df"
   ]
  },
  {
   "cell_type": "code",
   "execution_count": 95,
   "metadata": {},
   "outputs": [
    {
     "name": "stdout",
     "output_type": "stream",
     "text": [
      "Number of Participants with >= 10% trials removed: 0\n",
      "Number of participants left: 192\n"
     ]
    }
   ],
   "source": [
    "final_discrim = finalTrialCountCheck(cleaned_discrim, 32)"
   ]
  },
  {
   "cell_type": "markdown",
   "metadata": {},
   "source": [
    "## Sequences that need replacing\n",
    "\n",
    "Final N = 192 \n",
    "\n",
    "Each sequence should have 48 participants"
   ]
  },
  {
   "cell_type": "code",
   "execution_count": 97,
   "metadata": {},
   "outputs": [
    {
     "data": {
      "text/plain": [
       "{'discrim_jsons/v2_shuffled_g0_dr.json': 48,\n",
       " 'discrim_jsons/v2_shuffled_g0_rotated_dr.json': 48,\n",
       " 'discrim_jsons/v2_shuffled_g0_rotated.json': 48,\n",
       " 'discrim_jsons/v2_shuffled_g0.json': 48}"
      ]
     },
     "execution_count": 97,
     "metadata": {},
     "output_type": "execute_result"
    }
   ],
   "source": [
    "sequence_count = {}\n",
    "for subj in final_discrim.subjID.unique():\n",
    "    subj_df = final_discrim.loc[final_discrim['subjID'] == subj]\n",
    "    sequence = subj_df.sequenceName.unique()[0]\n",
    "    if sequence not in sequence_count.keys():\n",
    "        sequence_count[sequence] = 1\n",
    "    else:\n",
    "        sequence_count[sequence] += 1\n",
    "        \n",
    "sequence_count"
   ]
  },
  {
   "cell_type": "markdown",
   "metadata": {},
   "source": [
    "Need to collect:\n",
    "\n",
    "{'discrim_jsons/v2_shuffled_g0_dr.json': 0,\n",
    "\n",
    " 'discrim_jsons/v2_shuffled_g0_rotated_dr.json': 0,\n",
    " \n",
    " 'discrim_jsons/v2_shuffled_g0_rotated.json': 0,\n",
    " \n",
    " 'discrim_jsons/v2_shuffled_g0.json': -1}"
   ]
  },
  {
   "cell_type": "markdown",
   "metadata": {},
   "source": [
    "# Correlation with Verbal Report data \n",
    "\n",
    "- For each discrimination trial, get the average difference between the verbal report for those scenes \n",
    "- Correlate that with the proportion correct for that trial \n",
    "- Is there better accuracy for scenes that have a larget percevied depth difference (using the verbal report data)?"
   ]
  },
  {
   "cell_type": "markdown",
   "metadata": {},
   "source": [
    "## Individual Discriminations"
   ]
  },
  {
   "cell_type": "code",
   "execution_count": 98,
   "metadata": {},
   "outputs": [],
   "source": [
    "def get_accuracy(df):\n",
    "    \"\"\"\n",
    "    * ACCURACY BASED ON THE KINECT\n",
    "    args:\n",
    "        df  \n",
    "    returns:\n",
    "        proportion of correct responses, count of correct responses, count of total trials  \n",
    "    \"\"\"\n",
    "    count_correct = 0\n",
    "    count_incorrect = 0\n",
    "    count_total = 0\n",
    "    count_missed = 0\n",
    "    for idx, row in df.iterrows():\n",
    "        choice = row[\"discrim_choice\"]\n",
    "        if choice == 2.0:\n",
    "            count_missed += 1\n",
    "        else:    \n",
    "            count_total += 1\n",
    "            depth0 = row[\"actual_depth_0\"]\n",
    "            depth1 = row[\"actual_depth_1\"]\n",
    "            if depth0 < depth1:\n",
    "                correct_choice = 0\n",
    "            if depth0 > depth1:\n",
    "                correct_choice = 1\n",
    "            if depth0 == depth1:\n",
    "                # case where depths are equal \n",
    "                correct_choice = None\n",
    "            if choice == correct_choice:\n",
    "                count_correct += 1\n",
    "    \n",
    "    return count_correct/count_total, count_correct, count_total, count_missed\n",
    "\n",
    "def get_RT(df):\n",
    "    \"\"\"\n",
    "    args:\n",
    "        df  \n",
    "    returns:\n",
    "        array of RTs, avg RT and std   \n",
    "    \"\"\"\n",
    "    list_RTs = []\n",
    "    for idx, row in df.iterrows():   \n",
    "        stimulus_duration = row['log_sceneDuration2']\n",
    "        RT = row[\"trial_RT\"] - stimulus_duration\n",
    "        list_RTs.append(RT)\n",
    "    \n",
    "    list_RTs = np.array(list_RTs)\n",
    "    \n",
    "    return list_RTs, np.mean(list_RTs) ,np.std(list_RTs)"
   ]
  },
  {
   "cell_type": "code",
   "execution_count": 99,
   "metadata": {},
   "outputs": [],
   "source": [
    "def depth_differences(df):\n",
    "    \"\"\"\n",
    "    args:\n",
    "        df  \n",
    "    returns:\n",
    "        array of depth differences, avg depth differences and std   \n",
    "    \"\"\"\n",
    "    depth_diffs = []\n",
    "    for idx, row in df.iterrows():\n",
    "        depth0 = row[\"actual_depth_0\"]\n",
    "        depth1 = row[\"actual_depth_1\"]\n",
    "        \n",
    "        diff = abs(depth0-depth1)\n",
    "        depth_diffs.append(diff)\n",
    "    \n",
    "    depth_diffs = np.array(depth_diffs)\n",
    "    \n",
    "    return depth_diffs, np.mean(depth_diffs) ,np.std(depth_diffs)\n",
    "    "
   ]
  },
  {
   "cell_type": "code",
   "execution_count": 100,
   "metadata": {},
   "outputs": [],
   "source": [
    "all_depth_diffs = depth_differences(final_discrim)\n",
    "\n",
    "# add depth difference column to dataframe \n",
    "final_discrim.insert(18, \"depth_difference\", all_depth_diffs[0])"
   ]
  },
  {
   "cell_type": "code",
   "execution_count": 101,
   "metadata": {},
   "outputs": [],
   "source": [
    "def individual_discrimination_stats(df):\n",
    "    '''\n",
    "    Individual discrimination performance and RT \n",
    "    '''\n",
    "    all_stim0 = df.stimulus_0.unique()\n",
    "    \n",
    "    stimuli_stats = {}\n",
    "    for stim0 in all_stim0:\n",
    "        stim0_df = df.loc[df['stimulus_0'] == stim0]\n",
    "        other_stim = stim0_df.stimulus_1.unique()[0]\n",
    "        stim1_df = df.loc[df['stimulus_1'] == stim0]\n",
    "        # df for a specific discrimination trial (collapsed on stim presentation order)\n",
    "        stim_df = pd.concat([stim0_df, stim1_df], ignore_index=True)\n",
    "        stim_250_df = stim_df[stim_df['duration'] == 250.0]\n",
    "        stim_1000_df = stim_df[stim_df['duration'] == 1000.0] \n",
    "        \n",
    "        stim_depthdiff = stim_df['depth_difference'][0]\n",
    "        \n",
    "        stim0_depth = stim_df['actual_depth_0'][0]\n",
    "        stim1_depth = stim_df['actual_depth_1'][0]\n",
    "        stim_depthbin = np.mean(np.array([stim0_depth,stim1_depth]))\n",
    "        \n",
    "        stim_acc_250 = get_accuracy(stim_250_df)\n",
    "        stim_acc_1000 = get_accuracy(stim_1000_df)\n",
    "        \n",
    "        stim_RT_250 = get_RT(stim_250_df)\n",
    "        stim_RT_1000 = get_RT(stim_1000_df)\n",
    "        \n",
    "        stimuli_stats[stim0] = {'stimulus_1': other_stim,\n",
    "                                'accuracy_250': stim_acc_250,\n",
    "                                'accuracy_1000': stim_acc_1000,\n",
    "                                'avg_depth': stim_depthbin,\n",
    "                                'depthdifference': stim_depthdiff, \n",
    "                                'RT_250': stim_RT_250,\n",
    "                                'RT_1000': stim_RT_1000}\n",
    "    \n",
    "    return stimuli_stats"
   ]
  },
  {
   "cell_type": "code",
   "execution_count": 102,
   "metadata": {},
   "outputs": [],
   "source": [
    "all_discrim_performance = individual_discrimination_stats(final_discrim)\n"
   ]
  },
  {
   "cell_type": "markdown",
   "metadata": {},
   "source": [
    "## Load Raw TAC Verbal Judgement Data"
   ]
  },
  {
   "cell_type": "code",
   "execution_count": 30,
   "metadata": {},
   "outputs": [],
   "source": [
    "# TAC_raw_individual_trial_data_path  = '/Users/pmahableshwarkar/Documents/Depth_Project/depth_duration_analysis/TAC_npy_files/TAC_raw_individual_trial_data/'\n",
    "\n",
    "TAC_raw_individual_trial_data_path = '/Users/prachi/Documents/depth_duration/depth_duration_analysis/TAC_npy_files/TAC_raw_individual_trial_data/'\n",
    "\n",
    "# x data\n",
    "with open(TAC_raw_individual_trial_data_path + 'X_250.npy' , 'rb') as f:\n",
    "    TAC_X_250 = np.load(f, allow_pickle=True)\n",
    "\n",
    "with open(TAC_raw_individual_trial_data_path + 'X_500.npy' , 'rb') as f:\n",
    "    TAC_X_500 = np.load(f, allow_pickle=True)\n",
    "    \n",
    "with open(TAC_raw_individual_trial_data_path + 'X_750.npy' , 'rb') as f:\n",
    "    TAC_X_750 = np.load(f, allow_pickle=True)\n",
    "\n",
    "with open(TAC_raw_individual_trial_data_path + 'X_1000.npy' , 'rb') as f:\n",
    "    TAC_X_1000 = np.load(f, allow_pickle=True)\n",
    "# y data \n",
    "with open(TAC_raw_individual_trial_data_path + 'final_y_250.npy' , 'rb') as f:\n",
    "    TAC_final_y_250 = np.load(f, allow_pickle=True)\n",
    "    \n",
    "with open(TAC_raw_individual_trial_data_path + 'final_y_500.npy' , 'rb') as f:\n",
    "    TAC_final_y_500 = np.load(f, allow_pickle=True)\n",
    "    \n",
    "with open(TAC_raw_individual_trial_data_path + 'final_y_750.npy' , 'rb') as f:\n",
    "    TAC_final_y_750 = np.load(f, allow_pickle=True)\n",
    "    \n",
    "with open(TAC_raw_individual_trial_data_path + 'final_y_1000.npy' , 'rb') as f:\n",
    "    TAC_final_y_1000= np.load(f, allow_pickle=True)\n",
    "    \n",
    "with open(TAC_raw_individual_trial_data_path + 'final_stim_250.npy', 'rb') as f:\n",
    "    TAC_final_stim_250 = np.load(f, allow_pickle=True)\n",
    "    \n",
    "with open(TAC_raw_individual_trial_data_path + 'final_stim_500.npy', 'rb') as f:\n",
    "    TAC_final_stim_500 = np.load(f, allow_pickle=True)\n",
    "    \n",
    "with open(TAC_raw_individual_trial_data_path + 'final_stim_750.npy', 'rb') as f:\n",
    "    TAC_final_stim_750 = np.load(f, allow_pickle=True)\n",
    "    \n",
    "with open(TAC_raw_individual_trial_data_path + 'final_stim_1000.npy', 'rb') as f:\n",
    "    TAC_final_stim_1000 = np.load(f, allow_pickle=True)\n",
    "    \n",
    "# std data\n",
    "with open(TAC_raw_individual_trial_data_path + 'std_250.npy' , 'rb') as f:\n",
    "    TAC_std_250 = np.load(f, allow_pickle=True)\n",
    "\n",
    "with open(TAC_raw_individual_trial_data_path + 'std_500.npy' , 'rb') as f:\n",
    "    TAC_std_500 = np.load(f, allow_pickle=True)\n",
    "    \n",
    "with open(TAC_raw_individual_trial_data_path + 'std_750.npy' , 'rb') as f:\n",
    "    TAC_std_750 = np.load(f, allow_pickle=True)\n",
    "\n",
    "with open(TAC_raw_individual_trial_data_path + 'std_1000.npy' , 'rb') as f:\n",
    "    TAC_std_1000 = np.load(f, allow_pickle=True)"
   ]
  },
  {
   "cell_type": "markdown",
   "metadata": {},
   "source": [
    "## Load Normalized TAC Verbal Judgement Data\n"
   ]
  },
  {
   "cell_type": "code",
   "execution_count": 31,
   "metadata": {},
   "outputs": [],
   "source": [
    "# TAC_normed_individual_trial_data_path = '/Users/pmahableshwarkar/Documents/Depth_Project/depth_duration_analysis/TAC_npy_files/TAC_normalized_individual_trial_data/'\n",
    "\n",
    "TAC_normed_individual_trial_data_path = '/Users/prachi/Documents/depth_duration/depth_duration_analysis/TAC_npy_files/TAC_normalized_individual_trial_data/'\n",
    "\n",
    "# x data\n",
    "with open(TAC_normed_individual_trial_data_path + 'n_X_250.npy' , 'rb') as f:\n",
    "    n_TAC_X_250 = np.load(f, allow_pickle=True)\n",
    "\n",
    "with open(TAC_normed_individual_trial_data_path + 'n_X_500.npy' , 'rb') as f:\n",
    "    n_TAC_X_500 = np.load(f, allow_pickle=True)\n",
    "    \n",
    "with open(TAC_normed_individual_trial_data_path + 'n_X_750.npy' , 'rb') as f:\n",
    "    n_TAC_X_750 = np.load(f, allow_pickle=True)\n",
    "\n",
    "with open(TAC_normed_individual_trial_data_path + 'n_X_1000.npy' , 'rb') as f:\n",
    "    n_TAC_X_1000 = np.load(f, allow_pickle=True)\n",
    "# y data \n",
    "with open(TAC_normed_individual_trial_data_path + 'n_final_y_250.npy' , 'rb') as f:\n",
    "    n_TAC_final_y_250 = np.load(f, allow_pickle=True)\n",
    "    \n",
    "with open(TAC_normed_individual_trial_data_path + 'n_final_y_500.npy' , 'rb') as f:\n",
    "    n_TAC_final_y_500 = np.load(f, allow_pickle=True)\n",
    "    \n",
    "with open(TAC_normed_individual_trial_data_path + 'n_final_y_750.npy' , 'rb') as f:\n",
    "    n_TAC_final_y_750 = np.load(f, allow_pickle=True)\n",
    "    \n",
    "with open(TAC_normed_individual_trial_data_path + 'n_final_y_1000.npy' , 'rb') as f:\n",
    "    n_TAC_final_y_1000= np.load(f, allow_pickle=True)\n",
    "\n",
    "# std data\n",
    "with open(TAC_normed_individual_trial_data_path + 'n_std_250.npy' , 'rb') as f:\n",
    "    n_TAC_std_250 = np.load(f, allow_pickle=True)\n",
    "\n",
    "\n",
    "with open(TAC_normed_individual_trial_data_path + 'n_std_1000.npy' , 'rb') as f:\n",
    "    n_TAC_std_1000 = np.load(f, allow_pickle=True)"
   ]
  },
  {
   "cell_type": "code",
   "execution_count": null,
   "metadata": {},
   "outputs": [],
   "source": []
  },
  {
   "cell_type": "markdown",
   "metadata": {},
   "source": [
    "# Code depth discrimination correctness by the verbal judgement data \n",
    "\n",
    "Create new 'ground truth' answer based on verbal judgement data\n",
    "\n",
    "Task: Respond which image's target was closer to you"
   ]
  },
  {
   "cell_type": "markdown",
   "metadata": {},
   "source": [
    "## Normalized VE Data"
   ]
  },
  {
   "cell_type": "code",
   "execution_count": 32,
   "metadata": {},
   "outputs": [],
   "source": [
    "n_VE_answerkey_250 = {} # corresponding answer key for discrimination trials  \n",
    "\n",
    "for key in all_discrim_performance.keys():\n",
    "    targetimg0 = key.split('/')[-1]\n",
    "    folder0 = targetimg0[:-11]\n",
    "    depth_dur_path0 = 'depth_duration_stimuli/' + folder0 + '/' + targetimg0\n",
    "    idx0 = np.where(TAC_final_stim_250 == depth_dur_path0)[0][0]\n",
    "    avg_estim_stim0 = n_TAC_final_y_250[idx0]\n",
    "    std0 = n_TAC_std_250[idx0]\n",
    "    \n",
    "    targetimg1 = all_discrim_performance[key]['stimulus_1'].split('/')[-1]\n",
    "    folder1 = targetimg1[:-11]\n",
    "    depth_dur_path1 = 'depth_duration_stimuli/' + folder1 + '/' + targetimg1\n",
    "    idx1= np.where(TAC_final_stim_250 == depth_dur_path1)[0][0]\n",
    "    avg_estim_stim1 = n_TAC_final_y_250[idx1]\n",
    "    std1 = n_TAC_std_250[idx1]\n",
    "\n",
    "    if avg_estim_stim0 < avg_estim_stim1:\n",
    "        # Which target is CLOSER to you?\n",
    "        answer = targetimg0\n",
    "    if avg_estim_stim0 == avg_estim_stim1:\n",
    "        print(targetimg0, targetimg1)\n",
    "    if avg_estim_stim0 > avg_estim_stim1:\n",
    "        answer = targetimg1\n",
    "\n",
    "    n_VE_answerkey_250[key] = {'stimulus_1': targetimg1,\n",
    "                             'stimulus_0_avg_estim': avg_estim_stim0,\n",
    "                             'stimulus_1_avg_estim': avg_estim_stim1,\n",
    "                             'answer': answer,\n",
    "                             'std0': std0,\n",
    "                             'std1': std1}\n",
    "    "
   ]
  },
  {
   "cell_type": "code",
   "execution_count": 33,
   "metadata": {},
   "outputs": [
    {
     "data": {
      "text/plain": [
       "(64,\n",
       " {'stimulus_1': '001164_2014-06-17_15-35-46_260595134347_rgbf000085-resize_3-target.png',\n",
       "  'stimulus_0_avg_estim': 0.833947531883851,\n",
       "  'stimulus_1_avg_estim': 0.8957807546847273,\n",
       "  'answer': '002118_2014-06-25_20-32-08_260595134347_rgbf000078-resize_1-target.png',\n",
       "  'std0': 0.24428101710881583,\n",
       "  'std1': 0.28344868879112933})"
      ]
     },
     "execution_count": 33,
     "metadata": {},
     "output_type": "execute_result"
    }
   ],
   "source": [
    "len(n_VE_answerkey_250), n_VE_answerkey_250['depth_discrimination_stimuli/002118_2014-06-25_20-32-08_260595134347_rgbf000078-resize_1/002118_2014-06-25_20-32-08_260595134347_rgbf000078-resize_1-target.png']\n"
   ]
  },
  {
   "cell_type": "code",
   "execution_count": 34,
   "metadata": {},
   "outputs": [],
   "source": [
    "n_VE_answerkey_1000 = {} # corresponding answer key for discrimination trials  \n",
    "\n",
    "for key in all_discrim_performance.keys():\n",
    "    targetimg0 = key.split('/')[-1]\n",
    "    folder0 = targetimg0[:-11]\n",
    "    depth_dur_path0 = 'depth_duration_stimuli/' + folder0 + '/' + targetimg0\n",
    "    idx0 = np.where(TAC_final_stim_1000 == depth_dur_path0)[0][0]\n",
    "    avg_estim_stim0 = n_TAC_final_y_1000[idx0]\n",
    "    std0 = n_TAC_std_1000[idx0]\n",
    "\n",
    "    targetimg1 = all_discrim_performance[key]['stimulus_1'].split('/')[-1]\n",
    "    folder1 = targetimg1[:-11]\n",
    "    depth_dur_path1 = 'depth_duration_stimuli/' + folder1 + '/' + targetimg1\n",
    "    idx1= np.where(TAC_final_stim_1000 == depth_dur_path1)[0][0]\n",
    "    avg_estim_stim1 = n_TAC_final_y_1000[idx1]\n",
    "    std1 = n_TAC_std_1000[idx1]\n",
    "    \n",
    "    if avg_estim_stim0 < avg_estim_stim1:\n",
    "        # Which target is CLOSER to you?\n",
    "        answer = targetimg0\n",
    "    if avg_estim_stim0 == avg_estim_stim1:\n",
    "        print(targetimg0, targetimg1)\n",
    "    if avg_estim_stim0 > avg_estim_stim1:\n",
    "        answer = targetimg1\n",
    "\n",
    "    n_VE_answerkey_1000[key] = {'stimulus_1': targetimg1,\n",
    "                             'stimulus_0_avg_estim': avg_estim_stim0,\n",
    "                             'stimulus_1_avg_estim': avg_estim_stim1,\n",
    "                             'answer': answer,\n",
    "                             'std0': std0,\n",
    "                             'std1': std1}\n",
    "    "
   ]
  },
  {
   "cell_type": "code",
   "execution_count": 35,
   "metadata": {},
   "outputs": [
    {
     "data": {
      "text/plain": [
       "(64,\n",
       " {'stimulus_1': '001164_2014-06-17_15-35-46_260595134347_rgbf000085-resize_3-target.png',\n",
       "  'stimulus_0_avg_estim': 0.8866695271052695,\n",
       "  'stimulus_1_avg_estim': 0.8098607254917454,\n",
       "  'answer': '001164_2014-06-17_15-35-46_260595134347_rgbf000085-resize_3-target.png',\n",
       "  'std0': 0.30669074672292423,\n",
       "  'std1': 0.4181498748134327})"
      ]
     },
     "execution_count": 35,
     "metadata": {},
     "output_type": "execute_result"
    }
   ],
   "source": [
    "len(n_VE_answerkey_1000), n_VE_answerkey_1000['depth_discrimination_stimuli/002118_2014-06-25_20-32-08_260595134347_rgbf000078-resize_1/002118_2014-06-25_20-32-08_260595134347_rgbf000078-resize_1-target.png']\n"
   ]
  },
  {
   "cell_type": "code",
   "execution_count": null,
   "metadata": {},
   "outputs": [],
   "source": []
  },
  {
   "cell_type": "code",
   "execution_count": 36,
   "metadata": {},
   "outputs": [],
   "source": [
    "def VE_accuracy(stim0, df, answerkey):\n",
    "    '''\n",
    "    Accuracy based on the verbal judgement data \n",
    "    '''\n",
    "    \n",
    "    \"\"\"\n",
    "    args:\n",
    "        df  \n",
    "    returns:\n",
    "        proportion of correct responses, count of correct responses, count of total trials  \n",
    "    \"\"\"\n",
    "    count_correct = 0\n",
    "    count_incorrect = 0\n",
    "    count_total = 0\n",
    "    count_missed = 0\n",
    "    \n",
    "    VE_correct_answer = answerkey[stim0]['answer']\n",
    "    for idx, row in df.iterrows(): \n",
    "        choice = row[\"discrim_choice\"]\n",
    "        count_total += 1\n",
    "        if choice == 0.0:\n",
    "            image_choice = row[\"stimulus_0\"]\n",
    "                \n",
    "        if choice == 1.0:\n",
    "            image_choice = row[\"stimulus_1\"]\n",
    "                \n",
    "        if choice == 2.0:\n",
    "            count_missed += 1\n",
    "            \n",
    "        if choice == 3.0:\n",
    "            count_missed += 1\n",
    "        \n",
    "        try:\n",
    "            if image_choice.split('/')[-1] == VE_correct_answer:\n",
    "                count_correct += 1\n",
    "        except:\n",
    "            pass\n",
    "        \n",
    "    \n",
    "    return count_correct/count_total, count_correct, count_total, count_missed\n",
    "\n",
    "    \n",
    "def main_VE_accuracy(df, answerkey_250, answerkey_1000):\n",
    "    all_stim0 = df.stimulus_0.unique()\n",
    "    \n",
    "    stimuli_stats = {}\n",
    "    for stim0 in all_stim0:\n",
    "        # dataframe for stimulus 0\n",
    "        stim0_df = df.loc[df['stimulus_0'] == stim0]\n",
    "        # name of stimulus 1\n",
    "        other_stim = stim0_df.stimulus_1.unique()[0]\n",
    "        # dataframe where stimulus 0 is presented SECOND (same trial)\n",
    "        stim1_df = df.loc[df['stimulus_1'] == stim0]\n",
    "        \n",
    "        # df for a specific discrimination trial (collapsed on stim presentation order)\n",
    "        stim_df = pd.concat([stim0_df, stim1_df], ignore_index=True)\n",
    "        stim_250_df = stim_df[stim_df['duration'] == 250.0]\n",
    "        stim_1000_df = stim_df[stim_df['duration'] == 1000.0] \n",
    "        \n",
    "#         stim_depthdiff = stim_df['depth_difference'][0]\n",
    "        \n",
    "        stim0_depth = stim_df['actual_depth_0'][0]\n",
    "        stim1_depth = stim_df['actual_depth_1'][0]\n",
    "        stim_depthbin = np.mean(np.array([stim0_depth,stim1_depth]))\n",
    "        \n",
    "        stim_acc_250 = VE_accuracy(stim0, stim_250_df, answerkey_250)\n",
    "        stim_acc_1000 = VE_accuracy(stim0, stim_1000_df, answerkey_1000)\n",
    "        \n",
    "        stim_RT_250 = get_RT(stim_250_df)\n",
    "        stim_RT_1000 = get_RT(stim_1000_df)\n",
    "        \n",
    "        # difference between verbal judgements divided by joint variance \n",
    "        # abs(VE1-VE2)/sqrt(stda^2 + std2^2)\n",
    "        std0_250 = answerkey_250[stim0]['std0']\n",
    "        std1_250 = answerkey_250[stim0]['std1']\n",
    "        joint_variance_250 = np.sqrt(std0_250**2 + std1_250**2)\n",
    "        JV_regressor_250 = abs(answerkey_250[stim0]['stimulus_0_avg_estim'] - answerkey_250[stim0]['stimulus_1_avg_estim'])/joint_variance_250\n",
    "        \n",
    "        std0_1000 = answerkey_1000[stim0]['std0']\n",
    "        std1_1000 = answerkey_1000[stim0]['std1']\n",
    "        joint_variance_1000 = np.sqrt(std0_1000**2 + std1_1000**2)\n",
    "        JV_regressor_1000 = abs(answerkey_1000[stim0]['stimulus_0_avg_estim'] - answerkey_1000[stim0]['stimulus_1_avg_estim'])/joint_variance_1000\n",
    "        \n",
    "        stimuli_stats[stim0] = {'stimulus_1': other_stim,\n",
    "                                'accuracy_250': stim_acc_250,\n",
    "                                'accuracy_1000': stim_acc_1000,\n",
    "                                'avg_depth': stim_depthbin,\n",
    "                                'VE_depthdifference_250': abs(answerkey_250[stim0]['stimulus_0_avg_estim'] - answerkey_250[stim0]['stimulus_1_avg_estim']), \n",
    "                                'VE_depthdifference_1000': abs(answerkey_1000[stim0]['stimulus_0_avg_estim'] - answerkey_1000[stim0]['stimulus_1_avg_estim']),\n",
    "                                'RT_250': stim_RT_250,\n",
    "                                'RT_1000': stim_RT_1000,\n",
    "                                'JV_regressor_250': JV_regressor_250,\n",
    "                                'JV_regressor_1000': JV_regressor_1000}\n",
    "        \n",
    "    \n",
    "    return stimuli_stats\n",
    "    "
   ]
  },
  {
   "cell_type": "code",
   "execution_count": 37,
   "metadata": {},
   "outputs": [],
   "source": [
    "n_all_VE_discrim_performance = main_VE_accuracy(final_discrim, n_VE_answerkey_250, n_VE_answerkey_1000) "
   ]
  },
  {
   "cell_type": "code",
   "execution_count": 38,
   "metadata": {},
   "outputs": [
    {
     "data": {
      "text/plain": [
       "{'stimulus_1': 'depth_discrimination_stimuli/000109_2014-05-14_23-41-52_260595134347_rgbf000035-resize_9/000109_2014-05-14_23-41-52_260595134347_rgbf000035-resize_9-target.png',\n",
       " 'accuracy_250': (0.5316455696202531, 42, 79, 1),\n",
       " 'accuracy_1000': (0.4533333333333333, 34, 75, 2),\n",
       " 'avg_depth': 1.6135000000000002,\n",
       " 'VE_depthdifference_250': 0.08418415223432063,\n",
       " 'VE_depthdifference_1000': 0.014958625427249683,\n",
       " 'RT_250': (array([1637.,  764., 1180., 1460.,  901.,  654.,  825.,  962.,  961.,\n",
       "          955., 1191., 2638.,  930.,  889.,  689.,  994., 2994., 1446.,\n",
       "         1156., 1498., 1694.,  968., 1198.,  651., 1146.,  859., 1408.,\n",
       "         1533., 1602.,  817., 2444.,  889.,  991.,  837., 1045., 1187.,\n",
       "         1237., 1017., 1916., 1003., 2516.,  945., 1033., 1108.,  920.,\n",
       "          794., 1010., 1181., 2214., 1441.,  961., 1365., 2417.,  671.,\n",
       "         1039., 1588.,  954., 3328., 1174., 1779., 1622., 1694.,  917.,\n",
       "          882., 1165., 1413.,  963.,  829., 1088.,  807.,  544., 1012.,\n",
       "         1443., 1017., 1768., 1577., 1195.,  857.,  790.]),\n",
       "  1255.5316455696202,\n",
       "  538.334840872567),\n",
       " 'RT_1000': (array([ 865., 1071., 1057., 1152.,  911.,  905.,  978.,  656.,  916.,\n",
       "          792., 1339., 1037.,  576.,  889., 1104.,  887., 1047.,  655.,\n",
       "         2360.,  799., 1065., 1089., 1141., 1035.,  625.,  905., 2350.,\n",
       "          925., 1094.,  882., 1148., 1504., 1327.,  531.,  922., 1080.,\n",
       "          923.,  985.,  871.,  860., 1033., 1207., 1252.,  925., 2567.,\n",
       "          781., 1083.,  949.,  988., 1083., 1135., 1880.,  857.,  548.,\n",
       "         1872.,  819.,  876.,  770., 1360., 1386., 1031., 1221., 1006.,\n",
       "          798., 1405., 3972.,  911.,  932.,  742., 1070.,  936.,  799.,\n",
       "          837., 1049., 1295.]),\n",
       "  1101.7733333333333,\n",
       "  498.209315404234),\n",
       " 'JV_regressor_250': 0.20626738324228341,\n",
       " 'JV_regressor_1000': 0.03688879424346675}"
      ]
     },
     "execution_count": 38,
     "metadata": {},
     "output_type": "execute_result"
    }
   ],
   "source": [
    "n_all_VE_discrim_performance['depth_discrimination_stimuli/001618_2014-06-20_11-37-31_260595134347_rgbf000027-resize_3/001618_2014-06-20_11-37-31_260595134347_rgbf000027-resize_3-target.png']\n",
    "\n"
   ]
  },
  {
   "cell_type": "code",
   "execution_count": 39,
   "metadata": {},
   "outputs": [],
   "source": [
    "n_VE_estim_diff_250 = [n_all_VE_discrim_performance[elem]['VE_depthdifference_250'] for elem in n_all_VE_discrim_performance]\n",
    "n_VE_estim_diff_1000 = [n_all_VE_discrim_performance[elem]['VE_depthdifference_1000'] for elem in n_all_VE_discrim_performance]\n",
    "\n",
    "n_VE_accuracy_250 = [n_all_VE_discrim_performance[elem]['accuracy_250'][0] for elem in n_all_VE_discrim_performance]\n",
    "n_VE_accuracy_1000 = [n_all_VE_discrim_performance[elem]['accuracy_1000'][0] for elem in n_all_VE_discrim_performance]\n",
    "\n",
    "n_avg_RT_250 = [n_all_VE_discrim_performance[elem]['RT_250'][1] for elem in n_all_VE_discrim_performance]\n",
    "n_avg_RT_1000 = [n_all_VE_discrim_performance[elem]['RT_1000'][1] for elem in n_all_VE_discrim_performance]\n",
    "\n",
    "n_JV_250 = [n_all_VE_discrim_performance[elem]['JV_regressor_250'] for elem in n_all_VE_discrim_performance]\n",
    "n_JV_1000 = [n_all_VE_discrim_performance[elem]['JV_regressor_1000'] for elem in n_all_VE_discrim_performance]"
   ]
  },
  {
   "cell_type": "markdown",
   "metadata": {},
   "source": [
    "#### Overall Accuracy: Coded by Normalized VE"
   ]
  },
  {
   "cell_type": "code",
   "execution_count": 40,
   "metadata": {},
   "outputs": [
    {
     "data": {
      "text/plain": [
       "(0.6508145237981077, 0.6617008674708056)"
      ]
     },
     "execution_count": 40,
     "metadata": {},
     "output_type": "execute_result"
    }
   ],
   "source": [
    "np.mean(n_VE_accuracy_250), np.mean(n_VE_accuracy_1000)"
   ]
  },
  {
   "cell_type": "code",
   "execution_count": 41,
   "metadata": {},
   "outputs": [
    {
     "name": "stdout",
     "output_type": "stream",
     "text": [
      "250 ms: Correlation between VE discrimination accuracy and average normalized verbal estimate difference\n"
     ]
    },
    {
     "data": {
      "text/plain": [
       "(0.6206992761417365, 4.468270156696099e-08)"
      ]
     },
     "execution_count": 41,
     "metadata": {},
     "output_type": "execute_result"
    }
   ],
   "source": [
    "print('250 ms: Correlation between VE discrimination accuracy and average normalized verbal estimate difference')\n",
    "stats.pearsonr(n_VE_accuracy_250, n_VE_estim_diff_250)"
   ]
  },
  {
   "cell_type": "code",
   "execution_count": 42,
   "metadata": {},
   "outputs": [
    {
     "name": "stdout",
     "output_type": "stream",
     "text": [
      "1000 ms: Correlation between VE discrimination accuracy and average normalized verbal estimate difference\n"
     ]
    },
    {
     "data": {
      "text/plain": [
       "(0.6859041836064943, 3.9915172416378745e-10)"
      ]
     },
     "execution_count": 42,
     "metadata": {},
     "output_type": "execute_result"
    }
   ],
   "source": [
    "print('1000 ms: Correlation between VE discrimination accuracy and average normalized verbal estimate difference')\n",
    "stats.pearsonr(n_VE_accuracy_1000, n_VE_estim_diff_1000)"
   ]
  },
  {
   "cell_type": "code",
   "execution_count": 43,
   "metadata": {},
   "outputs": [
    {
     "data": {
      "image/png": "[encoded data removed]",
      "text/plain": [
       "<Figure size 864x432 with 1 Axes>"
      ]
     },
     "metadata": {
      "needs_background": "light"
     },
     "output_type": "display_data"
    }
   ],
   "source": [
    "plt.figure(figsize=[12,6])\n",
    "plt.plot(np.array(n_VE_estim_diff_250), np.array(n_VE_accuracy_250), 'go', label='250 ms')\n",
    "plt.plot(np.array(n_VE_estim_diff_1000), np.array(n_VE_accuracy_1000), 'ro', label='1000 ms')\n",
    "plt.xlabel('Average Normalized Verbal Estimate Difference', fontsize=15)\n",
    "plt.ylabel('VE Discrimination Proportion Correct', fontsize = 15)\n",
    "plt.legend(fontsize = 12)\n",
    "plt.title('VE Discrimination Proportion Correct vs Avg Normalized Verbal Estimate Difference', fontsize = 18)\n",
    "plt.show();"
   ]
  },
  {
   "cell_type": "code",
   "execution_count": 50,
   "metadata": {},
   "outputs": [
    {
     "name": "stdout",
     "output_type": "stream",
     "text": [
      "m: [1.01383948]\n",
      "b: 0.4807144852497083\n",
      "R-squared:  0.3852675914028755\n"
     ]
    },
    {
     "data": {
      "text/plain": [
       "Text(0.5, 1.0, '250 ms: Accuracy')"
      ]
     },
     "execution_count": 50,
     "metadata": {},
     "output_type": "execute_result"
    },
    {
     "data": {
      "image/png": "[encoded data removed]",
      "text/plain": [
       "<Figure size 576x432 with 1 Axes>"
      ]
     },
     "metadata": {
      "needs_background": "light"
     },
     "output_type": "display_data"
    }
   ],
   "source": [
    "#run regression\n",
    "plt.figure(figsize=[8,6])\n",
    "VE_X_250 = np.array(n_VE_estim_diff_250).reshape(-1,1)\n",
    "VE_PC_250 = n_VE_accuracy_250\n",
    "VE_PC_reg_250 = LinearRegression().fit(VE_X_250, VE_PC_250)\n",
    "\n",
    "#Generated Predictions\n",
    "PC_predicted_250 = VE_PC_reg_250.predict(VE_X_250)\n",
    "#Plot Our Actual and Predicted Values\n",
    "plt.plot(VE_X_250, VE_PC_250, 'o', color='chocolate', alpha = 0.3);\n",
    "plt.plot(VE_X_250, PC_predicted_250,color='chocolate', label = 'm = ' + str(round(VE_PC_reg_250.coef_[0], 3))\n",
    "         + '     r-squared = ' + str(round(float(VE_PC_reg_250.score(VE_X_250, VE_PC_250)), 3)))\n",
    "plt.xlabel(\"Average Normalized Verbal Estimate Difference (m)\", fontsize = 15)\n",
    "plt.ylabel(\"VE Discrimination Proportion Correct\", fontsize = 15)\n",
    "\n",
    "#get coefficients and y intercept\n",
    "print(\"m: {0}\".format(VE_PC_reg_250.coef_))\n",
    "print(\"b: {0}\".format(VE_PC_reg_250.intercept_))\n",
    "\n",
    "#Returns the coefficient of determination R^2 of the prediction.\n",
    "print(\"R-squared: \", VE_PC_reg_250.score(VE_X_250, VE_PC_250))\n",
    "\n",
    "\n",
    "legend = plt.legend(loc = 4, fontsize = 13, borderpad = 0.6, labelspacing = 1)\n",
    "legend.get_frame().set_facecolor('lightgray')\n",
    "\n",
    "plt.title(\"250 ms: Accuracy\", fontsize = 20)\n"
   ]
  },
  {
   "cell_type": "code",
   "execution_count": null,
   "metadata": {},
   "outputs": [],
   "source": []
  },
  {
   "cell_type": "code",
   "execution_count": 51,
   "metadata": {},
   "outputs": [
    {
     "name": "stdout",
     "output_type": "stream",
     "text": [
      "m: [0.88642254]\n",
      "b: 0.4921221150073729\n",
      "R-squared:  0.470464549088891\n"
     ]
    },
    {
     "data": {
      "image/png": "[encoded data removed]",
      "text/plain": [
       "<Figure size 576x432 with 1 Axes>"
      ]
     },
     "metadata": {
      "needs_background": "light"
     },
     "output_type": "display_data"
    }
   ],
   "source": [
    "plt.figure(figsize=[8,6])\n",
    "\n",
    "VE_X_1000 = np.array(n_VE_estim_diff_1000).reshape(-1,1)\n",
    "VE_PC_1000 = n_VE_accuracy_1000\n",
    "VE_PC_reg_1000 = LinearRegression().fit(VE_X_1000, VE_PC_1000)\n",
    "\n",
    "#Generated Predictions\n",
    "PC_predicted_1000 = VE_PC_reg_1000.predict(VE_X_1000)\n",
    "#Plot Our Actual and Predicted Values\n",
    "plt.plot(VE_X_1000, VE_PC_1000, 'o', color='darkviolet', alpha = 0.3);\n",
    "plt.plot(VE_X_1000, PC_predicted_1000,color='darkviolet', label = '1000 ms: m = ' + str(round(VE_PC_reg_1000.coef_[0], 3))\n",
    "         + '     r-squared = ' + str(round(float(VE_PC_reg_1000.score(VE_X_1000, VE_PC_1000)), 3)))\n",
    "\n",
    "legend = plt.legend(loc = 4, fontsize = 13, borderpad = 0.6, labelspacing = 1)\n",
    "legend.get_frame().set_facecolor('lightgray')\n",
    "\n",
    "#get coefficients and y intercept\n",
    "print(\"m: {0}\".format(VE_PC_reg_1000.coef_))\n",
    "print(\"b: {0}\".format(VE_PC_reg_1000.intercept_))\n",
    "\n",
    "#Returns the coefficient of determination R^2 of the prediction.\n",
    "print(\"R-squared: \", VE_PC_reg_1000.score(VE_X_1000, VE_PC_1000))\n",
    "\n",
    "plt.xlabel(\"Average Normalized Verbal Estimate Difference (m)\", fontsize = 15)\n",
    "plt.ylabel(\"VE Discrimination Proportion Correct\", fontsize = 15)\n",
    "\n",
    "\n",
    "plt.title(\"1000 ms: Accuracy\", fontsize = 20)\n",
    "\n",
    "plt.show();"
   ]
  },
  {
   "cell_type": "code",
   "execution_count": null,
   "metadata": {},
   "outputs": [],
   "source": []
  },
  {
   "cell_type": "markdown",
   "metadata": {},
   "source": [
    "# UPDATED REGRESSOR: Difference between verbal judgements divided by joint variance "
   ]
  },
  {
   "cell_type": "code",
   "execution_count": 46,
   "metadata": {},
   "outputs": [
    {
     "name": "stdout",
     "output_type": "stream",
     "text": [
      "250 ms: Correlation between VE discrimination accuracy and difference between normalized verbal judgements divided by joint variance \n"
     ]
    },
    {
     "data": {
      "text/plain": [
       "(0.7098623385067704, 5.1155542544591823e-11)"
      ]
     },
     "execution_count": 46,
     "metadata": {},
     "output_type": "execute_result"
    }
   ],
   "source": [
    "print('250 ms: Correlation between VE discrimination accuracy and difference between normalized verbal judgements divided by joint variance ')\n",
    "stats.pearsonr(n_VE_accuracy_250, n_JV_250)"
   ]
  },
  {
   "cell_type": "code",
   "execution_count": 48,
   "metadata": {},
   "outputs": [
    {
     "name": "stdout",
     "output_type": "stream",
     "text": [
      "1000 ms: Correlation between VE discrimination accuracy and difference between verbal judgements divided by joint variance \n"
     ]
    },
    {
     "data": {
      "text/plain": [
       "(0.7518748821918577, 8.056775924373251e-13)"
      ]
     },
     "execution_count": 48,
     "metadata": {},
     "output_type": "execute_result"
    }
   ],
   "source": [
    "print('1000 ms: Correlation between VE discrimination accuracy and difference between verbal judgements divided by joint variance ')\n",
    "stats.pearsonr(n_VE_accuracy_1000, n_JV_1000)"
   ]
  },
  {
   "cell_type": "code",
   "execution_count": 52,
   "metadata": {},
   "outputs": [
    {
     "name": "stdout",
     "output_type": "stream",
     "text": [
      "m: [0.64155794]\n",
      "b: 0.4598926804677101\n",
      "R-squared:  0.5039045396303008\n"
     ]
    },
    {
     "data": {
      "text/plain": [
       "Text(0.5, 1.0, '250 ms')"
      ]
     },
     "execution_count": 52,
     "metadata": {},
     "output_type": "execute_result"
    },
    {
     "data": {
      "image/png": "[encoded data removed]",
      "text/plain": [
       "<Figure size 576x432 with 1 Axes>"
      ]
     },
     "metadata": {
      "needs_background": "light"
     },
     "output_type": "display_data"
    }
   ],
   "source": [
    "#run regression\n",
    "plt.figure(figsize=[8,6])\n",
    "JV_X_250 = np.array(n_JV_250).reshape(-1,1)\n",
    "VE_PC_250 = n_VE_accuracy_250\n",
    "JV_PC_reg_250 = LinearRegression().fit(JV_X_250, VE_PC_250)\n",
    "\n",
    "#Generated Predictions\n",
    "JV_PC_predicted_250 = JV_PC_reg_250.predict(JV_X_250)\n",
    "#Plot Our Actual and Predicted Values\n",
    "plt.plot(JV_X_250, VE_PC_250, 'o', color='chocolate', alpha = 0.3);\n",
    "plt.plot(JV_X_250, JV_PC_predicted_250,color='chocolate', label = 'm = ' + str(round(JV_PC_reg_250.coef_[0], 3))\n",
    "         + '     r-squared = ' + str(round(float(JV_PC_reg_250.score(JV_X_250, VE_PC_250)), 3)))\n",
    "plt.xlabel(\"Difference between normalized verbal judgements divided by joint variance\", fontsize = 15)\n",
    "plt.ylabel(\"VE Discrimination Proportion Correct\", fontsize = 15)\n",
    "\n",
    "#get coefficients and y intercept\n",
    "print(\"m: {0}\".format(JV_PC_reg_250.coef_))\n",
    "print(\"b: {0}\".format(JV_PC_reg_250.intercept_))\n",
    "\n",
    "#Returns the coefficient of determination R^2 of the prediction.\n",
    "print(\"R-squared: \", JV_PC_reg_250.score(JV_X_250, VE_PC_250))\n",
    "\n",
    "\n",
    "legend = plt.legend(loc = 4, fontsize = 13, borderpad = 0.6, labelspacing = 1)\n",
    "legend.get_frame().set_facecolor('lightgray')\n",
    "\n",
    "plt.title(\"250 ms\", fontsize = 20)\n"
   ]
  },
  {
   "cell_type": "code",
   "execution_count": 54,
   "metadata": {},
   "outputs": [
    {
     "name": "stdout",
     "output_type": "stream",
     "text": [
      "m: [0.52413518]\n",
      "b: 0.4745114221872539\n",
      "R-squared:  0.56531583847102\n"
     ]
    },
    {
     "data": {
      "text/plain": [
       "Text(0.5, 1.0, '1000 ms')"
      ]
     },
     "execution_count": 54,
     "metadata": {},
     "output_type": "execute_result"
    },
    {
     "data": {
      "image/png": "[encoded data removed]",
      "text/plain": [
       "<Figure size 576x432 with 1 Axes>"
      ]
     },
     "metadata": {
      "needs_background": "light"
     },
     "output_type": "display_data"
    }
   ],
   "source": [
    "#run regression\n",
    "plt.figure(figsize=[8,6])\n",
    "JV_X_1000 = np.array(n_JV_1000).reshape(-1,1)\n",
    "VE_PC_1000 = n_VE_accuracy_1000\n",
    "JV_PC_reg_1000 = LinearRegression().fit(JV_X_1000, VE_PC_1000)\n",
    "\n",
    "#Generated Predictions\n",
    "JV_PC_predicted_1000 = JV_PC_reg_1000.predict(JV_X_1000)\n",
    "#Plot Our Actual and Predicted Values\n",
    "plt.plot(JV_X_1000, VE_PC_1000, 'o', color='darkviolet', alpha = 0.3);\n",
    "plt.plot(JV_X_1000, JV_PC_predicted_1000,color='darkviolet', label = 'm = ' + str(round(JV_PC_reg_1000.coef_[0], 3))\n",
    "         + '     r-squared = ' + str(round(float(JV_PC_reg_1000.score(JV_X_1000, VE_PC_1000)), 3)))\n",
    "plt.xlabel(\"Difference between normalized verbal judgements divided by joint variance\", fontsize = 15)\n",
    "plt.ylabel(\"VE Discrimination Proportion Correct\", fontsize = 15)\n",
    "\n",
    "#get coefficients and y intercept\n",
    "print(\"m: {0}\".format(JV_PC_reg_1000.coef_))\n",
    "print(\"b: {0}\".format(JV_PC_reg_1000.intercept_))\n",
    "\n",
    "#Returns the coefficient of determination R^2 of the prediction.\n",
    "print(\"R-squared: \", JV_PC_reg_1000.score(JV_X_1000, VE_PC_1000))\n",
    "\n",
    "\n",
    "legend = plt.legend(loc = 4, fontsize = 13, borderpad = 0.6, labelspacing = 1)\n",
    "legend.get_frame().set_facecolor('lightgray')\n",
    "\n",
    "plt.title(\"1000 ms\", fontsize = 20)\n"
   ]
  },
  {
   "cell_type": "code",
   "execution_count": null,
   "metadata": {},
   "outputs": [],
   "source": []
  },
  {
   "cell_type": "code",
   "execution_count": 56,
   "metadata": {},
   "outputs": [
    {
     "name": "stdout",
     "output_type": "stream",
     "text": [
      "250 ms: Correlation between average discrimination RT and difference between verbal judgements divided by joint variance \n"
     ]
    },
    {
     "data": {
      "text/plain": [
       "(-0.40553425643726637, 0.0008860573746875679)"
      ]
     },
     "execution_count": 56,
     "metadata": {},
     "output_type": "execute_result"
    }
   ],
   "source": [
    "print('250 ms: Correlation between average discrimination RT and difference between verbal judgements divided by joint variance ')\n",
    "stats.pearsonr(n_avg_RT_250, n_JV_250)"
   ]
  },
  {
   "cell_type": "code",
   "execution_count": 57,
   "metadata": {},
   "outputs": [
    {
     "name": "stdout",
     "output_type": "stream",
     "text": [
      "1000 ms: Correlation between average discrimination RT and difference between verbal judgements divided by joint variance \n"
     ]
    },
    {
     "data": {
      "text/plain": [
       "(-0.3880429333939659, 0.0015333196063447958)"
      ]
     },
     "execution_count": 57,
     "metadata": {},
     "output_type": "execute_result"
    }
   ],
   "source": [
    "print('1000 ms: Correlation between average discrimination RT and difference between verbal judgements divided by joint variance ')\n",
    "stats.pearsonr(n_avg_RT_1000, n_JV_1000)"
   ]
  },
  {
   "cell_type": "code",
   "execution_count": 59,
   "metadata": {},
   "outputs": [
    {
     "name": "stdout",
     "output_type": "stream",
     "text": [
      "m: [-141.80308248]\n",
      "b: 1292.310802773535\n",
      "R-squared:  0.16445803314412621\n"
     ]
    },
    {
     "data": {
      "text/plain": [
       "Text(0.5, 1.0, '250 ms: RT')"
      ]
     },
     "execution_count": 59,
     "metadata": {},
     "output_type": "execute_result"
    },
    {
     "data": {
      "image/png": "[encoded data removed]",
      "text/plain": [
       "<Figure size 576x432 with 1 Axes>"
      ]
     },
     "metadata": {
      "needs_background": "light"
     },
     "output_type": "display_data"
    }
   ],
   "source": [
    "#run regression\n",
    "plt.figure(figsize=[8,6])\n",
    "JV_X_250 = np.array(n_JV_250).reshape(-1,1)\n",
    "VE_PC_250 = n_avg_RT_250\n",
    "JV_PC_reg_250 = LinearRegression().fit(JV_X_250, VE_PC_250)\n",
    "\n",
    "#Generated Predictions\n",
    "JV_PC_predicted_250 = JV_PC_reg_250.predict(JV_X_250)\n",
    "#Plot Our Actual and Predicted Values\n",
    "plt.plot(JV_X_250, VE_PC_250, 'o', color='chocolate', alpha = 0.3);\n",
    "plt.plot(JV_X_250, JV_PC_predicted_250,color='chocolate', label = 'm = ' + str(round(JV_PC_reg_250.coef_[0], 3))\n",
    "         + '     r-squared = ' + str(round(float(JV_PC_reg_250.score(JV_X_250, VE_PC_250)), 3)))\n",
    "plt.xlabel(\"Difference between normalized verbal judgements divided by joint variance\", fontsize = 15)\n",
    "plt.ylabel(\"RT (ms)\", fontsize = 15)\n",
    "\n",
    "#get coefficients and y intercept\n",
    "print(\"m: {0}\".format(JV_PC_reg_250.coef_))\n",
    "print(\"b: {0}\".format(JV_PC_reg_250.intercept_))\n",
    "\n",
    "#Returns the coefficient of determination R^2 of the prediction.\n",
    "print(\"R-squared: \", JV_PC_reg_250.score(JV_X_250, VE_PC_250))\n",
    "\n",
    "\n",
    "legend = plt.legend(loc = 4, fontsize = 13, borderpad = 0.6, labelspacing = 1)\n",
    "legend.get_frame().set_facecolor('lightgray')\n",
    "\n",
    "plt.title(\"250 ms: RT\", fontsize = 20)"
   ]
  },
  {
   "cell_type": "code",
   "execution_count": 60,
   "metadata": {},
   "outputs": [
    {
     "name": "stdout",
     "output_type": "stream",
     "text": [
      "m: [-70.68593095]\n",
      "b: 1109.1567186093682\n",
      "R-squared:  0.1505773181569936\n"
     ]
    },
    {
     "data": {
      "text/plain": [
       "Text(0.5, 1.0, '1000 ms: RT')"
      ]
     },
     "execution_count": 60,
     "metadata": {},
     "output_type": "execute_result"
    },
    {
     "data": {
      "image/png": "[encoded data removed]",
      "text/plain": [
       "<Figure size 576x432 with 1 Axes>"
      ]
     },
     "metadata": {
      "needs_background": "light"
     },
     "output_type": "display_data"
    }
   ],
   "source": [
    "#run regression\n",
    "plt.figure(figsize=[8,6])\n",
    "JV_X_1000 = np.array(n_JV_1000).reshape(-1,1)\n",
    "VE_PC_1000 = n_avg_RT_1000\n",
    "JV_PC_reg_1000 = LinearRegression().fit(JV_X_1000, VE_PC_1000)\n",
    "\n",
    "#Generated Predictions\n",
    "JV_PC_predicted_1000 = JV_PC_reg_1000.predict(JV_X_1000)\n",
    "#Plot Our Actual and Predicted Values\n",
    "plt.plot(JV_X_1000, VE_PC_1000, 'o', color='darkviolet', alpha = 0.3);\n",
    "plt.plot(JV_X_1000, JV_PC_predicted_1000,color='darkviolet', label = 'm = ' + str(round(JV_PC_reg_1000.coef_[0], 3))\n",
    "         + '     r-squared = ' + str(round(float(JV_PC_reg_1000.score(JV_X_1000, VE_PC_1000)), 3)))\n",
    "plt.xlabel(\"Difference between normalized verbal judgements divided by joint variance\", fontsize = 15)\n",
    "plt.ylabel(\"RT (ms)\", fontsize = 15)\n",
    "\n",
    "#get coefficients and y intercept\n",
    "print(\"m: {0}\".format(JV_PC_reg_1000.coef_))\n",
    "print(\"b: {0}\".format(JV_PC_reg_1000.intercept_))\n",
    "\n",
    "#Returns the coefficient of determination R^2 of the prediction.\n",
    "print(\"R-squared: \", JV_PC_reg_1000.score(JV_X_1000, VE_PC_1000))\n",
    "\n",
    "\n",
    "legend = plt.legend(loc = 4, fontsize = 13, borderpad = 0.6, labelspacing = 1)\n",
    "legend.get_frame().set_facecolor('lightgray')\n",
    "\n",
    "plt.title(\"1000 ms: RT\", fontsize = 20)"
   ]
  },
  {
   "cell_type": "code",
   "execution_count": null,
   "metadata": {},
   "outputs": [],
   "source": []
  }
 ],
 "metadata": {
  "kernelspec": {
   "display_name": "Python 3",
   "language": "python",
   "name": "python3"
  },
  "language_info": {
   "codemirror_mode": {
    "name": "ipython",
    "version": 3
   },
   "file_extension": ".py",
   "mimetype": "text/x-python",
   "name": "python",
   "nbconvert_exporter": "python",
   "pygments_lexer": "ipython3",
   "version": "3.7.5"
  }
 },
 "nbformat": 4,
 "nbformat_minor": 4
}
