{
 "cells": [
  {
   "cell_type": "markdown",
   "metadata": {},
   "source": [
    "# Between Subject Counterbalanced Discrimination Sequences \n",
    "\n",
    "- use all 192 images from the verbal judgement sequences\n",
    "- randomly pick discriminations \n",
    "- try to ensure that the depth differences are evenly distributed "
   ]
  },
  {
   "cell_type": "code",
   "execution_count": 207,
   "metadata": {},
   "outputs": [],
   "source": [
    "import json \n",
    "import numpy as np \n",
    "import pandas as pd\n",
    "import csv\n",
    "import random\n",
    "import matplotlib.pyplot as plt\n",
    "import copy\n",
    "from scipy.stats import chisquare\n",
    "from scipy.stats import chi2_contingency\n"
   ]
  },
  {
   "cell_type": "code",
   "execution_count": 5,
   "metadata": {},
   "outputs": [],
   "source": [
    "p0 = '/Users/prachimahableshwarkar/Documents/GW/Depth_MTurk/depth_duration_MTurk/jsons/a.json'\n",
    "\n",
    "with open(p0) as f:\n",
    "    seq_a = json.load(f)"
   ]
  },
  {
   "cell_type": "code",
   "execution_count": 795,
   "metadata": {},
   "outputs": [],
   "source": [
    "VE_seq = []\n",
    "\n",
    "for trial in seq_a:\n",
    "    if trial['sequence'] != 'catch_trial':\n",
    "        img = trial['image_path']\n",
    "        depth = trial['depth']\n",
    "\n",
    "        VE_seq.append([img, depth])\n",
    "\n",
    "VE_seq_arr = np.array(VE_seq)"
   ]
  },
  {
   "cell_type": "markdown",
   "metadata": {
    "jupyter": {
     "source_hidden": true
    }
   },
   "source": [
    "## Constrain to a max depth diff = 1 m"
   ]
  },
  {
   "cell_type": "code",
   "execution_count": 902,
   "metadata": {},
   "outputs": [],
   "source": [
    "# indeces to VE trials \n",
    "indeces = np.arange(0,192)\n",
    "# randomly shuffle the order so that discrimination trials can be made \n",
    "random.shuffle(indeces)\n",
    "\n",
    "# make groups of two (discrimination trials)\n",
    "picks = [indeces[i:i + 2] for i in range(0, len(indeces), 2)] \n",
    "\n",
    "# # list of discrimination trials based on random picks\n",
    "# discriminations = []\n",
    "\n",
    "# for combo in picks:\n",
    "#     img0 = VE_seq_arr[combo[0]]\n",
    "#     img1 = VE_seq_arr[combo[1]]\n",
    "#     discriminations.append([img0, img1])\n",
    "    \n",
    "# # look at distribution of depth differences in the random sequence\n",
    "\n",
    "# differences = []\n",
    "\n",
    "# for trial in discriminations:\n",
    "#     depth0 = float(trial[0][1])\n",
    "#     depth1 = float(trial[1][1])\n",
    "    \n",
    "#     diff = abs(depth0-depth1)\n",
    "#     differences.append(diff)\n",
    "\n",
    "    \n",
    "    \n",
    "# plt.figure()\n",
    "\n",
    "\n",
    "# plt.hist(differences)\n",
    "# plt.title('Distribution of Depth Differences')\n",
    "\n",
    "\n",
    "# print(np.array(differences).mean(),np.array(differences).std())\n",
    "# print(chisquare(differences, uniform))\n",
    "\n",
    "# plt.show()\n",
    "\n"
   ]
  },
  {
   "cell_type": "code",
   "execution_count": null,
   "metadata": {},
   "outputs": [],
   "source": []
  },
  {
   "cell_type": "code",
   "execution_count": null,
   "metadata": {
    "jupyter": {
     "source_hidden": true
    }
   },
   "outputs": [],
   "source": [
    "\n"
   ]
  },
  {
   "cell_type": "code",
   "execution_count": 245,
   "metadata": {
    "collapsed": true,
    "jupyter": {
     "outputs_hidden": true,
     "source_hidden": true
    }
   },
   "outputs": [
    {
     "name": "stdout",
     "output_type": "stream",
     "text": [
      "0.9900910785370314\n",
      "96\n"
     ]
    },
    {
     "data": {
      "image/png": "[encoded data removed]",
      "text/plain": [
       "<Figure size 432x288 with 1 Axes>"
      ]
     },
     "metadata": {
      "needs_background": "light"
     },
     "output_type": "display_data"
    }
   ],
   "source": [
    "# std of uniform distribution \n",
    "\n",
    "std_uniform = (3.5-0)/(np.sqrt(12))\n",
    "\n",
    "# uniform distribution \n",
    "uniform = np.random.uniform(low = 0.0, high = 3.6, size = len(differences))  \n",
    "plt.hist(uniform)\n",
    "print(np.array(uniform).std())\n",
    "print(len(uniform))\n",
    "plt.show();"
   ]
  },
  {
   "cell_type": "code",
   "execution_count": null,
   "metadata": {
    "jupyter": {
     "source_hidden": true
    }
   },
   "outputs": [],
   "source": []
  },
  {
   "cell_type": "code",
   "execution_count": 79,
   "metadata": {
    "jupyter": {
     "source_hidden": true
    }
   },
   "outputs": [],
   "source": [
    "option1 = copy.deepcopy(discriminations)\n",
    "option1_differences = copy.deepcopy(differences)"
   ]
  },
  {
   "cell_type": "code",
   "execution_count": 249,
   "metadata": {
    "collapsed": true,
    "jupyter": {
     "outputs_hidden": true,
     "source_hidden": true
    }
   },
   "outputs": [
    {
     "name": "stdout",
     "output_type": "stream",
     "text": [
      "0.8163254772604568\n",
      "Power_divergenceResult(statistic=116.44984909747168, pvalue=0.06681857460689793)\n"
     ]
    },
    {
     "data": {
      "image/png": "[encoded data removed]",
      "text/plain": [
       "<Figure size 432x288 with 1 Axes>"
      ]
     },
     "metadata": {
      "needs_background": "light"
     },
     "output_type": "display_data"
    }
   ],
   "source": [
    "plt.figure()\n",
    "\n",
    "plt.hist(option1_differences)\n",
    "plt.title('Distribution of Depth Differences')\n",
    "\n",
    "print(np.array(option1_differences).std())\n",
    "print(chisquare(option1_differences, uniform))\n",
    "plt.show()\n"
   ]
  },
  {
   "cell_type": "code",
   "execution_count": 88,
   "metadata": {
    "jupyter": {
     "source_hidden": true
    }
   },
   "outputs": [],
   "source": [
    "option2 = copy.deepcopy(discriminations)\n",
    "option2_differences = copy.deepcopy(differences)"
   ]
  },
  {
   "cell_type": "code",
   "execution_count": 202,
   "metadata": {
    "collapsed": true,
    "jupyter": {
     "outputs_hidden": true,
     "source_hidden": true
    }
   },
   "outputs": [
    {
     "name": "stdout",
     "output_type": "stream",
     "text": [
      "0.7297319898324904\n"
     ]
    },
    {
     "data": {
      "image/png": "[encoded data removed]",
      "text/plain": [
       "<Figure size 432x288 with 1 Axes>"
      ]
     },
     "metadata": {
      "needs_background": "light"
     },
     "output_type": "display_data"
    }
   ],
   "source": [
    "plt.figure()\n",
    "\n",
    "plt.hist(option2_differences)\n",
    "plt.title('Distribution of Depth Differences')\n",
    "\n",
    "print(np.array(option2_differences).std())\n",
    "\n",
    "plt.show()"
   ]
  },
  {
   "cell_type": "code",
   "execution_count": 171,
   "metadata": {
    "jupyter": {
     "source_hidden": true
    }
   },
   "outputs": [],
   "source": [
    "option3 = copy.deepcopy(discriminations)\n",
    "option3_differences = copy.deepcopy(differences)"
   ]
  },
  {
   "cell_type": "code",
   "execution_count": 203,
   "metadata": {
    "collapsed": true,
    "jupyter": {
     "outputs_hidden": true,
     "source_hidden": true
    }
   },
   "outputs": [
    {
     "name": "stdout",
     "output_type": "stream",
     "text": [
      "0.7715105008995148\n"
     ]
    },
    {
     "data": {
      "image/png": "[encoded data removed]",
      "text/plain": [
       "<Figure size 432x288 with 1 Axes>"
      ]
     },
     "metadata": {
      "needs_background": "light"
     },
     "output_type": "display_data"
    }
   ],
   "source": [
    "plt.figure()\n",
    "\n",
    "plt.hist(option3_differences)\n",
    "plt.title('Distribution of Depth Differences')\n",
    "\n",
    "print(np.array(option3_differences).std())\n",
    "\n",
    "\n",
    "plt.show()"
   ]
  },
  {
   "cell_type": "code",
   "execution_count": 589,
   "metadata": {
    "jupyter": {
     "source_hidden": true
    }
   },
   "outputs": [],
   "source": [
    "option4 = copy.deepcopy(discriminations)\n",
    "option4_differences = copy.deepcopy(differences)"
   ]
  },
  {
   "cell_type": "code",
   "execution_count": 590,
   "metadata": {
    "collapsed": true,
    "jupyter": {
     "outputs_hidden": true,
     "source_hidden": true
    }
   },
   "outputs": [
    {
     "name": "stdout",
     "output_type": "stream",
     "text": [
      "0.7495098733841441\n"
     ]
    },
    {
     "data": {
      "image/png": "[encoded data removed]",
      "text/plain": [
       "<Figure size 432x288 with 1 Axes>"
      ]
     },
     "metadata": {
      "needs_background": "light"
     },
     "output_type": "display_data"
    }
   ],
   "source": [
    "plt.figure()\n",
    "\n",
    "plt.hist(option4_differences)\n",
    "plt.title('Distribution of Depth Differences')\n",
    "\n",
    "print(np.array(option4_differences).std())\n",
    "\n",
    "\n",
    "plt.show()"
   ]
  },
  {
   "cell_type": "markdown",
   "metadata": {},
   "source": [
    "# Constrain to Depth Differences =< 1 meter"
   ]
  },
  {
   "cell_type": "code",
   "execution_count": 798,
   "metadata": {},
   "outputs": [
    {
     "data": {
      "text/plain": [
       "array(['depth_duration_stimuli/002750_2014-06-22_19-08-03_094959634447_rgbf000094-resize_4/002750_2014-06-22_19-08-03_094959634447_rgbf000094-resize_4-original.jpg',\n",
       "       '2.354'], dtype='<U155')"
      ]
     },
     "execution_count": 798,
     "metadata": {},
     "output_type": "execute_result"
    }
   ],
   "source": [
    "VE_seq_arr[0]\n",
    "\n",
    "# (1) first sort by depth? "
   ]
  },
  {
   "cell_type": "code",
   "execution_count": 801,
   "metadata": {},
   "outputs": [],
   "source": [
    "\n",
    "# Python code to sort the tuples using second element \n",
    "# of sublist Function to sort using sorted()\n",
    "def Sort(sub_li):\n",
    "  \n",
    "    # reverse = None (Sorts in Ascending order)\n",
    "    # key is set to sort using second element of \n",
    "    # sublist lambda has been used\n",
    "    return(sorted(sub_li, key = lambda x: x[1]))    \n",
    "  \n",
    "# Driver Code\n",
    "sorted_VE_seq = Sort(VE_seq)"
   ]
  },
  {
   "cell_type": "code",
   "execution_count": 811,
   "metadata": {},
   "outputs": [
    {
     "data": {
      "text/plain": [
       "['depth_duration_stimuli/002272_2014-06-28_18-53-56_260595134347_rgbf000067-resize_2/002272_2014-06-28_18-53-56_260595134347_rgbf000067-resize_2-original.jpg',\n",
       " 1.138]"
      ]
     },
     "execution_count": 811,
     "metadata": {},
     "output_type": "execute_result"
    }
   ],
   "source": [
    "sorted_VE_seq[0]"
   ]
  },
  {
   "cell_type": "code",
   "execution_count": 816,
   "metadata": {},
   "outputs": [
    {
     "data": {
      "text/plain": [
       "[5, 6]"
      ]
     },
     "execution_count": 816,
     "metadata": {},
     "output_type": "execute_result"
    }
   ],
   "source": [
    "random.sample([1, 2, 3, 4, 5, 6], 2)"
   ]
  },
  {
   "cell_type": "code",
   "execution_count": 926,
   "metadata": {},
   "outputs": [
    {
     "name": "stdout",
     "output_type": "stream",
     "text": [
      "2.6625 1.9205\n",
      "2.967 3.5300000000000002\n",
      "3.62 2.646\n"
     ]
    }
   ],
   "source": [
    "# indeces to VE trials \n",
    "indeces = np.arange(0,192)\n",
    "indeces = list(indeces)\n",
    "final_picks = []\n",
    "\n",
    "sampled_indeces = []\n",
    "while len(final_picks) < 3:\n",
    "    rand_pick = random.sample(set(indeces), 2)\n",
    "    d1 = sorted_VE_seq[rand_pick[0]][1]\n",
    "    d2 = sorted_VE_seq[rand_pick[1]][1]\n",
    "    diff = abs(d1-d2)\n",
    "    if any(x in sampled_indeces for x in rand_pick) == False:\n",
    "        if diff <= 1:\n",
    "            print(d1, d2)\n",
    "            final_picks.append(rand_pick)\n",
    "            sampled_indeces.append(rand_pick[0])\n",
    "            sampled_indeces.append(rand_pick[1])\n",
    "    \n"
   ]
  },
  {
   "cell_type": "code",
   "execution_count": 927,
   "metadata": {},
   "outputs": [
    {
     "data": {
      "text/plain": [
       "3"
      ]
     },
     "execution_count": 927,
     "metadata": {},
     "output_type": "execute_result"
    }
   ],
   "source": [
    "len(final_picks)"
   ]
  },
  {
   "cell_type": "code",
   "execution_count": 930,
   "metadata": {},
   "outputs": [
    {
     "data": {
      "text/plain": [
       "[[['depth_duration_stimuli/001056_2014-06-08_18-46-44_260595134347_rgbf000068-resize_0/001056_2014-06-08_18-46-44_260595134347_rgbf000068-resize_0-original.jpg',\n",
       "   2.6625],\n",
       "  ['depth_duration_stimuli/002545_2014-06-24_13-38-53_094959634447_rgbf000080-resize_4/002545_2014-06-24_13-38-53_094959634447_rgbf000080-resize_4-original.jpg',\n",
       "   1.9205]],\n",
       " [['depth_duration_stimuli/002057_2014-06-24_21-00-13_260595134347_rgbf000120-resize_1/002057_2014-06-24_21-00-13_260595134347_rgbf000120-resize_1-original.jpg',\n",
       "   2.967],\n",
       "  ['depth_duration_stimuli/001584_2014-06-20_11-07-43_260595134347_rgbf000002-resize_1/001584_2014-06-20_11-07-43_260595134347_rgbf000002-resize_1-original.jpg',\n",
       "   3.5300000000000002]],\n",
       " [['depth_duration_stimuli/002213_2014-06-28_18-37-58_260595134347_rgbf000055-resize_1/002213_2014-06-28_18-37-58_260595134347_rgbf000055-resize_1-original.jpg',\n",
       "   3.62],\n",
       "  ['depth_duration_stimuli/002118_2014-06-25_20-32-08_260595134347_rgbf000078-resize_1/002118_2014-06-25_20-32-08_260595134347_rgbf000078-resize_1-original.jpg',\n",
       "   2.646]]]"
      ]
     },
     "execution_count": 930,
     "metadata": {},
     "output_type": "execute_result"
    }
   ],
   "source": [
    "discrim_trials = []\n",
    "\n",
    "for combo in final_picks:\n",
    "    i0 = combo[0]\n",
    "    i1 = combo[1]\n",
    "    dtrial = [sorted_VE_seq[i0], sorted_VE_seq[i1]]\n",
    "    discrim_trials.append(dtrial)\n",
    "\n",
    "discrim_trials"
   ]
  },
  {
   "cell_type": "code",
   "execution_count": 920,
   "metadata": {},
   "outputs": [
    {
     "data": {
      "text/plain": [
       "['depth_duration_stimuli/002750_2014-06-22_19-08-03_094959634447_rgbf000094-resize_4/002750_2014-06-22_19-08-03_094959634447_rgbf000094-resize_4-original.jpg',\n",
       " 2.354]"
      ]
     },
     "execution_count": 920,
     "metadata": {},
     "output_type": "execute_result"
    }
   ],
   "source": [
    "VE_seq[0]"
   ]
  },
  {
   "cell_type": "code",
   "execution_count": 918,
   "metadata": {},
   "outputs": [],
   "source": [
    "solution2 = copy.deepcopy(final_picks)\n",
    "\n",
    "solution2_arr = np.array(solution2)\n",
    "\n",
    "with open('solution2_discrimination.npy', 'wb') as f:\n",
    "    np.save(f, solution2_arr)"
   ]
  },
  {
   "cell_type": "code",
   "execution_count": 933,
   "metadata": {},
   "outputs": [],
   "source": [
    "# sol2_discrim_trials = []\n",
    "\n",
    "# for combo in solution2:\n",
    "#     i0 = combo[0]\n",
    "#     i1 = combo[1]\n",
    "#     dtrial = [VE_seq[i0], VE_seq[i1]]\n",
    "#     sol2_discrim_trials.append(dtrial)\n",
    "    \n",
    "    "
   ]
  },
  {
   "cell_type": "code",
   "execution_count": 925,
   "metadata": {},
   "outputs": [
    {
     "data": {
      "text/plain": [
       "[['depth_duration_stimuli/001447_2014-06-19_17-00-32_260595134347_rgbf000082-resize_5/001447_2014-06-19_17-00-32_260595134347_rgbf000082-resize_5-original.jpg',\n",
       "  4.1377500000000005],\n",
       " ['depth_duration_stimuli/001650_2014-06-20_12-09-00_260595134347_rgbf000087-resize_3/001650_2014-06-20_12-09-00_260595134347_rgbf000087-resize_3-original.jpg',\n",
       "  1.9505]]"
      ]
     },
     "execution_count": 925,
     "metadata": {},
     "output_type": "execute_result"
    }
   ],
   "source": [
    "sol2_discrim_trials[1]"
   ]
  },
  {
   "cell_type": "code",
   "execution_count": null,
   "metadata": {},
   "outputs": [],
   "source": []
  },
  {
   "cell_type": "code",
   "execution_count": 897,
   "metadata": {
    "jupyter": {
     "source_hidden": true
    }
   },
   "outputs": [],
   "source": [
    "solution1 = copy.deepcopy(final_picks)\n",
    "\n",
    "solution1_arr = np.array(solution1)"
   ]
  },
  {
   "cell_type": "code",
   "execution_count": 898,
   "metadata": {},
   "outputs": [],
   "source": [
    "with open('solution1_discrimination.npy', 'wb') as f:\n",
    "    np.save(f, solution1_arr)"
   ]
  },
  {
   "cell_type": "code",
   "execution_count": 932,
   "metadata": {},
   "outputs": [
    {
     "data": {
      "text/plain": [
       "array([101,  62])"
      ]
     },
     "execution_count": 932,
     "metadata": {},
     "output_type": "execute_result"
    }
   ],
   "source": [
    "solution1_arr[0]"
   ]
  },
  {
   "cell_type": "code",
   "execution_count": 935,
   "metadata": {},
   "outputs": [],
   "source": [
    "sol1_discrim_trials = []\n",
    "\n",
    "for combo in solution1:\n",
    "    i0 = combo[0]\n",
    "    i1 = combo[1]\n",
    "    dtrial = [sorted_VE_seq[i0], sorted_VE_seq[i1]]\n",
    "    sol1_discrim_trials.append(dtrial)\n",
    "\n",
    "    \n"
   ]
  },
  {
   "cell_type": "code",
   "execution_count": 936,
   "metadata": {},
   "outputs": [
    {
     "name": "stdout",
     "output_type": "stream",
     "text": [
      "0.47514366319444434 0.27721830645530593\n",
      "Power_divergenceResult(statistic=126.65087736653955, pvalue=0.016637978390927104)\n"
     ]
    },
    {
     "data": {
      "image/png": "[encoded data removed]",
      "text/plain": [
       "<Figure size 432x288 with 1 Axes>"
      ]
     },
     "metadata": {
      "needs_background": "light"
     },
     "output_type": "display_data"
    }
   ],
   "source": [
    "    \n",
    "# look at distribution of depth differences in the random sequence\n",
    "\n",
    "differences = []\n",
    "\n",
    "for trial in sol1_discrim_trials:\n",
    "    depth0 = float(trial[0][1])\n",
    "    depth1 = float(trial[1][1])\n",
    "    \n",
    "    diff = abs(depth0-depth1)\n",
    "    differences.append(diff)\n",
    "\n",
    "    \n",
    "    \n",
    "plt.figure()\n",
    "\n",
    "\n",
    "plt.hist(differences)\n",
    "plt.title('Distribution of Depth Differences')\n",
    "\n",
    "\n",
    "print(np.array(differences).mean(),np.array(differences).std())\n",
    "print(chisquare(differences, uniform))\n",
    "\n",
    "plt.show()"
   ]
  },
  {
   "cell_type": "code",
   "execution_count": 937,
   "metadata": {},
   "outputs": [
    {
     "name": "stdout",
     "output_type": "stream",
     "text": [
      "96\n"
     ]
    }
   ],
   "source": [
    "print(len(sol1_discrim_trials))"
   ]
  },
  {
   "cell_type": "code",
   "execution_count": 939,
   "metadata": {},
   "outputs": [
    {
     "data": {
      "text/plain": [
       "0.9937500000000004"
      ]
     },
     "execution_count": 939,
     "metadata": {},
     "output_type": "execute_result"
    }
   ],
   "source": [
    "np.array(differences).max()"
   ]
  },
  {
   "cell_type": "code",
   "execution_count": 941,
   "metadata": {},
   "outputs": [
    {
     "data": {
      "text/plain": [
       "[['depth_duration_stimuli/000854_2014-06-09_19-43-13_260595134347_rgbf000066-resize_0/000854_2014-06-09_19-43-13_260595134347_rgbf000066-resize_0-original.jpg',\n",
       "  3.068],\n",
       " ['depth_duration_stimuli/002750_2014-06-22_19-08-03_094959634447_rgbf000094-resize_4/002750_2014-06-22_19-08-03_094959634447_rgbf000094-resize_4-original.jpg',\n",
       "  2.354]]"
      ]
     },
     "execution_count": 941,
     "metadata": {},
     "output_type": "execute_result"
    }
   ],
   "source": [
    "sol1_discrim_trials[0]"
   ]
  },
  {
   "cell_type": "code",
   "execution_count": null,
   "metadata": {},
   "outputs": [],
   "source": []
  },
  {
   "cell_type": "markdown",
   "metadata": {},
   "source": [
    "## Load Raw TAC Verbal Judgement Data"
   ]
  },
  {
   "cell_type": "code",
   "execution_count": 946,
   "metadata": {},
   "outputs": [],
   "source": [
    "# TAC_raw_individual_trial_data_path  = '/Users/pmahableshwarkar/Documents/Depth_Project/depth_duration_analysis/TAC_npy_files/TAC_raw_individual_trial_data/'\n",
    "\n",
    "TAC_raw_individual_trial_data_path = '/Users/prachimahableshwarkar/Documents/GW/Depth_MTurk/depth_duration_analysis/TAC_npy_files/TAC_raw_individual_trial_data/'\n",
    "\n",
    "# x data\n",
    "with open(TAC_raw_individual_trial_data_path + 'X_250.npy' , 'rb') as f:\n",
    "    TAC_X_250 = np.load(f, allow_pickle=True)\n",
    "\n",
    "with open(TAC_raw_individual_trial_data_path + 'X_500.npy' , 'rb') as f:\n",
    "    TAC_X_500 = np.load(f, allow_pickle=True)\n",
    "    \n",
    "with open(TAC_raw_individual_trial_data_path + 'X_750.npy' , 'rb') as f:\n",
    "    TAC_X_750 = np.load(f, allow_pickle=True)\n",
    "\n",
    "with open(TAC_raw_individual_trial_data_path + 'X_1000.npy' , 'rb') as f:\n",
    "    TAC_X_1000 = np.load(f, allow_pickle=True)\n",
    "# y data \n",
    "with open(TAC_raw_individual_trial_data_path + 'final_y_250.npy' , 'rb') as f:\n",
    "    TAC_final_y_250 = np.load(f, allow_pickle=True)\n",
    "    \n",
    "with open(TAC_raw_individual_trial_data_path + 'final_y_500.npy' , 'rb') as f:\n",
    "    TAC_final_y_500 = np.load(f, allow_pickle=True)\n",
    "    \n",
    "with open(TAC_raw_individual_trial_data_path + 'final_y_750.npy' , 'rb') as f:\n",
    "    TAC_final_y_750 = np.load(f, allow_pickle=True)\n",
    "    \n",
    "with open(TAC_raw_individual_trial_data_path + 'final_y_1000.npy' , 'rb') as f:\n",
    "    TAC_final_y_1000= np.load(f, allow_pickle=True)\n",
    "    \n",
    "with open(TAC_raw_individual_trial_data_path + 'final_stim_250.npy', 'rb') as f:\n",
    "    TAC_final_stim_250 = np.load(f, allow_pickle=True)\n",
    "    \n",
    "with open(TAC_raw_individual_trial_data_path + 'final_stim_500.npy', 'rb') as f:\n",
    "    TAC_final_stim_500 = np.load(f, allow_pickle=True)\n",
    "    \n",
    "with open(TAC_raw_individual_trial_data_path + 'final_stim_750.npy', 'rb') as f:\n",
    "    TAC_final_stim_750 = np.load(f, allow_pickle=True)\n",
    "    \n",
    "with open(TAC_raw_individual_trial_data_path + 'final_stim_1000.npy', 'rb') as f:\n",
    "    TAC_final_stim_1000 = np.load(f, allow_pickle=True)\n",
    "    \n",
    "# std data\n",
    "with open(TAC_raw_individual_trial_data_path + 'std_250.npy' , 'rb') as f:\n",
    "    TAC_std_250 = np.load(f, allow_pickle=True)\n",
    "\n",
    "with open(TAC_raw_individual_trial_data_path + 'std_500.npy' , 'rb') as f:\n",
    "    TAC_std_500 = np.load(f, allow_pickle=True)\n",
    "    \n",
    "with open(TAC_raw_individual_trial_data_path + 'std_750.npy' , 'rb') as f:\n",
    "    TAC_std_750 = np.load(f, allow_pickle=True)\n",
    "\n",
    "with open(TAC_raw_individual_trial_data_path + 'std_1000.npy' , 'rb') as f:\n",
    "    TAC_std_1000 = np.load(f, allow_pickle=True)"
   ]
  },
  {
   "cell_type": "markdown",
   "metadata": {},
   "source": [
    "## Load Normalized TAC Verbal Judgement Data\n"
   ]
  },
  {
   "cell_type": "code",
   "execution_count": 947,
   "metadata": {},
   "outputs": [],
   "source": [
    "# TAC_normed_individual_trial_data_path = '/Users/pmahableshwarkar/Documents/Depth_Project/depth_duration_analysis/TAC_npy_files/TAC_normalized_individual_trial_data/'\n",
    "\n",
    "TAC_normed_individual_trial_data_path = '/Users/prachimahableshwarkar/Documents/GW/Depth_MTurk/depth_duration_analysis/TAC_npy_files/TAC_normalized_individual_trial_data/'\n",
    "\n",
    "# x data\n",
    "with open(TAC_normed_individual_trial_data_path + 'n_X_250.npy' , 'rb') as f:\n",
    "    n_TAC_X_250 = np.load(f, allow_pickle=True)\n",
    "\n",
    "with open(TAC_normed_individual_trial_data_path + 'n_X_500.npy' , 'rb') as f:\n",
    "    n_TAC_X_500 = np.load(f, allow_pickle=True)\n",
    "    \n",
    "with open(TAC_normed_individual_trial_data_path + 'n_X_750.npy' , 'rb') as f:\n",
    "    n_TAC_X_750 = np.load(f, allow_pickle=True)\n",
    "\n",
    "with open(TAC_normed_individual_trial_data_path + 'n_X_1000.npy' , 'rb') as f:\n",
    "    n_TAC_X_1000 = np.load(f, allow_pickle=True)\n",
    "# y data \n",
    "with open(TAC_normed_individual_trial_data_path + 'n_final_y_250.npy' , 'rb') as f:\n",
    "    n_TAC_final_y_250 = np.load(f, allow_pickle=True)\n",
    "    \n",
    "with open(TAC_normed_individual_trial_data_path + 'n_final_y_500.npy' , 'rb') as f:\n",
    "    n_TAC_final_y_500 = np.load(f, allow_pickle=True)\n",
    "    \n",
    "with open(TAC_normed_individual_trial_data_path + 'n_final_y_750.npy' , 'rb') as f:\n",
    "    n_TAC_final_y_750 = np.load(f, allow_pickle=True)\n",
    "    \n",
    "with open(TAC_normed_individual_trial_data_path + 'n_final_y_1000.npy' , 'rb') as f:\n",
    "    n_TAC_final_y_1000= np.load(f, allow_pickle=True)\n",
    "\n",
    "# std data\n",
    "with open(TAC_normed_individual_trial_data_path + 'n_std_250.npy' , 'rb') as f:\n",
    "    n_TAC_std_250 = np.load(f, allow_pickle=True)\n",
    "\n",
    "\n",
    "with open(TAC_normed_individual_trial_data_path + 'n_std_1000.npy' , 'rb') as f:\n",
    "    n_TAC_std_1000 = np.load(f, allow_pickle=True)\n",
    "    \n",
    "    \n",
    "# ste data\n",
    "with open(TAC_normed_individual_trial_data_path + 'n_ste_250.npy' , 'rb') as f:\n",
    "    n_TAC_ste_250 = np.load(f, allow_pickle=True)\n",
    "\n",
    "\n",
    "with open(TAC_normed_individual_trial_data_path + 'n_ste_1000.npy' , 'rb') as f:\n",
    "    n_TAC_ste_1000 = np.load(f, allow_pickle=True)"
   ]
  },
  {
   "cell_type": "code",
   "execution_count": 959,
   "metadata": {},
   "outputs": [
    {
     "data": {
      "text/plain": [
       "'depth_duration_stimuli/002272_2014-06-28_18-53-56_260595134347_rgbf000067-resize_2/002272_2014-06-28_18-53-56_260595134347_rgbf000067-resize_2-target.png'"
      ]
     },
     "execution_count": 959,
     "metadata": {},
     "output_type": "execute_result"
    }
   ],
   "source": [
    "TAC_final_stim_1000[0]"
   ]
  },
  {
   "cell_type": "code",
   "execution_count": 958,
   "metadata": {},
   "outputs": [
    {
     "data": {
      "text/plain": [
       "'depth_duration_stimuli/000854_2014-06-09_19-43-13_260595134347_rgbf000066-resize_0/000854_2014-06-09_19-43-13_260595134347_rgbf000066-resize_0'"
      ]
     },
     "execution_count": 958,
     "metadata": {},
     "output_type": "execute_result"
    }
   ],
   "source": [
    "sol1_discrim_trials[0][0][0][:-13]"
   ]
  },
  {
   "cell_type": "code",
   "execution_count": 965,
   "metadata": {},
   "outputs": [],
   "source": [
    "n_VE_answerkey_1000 = {} # corresponding answer key for discrimination trials  \n",
    "\n",
    "for combo in sol1_discrim_trials:\n",
    "    depth_dur_path0 = combo[0][0][:-13] + '-target.png'\n",
    "    targetimg0 = depth_dur_path0.split('/')[-1]\n",
    "    idx0 = np.where(TAC_final_stim_1000 == depth_dur_path0)[0][0]\n",
    "    avg_estim_stim0 = n_TAC_final_y_1000[idx0]\n",
    "    std0 = n_TAC_std_1000[idx0]\n",
    "\n",
    "\n",
    "    depth_dur_path1 = combo[1][0][:-13] + '-target.png'\n",
    "    targetimg1 = depth_dur_path1.split('/')[-1]\n",
    "    idx1= np.where(TAC_final_stim_1000 == depth_dur_path1)[0][0]\n",
    "    avg_estim_stim1 = n_TAC_final_y_1000[idx1]\n",
    "    std1 = n_TAC_std_1000[idx1]\n",
    "    \n",
    "    if avg_estim_stim0 < avg_estim_stim1:\n",
    "        # Which target is CLOSER to you?\n",
    "        answer = targetimg0\n",
    "    if avg_estim_stim0 == avg_estim_stim1:\n",
    "        print(targetimg0, targetimg1)\n",
    "    if avg_estim_stim0 > avg_estim_stim1:\n",
    "        answer = targetimg1\n",
    "\n",
    "    n_VE_answerkey_1000[targetimg0] = {'stimulus_1': targetimg1,\n",
    "                             'stimulus_0_avg_estim': avg_estim_stim0,\n",
    "                             'stimulus_1_avg_estim': avg_estim_stim1,\n",
    "                             'answer': answer,\n",
    "                             'std0': std0,\n",
    "                             'std1': std1,\n",
    "                             'VE_depth_diff': abs(avg_estim_stim0-avg_estim_stim1)}"
   ]
  },
  {
   "cell_type": "code",
   "execution_count": null,
   "metadata": {},
   "outputs": [],
   "source": []
  },
  {
   "cell_type": "code",
   "execution_count": null,
   "metadata": {},
   "outputs": [],
   "source": []
  }
 ],
 "metadata": {
  "kernelspec": {
   "display_name": "Python 3",
   "language": "python",
   "name": "python3"
  },
  "language_info": {
   "codemirror_mode": {
    "name": "ipython",
    "version": 3
   },
   "file_extension": ".py",
   "mimetype": "text/x-python",
   "name": "python",
   "nbconvert_exporter": "python",
   "pygments_lexer": "ipython3",
   "version": "3.7.5"
  }
 },
 "nbformat": 4,
 "nbformat_minor": 4
}
