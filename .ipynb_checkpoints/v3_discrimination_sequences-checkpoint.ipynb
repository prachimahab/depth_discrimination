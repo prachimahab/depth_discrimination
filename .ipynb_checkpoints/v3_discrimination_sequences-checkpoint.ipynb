{
 "cells": [
  {
   "cell_type": "markdown",
   "metadata": {},
   "source": [
    "# Between Subject Counterbalanced Discrimination Sequences \n",
    "\n",
    "- use all 192 images from the verbal judgement sequences\n",
    "- randomly pick discriminations \n",
    "- try to ensure that the depth differences are evenly distributed "
   ]
  },
  {
   "cell_type": "code",
   "execution_count": 75,
   "metadata": {},
   "outputs": [],
   "source": [
    "import json \n",
    "import numpy as np \n",
    "import pandas as pd\n",
    "import csv\n",
    "import random\n",
    "import matplotlib.pyplot as plt\n",
    "import copy"
   ]
  },
  {
   "cell_type": "code",
   "execution_count": 5,
   "metadata": {},
   "outputs": [],
   "source": [
    "p0 = '/Users/prachimahableshwarkar/Documents/GW/Depth_MTurk/depth_duration_MTurk/jsons/a.json'\n",
    "\n",
    "with open(p0) as f:\n",
    "    seq_a = json.load(f)"
   ]
  },
  {
   "cell_type": "code",
   "execution_count": 22,
   "metadata": {},
   "outputs": [],
   "source": [
    "VE_seq = []\n",
    "\n",
    "for trial in seq_a:\n",
    "    if trial['sequence'] != 'catch_trial':\n",
    "        img = trial['image_path']\n",
    "        depth = trial['depth']\n",
    "\n",
    "        VE_seq.append([img, depth])\n",
    "\n",
    "VE_seq_arr = np.array(VE_seq)"
   ]
  },
  {
   "cell_type": "code",
   "execution_count": null,
   "metadata": {},
   "outputs": [],
   "source": []
  },
  {
   "cell_type": "code",
   "execution_count": 170,
   "metadata": {},
   "outputs": [
    {
     "data": {
      "image/png": "[encoded data removed]",
      "text/plain": [
       "<Figure size 432x288 with 1 Axes>"
      ]
     },
     "metadata": {
      "needs_background": "light"
     },
     "output_type": "display_data"
    }
   ],
   "source": [
    "# indeces to VE trials \n",
    "indeces = np.arange(0,192)\n",
    "# randomly shuffle the order so that discrimination trials can be made \n",
    "random.shuffle(indeces)\n",
    "\n",
    "# make groups of two (discrimination trials)\n",
    "picks = [indeces[i:i + 2] for i in range(0, len(indeces), 2)] \n",
    "\n",
    "# list of discrimination trials based on random picks\n",
    "discriminations = []\n",
    "\n",
    "for combo in picks:\n",
    "    img0 = VE_seq_arr[combo[0]]\n",
    "    img1 = VE_seq_arr[combo[1]]\n",
    "    discriminations.append([img0, img1])\n",
    "    \n",
    "# look at distribution of depth differences in the random sequence\n",
    "\n",
    "differences = []\n",
    "\n",
    "for trial in discriminations:\n",
    "    depth0 = float(trial[0][1])\n",
    "    depth1 = float(trial[1][1])\n",
    "    \n",
    "    diff = abs(depth0-depth1)\n",
    "    differences.append(diff)\n",
    "\n",
    "plt.figure()\n",
    "\n",
    "plt.hist(differences)\n",
    "plt.title('Distribution of Depth Differences')\n",
    "\n",
    "\n",
    "plt.show()"
   ]
  },
  {
   "cell_type": "code",
   "execution_count": null,
   "metadata": {},
   "outputs": [],
   "source": []
  },
  {
   "cell_type": "code",
   "execution_count": null,
   "metadata": {},
   "outputs": [],
   "source": []
  },
  {
   "cell_type": "code",
   "execution_count": 79,
   "metadata": {},
   "outputs": [],
   "source": [
    "option1 = copy.deepcopy(discriminations)\n",
    "option1_differences = copy.deepcopy(differences)"
   ]
  },
  {
   "cell_type": "code",
   "execution_count": 80,
   "metadata": {},
   "outputs": [
    {
     "data": {
      "image/png": "[encoded data removed]",
      "text/plain": [
       "<Figure size 432x288 with 1 Axes>"
      ]
     },
     "metadata": {
      "needs_background": "light"
     },
     "output_type": "display_data"
    }
   ],
   "source": [
    "plt.figure()\n",
    "\n",
    "plt.hist(option1_differences)\n",
    "plt.title('Distribution of Depth Differences')\n",
    "\n",
    "\n",
    "plt.show()"
   ]
  },
  {
   "cell_type": "code",
   "execution_count": 88,
   "metadata": {},
   "outputs": [],
   "source": [
    "option2 = copy.deepcopy(discriminations)\n",
    "option2_differences = copy.deepcopy(differences)"
   ]
  },
  {
   "cell_type": "code",
   "execution_count": 89,
   "metadata": {},
   "outputs": [
    {
     "data": {
      "image/png": "[encoded data removed]",
      "text/plain": [
       "<Figure size 432x288 with 1 Axes>"
      ]
     },
     "metadata": {
      "needs_background": "light"
     },
     "output_type": "display_data"
    }
   ],
   "source": [
    "plt.figure()\n",
    "\n",
    "plt.hist(option2_differences)\n",
    "plt.title('Distribution of Depth Differences')\n",
    "\n",
    "\n",
    "plt.show()"
   ]
  },
  {
   "cell_type": "code",
   "execution_count": 171,
   "metadata": {},
   "outputs": [],
   "source": [
    "option3 = copy.deepcopy(discriminations)\n",
    "option3_differences = copy.deepcopy(differences)"
   ]
  },
  {
   "cell_type": "code",
   "execution_count": 172,
   "metadata": {},
   "outputs": [
    {
     "data": {
      "image/png": "[encoded data removed]",
      "text/plain": [
       "<Figure size 432x288 with 1 Axes>"
      ]
     },
     "metadata": {
      "needs_background": "light"
     },
     "output_type": "display_data"
    }
   ],
   "source": [
    "plt.figure()\n",
    "\n",
    "plt.hist(option3_differences)\n",
    "plt.title('Distribution of Depth Differences')\n",
    "\n",
    "\n",
    "plt.show()"
   ]
  },
  {
   "cell_type": "code",
   "execution_count": null,
   "metadata": {},
   "outputs": [],
   "source": []
  },
  {
   "cell_type": "code",
   "execution_count": null,
   "metadata": {},
   "outputs": [],
   "source": []
  }
 ],
 "metadata": {
  "kernelspec": {
   "display_name": "Python 3",
   "language": "python",
   "name": "python3"
  },
  "language_info": {
   "codemirror_mode": {
    "name": "ipython",
    "version": 3
   },
   "file_extension": ".py",
   "mimetype": "text/x-python",
   "name": "python",
   "nbconvert_exporter": "python",
   "pygments_lexer": "ipython3",
   "version": "3.7.5"
  }
 },
 "nbformat": 4,
 "nbformat_minor": 4
}
