{
 "cells": [
  {
   "cell_type": "markdown",
   "metadata": {},
   "source": [
    "# New Catch Trial Design:\n",
    "\n",
    "Catch trials previously were 'easy' depth discrimination trials. In this new version, catch trials will not be related to the task at hand. Participants will respond 'spacebar' if stimulus 1 and stimulus 2 are the same image. This will function as an attention check that is independent of depth discrimination skill. "
   ]
  },
  {
   "cell_type": "code",
   "execution_count": 17,
   "metadata": {},
   "outputs": [],
   "source": [
    "import json \n",
    "import os\n",
    "import numpy as np \n",
    "import copy"
   ]
  },
  {
   "cell_type": "code",
   "execution_count": 34,
   "metadata": {},
   "outputs": [],
   "source": [
    "jp = '/Users/prachimahableshwarkar/Documents/GW/Depth_MTurk/depth_discrimination/depth_discrimination_MTurk/discrim_jsons'\n",
    "\n"
   ]
  },
  {
   "cell_type": "code",
   "execution_count": 27,
   "metadata": {},
   "outputs": [],
   "source": [
    "def change_catch_trials(sequence):\n",
    "    new_sequence = copy.deepcopy(sequence) \n",
    "    for i in range(len(new_sequence)):\n",
    "        if new_sequence[i]['sequence'] == 'catch_trial':\n",
    "            new_sequence[i]['depth_1'] = new_sequence[i]['depth_0']\n",
    "            new_sequence[i]['image_path_target_1'] = new_sequence[i]['image_path_target_0']\n",
    "    \n",
    "    return new_sequence"
   ]
  },
  {
   "cell_type": "code",
   "execution_count": 37,
   "metadata": {},
   "outputs": [
    {
     "name": "stdout",
     "output_type": "stream",
     "text": [
      "/Users/prachimahableshwarkar/Documents/GW/Depth_MTurk/depth_discrimination/v2_depth_discrimination_MTurk/discrim_jsons/v2_shuffled_g0.json\n",
      "/Users/prachimahableshwarkar/Documents/GW/Depth_MTurk/depth_discrimination/v2_depth_discrimination_MTurk/discrim_jsons/v2_shuffled_g0_rotated_dr.json\n",
      "/Users/prachimahableshwarkar/Documents/GW/Depth_MTurk/depth_discrimination/v2_depth_discrimination_MTurk/discrim_jsons/v2_shuffled_g0_dr.json\n",
      "/Users/prachimahableshwarkar/Documents/GW/Depth_MTurk/depth_discrimination/v2_depth_discrimination_MTurk/discrim_jsons/v2_shuffled_g0_rotated.json\n"
     ]
    }
   ],
   "source": [
    "destination = '/Users/prachimahableshwarkar/Documents/GW/Depth_MTurk/depth_discrimination/v2_depth_discrimination_MTurk/discrim_jsons'\n",
    "for seq in os.listdir(jp):\n",
    "    p = jp + '/' + seq\n",
    "    if '.DS_Store' not in p:   \n",
    "        if '.ipynb_checkpoints' not in p:\n",
    "            with open(p) as f:\n",
    "                seq_data = json.load(f)\n",
    "                new_seq_data = change_catch_trials(seq_data)\n",
    "                seqdata = destination + '/' + 'v2_' + seq\n",
    "                print(seqdata)\n",
    "                with open(seqdata, 'w') as outfile:\n",
    "                    json.dump(new_seq_data, outfile)\n",
    "                \n"
   ]
  },
  {
   "cell_type": "code",
   "execution_count": null,
   "metadata": {},
   "outputs": [],
   "source": []
  }
 ],
 "metadata": {
  "kernelspec": {
   "display_name": "Python 3",
   "language": "python",
   "name": "python3"
  },
  "language_info": {
   "codemirror_mode": {
    "name": "ipython",
    "version": 3
   },
   "file_extension": ".py",
   "mimetype": "text/x-python",
   "name": "python",
   "nbconvert_exporter": "python",
   "pygments_lexer": "ipython3",
   "version": "3.7.5"
  }
 },
 "nbformat": 4,
 "nbformat_minor": 4
}
