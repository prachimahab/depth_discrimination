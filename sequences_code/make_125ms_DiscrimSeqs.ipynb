{
 "cells": [
  {
   "cell_type": "markdown",
   "metadata": {},
   "source": [
    "# Make 125ms Discrimination Sequences"
   ]
  },
  {
   "cell_type": "code",
   "execution_count": 6,
   "metadata": {},
   "outputs": [],
   "source": [
    "import os\n",
    "import json\n",
    "import copy"
   ]
  },
  {
   "cell_type": "code",
   "execution_count": 26,
   "metadata": {},
   "outputs": [],
   "source": [
    "dest = '/Users/prachi/Documents/depth_duration/depth_discrimination/discrimination_sequences/v2_randls_sequences_042022/125ms/'\n",
    "src = '/Users/prachi/Documents/depth_duration/depth_discrimination/discrimination_sequences/v2_randls_sequences_042022/250ms'"
   ]
  },
  {
   "cell_type": "code",
   "execution_count": 27,
   "metadata": {},
   "outputs": [],
   "source": [
    "for seq in os.listdir(src):\n",
    "    if 'json' in seq:\n",
    "        f = open(src + '/' + seq)\n",
    "        data = json.load(f)\n",
    "        \n",
    "        new_seq = copy.deepcopy(data)\n",
    "        for trial in new_seq:\n",
    "            if trial['sequence'] != 'catch_trial':\n",
    "                trial['sequence'] = seq.split('.')[0]\n",
    "#             else:\n",
    "#                 print(trial['image_path_target_0'] == trial['image_path_target_1'])\n",
    "            trial['duration'] = 125\n",
    "        j_dest = dest + 'Discrim125_' + seq[11:]\n",
    "        with open(j_dest, 'w') as f:\n",
    "            json.dump(new_seq , f)\n",
    "            "
   ]
  },
  {
   "cell_type": "code",
   "execution_count": null,
   "metadata": {},
   "outputs": [],
   "source": []
  }
 ],
 "metadata": {
  "kernelspec": {
   "display_name": "Python 3",
   "language": "python",
   "name": "python3"
  },
  "language_info": {
   "codemirror_mode": {
    "name": "ipython",
    "version": 3
   },
   "file_extension": ".py",
   "mimetype": "text/x-python",
   "name": "python",
   "nbconvert_exporter": "python",
   "pygments_lexer": "ipython3",
   "version": "3.6.1"
  }
 },
 "nbformat": 4,
 "nbformat_minor": 4
}
