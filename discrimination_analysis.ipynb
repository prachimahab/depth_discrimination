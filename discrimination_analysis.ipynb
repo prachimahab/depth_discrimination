{
 "cells": [
  {
   "cell_type": "markdown",
   "metadata": {},
   "source": [
    "# TAC Depth Discrimination Analysis "
   ]
  },
  {
   "cell_type": "code",
   "execution_count": 1,
   "metadata": {},
   "outputs": [],
   "source": [
    "import os \n",
    "import pandas as pd\n",
    "import numpy as np\n",
    "import math\n",
    "import matplotlib.pyplot as plt\n",
    "import scipy \n",
    "import scipy.stats as stats\n",
    "from scipy.stats import sem \n",
    "from mpl_toolkits.mplot3d import Axes3D # <--- This is important for 3d plotting \n"
   ]
  },
  {
   "cell_type": "code",
   "execution_count": 2,
   "metadata": {},
   "outputs": [],
   "source": [
    "def combineCSVs(datafolder, num_discrim_trials):\n",
    "    \"\"\"\n",
    "    Combine all participant data into one pandas df\n",
    "    OR \n",
    "    Create df for single participant file \n",
    "    \n",
    "    returns:\n",
    "        (1) combined dataframe of all discrimination data \n",
    "        (2) combined dataframe of all scene property rating data \n",
    "    \"\"\"\n",
    "    #checks if path is a file\n",
    "    isFile = os.path.isfile(datafolder)\n",
    "\n",
    "    #checks if path is a directory\n",
    "    \n",
    "    isDirectory = os.path.isdir(datafolder)\n",
    "    \n",
    "    if isDirectory == True:\n",
    "        discrim_data = []\n",
    "        properties_data = []\n",
    "        for filename in os.listdir(datafolder):\n",
    "            if 'csv' in filename:\n",
    "                path = datafolder + \"/\" + filename\n",
    "                df = pd.read_csv(path, index_col=None, header=0)\n",
    "                \n",
    "                df_discrim = df[0:num_discrim_trials]\n",
    "                discrim_data.append(df_discrim)\n",
    "                # row 96 should be ignored - artifact of logging \n",
    "                df_properties = df[num_discrim_trials+1:]\n",
    "                properties_data.append(df_properties)\n",
    "                \n",
    "\n",
    "        discrim_frame = pd.concat(discrim_data, axis=0, ignore_index=True)\n",
    "        properties_frame = pd.concat(properties_data, axis=0, ignore_index=True)\n",
    "        \n",
    "    if isFile == True:\n",
    "        if 'csv' in datafolder:\n",
    "            df = pd.read_csv(datafolder, index_col=None, header=0)\n",
    "            df_discrim = df[0:num_discrim_trials]\n",
    "            discrim_data.append(df_discrim)\n",
    "            # row 96 should be ignored - artifact of logging \n",
    "            df_properties = df[num_discrim_trials+1:]\n",
    "            properties_data.append(df_properties)\n",
    " \n",
    "    return discrim_frame, properties_frame"
   ]
  },
  {
   "cell_type": "code",
   "execution_count": 4,
   "metadata": {},
   "outputs": [],
   "source": [
    "\n",
    "# data_path = '/Users/prachimahableshwarkar/Documents/GW/FacialAge/FacialAge_MTurk/BNav_EC2/DepthDuration/v2_depth_discrimination_MTurk/data'\n",
    "\n",
    "# data_path = '/Users/prachi/Documents/depth_duration/target_at_center/january2022_data/discrim_data'\n",
    "\n",
    "data_path = '/Users/pmahableshwarkar/Documents/Depth_Project/DATA/0_2022_discrim'"
   ]
  },
  {
   "cell_type": "code",
   "execution_count": 5,
   "metadata": {},
   "outputs": [],
   "source": [
    "raw_discrim, raw_ratings = combineCSVs(data_path, 100)"
   ]
  },
  {
   "cell_type": "code",
   "execution_count": 6,
   "metadata": {},
   "outputs": [
    {
     "data": {
      "text/plain": [
       "203"
      ]
     },
     "execution_count": 6,
     "metadata": {},
     "output_type": "execute_result"
    }
   ],
   "source": [
    "all_subjIDs = raw_discrim.subjID.unique()\n",
    "len(all_subjIDs)"
   ]
  },
  {
   "cell_type": "code",
   "execution_count": 7,
   "metadata": {},
   "outputs": [
    {
     "data": {
      "text/html": [
       "<div>\n",
       "<style scoped>\n",
       "    .dataframe tbody tr th:only-of-type {\n",
       "        vertical-align: middle;\n",
       "    }\n",
       "\n",
       "    .dataframe tbody tr th {\n",
       "        vertical-align: top;\n",
       "    }\n",
       "\n",
       "    .dataframe thead th {\n",
       "        text-align: right;\n",
       "    }\n",
       "</style>\n",
       "<table border=\"1\" class=\"dataframe\">\n",
       "  <thead>\n",
       "    <tr style=\"text-align: right;\">\n",
       "      <th></th>\n",
       "      <th>subjID</th>\n",
       "      <th>experimentName</th>\n",
       "      <th>versionName</th>\n",
       "      <th>sequenceName</th>\n",
       "      <th>url</th>\n",
       "      <th>selected_row</th>\n",
       "      <th>windowWidth</th>\n",
       "      <th>windowHeight</th>\n",
       "      <th>screenWidth</th>\n",
       "      <th>screenHeight</th>\n",
       "      <th>...</th>\n",
       "      <th>trial_RT</th>\n",
       "      <th>log_fixation</th>\n",
       "      <th>log_sceneDuration1</th>\n",
       "      <th>log_mask1</th>\n",
       "      <th>log_sceneDuration2</th>\n",
       "      <th>log_mask2</th>\n",
       "      <th>experimentTime</th>\n",
       "      <th>totalTime</th>\n",
       "      <th>age</th>\n",
       "      <th>gender</th>\n",
       "    </tr>\n",
       "  </thead>\n",
       "  <tbody>\n",
       "    <tr>\n",
       "      <th>0</th>\n",
       "      <td>628938.0</td>\n",
       "      <td>DepthScenes</td>\n",
       "      <td>v2_duration_discrimination</td>\n",
       "      <td>discrim_jsons/Discrim250_randls_44.json</td>\n",
       "      <td>http://54.173.230.142/FacialAge/BNav_EC2/Depth...</td>\n",
       "      <td>3.0</td>\n",
       "      <td>1920.0</td>\n",
       "      <td>942.0</td>\n",
       "      <td>1536.0</td>\n",
       "      <td>864.0</td>\n",
       "      <td>...</td>\n",
       "      <td>2586.0</td>\n",
       "      <td>1021.0</td>\n",
       "      <td>240.0</td>\n",
       "      <td>1001.0</td>\n",
       "      <td>249.0</td>\n",
       "      <td>503.0</td>\n",
       "      <td>NaN</td>\n",
       "      <td>1948018</td>\n",
       "      <td>24</td>\n",
       "      <td>Man</td>\n",
       "    </tr>\n",
       "    <tr>\n",
       "      <th>1</th>\n",
       "      <td>628938.0</td>\n",
       "      <td>DepthScenes</td>\n",
       "      <td>v2_duration_discrimination</td>\n",
       "      <td>discrim_jsons/Discrim250_randls_44.json</td>\n",
       "      <td>http://54.173.230.142/FacialAge/BNav_EC2/Depth...</td>\n",
       "      <td>3.0</td>\n",
       "      <td>1920.0</td>\n",
       "      <td>942.0</td>\n",
       "      <td>1536.0</td>\n",
       "      <td>864.0</td>\n",
       "      <td>...</td>\n",
       "      <td>2655.0</td>\n",
       "      <td>1014.0</td>\n",
       "      <td>250.0</td>\n",
       "      <td>994.0</td>\n",
       "      <td>269.0</td>\n",
       "      <td>484.0</td>\n",
       "      <td>NaN</td>\n",
       "      <td>1948018</td>\n",
       "      <td>24</td>\n",
       "      <td>Man</td>\n",
       "    </tr>\n",
       "    <tr>\n",
       "      <th>2</th>\n",
       "      <td>628938.0</td>\n",
       "      <td>DepthScenes</td>\n",
       "      <td>v2_duration_discrimination</td>\n",
       "      <td>discrim_jsons/Discrim250_randls_44.json</td>\n",
       "      <td>http://54.173.230.142/FacialAge/BNav_EC2/Depth...</td>\n",
       "      <td>3.0</td>\n",
       "      <td>1920.0</td>\n",
       "      <td>942.0</td>\n",
       "      <td>1536.0</td>\n",
       "      <td>864.0</td>\n",
       "      <td>...</td>\n",
       "      <td>4081.0</td>\n",
       "      <td>1001.0</td>\n",
       "      <td>256.0</td>\n",
       "      <td>1002.0</td>\n",
       "      <td>251.0</td>\n",
       "      <td>489.0</td>\n",
       "      <td>NaN</td>\n",
       "      <td>1948018</td>\n",
       "      <td>24</td>\n",
       "      <td>Man</td>\n",
       "    </tr>\n",
       "    <tr>\n",
       "      <th>3</th>\n",
       "      <td>628938.0</td>\n",
       "      <td>DepthScenes</td>\n",
       "      <td>v2_duration_discrimination</td>\n",
       "      <td>discrim_jsons/Discrim250_randls_44.json</td>\n",
       "      <td>http://54.173.230.142/FacialAge/BNav_EC2/Depth...</td>\n",
       "      <td>3.0</td>\n",
       "      <td>1920.0</td>\n",
       "      <td>942.0</td>\n",
       "      <td>1536.0</td>\n",
       "      <td>864.0</td>\n",
       "      <td>...</td>\n",
       "      <td>2040.0</td>\n",
       "      <td>1007.0</td>\n",
       "      <td>242.0</td>\n",
       "      <td>1014.0</td>\n",
       "      <td>247.0</td>\n",
       "      <td>503.0</td>\n",
       "      <td>NaN</td>\n",
       "      <td>1948018</td>\n",
       "      <td>24</td>\n",
       "      <td>Man</td>\n",
       "    </tr>\n",
       "    <tr>\n",
       "      <th>4</th>\n",
       "      <td>628938.0</td>\n",
       "      <td>DepthScenes</td>\n",
       "      <td>v2_duration_discrimination</td>\n",
       "      <td>discrim_jsons/Discrim250_randls_44.json</td>\n",
       "      <td>http://54.173.230.142/FacialAge/BNav_EC2/Depth...</td>\n",
       "      <td>3.0</td>\n",
       "      <td>1920.0</td>\n",
       "      <td>942.0</td>\n",
       "      <td>1536.0</td>\n",
       "      <td>864.0</td>\n",
       "      <td>...</td>\n",
       "      <td>1973.0</td>\n",
       "      <td>1012.0</td>\n",
       "      <td>244.0</td>\n",
       "      <td>1003.0</td>\n",
       "      <td>239.0</td>\n",
       "      <td>500.0</td>\n",
       "      <td>NaN</td>\n",
       "      <td>1948018</td>\n",
       "      <td>24</td>\n",
       "      <td>Man</td>\n",
       "    </tr>\n",
       "    <tr>\n",
       "      <th>...</th>\n",
       "      <td>...</td>\n",
       "      <td>...</td>\n",
       "      <td>...</td>\n",
       "      <td>...</td>\n",
       "      <td>...</td>\n",
       "      <td>...</td>\n",
       "      <td>...</td>\n",
       "      <td>...</td>\n",
       "      <td>...</td>\n",
       "      <td>...</td>\n",
       "      <td>...</td>\n",
       "      <td>...</td>\n",
       "      <td>...</td>\n",
       "      <td>...</td>\n",
       "      <td>...</td>\n",
       "      <td>...</td>\n",
       "      <td>...</td>\n",
       "      <td>...</td>\n",
       "      <td>...</td>\n",
       "      <td>...</td>\n",
       "      <td>...</td>\n",
       "    </tr>\n",
       "    <tr>\n",
       "      <th>20295</th>\n",
       "      <td>425814.0</td>\n",
       "      <td>DepthScenes</td>\n",
       "      <td>v2_duration_discrimination</td>\n",
       "      <td>discrim_jsons/Discrim1000_randls_40.json</td>\n",
       "      <td>http://54.173.230.142/FacialAge/BNav_EC2/Depth...</td>\n",
       "      <td>54.0</td>\n",
       "      <td>1708.0</td>\n",
       "      <td>821.0</td>\n",
       "      <td>1366.0</td>\n",
       "      <td>768.0</td>\n",
       "      <td>...</td>\n",
       "      <td>17884.0</td>\n",
       "      <td>1889.0</td>\n",
       "      <td>1167.0</td>\n",
       "      <td>25.0</td>\n",
       "      <td>1191.0</td>\n",
       "      <td>415.0</td>\n",
       "      <td>NaN</td>\n",
       "      <td>1610820</td>\n",
       "      <td>35</td>\n",
       "      <td>Woman</td>\n",
       "    </tr>\n",
       "    <tr>\n",
       "      <th>20296</th>\n",
       "      <td>425814.0</td>\n",
       "      <td>DepthScenes</td>\n",
       "      <td>v2_duration_discrimination</td>\n",
       "      <td>discrim_jsons/Discrim1000_randls_40.json</td>\n",
       "      <td>http://54.173.230.142/FacialAge/BNav_EC2/Depth...</td>\n",
       "      <td>54.0</td>\n",
       "      <td>1708.0</td>\n",
       "      <td>821.0</td>\n",
       "      <td>1366.0</td>\n",
       "      <td>768.0</td>\n",
       "      <td>...</td>\n",
       "      <td>4719.0</td>\n",
       "      <td>1570.0</td>\n",
       "      <td>746.0</td>\n",
       "      <td>755.0</td>\n",
       "      <td>930.0</td>\n",
       "      <td>549.0</td>\n",
       "      <td>NaN</td>\n",
       "      <td>1610820</td>\n",
       "      <td>35</td>\n",
       "      <td>Woman</td>\n",
       "    </tr>\n",
       "    <tr>\n",
       "      <th>20297</th>\n",
       "      <td>425814.0</td>\n",
       "      <td>DepthScenes</td>\n",
       "      <td>v2_duration_discrimination</td>\n",
       "      <td>discrim_jsons/Discrim1000_randls_40.json</td>\n",
       "      <td>http://54.173.230.142/FacialAge/BNav_EC2/Depth...</td>\n",
       "      <td>54.0</td>\n",
       "      <td>1708.0</td>\n",
       "      <td>821.0</td>\n",
       "      <td>1366.0</td>\n",
       "      <td>768.0</td>\n",
       "      <td>...</td>\n",
       "      <td>10071.0</td>\n",
       "      <td>1000.0</td>\n",
       "      <td>1000.0</td>\n",
       "      <td>1877.0</td>\n",
       "      <td>291.0</td>\n",
       "      <td>330.0</td>\n",
       "      <td>NaN</td>\n",
       "      <td>1610820</td>\n",
       "      <td>35</td>\n",
       "      <td>Woman</td>\n",
       "    </tr>\n",
       "    <tr>\n",
       "      <th>20298</th>\n",
       "      <td>425814.0</td>\n",
       "      <td>DepthScenes</td>\n",
       "      <td>v2_duration_discrimination</td>\n",
       "      <td>discrim_jsons/Discrim1000_randls_40.json</td>\n",
       "      <td>http://54.173.230.142/FacialAge/BNav_EC2/Depth...</td>\n",
       "      <td>54.0</td>\n",
       "      <td>1708.0</td>\n",
       "      <td>821.0</td>\n",
       "      <td>1366.0</td>\n",
       "      <td>768.0</td>\n",
       "      <td>...</td>\n",
       "      <td>4379.0</td>\n",
       "      <td>1078.0</td>\n",
       "      <td>920.0</td>\n",
       "      <td>997.0</td>\n",
       "      <td>1727.0</td>\n",
       "      <td>22.0</td>\n",
       "      <td>NaN</td>\n",
       "      <td>1610820</td>\n",
       "      <td>35</td>\n",
       "      <td>Woman</td>\n",
       "    </tr>\n",
       "    <tr>\n",
       "      <th>20299</th>\n",
       "      <td>425814.0</td>\n",
       "      <td>DepthScenes</td>\n",
       "      <td>v2_duration_discrimination</td>\n",
       "      <td>discrim_jsons/Discrim1000_randls_40.json</td>\n",
       "      <td>http://54.173.230.142/FacialAge/BNav_EC2/Depth...</td>\n",
       "      <td>54.0</td>\n",
       "      <td>1708.0</td>\n",
       "      <td>821.0</td>\n",
       "      <td>1366.0</td>\n",
       "      <td>768.0</td>\n",
       "      <td>...</td>\n",
       "      <td>3612.0</td>\n",
       "      <td>1001.0</td>\n",
       "      <td>1000.0</td>\n",
       "      <td>1129.0</td>\n",
       "      <td>864.0</td>\n",
       "      <td>543.0</td>\n",
       "      <td>NaN</td>\n",
       "      <td>1610820</td>\n",
       "      <td>35</td>\n",
       "      <td>Woman</td>\n",
       "    </tr>\n",
       "  </tbody>\n",
       "</table>\n",
       "<p>20300 rows × 29 columns</p>\n",
       "</div>"
      ],
      "text/plain": [
       "         subjID experimentName                 versionName  \\\n",
       "0      628938.0    DepthScenes  v2_duration_discrimination   \n",
       "1      628938.0    DepthScenes  v2_duration_discrimination   \n",
       "2      628938.0    DepthScenes  v2_duration_discrimination   \n",
       "3      628938.0    DepthScenes  v2_duration_discrimination   \n",
       "4      628938.0    DepthScenes  v2_duration_discrimination   \n",
       "...         ...            ...                         ...   \n",
       "20295  425814.0    DepthScenes  v2_duration_discrimination   \n",
       "20296  425814.0    DepthScenes  v2_duration_discrimination   \n",
       "20297  425814.0    DepthScenes  v2_duration_discrimination   \n",
       "20298  425814.0    DepthScenes  v2_duration_discrimination   \n",
       "20299  425814.0    DepthScenes  v2_duration_discrimination   \n",
       "\n",
       "                                   sequenceName  \\\n",
       "0       discrim_jsons/Discrim250_randls_44.json   \n",
       "1       discrim_jsons/Discrim250_randls_44.json   \n",
       "2       discrim_jsons/Discrim250_randls_44.json   \n",
       "3       discrim_jsons/Discrim250_randls_44.json   \n",
       "4       discrim_jsons/Discrim250_randls_44.json   \n",
       "...                                         ...   \n",
       "20295  discrim_jsons/Discrim1000_randls_40.json   \n",
       "20296  discrim_jsons/Discrim1000_randls_40.json   \n",
       "20297  discrim_jsons/Discrim1000_randls_40.json   \n",
       "20298  discrim_jsons/Discrim1000_randls_40.json   \n",
       "20299  discrim_jsons/Discrim1000_randls_40.json   \n",
       "\n",
       "                                                     url  selected_row  \\\n",
       "0      http://54.173.230.142/FacialAge/BNav_EC2/Depth...           3.0   \n",
       "1      http://54.173.230.142/FacialAge/BNav_EC2/Depth...           3.0   \n",
       "2      http://54.173.230.142/FacialAge/BNav_EC2/Depth...           3.0   \n",
       "3      http://54.173.230.142/FacialAge/BNav_EC2/Depth...           3.0   \n",
       "4      http://54.173.230.142/FacialAge/BNav_EC2/Depth...           3.0   \n",
       "...                                                  ...           ...   \n",
       "20295  http://54.173.230.142/FacialAge/BNav_EC2/Depth...          54.0   \n",
       "20296  http://54.173.230.142/FacialAge/BNav_EC2/Depth...          54.0   \n",
       "20297  http://54.173.230.142/FacialAge/BNav_EC2/Depth...          54.0   \n",
       "20298  http://54.173.230.142/FacialAge/BNav_EC2/Depth...          54.0   \n",
       "20299  http://54.173.230.142/FacialAge/BNav_EC2/Depth...          54.0   \n",
       "\n",
       "       windowWidth  windowHeight  screenWidth  screenHeight  ... trial_RT  \\\n",
       "0           1920.0         942.0       1536.0         864.0  ...   2586.0   \n",
       "1           1920.0         942.0       1536.0         864.0  ...   2655.0   \n",
       "2           1920.0         942.0       1536.0         864.0  ...   4081.0   \n",
       "3           1920.0         942.0       1536.0         864.0  ...   2040.0   \n",
       "4           1920.0         942.0       1536.0         864.0  ...   1973.0   \n",
       "...            ...           ...          ...           ...  ...      ...   \n",
       "20295       1708.0         821.0       1366.0         768.0  ...  17884.0   \n",
       "20296       1708.0         821.0       1366.0         768.0  ...   4719.0   \n",
       "20297       1708.0         821.0       1366.0         768.0  ...  10071.0   \n",
       "20298       1708.0         821.0       1366.0         768.0  ...   4379.0   \n",
       "20299       1708.0         821.0       1366.0         768.0  ...   3612.0   \n",
       "\n",
       "      log_fixation  log_sceneDuration1 log_mask1 log_sceneDuration2  \\\n",
       "0           1021.0               240.0    1001.0              249.0   \n",
       "1           1014.0               250.0     994.0              269.0   \n",
       "2           1001.0               256.0    1002.0              251.0   \n",
       "3           1007.0               242.0    1014.0              247.0   \n",
       "4           1012.0               244.0    1003.0              239.0   \n",
       "...            ...                 ...       ...                ...   \n",
       "20295       1889.0              1167.0      25.0             1191.0   \n",
       "20296       1570.0               746.0     755.0              930.0   \n",
       "20297       1000.0              1000.0    1877.0              291.0   \n",
       "20298       1078.0               920.0     997.0             1727.0   \n",
       "20299       1001.0              1000.0    1129.0              864.0   \n",
       "\n",
       "       log_mask2  experimentTime  totalTime  age  gender  \n",
       "0          503.0             NaN    1948018   24     Man  \n",
       "1          484.0             NaN    1948018   24     Man  \n",
       "2          489.0             NaN    1948018   24     Man  \n",
       "3          503.0             NaN    1948018   24     Man  \n",
       "4          500.0             NaN    1948018   24     Man  \n",
       "...          ...             ...        ...  ...     ...  \n",
       "20295      415.0             NaN    1610820   35   Woman  \n",
       "20296      549.0             NaN    1610820   35   Woman  \n",
       "20297      330.0             NaN    1610820   35   Woman  \n",
       "20298       22.0             NaN    1610820   35   Woman  \n",
       "20299      543.0             NaN    1610820   35   Woman  \n",
       "\n",
       "[20300 rows x 29 columns]"
      ]
     },
     "execution_count": 7,
     "metadata": {},
     "output_type": "execute_result"
    }
   ],
   "source": [
    "raw_discrim"
   ]
  },
  {
   "cell_type": "code",
   "execution_count": 8,
   "metadata": {},
   "outputs": [
    {
     "data": {
      "text/plain": [
       "array([24, 29, 50, 38, 45, 31, 32, 43, 34, 25, 27, 46, 40, 36, 52, 35, 33,\n",
       "       44, 49, 42, 58, 47, 26, 53, 30, 41, 48, 71, 63, 62, 67, 57, 60, 37,\n",
       "       55, 28, 39, 59, 51, 54, 23, 56])"
      ]
     },
     "execution_count": 8,
     "metadata": {},
     "output_type": "execute_result"
    }
   ],
   "source": [
    "all_ages = raw_discrim.age.unique()\n",
    "all_ages"
   ]
  },
  {
   "cell_type": "markdown",
   "metadata": {},
   "source": [
    "## <font color='red'> Data Cleaning </font> \n",
    "\n"
   ]
  },
  {
   "cell_type": "code",
   "execution_count": 9,
   "metadata": {},
   "outputs": [],
   "source": [
    "def catchTrial_cleaning(df, correct_requirement, catch_stimuli):\n",
    "    '''\n",
    "    Participants complete 8 catch trials total to ensure that they are doing the task.\n",
    "    If less than 7/8 catch trials are correct, the participant is excluded.  \n",
    "    '''\n",
    "    all_subjIDs = df.subjID.unique()\n",
    "    remove = []\n",
    "    subj_sequence = {}\n",
    "    df2_list = []\n",
    "    sequence_count = {'discrim_jsons/Discrim250_randls_33.json': 0,\n",
    " 'discrim_jsons/Discrim250_randls_25.json': 0,\n",
    " 'discrim_jsons/Discrim250_randls_44.json': 0,\n",
    " 'discrim_jsons/Discrim250_randls_13.json': 0,\n",
    " 'discrim_jsons/Discrim250_randls_7.json': 0,\n",
    " 'discrim_jsons/Discrim250_randls_29.json': 0,\n",
    " 'discrim_jsons/Discrim250_randls_28.json': 0,\n",
    " 'discrim_jsons/Discrim250_randls_6.json': 0,\n",
    " 'discrim_jsons/Discrim250_randls_12.json': 0,\n",
    " 'discrim_jsons/Discrim250_randls_45.json': 0,\n",
    " 'discrim_jsons/Discrim250_randls_24.json': 0,\n",
    " 'discrim_jsons/Discrim250_randls_32.json': 0,\n",
    " 'discrim_jsons/Discrim250_randls_42.json': 0,\n",
    " 'discrim_jsons/Discrim250_randls_15.json': 0,\n",
    " 'discrim_jsons/Discrim250_randls_39.json': 0,\n",
    " 'discrim_jsons/Discrim250_randls_1.json': 0,\n",
    " 'discrim_jsons/Discrim250_randls_19.json': 0,\n",
    " 'discrim_jsons/Discrim250_randls_35.json': 0,\n",
    " 'discrim_jsons/Discrim250_randls_23.json': 0,\n",
    " 'discrim_jsons/Discrim250_randls_22.json': 0,\n",
    " 'discrim_jsons/Discrim250_randls_34.json': 0,\n",
    " 'discrim_jsons/Discrim250_randls_18.json': 0,\n",
    " 'discrim_jsons/Discrim250_randls_38.json': 0,\n",
    " 'discrim_jsons/Discrim250_randls_0.json': 0,\n",
    " 'discrim_jsons/Discrim250_randls_14.json': 0,\n",
    " 'discrim_jsons/Discrim250_randls_43.json': 0,\n",
    " 'discrim_jsons/Discrim250_randls_3.json': 0,\n",
    " 'discrim_jsons/Discrim250_randls_17.json': 0,\n",
    " 'discrim_jsons/Discrim250_randls_40.json': 0,\n",
    " 'discrim_jsons/Discrim250_randls_21.json': 0,\n",
    " 'discrim_jsons/Discrim250_randls_37.json': 0,\n",
    " 'discrim_jsons/Discrim250_randls_36.json': 0,\n",
    " 'discrim_jsons/Discrim250_randls_20.json': 0,\n",
    " 'discrim_jsons/Discrim250_randls_41.json': 0,\n",
    " 'discrim_jsons/Discrim250_randls_16.json': 0,\n",
    " 'discrim_jsons/Discrim250_randls_2.json': 0,\n",
    " 'discrim_jsons/Discrim250_randls_27.json': 0,\n",
    " 'discrim_jsons/Discrim250_randls_9.json': 0,\n",
    " 'discrim_jsons/Discrim250_randls_31.json': 0,\n",
    " 'discrim_jsons/Discrim250_randls_5.json': 0,\n",
    " 'discrim_jsons/Discrim250_randls_11.json': 0,\n",
    " 'discrim_jsons/Discrim250_randls_46.json': 0,\n",
    " 'discrim_jsons/Discrim250_randls_10.json': 0,\n",
    " 'discrim_jsons/Discrim250_randls_4.json': 0,\n",
    " 'discrim_jsons/Discrim250_randls_8.json': 0,\n",
    " 'discrim_jsons/Discrim250_randls_30.json': 0,\n",
    " 'discrim_jsons/Discrim250_randls_26.json': 0,\n",
    " 'discrim_jsons/Discrim1000_randls_20.json': 0,\n",
    " 'discrim_jsons/Discrim1000_randls_7.json': 0,\n",
    " 'discrim_jsons/Discrim1000_randls_36.json': 0,\n",
    " 'discrim_jsons/Discrim1000_randls_41.json': 0,\n",
    " 'discrim_jsons/Discrim1000_randls_16.json': 0,\n",
    " 'discrim_jsons/Discrim1000_randls_17.json': 0,\n",
    " 'discrim_jsons/Discrim1000_randls_40.json': 0,\n",
    " 'discrim_jsons/Discrim1000_randls_37.json': 0,\n",
    " 'discrim_jsons/Discrim1000_randls_6.json': 0,\n",
    " 'discrim_jsons/Discrim1000_randls_21.json': 0,\n",
    " 'discrim_jsons/Discrim1000_randls_10.json': 0,\n",
    " 'discrim_jsons/Discrim1000_randls_26.json': 0,\n",
    " 'discrim_jsons/Discrim1000_randls_1.json': 0,\n",
    " 'discrim_jsons/Discrim1000_randls_30.json': 0,\n",
    " 'discrim_jsons/Discrim1000_randls_31.json': 0,\n",
    " 'discrim_jsons/Discrim1000_randls_0.json': 0,\n",
    " 'discrim_jsons/Discrim1000_randls_27.json': 0,\n",
    " 'discrim_jsons/Discrim1000_randls_11.json': 0,\n",
    " 'discrim_jsons/Discrim1000_randls_46.json': 0,\n",
    " 'discrim_jsons/Discrim1000_randls_12.json': 0,\n",
    " 'discrim_jsons/Discrim1000_randls_45.json': 0,\n",
    " 'discrim_jsons/Discrim1000_randls_28.json': 0,\n",
    " 'discrim_jsons/Discrim1000_randls_32.json': 0,\n",
    " 'discrim_jsons/Discrim1000_randls_3.json': 0,\n",
    " 'discrim_jsons/Discrim1000_randls_24.json': 0,\n",
    " 'discrim_jsons/Discrim1000_randls_25.json': 0,\n",
    " 'discrim_jsons/Discrim1000_randls_2.json': 0,\n",
    " 'discrim_jsons/Discrim1000_randls_33.json': 0,\n",
    " 'discrim_jsons/Discrim1000_randls_29.json': 0,\n",
    " 'discrim_jsons/Discrim1000_randls_44.json': 0,\n",
    " 'discrim_jsons/Discrim1000_randls_13.json': 0,\n",
    " 'discrim_jsons/Discrim1000_randls_18.json': 0,\n",
    " 'discrim_jsons/Discrim1000_randls_34.json': 0,\n",
    " 'discrim_jsons/Discrim1000_randls_5.json': 0,\n",
    " 'discrim_jsons/Discrim1000_randls_22.json': 0,\n",
    " 'discrim_jsons/Discrim1000_randls_14.json': 0,\n",
    " 'discrim_jsons/Discrim1000_randls_43.json': 0,\n",
    " 'discrim_jsons/Discrim1000_randls_38.json': 0,\n",
    " 'discrim_jsons/Discrim1000_randls_9.json': 0,\n",
    " 'discrim_jsons/Discrim1000_randls_8.json': 0,\n",
    " 'discrim_jsons/Discrim1000_randls_39.json': 0,\n",
    " 'discrim_jsons/Discrim1000_randls_42.json': 0,\n",
    " 'discrim_jsons/Discrim1000_randls_15.json': 0,\n",
    " 'discrim_jsons/Discrim1000_randls_23.json': 0,\n",
    " 'discrim_jsons/Discrim1000_randls_4.json': 0,\n",
    " 'discrim_jsons/Discrim1000_randls_35.json': 0,\n",
    " 'discrim_jsons/Discrim1000_randls_19.json': 0}\n",
    "    for subj in all_subjIDs:\n",
    "#         print(subj)\n",
    "        count_correct = 0\n",
    "        subj_df = df.loc[df['subjID'] == subj]\n",
    "        cleaned_subj_df = subj_df.copy(deep=True) # prevent setting with copy warning\n",
    "        # \n",
    "        subj_sequence[subj] = subj_df.sequenceName.unique()[0]\n",
    "        \n",
    "        # remove trials that are outside the outlier range\n",
    "        c = 0\n",
    "        c_missed = 0\n",
    "        for idx, row in subj_df.iterrows():\n",
    "            stim1 = row['stimulus_0']\n",
    "            stim2 = row['stimulus_1']\n",
    "            # TEMP SOLUTION FOR RANDOM PHP DATA SAVING PROBLEM \n",
    "            if type(stim1) == str:\n",
    "                if stim1.split('/')[1] in catch_stimuli or stim2.split('/')[1] in catch_stimuli:\n",
    "                    ####### VERSION WHERE CATCH TRIALS ARE ATTENTION CHECK: IMAGE 1 IS THE SAME AS IMAGE 2\n",
    "                    c += 1\n",
    "                    if row[\"discrim_choice\"] == 3:\n",
    "#                         print(row[\"discrim_choice\"])\n",
    "                        count_correct += 1\n",
    "#                     else:\n",
    "#                         print(row[\"discrim_choice\"])\n",
    "                    # remove catch trial \n",
    "                    cleaned_subj_df.drop([idx], inplace=True)\n",
    "    #                 print(depth0, depth1, correct_choice, choice)\n",
    "#         print(c_missed, 'Number of catch trials where participants did not see the target')\n",
    "#         print(c)\n",
    "#         print(count_correct)\n",
    "        if count_correct < correct_requirement:\n",
    "#             print('Number correct:', count_correct)\n",
    "            remove.append(subj)\n",
    "        else:\n",
    "            sequence_count[subj_df.sequenceName.unique()[0]] += 1\n",
    "        \n",
    "        df2_list.append(cleaned_subj_df)\n",
    "    \n",
    "    df2 = pd.concat(df2_list)\n",
    "    print(\"Number of participants that did not pass the catch trial check:\", len(remove))\n",
    "    print(\"Participants that were removed:\",remove)\n",
    "    print(\"Sequences that need to be replaced:\")\n",
    "#     for subj in remove:\n",
    "#         print(subj_sequence[subj])\n",
    "    print(\"Sequence count:\")\n",
    "    print(sequence_count)\n",
    "    for index, row in df2.iterrows():\n",
    "        if row['subjID'] in remove:\n",
    "            df2.drop(index, inplace=True)\n",
    "    \n",
    "    return df2\n",
    "    \n",
    "    \n",
    "    "
   ]
  },
  {
   "cell_type": "code",
   "execution_count": 10,
   "metadata": {},
   "outputs": [],
   "source": [
    "# all_catch_stim = ['000375_2014-06-08_11-17-29_260595134347_rgbf000133-resize_2',\n",
    "#               '000569_2014-06-09_22-51-47_260595134347_rgbf000141-resize_3',\n",
    "#               '000787_2014-06-08_22-33-53_260595134347_rgbf000175-resize_1',\n",
    "#               '002072_2014-06-24_21-48-06_260595134347_rgbf000115-resize_0',\n",
    "#               '002364_2014-06-28_20-11-05_260595134347_rgbf000042-resize_0',\n",
    "#               '002675_2014-06-13_16-08-49_094959634447_rgbf000151-resize_2',\n",
    "#               '003125_2014-05-12_10-39-22_094959634447_rgbf000100-resize_0',\n",
    "#               '003395_2014-05-20_15-39-18_094959634447_rgbf000101-resize_0',\n",
    "#               '000454_2014-06-08_16-37-28_260595134347_rgbf000048-resize_2',\n",
    "#               '000868_2014-06-09_20-49-52_260595134347_rgbf000064-resize_4',\n",
    "#               '000953_2014-06-08_11-42-19_260595134347_rgbf000083-resize_0',\n",
    "#               '001012_2014-06-08_23-19-38_260595134347_rgbf000057-resize_0',\n",
    "#               '001170_2014-06-17_15-43-44_260595134347_rgbf000096-resize_6',\n",
    "#               '001222_2014-06-17_16-24-06_260595134347_rgbf000073-resize_0',\n",
    "#               '001498_2014-06-19_17-45-14_260595134347_rgbf000129-resize_4',\n",
    "#               '001540_2014-06-20_17-01-05_260595134347_rgbf000086-resize_2']\n",
    "\n",
    "\n",
    "all_catch_stim = ['000375_2014-06-08_11-17-29_260595134347_rgbf000133-resize_2',\n",
    "                  '000569_2014-06-09_22-51-47_260595134347_rgbf000141-resize_3',\n",
    "                  '000787_2014-06-08_22-33-53_260595134347_rgbf000175-resize_1',\n",
    "                  '002072_2014-06-24_21-48-06_260595134347_rgbf000115-resize_0',\n",
    "                  '001170_2014-06-17_15-43-44_260595134347_rgbf000096-resize_6',\n",
    "                  '001222_2014-06-17_16-24-06_260595134347_rgbf000073-resize_0',\n",
    "                  '001498_2014-06-19_17-45-14_260595134347_rgbf000129-resize_4',\n",
    "                  '001540_2014-06-20_17-01-05_260595134347_rgbf000086-resize_2']"
   ]
  },
  {
   "cell_type": "code",
   "execution_count": 11,
   "metadata": {},
   "outputs": [
    {
     "name": "stdout",
     "output_type": "stream",
     "text": [
      "Number of participants that did not pass the catch trial check: 112\n",
      "Participants that were removed: [628938.0, 257946.0, 151527.0, 270605.0, 169133.0, 280126.0, 111793.0, 942064.0, 916698.0, 769034.0, 596798.0, 968335.0, 764353.0, 915553.0, 974672.0, 138566.0, 615459.0, 446835.0, 100067.0, 920203.0, 537762.0, 476553.0, 684817.0, 265550.0, 773532.0, 238865.0, 611371.0, 126003.0, 838816.0, 952703.0, 129631.0, 401746.0, 216777.0, 617406.0, 772183.0, 857609.0, 533644.0, 612756.0, 250927.0, 836490.0, 580281.0, 661574.0, 363571.0, 670189.0, 685597.0, 551830.0, 587123.0, 309644.0, 110296.0, 255624.0, 437060.0, 222385.0, 317425.0, 782613.0, 723399.0, 493741.0, 488643.0, 612427.0, 494974.0, 368727.0, 188346.0, 109287.0, 787351.0, 939462.0, 630281.0, 264175.0, 479907.0, 449862.0, 738295.0, 379176.0, 723057.0, 668142.0, 705649.0, 280442.0, 711217.0, 200784.0, 589703.0, 391926.0, 520915.0, 916710.0, 268229.0, 336596.0, 284058.0, 928209.0, 134718.0, 902310.0, 973883.0, 653628.0, 835724.0, 231985.0, 988872.0, 124831.0, 382321.0, 858027.0, 853661.0, 443764.0, 172931.0, 871257.0, 106558.0, 852717.0, 578519.0, 303323.0, 402710.0, 836975.0, 315730.0, 509453.0, 580863.0, 168006.0, 595691.0, 822232.0, 634361.0, 425814.0]\n",
      "Sequences that need to be replaced:\n",
      "Sequence count:\n",
      "{'discrim_jsons/Discrim250_randls_33.json': 1, 'discrim_jsons/Discrim250_randls_25.json': 1, 'discrim_jsons/Discrim250_randls_44.json': 0, 'discrim_jsons/Discrim250_randls_13.json': 1, 'discrim_jsons/Discrim250_randls_7.json': 1, 'discrim_jsons/Discrim250_randls_29.json': 0, 'discrim_jsons/Discrim250_randls_28.json': 1, 'discrim_jsons/Discrim250_randls_6.json': 1, 'discrim_jsons/Discrim250_randls_12.json': 1, 'discrim_jsons/Discrim250_randls_45.json': 1, 'discrim_jsons/Discrim250_randls_24.json': 1, 'discrim_jsons/Discrim250_randls_32.json': 1, 'discrim_jsons/Discrim250_randls_42.json': 0, 'discrim_jsons/Discrim250_randls_15.json': 1, 'discrim_jsons/Discrim250_randls_39.json': 1, 'discrim_jsons/Discrim250_randls_1.json': 1, 'discrim_jsons/Discrim250_randls_19.json': 1, 'discrim_jsons/Discrim250_randls_35.json': 1, 'discrim_jsons/Discrim250_randls_23.json': 0, 'discrim_jsons/Discrim250_randls_22.json': 0, 'discrim_jsons/Discrim250_randls_34.json': 2, 'discrim_jsons/Discrim250_randls_18.json': 1, 'discrim_jsons/Discrim250_randls_38.json': 1, 'discrim_jsons/Discrim250_randls_0.json': 1, 'discrim_jsons/Discrim250_randls_14.json': 2, 'discrim_jsons/Discrim250_randls_43.json': 1, 'discrim_jsons/Discrim250_randls_3.json': 1, 'discrim_jsons/Discrim250_randls_17.json': 1, 'discrim_jsons/Discrim250_randls_40.json': 1, 'discrim_jsons/Discrim250_randls_21.json': 1, 'discrim_jsons/Discrim250_randls_37.json': 1, 'discrim_jsons/Discrim250_randls_36.json': 1, 'discrim_jsons/Discrim250_randls_20.json': 1, 'discrim_jsons/Discrim250_randls_41.json': 1, 'discrim_jsons/Discrim250_randls_16.json': 1, 'discrim_jsons/Discrim250_randls_2.json': 1, 'discrim_jsons/Discrim250_randls_27.json': 1, 'discrim_jsons/Discrim250_randls_9.json': 1, 'discrim_jsons/Discrim250_randls_31.json': 1, 'discrim_jsons/Discrim250_randls_5.json': 1, 'discrim_jsons/Discrim250_randls_11.json': 0, 'discrim_jsons/Discrim250_randls_46.json': 1, 'discrim_jsons/Discrim250_randls_10.json': 1, 'discrim_jsons/Discrim250_randls_4.json': 1, 'discrim_jsons/Discrim250_randls_8.json': 1, 'discrim_jsons/Discrim250_randls_30.json': 1, 'discrim_jsons/Discrim250_randls_26.json': 1, 'discrim_jsons/Discrim1000_randls_20.json': 1, 'discrim_jsons/Discrim1000_randls_7.json': 1, 'discrim_jsons/Discrim1000_randls_36.json': 1, 'discrim_jsons/Discrim1000_randls_41.json': 0, 'discrim_jsons/Discrim1000_randls_16.json': 1, 'discrim_jsons/Discrim1000_randls_17.json': 1, 'discrim_jsons/Discrim1000_randls_40.json': 1, 'discrim_jsons/Discrim1000_randls_37.json': 1, 'discrim_jsons/Discrim1000_randls_6.json': 1, 'discrim_jsons/Discrim1000_randls_21.json': 2, 'discrim_jsons/Discrim1000_randls_10.json': 1, 'discrim_jsons/Discrim1000_randls_26.json': 1, 'discrim_jsons/Discrim1000_randls_1.json': 1, 'discrim_jsons/Discrim1000_randls_30.json': 1, 'discrim_jsons/Discrim1000_randls_31.json': 1, 'discrim_jsons/Discrim1000_randls_0.json': 1, 'discrim_jsons/Discrim1000_randls_27.json': 1, 'discrim_jsons/Discrim1000_randls_11.json': 1, 'discrim_jsons/Discrim1000_randls_46.json': 1, 'discrim_jsons/Discrim1000_randls_12.json': 2, 'discrim_jsons/Discrim1000_randls_45.json': 1, 'discrim_jsons/Discrim1000_randls_28.json': 1, 'discrim_jsons/Discrim1000_randls_32.json': 1, 'discrim_jsons/Discrim1000_randls_3.json': 1, 'discrim_jsons/Discrim1000_randls_24.json': 1, 'discrim_jsons/Discrim1000_randls_25.json': 1, 'discrim_jsons/Discrim1000_randls_2.json': 1, 'discrim_jsons/Discrim1000_randls_33.json': 1, 'discrim_jsons/Discrim1000_randls_29.json': 1, 'discrim_jsons/Discrim1000_randls_44.json': 1, 'discrim_jsons/Discrim1000_randls_13.json': 1, 'discrim_jsons/Discrim1000_randls_18.json': 1, 'discrim_jsons/Discrim1000_randls_34.json': 1, 'discrim_jsons/Discrim1000_randls_5.json': 1, 'discrim_jsons/Discrim1000_randls_22.json': 1, 'discrim_jsons/Discrim1000_randls_14.json': 1, 'discrim_jsons/Discrim1000_randls_43.json': 1, 'discrim_jsons/Discrim1000_randls_38.json': 1, 'discrim_jsons/Discrim1000_randls_9.json': 1, 'discrim_jsons/Discrim1000_randls_8.json': 1, 'discrim_jsons/Discrim1000_randls_39.json': 0, 'discrim_jsons/Discrim1000_randls_42.json': 2, 'discrim_jsons/Discrim1000_randls_15.json': 1, 'discrim_jsons/Discrim1000_randls_23.json': 2, 'discrim_jsons/Discrim1000_randls_4.json': 1, 'discrim_jsons/Discrim1000_randls_35.json': 1, 'discrim_jsons/Discrim1000_randls_19.json': 0}\n"
     ]
    }
   ],
   "source": [
    "catch_cleaned_discrim = catchTrial_cleaning(raw_discrim, 7, all_catch_stim)"
   ]
  },
  {
   "cell_type": "code",
   "execution_count": 12,
   "metadata": {},
   "outputs": [
    {
     "data": {
      "text/plain": [
       "array([29, 50, 38, 45, 32, 43, 34, 40, 35, 33, 44, 49, 42, 47, 25, 53, 31,\n",
       "       41, 48, 63, 46, 67, 57, 30, 27, 37, 24, 55, 28, 60, 58, 59, 51, 26,\n",
       "       56])"
      ]
     },
     "execution_count": 12,
     "metadata": {},
     "output_type": "execute_result"
    }
   ],
   "source": [
    "cleaned_ages = catch_cleaned_discrim.age.unique()\n",
    "cleaned_ages"
   ]
  },
  {
   "cell_type": "markdown",
   "metadata": {},
   "source": [
    "\n"
   ]
  },
  {
   "cell_type": "code",
   "execution_count": 13,
   "metadata": {},
   "outputs": [],
   "source": [
    "def RT_cleaning(df, outlier_range, num_trials):\n",
    "    all_subjIDs = df.subjID.unique()\n",
    "    remove = []\n",
    "    df2_list = []\n",
    "    for subj in all_subjIDs:\n",
    "        count = 0\n",
    "        subj_df = df.loc[df['subjID'] == subj]\n",
    "        cleaned_subj_df = subj_df.copy(deep=True) # prevent setting with copy warning\n",
    "        \n",
    "        # calculate subject's average trial RT\n",
    "        average_trial_RT = subj_df[\"trial_RT\"].mean()\n",
    "        std_trial_RT = subj_df[\"trial_RT\"].std()\n",
    "        p_outlier_range = [(average_trial_RT - (3*std_trial_RT)), (average_trial_RT + (3*std_trial_RT))]\n",
    "        \n",
    "        # remove trials that are outside the outlier range\n",
    "        for idx, row in subj_df.iterrows():\n",
    "            RT = row['trial_RT']\n",
    "            if RT < outlier_range[0]:\n",
    "                cleaned_subj_df.drop([idx], inplace=True)\n",
    "                count += 1\n",
    "            if RT > outlier_range[1]:\n",
    "                cleaned_subj_df.drop([idx], inplace=True)\n",
    "                count += 1\n",
    "            try:\n",
    "                if RT < p_outlier_range[0]:\n",
    "                    cleaned_subj_df.drop([idx], inplace=True)\n",
    "                    count += 1\n",
    "                if RT > p_outlier_range[1]:\n",
    "                    cleaned_subj_df.drop([idx], inplace=True)\n",
    "                    count += 1\n",
    "            except:\n",
    "                print(\"Trial already removed\")\n",
    "                \n",
    "        threshold = math.floor(num_trials * 0.1)\n",
    "        if count >= threshold:\n",
    "            remove.append(subj)\n",
    "        \n",
    "        df2_list.append(cleaned_subj_df)\n",
    "    \n",
    "    df2 = pd.concat(df2_list)\n",
    "    print(\"Number of Participants with 10% or more trials outside their RT range:\", len(remove))\n",
    "    \n",
    "    for index, row in df2.iterrows():\n",
    "        if row['subjID'] in remove:\n",
    "            df2.drop(index, inplace=True)\n",
    "    \n",
    "    return df2\n"
   ]
  },
  {
   "cell_type": "code",
   "execution_count": 14,
   "metadata": {},
   "outputs": [
    {
     "name": "stdout",
     "output_type": "stream",
     "text": [
      "Trial already removed\n",
      "Trial already removed\n",
      "Trial already removed\n",
      "Trial already removed\n",
      "Trial already removed\n",
      "Trial already removed\n",
      "Trial already removed\n",
      "Trial already removed\n",
      "Trial already removed\n",
      "Trial already removed\n",
      "Trial already removed\n",
      "Trial already removed\n",
      "Trial already removed\n",
      "Trial already removed\n",
      "Trial already removed\n",
      "Trial already removed\n",
      "Trial already removed\n",
      "Trial already removed\n",
      "Trial already removed\n",
      "Trial already removed\n",
      "Trial already removed\n",
      "Trial already removed\n",
      "Trial already removed\n",
      "Trial already removed\n",
      "Trial already removed\n",
      "Trial already removed\n",
      "Trial already removed\n",
      "Trial already removed\n",
      "Trial already removed\n",
      "Trial already removed\n",
      "Trial already removed\n",
      "Trial already removed\n",
      "Trial already removed\n",
      "Trial already removed\n",
      "Trial already removed\n",
      "Trial already removed\n",
      "Trial already removed\n",
      "Trial already removed\n",
      "Trial already removed\n",
      "Trial already removed\n",
      "Trial already removed\n",
      "Number of Participants with 10% or more trials outside their RT range: 3\n"
     ]
    }
   ],
   "source": [
    "cleaned_discrim = RT_cleaning(catch_cleaned_discrim, [250,5000], 94)\n",
    "\n",
    "\n",
    "# cleaned_discrim = RT_cleaning(catch_cleaned_discrim, [250,5000], 32)"
   ]
  },
  {
   "cell_type": "code",
   "execution_count": 15,
   "metadata": {},
   "outputs": [],
   "source": [
    "def finalTrialCountCheck(df, num_trials):\n",
    "    \"\"\"\n",
    "    If more then 10% of a participants data is missing, remove the participant\n",
    "    \"\"\"\n",
    "    #List unique values in the df['subjID'] column\\n\",\n",
    "    all_subjIDs = df.subjID.unique()\n",
    "    remove = []\n",
    "    for subj in all_subjIDs:\n",
    "        subj_df = df.loc[df['subjID'] == subj]\n",
    "        count_trials = len(subj_df.index)\n",
    "        threshold_trials_remaining = num_trials - math.floor(num_trials * 0.1)\n",
    "        \n",
    "        if count_trials <= threshold_trials_remaining:\n",
    "            remove.append(subj)\n",
    "    print(\"Number of Participants with >= 10% trials removed:\", len(remove))\n",
    "    \n",
    "    for index, row in df.iterrows():\n",
    "        if row['subjID'] in remove:\n",
    "            df.drop(index, inplace=True)\n",
    "    \n",
    "    print(\"Number of participants left:\",len(df.subjID.unique()))\n",
    "    \n",
    "    return df"
   ]
  },
  {
   "cell_type": "code",
   "execution_count": 16,
   "metadata": {},
   "outputs": [
    {
     "name": "stdout",
     "output_type": "stream",
     "text": [
      "Number of Participants with >= 10% trials removed: 1\n",
      "Number of participants left: 87\n"
     ]
    }
   ],
   "source": [
    "final_discrim = finalTrialCountCheck(cleaned_discrim, 94)"
   ]
  },
  {
   "cell_type": "markdown",
   "metadata": {},
   "source": [
    "## Sequences that need replacing\n",
    "\n",
    "Final N = 192 \n",
    "\n",
    "Each sequence should have 48 participants"
   ]
  },
  {
   "cell_type": "code",
   "execution_count": 17,
   "metadata": {},
   "outputs": [
    {
     "data": {
      "text/plain": [
       "{'discrim_jsons/Discrim250_randls_36.json': 1,\n",
       " 'discrim_jsons/Discrim1000_randls_24.json': 1,\n",
       " 'discrim_jsons/Discrim250_randls_10.json': 1,\n",
       " 'discrim_jsons/Discrim1000_randls_42.json': 1,\n",
       " 'discrim_jsons/Discrim1000_randls_2.json': 1,\n",
       " 'discrim_jsons/Discrim250_randls_12.json': 1,\n",
       " 'discrim_jsons/Discrim1000_randls_27.json': 1,\n",
       " 'discrim_jsons/Discrim250_randls_33.json': 1,\n",
       " 'discrim_jsons/Discrim1000_randls_5.json': 1,\n",
       " 'discrim_jsons/Discrim1000_randls_31.json': 1,\n",
       " 'discrim_jsons/Discrim250_randls_35.json': 1,\n",
       " 'discrim_jsons/Discrim1000_randls_29.json': 1,\n",
       " 'discrim_jsons/Discrim250_randls_15.json': 1,\n",
       " 'discrim_jsons/Discrim1000_randls_23.json': 2,\n",
       " 'discrim_jsons/Discrim250_randls_16.json': 1,\n",
       " 'discrim_jsons/Discrim250_randls_32.json': 1,\n",
       " 'discrim_jsons/Discrim250_randls_1.json': 1,\n",
       " 'discrim_jsons/Discrim250_randls_14.json': 2,\n",
       " 'discrim_jsons/Discrim250_randls_26.json': 1,\n",
       " 'discrim_jsons/Discrim250_randls_30.json': 1,\n",
       " 'discrim_jsons/Discrim1000_randls_16.json': 1,\n",
       " 'discrim_jsons/Discrim1000_randls_6.json': 1,\n",
       " 'discrim_jsons/Discrim250_randls_13.json': 1,\n",
       " 'discrim_jsons/Discrim1000_randls_15.json': 1,\n",
       " 'discrim_jsons/Discrim250_randls_17.json': 1,\n",
       " 'discrim_jsons/Discrim250_randls_43.json': 1,\n",
       " 'discrim_jsons/Discrim1000_randls_17.json': 1,\n",
       " 'discrim_jsons/Discrim1000_randls_14.json': 1,\n",
       " 'discrim_jsons/Discrim1000_randls_33.json': 1,\n",
       " 'discrim_jsons/Discrim250_randls_7.json': 1,\n",
       " 'discrim_jsons/Discrim250_randls_37.json': 1,\n",
       " 'discrim_jsons/Discrim1000_randls_7.json': 1,\n",
       " 'discrim_jsons/Discrim250_randls_39.json': 1,\n",
       " 'discrim_jsons/Discrim250_randls_31.json': 1,\n",
       " 'discrim_jsons/Discrim1000_randls_43.json': 1,\n",
       " 'discrim_jsons/Discrim1000_randls_37.json': 1,\n",
       " 'discrim_jsons/Discrim250_randls_2.json': 1,\n",
       " 'discrim_jsons/Discrim1000_randls_34.json': 1,\n",
       " 'discrim_jsons/Discrim250_randls_21.json': 1,\n",
       " 'discrim_jsons/Discrim1000_randls_8.json': 1,\n",
       " 'discrim_jsons/Discrim250_randls_34.json': 2,\n",
       " 'discrim_jsons/Discrim1000_randls_20.json': 1,\n",
       " 'discrim_jsons/Discrim1000_randls_1.json': 1,\n",
       " 'discrim_jsons/Discrim250_randls_40.json': 1,\n",
       " 'discrim_jsons/Discrim250_randls_46.json': 1,\n",
       " 'discrim_jsons/Discrim1000_randls_46.json': 1,\n",
       " 'discrim_jsons/Discrim1000_randls_10.json': 1,\n",
       " 'discrim_jsons/Discrim250_randls_27.json': 1,\n",
       " 'discrim_jsons/Discrim1000_randls_25.json': 1,\n",
       " 'discrim_jsons/Discrim250_randls_8.json': 1,\n",
       " 'discrim_jsons/Discrim1000_randls_11.json': 1,\n",
       " 'discrim_jsons/Discrim1000_randls_4.json': 1,\n",
       " 'discrim_jsons/Discrim250_randls_28.json': 1,\n",
       " 'discrim_jsons/Discrim250_randls_6.json': 1,\n",
       " 'discrim_jsons/Discrim250_randls_5.json': 1,\n",
       " 'discrim_jsons/Discrim250_randls_19.json': 1,\n",
       " 'discrim_jsons/Discrim250_randls_20.json': 1,\n",
       " 'discrim_jsons/Discrim1000_randls_38.json': 1,\n",
       " 'discrim_jsons/Discrim250_randls_18.json': 1,\n",
       " 'discrim_jsons/Discrim1000_randls_30.json': 1,\n",
       " 'discrim_jsons/Discrim1000_randls_18.json': 1,\n",
       " 'discrim_jsons/Discrim250_randls_45.json': 1,\n",
       " 'discrim_jsons/Discrim1000_randls_35.json': 1,\n",
       " 'discrim_jsons/Discrim250_randls_41.json': 1,\n",
       " 'discrim_jsons/Discrim1000_randls_45.json': 1,\n",
       " 'discrim_jsons/Discrim1000_randls_3.json': 1,\n",
       " 'discrim_jsons/Discrim250_randls_9.json': 1,\n",
       " 'discrim_jsons/Discrim250_randls_4.json': 1,\n",
       " 'discrim_jsons/Discrim1000_randls_12.json': 1,\n",
       " 'discrim_jsons/Discrim1000_randls_36.json': 1,\n",
       " 'discrim_jsons/Discrim250_randls_3.json': 1,\n",
       " 'discrim_jsons/Discrim1000_randls_32.json': 1,\n",
       " 'discrim_jsons/Discrim1000_randls_28.json': 1,\n",
       " 'discrim_jsons/Discrim250_randls_24.json': 1,\n",
       " 'discrim_jsons/Discrim1000_randls_9.json': 1,\n",
       " 'discrim_jsons/Discrim250_randls_38.json': 1,\n",
       " 'discrim_jsons/Discrim1000_randls_21.json': 1,\n",
       " 'discrim_jsons/Discrim1000_randls_26.json': 1,\n",
       " 'discrim_jsons/Discrim250_randls_0.json': 1,\n",
       " 'discrim_jsons/Discrim1000_randls_22.json': 1,\n",
       " 'discrim_jsons/Discrim1000_randls_44.json': 1,\n",
       " 'discrim_jsons/Discrim1000_randls_13.json': 1,\n",
       " 'discrim_jsons/Discrim250_randls_25.json': 1,\n",
       " 'discrim_jsons/Discrim1000_randls_0.json': 1}"
      ]
     },
     "execution_count": 17,
     "metadata": {},
     "output_type": "execute_result"
    }
   ],
   "source": [
    "sequence_count = {}\n",
    "for subj in final_discrim.subjID.unique():\n",
    "    subj_df = final_discrim.loc[final_discrim['subjID'] == subj]\n",
    "    sequence = subj_df.sequenceName.unique()[0]\n",
    "    if sequence not in sequence_count.keys():\n",
    "        sequence_count[sequence] = 1\n",
    "    else:\n",
    "        sequence_count[sequence] += 1\n",
    "        \n",
    "sequence_count"
   ]
  },
  {
   "cell_type": "code",
   "execution_count": null,
   "metadata": {},
   "outputs": [],
   "source": []
  },
  {
   "cell_type": "markdown",
   "metadata": {},
   "source": [
    "Need to collect:\n",
    "\n",
    "* 'discrim_jsons/v2_shuffled_g0_rotated.json': 8,\n",
    "* 'discrim_jsons/v2_shuffled_g0.json': 11,\n",
    "* 'discrim_jsons/v2_shuffled_g0_dr.json': 8,\n",
    "* 'discrim_jsons/v2_shuffled_g0_rotated_dr.json': 7"
   ]
  },
  {
   "cell_type": "markdown",
   "metadata": {},
   "source": [
    "## Accuracy"
   ]
  },
  {
   "cell_type": "code",
   "execution_count": 18,
   "metadata": {},
   "outputs": [],
   "source": [
    "def get_accuracy(df):\n",
    "    \"\"\"\n",
    "    args:\n",
    "        df  \n",
    "    returns:\n",
    "        proportion of correct responses, count of correct responses, count of total trials  \n",
    "    \"\"\"\n",
    "    count_correct = 0\n",
    "    count_incorrect = 0\n",
    "    count_total = 0\n",
    "    count_missed = 0\n",
    "    for idx, row in df.iterrows():\n",
    "        choice = row[\"discrim_choice\"]\n",
    "        if choice == 2.0:\n",
    "            count_missed += 1\n",
    "        else:    \n",
    "            count_total += 1\n",
    "            depth0 = row[\"actual_depth_0\"]\n",
    "            depth1 = row[\"actual_depth_1\"]\n",
    "            if depth0 < depth1:\n",
    "                correct_choice = 0\n",
    "            if depth0 > depth1:\n",
    "                correct_choice = 1\n",
    "            if depth0 == depth1:\n",
    "                # case where depths are equal \n",
    "                correct_choice = None\n",
    "            if choice == correct_choice:\n",
    "                count_correct += 1\n",
    "    if count_total == 0:\n",
    "        return count_correct\n",
    "    else:\n",
    "#         standardError = (0.5*(1-0.5))/count_total\n",
    "        p = count_correct/count_total\n",
    "        standardError = np.sqrt((p*(1-p))/count_total)\n",
    "    \n",
    "\n",
    "    return count_correct/count_total, count_correct, count_total, count_missed, standardError"
   ]
  },
  {
   "cell_type": "code",
   "execution_count": 19,
   "metadata": {},
   "outputs": [
    {
     "data": {
      "text/plain": [
       "(0.6856046065259117, 5358, 7815, 21, 0.005251827577417725)"
      ]
     },
     "execution_count": 19,
     "metadata": {},
     "output_type": "execute_result"
    }
   ],
   "source": [
    "overall_accuracy = get_accuracy(final_discrim)\n",
    "overall_accuracy"
   ]
  },
  {
   "cell_type": "markdown",
   "metadata": {},
   "source": [
    "#### Accuracy by Duration"
   ]
  },
  {
   "cell_type": "code",
   "execution_count": 20,
   "metadata": {},
   "outputs": [],
   "source": [
    "discrim_250ms = final_discrim[final_discrim['duration'] == 250]\n",
    "discrim_1000ms = final_discrim[final_discrim['duration'] == 1000]"
   ]
  },
  {
   "cell_type": "code",
   "execution_count": 21,
   "metadata": {},
   "outputs": [
    {
     "data": {
      "text/plain": [
       "((0.6807026608111599, 2635, 3871, 12, 0.007493156239895586),\n",
       " (0.6904158215010142, 2723, 3944, 9, 0.007361669113760163))"
      ]
     },
     "execution_count": 21,
     "metadata": {},
     "output_type": "execute_result"
    }
   ],
   "source": [
    "accuracy_250 = get_accuracy(discrim_250ms)\n",
    "accuracy_1000 = get_accuracy(discrim_1000ms)\n",
    "accuracy_250, accuracy_1000"
   ]
  },
  {
   "cell_type": "markdown",
   "metadata": {},
   "source": [
    "#### Accuracy by Duration and Depth Bin"
   ]
  },
  {
   "cell_type": "code",
   "execution_count": 22,
   "metadata": {},
   "outputs": [],
   "source": [
    "investigate = []"
   ]
  },
  {
   "cell_type": "code",
   "execution_count": 23,
   "metadata": {},
   "outputs": [
    {
     "name": "stdout",
     "output_type": "stream",
     "text": [
      "(913, 29)\n",
      "(922, 29)\n",
      "(1198, 29)\n",
      "(1224, 29)\n",
      "(607, 29)\n",
      "(631, 29)\n",
      "(1165, 29)\n",
      "(1176, 29)\n"
     ]
    }
   ],
   "source": [
    "depth_bins = np.arange(1,5,1)\n",
    "depth_bins_accuracy_250 = {}\n",
    "depth_bins_accuracy_1000 = {}\n",
    "\n",
    "for _bin in depth_bins:\n",
    "    bin_df = final_discrim[(final_discrim['actual_depth_0'] >= _bin) & (final_discrim['actual_depth_0'] < _bin + 1)]\n",
    "    bin_df_250ms = bin_df[bin_df['duration'] == 250.0]\n",
    "    bin_df_1000ms = bin_df[bin_df['duration'] == 1000.0]\n",
    "    print(bin_df_250ms.shape)\n",
    "    print(bin_df_1000ms.shape)\n",
    "    \n",
    "    acc_250 = get_accuracy(bin_df_250ms)\n",
    "    acc_1000 = get_accuracy(bin_df_1000ms)\n",
    "    \n",
    "    if acc_1000[0] < 0.5:\n",
    "        investigate.append(bin_df_1000ms)\n",
    "    \n",
    "    depth_bins_accuracy_250[round(_bin, 3)] = acc_250[0]\n",
    "    depth_bins_accuracy_1000[round(_bin, 3)] = acc_1000[0]\n"
   ]
  },
  {
   "cell_type": "code",
   "execution_count": 24,
   "metadata": {},
   "outputs": [
    {
     "data": {
      "text/plain": [
       "0"
      ]
     },
     "execution_count": 24,
     "metadata": {},
     "output_type": "execute_result"
    }
   ],
   "source": [
    "len(investigate)"
   ]
  },
  {
   "cell_type": "code",
   "execution_count": 24,
   "metadata": {},
   "outputs": [
    {
     "ename": "IndexError",
     "evalue": "list index out of range",
     "output_type": "error",
     "traceback": [
      "\u001b[0;31m---------------------------------------------------------------------------\u001b[0m",
      "\u001b[0;31mIndexError\u001b[0m                                Traceback (most recent call last)",
      "\u001b[0;32m<ipython-input-24-7fcc21edd8f6>\u001b[0m in \u001b[0;36m<module>\u001b[0;34m\u001b[0m\n\u001b[0;32m----> 1\u001b[0;31m \u001b[0minvestigate\u001b[0m\u001b[0;34m[\u001b[0m\u001b[0;36m0\u001b[0m\u001b[0;34m]\u001b[0m\u001b[0;34m[\u001b[0m\u001b[0;34m[\u001b[0m\u001b[0;34m'subjID'\u001b[0m\u001b[0;34m,\u001b[0m \u001b[0;34m'stimulus_0'\u001b[0m\u001b[0;34m,\u001b[0m \u001b[0;34m'actual_depth_0'\u001b[0m\u001b[0;34m,\u001b[0m \u001b[0;34m'stimulus_1'\u001b[0m\u001b[0;34m,\u001b[0m \u001b[0;34m'actual_depth_1'\u001b[0m\u001b[0;34m,\u001b[0m \u001b[0;34m'discrim_choice'\u001b[0m\u001b[0;34m]\u001b[0m\u001b[0;34m]\u001b[0m\u001b[0;34m\u001b[0m\u001b[0m\n\u001b[0m",
      "\u001b[0;31mIndexError\u001b[0m: list index out of range"
     ]
    }
   ],
   "source": [
    "investigate[0][['subjID', 'stimulus_0', 'actual_depth_0', 'stimulus_1', 'actual_depth_1', 'discrim_choice']]"
   ]
  },
  {
   "cell_type": "code",
   "execution_count": 25,
   "metadata": {},
   "outputs": [
    {
     "data": {
      "image/png": "[encoded data removed]",
      "text/plain": [
       "<Figure size 576x360 with 1 Axes>"
      ]
     },
     "metadata": {
      "needs_background": "light"
     },
     "output_type": "display_data"
    }
   ],
   "source": [
    "plt.figure(figsize = [8, 5])\n",
    "plt.bar(range(len(depth_bins_accuracy_250)), list(depth_bins_accuracy_250.values()), align='center', color = 'orange')\n",
    "plt.xticks(range(len(depth_bins_accuracy_250)), list(depth_bins_accuracy_250.keys()), rotation=90)\n",
    "plt.xlabel(\"Depth Bin\", fontsize = 12)\n",
    "plt.ylabel(\"Proportion Correct Trials\", fontsize = 12)\n",
    "plt.title(\"250 ms: Accuracy\", fontsize = 18)\n",
    "plt.show()"
   ]
  },
  {
   "cell_type": "code",
   "execution_count": 26,
   "metadata": {},
   "outputs": [],
   "source": [
    "# depthbin_2m = final_discrim[(final_discrim['actual_depth_0'] >= 2) & (final_discrim['actual_depth_0'] < _bin + 0.2)]\n",
    "\n",
    "# depthbin_stim0 = []\n",
    "# depthbin_stim1 = []\n",
    "# depthbin_depthdiff = []\n",
    "# for index, row in depthbin_2m.iterrows():\n",
    "#     depthbin_stim0.append(row['stimulus_0'])\n",
    "#     depthbin_stim1.append(row['stimulus_1'])\n",
    "#     depthbin_depthdiff.append(abs(row['actual_depth_0'] - row['actual_depth_1']))\n",
    "    "
   ]
  },
  {
   "cell_type": "code",
   "execution_count": 27,
   "metadata": {},
   "outputs": [],
   "source": [
    "# i = 10\n",
    "# depthbin_stim0[i], depthbin_stim1[i], depthbin_depthdiff[i]\n"
   ]
  },
  {
   "cell_type": "code",
   "execution_count": 28,
   "metadata": {},
   "outputs": [
    {
     "data": {
      "image/png": "[encoded data removed]",
      "text/plain": [
       "<Figure size 576x360 with 1 Axes>"
      ]
     },
     "metadata": {
      "needs_background": "light"
     },
     "output_type": "display_data"
    }
   ],
   "source": [
    "plt.figure(figsize = [8, 5])\n",
    "plt.bar(range(len(depth_bins_accuracy_1000)), list(depth_bins_accuracy_1000.values()), align='center', color = 'green')\n",
    "plt.xticks(range(len(depth_bins_accuracy_1000)), list(depth_bins_accuracy_1000.keys()), rotation=90)\n",
    "plt.xlabel(\"Depth Bin\", fontsize = 12)\n",
    "plt.ylabel(\"Proportion Correct Trials\", fontsize = 12)\n",
    "plt.title(\"1000 ms: Accuracy\", fontsize = 18)\n",
    "plt.show()\n"
   ]
  },
  {
   "cell_type": "markdown",
   "metadata": {},
   "source": [
    "#### Proportion Correct as a Function of Amount of Depth Difference"
   ]
  },
  {
   "cell_type": "code",
   "execution_count": 26,
   "metadata": {},
   "outputs": [],
   "source": [
    "def depth_differences(df):\n",
    "    \"\"\"\n",
    "    args:\n",
    "        df  \n",
    "    returns:\n",
    "        array of depth differences, avg depth differences and std   \n",
    "    \"\"\"\n",
    "    depth_diffs = []\n",
    "    for idx, row in df.iterrows():\n",
    "        depth0 = row[\"actual_depth_0\"]\n",
    "        depth1 = row[\"actual_depth_1\"]\n",
    "        \n",
    "        diff = abs(depth0-depth1)\n",
    "        depth_diffs.append(diff)\n",
    "    \n",
    "    depth_diffs = np.array(depth_diffs)\n",
    "    \n",
    "    return depth_diffs, np.mean(depth_diffs) ,np.std(depth_diffs)\n",
    "    "
   ]
  },
  {
   "cell_type": "code",
   "execution_count": 27,
   "metadata": {},
   "outputs": [],
   "source": [
    "all_depth_diffs = depth_differences(final_discrim)\n",
    "\n",
    "# add depth difference column to dataframe \n",
    "final_discrim.insert(18, \"depth_difference\", all_depth_diffs[0])"
   ]
  },
  {
   "cell_type": "code",
   "execution_count": 28,
   "metadata": {},
   "outputs": [
    {
     "data": {
      "text/plain": [
       "200      0.7130\n",
       "201      0.3015\n",
       "202      1.2280\n",
       "203      0.9545\n",
       "204      0.5880\n",
       "          ...  \n",
       "20095    0.5880\n",
       "20096    0.3150\n",
       "20097    1.2085\n",
       "20098    1.0065\n",
       "20099    0.3100\n",
       "Name: depth_difference, Length: 7836, dtype: float64"
      ]
     },
     "execution_count": 28,
     "metadata": {},
     "output_type": "execute_result"
    }
   ],
   "source": [
    "final_discrim[\"depth_difference\"]"
   ]
  },
  {
   "cell_type": "code",
   "execution_count": null,
   "metadata": {},
   "outputs": [],
   "source": []
  },
  {
   "cell_type": "code",
   "execution_count": 29,
   "metadata": {},
   "outputs": [
    {
     "name": "stdout",
     "output_type": "stream",
     "text": [
      "Mean & Std:  (0.6878909466989964, 0.28653163045013563)\n"
     ]
    },
    {
     "data": {
      "image/png": "[encoded data removed]",
      "text/plain": [
       "<Figure size 504x432 with 1 Axes>"
      ]
     },
     "metadata": {
      "needs_background": "light"
     },
     "output_type": "display_data"
    },
    {
     "data": {
      "text/plain": [
       "(1.2429999999999999, 0.266)"
      ]
     },
     "execution_count": 29,
     "metadata": {},
     "output_type": "execute_result"
    }
   ],
   "source": [
    "print(\"Mean & Std: \", all_depth_diffs[1:])\n",
    "plt.figure(figsize = [7,6])\n",
    "plt.hist(all_depth_diffs[0], bins=100)\n",
    "plt.title(\"Distribution of Depth Differences\", fontsize = 14)\n",
    "plt.xlabel(\"Depth Difference\", fontsize = 12)\n",
    "plt.ylabel(\"count\", fontsize = 12)\n",
    "plt.show()\n",
    "np.amax(all_depth_diffs[0]), np.amin(all_depth_diffs[0])"
   ]
  },
  {
   "cell_type": "code",
   "execution_count": 33,
   "metadata": {},
   "outputs": [],
   "source": [
    "# individual discrimination code "
   ]
  },
  {
   "cell_type": "code",
   "execution_count": 30,
   "metadata": {},
   "outputs": [],
   "source": [
    "depth_diffs = np.arange(0.24,0.54, 0.04)\n",
    "\n",
    "\n",
    "depth_diff_accuracy_250 = {}\n",
    "depth_diff_accuracy_1000 = {}\n",
    "\n",
    "for diff in depth_diffs:\n",
    "    diff_bin_df = final_discrim[(final_discrim['depth_difference'] >= diff) & (final_discrim['depth_difference'] < diff + 0.04)]\n",
    "    diff_bin_df_250ms = diff_bin_df[diff_bin_df['duration'] == 250.0]\n",
    "    diff_bin_df_1000ms = diff_bin_df[diff_bin_df['duration'] == 1000.0]\n",
    "\n",
    "    \n",
    "    diff_acc_250 = get_accuracy(diff_bin_df_250ms)\n",
    "    diff_acc_1000 = get_accuracy(diff_bin_df_1000ms)\n",
    "    \n",
    "    depth_diff_accuracy_250[round(diff, 3)] = diff_acc_250[0]\n",
    "    depth_diff_accuracy_1000[round(diff, 3)] = diff_acc_1000[0]\n",
    "    "
   ]
  },
  {
   "cell_type": "code",
   "execution_count": 31,
   "metadata": {},
   "outputs": [
    {
     "data": {
      "image/png": "[encoded data removed]",
      "text/plain": [
       "<Figure size 576x360 with 1 Axes>"
      ]
     },
     "metadata": {
      "needs_background": "light"
     },
     "output_type": "display_data"
    }
   ],
   "source": [
    "plt.figure(figsize = [8, 5])\n",
    "plt.bar(range(len(depth_diff_accuracy_250)), list(depth_diff_accuracy_250.values()), color = 'orange')\n",
    "plt.xticks(range(len(depth_diff_accuracy_250)), list(depth_diff_accuracy_250.keys()), rotation=90)\n",
    "plt.xlabel(\"Depth Difference\", fontsize = 12)\n",
    "plt.ylabel(\"Proportion Correct Trials\", fontsize = 12)\n",
    "plt.title(\"250 ms: Accuracy by Depth Difference\", fontsize = 18)\n",
    "plt.show()"
   ]
  },
  {
   "cell_type": "code",
   "execution_count": 32,
   "metadata": {},
   "outputs": [
    {
     "data": {
      "image/png": "[encoded data removed]",
      "text/plain": [
       "<Figure size 576x360 with 1 Axes>"
      ]
     },
     "metadata": {
      "needs_background": "light"
     },
     "output_type": "display_data"
    }
   ],
   "source": [
    "plt.figure(figsize = [8, 5])\n",
    "plt.bar(range(len(depth_diff_accuracy_1000)), list(depth_diff_accuracy_1000.values()), color = 'green')\n",
    "plt.xticks(range(len(depth_diff_accuracy_1000)), list(depth_diff_accuracy_1000.keys()), rotation=90)\n",
    "plt.xlabel(\"Depth Difference\", fontsize = 12)\n",
    "plt.ylabel(\"Proportion Correct Trials\", fontsize = 12)\n",
    "plt.title(\"1000 ms: Accuracy by Depth Difference\", fontsize = 18)\n",
    "plt.show()"
   ]
  },
  {
   "cell_type": "code",
   "execution_count": null,
   "metadata": {},
   "outputs": [],
   "source": []
  },
  {
   "cell_type": "markdown",
   "metadata": {},
   "source": [
    "## Reaction Time"
   ]
  },
  {
   "cell_type": "code",
   "execution_count": 33,
   "metadata": {},
   "outputs": [],
   "source": [
    "def get_RT(df):\n",
    "    \"\"\"\n",
    "    args:\n",
    "        df  \n",
    "    returns:\n",
    "        array of RTs, avg RT and std   \n",
    "    \"\"\"\n",
    "    list_RTs = []\n",
    "    for idx, row in df.iterrows():   \n",
    "        stimulus_duration = row['log_sceneDuration2']\n",
    "        RT = row[\"trial_RT\"] - stimulus_duration\n",
    "        list_RTs.append(RT)\n",
    "    \n",
    "    if len(list_RTs) < 2:\n",
    "        return list_RTs\n",
    "    else:\n",
    "        list_RTs = np.array(list_RTs)\n",
    "        return list_RTs, np.mean(list_RTs) ,np.std(list_RTs), stats.sem(list_RTs)"
   ]
  },
  {
   "cell_type": "code",
   "execution_count": 34,
   "metadata": {},
   "outputs": [
    {
     "name": "stdout",
     "output_type": "stream",
     "text": [
      "Mean & Std:  (1114.7087799897906, 420.6397773467965, 4.752157636937169)\n"
     ]
    },
    {
     "data": {
      "image/png": "[encoded data removed]",
      "text/plain": [
       "<Figure size 504x432 with 1 Axes>"
      ]
     },
     "metadata": {
      "needs_background": "light"
     },
     "output_type": "display_data"
    }
   ],
   "source": [
    "overall_RT = get_RT(final_discrim)\n",
    "print(\"Mean & Std: \", overall_RT[1:])\n",
    "plt.figure(figsize = [7,6])\n",
    "plt.hist(overall_RT[0])\n",
    "plt.title(\"RT Distribution of All Trials\", fontsize = 14)\n",
    "plt.xlabel(\"RT (ms)\", fontsize = 12)\n",
    "plt.ylabel(\"count\", fontsize = 12)\n",
    "plt.show()"
   ]
  },
  {
   "cell_type": "code",
   "execution_count": 35,
   "metadata": {},
   "outputs": [],
   "source": [
    "RT_250 = get_RT(discrim_250ms)\n",
    "RT_1000 = get_RT(discrim_1000ms)\n"
   ]
  },
  {
   "cell_type": "code",
   "execution_count": 36,
   "metadata": {},
   "outputs": [
    {
     "name": "stdout",
     "output_type": "stream",
     "text": [
      "Mean & Std:  (1163.9616276075199, 441.1684948117341, 7.080708653603145)\n"
     ]
    },
    {
     "data": {
      "image/png": "[encoded data removed]",
      "text/plain": [
       "<Figure size 504x432 with 1 Axes>"
      ]
     },
     "metadata": {
      "needs_background": "light"
     },
     "output_type": "display_data"
    }
   ],
   "source": [
    "print(\"Mean & Std: \", RT_250[1:])\n",
    "plt.figure(figsize = [7,6])\n",
    "plt.hist(RT_250[0], color=\"orange\")\n",
    "plt.title(\"250 ms: RT Distribution\", fontsize = 14)\n",
    "plt.xlabel(\"RT (ms)\", fontsize = 12)\n",
    "plt.ylabel(\"count\", fontsize = 12)\n",
    "plt.show()"
   ]
  },
  {
   "cell_type": "code",
   "execution_count": 37,
   "metadata": {},
   "outputs": [
    {
     "name": "stdout",
     "output_type": "stream",
     "text": [
      "Mean & Std:  (1066.3281052365292, 393.4916975301676, 6.259319287397977)\n"
     ]
    },
    {
     "data": {
      "image/png": "[encoded data removed]",
      "text/plain": [
       "<Figure size 504x432 with 1 Axes>"
      ]
     },
     "metadata": {
      "needs_background": "light"
     },
     "output_type": "display_data"
    }
   ],
   "source": [
    "print(\"Mean & Std: \", RT_1000[1:])\n",
    "plt.figure(figsize = [7,6])\n",
    "plt.hist(RT_1000[0], color=\"green\")\n",
    "plt.title(\"1000 ms: RT Distribution\", fontsize = 14)\n",
    "plt.xlabel(\"RT (ms)\", fontsize = 12)\n",
    "plt.ylabel(\"count\", fontsize = 12)\n",
    "plt.show()"
   ]
  },
  {
   "cell_type": "code",
   "execution_count": 38,
   "metadata": {},
   "outputs": [],
   "source": [
    "depth_bins = np.arange(1,5,0.4)\n",
    "depth_bins_avgRT_250 = {}\n",
    "depth_bins_stdRT_250 = {}\n",
    "depth_bins_avgRT_1000 = {}\n",
    "depth_bins_stdRT_1000 = {}\n",
    "\n",
    "\n",
    "for _bin in depth_bins:\n",
    "    bin_df = final_discrim[(final_discrim['actual_depth_0'] >= _bin) & (final_discrim['actual_depth_0'] < _bin + 0.4)]\n",
    "    bin_df_250ms = bin_df[bin_df['duration'] == 250.0]\n",
    "    bin_df_1000ms = bin_df[bin_df['duration'] == 1000.0]\n",
    "    \n",
    "    _RT_250 = get_RT(bin_df_250ms)\n",
    "    _RT_1000 = get_RT(bin_df_1000ms)\n",
    "    \n",
    "    depth_bins_avgRT_250[round(_bin, 3)] = _RT_250[1]\n",
    "    depth_bins_stdRT_250[round(_bin,3)] = _RT_250[2]\n",
    "    depth_bins_avgRT_1000[round(_bin, 3)] = _RT_1000[1]\n",
    "    depth_bins_stdRT_1000[round(_bin,3)] = _RT_1000[2]\n"
   ]
  },
  {
   "cell_type": "code",
   "execution_count": 39,
   "metadata": {},
   "outputs": [
    {
     "data": {
      "image/png": "[encoded data removed]",
      "text/plain": [
       "<Figure size 576x360 with 1 Axes>"
      ]
     },
     "metadata": {
      "needs_background": "light"
     },
     "output_type": "display_data"
    }
   ],
   "source": [
    "plt.figure(figsize = [8, 5])\n",
    "\n",
    "plt.bar(range(len(depth_bins_avgRT_250)), list(depth_bins_avgRT_250.values()), align='center', color = 'orange',\n",
    "        yerr = list(depth_bins_stdRT_250.values()))\n",
    "\n",
    "plt.xticks(range(len(depth_bins_avgRT_250)), list(depth_bins_avgRT_250.keys()), rotation=90)\n",
    "plt.xlabel(\"Depth Bin\", fontsize = 12)\n",
    "plt.ylabel(\"Average RT (ms)\", fontsize = 12)\n",
    "plt.title(\"250 ms: Average RT\", fontsize = 18)\n",
    "plt.show()"
   ]
  },
  {
   "cell_type": "code",
   "execution_count": 40,
   "metadata": {},
   "outputs": [
    {
     "data": {
      "image/png": "[encoded data removed]",
      "text/plain": [
       "<Figure size 576x360 with 1 Axes>"
      ]
     },
     "metadata": {
      "needs_background": "light"
     },
     "output_type": "display_data"
    }
   ],
   "source": [
    "plt.figure(figsize = [8, 5])\n",
    "\n",
    "plt.bar(range(len(depth_bins_avgRT_1000)), list(depth_bins_avgRT_1000.values()), align='center', color = 'green',\n",
    "        yerr = list(depth_bins_stdRT_1000.values()))\n",
    "\n",
    "plt.xticks(range(len(depth_bins_avgRT_1000)), list(depth_bins_avgRT_1000.keys()), rotation=90)\n",
    "plt.xlabel(\"Depth Bin\", fontsize = 12)\n",
    "plt.ylabel(\"Average RT (ms)\", fontsize = 12)\n",
    "plt.title(\"1000 ms: Average RT\", fontsize = 18)\n",
    "plt.show()"
   ]
  },
  {
   "cell_type": "code",
   "execution_count": null,
   "metadata": {},
   "outputs": [],
   "source": []
  },
  {
   "cell_type": "code",
   "execution_count": 41,
   "metadata": {},
   "outputs": [],
   "source": [
    "depth_diffs = np.arange(0.24,0.54, 0.04)\n",
    "\n",
    "depth_diff_RT_250 = {}\n",
    "depth_diff_RT_1000 = {}\n",
    "\n",
    "for diff in depth_diffs:\n",
    "    diff_bin_df = final_discrim[(final_discrim['depth_difference'] >= diff) & (final_discrim['depth_difference'] < diff + 0.04)]\n",
    "    diff_bin_df_250ms = diff_bin_df[diff_bin_df['duration'] == 250.0]\n",
    "    diff_bin_df_1000ms = diff_bin_df[diff_bin_df['duration'] == 1000.0]\n",
    "    \n",
    "    diff_RT_250 = get_RT(diff_bin_df_250ms)\n",
    "    diff_RT_1000 = get_RT(diff_bin_df_1000ms)\n",
    "    \n",
    "    depth_diff_RT_250[round(diff, 3)] = diff_RT_250[1]\n",
    "    depth_diff_RT_1000[round(diff, 3)] = diff_RT_1000[1]\n",
    "    "
   ]
  },
  {
   "cell_type": "code",
   "execution_count": null,
   "metadata": {},
   "outputs": [],
   "source": []
  },
  {
   "cell_type": "code",
   "execution_count": 42,
   "metadata": {},
   "outputs": [
    {
     "data": {
      "image/png": "[encoded data removed]",
      "text/plain": [
       "<Figure size 576x360 with 1 Axes>"
      ]
     },
     "metadata": {
      "needs_background": "light"
     },
     "output_type": "display_data"
    }
   ],
   "source": [
    "plt.figure(figsize = [8, 5])\n",
    "plt.bar(range(len(depth_diff_RT_250)), list(depth_diff_RT_250.values()), color = 'orange')\n",
    "plt.xticks(range(len(depth_diff_RT_250)), list(depth_diff_RT_250.keys()), rotation=90)\n",
    "plt.xlabel(\"Depth Difference\", fontsize = 12)\n",
    "plt.ylabel(\"Average RT (ms)\", fontsize = 12)\n",
    "plt.title(\"250 ms: Avg RT by Depth Difference\", fontsize = 18)\n",
    "plt.show()"
   ]
  },
  {
   "cell_type": "code",
   "execution_count": 43,
   "metadata": {},
   "outputs": [
    {
     "data": {
      "image/png": "[encoded data removed]",
      "text/plain": [
       "<Figure size 576x360 with 1 Axes>"
      ]
     },
     "metadata": {
      "needs_background": "light"
     },
     "output_type": "display_data"
    }
   ],
   "source": [
    "plt.figure(figsize = [8, 5])\n",
    "plt.bar(range(len(depth_diff_RT_1000)), list(depth_diff_RT_1000.values()), color = 'green')\n",
    "plt.xticks(range(len(depth_diff_RT_1000)), list(depth_diff_RT_1000.keys()), rotation=90)\n",
    "plt.xlabel(\"Depth Difference\", fontsize = 12)\n",
    "plt.ylabel(\"Average RT (ms)\", fontsize = 12)\n",
    "plt.title(\"1000 ms: RT by Depth Difference\", fontsize = 18)\n",
    "plt.show()"
   ]
  },
  {
   "cell_type": "markdown",
   "metadata": {},
   "source": [
    "## Individual Discriminations"
   ]
  },
  {
   "cell_type": "code",
   "execution_count": 44,
   "metadata": {},
   "outputs": [],
   "source": [
    "def individual_discrimination_stats(df):\n",
    "    '''\n",
    "    Individual discrimination performance and RT \n",
    "    '''\n",
    "    all_stim0 = df.stimulus_0.unique()\n",
    "    \n",
    "    stimuli_stats = {}\n",
    "    for stim0 in all_stim0:\n",
    "        stim0_df = df.loc[df['stimulus_0'] == stim0]\n",
    "        other_stim = stim0_df.stimulus_1.unique()[0]\n",
    "        stim1_df = df.loc[df['stimulus_1'] == stim0]\n",
    "        # df for a specific discrimination trial (collapsed on stim presentation order)\n",
    "        stim_df = pd.concat([stim0_df, stim1_df], ignore_index=True)\n",
    "        stim_250_df = stim_df[stim_df['duration'] == 250.0]\n",
    "        stim_1000_df = stim_df[stim_df['duration'] == 1000.0] \n",
    "        \n",
    "        stim_depthdiff = stim_df['depth_difference'][0]\n",
    "        \n",
    "        stim0_depth = stim_df['actual_depth_0'][0]\n",
    "        stim1_depth = stim_df['actual_depth_1'][0]\n",
    "        stim_depthbin = np.mean(np.array([stim0_depth,stim1_depth]))\n",
    "        \n",
    "        stim_acc_250 = get_accuracy(stim_250_df)\n",
    "        stim_acc_1000 = get_accuracy(stim_1000_df)\n",
    "        \n",
    "        stim_RT_250 = get_RT(stim_250_df)\n",
    "        stim_RT_1000 = get_RT(stim_1000_df)\n",
    "        \n",
    "        stimuli_stats[stim0] = {'stimulus_1': other_stim,\n",
    "                                'accuracy_250': stim_acc_250,\n",
    "                                'accuracy_1000': stim_acc_1000,\n",
    "                                'avg_depth': stim_depthbin,\n",
    "                                'depthdifference': stim_depthdiff, \n",
    "                                'RT_250': stim_RT_250,\n",
    "                                'RT_1000': stim_RT_1000}\n",
    "    \n",
    "    return stimuli_stats"
   ]
  },
  {
   "cell_type": "code",
   "execution_count": 45,
   "metadata": {},
   "outputs": [],
   "source": [
    "all_discrim_performance = individual_discrimination_stats(final_discrim)\n"
   ]
  },
  {
   "cell_type": "code",
   "execution_count": 46,
   "metadata": {},
   "outputs": [
    {
     "ename": "NameError",
     "evalue": "name 'stim_acc_1000' is not defined",
     "output_type": "error",
     "traceback": [
      "\u001b[0;31m---------------------------------------------------------------------------\u001b[0m",
      "\u001b[0;31mNameError\u001b[0m                                 Traceback (most recent call last)",
      "\u001b[0;32m<ipython-input-46-54762fa00a24>\u001b[0m in \u001b[0;36m<module>\u001b[0;34m\u001b[0m\n\u001b[1;32m     39\u001b[0m         \u001b[0;32mexcept\u001b[0m\u001b[0;34m:\u001b[0m\u001b[0;34m\u001b[0m\u001b[0;34m\u001b[0m\u001b[0m\n\u001b[1;32m     40\u001b[0m             \u001b[0;32mpass\u001b[0m\u001b[0;34m\u001b[0m\u001b[0;34m\u001b[0m\u001b[0m\n\u001b[0;32m---> 41\u001b[0;31m         \u001b[0msubj_correctcount_1000\u001b[0m \u001b[0;34m+=\u001b[0m \u001b[0mstim_acc_1000\u001b[0m\u001b[0;34m\u001b[0m\u001b[0;34m\u001b[0m\u001b[0m\n\u001b[0m\u001b[1;32m     42\u001b[0m \u001b[0;31m#         try:\u001b[0m\u001b[0;34m\u001b[0m\u001b[0;34m\u001b[0m\u001b[0;34m\u001b[0m\u001b[0m\n\u001b[1;32m     43\u001b[0m \u001b[0;31m#             subj_RTs_250.append(get_RT(stim_250_df)[0])\u001b[0m\u001b[0;34m\u001b[0m\u001b[0;34m\u001b[0m\u001b[0;34m\u001b[0m\u001b[0m\n",
      "\u001b[0;31mNameError\u001b[0m: name 'stim_acc_1000' is not defined"
     ]
    }
   ],
   "source": [
    "all_subjs = final_discrim.subjID.unique()\n",
    "\n",
    "subjs_PC_250 = []\n",
    "subjs_PC_1000 = []\n",
    "subjs_avgRT_250 = []\n",
    "subjs_avgRT_1000 = []\n",
    "\n",
    "for subj in all_subjs:\n",
    "    subjdf = final_discrim.loc[final_discrim['subjID'] == subj]\n",
    "    \n",
    "    all_stim0 = subjdf.stimulus_0.unique()\n",
    "    \n",
    "    subj_correctcount_250 = 0\n",
    "    subj_correctcount_1000 = 0\n",
    "    subj_RTs_250 = []\n",
    "    subj_RTs_1000 = []\n",
    "    \n",
    "    stimuli_stats = {}\n",
    "    total = 0\n",
    "    for stim0 in all_stim0:\n",
    "        stim0_df = subjdf.loc[subjdf['stimulus_0'] == stim0]\n",
    "        other_stim = stim0_df.stimulus_1.unique()[0]\n",
    "        stim1_df = subjdf.loc[subjdf['stimulus_1'] == stim0]\n",
    "        # df for a specific discrimination trial (collapsed on stim presentation order)\n",
    "        stim_df = pd.concat([stim0_df, stim1_df], ignore_index=True)\n",
    "        stim_250_df = stim_df[stim_df['duration'] == 250.0]\n",
    "        stim_1000_df = stim_df[stim_df['duration'] == 1000.0] \n",
    "        \n",
    "        stim_depthdiff = stim_df['depth_difference'][0]\n",
    "        try:\n",
    "            stim_acc_250 = get_accuracy(stim_250_df)[0]\n",
    "            total += 1\n",
    "        except:\n",
    "            pass\n",
    "        subj_correctcount_250 += stim_acc_250\n",
    "        try:\n",
    "            stim_acc_1000 = get_accuracy(stim_1000_df)[0]\n",
    "            total += 1\n",
    "        except: \n",
    "            pass\n",
    "        subj_correctcount_1000 += stim_acc_1000\n",
    "#         try:\n",
    "#             subj_RTs_250.append(get_RT(stim_250_df)[0])\n",
    "#         except:\n",
    "#             pass\n",
    "#         try:\n",
    "#             subj_RTs_1000.append(get_RT(stim_1000_df)[0])\n",
    "#         except:\n",
    "#             pass\n",
    "        \n",
    "#         stimuli_stats[stim0] = {'stimulus_1': other_stim,\n",
    "#                                 'accuracy_250': stim_acc_250,\n",
    "#                                 'accuracy_1000': stim_acc_1000,\n",
    "#                                 'depthdifference': stim_depthdiff, \n",
    "#                                 'RT_250': stim_RT_250,\n",
    "#                                 'RT_1000': stim_RT_1000}\n",
    "        \n",
    "    subjs_PC_250.append(subj_correctcount_250/total)\n",
    "    subjs_PC_1000.append(subj_correctcount_1000/total)\n",
    "    \n",
    "#     if len(subj_RTs_250) > 1:\n",
    "#         subjs_avgRT_250.append(np.mean(subj_RTs_250))\n",
    "#         subjs_avgRT_1000.append(np.mean(subj_RTs_1000))\n",
    "\n",
    "    "
   ]
  },
  {
   "cell_type": "code",
   "execution_count": 47,
   "metadata": {},
   "outputs": [
    {
     "data": {
      "text/plain": [
       "0"
      ]
     },
     "execution_count": 47,
     "metadata": {},
     "output_type": "execute_result"
    }
   ],
   "source": [
    "len(subjs_PC_250)"
   ]
  },
  {
   "cell_type": "code",
   "execution_count": null,
   "metadata": {},
   "outputs": [],
   "source": []
  },
  {
   "cell_type": "code",
   "execution_count": 48,
   "metadata": {},
   "outputs": [],
   "source": [
    "# all_discrim_performance['depth_discrimination_stimuli/001175_2014-06-17_15-45-55_260595134347_rgbf000129-resize_4/001175_2014-06-17_15-45-55_260595134347_rgbf000129-resize_4-target.png']\n"
   ]
  },
  {
   "cell_type": "markdown",
   "metadata": {},
   "source": [
    "### Prep accuracy data for plotting"
   ]
  },
  {
   "cell_type": "code",
   "execution_count": 49,
   "metadata": {},
   "outputs": [
    {
     "data": {
      "text/plain": [
       "(4.269, 0.7129999999999996, 0.4883720930232558, 0.0762286633173339)"
      ]
     },
     "execution_count": 49,
     "metadata": {},
     "output_type": "execute_result"
    }
   ],
   "source": [
    "# x = average depth of the targets \n",
    "final_x_250 = [all_discrim_performance[key]['avg_depth'] for key in all_discrim_performance]\n",
    "# y = depth difference of the targets\n",
    "final_y_250 = [all_discrim_performance[key]['depthdifference'] for key in all_discrim_performance]\n",
    "# z = proportion correct \n",
    "final_z_250 = [all_discrim_performance[key]['accuracy_250'][0] for key in all_discrim_performance]\n",
    "\n",
    "ste_250 = [all_discrim_performance[elem]['accuracy_250'][-1] for elem in all_discrim_performance]\n",
    "\n",
    "\n",
    "final_x_250[0], final_y_250[0], final_z_250[0], ste_250[0]"
   ]
  },
  {
   "cell_type": "code",
   "execution_count": null,
   "metadata": {},
   "outputs": [],
   "source": []
  },
  {
   "cell_type": "code",
   "execution_count": 50,
   "metadata": {},
   "outputs": [
    {
     "data": {
      "text/plain": [
       "(4.269, 0.7129999999999996, 0.4418604651162791, 0.07573205436112189)"
      ]
     },
     "execution_count": 50,
     "metadata": {},
     "output_type": "execute_result"
    }
   ],
   "source": [
    "# x = average depth of the targets \n",
    "final_x_1000 = [all_discrim_performance[key]['avg_depth'] for key in all_discrim_performance]\n",
    "# y = depth difference of the targets\n",
    "final_y_1000 = [all_discrim_performance[key]['depthdifference'] for key in all_discrim_performance]\n",
    "# z = proportion correct \n",
    "final_z_1000 = [all_discrim_performance[key]['accuracy_1000'][0] for key in all_discrim_performance]\n",
    "\n",
    "ste_1000 = [all_discrim_performance[elem]['accuracy_1000'][-1] for elem in all_discrim_performance]\n",
    "\n",
    "\n",
    "final_x_1000[0], final_y_1000[0], final_z_1000[0], ste_1000[0]"
   ]
  },
  {
   "cell_type": "markdown",
   "metadata": {},
   "source": [
    "https://jakevdp.github.io/PythonDataScienceHandbook/04.12-three-dimensional-plotting.html"
   ]
  },
  {
   "cell_type": "code",
   "execution_count": 51,
   "metadata": {},
   "outputs": [],
   "source": [
    "at_chance = np.array([0.5] * 87)"
   ]
  },
  {
   "cell_type": "code",
   "execution_count": 52,
   "metadata": {},
   "outputs": [
    {
     "name": "stdout",
     "output_type": "stream",
     "text": [
      "Independent Samples T-Test: Kinect PC @ 250 ms:  Ttest_indResult(statistic=nan, pvalue=nan)\n"
     ]
    }
   ],
   "source": [
    "ttest_KinectPC_250 = stats.ttest_ind(subjs_PC_250, at_chance)\n",
    "print('Independent Samples T-Test: Kinect PC @ 250 ms: ', ttest_KinectPC_250)"
   ]
  },
  {
   "cell_type": "code",
   "execution_count": 53,
   "metadata": {},
   "outputs": [
    {
     "name": "stdout",
     "output_type": "stream",
     "text": [
      "Independent Samples T-Test: Kinect PC @ 1000 ms:  Ttest_indResult(statistic=nan, pvalue=nan)\n"
     ]
    }
   ],
   "source": [
    "ttest_KinectPC_1000 = stats.ttest_ind(subjs_PC_1000, at_chance)\n",
    "print('Independent Samples T-Test: Kinect PC @ 1000 ms: ', ttest_KinectPC_1000)"
   ]
  },
  {
   "cell_type": "code",
   "execution_count": null,
   "metadata": {},
   "outputs": [],
   "source": []
  },
  {
   "cell_type": "code",
   "execution_count": null,
   "metadata": {},
   "outputs": [],
   "source": []
  },
  {
   "cell_type": "code",
   "execution_count": 54,
   "metadata": {},
   "outputs": [],
   "source": [
    "def get_super(x):\n",
    "    normal = \"ABCDEFGHIJKLMNOPQRSTUVWXYZabcdefghijklmnopqrstuvwxyz0123456789+-=()\"\n",
    "    super_s = \"ᴬᴮᶜᴰᴱᶠᴳᴴᴵᴶᴷᴸᴹᴺᴼᴾQᴿˢᵀᵁⱽᵂˣʸᶻᵃᵇᶜᵈᵉᶠᵍʰᶦʲᵏˡᵐⁿᵒᵖ۹ʳˢᵗᵘᵛʷˣʸᶻ⁰¹²³⁴⁵⁶⁷⁸⁹⁺⁻⁼⁽⁾\"\n",
    "    res = x.maketrans(''.join(normal), ''.join(super_s))\n",
    "    return x.translate(res)"
   ]
  },
  {
   "cell_type": "code",
   "execution_count": 58,
   "metadata": {},
   "outputs": [
    {
     "name": "stdout",
     "output_type": "stream",
     "text": [
      "m: [0.26245456]\n",
      "b: 0.49840418561188904\n",
      "R-squared:  0.09805580965654315\n"
     ]
    },
    {
     "data": {
      "image/png": "[encoded data removed]",
      "text/plain": [
       "<Figure size 576x576 with 1 Axes>"
      ]
     },
     "metadata": {
      "needs_background": "light"
     },
     "output_type": "display_data"
    }
   ],
   "source": [
    "from sklearn.linear_model import LinearRegression\n",
    "\n",
    "fig, ax = plt.subplots(figsize=[8,8])\n",
    "right_side = ax.spines['right']\n",
    "right_side.set_visible(False)\n",
    "top = ax.spines['top']\n",
    "top.set_visible(False)\n",
    "\n",
    "#run regression\n",
    "X_250 = np.array(final_y_250).reshape(-1,1)\n",
    "y_250 = final_z_250\n",
    "reg_250 = LinearRegression().fit(X_250, y_250)\n",
    "\n",
    "#Generated Predictions\n",
    "y_predicted_250 = reg_250.predict(X_250)\n",
    "#Plot Our Actual and Predicted Values\n",
    "plt.errorbar(X_250, y_250, elinewidth=1, ecolor='gray', fmt='or', mfc='white', mec='chocolate', capsize=3, alpha = 0.3, yerr = np.array(ste_250));\n",
    "\n",
    "plt.plot(X_250, y_250, 'o', color='chocolate', alpha = 0.3);\n",
    "plt.plot(X_250,y_predicted_250,color='chocolate', label = 'm = ' + str(round(reg_250.coef_[0], 3))\n",
    "         + '     r-squared ='+ str(round(float(reg_250.score(X_250, y_250)), 3)))\n",
    "\n",
    "plt.xlabel(\"Kinect Depth Difference (m)\", fontsize = 15)\n",
    "plt.ylabel(\"Proportion Correct\", fontsize = 15)\n",
    "\n",
    "# plt.plot([0.2, 1.25], [0.5,0.5], '--', color='black')\n",
    "\n",
    "\n",
    "legend = plt.legend(loc = 4, fontsize=13, labelspacing=1, frameon=False)\n",
    "\n",
    "\n",
    "plt.xticks(np.arange(0.2,1.3, 0.1))\n",
    "plt.yticks(np.arange(0,1.2, 0.2))\n",
    "\n",
    "#get coefficients and y intercept\n",
    "print(\"m: {0}\".format(reg_250.coef_))\n",
    "print(\"b: {0}\".format(reg_250.intercept_))\n",
    "\n",
    "#Returns the coefficient of determination R^2 of the prediction.\n",
    "print(\"R-squared: \", reg_250.score(X_250, y_250))"
   ]
  },
  {
   "cell_type": "code",
   "execution_count": null,
   "metadata": {},
   "outputs": [],
   "source": [
    "stats.pearsonr(final_y_1000, final_z_1000)"
   ]
  },
  {
   "cell_type": "code",
   "execution_count": 57,
   "metadata": {},
   "outputs": [
    {
     "name": "stdout",
     "output_type": "stream",
     "text": [
      "m: [0.32081343]\n",
      "b: 0.4679839093887703\n",
      "R-squared:  0.14206437247334802\n"
     ]
    },
    {
     "data": {
      "image/png": "[encoded data removed]",
      "text/plain": [
       "<Figure size 576x576 with 1 Axes>"
      ]
     },
     "metadata": {
      "needs_background": "light"
     },
     "output_type": "display_data"
    }
   ],
   "source": [
    "from sklearn.linear_model import LinearRegression\n",
    "\n",
    "fig, ax = plt.subplots(figsize=[8,8])\n",
    "right_side = ax.spines['right']\n",
    "right_side.set_visible(False)\n",
    "top = ax.spines['top']\n",
    "top.set_visible(False)\n",
    "\n",
    "#run regression\n",
    "X_1000 = np.array(final_y_1000).reshape(-1,1)\n",
    "y_1000 = final_z_1000\n",
    "reg_1000 = LinearRegression().fit(X_1000, y_1000)\n",
    "\n",
    "#Generated Predictions\n",
    "y_predicted_1000 = reg_1000.predict(X_1000)\n",
    "#Plot Our Actual and Predicted Values\n",
    "plt.errorbar(X_1000, y_1000, elinewidth=1, ecolor='gray', fmt='or', mfc='white', mec='darkviolet', capsize=3, alpha = 0.3, yerr = np.array(ste_1000));\n",
    "\n",
    "r = np.sqrt(round(float(reg_1000.score(X_1000, y_1000)), 3))\n",
    "plt.plot(X_1000, y_1000, 'o', color='darkviolet', alpha = 0.3);\n",
    "plt.plot(X_1000,y_predicted_1000,color='darkviolet', label = 'y = ' + str(round(reg_1000.coef_[0], 3))\n",
    "         + 'x + ' + str(round(reg_1000.intercept_, 3)) + '     r-squared ='+ str(round(float(reg_1000.score(X_1000, y_1000)), 3)))\n",
    "\n",
    "plt.xlabel(\"Kinect Depth Difference (m)\", fontsize = 15)\n",
    "plt.ylabel(\"Proportion Correct\", fontsize = 15)\n",
    "\n",
    "# plt.plot([0, 1.25], [0.5,0.5], '--', color='black')\n",
    "\n",
    "\n",
    "legend = plt.legend(loc = 4, fontsize=13, labelspacing=1, frameon=False)\n",
    "\n",
    "\n",
    "plt.xticks(np.arange(0.2,1.3, 0.1))\n",
    "# plt.yticks(np.arange(0.15,1.2, 0.2))\n",
    "\n",
    "#get coefficients and y intercept\n",
    "print(\"m: {0}\".format(reg_1000.coef_))\n",
    "print(\"b: {0}\".format(reg_1000.intercept_))\n",
    "\n",
    "#Returns the coefficient of determination R^2 of the prediction.\n",
    "print(\"R-squared: \", reg_1000.score(X_1000, y_1000))"
   ]
  },
  {
   "cell_type": "markdown",
   "metadata": {},
   "source": [
    "### Prep RT data for plotting"
   ]
  },
  {
   "cell_type": "code",
   "execution_count": 125,
   "metadata": {},
   "outputs": [
    {
     "data": {
      "text/plain": [
       "(1.4997500000000001,\n",
       " 0.38650000000000007,\n",
       " 1165.3658536585365,\n",
       " 81.31398610758387)"
      ]
     },
     "execution_count": 125,
     "metadata": {},
     "output_type": "execute_result"
    }
   ],
   "source": [
    "# x = average depth of the targets \n",
    "final_x_250_RT = [all_discrim_performance[key]['avg_depth'] for key in all_discrim_performance]\n",
    "# y = depth difference of the targets\n",
    "final_y_250_RT = [all_discrim_performance[key]['depthdifference'] for key in all_discrim_performance]\n",
    "# z = average RT \n",
    "final_z_250_RT = [all_discrim_performance[key]['RT_250'][1] for key in all_discrim_performance]\n",
    "\n",
    "final_250_RT_ste = [all_discrim_performance[key]['RT_250'][-1] for key in all_discrim_performance]\n",
    "\n",
    "final_x_250_RT[0], final_y_250_RT[0], final_z_250_RT[0], final_250_RT_ste[0]"
   ]
  },
  {
   "cell_type": "code",
   "execution_count": 126,
   "metadata": {},
   "outputs": [
    {
     "data": {
      "text/plain": [
       "(1.4997500000000001, 0.38650000000000007, 1020.0, 54.56020393710544)"
      ]
     },
     "execution_count": 126,
     "metadata": {},
     "output_type": "execute_result"
    }
   ],
   "source": [
    "# x = average depth of the targets \n",
    "final_x_1000_RT = [all_discrim_performance[key]['avg_depth'] for key in all_discrim_performance]\n",
    "# y = depth difference of the targets\n",
    "final_y_1000_RT = [all_discrim_performance[key]['depthdifference'] for key in all_discrim_performance]\n",
    "# z = average RT \n",
    "final_z_1000_RT = [all_discrim_performance[key]['RT_1000'][1] for key in all_discrim_performance]\n",
    "\n",
    "final_1000_RT_ste = [all_discrim_performance[key]['RT_1000'][-1] for key in all_discrim_performance]\n",
    "\n",
    "final_x_1000_RT[0], final_y_1000_RT[0], final_z_1000_RT[0], final_1000_RT_ste[0]"
   ]
  },
  {
   "cell_type": "code",
   "execution_count": 131,
   "metadata": {},
   "outputs": [
    {
     "name": "stdout",
     "output_type": "stream",
     "text": [
      "m: [-63.69945308]\n",
      "b: 1208.3714997971042\n",
      "R-squared:  0.03883303869658028\n"
     ]
    },
    {
     "data": {
      "image/png": "[encoded data removed]",
      "text/plain": [
       "<Figure size 576x576 with 1 Axes>"
      ]
     },
     "metadata": {
      "needs_background": "light"
     },
     "output_type": "display_data"
    }
   ],
   "source": [
    "fig, ax = plt.subplots(figsize=[8,8])\n",
    "right_side = ax.spines['right']\n",
    "right_side.set_visible(False)\n",
    "top = ax.spines['top']\n",
    "top.set_visible(False)\n",
    "\n",
    "#run regression\n",
    "X_250 = np.array(final_y_250).reshape(-1,1)\n",
    "y_250 = final_z_250_RT\n",
    "reg_250 = LinearRegression().fit(X_250, y_250)\n",
    "\n",
    "#Generated Predictions\n",
    "y_predicted_250 = reg_250.predict(X_250)\n",
    "#Plot Our Actual and Predicted Values\n",
    "plt.errorbar(X_250, y_250,elinewidth=1, ecolor='gray',fmt='or', mfc='white', mec='chocolate', capsize=3, alpha = 0.3, yerr = np.array(final_250_RT_ste));\n",
    "\n",
    "r = np.sqrt(float(reg_250.score(X_250, y_250)))\n",
    "plt.plot(X_250, y_250, 's', color='chocolate', alpha = 0.3);\n",
    "plt.plot(X_250,y_predicted_250, '-',color='chocolate', label = 'y = ' + str(round(reg_250.coef_[0], 3))\n",
    "        + 'x +' +str(round(float(reg_250.intercept_), 3)) + '     r = ' + str(round(r, 3)))\n",
    "\n",
    "plt.xlabel(\"Kinect Depth Difference (m)\", fontsize = 15)\n",
    "plt.ylabel(\"RT (ms)\", fontsize = 15)\n",
    "\n",
    "\n",
    "legend = plt.legend(loc = 4, fontsize=13, labelspacing=1, frameon=False)\n",
    "\n",
    "fig.tight_layout()\n",
    "\n",
    "plt.xticks(np.arange(0.15,1.2, 0.2))\n",
    "plt.yticks(np.arange(900,1500, 100))\n",
    "\n",
    "\n",
    "#get coefficients and y intercept\n",
    "print(\"m: {0}\".format(reg_250.coef_))\n",
    "print(\"b: {0}\".format(reg_250.intercept_))\n",
    "\n",
    "#Returns the coefficient of determination R^2 of the prediction.\n",
    "print(\"R-squared: \", reg_250.score(X_250, y_250))"
   ]
  },
  {
   "cell_type": "code",
   "execution_count": null,
   "metadata": {},
   "outputs": [],
   "source": [
    "stats.pearsonr(final_y_250, final_z_250_RT), stats.pearsonr(final_y_1000, final_z_1000_RT)"
   ]
  },
  {
   "cell_type": "code",
   "execution_count": 133,
   "metadata": {},
   "outputs": [
    {
     "name": "stdout",
     "output_type": "stream",
     "text": [
      "m: [-4.38199996]\n",
      "b: 1069.8859039969839\n",
      "R-squared:  0.00032770106311830194\n"
     ]
    },
    {
     "data": {
      "image/png": "[encoded data removed]",
      "text/plain": [
       "<Figure size 576x576 with 1 Axes>"
      ]
     },
     "metadata": {
      "needs_background": "light"
     },
     "output_type": "display_data"
    }
   ],
   "source": [
    "\n",
    "fig, ax = plt.subplots(figsize=[8,8])\n",
    "right_side = ax.spines['right']\n",
    "right_side.set_visible(False)\n",
    "top = ax.spines['top']\n",
    "top.set_visible(False)\n",
    "\n",
    "#run regression\n",
    "X_1000 = np.array(final_y_1000).reshape(-1,1)\n",
    "y_1000 = final_z_1000_RT\n",
    "reg_1000 = LinearRegression().fit(X_1000, y_1000)\n",
    "\n",
    "#Generated Predictions\n",
    "y_predicted_1000 = reg_1000.predict(X_1000)\n",
    "#Plot Our Actual and Predicted Values\n",
    "\n",
    "plt.errorbar(X_1000, y_1000, elinewidth=1, ecolor='gray', fmt='or', mfc='white', mec='darkviolet', capsize=3, alpha = 0.3, yerr = np.array(final_1000_RT_ste));\n",
    "\n",
    "r = np.sqrt(float(reg_1000.score(X_1000, y_1000)))\n",
    "\n",
    "plt.plot(X_1000, y_1000, 's', color='darkviolet', alpha = 0.3);\n",
    "plt.plot(X_1000,y_predicted_1000, color='darkviolet', label = 'y = ' + str(round(reg_1000.coef_[0], 3))\n",
    "         + 'x + ' + str(round(reg_1000.intercept_, 3))+ '     r= ' + str(round(r, 3)))\n",
    "\n",
    "plt.xlabel(\"Kinect Depth Difference (m)\", fontsize = 15)\n",
    "plt.ylabel(\"RT (ms)\", fontsize = 15)\n",
    "\n",
    "\n",
    "legend = plt.legend(loc = 4, fontsize=13, labelspacing=1, frameon=False)\n",
    "\n",
    "fig.tight_layout()\n",
    "\n",
    "plt.xticks(np.arange(0.15,1.2, 0.2))\n",
    "plt.yticks(np.arange(900,1500, 100))\n",
    "\n",
    "\n",
    "#get coefficients and y intercept\n",
    "print(\"m: {0}\".format(reg_1000.coef_))\n",
    "print(\"b: {0}\".format(reg_1000.intercept_))\n",
    "\n",
    "#Returns the coefficient of determination R^2 of the prediction.\n",
    "print(\"R-squared: \", reg_1000.score(X_1000, y_1000))"
   ]
  },
  {
   "cell_type": "code",
   "execution_count": null,
   "metadata": {},
   "outputs": [],
   "source": [
    "# fig = plt.figure(figsize=[9,9])\n",
    "# ax = plt.axes(projection='3d')\n",
    "\n",
    "# # Data for three-dimensional scattered points\n",
    "# zdata_RT = np.array(final_z_250_RT)\n",
    "# xdata_RT = np.array(final_x_250_RT)\n",
    "# ydata_RT = np.array(final_y_250_RT)\n",
    "# ax.scatter3D(xdata_RT, ydata_RT, zdata_RT, c=zdata, cmap='Oranges');\n",
    "# ax.set_xlabel('Average Depth of Trial Targets (m)')\n",
    "# ax.set_ylabel('Depth Difference of Trial Targets (m)')\n",
    "# ax.set_zlabel('Average RT (ms)');\n",
    "# ax.set_title('Individulal Discrimination Avg RT: 250 ms', fontsize=16)"
   ]
  },
  {
   "cell_type": "code",
   "execution_count": null,
   "metadata": {},
   "outputs": [],
   "source": [
    "fig = plt.figure(figsize=[9,9])\n",
    "ax = plt.axes(projection='3d')\n",
    "\n",
    "# Data for three-dimensional scattered points\n",
    "zdata_RT_1000 = np.array(final_z_1000_RT)\n",
    "xdata_RT_1000 = np.array(final_x_1000_RT)\n",
    "ydata_RT_1000 = np.array(final_y_1000_RT)\n",
    "ax.scatter3D(xdata_RT_1000, ydata_RT_1000, zdata_RT_1000, c=zdata, cmap='Greens');\n",
    "ax.set_xlabel('Average Depth of Trial Targets (m)')\n",
    "ax.set_ylabel('Depth Difference of Trial Targets (m)')\n",
    "ax.set_zlabel('Average RT (ms)');\n",
    "ax.set_title('Individulal Discrimination Avg RT: 1000 ms', fontsize=16)"
   ]
  },
  {
   "cell_type": "code",
   "execution_count": null,
   "metadata": {},
   "outputs": [],
   "source": [
    "fig = plt.figure(figsize=[9,9])\n",
    "ax = plt.axes(projection='3d')\n",
    "\n",
    "# Data for three-dimensional scattered points\n",
    "zdata_RT_1000 = np.array(final_z_1000_RT)\n",
    "xdata_RT_1000 = np.array(final_x_1000_RT)\n",
    "ydata_RT_1000 = np.array(final_y_1000_RT)\n",
    "ax.scatter3D(xdata_RT, ydata_RT, zdata_RT, c=zdata, cmap='Oranges', label='250 ms');\n",
    "ax.scatter3D(xdata_RT_1000, ydata_RT_1000, zdata_RT_1000, c=zdata, cmap='Greens', label='1000 ms');\n",
    "ax.set_xlabel('Average Depth of Trial Targets (m)')\n",
    "ax.set_ylabel('Depth Difference of Trial Targets (m)')\n",
    "ax.set_zlabel('Average RT (ms)');\n",
    "ax.set_title('Individulal Discrimination Avg RT', fontsize=16)\n",
    "ax.legend()\n",
    "plt.show();"
   ]
  },
  {
   "cell_type": "code",
   "execution_count": null,
   "metadata": {
    "jupyter": {
     "source_hidden": true
    }
   },
   "outputs": [],
   "source": [
    "from mpl_toolkits.mplot3d import Axes3D\n",
    "\n",
    "fig = plt.figure(figsize=(16, 8))\n",
    "\n",
    "ax1 = fig.add_subplot(121, projection='3d')\n",
    "ax2 = fig.add_subplot(122, projection='3d')\n",
    "\n",
    "num_elements = len(xpos)\n",
    "zpos = [0] * num_elements\n",
    "dx = np.ones(num_elements)\n",
    "dy = np.ones(num_elements)\n",
    "\n",
    "ax1.bar3d(final_x_250, final_y_250, zpos, dx, dy, final_z_250_RT, color='orange', shade=True)\n",
    "ax1.set_title('250 ms', fontsize=15)\n",
    "ax1.set_xlabel('Avg Depth of Trial Targets (m)', fontsize=11)\n",
    "ax1.set_ylabel('Depth Diff of Trial Targets (m)', fontsize=11)\n",
    "ax1.set_zlabel('RT (ms)', fontsize=11)\n",
    "\n",
    "ax2.bar3d(final_x_1000, final_y_1000, zpos, dx, dy, final_z_1000_RT, color='green', shade=True)\n",
    "ax2.set_title('1000 ms', fontsize=15)\n",
    "ax2.set_xlabel('Avg Depth of Trial Targets (m)', fontsize=11)\n",
    "ax2.set_ylabel('Depth Diff of Trial Targets (m)', fontsize=11)\n",
    "ax2.set_zlabel('RT (ms)', fontsize=11)\n",
    "fig.suptitle('Reaction Time', fontsize=15)\n",
    "\n",
    "plt.show();"
   ]
  },
  {
   "cell_type": "markdown",
   "metadata": {},
   "source": [
    "## Inverse Efficiency Score"
   ]
  },
  {
   "cell_type": "markdown",
   "metadata": {},
   "source": [
    "It is calculated by dividing RT by 1 – the proportion of Errors (PE), or the proportion of correct responses (PC).\n",
    "\n",
    "https://www.readcube.com/articles/10.5334/pb-51-1-5"
   ]
  },
  {
   "cell_type": "code",
   "execution_count": null,
   "metadata": {},
   "outputs": [],
   "source": [
    "def inverse_efficiency_score(PC, RT):\n",
    "    \"\"\"\n",
    "    Input:\n",
    "        PC - proportion correct\n",
    "        RT - reaction time \n",
    "    Output:\n",
    "        ies - inverse efficiency score\n",
    "    \"\"\"\n",
    "    \n",
    "    ies = RT / PC\n",
    "    \n",
    "    return ies"
   ]
  },
  {
   "cell_type": "code",
   "execution_count": null,
   "metadata": {},
   "outputs": [],
   "source": [
    "ies_250 = [inverse_efficiency_score(all_discrim_performance[key]['accuracy_250'][0], all_discrim_performance[key]['RT_250'][1]) for key in all_discrim_performance]\n",
    "\n",
    "ies_1000 = [inverse_efficiency_score(all_discrim_performance[key]['accuracy_1000'][0], all_discrim_performance[key]['RT_1000'][1]) for key in all_discrim_performance]\n"
   ]
  },
  {
   "cell_type": "code",
   "execution_count": null,
   "metadata": {},
   "outputs": [],
   "source": [
    "ies_250[0]"
   ]
  },
  {
   "cell_type": "code",
   "execution_count": null,
   "metadata": {},
   "outputs": [],
   "source": [
    "fig = plt.figure(figsize=[9,9])\n",
    "ax = plt.axes(projection='3d')\n",
    "\n",
    "# Data for three-dimensional scattered points\n",
    "xdata_RT_1000 = np.array(final_x_1000_RT)\n",
    "ydata_RT_1000 = np.array(final_y_1000_RT)\n",
    "ax.scatter3D(xdata_RT, ydata_RT, np.array(ies_250), c=zdata, cmap='Oranges', label='250 ms');\n",
    "ax.scatter3D(xdata_RT_1000, ydata_RT_1000, np.array(ies_1000), c=zdata, cmap='Greens', label='1000 ms');\n",
    "ax.set_xlabel('Average Depth of Trial Targets (m)')\n",
    "ax.set_ylabel('Depth Difference of Trial Targets (m)')\n",
    "ax.set_zlabel('IES (ms)', fontsize = 13);\n",
    "ax.set_title('Individulal Discrimination Inverse Efficiency Score', fontsize=16)\n",
    "ax.legend(loc='lower left')\n",
    "plt.show();"
   ]
  },
  {
   "cell_type": "code",
   "execution_count": null,
   "metadata": {},
   "outputs": [],
   "source": [
    "plt.figure(figsize=[7,5])\n",
    "plt.plot(ydata_RT, np.array(ies_250), 'o', color='orange', alpha = 0.9, label='250 ms')\n",
    "plt.plot(ydata_RT_1000, np.array(ies_1000), 'o', color='green', alpha = 0.9, label='1000 ms')\n",
    "plt.xlabel('Depth Difference of Trial Targets (m)')\n",
    "plt.ylabel('IES (ms)')\n",
    "plt.legend(loc='upper right')\n",
    "plt.title('IES vs Depth Difference', fontsize=16)\n",
    "plt.show();\n",
    "\n"
   ]
  },
  {
   "cell_type": "code",
   "execution_count": null,
   "metadata": {},
   "outputs": [],
   "source": [
    "plt.figure(figsize=[7,5])\n",
    "plt.plot(xdata_RT, np.array(ies_250), 'o', color='orange', alpha = 0.9, label='250 ms')\n",
    "plt.plot(xdata_RT_1000, np.array(ies_1000), 'o', color='green', alpha = 0.9, label='1000 ms')\n",
    "plt.xlabel('Average Depth of Targets (m)')\n",
    "plt.ylabel('IES (ms)')\n",
    "plt.legend(loc='upper right')\n",
    "plt.title('IES vs Average Target Depth', fontsize=16)\n",
    "plt.show();\n",
    "\n"
   ]
  },
  {
   "cell_type": "code",
   "execution_count": null,
   "metadata": {},
   "outputs": [],
   "source": []
  },
  {
   "cell_type": "code",
   "execution_count": null,
   "metadata": {},
   "outputs": [],
   "source": [
    "plt.figure(figsize = [10,7])\n",
    "count_1000_higher = 0\n",
    "for i in range(len(final_x_250)):\n",
    "    avgdepth = final_x_250[i]\n",
    "    pc250 = final_z_250[i]\n",
    "    pc1000 = final_z_1000[i]\n",
    "    if pc1000 > pc250:\n",
    "        count_1000_higher += 1\n",
    "    \n",
    "    point1 = [avgdepth, pc250]\n",
    "    point2 = [avgdepth, pc1000]\n",
    "    \n",
    "    x_values = [point1[0], point2[0]]\n",
    "    y_values = [point1[1], point2[1]]\n",
    "    \n",
    "    plt.plot(point1[0],point1[1],'-go') \n",
    "    plt.plot(point2[0],point2[1],'-ro') \n",
    "    if i == 0:\n",
    "        plt.plot(point1[0],point1[1],'-go', label='250 ms') \n",
    "        plt.plot(point2[0],point2[1],'-ro', label='1000 ms') \n",
    "    else:\n",
    "        plt.plot(point1[0],point1[1],'-go') \n",
    "        plt.plot(point2[0],point2[1],'-ro') \n",
    "\n",
    "    plt.plot(x_values, y_values, color='black')\n",
    "\n",
    "plt.xlabel('Average Depth of Targets (m)', fontsize=15)\n",
    "plt.ylabel('Proportion Correct', fontsize=15)\n",
    "plt.legend(fontsize = 12)\n",
    "plt.title('Proportion Correct vs. Average Depth of Targets', fontsize=15)\n",
    "plt.show();\n",
    "print(count_1000_higher)"
   ]
  },
  {
   "cell_type": "code",
   "execution_count": null,
   "metadata": {},
   "outputs": [],
   "source": [
    "len(final_x_250)"
   ]
  },
  {
   "cell_type": "code",
   "execution_count": 212,
   "metadata": {},
   "outputs": [
    {
     "data": {
      "image/png": "[encoded data removed]",
      "text/plain": [
       "<Figure size 720x504 with 1 Axes>"
      ]
     },
     "metadata": {
      "needs_background": "light"
     },
     "output_type": "display_data"
    }
   ],
   "source": [
    "plt.figure(figsize = [10,7])\n",
    "for i in range(len(final_x_250)):\n",
    "    depthdiff = final_y_250[i]\n",
    "    pc250 = final_z_250[i]\n",
    "    pc1000 = final_z_1000[i]\n",
    "    \n",
    "    point1 = [depthdiff, pc250]\n",
    "    point2 = [depthdiff, pc1000]\n",
    "    \n",
    "    x_values = [point1[0], point2[0]]\n",
    "    y_values = [point1[1], point2[1]]\n",
    "    \n",
    "    plt.plot(point1[0],point1[1],'-go') \n",
    "    plt.plot(point2[0],point2[1],'-ro') \n",
    "    if i == 0:\n",
    "        plt.plot(point1[0],point1[1],'-go', label='250 ms') \n",
    "        plt.plot(point2[0],point2[1],'-ro', label='1000 ms') \n",
    "    else:\n",
    "        plt.plot(point1[0],point1[1],'-go') \n",
    "        plt.plot(point2[0],point2[1],'-ro') \n",
    "\n",
    "    plt.plot(x_values, y_values, color='black')\n",
    "\n",
    "plt.xlabel('Depth Difference of Trial Targets (m)', fontsize=15)\n",
    "plt.ylabel('Proportion Correct', fontsize=15)\n",
    "plt.legend(fontsize = 12)\n",
    "plt.title('Proportion Correct vs. Depth Difference', fontsize=15)\n",
    "plt.show();"
   ]
  },
  {
   "cell_type": "code",
   "execution_count": null,
   "metadata": {},
   "outputs": [],
   "source": []
  },
  {
   "cell_type": "code",
   "execution_count": 73,
   "metadata": {},
   "outputs": [
    {
     "data": {
      "image/png": "[encoded data removed]",
      "text/plain": [
       "<Figure size 720x504 with 1 Axes>"
      ]
     },
     "metadata": {
      "needs_background": "light"
     },
     "output_type": "display_data"
    }
   ],
   "source": [
    "plt.figure(figsize = [10,7])\n",
    "for i in range(len(final_x_250)):\n",
    "    avgdepth = final_x_250[i]\n",
    "    pc250 = final_z_250_RT[i]\n",
    "    pc1000 = final_z_1000_RT[i]\n",
    "    \n",
    "    point1 = [avgdepth, pc250]\n",
    "    point2 = [avgdepth, pc1000]\n",
    "    \n",
    "    x_values = [point1[0], point2[0]]\n",
    "    y_values = [point1[1], point2[1]]\n",
    "    \n",
    "    plt.plot(point1[0],point1[1],'-go') \n",
    "    plt.plot(point2[0],point2[1],'-ro') \n",
    "    if i == 0:\n",
    "        plt.plot(point1[0],point1[1],'-go', label='250 ms') \n",
    "        plt.plot(point2[0],point2[1],'-ro', label='1000 ms') \n",
    "    else:\n",
    "        plt.plot(point1[0],point1[1],'-go') \n",
    "        plt.plot(point2[0],point2[1],'-ro') \n",
    "\n",
    "    plt.plot(x_values, y_values, color='black')\n",
    "\n",
    "plt.xlabel('Average Depth of Targets (m)', fontsize=15)\n",
    "plt.ylabel('RT (ms)', fontsize=15)\n",
    "plt.legend(fontsize = 12)\n",
    "plt.title('RT vs. Average Depth of Targets', fontsize=15)\n",
    "plt.show();"
   ]
  },
  {
   "cell_type": "code",
   "execution_count": 74,
   "metadata": {},
   "outputs": [
    {
     "data": {
      "image/png": "[encoded data removed]",
      "text/plain": [
       "<Figure size 720x504 with 1 Axes>"
      ]
     },
     "metadata": {
      "needs_background": "light"
     },
     "output_type": "display_data"
    }
   ],
   "source": [
    "plt.figure(figsize = [10,7])\n",
    "for i in range(len(final_x_250)):\n",
    "    depthdiff = final_y_250[i]\n",
    "    pc250 = final_z_250_RT[i]\n",
    "    pc1000 = final_z_1000_RT[i]\n",
    "    \n",
    "    point1 = [depthdiff, pc250]\n",
    "    point2 = [depthdiff, pc1000]\n",
    "    \n",
    "    x_values = [point1[0], point2[0]]\n",
    "    y_values = [point1[1], point2[1]]\n",
    "    \n",
    "    plt.plot(point1[0],point1[1],'-go') \n",
    "    plt.plot(point2[0],point2[1],'-ro') \n",
    "    if i == 0:\n",
    "        plt.plot(point1[0],point1[1],'-go', label='250 ms') \n",
    "        plt.plot(point2[0],point2[1],'-ro', label='1000 ms') \n",
    "    else:\n",
    "        plt.plot(point1[0],point1[1],'-go') \n",
    "        plt.plot(point2[0],point2[1],'-ro') \n",
    "\n",
    "    plt.plot(x_values, y_values, color='black')\n",
    "\n",
    "plt.xlabel('Depth Difference of Trial Targets (m)', fontsize=15)\n",
    "plt.ylabel('RT (ms)', fontsize=15)\n",
    "plt.legend(fontsize = 12)\n",
    "plt.title('RT vs. Depth Difference', fontsize=15)\n",
    "plt.show();"
   ]
  },
  {
   "cell_type": "code",
   "execution_count": 75,
   "metadata": {},
   "outputs": [],
   "source": [
    "# all_discrim_performance['depth_discrimination_stimuli/001175_2014-06-17_15-45-55_260595134347_rgbf000129-resize_4/001175_2014-06-17_15-45-55_260595134347_rgbf000129-resize_4-target.png']\n"
   ]
  },
  {
   "cell_type": "code",
   "execution_count": 76,
   "metadata": {},
   "outputs": [],
   "source": [
    "# stim_df[['subjID', 'stimulus_0', 'actual_depth_0', 'stimulus_1', 'actual_depth_1', 'depth_difference', 'discrim_choice']]"
   ]
  },
  {
   "cell_type": "markdown",
   "metadata": {},
   "source": [
    "# Correlation with Verbal Report data \n",
    "\n",
    "- For each discrimination trial, get the average difference between the verbal report for those scenes \n",
    "- Correlate that with the proportion correct for that trial \n",
    "- Is there better accuracy for scenes that have a larget percevied depth difference (using the verbal report data)?"
   ]
  },
  {
   "cell_type": "code",
   "execution_count": 77,
   "metadata": {},
   "outputs": [
    {
     "data": {
      "text/plain": [
       "{'stimulus_1': 'depth_discrimination_stimuli/000109_2014-05-14_23-41-52_260595134347_rgbf000035-resize_9/000109_2014-05-14_23-41-52_260595134347_rgbf000035-resize_9-target.png',\n",
       " 'accuracy_250': (0.5376344086021505, 50, 93, 1),\n",
       " 'accuracy_1000': (0.5531914893617021, 52, 94, 0),\n",
       " 'avg_depth': 1.6135000000000002,\n",
       " 'depthdifference': 0.518,\n",
       " 'RT_250': (array([ 930.,  962.,  901., 1191., 1017., 1460.,  764.,  837., 2994.,\n",
       "         1533.,  889.,  889., 1498., 1564., 1114., 1694., 1237., 1568.,\n",
       "          654., 1146., 1159.,  651., 1045.,  825., 2908., 1023.,  817.,\n",
       "         1156.,  994.,  968.,  961., 1003.,  841.,  689., 2638., 2444.,\n",
       "         1446., 1187.,  955., 1408., 1916., 1198.,  991., 1180.,  859.,\n",
       "         1602., 1637., 1010., 1165.,  917., 1174., 1181., 1116.,  857.,\n",
       "         2417., 1288.,  767., 1017.,  890.,  544., 1577., 1588.,  862.,\n",
       "         1768.,  945., 1441., 1039., 1045., 1622., 2516.,  961., 2214.,\n",
       "          963.,  954.,  829.,  882.,  920., 1088., 3328., 1012.,  794.,\n",
       "          671.,  807., 1033., 1365., 1413., 3035., 1108.,  790., 1443.,\n",
       "         1195., 1694., 1297., 1779.]), 1273.0212765957447, 563.0909185256231),\n",
       " 'RT_1000': (array([1094.,  882., 1128., 1065.,  655., 2350., 1047., 1057., 1152.,\n",
       "         2425., 1327., 1104.,  531., 1063., 1037., 1141.,  922.,  576.,\n",
       "          925.,  923.,  865., 2164., 1035.,  905.,  625.,  871., 1522.,\n",
       "         1504.,  799.,  656.,  978., 1221.,  887., 1089., 1071.,  916.,\n",
       "         3070.,  985., 2360.,  911., 1080.,  792.,  905.,  887., 1148.,\n",
       "         1339.,  889., 3972., 1176.,  857.,  755.,  770.,  936., 1006.,\n",
       "         1135.,  988.,  860., 1880.,  925., 1360.,  949.,  964., 1031.,\n",
       "         1228., 1083., 1070., 1033.,  911., 1207., 1386.,  837.,  876.,\n",
       "         1083.,  932., 1295.,  742.,  772., 1481.,  892., 1872.,  799.,\n",
       "         1252.,  798., 1405.,  819., 1901., 1163.,  781., 1049.,  797.,\n",
       "         1425., 2567.,  548., 1221.]), 1156.031914893617, 532.2435143389797)}"
      ]
     },
     "execution_count": 77,
     "metadata": {},
     "output_type": "execute_result"
    }
   ],
   "source": [
    "all_discrim_performance['depth_discrimination_stimuli/001618_2014-06-20_11-37-31_260595134347_rgbf000027-resize_3/001618_2014-06-20_11-37-31_260595134347_rgbf000027-resize_3-target.png']\n"
   ]
  },
  {
   "cell_type": "code",
   "execution_count": 89,
   "metadata": {},
   "outputs": [],
   "source": [
    "# TAC_raw_individual_trial_data_path = '/Users/prachi/Documents/depth_duration/depth_duration_analysis/TAC_npy_files/TAC_raw_individual_trial_data/'\n",
    "\n",
    "TAC_raw_individual_trial_data_path  = '/Users/prachimahableshwarkar/Documents/GW/Depth_MTurk/depth_duration_analysis/TAC_npy_files/TAC_raw_individual_trial_data/'\n",
    "\n",
    "# x data\n",
    "with open(TAC_raw_individual_trial_data_path + 'X_250.npy' , 'rb') as f:\n",
    "    TAC_X_250 = np.load(f, allow_pickle=True)\n",
    "\n",
    "with open(TAC_raw_individual_trial_data_path + 'X_500.npy' , 'rb') as f:\n",
    "    TAC_X_500 = np.load(f, allow_pickle=True)\n",
    "    \n",
    "with open(TAC_raw_individual_trial_data_path + 'X_750.npy' , 'rb') as f:\n",
    "    TAC_X_750 = np.load(f, allow_pickle=True)\n",
    "\n",
    "with open(TAC_raw_individual_trial_data_path + 'X_1000.npy' , 'rb') as f:\n",
    "    TAC_X_1000 = np.load(f, allow_pickle=True)\n",
    "# y data \n",
    "with open(TAC_raw_individual_trial_data_path + 'final_y_250.npy' , 'rb') as f:\n",
    "    TAC_final_y_250 = np.load(f, allow_pickle=True)\n",
    "    \n",
    "with open(TAC_raw_individual_trial_data_path + 'final_y_500.npy' , 'rb') as f:\n",
    "    TAC_final_y_500 = np.load(f, allow_pickle=True)\n",
    "    \n",
    "with open(TAC_raw_individual_trial_data_path + 'final_y_750.npy' , 'rb') as f:\n",
    "    TAC_final_y_750 = np.load(f, allow_pickle=True)\n",
    "    \n",
    "with open(TAC_raw_individual_trial_data_path + 'final_y_1000.npy' , 'rb') as f:\n",
    "    TAC_final_y_1000= np.load(f, allow_pickle=True)\n",
    "    \n",
    "with open(TAC_raw_individual_trial_data_path + 'final_stim_250.npy', 'rb') as f:\n",
    "    TAC_final_stim_250 = np.load(f, allow_pickle=True)\n",
    "    \n",
    "with open(TAC_raw_individual_trial_data_path + 'final_stim_500.npy', 'rb') as f:\n",
    "    TAC_final_stim_500 = np.load(f, allow_pickle=True)\n",
    "    \n",
    "with open(TAC_raw_individual_trial_data_path + 'final_stim_750.npy', 'rb') as f:\n",
    "    TAC_final_stim_750 = np.load(f, allow_pickle=True)\n",
    "    \n",
    "with open(TAC_raw_individual_trial_data_path + 'final_stim_1000.npy', 'rb') as f:\n",
    "    TAC_final_stim_1000 = np.load(f, allow_pickle=True)\n",
    "    \n",
    "# std data\n",
    "with open(TAC_raw_individual_trial_data_path + 'std_250.npy' , 'rb') as f:\n",
    "    TAC_std_250 = np.load(f, allow_pickle=True)\n",
    "\n",
    "with open(TAC_raw_individual_trial_data_path + 'std_500.npy' , 'rb') as f:\n",
    "    TAC_std_500 = np.load(f, allow_pickle=True)\n",
    "    \n",
    "with open(TAC_raw_individual_trial_data_path + 'std_750.npy' , 'rb') as f:\n",
    "    TAC_std_750 = np.load(f, allow_pickle=True)\n",
    "\n",
    "with open(TAC_raw_individual_trial_data_path + 'std_1000.npy' , 'rb') as f:\n",
    "    TAC_std_1000 = np.load(f, allow_pickle=True)"
   ]
  },
  {
   "cell_type": "code",
   "execution_count": null,
   "metadata": {},
   "outputs": [],
   "source": []
  },
  {
   "cell_type": "code",
   "execution_count": 90,
   "metadata": {},
   "outputs": [
    {
     "data": {
      "text/plain": [
       "192"
      ]
     },
     "execution_count": 90,
     "metadata": {},
     "output_type": "execute_result"
    }
   ],
   "source": [
    "len(TAC_final_y_250)"
   ]
  },
  {
   "cell_type": "code",
   "execution_count": 91,
   "metadata": {},
   "outputs": [],
   "source": [
    "accuracy_250 = [] # list of the proportion correct for each trial\n",
    "avg_verbal_estim_diff_250 = [] # corresponding list of absolute average difference between the verbal reports for the discrimination trial images \n",
    "\n",
    "for key in all_discrim_performance.keys():\n",
    "    targetimg0 = key.split('/')[-1]\n",
    "    folder0 = targetimg0[:-11]\n",
    "    depth_dur_path0 = 'depth_duration_stimuli/' + folder0 + '/' + targetimg0\n",
    "    idx0 = np.where(TAC_final_stim_250 == depth_dur_path0)[0][0]\n",
    "    avg_estim_stim0 = TAC_final_y_250[idx0]\n",
    "    \n",
    "    targetimg1 = all_discrim_performance[key]['stimulus_1'].split('/')[-1]\n",
    "    folder1 = targetimg1[:-11]\n",
    "    depth_dur_path1 = 'depth_duration_stimuli/' + folder1 + '/' + targetimg1\n",
    "    idx1= np.where(TAC_final_stim_250 == depth_dur_path1)[0][0]\n",
    "    avg_estim_stim1 = TAC_final_y_250[idx1]\n",
    "    \n",
    "    avg_estim_diff = abs(avg_estim_stim0 - avg_estim_stim1)\n",
    "    avg_verbal_estim_diff_250.append(avg_estim_diff)\n",
    "    \n",
    "    trial_accuracy = all_discrim_performance[key]['accuracy_250'][0]\n",
    "    accuracy_250.append(trial_accuracy)\n",
    "    "
   ]
  },
  {
   "cell_type": "code",
   "execution_count": 92,
   "metadata": {},
   "outputs": [
    {
     "name": "stdout",
     "output_type": "stream",
     "text": [
      "250 ms: Correlation between discrimination accuracy and average verbal estimate difference\n"
     ]
    },
    {
     "data": {
      "text/plain": [
       "(0.14741167941560976, 0.24506734086344828)"
      ]
     },
     "execution_count": 92,
     "metadata": {},
     "output_type": "execute_result"
    }
   ],
   "source": [
    "print('250 ms: Correlation between discrimination accuracy and average verbal estimate difference')\n",
    "stats.pearsonr(accuracy_250, avg_verbal_estim_diff_250)"
   ]
  },
  {
   "cell_type": "code",
   "execution_count": null,
   "metadata": {},
   "outputs": [],
   "source": []
  },
  {
   "cell_type": "code",
   "execution_count": 93,
   "metadata": {},
   "outputs": [
    {
     "name": "stdout",
     "output_type": "stream",
     "text": [
      "depth_discrimination_stimuli/002199_2014-06-28_18-33-56_260595134347_rgbf000074-resize_0/002199_2014-06-28_18-33-56_260595134347_rgbf000074-resize_0-target.png\n",
      "1.332272340425532 2.14677\n",
      "depth_discrimination_stimuli/001016_2014-06-09_16-16-10_260595134347_rgbf000112-resize_5/001016_2014-06-09_16-16-10_260595134347_rgbf000112-resize_5-target.png\n",
      "2.14677 1.332272340425532\n"
     ]
    }
   ],
   "source": [
    "accuracy_1000 = [] # list of the proportion correct for each trial\n",
    "avg_verbal_estim_diff_1000 = [] # corresponding list of absolute average difference between the verbal reports for the discrimination trial images \n",
    "\n",
    "for key in all_discrim_performance.keys():\n",
    "    targetimg0 = key.split('/')[-1]\n",
    "    folder0 = targetimg0[:-11]\n",
    "    depth_dur_path0 = 'depth_duration_stimuli/' + folder0 + '/' + targetimg0\n",
    "    idx0 = np.where(TAC_final_stim_1000 == depth_dur_path0)[0][0]\n",
    "    avg_estim_stim0 = TAC_final_y_1000[idx0]\n",
    "    \n",
    "    targetimg1 = all_discrim_performance[key]['stimulus_1'].split('/')[-1]\n",
    "    folder1 = targetimg1[:-11]\n",
    "    depth_dur_path1 = 'depth_duration_stimuli/' + folder1 + '/' + targetimg1\n",
    "    idx1= np.where(TAC_final_stim_1000 == depth_dur_path1)[0][0]\n",
    "    avg_estim_stim1 = TAC_final_y_1000[idx1]\n",
    "    \n",
    "    avg_estim_diff = abs(avg_estim_stim0 - avg_estim_stim1)\n",
    "    avg_verbal_estim_diff_1000.append(avg_estim_diff)\n",
    "    \n",
    "    trial_accuracy = all_discrim_performance[key]['accuracy_1000'][0]\n",
    "    accuracy_1000.append(trial_accuracy)\n",
    "    if trial_accuracy < 0.1:\n",
    "        print(key)\n",
    "        print(avg_estim_stim0, avg_estim_stim1)\n",
    "    "
   ]
  },
  {
   "cell_type": "code",
   "execution_count": 94,
   "metadata": {},
   "outputs": [
    {
     "data": {
      "text/plain": [
       "{'stimulus_1': 'depth_discrimination_stimuli/002199_2014-06-28_18-33-56_260595134347_rgbf000074-resize_0/002199_2014-06-28_18-33-56_260595134347_rgbf000074-resize_0-target.png',\n",
       " 'accuracy_250': (0.042105263157894736, 4, 95, 0),\n",
       " 'accuracy_1000': (0.031578947368421054, 3, 95, 0),\n",
       " 'avg_depth': 1.82625,\n",
       " 'depthdifference': 0.3394999999999999,\n",
       " 'RT_250': (array([ 821.,  805., 1104., 1219., 1128.,  934.,  909., 1954., 1406.,\n",
       "         1159.,  832.,  851.,  747.,  854.,  952., 1234.,  941., 1033.,\n",
       "          867.,  986., 1886.,  954., 1129.,  948.,  829., 1283., 1145.,\n",
       "          885.,  998.,  844.,  943., 1002.,  967.,  908.,  822.,  773.,\n",
       "          996., 1065.,  968., 1192., 1225.,  966.,  734., 1089., 1036.,\n",
       "         1335.,  982.,  798.,  807., 1025.,  871.,  836.,  866., 1526.,\n",
       "          907.,  919., 1098.,  778.,  900.,  774., 1713., 1056., 1112.,\n",
       "         2034.,  974.,  880., 1058., 1000.,  685., 1093., 2204.,  786.,\n",
       "         3557., 1798.,  804.,  911., 1067., 1208.,  896.,  969.,  810.,\n",
       "          898., 1117., 1090., 1428.,  949.,  797., 1108., 1215., 1025.,\n",
       "          848., 3372.,  810., 1246., 1267.]),\n",
       "  1100.3157894736842,\n",
       "  448.3096501105809),\n",
       " 'RT_1000': (array([1039.,  861.,  853.,  834., 1015.,  943.,  859., 1111.,  875.,\n",
       "         1043.,  769., 1696.,  766.,  863., 1158., 1878., 1131., 1000.,\n",
       "         1171.,  615., 1101.,  667.,  814.,  641., 1497.,  954.,  925.,\n",
       "          911.,  757.,  563., 1449.,  951., 1068.,  815., 1567.,  837.,\n",
       "          961.,  996.,  946.,  939., 1013., 1199.,  812.,  733.,  730.,\n",
       "         1074.,  852.,  738.,  778.,  998.,  914., 1564.,  858., 1024.,\n",
       "          946., 1097., 2231.,  944.,  953.,  648.,  885.,  926., 1215.,\n",
       "         1093.,  636.,  992.,  959.,  867.,  877., 1022.,  810.,  951.,\n",
       "          796., 1316.,  881.,  651.,  854., 1047., 1127., 1341.,  811.,\n",
       "         1107., 1036.,  734.,  928.,  826., 1324., 1010.,  946.,  952.,\n",
       "          900.,  837., 1113., 1356.,  734.]),\n",
       "  987.421052631579,\n",
       "  265.5445082704144)}"
      ]
     },
     "execution_count": 94,
     "metadata": {},
     "output_type": "execute_result"
    }
   ],
   "source": [
    "all_discrim_performance['depth_discrimination_stimuli/001016_2014-06-09_16-16-10_260595134347_rgbf000112-resize_5/001016_2014-06-09_16-16-10_260595134347_rgbf000112-resize_5-target.png']"
   ]
  },
  {
   "cell_type": "code",
   "execution_count": 95,
   "metadata": {},
   "outputs": [
    {
     "name": "stdout",
     "output_type": "stream",
     "text": [
      "1000 ms: Correlation between depth differences and average verbal estimate difference\n"
     ]
    },
    {
     "data": {
      "text/plain": [
       "(0.21111974122885838, 0.09401209934270034)"
      ]
     },
     "execution_count": 95,
     "metadata": {},
     "output_type": "execute_result"
    }
   ],
   "source": [
    "print('1000 ms: Correlation between depth differences and average verbal estimate difference')\n",
    "stats.pearsonr(accuracy_1000, avg_verbal_estim_diff_1000)"
   ]
  },
  {
   "cell_type": "code",
   "execution_count": 96,
   "metadata": {},
   "outputs": [
    {
     "data": {
      "image/png": "[encoded data removed]",
      "text/plain": [
       "<Figure size 720x720 with 1 Axes>"
      ]
     },
     "metadata": {
      "needs_background": "light"
     },
     "output_type": "display_data"
    }
   ],
   "source": [
    "plt.figure(figsize=[10,10])\n",
    "plt.plot(np.array(avg_verbal_estim_diff_250), np.array(accuracy_250), 'go', label='250 ms')\n",
    "plt.plot(np.array(avg_verbal_estim_diff_1000), np.array(accuracy_1000), 'ro', label='1000 ms')\n",
    "plt.xlabel('Average Verbal Estimate Difference', fontsize=15)\n",
    "plt.ylabel('Discrimination Proportion Correct', fontsize = 15)\n",
    "plt.legend(fontsize = 12)\n",
    "plt.title('Discrimination Proportion Correct vs Avg Verbal Estimate Difference', fontsize = 18)\n",
    "plt.show();"
   ]
  },
  {
   "cell_type": "markdown",
   "metadata": {},
   "source": [
    "# NEW: Code depth discrimination correctness by the verbal judgement data \n",
    "\n",
    "Create new 'ground truth' answer based on verbal judgement data\n",
    "\n",
    "Task: Respond which image's target was closer to you"
   ]
  },
  {
   "cell_type": "code",
   "execution_count": 97,
   "metadata": {},
   "outputs": [],
   "source": [
    "VE_answerkey_250 = {} # corresponding answer key for discrimination trials  \n",
    "\n",
    "for key in all_discrim_performance.keys():\n",
    "    targetimg0 = key.split('/')[-1]\n",
    "    folder0 = targetimg0[:-11]\n",
    "    depth_dur_path0 = 'depth_duration_stimuli/' + folder0 + '/' + targetimg0\n",
    "    idx0 = np.where(TAC_final_stim_250 == depth_dur_path0)[0][0]\n",
    "    avg_estim_stim0 = TAC_final_y_250[idx0]\n",
    "    std0 = TAC_std_250[idx0]\n",
    "    \n",
    "    targetimg1 = all_discrim_performance[key]['stimulus_1'].split('/')[-1]\n",
    "    folder1 = targetimg1[:-11]\n",
    "    depth_dur_path1 = 'depth_duration_stimuli/' + folder1 + '/' + targetimg1\n",
    "    idx1= np.where(TAC_final_stim_250 == depth_dur_path1)[0][0]\n",
    "    avg_estim_stim1 = TAC_final_y_250[idx1]\n",
    "    std1 = TAC_std_250[idx1]\n",
    "\n",
    "    if avg_estim_stim0 < avg_estim_stim1:\n",
    "        # Which target is CLOSER to you?\n",
    "        answer = targetimg0\n",
    "    if avg_estim_stim0 == avg_estim_stim1:\n",
    "        print(targetimg0, targetimg1)\n",
    "    if avg_estim_stim0 > avg_estim_stim1:\n",
    "        answer = targetimg1\n",
    "\n",
    "    VE_answerkey_250[key] = {'stimulus_1': targetimg1,\n",
    "                             'stimulus_0_avg_estim': avg_estim_stim0,\n",
    "                             'stimulus_1_avg_estim': avg_estim_stim1,\n",
    "                             'answer': answer,\n",
    "                             'std0': std0,\n",
    "                             'std1': std1}\n",
    "    "
   ]
  },
  {
   "cell_type": "code",
   "execution_count": 98,
   "metadata": {},
   "outputs": [
    {
     "data": {
      "text/plain": [
       "(64,\n",
       " {'stimulus_1': '001164_2014-06-17_15-35-46_260595134347_rgbf000085-resize_3-target.png',\n",
       "  'stimulus_0_avg_estim': 2.103344680851064,\n",
       "  'stimulus_1_avg_estim': 2.225165,\n",
       "  'answer': '002118_2014-06-25_20-32-08_260595134347_rgbf000078-resize_1-target.png',\n",
       "  'std0': 1.0871992047395496,\n",
       "  'std1': 0.9802619260437813})"
      ]
     },
     "execution_count": 98,
     "metadata": {},
     "output_type": "execute_result"
    }
   ],
   "source": [
    "len(VE_answerkey_250), VE_answerkey_250['depth_discrimination_stimuli/002118_2014-06-25_20-32-08_260595134347_rgbf000078-resize_1/002118_2014-06-25_20-32-08_260595134347_rgbf000078-resize_1-target.png']\n"
   ]
  },
  {
   "cell_type": "code",
   "execution_count": 99,
   "metadata": {},
   "outputs": [],
   "source": [
    "VE_answerkey_1000 = {} # corresponding answer key for discrimination trials  \n",
    "\n",
    "for key in all_discrim_performance.keys():\n",
    "    targetimg0 = key.split('/')[-1]\n",
    "    folder0 = targetimg0[:-11]\n",
    "    depth_dur_path0 = 'depth_duration_stimuli/' + folder0 + '/' + targetimg0\n",
    "    idx0 = np.where(TAC_final_stim_1000 == depth_dur_path0)[0][0]\n",
    "    avg_estim_stim0 = TAC_final_y_1000[idx0]\n",
    "    std0 = TAC_std_1000[idx0]\n",
    "\n",
    "    targetimg1 = all_discrim_performance[key]['stimulus_1'].split('/')[-1]\n",
    "    folder1 = targetimg1[:-11]\n",
    "    depth_dur_path1 = 'depth_duration_stimuli/' + folder1 + '/' + targetimg1\n",
    "    idx1= np.where(TAC_final_stim_1000 == depth_dur_path1)[0][0]\n",
    "    avg_estim_stim1 = TAC_final_y_1000[idx1]\n",
    "    std1 = TAC_std_1000[idx1]\n",
    "    \n",
    "    if avg_estim_stim0 < avg_estim_stim1:\n",
    "        # Which target is CLOSER to you?\n",
    "        answer = targetimg0\n",
    "    if avg_estim_stim0 == avg_estim_stim1:\n",
    "        print(targetimg0, targetimg1)\n",
    "    if avg_estim_stim0 > avg_estim_stim1:\n",
    "        answer = targetimg1\n",
    "\n",
    "    VE_answerkey_1000[key] = {'stimulus_1': targetimg1,\n",
    "                             'stimulus_0_avg_estim': avg_estim_stim0,\n",
    "                             'stimulus_1_avg_estim': avg_estim_stim1,\n",
    "                             'answer': answer,\n",
    "                             'std0': std0,\n",
    "                             'std1': std1}\n",
    "    "
   ]
  },
  {
   "cell_type": "code",
   "execution_count": 100,
   "metadata": {},
   "outputs": [
    {
     "data": {
      "text/plain": [
       "(64,\n",
       " {'stimulus_1': '001164_2014-06-17_15-35-46_260595134347_rgbf000085-resize_3-target.png',\n",
       "  'stimulus_0_avg_estim': 2.2761083333333336,\n",
       "  'stimulus_1_avg_estim': 1.76819,\n",
       "  'answer': '001164_2014-06-17_15-35-46_260595134347_rgbf000085-resize_3-target.png',\n",
       "  'std0': 1.3918335208336923,\n",
       "  'std1': 1.2276693732053363})"
      ]
     },
     "execution_count": 100,
     "metadata": {},
     "output_type": "execute_result"
    }
   ],
   "source": [
    "len(VE_answerkey_1000), VE_answerkey_1000['depth_discrimination_stimuli/002118_2014-06-25_20-32-08_260595134347_rgbf000078-resize_1/002118_2014-06-25_20-32-08_260595134347_rgbf000078-resize_1-target.png']\n"
   ]
  },
  {
   "cell_type": "code",
   "execution_count": null,
   "metadata": {},
   "outputs": [],
   "source": []
  },
  {
   "cell_type": "code",
   "execution_count": 101,
   "metadata": {},
   "outputs": [],
   "source": [
    "def VE_accuracy(stim0, df, answerkey):\n",
    "    '''\n",
    "    Accuracy based on the verbal judgement data \n",
    "    '''\n",
    "    \n",
    "    \"\"\"\n",
    "    args:\n",
    "        df  \n",
    "    returns:\n",
    "        proportion of correct responses, count of correct responses, count of total trials  \n",
    "    \"\"\"\n",
    "    count_correct = 0\n",
    "    count_incorrect = 0\n",
    "    count_total = 0\n",
    "    count_missed = 0\n",
    "    \n",
    "    VE_correct_answer = answerkey[stim0]['answer']\n",
    "    for idx, row in df.iterrows(): \n",
    "        choice = row[\"discrim_choice\"]\n",
    "        count_total += 1\n",
    "        if choice == 0.0:\n",
    "            image_choice = row[\"stimulus_0\"]\n",
    "                \n",
    "        if choice == 1.0:\n",
    "            image_choice = row[\"stimulus_1\"]\n",
    "                \n",
    "        if choice == 2.0:\n",
    "            count_missed += 1\n",
    "            \n",
    "        if choice == 3.0:\n",
    "            count_missed += 1\n",
    "        \n",
    "        try:\n",
    "            if image_choice.split('/')[-1] == VE_correct_answer:\n",
    "                count_correct += 1\n",
    "        except:\n",
    "            pass\n",
    "        \n",
    "    \n",
    "    return count_correct/count_total, count_correct, count_total, count_missed\n",
    "\n",
    "    \n",
    "def main_VE_accuracy(df, answerkey_250, answerkey_1000):\n",
    "    all_stim0 = df.stimulus_0.unique()\n",
    "    \n",
    "    stimuli_stats = {}\n",
    "    for stim0 in all_stim0:\n",
    "        # dataframe for stimulus 0\n",
    "        stim0_df = df.loc[df['stimulus_0'] == stim0]\n",
    "        # name of stimulus 1\n",
    "        other_stim = stim0_df.stimulus_1.unique()[0]\n",
    "        # dataframe where stimulus 0 is presented SECOND (same trial)\n",
    "        stim1_df = df.loc[df['stimulus_1'] == stim0]\n",
    "        \n",
    "        # df for a specific discrimination trial (collapsed on stim presentation order)\n",
    "        stim_df = pd.concat([stim0_df, stim1_df], ignore_index=True)\n",
    "        stim_250_df = stim_df[stim_df['duration'] == 250.0]\n",
    "        stim_1000_df = stim_df[stim_df['duration'] == 1000.0] \n",
    "        \n",
    "#         stim_depthdiff = stim_df['depth_difference'][0]\n",
    "        \n",
    "        stim0_depth = stim_df['actual_depth_0'][0]\n",
    "        stim1_depth = stim_df['actual_depth_1'][0]\n",
    "        stim_depthbin = np.mean(np.array([stim0_depth,stim1_depth]))\n",
    "        \n",
    "        stim_acc_250 = VE_accuracy(stim0, stim_250_df, answerkey_250)\n",
    "        stim_acc_1000 = VE_accuracy(stim0, stim_1000_df, answerkey_1000)\n",
    "        \n",
    "        stim_RT_250 = get_RT(stim_250_df)\n",
    "        stim_RT_1000 = get_RT(stim_1000_df)\n",
    "        \n",
    "        # difference between verbal judgements divided by joint variance \n",
    "        # abs(VE1-VE2)/sqrt(stda^2 + std2^2)\n",
    "        std0_250 = answerkey_250[stim0]['std0']\n",
    "        std1_250 = answerkey_250[stim0]['std1']\n",
    "        joint_variance_250 = np.sqrt(std0_250**2 + std1_250**2)\n",
    "        JV_regressor_250 = abs(answerkey_250[stim0]['stimulus_0_avg_estim'] - answerkey_250[stim0]['stimulus_1_avg_estim'])/joint_variance_250\n",
    "        \n",
    "        std0_1000 = answerkey_1000[stim0]['std0']\n",
    "        std1_1000 = answerkey_1000[stim0]['std1']\n",
    "        joint_variance_1000 = np.sqrt(std0_1000**2 + std1_1000**2)\n",
    "        JV_regressor_1000 = abs(answerkey_1000[stim0]['stimulus_0_avg_estim'] - answerkey_1000[stim0]['stimulus_1_avg_estim'])/joint_variance_1000\n",
    "        \n",
    "        stimuli_stats[stim0] = {'stimulus_1': other_stim,\n",
    "                                'accuracy_250': stim_acc_250,\n",
    "                                'accuracy_1000': stim_acc_1000,\n",
    "                                'avg_depth': stim_depthbin,\n",
    "                                'VE_depthdifference_250': abs(answerkey_250[stim0]['stimulus_0_avg_estim'] - answerkey_250[stim0]['stimulus_1_avg_estim']), \n",
    "                                'VE_depthdifference_1000': abs(answerkey_1000[stim0]['stimulus_0_avg_estim'] - answerkey_1000[stim0]['stimulus_1_avg_estim']),\n",
    "                                'RT_250': stim_RT_250,\n",
    "                                'RT_1000': stim_RT_1000,\n",
    "                                'JV_regressor_250': JV_regressor_250,\n",
    "                                'JV_regressor_1000': JV_regressor_1000}\n",
    "        \n",
    "    \n",
    "    return stimuli_stats\n",
    "    "
   ]
  },
  {
   "cell_type": "code",
   "execution_count": 102,
   "metadata": {},
   "outputs": [],
   "source": [
    "all_VE_discrim_performance = main_VE_accuracy(final_discrim, VE_answerkey_250, VE_answerkey_1000) "
   ]
  },
  {
   "cell_type": "code",
   "execution_count": 103,
   "metadata": {},
   "outputs": [
    {
     "data": {
      "text/plain": [
       "{'stimulus_1': 'depth_discrimination_stimuli/000109_2014-05-14_23-41-52_260595134347_rgbf000035-resize_9/000109_2014-05-14_23-41-52_260595134347_rgbf000035-resize_9-target.png',\n",
       " 'accuracy_250': (0.5425531914893617, 51, 94, 2),\n",
       " 'accuracy_1000': (0.5851063829787234, 55, 94, 3),\n",
       " 'avg_depth': 1.6135000000000002,\n",
       " 'VE_depthdifference_250': 0.1437466666666667,\n",
       " 'VE_depthdifference_1000': 0.22626497687326563,\n",
       " 'RT_250': (array([ 930.,  962.,  901., 1191., 1017., 1460.,  764.,  837., 2994.,\n",
       "         1533.,  889.,  889., 1498., 1564., 1114., 1694., 1237., 1568.,\n",
       "          654., 1146., 1159.,  651., 1045.,  825., 2908., 1023.,  817.,\n",
       "         1156.,  994.,  968.,  961., 1003.,  841.,  689., 2638., 2444.,\n",
       "         1446., 1187.,  955., 1408., 1916., 1198.,  991., 1180.,  859.,\n",
       "         1602., 1637., 1010., 1165.,  917., 1174., 1181., 1116.,  857.,\n",
       "         2417., 1288.,  767., 1017.,  890.,  544., 1577., 1588.,  862.,\n",
       "         1768.,  945., 1441., 1039., 1045., 1622., 2516.,  961., 2214.,\n",
       "          963.,  954.,  829.,  882.,  920., 1088., 3328., 1012.,  794.,\n",
       "          671.,  807., 1033., 1365., 1413., 3035., 1108.,  790., 1443.,\n",
       "         1195., 1694., 1297., 1779.]), 1273.0212765957447, 563.0909185256231),\n",
       " 'RT_1000': (array([1094.,  882., 1128., 1065.,  655., 2350., 1047., 1057., 1152.,\n",
       "         2425., 1327., 1104.,  531., 1063., 1037., 1141.,  922.,  576.,\n",
       "          925.,  923.,  865., 2164., 1035.,  905.,  625.,  871., 1522.,\n",
       "         1504.,  799.,  656.,  978., 1221.,  887., 1089., 1071.,  916.,\n",
       "         3070.,  985., 2360.,  911., 1080.,  792.,  905.,  887., 1148.,\n",
       "         1339.,  889., 3972., 1176.,  857.,  755.,  770.,  936., 1006.,\n",
       "         1135.,  988.,  860., 1880.,  925., 1360.,  949.,  964., 1031.,\n",
       "         1228., 1083., 1070., 1033.,  911., 1207., 1386.,  837.,  876.,\n",
       "         1083.,  932., 1295.,  742.,  772., 1481.,  892., 1872.,  799.,\n",
       "         1252.,  798., 1405.,  819., 1901., 1163.,  781., 1049.,  797.,\n",
       "         1425., 2567.,  548., 1221.]), 1156.031914893617, 532.2435143389797),\n",
       " 'JV_regressor_250': 0.07760606856213106,\n",
       " 'JV_regressor_1000': 0.1603679406245937}"
      ]
     },
     "execution_count": 103,
     "metadata": {},
     "output_type": "execute_result"
    }
   ],
   "source": [
    "all_VE_discrim_performance['depth_discrimination_stimuli/001618_2014-06-20_11-37-31_260595134347_rgbf000027-resize_3/001618_2014-06-20_11-37-31_260595134347_rgbf000027-resize_3-target.png']\n",
    "\n"
   ]
  },
  {
   "cell_type": "code",
   "execution_count": 104,
   "metadata": {},
   "outputs": [],
   "source": [
    "VE_estim_diff_250 = [all_VE_discrim_performance[elem]['VE_depthdifference_250'] for elem in all_VE_discrim_performance]\n",
    "VE_estim_diff_1000 = [all_VE_discrim_performance[elem]['VE_depthdifference_1000'] for elem in all_VE_discrim_performance]\n",
    "\n",
    "VE_accuracy_250 = [all_VE_discrim_performance[elem]['accuracy_250'][0] for elem in all_VE_discrim_performance]\n",
    "VE_accuracy_1000 = [all_VE_discrim_performance[elem]['accuracy_1000'][0] for elem in all_VE_discrim_performance]\n",
    "\n",
    "avg_RT_250 = [all_VE_discrim_performance[elem]['RT_250'][1] for elem in all_VE_discrim_performance]\n",
    "avg_RT_1000 = [all_VE_discrim_performance[elem]['RT_1000'][1] for elem in all_VE_discrim_performance]\n",
    "\n",
    "JV_250 = [all_VE_discrim_performance[elem]['JV_regressor_250'] for elem in all_VE_discrim_performance]\n",
    "JV_1000 = [all_VE_discrim_performance[elem]['JV_regressor_1000'] for elem in all_VE_discrim_performance]"
   ]
  },
  {
   "cell_type": "markdown",
   "metadata": {},
   "source": [
    "#### Overall Accuracy: Coded by VE"
   ]
  },
  {
   "cell_type": "code",
   "execution_count": 139,
   "metadata": {},
   "outputs": [
    {
     "data": {
      "text/plain": [
       "(0.6905368766669375, 0.643007541469647)"
      ]
     },
     "execution_count": 139,
     "metadata": {},
     "output_type": "execute_result"
    }
   ],
   "source": [
    "np.mean(VE_accuracy_250), np.mean(VE_accuracy_1000)"
   ]
  },
  {
   "cell_type": "code",
   "execution_count": 106,
   "metadata": {},
   "outputs": [
    {
     "name": "stdout",
     "output_type": "stream",
     "text": [
      "250 ms: Correlation between VE discrimination accuracy and average verbal estimate difference\n"
     ]
    },
    {
     "data": {
      "text/plain": [
       "(0.5652228823452243, 1.1388307677219579e-06)"
      ]
     },
     "execution_count": 106,
     "metadata": {},
     "output_type": "execute_result"
    }
   ],
   "source": [
    "print('250 ms: Correlation between VE discrimination accuracy and average verbal estimate difference')\n",
    "stats.pearsonr(VE_accuracy_250, VE_estim_diff_250)"
   ]
  },
  {
   "cell_type": "code",
   "execution_count": 107,
   "metadata": {},
   "outputs": [
    {
     "name": "stdout",
     "output_type": "stream",
     "text": [
      "1000 ms: Correlation between VE discrimination accuracy and average verbal estimate difference\n"
     ]
    },
    {
     "data": {
      "text/plain": [
       "(0.49830746903415124, 2.7867267325808916e-05)"
      ]
     },
     "execution_count": 107,
     "metadata": {},
     "output_type": "execute_result"
    }
   ],
   "source": [
    "print('1000 ms: Correlation between VE discrimination accuracy and average verbal estimate difference')\n",
    "stats.pearsonr(VE_accuracy_1000, VE_estim_diff_1000)"
   ]
  },
  {
   "cell_type": "code",
   "execution_count": 108,
   "metadata": {},
   "outputs": [
    {
     "data": {
      "image/png": "[encoded data removed]",
      "text/plain": [
       "<Figure size 720x432 with 1 Axes>"
      ]
     },
     "metadata": {
      "needs_background": "light"
     },
     "output_type": "display_data"
    }
   ],
   "source": [
    "plt.figure(figsize=[10,6])\n",
    "plt.plot(np.array(VE_estim_diff_250), np.array(VE_accuracy_250), 'go', label='250 ms')\n",
    "plt.plot(np.array(VE_estim_diff_1000), np.array(VE_accuracy_1000), 'ro', label='1000 ms')\n",
    "plt.xlabel('Average Verbal Estimate Difference', fontsize=15)\n",
    "plt.ylabel('VE Discrimination Proportion Correct', fontsize = 15)\n",
    "plt.legend(fontsize = 12)\n",
    "plt.title('VE Discrimination Proportion Correct vs Avg Verbal Estimate Difference', fontsize = 18)\n",
    "plt.show();"
   ]
  },
  {
   "cell_type": "code",
   "execution_count": 109,
   "metadata": {},
   "outputs": [
    {
     "name": "stdout",
     "output_type": "stream",
     "text": [
      "m: [0.34760051]\n",
      "b: 0.5350003982856293\n",
      "R-squared:  0.3194769067266434\n"
     ]
    },
    {
     "data": {
      "text/plain": [
       "Text(0.5, 1.0, '250 ms: Accuracy')"
      ]
     },
     "execution_count": 109,
     "metadata": {},
     "output_type": "execute_result"
    },
    {
     "data": {
      "image/png": "[encoded data removed]",
      "text/plain": [
       "<Figure size 576x432 with 1 Axes>"
      ]
     },
     "metadata": {
      "needs_background": "light"
     },
     "output_type": "display_data"
    }
   ],
   "source": [
    "#run regression\n",
    "plt.figure(figsize=[8,6])\n",
    "VE_X_250 = np.array(VE_estim_diff_250).reshape(-1,1)\n",
    "VE_PC_250 = VE_accuracy_250\n",
    "VE_PC_reg_250 = LinearRegression().fit(VE_X_250, VE_PC_250)\n",
    "\n",
    "#Generated Predictions\n",
    "PC_predicted_250 = VE_PC_reg_250.predict(VE_X_250)\n",
    "#Plot Our Actual and Predicted Values\n",
    "plt.plot(VE_X_250, VE_PC_250, 'o', color='chocolate', alpha = 0.3);\n",
    "plt.plot(VE_X_250, PC_predicted_250,color='chocolate', label = 'm = ' + str(round(VE_PC_reg_250.coef_[0], 3))\n",
    "         + '     r-squared = ' + str(round(float(VE_PC_reg_250.score(VE_X_250, VE_PC_250)), 3)))\n",
    "plt.xlabel(\"Average Verbal Estimate Difference (m)\", fontsize = 15)\n",
    "plt.ylabel(\"VE Discrimination Proportion Correct\", fontsize = 15)\n",
    "\n",
    "#get coefficients and y intercept\n",
    "print(\"m: {0}\".format(VE_PC_reg_250.coef_))\n",
    "print(\"b: {0}\".format(VE_PC_reg_250.intercept_))\n",
    "\n",
    "#Returns the coefficient of determination R^2 of the prediction.\n",
    "print(\"R-squared: \", VE_PC_reg_250.score(VE_X_250, VE_PC_250))\n",
    "\n",
    "\n",
    "legend = plt.legend(loc = 4, fontsize = 13, borderpad = 0.6, labelspacing = 1)\n",
    "legend.get_frame().set_facecolor('lightgray')\n",
    "\n",
    "plt.title(\"250 ms: Accuracy\", fontsize = 20)\n"
   ]
  },
  {
   "cell_type": "code",
   "execution_count": null,
   "metadata": {},
   "outputs": [],
   "source": []
  },
  {
   "cell_type": "code",
   "execution_count": 110,
   "metadata": {},
   "outputs": [
    {
     "name": "stdout",
     "output_type": "stream",
     "text": [
      "m: [0.30590189]\n",
      "b: 0.5000024230523517\n",
      "R-squared:  0.24831033369522149\n"
     ]
    },
    {
     "data": {
      "image/png": "[encoded data removed]",
      "text/plain": [
       "<Figure size 576x432 with 1 Axes>"
      ]
     },
     "metadata": {
      "needs_background": "light"
     },
     "output_type": "display_data"
    }
   ],
   "source": [
    "plt.figure(figsize=[8,6])\n",
    "\n",
    "VE_X_1000 = np.array(VE_estim_diff_1000).reshape(-1,1)\n",
    "VE_PC_1000 = VE_accuracy_1000\n",
    "VE_PC_reg_1000 = LinearRegression().fit(VE_X_1000, VE_PC_1000)\n",
    "\n",
    "#Generated Predictions\n",
    "PC_predicted_1000 = VE_PC_reg_1000.predict(VE_X_1000)\n",
    "#Plot Our Actual and Predicted Values\n",
    "plt.plot(VE_X_1000, VE_PC_1000, 'o', color='darkviolet', alpha = 0.3);\n",
    "plt.plot(VE_X_1000, PC_predicted_1000,color='darkviolet', label = '1000 ms: m = ' + str(round(VE_PC_reg_1000.coef_[0], 3))\n",
    "         + '     r-squared = ' + str(round(float(VE_PC_reg_1000.score(VE_X_1000, VE_PC_1000)), 3)))\n",
    "\n",
    "legend = plt.legend(loc = 4, fontsize = 13, borderpad = 0.6, labelspacing = 1)\n",
    "legend.get_frame().set_facecolor('lightgray')\n",
    "\n",
    "#get coefficients and y intercept\n",
    "print(\"m: {0}\".format(VE_PC_reg_1000.coef_))\n",
    "print(\"b: {0}\".format(VE_PC_reg_1000.intercept_))\n",
    "\n",
    "#Returns the coefficient of determination R^2 of the prediction.\n",
    "print(\"R-squared: \", VE_PC_reg_1000.score(VE_X_1000, VE_PC_1000))\n",
    "\n",
    "plt.xlabel(\"Average Verbal Estimate Difference (m)\", fontsize = 15)\n",
    "plt.ylabel(\"VE Discrimination Proportion Correct\", fontsize = 15)\n",
    "\n",
    "\n",
    "plt.title(\"1000 ms: Accuracy\", fontsize = 20)\n",
    "\n",
    "plt.show();"
   ]
  },
  {
   "cell_type": "code",
   "execution_count": null,
   "metadata": {},
   "outputs": [],
   "source": []
  },
  {
   "cell_type": "markdown",
   "metadata": {},
   "source": [
    "## REACTION TIME"
   ]
  },
  {
   "cell_type": "code",
   "execution_count": 111,
   "metadata": {},
   "outputs": [
    {
     "name": "stdout",
     "output_type": "stream",
     "text": [
      "250 ms: Correlation between average discrimination RT and average verbal estimate difference\n"
     ]
    },
    {
     "data": {
      "text/plain": [
       "(-0.4573727601850303, 0.0001449531697090247)"
      ]
     },
     "execution_count": 111,
     "metadata": {},
     "output_type": "execute_result"
    }
   ],
   "source": [
    "print('250 ms: Correlation between average discrimination RT and average verbal estimate difference')\n",
    "stats.pearsonr(avg_RT_250, VE_estim_diff_250)"
   ]
  },
  {
   "cell_type": "code",
   "execution_count": 112,
   "metadata": {},
   "outputs": [
    {
     "name": "stdout",
     "output_type": "stream",
     "text": [
      "1000 ms: Correlation between average discrimination RT and average verbal estimate difference\n"
     ]
    },
    {
     "data": {
      "text/plain": [
       "(-0.5010015862170688, 2.4813546425072763e-05)"
      ]
     },
     "execution_count": 112,
     "metadata": {},
     "output_type": "execute_result"
    }
   ],
   "source": [
    "print('1000 ms: Correlation between average discrimination RT and average verbal estimate difference')\n",
    "stats.pearsonr(avg_RT_1000, VE_estim_diff_1000)"
   ]
  },
  {
   "cell_type": "code",
   "execution_count": 113,
   "metadata": {},
   "outputs": [
    {
     "data": {
      "image/png": "[encoded data removed]",
      "text/plain": [
       "<Figure size 720x432 with 1 Axes>"
      ]
     },
     "metadata": {
      "needs_background": "light"
     },
     "output_type": "display_data"
    }
   ],
   "source": [
    "plt.figure(figsize=[10,6])\n",
    "plt.plot(np.array(VE_estim_diff_250), np.array(avg_RT_250), 'go', label='250 ms')\n",
    "plt.plot(np.array(VE_estim_diff_1000), np.array(avg_RT_1000), 'ro', label='1000 ms')\n",
    "plt.xlabel('Average Verbal Estimate Difference', fontsize=15)\n",
    "plt.ylabel('Avg Discrimination RT', fontsize = 15)\n",
    "plt.legend(fontsize = 12)\n",
    "plt.title('Avg Discrimination RT vs Avg Verbal Estimate Difference', fontsize = 18)\n",
    "plt.show();"
   ]
  },
  {
   "cell_type": "code",
   "execution_count": 114,
   "metadata": {},
   "outputs": [
    {
     "name": "stdout",
     "output_type": "stream",
     "text": [
      "m: [-138.70546212]\n",
      "b: 1329.1017989597779\n",
      "R-squared:  0.2091898417592739\n"
     ]
    },
    {
     "data": {
      "text/plain": [
       "Text(0.5, 1.0, '250 ms: RT')"
      ]
     },
     "execution_count": 114,
     "metadata": {},
     "output_type": "execute_result"
    },
    {
     "data": {
      "image/png": "[encoded data removed]",
      "text/plain": [
       "<Figure size 576x432 with 1 Axes>"
      ]
     },
     "metadata": {
      "needs_background": "light"
     },
     "output_type": "display_data"
    }
   ],
   "source": [
    "#run regression\n",
    "plt.figure(figsize=[8,6])\n",
    "VE_X_250 = np.array(VE_estim_diff_250).reshape(-1,1)\n",
    "VE_RT_250 = avg_RT_250\n",
    "VE_reg_250 = LinearRegression().fit(VE_X_250, VE_RT_250)\n",
    "\n",
    "#Generated Predictions\n",
    "RT_predicted_250 = VE_reg_250.predict(VE_X_250)\n",
    "#Plot Our Actual and Predicted Values\n",
    "plt.plot(VE_X_250, VE_RT_250, 'o', color='chocolate', alpha = 0.3);\n",
    "plt.plot(VE_X_250, RT_predicted_250,color='chocolate', label = '250 ms: m = ' + str(round(VE_reg_250.coef_[0], 3))\n",
    "         + '     r-squared = ' + str(round(float(VE_reg_250.score(VE_X_250, VE_RT_250)), 3)))\n",
    "plt.xlabel(\"Average Verbal Estimate Difference (m)\", fontsize = 15)\n",
    "plt.ylabel(\"Average Discrimination RT (ms)\", fontsize = 15)\n",
    "plt.yticks(np.arange(800, 1600, 100))\n",
    "legend = plt.legend(loc = 0, fontsize = 13, borderpad = 0.6, labelspacing = 1)\n",
    "legend.get_frame().set_facecolor('lightgray')\n",
    "\n",
    "#get coefficients and y intercept\n",
    "print(\"m: {0}\".format(VE_reg_250.coef_))\n",
    "print(\"b: {0}\".format(VE_reg_250.intercept_))\n",
    "\n",
    "#Returns the coefficient of determination R^2 of the prediction.\n",
    "print(\"R-squared: \", VE_reg_250.score(VE_X_250, VE_RT_250))\n",
    "\n",
    "plt.title(\"250 ms: RT\", fontsize = 20)\n",
    "\n"
   ]
  },
  {
   "cell_type": "code",
   "execution_count": 115,
   "metadata": {},
   "outputs": [
    {
     "name": "stdout",
     "output_type": "stream",
     "text": [
      "m: [-75.02727758]\n",
      "b: 1132.0077285593015\n",
      "R-squared:  0.2510025893920186\n"
     ]
    },
    {
     "data": {
      "text/plain": [
       "Text(0.5, 1.0, '1000 ms: RT')"
      ]
     },
     "execution_count": 115,
     "metadata": {},
     "output_type": "execute_result"
    },
    {
     "data": {
      "image/png": "[encoded data removed]",
      "text/plain": [
       "<Figure size 576x432 with 1 Axes>"
      ]
     },
     "metadata": {
      "needs_background": "light"
     },
     "output_type": "display_data"
    }
   ],
   "source": [
    "plt.figure(figsize=[8,6])\n",
    "\n",
    "VE_X_1000 = np.array(VE_estim_diff_1000).reshape(-1,1)\n",
    "VE_RT_1000 = avg_RT_1000\n",
    "VE_reg_1000 = LinearRegression().fit(VE_X_1000, VE_RT_1000)\n",
    "\n",
    "#Generated Predictions\n",
    "RT_predicted_1000 = VE_reg_1000.predict(VE_X_1000)\n",
    "#Plot Our Actual and Predicted Values\n",
    "plt.plot(VE_X_1000, VE_RT_1000, 'o', color='darkviolet', alpha = 0.3);\n",
    "plt.plot(VE_X_1000, RT_predicted_1000,color='darkviolet', label = '1000 ms: m = ' + str(round(VE_reg_1000.coef_[0], 3))\n",
    "         + '     r-squared = ' + str(round(float(VE_reg_1000.score(VE_X_1000, VE_RT_1000)), 3)))\n",
    "plt.xlabel(\"Average Verbal Estimate Difference (m)\", fontsize = 15)\n",
    "plt.ylabel(\"Average Discrimination RT (ms)\", fontsize = 15)\n",
    "plt.yticks(np.arange(800, 1600, 100))\n",
    "\n",
    "legend = plt.legend(loc = 0, fontsize = 13, borderpad = 0.6, labelspacing = 1)\n",
    "legend.get_frame().set_facecolor('lightgray')\n",
    "\n",
    "#get coefficients and y intercept\n",
    "print(\"m: {0}\".format(VE_reg_1000.coef_))\n",
    "print(\"b: {0}\".format(VE_reg_1000.intercept_))\n",
    "\n",
    "#Returns the coefficient of determination R^2 of the prediction.\n",
    "print(\"R-squared: \", VE_reg_1000.score(VE_X_1000, VE_RT_1000))\n",
    "\n",
    "plt.title(\"1000 ms: RT\", fontsize = 20)\n"
   ]
  },
  {
   "cell_type": "code",
   "execution_count": 116,
   "metadata": {},
   "outputs": [],
   "source": [
    "# #run regression\n",
    "# plt.figure(figsize=[8,6])\n",
    "# VE_X_1000 = np.array(VE_estim_diff_1000).reshape(-1,1)\n",
    "# VE_RT_1000 = avg_RT_1000\n",
    "# VE_reg_1000 = LinearRegression().fit(VE_X_1000, VE_RT_1000)\n",
    "\n",
    "# #Generated Predictions\n",
    "# RT_predicted_1000 = VE_reg_1000.predict(VE_X_1000)\n",
    "# #Plot Our Actual and Predicted Values\n",
    "# plt.plot(VE_X_1000, VE_RT_1000, 'o', color='black', alpha = 0.7);\n",
    "# plt.plot(VE_X_1000, RT_predicted_1000,color='red', label = 'm = ' + str(round(VE_reg_1000.coef_[0], 3))\n",
    "#          + '     r-squared = ' + str(round(float(VE_reg_1000.score(VE_X_1000, VE_RT_1000)), 3)))\n",
    "# plt.title(\"1000 ms\", fontsize = 20)\n",
    "# plt.xlabel(\"Avg Verbal Estimate Difference (m)\", fontsize = 15)\n",
    "# plt.ylabel(\"Avg Discrimination RT (m)\", fontsize = 15)\n",
    "\n",
    "# legend = plt.legend(loc = 0, fontsize = 13, borderpad = 0.6, labelspacing = 1)\n",
    "# legend.get_frame().set_facecolor('lightgray')\n",
    "\n",
    "# #get coefficients and y intercept\n",
    "# print(\"m: {0}\".format(VE_reg_1000.coef_))\n",
    "# print(\"b: {0}\".format(VE_reg_1000.intercept_))\n",
    "\n",
    "# #Returns the coefficient of determination R^2 of the prediction.\n",
    "# print(\"R-squared: \", VE_reg_1000.score(VE_X_1000, VE_RT_1000))"
   ]
  },
  {
   "cell_type": "markdown",
   "metadata": {},
   "source": [
    "# UPDATED REGRESSOR: Difference between verbal judgements divided by joint variance "
   ]
  },
  {
   "cell_type": "code",
   "execution_count": 117,
   "metadata": {},
   "outputs": [
    {
     "name": "stdout",
     "output_type": "stream",
     "text": [
      "250 ms: Correlation between VE discrimination accuracy and difference between verbal judgements divided by joint variance \n"
     ]
    },
    {
     "data": {
      "text/plain": [
       "(0.4175104174112364, 0.0005981448029273037)"
      ]
     },
     "execution_count": 117,
     "metadata": {},
     "output_type": "execute_result"
    }
   ],
   "source": [
    "print('250 ms: Correlation between VE discrimination accuracy and difference between verbal judgements divided by joint variance ')\n",
    "stats.pearsonr(VE_accuracy_250, JV_250)"
   ]
  },
  {
   "cell_type": "code",
   "execution_count": 118,
   "metadata": {},
   "outputs": [
    {
     "name": "stdout",
     "output_type": "stream",
     "text": [
      "1000 ms: Correlation between VE discrimination accuracy and difference between verbal judgements divided by joint variance \n"
     ]
    },
    {
     "data": {
      "text/plain": [
       "(0.575712533661539, 6.460493273441671e-07)"
      ]
     },
     "execution_count": 118,
     "metadata": {},
     "output_type": "execute_result"
    }
   ],
   "source": [
    "print('1000 ms: Correlation between VE discrimination accuracy and difference between verbal judgements divided by joint variance ')\n",
    "stats.pearsonr(VE_accuracy_1000, JV_1000)"
   ]
  },
  {
   "cell_type": "code",
   "execution_count": 119,
   "metadata": {},
   "outputs": [
    {
     "name": "stdout",
     "output_type": "stream",
     "text": [
      "m: [0.52613751]\n",
      "b: 0.592541710250361\n",
      "R-squared:  0.1743149486469049\n"
     ]
    },
    {
     "data": {
      "text/plain": [
       "Text(0.5, 1.0, '250 ms')"
      ]
     },
     "execution_count": 119,
     "metadata": {},
     "output_type": "execute_result"
    },
    {
     "data": {
      "image/png": "[encoded data removed]",
      "text/plain": [
       "<Figure size 576x432 with 1 Axes>"
      ]
     },
     "metadata": {
      "needs_background": "light"
     },
     "output_type": "display_data"
    }
   ],
   "source": [
    "#run regression\n",
    "plt.figure(figsize=[8,6])\n",
    "JV_X_250 = np.array(JV_250).reshape(-1,1)\n",
    "VE_PC_250 = VE_accuracy_250\n",
    "JV_PC_reg_250 = LinearRegression().fit(JV_X_250, VE_PC_250)\n",
    "\n",
    "#Generated Predictions\n",
    "JV_PC_predicted_250 = JV_PC_reg_250.predict(JV_X_250)\n",
    "#Plot Our Actual and Predicted Values\n",
    "plt.plot(JV_X_250, VE_PC_250, 'o', color='chocolate', alpha = 0.3);\n",
    "plt.plot(JV_X_250, JV_PC_predicted_250,color='chocolate', label = 'm = ' + str(round(JV_PC_reg_250.coef_[0], 3))\n",
    "         + '     r-squared = ' + str(round(float(JV_PC_reg_250.score(JV_X_250, VE_PC_250)), 3)))\n",
    "plt.xlabel(\"Difference between verbal judgements divided by joint variance\", fontsize = 15)\n",
    "plt.ylabel(\"VE Discrimination Proportion Correct\", fontsize = 15)\n",
    "\n",
    "#get coefficients and y intercept\n",
    "print(\"m: {0}\".format(JV_PC_reg_250.coef_))\n",
    "print(\"b: {0}\".format(JV_PC_reg_250.intercept_))\n",
    "\n",
    "#Returns the coefficient of determination R^2 of the prediction.\n",
    "print(\"R-squared: \", JV_PC_reg_250.score(JV_X_250, VE_PC_250))\n",
    "\n",
    "\n",
    "legend = plt.legend(loc = 4, fontsize = 13, borderpad = 0.6, labelspacing = 1)\n",
    "legend.get_frame().set_facecolor('lightgray')\n",
    "\n",
    "plt.title(\"250 ms\", fontsize = 20)\n"
   ]
  },
  {
   "cell_type": "code",
   "execution_count": 120,
   "metadata": {},
   "outputs": [
    {
     "name": "stdout",
     "output_type": "stream",
     "text": [
      "m: [0.84758066]\n",
      "b: 0.4701313633153942\n",
      "R-squared:  0.33144492141498855\n"
     ]
    },
    {
     "data": {
      "text/plain": [
       "Text(0.5, 1.0, '1000 ms')"
      ]
     },
     "execution_count": 120,
     "metadata": {},
     "output_type": "execute_result"
    },
    {
     "data": {
      "image/png": "[encoded data removed]",
      "text/plain": [
       "<Figure size 576x432 with 1 Axes>"
      ]
     },
     "metadata": {
      "needs_background": "light"
     },
     "output_type": "display_data"
    }
   ],
   "source": [
    "#run regression\n",
    "plt.figure(figsize=[8,6])\n",
    "JV_X_1000 = np.array(JV_1000).reshape(-1,1)\n",
    "VE_PC_1000 = VE_accuracy_1000\n",
    "JV_PC_reg_1000 = LinearRegression().fit(JV_X_1000, VE_PC_1000)\n",
    "\n",
    "#Generated Predictions\n",
    "JV_PC_predicted_1000 = JV_PC_reg_1000.predict(JV_X_1000)\n",
    "#Plot Our Actual and Predicted Values\n",
    "plt.plot(JV_X_1000, VE_PC_1000, 'o', color='darkviolet', alpha = 0.3);\n",
    "plt.plot(JV_X_1000, JV_PC_predicted_1000,color='darkviolet', label = 'm = ' + str(round(JV_PC_reg_1000.coef_[0], 3))\n",
    "         + '     r-squared = ' + str(round(float(JV_PC_reg_1000.score(JV_X_1000, VE_PC_1000)), 3)))\n",
    "plt.xlabel(\"Difference between verbal judgements divided by joint variance\", fontsize = 15)\n",
    "plt.ylabel(\"VE Discrimination Proportion Correct\", fontsize = 15)\n",
    "\n",
    "#get coefficients and y intercept\n",
    "print(\"m: {0}\".format(JV_PC_reg_1000.coef_))\n",
    "print(\"b: {0}\".format(JV_PC_reg_1000.intercept_))\n",
    "\n",
    "#Returns the coefficient of determination R^2 of the prediction.\n",
    "print(\"R-squared: \", JV_PC_reg_1000.score(JV_X_1000, VE_PC_1000))\n",
    "\n",
    "\n",
    "legend = plt.legend(loc = 4, fontsize = 13, borderpad = 0.6, labelspacing = 1)\n",
    "legend.get_frame().set_facecolor('lightgray')\n",
    "\n",
    "plt.title(\"1000 ms\", fontsize = 20)\n"
   ]
  },
  {
   "cell_type": "code",
   "execution_count": null,
   "metadata": {},
   "outputs": [],
   "source": []
  },
  {
   "cell_type": "code",
   "execution_count": 121,
   "metadata": {},
   "outputs": [
    {
     "name": "stdout",
     "output_type": "stream",
     "text": [
      "250 ms: Correlation between average discrimination RT and difference between verbal judgements divided by joint variance \n"
     ]
    },
    {
     "data": {
      "text/plain": [
       "(-0.3173306882657639, 0.010618187721972813)"
      ]
     },
     "execution_count": 121,
     "metadata": {},
     "output_type": "execute_result"
    }
   ],
   "source": [
    "print('250 ms: Correlation between average discrimination RT and difference between verbal judgements divided by joint variance ')\n",
    "stats.pearsonr(avg_RT_250, JV_250)"
   ]
  },
  {
   "cell_type": "code",
   "execution_count": 122,
   "metadata": {},
   "outputs": [
    {
     "name": "stdout",
     "output_type": "stream",
     "text": [
      "1000 ms: Correlation between average discrimination RT and difference between verbal judgements divided by joint variance \n"
     ]
    },
    {
     "data": {
      "text/plain": [
       "(-0.49862500489144657, 2.749004766333309e-05)"
      ]
     },
     "execution_count": 122,
     "metadata": {},
     "output_type": "execute_result"
    }
   ],
   "source": [
    "print('1000 ms: Correlation between average discrimination RT and difference between verbal judgements divided by joint variance ')\n",
    "stats.pearsonr(avg_RT_1000, JV_1000)"
   ]
  },
  {
   "cell_type": "code",
   "execution_count": 123,
   "metadata": {},
   "outputs": [
    {
     "name": "stdout",
     "output_type": "stream",
     "text": [
      "m: [-197.19986881]\n",
      "b: 1303.7662359539981\n",
      "R-squared:  0.10069876571522329\n"
     ]
    },
    {
     "data": {
      "text/plain": [
       "Text(0.5, 1.0, '250 ms: RT')"
      ]
     },
     "execution_count": 123,
     "metadata": {},
     "output_type": "execute_result"
    },
    {
     "data": {
      "image/png": "[encoded data removed]",
      "text/plain": [
       "<Figure size 576x432 with 1 Axes>"
      ]
     },
     "metadata": {
      "needs_background": "light"
     },
     "output_type": "display_data"
    }
   ],
   "source": [
    "#run regression\n",
    "plt.figure(figsize=[8,6])\n",
    "JV_X_250 = np.array(JV_250).reshape(-1,1)\n",
    "VE_PC_250 = avg_RT_250\n",
    "JV_PC_reg_250 = LinearRegression().fit(JV_X_250, VE_PC_250)\n",
    "\n",
    "#Generated Predictions\n",
    "JV_PC_predicted_250 = JV_PC_reg_250.predict(JV_X_250)\n",
    "#Plot Our Actual and Predicted Values\n",
    "plt.plot(JV_X_250, VE_PC_250, 'o', color='chocolate', alpha = 0.3);\n",
    "plt.plot(JV_X_250, JV_PC_predicted_250,color='chocolate', label = 'm = ' + str(round(JV_PC_reg_250.coef_[0], 3))\n",
    "         + '     r-squared = ' + str(round(float(JV_PC_reg_250.score(JV_X_250, VE_PC_250)), 3)))\n",
    "plt.xlabel(\"Difference between verbal judgements divided by joint variance\", fontsize = 15)\n",
    "plt.ylabel(\"RT (ms)\", fontsize = 15)\n",
    "\n",
    "#get coefficients and y intercept\n",
    "print(\"m: {0}\".format(JV_PC_reg_250.coef_))\n",
    "print(\"b: {0}\".format(JV_PC_reg_250.intercept_))\n",
    "\n",
    "#Returns the coefficient of determination R^2 of the prediction.\n",
    "print(\"R-squared: \", JV_PC_reg_250.score(JV_X_250, VE_PC_250))\n",
    "\n",
    "\n",
    "legend = plt.legend(loc = 4, fontsize = 13, borderpad = 0.6, labelspacing = 1)\n",
    "legend.get_frame().set_facecolor('lightgray')\n",
    "\n",
    "plt.title(\"250 ms: RT\", fontsize = 20)"
   ]
  },
  {
   "cell_type": "code",
   "execution_count": 124,
   "metadata": {},
   "outputs": [
    {
     "name": "stdout",
     "output_type": "stream",
     "text": [
      "m: [-179.07902911]\n",
      "b: 1133.4591861226932\n",
      "R-squared:  0.2486268955029948\n"
     ]
    },
    {
     "data": {
      "text/plain": [
       "Text(0.5, 1.0, '1000 ms: RT')"
      ]
     },
     "execution_count": 124,
     "metadata": {},
     "output_type": "execute_result"
    },
    {
     "data": {
      "image/png": "[encoded data removed]",
      "text/plain": [
       "<Figure size 576x432 with 1 Axes>"
      ]
     },
     "metadata": {
      "needs_background": "light"
     },
     "output_type": "display_data"
    }
   ],
   "source": [
    "#run regression\n",
    "plt.figure(figsize=[8,6])\n",
    "JV_X_1000 = np.array(JV_1000).reshape(-1,1)\n",
    "VE_PC_1000 = avg_RT_1000\n",
    "JV_PC_reg_1000 = LinearRegression().fit(JV_X_1000, VE_PC_1000)\n",
    "\n",
    "#Generated Predictions\n",
    "JV_PC_predicted_1000 = JV_PC_reg_1000.predict(JV_X_1000)\n",
    "#Plot Our Actual and Predicted Values\n",
    "plt.plot(JV_X_1000, VE_PC_1000, 'o', color='darkviolet', alpha = 0.3);\n",
    "plt.plot(JV_X_1000, JV_PC_predicted_1000,color='darkviolet', label = 'm = ' + str(round(JV_PC_reg_1000.coef_[0], 3))\n",
    "         + '     r-squared = ' + str(round(float(JV_PC_reg_1000.score(JV_X_1000, VE_PC_1000)), 3)))\n",
    "plt.xlabel(\"Difference between verbal judgements divided by joint variance\", fontsize = 15)\n",
    "plt.ylabel(\"RT (ms)\", fontsize = 15)\n",
    "\n",
    "#get coefficients and y intercept\n",
    "print(\"m: {0}\".format(JV_PC_reg_1000.coef_))\n",
    "print(\"b: {0}\".format(JV_PC_reg_1000.intercept_))\n",
    "\n",
    "#Returns the coefficient of determination R^2 of the prediction.\n",
    "print(\"R-squared: \", JV_PC_reg_1000.score(JV_X_1000, VE_PC_1000))\n",
    "\n",
    "\n",
    "legend = plt.legend(loc = 4, fontsize = 13, borderpad = 0.6, labelspacing = 1)\n",
    "legend.get_frame().set_facecolor('lightgray')\n",
    "\n",
    "plt.title(\"1000 ms: RT\", fontsize = 20)"
   ]
  },
  {
   "cell_type": "markdown",
   "metadata": {},
   "source": [
    "# Predictability of Discrimination RT based on summed VE trial RT "
   ]
  },
  {
   "cell_type": "code",
   "execution_count": 129,
   "metadata": {},
   "outputs": [],
   "source": [
    "datadir = '/Users/prachimahableshwarkar/Documents/GW/Depth_MTurk/depth_duration_analysis/TAC_data/'\n",
    "durations = ['250', '500', '750', '1000']\n",
    "TAC_rawPivot_RT = []\n",
    "\n",
    "for i in range(len(durations)):  \n",
    "    dur_data = pd.read_csv(datadir + 'rawPivot_' + durations[i] + '_RT.csv', index_col=None, header=0)\n",
    "    TAC_rawPivot_RT.append(dur_data)"
   ]
  },
  {
   "cell_type": "code",
   "execution_count": 130,
   "metadata": {},
   "outputs": [],
   "source": [
    "avg_RT_250 = [all_VE_discrim_performance[elem]['RT_250'][1] for elem in all_VE_discrim_performance]\n",
    "avg_RT_1000 = [all_VE_discrim_performance[elem]['RT_1000'][1] for elem in all_VE_discrim_performance]"
   ]
  },
  {
   "cell_type": "code",
   "execution_count": 131,
   "metadata": {},
   "outputs": [
    {
     "data": {
      "text/plain": [
       "{'stimulus_1': 'depth_discrimination_stimuli/000109_2014-05-14_23-41-52_260595134347_rgbf000035-resize_9/000109_2014-05-14_23-41-52_260595134347_rgbf000035-resize_9-target.png',\n",
       " 'accuracy_250': (0.5425531914893617, 51, 94, 2),\n",
       " 'accuracy_1000': (0.5851063829787234, 55, 94, 3),\n",
       " 'avg_depth': 1.6135000000000002,\n",
       " 'VE_depthdifference_250': 0.1437466666666667,\n",
       " 'VE_depthdifference_1000': 0.22626497687326563,\n",
       " 'RT_250': (array([ 930.,  962.,  901., 1191., 1017., 1460.,  764.,  837., 2994.,\n",
       "         1533.,  889.,  889., 1498., 1564., 1114., 1694., 1237., 1568.,\n",
       "          654., 1146., 1159.,  651., 1045.,  825., 2908., 1023.,  817.,\n",
       "         1156.,  994.,  968.,  961., 1003.,  841.,  689., 2638., 2444.,\n",
       "         1446., 1187.,  955., 1408., 1916., 1198.,  991., 1180.,  859.,\n",
       "         1602., 1637., 1010., 1165.,  917., 1174., 1181., 1116.,  857.,\n",
       "         2417., 1288.,  767., 1017.,  890.,  544., 1577., 1588.,  862.,\n",
       "         1768.,  945., 1441., 1039., 1045., 1622., 2516.,  961., 2214.,\n",
       "          963.,  954.,  829.,  882.,  920., 1088., 3328., 1012.,  794.,\n",
       "          671.,  807., 1033., 1365., 1413., 3035., 1108.,  790., 1443.,\n",
       "         1195., 1694., 1297., 1779.]), 1273.0212765957447, 563.0909185256231),\n",
       " 'RT_1000': (array([1094.,  882., 1128., 1065.,  655., 2350., 1047., 1057., 1152.,\n",
       "         2425., 1327., 1104.,  531., 1063., 1037., 1141.,  922.,  576.,\n",
       "          925.,  923.,  865., 2164., 1035.,  905.,  625.,  871., 1522.,\n",
       "         1504.,  799.,  656.,  978., 1221.,  887., 1089., 1071.,  916.,\n",
       "         3070.,  985., 2360.,  911., 1080.,  792.,  905.,  887., 1148.,\n",
       "         1339.,  889., 3972., 1176.,  857.,  755.,  770.,  936., 1006.,\n",
       "         1135.,  988.,  860., 1880.,  925., 1360.,  949.,  964., 1031.,\n",
       "         1228., 1083., 1070., 1033.,  911., 1207., 1386.,  837.,  876.,\n",
       "         1083.,  932., 1295.,  742.,  772., 1481.,  892., 1872.,  799.,\n",
       "         1252.,  798., 1405.,  819., 1901., 1163.,  781., 1049.,  797.,\n",
       "         1425., 2567.,  548., 1221.]), 1156.031914893617, 532.2435143389797),\n",
       " 'JV_regressor_250': 0.07760606856213106,\n",
       " 'JV_regressor_1000': 0.1603679406245937}"
      ]
     },
     "execution_count": 131,
     "metadata": {},
     "output_type": "execute_result"
    }
   ],
   "source": [
    "all_VE_discrim_performance['depth_discrimination_stimuli/001618_2014-06-20_11-37-31_260595134347_rgbf000027-resize_3/001618_2014-06-20_11-37-31_260595134347_rgbf000027-resize_3-target.png']\n"
   ]
  },
  {
   "cell_type": "code",
   "execution_count": 132,
   "metadata": {},
   "outputs": [],
   "source": [
    "TAC_250_rawPivot_RT = TAC_rawPivot_RT[0]\n",
    "TAC_1000_rawPivot_RT = TAC_rawPivot_RT[-1]\n",
    "\n",
    "for key in all_VE_discrim_performance:\n",
    "    VE_stim0 = 'depth_duration_stimuli/' + key.split('/')[1] + '/' + key.split('/')[2]\n",
    "    VE_stim0_250_RT = TAC_250_rawPivot_RT.loc[TAC_250_rawPivot_RT['stimulus'] == VE_stim0]['Average Trial RT'].unique()[0]\n",
    "    VE_stim0_1000_RT = TAC_1000_rawPivot_RT.loc[TAC_1000_rawPivot_RT['stimulus'] == VE_stim0]['Average Trial RT'].unique()[0]\n",
    "\n",
    "    VE_stim1 = 'depth_duration_stimuli/' + all_VE_discrim_performance[key]['stimulus_1'].split('/')[1] + '/' + all_VE_discrim_performance[key]['stimulus_1'].split('/')[2]\n",
    "    VE_stim1_250_RT = TAC_250_rawPivot_RT.loc[TAC_250_rawPivot_RT['stimulus'] == VE_stim1]['Average Trial RT'].unique()[0]\n",
    "    VE_stim1_1000_RT = TAC_1000_rawPivot_RT.loc[TAC_1000_rawPivot_RT['stimulus'] == VE_stim1]['Average Trial RT'].unique()[0]\n",
    "    \n",
    "    VE_250_RTsum = VE_stim0_250_RT + VE_stim1_250_RT\n",
    "    VE_1000_RTsum = VE_stim0_1000_RT + VE_stim1_1000_RT\n",
    "\n",
    "    all_VE_discrim_performance[key]['VE_RTsum_250'] = VE_250_RTsum\n",
    "    all_VE_discrim_performance[key]['VE_RTsum_1000'] = VE_1000_RTsum\n"
   ]
  },
  {
   "cell_type": "code",
   "execution_count": 133,
   "metadata": {},
   "outputs": [],
   "source": [
    "all_VE_RTsum_250 = [all_VE_discrim_performance[elem]['VE_RTsum_250'] for elem in all_VE_discrim_performance]\n",
    "all_VE_RTsum_1000 = [all_VE_discrim_performance[elem]['VE_RTsum_1000'] for elem in all_VE_discrim_performance]\n"
   ]
  },
  {
   "cell_type": "code",
   "execution_count": 134,
   "metadata": {},
   "outputs": [
    {
     "data": {
      "text/plain": [
       "{'stimulus_1': 'depth_discrimination_stimuli/000109_2014-05-14_23-41-52_260595134347_rgbf000035-resize_9/000109_2014-05-14_23-41-52_260595134347_rgbf000035-resize_9-target.png',\n",
       " 'accuracy_250': (0.5425531914893617, 51, 94, 2),\n",
       " 'accuracy_1000': (0.5851063829787234, 55, 94, 3),\n",
       " 'avg_depth': 1.6135000000000002,\n",
       " 'VE_depthdifference_250': 0.1437466666666667,\n",
       " 'VE_depthdifference_1000': 0.22626497687326563,\n",
       " 'RT_250': (array([ 930.,  962.,  901., 1191., 1017., 1460.,  764.,  837., 2994.,\n",
       "         1533.,  889.,  889., 1498., 1564., 1114., 1694., 1237., 1568.,\n",
       "          654., 1146., 1159.,  651., 1045.,  825., 2908., 1023.,  817.,\n",
       "         1156.,  994.,  968.,  961., 1003.,  841.,  689., 2638., 2444.,\n",
       "         1446., 1187.,  955., 1408., 1916., 1198.,  991., 1180.,  859.,\n",
       "         1602., 1637., 1010., 1165.,  917., 1174., 1181., 1116.,  857.,\n",
       "         2417., 1288.,  767., 1017.,  890.,  544., 1577., 1588.,  862.,\n",
       "         1768.,  945., 1441., 1039., 1045., 1622., 2516.,  961., 2214.,\n",
       "          963.,  954.,  829.,  882.,  920., 1088., 3328., 1012.,  794.,\n",
       "          671.,  807., 1033., 1365., 1413., 3035., 1108.,  790., 1443.,\n",
       "         1195., 1694., 1297., 1779.]), 1273.0212765957447, 563.0909185256231),\n",
       " 'RT_1000': (array([1094.,  882., 1128., 1065.,  655., 2350., 1047., 1057., 1152.,\n",
       "         2425., 1327., 1104.,  531., 1063., 1037., 1141.,  922.,  576.,\n",
       "          925.,  923.,  865., 2164., 1035.,  905.,  625.,  871., 1522.,\n",
       "         1504.,  799.,  656.,  978., 1221.,  887., 1089., 1071.,  916.,\n",
       "         3070.,  985., 2360.,  911., 1080.,  792.,  905.,  887., 1148.,\n",
       "         1339.,  889., 3972., 1176.,  857.,  755.,  770.,  936., 1006.,\n",
       "         1135.,  988.,  860., 1880.,  925., 1360.,  949.,  964., 1031.,\n",
       "         1228., 1083., 1070., 1033.,  911., 1207., 1386.,  837.,  876.,\n",
       "         1083.,  932., 1295.,  742.,  772., 1481.,  892., 1872.,  799.,\n",
       "         1252.,  798., 1405.,  819., 1901., 1163.,  781., 1049.,  797.,\n",
       "         1425., 2567.,  548., 1221.]), 1156.031914893617, 532.2435143389797),\n",
       " 'JV_regressor_250': 0.07760606856213106,\n",
       " 'JV_regressor_1000': 0.1603679406245937,\n",
       " 'VE_RTsum_250': 6612.499999999999,\n",
       " 'VE_RTsum_1000': 3857.1503237742836}"
      ]
     },
     "execution_count": 134,
     "metadata": {},
     "output_type": "execute_result"
    }
   ],
   "source": [
    "all_VE_discrim_performance['depth_discrimination_stimuli/001618_2014-06-20_11-37-31_260595134347_rgbf000027-resize_3/001618_2014-06-20_11-37-31_260595134347_rgbf000027-resize_3-target.png']\n"
   ]
  },
  {
   "cell_type": "code",
   "execution_count": 135,
   "metadata": {},
   "outputs": [
    {
     "name": "stdout",
     "output_type": "stream",
     "text": [
      "250 ms: Correlation between average discrimination RT and the sum of corresponding VE trial RTs\n"
     ]
    },
    {
     "data": {
      "text/plain": [
       "(0.2036961676821188, 0.10643464310330766)"
      ]
     },
     "execution_count": 135,
     "metadata": {},
     "output_type": "execute_result"
    }
   ],
   "source": [
    "print('250 ms: Correlation between average discrimination RT and the sum of corresponding VE trial RTs')\n",
    "stats.pearsonr(avg_RT_250, all_VE_RTsum_250)"
   ]
  },
  {
   "cell_type": "code",
   "execution_count": 136,
   "metadata": {},
   "outputs": [
    {
     "name": "stdout",
     "output_type": "stream",
     "text": [
      "1000 ms: Correlation between average discrimination RT and the sum of corresponding VE trial RTs\n"
     ]
    },
    {
     "data": {
      "text/plain": [
       "(-0.13971853136302662, 0.2708400939681063)"
      ]
     },
     "execution_count": 136,
     "metadata": {},
     "output_type": "execute_result"
    }
   ],
   "source": [
    "print('1000 ms: Correlation between average discrimination RT and the sum of corresponding VE trial RTs')\n",
    "stats.pearsonr(avg_RT_1000, all_VE_RTsum_1000)"
   ]
  },
  {
   "cell_type": "code",
   "execution_count": 137,
   "metadata": {},
   "outputs": [
    {
     "name": "stdout",
     "output_type": "stream",
     "text": [
      "m: [0.02787574]\n",
      "b: 1081.738407043882\n",
      "R-squared:  0.04149212872838193\n"
     ]
    },
    {
     "data": {
      "text/plain": [
       "Text(0.5, 1.0, '250 ms: RT')"
      ]
     },
     "execution_count": 137,
     "metadata": {},
     "output_type": "execute_result"
    },
    {
     "data": {
      "image/png": "[encoded data removed]",
      "text/plain": [
       "<Figure size 576x432 with 1 Axes>"
      ]
     },
     "metadata": {
      "needs_background": "light"
     },
     "output_type": "display_data"
    }
   ],
   "source": [
    "#run regression\n",
    "plt.figure(figsize=[8,6])\n",
    "RTsum_X_250 = np.array(all_VE_RTsum_250).reshape(-1,1)\n",
    "VE_PC_250 = avg_RT_250\n",
    "RTsum_PC_reg_250 = LinearRegression().fit(RTsum_X_250, VE_PC_250)\n",
    "\n",
    "#Generated Predictions\n",
    "RTsum_PC_predicted_250 = RTsum_PC_reg_250.predict(RTsum_X_250)\n",
    "#Plot Our Actual and Predicted Values\n",
    "plt.plot(RTsum_X_250, VE_PC_250, 'o', color='chocolate', alpha = 0.3);\n",
    "plt.plot(RTsum_X_250, RTsum_PC_predicted_250,color='chocolate', label = 'm = ' + str(round(RTsum_PC_reg_250.coef_[0], 3))\n",
    "         + '     r-squared = ' + str(round(float(RTsum_PC_reg_250.score(RTsum_X_250, VE_PC_250)), 3)))\n",
    "plt.xlabel(\"Sum of Verbal Judgement Trial RTs\", fontsize = 15)\n",
    "plt.ylabel(\"Discrimination RT (ms)\", fontsize = 15)\n",
    "\n",
    "#get coefficients and y intercept\n",
    "print(\"m: {0}\".format(RTsum_PC_reg_250.coef_))\n",
    "print(\"b: {0}\".format(RTsum_PC_reg_250.intercept_))\n",
    "\n",
    "#Returns the coefficient of determination R^2 of the prediction.\n",
    "print(\"R-squared: \", RTsum_PC_reg_250.score(RTsum_X_250, VE_PC_250))\n",
    "\n",
    "\n",
    "legend = plt.legend(loc = 4, fontsize = 13, borderpad = 0.6, labelspacing = 1)\n",
    "legend.get_frame().set_facecolor('lightgray')\n",
    "\n",
    "plt.title(\"250 ms: RT\", fontsize = 20)"
   ]
  },
  {
   "cell_type": "code",
   "execution_count": 138,
   "metadata": {},
   "outputs": [
    {
     "name": "stdout",
     "output_type": "stream",
     "text": [
      "m: [-0.01088484]\n",
      "b: 1151.4563125193306\n",
      "R-squared:  0.0195212680062411\n"
     ]
    },
    {
     "data": {
      "text/plain": [
       "Text(0.5, 1.0, '1000 ms: RT')"
      ]
     },
     "execution_count": 138,
     "metadata": {},
     "output_type": "execute_result"
    },
    {
     "data": {
      "image/png": "[encoded data removed]",
      "text/plain": [
       "<Figure size 576x432 with 1 Axes>"
      ]
     },
     "metadata": {
      "needs_background": "light"
     },
     "output_type": "display_data"
    }
   ],
   "source": [
    "#run regression\n",
    "plt.figure(figsize=[8,6])\n",
    "RTsum_X_1000 = np.array(all_VE_RTsum_1000).reshape(-1,1)\n",
    "VE_PC_1000 = avg_RT_1000\n",
    "RTsum_PC_reg_1000 = LinearRegression().fit(RTsum_X_1000, VE_PC_1000)\n",
    "\n",
    "#Generated Predictions\n",
    "RTsum_PC_predicted_1000 = RTsum_PC_reg_1000.predict(RTsum_X_1000)\n",
    "#Plot Our Actual and Predicted Values\n",
    "plt.plot(RTsum_X_1000, VE_PC_1000, 'o', color='darkviolet', alpha = 0.3);\n",
    "plt.plot(RTsum_X_1000, RTsum_PC_predicted_1000,color='darkviolet', label = 'm = ' + str(round(RTsum_PC_reg_1000.coef_[0], 3))\n",
    "         + '     r-squared = ' + str(round(float(RTsum_PC_reg_1000.score(RTsum_X_1000, VE_PC_1000)), 3)))\n",
    "plt.xlabel(\"Sum of Verbal Judgement Trial RTs\", fontsize = 15)\n",
    "plt.ylabel(\"Discrimination RT (ms)\", fontsize = 15)\n",
    "\n",
    "#get coefficients and y intercept\n",
    "print(\"m: {0}\".format(RTsum_PC_reg_1000.coef_))\n",
    "print(\"b: {0}\".format(RTsum_PC_reg_1000.intercept_))\n",
    "\n",
    "#Returns the coefficient of determination R^2 of the prediction.\n",
    "print(\"R-squared: \", RTsum_PC_reg_1000.score(RTsum_X_1000, VE_PC_1000))\n",
    "\n",
    "\n",
    "legend = plt.legend(loc = 4, fontsize = 13, borderpad = 0.6, labelspacing = 1)\n",
    "legend.get_frame().set_facecolor('lightgray')\n",
    "\n",
    "plt.title(\"1000 ms: RT\", fontsize = 20)"
   ]
  },
  {
   "cell_type": "code",
   "execution_count": null,
   "metadata": {},
   "outputs": [],
   "source": []
  },
  {
   "cell_type": "code",
   "execution_count": null,
   "metadata": {},
   "outputs": [],
   "source": []
  },
  {
   "cell_type": "code",
   "execution_count": null,
   "metadata": {},
   "outputs": [],
   "source": []
  }
 ],
 "metadata": {
  "kernelspec": {
   "display_name": "Python 3",
   "language": "python",
   "name": "python3"
  },
  "language_info": {
   "codemirror_mode": {
    "name": "ipython",
    "version": 3
   },
   "file_extension": ".py",
   "mimetype": "text/x-python",
   "name": "python",
   "nbconvert_exporter": "python",
   "pygments_lexer": "ipython3",
   "version": "3.6.1"
  }
 },
 "nbformat": 4,
 "nbformat_minor": 4
}
