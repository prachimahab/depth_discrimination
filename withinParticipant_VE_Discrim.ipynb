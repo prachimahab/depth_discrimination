{
 "cells": [
  {
   "cell_type": "markdown",
   "metadata": {},
   "source": [
    "# TAC Discrimination Analysis: \n",
    "\n",
    "# Within Participants who have seen both discrimination images @ the same duration in the Verbal Judgement experiment"
   ]
  },
  {
   "cell_type": "code",
   "execution_count": 119,
   "metadata": {},
   "outputs": [],
   "source": [
    "import os \n",
    "import pandas as pd\n",
    "import numpy as np\n",
    "import math\n",
    "import matplotlib.pyplot as plt\n",
    "import scipy \n",
    "import scipy.stats as stats\n",
    "import json\n",
    "from sklearn.linear_model import LinearRegression\n"
   ]
  },
  {
   "cell_type": "markdown",
   "metadata": {},
   "source": [
    "## Get discrimination data"
   ]
  },
  {
   "cell_type": "code",
   "execution_count": 17,
   "metadata": {},
   "outputs": [],
   "source": [
    "def combineCSVs(datafolder, num_discrim_trials):\n",
    "    \"\"\"\n",
    "    Combine all participant data into one pandas df\n",
    "    OR \n",
    "    Create df for single participant file \n",
    "    \n",
    "    returns:\n",
    "        (1) combined dataframe of all discrimination data \n",
    "        (2) combined dataframe of all scene property rating data \n",
    "    \"\"\"\n",
    "    #checks if path is a file\n",
    "    isFile = os.path.isfile(datafolder)\n",
    "\n",
    "    #checks if path is a directory\n",
    "    \n",
    "    isDirectory = os.path.isdir(datafolder)\n",
    "    \n",
    "    if isDirectory == True:\n",
    "        discrim_data = []\n",
    "        properties_data = []\n",
    "        for filename in os.listdir(datafolder):\n",
    "            if 'csv' in filename:\n",
    "                path = datafolder + \"/\" + filename\n",
    "                df = pd.read_csv(path, index_col=None, header=0)\n",
    "                \n",
    "                df_discrim = df[0:num_discrim_trials]\n",
    "                discrim_data.append(df_discrim)\n",
    "                # row 96 should be ignored - artifact of logging \n",
    "                df_properties = df[num_discrim_trials+1:]\n",
    "                properties_data.append(df_properties)\n",
    "                \n",
    "\n",
    "        discrim_frame = pd.concat(discrim_data, axis=0, ignore_index=True)\n",
    "        properties_frame = pd.concat(properties_data, axis=0, ignore_index=True)\n",
    "        \n",
    "    if isFile == True:\n",
    "        if 'csv' in datafolder:\n",
    "            df = pd.read_csv(datafolder, index_col=None, header=0)\n",
    "            df_discrim = df[0:num_discrim_trials]\n",
    "            discrim_data.append(df_discrim)\n",
    "            # row 96 should be ignored - artifact of logging \n",
    "            df_properties = df[num_discrim_trials+1:]\n",
    "            properties_data.append(df_properties)\n",
    " \n",
    "    return discrim_frame, properties_frame"
   ]
  },
  {
   "cell_type": "code",
   "execution_count": 18,
   "metadata": {},
   "outputs": [],
   "source": [
    "data_path = '/Users/prachi/Documents/depth_duration/depth_discrimination/TAC_depth_discrimination_MTurk/data'\n"
   ]
  },
  {
   "cell_type": "code",
   "execution_count": 19,
   "metadata": {},
   "outputs": [],
   "source": [
    "raw_discrim, raw_ratings = combineCSVs(data_path, 40)"
   ]
  },
  {
   "cell_type": "code",
   "execution_count": 20,
   "metadata": {},
   "outputs": [
    {
     "data": {
      "text/plain": [
       "342"
      ]
     },
     "execution_count": 20,
     "metadata": {},
     "output_type": "execute_result"
    }
   ],
   "source": [
    "all_subjIDs = raw_discrim.subjID.unique()\n",
    "len(all_subjIDs)"
   ]
  },
  {
   "cell_type": "code",
   "execution_count": 21,
   "metadata": {
    "collapsed": true,
    "jupyter": {
     "outputs_hidden": true
    }
   },
   "outputs": [
    {
     "data": {
      "text/html": [
       "<div>\n",
       "<style scoped>\n",
       "    .dataframe tbody tr th:only-of-type {\n",
       "        vertical-align: middle;\n",
       "    }\n",
       "\n",
       "    .dataframe tbody tr th {\n",
       "        vertical-align: top;\n",
       "    }\n",
       "\n",
       "    .dataframe thead th {\n",
       "        text-align: right;\n",
       "    }\n",
       "</style>\n",
       "<table border=\"1\" class=\"dataframe\">\n",
       "  <thead>\n",
       "    <tr style=\"text-align: right;\">\n",
       "      <th></th>\n",
       "      <th>subjID</th>\n",
       "      <th>experimentName</th>\n",
       "      <th>versionName</th>\n",
       "      <th>sequenceName</th>\n",
       "      <th>url</th>\n",
       "      <th>selected_row</th>\n",
       "      <th>windowWidth</th>\n",
       "      <th>windowHeight</th>\n",
       "      <th>screenWidth</th>\n",
       "      <th>screenHeight</th>\n",
       "      <th>...</th>\n",
       "      <th>trial_RT</th>\n",
       "      <th>log_fixation</th>\n",
       "      <th>log_sceneDuration1</th>\n",
       "      <th>log_mask1</th>\n",
       "      <th>log_sceneDuration2</th>\n",
       "      <th>log_mask2</th>\n",
       "      <th>experimentTime</th>\n",
       "      <th>totalTime</th>\n",
       "      <th>age</th>\n",
       "      <th>gender</th>\n",
       "    </tr>\n",
       "  </thead>\n",
       "  <tbody>\n",
       "    <tr>\n",
       "      <th>0</th>\n",
       "      <td>385749.0</td>\n",
       "      <td>DepthScenes</td>\n",
       "      <td>v2_duration_discrimination</td>\n",
       "      <td>discrim_jsons/v2_shuffled_g0.json</td>\n",
       "      <td>http://54.210.137.18/DepthDuration/v2_depth_di...</td>\n",
       "      <td>4.0</td>\n",
       "      <td>1179.0</td>\n",
       "      <td>646.0</td>\n",
       "      <td>1440.0</td>\n",
       "      <td>900.0</td>\n",
       "      <td>...</td>\n",
       "      <td>2027.0</td>\n",
       "      <td>1005.0</td>\n",
       "      <td>248.0</td>\n",
       "      <td>1001.0</td>\n",
       "      <td>246.0</td>\n",
       "      <td>501.0</td>\n",
       "      <td>NaN</td>\n",
       "      <td>440868</td>\n",
       "      <td>66</td>\n",
       "      <td>Man</td>\n",
       "    </tr>\n",
       "    <tr>\n",
       "      <th>1</th>\n",
       "      <td>385749.0</td>\n",
       "      <td>DepthScenes</td>\n",
       "      <td>v2_duration_discrimination</td>\n",
       "      <td>discrim_jsons/v2_shuffled_g0.json</td>\n",
       "      <td>http://54.210.137.18/DepthDuration/v2_depth_di...</td>\n",
       "      <td>4.0</td>\n",
       "      <td>1179.0</td>\n",
       "      <td>646.0</td>\n",
       "      <td>1440.0</td>\n",
       "      <td>900.0</td>\n",
       "      <td>...</td>\n",
       "      <td>1444.0</td>\n",
       "      <td>1004.0</td>\n",
       "      <td>252.0</td>\n",
       "      <td>1000.0</td>\n",
       "      <td>245.0</td>\n",
       "      <td>503.0</td>\n",
       "      <td>NaN</td>\n",
       "      <td>440868</td>\n",
       "      <td>66</td>\n",
       "      <td>Man</td>\n",
       "    </tr>\n",
       "    <tr>\n",
       "      <th>2</th>\n",
       "      <td>385749.0</td>\n",
       "      <td>DepthScenes</td>\n",
       "      <td>v2_duration_discrimination</td>\n",
       "      <td>discrim_jsons/v2_shuffled_g0.json</td>\n",
       "      <td>http://54.210.137.18/DepthDuration/v2_depth_di...</td>\n",
       "      <td>4.0</td>\n",
       "      <td>1179.0</td>\n",
       "      <td>646.0</td>\n",
       "      <td>1440.0</td>\n",
       "      <td>900.0</td>\n",
       "      <td>...</td>\n",
       "      <td>1165.0</td>\n",
       "      <td>1003.0</td>\n",
       "      <td>253.0</td>\n",
       "      <td>1000.0</td>\n",
       "      <td>249.0</td>\n",
       "      <td>499.0</td>\n",
       "      <td>NaN</td>\n",
       "      <td>440868</td>\n",
       "      <td>66</td>\n",
       "      <td>Man</td>\n",
       "    </tr>\n",
       "    <tr>\n",
       "      <th>3</th>\n",
       "      <td>385749.0</td>\n",
       "      <td>DepthScenes</td>\n",
       "      <td>v2_duration_discrimination</td>\n",
       "      <td>discrim_jsons/v2_shuffled_g0.json</td>\n",
       "      <td>http://54.210.137.18/DepthDuration/v2_depth_di...</td>\n",
       "      <td>4.0</td>\n",
       "      <td>1179.0</td>\n",
       "      <td>646.0</td>\n",
       "      <td>1440.0</td>\n",
       "      <td>900.0</td>\n",
       "      <td>...</td>\n",
       "      <td>2543.0</td>\n",
       "      <td>1004.0</td>\n",
       "      <td>1001.0</td>\n",
       "      <td>998.0</td>\n",
       "      <td>999.0</td>\n",
       "      <td>502.0</td>\n",
       "      <td>NaN</td>\n",
       "      <td>440868</td>\n",
       "      <td>66</td>\n",
       "      <td>Man</td>\n",
       "    </tr>\n",
       "    <tr>\n",
       "      <th>4</th>\n",
       "      <td>385749.0</td>\n",
       "      <td>DepthScenes</td>\n",
       "      <td>v2_duration_discrimination</td>\n",
       "      <td>discrim_jsons/v2_shuffled_g0.json</td>\n",
       "      <td>http://54.210.137.18/DepthDuration/v2_depth_di...</td>\n",
       "      <td>4.0</td>\n",
       "      <td>1179.0</td>\n",
       "      <td>646.0</td>\n",
       "      <td>1440.0</td>\n",
       "      <td>900.0</td>\n",
       "      <td>...</td>\n",
       "      <td>2011.0</td>\n",
       "      <td>1000.0</td>\n",
       "      <td>1000.0</td>\n",
       "      <td>1001.0</td>\n",
       "      <td>999.0</td>\n",
       "      <td>501.0</td>\n",
       "      <td>NaN</td>\n",
       "      <td>440868</td>\n",
       "      <td>66</td>\n",
       "      <td>Man</td>\n",
       "    </tr>\n",
       "    <tr>\n",
       "      <th>...</th>\n",
       "      <td>...</td>\n",
       "      <td>...</td>\n",
       "      <td>...</td>\n",
       "      <td>...</td>\n",
       "      <td>...</td>\n",
       "      <td>...</td>\n",
       "      <td>...</td>\n",
       "      <td>...</td>\n",
       "      <td>...</td>\n",
       "      <td>...</td>\n",
       "      <td>...</td>\n",
       "      <td>...</td>\n",
       "      <td>...</td>\n",
       "      <td>...</td>\n",
       "      <td>...</td>\n",
       "      <td>...</td>\n",
       "      <td>...</td>\n",
       "      <td>...</td>\n",
       "      <td>...</td>\n",
       "      <td>...</td>\n",
       "      <td>...</td>\n",
       "    </tr>\n",
       "    <tr>\n",
       "      <th>13675</th>\n",
       "      <td>125847.0</td>\n",
       "      <td>DepthScenes</td>\n",
       "      <td>v2_duration_discrimination</td>\n",
       "      <td>discrim_jsons/v2_shuffled_g0_rotated_dr.json</td>\n",
       "      <td>http://18.212.73.137/DepthDuration/v2_depth_di...</td>\n",
       "      <td>2.0</td>\n",
       "      <td>1366.0</td>\n",
       "      <td>768.0</td>\n",
       "      <td>1366.0</td>\n",
       "      <td>768.0</td>\n",
       "      <td>...</td>\n",
       "      <td>1619.0</td>\n",
       "      <td>1014.0</td>\n",
       "      <td>988.0</td>\n",
       "      <td>999.0</td>\n",
       "      <td>1000.0</td>\n",
       "      <td>499.0</td>\n",
       "      <td>NaN</td>\n",
       "      <td>556521</td>\n",
       "      <td>59</td>\n",
       "      <td>Woman</td>\n",
       "    </tr>\n",
       "    <tr>\n",
       "      <th>13676</th>\n",
       "      <td>125847.0</td>\n",
       "      <td>DepthScenes</td>\n",
       "      <td>v2_duration_discrimination</td>\n",
       "      <td>discrim_jsons/v2_shuffled_g0_rotated_dr.json</td>\n",
       "      <td>http://18.212.73.137/DepthDuration/v2_depth_di...</td>\n",
       "      <td>2.0</td>\n",
       "      <td>1366.0</td>\n",
       "      <td>768.0</td>\n",
       "      <td>1366.0</td>\n",
       "      <td>768.0</td>\n",
       "      <td>...</td>\n",
       "      <td>970.0</td>\n",
       "      <td>1000.0</td>\n",
       "      <td>251.0</td>\n",
       "      <td>999.0</td>\n",
       "      <td>250.0</td>\n",
       "      <td>500.0</td>\n",
       "      <td>NaN</td>\n",
       "      <td>556521</td>\n",
       "      <td>59</td>\n",
       "      <td>Woman</td>\n",
       "    </tr>\n",
       "    <tr>\n",
       "      <th>13677</th>\n",
       "      <td>125847.0</td>\n",
       "      <td>DepthScenes</td>\n",
       "      <td>v2_duration_discrimination</td>\n",
       "      <td>discrim_jsons/v2_shuffled_g0_rotated_dr.json</td>\n",
       "      <td>http://18.212.73.137/DepthDuration/v2_depth_di...</td>\n",
       "      <td>2.0</td>\n",
       "      <td>1366.0</td>\n",
       "      <td>768.0</td>\n",
       "      <td>1366.0</td>\n",
       "      <td>768.0</td>\n",
       "      <td>...</td>\n",
       "      <td>1663.0</td>\n",
       "      <td>1004.0</td>\n",
       "      <td>1000.0</td>\n",
       "      <td>997.0</td>\n",
       "      <td>1000.0</td>\n",
       "      <td>499.0</td>\n",
       "      <td>NaN</td>\n",
       "      <td>556521</td>\n",
       "      <td>59</td>\n",
       "      <td>Woman</td>\n",
       "    </tr>\n",
       "    <tr>\n",
       "      <th>13678</th>\n",
       "      <td>125847.0</td>\n",
       "      <td>DepthScenes</td>\n",
       "      <td>v2_duration_discrimination</td>\n",
       "      <td>discrim_jsons/v2_shuffled_g0_rotated_dr.json</td>\n",
       "      <td>http://18.212.73.137/DepthDuration/v2_depth_di...</td>\n",
       "      <td>2.0</td>\n",
       "      <td>1366.0</td>\n",
       "      <td>768.0</td>\n",
       "      <td>1366.0</td>\n",
       "      <td>768.0</td>\n",
       "      <td>...</td>\n",
       "      <td>1653.0</td>\n",
       "      <td>1001.0</td>\n",
       "      <td>1001.0</td>\n",
       "      <td>1000.0</td>\n",
       "      <td>996.0</td>\n",
       "      <td>499.0</td>\n",
       "      <td>NaN</td>\n",
       "      <td>556521</td>\n",
       "      <td>59</td>\n",
       "      <td>Woman</td>\n",
       "    </tr>\n",
       "    <tr>\n",
       "      <th>13679</th>\n",
       "      <td>125847.0</td>\n",
       "      <td>DepthScenes</td>\n",
       "      <td>v2_duration_discrimination</td>\n",
       "      <td>discrim_jsons/v2_shuffled_g0_rotated_dr.json</td>\n",
       "      <td>http://18.212.73.137/DepthDuration/v2_depth_di...</td>\n",
       "      <td>2.0</td>\n",
       "      <td>1366.0</td>\n",
       "      <td>768.0</td>\n",
       "      <td>1366.0</td>\n",
       "      <td>768.0</td>\n",
       "      <td>...</td>\n",
       "      <td>1653.0</td>\n",
       "      <td>1001.0</td>\n",
       "      <td>1001.0</td>\n",
       "      <td>1000.0</td>\n",
       "      <td>996.0</td>\n",
       "      <td>499.0</td>\n",
       "      <td>NaN</td>\n",
       "      <td>556521</td>\n",
       "      <td>59</td>\n",
       "      <td>Woman</td>\n",
       "    </tr>\n",
       "  </tbody>\n",
       "</table>\n",
       "<p>13680 rows × 29 columns</p>\n",
       "</div>"
      ],
      "text/plain": [
       "         subjID experimentName                 versionName  \\\n",
       "0      385749.0    DepthScenes  v2_duration_discrimination   \n",
       "1      385749.0    DepthScenes  v2_duration_discrimination   \n",
       "2      385749.0    DepthScenes  v2_duration_discrimination   \n",
       "3      385749.0    DepthScenes  v2_duration_discrimination   \n",
       "4      385749.0    DepthScenes  v2_duration_discrimination   \n",
       "...         ...            ...                         ...   \n",
       "13675  125847.0    DepthScenes  v2_duration_discrimination   \n",
       "13676  125847.0    DepthScenes  v2_duration_discrimination   \n",
       "13677  125847.0    DepthScenes  v2_duration_discrimination   \n",
       "13678  125847.0    DepthScenes  v2_duration_discrimination   \n",
       "13679  125847.0    DepthScenes  v2_duration_discrimination   \n",
       "\n",
       "                                       sequenceName  \\\n",
       "0                 discrim_jsons/v2_shuffled_g0.json   \n",
       "1                 discrim_jsons/v2_shuffled_g0.json   \n",
       "2                 discrim_jsons/v2_shuffled_g0.json   \n",
       "3                 discrim_jsons/v2_shuffled_g0.json   \n",
       "4                 discrim_jsons/v2_shuffled_g0.json   \n",
       "...                                             ...   \n",
       "13675  discrim_jsons/v2_shuffled_g0_rotated_dr.json   \n",
       "13676  discrim_jsons/v2_shuffled_g0_rotated_dr.json   \n",
       "13677  discrim_jsons/v2_shuffled_g0_rotated_dr.json   \n",
       "13678  discrim_jsons/v2_shuffled_g0_rotated_dr.json   \n",
       "13679  discrim_jsons/v2_shuffled_g0_rotated_dr.json   \n",
       "\n",
       "                                                     url  selected_row  \\\n",
       "0      http://54.210.137.18/DepthDuration/v2_depth_di...           4.0   \n",
       "1      http://54.210.137.18/DepthDuration/v2_depth_di...           4.0   \n",
       "2      http://54.210.137.18/DepthDuration/v2_depth_di...           4.0   \n",
       "3      http://54.210.137.18/DepthDuration/v2_depth_di...           4.0   \n",
       "4      http://54.210.137.18/DepthDuration/v2_depth_di...           4.0   \n",
       "...                                                  ...           ...   \n",
       "13675  http://18.212.73.137/DepthDuration/v2_depth_di...           2.0   \n",
       "13676  http://18.212.73.137/DepthDuration/v2_depth_di...           2.0   \n",
       "13677  http://18.212.73.137/DepthDuration/v2_depth_di...           2.0   \n",
       "13678  http://18.212.73.137/DepthDuration/v2_depth_di...           2.0   \n",
       "13679  http://18.212.73.137/DepthDuration/v2_depth_di...           2.0   \n",
       "\n",
       "       windowWidth  windowHeight  screenWidth  screenHeight  ... trial_RT  \\\n",
       "0           1179.0         646.0       1440.0         900.0  ...   2027.0   \n",
       "1           1179.0         646.0       1440.0         900.0  ...   1444.0   \n",
       "2           1179.0         646.0       1440.0         900.0  ...   1165.0   \n",
       "3           1179.0         646.0       1440.0         900.0  ...   2543.0   \n",
       "4           1179.0         646.0       1440.0         900.0  ...   2011.0   \n",
       "...            ...           ...          ...           ...  ...      ...   \n",
       "13675       1366.0         768.0       1366.0         768.0  ...   1619.0   \n",
       "13676       1366.0         768.0       1366.0         768.0  ...    970.0   \n",
       "13677       1366.0         768.0       1366.0         768.0  ...   1663.0   \n",
       "13678       1366.0         768.0       1366.0         768.0  ...   1653.0   \n",
       "13679       1366.0         768.0       1366.0         768.0  ...   1653.0   \n",
       "\n",
       "      log_fixation  log_sceneDuration1 log_mask1 log_sceneDuration2  \\\n",
       "0           1005.0               248.0    1001.0              246.0   \n",
       "1           1004.0               252.0    1000.0              245.0   \n",
       "2           1003.0               253.0    1000.0              249.0   \n",
       "3           1004.0              1001.0     998.0              999.0   \n",
       "4           1000.0              1000.0    1001.0              999.0   \n",
       "...            ...                 ...       ...                ...   \n",
       "13675       1014.0               988.0     999.0             1000.0   \n",
       "13676       1000.0               251.0     999.0              250.0   \n",
       "13677       1004.0              1000.0     997.0             1000.0   \n",
       "13678       1001.0              1001.0    1000.0              996.0   \n",
       "13679       1001.0              1001.0    1000.0              996.0   \n",
       "\n",
       "       log_mask2  experimentTime  totalTime  age  gender  \n",
       "0          501.0             NaN     440868   66     Man  \n",
       "1          503.0             NaN     440868   66     Man  \n",
       "2          499.0             NaN     440868   66     Man  \n",
       "3          502.0             NaN     440868   66     Man  \n",
       "4          501.0             NaN     440868   66     Man  \n",
       "...          ...             ...        ...  ...     ...  \n",
       "13675      499.0             NaN     556521   59   Woman  \n",
       "13676      500.0             NaN     556521   59   Woman  \n",
       "13677      499.0             NaN     556521   59   Woman  \n",
       "13678      499.0             NaN     556521   59   Woman  \n",
       "13679      499.0             NaN     556521   59   Woman  \n",
       "\n",
       "[13680 rows x 29 columns]"
      ]
     },
     "execution_count": 21,
     "metadata": {},
     "output_type": "execute_result"
    }
   ],
   "source": [
    "raw_discrim"
   ]
  },
  {
   "cell_type": "code",
   "execution_count": 22,
   "metadata": {
    "collapsed": true,
    "jupyter": {
     "outputs_hidden": true
    }
   },
   "outputs": [
    {
     "data": {
      "text/plain": [
       "array([  66,   33,   50,   35,   27,   30,   69,   40,   67,   37,   44,\n",
       "         39,   31,   38,   25,   34,   28,   61,   57,   62,   32,   46,\n",
       "         55,   26,   29,   47,   24,   51,   63,   45,   36,   68,   22,\n",
       "         53,   60,   54,   42,   48,   59, 1987,   41,   43,   58, 1974,\n",
       "         56,   70,   52,   49,   64,   72])"
      ]
     },
     "execution_count": 22,
     "metadata": {},
     "output_type": "execute_result"
    }
   ],
   "source": [
    "all_ages = raw_discrim.age.unique()\n",
    "all_ages"
   ]
  },
  {
   "cell_type": "markdown",
   "metadata": {},
   "source": [
    "## <font color='red'> Data Cleaning </font> \n",
    "\n"
   ]
  },
  {
   "cell_type": "code",
   "execution_count": 23,
   "metadata": {
    "jupyter": {
     "source_hidden": true
    }
   },
   "outputs": [],
   "source": [
    "def catchTrial_cleaning(df, correct_requirement, catch_stimuli):\n",
    "    '''\n",
    "    Participants complete 8 catch trials total to ensure that they are doing the task.\n",
    "    If less than 7/8 catch trials are correct, the participant is excluded.  \n",
    "    '''\n",
    "    all_subjIDs = df.subjID.unique()\n",
    "    remove = []\n",
    "    subj_sequence = {}\n",
    "    df2_list = []\n",
    "    sequence_count = {'discrim_jsons/v2_shuffled_g0_dr.json': 0,\n",
    "                      'discrim_jsons/v2_shuffled_g0_rotated_dr.json': 0,\n",
    "                      'discrim_jsons/v2_shuffled_g0_rotated.json': 0, \n",
    "                      'discrim_jsons/v2_shuffled_g0.json': 0}\n",
    "    for subj in all_subjIDs:\n",
    "#         print(subj)\n",
    "        count_correct = 0\n",
    "        subj_df = df.loc[df['subjID'] == subj]\n",
    "        cleaned_subj_df = subj_df.copy(deep=True) # prevent setting with copy warning\n",
    "        # \n",
    "        subj_sequence[subj] = subj_df.sequenceName.unique()[0]\n",
    "        \n",
    "        # remove trials that are outside the outlier range\n",
    "        c = 0\n",
    "        c_missed = 0\n",
    "        for idx, row in subj_df.iterrows():\n",
    "            stim1 = row['stimulus_0']\n",
    "            stim2 = row['stimulus_1']\n",
    "            # TEMP SOLUTION FOR RANDOM PHP DATA SAVING PROBLEM \n",
    "            if type(stim1) == str:\n",
    "                if stim1.split('/')[1] in catch_stimuli or stim2.split('/')[1] in catch_stimuli:\n",
    "                    ####### VERSION WHERE CATCH TRIALS ARE ATTENTION CHECK: IMAGE 1 IS THE SAME AS IMAGE 2\n",
    "                    c += 1\n",
    "                    if row[\"discrim_choice\"] == 3:\n",
    "#                         print(row[\"discrim_choice\"])\n",
    "                        count_correct += 1\n",
    "#                     else:\n",
    "#                         print(row[\"discrim_choice\"])\n",
    "                    # remove catch trial \n",
    "                    cleaned_subj_df.drop([idx], inplace=True)\n",
    "    #                 print(depth0, depth1, correct_choice, choice)\n",
    "#         print(c_missed, 'Number of catch trials where participants did not see the target')\n",
    "#         print(c)\n",
    "#         print(count_correct)\n",
    "        if count_correct < correct_requirement:\n",
    "#             print('Number correct:', count_correct)\n",
    "            remove.append(subj)\n",
    "        else:\n",
    "            sequence_count[subj_df.sequenceName.unique()[0]] += 1\n",
    "        \n",
    "        df2_list.append(cleaned_subj_df)\n",
    "    \n",
    "    df2 = pd.concat(df2_list)\n",
    "    print(\"Number of participants that did not pass the catch trial check:\", len(remove))\n",
    "    print(\"Participants that were removed:\",remove)\n",
    "    print(\"Sequences that need to be replaced:\")\n",
    "#     for subj in remove:\n",
    "#         print(subj_sequence[subj])\n",
    "    print(\"Sequence count:\")\n",
    "    print(sequence_count)\n",
    "    for index, row in df2.iterrows():\n",
    "        if row['subjID'] in remove:\n",
    "            df2.drop(index, inplace=True)\n",
    "    \n",
    "    return df2\n",
    "    \n",
    "    "
   ]
  },
  {
   "cell_type": "code",
   "execution_count": 24,
   "metadata": {
    "jupyter": {
     "source_hidden": true
    }
   },
   "outputs": [],
   "source": [
    "all_catch_stim = ['000375_2014-06-08_11-17-29_260595134347_rgbf000133-resize_2',\n",
    "              '000569_2014-06-09_22-51-47_260595134347_rgbf000141-resize_3',\n",
    "              '000787_2014-06-08_22-33-53_260595134347_rgbf000175-resize_1',\n",
    "              '002072_2014-06-24_21-48-06_260595134347_rgbf000115-resize_0',\n",
    "              '002364_2014-06-28_20-11-05_260595134347_rgbf000042-resize_0',\n",
    "              '002675_2014-06-13_16-08-49_094959634447_rgbf000151-resize_2',\n",
    "              '003125_2014-05-12_10-39-22_094959634447_rgbf000100-resize_0',\n",
    "              '003395_2014-05-20_15-39-18_094959634447_rgbf000101-resize_0',\n",
    "              '000454_2014-06-08_16-37-28_260595134347_rgbf000048-resize_2',\n",
    "              '000868_2014-06-09_20-49-52_260595134347_rgbf000064-resize_4',\n",
    "              '000953_2014-06-08_11-42-19_260595134347_rgbf000083-resize_0',\n",
    "              '001012_2014-06-08_23-19-38_260595134347_rgbf000057-resize_0',\n",
    "              '001170_2014-06-17_15-43-44_260595134347_rgbf000096-resize_6',\n",
    "              '001222_2014-06-17_16-24-06_260595134347_rgbf000073-resize_0',\n",
    "              '001498_2014-06-19_17-45-14_260595134347_rgbf000129-resize_4',\n",
    "              '001540_2014-06-20_17-01-05_260595134347_rgbf000086-resize_2']"
   ]
  },
  {
   "cell_type": "code",
   "execution_count": 25,
   "metadata": {
    "collapsed": true,
    "jupyter": {
     "outputs_hidden": true
    }
   },
   "outputs": [
    {
     "name": "stdout",
     "output_type": "stream",
     "text": [
      "Number of participants that did not pass the catch trial check: 138\n",
      "Participants that were removed: [523130.0, 689595.0, 504937.0, 248936.0, 849360.0, 539797.0, 499055.0, 934729.0, 428374.0, 589497.0, 138539.0, 420127.0, 312968.0, 146515.0, 971285.0, 246251.0, 977006.0, 513194.0, 395226.0, 378012.0, 703443.0, 885104.0, 952380.0, 492312.0, 658998.0, 213667.0, 794012.0, 496953.0, 449871.0, 286299.0, 283954.0, 594695.0, 240944.0, 650562.0, 430444.0, 657330.0, 892757.0, 146591.0, 479873.0, 524029.0, 364002.0, 478848.0, 256168.0, 191904.0, 538468.0, 427295.0, 766102.0, 316377.0, 349004.0, 366122.0, 828849.0, 404701.0, 267764.0, 605641.0, 349467.0, 643367.0, 428536.0, 700748.0, 687000.0, 369409.0, 357475.0, 705779.0, 642287.0, 115682.0, 811896.0, 461791.0, 387516.0, 812817.0, 892795.0, 200176.0, 187827.0, 814613.0, 983837.0, 838754.0, 599134.0, 722590.0, 176209.0, 714263.0, 785589.0, 236381.0, 695526.0, 420850.0, 582278.0, 950533.0, 879488.0, 432975.0, 487098.0, 664943.0, 953854.0, 255362.0, 864671.0, 767956.0, 197265.0, 882991.0, 136201.0, 968513.0, 645153.0, 566485.0, 486536.0, 213896.0, 636794.0, 666765.0, 699000.0, 466959.0, 432010.0, 338934.0, 934694.0, 881835.0, 275426.0, 516517.0, 791202.0, 920366.0, 416392.0, 746604.0, 397577.0, 759268.0, 279980.0, 999335.0, 324499.0, 450300.0, 305858.0, 924076.0, 302212.0, 902652.0, 396314.0, 525639.0, 679588.0, 296087.0, 212783.0, 807617.0, 475461.0, 788117.0, 680309.0, 722005.0, 206132.0, 271227.0, 274937.0, 125847.0]\n",
      "Sequences that need to be replaced:\n",
      "Sequence count:\n",
      "{'discrim_jsons/v2_shuffled_g0_dr.json': 51, 'discrim_jsons/v2_shuffled_g0_rotated_dr.json': 51, 'discrim_jsons/v2_shuffled_g0_rotated.json': 49, 'discrim_jsons/v2_shuffled_g0.json': 53}\n"
     ]
    }
   ],
   "source": [
    "catch_cleaned_discrim = catchTrial_cleaning(raw_discrim, 7, all_catch_stim)"
   ]
  },
  {
   "cell_type": "code",
   "execution_count": 26,
   "metadata": {
    "collapsed": true,
    "jupyter": {
     "outputs_hidden": true
    }
   },
   "outputs": [
    {
     "data": {
      "text/plain": [
       "array([66, 33, 35, 27, 69, 40, 67, 37, 44, 25, 39, 34, 28, 61, 57, 62, 50,\n",
       "       32, 46, 55, 26, 29, 31, 38, 45, 47, 68, 53, 54, 51, 48, 59, 41, 60,\n",
       "       43, 58, 42, 36, 63, 30, 56, 49, 24, 22, 64, 70, 72])"
      ]
     },
     "execution_count": 26,
     "metadata": {},
     "output_type": "execute_result"
    }
   ],
   "source": [
    "cleaned_ages = catch_cleaned_discrim.age.unique()\n",
    "cleaned_ages"
   ]
  },
  {
   "cell_type": "markdown",
   "metadata": {},
   "source": [
    "\n"
   ]
  },
  {
   "cell_type": "code",
   "execution_count": 27,
   "metadata": {
    "jupyter": {
     "source_hidden": true
    }
   },
   "outputs": [],
   "source": [
    "def RT_cleaning(df, outlier_range, num_trials):\n",
    "    all_subjIDs = df.subjID.unique()\n",
    "    remove = []\n",
    "    df2_list = []\n",
    "    for subj in all_subjIDs:\n",
    "        count = 0\n",
    "        subj_df = df.loc[df['subjID'] == subj]\n",
    "        cleaned_subj_df = subj_df.copy(deep=True) # prevent setting with copy warning\n",
    "        \n",
    "        # calculate subject's average trial RT\n",
    "        average_trial_RT = subj_df[\"trial_RT\"].mean()\n",
    "        std_trial_RT = subj_df[\"trial_RT\"].std()\n",
    "        p_outlier_range = [(average_trial_RT - (3*std_trial_RT)), (average_trial_RT + (3*std_trial_RT))]\n",
    "        \n",
    "        # remove trials that are outside the outlier range\n",
    "        for idx, row in subj_df.iterrows():\n",
    "            RT = row['trial_RT']\n",
    "            if RT < outlier_range[0]:\n",
    "                cleaned_subj_df.drop([idx], inplace=True)\n",
    "                count += 1\n",
    "            if RT > outlier_range[1]:\n",
    "                cleaned_subj_df.drop([idx], inplace=True)\n",
    "                count += 1\n",
    "            try:\n",
    "                if RT < p_outlier_range[0]:\n",
    "                    cleaned_subj_df.drop([idx], inplace=True)\n",
    "                    count += 1\n",
    "                if RT > p_outlier_range[1]:\n",
    "                    cleaned_subj_df.drop([idx], inplace=True)\n",
    "                    count += 1\n",
    "            except:\n",
    "                print(\"Trial already removed\")\n",
    "                \n",
    "        threshold = math.floor(num_trials * 0.1)\n",
    "        if count >= threshold:\n",
    "            remove.append(subj)\n",
    "        \n",
    "        df2_list.append(cleaned_subj_df)\n",
    "    \n",
    "    df2 = pd.concat(df2_list)\n",
    "    print(\"Number of Participants with 10% or more trials outside their RT range:\", len(remove))\n",
    "    \n",
    "    for index, row in df2.iterrows():\n",
    "        if row['subjID'] in remove:\n",
    "            df2.drop(index, inplace=True)\n",
    "    \n",
    "    return df2\n"
   ]
  },
  {
   "cell_type": "code",
   "execution_count": 28,
   "metadata": {
    "collapsed": true,
    "jupyter": {
     "outputs_hidden": true
    }
   },
   "outputs": [
    {
     "name": "stdout",
     "output_type": "stream",
     "text": [
      "Trial already removed\n",
      "Trial already removed\n",
      "Trial already removed\n",
      "Trial already removed\n",
      "Trial already removed\n",
      "Trial already removed\n",
      "Trial already removed\n",
      "Trial already removed\n",
      "Trial already removed\n",
      "Trial already removed\n",
      "Trial already removed\n",
      "Trial already removed\n",
      "Trial already removed\n",
      "Trial already removed\n",
      "Trial already removed\n",
      "Trial already removed\n",
      "Trial already removed\n",
      "Trial already removed\n",
      "Trial already removed\n",
      "Trial already removed\n",
      "Trial already removed\n",
      "Trial already removed\n",
      "Trial already removed\n",
      "Trial already removed\n",
      "Trial already removed\n",
      "Trial already removed\n",
      "Trial already removed\n",
      "Trial already removed\n",
      "Trial already removed\n",
      "Trial already removed\n",
      "Trial already removed\n",
      "Trial already removed\n",
      "Trial already removed\n",
      "Trial already removed\n",
      "Number of Participants with 10% or more trials outside their RT range: 12\n"
     ]
    }
   ],
   "source": [
    "cleaned_discrim = RT_cleaning(catch_cleaned_discrim, [250,5000], 32)\n",
    "\n",
    "\n",
    "# cleaned_discrim = RT_cleaning(catch_cleaned_discrim, [250,5000], 32)"
   ]
  },
  {
   "cell_type": "code",
   "execution_count": 29,
   "metadata": {
    "jupyter": {
     "source_hidden": true
    }
   },
   "outputs": [],
   "source": [
    "def finalTrialCountCheck(df, num_trials):\n",
    "    \"\"\"\n",
    "    If more then 10% of a participants data is missing, remove the participant\n",
    "    \"\"\"\n",
    "    #List unique values in the df['subjID'] column\\n\",\n",
    "    all_subjIDs = df.subjID.unique()\n",
    "    remove = []\n",
    "    for subj in all_subjIDs:\n",
    "        subj_df = df.loc[df['subjID'] == subj]\n",
    "        count_trials = len(subj_df.index)\n",
    "        threshold_trials_remaining = num_trials - math.floor(num_trials * 0.1)\n",
    "        \n",
    "        if count_trials <= threshold_trials_remaining:\n",
    "            remove.append(subj)\n",
    "    print(\"Number of Participants with >= 10% trials removed:\", len(remove))\n",
    "    \n",
    "    for index, row in df.iterrows():\n",
    "        if row['subjID'] in remove:\n",
    "            df.drop(index, inplace=True)\n",
    "    \n",
    "    print(\"Number of participants left:\",len(df.subjID.unique()))\n",
    "    \n",
    "    return df"
   ]
  },
  {
   "cell_type": "code",
   "execution_count": 30,
   "metadata": {},
   "outputs": [
    {
     "name": "stdout",
     "output_type": "stream",
     "text": [
      "Number of Participants with >= 10% trials removed: 0\n",
      "Number of participants left: 192\n"
     ]
    }
   ],
   "source": [
    "final_discrim = finalTrialCountCheck(cleaned_discrim, 32)"
   ]
  },
  {
   "cell_type": "code",
   "execution_count": null,
   "metadata": {},
   "outputs": [],
   "source": []
  },
  {
   "cell_type": "markdown",
   "metadata": {},
   "source": [
    "## Individual Discriminations"
   ]
  },
  {
   "cell_type": "code",
   "execution_count": 32,
   "metadata": {
    "jupyter": {
     "source_hidden": true
    }
   },
   "outputs": [],
   "source": [
    "def get_accuracy(df):\n",
    "    \"\"\"\n",
    "    * ACCURACY BASED ON THE KINECT\n",
    "    args:\n",
    "        df  \n",
    "    returns:\n",
    "        proportion of correct responses, count of correct responses, count of total trials  \n",
    "    \"\"\"\n",
    "    count_correct = 0\n",
    "    count_incorrect = 0\n",
    "    count_total = 0\n",
    "    count_missed = 0\n",
    "    for idx, row in df.iterrows():\n",
    "        choice = row[\"discrim_choice\"]\n",
    "        if choice == 2.0:\n",
    "            count_missed += 1\n",
    "        else:    \n",
    "            count_total += 1\n",
    "            depth0 = row[\"actual_depth_0\"]\n",
    "            depth1 = row[\"actual_depth_1\"]\n",
    "            if depth0 < depth1:\n",
    "                correct_choice = 0\n",
    "            if depth0 > depth1:\n",
    "                correct_choice = 1\n",
    "            if depth0 == depth1:\n",
    "                # case where depths are equal \n",
    "                correct_choice = None\n",
    "            if choice == correct_choice:\n",
    "                count_correct += 1\n",
    "    \n",
    "    return count_correct/count_total, count_correct, count_total, count_missed\n",
    "\n",
    "def get_RT(df):\n",
    "    \"\"\"\n",
    "    args:\n",
    "        df  \n",
    "    returns:\n",
    "        array of RTs, avg RT and std   \n",
    "    \"\"\"\n",
    "    list_RTs = []\n",
    "    for idx, row in df.iterrows():   \n",
    "        stimulus_duration = row['log_sceneDuration2']\n",
    "        RT = row[\"trial_RT\"] - stimulus_duration\n",
    "        list_RTs.append(RT)\n",
    "    \n",
    "    list_RTs = np.array(list_RTs)\n",
    "    \n",
    "    return list_RTs, np.mean(list_RTs) ,np.std(list_RTs)"
   ]
  },
  {
   "cell_type": "code",
   "execution_count": 33,
   "metadata": {
    "jupyter": {
     "source_hidden": true
    }
   },
   "outputs": [],
   "source": [
    "def depth_differences(df):\n",
    "    \"\"\"\n",
    "    args:\n",
    "        df  \n",
    "    returns:\n",
    "        array of depth differences, avg depth differences and std   \n",
    "    \"\"\"\n",
    "    depth_diffs = []\n",
    "    for idx, row in df.iterrows():\n",
    "        depth0 = row[\"actual_depth_0\"]\n",
    "        depth1 = row[\"actual_depth_1\"]\n",
    "        \n",
    "        diff = abs(depth0-depth1)\n",
    "        depth_diffs.append(diff)\n",
    "    \n",
    "    depth_diffs = np.array(depth_diffs)\n",
    "    \n",
    "    return depth_diffs, np.mean(depth_diffs) ,np.std(depth_diffs)\n",
    "    "
   ]
  },
  {
   "cell_type": "code",
   "execution_count": 34,
   "metadata": {},
   "outputs": [],
   "source": [
    "all_depth_diffs = depth_differences(final_discrim)\n",
    "\n",
    "# add depth difference column to dataframe \n",
    "final_discrim.insert(18, \"depth_difference\", all_depth_diffs[0])"
   ]
  },
  {
   "cell_type": "code",
   "execution_count": 35,
   "metadata": {
    "jupyter": {
     "source_hidden": true
    }
   },
   "outputs": [],
   "source": [
    "def individual_discrimination_stats(df):\n",
    "    '''\n",
    "    Individual discrimination performance and RT \n",
    "    '''\n",
    "    all_stim0 = df.stimulus_0.unique()\n",
    "    \n",
    "    stimuli_stats = {}\n",
    "    for stim0 in all_stim0:\n",
    "        stim0_df = df.loc[df['stimulus_0'] == stim0]\n",
    "        other_stim = stim0_df.stimulus_1.unique()[0]\n",
    "        stim1_df = df.loc[df['stimulus_1'] == stim0]\n",
    "        # df for a specific discrimination trial (collapsed on stim presentation order)\n",
    "        stim_df = pd.concat([stim0_df, stim1_df], ignore_index=True)\n",
    "        stim_250_df = stim_df[stim_df['duration'] == 250.0]\n",
    "        stim_1000_df = stim_df[stim_df['duration'] == 1000.0] \n",
    "        \n",
    "        stim_depthdiff = stim_df['depth_difference'][0]\n",
    "        \n",
    "        stim0_depth = stim_df['actual_depth_0'][0]\n",
    "        stim1_depth = stim_df['actual_depth_1'][0]\n",
    "        stim_depthbin = np.mean(np.array([stim0_depth,stim1_depth]))\n",
    "        \n",
    "        stim_acc_250 = get_accuracy(stim_250_df)\n",
    "        stim_acc_1000 = get_accuracy(stim_1000_df)\n",
    "        \n",
    "        stim_RT_250 = get_RT(stim_250_df)\n",
    "        stim_RT_1000 = get_RT(stim_1000_df)\n",
    "        \n",
    "        stimuli_stats[stim0] = {'stimulus_1': other_stim,\n",
    "                                'accuracy_250': stim_acc_250,\n",
    "                                'accuracy_1000': stim_acc_1000,\n",
    "                                'avg_depth': stim_depthbin,\n",
    "                                'depthdifference': stim_depthdiff, \n",
    "                                'RT_250': stim_RT_250,\n",
    "                                'RT_1000': stim_RT_1000}\n",
    "    \n",
    "    return stimuli_stats"
   ]
  },
  {
   "cell_type": "code",
   "execution_count": 37,
   "metadata": {},
   "outputs": [],
   "source": [
    "all_discrim_performance = individual_discrimination_stats(final_discrim)\n"
   ]
  },
  {
   "cell_type": "code",
   "execution_count": 38,
   "metadata": {},
   "outputs": [],
   "source": [
    "# Load Target at Center Verbal Judgement Data \n",
    "\n",
    "# TAC_data_path = '/Users/pmahableshwarkar/Documents/Depth_Project/depth_duration_analysis/TAC_data'\n",
    "\n",
    "TAC_data_path = '/Users/prachi/Documents/depth_duration/depth_duration_analysis/TAC_data'\n",
    "\n",
    "raw_TAC_250 = pd.read_csv(TAC_data_path + '/raw_250_data.csv')\n",
    "raw_TAC_500 = pd.read_csv(TAC_data_path + '/raw_500_data.csv')\n",
    "raw_TAC_750 = pd.read_csv(TAC_data_path + '/raw_750_data.csv')\n",
    "raw_TAC_1000 = pd.read_csv(TAC_data_path + '/raw_1000_data.csv')\n",
    "\n",
    "n_TAC_250 = pd.read_csv(TAC_data_path + '/normalized_250_data.csv')\n",
    "n_TAC_500 = pd.read_csv(TAC_data_path + '/normalized_500_data.csv')\n",
    "n_TAC_750 = pd.read_csv(TAC_data_path + '/normalized_750_data.csv')\n",
    "n_TAC_1000 = pd.read_csv(TAC_data_path + '/normalized_1000_data.csv')"
   ]
  },
  {
   "cell_type": "code",
   "execution_count": 39,
   "metadata": {},
   "outputs": [],
   "source": [
    "# Load one TAC Discrimination json sequence \n",
    "# all sequences have the same image combinations for the trials, duration and order is counterbalanced \n",
    "\n",
    "# discrim_json0_path = '/Users/pmahableshwarkar/Documents/Depth_Project/depth_discrimination/TAC_depth_discrimination_MTurk/discrim_jsons/v2_shuffled_g0_dr.json'\n",
    "\n",
    "discrim_json0_path = '/Users/prachi/Documents/depth_duration/depth_discrimination/TAC_depth_discrimination_MTurk/discrim_jsons/v2_shuffled_g0_dr.json'\n",
    "\n",
    "with open(discrim_json0_path) as f:\n",
    "    discrim_json0 = json.load(f)\n",
    "    \n",
    "discrim_image_combos = []\n",
    "for trial in discrim_json0:\n",
    "    combo = (trial['image_path_target_0'][29:], trial['image_path_target_1'][29:])\n",
    "    discrim_image_combos.append(combo)"
   ]
  },
  {
   "cell_type": "code",
   "execution_count": null,
   "metadata": {},
   "outputs": [],
   "source": [
    "\n"
   ]
  },
  {
   "cell_type": "code",
   "execution_count": 5,
   "metadata": {},
   "outputs": [],
   "source": [
    "# dictionary where key is one of the images in a discimrination trial, \n",
    "# and the value will be a list of all the subjects that saw both images at the same duration\n",
    "\n",
    "discrim_trial_subjects_250 = {}\n",
    "for combo in discrim_image_combos:\n",
    "    discrim_trial_subjects_250[combo[0]] = []\n",
    "    \n",
    "# find subjects that saw BOTH discrimination trials at 250 ms\n",
    "\n",
    "subjs_250 = raw_TAC_250.subjID.unique()\n",
    "\n",
    "for subj in subjs_250:\n",
    "    subj_df = raw_TAC_250.loc[raw_TAC_250['subjID'] == subj]\n",
    "    for combo in discrim_image_combos:\n",
    "        img0_path = 'depth_duration_stimuli/' + combo[0]\n",
    "        dimg0_row = subj_df.loc[subj_df['stimulus'] == img0_path]\n",
    "        \n",
    "        img1_path = 'depth_duration_stimuli/' + combo[1]\n",
    "        dimg1_row = subj_df.loc[subj_df['stimulus'] == img1_path]\n",
    "        \n",
    "        \n",
    "        if len(dimg0_row) == 1:\n",
    "             if len(dimg1_row) == 1:\n",
    "                if subj not in discrim_trial_subjects_250[combo[0]]:\n",
    "                    discrim_trial_subjects_250[combo[0]].append(subj)\n",
    "\n",
    "        \n",
    "        \n",
    "        \n",
    "        "
   ]
  },
  {
   "cell_type": "code",
   "execution_count": 6,
   "metadata": {
    "collapsed": true,
    "jupyter": {
     "outputs_hidden": true
    }
   },
   "outputs": [
    {
     "name": "stdout",
     "output_type": "stream",
     "text": [
      "10\n",
      "17\n",
      "14\n",
      "11\n",
      "0\n",
      "11\n",
      "15\n",
      "11\n",
      "0\n",
      "13\n",
      "13\n",
      "12\n",
      "0\n",
      "10\n",
      "13\n",
      "7\n",
      "12\n",
      "5\n",
      "15\n",
      "0\n",
      "9\n",
      "12\n",
      "15\n",
      "11\n",
      "16\n",
      "0\n",
      "11\n",
      "14\n",
      "7\n",
      "0\n",
      "10\n",
      "16\n",
      "13\n",
      "8\n",
      "0\n",
      "11\n",
      "14\n",
      "0\n",
      "10\n",
      "10\n"
     ]
    }
   ],
   "source": [
    "for key in discrim_trial_subjects_250:\n",
    "    print(len(discrim_trial_subjects_250[key]))"
   ]
  },
  {
   "cell_type": "code",
   "execution_count": 7,
   "metadata": {},
   "outputs": [],
   "source": [
    "# dictionary where key is one of the images in a discimrination trial, \n",
    "# and the value will be a list of all the subjects that saw both images at the same duration\n",
    "\n",
    "discrim_trial_subjects_1000 = {}\n",
    "for combo in discrim_image_combos:\n",
    "    discrim_trial_subjects_1000[combo[0]] = []\n",
    "    \n",
    "# find subjects that saw BOTH discrimination trials at 250 ms\n",
    "\n",
    "subjs_1000 = raw_TAC_1000.subjID.unique()\n",
    "\n",
    "for subj in subjs_1000:\n",
    "    subj_df = raw_TAC_1000.loc[raw_TAC_1000['subjID'] == subj]\n",
    "    for combo in discrim_image_combos:\n",
    "        img0_path = 'depth_duration_stimuli/' + combo[0]\n",
    "        dimg0_row = subj_df.loc[subj_df['stimulus'] == img0_path]\n",
    "        \n",
    "        img1_path = 'depth_duration_stimuli/' + combo[1]\n",
    "        dimg1_row = subj_df.loc[subj_df['stimulus'] == img1_path]\n",
    "        \n",
    "        \n",
    "        if len(dimg0_row) == 1:\n",
    "             if len(dimg1_row) == 1:\n",
    "                if subj not in discrim_trial_subjects_1000[combo[0]]:\n",
    "                    discrim_trial_subjects_1000[combo[0]].append(subj)\n"
   ]
  },
  {
   "cell_type": "code",
   "execution_count": 150,
   "metadata": {},
   "outputs": [
    {
     "data": {
      "text/plain": [
       "9.4"
      ]
     },
     "execution_count": 150,
     "metadata": {},
     "output_type": "execute_result"
    }
   ],
   "source": [
    "a = 0\n",
    "for key in discrim_trial_subjects_1000:\n",
    "#     print(len(discrim_trial_subjects_1000[key]))\n",
    "    a += len(discrim_trial_subjects_1000[key])\n",
    "a/len(discrim_trial_subjects_1000)"
   ]
  },
  {
   "cell_type": "code",
   "execution_count": 114,
   "metadata": {},
   "outputs": [],
   "source": [
    "# because of outlier cleaning, the numbers are not even across all discrimination trials"
   ]
  },
  {
   "cell_type": "code",
   "execution_count": null,
   "metadata": {},
   "outputs": [],
   "source": []
  },
  {
   "cell_type": "code",
   "execution_count": 10,
   "metadata": {},
   "outputs": [],
   "source": [
    "def trial_pivotTable(data):\n",
    "    \"\"\"\n",
    "    Generate pivot tables from data after cleaning and outlier removal \n",
    "    Organizes data such that for each individual target (stimulus) the following is calulated:\n",
    "    - average depth estimation\n",
    "    - standard deviation\n",
    "    - standard error \n",
    "    \"\"\"\n",
    "    \n",
    "    avg_tables = []\n",
    "    std_tables = []\n",
    "    result_tables = []\n",
    "    cond = 0\n",
    "    ###### CREATE DF WITH DATA STATISTICS AFTER OUTLIER REMOVAL ######\n",
    "    for duration in data: #generate pivot tables for data statistics (avg, std, sem)\n",
    "        actual = pd.pivot_table(duration,  values = [\"actual_depth\"], columns=['stimulus'], aggfunc=np.mean)\n",
    "        actual.reset_index()\n",
    "        actual_renamed = actual.rename(index={'actual_depth': 'Actual Depth'})\n",
    "        \n",
    "        avg = pd.pivot_table(duration,  values = [\"depth_estimate\"], columns=['stimulus'], aggfunc=np.mean)\n",
    "        avg.reset_index()\n",
    "        avg_renamed = avg.rename(index={'depth_estimate': 'Average Estimated Depth'})\n",
    "        \n",
    "        std = pd.pivot_table(duration, values = [\"depth_estimate\"], columns = [\"stimulus\"], aggfunc = np.std)\n",
    "        #note - std is normalized byN-1 by default (ddof parameter = 1 by default)\n",
    "        std.reset_index()\n",
    "        std_renamed = std.rename(index={'depth_estimate': 'Standard Deviation'})\n",
    "        \n",
    "        sem = pd.pivot_table(duration, values = [\"depth_estimate\"], columns = [\"stimulus\"], aggfunc = 'sem')\n",
    "        sem.reset_index()\n",
    "        sem_renamed = sem.rename(index={'depth_estimate': 'Standard Error'})\n",
    "        \n",
    "        frames = [avg_renamed, std_renamed, sem_renamed, actual_renamed] #list of pivot tables for a given duration\n",
    "        result = pd.concat(frames) #merge the pivot tables for a given duration \n",
    "        result = result.T #transpose \n",
    "        result = result.sort_values(by=['Actual Depth'])\n",
    "\n",
    "        #Label the data by duration based on condition counter (cond)\n",
    "        if cond == 0:\n",
    "            result[\"Duration\"] = 250\n",
    "        if cond == 1:\n",
    "            result[\"Duration\"] = 500\n",
    "        if cond == 2:\n",
    "            result[\"Duration\"] = 750\n",
    "        if cond == 3:\n",
    "            result[\"Duration\"] = 1000\n",
    "        \n",
    "        avg_tables.append(avg_renamed) #created for reference (not used in code)\n",
    "        std_tables.append(std_renamed) #created for reference (not used in code)\n",
    "        result_tables.append(result) #list of results for all durations \n",
    "        cond += 1 \n",
    "        \n",
    "    \n",
    "    return result_tables"
   ]
  },
  {
   "cell_type": "code",
   "execution_count": null,
   "metadata": {},
   "outputs": [],
   "source": [
    "\n"
   ]
  },
  {
   "cell_type": "code",
   "execution_count": 135,
   "metadata": {},
   "outputs": [],
   "source": [
    "def trial_getxy(data):\n",
    "    \"\"\"\n",
    "    Extracts the data from the dataframes to a list format for plotting. \n",
    "    Args:\n",
    "        df = [250, 500, 750, 1000]\n",
    "        These data frames are POST all outlier cleaning. \n",
    "        \n",
    "    Returns:\n",
    "        actualdepths = [x_250, x_500, x_750, x_1000]\n",
    "        xs = [list of individual targets]\n",
    "        ys = [y_250, y_500, y_750, y_100]\n",
    "        stes = [ste_250, ste_500, ste_750, ste_1000]\n",
    "        \n",
    "    \"\"\"\n",
    "    xs = []\n",
    "    ys = []\n",
    "    stes = []\n",
    "    stds = []\n",
    "    actualdepths = []\n",
    "    for table in data:\n",
    "        x = []\n",
    "        y = []\n",
    "        ste = []\n",
    "        std = []\n",
    "        depths = []\n",
    "        for idx, row in table.iterrows():\n",
    "            \n",
    "            x.append(idx) #idx is the target (stimulus path)\n",
    "            \n",
    "            estim_avg = row[\"Average Estimated Depth\"]\n",
    "            y.append(estim_avg)\n",
    "            \n",
    "            standard_error = row[\"Standard Error\"]\n",
    "            ste.append(standard_error)\n",
    "            \n",
    "            depth = row[\"Actual Depth\"]\n",
    "            depths.append(depth)\n",
    "            \n",
    "            standard_deviation = row[\"Standard Deviation\"]\n",
    "            std.append(standard_deviation)       \n",
    "            \n",
    "        xs.append(x)\n",
    "        ys.append(y)\n",
    "        stes.append(ste)\n",
    "        actualdepths.append(depths)\n",
    "        stds.append(std)\n",
    "\n",
    "    return xs, ys, stes, actualdepths, stds"
   ]
  },
  {
   "cell_type": "code",
   "execution_count": 182,
   "metadata": {},
   "outputs": [],
   "source": [
    "def within_VE(subjects_dict, VE_df, discrim_data):\n",
    "    '''\n",
    "    Average depth response for each stimulus in the set of participants that saw both discrimination trials  \n",
    "    '''\n",
    "    \n",
    "    VE_stim = []\n",
    "    VE_actualdepth = [] \n",
    "    VE_depthestim = []\n",
    "    VE_std = []\n",
    "    VE_ste = []\n",
    "    \n",
    "    for key in subjects_dict:\n",
    "        subjects = subjects_dict[key]\n",
    "\n",
    "\n",
    "        if len(subjects) > 0:\n",
    "            df_list = []\n",
    "            for subj in subjects:\n",
    "                subj_df = subj_df = VE_df.loc[VE_df['subjID'] == subj]\n",
    "                _subj_df = subj_df.copy(deep=True) # prevent setting with copy warning \n",
    "                df_list.append(_subj_df)\n",
    "\n",
    "            df = pd.concat(df_list)\n",
    "            df_pivot = trial_pivotTable([df])\n",
    "            final = trial_getxy(df_pivot)\n",
    "\n",
    "            final_stim = final[0][0] # stimuli list\n",
    "            final_y = final[1][0] # avg verbal estimates \n",
    "            ste = final[2][0]\n",
    "            actual_depths = final[3][0] \n",
    "            std = final[4][0]\n",
    "\n",
    "            targetimg0 = key.split('/')[-1]\n",
    "            folder0 = targetimg0[:-11]\n",
    "            depth_dur_path0 = 'depth_duration_stimuli/' + folder0 + '/' + targetimg0\n",
    "            idx0 = np.where(np.array(final_stim) == depth_dur_path0)[0][0]\n",
    "            avg_estim_stim0 = final_y[idx0]\n",
    "            std0 = std[idx0]\n",
    "            ste0 = ste[idx0]\n",
    "\n",
    "            targetimg1 = discrim_data['depth_discrimination_stimuli/' + key]['stimulus_1'].split('/')[-1]\n",
    "            folder1 = targetimg1[:-11]\n",
    "            depth_dur_path1 = 'depth_duration_stimuli/' + folder1 + '/' + targetimg1\n",
    "            idx1= np.where(np.array(final_stim) == depth_dur_path1)[0][0]\n",
    "            avg_estim_stim1 = final_y[idx1]\n",
    "            std1 = std[idx1]\n",
    "            ste1 = ste[idx1]\n",
    "\n",
    "            VE_stim.append(targetimg0)\n",
    "            VE_actualdepth.append(actual_depths[idx0])\n",
    "            VE_depthestim.append(avg_estim_stim0)\n",
    "            VE_std.append(std0)\n",
    "            VE_ste.append(ste0)\n",
    "\n",
    "            VE_stim.append(targetimg1)\n",
    "            VE_actualdepth.append(actual_depths[idx1])\n",
    "            VE_depthestim.append(avg_estim_stim1)\n",
    "            VE_std.append(std1)\n",
    "            VE_ste.append(ste1)\n",
    "\n",
    "    return VE_stim, VE_depthestim, VE_ste, VE_actualdepth, VE_std\n"
   ]
  },
  {
   "cell_type": "code",
   "execution_count": 183,
   "metadata": {},
   "outputs": [],
   "source": [
    "within_VE_data_250 = within_VE(discrim_trial_subjects_250, raw_TAC_250, all_discrim_performance)\n",
    "within_VE_data_1000 = within_VE(discrim_trial_subjects_1000, raw_TAC_1000, all_discrim_performance)\n"
   ]
  },
  {
   "cell_type": "code",
   "execution_count": 184,
   "metadata": {},
   "outputs": [],
   "source": [
    "## Execute this cell to prep for plotting\n",
    "final_x_250 = within_VE_data_250[0]\n",
    "final_y_250 = within_VE_data_250[1]\n",
    "ste_250 = within_VE_data_250[2]\n",
    "stim_250 = within_VE_data_250[3]\n",
    "std_250 = within_VE_data_250[4]\n",
    "\n",
    "final_x_1000 = within_VE_data_1000[0]\n",
    "final_y_1000 = within_VE_data_1000[1]\n",
    "ste_1000 = within_VE_data_1000[2]\n",
    "stim_1000 = within_VE_data_1000[3]\n",
    "std_1000 = within_VE_data_1000[4]\n"
   ]
  },
  {
   "cell_type": "code",
   "execution_count": null,
   "metadata": {},
   "outputs": [],
   "source": []
  },
  {
   "cell_type": "code",
   "execution_count": 186,
   "metadata": {},
   "outputs": [
    {
     "name": "stdout",
     "output_type": "stream",
     "text": [
      "m: [0.60710147]\n",
      "b: 0.6909451146184984\n",
      "R-squared:  0.509211426839254\n"
     ]
    },
    {
     "data": {
      "text/plain": [
       "0.509"
      ]
     },
     "execution_count": 186,
     "metadata": {},
     "output_type": "execute_result"
    },
    {
     "data": {
      "image/png": "[encoded data removed]",
      "text/plain": [
       "<Figure size 576x576 with 1 Axes>"
      ]
     },
     "metadata": {
      "needs_background": "light"
     },
     "output_type": "display_data"
    }
   ],
   "source": [
    "from sklearn.linear_model import LinearRegression\n",
    "\n",
    "plt.figure(figsize = [8,8])\n",
    "#run regression\n",
    "X_250 = np.array(stim_250).reshape(-1,1)\n",
    "y_250 = final_y_250\n",
    "reg_250 = LinearRegression().fit(X_250, y_250)\n",
    "\n",
    "#Generated Predictions\n",
    "y_predicted_250 = reg_250.predict(X_250)\n",
    "#Plot Our Actual and Predicted Values\n",
    "plt.plot(X_250, y_250, 'o', color='black', alpha = 0.5);\n",
    "plt.plot(X_250,y_predicted_250,color='chocolate', label = 'm = ' + str(round(reg_250.coef_[0], 3))\n",
    "         + '     r-squared = ' + str(round(float(reg_250.score(X_250, y_250)), 3)))\n",
    "plt.title(\"250 ms\", fontsize = 20)\n",
    "plt.xlabel(\"Actual Depth (m)\", fontsize = 15)\n",
    "plt.ylabel(\"Estimated Depth (m)\", fontsize = 15)\n",
    "plt.plot(X_250, X_250, label = \"Perfect Accuracy\", color = 'black',linestyle='--')  # solid\n",
    "plt.errorbar(X_250, y_250, yerr=ste_250, elinewidth = 1, ecolor = \"gray\", fmt = 'or', mfc = \"chocolate\", mec = \"chocolate\", capsize = 3)\n",
    "\n",
    "legend = plt.legend(loc = 0, fontsize = 13, borderpad = 0.6, labelspacing = 1)\n",
    "legend.get_frame().set_facecolor('lightgray')\n",
    "\n",
    "\n",
    "#get coefficients and y intercept\n",
    "print(\"m: {0}\".format(reg_250.coef_))\n",
    "print(\"b: {0}\".format(reg_250.intercept_))\n",
    "\n",
    "#Returns the coefficient of determination R^2 of the prediction.\n",
    "print(\"R-squared: \", reg_250.score(X_250, y_250))\n",
    "\n",
    "round(float(reg_250.score(X_250, y_250)), 3)"
   ]
  },
  {
   "cell_type": "code",
   "execution_count": 187,
   "metadata": {},
   "outputs": [
    {
     "name": "stdout",
     "output_type": "stream",
     "text": [
      "m: [0.63566318]\n",
      "b: 0.5039594273658334\n",
      "R-squared:  0.6446539614634262\n"
     ]
    },
    {
     "data": {
      "image/png": "[encoded data removed]",
      "text/plain": [
       "<Figure size 576x576 with 1 Axes>"
      ]
     },
     "metadata": {
      "needs_background": "light"
     },
     "output_type": "display_data"
    }
   ],
   "source": [
    "from sklearn.linear_model import LinearRegression\n",
    "\n",
    "plt.figure(figsize = [8,8])\n",
    "#run regression\n",
    "X_1000 = np.array(stim_1000).reshape(-1,1)\n",
    "y_1000 = final_y_1000\n",
    "reg_1000 = LinearRegression().fit(X_1000, y_1000)\n",
    "\n",
    "#Generated Predictions\n",
    "y_predicted_1000 = reg_1000.predict(X_1000)\n",
    "#Plot Our Actual and Predicted Values\n",
    "plt.plot(X_1000, y_1000, 'o', color='black', alpha = 0.7);\n",
    "plt.plot(X_1000,y_predicted_1000,color='darkviolet', label = 'm = ' + str(round(reg_1000.coef_[0], 3))\n",
    "         + '     r-squared = ' + str(round(float(reg_1000.score(X_1000, y_1000)), 3)))\n",
    "\n",
    "plt.title(\"1000 ms\", fontsize = 20)\n",
    "plt.xlabel(\"Actual Depth (m)\", fontsize = 15)\n",
    "plt.ylabel(\"Estimated Depth (m)\", fontsize = 15)\n",
    "plt.plot(X_1000, X_1000, label = \"Perfect Accuracy\", color = 'black',linestyle='--')  # solid\n",
    "plt.errorbar(X_1000, y_1000, yerr=ste_1000, elinewidth = 1, ecolor = \"gray\", fmt = 'or', mfc = \"darkviolet\", mec = \"darkviolet\", capsize = 3)\n",
    "\n",
    "\n",
    "legend = plt.legend(loc = 0, fontsize = 13, borderpad = 0.6, labelspacing = 1)\n",
    "legend.get_frame().set_facecolor('lightgray')\n",
    "\n",
    "\n",
    "\n",
    "#get coefficients and y intercept\n",
    "print(\"m: {0}\".format(reg_1000.coef_))\n",
    "print(\"b: {0}\".format(reg_1000.intercept_))\n",
    "\n",
    "#Returns the coefficient of determination R^2 of the prediction.\n",
    "print(\"R-squared: \", reg_1000.score(X_1000, y_1000))"
   ]
  },
  {
   "cell_type": "code",
   "execution_count": null,
   "metadata": {},
   "outputs": [],
   "source": []
  },
  {
   "cell_type": "code",
   "execution_count": 233,
   "metadata": {},
   "outputs": [],
   "source": [
    "def discrim_PC(subjects_dict, VE_df, discrim_data, key):\n",
    "    '''\n",
    "    subjects = dictionary of VE subjects for each discrimination trial\n",
    "    VE_df = df of VE data for a specific duration \n",
    "    * these lists correspond in index \n",
    "    key = discrim stimulus \n",
    "    '''\n",
    "    subjects = subjects_dict[key]\n",
    "\n",
    "    \n",
    "    if len(subjects) > 0:\n",
    "        df_list = []\n",
    "        VE_subj_differences = []\n",
    "        for subj in subjects:\n",
    "            subj_df = subj_df = VE_df.loc[VE_df['subjID'] == subj]\n",
    "            _subj_df = subj_df.copy(deep=True) # prevent setting with copy warning \n",
    "            df_list.append(_subj_df)\n",
    "            \n",
    "        df = pd.concat(df_list)       \n",
    "        df_pivot = trial_pivotTable([df])\n",
    "        final = trial_getxy(df_pivot)\n",
    "\n",
    "        final_stim = final[0][0] # stimuli list\n",
    "        final_y = final[1][0] # avg verbal estimates \n",
    "        ste = final[2][0]\n",
    "        actual_depths = final[3][0] \n",
    "        std = final[4][0]\n",
    "\n",
    "        targetimg0 = key.split('/')[-1]\n",
    "        folder0 = targetimg0[:-11]\n",
    "        depth_dur_path0 = 'depth_duration_stimuli/' + folder0 + '/' + targetimg0\n",
    "        idx0 = np.where(np.array(final_stim) == depth_dur_path0)[0][0]\n",
    "        avg_estim_stim0 = final_y[idx0]\n",
    "        std0 = std[idx0]\n",
    "        ste0 = ste[idx0]\n",
    "\n",
    "        targetimg1 = discrim_data['depth_discrimination_stimuli/' + key]['stimulus_1'].split('/')[-1]\n",
    "        folder1 = targetimg1[:-11]\n",
    "        depth_dur_path1 = 'depth_duration_stimuli/' + folder1 + '/' + targetimg1\n",
    "        idx1= np.where(np.array(final_stim) == depth_dur_path1)[0][0]\n",
    "        avg_estim_stim1 = final_y[idx1]\n",
    "        std1 = std[idx1]\n",
    "        ste1 = ste[idx1]\n",
    "\n",
    "        if avg_estim_stim0 < avg_estim_stim1:\n",
    "            # Which target is CLOSER to you?\n",
    "            answer = targetimg0\n",
    "        if avg_estim_stim0 == avg_estim_stim1:\n",
    "            print(targetimg0, targetimg1)\n",
    "        if avg_estim_stim0 > avg_estim_stim1:\n",
    "            answer = targetimg1\n",
    "\n",
    "        result = {'stimulus_1': targetimg1,\n",
    "                                 'stimulus_0_avg_estim': avg_estim_stim0,\n",
    "                                 'stimulus_1_avg_estim': avg_estim_stim1,\n",
    "                                 'answer': answer,\n",
    "                                 'std0': std0,\n",
    "                                 'std1': std1}\n",
    "        return result\n",
    "\n",
    "    else:\n",
    "#         print('No subjects: ', key)\n",
    "        return None\n",
    "    \n"
   ]
  },
  {
   "cell_type": "code",
   "execution_count": 234,
   "metadata": {},
   "outputs": [],
   "source": [
    "within_VE_answerkey_250 = {} # corresponding answer key for discrimination trials  \n",
    "n_within_VE_answerkey_250 = {}\n",
    "\n",
    "for key in discrim_trial_subjects_250:\n",
    "    within_VE_answerkey_250['depth_discrimination_stimuli/' + key] = discrim_PC(discrim_trial_subjects_250, raw_TAC_250, all_discrim_performance, key)\n",
    "    n_within_VE_answerkey_250['depth_discrimination_stimuli/' + key] = discrim_PC(discrim_trial_subjects_250, n_TAC_250, all_discrim_performance, key)\n",
    "\n",
    "within_VE_answerkey_1000 = {} # corresponding answer key for discrimination trials  \n",
    "n_within_VE_answerkey_1000 = {}\n",
    "for key in discrim_trial_subjects_1000:\n",
    "    within_VE_answerkey_1000['depth_discrimination_stimuli/' + key] = discrim_PC(discrim_trial_subjects_1000, raw_TAC_1000, all_discrim_performance, key)\n",
    "    n_within_VE_answerkey_1000['depth_discrimination_stimuli/' + key] = discrim_PC(discrim_trial_subjects_1000, n_TAC_1000, all_discrim_performance, key)\n"
   ]
  },
  {
   "cell_type": "code",
   "execution_count": 258,
   "metadata": {},
   "outputs": [],
   "source": [
    "def subj_discrim_PC(subjects_dict, VE_df, discrim_data, key):\n",
    "    '''\n",
    "    For each participant, calculate the difference between two scenes for each discrimination \n",
    "    Calculate the mean and standard error for each discrimination difference in the VE data\n",
    "    '''\n",
    "    subjects = subjects_dict[key]\n",
    "\n",
    "    try:\n",
    "        if len(subjects) > 0:\n",
    "            VE_subj_differences = []\n",
    "            df_list = []\n",
    "            for subj in subjects:\n",
    "                subj_df = subj_df = VE_df.loc[VE_df['subjID'] == subj]\n",
    "                _subj_df = subj_df.copy(deep=True) # prevent setting with copy warning \n",
    "                df_list.append(_subj_df)\n",
    "\n",
    "                img0_path = 'depth_duration_stimuli/' + key\n",
    "                dimg0_row = subj_df.loc[subj_df['stimulus'] == img0_path]\n",
    "                dimg0_estim = dimg0_row['depth_estimate'].unique()[0]\n",
    "\n",
    "                targetimg1 = discrim_data['depth_discrimination_stimuli/' + key]['stimulus_1'].split('/')[-1]\n",
    "                folder1 = targetimg1[:-11]\n",
    "\n",
    "                img1_path = 'depth_duration_stimuli/' + folder1 + '/' + targetimg1\n",
    "                dimg1_row = subj_df.loc[subj_df['stimulus'] == img1_path] \n",
    "                dimg1_estim = dimg1_row['depth_estimate'].unique()[0]\n",
    "\n",
    "                subj_estim_diff = abs(dimg0_estim - dimg1_estim)\n",
    "                VE_subj_differences.append(subj_estim_diff)\n",
    "\n",
    "\n",
    "        return VE_subj_differences, np.mean(np.array(VE_subj_differences)), stats.sem(np.array(VE_subj_differences))\n",
    "    except:\n",
    "        None\n"
   ]
  },
  {
   "cell_type": "code",
   "execution_count": 267,
   "metadata": {},
   "outputs": [],
   "source": [
    "# raw VE data \n",
    "p_VE_answerkey_250 = {}\n",
    "p_VE_answerkey_1000 = {}\n",
    "# normalized VE data \n",
    "np_VE_answerkey_250 = {}\n",
    "np_VE_answerkey_1000 = {}\n",
    "\n",
    "for key in discrim_trial_subjects_250:\n",
    "    p_VE_answerkey_250['depth_discrimination_stimuli/' + key] = subj_discrim_PC(discrim_trial_subjects_250, raw_TAC_250, all_discrim_performance, key)\n",
    "    np_VE_answerkey_250['depth_discrimination_stimuli/' + key] = subj_discrim_PC(discrim_trial_subjects_250, n_TAC_250, all_discrim_performance, key)\n",
    "\n",
    "for key in discrim_trial_subjects_1000:\n",
    "    p_VE_answerkey_1000['depth_discrimination_stimuli/' + key] = subj_discrim_PC(discrim_trial_subjects_1000, raw_TAC_1000, all_discrim_performance, key)\n",
    "    np_VE_answerkey_1000['depth_discrimination_stimuli/' + key] = subj_discrim_PC(discrim_trial_subjects_1000, n_TAC_1000, all_discrim_performance, key)\n",
    "    "
   ]
  },
  {
   "cell_type": "code",
   "execution_count": 268,
   "metadata": {},
   "outputs": [],
   "source": [
    "mean_diffs_250 = [p_VE_answerkey_250[key][1] for key in p_VE_answerkey_250 if p_VE_answerkey_250[key] != None]\n",
    "mean_diffs_1000 = [p_VE_answerkey_1000[key][1] for key in p_VE_answerkey_1000 if p_VE_answerkey_1000[key] != None]\n",
    "\n",
    "ste_diffs_250 = [p_VE_answerkey_250[key][2] for key in p_VE_answerkey_250 if p_VE_answerkey_250[key] != None]\n",
    "ste_diffs_1000 = [p_VE_answerkey_1000[key][2] for key in p_VE_answerkey_1000 if p_VE_answerkey_1000[key] != None]"
   ]
  },
  {
   "cell_type": "code",
   "execution_count": 320,
   "metadata": {},
   "outputs": [
    {
     "data": {
      "image/png": "[encoded data removed]",
      "text/plain": [
       "<Figure size 720x576 with 1 Axes>"
      ]
     },
     "metadata": {
      "needs_background": "light"
     },
     "output_type": "display_data"
    },
    {
     "name": "stdout",
     "output_type": "stream",
     "text": [
      "(0.14217618265847445, 0.4376150023431992)\n"
     ]
    }
   ],
   "source": [
    "plt.figure(figsize=[10,8])\n",
    "plt.xlabel('250 ms', fontsize=15)\n",
    "plt.ylabel('1000 ms', fontsize=15)\n",
    "plt.title('Avg VE Diff between Discrimination Scenes', fontsize=18)\n",
    "plt.plot(mean_diffs_250, mean_diffs_1000, 'o', color='black')\n",
    "plt.errorbar(mean_diffs_250, mean_diffs_1000, xerr=ste_diffs_250, fmt=\"o\", mec='black', color='gray')\n",
    "plt.errorbar(mean_diffs_250, mean_diffs_1000, yerr=ste_diffs_1000, fmt=\"o\", mec='black', ms = 0.5, color='gray')\n",
    "\n",
    "plt.show();\n",
    "print(scipy.stats.pearsonr(mean_diffs_250, mean_diffs_1000))"
   ]
  },
  {
   "cell_type": "code",
   "execution_count": null,
   "metadata": {},
   "outputs": [],
   "source": []
  },
  {
   "cell_type": "code",
   "execution_count": 158,
   "metadata": {},
   "outputs": [],
   "source": [
    "def VE_accuracy(stim0, df, answerkey):\n",
    "    '''\n",
    "    Accuracy based on the verbal judgement data \n",
    "    '''\n",
    "    \n",
    "    \"\"\"\n",
    "    args:\n",
    "        df  \n",
    "    returns:\n",
    "        proportion of correct responses, count of correct responses, count of total trials  \n",
    "    \"\"\"\n",
    "    count_correct = 0\n",
    "    count_incorrect = 0\n",
    "    count_total = 0\n",
    "    count_missed = 0\n",
    "    try:\n",
    "        VE_correct_answer = answerkey[stim0]['answer']\n",
    "        for idx, row in df.iterrows(): \n",
    "            choice = row[\"discrim_choice\"]\n",
    "            count_total += 1\n",
    "            if choice == 0.0:\n",
    "                image_choice = row[\"stimulus_0\"]\n",
    "\n",
    "            if choice == 1.0:\n",
    "                image_choice = row[\"stimulus_1\"]\n",
    "\n",
    "            if choice == 2.0:\n",
    "                count_missed += 1\n",
    "\n",
    "            if choice == 3.0:\n",
    "                count_missed += 1\n",
    "\n",
    "            try:\n",
    "                if image_choice.split('/')[-1] == VE_correct_answer:\n",
    "                    count_correct += 1\n",
    "            except:\n",
    "                pass\n",
    "\n",
    "\n",
    "        return count_correct/count_total, count_correct, count_total, count_missed\n",
    "    except:\n",
    "        return None\n",
    "\n",
    "    \n",
    "def main_VE_accuracy(df, answerkey_250, answerkey_1000):\n",
    "    all_stim0 = df.stimulus_0.unique()\n",
    "    \n",
    "    stimuli_stats = {}\n",
    "    for stim0 in all_stim0:\n",
    "        # dataframe for stimulus 0\n",
    "        stim0_df = df.loc[df['stimulus_0'] == stim0]\n",
    "        # name of stimulus 1\n",
    "        other_stim = stim0_df.stimulus_1.unique()[0]\n",
    "        # dataframe where stimulus 0 is presented SECOND (same trial)\n",
    "        stim1_df = df.loc[df['stimulus_1'] == stim0]\n",
    "        \n",
    "        # df for a specific discrimination trial (collapsed on stim presentation order)\n",
    "        stim_df = pd.concat([stim0_df, stim1_df], ignore_index=True)\n",
    "        stim_250_df = stim_df[stim_df['duration'] == 250.0]\n",
    "        stim_1000_df = stim_df[stim_df['duration'] == 1000.0] \n",
    "        \n",
    "#         stim_depthdiff = stim_df['depth_difference'][0]\n",
    "        \n",
    "        stim0_depth = stim_df['actual_depth_0'][0]\n",
    "        stim1_depth = stim_df['actual_depth_1'][0]\n",
    "        stim_depthbin = np.mean(np.array([stim0_depth,stim1_depth]))\n",
    "        \n",
    "        stim_acc_250 = VE_accuracy(stim0, stim_250_df, answerkey_250)\n",
    "        stim_acc_1000 = VE_accuracy(stim0, stim_1000_df, answerkey_1000)\n",
    "        \n",
    "        stim_RT_250 = get_RT(stim_250_df)\n",
    "        stim_RT_1000 = get_RT(stim_1000_df)\n",
    "        \n",
    "        try:\n",
    "            # difference between verbal judgements divided by joint variance \n",
    "            # abs(VE1-VE2)/sqrt(stda^2 + std2^2)\n",
    "            std0_250 = answerkey_250[stim0]['std0']\n",
    "            std1_250 = answerkey_250[stim0]['std1']\n",
    "            joint_variance_250 = np.sqrt(std0_250**2 + std1_250**2)\n",
    "            JV_regressor_250 = abs(answerkey_250[stim0]['stimulus_0_avg_estim'] - answerkey_250[stim0]['stimulus_1_avg_estim'])/joint_variance_250\n",
    "\n",
    "            std0_1000 = answerkey_1000[stim0]['std0']\n",
    "            std1_1000 = answerkey_1000[stim0]['std1']\n",
    "            joint_variance_1000 = np.sqrt(std0_1000**2 + std1_1000**2)\n",
    "            JV_regressor_1000 = abs(answerkey_1000[stim0]['stimulus_0_avg_estim'] - answerkey_1000[stim0]['stimulus_1_avg_estim'])/joint_variance_1000\n",
    "            \n",
    "            stimuli_stats[stim0] = {'stimulus_1': other_stim,\n",
    "                                'accuracy_250': stim_acc_250,\n",
    "                                'accuracy_1000': stim_acc_1000,\n",
    "                                'avg_depth': stim_depthbin,\n",
    "                                'VE_depthdifference_250': abs(answerkey_250[stim0]['stimulus_0_avg_estim'] - answerkey_250[stim0]['stimulus_1_avg_estim']), \n",
    "                                'VE_depthdifference_1000': abs(answerkey_1000[stim0]['stimulus_0_avg_estim'] - answerkey_1000[stim0]['stimulus_1_avg_estim']),\n",
    "                                'RT_250': stim_RT_250,\n",
    "                                'RT_1000': stim_RT_1000,\n",
    "                                'JV_regressor_250': JV_regressor_250,\n",
    "                                'JV_regressor_1000': JV_regressor_1000}\n",
    "            \n",
    "        except:\n",
    "            pass\n",
    "\n",
    "        \n",
    "    \n",
    "    return stimuli_stats\n",
    "    \n",
    "    \n",
    "    "
   ]
  },
  {
   "cell_type": "code",
   "execution_count": null,
   "metadata": {},
   "outputs": [],
   "source": []
  },
  {
   "cell_type": "code",
   "execution_count": 159,
   "metadata": {},
   "outputs": [],
   "source": [
    "w_all_VE_discrim_performance = main_VE_accuracy(final_discrim, within_VE_answerkey_250, within_VE_answerkey_1000) "
   ]
  },
  {
   "cell_type": "code",
   "execution_count": 160,
   "metadata": {},
   "outputs": [],
   "source": [
    "w_VE_estim_diff_250 = [w_all_VE_discrim_performance[elem]['VE_depthdifference_250'] for elem in w_all_VE_discrim_performance]\n",
    "w_VE_estim_diff_1000 = [w_all_VE_discrim_performance[elem]['VE_depthdifference_1000'] for elem in w_all_VE_discrim_performance]\n",
    "\n",
    "w_VE_accuracy_250 = [w_all_VE_discrim_performance[elem]['accuracy_250'][0] for elem in w_all_VE_discrim_performance]\n",
    "w_VE_accuracy_1000 = [w_all_VE_discrim_performance[elem]['accuracy_1000'][0] for elem in w_all_VE_discrim_performance]\n",
    "\n",
    "w_avg_RT_250 = [w_all_VE_discrim_performance[elem]['RT_250'][1] for elem in w_all_VE_discrim_performance]\n",
    "w_avg_RT_1000 = [w_all_VE_discrim_performance[elem]['RT_1000'][1] for elem in w_all_VE_discrim_performance]\n",
    "\n",
    "w_JV_250 = [w_all_VE_discrim_performance[elem]['JV_regressor_250'] for elem in w_all_VE_discrim_performance]\n",
    "w_JV_1000 = [w_all_VE_discrim_performance[elem]['JV_regressor_1000'] for elem in w_all_VE_discrim_performance]"
   ]
  },
  {
   "cell_type": "code",
   "execution_count": 162,
   "metadata": {},
   "outputs": [],
   "source": [
    "normVE_w_all_VE_discrim_performance = main_VE_accuracy(final_discrim, n_within_VE_answerkey_250, n_within_VE_answerkey_1000) "
   ]
  },
  {
   "cell_type": "code",
   "execution_count": 163,
   "metadata": {},
   "outputs": [],
   "source": [
    "normVE_w_VE_estim_diff_250 = [normVE_w_all_VE_discrim_performance[elem]['VE_depthdifference_250'] for elem in normVE_w_all_VE_discrim_performance]\n",
    "normVE_w_VE_estim_diff_1000 = [normVE_w_all_VE_discrim_performance[elem]['VE_depthdifference_1000'] for elem in normVE_w_all_VE_discrim_performance]\n",
    "\n",
    "normVE_w_VE_accuracy_250 = [normVE_w_all_VE_discrim_performance[elem]['accuracy_250'][0] for elem in normVE_w_all_VE_discrim_performance]\n",
    "normVE_w_VE_accuracy_1000 = [normVE_w_all_VE_discrim_performance[elem]['accuracy_1000'][0] for elem in normVE_w_all_VE_discrim_performance]\n",
    "\n",
    "normVE_w_avg_RT_250 = [normVE_w_all_VE_discrim_performance[elem]['RT_250'][1] for elem in normVE_w_all_VE_discrim_performance]\n",
    "normVE_w_all_VE_discrim_performancew_avg_RT_1000 = [normVE_w_all_VE_discrim_performance[elem]['RT_1000'][1] for elem in normVE_w_all_VE_discrim_performance]\n",
    "\n",
    "normVE_w_JV_250 = [normVE_w_all_VE_discrim_performance[elem]['JV_regressor_250'] for elem in normVE_w_all_VE_discrim_performance]\n",
    "normVE_w_JV_1000 = [normVE_w_all_VE_discrim_performance[elem]['JV_regressor_1000'] for elem in normVE_w_all_VE_discrim_performance]"
   ]
  },
  {
   "cell_type": "code",
   "execution_count": null,
   "metadata": {},
   "outputs": [],
   "source": []
  },
  {
   "cell_type": "markdown",
   "metadata": {},
   "source": [
    "#### Overall Accuracy"
   ]
  },
  {
   "cell_type": "code",
   "execution_count": 164,
   "metadata": {},
   "outputs": [
    {
     "data": {
      "text/plain": [
       "(0.6335221761023613, 0.649082746765687)"
      ]
     },
     "execution_count": 164,
     "metadata": {},
     "output_type": "execute_result"
    }
   ],
   "source": [
    "np.mean(w_VE_accuracy_250), np.mean(w_VE_accuracy_1000)"
   ]
  },
  {
   "cell_type": "code",
   "execution_count": 165,
   "metadata": {},
   "outputs": [
    {
     "data": {
      "text/plain": [
       "(0.6639194415721441, 0.6497716990333242)"
      ]
     },
     "execution_count": 165,
     "metadata": {},
     "output_type": "execute_result"
    }
   ],
   "source": [
    "np.mean(normVE_w_VE_accuracy_250), np.mean(normVE_w_VE_accuracy_1000)"
   ]
  },
  {
   "cell_type": "code",
   "execution_count": 115,
   "metadata": {},
   "outputs": [
    {
     "name": "stdout",
     "output_type": "stream",
     "text": [
      "250 ms: Correlation between VE discrimination accuracy and average w/in participant verbal estimate difference\n"
     ]
    },
    {
     "data": {
      "text/plain": [
       "(0.07728851676290649, 0.6741604149393021)"
      ]
     },
     "execution_count": 115,
     "metadata": {},
     "output_type": "execute_result"
    }
   ],
   "source": [
    "print('250 ms: Correlation between VE discrimination accuracy and average w/in participant verbal estimate difference')\n",
    "stats.pearsonr(w_VE_accuracy_250, w_VE_estim_diff_250)"
   ]
  },
  {
   "cell_type": "code",
   "execution_count": 147,
   "metadata": {},
   "outputs": [
    {
     "name": "stdout",
     "output_type": "stream",
     "text": [
      "250 ms: Correlation between VE discrimination accuracy and average w/in participant normalized verbal estimate difference\n"
     ]
    },
    {
     "data": {
      "text/plain": [
       "(0.16713322810051912, 0.36056621316472703)"
      ]
     },
     "execution_count": 147,
     "metadata": {},
     "output_type": "execute_result"
    }
   ],
   "source": [
    "print('250 ms: Correlation between VE discrimination accuracy and average w/in participant normalized verbal estimate difference')\n",
    "stats.pearsonr(normVE_w_VE_accuracy_250, normVE_w_VE_estim_diff_250)"
   ]
  },
  {
   "cell_type": "code",
   "execution_count": 116,
   "metadata": {},
   "outputs": [
    {
     "name": "stdout",
     "output_type": "stream",
     "text": [
      "1000 ms: Correlation between VE discrimination accuracy and average w/in participant verbal estimate difference\n"
     ]
    },
    {
     "data": {
      "text/plain": [
       "(0.5703049763794026, 0.0006546831486845731)"
      ]
     },
     "execution_count": 116,
     "metadata": {},
     "output_type": "execute_result"
    }
   ],
   "source": [
    "print('1000 ms: Correlation between VE discrimination accuracy and average w/in participant verbal estimate difference')\n",
    "stats.pearsonr(w_VE_accuracy_1000, w_VE_estim_diff_1000)"
   ]
  },
  {
   "cell_type": "code",
   "execution_count": 148,
   "metadata": {},
   "outputs": [
    {
     "name": "stdout",
     "output_type": "stream",
     "text": [
      "1000 ms: Correlation between VE discrimination accuracy and average w/in participant normalized verbal estimate difference\n"
     ]
    },
    {
     "data": {
      "text/plain": [
       "(0.4740917904577694, 0.006121864939924475)"
      ]
     },
     "execution_count": 148,
     "metadata": {},
     "output_type": "execute_result"
    }
   ],
   "source": [
    "print('1000 ms: Correlation between VE discrimination accuracy and average w/in participant normalized verbal estimate difference')\n",
    "stats.pearsonr(normVE_w_VE_accuracy_1000, normVE_w_VE_estim_diff_1000)"
   ]
  },
  {
   "cell_type": "code",
   "execution_count": 166,
   "metadata": {},
   "outputs": [
    {
     "data": {
      "image/png": "[encoded data removed]",
      "text/plain": [
       "<Figure size 864x432 with 1 Axes>"
      ]
     },
     "metadata": {
      "needs_background": "light"
     },
     "output_type": "display_data"
    }
   ],
   "source": [
    "plt.figure(figsize=[12,6])\n",
    "plt.plot(np.array(w_VE_estim_diff_250), np.array(w_VE_accuracy_250), 'go', label='250 ms')\n",
    "plt.plot(np.array(w_VE_estim_diff_1000), np.array(w_VE_accuracy_1000), 'ro', label='1000 ms')\n",
    "plt.xlabel('Average Normalized Verbal Estimate Difference', fontsize=15)\n",
    "plt.ylabel('VE Discrimination Proportion Correct', fontsize = 15)\n",
    "plt.legend(fontsize = 12)\n",
    "plt.title('VE Discrimination Proportion Correct vs Avg W/in Participant Verbal Estimate Difference', fontsize = 18)\n",
    "plt.show();"
   ]
  },
  {
   "cell_type": "code",
   "execution_count": 120,
   "metadata": {},
   "outputs": [
    {
     "name": "stdout",
     "output_type": "stream",
     "text": [
      "m: [0.04322504]\n",
      "b: 0.6101402920719526\n",
      "R-squared:  0.005973514823410131\n"
     ]
    },
    {
     "data": {
      "text/plain": [
       "Text(0.5, 1.0, '250 ms: Accuracy')"
      ]
     },
     "execution_count": 120,
     "metadata": {},
     "output_type": "execute_result"
    },
    {
     "data": {
      "image/png": "[encoded data removed]",
      "text/plain": [
       "<Figure size 576x432 with 1 Axes>"
      ]
     },
     "metadata": {
      "needs_background": "light"
     },
     "output_type": "display_data"
    }
   ],
   "source": [
    "#run regression\n",
    "plt.figure(figsize=[8,6])\n",
    "VE_X_250 = np.array(w_VE_estim_diff_250).reshape(-1,1)\n",
    "VE_PC_250 = w_VE_accuracy_250\n",
    "VE_PC_reg_250 = LinearRegression().fit(VE_X_250, VE_PC_250)\n",
    "\n",
    "#Generated Predictions\n",
    "PC_predicted_250 = VE_PC_reg_250.predict(VE_X_250)\n",
    "#Plot Our Actual and Predicted Values\n",
    "plt.plot(VE_X_250, VE_PC_250, 'o', color='chocolate', alpha = 0.3);\n",
    "plt.plot(VE_X_250, PC_predicted_250,color='chocolate', label = 'm = ' + str(round(VE_PC_reg_250.coef_[0], 3))\n",
    "         + '     r-squared = ' + str(round(float(VE_PC_reg_250.score(VE_X_250, VE_PC_250)), 3)))\n",
    "plt.xlabel(\"Average Normalized Verbal Estimate Difference (m)\", fontsize = 15)\n",
    "plt.ylabel(\"VE Discrimination Proportion Correct\", fontsize = 15)\n",
    "\n",
    "#get coefficients and y intercept\n",
    "print(\"m: {0}\".format(VE_PC_reg_250.coef_))\n",
    "print(\"b: {0}\".format(VE_PC_reg_250.intercept_))\n",
    "\n",
    "#Returns the coefficient of determination R^2 of the prediction.\n",
    "print(\"R-squared: \", VE_PC_reg_250.score(VE_X_250, VE_PC_250))\n",
    "\n",
    "\n",
    "legend = plt.legend(loc = 4, fontsize = 13, borderpad = 0.6, labelspacing = 1)\n",
    "legend.get_frame().set_facecolor('lightgray')\n",
    "\n",
    "plt.title(\"250 ms: Accuracy\", fontsize = 20)\n"
   ]
  },
  {
   "cell_type": "code",
   "execution_count": null,
   "metadata": {},
   "outputs": [],
   "source": []
  },
  {
   "cell_type": "code",
   "execution_count": 121,
   "metadata": {},
   "outputs": [
    {
     "name": "stdout",
     "output_type": "stream",
     "text": [
      "m: [0.38927624]\n",
      "b: 0.4989115366017116\n",
      "R-squared:  0.3252477660831109\n"
     ]
    },
    {
     "data": {
      "image/png": "[encoded data removed]",
      "text/plain": [
       "<Figure size 576x432 with 1 Axes>"
      ]
     },
     "metadata": {
      "needs_background": "light"
     },
     "output_type": "display_data"
    }
   ],
   "source": [
    "plt.figure(figsize=[8,6])\n",
    "\n",
    "VE_X_1000 = np.array(w_VE_estim_diff_1000).reshape(-1,1)\n",
    "VE_PC_1000 = w_VE_accuracy_1000\n",
    "VE_PC_reg_1000 = LinearRegression().fit(VE_X_1000, VE_PC_1000)\n",
    "\n",
    "#Generated Predictions\n",
    "PC_predicted_1000 = VE_PC_reg_1000.predict(VE_X_1000)\n",
    "#Plot Our Actual and Predicted Values\n",
    "plt.plot(VE_X_1000, VE_PC_1000, 'o', color='darkviolet', alpha = 0.3);\n",
    "plt.plot(VE_X_1000, PC_predicted_1000,color='darkviolet', label = '1000 ms: m = ' + str(round(VE_PC_reg_1000.coef_[0], 3))\n",
    "         + '     r-squared = ' + str(round(float(VE_PC_reg_1000.score(VE_X_1000, VE_PC_1000)), 3)))\n",
    "\n",
    "legend = plt.legend(loc = 4, fontsize = 13, borderpad = 0.6, labelspacing = 1)\n",
    "legend.get_frame().set_facecolor('lightgray')\n",
    "\n",
    "#get coefficients and y intercept\n",
    "print(\"m: {0}\".format(VE_PC_reg_1000.coef_))\n",
    "print(\"b: {0}\".format(VE_PC_reg_1000.intercept_))\n",
    "\n",
    "#Returns the coefficient of determination R^2 of the prediction.\n",
    "print(\"R-squared: \", VE_PC_reg_1000.score(VE_X_1000, VE_PC_1000))\n",
    "\n",
    "plt.xlabel(\"Average Normalized Verbal Estimate Difference (m)\", fontsize = 15)\n",
    "plt.ylabel(\"VE Discrimination Proportion Correct\", fontsize = 15)\n",
    "\n",
    "\n",
    "plt.title(\"1000 ms: Accuracy\", fontsize = 20)\n",
    "\n",
    "plt.show();"
   ]
  },
  {
   "cell_type": "code",
   "execution_count": 122,
   "metadata": {},
   "outputs": [
    {
     "data": {
      "text/plain": [
       "(0.33392271568119836, 0.061787723710416985)"
      ]
     },
     "execution_count": 122,
     "metadata": {},
     "output_type": "execute_result"
    }
   ],
   "source": [
    "stats.pearsonr(w_VE_accuracy_250, w_VE_accuracy_1000)"
   ]
  },
  {
   "cell_type": "code",
   "execution_count": 123,
   "metadata": {},
   "outputs": [
    {
     "data": {
      "text/plain": [
       "[<matplotlib.lines.Line2D at 0x122fdaac8>]"
      ]
     },
     "execution_count": 123,
     "metadata": {},
     "output_type": "execute_result"
    },
    {
     "data": {
      "image/png": "[encoded data removed]",
      "text/plain": [
       "<Figure size 504x504 with 1 Axes>"
      ]
     },
     "metadata": {
      "needs_background": "light"
     },
     "output_type": "display_data"
    }
   ],
   "source": [
    "plt.figure(figsize=[7,7])\n",
    "plt.xlabel('Proportion Correct @ 250 ms', fontsize=15)\n",
    "plt.ylabel('Proportion Correct @ 1000 ms', fontsize=15)\n",
    "plt.plot(w_VE_accuracy_250,w_VE_accuracy_1000, 'o' )"
   ]
  },
  {
   "cell_type": "code",
   "execution_count": null,
   "metadata": {},
   "outputs": [],
   "source": []
  },
  {
   "cell_type": "markdown",
   "metadata": {},
   "source": [
    "# UPDATED REGRESSOR: Difference between verbal judgements divided by joint variance "
   ]
  },
  {
   "cell_type": "code",
   "execution_count": 124,
   "metadata": {},
   "outputs": [
    {
     "name": "stdout",
     "output_type": "stream",
     "text": [
      "250 ms: Correlation between VE discrimination accuracy and difference between w/in participant verbal judgements divided by joint variance \n"
     ]
    },
    {
     "data": {
      "text/plain": [
       "(0.3486145535792663, 0.05053140958901633)"
      ]
     },
     "execution_count": 124,
     "metadata": {},
     "output_type": "execute_result"
    }
   ],
   "source": [
    "print('250 ms: Correlation between VE discrimination accuracy and difference between w/in participant verbal judgements divided by joint variance ')\n",
    "stats.pearsonr(w_VE_accuracy_250, w_JV_250)"
   ]
  },
  {
   "cell_type": "code",
   "execution_count": 126,
   "metadata": {},
   "outputs": [
    {
     "name": "stdout",
     "output_type": "stream",
     "text": [
      "1000 ms: Correlation between VE discrimination accuracy and difference between w/in participant divided by joint variance \n"
     ]
    },
    {
     "data": {
      "text/plain": [
       "(0.6506341210178371, 5.5394052231207815e-05)"
      ]
     },
     "execution_count": 126,
     "metadata": {},
     "output_type": "execute_result"
    }
   ],
   "source": [
    "print('1000 ms: Correlation between VE discrimination accuracy and difference between w/in participant divided by joint variance ')\n",
    "stats.pearsonr(w_VE_accuracy_1000, w_JV_1000)"
   ]
  },
  {
   "cell_type": "code",
   "execution_count": 127,
   "metadata": {},
   "outputs": [
    {
     "name": "stdout",
     "output_type": "stream",
     "text": [
      "m: [0.25647568]\n",
      "b: 0.5572840306875063\n",
      "R-squared:  0.12153210696727113\n"
     ]
    },
    {
     "data": {
      "text/plain": [
       "Text(0.5, 1.0, '250 ms')"
      ]
     },
     "execution_count": 127,
     "metadata": {},
     "output_type": "execute_result"
    },
    {
     "data": {
      "image/png": "[encoded data removed]",
      "text/plain": [
       "<Figure size 576x432 with 1 Axes>"
      ]
     },
     "metadata": {
      "needs_background": "light"
     },
     "output_type": "display_data"
    }
   ],
   "source": [
    "#run regression\n",
    "plt.figure(figsize=[8,6])\n",
    "JV_X_250 = np.array(w_JV_250).reshape(-1,1)\n",
    "VE_PC_250 = w_VE_accuracy_250\n",
    "JV_PC_reg_250 = LinearRegression().fit(JV_X_250, VE_PC_250)\n",
    "\n",
    "#Generated Predictions\n",
    "JV_PC_predicted_250 = JV_PC_reg_250.predict(JV_X_250)\n",
    "#Plot Our Actual and Predicted Values\n",
    "plt.plot(JV_X_250, VE_PC_250, 'o', color='chocolate', alpha = 0.3);\n",
    "plt.plot(JV_X_250, JV_PC_predicted_250,color='chocolate', label = 'm = ' + str(round(JV_PC_reg_250.coef_[0], 3))\n",
    "         + '     r-squared = ' + str(round(float(JV_PC_reg_250.score(JV_X_250, VE_PC_250)), 3)))\n",
    "plt.xlabel(\"Difference between normalized verbal judgements divided by joint variance\", fontsize = 15)\n",
    "plt.ylabel(\"VE Discrimination Proportion Correct\", fontsize = 15)\n",
    "\n",
    "#get coefficients and y intercept\n",
    "print(\"m: {0}\".format(JV_PC_reg_250.coef_))\n",
    "print(\"b: {0}\".format(JV_PC_reg_250.intercept_))\n",
    "\n",
    "#Returns the coefficient of determination R^2 of the prediction.\n",
    "print(\"R-squared: \", JV_PC_reg_250.score(JV_X_250, VE_PC_250))\n",
    "\n",
    "\n",
    "legend = plt.legend(loc = 4, fontsize = 13, borderpad = 0.6, labelspacing = 1)\n",
    "legend.get_frame().set_facecolor('lightgray')\n",
    "\n",
    "plt.title(\"250 ms\", fontsize = 20)\n"
   ]
  },
  {
   "cell_type": "code",
   "execution_count": 128,
   "metadata": {},
   "outputs": [
    {
     "name": "stdout",
     "output_type": "stream",
     "text": [
      "m: [0.62276212]\n",
      "b: 0.5109754123974427\n",
      "R-squared:  0.4233247594326537\n"
     ]
    },
    {
     "data": {
      "text/plain": [
       "Text(0.5, 1.0, '1000 ms')"
      ]
     },
     "execution_count": 128,
     "metadata": {},
     "output_type": "execute_result"
    },
    {
     "data": {
      "image/png": "[encoded data removed]",
      "text/plain": [
       "<Figure size 576x432 with 1 Axes>"
      ]
     },
     "metadata": {
      "needs_background": "light"
     },
     "output_type": "display_data"
    }
   ],
   "source": [
    "#run regression\n",
    "plt.figure(figsize=[8,6])\n",
    "JV_X_1000 = np.array(w_JV_1000).reshape(-1,1)\n",
    "VE_PC_1000 = w_VE_accuracy_1000\n",
    "JV_PC_reg_1000 = LinearRegression().fit(JV_X_1000, VE_PC_1000)\n",
    "\n",
    "#Generated Predictions\n",
    "JV_PC_predicted_1000 = JV_PC_reg_1000.predict(JV_X_1000)\n",
    "#Plot Our Actual and Predicted Values\n",
    "plt.plot(JV_X_1000, VE_PC_1000, 'o', color='darkviolet', alpha = 0.3);\n",
    "plt.plot(JV_X_1000, JV_PC_predicted_1000,color='darkviolet', label = 'm = ' + str(round(JV_PC_reg_1000.coef_[0], 3))\n",
    "         + '     r-squared = ' + str(round(float(JV_PC_reg_1000.score(JV_X_1000, VE_PC_1000)), 3)))\n",
    "plt.xlabel(\"Difference between normalized verbal judgements divided by joint variance\", fontsize = 15)\n",
    "plt.ylabel(\"VE Discrimination Proportion Correct\", fontsize = 15)\n",
    "\n",
    "#get coefficients and y intercept\n",
    "print(\"m: {0}\".format(JV_PC_reg_1000.coef_))\n",
    "print(\"b: {0}\".format(JV_PC_reg_1000.intercept_))\n",
    "\n",
    "#Returns the coefficient of determination R^2 of the prediction.\n",
    "print(\"R-squared: \", JV_PC_reg_1000.score(JV_X_1000, VE_PC_1000))\n",
    "\n",
    "\n",
    "legend = plt.legend(loc = 4, fontsize = 13, borderpad = 0.6, labelspacing = 1)\n",
    "legend.get_frame().set_facecolor('lightgray')\n",
    "\n",
    "plt.title(\"1000 ms\", fontsize = 20)\n"
   ]
  },
  {
   "cell_type": "code",
   "execution_count": 130,
   "metadata": {},
   "outputs": [
    {
     "name": "stdout",
     "output_type": "stream",
     "text": [
      "(0.15399015714302328, 0.40008005679983244)\n"
     ]
    },
    {
     "data": {
      "text/plain": [
       "[<matplotlib.lines.Line2D at 0x12355ed30>]"
      ]
     },
     "execution_count": 130,
     "metadata": {},
     "output_type": "execute_result"
    },
    {
     "data": {
      "image/png": "[encoded data removed]",
      "text/plain": [
       "<Figure size 504x504 with 1 Axes>"
      ]
     },
     "metadata": {
      "needs_background": "light"
     },
     "output_type": "display_data"
    }
   ],
   "source": [
    "print(stats.pearsonr(w_JV_250, w_JV_1000))\n",
    "plt.figure(figsize=[7,7])\n",
    "plt.xlabel('@ 250 ms', fontsize=15)\n",
    "plt.ylabel('@ 1000 ms', fontsize=15)\n",
    "plt.plot(w_JV_250,w_JV_1000, 'o' )"
   ]
  },
  {
   "cell_type": "code",
   "execution_count": null,
   "metadata": {},
   "outputs": [],
   "source": []
  },
  {
   "cell_type": "code",
   "execution_count": 131,
   "metadata": {},
   "outputs": [
    {
     "name": "stdout",
     "output_type": "stream",
     "text": [
      "250 ms: Correlation between average discrimination RT and difference between verbal judgements divided by joint variance \n"
     ]
    },
    {
     "data": {
      "text/plain": [
       "(-0.3826948966386452, 0.030635729969957486)"
      ]
     },
     "execution_count": 131,
     "metadata": {},
     "output_type": "execute_result"
    }
   ],
   "source": [
    "print('250 ms: Correlation between average discrimination RT and difference between verbal judgements divided by joint variance ')\n",
    "stats.pearsonr(w_avg_RT_250, w_JV_250)"
   ]
  },
  {
   "cell_type": "code",
   "execution_count": 132,
   "metadata": {},
   "outputs": [
    {
     "name": "stdout",
     "output_type": "stream",
     "text": [
      "1000 ms: Correlation between average discrimination RT and difference between verbal judgements divided by joint variance \n"
     ]
    },
    {
     "data": {
      "text/plain": [
       "(-0.6223917039770795, 0.00014264118537940371)"
      ]
     },
     "execution_count": 132,
     "metadata": {},
     "output_type": "execute_result"
    }
   ],
   "source": [
    "print('1000 ms: Correlation between average discrimination RT and difference between verbal judgements divided by joint variance ')\n",
    "stats.pearsonr(w_avg_RT_1000, w_JV_1000)"
   ]
  },
  {
   "cell_type": "code",
   "execution_count": 133,
   "metadata": {},
   "outputs": [
    {
     "name": "stdout",
     "output_type": "stream",
     "text": [
      "m: [-102.79895266]\n",
      "b: 1297.5942788938803\n",
      "R-squared:  0.14645538391326318\n"
     ]
    },
    {
     "data": {
      "text/plain": [
       "Text(0.5, 1.0, '250 ms: RT')"
      ]
     },
     "execution_count": 133,
     "metadata": {},
     "output_type": "execute_result"
    },
    {
     "data": {
      "image/png": "[encoded data removed]",
      "text/plain": [
       "<Figure size 576x432 with 1 Axes>"
      ]
     },
     "metadata": {
      "needs_background": "light"
     },
     "output_type": "display_data"
    }
   ],
   "source": [
    "#run regression\n",
    "plt.figure(figsize=[8,6])\n",
    "JV_X_250 = np.array(w_JV_250).reshape(-1,1)\n",
    "VE_PC_250 = w_avg_RT_250\n",
    "JV_PC_reg_250 = LinearRegression().fit(JV_X_250, VE_PC_250)\n",
    "\n",
    "#Generated Predictions\n",
    "JV_PC_predicted_250 = JV_PC_reg_250.predict(JV_X_250)\n",
    "#Plot Our Actual and Predicted Values\n",
    "plt.plot(JV_X_250, VE_PC_250, 'o', color='chocolate', alpha = 0.3);\n",
    "plt.plot(JV_X_250, JV_PC_predicted_250,color='chocolate', label = 'm = ' + str(round(JV_PC_reg_250.coef_[0], 3))\n",
    "         + '     r-squared = ' + str(round(float(JV_PC_reg_250.score(JV_X_250, VE_PC_250)), 3)))\n",
    "plt.xlabel(\"Difference between normalized verbal judgements divided by joint variance\", fontsize = 15)\n",
    "plt.ylabel(\"RT (ms)\", fontsize = 15)\n",
    "\n",
    "#get coefficients and y intercept\n",
    "print(\"m: {0}\".format(JV_PC_reg_250.coef_))\n",
    "print(\"b: {0}\".format(JV_PC_reg_250.intercept_))\n",
    "\n",
    "#Returns the coefficient of determination R^2 of the prediction.\n",
    "print(\"R-squared: \", JV_PC_reg_250.score(JV_X_250, VE_PC_250))\n",
    "\n",
    "\n",
    "legend = plt.legend(loc = 4, fontsize = 13, borderpad = 0.6, labelspacing = 1)\n",
    "legend.get_frame().set_facecolor('lightgray')\n",
    "\n",
    "plt.title(\"250 ms: RT\", fontsize = 20)"
   ]
  },
  {
   "cell_type": "code",
   "execution_count": 134,
   "metadata": {},
   "outputs": [
    {
     "name": "stdout",
     "output_type": "stream",
     "text": [
      "m: [-147.86799319]\n",
      "b: 1129.7255238252587\n",
      "R-squared:  0.38737143317949296\n"
     ]
    },
    {
     "data": {
      "text/plain": [
       "Text(0.5, 1.0, '1000 ms: RT')"
      ]
     },
     "execution_count": 134,
     "metadata": {},
     "output_type": "execute_result"
    },
    {
     "data": {
      "image/png": "[encoded data removed]",
      "text/plain": [
       "<Figure size 576x432 with 1 Axes>"
      ]
     },
     "metadata": {
      "needs_background": "light"
     },
     "output_type": "display_data"
    }
   ],
   "source": [
    "#run regression\n",
    "plt.figure(figsize=[8,6])\n",
    "JV_X_1000 = np.array(w_JV_1000).reshape(-1,1)\n",
    "VE_PC_1000 = w_avg_RT_1000\n",
    "JV_PC_reg_1000 = LinearRegression().fit(JV_X_1000, VE_PC_1000)\n",
    "\n",
    "#Generated Predictions\n",
    "JV_PC_predicted_1000 = JV_PC_reg_1000.predict(JV_X_1000)\n",
    "#Plot Our Actual and Predicted Values\n",
    "plt.plot(JV_X_1000, VE_PC_1000, 'o', color='darkviolet', alpha = 0.3);\n",
    "plt.plot(JV_X_1000, JV_PC_predicted_1000,color='darkviolet', label = 'm = ' + str(round(JV_PC_reg_1000.coef_[0], 3))\n",
    "         + '     r-squared = ' + str(round(float(JV_PC_reg_1000.score(JV_X_1000, VE_PC_1000)), 3)))\n",
    "plt.xlabel(\"Difference between normalized verbal judgements divided by joint variance\", fontsize = 15)\n",
    "plt.ylabel(\"RT (ms)\", fontsize = 15)\n",
    "\n",
    "#get coefficients and y intercept\n",
    "print(\"m: {0}\".format(JV_PC_reg_1000.coef_))\n",
    "print(\"b: {0}\".format(JV_PC_reg_1000.intercept_))\n",
    "\n",
    "#Returns the coefficient of determination R^2 of the prediction.\n",
    "print(\"R-squared: \", JV_PC_reg_1000.score(JV_X_1000, VE_PC_1000))\n",
    "\n",
    "\n",
    "legend = plt.legend(loc = 4, fontsize = 13, borderpad = 0.6, labelspacing = 1)\n",
    "legend.get_frame().set_facecolor('lightgray')\n",
    "\n",
    "plt.title(\"1000 ms: RT\", fontsize = 20)"
   ]
  },
  {
   "cell_type": "code",
   "execution_count": null,
   "metadata": {},
   "outputs": [],
   "source": []
  }
 ],
 "metadata": {
  "kernelspec": {
   "display_name": "Python 3",
   "language": "python",
   "name": "python3"
  },
  "language_info": {
   "codemirror_mode": {
    "name": "ipython",
    "version": 3
   },
   "file_extension": ".py",
   "mimetype": "text/x-python",
   "name": "python",
   "nbconvert_exporter": "python",
   "pygments_lexer": "ipython3",
   "version": "3.6.1"
  }
 },
 "nbformat": 4,
 "nbformat_minor": 4
}
